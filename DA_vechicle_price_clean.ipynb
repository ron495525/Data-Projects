{
 "cells": [
  {
   "cell_type": "markdown",
   "metadata": {},
   "source": [
    "# Research on car sales ads\n",
    "\n",
    "You're an analyst at Crankshaft List. Hundreds of free advertisements for vehicles are published on your site every day.\n",
    "\n",
    "You need to study data collected over the last few years and determine which factors influence the price of a vehicle. "
   ]
  },
  {
   "cell_type": "markdown",
   "metadata": {},
   "source": [
    "## Open the data file and study the general information. "
   ]
  },
  {
   "cell_type": "code",
   "execution_count": 1,
   "metadata": {},
   "outputs": [],
   "source": [
    "#import libraries\n",
    "import numpy as np\n",
    "import datetime as dt\n",
    "import pandas as pd\n",
    "import matplotlib.pyplot as plt\n",
    "import warnings\n",
    "\n",
    "#ignorning warning\n",
    "warnings.simplefilter ('ignore')\n",
    "\n",
    "#make a try-except block in order to avoid file path error\n",
    "try:\n",
    "    df = pd.read_csv('vehicles_us.csv')\n",
    "except:\n",
    "    df = pd.read_csv('/datasets/vehicles_us.csv')"
   ]
  },
  {
   "cell_type": "markdown",
   "metadata": {},
   "source": [
    "check the table's first 10 rows to see the general information.     \n"
   ]
  },
  {
   "cell_type": "code",
   "execution_count": 2,
   "metadata": {},
   "outputs": [
    {
     "data": {
      "text/html": [
       "<div>\n",
       "<style scoped>\n",
       "    .dataframe tbody tr th:only-of-type {\n",
       "        vertical-align: middle;\n",
       "    }\n",
       "\n",
       "    .dataframe tbody tr th {\n",
       "        vertical-align: top;\n",
       "    }\n",
       "\n",
       "    .dataframe thead th {\n",
       "        text-align: right;\n",
       "    }\n",
       "</style>\n",
       "<table border=\"1\" class=\"dataframe\">\n",
       "  <thead>\n",
       "    <tr style=\"text-align: right;\">\n",
       "      <th></th>\n",
       "      <th>price</th>\n",
       "      <th>model_year</th>\n",
       "      <th>model</th>\n",
       "      <th>condition</th>\n",
       "      <th>cylinders</th>\n",
       "      <th>fuel</th>\n",
       "      <th>odometer</th>\n",
       "      <th>transmission</th>\n",
       "      <th>type</th>\n",
       "      <th>paint_color</th>\n",
       "      <th>is_4wd</th>\n",
       "      <th>date_posted</th>\n",
       "      <th>days_listed</th>\n",
       "    </tr>\n",
       "  </thead>\n",
       "  <tbody>\n",
       "    <tr>\n",
       "      <td>0</td>\n",
       "      <td>9400</td>\n",
       "      <td>2011.0</td>\n",
       "      <td>bmw x5</td>\n",
       "      <td>good</td>\n",
       "      <td>6.0</td>\n",
       "      <td>gas</td>\n",
       "      <td>145000.0</td>\n",
       "      <td>automatic</td>\n",
       "      <td>SUV</td>\n",
       "      <td>NaN</td>\n",
       "      <td>1.0</td>\n",
       "      <td>2018-06-23</td>\n",
       "      <td>19</td>\n",
       "    </tr>\n",
       "    <tr>\n",
       "      <td>1</td>\n",
       "      <td>25500</td>\n",
       "      <td>NaN</td>\n",
       "      <td>ford f-150</td>\n",
       "      <td>good</td>\n",
       "      <td>6.0</td>\n",
       "      <td>gas</td>\n",
       "      <td>88705.0</td>\n",
       "      <td>automatic</td>\n",
       "      <td>pickup</td>\n",
       "      <td>white</td>\n",
       "      <td>1.0</td>\n",
       "      <td>2018-10-19</td>\n",
       "      <td>50</td>\n",
       "    </tr>\n",
       "    <tr>\n",
       "      <td>2</td>\n",
       "      <td>5500</td>\n",
       "      <td>2013.0</td>\n",
       "      <td>hyundai sonata</td>\n",
       "      <td>like new</td>\n",
       "      <td>4.0</td>\n",
       "      <td>gas</td>\n",
       "      <td>110000.0</td>\n",
       "      <td>automatic</td>\n",
       "      <td>sedan</td>\n",
       "      <td>red</td>\n",
       "      <td>NaN</td>\n",
       "      <td>2019-02-07</td>\n",
       "      <td>79</td>\n",
       "    </tr>\n",
       "    <tr>\n",
       "      <td>3</td>\n",
       "      <td>1500</td>\n",
       "      <td>2003.0</td>\n",
       "      <td>ford f-150</td>\n",
       "      <td>fair</td>\n",
       "      <td>8.0</td>\n",
       "      <td>gas</td>\n",
       "      <td>NaN</td>\n",
       "      <td>automatic</td>\n",
       "      <td>pickup</td>\n",
       "      <td>NaN</td>\n",
       "      <td>NaN</td>\n",
       "      <td>2019-03-22</td>\n",
       "      <td>9</td>\n",
       "    </tr>\n",
       "    <tr>\n",
       "      <td>4</td>\n",
       "      <td>14900</td>\n",
       "      <td>2017.0</td>\n",
       "      <td>chrysler 200</td>\n",
       "      <td>excellent</td>\n",
       "      <td>4.0</td>\n",
       "      <td>gas</td>\n",
       "      <td>80903.0</td>\n",
       "      <td>automatic</td>\n",
       "      <td>sedan</td>\n",
       "      <td>black</td>\n",
       "      <td>NaN</td>\n",
       "      <td>2019-04-02</td>\n",
       "      <td>28</td>\n",
       "    </tr>\n",
       "    <tr>\n",
       "      <td>5</td>\n",
       "      <td>14990</td>\n",
       "      <td>2014.0</td>\n",
       "      <td>chrysler 300</td>\n",
       "      <td>excellent</td>\n",
       "      <td>6.0</td>\n",
       "      <td>gas</td>\n",
       "      <td>57954.0</td>\n",
       "      <td>automatic</td>\n",
       "      <td>sedan</td>\n",
       "      <td>black</td>\n",
       "      <td>1.0</td>\n",
       "      <td>2018-06-20</td>\n",
       "      <td>15</td>\n",
       "    </tr>\n",
       "    <tr>\n",
       "      <td>6</td>\n",
       "      <td>12990</td>\n",
       "      <td>2015.0</td>\n",
       "      <td>toyota camry</td>\n",
       "      <td>excellent</td>\n",
       "      <td>4.0</td>\n",
       "      <td>gas</td>\n",
       "      <td>79212.0</td>\n",
       "      <td>automatic</td>\n",
       "      <td>sedan</td>\n",
       "      <td>white</td>\n",
       "      <td>NaN</td>\n",
       "      <td>2018-12-27</td>\n",
       "      <td>73</td>\n",
       "    </tr>\n",
       "    <tr>\n",
       "      <td>7</td>\n",
       "      <td>15990</td>\n",
       "      <td>2013.0</td>\n",
       "      <td>honda pilot</td>\n",
       "      <td>excellent</td>\n",
       "      <td>6.0</td>\n",
       "      <td>gas</td>\n",
       "      <td>109473.0</td>\n",
       "      <td>automatic</td>\n",
       "      <td>SUV</td>\n",
       "      <td>black</td>\n",
       "      <td>1.0</td>\n",
       "      <td>2019-01-07</td>\n",
       "      <td>68</td>\n",
       "    </tr>\n",
       "    <tr>\n",
       "      <td>8</td>\n",
       "      <td>11500</td>\n",
       "      <td>2012.0</td>\n",
       "      <td>kia sorento</td>\n",
       "      <td>excellent</td>\n",
       "      <td>4.0</td>\n",
       "      <td>gas</td>\n",
       "      <td>104174.0</td>\n",
       "      <td>automatic</td>\n",
       "      <td>SUV</td>\n",
       "      <td>NaN</td>\n",
       "      <td>1.0</td>\n",
       "      <td>2018-07-16</td>\n",
       "      <td>19</td>\n",
       "    </tr>\n",
       "    <tr>\n",
       "      <td>9</td>\n",
       "      <td>9200</td>\n",
       "      <td>2008.0</td>\n",
       "      <td>honda pilot</td>\n",
       "      <td>excellent</td>\n",
       "      <td>NaN</td>\n",
       "      <td>gas</td>\n",
       "      <td>147191.0</td>\n",
       "      <td>automatic</td>\n",
       "      <td>SUV</td>\n",
       "      <td>blue</td>\n",
       "      <td>1.0</td>\n",
       "      <td>2019-02-15</td>\n",
       "      <td>17</td>\n",
       "    </tr>\n",
       "  </tbody>\n",
       "</table>\n",
       "</div>"
      ],
      "text/plain": [
       "   price  model_year           model  condition  cylinders fuel  odometer  \\\n",
       "0   9400      2011.0          bmw x5       good        6.0  gas  145000.0   \n",
       "1  25500         NaN      ford f-150       good        6.0  gas   88705.0   \n",
       "2   5500      2013.0  hyundai sonata   like new        4.0  gas  110000.0   \n",
       "3   1500      2003.0      ford f-150       fair        8.0  gas       NaN   \n",
       "4  14900      2017.0    chrysler 200  excellent        4.0  gas   80903.0   \n",
       "5  14990      2014.0    chrysler 300  excellent        6.0  gas   57954.0   \n",
       "6  12990      2015.0    toyota camry  excellent        4.0  gas   79212.0   \n",
       "7  15990      2013.0     honda pilot  excellent        6.0  gas  109473.0   \n",
       "8  11500      2012.0     kia sorento  excellent        4.0  gas  104174.0   \n",
       "9   9200      2008.0     honda pilot  excellent        NaN  gas  147191.0   \n",
       "\n",
       "  transmission    type paint_color  is_4wd date_posted  days_listed  \n",
       "0    automatic     SUV         NaN     1.0  2018-06-23           19  \n",
       "1    automatic  pickup       white     1.0  2018-10-19           50  \n",
       "2    automatic   sedan         red     NaN  2019-02-07           79  \n",
       "3    automatic  pickup         NaN     NaN  2019-03-22            9  \n",
       "4    automatic   sedan       black     NaN  2019-04-02           28  \n",
       "5    automatic   sedan       black     1.0  2018-06-20           15  \n",
       "6    automatic   sedan       white     NaN  2018-12-27           73  \n",
       "7    automatic     SUV       black     1.0  2019-01-07           68  \n",
       "8    automatic     SUV         NaN     1.0  2018-07-16           19  \n",
       "9    automatic     SUV        blue     1.0  2019-02-15           17  "
      ]
     },
     "execution_count": 2,
     "metadata": {},
     "output_type": "execute_result"
    }
   ],
   "source": [
    "df.head(10)"
   ]
  },
  {
   "cell_type": "markdown",
   "metadata": {},
   "source": [
    "Check the table's general structure."
   ]
  },
  {
   "cell_type": "code",
   "execution_count": 3,
   "metadata": {},
   "outputs": [
    {
     "name": "stdout",
     "output_type": "stream",
     "text": [
      "<class 'pandas.core.frame.DataFrame'>\n",
      "RangeIndex: 51525 entries, 0 to 51524\n",
      "Data columns (total 13 columns):\n",
      "price           51525 non-null int64\n",
      "model_year      47906 non-null float64\n",
      "model           51525 non-null object\n",
      "condition       51525 non-null object\n",
      "cylinders       46265 non-null float64\n",
      "fuel            51525 non-null object\n",
      "odometer        43633 non-null float64\n",
      "transmission    51525 non-null object\n",
      "type            51525 non-null object\n",
      "paint_color     42258 non-null object\n",
      "is_4wd          25572 non-null float64\n",
      "date_posted     51525 non-null object\n",
      "days_listed     51525 non-null int64\n",
      "dtypes: float64(4), int64(2), object(7)\n",
      "memory usage: 5.1+ MB\n"
     ]
    }
   ],
   "source": [
    "df.info()"
   ]
  },
  {
   "cell_type": "markdown",
   "metadata": {},
   "source": [
    "Check the table's numeric columns general statistics."
   ]
  },
  {
   "cell_type": "code",
   "execution_count": 4,
   "metadata": {},
   "outputs": [
    {
     "data": {
      "text/html": [
       "<div>\n",
       "<style scoped>\n",
       "    .dataframe tbody tr th:only-of-type {\n",
       "        vertical-align: middle;\n",
       "    }\n",
       "\n",
       "    .dataframe tbody tr th {\n",
       "        vertical-align: top;\n",
       "    }\n",
       "\n",
       "    .dataframe thead th {\n",
       "        text-align: right;\n",
       "    }\n",
       "</style>\n",
       "<table border=\"1\" class=\"dataframe\">\n",
       "  <thead>\n",
       "    <tr style=\"text-align: right;\">\n",
       "      <th></th>\n",
       "      <th>price</th>\n",
       "      <th>model_year</th>\n",
       "      <th>cylinders</th>\n",
       "      <th>odometer</th>\n",
       "      <th>is_4wd</th>\n",
       "      <th>days_listed</th>\n",
       "    </tr>\n",
       "  </thead>\n",
       "  <tbody>\n",
       "    <tr>\n",
       "      <td>count</td>\n",
       "      <td>51525.000000</td>\n",
       "      <td>47906.000000</td>\n",
       "      <td>46265.000000</td>\n",
       "      <td>43633.000000</td>\n",
       "      <td>25572.0</td>\n",
       "      <td>51525.00000</td>\n",
       "    </tr>\n",
       "    <tr>\n",
       "      <td>mean</td>\n",
       "      <td>12132.464920</td>\n",
       "      <td>2009.750470</td>\n",
       "      <td>6.125235</td>\n",
       "      <td>115553.461738</td>\n",
       "      <td>1.0</td>\n",
       "      <td>39.55476</td>\n",
       "    </tr>\n",
       "    <tr>\n",
       "      <td>std</td>\n",
       "      <td>10040.803015</td>\n",
       "      <td>6.282065</td>\n",
       "      <td>1.660360</td>\n",
       "      <td>65094.611341</td>\n",
       "      <td>0.0</td>\n",
       "      <td>28.20427</td>\n",
       "    </tr>\n",
       "    <tr>\n",
       "      <td>min</td>\n",
       "      <td>1.000000</td>\n",
       "      <td>1908.000000</td>\n",
       "      <td>3.000000</td>\n",
       "      <td>0.000000</td>\n",
       "      <td>1.0</td>\n",
       "      <td>0.00000</td>\n",
       "    </tr>\n",
       "    <tr>\n",
       "      <td>25%</td>\n",
       "      <td>5000.000000</td>\n",
       "      <td>2006.000000</td>\n",
       "      <td>4.000000</td>\n",
       "      <td>70000.000000</td>\n",
       "      <td>1.0</td>\n",
       "      <td>19.00000</td>\n",
       "    </tr>\n",
       "    <tr>\n",
       "      <td>50%</td>\n",
       "      <td>9000.000000</td>\n",
       "      <td>2011.000000</td>\n",
       "      <td>6.000000</td>\n",
       "      <td>113000.000000</td>\n",
       "      <td>1.0</td>\n",
       "      <td>33.00000</td>\n",
       "    </tr>\n",
       "    <tr>\n",
       "      <td>75%</td>\n",
       "      <td>16839.000000</td>\n",
       "      <td>2014.000000</td>\n",
       "      <td>8.000000</td>\n",
       "      <td>155000.000000</td>\n",
       "      <td>1.0</td>\n",
       "      <td>53.00000</td>\n",
       "    </tr>\n",
       "    <tr>\n",
       "      <td>max</td>\n",
       "      <td>375000.000000</td>\n",
       "      <td>2019.000000</td>\n",
       "      <td>12.000000</td>\n",
       "      <td>990000.000000</td>\n",
       "      <td>1.0</td>\n",
       "      <td>271.00000</td>\n",
       "    </tr>\n",
       "  </tbody>\n",
       "</table>\n",
       "</div>"
      ],
      "text/plain": [
       "               price    model_year     cylinders       odometer   is_4wd  \\\n",
       "count   51525.000000  47906.000000  46265.000000   43633.000000  25572.0   \n",
       "mean    12132.464920   2009.750470      6.125235  115553.461738      1.0   \n",
       "std     10040.803015      6.282065      1.660360   65094.611341      0.0   \n",
       "min         1.000000   1908.000000      3.000000       0.000000      1.0   \n",
       "25%      5000.000000   2006.000000      4.000000   70000.000000      1.0   \n",
       "50%      9000.000000   2011.000000      6.000000  113000.000000      1.0   \n",
       "75%     16839.000000   2014.000000      8.000000  155000.000000      1.0   \n",
       "max    375000.000000   2019.000000     12.000000  990000.000000      1.0   \n",
       "\n",
       "       days_listed  \n",
       "count  51525.00000  \n",
       "mean      39.55476  \n",
       "std       28.20427  \n",
       "min        0.00000  \n",
       "25%       19.00000  \n",
       "50%       33.00000  \n",
       "75%       53.00000  \n",
       "max      271.00000  "
      ]
     },
     "execution_count": 4,
     "metadata": {},
     "output_type": "execute_result"
    }
   ],
   "source": [
    "df.describe()"
   ]
  },
  {
   "cell_type": "markdown",
   "metadata": {},
   "source": [
    "Check the table's object columns general statistics."
   ]
  },
  {
   "cell_type": "code",
   "execution_count": 5,
   "metadata": {},
   "outputs": [
    {
     "data": {
      "text/html": [
       "<div>\n",
       "<style scoped>\n",
       "    .dataframe tbody tr th:only-of-type {\n",
       "        vertical-align: middle;\n",
       "    }\n",
       "\n",
       "    .dataframe tbody tr th {\n",
       "        vertical-align: top;\n",
       "    }\n",
       "\n",
       "    .dataframe thead th {\n",
       "        text-align: right;\n",
       "    }\n",
       "</style>\n",
       "<table border=\"1\" class=\"dataframe\">\n",
       "  <thead>\n",
       "    <tr style=\"text-align: right;\">\n",
       "      <th></th>\n",
       "      <th>model</th>\n",
       "      <th>condition</th>\n",
       "      <th>fuel</th>\n",
       "      <th>transmission</th>\n",
       "      <th>type</th>\n",
       "      <th>paint_color</th>\n",
       "      <th>date_posted</th>\n",
       "    </tr>\n",
       "  </thead>\n",
       "  <tbody>\n",
       "    <tr>\n",
       "      <td>count</td>\n",
       "      <td>51525</td>\n",
       "      <td>51525</td>\n",
       "      <td>51525</td>\n",
       "      <td>51525</td>\n",
       "      <td>51525</td>\n",
       "      <td>42258</td>\n",
       "      <td>51525</td>\n",
       "    </tr>\n",
       "    <tr>\n",
       "      <td>unique</td>\n",
       "      <td>100</td>\n",
       "      <td>6</td>\n",
       "      <td>5</td>\n",
       "      <td>3</td>\n",
       "      <td>13</td>\n",
       "      <td>12</td>\n",
       "      <td>354</td>\n",
       "    </tr>\n",
       "    <tr>\n",
       "      <td>top</td>\n",
       "      <td>ford f-150</td>\n",
       "      <td>excellent</td>\n",
       "      <td>gas</td>\n",
       "      <td>automatic</td>\n",
       "      <td>SUV</td>\n",
       "      <td>white</td>\n",
       "      <td>2019-03-17</td>\n",
       "    </tr>\n",
       "    <tr>\n",
       "      <td>freq</td>\n",
       "      <td>2796</td>\n",
       "      <td>24773</td>\n",
       "      <td>47288</td>\n",
       "      <td>46902</td>\n",
       "      <td>12405</td>\n",
       "      <td>10029</td>\n",
       "      <td>186</td>\n",
       "    </tr>\n",
       "  </tbody>\n",
       "</table>\n",
       "</div>"
      ],
      "text/plain": [
       "             model  condition   fuel transmission   type paint_color  \\\n",
       "count        51525      51525  51525        51525  51525       42258   \n",
       "unique         100          6      5            3     13          12   \n",
       "top     ford f-150  excellent    gas    automatic    SUV       white   \n",
       "freq          2796      24773  47288        46902  12405       10029   \n",
       "\n",
       "       date_posted  \n",
       "count        51525  \n",
       "unique         354  \n",
       "top     2019-03-17  \n",
       "freq           186  "
      ]
     },
     "execution_count": 5,
     "metadata": {},
     "output_type": "execute_result"
    }
   ],
   "source": [
    "df.describe(include='object')"
   ]
  },
  {
   "cell_type": "markdown",
   "metadata": {},
   "source": [
    "Show the columns with missing values "
   ]
  },
  {
   "cell_type": "code",
   "execution_count": 6,
   "metadata": {},
   "outputs": [
    {
     "data": {
      "text/plain": [
       "price               0\n",
       "model_year       3619\n",
       "model               0\n",
       "condition           0\n",
       "cylinders        5260\n",
       "fuel                0\n",
       "odometer         7892\n",
       "transmission        0\n",
       "type                0\n",
       "paint_color      9267\n",
       "is_4wd          25953\n",
       "date_posted         0\n",
       "days_listed         0\n",
       "dtype: int64"
      ]
     },
     "execution_count": 6,
     "metadata": {},
     "output_type": "execute_result"
    }
   ],
   "source": [
    "df.isna().sum()"
   ]
  },
  {
   "cell_type": "markdown",
   "metadata": {},
   "source": [
    "show how much missing values comapred to total values in columns"
   ]
  },
  {
   "cell_type": "code",
   "execution_count": 7,
   "metadata": {},
   "outputs": [
    {
     "data": {
      "text/plain": [
       "price           0.000000\n",
       "model_year      0.070238\n",
       "model           0.000000\n",
       "condition       0.000000\n",
       "cylinders       0.102086\n",
       "fuel            0.000000\n",
       "odometer        0.153168\n",
       "transmission    0.000000\n",
       "type            0.000000\n",
       "paint_color     0.179854\n",
       "is_4wd          0.503697\n",
       "date_posted     0.000000\n",
       "days_listed     0.000000\n",
       "dtype: float64"
      ]
     },
     "execution_count": 7,
     "metadata": {},
     "output_type": "execute_result"
    }
   ],
   "source": [
    "df.isna().mean()"
   ]
  },
  {
   "cell_type": "markdown",
   "metadata": {},
   "source": [
    "Number of duplicated rows"
   ]
  },
  {
   "cell_type": "code",
   "execution_count": 8,
   "metadata": {},
   "outputs": [
    {
     "data": {
      "text/plain": [
       "0"
      ]
     },
     "execution_count": 8,
     "metadata": {},
     "output_type": "execute_result"
    }
   ],
   "source": [
    "df.duplicated().sum()"
   ]
  },
  {
   "cell_type": "markdown",
   "metadata": {},
   "source": [
    "Checking initial correlation between columns."
   ]
  },
  {
   "cell_type": "code",
   "execution_count": 9,
   "metadata": {
    "scrolled": true
   },
   "outputs": [
    {
     "data": {
      "text/html": [
       "<div>\n",
       "<style scoped>\n",
       "    .dataframe tbody tr th:only-of-type {\n",
       "        vertical-align: middle;\n",
       "    }\n",
       "\n",
       "    .dataframe tbody tr th {\n",
       "        vertical-align: top;\n",
       "    }\n",
       "\n",
       "    .dataframe thead th {\n",
       "        text-align: right;\n",
       "    }\n",
       "</style>\n",
       "<table border=\"1\" class=\"dataframe\">\n",
       "  <thead>\n",
       "    <tr style=\"text-align: right;\">\n",
       "      <th></th>\n",
       "      <th>price</th>\n",
       "      <th>model_year</th>\n",
       "      <th>cylinders</th>\n",
       "      <th>odometer</th>\n",
       "      <th>is_4wd</th>\n",
       "      <th>days_listed</th>\n",
       "    </tr>\n",
       "  </thead>\n",
       "  <tbody>\n",
       "    <tr>\n",
       "      <td>price</td>\n",
       "      <td>1.000000</td>\n",
       "      <td>0.428656</td>\n",
       "      <td>0.296627</td>\n",
       "      <td>-0.420299</td>\n",
       "      <td>NaN</td>\n",
       "      <td>-0.000682</td>\n",
       "    </tr>\n",
       "    <tr>\n",
       "      <td>model_year</td>\n",
       "      <td>0.428656</td>\n",
       "      <td>1.000000</td>\n",
       "      <td>-0.148040</td>\n",
       "      <td>-0.473948</td>\n",
       "      <td>NaN</td>\n",
       "      <td>-0.005703</td>\n",
       "    </tr>\n",
       "    <tr>\n",
       "      <td>cylinders</td>\n",
       "      <td>0.296627</td>\n",
       "      <td>-0.148040</td>\n",
       "      <td>1.000000</td>\n",
       "      <td>0.090160</td>\n",
       "      <td>NaN</td>\n",
       "      <td>0.005517</td>\n",
       "    </tr>\n",
       "    <tr>\n",
       "      <td>odometer</td>\n",
       "      <td>-0.420299</td>\n",
       "      <td>-0.473948</td>\n",
       "      <td>0.090160</td>\n",
       "      <td>1.000000</td>\n",
       "      <td>NaN</td>\n",
       "      <td>0.003804</td>\n",
       "    </tr>\n",
       "    <tr>\n",
       "      <td>is_4wd</td>\n",
       "      <td>NaN</td>\n",
       "      <td>NaN</td>\n",
       "      <td>NaN</td>\n",
       "      <td>NaN</td>\n",
       "      <td>NaN</td>\n",
       "      <td>NaN</td>\n",
       "    </tr>\n",
       "    <tr>\n",
       "      <td>days_listed</td>\n",
       "      <td>-0.000682</td>\n",
       "      <td>-0.005703</td>\n",
       "      <td>0.005517</td>\n",
       "      <td>0.003804</td>\n",
       "      <td>NaN</td>\n",
       "      <td>1.000000</td>\n",
       "    </tr>\n",
       "  </tbody>\n",
       "</table>\n",
       "</div>"
      ],
      "text/plain": [
       "                price  model_year  cylinders  odometer  is_4wd  days_listed\n",
       "price        1.000000    0.428656   0.296627 -0.420299     NaN    -0.000682\n",
       "model_year   0.428656    1.000000  -0.148040 -0.473948     NaN    -0.005703\n",
       "cylinders    0.296627   -0.148040   1.000000  0.090160     NaN     0.005517\n",
       "odometer    -0.420299   -0.473948   0.090160  1.000000     NaN     0.003804\n",
       "is_4wd            NaN         NaN        NaN       NaN     NaN          NaN\n",
       "days_listed -0.000682   -0.005703   0.005517  0.003804     NaN     1.000000"
      ]
     },
     "execution_count": 9,
     "metadata": {},
     "output_type": "execute_result"
    }
   ],
   "source": [
    "df.corr()"
   ]
  },
  {
   "cell_type": "markdown",
   "metadata": {},
   "source": [
    "### Conclusion\n",
    "#### After having a look at the table's general information, We discovered useful information regarding our data.\n",
    "#### there are no duplicates in our data\n",
    "\n",
    "##### There are 5 columns that contain missing values across the data.\n",
    "We identifed that 5 columns have missing values: model_year(7.0% missing values), cylinders(10.2% missing values),  odometer(15.3% missing values), paint_color(17.9% missing values) and is_4wd(50.3% missing values).\n",
    "\n",
    "The model_year column is missing 7% of its values, and by looking at its correlation to the price - we can tell the price increases with the model year and will fill the missing values by the most common value for other models, categorized by their odometer.\n",
    "\n",
    "\n",
    "***the cylinders column is missing 10% of its values, we do see correlation between the cylinders and the price, we will use model and model_year columns in order to fill this column\n",
    "\n",
    "***the odometer column is missing 15% of its values, we will use model and model_year columns in order to fill this column.\n",
    "\n",
    "paint_color is missing 17.9% of its values, and we will check its importance, even thought it probably doesnt impact much\n",
    "\n",
    "is_4wd is missing 50.3% of its values, more than half of the data. after checking the column, it's values are either 1.0 or NaN, meaning the NaN is reffering to 0 and that will be the filled value - a boolean. I would confirm this with the data providers.\n",
    "\n",
    "\n",
    "#### There are 5 columns that their datatypes should be changed\n",
    "columns model_year, cylinders and odometer should be changed to int, is_4wd to bool, date_posted to datettime.\n",
    "\n",
    "\n",
    "#### there are illogical values in price column (value of 1).\n",
    "those values might have been placed with intention to appear first when searching by price,\n",
    "but those values affect the real price of the cars in our analysis and will be removed.\n",
    "We could treat them as an outlier, but I prefer removing due to their illogical value and effect on the price.\n",
    "\n",
    "#### initial correlation analysis\n",
    "by looking at the correlation matrix, we can tell that the price has a positive correlation with the model's year, and with \n",
    "cylinders - the higher they are - they higher the price goes.\n",
    "we can also tell the price is negatively correlated with the odometer which makes sense - the higher the odometer, the lower the price.\n",
    "odometer is negatively correlated with the model's year - the higher it is - the lower the model's year is"
   ]
  },
  {
   "cell_type": "markdown",
   "metadata": {},
   "source": [
    "## Data preprocessing"
   ]
  },
  {
   "cell_type": "markdown",
   "metadata": {},
   "source": [
    "### filling missing model_year values"
   ]
  },
  {
   "cell_type": "markdown",
   "metadata": {},
   "source": [
    "categorizing by price by quartiles and mean price"
   ]
  },
  {
   "cell_type": "code",
   "execution_count": 10,
   "metadata": {},
   "outputs": [],
   "source": [
    "df['price_category'] = pd.cut(df['price'], bins=[1, 5000, 12131 , 16839, 375000], include_lowest=True,\n",
    "       labels=['low', 'below_average', 'above_average','high'])"
   ]
  },
  {
   "cell_type": "markdown",
   "metadata": {},
   "source": [
    "storing the mode of model_year per model by price category in a variable "
   ]
  },
  {
   "cell_type": "code",
   "execution_count": 11,
   "metadata": {},
   "outputs": [],
   "source": [
    "common_year = df.groupby(['price_category','model'])['model_year'].transform(lambda x: x.value_counts().idxmax())"
   ]
  },
  {
   "cell_type": "code",
   "execution_count": 12,
   "metadata": {},
   "outputs": [
    {
     "data": {
      "text/plain": [
       "0    2010.0\n",
       "1    2014.0\n",
       "2    2011.0\n",
       "3    2003.0\n",
       "4    2015.0\n",
       "Name: model_year, dtype: float64"
      ]
     },
     "execution_count": 12,
     "metadata": {},
     "output_type": "execute_result"
    }
   ],
   "source": [
    "common_year.head()"
   ]
  },
  {
   "cell_type": "markdown",
   "metadata": {},
   "source": [
    "replacing missing values with the common_year"
   ]
  },
  {
   "cell_type": "code",
   "execution_count": 13,
   "metadata": {},
   "outputs": [],
   "source": [
    "df['model_year'] = df['model_year'].fillna(common_year)"
   ]
  },
  {
   "cell_type": "markdown",
   "metadata": {},
   "source": [
    "verifying model_year NaN is replaced with common_year"
   ]
  },
  {
   "cell_type": "code",
   "execution_count": 14,
   "metadata": {},
   "outputs": [
    {
     "data": {
      "text/plain": [
       "0"
      ]
     },
     "execution_count": 14,
     "metadata": {},
     "output_type": "execute_result"
    }
   ],
   "source": [
    "df['model_year'].isna().sum()"
   ]
  },
  {
   "cell_type": "markdown",
   "metadata": {},
   "source": [
    "### filling missing cylinders and  odometers values"
   ]
  },
  {
   "cell_type": "code",
   "execution_count": 15,
   "metadata": {},
   "outputs": [],
   "source": [
    "#categorizing by quartiles of model_years for common cylinders in those years\n",
    "df['model_years_cat'] = pd.cut(df['model_year'], bins=[1908, 2006, 2011 , 2014, 2019], include_lowest=True,\n",
    "       labels=['old', 'semi old', 'semi new','new'])\n",
    "\n",
    "#storing the method \n",
    "common_cyl = df.groupby(['model','model_years_cat'])['cylinders'].transform(lambda x: x.value_counts().idxmax())"
   ]
  },
  {
   "cell_type": "markdown",
   "metadata": {},
   "source": [
    "using common_cyl to fill the missing cylinders"
   ]
  },
  {
   "cell_type": "code",
   "execution_count": 16,
   "metadata": {},
   "outputs": [],
   "source": [
    "df['cylinders'] = df['cylinders'].fillna(common_cyl)"
   ]
  },
  {
   "cell_type": "markdown",
   "metadata": {},
   "source": [
    "verifying cylinders NaN is replaced with common_year"
   ]
  },
  {
   "cell_type": "code",
   "execution_count": 17,
   "metadata": {},
   "outputs": [
    {
     "data": {
      "text/plain": [
       "0"
      ]
     },
     "execution_count": 17,
     "metadata": {},
     "output_type": "execute_result"
    }
   ],
   "source": [
    "df['cylinders'].isna().sum()"
   ]
  },
  {
   "cell_type": "markdown",
   "metadata": {},
   "source": [
    "checking the statistics and correlation didnt have a noticeable change to make sure our approach is correct"
   ]
  },
  {
   "cell_type": "code",
   "execution_count": 18,
   "metadata": {},
   "outputs": [
    {
     "data": {
      "text/html": [
       "<div>\n",
       "<style scoped>\n",
       "    .dataframe tbody tr th:only-of-type {\n",
       "        vertical-align: middle;\n",
       "    }\n",
       "\n",
       "    .dataframe tbody tr th {\n",
       "        vertical-align: top;\n",
       "    }\n",
       "\n",
       "    .dataframe thead th {\n",
       "        text-align: right;\n",
       "    }\n",
       "</style>\n",
       "<table border=\"1\" class=\"dataframe\">\n",
       "  <thead>\n",
       "    <tr style=\"text-align: right;\">\n",
       "      <th></th>\n",
       "      <th>price</th>\n",
       "      <th>model_year</th>\n",
       "      <th>cylinders</th>\n",
       "      <th>odometer</th>\n",
       "      <th>is_4wd</th>\n",
       "      <th>days_listed</th>\n",
       "    </tr>\n",
       "  </thead>\n",
       "  <tbody>\n",
       "    <tr>\n",
       "      <td>price</td>\n",
       "      <td>1.000000</td>\n",
       "      <td>0.434036</td>\n",
       "      <td>0.295915</td>\n",
       "      <td>-0.420299</td>\n",
       "      <td>NaN</td>\n",
       "      <td>-0.000682</td>\n",
       "    </tr>\n",
       "    <tr>\n",
       "      <td>model_year</td>\n",
       "      <td>0.434036</td>\n",
       "      <td>1.000000</td>\n",
       "      <td>-0.148937</td>\n",
       "      <td>-0.474656</td>\n",
       "      <td>NaN</td>\n",
       "      <td>-0.004774</td>\n",
       "    </tr>\n",
       "    <tr>\n",
       "      <td>cylinders</td>\n",
       "      <td>0.295915</td>\n",
       "      <td>-0.148937</td>\n",
       "      <td>1.000000</td>\n",
       "      <td>0.093070</td>\n",
       "      <td>NaN</td>\n",
       "      <td>0.003600</td>\n",
       "    </tr>\n",
       "    <tr>\n",
       "      <td>odometer</td>\n",
       "      <td>-0.420299</td>\n",
       "      <td>-0.474656</td>\n",
       "      <td>0.093070</td>\n",
       "      <td>1.000000</td>\n",
       "      <td>NaN</td>\n",
       "      <td>0.003804</td>\n",
       "    </tr>\n",
       "    <tr>\n",
       "      <td>is_4wd</td>\n",
       "      <td>NaN</td>\n",
       "      <td>NaN</td>\n",
       "      <td>NaN</td>\n",
       "      <td>NaN</td>\n",
       "      <td>NaN</td>\n",
       "      <td>NaN</td>\n",
       "    </tr>\n",
       "    <tr>\n",
       "      <td>days_listed</td>\n",
       "      <td>-0.000682</td>\n",
       "      <td>-0.004774</td>\n",
       "      <td>0.003600</td>\n",
       "      <td>0.003804</td>\n",
       "      <td>NaN</td>\n",
       "      <td>1.000000</td>\n",
       "    </tr>\n",
       "  </tbody>\n",
       "</table>\n",
       "</div>"
      ],
      "text/plain": [
       "                price  model_year  cylinders  odometer  is_4wd  days_listed\n",
       "price        1.000000    0.434036   0.295915 -0.420299     NaN    -0.000682\n",
       "model_year   0.434036    1.000000  -0.148937 -0.474656     NaN    -0.004774\n",
       "cylinders    0.295915   -0.148937   1.000000  0.093070     NaN     0.003600\n",
       "odometer    -0.420299   -0.474656   0.093070  1.000000     NaN     0.003804\n",
       "is_4wd            NaN         NaN        NaN       NaN     NaN          NaN\n",
       "days_listed -0.000682   -0.004774   0.003600  0.003804     NaN     1.000000"
      ]
     },
     "execution_count": 18,
     "metadata": {},
     "output_type": "execute_result"
    }
   ],
   "source": [
    "df.describe()\n",
    "df.corr()"
   ]
  },
  {
   "cell_type": "markdown",
   "metadata": {},
   "source": [
    "will use mean odometer by model and model year category to fill "
   ]
  },
  {
   "cell_type": "code",
   "execution_count": 19,
   "metadata": {},
   "outputs": [],
   "source": [
    "common_meter = df.groupby(['model','model_years_cat'])['odometer'].transform(lambda x: np.mean(x))\n",
    "\n",
    "df['odometer'] = df['odometer'].fillna(common_meter)"
   ]
  },
  {
   "cell_type": "markdown",
   "metadata": {},
   "source": [
    "checking and viewing rows with missing values"
   ]
  },
  {
   "cell_type": "code",
   "execution_count": 20,
   "metadata": {},
   "outputs": [
    {
     "data": {
      "text/html": [
       "<div>\n",
       "<style scoped>\n",
       "    .dataframe tbody tr th:only-of-type {\n",
       "        vertical-align: middle;\n",
       "    }\n",
       "\n",
       "    .dataframe tbody tr th {\n",
       "        vertical-align: top;\n",
       "    }\n",
       "\n",
       "    .dataframe thead th {\n",
       "        text-align: right;\n",
       "    }\n",
       "</style>\n",
       "<table border=\"1\" class=\"dataframe\">\n",
       "  <thead>\n",
       "    <tr style=\"text-align: right;\">\n",
       "      <th></th>\n",
       "      <th>price</th>\n",
       "      <th>model_year</th>\n",
       "      <th>model</th>\n",
       "      <th>condition</th>\n",
       "      <th>cylinders</th>\n",
       "      <th>fuel</th>\n",
       "      <th>odometer</th>\n",
       "      <th>transmission</th>\n",
       "      <th>type</th>\n",
       "      <th>paint_color</th>\n",
       "      <th>is_4wd</th>\n",
       "      <th>date_posted</th>\n",
       "      <th>days_listed</th>\n",
       "      <th>price_category</th>\n",
       "      <th>model_years_cat</th>\n",
       "    </tr>\n",
       "  </thead>\n",
       "  <tbody>\n",
       "    <tr>\n",
       "      <td>42</td>\n",
       "      <td>34900</td>\n",
       "      <td>2013.0</td>\n",
       "      <td>mercedes-benz benze sprinter 2500</td>\n",
       "      <td>excellent</td>\n",
       "      <td>6.0</td>\n",
       "      <td>diesel</td>\n",
       "      <td>NaN</td>\n",
       "      <td>automatic</td>\n",
       "      <td>van</td>\n",
       "      <td>black</td>\n",
       "      <td>NaN</td>\n",
       "      <td>2019-01-15</td>\n",
       "      <td>16</td>\n",
       "      <td>high</td>\n",
       "      <td>semi new</td>\n",
       "    </tr>\n",
       "    <tr>\n",
       "      <td>1642</td>\n",
       "      <td>34900</td>\n",
       "      <td>2013.0</td>\n",
       "      <td>mercedes-benz benze sprinter 2500</td>\n",
       "      <td>excellent</td>\n",
       "      <td>6.0</td>\n",
       "      <td>diesel</td>\n",
       "      <td>NaN</td>\n",
       "      <td>automatic</td>\n",
       "      <td>van</td>\n",
       "      <td>black</td>\n",
       "      <td>NaN</td>\n",
       "      <td>2018-12-04</td>\n",
       "      <td>36</td>\n",
       "      <td>high</td>\n",
       "      <td>semi new</td>\n",
       "    </tr>\n",
       "    <tr>\n",
       "      <td>2232</td>\n",
       "      <td>34900</td>\n",
       "      <td>2013.0</td>\n",
       "      <td>mercedes-benz benze sprinter 2500</td>\n",
       "      <td>excellent</td>\n",
       "      <td>6.0</td>\n",
       "      <td>diesel</td>\n",
       "      <td>NaN</td>\n",
       "      <td>automatic</td>\n",
       "      <td>van</td>\n",
       "      <td>black</td>\n",
       "      <td>NaN</td>\n",
       "      <td>2018-08-23</td>\n",
       "      <td>70</td>\n",
       "      <td>high</td>\n",
       "      <td>semi new</td>\n",
       "    </tr>\n",
       "    <tr>\n",
       "      <td>2731</td>\n",
       "      <td>34900</td>\n",
       "      <td>2013.0</td>\n",
       "      <td>mercedes-benz benze sprinter 2500</td>\n",
       "      <td>excellent</td>\n",
       "      <td>6.0</td>\n",
       "      <td>diesel</td>\n",
       "      <td>NaN</td>\n",
       "      <td>automatic</td>\n",
       "      <td>van</td>\n",
       "      <td>black</td>\n",
       "      <td>NaN</td>\n",
       "      <td>2019-04-12</td>\n",
       "      <td>31</td>\n",
       "      <td>high</td>\n",
       "      <td>semi new</td>\n",
       "    </tr>\n",
       "    <tr>\n",
       "      <td>4149</td>\n",
       "      <td>34900</td>\n",
       "      <td>2013.0</td>\n",
       "      <td>mercedes-benz benze sprinter 2500</td>\n",
       "      <td>excellent</td>\n",
       "      <td>6.0</td>\n",
       "      <td>diesel</td>\n",
       "      <td>NaN</td>\n",
       "      <td>automatic</td>\n",
       "      <td>van</td>\n",
       "      <td>black</td>\n",
       "      <td>NaN</td>\n",
       "      <td>2018-10-12</td>\n",
       "      <td>28</td>\n",
       "      <td>high</td>\n",
       "      <td>semi new</td>\n",
       "    </tr>\n",
       "    <tr>\n",
       "      <td>4681</td>\n",
       "      <td>34900</td>\n",
       "      <td>2013.0</td>\n",
       "      <td>mercedes-benz benze sprinter 2500</td>\n",
       "      <td>excellent</td>\n",
       "      <td>6.0</td>\n",
       "      <td>diesel</td>\n",
       "      <td>NaN</td>\n",
       "      <td>automatic</td>\n",
       "      <td>van</td>\n",
       "      <td>NaN</td>\n",
       "      <td>NaN</td>\n",
       "      <td>2018-10-02</td>\n",
       "      <td>32</td>\n",
       "      <td>high</td>\n",
       "      <td>semi new</td>\n",
       "    </tr>\n",
       "    <tr>\n",
       "      <td>5681</td>\n",
       "      <td>34900</td>\n",
       "      <td>2013.0</td>\n",
       "      <td>mercedes-benz benze sprinter 2500</td>\n",
       "      <td>excellent</td>\n",
       "      <td>6.0</td>\n",
       "      <td>diesel</td>\n",
       "      <td>NaN</td>\n",
       "      <td>automatic</td>\n",
       "      <td>van</td>\n",
       "      <td>black</td>\n",
       "      <td>NaN</td>\n",
       "      <td>2018-12-11</td>\n",
       "      <td>34</td>\n",
       "      <td>high</td>\n",
       "      <td>semi new</td>\n",
       "    </tr>\n",
       "    <tr>\n",
       "      <td>8975</td>\n",
       "      <td>34900</td>\n",
       "      <td>2013.0</td>\n",
       "      <td>mercedes-benz benze sprinter 2500</td>\n",
       "      <td>excellent</td>\n",
       "      <td>6.0</td>\n",
       "      <td>diesel</td>\n",
       "      <td>NaN</td>\n",
       "      <td>automatic</td>\n",
       "      <td>van</td>\n",
       "      <td>NaN</td>\n",
       "      <td>NaN</td>\n",
       "      <td>2018-09-24</td>\n",
       "      <td>45</td>\n",
       "      <td>high</td>\n",
       "      <td>semi new</td>\n",
       "    </tr>\n",
       "    <tr>\n",
       "      <td>10600</td>\n",
       "      <td>34900</td>\n",
       "      <td>2013.0</td>\n",
       "      <td>mercedes-benz benze sprinter 2500</td>\n",
       "      <td>excellent</td>\n",
       "      <td>6.0</td>\n",
       "      <td>diesel</td>\n",
       "      <td>NaN</td>\n",
       "      <td>automatic</td>\n",
       "      <td>van</td>\n",
       "      <td>black</td>\n",
       "      <td>NaN</td>\n",
       "      <td>2018-09-16</td>\n",
       "      <td>47</td>\n",
       "      <td>high</td>\n",
       "      <td>semi new</td>\n",
       "    </tr>\n",
       "    <tr>\n",
       "      <td>11541</td>\n",
       "      <td>34900</td>\n",
       "      <td>2013.0</td>\n",
       "      <td>mercedes-benz benze sprinter 2500</td>\n",
       "      <td>excellent</td>\n",
       "      <td>6.0</td>\n",
       "      <td>diesel</td>\n",
       "      <td>NaN</td>\n",
       "      <td>automatic</td>\n",
       "      <td>van</td>\n",
       "      <td>NaN</td>\n",
       "      <td>NaN</td>\n",
       "      <td>2018-05-28</td>\n",
       "      <td>24</td>\n",
       "      <td>high</td>\n",
       "      <td>semi new</td>\n",
       "    </tr>\n",
       "    <tr>\n",
       "      <td>11916</td>\n",
       "      <td>34900</td>\n",
       "      <td>2013.0</td>\n",
       "      <td>mercedes-benz benze sprinter 2500</td>\n",
       "      <td>excellent</td>\n",
       "      <td>6.0</td>\n",
       "      <td>diesel</td>\n",
       "      <td>NaN</td>\n",
       "      <td>automatic</td>\n",
       "      <td>van</td>\n",
       "      <td>black</td>\n",
       "      <td>NaN</td>\n",
       "      <td>2019-02-19</td>\n",
       "      <td>7</td>\n",
       "      <td>high</td>\n",
       "      <td>semi new</td>\n",
       "    </tr>\n",
       "    <tr>\n",
       "      <td>14796</td>\n",
       "      <td>34900</td>\n",
       "      <td>2013.0</td>\n",
       "      <td>mercedes-benz benze sprinter 2500</td>\n",
       "      <td>excellent</td>\n",
       "      <td>6.0</td>\n",
       "      <td>diesel</td>\n",
       "      <td>NaN</td>\n",
       "      <td>automatic</td>\n",
       "      <td>van</td>\n",
       "      <td>NaN</td>\n",
       "      <td>NaN</td>\n",
       "      <td>2018-07-29</td>\n",
       "      <td>1</td>\n",
       "      <td>high</td>\n",
       "      <td>semi new</td>\n",
       "    </tr>\n",
       "    <tr>\n",
       "      <td>14871</td>\n",
       "      <td>34900</td>\n",
       "      <td>2013.0</td>\n",
       "      <td>mercedes-benz benze sprinter 2500</td>\n",
       "      <td>excellent</td>\n",
       "      <td>6.0</td>\n",
       "      <td>diesel</td>\n",
       "      <td>NaN</td>\n",
       "      <td>automatic</td>\n",
       "      <td>van</td>\n",
       "      <td>black</td>\n",
       "      <td>NaN</td>\n",
       "      <td>2018-10-09</td>\n",
       "      <td>16</td>\n",
       "      <td>high</td>\n",
       "      <td>semi new</td>\n",
       "    </tr>\n",
       "    <tr>\n",
       "      <td>17473</td>\n",
       "      <td>34900</td>\n",
       "      <td>2013.0</td>\n",
       "      <td>mercedes-benz benze sprinter 2500</td>\n",
       "      <td>excellent</td>\n",
       "      <td>6.0</td>\n",
       "      <td>diesel</td>\n",
       "      <td>NaN</td>\n",
       "      <td>automatic</td>\n",
       "      <td>van</td>\n",
       "      <td>black</td>\n",
       "      <td>NaN</td>\n",
       "      <td>2019-03-23</td>\n",
       "      <td>34</td>\n",
       "      <td>high</td>\n",
       "      <td>semi new</td>\n",
       "    </tr>\n",
       "    <tr>\n",
       "      <td>17493</td>\n",
       "      <td>34900</td>\n",
       "      <td>2013.0</td>\n",
       "      <td>mercedes-benz benze sprinter 2500</td>\n",
       "      <td>excellent</td>\n",
       "      <td>6.0</td>\n",
       "      <td>diesel</td>\n",
       "      <td>NaN</td>\n",
       "      <td>automatic</td>\n",
       "      <td>van</td>\n",
       "      <td>black</td>\n",
       "      <td>NaN</td>\n",
       "      <td>2019-01-28</td>\n",
       "      <td>99</td>\n",
       "      <td>high</td>\n",
       "      <td>semi new</td>\n",
       "    </tr>\n",
       "    <tr>\n",
       "      <td>18103</td>\n",
       "      <td>34900</td>\n",
       "      <td>2013.0</td>\n",
       "      <td>mercedes-benz benze sprinter 2500</td>\n",
       "      <td>excellent</td>\n",
       "      <td>6.0</td>\n",
       "      <td>diesel</td>\n",
       "      <td>NaN</td>\n",
       "      <td>automatic</td>\n",
       "      <td>van</td>\n",
       "      <td>black</td>\n",
       "      <td>NaN</td>\n",
       "      <td>2019-01-21</td>\n",
       "      <td>87</td>\n",
       "      <td>high</td>\n",
       "      <td>semi new</td>\n",
       "    </tr>\n",
       "    <tr>\n",
       "      <td>18811</td>\n",
       "      <td>34900</td>\n",
       "      <td>2013.0</td>\n",
       "      <td>mercedes-benz benze sprinter 2500</td>\n",
       "      <td>excellent</td>\n",
       "      <td>6.0</td>\n",
       "      <td>diesel</td>\n",
       "      <td>NaN</td>\n",
       "      <td>automatic</td>\n",
       "      <td>van</td>\n",
       "      <td>black</td>\n",
       "      <td>NaN</td>\n",
       "      <td>2018-08-03</td>\n",
       "      <td>52</td>\n",
       "      <td>high</td>\n",
       "      <td>semi new</td>\n",
       "    </tr>\n",
       "    <tr>\n",
       "      <td>19877</td>\n",
       "      <td>34900</td>\n",
       "      <td>2013.0</td>\n",
       "      <td>mercedes-benz benze sprinter 2500</td>\n",
       "      <td>excellent</td>\n",
       "      <td>6.0</td>\n",
       "      <td>diesel</td>\n",
       "      <td>NaN</td>\n",
       "      <td>automatic</td>\n",
       "      <td>van</td>\n",
       "      <td>NaN</td>\n",
       "      <td>NaN</td>\n",
       "      <td>2018-10-16</td>\n",
       "      <td>44</td>\n",
       "      <td>high</td>\n",
       "      <td>semi new</td>\n",
       "    </tr>\n",
       "    <tr>\n",
       "      <td>22002</td>\n",
       "      <td>34900</td>\n",
       "      <td>2013.0</td>\n",
       "      <td>mercedes-benz benze sprinter 2500</td>\n",
       "      <td>excellent</td>\n",
       "      <td>6.0</td>\n",
       "      <td>diesel</td>\n",
       "      <td>NaN</td>\n",
       "      <td>automatic</td>\n",
       "      <td>van</td>\n",
       "      <td>black</td>\n",
       "      <td>NaN</td>\n",
       "      <td>2018-10-20</td>\n",
       "      <td>87</td>\n",
       "      <td>high</td>\n",
       "      <td>semi new</td>\n",
       "    </tr>\n",
       "    <tr>\n",
       "      <td>23445</td>\n",
       "      <td>34900</td>\n",
       "      <td>2013.0</td>\n",
       "      <td>mercedes-benz benze sprinter 2500</td>\n",
       "      <td>excellent</td>\n",
       "      <td>6.0</td>\n",
       "      <td>diesel</td>\n",
       "      <td>NaN</td>\n",
       "      <td>automatic</td>\n",
       "      <td>van</td>\n",
       "      <td>NaN</td>\n",
       "      <td>NaN</td>\n",
       "      <td>2018-06-13</td>\n",
       "      <td>20</td>\n",
       "      <td>high</td>\n",
       "      <td>semi new</td>\n",
       "    </tr>\n",
       "    <tr>\n",
       "      <td>25982</td>\n",
       "      <td>34900</td>\n",
       "      <td>2013.0</td>\n",
       "      <td>mercedes-benz benze sprinter 2500</td>\n",
       "      <td>excellent</td>\n",
       "      <td>6.0</td>\n",
       "      <td>diesel</td>\n",
       "      <td>NaN</td>\n",
       "      <td>automatic</td>\n",
       "      <td>van</td>\n",
       "      <td>black</td>\n",
       "      <td>NaN</td>\n",
       "      <td>2018-06-06</td>\n",
       "      <td>37</td>\n",
       "      <td>high</td>\n",
       "      <td>semi new</td>\n",
       "    </tr>\n",
       "    <tr>\n",
       "      <td>26905</td>\n",
       "      <td>34900</td>\n",
       "      <td>2013.0</td>\n",
       "      <td>mercedes-benz benze sprinter 2500</td>\n",
       "      <td>excellent</td>\n",
       "      <td>6.0</td>\n",
       "      <td>diesel</td>\n",
       "      <td>NaN</td>\n",
       "      <td>automatic</td>\n",
       "      <td>van</td>\n",
       "      <td>black</td>\n",
       "      <td>NaN</td>\n",
       "      <td>2018-10-28</td>\n",
       "      <td>70</td>\n",
       "      <td>high</td>\n",
       "      <td>semi new</td>\n",
       "    </tr>\n",
       "    <tr>\n",
       "      <td>27345</td>\n",
       "      <td>34900</td>\n",
       "      <td>2013.0</td>\n",
       "      <td>mercedes-benz benze sprinter 2500</td>\n",
       "      <td>excellent</td>\n",
       "      <td>6.0</td>\n",
       "      <td>diesel</td>\n",
       "      <td>NaN</td>\n",
       "      <td>automatic</td>\n",
       "      <td>van</td>\n",
       "      <td>black</td>\n",
       "      <td>NaN</td>\n",
       "      <td>2019-04-18</td>\n",
       "      <td>29</td>\n",
       "      <td>high</td>\n",
       "      <td>semi new</td>\n",
       "    </tr>\n",
       "    <tr>\n",
       "      <td>31895</td>\n",
       "      <td>34900</td>\n",
       "      <td>2013.0</td>\n",
       "      <td>mercedes-benz benze sprinter 2500</td>\n",
       "      <td>excellent</td>\n",
       "      <td>6.0</td>\n",
       "      <td>diesel</td>\n",
       "      <td>NaN</td>\n",
       "      <td>automatic</td>\n",
       "      <td>van</td>\n",
       "      <td>black</td>\n",
       "      <td>NaN</td>\n",
       "      <td>2018-05-21</td>\n",
       "      <td>59</td>\n",
       "      <td>high</td>\n",
       "      <td>semi new</td>\n",
       "    </tr>\n",
       "    <tr>\n",
       "      <td>34466</td>\n",
       "      <td>34900</td>\n",
       "      <td>2013.0</td>\n",
       "      <td>mercedes-benz benze sprinter 2500</td>\n",
       "      <td>excellent</td>\n",
       "      <td>6.0</td>\n",
       "      <td>diesel</td>\n",
       "      <td>NaN</td>\n",
       "      <td>automatic</td>\n",
       "      <td>van</td>\n",
       "      <td>black</td>\n",
       "      <td>NaN</td>\n",
       "      <td>2019-04-09</td>\n",
       "      <td>80</td>\n",
       "      <td>high</td>\n",
       "      <td>semi new</td>\n",
       "    </tr>\n",
       "    <tr>\n",
       "      <td>34621</td>\n",
       "      <td>34900</td>\n",
       "      <td>2013.0</td>\n",
       "      <td>mercedes-benz benze sprinter 2500</td>\n",
       "      <td>excellent</td>\n",
       "      <td>6.0</td>\n",
       "      <td>diesel</td>\n",
       "      <td>NaN</td>\n",
       "      <td>automatic</td>\n",
       "      <td>van</td>\n",
       "      <td>black</td>\n",
       "      <td>NaN</td>\n",
       "      <td>2018-10-12</td>\n",
       "      <td>36</td>\n",
       "      <td>high</td>\n",
       "      <td>semi new</td>\n",
       "    </tr>\n",
       "    <tr>\n",
       "      <td>34905</td>\n",
       "      <td>34900</td>\n",
       "      <td>2013.0</td>\n",
       "      <td>mercedes-benz benze sprinter 2500</td>\n",
       "      <td>excellent</td>\n",
       "      <td>6.0</td>\n",
       "      <td>diesel</td>\n",
       "      <td>NaN</td>\n",
       "      <td>automatic</td>\n",
       "      <td>van</td>\n",
       "      <td>black</td>\n",
       "      <td>NaN</td>\n",
       "      <td>2019-03-09</td>\n",
       "      <td>13</td>\n",
       "      <td>high</td>\n",
       "      <td>semi new</td>\n",
       "    </tr>\n",
       "    <tr>\n",
       "      <td>36088</td>\n",
       "      <td>34900</td>\n",
       "      <td>2013.0</td>\n",
       "      <td>mercedes-benz benze sprinter 2500</td>\n",
       "      <td>excellent</td>\n",
       "      <td>6.0</td>\n",
       "      <td>diesel</td>\n",
       "      <td>NaN</td>\n",
       "      <td>automatic</td>\n",
       "      <td>van</td>\n",
       "      <td>black</td>\n",
       "      <td>NaN</td>\n",
       "      <td>2018-08-25</td>\n",
       "      <td>60</td>\n",
       "      <td>high</td>\n",
       "      <td>semi new</td>\n",
       "    </tr>\n",
       "    <tr>\n",
       "      <td>36518</td>\n",
       "      <td>34900</td>\n",
       "      <td>2013.0</td>\n",
       "      <td>mercedes-benz benze sprinter 2500</td>\n",
       "      <td>excellent</td>\n",
       "      <td>6.0</td>\n",
       "      <td>diesel</td>\n",
       "      <td>NaN</td>\n",
       "      <td>automatic</td>\n",
       "      <td>van</td>\n",
       "      <td>black</td>\n",
       "      <td>NaN</td>\n",
       "      <td>2018-05-26</td>\n",
       "      <td>34</td>\n",
       "      <td>high</td>\n",
       "      <td>semi new</td>\n",
       "    </tr>\n",
       "    <tr>\n",
       "      <td>38204</td>\n",
       "      <td>34900</td>\n",
       "      <td>2013.0</td>\n",
       "      <td>mercedes-benz benze sprinter 2500</td>\n",
       "      <td>excellent</td>\n",
       "      <td>6.0</td>\n",
       "      <td>diesel</td>\n",
       "      <td>NaN</td>\n",
       "      <td>automatic</td>\n",
       "      <td>van</td>\n",
       "      <td>black</td>\n",
       "      <td>NaN</td>\n",
       "      <td>2018-10-06</td>\n",
       "      <td>24</td>\n",
       "      <td>high</td>\n",
       "      <td>semi new</td>\n",
       "    </tr>\n",
       "    <tr>\n",
       "      <td>39904</td>\n",
       "      <td>34900</td>\n",
       "      <td>2013.0</td>\n",
       "      <td>mercedes-benz benze sprinter 2500</td>\n",
       "      <td>excellent</td>\n",
       "      <td>6.0</td>\n",
       "      <td>diesel</td>\n",
       "      <td>NaN</td>\n",
       "      <td>automatic</td>\n",
       "      <td>van</td>\n",
       "      <td>black</td>\n",
       "      <td>NaN</td>\n",
       "      <td>2019-02-13</td>\n",
       "      <td>7</td>\n",
       "      <td>high</td>\n",
       "      <td>semi new</td>\n",
       "    </tr>\n",
       "    <tr>\n",
       "      <td>40524</td>\n",
       "      <td>34900</td>\n",
       "      <td>2013.0</td>\n",
       "      <td>mercedes-benz benze sprinter 2500</td>\n",
       "      <td>excellent</td>\n",
       "      <td>6.0</td>\n",
       "      <td>diesel</td>\n",
       "      <td>NaN</td>\n",
       "      <td>automatic</td>\n",
       "      <td>van</td>\n",
       "      <td>black</td>\n",
       "      <td>NaN</td>\n",
       "      <td>2019-04-06</td>\n",
       "      <td>41</td>\n",
       "      <td>high</td>\n",
       "      <td>semi new</td>\n",
       "    </tr>\n",
       "    <tr>\n",
       "      <td>42116</td>\n",
       "      <td>34900</td>\n",
       "      <td>2013.0</td>\n",
       "      <td>mercedes-benz benze sprinter 2500</td>\n",
       "      <td>excellent</td>\n",
       "      <td>6.0</td>\n",
       "      <td>diesel</td>\n",
       "      <td>NaN</td>\n",
       "      <td>automatic</td>\n",
       "      <td>van</td>\n",
       "      <td>black</td>\n",
       "      <td>NaN</td>\n",
       "      <td>2018-05-18</td>\n",
       "      <td>50</td>\n",
       "      <td>high</td>\n",
       "      <td>semi new</td>\n",
       "    </tr>\n",
       "    <tr>\n",
       "      <td>42393</td>\n",
       "      <td>34900</td>\n",
       "      <td>2013.0</td>\n",
       "      <td>mercedes-benz benze sprinter 2500</td>\n",
       "      <td>excellent</td>\n",
       "      <td>6.0</td>\n",
       "      <td>diesel</td>\n",
       "      <td>NaN</td>\n",
       "      <td>automatic</td>\n",
       "      <td>van</td>\n",
       "      <td>black</td>\n",
       "      <td>NaN</td>\n",
       "      <td>2018-10-28</td>\n",
       "      <td>14</td>\n",
       "      <td>high</td>\n",
       "      <td>semi new</td>\n",
       "    </tr>\n",
       "    <tr>\n",
       "      <td>42503</td>\n",
       "      <td>34900</td>\n",
       "      <td>2013.0</td>\n",
       "      <td>mercedes-benz benze sprinter 2500</td>\n",
       "      <td>excellent</td>\n",
       "      <td>6.0</td>\n",
       "      <td>diesel</td>\n",
       "      <td>NaN</td>\n",
       "      <td>automatic</td>\n",
       "      <td>van</td>\n",
       "      <td>NaN</td>\n",
       "      <td>NaN</td>\n",
       "      <td>2018-05-28</td>\n",
       "      <td>14</td>\n",
       "      <td>high</td>\n",
       "      <td>semi new</td>\n",
       "    </tr>\n",
       "    <tr>\n",
       "      <td>44327</td>\n",
       "      <td>34900</td>\n",
       "      <td>2013.0</td>\n",
       "      <td>mercedes-benz benze sprinter 2500</td>\n",
       "      <td>excellent</td>\n",
       "      <td>6.0</td>\n",
       "      <td>diesel</td>\n",
       "      <td>NaN</td>\n",
       "      <td>automatic</td>\n",
       "      <td>van</td>\n",
       "      <td>black</td>\n",
       "      <td>NaN</td>\n",
       "      <td>2019-03-20</td>\n",
       "      <td>51</td>\n",
       "      <td>high</td>\n",
       "      <td>semi new</td>\n",
       "    </tr>\n",
       "    <tr>\n",
       "      <td>44698</td>\n",
       "      <td>34900</td>\n",
       "      <td>2013.0</td>\n",
       "      <td>mercedes-benz benze sprinter 2500</td>\n",
       "      <td>excellent</td>\n",
       "      <td>6.0</td>\n",
       "      <td>diesel</td>\n",
       "      <td>NaN</td>\n",
       "      <td>automatic</td>\n",
       "      <td>van</td>\n",
       "      <td>black</td>\n",
       "      <td>NaN</td>\n",
       "      <td>2019-01-16</td>\n",
       "      <td>17</td>\n",
       "      <td>high</td>\n",
       "      <td>semi new</td>\n",
       "    </tr>\n",
       "    <tr>\n",
       "      <td>48012</td>\n",
       "      <td>34900</td>\n",
       "      <td>2013.0</td>\n",
       "      <td>mercedes-benz benze sprinter 2500</td>\n",
       "      <td>excellent</td>\n",
       "      <td>6.0</td>\n",
       "      <td>diesel</td>\n",
       "      <td>NaN</td>\n",
       "      <td>automatic</td>\n",
       "      <td>van</td>\n",
       "      <td>black</td>\n",
       "      <td>NaN</td>\n",
       "      <td>2018-10-14</td>\n",
       "      <td>19</td>\n",
       "      <td>high</td>\n",
       "      <td>semi new</td>\n",
       "    </tr>\n",
       "    <tr>\n",
       "      <td>48483</td>\n",
       "      <td>34900</td>\n",
       "      <td>2013.0</td>\n",
       "      <td>mercedes-benz benze sprinter 2500</td>\n",
       "      <td>excellent</td>\n",
       "      <td>6.0</td>\n",
       "      <td>diesel</td>\n",
       "      <td>NaN</td>\n",
       "      <td>automatic</td>\n",
       "      <td>van</td>\n",
       "      <td>black</td>\n",
       "      <td>NaN</td>\n",
       "      <td>2018-08-19</td>\n",
       "      <td>27</td>\n",
       "      <td>high</td>\n",
       "      <td>semi new</td>\n",
       "    </tr>\n",
       "    <tr>\n",
       "      <td>50547</td>\n",
       "      <td>34900</td>\n",
       "      <td>2013.0</td>\n",
       "      <td>mercedes-benz benze sprinter 2500</td>\n",
       "      <td>excellent</td>\n",
       "      <td>6.0</td>\n",
       "      <td>diesel</td>\n",
       "      <td>NaN</td>\n",
       "      <td>automatic</td>\n",
       "      <td>van</td>\n",
       "      <td>black</td>\n",
       "      <td>NaN</td>\n",
       "      <td>2018-12-28</td>\n",
       "      <td>49</td>\n",
       "      <td>high</td>\n",
       "      <td>semi new</td>\n",
       "    </tr>\n",
       "    <tr>\n",
       "      <td>50624</td>\n",
       "      <td>34900</td>\n",
       "      <td>2013.0</td>\n",
       "      <td>mercedes-benz benze sprinter 2500</td>\n",
       "      <td>excellent</td>\n",
       "      <td>6.0</td>\n",
       "      <td>diesel</td>\n",
       "      <td>NaN</td>\n",
       "      <td>automatic</td>\n",
       "      <td>van</td>\n",
       "      <td>black</td>\n",
       "      <td>NaN</td>\n",
       "      <td>2019-04-13</td>\n",
       "      <td>40</td>\n",
       "      <td>high</td>\n",
       "      <td>semi new</td>\n",
       "    </tr>\n",
       "  </tbody>\n",
       "</table>\n",
       "</div>"
      ],
      "text/plain": [
       "       price  model_year                              model  condition  \\\n",
       "42     34900      2013.0  mercedes-benz benze sprinter 2500  excellent   \n",
       "1642   34900      2013.0  mercedes-benz benze sprinter 2500  excellent   \n",
       "2232   34900      2013.0  mercedes-benz benze sprinter 2500  excellent   \n",
       "2731   34900      2013.0  mercedes-benz benze sprinter 2500  excellent   \n",
       "4149   34900      2013.0  mercedes-benz benze sprinter 2500  excellent   \n",
       "4681   34900      2013.0  mercedes-benz benze sprinter 2500  excellent   \n",
       "5681   34900      2013.0  mercedes-benz benze sprinter 2500  excellent   \n",
       "8975   34900      2013.0  mercedes-benz benze sprinter 2500  excellent   \n",
       "10600  34900      2013.0  mercedes-benz benze sprinter 2500  excellent   \n",
       "11541  34900      2013.0  mercedes-benz benze sprinter 2500  excellent   \n",
       "11916  34900      2013.0  mercedes-benz benze sprinter 2500  excellent   \n",
       "14796  34900      2013.0  mercedes-benz benze sprinter 2500  excellent   \n",
       "14871  34900      2013.0  mercedes-benz benze sprinter 2500  excellent   \n",
       "17473  34900      2013.0  mercedes-benz benze sprinter 2500  excellent   \n",
       "17493  34900      2013.0  mercedes-benz benze sprinter 2500  excellent   \n",
       "18103  34900      2013.0  mercedes-benz benze sprinter 2500  excellent   \n",
       "18811  34900      2013.0  mercedes-benz benze sprinter 2500  excellent   \n",
       "19877  34900      2013.0  mercedes-benz benze sprinter 2500  excellent   \n",
       "22002  34900      2013.0  mercedes-benz benze sprinter 2500  excellent   \n",
       "23445  34900      2013.0  mercedes-benz benze sprinter 2500  excellent   \n",
       "25982  34900      2013.0  mercedes-benz benze sprinter 2500  excellent   \n",
       "26905  34900      2013.0  mercedes-benz benze sprinter 2500  excellent   \n",
       "27345  34900      2013.0  mercedes-benz benze sprinter 2500  excellent   \n",
       "31895  34900      2013.0  mercedes-benz benze sprinter 2500  excellent   \n",
       "34466  34900      2013.0  mercedes-benz benze sprinter 2500  excellent   \n",
       "34621  34900      2013.0  mercedes-benz benze sprinter 2500  excellent   \n",
       "34905  34900      2013.0  mercedes-benz benze sprinter 2500  excellent   \n",
       "36088  34900      2013.0  mercedes-benz benze sprinter 2500  excellent   \n",
       "36518  34900      2013.0  mercedes-benz benze sprinter 2500  excellent   \n",
       "38204  34900      2013.0  mercedes-benz benze sprinter 2500  excellent   \n",
       "39904  34900      2013.0  mercedes-benz benze sprinter 2500  excellent   \n",
       "40524  34900      2013.0  mercedes-benz benze sprinter 2500  excellent   \n",
       "42116  34900      2013.0  mercedes-benz benze sprinter 2500  excellent   \n",
       "42393  34900      2013.0  mercedes-benz benze sprinter 2500  excellent   \n",
       "42503  34900      2013.0  mercedes-benz benze sprinter 2500  excellent   \n",
       "44327  34900      2013.0  mercedes-benz benze sprinter 2500  excellent   \n",
       "44698  34900      2013.0  mercedes-benz benze sprinter 2500  excellent   \n",
       "48012  34900      2013.0  mercedes-benz benze sprinter 2500  excellent   \n",
       "48483  34900      2013.0  mercedes-benz benze sprinter 2500  excellent   \n",
       "50547  34900      2013.0  mercedes-benz benze sprinter 2500  excellent   \n",
       "50624  34900      2013.0  mercedes-benz benze sprinter 2500  excellent   \n",
       "\n",
       "       cylinders    fuel  odometer transmission type paint_color  is_4wd  \\\n",
       "42           6.0  diesel       NaN    automatic  van       black     NaN   \n",
       "1642         6.0  diesel       NaN    automatic  van       black     NaN   \n",
       "2232         6.0  diesel       NaN    automatic  van       black     NaN   \n",
       "2731         6.0  diesel       NaN    automatic  van       black     NaN   \n",
       "4149         6.0  diesel       NaN    automatic  van       black     NaN   \n",
       "4681         6.0  diesel       NaN    automatic  van         NaN     NaN   \n",
       "5681         6.0  diesel       NaN    automatic  van       black     NaN   \n",
       "8975         6.0  diesel       NaN    automatic  van         NaN     NaN   \n",
       "10600        6.0  diesel       NaN    automatic  van       black     NaN   \n",
       "11541        6.0  diesel       NaN    automatic  van         NaN     NaN   \n",
       "11916        6.0  diesel       NaN    automatic  van       black     NaN   \n",
       "14796        6.0  diesel       NaN    automatic  van         NaN     NaN   \n",
       "14871        6.0  diesel       NaN    automatic  van       black     NaN   \n",
       "17473        6.0  diesel       NaN    automatic  van       black     NaN   \n",
       "17493        6.0  diesel       NaN    automatic  van       black     NaN   \n",
       "18103        6.0  diesel       NaN    automatic  van       black     NaN   \n",
       "18811        6.0  diesel       NaN    automatic  van       black     NaN   \n",
       "19877        6.0  diesel       NaN    automatic  van         NaN     NaN   \n",
       "22002        6.0  diesel       NaN    automatic  van       black     NaN   \n",
       "23445        6.0  diesel       NaN    automatic  van         NaN     NaN   \n",
       "25982        6.0  diesel       NaN    automatic  van       black     NaN   \n",
       "26905        6.0  diesel       NaN    automatic  van       black     NaN   \n",
       "27345        6.0  diesel       NaN    automatic  van       black     NaN   \n",
       "31895        6.0  diesel       NaN    automatic  van       black     NaN   \n",
       "34466        6.0  diesel       NaN    automatic  van       black     NaN   \n",
       "34621        6.0  diesel       NaN    automatic  van       black     NaN   \n",
       "34905        6.0  diesel       NaN    automatic  van       black     NaN   \n",
       "36088        6.0  diesel       NaN    automatic  van       black     NaN   \n",
       "36518        6.0  diesel       NaN    automatic  van       black     NaN   \n",
       "38204        6.0  diesel       NaN    automatic  van       black     NaN   \n",
       "39904        6.0  diesel       NaN    automatic  van       black     NaN   \n",
       "40524        6.0  diesel       NaN    automatic  van       black     NaN   \n",
       "42116        6.0  diesel       NaN    automatic  van       black     NaN   \n",
       "42393        6.0  diesel       NaN    automatic  van       black     NaN   \n",
       "42503        6.0  diesel       NaN    automatic  van         NaN     NaN   \n",
       "44327        6.0  diesel       NaN    automatic  van       black     NaN   \n",
       "44698        6.0  diesel       NaN    automatic  van       black     NaN   \n",
       "48012        6.0  diesel       NaN    automatic  van       black     NaN   \n",
       "48483        6.0  diesel       NaN    automatic  van       black     NaN   \n",
       "50547        6.0  diesel       NaN    automatic  van       black     NaN   \n",
       "50624        6.0  diesel       NaN    automatic  van       black     NaN   \n",
       "\n",
       "      date_posted  days_listed price_category model_years_cat  \n",
       "42     2019-01-15           16           high        semi new  \n",
       "1642   2018-12-04           36           high        semi new  \n",
       "2232   2018-08-23           70           high        semi new  \n",
       "2731   2019-04-12           31           high        semi new  \n",
       "4149   2018-10-12           28           high        semi new  \n",
       "4681   2018-10-02           32           high        semi new  \n",
       "5681   2018-12-11           34           high        semi new  \n",
       "8975   2018-09-24           45           high        semi new  \n",
       "10600  2018-09-16           47           high        semi new  \n",
       "11541  2018-05-28           24           high        semi new  \n",
       "11916  2019-02-19            7           high        semi new  \n",
       "14796  2018-07-29            1           high        semi new  \n",
       "14871  2018-10-09           16           high        semi new  \n",
       "17473  2019-03-23           34           high        semi new  \n",
       "17493  2019-01-28           99           high        semi new  \n",
       "18103  2019-01-21           87           high        semi new  \n",
       "18811  2018-08-03           52           high        semi new  \n",
       "19877  2018-10-16           44           high        semi new  \n",
       "22002  2018-10-20           87           high        semi new  \n",
       "23445  2018-06-13           20           high        semi new  \n",
       "25982  2018-06-06           37           high        semi new  \n",
       "26905  2018-10-28           70           high        semi new  \n",
       "27345  2019-04-18           29           high        semi new  \n",
       "31895  2018-05-21           59           high        semi new  \n",
       "34466  2019-04-09           80           high        semi new  \n",
       "34621  2018-10-12           36           high        semi new  \n",
       "34905  2019-03-09           13           high        semi new  \n",
       "36088  2018-08-25           60           high        semi new  \n",
       "36518  2018-05-26           34           high        semi new  \n",
       "38204  2018-10-06           24           high        semi new  \n",
       "39904  2019-02-13            7           high        semi new  \n",
       "40524  2019-04-06           41           high        semi new  \n",
       "42116  2018-05-18           50           high        semi new  \n",
       "42393  2018-10-28           14           high        semi new  \n",
       "42503  2018-05-28           14           high        semi new  \n",
       "44327  2019-03-20           51           high        semi new  \n",
       "44698  2019-01-16           17           high        semi new  \n",
       "48012  2018-10-14           19           high        semi new  \n",
       "48483  2018-08-19           27           high        semi new  \n",
       "50547  2018-12-28           49           high        semi new  \n",
       "50624  2019-04-13           40           high        semi new  "
      ]
     },
     "execution_count": 20,
     "metadata": {},
     "output_type": "execute_result"
    }
   ],
   "source": [
    "df['odometer'].isna().sum()\n",
    "\n",
    "df[df['odometer'].isna()]"
   ]
  },
  {
   "cell_type": "markdown",
   "metadata": {},
   "source": [
    "we can tell the remaining 41 missing values are different ads posted for the same model. we will fill it using the average \n",
    "in the same model_year - 2013 and same condition - excelllent."
   ]
  },
  {
   "cell_type": "code",
   "execution_count": 21,
   "metadata": {},
   "outputs": [],
   "source": [
    "filler = df.loc[(df['model_year']==2013) & (df['condition']== 'excellent'),['odometer']]\n",
    "filler_mean = int(filler.mean())\n",
    "df['odometer'] = df['odometer'].fillna(filler_mean)\n"
   ]
  },
  {
   "cell_type": "markdown",
   "metadata": {},
   "source": [
    "### filling paint_color"
   ]
  },
  {
   "cell_type": "code",
   "execution_count": 22,
   "metadata": {},
   "outputs": [
    {
     "data": {
      "image/png": "[encoded data removed]",
      "text/plain": [
       "<Figure size 432x288 with 1 Axes>"
      ]
     },
     "metadata": {
      "needs_background": "light"
     },
     "output_type": "display_data"
    }
   ],
   "source": [
    "#checking for relation between colors and price\n",
    "color= df.pivot_table(index='price_category',columns='paint_color',values='price')\n",
    "color.plot(kind='bar',legend=False);"
   ]
  },
  {
   "cell_type": "markdown",
   "metadata": {},
   "source": [
    "by looking at the graph we can see there are no significant differences between colors and their price,adding to the fact\n",
    "that we cant assume the paint_color by any of the existing columns, - we will fill it with not_listed. \n"
   ]
  },
  {
   "cell_type": "code",
   "execution_count": 23,
   "metadata": {},
   "outputs": [
    {
     "data": {
      "text/plain": [
       "0"
      ]
     },
     "execution_count": 23,
     "metadata": {},
     "output_type": "execute_result"
    }
   ],
   "source": [
    "df['paint_color'] = df['paint_color'].fillna('not_listed')\n",
    "df['paint_color'].isna().sum()"
   ]
  },
  {
   "cell_type": "markdown",
   "metadata": {},
   "source": [
    "### filling is_4wd"
   ]
  },
  {
   "cell_type": "markdown",
   "metadata": {},
   "source": [
    "will fill missing with 0, as 1 refers to true ( is 4wd) and missing refers to false ( is not 4wd)"
   ]
  },
  {
   "cell_type": "code",
   "execution_count": 24,
   "metadata": {},
   "outputs": [],
   "source": [
    "df['is_4wd'] = df['is_4wd'].fillna(0)"
   ]
  },
  {
   "cell_type": "markdown",
   "metadata": {},
   "source": [
    "checking to confirm no missing values left"
   ]
  },
  {
   "cell_type": "code",
   "execution_count": 25,
   "metadata": {},
   "outputs": [
    {
     "data": {
      "text/plain": [
       "price              0\n",
       "model_year         0\n",
       "model              0\n",
       "condition          0\n",
       "cylinders          0\n",
       "fuel               0\n",
       "odometer           0\n",
       "transmission       0\n",
       "type               0\n",
       "paint_color        0\n",
       "is_4wd             0\n",
       "date_posted        0\n",
       "days_listed        0\n",
       "price_category     0\n",
       "model_years_cat    0\n",
       "dtype: int64"
      ]
     },
     "execution_count": 25,
     "metadata": {},
     "output_type": "execute_result"
    }
   ],
   "source": [
    "df.isna().sum()"
   ]
  },
  {
   "cell_type": "markdown",
   "metadata": {},
   "source": [
    "### removing rows with price of 1"
   ]
  },
  {
   "cell_type": "markdown",
   "metadata": {},
   "source": [
    "price 1 values might have been placed with intention to appear first when searching by price, but those values affect the real price of the cars in our analysis and will be removed. We could treat them as an outlier, but I prefer removing due to their illogical value and effect on the price."
   ]
  },
  {
   "cell_type": "markdown",
   "metadata": {},
   "source": [
    "checking num of rows with price 1"
   ]
  },
  {
   "cell_type": "code",
   "execution_count": 26,
   "metadata": {},
   "outputs": [
    {
     "data": {
      "text/plain": [
       "price              798\n",
       "model_year         798\n",
       "model              798\n",
       "condition          798\n",
       "cylinders          798\n",
       "fuel               798\n",
       "odometer           798\n",
       "transmission       798\n",
       "type               798\n",
       "paint_color        798\n",
       "is_4wd             798\n",
       "date_posted        798\n",
       "days_listed        798\n",
       "price_category     798\n",
       "model_years_cat    798\n",
       "dtype: int64"
      ]
     },
     "execution_count": 26,
     "metadata": {},
     "output_type": "execute_result"
    }
   ],
   "source": [
    "df.query('price == 1').count()"
   ]
  },
  {
   "cell_type": "markdown",
   "metadata": {},
   "source": [
    "removing the rows (1.5% of the data)"
   ]
  },
  {
   "cell_type": "code",
   "execution_count": 27,
   "metadata": {},
   "outputs": [],
   "source": [
    "df = df.drop(df[df['price'] == 1].index)"
   ]
  },
  {
   "cell_type": "markdown",
   "metadata": {},
   "source": [
    "### changing datatypes"
   ]
  },
  {
   "cell_type": "markdown",
   "metadata": {},
   "source": [
    "changing model_year, cylinders and odometer from float to int\n"
   ]
  },
  {
   "cell_type": "code",
   "execution_count": 28,
   "metadata": {},
   "outputs": [],
   "source": [
    "df = df.astype ({\"model_year\":\"int64\", \"cylinders\":\"int64\", \"odometer\":\"int64\"})"
   ]
  },
  {
   "cell_type": "markdown",
   "metadata": {},
   "source": [
    "changing is_4wd to bool "
   ]
  },
  {
   "cell_type": "code",
   "execution_count": 29,
   "metadata": {},
   "outputs": [],
   "source": [
    "df[\"is_4wd\"] = df[\"is_4wd\"].astype(bool)"
   ]
  },
  {
   "cell_type": "markdown",
   "metadata": {},
   "source": [
    "changing date_posted to datetime"
   ]
  },
  {
   "cell_type": "code",
   "execution_count": 30,
   "metadata": {},
   "outputs": [],
   "source": [
    "df['date_posted'] =  pd.to_datetime(df['date_posted'], format='%Y-%m-%d')"
   ]
  },
  {
   "cell_type": "markdown",
   "metadata": {},
   "source": [
    "checking all dtypes changes\n"
   ]
  },
  {
   "cell_type": "code",
   "execution_count": 31,
   "metadata": {},
   "outputs": [
    {
     "name": "stdout",
     "output_type": "stream",
     "text": [
      "<class 'pandas.core.frame.DataFrame'>\n",
      "Int64Index: 50727 entries, 0 to 51524\n",
      "Data columns (total 15 columns):\n",
      "price              50727 non-null int64\n",
      "model_year         50727 non-null int64\n",
      "model              50727 non-null object\n",
      "condition          50727 non-null object\n",
      "cylinders          50727 non-null int64\n",
      "fuel               50727 non-null object\n",
      "odometer           50727 non-null int64\n",
      "transmission       50727 non-null object\n",
      "type               50727 non-null object\n",
      "paint_color        50727 non-null object\n",
      "is_4wd             50727 non-null bool\n",
      "date_posted        50727 non-null datetime64[ns]\n",
      "days_listed        50727 non-null int64\n",
      "price_category     50727 non-null category\n",
      "model_years_cat    50727 non-null category\n",
      "dtypes: bool(1), category(2), datetime64[ns](1), int64(5), object(6)\n",
      "memory usage: 5.2+ MB\n"
     ]
    }
   ],
   "source": [
    "df.info()"
   ]
  },
  {
   "cell_type": "markdown",
   "metadata": {},
   "source": [
    "### Conclusion:\n",
    "The missing values of model_year , cylinders , odometer, paint_color and is_4wd columns have been filled successfully,\n",
    "leaving us with no missing values to deal with.\n",
    "We have created a new column named price_category which categorizes the price.\n",
    "The rows with price value of 1 have been removed, and the dtypes have been changed to their logical type."
   ]
  },
  {
   "cell_type": "markdown",
   "metadata": {},
   "source": [
    "## Make calculations and add them to the table"
   ]
  },
  {
   "cell_type": "markdown",
   "metadata": {},
   "source": [
    "creating 3 seperate columns for day, month, year of the ad."
   ]
  },
  {
   "cell_type": "code",
   "execution_count": 32,
   "metadata": {},
   "outputs": [],
   "source": [
    "df['ad_week_day'] = df['date_posted'].dt.day_name()\n",
    "df['ad_month'] = df['date_posted'].dt.month_name()\n",
    "df['ad_year'] = df['date_posted'].dt.year"
   ]
  },
  {
   "cell_type": "markdown",
   "metadata": {},
   "source": [
    "adding vehicle's age in years column"
   ]
  },
  {
   "cell_type": "code",
   "execution_count": 33,
   "metadata": {},
   "outputs": [],
   "source": [
    "df['vehicle_age'] = (df['date_posted'].dt.year - df['model_year'])"
   ]
  },
  {
   "cell_type": "markdown",
   "metadata": {},
   "source": [
    "adding average mileage per year column"
   ]
  },
  {
   "cell_type": "markdown",
   "metadata": {},
   "source": [
    "handling non 0 values first"
   ]
  },
  {
   "cell_type": "code",
   "execution_count": 34,
   "metadata": {},
   "outputs": [],
   "source": [
    "df['avg_mileage'] = (df.query('odometer > 0 and vehicle_age > 0')['odometer']) / (df.query('odometer > 0 and vehicle_age > 0')['vehicle_age'])"
   ]
  },
  {
   "cell_type": "markdown",
   "metadata": {},
   "source": [
    "handling 0 odometer "
   ]
  },
  {
   "cell_type": "code",
   "execution_count": 35,
   "metadata": {},
   "outputs": [],
   "source": [
    "df.loc[(df['odometer']==0),['avg_mileage']] = 0"
   ]
  },
  {
   "cell_type": "markdown",
   "metadata": {},
   "source": [
    "handling 0 age"
   ]
  },
  {
   "cell_type": "code",
   "execution_count": 36,
   "metadata": {},
   "outputs": [],
   "source": [
    "store = df.query('vehicle_age == 0')['odometer']\n",
    "df.loc[(df['vehicle_age']==0),['avg_mileage']] = store"
   ]
  },
  {
   "cell_type": "markdown",
   "metadata": {},
   "source": [
    "float to int"
   ]
  },
  {
   "cell_type": "code",
   "execution_count": 37,
   "metadata": {},
   "outputs": [],
   "source": [
    "df[\"avg_mileage\"] = df[\"avg_mileage\"].astype(int)"
   ]
  },
  {
   "cell_type": "markdown",
   "metadata": {},
   "source": [
    "replace string values with numeric valus in the condition column\n",
    "5 - new , 4 - like new , 3 - excellent, 2 - good , 1 - fair , 0 - salvage"
   ]
  },
  {
   "cell_type": "code",
   "execution_count": 38,
   "metadata": {
    "scrolled": true
   },
   "outputs": [],
   "source": [
    "df['condition'] = df['condition'].replace(['salvage','fair','good','excellent','like new','new'],[0,1,2,3,4,5])"
   ]
  },
  {
   "cell_type": "markdown",
   "metadata": {},
   "source": [
    "### Conclusion:\n",
    "several columns were added to our dataset : \n",
    "ad_week_day - day of the week the ad was placed, \n",
    "ad_month - the month the ad was placed, \n",
    "ad_year - the year the ad was placed, \n",
    "vehicle_age - the vehicle's age, \n",
    "avg_mileage - how much average mileage per year\n",
    "\n",
    "We also replaced string values with numeric values in the condition column:\n",
    "5 - new , 4 - like new , 3 - excellent, 2 - good , 1 - fair , 0 - salvage"
   ]
  },
  {
   "cell_type": "markdown",
   "metadata": {},
   "source": [
    "## Carry out exploratory data analysis"
   ]
  },
  {
   "cell_type": "markdown",
   "metadata": {},
   "source": [
    "### study price, vehicle_age ,mileage, cylinders and condition parameters by plotting histograms and understanding outliers. "
   ]
  },
  {
   "cell_type": "code",
   "execution_count": 39,
   "metadata": {},
   "outputs": [],
   "source": [
    "#creating general function to calcuate highest and lowest values inside the lower and upper fences.\n",
    "def iqr_fence(df,column):\n",
    "    Q1 = df[column].quantile(0.25)\n",
    "    Q3 = df[column].quantile(0.75)\n",
    "    IQR = Q3 - Q1\n",
    "    Lower_Fence = Q1 - (1.5 * IQR)\n",
    "    Upper_Fence = Q3 + (1.5 * IQR)\n",
    "    u = max(df[column][df[column]<Upper_Fence])\n",
    "    l = min(df[column][df[column]>Lower_Fence])\n",
    "    return [l,u]"
   ]
  },
  {
   "cell_type": "markdown",
   "metadata": {},
   "source": [
    "calculating price limits and plotting price initial histogram"
   ]
  },
  {
   "cell_type": "code",
   "execution_count": 40,
   "metadata": {
    "scrolled": false
   },
   "outputs": [
    {
     "data": {
      "image/png": "[encoded data removed]",
      "text/plain": [
       "<Figure size 432x288 with 1 Axes>"
      ]
     },
     "metadata": {
      "needs_background": "light"
     },
     "output_type": "display_data"
    }
   ],
   "source": [
    "price_limits = iqr_fence(df,'price')\n",
    "df.hist('price');"
   ]
  },
  {
   "cell_type": "markdown",
   "metadata": {},
   "source": [
    "we can see that the price has a very wide range of values with a little spread of values - big upper outlier.\n",
    "adding range in order to get a better look on the values to determine the size of the outlier."
   ]
  },
  {
   "cell_type": "code",
   "execution_count": 41,
   "metadata": {},
   "outputs": [
    {
     "data": {
      "text/plain": [
       "[3, 34275]"
      ]
     },
     "execution_count": 41,
     "metadata": {},
     "output_type": "execute_result"
    },
    {
     "data": {
      "image/png": "[encoded data removed]",
      "text/plain": [
       "<Figure size 432x288 with 1 Axes>"
      ]
     },
     "metadata": {
      "needs_background": "light"
     },
     "output_type": "display_data"
    }
   ],
   "source": [
    "df.hist('price',bins=100,range=(34276,350000));\n",
    "price_limits"
   ]
  },
  {
   "cell_type": "markdown",
   "metadata": {},
   "source": [
    "#### Conclusion:\n",
    "every price above 34275, our highest value inside the upper fence - will be considered an upper outlier."
   ]
  },
  {
   "cell_type": "markdown",
   "metadata": {},
   "source": [
    "calculating age limits and plotting age initial histogram"
   ]
  },
  {
   "cell_type": "code",
   "execution_count": 42,
   "metadata": {},
   "outputs": [
    {
     "data": {
      "image/png": "[encoded data removed]",
      "text/plain": [
       "<Figure size 432x288 with 1 Axes>"
      ]
     },
     "metadata": {
      "needs_background": "light"
     },
     "output_type": "display_data"
    }
   ],
   "source": [
    "age_limits = iqr_fence(df,'vehicle_age')\n",
    "df.hist('vehicle_age');"
   ]
  },
  {
   "cell_type": "markdown",
   "metadata": {},
   "source": [
    "we can see that the age has a very wide range of values with a little spread of values - big outlier.\n",
    "adding range in order to get a better look on the values to determine the size of the outlier."
   ]
  },
  {
   "cell_type": "code",
   "execution_count": 43,
   "metadata": {},
   "outputs": [
    {
     "data": {
      "text/plain": [
       "[0, 23]"
      ]
     },
     "execution_count": 43,
     "metadata": {},
     "output_type": "execute_result"
    },
    {
     "data": {
      "image/png": "[encoded data removed]",
      "text/plain": [
       "<Figure size 432x288 with 1 Axes>"
      ]
     },
     "metadata": {
      "needs_background": "light"
     },
     "output_type": "display_data"
    }
   ],
   "source": [
    "df.hist('vehicle_age',bins=100,range=(24,110));\n",
    "age_limits"
   ]
  },
  {
   "cell_type": "markdown",
   "metadata": {},
   "source": [
    "#### Conclusion:\n",
    "every age above 23, our highest value inside the upper fence - will be considered an outlier."
   ]
  },
  {
   "cell_type": "markdown",
   "metadata": {},
   "source": [
    "calculating mileage limits and plotting mileage initial histogram"
   ]
  },
  {
   "cell_type": "code",
   "execution_count": 44,
   "metadata": {},
   "outputs": [
    {
     "data": {
      "image/png": "[encoded data removed]",
      "text/plain": [
       "<Figure size 432x288 with 1 Axes>"
      ]
     },
     "metadata": {
      "needs_background": "light"
     },
     "output_type": "display_data"
    }
   ],
   "source": [
    "mileage_limits = iqr_fence(df,'odometer')\n",
    "df.hist('odometer');"
   ]
  },
  {
   "cell_type": "markdown",
   "metadata": {},
   "source": [
    "we can see that the mileage has a very wide range of values with a little spread of values - big outlier.\n",
    "adding range in order to get a better look on the values to determine the size of the outlier."
   ]
  },
  {
   "cell_type": "code",
   "execution_count": 45,
   "metadata": {},
   "outputs": [
    {
     "data": {
      "text/plain": [
       "[0, 274700]"
      ]
     },
     "execution_count": 45,
     "metadata": {},
     "output_type": "execute_result"
    },
    {
     "data": {
      "image/png": "[encoded data removed]",
      "text/plain": [
       "<Figure size 432x288 with 1 Axes>"
      ]
     },
     "metadata": {
      "needs_background": "light"
     },
     "output_type": "display_data"
    }
   ],
   "source": [
    "df.hist('odometer',bins=50,range=(274701,1000000));\n",
    "mileage_limits"
   ]
  },
  {
   "cell_type": "markdown",
   "metadata": {},
   "source": [
    "#### Conclusion:\n",
    "mileage above 274700, our highest value inside the upper fence - will be considered an outlier."
   ]
  },
  {
   "cell_type": "markdown",
   "metadata": {},
   "source": [
    "calculating cylinders limits, plotting cylinders initial histogram and checking for the outliers."
   ]
  },
  {
   "cell_type": "code",
   "execution_count": 46,
   "metadata": {},
   "outputs": [
    {
     "data": {
      "text/plain": [
       "[3, 12]"
      ]
     },
     "execution_count": 46,
     "metadata": {},
     "output_type": "execute_result"
    },
    {
     "data": {
      "image/png": "[encoded data removed]",
      "text/plain": [
       "<Figure size 432x288 with 1 Axes>"
      ]
     },
     "metadata": {
      "needs_background": "light"
     },
     "output_type": "display_data"
    }
   ],
   "source": [
    "cylinders_limits = iqr_fence(df,'cylinders')\n",
    "df.hist('cylinders');\n",
    "cylinders_limits"
   ]
  },
  {
   "cell_type": "code",
   "execution_count": 47,
   "metadata": {},
   "outputs": [
    {
     "data": {
      "text/plain": [
       "[3, 12]"
      ]
     },
     "execution_count": 47,
     "metadata": {},
     "output_type": "execute_result"
    },
    {
     "data": {
      "image/png": "[encoded data removed]",
      "text/plain": [
       "<Figure size 432x288 with 1 Axes>"
      ]
     },
     "metadata": {
      "needs_background": "light"
     },
     "output_type": "display_data"
    }
   ],
   "source": [
    "df.hist('cylinders',bins=50);\n",
    "cylinders_limits"
   ]
  },
  {
   "cell_type": "markdown",
   "metadata": {},
   "source": [
    "#### Conclusion:\n",
    "There are no outliers in the cylinders parameter, as all the values remain inside the fences."
   ]
  },
  {
   "cell_type": "markdown",
   "metadata": {},
   "source": [
    "calculating condition limits and plotting condition initial histogram"
   ]
  },
  {
   "cell_type": "code",
   "execution_count": 48,
   "metadata": {},
   "outputs": [
    {
     "data": {
      "text/plain": [
       "[1, 4]"
      ]
     },
     "execution_count": 48,
     "metadata": {},
     "output_type": "execute_result"
    },
    {
     "data": {
      "image/png": "[encoded data removed]",
      "text/plain": [
       "<Figure size 432x288 with 1 Axes>"
      ]
     },
     "metadata": {
      "needs_background": "light"
     },
     "output_type": "display_data"
    }
   ],
   "source": [
    "condition_limits = iqr_fence(df,'condition')\n",
    "df.hist('condition');\n",
    "condition_limits"
   ]
  },
  {
   "cell_type": "code",
   "execution_count": 49,
   "metadata": {},
   "outputs": [
    {
     "data": {
      "image/png": "[encoded data removed]",
      "text/plain": [
       "<Figure size 432x288 with 1 Axes>"
      ]
     },
     "metadata": {
      "needs_background": "light"
     },
     "output_type": "display_data"
    }
   ],
   "source": [
    "df.hist('condition',bins=50);"
   ]
  },
  {
   "cell_type": "markdown",
   "metadata": {},
   "source": [
    "#### Conclusion:\n",
    "Since condition is categorical, the so called outliers here (0,5) won't be removed, \n",
    "since they don't represent numeric value, they represent categories that we need to consider."
   ]
  },
  {
   "cell_type": "markdown",
   "metadata": {},
   "source": [
    "### determine upper limits of outliers, remove outliers and store in different df"
   ]
  },
  {
   "cell_type": "code",
   "execution_count": 50,
   "metadata": {},
   "outputs": [],
   "source": [
    "# using the function iqr_fence with a small change to return the fences, we will get the limits of the outliers.\n",
    "def iqr_fence2(df,column):\n",
    "    Q1 = df[column].quantile(0.25)\n",
    "    Q3 = df[column].quantile(0.75)\n",
    "    IQR = Q3 - Q1\n",
    "    Lower_Fence = Q1 - (1.5 * IQR)\n",
    "    Upper_Fence = Q3 + (1.5 * IQR)\n",
    "    u = max(df[column][df[column]<Upper_Fence])\n",
    "    l = min(df[column][df[column]>Lower_Fence])\n",
    "    return [Lower_Fence,Upper_Fence]"
   ]
  },
  {
   "cell_type": "markdown",
   "metadata": {},
   "source": [
    "parameters limits, no cylinders as we saw there are no outliers, and no condition as its categorical.\n"
   ]
  },
  {
   "cell_type": "code",
   "execution_count": 51,
   "metadata": {},
   "outputs": [
    {
     "name": "stdout",
     "output_type": "stream",
     "text": [
      "Price fences: [-12113.0, 34319.0]\n",
      "age fences: [-8.0, 24.0]\n",
      "mileage fences: [-47453.25, 274856.75]\n"
     ]
    }
   ],
   "source": [
    "print('Price fences: {}'.format(iqr_fence2(df,'price')))\n",
    "print('age fences: {}'.format(iqr_fence2(df,'vehicle_age')))\n",
    "print('mileage fences: {}'.format(iqr_fence2(df,'odometer')))"
   ]
  },
  {
   "cell_type": "markdown",
   "metadata": {},
   "source": [
    "filter price by fences, since we dont have values close to or below the lower fences, it isnt neccesary here.\n",
    "storing price's outliers in a new df called outliers_df."
   ]
  },
  {
   "cell_type": "code",
   "execution_count": 52,
   "metadata": {},
   "outputs": [],
   "source": [
    "outliers_df = df.query('price > 34319 or vehicle_age > 24 or odometer > 274856')"
   ]
  },
  {
   "cell_type": "markdown",
   "metadata": {},
   "source": [
    "removing the outliers from our data and making a filtered df"
   ]
  },
  {
   "cell_type": "code",
   "execution_count": 53,
   "metadata": {},
   "outputs": [],
   "source": [
    "index_names = df[(df['price'] > 34319) | (df['vehicle_age'] > 24) | (df['odometer'] > 274856)].index\n",
    "df_filtered = df.drop(index_names)"
   ]
  },
  {
   "cell_type": "markdown",
   "metadata": {},
   "source": [
    "### new filtered data histograms & comparisons between old & new"
   ]
  },
  {
   "cell_type": "markdown",
   "metadata": {},
   "source": [
    "price filtered histogram and price unfiltered histogram for comparison"
   ]
  },
  {
   "cell_type": "code",
   "execution_count": 54,
   "metadata": {},
   "outputs": [
    {
     "data": {
      "image/png": "[encoded data removed]",
      "text/plain": [
       "<Figure size 432x288 with 1 Axes>"
      ]
     },
     "metadata": {
      "needs_background": "light"
     },
     "output_type": "display_data"
    },
    {
     "data": {
      "image/png": "[encoded data removed]",
      "text/plain": [
       "<Figure size 432x288 with 1 Axes>"
      ]
     },
     "metadata": {
      "needs_background": "light"
     },
     "output_type": "display_data"
    }
   ],
   "source": [
    "df_filtered.hist('price',bins=10);\n",
    "df.hist('price',bins=10);"
   ]
  },
  {
   "cell_type": "markdown",
   "metadata": {},
   "source": [
    "#### price comparison conclusion"
   ]
  },
  {
   "cell_type": "markdown",
   "metadata": {},
   "source": [
    "after plotting the filtered and unfiltered price histograms, we can see the new histogram is more clear, our values's range is more logical, and the spread of the values shows the general trend is - the higher the price - the lower the amount of cars of that price."
   ]
  },
  {
   "cell_type": "markdown",
   "metadata": {},
   "source": [
    "age filtered histogram and age unfiltered histogram for comparison"
   ]
  },
  {
   "cell_type": "code",
   "execution_count": 55,
   "metadata": {
    "scrolled": true
   },
   "outputs": [
    {
     "data": {
      "image/png": "[encoded data removed]",
      "text/plain": [
       "<Figure size 432x288 with 1 Axes>"
      ]
     },
     "metadata": {
      "needs_background": "light"
     },
     "output_type": "display_data"
    }
   ],
   "source": [
    "df_filtered.hist('vehicle_age',bins=10);"
   ]
  },
  {
   "cell_type": "code",
   "execution_count": 56,
   "metadata": {},
   "outputs": [
    {
     "data": {
      "image/png": "[encoded data removed]",
      "text/plain": [
       "<Figure size 432x288 with 1 Axes>"
      ]
     },
     "metadata": {
      "needs_background": "light"
     },
     "output_type": "display_data"
    }
   ],
   "source": [
    "df.hist('vehicle_age',bins=10);"
   ]
  },
  {
   "cell_type": "markdown",
   "metadata": {},
   "source": [
    "#### filtered age conclusion\n",
    "after plotting the filtered and unfiltered age histograms, we can see that old aged cars(15+) are not common, while newer cars are being more common."
   ]
  },
  {
   "cell_type": "markdown",
   "metadata": {},
   "source": [
    "mileage filtered histogram and mileage unfiltered histogram for comparison"
   ]
  },
  {
   "cell_type": "code",
   "execution_count": 57,
   "metadata": {},
   "outputs": [
    {
     "data": {
      "image/png": "[encoded data removed]",
      "text/plain": [
       "<Figure size 432x288 with 1 Axes>"
      ]
     },
     "metadata": {
      "needs_background": "light"
     },
     "output_type": "display_data"
    },
    {
     "data": {
      "image/png": "[encoded data removed]",
      "text/plain": [
       "<Figure size 432x288 with 1 Axes>"
      ]
     },
     "metadata": {
      "needs_background": "light"
     },
     "output_type": "display_data"
    }
   ],
   "source": [
    "df_filtered.hist('odometer',bins=10);\n",
    "df.hist('odometer',bins=10);"
   ]
  },
  {
   "cell_type": "markdown",
   "metadata": {},
   "source": [
    "#### filtered mileage conclusion\n",
    "after plotting the filtered and unfiltered mileage histograms, \n",
    "we conclude that the amount of low mileage cars and very high mileage cars are both fairly low."
   ]
  },
  {
   "cell_type": "markdown",
   "metadata": {},
   "source": [
    "### ad(days_listed) analysis"
   ]
  },
  {
   "cell_type": "code",
   "execution_count": 58,
   "metadata": {},
   "outputs": [
    {
     "data": {
      "text/html": [
       "<div>\n",
       "<style scoped>\n",
       "    .dataframe tbody tr th:only-of-type {\n",
       "        vertical-align: middle;\n",
       "    }\n",
       "\n",
       "    .dataframe tbody tr th {\n",
       "        vertical-align: top;\n",
       "    }\n",
       "\n",
       "    .dataframe thead th {\n",
       "        text-align: right;\n",
       "    }\n",
       "</style>\n",
       "<table border=\"1\" class=\"dataframe\">\n",
       "  <thead>\n",
       "    <tr style=\"text-align: right;\">\n",
       "      <th></th>\n",
       "      <th>price</th>\n",
       "      <th>model_year</th>\n",
       "      <th>condition</th>\n",
       "      <th>cylinders</th>\n",
       "      <th>odometer</th>\n",
       "      <th>days_listed</th>\n",
       "      <th>ad_year</th>\n",
       "      <th>vehicle_age</th>\n",
       "      <th>avg_mileage</th>\n",
       "    </tr>\n",
       "  </thead>\n",
       "  <tbody>\n",
       "    <tr>\n",
       "      <td>count</td>\n",
       "      <td>47752.000000</td>\n",
       "      <td>47752.000000</td>\n",
       "      <td>47752.000000</td>\n",
       "      <td>47752.000000</td>\n",
       "      <td>47752.000000</td>\n",
       "      <td>47752.000000</td>\n",
       "      <td>47752.000000</td>\n",
       "      <td>47752.000000</td>\n",
       "      <td>47752.000000</td>\n",
       "    </tr>\n",
       "    <tr>\n",
       "      <td>mean</td>\n",
       "      <td>11367.127031</td>\n",
       "      <td>2009.953300</td>\n",
       "      <td>2.626906</td>\n",
       "      <td>6.026030</td>\n",
       "      <td>116369.098676</td>\n",
       "      <td>39.558678</td>\n",
       "      <td>2018.306710</td>\n",
       "      <td>8.353409</td>\n",
       "      <td>18087.800281</td>\n",
       "    </tr>\n",
       "    <tr>\n",
       "      <td>std</td>\n",
       "      <td>7719.180370</td>\n",
       "      <td>5.114271</td>\n",
       "      <td>0.702255</td>\n",
       "      <td>1.631214</td>\n",
       "      <td>55571.899482</td>\n",
       "      <td>28.220946</td>\n",
       "      <td>0.461133</td>\n",
       "      <td>5.127059</td>\n",
       "      <td>12644.774968</td>\n",
       "    </tr>\n",
       "    <tr>\n",
       "      <td>min</td>\n",
       "      <td>3.000000</td>\n",
       "      <td>1994.000000</td>\n",
       "      <td>0.000000</td>\n",
       "      <td>3.000000</td>\n",
       "      <td>0.000000</td>\n",
       "      <td>0.000000</td>\n",
       "      <td>2018.000000</td>\n",
       "      <td>0.000000</td>\n",
       "      <td>0.000000</td>\n",
       "    </tr>\n",
       "    <tr>\n",
       "      <td>25%</td>\n",
       "      <td>5200.000000</td>\n",
       "      <td>2007.000000</td>\n",
       "      <td>2.000000</td>\n",
       "      <td>4.000000</td>\n",
       "      <td>76552.000000</td>\n",
       "      <td>19.000000</td>\n",
       "      <td>2018.000000</td>\n",
       "      <td>4.000000</td>\n",
       "      <td>11001.000000</td>\n",
       "    </tr>\n",
       "    <tr>\n",
       "      <td>50%</td>\n",
       "      <td>8999.000000</td>\n",
       "      <td>2011.000000</td>\n",
       "      <td>3.000000</td>\n",
       "      <td>6.000000</td>\n",
       "      <td>117285.500000</td>\n",
       "      <td>33.000000</td>\n",
       "      <td>2018.000000</td>\n",
       "      <td>8.000000</td>\n",
       "      <td>15125.500000</td>\n",
       "    </tr>\n",
       "    <tr>\n",
       "      <td>75%</td>\n",
       "      <td>15995.000000</td>\n",
       "      <td>2014.000000</td>\n",
       "      <td>3.000000</td>\n",
       "      <td>8.000000</td>\n",
       "      <td>153310.500000</td>\n",
       "      <td>53.000000</td>\n",
       "      <td>2019.000000</td>\n",
       "      <td>12.000000</td>\n",
       "      <td>21262.000000</td>\n",
       "    </tr>\n",
       "    <tr>\n",
       "      <td>max</td>\n",
       "      <td>34275.000000</td>\n",
       "      <td>2019.000000</td>\n",
       "      <td>5.000000</td>\n",
       "      <td>12.000000</td>\n",
       "      <td>274700.000000</td>\n",
       "      <td>271.000000</td>\n",
       "      <td>2019.000000</td>\n",
       "      <td>24.000000</td>\n",
       "      <td>195700.000000</td>\n",
       "    </tr>\n",
       "  </tbody>\n",
       "</table>\n",
       "</div>"
      ],
      "text/plain": [
       "              price    model_year     condition     cylinders       odometer  \\\n",
       "count  47752.000000  47752.000000  47752.000000  47752.000000   47752.000000   \n",
       "mean   11367.127031   2009.953300      2.626906      6.026030  116369.098676   \n",
       "std     7719.180370      5.114271      0.702255      1.631214   55571.899482   \n",
       "min        3.000000   1994.000000      0.000000      3.000000       0.000000   \n",
       "25%     5200.000000   2007.000000      2.000000      4.000000   76552.000000   \n",
       "50%     8999.000000   2011.000000      3.000000      6.000000  117285.500000   \n",
       "75%    15995.000000   2014.000000      3.000000      8.000000  153310.500000   \n",
       "max    34275.000000   2019.000000      5.000000     12.000000  274700.000000   \n",
       "\n",
       "        days_listed       ad_year   vehicle_age    avg_mileage  \n",
       "count  47752.000000  47752.000000  47752.000000   47752.000000  \n",
       "mean      39.558678   2018.306710      8.353409   18087.800281  \n",
       "std       28.220946      0.461133      5.127059   12644.774968  \n",
       "min        0.000000   2018.000000      0.000000       0.000000  \n",
       "25%       19.000000   2018.000000      4.000000   11001.000000  \n",
       "50%       33.000000   2018.000000      8.000000   15125.500000  \n",
       "75%       53.000000   2019.000000     12.000000   21262.000000  \n",
       "max      271.000000   2019.000000     24.000000  195700.000000  "
      ]
     },
     "execution_count": 58,
     "metadata": {},
     "output_type": "execute_result"
    }
   ],
   "source": [
    "df_filtered.describe()"
   ]
  },
  {
   "cell_type": "markdown",
   "metadata": {},
   "source": [
    "amount of different days advertisements"
   ]
  },
  {
   "cell_type": "code",
   "execution_count": 59,
   "metadata": {},
   "outputs": [],
   "source": [
    "days_ads = df_filtered['days_listed'].value_counts().count()"
   ]
  },
  {
   "cell_type": "markdown",
   "metadata": {},
   "source": [
    "ads histogram"
   ]
  },
  {
   "cell_type": "code",
   "execution_count": 60,
   "metadata": {},
   "outputs": [
    {
     "data": {
      "image/png": "[encoded data removed]",
      "text/plain": [
       "<Figure size 432x288 with 1 Axes>"
      ]
     },
     "metadata": {
      "needs_background": "light"
     },
     "output_type": "display_data"
    }
   ],
   "source": [
    "df_filtered.hist('days_listed',bins=10);"
   ]
  },
  {
   "cell_type": "markdown",
   "metadata": {},
   "source": [
    "more bins histogram"
   ]
  },
  {
   "cell_type": "code",
   "execution_count": 61,
   "metadata": {},
   "outputs": [
    {
     "data": {
      "image/png": "[encoded data removed]",
      "text/plain": [
       "<Figure size 432x288 with 1 Axes>"
      ]
     },
     "metadata": {
      "needs_background": "light"
     },
     "output_type": "display_data"
    }
   ],
   "source": [
    "df_filtered.hist('days_listed',bins=100);"
   ]
  },
  {
   "cell_type": "markdown",
   "metadata": {},
   "source": [
    "mean, median and mode of ad days listed"
   ]
  },
  {
   "cell_type": "code",
   "execution_count": 62,
   "metadata": {},
   "outputs": [
    {
     "data": {
      "text/plain": [
       "18.0"
      ]
     },
     "execution_count": 62,
     "metadata": {},
     "output_type": "execute_result"
    }
   ],
   "source": [
    "ad_mean = df_filtered['days_listed'].mean()\n",
    "ad_mean\n",
    "ad_median = df_filtered['days_listed'].sort_values().median()\n",
    "ad_median\n",
    "\n",
    "ad_mode = float(df_filtered['days_listed'].mode())\n",
    "ad_mode"
   ]
  },
  {
   "cell_type": "markdown",
   "metadata": {},
   "source": [
    "#### typical lifetime of an ad conclusion\n",
    "After plotting and calculating the mean(39.5), the median(33), and the mode(18) of an ad's lifetime, we can tell the typical ad will last for 18 days, as the mode is the most common value and is referred to the typical value. "
   ]
  },
  {
   "cell_type": "markdown",
   "metadata": {},
   "source": [
    "#### determining quick removal and slow removal of an ad\n"
   ]
  },
  {
   "cell_type": "code",
   "execution_count": 63,
   "metadata": {},
   "outputs": [
    {
     "data": {
      "text/plain": [
       "count    47752.000000\n",
       "mean        39.558678\n",
       "std         28.220946\n",
       "min          0.000000\n",
       "25%         19.000000\n",
       "50%         33.000000\n",
       "75%         53.000000\n",
       "max        271.000000\n",
       "Name: days_listed, dtype: float64"
      ]
     },
     "execution_count": 63,
     "metadata": {},
     "output_type": "execute_result"
    }
   ],
   "source": [
    "df_filtered['days_listed'].describe()"
   ]
  },
  {
   "cell_type": "code",
   "execution_count": 64,
   "metadata": {},
   "outputs": [
    {
     "data": {
      "text/plain": [
       "[-32.0, 104.0]"
      ]
     },
     "execution_count": 64,
     "metadata": {},
     "output_type": "execute_result"
    }
   ],
   "source": [
    "#calculating fences\n",
    "iqr_fence2(df_filtered,'days_listed')"
   ]
  },
  {
   "cell_type": "markdown",
   "metadata": {},
   "source": [
    "#### Conclusion:\n",
    "By looking at the distribution of the data, we can see that 25% of the ads last for 19 days or lower, which will be\n",
    "the the threshold for quick removal (<=19).\n",
    "For the upper threshold - slow removal of an ad, we will use the upper fence - 104 days, which is an abnormally long time for an ad to last considering our data. (>104)"
   ]
  },
  {
   "cell_type": "code",
   "execution_count": 65,
   "metadata": {},
   "outputs": [
    {
     "data": {
      "text/plain": [
       "model\n",
       "acura tl              6510.179487\n",
       "bmw x5               10254.216730\n",
       "buick enclave        11246.732342\n",
       "cadillac escalade    12696.207746\n",
       "chevrolet camaro     13172.890282\n",
       "                         ...     \n",
       "toyota sienna         8778.316456\n",
       "toyota tacoma        15284.853875\n",
       "toyota tundra        14912.960000\n",
       "volkswagen jetta      6493.596491\n",
       "volkswagen passat     8489.017192\n",
       "Name: price, Length: 99, dtype: float64"
      ]
     },
     "execution_count": 65,
     "metadata": {},
     "output_type": "execute_result"
    }
   ],
   "source": [
    "df_filtered.groupby('model')['price'].mean()"
   ]
  },
  {
   "cell_type": "markdown",
   "metadata": {},
   "source": [
    "### number of ads and average price per type analysis"
   ]
  },
  {
   "cell_type": "markdown",
   "metadata": {},
   "source": [
    "calculating ads per model and average price per model"
   ]
  },
  {
   "cell_type": "code",
   "execution_count": 66,
   "metadata": {},
   "outputs": [],
   "source": [
    "model_ads = df_filtered.groupby('model')['days_listed'].count()\n",
    "model_avg_price = df_filtered.groupby('model')['price'].mean()"
   ]
  },
  {
   "cell_type": "markdown",
   "metadata": {},
   "source": [
    "configuring the plot and plotting the dependence of the number of ads on the vehicle type"
   ]
  },
  {
   "cell_type": "code",
   "execution_count": 67,
   "metadata": {},
   "outputs": [
    {
     "data": {
      "image/png": "[encoded data removed]",
      "text/plain": [
       "<Figure size 1152x288 with 1 Axes>"
      ]
     },
     "metadata": {
      "needs_background": "light"
     },
     "output_type": "display_data"
    }
   ],
   "source": [
    "plt.xticks(\n",
    "    rotation=45, \n",
    "    horizontalalignment='right',\n",
    "    fontweight='light',\n",
    "    fontsize=9\n",
    ")\n",
    "model_ads.plot(kind='bar',figsize=(16,4));"
   ]
  },
  {
   "cell_type": "markdown",
   "metadata": {},
   "source": [
    "#### Graph description"
   ]
  },
  {
   "cell_type": "markdown",
   "metadata": {},
   "source": [
    "This graph shows most of the models dont surpass 500 ads, some reach 1000, and out of 100 models only 4 surpassed 1000 ads."
   ]
  },
  {
   "cell_type": "markdown",
   "metadata": {},
   "source": [
    "<div class=\"alert alert-вфтпук\" role=\"alert\">\n",
    "Reviewer's comment v. 1:\n",
    "    \n",
    "Please fix an overlapping of the labels. Please note that as Data Analyst you should describe graphs in details and make a corresponding conclusion.\n",
    "    \n",
    "Please see the following link how graphs can be described: http://explainwell.org/index.php/table-of-contents-handle-numbers/phrases-and-6-analysis-steps-to-interpret-a-graph/ \n",
    "</div>"
   ]
  },
  {
   "cell_type": "markdown",
   "metadata": {},
   "source": [
    "selecting two types with greatest number of ads"
   ]
  },
  {
   "cell_type": "code",
   "execution_count": 68,
   "metadata": {},
   "outputs": [
    {
     "data": {
      "text/plain": [
       "model\n",
       "ford f-150                  2570\n",
       "chevrolet silverado 1500    2040\n",
       "Name: days_listed, dtype: int64"
      ]
     },
     "execution_count": 68,
     "metadata": {},
     "output_type": "execute_result"
    }
   ],
   "source": [
    "top2_ads = df_filtered.groupby('model')['days_listed'].count().sort_values(ascending=False).head(2)\n",
    "top2_ads"
   ]
  },
  {
   "cell_type": "code",
   "execution_count": 69,
   "metadata": {},
   "outputs": [
    {
     "data": {
      "text/plain": [
       "['ford f-150', 'chevrolet silverado 1500']"
      ]
     },
     "execution_count": 69,
     "metadata": {},
     "output_type": "execute_result"
    }
   ],
   "source": [
    "#storing the model names in another variable\n",
    "top2_ads_types = ['ford f-150', 'chevrolet silverado 1500']\n",
    "top2_ads_types"
   ]
  },
  {
   "cell_type": "markdown",
   "metadata": {},
   "source": [
    "#### Conclusion\n",
    "The top 2 model types are ford f-150 with 2570 ads, and chevrolet silverado 1500 with 2040 ads."
   ]
  },
  {
   "cell_type": "markdown",
   "metadata": {},
   "source": [
    "### Price factors analysis"
   ]
  },
  {
   "cell_type": "markdown",
   "metadata": {},
   "source": [
    "checking age,mileage and condition's impact on the price for the top 2 models from the previous stage and plotting price by age distribution"
   ]
  },
  {
   "cell_type": "code",
   "execution_count": 70,
   "metadata": {},
   "outputs": [
    {
     "data": {
      "image/png": "[encoded data removed]",
      "text/plain": [
       "<Figure size 432x288 with 1 Axes>"
      ]
     },
     "metadata": {
      "needs_background": "light"
     },
     "output_type": "display_data"
    }
   ],
   "source": [
    "top2 = df_filtered.query('model == \"ford f-150\" or model == \"chevrolet silverado 1500\"')\n",
    "top2.plot(kind='scatter', x='vehicle_age', y='price');"
   ]
  },
  {
   "cell_type": "markdown",
   "metadata": {},
   "source": [
    "#### Description:\n",
    "This graph shows the age has an impact on the price.\n",
    "generally ,the lower the age - the higher the price ,and the higher the age - the lower the price."
   ]
  },
  {
   "cell_type": "markdown",
   "metadata": {},
   "source": [
    "plotting price by mileage distribution"
   ]
  },
  {
   "cell_type": "code",
   "execution_count": 71,
   "metadata": {},
   "outputs": [
    {
     "data": {
      "image/png": "[encoded data removed]",
      "text/plain": [
       "<Figure size 432x288 with 1 Axes>"
      ]
     },
     "metadata": {
      "needs_background": "light"
     },
     "output_type": "display_data"
    }
   ],
   "source": [
    "top2.plot(kind='scatter', x='odometer', y='price');"
   ]
  },
  {
   "cell_type": "markdown",
   "metadata": {},
   "source": [
    "#### Description:\n",
    "This graph shows the trend in the plot: more mileage leads to lower price, while lower mileage usually leads to higher price."
   ]
  },
  {
   "cell_type": "markdown",
   "metadata": {},
   "source": [
    "plotting price by condition"
   ]
  },
  {
   "cell_type": "code",
   "execution_count": 72,
   "metadata": {},
   "outputs": [
    {
     "data": {
      "image/png": "[encoded data removed]",
      "text/plain": [
       "<Figure size 432x288 with 1 Axes>"
      ]
     },
     "metadata": {
      "needs_background": "light"
     },
     "output_type": "display_data"
    }
   ],
   "source": [
    "top2.plot(kind='scatter', x='condition', y='price');"
   ]
  },
  {
   "cell_type": "markdown",
   "metadata": {},
   "source": [
    "#### Description:\n",
    "This graph shows that there are no bad conditioned cars (0,1) that reaches high prices,\n",
    "and that shows the impact of the condition on the price."
   ]
  },
  {
   "cell_type": "markdown",
   "metadata": {},
   "source": [
    "analaysing price by transmission type"
   ]
  },
  {
   "cell_type": "markdown",
   "metadata": {},
   "source": [
    "veryfing the categories has more than 50 ads and is valid for analysis\n"
   ]
  },
  {
   "cell_type": "code",
   "execution_count": 73,
   "metadata": {},
   "outputs": [
    {
     "data": {
      "text/plain": [
       "transmission\n",
       "automatic    4520\n",
       "manual         77\n",
       "other          13\n",
       "Name: days_listed, dtype: int64"
      ]
     },
     "execution_count": 73,
     "metadata": {},
     "output_type": "execute_result"
    }
   ],
   "source": [
    "top2.groupby('transmission')['days_listed'].count()"
   ]
  },
  {
   "cell_type": "markdown",
   "metadata": {},
   "source": [
    "the 'other' category doesnt reach 50 ads and is not valid for analysis"
   ]
  },
  {
   "cell_type": "markdown",
   "metadata": {},
   "source": [
    "slicing only the valid categories and box plotting price by transmission type"
   ]
  },
  {
   "cell_type": "code",
   "execution_count": 74,
   "metadata": {},
   "outputs": [
    {
     "data": {
      "image/png": "[encoded data removed]",
      "text/plain": [
       "<Figure size 432x288 with 1 Axes>"
      ]
     },
     "metadata": {
      "needs_background": "light"
     },
     "output_type": "display_data"
    }
   ],
   "source": [
    "trans_valid = top2.query('transmission == \"automatic\" or transmission == \"manual\"')\n",
    "trans_valid.boxplot(by ='transmission', column =['price'], grid = True);"
   ]
  },
  {
   "cell_type": "markdown",
   "metadata": {},
   "source": [
    "#### Description:\n",
    "The box plots show that the manual transmission cars have alot of upper outliers,\n",
    "some of those cars have a high price - the assumption is those are rare cars that has a lot of value.\n",
    "On the other hand, the autommatic type has no outliers and it's price is fairly balanced."
   ]
  },
  {
   "cell_type": "markdown",
   "metadata": {},
   "source": [
    "analaysing price by color"
   ]
  },
  {
   "cell_type": "markdown",
   "metadata": {},
   "source": [
    "veryfing the categories has more than 50 ads and is valid for analysis"
   ]
  },
  {
   "cell_type": "code",
   "execution_count": 75,
   "metadata": {},
   "outputs": [
    {
     "data": {
      "text/plain": [
       "paint_color\n",
       "orange           3\n",
       "purple           4\n",
       "yellow           9\n",
       "brown           98\n",
       "custom         106\n",
       "green          109\n",
       "blue           363\n",
       "grey           373\n",
       "silver         390\n",
       "red            512\n",
       "black          645\n",
       "not_listed     808\n",
       "white         1190\n",
       "Name: days_listed, dtype: int64"
      ]
     },
     "execution_count": 75,
     "metadata": {},
     "output_type": "execute_result"
    }
   ],
   "source": [
    "top2.groupby('paint_color')['days_listed'].count().sort_values()"
   ]
  },
  {
   "cell_type": "markdown",
   "metadata": {},
   "source": [
    "#### Conclusion:\n",
    "orange, purple and yellow have less than 50 ads and are not valid for analysis.\n",
    "slicing away the invalid colors and box plotting the valid ones."
   ]
  },
  {
   "cell_type": "code",
   "execution_count": 77,
   "metadata": {},
   "outputs": [
    {
     "data": {
      "text/html": [
       "<div>\n",
       "<style scoped>\n",
       "    .dataframe tbody tr th:only-of-type {\n",
       "        vertical-align: middle;\n",
       "    }\n",
       "\n",
       "    .dataframe tbody tr th {\n",
       "        vertical-align: top;\n",
       "    }\n",
       "\n",
       "    .dataframe thead th {\n",
       "        text-align: right;\n",
       "    }\n",
       "</style>\n",
       "<table border=\"1\" class=\"dataframe\">\n",
       "  <thead>\n",
       "    <tr style=\"text-align: right;\">\n",
       "      <th></th>\n",
       "      <th>price</th>\n",
       "      <th>model_year</th>\n",
       "      <th>model</th>\n",
       "      <th>condition</th>\n",
       "      <th>cylinders</th>\n",
       "      <th>fuel</th>\n",
       "      <th>odometer</th>\n",
       "      <th>transmission</th>\n",
       "      <th>type</th>\n",
       "      <th>paint_color</th>\n",
       "      <th>is_4wd</th>\n",
       "      <th>date_posted</th>\n",
       "      <th>days_listed</th>\n",
       "      <th>price_category</th>\n",
       "      <th>model_years_cat</th>\n",
       "      <th>ad_week_day</th>\n",
       "      <th>ad_month</th>\n",
       "      <th>ad_year</th>\n",
       "      <th>vehicle_age</th>\n",
       "      <th>avg_mileage</th>\n",
       "    </tr>\n",
       "  </thead>\n",
       "  <tbody>\n",
       "    <tr>\n",
       "      <td>1</td>\n",
       "      <td>25500</td>\n",
       "      <td>2014</td>\n",
       "      <td>ford f-150</td>\n",
       "      <td>2</td>\n",
       "      <td>6</td>\n",
       "      <td>gas</td>\n",
       "      <td>88705</td>\n",
       "      <td>automatic</td>\n",
       "      <td>pickup</td>\n",
       "      <td>white</td>\n",
       "      <td>True</td>\n",
       "      <td>2018-10-19</td>\n",
       "      <td>50</td>\n",
       "      <td>high</td>\n",
       "      <td>semi new</td>\n",
       "      <td>Friday</td>\n",
       "      <td>October</td>\n",
       "      <td>2018</td>\n",
       "      <td>4</td>\n",
       "      <td>22176</td>\n",
       "    </tr>\n",
       "    <tr>\n",
       "      <td>3</td>\n",
       "      <td>1500</td>\n",
       "      <td>2003</td>\n",
       "      <td>ford f-150</td>\n",
       "      <td>1</td>\n",
       "      <td>8</td>\n",
       "      <td>gas</td>\n",
       "      <td>163331</td>\n",
       "      <td>automatic</td>\n",
       "      <td>pickup</td>\n",
       "      <td>not_listed</td>\n",
       "      <td>False</td>\n",
       "      <td>2019-03-22</td>\n",
       "      <td>9</td>\n",
       "      <td>low</td>\n",
       "      <td>old</td>\n",
       "      <td>Friday</td>\n",
       "      <td>March</td>\n",
       "      <td>2019</td>\n",
       "      <td>16</td>\n",
       "      <td>10208</td>\n",
       "    </tr>\n",
       "    <tr>\n",
       "      <td>10</td>\n",
       "      <td>19500</td>\n",
       "      <td>2011</td>\n",
       "      <td>chevrolet silverado 1500</td>\n",
       "      <td>3</td>\n",
       "      <td>8</td>\n",
       "      <td>gas</td>\n",
       "      <td>128413</td>\n",
       "      <td>automatic</td>\n",
       "      <td>pickup</td>\n",
       "      <td>black</td>\n",
       "      <td>True</td>\n",
       "      <td>2018-09-17</td>\n",
       "      <td>38</td>\n",
       "      <td>high</td>\n",
       "      <td>semi old</td>\n",
       "      <td>Monday</td>\n",
       "      <td>September</td>\n",
       "      <td>2018</td>\n",
       "      <td>7</td>\n",
       "      <td>18344</td>\n",
       "    </tr>\n",
       "    <tr>\n",
       "      <td>39</td>\n",
       "      <td>8000</td>\n",
       "      <td>2009</td>\n",
       "      <td>ford f-150</td>\n",
       "      <td>2</td>\n",
       "      <td>8</td>\n",
       "      <td>gas</td>\n",
       "      <td>234000</td>\n",
       "      <td>automatic</td>\n",
       "      <td>truck</td>\n",
       "      <td>black</td>\n",
       "      <td>True</td>\n",
       "      <td>2019-03-31</td>\n",
       "      <td>1</td>\n",
       "      <td>below_average</td>\n",
       "      <td>semi old</td>\n",
       "      <td>Sunday</td>\n",
       "      <td>March</td>\n",
       "      <td>2019</td>\n",
       "      <td>10</td>\n",
       "      <td>23400</td>\n",
       "    </tr>\n",
       "    <tr>\n",
       "      <td>50</td>\n",
       "      <td>6200</td>\n",
       "      <td>2006</td>\n",
       "      <td>ford f-150</td>\n",
       "      <td>3</td>\n",
       "      <td>6</td>\n",
       "      <td>gas</td>\n",
       "      <td>69698</td>\n",
       "      <td>automatic</td>\n",
       "      <td>truck</td>\n",
       "      <td>custom</td>\n",
       "      <td>False</td>\n",
       "      <td>2018-05-03</td>\n",
       "      <td>50</td>\n",
       "      <td>below_average</td>\n",
       "      <td>old</td>\n",
       "      <td>Thursday</td>\n",
       "      <td>May</td>\n",
       "      <td>2018</td>\n",
       "      <td>12</td>\n",
       "      <td>5808</td>\n",
       "    </tr>\n",
       "  </tbody>\n",
       "</table>\n",
       "</div>"
      ],
      "text/plain": [
       "    price  model_year                     model  condition  cylinders fuel  \\\n",
       "1   25500        2014                ford f-150          2          6  gas   \n",
       "3    1500        2003                ford f-150          1          8  gas   \n",
       "10  19500        2011  chevrolet silverado 1500          3          8  gas   \n",
       "39   8000        2009                ford f-150          2          8  gas   \n",
       "50   6200        2006                ford f-150          3          6  gas   \n",
       "\n",
       "    odometer transmission    type paint_color  is_4wd date_posted  \\\n",
       "1      88705    automatic  pickup       white    True  2018-10-19   \n",
       "3     163331    automatic  pickup  not_listed   False  2019-03-22   \n",
       "10    128413    automatic  pickup       black    True  2018-09-17   \n",
       "39    234000    automatic   truck       black    True  2019-03-31   \n",
       "50     69698    automatic   truck      custom   False  2018-05-03   \n",
       "\n",
       "    days_listed price_category model_years_cat ad_week_day   ad_month  \\\n",
       "1            50           high        semi new      Friday    October   \n",
       "3             9            low             old      Friday      March   \n",
       "10           38           high        semi old      Monday  September   \n",
       "39            1  below_average        semi old      Sunday      March   \n",
       "50           50  below_average             old    Thursday        May   \n",
       "\n",
       "    ad_year  vehicle_age  avg_mileage  \n",
       "1      2018            4        22176  \n",
       "3      2019           16        10208  \n",
       "10     2018            7        18344  \n",
       "39     2019           10        23400  \n",
       "50     2018           12         5808  "
      ]
     },
     "execution_count": 77,
     "metadata": {},
     "output_type": "execute_result"
    }
   ],
   "source": [
    "color_valid.head()"
   ]
  },
  {
   "cell_type": "code",
   "execution_count": 76,
   "metadata": {},
   "outputs": [
    {
     "data": {
      "image/png": "[encoded data removed]",
      "text/plain": [
       "<Figure size 432x288 with 1 Axes>"
      ]
     },
     "metadata": {
      "needs_background": "light"
     },
     "output_type": "display_data"
    }
   ],
   "source": [
    "color_valid = top2[~top2['paint_color'].isin(['orange', 'purple','yellow'])]\n",
    "color_valid.boxplot(by ='paint_color', column =['price'], grid = True);"
   ]
  },
  {
   "cell_type": "markdown",
   "metadata": {},
   "source": [
    "#### Description:\n",
    "The box plots show that most colors have their prices pretty similiar to each other,\n",
    "but we can also see that custom color has upper outliers which means cars with custom colors cost more, which makes sense.\n",
    "the green color also has an upper outlier and rarely surpasses the upper fence."
   ]
  },
  {
   "cell_type": "markdown",
   "metadata": {},
   "source": [
    "## Overall conclusion"
   ]
  },
  {
   "cell_type": "markdown",
   "metadata": {},
   "source": [
    "\n",
    "To summarize, we concluded many conclusions regarding different aspects of the data:\n",
    "- In the data's preparation & processing stage:\n",
    "1. we discovered 5 columns with missing values that had to be dealt with in order to continue the process.\n",
    "2. 5 columns's datatypes have been changed.\n",
    "3. rows with price value of 1 got removed (1.5% of the data).\n",
    "4. 5 new columns were added in order to have more insights.\n",
    "\n",
    "\n",
    "- In the exploratory data analysis stage:\n",
    "1. We discovered and removed outliers for the price, car's age, and mileage for further analysis.\n",
    "2. Strong correlations between the price, car's age and mileage - to the amount of cars have been found.\n",
    "  - the higher the price, the lower amount of cars.\n",
    "  - the higher the age - the lower amount of cars.\n",
    "  - low amount of cars have a very low mileage or a  very high mileage.\n",
    "3. the typical ad lasts for 18 days.\n",
    "  - quick removal of an ad means lasting for 19 days or less.\n",
    "  - slow removal of an ad means lasting for more than 104 days.\n",
    "4. most of the models dont have more than 500 ads.\n",
    "5. the top 2 models by ads number are ford f-150 with 2570 ads, and chevrolet silverado 1500 with 2040 ads.\n",
    "6. the lower the age of the car - the higher the price.\n",
    "7. more mileage leads to lower price.\n",
    "8. there are many manual tranmission type cars that exceeds the expected price and are priced very highely.\n",
    "9. custom colored cars are also being sold at very high prices occasionally."
   ]
  },
  {
   "cell_type": "code",
   "execution_count": null,
   "metadata": {},
   "outputs": [],
   "source": []
  }
 ],
 "metadata": {
  "ExecuteTimeLog": [
   {
    "duration": 1247,
    "start_time": "2021-06-23T10:52:33.835Z"
   },
   {
    "duration": 26,
    "start_time": "2021-06-23T10:57:10.020Z"
   },
   {
    "duration": 53,
    "start_time": "2021-06-23T10:58:20.067Z"
   },
   {
    "duration": 25,
    "start_time": "2021-06-23T11:06:37.257Z"
   },
   {
    "duration": 30,
    "start_time": "2021-06-23T11:07:18.226Z"
   },
   {
    "duration": 24,
    "start_time": "2021-06-23T11:09:36.606Z"
   },
   {
    "duration": 53,
    "start_time": "2021-06-23T11:10:43.919Z"
   },
   {
    "duration": 448,
    "start_time": "2021-06-23T11:23:37.737Z"
   },
   {
    "duration": 6,
    "start_time": "2021-06-23T11:23:48.264Z"
   },
   {
    "duration": 24,
    "start_time": "2021-06-23T11:32:08.917Z"
   },
   {
    "duration": 91,
    "start_time": "2021-06-23T11:32:51.344Z"
   },
   {
    "duration": 22,
    "start_time": "2021-06-23T11:33:27.760Z"
   },
   {
    "duration": 95,
    "start_time": "2021-06-23T11:33:32.657Z"
   },
   {
    "duration": 53,
    "start_time": "2021-06-23T11:33:38.241Z"
   },
   {
    "duration": 304,
    "start_time": "2021-06-23T11:48:40.402Z"
   },
   {
    "duration": 4434,
    "start_time": "2021-06-23T11:48:41.293Z"
   },
   {
    "duration": 7,
    "start_time": "2021-06-23T11:48:54.221Z"
   },
   {
    "duration": 27,
    "start_time": "2021-06-23T11:49:01.884Z"
   },
   {
    "duration": 27,
    "start_time": "2021-06-24T08:18:59.852Z"
   },
   {
    "duration": 387,
    "start_time": "2021-06-24T08:26:09.756Z"
   },
   {
    "duration": 20,
    "start_time": "2021-06-24T08:27:36.247Z"
   },
   {
    "duration": 1391,
    "start_time": "2021-06-24T08:28:59.901Z"
   },
   {
    "duration": 21,
    "start_time": "2021-06-24T08:31:35.339Z"
   },
   {
    "duration": 348,
    "start_time": "2021-06-24T08:33:18.622Z"
   },
   {
    "duration": 69,
    "start_time": "2021-06-24T08:33:23.467Z"
   },
   {
    "duration": 80,
    "start_time": "2021-06-24T08:33:27.435Z"
   },
   {
    "duration": 74,
    "start_time": "2021-06-24T08:33:35.819Z"
   },
   {
    "duration": 89,
    "start_time": "2021-06-24T08:34:20.829Z"
   },
   {
    "duration": 348,
    "start_time": "2021-06-24T08:34:36.973Z"
   },
   {
    "duration": 37,
    "start_time": "2021-06-24T08:34:41.324Z"
   },
   {
    "duration": 40,
    "start_time": "2021-06-24T08:37:38.239Z"
   },
   {
    "duration": 28,
    "start_time": "2021-06-24T08:37:41.071Z"
   },
   {
    "duration": 15,
    "start_time": "2021-06-24T08:37:55.743Z"
   },
   {
    "duration": 40,
    "start_time": "2021-06-24T08:50:31.926Z"
   },
   {
    "duration": 38,
    "start_time": "2021-06-24T08:50:59.308Z"
   },
   {
    "duration": 68,
    "start_time": "2021-06-24T09:23:54.911Z"
   },
   {
    "duration": 87,
    "start_time": "2021-06-24T09:23:58.180Z"
   },
   {
    "duration": 106,
    "start_time": "2021-06-24T09:26:25.417Z"
   },
   {
    "duration": 427,
    "start_time": "2021-06-24T09:26:41.353Z"
   },
   {
    "duration": 108,
    "start_time": "2021-06-24T09:26:46.792Z"
   },
   {
    "duration": 94,
    "start_time": "2021-06-24T09:27:09.384Z"
   },
   {
    "duration": 402,
    "start_time": "2021-06-24T09:36:54.862Z"
   },
   {
    "duration": 3014,
    "start_time": "2021-06-24T09:50:09.022Z"
   },
   {
    "duration": 90,
    "start_time": "2021-06-24T09:55:25.017Z"
   },
   {
    "duration": 235,
    "start_time": "2021-06-24T09:56:46.115Z"
   },
   {
    "duration": 247,
    "start_time": "2021-06-24T09:57:00.229Z"
   },
   {
    "duration": 24,
    "start_time": "2021-06-24T09:57:15.985Z"
   },
   {
    "duration": 22,
    "start_time": "2021-06-24T09:57:20.561Z"
   },
   {
    "duration": 9,
    "start_time": "2021-06-24T09:59:48.150Z"
   },
   {
    "duration": 353,
    "start_time": "2021-06-24T11:29:33.372Z"
   },
   {
    "duration": 6,
    "start_time": "2021-06-24T11:29:49.088Z"
   },
   {
    "duration": 6,
    "start_time": "2021-06-24T11:29:52.079Z"
   },
   {
    "duration": 25,
    "start_time": "2021-06-24T11:30:12.592Z"
   },
   {
    "duration": 45,
    "start_time": "2021-06-24T11:31:16.808Z"
   },
   {
    "duration": 60,
    "start_time": "2021-06-24T11:32:43.048Z"
   },
   {
    "duration": 9,
    "start_time": "2021-06-24T11:41:54.281Z"
   },
   {
    "duration": 26,
    "start_time": "2021-06-24T11:42:07.338Z"
   },
   {
    "duration": 27,
    "start_time": "2021-06-24T11:43:42.866Z"
   },
   {
    "duration": 32,
    "start_time": "2021-06-24T11:44:18.701Z"
   },
   {
    "duration": 31,
    "start_time": "2021-06-24T11:46:05.232Z"
   },
   {
    "duration": 27,
    "start_time": "2021-06-24T11:49:59.698Z"
   },
   {
    "duration": 26,
    "start_time": "2021-06-24T11:50:36.451Z"
   },
   {
    "duration": 23,
    "start_time": "2021-06-24T11:50:41.683Z"
   },
   {
    "duration": 239,
    "start_time": "2021-06-24T11:51:05.699Z"
   },
   {
    "duration": 35,
    "start_time": "2021-06-24T11:51:08.755Z"
   },
   {
    "duration": 3,
    "start_time": "2021-06-24T11:52:58.551Z"
   },
   {
    "duration": 34,
    "start_time": "2021-06-24T12:48:54.845Z"
   },
   {
    "duration": 36,
    "start_time": "2021-06-24T12:49:04.356Z"
   },
   {
    "duration": 50,
    "start_time": "2021-06-24T12:49:30.101Z"
   },
   {
    "duration": 361,
    "start_time": "2021-06-24T12:49:49.654Z"
   },
   {
    "duration": 32,
    "start_time": "2021-06-24T12:50:02.854Z"
   },
   {
    "duration": 878,
    "start_time": "2021-06-24T12:51:39.299Z"
   },
   {
    "duration": 613,
    "start_time": "2021-06-24T12:52:13.174Z"
   },
   {
    "duration": 26,
    "start_time": "2021-06-24T12:52:21.222Z"
   },
   {
    "duration": 369,
    "start_time": "2021-06-24T13:01:24.661Z"
   },
   {
    "duration": 23,
    "start_time": "2021-06-24T13:01:43.871Z"
   },
   {
    "duration": 26,
    "start_time": "2021-06-24T13:01:56.319Z"
   },
   {
    "duration": 25,
    "start_time": "2021-06-24T13:02:05.390Z"
   },
   {
    "duration": 116,
    "start_time": "2021-06-24T13:21:38.797Z"
   },
   {
    "duration": 612,
    "start_time": "2021-06-24T13:21:42.591Z"
   },
   {
    "duration": 7,
    "start_time": "2021-06-24T13:21:50.967Z"
   },
   {
    "duration": 23,
    "start_time": "2021-06-24T13:22:03.041Z"
   },
   {
    "duration": 6,
    "start_time": "2021-06-24T13:34:05.925Z"
   },
   {
    "duration": 25,
    "start_time": "2021-06-24T13:34:08.985Z"
   },
   {
    "duration": 8,
    "start_time": "2021-06-24T13:34:15.881Z"
   },
   {
    "duration": 29,
    "start_time": "2021-06-24T13:34:28.907Z"
   },
   {
    "duration": 756,
    "start_time": "2021-06-24T13:36:03.715Z"
   },
   {
    "duration": 375,
    "start_time": "2021-06-24T13:40:09.324Z"
   },
   {
    "duration": 11,
    "start_time": "2021-06-24T13:40:40.870Z"
   },
   {
    "duration": 21,
    "start_time": "2021-06-24T13:40:44.960Z"
   },
   {
    "duration": 621,
    "start_time": "2021-06-24T13:50:39.142Z"
   },
   {
    "duration": 6,
    "start_time": "2021-06-24T13:51:01.022Z"
   },
   {
    "duration": 31,
    "start_time": "2021-06-24T13:51:14.936Z"
   },
   {
    "duration": 1367,
    "start_time": "2021-06-24T13:52:27.835Z"
   },
   {
    "duration": 667,
    "start_time": "2021-06-24T13:57:54.870Z"
   },
   {
    "duration": 56,
    "start_time": "2021-06-24T13:59:36.034Z"
   },
   {
    "duration": 683,
    "start_time": "2021-06-24T14:00:54.662Z"
   },
   {
    "duration": 34,
    "start_time": "2021-06-24T14:09:31.321Z"
   },
   {
    "duration": 722,
    "start_time": "2021-06-24T14:21:37.887Z"
   },
   {
    "duration": 640,
    "start_time": "2021-06-24T14:21:58.834Z"
   },
   {
    "duration": 819,
    "start_time": "2021-06-24T14:23:00.869Z"
   },
   {
    "duration": 468,
    "start_time": "2021-06-24T14:23:27.045Z"
   },
   {
    "duration": 55,
    "start_time": "2021-06-24T14:25:46.245Z"
   },
   {
    "duration": 27,
    "start_time": "2021-06-24T14:25:54.330Z"
   },
   {
    "duration": 758,
    "start_time": "2021-06-24T14:26:42.168Z"
   },
   {
    "duration": 183,
    "start_time": "2021-06-24T14:27:24.667Z"
   },
   {
    "duration": 6,
    "start_time": "2021-06-24T14:28:21.772Z"
   },
   {
    "duration": 6,
    "start_time": "2021-06-24T14:28:45.065Z"
   },
   {
    "duration": 7,
    "start_time": "2021-06-24T14:29:06.651Z"
   },
   {
    "duration": 5,
    "start_time": "2021-06-24T14:29:17.435Z"
   },
   {
    "duration": 7,
    "start_time": "2021-06-24T14:29:40.447Z"
   },
   {
    "duration": 30,
    "start_time": "2021-06-24T14:29:51.867Z"
   },
   {
    "duration": 26,
    "start_time": "2021-06-24T14:30:51.371Z"
   },
   {
    "duration": 26,
    "start_time": "2021-06-24T14:30:56.125Z"
   },
   {
    "duration": 25,
    "start_time": "2021-06-24T14:31:01.019Z"
   },
   {
    "duration": 25,
    "start_time": "2021-06-24T14:31:02.779Z"
   },
   {
    "duration": 30,
    "start_time": "2021-06-24T14:31:14.973Z"
   },
   {
    "duration": 616,
    "start_time": "2021-06-24T14:32:01.245Z"
   },
   {
    "duration": 834,
    "start_time": "2021-06-24T14:34:01.791Z"
   },
   {
    "duration": 54,
    "start_time": "2021-06-24T14:34:22.607Z"
   },
   {
    "duration": 234,
    "start_time": "2021-06-24T14:37:12.263Z"
   },
   {
    "duration": 174,
    "start_time": "2021-06-24T14:37:19.313Z"
   },
   {
    "duration": 186,
    "start_time": "2021-06-24T14:37:22.353Z"
   },
   {
    "duration": 195,
    "start_time": "2021-06-24T14:37:38.097Z"
   },
   {
    "duration": 591,
    "start_time": "2021-06-24T14:38:46.179Z"
   },
   {
    "duration": 522,
    "start_time": "2021-06-24T14:39:07.395Z"
   },
   {
    "duration": 445,
    "start_time": "2021-06-24T14:40:43.365Z"
   },
   {
    "duration": 439,
    "start_time": "2021-06-24T14:40:49.301Z"
   },
   {
    "duration": 24,
    "start_time": "2021-06-24T14:42:21.123Z"
   },
   {
    "duration": 53,
    "start_time": "2021-06-24T14:43:07.845Z"
   },
   {
    "duration": 832,
    "start_time": "2021-06-24T14:44:22.087Z"
   },
   {
    "duration": 449,
    "start_time": "2021-06-24T14:44:41.925Z"
   },
   {
    "duration": 445,
    "start_time": "2021-06-24T14:45:38.055Z"
   },
   {
    "duration": 465,
    "start_time": "2021-06-24T14:46:25.881Z"
   },
   {
    "duration": 478,
    "start_time": "2021-06-24T14:55:27.522Z"
   },
   {
    "duration": 126,
    "start_time": "2021-06-24T14:56:10.222Z"
   },
   {
    "duration": 45,
    "start_time": "2021-06-24T14:56:17.312Z"
   },
   {
    "duration": 365,
    "start_time": "2021-06-24T14:56:34.598Z"
   },
   {
    "duration": 13,
    "start_time": "2021-06-24T14:56:48.448Z"
   },
   {
    "duration": 327,
    "start_time": "2021-06-24T14:56:59.631Z"
   },
   {
    "duration": 348,
    "start_time": "2021-06-24T14:57:16.640Z"
   },
   {
    "duration": 46,
    "start_time": "2021-06-24T14:57:22.800Z"
   },
   {
    "duration": 11,
    "start_time": "2021-06-24T14:58:24.722Z"
   },
   {
    "duration": 47,
    "start_time": "2021-06-24T14:58:30.240Z"
   },
   {
    "duration": 12,
    "start_time": "2021-06-24T14:58:35.488Z"
   },
   {
    "duration": 49,
    "start_time": "2021-06-24T14:58:40.610Z"
   },
   {
    "duration": 9,
    "start_time": "2021-06-24T14:59:30.626Z"
   },
   {
    "duration": 8,
    "start_time": "2021-06-24T14:59:52.482Z"
   },
   {
    "duration": 8,
    "start_time": "2021-06-24T15:00:16.722Z"
   },
   {
    "duration": 470,
    "start_time": "2021-06-24T15:00:41.508Z"
   },
   {
    "duration": 48,
    "start_time": "2021-06-24T15:05:56.644Z"
   },
   {
    "duration": 39,
    "start_time": "2021-06-24T15:06:03.910Z"
   },
   {
    "duration": 740,
    "start_time": "2021-06-24T15:07:05.418Z"
   },
   {
    "duration": 28,
    "start_time": "2021-06-24T15:07:23.496Z"
   },
   {
    "duration": 56,
    "start_time": "2021-06-24T15:07:34.328Z"
   },
   {
    "duration": 466,
    "start_time": "2021-06-24T15:10:40.986Z"
   },
   {
    "duration": 479,
    "start_time": "2021-06-24T15:12:36.830Z"
   },
   {
    "duration": 636,
    "start_time": "2021-06-24T15:13:00.384Z"
   },
   {
    "duration": 497,
    "start_time": "2021-06-24T15:14:10.258Z"
   },
   {
    "duration": 179,
    "start_time": "2021-06-24T15:14:26.722Z"
   },
   {
    "duration": 120,
    "start_time": "2021-06-24T15:26:41.693Z"
   },
   {
    "duration": 941,
    "start_time": "2021-06-24T15:26:44.474Z"
   },
   {
    "duration": 957,
    "start_time": "2021-06-24T15:26:56.538Z"
   },
   {
    "duration": 718,
    "start_time": "2021-06-24T15:27:04.986Z"
   },
   {
    "duration": 625,
    "start_time": "2021-06-24T20:17:37.399Z"
   },
   {
    "duration": 54,
    "start_time": "2021-06-24T20:31:14.035Z"
   },
   {
    "duration": 8244,
    "start_time": "2021-06-24T20:34:20.972Z"
   },
   {
    "duration": 187,
    "start_time": "2021-06-24T20:34:47.696Z"
   },
   {
    "duration": 24,
    "start_time": "2021-06-24T20:34:59.341Z"
   },
   {
    "duration": 628,
    "start_time": "2021-06-24T20:37:45.696Z"
   },
   {
    "duration": 13,
    "start_time": "2021-06-24T20:38:24.962Z"
   },
   {
    "duration": 37,
    "start_time": "2021-06-24T20:38:33.458Z"
   },
   {
    "duration": 611,
    "start_time": "2021-06-24T20:41:19.670Z"
   },
   {
    "duration": 7,
    "start_time": "2021-06-24T20:41:33.387Z"
   },
   {
    "duration": 619,
    "start_time": "2021-06-24T21:42:55.569Z"
   },
   {
    "duration": 23,
    "start_time": "2021-06-25T07:57:12.184Z"
   },
   {
    "duration": 10,
    "start_time": "2021-06-25T07:57:54.569Z"
   },
   {
    "duration": 49,
    "start_time": "2021-06-25T07:58:00.194Z"
   },
   {
    "duration": 16,
    "start_time": "2021-06-25T07:58:31.714Z"
   },
   {
    "duration": 58,
    "start_time": "2021-06-25T07:58:57.138Z"
   },
   {
    "duration": 7,
    "start_time": "2021-06-25T07:59:45.524Z"
   },
   {
    "duration": 53,
    "start_time": "2021-06-25T07:59:54.098Z"
   },
   {
    "duration": 24,
    "start_time": "2021-06-25T08:00:44.084Z"
   },
   {
    "duration": 30,
    "start_time": "2021-06-25T08:12:27.876Z"
   },
   {
    "duration": 29,
    "start_time": "2021-06-25T08:12:47.538Z"
   },
   {
    "duration": 1101,
    "start_time": "2021-06-25T08:13:23.338Z"
   },
   {
    "duration": 26,
    "start_time": "2021-06-25T08:13:24.441Z"
   },
   {
    "duration": 75,
    "start_time": "2021-06-25T08:13:24.470Z"
   },
   {
    "duration": 111,
    "start_time": "2021-06-25T08:13:24.547Z"
   },
   {
    "duration": 25,
    "start_time": "2021-06-25T08:13:24.660Z"
   },
   {
    "duration": 42,
    "start_time": "2021-06-25T08:13:24.687Z"
   },
   {
    "duration": 59,
    "start_time": "2021-06-25T08:13:24.731Z"
   },
   {
    "duration": 36,
    "start_time": "2021-06-25T08:13:24.794Z"
   },
   {
    "duration": 652,
    "start_time": "2021-06-25T08:13:24.832Z"
   },
   {
    "duration": 618,
    "start_time": "2021-06-25T08:13:25.486Z"
   },
   {
    "duration": 28,
    "start_time": "2021-06-25T08:13:26.109Z"
   },
   {
    "duration": 84,
    "start_time": "2021-06-25T08:13:26.139Z"
   },
   {
    "duration": 3,
    "start_time": "2021-06-25T08:13:26.225Z"
   },
   {
    "duration": 4,
    "start_time": "2021-06-25T08:39:10.011Z"
   },
   {
    "duration": 25,
    "start_time": "2021-06-25T08:39:54.022Z"
   },
   {
    "duration": 54,
    "start_time": "2021-06-25T08:40:33.974Z"
   },
   {
    "duration": 309,
    "start_time": "2021-06-25T08:43:19.566Z"
   },
   {
    "duration": 53,
    "start_time": "2021-06-25T08:43:27.624Z"
   },
   {
    "duration": 23,
    "start_time": "2021-06-25T08:43:52.480Z"
   },
   {
    "duration": 314,
    "start_time": "2021-06-25T08:44:16.170Z"
   },
   {
    "duration": 256,
    "start_time": "2021-06-25T08:45:32.954Z"
   },
   {
    "duration": 24,
    "start_time": "2021-06-25T08:45:48.906Z"
   },
   {
    "duration": 28,
    "start_time": "2021-06-25T08:48:32.190Z"
   },
   {
    "duration": 18,
    "start_time": "2021-06-25T08:49:00.354Z"
   },
   {
    "duration": 652,
    "start_time": "2021-06-25T08:49:13.116Z"
   },
   {
    "duration": 27,
    "start_time": "2021-06-25T08:49:27.646Z"
   },
   {
    "duration": 56,
    "start_time": "2021-06-25T08:50:37.988Z"
   },
   {
    "duration": 255,
    "start_time": "2021-06-25T08:51:51.436Z"
   },
   {
    "duration": 6,
    "start_time": "2021-06-25T08:52:01.168Z"
   },
   {
    "duration": 53,
    "start_time": "2021-06-25T08:52:19.920Z"
   },
   {
    "duration": 24,
    "start_time": "2021-06-25T08:52:43.046Z"
   },
   {
    "duration": 24,
    "start_time": "2021-06-25T08:53:39.824Z"
   },
   {
    "duration": 29,
    "start_time": "2021-06-25T08:54:09.731Z"
   },
   {
    "duration": 41,
    "start_time": "2021-06-25T08:54:28.210Z"
   },
   {
    "duration": 74,
    "start_time": "2021-06-25T08:56:03.396Z"
   },
   {
    "duration": 8,
    "start_time": "2021-06-25T08:56:59.459Z"
   },
   {
    "duration": 42,
    "start_time": "2021-06-25T08:57:32.788Z"
   },
   {
    "duration": 8,
    "start_time": "2021-06-25T08:58:33.254Z"
   },
   {
    "duration": 141,
    "start_time": "2021-06-25T09:09:23.526Z"
   },
   {
    "duration": 45,
    "start_time": "2021-06-25T09:09:42.600Z"
   },
   {
    "duration": 12,
    "start_time": "2021-06-25T09:11:20.777Z"
   },
   {
    "duration": 12,
    "start_time": "2021-06-25T09:11:48.289Z"
   },
   {
    "duration": 10,
    "start_time": "2021-06-25T09:12:07.794Z"
   },
   {
    "duration": 348,
    "start_time": "2021-06-25T09:13:23.251Z"
   },
   {
    "duration": 405,
    "start_time": "2021-06-25T09:15:17.171Z"
   },
   {
    "duration": 23,
    "start_time": "2021-06-25T09:15:24.659Z"
   },
   {
    "duration": 13,
    "start_time": "2021-06-25T09:15:58.906Z"
   },
   {
    "duration": 18,
    "start_time": "2021-06-25T09:16:04.099Z"
   },
   {
    "duration": 18,
    "start_time": "2021-06-25T09:18:09.521Z"
   },
   {
    "duration": 25,
    "start_time": "2021-06-25T09:18:59.511Z"
   },
   {
    "duration": 25,
    "start_time": "2021-06-25T09:19:10.727Z"
   },
   {
    "duration": 21,
    "start_time": "2021-06-25T09:19:16.136Z"
   },
   {
    "duration": 48,
    "start_time": "2021-06-25T09:19:37.319Z"
   },
   {
    "duration": 12,
    "start_time": "2021-06-25T09:21:04.935Z"
   },
   {
    "duration": 8,
    "start_time": "2021-06-25T09:21:07.193Z"
   },
   {
    "duration": 7,
    "start_time": "2021-06-25T09:21:14.695Z"
   },
   {
    "duration": 5,
    "start_time": "2021-06-25T09:21:37.913Z"
   },
   {
    "duration": 4,
    "start_time": "2021-06-25T09:21:41.865Z"
   },
   {
    "duration": 5,
    "start_time": "2021-06-25T09:21:59.705Z"
   },
   {
    "duration": 6,
    "start_time": "2021-06-25T09:22:04.105Z"
   },
   {
    "duration": 6,
    "start_time": "2021-06-25T09:22:16.201Z"
   },
   {
    "duration": 7,
    "start_time": "2021-06-25T09:22:45.211Z"
   },
   {
    "duration": 5,
    "start_time": "2021-06-25T09:22:46.763Z"
   },
   {
    "duration": 7,
    "start_time": "2021-06-25T09:23:00.299Z"
   },
   {
    "duration": 614,
    "start_time": "2021-06-25T09:26:07.177Z"
   },
   {
    "duration": 9,
    "start_time": "2021-06-25T09:26:37.613Z"
   },
   {
    "duration": 646,
    "start_time": "2021-06-25T09:26:54.307Z"
   },
   {
    "duration": 3,
    "start_time": "2021-06-25T09:27:44.797Z"
   },
   {
    "duration": 684,
    "start_time": "2021-06-25T09:28:05.167Z"
   },
   {
    "duration": 218,
    "start_time": "2021-06-25T09:30:18.893Z"
   },
   {
    "duration": 391,
    "start_time": "2021-06-25T09:30:22.399Z"
   },
   {
    "duration": 206,
    "start_time": "2021-06-25T09:32:47.483Z"
   },
   {
    "duration": 382,
    "start_time": "2021-06-25T09:35:13.257Z"
   },
   {
    "duration": 3702,
    "start_time": "2021-06-25T09:35:33.926Z"
   },
   {
    "duration": 225,
    "start_time": "2021-06-25T09:38:36.644Z"
   },
   {
    "duration": 296,
    "start_time": "2021-06-25T09:39:12.375Z"
   },
   {
    "duration": 387,
    "start_time": "2021-06-25T09:39:50.298Z"
   },
   {
    "duration": 369,
    "start_time": "2021-06-25T09:39:58.039Z"
   },
   {
    "duration": 19376,
    "start_time": "2021-06-25T09:40:10.633Z"
   },
   {
    "duration": 43,
    "start_time": "2021-06-25T09:42:16.331Z"
   },
   {
    "duration": 39,
    "start_time": "2021-06-25T09:43:05.295Z"
   },
   {
    "duration": 44,
    "start_time": "2021-06-25T09:43:18.139Z"
   },
   {
    "duration": 9692,
    "start_time": "2021-06-25T09:43:48.875Z"
   },
   {
    "duration": 46,
    "start_time": "2021-06-25T09:44:09.340Z"
   },
   {
    "duration": 2285,
    "start_time": "2021-06-25T09:44:16.891Z"
   },
   {
    "duration": 546,
    "start_time": "2021-06-25T09:44:31.023Z"
   },
   {
    "duration": 422,
    "start_time": "2021-06-25T09:53:56.724Z"
   },
   {
    "duration": 401,
    "start_time": "2021-06-25T09:56:28.462Z"
   },
   {
    "duration": 9,
    "start_time": "2021-06-25T10:03:45.122Z"
   },
   {
    "duration": 14,
    "start_time": "2021-06-25T10:04:06.306Z"
   },
   {
    "duration": 23,
    "start_time": "2021-06-25T10:04:16.014Z"
   },
   {
    "duration": 5,
    "start_time": "2021-06-25T10:08:15.136Z"
   },
   {
    "duration": 24,
    "start_time": "2021-06-25T10:08:20.784Z"
   },
   {
    "duration": 28,
    "start_time": "2021-06-25T10:08:59.624Z"
   },
   {
    "duration": 24,
    "start_time": "2021-06-25T10:09:11.139Z"
   },
   {
    "duration": 27,
    "start_time": "2021-06-25T10:15:26.668Z"
   },
   {
    "duration": 16,
    "start_time": "2021-06-25T10:23:18.603Z"
   },
   {
    "duration": 40,
    "start_time": "2021-06-25T10:23:23.501Z"
   },
   {
    "duration": 49,
    "start_time": "2021-06-25T10:23:44.991Z"
   },
   {
    "duration": 23,
    "start_time": "2021-06-25T10:23:53.231Z"
   },
   {
    "duration": 17,
    "start_time": "2021-06-25T10:24:27.341Z"
   },
   {
    "duration": 18,
    "start_time": "2021-06-25T10:29:44.271Z"
   },
   {
    "duration": 22,
    "start_time": "2021-06-25T10:29:50.115Z"
   },
   {
    "duration": 29,
    "start_time": "2021-06-25T10:30:00.441Z"
   },
   {
    "duration": 23,
    "start_time": "2021-06-25T10:36:49.071Z"
   },
   {
    "duration": 27,
    "start_time": "2021-06-25T10:36:54.089Z"
   },
   {
    "duration": 364,
    "start_time": "2021-06-25T10:36:58.983Z"
   },
   {
    "duration": 23,
    "start_time": "2021-06-25T10:37:04.233Z"
   },
   {
    "duration": 32,
    "start_time": "2021-06-25T10:40:39.773Z"
   },
   {
    "duration": 23,
    "start_time": "2021-06-25T10:40:41.441Z"
   },
   {
    "duration": 26,
    "start_time": "2021-06-25T10:40:47.005Z"
   },
   {
    "duration": 23,
    "start_time": "2021-06-25T10:49:45.625Z"
   },
   {
    "duration": 12,
    "start_time": "2021-06-25T10:50:43.974Z"
   },
   {
    "duration": 23,
    "start_time": "2021-06-25T10:50:50.932Z"
   },
   {
    "duration": 11,
    "start_time": "2021-06-25T10:52:48.492Z"
   },
   {
    "duration": 23,
    "start_time": "2021-06-25T10:52:50.310Z"
   },
   {
    "duration": 3,
    "start_time": "2021-06-25T10:56:03.696Z"
   },
   {
    "duration": 12,
    "start_time": "2021-06-25T10:56:52.522Z"
   },
   {
    "duration": 24,
    "start_time": "2021-06-25T10:56:56.153Z"
   },
   {
    "duration": 11,
    "start_time": "2021-06-25T10:58:04.682Z"
   },
   {
    "duration": 25,
    "start_time": "2021-06-25T10:58:07.642Z"
   },
   {
    "duration": 5,
    "start_time": "2021-06-25T10:59:11.228Z"
   },
   {
    "duration": 25,
    "start_time": "2021-06-25T10:59:12.556Z"
   },
   {
    "duration": 12,
    "start_time": "2021-06-25T10:59:28.172Z"
   },
   {
    "duration": 24,
    "start_time": "2021-06-25T10:59:29.083Z"
   },
   {
    "duration": 432,
    "start_time": "2021-06-25T10:59:59.244Z"
   },
   {
    "duration": 319,
    "start_time": "2021-06-25T11:00:57.566Z"
   },
   {
    "duration": 32,
    "start_time": "2021-06-25T11:01:16.798Z"
   },
   {
    "duration": 24,
    "start_time": "2021-06-25T11:01:17.811Z"
   },
   {
    "duration": 368,
    "start_time": "2021-06-25T11:01:45.694Z"
   },
   {
    "duration": 29,
    "start_time": "2021-06-25T11:01:54.159Z"
   },
   {
    "duration": 24,
    "start_time": "2021-06-25T11:01:55.102Z"
   },
   {
    "duration": 24,
    "start_time": "2021-06-25T11:09:19.004Z"
   },
   {
    "duration": 29,
    "start_time": "2021-06-25T11:12:32.024Z"
   },
   {
    "duration": 24,
    "start_time": "2021-06-25T11:12:37.768Z"
   },
   {
    "duration": 21,
    "start_time": "2021-06-25T11:13:29.160Z"
   },
   {
    "duration": 23,
    "start_time": "2021-06-25T11:13:35.176Z"
   },
   {
    "duration": 52,
    "start_time": "2021-06-25T11:16:05.302Z"
   },
   {
    "duration": 25,
    "start_time": "2021-06-25T11:16:09.498Z"
   },
   {
    "duration": 400,
    "start_time": "2021-06-25T11:19:32.493Z"
   },
   {
    "duration": 64,
    "start_time": "2021-06-25T11:20:34.047Z"
   },
   {
    "duration": 25,
    "start_time": "2021-06-25T11:20:35.669Z"
   },
   {
    "duration": 70,
    "start_time": "2021-06-25T11:24:13.400Z"
   },
   {
    "duration": 28,
    "start_time": "2021-06-25T11:24:15.891Z"
   },
   {
    "duration": 63,
    "start_time": "2021-06-25T11:24:34.309Z"
   },
   {
    "duration": 26,
    "start_time": "2021-06-25T11:24:44.083Z"
   },
   {
    "duration": 73,
    "start_time": "2021-06-25T11:35:21.767Z"
   },
   {
    "duration": 28,
    "start_time": "2021-06-25T11:35:24.939Z"
   },
   {
    "duration": 443,
    "start_time": "2021-06-25T11:36:07.307Z"
   },
   {
    "duration": 27,
    "start_time": "2021-06-25T11:36:25.357Z"
   },
   {
    "duration": 416,
    "start_time": "2021-06-25T11:37:31.709Z"
   },
   {
    "duration": 64,
    "start_time": "2021-06-25T11:37:50.125Z"
   },
   {
    "duration": 28,
    "start_time": "2021-06-25T11:38:02.045Z"
   },
   {
    "duration": 71,
    "start_time": "2021-06-25T11:38:46.622Z"
   },
   {
    "duration": 125,
    "start_time": "2021-06-25T11:43:19.145Z"
   },
   {
    "duration": 47417,
    "start_time": "2021-06-25T11:43:30.565Z"
   },
   {
    "duration": 243,
    "start_time": "2021-06-25T11:44:17.748Z"
   },
   {
    "duration": 83,
    "start_time": "2021-06-25T11:44:49.031Z"
   },
   {
    "duration": 137,
    "start_time": "2021-06-25T11:44:53.873Z"
   },
   {
    "duration": 121,
    "start_time": "2021-06-25T11:45:35.405Z"
   },
   {
    "duration": 4602,
    "start_time": "2021-06-25T11:45:44.628Z"
   },
   {
    "duration": 4576,
    "start_time": "2021-06-25T11:46:20.165Z"
   },
   {
    "duration": 114,
    "start_time": "2021-06-25T11:46:38.053Z"
   },
   {
    "duration": 4535,
    "start_time": "2021-06-25T11:47:00.308Z"
   },
   {
    "duration": 34,
    "start_time": "2021-06-25T11:47:33.685Z"
   },
   {
    "duration": 4541,
    "start_time": "2021-06-25T11:49:03.303Z"
   },
   {
    "duration": 4484,
    "start_time": "2021-06-25T11:49:38.423Z"
   },
   {
    "duration": 62,
    "start_time": "2021-06-25T11:49:48.535Z"
   },
   {
    "duration": 4514,
    "start_time": "2021-06-25T11:50:05.751Z"
   },
   {
    "duration": 60,
    "start_time": "2021-06-25T11:51:06.647Z"
   },
   {
    "duration": 21,
    "start_time": "2021-06-25T11:51:17.897Z"
   },
   {
    "duration": 64,
    "start_time": "2021-06-25T11:52:04.905Z"
   },
   {
    "duration": 109,
    "start_time": "2021-06-25T11:52:19.039Z"
   },
   {
    "duration": 61,
    "start_time": "2021-06-25T11:53:43.449Z"
   },
   {
    "duration": 60,
    "start_time": "2021-06-25T11:55:05.307Z"
   },
   {
    "duration": 391,
    "start_time": "2021-06-25T12:02:05.406Z"
   },
   {
    "duration": 23,
    "start_time": "2021-06-25T12:02:15.698Z"
   },
   {
    "duration": 60,
    "start_time": "2021-06-25T12:02:25.154Z"
   },
   {
    "duration": 25,
    "start_time": "2021-06-25T12:04:14.506Z"
   },
   {
    "duration": 24,
    "start_time": "2021-06-25T12:05:02.692Z"
   },
   {
    "duration": 25,
    "start_time": "2021-06-25T12:05:10.563Z"
   },
   {
    "duration": 107,
    "start_time": "2021-06-25T12:05:39.060Z"
   },
   {
    "duration": 27,
    "start_time": "2021-06-25T12:05:57.924Z"
   },
   {
    "duration": 62,
    "start_time": "2021-06-25T12:06:22.908Z"
   },
   {
    "duration": 51,
    "start_time": "2021-06-25T12:06:41.606Z"
   },
   {
    "duration": 28,
    "start_time": "2021-06-25T12:06:48.694Z"
   },
   {
    "duration": 343,
    "start_time": "2021-06-25T12:08:36.790Z"
   },
   {
    "duration": 53,
    "start_time": "2021-06-25T12:08:41.670Z"
   },
   {
    "duration": 12,
    "start_time": "2021-06-25T12:09:55.758Z"
   },
   {
    "duration": 159,
    "start_time": "2021-06-25T12:10:18.520Z"
   },
   {
    "duration": 15,
    "start_time": "2021-06-25T12:10:26.856Z"
   },
   {
    "duration": 13,
    "start_time": "2021-06-25T12:10:42.536Z"
   },
   {
    "duration": 11,
    "start_time": "2021-06-25T12:11:39.338Z"
   },
   {
    "duration": 12,
    "start_time": "2021-06-25T12:11:48.873Z"
   },
   {
    "duration": 27,
    "start_time": "2021-06-25T12:12:00.362Z"
   },
   {
    "duration": 108,
    "start_time": "2021-06-25T12:12:57.080Z"
   },
   {
    "duration": 62,
    "start_time": "2021-06-25T12:13:05.602Z"
   },
   {
    "duration": 42,
    "start_time": "2021-06-25T12:13:11.482Z"
   },
   {
    "duration": 15,
    "start_time": "2021-06-25T12:14:27.900Z"
   },
   {
    "duration": 15,
    "start_time": "2021-06-25T12:14:47.616Z"
   },
   {
    "duration": 8,
    "start_time": "2021-06-25T12:15:50.667Z"
   },
   {
    "duration": 16,
    "start_time": "2021-06-25T12:15:57.964Z"
   },
   {
    "duration": 13,
    "start_time": "2021-06-25T12:16:22.766Z"
   },
   {
    "duration": 18,
    "start_time": "2021-06-25T12:17:03.647Z"
   },
   {
    "duration": 17,
    "start_time": "2021-06-25T12:17:18.430Z"
   },
   {
    "duration": 14,
    "start_time": "2021-06-25T12:19:07.600Z"
   },
   {
    "duration": 15,
    "start_time": "2021-06-25T12:19:24.127Z"
   },
   {
    "duration": 18,
    "start_time": "2021-06-25T12:19:38.832Z"
   },
   {
    "duration": 14,
    "start_time": "2021-06-25T12:19:57.008Z"
   },
   {
    "duration": 14,
    "start_time": "2021-06-25T12:21:34.016Z"
   },
   {
    "duration": 15,
    "start_time": "2021-06-25T12:21:35.185Z"
   },
   {
    "duration": 10,
    "start_time": "2021-06-25T12:22:38.115Z"
   },
   {
    "duration": 8,
    "start_time": "2021-06-25T12:22:56.066Z"
   },
   {
    "duration": 14,
    "start_time": "2021-06-25T12:23:03.666Z"
   },
   {
    "duration": 16,
    "start_time": "2021-06-25T12:24:01.668Z"
   },
   {
    "duration": 14,
    "start_time": "2021-06-25T12:25:12.980Z"
   },
   {
    "duration": 11,
    "start_time": "2021-06-25T12:25:25.174Z"
   },
   {
    "duration": 10,
    "start_time": "2021-06-25T12:26:17.750Z"
   },
   {
    "duration": 16,
    "start_time": "2021-06-25T12:26:26.582Z"
   },
   {
    "duration": 27,
    "start_time": "2021-06-25T12:27:57.574Z"
   },
   {
    "duration": 28,
    "start_time": "2021-06-25T12:28:12.822Z"
   },
   {
    "duration": 382,
    "start_time": "2021-06-25T12:29:07.912Z"
   },
   {
    "duration": 6,
    "start_time": "2021-06-25T12:29:17.032Z"
   },
   {
    "duration": 64,
    "start_time": "2021-06-25T12:29:27.832Z"
   },
   {
    "duration": 27,
    "start_time": "2021-06-25T12:40:16.044Z"
   },
   {
    "duration": 32,
    "start_time": "2021-06-25T12:41:40.702Z"
   },
   {
    "duration": 28,
    "start_time": "2021-06-25T12:41:44.562Z"
   },
   {
    "duration": 9,
    "start_time": "2021-06-25T12:42:08.755Z"
   },
   {
    "duration": 30,
    "start_time": "2021-06-25T12:42:30.739Z"
   },
   {
    "duration": 72,
    "start_time": "2021-06-25T13:25:32.664Z"
   },
   {
    "duration": 27,
    "start_time": "2021-06-25T13:28:07.914Z"
   },
   {
    "duration": 29,
    "start_time": "2021-06-25T13:29:25.516Z"
   },
   {
    "duration": 27,
    "start_time": "2021-06-25T13:29:51.772Z"
   },
   {
    "duration": 521,
    "start_time": "2021-06-25T13:31:07.210Z"
   },
   {
    "duration": 10365,
    "start_time": "2021-06-25T13:32:07.628Z"
   },
   {
    "duration": 64,
    "start_time": "2021-06-25T13:32:27.295Z"
   },
   {
    "duration": 26,
    "start_time": "2021-06-25T13:32:37.396Z"
   },
   {
    "duration": 25,
    "start_time": "2021-06-25T13:42:46.045Z"
   },
   {
    "duration": 355,
    "start_time": "2021-06-25T13:43:13.862Z"
   },
   {
    "duration": 371,
    "start_time": "2021-06-25T13:43:27.261Z"
   },
   {
    "duration": 571,
    "start_time": "2021-06-25T13:43:36.070Z"
   },
   {
    "duration": 2977,
    "start_time": "2021-06-25T13:43:46.902Z"
   },
   {
    "duration": 330,
    "start_time": "2021-06-25T13:43:54.998Z"
   },
   {
    "duration": 593,
    "start_time": "2021-06-25T13:44:05.704Z"
   },
   {
    "duration": 65,
    "start_time": "2021-06-25T13:44:15.471Z"
   },
   {
    "duration": 311,
    "start_time": "2021-06-25T13:45:07.065Z"
   },
   {
    "duration": 623,
    "start_time": "2021-06-25T13:47:48.189Z"
   },
   {
    "duration": 866,
    "start_time": "2021-06-25T14:10:23.561Z"
   },
   {
    "duration": 654,
    "start_time": "2021-06-25T14:10:40.061Z"
   },
   {
    "duration": 5955,
    "start_time": "2021-06-25T14:15:20.634Z"
   },
   {
    "duration": 1190,
    "start_time": "2021-06-25T14:15:58.866Z"
   },
   {
    "duration": 316,
    "start_time": "2021-06-25T14:17:08.946Z"
   },
   {
    "duration": 880,
    "start_time": "2021-06-25T14:17:59.523Z"
   },
   {
    "duration": 877,
    "start_time": "2021-06-25T14:18:50.389Z"
   },
   {
    "duration": 330,
    "start_time": "2021-06-25T14:19:15.301Z"
   },
   {
    "duration": 884,
    "start_time": "2021-06-25T14:20:16.549Z"
   },
   {
    "duration": 909,
    "start_time": "2021-06-25T14:20:37.703Z"
   },
   {
    "duration": 7,
    "start_time": "2021-06-25T14:21:47.283Z"
   },
   {
    "duration": 10,
    "start_time": "2021-06-25T14:22:34.167Z"
   },
   {
    "duration": 6,
    "start_time": "2021-06-25T14:23:30.623Z"
   },
   {
    "duration": 5,
    "start_time": "2021-06-25T14:24:02.522Z"
   },
   {
    "duration": 45,
    "start_time": "2021-06-25T14:24:31.660Z"
   },
   {
    "duration": 979,
    "start_time": "2021-06-25T14:26:24.807Z"
   },
   {
    "duration": 632,
    "start_time": "2021-06-25T14:26:36.252Z"
   },
   {
    "duration": 313,
    "start_time": "2021-06-25T14:29:51.726Z"
   },
   {
    "duration": 66,
    "start_time": "2021-06-25T14:30:20.782Z"
   },
   {
    "duration": 24,
    "start_time": "2021-06-25T14:32:49.229Z"
   },
   {
    "duration": 25,
    "start_time": "2021-06-25T14:32:53.265Z"
   },
   {
    "duration": 26,
    "start_time": "2021-06-25T14:38:00.940Z"
   },
   {
    "duration": 338,
    "start_time": "2021-06-25T14:38:38.110Z"
   },
   {
    "duration": 644,
    "start_time": "2021-06-25T14:40:03.046Z"
   },
   {
    "duration": 637,
    "start_time": "2021-06-25T14:40:14.249Z"
   },
   {
    "duration": 645,
    "start_time": "2021-06-25T14:40:25.909Z"
   },
   {
    "duration": 653,
    "start_time": "2021-06-25T14:40:53.128Z"
   },
   {
    "duration": 5,
    "start_time": "2021-06-25T14:40:58.762Z"
   },
   {
    "duration": 692,
    "start_time": "2021-06-25T14:41:01.912Z"
   },
   {
    "duration": 602,
    "start_time": "2021-06-25T14:41:07.384Z"
   },
   {
    "duration": 661,
    "start_time": "2021-06-25T14:41:30.616Z"
   },
   {
    "duration": 620,
    "start_time": "2021-06-25T14:41:37.336Z"
   },
   {
    "duration": 1119,
    "start_time": "2021-06-25T14:41:52.568Z"
   },
   {
    "duration": 622,
    "start_time": "2021-06-25T14:41:57.800Z"
   },
   {
    "duration": 1724,
    "start_time": "2021-06-25T14:42:09.928Z"
   },
   {
    "duration": 95,
    "start_time": "2021-06-25T14:42:27.242Z"
   },
   {
    "duration": 11,
    "start_time": "2021-06-25T14:42:48.736Z"
   },
   {
    "duration": 4571,
    "start_time": "2021-06-25T14:43:00.474Z"
   },
   {
    "duration": 29,
    "start_time": "2021-06-25T14:43:37.868Z"
   },
   {
    "duration": 27,
    "start_time": "2021-06-25T14:43:50.249Z"
   },
   {
    "duration": 889,
    "start_time": "2021-06-25T14:44:56.867Z"
   },
   {
    "duration": 9176,
    "start_time": "2021-06-25T14:51:31.772Z"
   },
   {
    "duration": 29,
    "start_time": "2021-06-25T14:51:55.664Z"
   },
   {
    "duration": 322,
    "start_time": "2021-06-25T14:52:39.960Z"
   },
   {
    "duration": 66,
    "start_time": "2021-06-25T14:53:41.494Z"
   },
   {
    "duration": 633,
    "start_time": "2021-06-25T14:54:13.704Z"
   },
   {
    "duration": 327,
    "start_time": "2021-06-25T14:57:04.915Z"
   },
   {
    "duration": 617,
    "start_time": "2021-06-25T14:59:37.991Z"
   },
   {
    "duration": 623,
    "start_time": "2021-06-25T14:59:52.697Z"
   },
   {
    "duration": 600,
    "start_time": "2021-06-25T15:00:04.936Z"
   },
   {
    "duration": 614,
    "start_time": "2021-06-25T15:00:12.617Z"
   },
   {
    "duration": 310,
    "start_time": "2021-06-25T15:02:37.719Z"
   },
   {
    "duration": 9,
    "start_time": "2021-06-25T15:03:00.570Z"
   },
   {
    "duration": 65,
    "start_time": "2021-06-25T15:08:21.206Z"
   },
   {
    "duration": 27,
    "start_time": "2021-06-25T15:16:08.225Z"
   },
   {
    "duration": 26,
    "start_time": "2021-06-25T15:19:39.855Z"
   },
   {
    "duration": 9592,
    "start_time": "2021-06-25T15:34:27.263Z"
   },
   {
    "duration": 27,
    "start_time": "2021-06-25T15:35:06.534Z"
   },
   {
    "duration": 28,
    "start_time": "2021-06-25T15:37:34.248Z"
   },
   {
    "duration": 26,
    "start_time": "2021-06-25T15:42:26.352Z"
   },
   {
    "duration": 861,
    "start_time": "2021-06-25T16:08:49.618Z"
   },
   {
    "duration": 619,
    "start_time": "2021-06-25T16:08:56.339Z"
   },
   {
    "duration": 1049,
    "start_time": "2021-06-25T16:09:09.666Z"
   },
   {
    "duration": 52,
    "start_time": "2021-06-25T16:13:25.090Z"
   },
   {
    "duration": 51,
    "start_time": "2021-06-25T16:15:58.078Z"
   },
   {
    "duration": 50,
    "start_time": "2021-06-25T16:16:10.152Z"
   },
   {
    "duration": 52,
    "start_time": "2021-06-25T16:22:30.693Z"
   },
   {
    "duration": 35,
    "start_time": "2021-06-25T16:22:35.539Z"
   },
   {
    "duration": 15,
    "start_time": "2021-06-25T16:22:39.406Z"
   },
   {
    "duration": 26,
    "start_time": "2021-06-25T16:23:26.287Z"
   },
   {
    "duration": 26,
    "start_time": "2021-06-25T16:26:21.495Z"
   },
   {
    "duration": 29,
    "start_time": "2021-06-25T16:26:28.385Z"
   },
   {
    "duration": 23,
    "start_time": "2021-06-25T16:26:43.105Z"
   },
   {
    "duration": 653,
    "start_time": "2021-06-25T16:27:23.507Z"
   },
   {
    "duration": 633,
    "start_time": "2021-06-25T16:28:14.067Z"
   },
   {
    "duration": 27,
    "start_time": "2021-06-25T16:29:37.471Z"
   },
   {
    "duration": 29,
    "start_time": "2021-06-25T16:29:46.069Z"
   },
   {
    "duration": 29,
    "start_time": "2021-06-25T16:35:45.511Z"
   },
   {
    "duration": 11,
    "start_time": "2021-06-25T16:36:00.474Z"
   },
   {
    "duration": 52,
    "start_time": "2021-06-25T16:36:09.146Z"
   },
   {
    "duration": 40,
    "start_time": "2021-06-25T16:41:01.484Z"
   },
   {
    "duration": 29,
    "start_time": "2021-06-25T16:41:07.309Z"
   },
   {
    "duration": 14,
    "start_time": "2021-06-25T16:41:31.293Z"
   },
   {
    "duration": 336,
    "start_time": "2021-06-25T16:44:03.503Z"
   },
   {
    "duration": 67,
    "start_time": "2021-06-25T16:44:56.675Z"
   },
   {
    "duration": 67,
    "start_time": "2021-06-25T16:45:18.019Z"
   },
   {
    "duration": 787,
    "start_time": "2021-06-25T16:46:49.619Z"
   },
   {
    "duration": 333,
    "start_time": "2021-06-25T16:47:05.507Z"
   },
   {
    "duration": 312,
    "start_time": "2021-06-25T16:47:10.209Z"
   },
   {
    "duration": 863,
    "start_time": "2021-06-25T16:47:14.516Z"
   },
   {
    "duration": 732,
    "start_time": "2021-06-25T16:48:02.309Z"
   },
   {
    "duration": 1205,
    "start_time": "2021-06-25T16:48:51.659Z"
   },
   {
    "duration": 26,
    "start_time": "2021-06-25T16:48:52.866Z"
   },
   {
    "duration": 64,
    "start_time": "2021-06-25T16:48:52.895Z"
   },
   {
    "duration": 109,
    "start_time": "2021-06-25T16:48:52.962Z"
   },
   {
    "duration": 35,
    "start_time": "2021-06-25T16:48:53.074Z"
   },
   {
    "duration": 23,
    "start_time": "2021-06-25T16:48:53.111Z"
   },
   {
    "duration": 51,
    "start_time": "2021-06-25T16:48:53.136Z"
   },
   {
    "duration": 25,
    "start_time": "2021-06-25T16:48:53.209Z"
   },
   {
    "duration": 673,
    "start_time": "2021-06-25T16:48:53.238Z"
   },
   {
    "duration": 621,
    "start_time": "2021-06-25T16:48:53.914Z"
   },
   {
    "duration": 77,
    "start_time": "2021-06-25T16:48:54.538Z"
   },
   {
    "duration": 299,
    "start_time": "2021-06-25T16:48:54.618Z"
   },
   {
    "duration": 16,
    "start_time": "2021-06-25T16:48:54.919Z"
   },
   {
    "duration": 426,
    "start_time": "2021-06-25T16:48:54.938Z"
   },
   {
    "duration": 13,
    "start_time": "2021-06-25T16:48:55.366Z"
   },
   {
    "duration": 10,
    "start_time": "2021-06-25T16:48:55.381Z"
   },
   {
    "duration": 27,
    "start_time": "2021-06-25T16:48:55.408Z"
   },
   {
    "duration": 27,
    "start_time": "2021-06-25T16:48:55.437Z"
   },
   {
    "duration": 107,
    "start_time": "2021-06-25T16:48:55.467Z"
   },
   {
    "duration": 67,
    "start_time": "2021-06-25T16:48:55.576Z"
   },
   {
    "duration": 70,
    "start_time": "2021-06-25T16:48:55.646Z"
   },
   {
    "duration": 20,
    "start_time": "2021-06-25T16:48:55.718Z"
   },
   {
    "duration": 99,
    "start_time": "2021-06-25T16:48:55.740Z"
   },
   {
    "duration": 34,
    "start_time": "2021-06-25T16:48:55.841Z"
   },
   {
    "duration": 86,
    "start_time": "2021-06-25T16:48:55.877Z"
   },
   {
    "duration": 6,
    "start_time": "2021-06-25T16:48:55.965Z"
   },
   {
    "duration": 649,
    "start_time": "2021-06-25T16:48:55.976Z"
   },
   {
    "duration": 875,
    "start_time": "2021-06-25T16:48:56.628Z"
   },
   {
    "duration": 742,
    "start_time": "2021-06-25T16:48:57.509Z"
   },
   {
    "duration": 324,
    "start_time": "2021-06-25T16:48:58.254Z"
   },
   {
    "duration": 468,
    "start_time": "2021-06-25T16:48:58.581Z"
   },
   {
    "duration": 80,
    "start_time": "2021-06-25T16:48:59.052Z"
   },
   {
    "duration": 2,
    "start_time": "2021-06-25T16:48:59.135Z"
   },
   {
    "duration": 19,
    "start_time": "2021-06-25T16:49:52.907Z"
   },
   {
    "duration": 13,
    "start_time": "2021-06-25T16:51:32.892Z"
   },
   {
    "duration": 22,
    "start_time": "2021-06-25T16:51:37.328Z"
   },
   {
    "duration": 14,
    "start_time": "2021-06-25T16:51:46.848Z"
   },
   {
    "duration": 24,
    "start_time": "2021-06-25T16:51:51.009Z"
   },
   {
    "duration": 22,
    "start_time": "2021-06-25T16:51:56.021Z"
   },
   {
    "duration": 6,
    "start_time": "2021-06-25T16:53:44.328Z"
   },
   {
    "duration": 42,
    "start_time": "2021-06-25T16:54:23.128Z"
   },
   {
    "duration": 591,
    "start_time": "2021-06-25T16:54:28.856Z"
   },
   {
    "duration": 348,
    "start_time": "2021-06-25T16:54:32.546Z"
   },
   {
    "duration": 27,
    "start_time": "2021-06-25T16:54:46.289Z"
   },
   {
    "duration": 1297,
    "start_time": "2021-06-25T16:55:17.206Z"
   },
   {
    "duration": 41,
    "start_time": "2021-06-25T16:55:18.509Z"
   },
   {
    "duration": 96,
    "start_time": "2021-06-25T16:55:18.554Z"
   },
   {
    "duration": 158,
    "start_time": "2021-06-25T16:55:18.653Z"
   },
   {
    "duration": 38,
    "start_time": "2021-06-25T16:55:18.814Z"
   },
   {
    "duration": 58,
    "start_time": "2021-06-25T16:55:18.854Z"
   },
   {
    "duration": 52,
    "start_time": "2021-06-25T16:55:18.914Z"
   },
   {
    "duration": 50,
    "start_time": "2021-06-25T16:55:18.970Z"
   },
   {
    "duration": 652,
    "start_time": "2021-06-25T16:55:19.024Z"
   },
   {
    "duration": 634,
    "start_time": "2021-06-25T16:55:19.679Z"
   },
   {
    "duration": 68,
    "start_time": "2021-06-25T16:55:20.316Z"
   },
   {
    "duration": 323,
    "start_time": "2021-06-25T16:55:20.387Z"
   },
   {
    "duration": 18,
    "start_time": "2021-06-25T16:55:20.713Z"
   },
   {
    "duration": 448,
    "start_time": "2021-06-25T16:55:20.734Z"
   },
   {
    "duration": 28,
    "start_time": "2021-06-25T16:55:21.185Z"
   },
   {
    "duration": 9,
    "start_time": "2021-06-25T16:55:21.215Z"
   },
   {
    "duration": 28,
    "start_time": "2021-06-25T16:55:21.226Z"
   },
   {
    "duration": 58,
    "start_time": "2021-06-25T16:55:21.257Z"
   },
   {
    "duration": 91,
    "start_time": "2021-06-25T16:55:21.318Z"
   },
   {
    "duration": 62,
    "start_time": "2021-06-25T16:55:21.411Z"
   },
   {
    "duration": 78,
    "start_time": "2021-06-25T16:55:21.476Z"
   },
   {
    "duration": 14,
    "start_time": "2021-06-25T16:55:21.556Z"
   },
   {
    "duration": 102,
    "start_time": "2021-06-25T16:55:21.576Z"
   },
   {
    "duration": 46,
    "start_time": "2021-06-25T16:55:21.681Z"
   },
   {
    "duration": 81,
    "start_time": "2021-06-25T16:55:21.729Z"
   },
   {
    "duration": 5,
    "start_time": "2021-06-25T16:55:21.812Z"
   },
   {
    "duration": 652,
    "start_time": "2021-06-25T16:55:21.819Z"
   },
   {
    "duration": 872,
    "start_time": "2021-06-25T16:55:22.478Z"
   },
   {
    "duration": 760,
    "start_time": "2021-06-25T16:55:23.353Z"
   },
   {
    "duration": 343,
    "start_time": "2021-06-25T16:55:24.115Z"
   },
   {
    "duration": 333,
    "start_time": "2021-06-25T16:55:24.461Z"
   },
   {
    "duration": 75,
    "start_time": "2021-06-25T16:55:24.796Z"
   },
   {
    "duration": 13,
    "start_time": "2021-06-25T16:55:24.874Z"
   },
   {
    "duration": 21,
    "start_time": "2021-06-25T16:55:24.890Z"
   },
   {
    "duration": 8,
    "start_time": "2021-06-25T16:55:24.914Z"
   },
   {
    "duration": 26,
    "start_time": "2021-06-25T16:56:39.501Z"
   },
   {
    "duration": 5,
    "start_time": "2021-06-25T16:56:44.973Z"
   },
   {
    "duration": 477,
    "start_time": "2021-06-25T16:57:41.901Z"
   },
   {
    "duration": 78,
    "start_time": "2021-06-25T16:58:59.326Z"
   },
   {
    "duration": 344,
    "start_time": "2021-06-25T16:59:33.103Z"
   },
   {
    "duration": 523,
    "start_time": "2021-06-25T17:01:00.465Z"
   },
   {
    "duration": 11,
    "start_time": "2021-06-25T17:03:13.808Z"
   },
   {
    "duration": 5,
    "start_time": "2021-06-25T17:03:21.522Z"
   },
   {
    "duration": 5,
    "start_time": "2021-06-25T17:03:24.946Z"
   },
   {
    "duration": 25,
    "start_time": "2021-06-25T17:03:52.498Z"
   },
   {
    "duration": 332,
    "start_time": "2021-06-25T17:03:56.834Z"
   },
   {
    "duration": 385,
    "start_time": "2021-06-25T17:03:58.273Z"
   },
   {
    "duration": 29,
    "start_time": "2021-06-25T17:04:03.298Z"
   },
   {
    "duration": 19,
    "start_time": "2021-06-25T17:04:58.740Z"
   },
   {
    "duration": 1307,
    "start_time": "2021-06-25T17:15:40.466Z"
   },
   {
    "duration": 36,
    "start_time": "2021-06-25T17:15:41.777Z"
   },
   {
    "duration": 52,
    "start_time": "2021-06-25T17:15:41.816Z"
   },
   {
    "duration": 114,
    "start_time": "2021-06-25T17:15:41.871Z"
   },
   {
    "duration": 42,
    "start_time": "2021-06-25T17:15:41.987Z"
   },
   {
    "duration": 32,
    "start_time": "2021-06-25T17:15:42.032Z"
   },
   {
    "duration": 78,
    "start_time": "2021-06-25T17:15:42.067Z"
   },
   {
    "duration": 23,
    "start_time": "2021-06-25T17:15:42.149Z"
   },
   {
    "duration": 709,
    "start_time": "2021-06-25T17:15:42.176Z"
   },
   {
    "duration": 636,
    "start_time": "2021-06-25T17:15:42.887Z"
   },
   {
    "duration": 66,
    "start_time": "2021-06-25T17:15:43.525Z"
   },
   {
    "duration": 304,
    "start_time": "2021-06-25T17:15:43.609Z"
   },
   {
    "duration": 16,
    "start_time": "2021-06-25T17:15:43.915Z"
   },
   {
    "duration": 431,
    "start_time": "2021-06-25T17:15:43.933Z"
   },
   {
    "duration": 13,
    "start_time": "2021-06-25T17:15:44.367Z"
   },
   {
    "duration": 29,
    "start_time": "2021-06-25T17:15:44.382Z"
   },
   {
    "duration": 26,
    "start_time": "2021-06-25T17:15:44.413Z"
   },
   {
    "duration": 28,
    "start_time": "2021-06-25T17:15:44.441Z"
   },
   {
    "duration": 101,
    "start_time": "2021-06-25T17:15:44.472Z"
   },
   {
    "duration": 71,
    "start_time": "2021-06-25T17:15:44.575Z"
   },
   {
    "duration": 69,
    "start_time": "2021-06-25T17:15:44.648Z"
   },
   {
    "duration": 13,
    "start_time": "2021-06-25T17:15:44.719Z"
   },
   {
    "duration": 104,
    "start_time": "2021-06-25T17:15:44.736Z"
   },
   {
    "duration": 37,
    "start_time": "2021-06-25T17:15:44.842Z"
   },
   {
    "duration": 90,
    "start_time": "2021-06-25T17:15:44.882Z"
   },
   {
    "duration": 5,
    "start_time": "2021-06-25T17:15:44.975Z"
   },
   {
    "duration": 657,
    "start_time": "2021-06-25T17:15:44.982Z"
   },
   {
    "duration": 868,
    "start_time": "2021-06-25T17:15:45.641Z"
   },
   {
    "duration": 789,
    "start_time": "2021-06-25T17:15:46.511Z"
   },
   {
    "duration": 342,
    "start_time": "2021-06-25T17:15:47.303Z"
   },
   {
    "duration": 335,
    "start_time": "2021-06-25T17:15:47.648Z"
   },
   {
    "duration": 79,
    "start_time": "2021-06-25T17:15:47.986Z"
   },
   {
    "duration": 14,
    "start_time": "2021-06-25T17:15:48.068Z"
   },
   {
    "duration": 24,
    "start_time": "2021-06-25T17:15:48.085Z"
   },
   {
    "duration": 5,
    "start_time": "2021-06-25T17:16:15.194Z"
   },
   {
    "duration": 31,
    "start_time": "2021-06-25T17:16:50.232Z"
   },
   {
    "duration": 29,
    "start_time": "2021-06-25T17:16:58.346Z"
   },
   {
    "duration": 337,
    "start_time": "2021-06-25T18:53:08.304Z"
   },
   {
    "duration": 627,
    "start_time": "2021-06-25T18:55:33.491Z"
   },
   {
    "duration": 954,
    "start_time": "2021-06-25T18:55:51.743Z"
   },
   {
    "duration": 863,
    "start_time": "2021-06-25T18:56:17.021Z"
   },
   {
    "duration": 1257,
    "start_time": "2021-06-25T18:56:43.533Z"
   },
   {
    "duration": 602,
    "start_time": "2021-06-25T18:56:58.030Z"
   },
   {
    "duration": 623,
    "start_time": "2021-06-25T18:59:51.329Z"
   },
   {
    "duration": 733,
    "start_time": "2021-06-25T19:00:34.867Z"
   },
   {
    "duration": 632,
    "start_time": "2021-06-25T19:00:56.116Z"
   },
   {
    "duration": 891,
    "start_time": "2021-06-25T19:01:02.561Z"
   },
   {
    "duration": 634,
    "start_time": "2021-06-25T19:01:45.602Z"
   },
   {
    "duration": 599,
    "start_time": "2021-06-25T19:04:55.921Z"
   },
   {
    "duration": 713,
    "start_time": "2021-06-25T19:05:33.125Z"
   },
   {
    "duration": 66,
    "start_time": "2021-06-25T19:05:55.463Z"
   },
   {
    "duration": 66,
    "start_time": "2021-06-25T19:06:10.123Z"
   },
   {
    "duration": 66,
    "start_time": "2021-06-25T19:06:22.984Z"
   },
   {
    "duration": 600,
    "start_time": "2021-06-25T19:07:13.703Z"
   },
   {
    "duration": 615,
    "start_time": "2021-06-25T19:07:34.455Z"
   },
   {
    "duration": 947,
    "start_time": "2021-06-25T19:10:16.523Z"
   },
   {
    "duration": 3517,
    "start_time": "2021-06-25T19:10:22.731Z"
   },
   {
    "duration": 632,
    "start_time": "2021-06-25T19:10:36.859Z"
   },
   {
    "duration": 598,
    "start_time": "2021-06-25T19:12:38.121Z"
   },
   {
    "duration": 738,
    "start_time": "2021-06-25T19:26:33.028Z"
   },
   {
    "duration": 65,
    "start_time": "2021-06-25T19:27:10.520Z"
   },
   {
    "duration": 608,
    "start_time": "2021-06-25T19:29:25.526Z"
   },
   {
    "duration": 607,
    "start_time": "2021-06-25T19:29:38.137Z"
   },
   {
    "duration": 607,
    "start_time": "2021-06-25T19:38:27.263Z"
   },
   {
    "duration": 598,
    "start_time": "2021-06-25T19:38:42.914Z"
   },
   {
    "duration": 591,
    "start_time": "2021-06-25T19:39:02.593Z"
   },
   {
    "duration": 840,
    "start_time": "2021-06-25T19:39:10.498Z"
   },
   {
    "duration": 1274,
    "start_time": "2021-06-25T19:39:19.524Z"
   },
   {
    "duration": 574,
    "start_time": "2021-06-25T19:39:40.162Z"
   },
   {
    "duration": 584,
    "start_time": "2021-06-25T19:43:38.764Z"
   },
   {
    "duration": 27,
    "start_time": "2021-06-25T19:45:33.648Z"
   },
   {
    "duration": 10,
    "start_time": "2021-06-25T19:50:00.738Z"
   },
   {
    "duration": 8,
    "start_time": "2021-06-25T19:54:37.712Z"
   },
   {
    "duration": 7,
    "start_time": "2021-06-25T19:55:19.904Z"
   },
   {
    "duration": 7,
    "start_time": "2021-06-25T19:55:30.960Z"
   },
   {
    "duration": 464,
    "start_time": "2021-06-25T19:55:38.560Z"
   },
   {
    "duration": 647,
    "start_time": "2021-06-25T19:55:45.038Z"
   },
   {
    "duration": 9,
    "start_time": "2021-06-25T19:55:56.099Z"
   },
   {
    "duration": 7,
    "start_time": "2021-06-25T19:56:05.457Z"
   },
   {
    "duration": 317,
    "start_time": "2021-06-25T20:19:16.339Z"
   },
   {
    "duration": 865,
    "start_time": "2021-06-25T20:19:41.269Z"
   },
   {
    "duration": 66,
    "start_time": "2021-06-25T20:20:47.974Z"
   },
   {
    "duration": 75,
    "start_time": "2021-06-25T20:21:16.493Z"
   },
   {
    "duration": 950,
    "start_time": "2021-06-25T20:24:17.385Z"
   },
   {
    "duration": 1031,
    "start_time": "2021-06-25T20:24:23.256Z"
   },
   {
    "duration": 66,
    "start_time": "2021-06-25T20:24:32.537Z"
   },
   {
    "duration": 864,
    "start_time": "2021-06-25T20:25:21.102Z"
   },
   {
    "duration": 928,
    "start_time": "2021-06-25T20:25:37.098Z"
   },
   {
    "duration": 844,
    "start_time": "2021-06-25T20:25:58.940Z"
   },
   {
    "duration": 13,
    "start_time": "2021-06-25T20:26:09.275Z"
   },
   {
    "duration": 14,
    "start_time": "2021-06-25T20:26:13.083Z"
   },
   {
    "duration": 65,
    "start_time": "2021-06-25T20:26:22.108Z"
   },
   {
    "duration": 68,
    "start_time": "2021-06-25T20:40:50.110Z"
   },
   {
    "duration": 8,
    "start_time": "2021-06-25T20:41:07.596Z"
   },
   {
    "duration": 6,
    "start_time": "2021-06-25T20:41:51.239Z"
   },
   {
    "duration": 6,
    "start_time": "2021-06-25T20:42:11.400Z"
   },
   {
    "duration": 845,
    "start_time": "2021-06-25T20:42:13.623Z"
   },
   {
    "duration": 884,
    "start_time": "2021-06-25T20:42:18.409Z"
   },
   {
    "duration": 65,
    "start_time": "2021-06-25T20:45:10.742Z"
   },
   {
    "duration": 12,
    "start_time": "2021-06-25T20:54:50.304Z"
   },
   {
    "duration": 23,
    "start_time": "2021-06-25T21:01:22.406Z"
   },
   {
    "duration": 24,
    "start_time": "2021-06-25T21:02:25.064Z"
   },
   {
    "duration": 346,
    "start_time": "2021-06-25T21:10:44.172Z"
   },
   {
    "duration": 62,
    "start_time": "2021-06-25T21:11:42.806Z"
   },
   {
    "duration": 9,
    "start_time": "2021-06-25T21:13:45.906Z"
   },
   {
    "duration": 13,
    "start_time": "2021-06-25T21:13:50.578Z"
   },
   {
    "duration": 265,
    "start_time": "2021-06-25T21:14:26.290Z"
   },
   {
    "duration": 52,
    "start_time": "2021-06-25T21:14:47.128Z"
   },
   {
    "duration": 14,
    "start_time": "2021-06-25T21:16:14.058Z"
   },
   {
    "duration": 130,
    "start_time": "2021-06-25T21:16:52.948Z"
   },
   {
    "duration": 50,
    "start_time": "2021-06-25T21:17:06.916Z"
   },
   {
    "duration": 13,
    "start_time": "2021-06-25T21:17:20.908Z"
   },
   {
    "duration": 15,
    "start_time": "2021-06-25T21:17:33.942Z"
   },
   {
    "duration": 2377,
    "start_time": "2021-06-25T21:21:46.536Z"
   },
   {
    "duration": 935,
    "start_time": "2021-06-25T21:24:38.299Z"
   },
   {
    "duration": 2454,
    "start_time": "2021-06-25T21:25:06.221Z"
   },
   {
    "duration": 1382,
    "start_time": "2021-06-25T21:25:36.877Z"
   },
   {
    "duration": 1488,
    "start_time": "2021-06-25T21:25:50.969Z"
   },
   {
    "duration": 2343,
    "start_time": "2021-06-25T21:25:59.756Z"
   },
   {
    "duration": 932,
    "start_time": "2021-06-25T21:26:33.469Z"
   },
   {
    "duration": 22,
    "start_time": "2021-06-25T21:27:23.919Z"
   },
   {
    "duration": 2358,
    "start_time": "2021-06-25T21:27:29.045Z"
   },
   {
    "duration": 21,
    "start_time": "2021-06-25T21:27:45.615Z"
   },
   {
    "duration": 28,
    "start_time": "2021-06-25T21:27:48.767Z"
   },
   {
    "duration": 27,
    "start_time": "2021-06-25T21:28:07.438Z"
   },
   {
    "duration": 12,
    "start_time": "2021-06-25T21:28:18.511Z"
   },
   {
    "duration": 370,
    "start_time": "2021-06-25T21:28:39.902Z"
   },
   {
    "duration": 14,
    "start_time": "2021-06-25T21:28:46.766Z"
   },
   {
    "duration": 13,
    "start_time": "2021-06-25T21:29:35.151Z"
   },
   {
    "duration": 12,
    "start_time": "2021-06-25T21:29:46.737Z"
   },
   {
    "duration": 14,
    "start_time": "2021-06-25T21:30:10.737Z"
   },
   {
    "duration": 11,
    "start_time": "2021-06-25T21:30:33.185Z"
   },
   {
    "duration": 13,
    "start_time": "2021-06-25T21:30:36.305Z"
   },
   {
    "duration": 13,
    "start_time": "2021-06-25T21:30:39.937Z"
   },
   {
    "duration": 13,
    "start_time": "2021-06-25T21:30:45.729Z"
   },
   {
    "duration": 14,
    "start_time": "2021-06-25T21:33:05.699Z"
   },
   {
    "duration": 231,
    "start_time": "2021-06-25T21:34:04.643Z"
   },
   {
    "duration": 16,
    "start_time": "2021-06-25T21:34:34.181Z"
   },
   {
    "duration": 14,
    "start_time": "2021-06-25T21:34:41.990Z"
   },
   {
    "duration": 14,
    "start_time": "2021-06-25T21:34:51.925Z"
   },
   {
    "duration": 6,
    "start_time": "2021-06-25T21:35:08.933Z"
   },
   {
    "duration": 6,
    "start_time": "2021-06-25T21:35:20.276Z"
   },
   {
    "duration": 66,
    "start_time": "2021-06-25T21:40:37.413Z"
   },
   {
    "duration": 3,
    "start_time": "2021-06-25T21:41:51.197Z"
   },
   {
    "duration": 56,
    "start_time": "2021-06-25T21:46:33.225Z"
   },
   {
    "duration": 9111,
    "start_time": "2021-06-25T21:58:54.208Z"
   },
   {
    "duration": 469,
    "start_time": "2021-06-25T21:59:17.130Z"
   },
   {
    "duration": 464,
    "start_time": "2021-06-25T22:03:43.338Z"
   },
   {
    "duration": 75,
    "start_time": "2021-06-25T22:05:45.662Z"
   },
   {
    "duration": 564,
    "start_time": "2021-06-25T22:07:48.094Z"
   },
   {
    "duration": 26,
    "start_time": "2021-06-25T22:18:59.058Z"
   },
   {
    "duration": 11,
    "start_time": "2021-06-25T22:19:35.346Z"
   },
   {
    "duration": 9,
    "start_time": "2021-06-25T22:20:39.628Z"
   },
   {
    "duration": 11,
    "start_time": "2021-06-25T22:20:54.328Z"
   },
   {
    "duration": 9,
    "start_time": "2021-06-25T22:21:06.477Z"
   },
   {
    "duration": 299,
    "start_time": "2021-06-25T22:22:24.893Z"
   },
   {
    "duration": 623,
    "start_time": "2021-06-25T22:22:58.236Z"
   },
   {
    "duration": 950,
    "start_time": "2021-06-25T22:23:08.638Z"
   },
   {
    "duration": 618,
    "start_time": "2021-06-25T22:23:16.686Z"
   },
   {
    "duration": 301,
    "start_time": "2021-06-25T22:23:22.222Z"
   },
   {
    "duration": 9,
    "start_time": "2021-06-25T22:25:01.984Z"
   },
   {
    "duration": 513,
    "start_time": "2021-06-25T22:26:16.802Z"
   },
   {
    "duration": 292,
    "start_time": "2021-06-25T22:27:51.202Z"
   },
   {
    "duration": 3,
    "start_time": "2021-06-25T22:29:05.506Z"
   },
   {
    "duration": 278,
    "start_time": "2021-06-25T22:29:08.293Z"
   },
   {
    "duration": 66,
    "start_time": "2021-06-25T22:35:33.984Z"
   },
   {
    "duration": 9,
    "start_time": "2021-06-25T22:37:59.990Z"
   },
   {
    "duration": 120,
    "start_time": "2021-06-25T22:38:39.147Z"
   },
   {
    "duration": 9,
    "start_time": "2021-06-25T22:38:45.963Z"
   },
   {
    "duration": 329,
    "start_time": "2021-06-25T22:39:25.933Z"
   },
   {
    "duration": 110,
    "start_time": "2021-06-25T22:39:34.270Z"
   },
   {
    "duration": 9,
    "start_time": "2021-06-25T22:39:43.515Z"
   },
   {
    "duration": 10,
    "start_time": "2021-06-25T22:39:52.397Z"
   },
   {
    "duration": 14,
    "start_time": "2021-06-25T22:41:28.403Z"
   },
   {
    "duration": 22,
    "start_time": "2021-06-25T22:41:48.561Z"
   },
   {
    "duration": 22,
    "start_time": "2021-06-25T22:42:33.343Z"
   },
   {
    "duration": 55,
    "start_time": "2021-06-25T22:45:28.409Z"
   },
   {
    "duration": 15,
    "start_time": "2021-06-25T22:45:55.427Z"
   },
   {
    "duration": 12,
    "start_time": "2021-06-25T22:46:01.379Z"
   },
   {
    "duration": 20,
    "start_time": "2021-06-25T22:46:52.403Z"
   },
   {
    "duration": 396,
    "start_time": "2021-06-25T22:47:10.997Z"
   },
   {
    "duration": 120,
    "start_time": "2021-06-25T22:47:31.413Z"
   },
   {
    "duration": 23,
    "start_time": "2021-06-25T22:47:54.085Z"
   },
   {
    "duration": 18,
    "start_time": "2021-06-25T22:48:03.557Z"
   },
   {
    "duration": 22,
    "start_time": "2021-06-25T22:48:23.301Z"
   },
   {
    "duration": 126,
    "start_time": "2021-06-25T22:50:38.579Z"
   },
   {
    "duration": 114,
    "start_time": "2021-06-25T22:50:51.255Z"
   },
   {
    "duration": 379,
    "start_time": "2021-06-25T22:51:18.951Z"
   },
   {
    "duration": 11,
    "start_time": "2021-06-25T22:52:48.650Z"
   },
   {
    "duration": 10,
    "start_time": "2021-06-25T22:52:59.511Z"
   },
   {
    "duration": 490,
    "start_time": "2021-06-25T22:54:06.441Z"
   },
   {
    "duration": 71,
    "start_time": "2021-06-25T23:02:14.214Z"
   },
   {
    "duration": 76,
    "start_time": "2021-06-25T23:02:21.056Z"
   },
   {
    "duration": 64,
    "start_time": "2021-06-25T23:02:36.640Z"
   },
   {
    "duration": 1210,
    "start_time": "2021-06-25T23:10:52.333Z"
   },
   {
    "duration": 28,
    "start_time": "2021-06-25T23:10:53.546Z"
   },
   {
    "duration": 72,
    "start_time": "2021-06-25T23:10:53.578Z"
   },
   {
    "duration": 106,
    "start_time": "2021-06-25T23:10:53.653Z"
   },
   {
    "duration": 24,
    "start_time": "2021-06-25T23:10:53.762Z"
   },
   {
    "duration": 42,
    "start_time": "2021-06-25T23:10:53.788Z"
   },
   {
    "duration": 50,
    "start_time": "2021-06-25T23:10:53.833Z"
   },
   {
    "duration": 47,
    "start_time": "2021-06-25T23:10:53.887Z"
   },
   {
    "duration": 635,
    "start_time": "2021-06-25T23:10:53.937Z"
   },
   {
    "duration": 619,
    "start_time": "2021-06-25T23:10:54.574Z"
   },
   {
    "duration": 76,
    "start_time": "2021-06-25T23:10:55.195Z"
   },
   {
    "duration": 305,
    "start_time": "2021-06-25T23:10:55.274Z"
   },
   {
    "duration": 15,
    "start_time": "2021-06-25T23:10:55.582Z"
   },
   {
    "duration": 424,
    "start_time": "2021-06-25T23:10:55.610Z"
   },
   {
    "duration": 13,
    "start_time": "2021-06-25T23:10:56.036Z"
   },
   {
    "duration": 11,
    "start_time": "2021-06-25T23:10:56.052Z"
   },
   {
    "duration": 45,
    "start_time": "2021-06-25T23:10:56.066Z"
   },
   {
    "duration": 26,
    "start_time": "2021-06-25T23:10:56.113Z"
   },
   {
    "duration": 95,
    "start_time": "2021-06-25T23:10:56.142Z"
   },
   {
    "duration": 57,
    "start_time": "2021-06-25T23:10:56.240Z"
   },
   {
    "duration": 57,
    "start_time": "2021-06-25T23:10:56.310Z"
   },
   {
    "duration": 13,
    "start_time": "2021-06-25T23:10:56.369Z"
   },
   {
    "duration": 78,
    "start_time": "2021-06-25T23:10:56.408Z"
   },
   {
    "duration": 51,
    "start_time": "2021-06-25T23:10:56.489Z"
   },
   {
    "duration": 83,
    "start_time": "2021-06-25T23:10:56.542Z"
   },
   {
    "duration": 5,
    "start_time": "2021-06-25T23:10:56.628Z"
   },
   {
    "duration": 655,
    "start_time": "2021-06-25T23:10:56.635Z"
   },
   {
    "duration": 875,
    "start_time": "2021-06-25T23:10:57.293Z"
   },
   {
    "duration": 919,
    "start_time": "2021-06-25T23:10:58.171Z"
   },
   {
    "duration": 327,
    "start_time": "2021-06-25T23:10:59.093Z"
   },
   {
    "duration": 318,
    "start_time": "2021-06-25T23:10:59.422Z"
   },
   {
    "duration": 77,
    "start_time": "2021-06-25T23:10:59.743Z"
   },
   {
    "duration": 13,
    "start_time": "2021-06-25T23:10:59.823Z"
   },
   {
    "duration": 35,
    "start_time": "2021-06-25T23:10:59.838Z"
   },
   {
    "duration": 644,
    "start_time": "2021-06-25T23:10:59.875Z"
   },
   {
    "duration": 677,
    "start_time": "2021-06-25T23:11:00.521Z"
   },
   {
    "duration": 619,
    "start_time": "2021-06-25T23:11:01.201Z"
   },
   {
    "duration": 66,
    "start_time": "2021-06-25T23:11:01.822Z"
   },
   {
    "duration": 996,
    "start_time": "2021-06-25T23:11:01.891Z"
   },
   {
    "duration": 20,
    "start_time": "2021-06-25T23:11:02.890Z"
   },
   {
    "duration": 22,
    "start_time": "2021-06-25T23:11:02.912Z"
   },
   {
    "duration": 13,
    "start_time": "2021-06-25T23:11:02.937Z"
   },
   {
    "duration": 2365,
    "start_time": "2021-06-25T23:11:02.952Z"
   },
   {
    "duration": 16,
    "start_time": "2021-06-25T23:11:05.320Z"
   },
   {
    "duration": 8,
    "start_time": "2021-06-25T23:11:05.339Z"
   },
   {
    "duration": 515,
    "start_time": "2021-06-25T23:11:05.350Z"
   },
   {
    "duration": 502,
    "start_time": "2021-06-25T23:11:05.867Z"
   },
   {
    "duration": 484,
    "start_time": "2021-06-25T23:11:06.371Z"
   },
   {
    "duration": 4,
    "start_time": "2021-06-25T23:11:06.857Z"
   },
   {
    "duration": 399,
    "start_time": "2021-06-25T23:11:06.869Z"
   },
   {
    "duration": 587,
    "start_time": "2021-06-25T23:11:07.270Z"
   },
   {
    "duration": 87,
    "start_time": "2021-06-25T23:11:07.860Z"
   },
   {
    "duration": 112,
    "start_time": "2021-06-25T23:11:07.950Z"
   },
   {
    "duration": 26,
    "start_time": "2021-06-25T23:13:25.222Z"
   },
   {
    "duration": 7494,
    "start_time": "2021-06-26T08:17:10.605Z"
   },
   {
    "duration": 297,
    "start_time": "2021-06-26T08:17:18.103Z"
   },
   {
    "duration": 601,
    "start_time": "2021-06-26T08:17:18.403Z"
   },
   {
    "duration": 1100,
    "start_time": "2021-06-26T08:17:19.008Z"
   },
   {
    "duration": 291,
    "start_time": "2021-06-26T08:17:20.113Z"
   },
   {
    "duration": 202,
    "start_time": "2021-06-26T08:17:20.409Z"
   },
   {
    "duration": 401,
    "start_time": "2021-06-26T08:17:20.702Z"
   },
   {
    "duration": 203,
    "start_time": "2021-06-26T08:17:21.105Z"
   },
   {
    "duration": 5887,
    "start_time": "2021-06-26T08:17:21.317Z"
   },
   {
    "duration": 5800,
    "start_time": "2021-06-26T08:17:27.206Z"
   },
   {
    "duration": 491,
    "start_time": "2021-06-26T08:17:33.008Z"
   },
   {
    "duration": 2792,
    "start_time": "2021-06-26T08:17:33.507Z"
   },
   {
    "duration": 98,
    "start_time": "2021-06-26T08:17:36.303Z"
   },
   {
    "duration": 3399,
    "start_time": "2021-06-26T08:17:36.404Z"
   },
   {
    "duration": 190,
    "start_time": "2021-06-26T08:17:39.811Z"
   },
   {
    "duration": 86,
    "start_time": "2021-06-26T08:17:40.016Z"
   },
   {
    "duration": 296,
    "start_time": "2021-06-26T08:17:40.105Z"
   },
   {
    "duration": 696,
    "start_time": "2021-06-26T08:17:40.410Z"
   },
   {
    "duration": 403,
    "start_time": "2021-06-26T08:17:41.109Z"
   },
   {
    "duration": 501,
    "start_time": "2021-06-26T08:17:41.600Z"
   },
   {
    "duration": 106,
    "start_time": "2021-06-26T08:17:42.105Z"
   },
   {
    "duration": 698,
    "start_time": "2021-06-26T08:17:42.301Z"
   },
   {
    "duration": 398,
    "start_time": "2021-06-26T08:17:43.007Z"
   },
   {
    "duration": 298,
    "start_time": "2021-06-26T08:17:43.407Z"
   },
   {
    "duration": 789,
    "start_time": "2021-06-26T08:17:43.710Z"
   },
   {
    "duration": 7,
    "start_time": "2021-06-26T08:17:44.502Z"
   },
   {
    "duration": 5292,
    "start_time": "2021-06-26T08:17:44.512Z"
   },
   {
    "duration": 8104,
    "start_time": "2021-06-26T08:17:49.901Z"
   },
   {
    "duration": 6300,
    "start_time": "2021-06-26T08:17:58.008Z"
   },
   {
    "duration": 3088,
    "start_time": "2021-06-26T08:18:04.311Z"
   },
   {
    "duration": 2688,
    "start_time": "2021-06-26T08:18:07.411Z"
   },
   {
    "duration": 704,
    "start_time": "2021-06-26T08:18:10.103Z"
   },
   {
    "duration": 191,
    "start_time": "2021-06-26T08:18:10.810Z"
   },
   {
    "duration": 295,
    "start_time": "2021-06-26T08:18:11.004Z"
   },
   {
    "duration": 4796,
    "start_time": "2021-06-26T08:18:11.307Z"
   },
   {
    "duration": 4996,
    "start_time": "2021-06-26T08:18:16.106Z"
   },
   {
    "duration": 4408,
    "start_time": "2021-06-26T08:18:21.106Z"
   },
   {
    "duration": 701,
    "start_time": "2021-06-26T08:18:25.604Z"
   },
   {
    "duration": 6613,
    "start_time": "2021-06-26T08:18:26.309Z"
   },
   {
    "duration": 102,
    "start_time": "2021-06-26T08:18:33.002Z"
   },
   {
    "duration": 200,
    "start_time": "2021-06-26T08:18:33.115Z"
   },
   {
    "duration": 93,
    "start_time": "2021-06-26T08:18:33.318Z"
   },
   {
    "duration": 18294,
    "start_time": "2021-06-26T08:18:33.414Z"
   },
   {
    "duration": 191,
    "start_time": "2021-06-26T08:18:51.711Z"
   },
   {
    "duration": 98,
    "start_time": "2021-06-26T08:18:51.905Z"
   },
   {
    "duration": 2898,
    "start_time": "2021-06-26T08:18:52.006Z"
   },
   {
    "duration": 3003,
    "start_time": "2021-06-26T08:18:54.908Z"
   },
   {
    "duration": 2998,
    "start_time": "2021-06-26T08:18:58.105Z"
   },
   {
    "duration": 2692,
    "start_time": "2021-06-26T08:19:01.109Z"
   },
   {
    "duration": 4505,
    "start_time": "2021-06-26T08:19:03.804Z"
   },
   {
    "duration": 5,
    "start_time": "2021-06-26T14:45:39.395Z"
   },
   {
    "duration": 693,
    "start_time": "2021-06-26T14:45:39.955Z"
   },
   {
    "duration": 750,
    "start_time": "2021-06-26T16:10:16.402Z"
   },
   {
    "duration": 2377,
    "start_time": "2021-06-26T16:10:21.044Z"
   },
   {
    "duration": 27,
    "start_time": "2021-06-26T16:10:23.766Z"
   },
   {
    "duration": 31,
    "start_time": "2021-06-26T16:11:03.770Z"
   },
   {
    "duration": 172,
    "start_time": "2021-06-26T16:19:26.348Z"
   },
   {
    "duration": 111,
    "start_time": "2021-06-26T16:19:51.468Z"
   },
   {
    "duration": 114,
    "start_time": "2021-06-26T16:20:00.872Z"
   },
   {
    "duration": 10,
    "start_time": "2021-06-26T16:35:38.700Z"
   },
   {
    "duration": 412,
    "start_time": "2021-06-26T16:35:45.285Z"
   },
   {
    "duration": 135,
    "start_time": "2021-06-26T16:36:28.965Z"
   },
   {
    "duration": 142,
    "start_time": "2021-06-26T16:42:07.271Z"
   },
   {
    "duration": 116,
    "start_time": "2021-06-26T16:46:35.131Z"
   },
   {
    "duration": 142,
    "start_time": "2021-06-26T16:51:50.255Z"
   },
   {
    "duration": 373,
    "start_time": "2021-06-26T17:24:04.016Z"
   },
   {
    "duration": 10,
    "start_time": "2021-06-26T17:24:19.262Z"
   },
   {
    "duration": 616,
    "start_time": "2021-06-26T17:24:21.920Z"
   },
   {
    "duration": 6,
    "start_time": "2021-06-26T17:24:23.022Z"
   },
   {
    "duration": 7,
    "start_time": "2021-06-26T17:24:24.173Z"
   },
   {
    "duration": 613,
    "start_time": "2021-06-26T17:24:26.798Z"
   },
   {
    "duration": 7,
    "start_time": "2021-06-26T17:24:29.693Z"
   },
   {
    "duration": 7,
    "start_time": "2021-06-26T17:24:30.800Z"
   },
   {
    "duration": 250,
    "start_time": "2021-06-26T17:24:34.822Z"
   },
   {
    "duration": 42,
    "start_time": "2021-06-26T17:24:37.520Z"
   },
   {
    "duration": 15,
    "start_time": "2021-06-26T17:24:46.000Z"
   },
   {
    "duration": 441,
    "start_time": "2021-06-26T17:24:50.032Z"
   },
   {
    "duration": 14,
    "start_time": "2021-06-26T17:24:53.744Z"
   },
   {
    "duration": 5,
    "start_time": "2021-06-26T17:24:57.920Z"
   },
   {
    "duration": 25,
    "start_time": "2021-06-26T17:24:59.360Z"
   },
   {
    "duration": 19,
    "start_time": "2021-06-26T17:25:03.328Z"
   },
   {
    "duration": 21,
    "start_time": "2021-06-26T17:25:06.208Z"
   },
   {
    "duration": 23,
    "start_time": "2021-06-26T17:25:08.752Z"
   },
   {
    "duration": 5,
    "start_time": "2021-06-26T17:25:11.568Z"
   },
   {
    "duration": 16,
    "start_time": "2021-06-26T17:25:12.688Z"
   },
   {
    "duration": 26,
    "start_time": "2021-06-26T17:25:13.872Z"
   },
   {
    "duration": 60,
    "start_time": "2021-06-26T17:25:21.486Z"
   },
   {
    "duration": 14,
    "start_time": "2021-06-26T17:25:22.942Z"
   },
   {
    "duration": 64,
    "start_time": "2021-06-26T17:25:24.847Z"
   },
   {
    "duration": 8,
    "start_time": "2021-06-26T17:25:26.432Z"
   },
   {
    "duration": 17,
    "start_time": "2021-06-26T17:25:28.112Z"
   },
   {
    "duration": 5,
    "start_time": "2021-06-26T17:25:29.694Z"
   },
   {
    "duration": 36,
    "start_time": "2021-06-26T17:25:33.008Z"
   },
   {
    "duration": 6,
    "start_time": "2021-06-26T17:25:36.080Z"
   },
   {
    "duration": 328,
    "start_time": "2021-06-26T17:25:38.432Z"
   },
   {
    "duration": 309,
    "start_time": "2021-06-26T17:25:41.360Z"
   },
   {
    "duration": 571,
    "start_time": "2021-06-26T17:26:01.567Z"
   },
   {
    "duration": 320,
    "start_time": "2021-06-26T17:26:14.959Z"
   },
   {
    "duration": 317,
    "start_time": "2021-06-26T17:26:28.256Z"
   },
   {
    "duration": 546,
    "start_time": "2021-06-26T17:26:35.728Z"
   },
   {
    "duration": 316,
    "start_time": "2021-06-26T17:26:40.080Z"
   },
   {
    "duration": 627,
    "start_time": "2021-06-26T17:26:50.962Z"
   },
   {
    "duration": 298,
    "start_time": "2021-06-26T17:27:16.722Z"
   },
   {
    "duration": 443,
    "start_time": "2021-06-26T17:27:22.288Z"
   },
   {
    "duration": 337,
    "start_time": "2021-06-26T17:27:34.609Z"
   },
   {
    "duration": 409,
    "start_time": "2021-06-26T17:27:40.480Z"
   },
   {
    "duration": 547,
    "start_time": "2021-06-26T17:27:56.322Z"
   },
   {
    "duration": 314,
    "start_time": "2021-06-26T17:28:14.653Z"
   },
   {
    "duration": 425,
    "start_time": "2021-06-26T17:39:22.646Z"
   },
   {
    "duration": 395,
    "start_time": "2021-06-26T17:39:39.196Z"
   },
   {
    "duration": 124,
    "start_time": "2021-06-26T17:41:20.624Z"
   },
   {
    "duration": 6,
    "start_time": "2021-06-26T17:45:03.222Z"
   },
   {
    "duration": 62,
    "start_time": "2021-06-26T17:45:05.841Z"
   },
   {
    "duration": 13,
    "start_time": "2021-06-26T17:45:55.091Z"
   },
   {
    "duration": 32,
    "start_time": "2021-06-26T17:46:12.066Z"
   },
   {
    "duration": 13,
    "start_time": "2021-06-26T17:48:14.346Z"
   },
   {
    "duration": 29,
    "start_time": "2021-06-26T17:48:17.812Z"
   },
   {
    "duration": 723,
    "start_time": "2021-06-26T17:49:34.593Z"
   },
   {
    "duration": 611,
    "start_time": "2021-06-26T17:50:05.946Z"
   },
   {
    "duration": 589,
    "start_time": "2021-06-26T17:50:09.924Z"
   },
   {
    "duration": 589,
    "start_time": "2021-06-26T17:51:30.915Z"
   },
   {
    "duration": 65,
    "start_time": "2021-06-26T17:55:54.871Z"
   },
   {
    "duration": 6,
    "start_time": "2021-06-26T17:56:10.603Z"
   },
   {
    "duration": 312,
    "start_time": "2021-06-26T17:57:53.559Z"
   },
   {
    "duration": 538,
    "start_time": "2021-06-26T17:58:01.771Z"
   },
   {
    "duration": 14,
    "start_time": "2021-06-26T17:58:05.643Z"
   },
   {
    "duration": 302,
    "start_time": "2021-06-26T17:58:11.570Z"
   },
   {
    "duration": 13,
    "start_time": "2021-06-26T18:00:55.115Z"
   },
   {
    "duration": 24,
    "start_time": "2021-06-26T18:00:57.775Z"
   },
   {
    "duration": 15,
    "start_time": "2021-06-26T18:07:13.737Z"
   },
   {
    "duration": 15,
    "start_time": "2021-06-26T18:07:29.094Z"
   },
   {
    "duration": 2456,
    "start_time": "2021-06-26T18:07:47.283Z"
   },
   {
    "duration": 2318,
    "start_time": "2021-06-26T18:07:53.859Z"
   },
   {
    "duration": 2275,
    "start_time": "2021-06-26T18:10:08.471Z"
   },
   {
    "duration": 660,
    "start_time": "2021-06-26T18:10:32.999Z"
   },
   {
    "duration": 2380,
    "start_time": "2021-06-26T18:10:50.759Z"
   },
   {
    "duration": 2377,
    "start_time": "2021-06-26T18:11:01.015Z"
   },
   {
    "duration": 2355,
    "start_time": "2021-06-26T18:11:06.633Z"
   },
   {
    "duration": 635,
    "start_time": "2021-06-26T18:11:28.232Z"
   },
   {
    "duration": 2391,
    "start_time": "2021-06-26T18:11:41.545Z"
   },
   {
    "duration": 2474,
    "start_time": "2021-06-26T18:11:55.464Z"
   },
   {
    "duration": 2303,
    "start_time": "2021-06-26T18:13:35.209Z"
   },
   {
    "duration": 2264,
    "start_time": "2021-06-26T18:13:42.234Z"
   },
   {
    "duration": 2407,
    "start_time": "2021-06-26T18:13:48.762Z"
   },
   {
    "duration": 2607,
    "start_time": "2021-06-26T18:14:22.843Z"
   },
   {
    "duration": 2757,
    "start_time": "2021-06-26T18:14:38.522Z"
   },
   {
    "duration": 2822,
    "start_time": "2021-06-26T18:14:56.091Z"
   },
   {
    "duration": 2820,
    "start_time": "2021-06-26T18:15:16.044Z"
   },
   {
    "duration": 118,
    "start_time": "2021-06-26T18:15:48.171Z"
   },
   {
    "duration": 610,
    "start_time": "2021-06-26T18:16:14.717Z"
   },
   {
    "duration": 2340,
    "start_time": "2021-06-26T18:16:39.020Z"
   },
   {
    "duration": 2595,
    "start_time": "2021-06-26T18:16:51.019Z"
   },
   {
    "duration": 2474,
    "start_time": "2021-06-26T18:16:58.143Z"
   },
   {
    "duration": 2454,
    "start_time": "2021-06-26T18:17:06.572Z"
   },
   {
    "duration": 2439,
    "start_time": "2021-06-26T18:17:28.939Z"
   },
   {
    "duration": 2588,
    "start_time": "2021-06-26T18:17:40.380Z"
   },
   {
    "duration": 2564,
    "start_time": "2021-06-26T18:17:52.045Z"
   },
   {
    "duration": 2594,
    "start_time": "2021-06-26T18:18:00.382Z"
   },
   {
    "duration": 2379,
    "start_time": "2021-06-26T18:18:28.413Z"
   },
   {
    "duration": 2470,
    "start_time": "2021-06-26T18:18:46.734Z"
   },
   {
    "duration": 2418,
    "start_time": "2021-06-26T18:18:56.861Z"
   },
   {
    "duration": 13,
    "start_time": "2021-06-26T18:26:33.193Z"
   },
   {
    "duration": 13,
    "start_time": "2021-06-26T18:26:36.973Z"
   },
   {
    "duration": 472,
    "start_time": "2021-06-26T18:30:42.574Z"
   },
   {
    "duration": 506,
    "start_time": "2021-06-26T18:31:00.776Z"
   },
   {
    "duration": 453,
    "start_time": "2021-06-26T18:31:28.794Z"
   },
   {
    "duration": 9,
    "start_time": "2021-06-26T18:32:45.312Z"
   },
   {
    "duration": 295,
    "start_time": "2021-06-26T18:33:45.138Z"
   },
   {
    "duration": 10,
    "start_time": "2021-06-26T18:35:30.419Z"
   },
   {
    "duration": 517,
    "start_time": "2021-06-26T18:36:28.825Z"
   },
   {
    "duration": 131,
    "start_time": "2021-06-26T18:36:41.876Z"
   },
   {
    "duration": 639,
    "start_time": "2021-06-26T18:36:52.078Z"
   },
   {
    "duration": 140,
    "start_time": "2021-06-26T18:39:05.589Z"
   },
   {
    "duration": 293,
    "start_time": "2021-06-26T19:04:59.403Z"
   },
   {
    "duration": 309,
    "start_time": "2021-06-26T19:05:00.917Z"
   },
   {
    "duration": 758,
    "start_time": "2021-06-26T19:40:52.897Z"
   },
   {
    "duration": 2443,
    "start_time": "2021-06-26T19:41:12.246Z"
   },
   {
    "duration": 2427,
    "start_time": "2021-06-26T19:41:22.420Z"
   },
   {
    "duration": 1403,
    "start_time": "2021-06-26T20:19:30.790Z"
   },
   {
    "duration": 36,
    "start_time": "2021-06-26T20:19:32.196Z"
   },
   {
    "duration": 27,
    "start_time": "2021-06-26T20:19:32.237Z"
   },
   {
    "duration": 92,
    "start_time": "2021-06-26T20:19:32.267Z"
   },
   {
    "duration": 109,
    "start_time": "2021-06-26T20:19:32.361Z"
   },
   {
    "duration": 39,
    "start_time": "2021-06-26T20:19:32.473Z"
   },
   {
    "duration": 27,
    "start_time": "2021-06-26T20:19:32.515Z"
   },
   {
    "duration": 78,
    "start_time": "2021-06-26T20:19:32.546Z"
   },
   {
    "duration": 35,
    "start_time": "2021-06-26T20:19:32.628Z"
   },
   {
    "duration": 12,
    "start_time": "2021-06-26T20:19:32.666Z"
   },
   {
    "duration": 1001,
    "start_time": "2021-06-26T20:19:32.681Z"
   },
   {
    "duration": 7,
    "start_time": "2021-06-26T20:19:33.685Z"
   },
   {
    "duration": 19,
    "start_time": "2021-06-26T20:19:33.695Z"
   },
   {
    "duration": 1007,
    "start_time": "2021-06-26T20:19:33.717Z"
   },
   {
    "duration": 7,
    "start_time": "2021-06-26T20:19:34.727Z"
   },
   {
    "duration": 7,
    "start_time": "2021-06-26T20:19:34.737Z"
   },
   {
    "duration": 100,
    "start_time": "2021-06-26T20:19:34.747Z"
   },
   {
    "duration": 270,
    "start_time": "2021-06-26T20:19:34.850Z"
   },
   {
    "duration": 45,
    "start_time": "2021-06-26T20:19:35.122Z"
   },
   {
    "duration": 45,
    "start_time": "2021-06-26T20:19:35.170Z"
   },
   {
    "duration": 427,
    "start_time": "2021-06-26T20:19:35.217Z"
   },
   {
    "duration": 14,
    "start_time": "2021-06-26T20:19:35.646Z"
   },
   {
    "duration": 8,
    "start_time": "2021-06-26T20:19:35.666Z"
   },
   {
    "duration": 52,
    "start_time": "2021-06-26T20:19:35.678Z"
   },
   {
    "duration": 21,
    "start_time": "2021-06-26T20:19:35.732Z"
   },
   {
    "duration": 84,
    "start_time": "2021-06-26T20:19:35.756Z"
   },
   {
    "duration": 23,
    "start_time": "2021-06-26T20:19:35.843Z"
   },
   {
    "duration": 5,
    "start_time": "2021-06-26T20:19:35.869Z"
   },
   {
    "duration": 54,
    "start_time": "2021-06-26T20:19:35.877Z"
   },
   {
    "duration": 27,
    "start_time": "2021-06-26T20:19:35.934Z"
   },
   {
    "duration": 77,
    "start_time": "2021-06-26T20:19:35.964Z"
   },
   {
    "duration": 14,
    "start_time": "2021-06-26T20:19:36.044Z"
   },
   {
    "duration": 93,
    "start_time": "2021-06-26T20:19:36.061Z"
   },
   {
    "duration": 10,
    "start_time": "2021-06-26T20:19:36.157Z"
   },
   {
    "duration": 39,
    "start_time": "2021-06-26T20:19:36.170Z"
   },
   {
    "duration": 6,
    "start_time": "2021-06-26T20:19:36.212Z"
   },
   {
    "duration": 42,
    "start_time": "2021-06-26T20:19:36.221Z"
   },
   {
    "duration": 8,
    "start_time": "2021-06-26T20:19:36.265Z"
   },
   {
    "duration": 357,
    "start_time": "2021-06-26T20:19:36.276Z"
   },
   {
    "duration": 596,
    "start_time": "2021-06-26T20:19:36.637Z"
   },
   {
    "duration": 347,
    "start_time": "2021-06-26T20:19:37.236Z"
   },
   {
    "duration": 685,
    "start_time": "2021-06-26T20:19:37.585Z"
   },
   {
    "duration": 327,
    "start_time": "2021-06-26T20:19:38.273Z"
   },
   {
    "duration": 453,
    "start_time": "2021-06-26T20:19:38.609Z"
   },
   {
    "duration": 342,
    "start_time": "2021-06-26T20:19:39.064Z"
   },
   {
    "duration": 442,
    "start_time": "2021-06-26T20:19:39.409Z"
   },
   {
    "duration": 321,
    "start_time": "2021-06-26T20:19:39.854Z"
   },
   {
    "duration": 744,
    "start_time": "2021-06-26T20:19:40.178Z"
   },
   {
    "duration": 8,
    "start_time": "2021-06-26T20:19:40.925Z"
   },
   {
    "duration": 134,
    "start_time": "2021-06-26T20:19:40.937Z"
   },
   {
    "duration": 18,
    "start_time": "2021-06-26T20:19:41.074Z"
   },
   {
    "duration": 39,
    "start_time": "2021-06-26T20:19:41.109Z"
   },
   {
    "duration": 822,
    "start_time": "2021-06-26T20:19:41.152Z"
   },
   {
    "duration": 310,
    "start_time": "2021-06-26T20:19:41.977Z"
   },
   {
    "duration": 337,
    "start_time": "2021-06-26T20:19:42.291Z"
   },
   {
    "duration": 619,
    "start_time": "2021-06-26T20:19:42.631Z"
   },
   {
    "duration": 88,
    "start_time": "2021-06-26T20:19:43.253Z"
   },
   {
    "duration": 8,
    "start_time": "2021-06-26T20:19:43.344Z"
   },
   {
    "duration": 347,
    "start_time": "2021-06-26T20:19:43.354Z"
   },
   {
    "duration": 557,
    "start_time": "2021-06-26T20:19:43.708Z"
   },
   {
    "duration": 14,
    "start_time": "2021-06-26T20:19:44.268Z"
   },
   {
    "duration": 32,
    "start_time": "2021-06-26T20:19:44.284Z"
   },
   {
    "duration": 30,
    "start_time": "2021-06-26T20:19:44.319Z"
   },
   {
    "duration": 13,
    "start_time": "2021-06-26T20:19:44.351Z"
   },
   {
    "duration": 50,
    "start_time": "2021-06-26T20:19:44.366Z"
   },
   {
    "duration": 2619,
    "start_time": "2021-06-26T20:19:44.418Z"
   },
   {
    "duration": 13,
    "start_time": "2021-06-26T20:19:47.040Z"
   },
   {
    "duration": 6,
    "start_time": "2021-06-26T20:19:47.060Z"
   },
   {
    "duration": 493,
    "start_time": "2021-06-26T20:19:47.069Z"
   },
   {
    "duration": 492,
    "start_time": "2021-06-26T20:19:47.565Z"
   },
   {
    "duration": 477,
    "start_time": "2021-06-26T20:19:48.060Z"
   },
   {
    "duration": 9,
    "start_time": "2021-06-26T20:19:48.540Z"
   },
   {
    "duration": 296,
    "start_time": "2021-06-26T20:19:48.551Z"
   },
   {
    "duration": 9,
    "start_time": "2021-06-26T20:19:48.849Z"
   },
   {
    "duration": 522,
    "start_time": "2021-06-26T20:19:48.860Z"
   },
   {
    "duration": 834,
    "start_time": "2021-06-27T19:58:00.015Z"
   },
   {
    "duration": 19,
    "start_time": "2021-06-27T19:58:00.853Z"
   },
   {
    "duration": 27,
    "start_time": "2021-06-27T19:58:00.874Z"
   },
   {
    "duration": 39,
    "start_time": "2021-06-27T19:58:00.903Z"
   },
   {
    "duration": 83,
    "start_time": "2021-06-27T19:58:00.943Z"
   },
   {
    "duration": 16,
    "start_time": "2021-06-27T19:58:01.028Z"
   },
   {
    "duration": 20,
    "start_time": "2021-06-27T19:58:01.047Z"
   },
   {
    "duration": 49,
    "start_time": "2021-06-27T19:58:01.070Z"
   },
   {
    "duration": 17,
    "start_time": "2021-06-27T19:58:01.120Z"
   },
   {
    "duration": 7,
    "start_time": "2021-06-27T19:58:01.138Z"
   },
   {
    "duration": 357,
    "start_time": "2021-06-27T19:58:01.147Z"
   },
   {
    "duration": 4,
    "start_time": "2021-06-27T19:58:01.506Z"
   },
   {
    "duration": 15,
    "start_time": "2021-06-27T19:58:01.511Z"
   },
   {
    "duration": 337,
    "start_time": "2021-06-27T19:58:01.528Z"
   },
   {
    "duration": 4,
    "start_time": "2021-06-27T19:58:01.867Z"
   },
   {
    "duration": 13,
    "start_time": "2021-06-27T19:58:01.872Z"
   },
   {
    "duration": 45,
    "start_time": "2021-06-27T19:58:01.887Z"
   },
   {
    "duration": 141,
    "start_time": "2021-06-27T19:58:01.934Z"
   },
   {
    "duration": 29,
    "start_time": "2021-06-27T19:58:02.077Z"
   },
   {
    "duration": 12,
    "start_time": "2021-06-27T19:58:02.108Z"
   },
   {
    "duration": 258,
    "start_time": "2021-06-27T19:58:02.122Z"
   },
   {
    "duration": 9,
    "start_time": "2021-06-27T19:58:02.387Z"
   },
   {
    "duration": 5,
    "start_time": "2021-06-27T19:58:02.398Z"
   },
   {
    "duration": 20,
    "start_time": "2021-06-27T19:58:02.404Z"
   },
   {
    "duration": 11,
    "start_time": "2021-06-27T19:58:02.426Z"
   },
   {
    "duration": 85,
    "start_time": "2021-06-27T19:58:02.439Z"
   },
   {
    "duration": 18,
    "start_time": "2021-06-27T19:58:02.526Z"
   },
   {
    "duration": 3,
    "start_time": "2021-06-27T19:58:02.546Z"
   },
   {
    "duration": 13,
    "start_time": "2021-06-27T19:58:02.550Z"
   },
   {
    "duration": 34,
    "start_time": "2021-06-27T19:58:02.564Z"
   },
   {
    "duration": 40,
    "start_time": "2021-06-27T19:58:02.599Z"
   },
   {
    "duration": 8,
    "start_time": "2021-06-27T19:58:02.640Z"
   },
   {
    "duration": 59,
    "start_time": "2021-06-27T19:58:02.650Z"
   },
   {
    "duration": 6,
    "start_time": "2021-06-27T19:58:02.710Z"
   },
   {
    "duration": 13,
    "start_time": "2021-06-27T19:58:02.718Z"
   },
   {
    "duration": 3,
    "start_time": "2021-06-27T19:58:02.732Z"
   },
   {
    "duration": 26,
    "start_time": "2021-06-27T19:58:02.737Z"
   },
   {
    "duration": 20,
    "start_time": "2021-06-27T19:58:02.765Z"
   },
   {
    "duration": 213,
    "start_time": "2021-06-27T19:58:02.787Z"
   },
   {
    "duration": 347,
    "start_time": "2021-06-27T19:58:03.002Z"
   },
   {
    "duration": 197,
    "start_time": "2021-06-27T19:58:03.351Z"
   },
   {
    "duration": 336,
    "start_time": "2021-06-27T19:58:03.550Z"
   },
   {
    "duration": 190,
    "start_time": "2021-06-27T19:58:03.887Z"
   },
   {
    "duration": 277,
    "start_time": "2021-06-27T19:58:04.079Z"
   },
   {
    "duration": 194,
    "start_time": "2021-06-27T19:58:04.358Z"
   },
   {
    "duration": 254,
    "start_time": "2021-06-27T19:58:04.553Z"
   },
   {
    "duration": 201,
    "start_time": "2021-06-27T19:58:04.809Z"
   },
   {
    "duration": 319,
    "start_time": "2021-06-27T19:58:05.012Z"
   },
   {
    "duration": 4,
    "start_time": "2021-06-27T19:58:05.332Z"
   },
   {
    "duration": 53,
    "start_time": "2021-06-27T19:58:05.338Z"
   },
   {
    "duration": 8,
    "start_time": "2021-06-27T19:58:05.393Z"
   },
   {
    "duration": 19,
    "start_time": "2021-06-27T19:58:05.402Z"
   },
   {
    "duration": 383,
    "start_time": "2021-06-27T19:58:05.423Z"
   },
   {
    "duration": 201,
    "start_time": "2021-06-27T19:58:05.807Z"
   },
   {
    "duration": 193,
    "start_time": "2021-06-27T19:58:06.010Z"
   },
   {
    "duration": 368,
    "start_time": "2021-06-27T19:58:06.205Z"
   },
   {
    "duration": 48,
    "start_time": "2021-06-27T19:58:06.575Z"
   },
   {
    "duration": 4,
    "start_time": "2021-06-27T19:58:06.624Z"
   },
   {
    "duration": 195,
    "start_time": "2021-06-27T19:58:06.630Z"
   },
   {
    "duration": 336,
    "start_time": "2021-06-27T19:58:06.827Z"
   },
   {
    "duration": 20,
    "start_time": "2021-06-27T19:58:07.165Z"
   },
   {
    "duration": 9,
    "start_time": "2021-06-27T19:58:07.186Z"
   },
   {
    "duration": 15,
    "start_time": "2021-06-27T19:58:07.197Z"
   },
   {
    "duration": 9,
    "start_time": "2021-06-27T19:58:07.214Z"
   },
   {
    "duration": 10,
    "start_time": "2021-06-27T19:58:07.224Z"
   },
   {
    "duration": 1631,
    "start_time": "2021-06-27T19:58:07.235Z"
   },
   {
    "duration": 15,
    "start_time": "2021-06-27T19:58:08.870Z"
   },
   {
    "duration": 3,
    "start_time": "2021-06-27T19:58:08.887Z"
   },
   {
    "duration": 354,
    "start_time": "2021-06-27T19:58:08.891Z"
   },
   {
    "duration": 363,
    "start_time": "2021-06-27T19:58:09.246Z"
   },
   {
    "duration": 310,
    "start_time": "2021-06-27T19:58:09.610Z"
   },
   {
    "duration": 6,
    "start_time": "2021-06-27T19:58:09.922Z"
   },
   {
    "duration": 180,
    "start_time": "2021-06-27T19:58:09.930Z"
   },
   {
    "duration": 7,
    "start_time": "2021-06-27T19:58:10.112Z"
   },
   {
    "duration": 322,
    "start_time": "2021-06-27T19:58:10.120Z"
   },
   {
    "duration": 2993,
    "start_time": "2021-06-30T22:13:28.777Z"
   },
   {
    "duration": 1348,
    "start_time": "2021-06-30T22:14:05.746Z"
   },
   {
    "duration": 27,
    "start_time": "2021-06-30T22:14:07.097Z"
   },
   {
    "duration": 43,
    "start_time": "2021-06-30T22:14:07.128Z"
   },
   {
    "duration": 71,
    "start_time": "2021-06-30T22:14:07.174Z"
   },
   {
    "duration": 103,
    "start_time": "2021-06-30T22:14:07.247Z"
   },
   {
    "duration": 22,
    "start_time": "2021-06-30T22:14:07.353Z"
   },
   {
    "duration": 45,
    "start_time": "2021-06-30T22:14:07.378Z"
   },
   {
    "duration": 52,
    "start_time": "2021-06-30T22:14:07.427Z"
   },
   {
    "duration": 46,
    "start_time": "2021-06-30T22:14:07.481Z"
   },
   {
    "duration": 9,
    "start_time": "2021-06-30T22:14:07.529Z"
   },
   {
    "duration": 647,
    "start_time": "2021-06-30T22:14:07.540Z"
   },
   {
    "duration": 6,
    "start_time": "2021-06-30T22:14:08.190Z"
   },
   {
    "duration": 6,
    "start_time": "2021-06-30T22:14:08.208Z"
   },
   {
    "duration": 13,
    "start_time": "2021-06-30T22:14:08.216Z"
   },
   {
    "duration": 633,
    "start_time": "2021-06-30T22:14:08.231Z"
   },
   {
    "duration": 5,
    "start_time": "2021-06-30T22:14:08.866Z"
   },
   {
    "duration": 16,
    "start_time": "2021-06-30T22:14:08.873Z"
   },
   {
    "duration": 74,
    "start_time": "2021-06-30T22:14:08.891Z"
   },
   {
    "duration": 277,
    "start_time": "2021-06-30T22:14:08.967Z"
   },
   {
    "duration": 43,
    "start_time": "2021-06-30T22:14:09.246Z"
   },
   {
    "duration": 32,
    "start_time": "2021-06-30T22:14:09.292Z"
   },
   {
    "duration": 533,
    "start_time": "2021-06-30T22:14:09.327Z"
   },
   {
    "duration": 13,
    "start_time": "2021-06-30T22:14:09.866Z"
   },
   {
    "duration": 25,
    "start_time": "2021-06-30T22:14:09.884Z"
   },
   {
    "duration": 24,
    "start_time": "2021-06-30T22:14:09.912Z"
   },
   {
    "duration": 21,
    "start_time": "2021-06-30T22:14:09.938Z"
   },
   {
    "duration": 91,
    "start_time": "2021-06-30T22:14:09.962Z"
   },
   {
    "duration": 27,
    "start_time": "2021-06-30T22:14:10.055Z"
   },
   {
    "duration": 23,
    "start_time": "2021-06-30T22:14:10.085Z"
   },
   {
    "duration": 27,
    "start_time": "2021-06-30T22:14:10.111Z"
   },
   {
    "duration": 27,
    "start_time": "2021-06-30T22:14:10.141Z"
   },
   {
    "duration": 75,
    "start_time": "2021-06-30T22:14:10.170Z"
   },
   {
    "duration": 12,
    "start_time": "2021-06-30T22:14:10.248Z"
   },
   {
    "duration": 83,
    "start_time": "2021-06-30T22:14:10.263Z"
   },
   {
    "duration": 9,
    "start_time": "2021-06-30T22:14:10.349Z"
   },
   {
    "duration": 19,
    "start_time": "2021-06-30T22:14:10.360Z"
   },
   {
    "duration": 27,
    "start_time": "2021-06-30T22:14:10.382Z"
   },
   {
    "duration": 36,
    "start_time": "2021-06-30T22:14:10.411Z"
   },
   {
    "duration": 5,
    "start_time": "2021-06-30T22:14:10.450Z"
   },
   {
    "duration": 341,
    "start_time": "2021-06-30T22:14:10.458Z"
   },
   {
    "duration": 723,
    "start_time": "2021-06-30T22:14:10.809Z"
   },
   {
    "duration": 400,
    "start_time": "2021-06-30T22:14:11.535Z"
   },
   {
    "duration": 583,
    "start_time": "2021-06-30T22:14:11.938Z"
   },
   {
    "duration": 327,
    "start_time": "2021-06-30T22:14:12.524Z"
   },
   {
    "duration": 456,
    "start_time": "2021-06-30T22:14:12.853Z"
   },
   {
    "duration": 326,
    "start_time": "2021-06-30T22:14:13.311Z"
   },
   {
    "duration": 425,
    "start_time": "2021-06-30T22:14:13.639Z"
   },
   {
    "duration": 320,
    "start_time": "2021-06-30T22:14:14.066Z"
   },
   {
    "duration": 483,
    "start_time": "2021-06-30T22:14:14.388Z"
   },
   {
    "duration": 6,
    "start_time": "2021-06-30T22:14:14.874Z"
   },
   {
    "duration": 84,
    "start_time": "2021-06-30T22:14:14.882Z"
   },
   {
    "duration": 13,
    "start_time": "2021-06-30T22:14:14.968Z"
   },
   {
    "duration": 47,
    "start_time": "2021-06-30T22:14:14.984Z"
   },
   {
    "duration": 625,
    "start_time": "2021-06-30T22:14:15.033Z"
   },
   {
    "duration": 310,
    "start_time": "2021-06-30T22:14:15.660Z"
   },
   {
    "duration": 317,
    "start_time": "2021-06-30T22:14:15.973Z"
   },
   {
    "duration": 578,
    "start_time": "2021-06-30T22:14:16.292Z"
   },
   {
    "duration": 79,
    "start_time": "2021-06-30T22:14:16.874Z"
   },
   {
    "duration": 7,
    "start_time": "2021-06-30T22:14:16.956Z"
   },
   {
    "duration": 347,
    "start_time": "2021-06-30T22:14:16.965Z"
   },
   {
    "duration": 634,
    "start_time": "2021-06-30T22:14:17.315Z"
   },
   {
    "duration": 13,
    "start_time": "2021-06-30T22:14:17.951Z"
   },
   {
    "duration": 10,
    "start_time": "2021-06-30T22:14:17.967Z"
   },
   {
    "duration": 49,
    "start_time": "2021-06-30T22:14:17.979Z"
   },
   {
    "duration": 13,
    "start_time": "2021-06-30T22:14:18.030Z"
   },
   {
    "duration": 16,
    "start_time": "2021-06-30T22:14:18.046Z"
   },
   {
    "duration": 2497,
    "start_time": "2021-06-30T22:14:18.064Z"
   },
   {
    "duration": 13,
    "start_time": "2021-06-30T22:14:20.571Z"
   },
   {
    "duration": 26,
    "start_time": "2021-06-30T22:14:20.586Z"
   },
   {
    "duration": 448,
    "start_time": "2021-06-30T22:14:20.615Z"
   },
   {
    "duration": 480,
    "start_time": "2021-06-30T22:14:21.065Z"
   },
   {
    "duration": 449,
    "start_time": "2021-06-30T22:14:21.548Z"
   },
   {
    "duration": 13,
    "start_time": "2021-06-30T22:14:22.000Z"
   },
   {
    "duration": 282,
    "start_time": "2021-06-30T22:14:22.016Z"
   },
   {
    "duration": 14,
    "start_time": "2021-06-30T22:14:22.301Z"
   },
   {
    "duration": 508,
    "start_time": "2021-06-30T22:14:22.317Z"
   },
   {
    "duration": 419,
    "start_time": "2021-07-07T12:23:51.291Z"
   },
   {
    "duration": 1678,
    "start_time": "2021-07-07T12:24:12.145Z"
   },
   {
    "duration": 44,
    "start_time": "2021-07-07T12:24:13.826Z"
   },
   {
    "duration": 52,
    "start_time": "2021-07-07T12:24:13.874Z"
   },
   {
    "duration": 56,
    "start_time": "2021-07-07T12:24:13.929Z"
   },
   {
    "duration": 110,
    "start_time": "2021-07-07T12:24:13.987Z"
   },
   {
    "duration": 25,
    "start_time": "2021-07-07T12:24:14.108Z"
   },
   {
    "duration": 27,
    "start_time": "2021-07-07T12:24:14.136Z"
   },
   {
    "duration": 85,
    "start_time": "2021-07-07T12:24:14.167Z"
   },
   {
    "duration": 28,
    "start_time": "2021-07-07T12:24:14.256Z"
   },
   {
    "duration": 33,
    "start_time": "2021-07-07T12:24:14.287Z"
   },
   {
    "duration": 644,
    "start_time": "2021-07-07T12:24:14.323Z"
   },
   {
    "duration": 8,
    "start_time": "2021-07-07T12:24:14.969Z"
   },
   {
    "duration": 30,
    "start_time": "2021-07-07T12:24:14.980Z"
   },
   {
    "duration": 6,
    "start_time": "2021-07-07T12:24:15.013Z"
   },
   {
    "duration": 616,
    "start_time": "2021-07-07T12:24:15.022Z"
   },
   {
    "duration": 5,
    "start_time": "2021-07-07T12:24:15.641Z"
   },
   {
    "duration": 19,
    "start_time": "2021-07-07T12:24:15.649Z"
   },
   {
    "duration": 79,
    "start_time": "2021-07-07T12:24:15.671Z"
   },
   {
    "duration": 270,
    "start_time": "2021-07-07T12:24:15.752Z"
   },
   {
    "duration": 42,
    "start_time": "2021-07-07T12:24:16.025Z"
   },
   {
    "duration": 15,
    "start_time": "2021-07-07T12:24:16.070Z"
   },
   {
    "duration": 421,
    "start_time": "2021-07-07T12:24:16.110Z"
   },
   {
    "duration": 13,
    "start_time": "2021-07-07T12:24:16.537Z"
   },
   {
    "duration": 30,
    "start_time": "2021-07-07T12:24:16.554Z"
   },
   {
    "duration": 58,
    "start_time": "2021-07-07T12:24:16.586Z"
   },
   {
    "duration": 20,
    "start_time": "2021-07-07T12:24:16.647Z"
   },
   {
    "duration": 92,
    "start_time": "2021-07-07T12:24:16.669Z"
   },
   {
    "duration": 26,
    "start_time": "2021-07-07T12:24:16.763Z"
   },
   {
    "duration": 5,
    "start_time": "2021-07-07T12:24:16.791Z"
   },
   {
    "duration": 18,
    "start_time": "2021-07-07T12:24:16.809Z"
   },
   {
    "duration": 25,
    "start_time": "2021-07-07T12:24:16.829Z"
   },
   {
    "duration": 87,
    "start_time": "2021-07-07T12:24:16.856Z"
   },
   {
    "duration": 12,
    "start_time": "2021-07-07T12:24:16.946Z"
   },
   {
    "duration": 79,
    "start_time": "2021-07-07T12:24:16.961Z"
   },
   {
    "duration": 8,
    "start_time": "2021-07-07T12:24:17.042Z"
   },
   {
    "duration": 17,
    "start_time": "2021-07-07T12:24:17.053Z"
   },
   {
    "duration": 6,
    "start_time": "2021-07-07T12:24:17.073Z"
   },
   {
    "duration": 85,
    "start_time": "2021-07-07T12:24:17.082Z"
   },
   {
    "duration": 8,
    "start_time": "2021-07-07T12:24:17.171Z"
   },
   {
    "duration": 565,
    "start_time": "2021-07-07T12:24:17.183Z"
   },
   {
    "duration": 1027,
    "start_time": "2021-07-07T12:24:17.752Z"
   },
   {
    "duration": 541,
    "start_time": "2021-07-07T12:24:18.782Z"
   },
   {
    "duration": 975,
    "start_time": "2021-07-07T12:24:19.327Z"
   },
   {
    "duration": 535,
    "start_time": "2021-07-07T12:24:20.309Z"
   },
   {
    "duration": 753,
    "start_time": "2021-07-07T12:24:20.847Z"
   },
   {
    "duration": 373,
    "start_time": "2021-07-07T12:24:21.603Z"
   },
   {
    "duration": 421,
    "start_time": "2021-07-07T12:24:21.978Z"
   },
   {
    "duration": 319,
    "start_time": "2021-07-07T12:24:22.401Z"
   },
   {
    "duration": 742,
    "start_time": "2021-07-07T12:24:22.723Z"
   },
   {
    "duration": 8,
    "start_time": "2021-07-07T12:24:23.469Z"
   },
   {
    "duration": 83,
    "start_time": "2021-07-07T12:24:23.479Z"
   },
   {
    "duration": 12,
    "start_time": "2021-07-07T12:24:23.564Z"
   },
   {
    "duration": 52,
    "start_time": "2021-07-07T12:24:23.579Z"
   },
   {
    "duration": 617,
    "start_time": "2021-07-07T12:24:23.634Z"
   },
   {
    "duration": 294,
    "start_time": "2021-07-07T12:24:24.253Z"
   },
   {
    "duration": 317,
    "start_time": "2021-07-07T12:24:24.550Z"
   },
   {
    "duration": 561,
    "start_time": "2021-07-07T12:24:24.869Z"
   },
   {
    "duration": 77,
    "start_time": "2021-07-07T12:24:25.433Z"
   },
   {
    "duration": 6,
    "start_time": "2021-07-07T12:24:25.512Z"
   },
   {
    "duration": 409,
    "start_time": "2021-07-07T12:24:25.521Z"
   },
   {
    "duration": 535,
    "start_time": "2021-07-07T12:24:25.932Z"
   },
   {
    "duration": 16,
    "start_time": "2021-07-07T12:24:26.470Z"
   },
   {
    "duration": 28,
    "start_time": "2021-07-07T12:24:26.488Z"
   },
   {
    "duration": 23,
    "start_time": "2021-07-07T12:24:26.519Z"
   },
   {
    "duration": 14,
    "start_time": "2021-07-07T12:24:26.544Z"
   },
   {
    "duration": 52,
    "start_time": "2021-07-07T12:24:26.561Z"
   },
   {
    "duration": 2596,
    "start_time": "2021-07-07T12:24:26.615Z"
   },
   {
    "duration": 13,
    "start_time": "2021-07-07T12:24:29.219Z"
   },
   {
    "duration": 7,
    "start_time": "2021-07-07T12:24:29.235Z"
   },
   {
    "duration": 506,
    "start_time": "2021-07-07T12:24:29.244Z"
   },
   {
    "duration": 498,
    "start_time": "2021-07-07T12:24:29.753Z"
   },
   {
    "duration": 481,
    "start_time": "2021-07-07T12:24:30.254Z"
   },
   {
    "duration": 8,
    "start_time": "2021-07-07T12:24:30.738Z"
   },
   {
    "duration": 284,
    "start_time": "2021-07-07T12:24:30.749Z"
   },
   {
    "duration": 9,
    "start_time": "2021-07-07T12:24:31.036Z"
   },
   {
    "duration": 514,
    "start_time": "2021-07-07T12:24:31.048Z"
   },
   {
    "duration": 26,
    "start_time": "2021-07-07T12:24:41.087Z"
   }
  ],
  "kernelspec": {
   "display_name": "Python 3",
   "language": "python",
   "name": "python3"
  },
  "language_info": {
   "codemirror_mode": {
    "name": "ipython",
    "version": 3
   },
   "file_extension": ".py",
   "mimetype": "text/x-python",
   "name": "python",
   "nbconvert_exporter": "python",
   "pygments_lexer": "ipython3",
   "version": "3.8.8"
  },
  "toc": {
   "base_numbering": 1,
   "nav_menu": {},
   "number_sections": true,
   "sideBar": true,
   "skip_h1_title": true,
   "title_cell": "Table of Contents",
   "title_sidebar": "Contents",
   "toc_cell": false,
   "toc_position": {},
   "toc_section_display": true,
   "toc_window_display": false
  }
 },
 "nbformat": 4,
 "nbformat_minor": 2
}
