{
 "cells": [
  {
   "cell_type": "markdown",
   "metadata": {},
   "source": [
    "# Project Description \n",
    "You work for the online store Ice, which sells video games all over the world. User and expert reviews, genres, platforms (e.g. Xbox or PlayStation), and historical data on game sales are available from open sources.\n",
    "Data for 2016 may be incomplete."
   ]
  },
  {
   "cell_type": "markdown",
   "metadata": {},
   "source": [
    "# Project's Goal"
   ]
  },
  {
   "cell_type": "markdown",
   "metadata": {},
   "source": [
    "Identify patterns that determine whether a game succeeds or not in order to spot potential big winners and plan advertising campaigns."
   ]
  },
  {
   "cell_type": "markdown",
   "metadata": {},
   "source": [
    "<div class=\"alert alert-info\" style=\"background-color:#006a79; color:white; padding:0px 10px; border-radius:5px;\"><h2 style='margin:10px 5px'>Load & Overview the Data</h2>\n",
    "</div>"
   ]
  },
  {
   "cell_type": "markdown",
   "metadata": {},
   "source": [
    "Import libraries"
   ]
  },
  {
   "cell_type": "code",
   "execution_count": 1,
   "metadata": {},
   "outputs": [],
   "source": [
    "import numpy as np\n",
    "import datetime as dt\n",
    "import pandas as pd\n",
    "import matplotlib.pyplot as plt\n",
    "import warnings\n",
    "from scipy import stats as st\n",
    "from scipy.stats import levene\n",
    "import math as mt\n",
    "from functools import reduce\n",
    "import seaborn as sns\n",
    "import random\n",
    "#ignorning warning\n",
    "warnings.simplefilter ('ignore')"
   ]
  },
  {
   "cell_type": "markdown",
   "metadata": {},
   "source": [
    "make a try-except block in order to avoid file path error when working both locally and remotely."
   ]
  },
  {
   "cell_type": "code",
   "execution_count": 1,
   "metadata": {},
   "outputs": [
    {
     "ename": "NameError",
     "evalue": "name 'pd' is not defined",
     "output_type": "error",
     "traceback": [
      "\u001b[0;31m---------------------------------------------------------------------------\u001b[0m",
      "\u001b[0;31mNameError\u001b[0m                                 Traceback (most recent call last)",
      "\u001b[0;32m<ipython-input-1-e4de6ee1ddd5>\u001b[0m in \u001b[0;36m<module>\u001b[0;34m\u001b[0m\n\u001b[1;32m      1\u001b[0m \u001b[0;32mtry\u001b[0m\u001b[0;34m:\u001b[0m\u001b[0;34m\u001b[0m\u001b[0;34m\u001b[0m\u001b[0m\n\u001b[0;32m----> 2\u001b[0;31m     \u001b[0mvisits\u001b[0m \u001b[0;34m=\u001b[0m \u001b[0mpd\u001b[0m\u001b[0;34m.\u001b[0m\u001b[0mread_csv\u001b[0m\u001b[0;34m(\u001b[0m\u001b[0;34m'visits_log_us.csv'\u001b[0m\u001b[0;34m)\u001b[0m\u001b[0;34m\u001b[0m\u001b[0;34m\u001b[0m\u001b[0m\n\u001b[0m\u001b[1;32m      3\u001b[0m     \u001b[0morders\u001b[0m \u001b[0;34m=\u001b[0m \u001b[0mpd\u001b[0m\u001b[0;34m.\u001b[0m\u001b[0mread_csv\u001b[0m\u001b[0;34m(\u001b[0m\u001b[0;34m'orders_log_us.csv'\u001b[0m\u001b[0;34m)\u001b[0m\u001b[0;34m\u001b[0m\u001b[0;34m\u001b[0m\u001b[0m\n",
      "\u001b[0;31mNameError\u001b[0m: name 'pd' is not defined",
      "\nDuring handling of the above exception, another exception occurred:\n",
      "\u001b[0;31mNameError\u001b[0m                                 Traceback (most recent call last)",
      "\u001b[0;32m<ipython-input-1-e4de6ee1ddd5>\u001b[0m in \u001b[0;36m<module>\u001b[0;34m\u001b[0m\n\u001b[1;32m      4\u001b[0m     \u001b[0mexpenses\u001b[0m \u001b[0;34m=\u001b[0m \u001b[0mpd\u001b[0m\u001b[0;34m.\u001b[0m\u001b[0mread_csv\u001b[0m\u001b[0;34m(\u001b[0m\u001b[0;34m'costs_us.csv'\u001b[0m\u001b[0;34m)\u001b[0m\u001b[0;34m\u001b[0m\u001b[0;34m\u001b[0m\u001b[0m\n\u001b[1;32m      5\u001b[0m \u001b[0;32mexcept\u001b[0m\u001b[0;34m:\u001b[0m\u001b[0;34m\u001b[0m\u001b[0;34m\u001b[0m\u001b[0m\n\u001b[0;32m----> 6\u001b[0;31m     \u001b[0mvisits\u001b[0m \u001b[0;34m=\u001b[0m \u001b[0mpd\u001b[0m\u001b[0;34m.\u001b[0m\u001b[0mread_csv\u001b[0m\u001b[0;34m(\u001b[0m\u001b[0;34m'/datasets/visits_log_us.csv'\u001b[0m\u001b[0;34m)\u001b[0m\u001b[0;34m\u001b[0m\u001b[0;34m\u001b[0m\u001b[0m\n\u001b[0m\u001b[1;32m      7\u001b[0m     \u001b[0morders\u001b[0m \u001b[0;34m=\u001b[0m \u001b[0mpd\u001b[0m\u001b[0;34m.\u001b[0m\u001b[0mread_csv\u001b[0m\u001b[0;34m(\u001b[0m\u001b[0;34m'/datasets/orders_log_us.csv'\u001b[0m\u001b[0;34m)\u001b[0m\u001b[0;34m\u001b[0m\u001b[0;34m\u001b[0m\u001b[0m\n\u001b[1;32m      8\u001b[0m     \u001b[0mexpenses\u001b[0m \u001b[0;34m=\u001b[0m \u001b[0mpd\u001b[0m\u001b[0;34m.\u001b[0m\u001b[0mread_csv\u001b[0m\u001b[0;34m(\u001b[0m\u001b[0;34m'/datasets/costs_us.csv'\u001b[0m\u001b[0;34m)\u001b[0m\u001b[0;34m\u001b[0m\u001b[0;34m\u001b[0m\u001b[0m\n",
      "\u001b[0;31mNameError\u001b[0m: name 'pd' is not defined"
     ]
    }
   ],
   "source": [
    "try:\n",
    "    df = pd.read_csv('games.csv')\n",
    "except:\n",
    "    df = pd.read_csv('/datasets/games.csv')"
   ]
  },
  {
   "cell_type": "markdown",
   "metadata": {},
   "source": [
    "Check the table's first 5 rows to see the general information."
   ]
  },
  {
   "cell_type": "code",
   "execution_count": 3,
   "metadata": {},
   "outputs": [
    {
     "data": {
      "text/html": [
       "<div>\n",
       "<style scoped>\n",
       "    .dataframe tbody tr th:only-of-type {\n",
       "        vertical-align: middle;\n",
       "    }\n",
       "\n",
       "    .dataframe tbody tr th {\n",
       "        vertical-align: top;\n",
       "    }\n",
       "\n",
       "    .dataframe thead th {\n",
       "        text-align: right;\n",
       "    }\n",
       "</style>\n",
       "<table border=\"1\" class=\"dataframe\">\n",
       "  <thead>\n",
       "    <tr style=\"text-align: right;\">\n",
       "      <th></th>\n",
       "      <th>Name</th>\n",
       "      <th>Platform</th>\n",
       "      <th>Year_of_Release</th>\n",
       "      <th>Genre</th>\n",
       "      <th>NA_sales</th>\n",
       "      <th>EU_sales</th>\n",
       "      <th>JP_sales</th>\n",
       "      <th>Other_sales</th>\n",
       "      <th>Critic_Score</th>\n",
       "      <th>User_Score</th>\n",
       "      <th>Rating</th>\n",
       "    </tr>\n",
       "  </thead>\n",
       "  <tbody>\n",
       "    <tr>\n",
       "      <td>0</td>\n",
       "      <td>Wii Sports</td>\n",
       "      <td>Wii</td>\n",
       "      <td>2006.0</td>\n",
       "      <td>Sports</td>\n",
       "      <td>41.36</td>\n",
       "      <td>28.96</td>\n",
       "      <td>3.77</td>\n",
       "      <td>8.45</td>\n",
       "      <td>76.0</td>\n",
       "      <td>8</td>\n",
       "      <td>E</td>\n",
       "    </tr>\n",
       "    <tr>\n",
       "      <td>1</td>\n",
       "      <td>Super Mario Bros.</td>\n",
       "      <td>NES</td>\n",
       "      <td>1985.0</td>\n",
       "      <td>Platform</td>\n",
       "      <td>29.08</td>\n",
       "      <td>3.58</td>\n",
       "      <td>6.81</td>\n",
       "      <td>0.77</td>\n",
       "      <td>NaN</td>\n",
       "      <td>NaN</td>\n",
       "      <td>NaN</td>\n",
       "    </tr>\n",
       "    <tr>\n",
       "      <td>2</td>\n",
       "      <td>Mario Kart Wii</td>\n",
       "      <td>Wii</td>\n",
       "      <td>2008.0</td>\n",
       "      <td>Racing</td>\n",
       "      <td>15.68</td>\n",
       "      <td>12.76</td>\n",
       "      <td>3.79</td>\n",
       "      <td>3.29</td>\n",
       "      <td>82.0</td>\n",
       "      <td>8.3</td>\n",
       "      <td>E</td>\n",
       "    </tr>\n",
       "    <tr>\n",
       "      <td>3</td>\n",
       "      <td>Wii Sports Resort</td>\n",
       "      <td>Wii</td>\n",
       "      <td>2009.0</td>\n",
       "      <td>Sports</td>\n",
       "      <td>15.61</td>\n",
       "      <td>10.93</td>\n",
       "      <td>3.28</td>\n",
       "      <td>2.95</td>\n",
       "      <td>80.0</td>\n",
       "      <td>8</td>\n",
       "      <td>E</td>\n",
       "    </tr>\n",
       "    <tr>\n",
       "      <td>4</td>\n",
       "      <td>Pokemon Red/Pokemon Blue</td>\n",
       "      <td>GB</td>\n",
       "      <td>1996.0</td>\n",
       "      <td>Role-Playing</td>\n",
       "      <td>11.27</td>\n",
       "      <td>8.89</td>\n",
       "      <td>10.22</td>\n",
       "      <td>1.00</td>\n",
       "      <td>NaN</td>\n",
       "      <td>NaN</td>\n",
       "      <td>NaN</td>\n",
       "    </tr>\n",
       "  </tbody>\n",
       "</table>\n",
       "</div>"
      ],
      "text/plain": [
       "                       Name Platform  Year_of_Release         Genre  NA_sales  \\\n",
       "0                Wii Sports      Wii           2006.0        Sports     41.36   \n",
       "1         Super Mario Bros.      NES           1985.0      Platform     29.08   \n",
       "2            Mario Kart Wii      Wii           2008.0        Racing     15.68   \n",
       "3         Wii Sports Resort      Wii           2009.0        Sports     15.61   \n",
       "4  Pokemon Red/Pokemon Blue       GB           1996.0  Role-Playing     11.27   \n",
       "\n",
       "   EU_sales  JP_sales  Other_sales  Critic_Score User_Score Rating  \n",
       "0     28.96      3.77         8.45          76.0          8      E  \n",
       "1      3.58      6.81         0.77           NaN        NaN    NaN  \n",
       "2     12.76      3.79         3.29          82.0        8.3      E  \n",
       "3     10.93      3.28         2.95          80.0          8      E  \n",
       "4      8.89     10.22         1.00           NaN        NaN    NaN  "
      ]
     },
     "execution_count": 3,
     "metadata": {},
     "output_type": "execute_result"
    }
   ],
   "source": [
    "df.head()"
   ]
  },
  {
   "cell_type": "markdown",
   "metadata": {},
   "source": [
    "Check the table's general structure"
   ]
  },
  {
   "cell_type": "code",
   "execution_count": 3,
   "metadata": {},
   "outputs": [
    {
     "ename": "NameError",
     "evalue": "name 'df' is not defined",
     "output_type": "error",
     "traceback": [
      "\u001b[0;31m---------------------------------------------------------------------------\u001b[0m",
      "\u001b[0;31mNameError\u001b[0m                                 Traceback (most recent call last)",
      "\u001b[0;32m<ipython-input-3-a74c58233b9e>\u001b[0m in \u001b[0;36m<module>\u001b[0;34m\u001b[0m\n\u001b[0;32m----> 1\u001b[0;31m \u001b[0mdf\u001b[0m\u001b[0;34m.\u001b[0m\u001b[0minfo\u001b[0m\u001b[0;34m(\u001b[0m\u001b[0;34m)\u001b[0m\u001b[0;34m\u001b[0m\u001b[0;34m\u001b[0m\u001b[0m\n\u001b[0m",
      "\u001b[0;31mNameError\u001b[0m: name 'df' is not defined"
     ]
    }
   ],
   "source": [
    "df.info()"
   ]
  },
  {
   "cell_type": "markdown",
   "metadata": {},
   "source": [
    "percentage of missing values in all columns"
   ]
  },
  {
   "cell_type": "code",
   "execution_count": 2,
   "metadata": {},
   "outputs": [
    {
     "ename": "NameError",
     "evalue": "name 'df' is not defined",
     "output_type": "error",
     "traceback": [
      "\u001b[0;31m---------------------------------------------------------------------------\u001b[0m",
      "\u001b[0;31mNameError\u001b[0m                                 Traceback (most recent call last)",
      "\u001b[0;32m<ipython-input-2-dccca965c126>\u001b[0m in \u001b[0;36m<module>\u001b[0;34m\u001b[0m\n\u001b[0;32m----> 1\u001b[0;31m \u001b[0mdf\u001b[0m\u001b[0;34m.\u001b[0m\u001b[0misna\u001b[0m\u001b[0;34m(\u001b[0m\u001b[0;34m)\u001b[0m\u001b[0;34m.\u001b[0m\u001b[0mmean\u001b[0m\u001b[0;34m(\u001b[0m\u001b[0;34m)\u001b[0m \u001b[0;34m*\u001b[0m \u001b[0;36m100\u001b[0m\u001b[0;34m\u001b[0m\u001b[0;34m\u001b[0m\u001b[0m\n\u001b[0m",
      "\u001b[0;31mNameError\u001b[0m: name 'df' is not defined"
     ]
    }
   ],
   "source": [
    "df.isna().mean() * 100"
   ]
  },
  {
   "cell_type": "markdown",
   "metadata": {},
   "source": [
    "Checking for duplicates"
   ]
  },
  {
   "cell_type": "code",
   "execution_count": 6,
   "metadata": {},
   "outputs": [
    {
     "data": {
      "text/plain": [
       "0"
      ]
     },
     "execution_count": 6,
     "metadata": {},
     "output_type": "execute_result"
    }
   ],
   "source": [
    "df.duplicated().sum()"
   ]
  },
  {
   "cell_type": "markdown",
   "metadata": {},
   "source": [
    "Checking for the table's initial statistics"
   ]
  },
  {
   "cell_type": "code",
   "execution_count": 7,
   "metadata": {},
   "outputs": [
    {
     "data": {
      "text/html": [
       "<div>\n",
       "<style scoped>\n",
       "    .dataframe tbody tr th:only-of-type {\n",
       "        vertical-align: middle;\n",
       "    }\n",
       "\n",
       "    .dataframe tbody tr th {\n",
       "        vertical-align: top;\n",
       "    }\n",
       "\n",
       "    .dataframe thead th {\n",
       "        text-align: right;\n",
       "    }\n",
       "</style>\n",
       "<table border=\"1\" class=\"dataframe\">\n",
       "  <thead>\n",
       "    <tr style=\"text-align: right;\">\n",
       "      <th></th>\n",
       "      <th>Year_of_Release</th>\n",
       "      <th>NA_sales</th>\n",
       "      <th>EU_sales</th>\n",
       "      <th>JP_sales</th>\n",
       "      <th>Other_sales</th>\n",
       "      <th>Critic_Score</th>\n",
       "    </tr>\n",
       "  </thead>\n",
       "  <tbody>\n",
       "    <tr>\n",
       "      <td>count</td>\n",
       "      <td>16446.000000</td>\n",
       "      <td>16715.000000</td>\n",
       "      <td>16715.000000</td>\n",
       "      <td>16715.000000</td>\n",
       "      <td>16715.000000</td>\n",
       "      <td>8137.000000</td>\n",
       "    </tr>\n",
       "    <tr>\n",
       "      <td>mean</td>\n",
       "      <td>2006.484616</td>\n",
       "      <td>0.263377</td>\n",
       "      <td>0.145060</td>\n",
       "      <td>0.077617</td>\n",
       "      <td>0.047342</td>\n",
       "      <td>68.967679</td>\n",
       "    </tr>\n",
       "    <tr>\n",
       "      <td>std</td>\n",
       "      <td>5.877050</td>\n",
       "      <td>0.813604</td>\n",
       "      <td>0.503339</td>\n",
       "      <td>0.308853</td>\n",
       "      <td>0.186731</td>\n",
       "      <td>13.938165</td>\n",
       "    </tr>\n",
       "    <tr>\n",
       "      <td>min</td>\n",
       "      <td>1980.000000</td>\n",
       "      <td>0.000000</td>\n",
       "      <td>0.000000</td>\n",
       "      <td>0.000000</td>\n",
       "      <td>0.000000</td>\n",
       "      <td>13.000000</td>\n",
       "    </tr>\n",
       "    <tr>\n",
       "      <td>25%</td>\n",
       "      <td>2003.000000</td>\n",
       "      <td>0.000000</td>\n",
       "      <td>0.000000</td>\n",
       "      <td>0.000000</td>\n",
       "      <td>0.000000</td>\n",
       "      <td>60.000000</td>\n",
       "    </tr>\n",
       "    <tr>\n",
       "      <td>50%</td>\n",
       "      <td>2007.000000</td>\n",
       "      <td>0.080000</td>\n",
       "      <td>0.020000</td>\n",
       "      <td>0.000000</td>\n",
       "      <td>0.010000</td>\n",
       "      <td>71.000000</td>\n",
       "    </tr>\n",
       "    <tr>\n",
       "      <td>75%</td>\n",
       "      <td>2010.000000</td>\n",
       "      <td>0.240000</td>\n",
       "      <td>0.110000</td>\n",
       "      <td>0.040000</td>\n",
       "      <td>0.030000</td>\n",
       "      <td>79.000000</td>\n",
       "    </tr>\n",
       "    <tr>\n",
       "      <td>max</td>\n",
       "      <td>2016.000000</td>\n",
       "      <td>41.360000</td>\n",
       "      <td>28.960000</td>\n",
       "      <td>10.220000</td>\n",
       "      <td>10.570000</td>\n",
       "      <td>98.000000</td>\n",
       "    </tr>\n",
       "  </tbody>\n",
       "</table>\n",
       "</div>"
      ],
      "text/plain": [
       "       Year_of_Release      NA_sales      EU_sales      JP_sales  \\\n",
       "count     16446.000000  16715.000000  16715.000000  16715.000000   \n",
       "mean       2006.484616      0.263377      0.145060      0.077617   \n",
       "std           5.877050      0.813604      0.503339      0.308853   \n",
       "min        1980.000000      0.000000      0.000000      0.000000   \n",
       "25%        2003.000000      0.000000      0.000000      0.000000   \n",
       "50%        2007.000000      0.080000      0.020000      0.000000   \n",
       "75%        2010.000000      0.240000      0.110000      0.040000   \n",
       "max        2016.000000     41.360000     28.960000     10.220000   \n",
       "\n",
       "        Other_sales  Critic_Score  \n",
       "count  16715.000000   8137.000000  \n",
       "mean       0.047342     68.967679  \n",
       "std        0.186731     13.938165  \n",
       "min        0.000000     13.000000  \n",
       "25%        0.000000     60.000000  \n",
       "50%        0.010000     71.000000  \n",
       "75%        0.030000     79.000000  \n",
       "max       10.570000     98.000000  "
      ]
     },
     "execution_count": 7,
     "metadata": {},
     "output_type": "execute_result"
    }
   ],
   "source": [
    "df.describe()"
   ]
  },
  {
   "cell_type": "markdown",
   "metadata": {},
   "source": [
    "Checking if all the critic scores are integers"
   ]
  },
  {
   "cell_type": "markdown",
   "metadata": {},
   "source": [
    "storing the values without nulls"
   ]
  },
  {
   "cell_type": "code",
   "execution_count": 8,
   "metadata": {},
   "outputs": [],
   "source": [
    "df_critic = df[df.Critic_Score.notnull()]"
   ]
  },
  {
   "cell_type": "code",
   "execution_count": 9,
   "metadata": {},
   "outputs": [
    {
     "data": {
      "text/plain": [
       "True"
      ]
     },
     "execution_count": 9,
     "metadata": {},
     "output_type": "execute_result"
    }
   ],
   "source": [
    "all(x.is_integer() for x in df_critic.Critic_Score)"
   ]
  },
  {
   "cell_type": "code",
   "execution_count": 10,
   "metadata": {},
   "outputs": [
    {
     "data": {
      "text/html": [
       "<div>\n",
       "<style scoped>\n",
       "    .dataframe tbody tr th:only-of-type {\n",
       "        vertical-align: middle;\n",
       "    }\n",
       "\n",
       "    .dataframe tbody tr th {\n",
       "        vertical-align: top;\n",
       "    }\n",
       "\n",
       "    .dataframe thead th {\n",
       "        text-align: right;\n",
       "    }\n",
       "</style>\n",
       "<table border=\"1\" class=\"dataframe\">\n",
       "  <thead>\n",
       "    <tr style=\"text-align: right;\">\n",
       "      <th></th>\n",
       "      <th>Name</th>\n",
       "      <th>Platform</th>\n",
       "      <th>Genre</th>\n",
       "      <th>User_Score</th>\n",
       "      <th>Rating</th>\n",
       "    </tr>\n",
       "  </thead>\n",
       "  <tbody>\n",
       "    <tr>\n",
       "      <td>count</td>\n",
       "      <td>16713</td>\n",
       "      <td>16715</td>\n",
       "      <td>16713</td>\n",
       "      <td>10014</td>\n",
       "      <td>9949</td>\n",
       "    </tr>\n",
       "    <tr>\n",
       "      <td>unique</td>\n",
       "      <td>11559</td>\n",
       "      <td>31</td>\n",
       "      <td>12</td>\n",
       "      <td>96</td>\n",
       "      <td>8</td>\n",
       "    </tr>\n",
       "    <tr>\n",
       "      <td>top</td>\n",
       "      <td>Need for Speed: Most Wanted</td>\n",
       "      <td>PS2</td>\n",
       "      <td>Action</td>\n",
       "      <td>tbd</td>\n",
       "      <td>E</td>\n",
       "    </tr>\n",
       "    <tr>\n",
       "      <td>freq</td>\n",
       "      <td>12</td>\n",
       "      <td>2161</td>\n",
       "      <td>3369</td>\n",
       "      <td>2424</td>\n",
       "      <td>3990</td>\n",
       "    </tr>\n",
       "  </tbody>\n",
       "</table>\n",
       "</div>"
      ],
      "text/plain": [
       "                               Name Platform   Genre User_Score Rating\n",
       "count                         16713    16715   16713      10014   9949\n",
       "unique                        11559       31      12         96      8\n",
       "top     Need for Speed: Most Wanted      PS2  Action        tbd      E\n",
       "freq                             12     2161    3369       2424   3990"
      ]
     },
     "execution_count": 10,
     "metadata": {},
     "output_type": "execute_result"
    }
   ],
   "source": [
    "df.describe(include='object')"
   ]
  },
  {
   "cell_type": "code",
   "execution_count": 11,
   "metadata": {},
   "outputs": [
    {
     "name": "stdout",
     "output_type": "stream",
     "text": [
      "<class 'pandas.core.frame.DataFrame'>\n",
      "RangeIndex: 16715 entries, 0 to 16714\n",
      "Data columns (total 11 columns):\n",
      "Name               16713 non-null object\n",
      "Platform           16715 non-null object\n",
      "Year_of_Release    16446 non-null float64\n",
      "Genre              16713 non-null object\n",
      "NA_sales           16715 non-null float64\n",
      "EU_sales           16715 non-null float64\n",
      "JP_sales           16715 non-null float64\n",
      "Other_sales        16715 non-null float64\n",
      "Critic_Score       8137 non-null float64\n",
      "User_Score         10014 non-null object\n",
      "Rating             9949 non-null object\n",
      "dtypes: float64(6), object(5)\n",
      "memory usage: 1.4+ MB\n"
     ]
    }
   ],
   "source": [
    "df.info()"
   ]
  },
  {
   "cell_type": "markdown",
   "metadata": {},
   "source": [
    "### Conclusion"
   ]
  },
  {
   "cell_type": "markdown",
   "metadata": {},
   "source": [
    "#### After having a look at the table's general information, We discovered useful information regarding our data.\n",
    "##### there are no duplicates in our data.\n",
    "##### There are 6 column that contains missing values across the data.\n",
    "name(0.011%), Year_of_Release(1.60%), Genre(0.011%), Critic_Score (51.31%), User_Score(40.08%), Rating(40.47%) are our columns with missing values in them. We see that name and genre lack only 0.011% - 2 rows and year_of_release have 1.6% missing values.\n",
    "\n",
    "critic_score, user_score and rating all represent some kind of rating and by my logic its not coincidental that those are the columns with alot of missing data - games were just not rated.\n",
    "Due to the large percentage of missing values we can't use our data to fill it.\n",
    "We can't relay on a genre's average rating or even console + genre, as every game's rating varies and is not platform / genre dependant - it would be wrong to assume roughly 50% of the data by 50% of the data - I think this is too much % to fill.\n",
    "We prefer to not change our data's distribution and will fill the misssing values with not available - 'N/A'.\n",
    "##### There are several columns that their datatype should be changed.\n",
    "Year_of_Release will be changed to int as it represents only one integer(the year).\n",
    "Critic_Score should be changed to int, as we checked and all its values are integers.\n",
    "\n",
    "##### Column names are not lower cased \n",
    "Column names will be lower cased.\n",
    "\n",
    "##### Object values brief analysis\n",
    "By looking at the describe method of our object type columns, we see that right now with our data -\n",
    "The most popular game is Need for Speed: Most Wanted, but with not a big % of the games - we see its the most popular with 12 appereances and there are 11559 different games - big diversity.\n",
    "Our most popular platform is PS2, and our most popular genre is Action.\n"
   ]
  },
  {
   "cell_type": "markdown",
   "metadata": {},
   "source": [
    "<div class=\"alert alert-info\" style=\"background-color:#006a79; color:white; padding:0px 10px; border-radius:5px;\"><h2 style='margin:10px 5px'>Data preperation</h2>\n",
    "</div>"
   ]
  },
  {
   "cell_type": "markdown",
   "metadata": {},
   "source": [
    "### Column lower casing"
   ]
  },
  {
   "cell_type": "code",
   "execution_count": 12,
   "metadata": {},
   "outputs": [],
   "source": [
    "df.columns = [x.lower() for x in df.columns]"
   ]
  },
  {
   "cell_type": "markdown",
   "metadata": {},
   "source": [
    "### Datatypes conversion"
   ]
  },
  {
   "cell_type": "markdown",
   "metadata": {},
   "source": [
    "Converting years_of_release to int dtype"
   ]
  },
  {
   "cell_type": "markdown",
   "metadata": {},
   "source": [
    "Dropping nulls in order to convert to int type"
   ]
  },
  {
   "cell_type": "code",
   "execution_count": 13,
   "metadata": {},
   "outputs": [],
   "source": [
    "df = df[df['year_of_release'].notna()].reset_index(drop=True)"
   ]
  },
  {
   "cell_type": "code",
   "execution_count": 14,
   "metadata": {},
   "outputs": [],
   "source": [
    "df['year_of_release'] = df['year_of_release'].astype(int)"
   ]
  },
  {
   "cell_type": "code",
   "execution_count": 15,
   "metadata": {},
   "outputs": [
    {
     "name": "stdout",
     "output_type": "stream",
     "text": [
      "<class 'pandas.core.frame.DataFrame'>\n",
      "RangeIndex: 16446 entries, 0 to 16445\n",
      "Data columns (total 11 columns):\n",
      "name               16444 non-null object\n",
      "platform           16446 non-null object\n",
      "year_of_release    16446 non-null int64\n",
      "genre              16444 non-null object\n",
      "na_sales           16446 non-null float64\n",
      "eu_sales           16446 non-null float64\n",
      "jp_sales           16446 non-null float64\n",
      "other_sales        16446 non-null float64\n",
      "critic_score       7983 non-null float64\n",
      "user_score         9839 non-null object\n",
      "rating             9768 non-null object\n",
      "dtypes: float64(5), int64(1), object(5)\n",
      "memory usage: 1.4+ MB\n"
     ]
    }
   ],
   "source": [
    "df.info()"
   ]
  },
  {
   "cell_type": "markdown",
   "metadata": {},
   "source": [
    "#### Conclusion\n",
    "We have changed year_of_release to int as it represnts only the year (rounded number)."
   ]
  },
  {
   "cell_type": "markdown",
   "metadata": {},
   "source": [
    "### Missing values proccesing"
   ]
  },
  {
   "cell_type": "markdown",
   "metadata": {},
   "source": [
    "#### name and genre columns"
   ]
  },
  {
   "cell_type": "markdown",
   "metadata": {},
   "source": [
    "Seeing that both missing rows from name and genre are the same rows, we will remove them due to them being just 2 rows out of our data(16715 rows)"
   ]
  },
  {
   "cell_type": "code",
   "execution_count": 16,
   "metadata": {},
   "outputs": [
    {
     "data": {
      "text/html": [
       "<div>\n",
       "<style scoped>\n",
       "    .dataframe tbody tr th:only-of-type {\n",
       "        vertical-align: middle;\n",
       "    }\n",
       "\n",
       "    .dataframe tbody tr th {\n",
       "        vertical-align: top;\n",
       "    }\n",
       "\n",
       "    .dataframe thead th {\n",
       "        text-align: right;\n",
       "    }\n",
       "</style>\n",
       "<table border=\"1\" class=\"dataframe\">\n",
       "  <thead>\n",
       "    <tr style=\"text-align: right;\">\n",
       "      <th></th>\n",
       "      <th>name</th>\n",
       "      <th>platform</th>\n",
       "      <th>year_of_release</th>\n",
       "      <th>genre</th>\n",
       "      <th>na_sales</th>\n",
       "      <th>eu_sales</th>\n",
       "      <th>jp_sales</th>\n",
       "      <th>other_sales</th>\n",
       "      <th>critic_score</th>\n",
       "      <th>user_score</th>\n",
       "      <th>rating</th>\n",
       "    </tr>\n",
       "  </thead>\n",
       "  <tbody>\n",
       "    <tr>\n",
       "      <td>652</td>\n",
       "      <td>NaN</td>\n",
       "      <td>GEN</td>\n",
       "      <td>1993</td>\n",
       "      <td>NaN</td>\n",
       "      <td>1.78</td>\n",
       "      <td>0.53</td>\n",
       "      <td>0.00</td>\n",
       "      <td>0.08</td>\n",
       "      <td>NaN</td>\n",
       "      <td>NaN</td>\n",
       "      <td>NaN</td>\n",
       "    </tr>\n",
       "    <tr>\n",
       "      <td>14022</td>\n",
       "      <td>NaN</td>\n",
       "      <td>GEN</td>\n",
       "      <td>1993</td>\n",
       "      <td>NaN</td>\n",
       "      <td>0.00</td>\n",
       "      <td>0.00</td>\n",
       "      <td>0.03</td>\n",
       "      <td>0.00</td>\n",
       "      <td>NaN</td>\n",
       "      <td>NaN</td>\n",
       "      <td>NaN</td>\n",
       "    </tr>\n",
       "  </tbody>\n",
       "</table>\n",
       "</div>"
      ],
      "text/plain": [
       "      name platform  year_of_release genre  na_sales  eu_sales  jp_sales  \\\n",
       "652    NaN      GEN             1993   NaN      1.78      0.53      0.00   \n",
       "14022  NaN      GEN             1993   NaN      0.00      0.00      0.03   \n",
       "\n",
       "       other_sales  critic_score user_score rating  \n",
       "652           0.08           NaN        NaN    NaN  \n",
       "14022         0.00           NaN        NaN    NaN  "
      ]
     },
     "execution_count": 16,
     "metadata": {},
     "output_type": "execute_result"
    }
   ],
   "source": [
    "df[df['name'].isnull()]"
   ]
  },
  {
   "cell_type": "code",
   "execution_count": 17,
   "metadata": {},
   "outputs": [
    {
     "data": {
      "text/html": [
       "<div>\n",
       "<style scoped>\n",
       "    .dataframe tbody tr th:only-of-type {\n",
       "        vertical-align: middle;\n",
       "    }\n",
       "\n",
       "    .dataframe tbody tr th {\n",
       "        vertical-align: top;\n",
       "    }\n",
       "\n",
       "    .dataframe thead th {\n",
       "        text-align: right;\n",
       "    }\n",
       "</style>\n",
       "<table border=\"1\" class=\"dataframe\">\n",
       "  <thead>\n",
       "    <tr style=\"text-align: right;\">\n",
       "      <th></th>\n",
       "      <th>name</th>\n",
       "      <th>platform</th>\n",
       "      <th>year_of_release</th>\n",
       "      <th>genre</th>\n",
       "      <th>na_sales</th>\n",
       "      <th>eu_sales</th>\n",
       "      <th>jp_sales</th>\n",
       "      <th>other_sales</th>\n",
       "      <th>critic_score</th>\n",
       "      <th>user_score</th>\n",
       "      <th>rating</th>\n",
       "    </tr>\n",
       "  </thead>\n",
       "  <tbody>\n",
       "    <tr>\n",
       "      <td>652</td>\n",
       "      <td>NaN</td>\n",
       "      <td>GEN</td>\n",
       "      <td>1993</td>\n",
       "      <td>NaN</td>\n",
       "      <td>1.78</td>\n",
       "      <td>0.53</td>\n",
       "      <td>0.00</td>\n",
       "      <td>0.08</td>\n",
       "      <td>NaN</td>\n",
       "      <td>NaN</td>\n",
       "      <td>NaN</td>\n",
       "    </tr>\n",
       "    <tr>\n",
       "      <td>14022</td>\n",
       "      <td>NaN</td>\n",
       "      <td>GEN</td>\n",
       "      <td>1993</td>\n",
       "      <td>NaN</td>\n",
       "      <td>0.00</td>\n",
       "      <td>0.00</td>\n",
       "      <td>0.03</td>\n",
       "      <td>0.00</td>\n",
       "      <td>NaN</td>\n",
       "      <td>NaN</td>\n",
       "      <td>NaN</td>\n",
       "    </tr>\n",
       "  </tbody>\n",
       "</table>\n",
       "</div>"
      ],
      "text/plain": [
       "      name platform  year_of_release genre  na_sales  eu_sales  jp_sales  \\\n",
       "652    NaN      GEN             1993   NaN      1.78      0.53      0.00   \n",
       "14022  NaN      GEN             1993   NaN      0.00      0.00      0.03   \n",
       "\n",
       "       other_sales  critic_score user_score rating  \n",
       "652           0.08           NaN        NaN    NaN  \n",
       "14022         0.00           NaN        NaN    NaN  "
      ]
     },
     "execution_count": 17,
     "metadata": {},
     "output_type": "execute_result"
    }
   ],
   "source": [
    "df[df['genre'].isnull()]"
   ]
  },
  {
   "cell_type": "code",
   "execution_count": 18,
   "metadata": {},
   "outputs": [],
   "source": [
    "df = df[df['name'].notna()].reset_index(drop=True)"
   ]
  },
  {
   "cell_type": "code",
   "execution_count": 19,
   "metadata": {},
   "outputs": [],
   "source": [
    "df = df[df['genre'].notna()].reset_index(drop=True)"
   ]
  },
  {
   "cell_type": "code",
   "execution_count": 20,
   "metadata": {},
   "outputs": [
    {
     "name": "stdout",
     "output_type": "stream",
     "text": [
      "<class 'pandas.core.frame.DataFrame'>\n",
      "RangeIndex: 16444 entries, 0 to 16443\n",
      "Data columns (total 11 columns):\n",
      "name               16444 non-null object\n",
      "platform           16444 non-null object\n",
      "year_of_release    16444 non-null int64\n",
      "genre              16444 non-null object\n",
      "na_sales           16444 non-null float64\n",
      "eu_sales           16444 non-null float64\n",
      "jp_sales           16444 non-null float64\n",
      "other_sales        16444 non-null float64\n",
      "critic_score       7983 non-null float64\n",
      "user_score         9839 non-null object\n",
      "rating             9768 non-null object\n",
      "dtypes: float64(5), int64(1), object(5)\n",
      "memory usage: 1.4+ MB\n"
     ]
    }
   ],
   "source": [
    "df.info()"
   ]
  },
  {
   "cell_type": "markdown",
   "metadata": {},
   "source": [
    "#### year_of_release column"
   ]
  },
  {
   "cell_type": "markdown",
   "metadata": {},
   "source": [
    "dealt in the data conversion part, checking no missing values remain."
   ]
  },
  {
   "cell_type": "code",
   "execution_count": 21,
   "metadata": {},
   "outputs": [
    {
     "data": {
      "text/plain": [
       "0"
      ]
     },
     "execution_count": 21,
     "metadata": {},
     "output_type": "execute_result"
    }
   ],
   "source": [
    "df['year_of_release'].isna().sum()"
   ]
  },
  {
   "cell_type": "markdown",
   "metadata": {},
   "source": [
    "#### critic_score, user_score, rating columns"
   ]
  },
  {
   "cell_type": "markdown",
   "metadata": {},
   "source": [
    "filling with not available - N/A. explanation is at 1.1 (Conclusion) and in this stage's conclusion."
   ]
  },
  {
   "cell_type": "code",
   "execution_count": 22,
   "metadata": {},
   "outputs": [],
   "source": [
    "df['user_score'] = df['user_score'].fillna('N/A')"
   ]
  },
  {
   "cell_type": "code",
   "execution_count": 23,
   "metadata": {},
   "outputs": [],
   "source": [
    "df['critic_score'] = df['critic_score'].fillna('N/A')"
   ]
  },
  {
   "cell_type": "code",
   "execution_count": 24,
   "metadata": {},
   "outputs": [],
   "source": [
    "df['rating'] = df['rating'].fillna('N/A')"
   ]
  },
  {
   "cell_type": "code",
   "execution_count": 25,
   "metadata": {},
   "outputs": [
    {
     "data": {
      "text/html": [
       "<div>\n",
       "<style scoped>\n",
       "    .dataframe tbody tr th:only-of-type {\n",
       "        vertical-align: middle;\n",
       "    }\n",
       "\n",
       "    .dataframe tbody tr th {\n",
       "        vertical-align: top;\n",
       "    }\n",
       "\n",
       "    .dataframe thead th {\n",
       "        text-align: right;\n",
       "    }\n",
       "</style>\n",
       "<table border=\"1\" class=\"dataframe\">\n",
       "  <thead>\n",
       "    <tr style=\"text-align: right;\">\n",
       "      <th></th>\n",
       "      <th>name</th>\n",
       "      <th>platform</th>\n",
       "      <th>year_of_release</th>\n",
       "      <th>genre</th>\n",
       "      <th>na_sales</th>\n",
       "      <th>eu_sales</th>\n",
       "      <th>jp_sales</th>\n",
       "      <th>other_sales</th>\n",
       "      <th>critic_score</th>\n",
       "      <th>user_score</th>\n",
       "      <th>rating</th>\n",
       "    </tr>\n",
       "  </thead>\n",
       "  <tbody>\n",
       "    <tr>\n",
       "      <td>0</td>\n",
       "      <td>Wii Sports</td>\n",
       "      <td>Wii</td>\n",
       "      <td>2006</td>\n",
       "      <td>Sports</td>\n",
       "      <td>41.36</td>\n",
       "      <td>28.96</td>\n",
       "      <td>3.77</td>\n",
       "      <td>8.45</td>\n",
       "      <td>76</td>\n",
       "      <td>8</td>\n",
       "      <td>E</td>\n",
       "    </tr>\n",
       "    <tr>\n",
       "      <td>1</td>\n",
       "      <td>Super Mario Bros.</td>\n",
       "      <td>NES</td>\n",
       "      <td>1985</td>\n",
       "      <td>Platform</td>\n",
       "      <td>29.08</td>\n",
       "      <td>3.58</td>\n",
       "      <td>6.81</td>\n",
       "      <td>0.77</td>\n",
       "      <td>N/A</td>\n",
       "      <td>N/A</td>\n",
       "      <td>N/A</td>\n",
       "    </tr>\n",
       "    <tr>\n",
       "      <td>2</td>\n",
       "      <td>Mario Kart Wii</td>\n",
       "      <td>Wii</td>\n",
       "      <td>2008</td>\n",
       "      <td>Racing</td>\n",
       "      <td>15.68</td>\n",
       "      <td>12.76</td>\n",
       "      <td>3.79</td>\n",
       "      <td>3.29</td>\n",
       "      <td>82</td>\n",
       "      <td>8.3</td>\n",
       "      <td>E</td>\n",
       "    </tr>\n",
       "    <tr>\n",
       "      <td>3</td>\n",
       "      <td>Wii Sports Resort</td>\n",
       "      <td>Wii</td>\n",
       "      <td>2009</td>\n",
       "      <td>Sports</td>\n",
       "      <td>15.61</td>\n",
       "      <td>10.93</td>\n",
       "      <td>3.28</td>\n",
       "      <td>2.95</td>\n",
       "      <td>80</td>\n",
       "      <td>8</td>\n",
       "      <td>E</td>\n",
       "    </tr>\n",
       "    <tr>\n",
       "      <td>4</td>\n",
       "      <td>Pokemon Red/Pokemon Blue</td>\n",
       "      <td>GB</td>\n",
       "      <td>1996</td>\n",
       "      <td>Role-Playing</td>\n",
       "      <td>11.27</td>\n",
       "      <td>8.89</td>\n",
       "      <td>10.22</td>\n",
       "      <td>1.00</td>\n",
       "      <td>N/A</td>\n",
       "      <td>N/A</td>\n",
       "      <td>N/A</td>\n",
       "    </tr>\n",
       "    <tr>\n",
       "      <td>5</td>\n",
       "      <td>Tetris</td>\n",
       "      <td>GB</td>\n",
       "      <td>1989</td>\n",
       "      <td>Puzzle</td>\n",
       "      <td>23.20</td>\n",
       "      <td>2.26</td>\n",
       "      <td>4.22</td>\n",
       "      <td>0.58</td>\n",
       "      <td>N/A</td>\n",
       "      <td>N/A</td>\n",
       "      <td>N/A</td>\n",
       "    </tr>\n",
       "    <tr>\n",
       "      <td>6</td>\n",
       "      <td>New Super Mario Bros.</td>\n",
       "      <td>DS</td>\n",
       "      <td>2006</td>\n",
       "      <td>Platform</td>\n",
       "      <td>11.28</td>\n",
       "      <td>9.14</td>\n",
       "      <td>6.50</td>\n",
       "      <td>2.88</td>\n",
       "      <td>89</td>\n",
       "      <td>8.5</td>\n",
       "      <td>E</td>\n",
       "    </tr>\n",
       "    <tr>\n",
       "      <td>7</td>\n",
       "      <td>Wii Play</td>\n",
       "      <td>Wii</td>\n",
       "      <td>2006</td>\n",
       "      <td>Misc</td>\n",
       "      <td>13.96</td>\n",
       "      <td>9.18</td>\n",
       "      <td>2.93</td>\n",
       "      <td>2.84</td>\n",
       "      <td>58</td>\n",
       "      <td>6.6</td>\n",
       "      <td>E</td>\n",
       "    </tr>\n",
       "    <tr>\n",
       "      <td>8</td>\n",
       "      <td>New Super Mario Bros. Wii</td>\n",
       "      <td>Wii</td>\n",
       "      <td>2009</td>\n",
       "      <td>Platform</td>\n",
       "      <td>14.44</td>\n",
       "      <td>6.94</td>\n",
       "      <td>4.70</td>\n",
       "      <td>2.24</td>\n",
       "      <td>87</td>\n",
       "      <td>8.4</td>\n",
       "      <td>E</td>\n",
       "    </tr>\n",
       "    <tr>\n",
       "      <td>9</td>\n",
       "      <td>Duck Hunt</td>\n",
       "      <td>NES</td>\n",
       "      <td>1984</td>\n",
       "      <td>Shooter</td>\n",
       "      <td>26.93</td>\n",
       "      <td>0.63</td>\n",
       "      <td>0.28</td>\n",
       "      <td>0.47</td>\n",
       "      <td>N/A</td>\n",
       "      <td>N/A</td>\n",
       "      <td>N/A</td>\n",
       "    </tr>\n",
       "    <tr>\n",
       "      <td>10</td>\n",
       "      <td>Nintendogs</td>\n",
       "      <td>DS</td>\n",
       "      <td>2005</td>\n",
       "      <td>Simulation</td>\n",
       "      <td>9.05</td>\n",
       "      <td>10.95</td>\n",
       "      <td>1.93</td>\n",
       "      <td>2.74</td>\n",
       "      <td>N/A</td>\n",
       "      <td>N/A</td>\n",
       "      <td>N/A</td>\n",
       "    </tr>\n",
       "    <tr>\n",
       "      <td>11</td>\n",
       "      <td>Mario Kart DS</td>\n",
       "      <td>DS</td>\n",
       "      <td>2005</td>\n",
       "      <td>Racing</td>\n",
       "      <td>9.71</td>\n",
       "      <td>7.47</td>\n",
       "      <td>4.13</td>\n",
       "      <td>1.90</td>\n",
       "      <td>91</td>\n",
       "      <td>8.6</td>\n",
       "      <td>E</td>\n",
       "    </tr>\n",
       "    <tr>\n",
       "      <td>12</td>\n",
       "      <td>Pokemon Gold/Pokemon Silver</td>\n",
       "      <td>GB</td>\n",
       "      <td>1999</td>\n",
       "      <td>Role-Playing</td>\n",
       "      <td>9.00</td>\n",
       "      <td>6.18</td>\n",
       "      <td>7.20</td>\n",
       "      <td>0.71</td>\n",
       "      <td>N/A</td>\n",
       "      <td>N/A</td>\n",
       "      <td>N/A</td>\n",
       "    </tr>\n",
       "    <tr>\n",
       "      <td>13</td>\n",
       "      <td>Wii Fit</td>\n",
       "      <td>Wii</td>\n",
       "      <td>2007</td>\n",
       "      <td>Sports</td>\n",
       "      <td>8.92</td>\n",
       "      <td>8.03</td>\n",
       "      <td>3.60</td>\n",
       "      <td>2.15</td>\n",
       "      <td>80</td>\n",
       "      <td>7.7</td>\n",
       "      <td>E</td>\n",
       "    </tr>\n",
       "    <tr>\n",
       "      <td>14</td>\n",
       "      <td>Kinect Adventures!</td>\n",
       "      <td>X360</td>\n",
       "      <td>2010</td>\n",
       "      <td>Misc</td>\n",
       "      <td>15.00</td>\n",
       "      <td>4.89</td>\n",
       "      <td>0.24</td>\n",
       "      <td>1.69</td>\n",
       "      <td>61</td>\n",
       "      <td>6.3</td>\n",
       "      <td>E</td>\n",
       "    </tr>\n",
       "    <tr>\n",
       "      <td>15</td>\n",
       "      <td>Wii Fit Plus</td>\n",
       "      <td>Wii</td>\n",
       "      <td>2009</td>\n",
       "      <td>Sports</td>\n",
       "      <td>9.01</td>\n",
       "      <td>8.49</td>\n",
       "      <td>2.53</td>\n",
       "      <td>1.77</td>\n",
       "      <td>80</td>\n",
       "      <td>7.4</td>\n",
       "      <td>E</td>\n",
       "    </tr>\n",
       "    <tr>\n",
       "      <td>16</td>\n",
       "      <td>Grand Theft Auto V</td>\n",
       "      <td>PS3</td>\n",
       "      <td>2013</td>\n",
       "      <td>Action</td>\n",
       "      <td>7.02</td>\n",
       "      <td>9.09</td>\n",
       "      <td>0.98</td>\n",
       "      <td>3.96</td>\n",
       "      <td>97</td>\n",
       "      <td>8.2</td>\n",
       "      <td>M</td>\n",
       "    </tr>\n",
       "    <tr>\n",
       "      <td>17</td>\n",
       "      <td>Grand Theft Auto: San Andreas</td>\n",
       "      <td>PS2</td>\n",
       "      <td>2004</td>\n",
       "      <td>Action</td>\n",
       "      <td>9.43</td>\n",
       "      <td>0.40</td>\n",
       "      <td>0.41</td>\n",
       "      <td>10.57</td>\n",
       "      <td>95</td>\n",
       "      <td>9</td>\n",
       "      <td>M</td>\n",
       "    </tr>\n",
       "    <tr>\n",
       "      <td>18</td>\n",
       "      <td>Super Mario World</td>\n",
       "      <td>SNES</td>\n",
       "      <td>1990</td>\n",
       "      <td>Platform</td>\n",
       "      <td>12.78</td>\n",
       "      <td>3.75</td>\n",
       "      <td>3.54</td>\n",
       "      <td>0.55</td>\n",
       "      <td>N/A</td>\n",
       "      <td>N/A</td>\n",
       "      <td>N/A</td>\n",
       "    </tr>\n",
       "    <tr>\n",
       "      <td>19</td>\n",
       "      <td>Brain Age: Train Your Brain in Minutes a Day</td>\n",
       "      <td>DS</td>\n",
       "      <td>2005</td>\n",
       "      <td>Misc</td>\n",
       "      <td>4.74</td>\n",
       "      <td>9.20</td>\n",
       "      <td>4.16</td>\n",
       "      <td>2.04</td>\n",
       "      <td>77</td>\n",
       "      <td>7.9</td>\n",
       "      <td>E</td>\n",
       "    </tr>\n",
       "  </tbody>\n",
       "</table>\n",
       "</div>"
      ],
      "text/plain": [
       "                                            name platform  year_of_release  \\\n",
       "0                                     Wii Sports      Wii             2006   \n",
       "1                              Super Mario Bros.      NES             1985   \n",
       "2                                 Mario Kart Wii      Wii             2008   \n",
       "3                              Wii Sports Resort      Wii             2009   \n",
       "4                       Pokemon Red/Pokemon Blue       GB             1996   \n",
       "5                                         Tetris       GB             1989   \n",
       "6                          New Super Mario Bros.       DS             2006   \n",
       "7                                       Wii Play      Wii             2006   \n",
       "8                      New Super Mario Bros. Wii      Wii             2009   \n",
       "9                                      Duck Hunt      NES             1984   \n",
       "10                                    Nintendogs       DS             2005   \n",
       "11                                 Mario Kart DS       DS             2005   \n",
       "12                   Pokemon Gold/Pokemon Silver       GB             1999   \n",
       "13                                       Wii Fit      Wii             2007   \n",
       "14                            Kinect Adventures!     X360             2010   \n",
       "15                                  Wii Fit Plus      Wii             2009   \n",
       "16                            Grand Theft Auto V      PS3             2013   \n",
       "17                 Grand Theft Auto: San Andreas      PS2             2004   \n",
       "18                             Super Mario World     SNES             1990   \n",
       "19  Brain Age: Train Your Brain in Minutes a Day       DS             2005   \n",
       "\n",
       "           genre  na_sales  eu_sales  jp_sales  other_sales critic_score  \\\n",
       "0         Sports     41.36     28.96      3.77         8.45           76   \n",
       "1       Platform     29.08      3.58      6.81         0.77          N/A   \n",
       "2         Racing     15.68     12.76      3.79         3.29           82   \n",
       "3         Sports     15.61     10.93      3.28         2.95           80   \n",
       "4   Role-Playing     11.27      8.89     10.22         1.00          N/A   \n",
       "5         Puzzle     23.20      2.26      4.22         0.58          N/A   \n",
       "6       Platform     11.28      9.14      6.50         2.88           89   \n",
       "7           Misc     13.96      9.18      2.93         2.84           58   \n",
       "8       Platform     14.44      6.94      4.70         2.24           87   \n",
       "9        Shooter     26.93      0.63      0.28         0.47          N/A   \n",
       "10    Simulation      9.05     10.95      1.93         2.74          N/A   \n",
       "11        Racing      9.71      7.47      4.13         1.90           91   \n",
       "12  Role-Playing      9.00      6.18      7.20         0.71          N/A   \n",
       "13        Sports      8.92      8.03      3.60         2.15           80   \n",
       "14          Misc     15.00      4.89      0.24         1.69           61   \n",
       "15        Sports      9.01      8.49      2.53         1.77           80   \n",
       "16        Action      7.02      9.09      0.98         3.96           97   \n",
       "17        Action      9.43      0.40      0.41        10.57           95   \n",
       "18      Platform     12.78      3.75      3.54         0.55          N/A   \n",
       "19          Misc      4.74      9.20      4.16         2.04           77   \n",
       "\n",
       "   user_score rating  \n",
       "0           8      E  \n",
       "1         N/A    N/A  \n",
       "2         8.3      E  \n",
       "3           8      E  \n",
       "4         N/A    N/A  \n",
       "5         N/A    N/A  \n",
       "6         8.5      E  \n",
       "7         6.6      E  \n",
       "8         8.4      E  \n",
       "9         N/A    N/A  \n",
       "10        N/A    N/A  \n",
       "11        8.6      E  \n",
       "12        N/A    N/A  \n",
       "13        7.7      E  \n",
       "14        6.3      E  \n",
       "15        7.4      E  \n",
       "16        8.2      M  \n",
       "17          9      M  \n",
       "18        N/A    N/A  \n",
       "19        7.9      E  "
      ]
     },
     "execution_count": 25,
     "metadata": {},
     "output_type": "execute_result"
    }
   ],
   "source": [
    "df.head(20)"
   ]
  },
  {
   "cell_type": "markdown",
   "metadata": {},
   "source": [
    "#### Conclusion\n",
    "We removed the 2 rows with missing genre + name, we filled the missing values in critic_score, user_score and rating with N/A -\n",
    "\n",
    "critic_score, user_score and rating all represent some kind of rating and by my logic its not coincidental that those are the columns with alot of missing data - games were just not rated.\n",
    "Due to the large percentage of missing values we can't use our data to fill it.\n",
    "We can't relay on a genre's average rating or even console + genre, as every game's rating varies and is not platform / genre dependant - it would be wrong to assume roughly 50% of the data by 50% of the data and therefore we fill it with N/A - not available.\n",
    "\n",
    "Regarding the abbreviation TBD rating, it will be treated just like N/A - no rating available as it doesnt matter for us if there will be rating at the future or not - we don't have a rating right now."
   ]
  },
  {
   "cell_type": "markdown",
   "metadata": {},
   "source": [
    "### Total sales (the sum of sales in all regions) for each game calculation"
   ]
  },
  {
   "cell_type": "markdown",
   "metadata": {},
   "source": [
    "Function to sum all sales"
   ]
  },
  {
   "cell_type": "code",
   "execution_count": 26,
   "metadata": {},
   "outputs": [],
   "source": [
    "def total_sales(row):\n",
    "    na=row['na_sales']\n",
    "    eu=row['eu_sales']\n",
    "    jp=row['jp_sales']\n",
    "    other=row['other_sales']\n",
    "    \n",
    "    total_cost=na+eu+jp+other\n",
    "    return total_cost"
   ]
  },
  {
   "cell_type": "code",
   "execution_count": 27,
   "metadata": {},
   "outputs": [],
   "source": [
    "# apply our function to every row of our data.\n",
    "df['total_sales']=df.apply(total_sales,axis=1)"
   ]
  },
  {
   "cell_type": "code",
   "execution_count": 28,
   "metadata": {},
   "outputs": [
    {
     "data": {
      "text/html": [
       "<div>\n",
       "<style scoped>\n",
       "    .dataframe tbody tr th:only-of-type {\n",
       "        vertical-align: middle;\n",
       "    }\n",
       "\n",
       "    .dataframe tbody tr th {\n",
       "        vertical-align: top;\n",
       "    }\n",
       "\n",
       "    .dataframe thead th {\n",
       "        text-align: right;\n",
       "    }\n",
       "</style>\n",
       "<table border=\"1\" class=\"dataframe\">\n",
       "  <thead>\n",
       "    <tr style=\"text-align: right;\">\n",
       "      <th></th>\n",
       "      <th>name</th>\n",
       "      <th>platform</th>\n",
       "      <th>year_of_release</th>\n",
       "      <th>genre</th>\n",
       "      <th>na_sales</th>\n",
       "      <th>eu_sales</th>\n",
       "      <th>jp_sales</th>\n",
       "      <th>other_sales</th>\n",
       "      <th>critic_score</th>\n",
       "      <th>user_score</th>\n",
       "      <th>rating</th>\n",
       "      <th>total_sales</th>\n",
       "    </tr>\n",
       "  </thead>\n",
       "  <tbody>\n",
       "    <tr>\n",
       "      <td>0</td>\n",
       "      <td>Wii Sports</td>\n",
       "      <td>Wii</td>\n",
       "      <td>2006</td>\n",
       "      <td>Sports</td>\n",
       "      <td>41.36</td>\n",
       "      <td>28.96</td>\n",
       "      <td>3.77</td>\n",
       "      <td>8.45</td>\n",
       "      <td>76</td>\n",
       "      <td>8</td>\n",
       "      <td>E</td>\n",
       "      <td>82.54</td>\n",
       "    </tr>\n",
       "    <tr>\n",
       "      <td>1</td>\n",
       "      <td>Super Mario Bros.</td>\n",
       "      <td>NES</td>\n",
       "      <td>1985</td>\n",
       "      <td>Platform</td>\n",
       "      <td>29.08</td>\n",
       "      <td>3.58</td>\n",
       "      <td>6.81</td>\n",
       "      <td>0.77</td>\n",
       "      <td>N/A</td>\n",
       "      <td>N/A</td>\n",
       "      <td>N/A</td>\n",
       "      <td>40.24</td>\n",
       "    </tr>\n",
       "    <tr>\n",
       "      <td>2</td>\n",
       "      <td>Mario Kart Wii</td>\n",
       "      <td>Wii</td>\n",
       "      <td>2008</td>\n",
       "      <td>Racing</td>\n",
       "      <td>15.68</td>\n",
       "      <td>12.76</td>\n",
       "      <td>3.79</td>\n",
       "      <td>3.29</td>\n",
       "      <td>82</td>\n",
       "      <td>8.3</td>\n",
       "      <td>E</td>\n",
       "      <td>35.52</td>\n",
       "    </tr>\n",
       "    <tr>\n",
       "      <td>3</td>\n",
       "      <td>Wii Sports Resort</td>\n",
       "      <td>Wii</td>\n",
       "      <td>2009</td>\n",
       "      <td>Sports</td>\n",
       "      <td>15.61</td>\n",
       "      <td>10.93</td>\n",
       "      <td>3.28</td>\n",
       "      <td>2.95</td>\n",
       "      <td>80</td>\n",
       "      <td>8</td>\n",
       "      <td>E</td>\n",
       "      <td>32.77</td>\n",
       "    </tr>\n",
       "    <tr>\n",
       "      <td>4</td>\n",
       "      <td>Pokemon Red/Pokemon Blue</td>\n",
       "      <td>GB</td>\n",
       "      <td>1996</td>\n",
       "      <td>Role-Playing</td>\n",
       "      <td>11.27</td>\n",
       "      <td>8.89</td>\n",
       "      <td>10.22</td>\n",
       "      <td>1.00</td>\n",
       "      <td>N/A</td>\n",
       "      <td>N/A</td>\n",
       "      <td>N/A</td>\n",
       "      <td>31.38</td>\n",
       "    </tr>\n",
       "  </tbody>\n",
       "</table>\n",
       "</div>"
      ],
      "text/plain": [
       "                       name platform  year_of_release         genre  na_sales  \\\n",
       "0                Wii Sports      Wii             2006        Sports     41.36   \n",
       "1         Super Mario Bros.      NES             1985      Platform     29.08   \n",
       "2            Mario Kart Wii      Wii             2008        Racing     15.68   \n",
       "3         Wii Sports Resort      Wii             2009        Sports     15.61   \n",
       "4  Pokemon Red/Pokemon Blue       GB             1996  Role-Playing     11.27   \n",
       "\n",
       "   eu_sales  jp_sales  other_sales critic_score user_score rating  total_sales  \n",
       "0     28.96      3.77         8.45           76          8      E        82.54  \n",
       "1      3.58      6.81         0.77          N/A        N/A    N/A        40.24  \n",
       "2     12.76      3.79         3.29           82        8.3      E        35.52  \n",
       "3     10.93      3.28         2.95           80          8      E        32.77  \n",
       "4      8.89     10.22         1.00          N/A        N/A    N/A        31.38  "
      ]
     },
     "execution_count": 28,
     "metadata": {},
     "output_type": "execute_result"
    }
   ],
   "source": [
    "df.head()"
   ]
  },
  {
   "cell_type": "markdown",
   "metadata": {},
   "source": [
    "#### Conclusion\n",
    "We added a new total_sales (the sum of sales in all regions) column for every game."
   ]
  },
  {
   "cell_type": "markdown",
   "metadata": {},
   "source": [
    "### Conclusion"
   ]
  },
  {
   "cell_type": "markdown",
   "metadata": {},
   "source": [
    "We have lower cased our columns names,\n",
    "We have changed year_of_release to int as it represnts only the year (rounded number).\n",
    "\n",
    "We removed rows with missing year (1.5% of data).\n",
    "We removed the 2 rows with missing genre + name, we filled the missing values in critic_score, user_score and rating with N/A as there were no ratings / scores available.\n",
    "\n",
    "We added a new total_sales (the sum of sales in all regions) column for every game."
   ]
  },
  {
   "cell_type": "markdown",
   "metadata": {},
   "source": [
    "<div class=\"alert alert-info\" style=\"background-color:#006a79; color:white; padding:0px 10px; border-radius:5px;\"><h2 style='margin:10px 5px'>Exploratory Data Analysis</h2>\n",
    "</div>"
   ]
  },
  {
   "cell_type": "markdown",
   "metadata": {},
   "source": [
    "### games released per year analysis"
   ]
  },
  {
   "cell_type": "markdown",
   "metadata": {},
   "source": [
    "creating a dataframe for the year and its game count"
   ]
  },
  {
   "cell_type": "code",
   "execution_count": 29,
   "metadata": {},
   "outputs": [],
   "source": [
    "g_per_year = df.groupby(['year_of_release']).agg({'name': 'count'}).reset_index()"
   ]
  },
  {
   "cell_type": "code",
   "execution_count": 30,
   "metadata": {},
   "outputs": [],
   "source": [
    "g_per_year.columns = ['year','games_count']"
   ]
  },
  {
   "cell_type": "code",
   "execution_count": 31,
   "metadata": {},
   "outputs": [
    {
     "data": {
      "image/png": "[encoded data removed]",
      "text/plain": [
       "<Figure size 720x360 with 1 Axes>"
      ]
     },
     "metadata": {
      "needs_background": "light"
     },
     "output_type": "display_data"
    }
   ],
   "source": [
    "ax = g_per_year.plot(x='year',y='games_count',kind='bar',legend = False,figsize = (10,5),title='Amount of games released per year').set_ylabel(\"Amount of games\")"
   ]
  },
  {
   "cell_type": "markdown",
   "metadata": {},
   "source": [
    "#### Description\n",
    "This graph shows our earlier years(1980-1994) had less than 200 games released per year.\n",
    "\n",
    "We see the positive correlation between the year and the amount of games - it generally increases over the years.\n",
    "We see our peak (max) amount of games are 1427 at 2008, and lowest (min) amount of games of 9 at 1980."
   ]
  },
  {
   "cell_type": "code",
   "execution_count": 32,
   "metadata": {},
   "outputs": [
    {
     "data": {
      "text/html": [
       "<div>\n",
       "<style scoped>\n",
       "    .dataframe tbody tr th:only-of-type {\n",
       "        vertical-align: middle;\n",
       "    }\n",
       "\n",
       "    .dataframe tbody tr th {\n",
       "        vertical-align: top;\n",
       "    }\n",
       "\n",
       "    .dataframe thead th {\n",
       "        text-align: right;\n",
       "    }\n",
       "</style>\n",
       "<table border=\"1\" class=\"dataframe\">\n",
       "  <thead>\n",
       "    <tr style=\"text-align: right;\">\n",
       "      <th></th>\n",
       "      <th>year</th>\n",
       "      <th>games_count</th>\n",
       "    </tr>\n",
       "  </thead>\n",
       "  <tbody>\n",
       "    <tr>\n",
       "      <td>year</td>\n",
       "      <td>1.000000</td>\n",
       "      <td>0.792978</td>\n",
       "    </tr>\n",
       "    <tr>\n",
       "      <td>games_count</td>\n",
       "      <td>0.792978</td>\n",
       "      <td>1.000000</td>\n",
       "    </tr>\n",
       "  </tbody>\n",
       "</table>\n",
       "</div>"
      ],
      "text/plain": [
       "                 year  games_count\n",
       "year         1.000000     0.792978\n",
       "games_count  0.792978     1.000000"
      ]
     },
     "execution_count": 32,
     "metadata": {},
     "output_type": "execute_result"
    }
   ],
   "source": [
    "g_per_year.corr()"
   ]
  },
  {
   "cell_type": "code",
   "execution_count": 33,
   "metadata": {},
   "outputs": [
    {
     "data": {
      "text/html": [
       "<div>\n",
       "<style scoped>\n",
       "    .dataframe tbody tr th:only-of-type {\n",
       "        vertical-align: middle;\n",
       "    }\n",
       "\n",
       "    .dataframe tbody tr th {\n",
       "        vertical-align: top;\n",
       "    }\n",
       "\n",
       "    .dataframe thead th {\n",
       "        text-align: right;\n",
       "    }\n",
       "</style>\n",
       "<table border=\"1\" class=\"dataframe\">\n",
       "  <thead>\n",
       "    <tr style=\"text-align: right;\">\n",
       "      <th></th>\n",
       "      <th>year</th>\n",
       "      <th>games_count</th>\n",
       "    </tr>\n",
       "  </thead>\n",
       "  <tbody>\n",
       "    <tr>\n",
       "      <td>count</td>\n",
       "      <td>37.000000</td>\n",
       "      <td>37.000000</td>\n",
       "    </tr>\n",
       "    <tr>\n",
       "      <td>mean</td>\n",
       "      <td>1998.000000</td>\n",
       "      <td>444.432432</td>\n",
       "    </tr>\n",
       "    <tr>\n",
       "      <td>std</td>\n",
       "      <td>10.824355</td>\n",
       "      <td>451.604334</td>\n",
       "    </tr>\n",
       "    <tr>\n",
       "      <td>min</td>\n",
       "      <td>1980.000000</td>\n",
       "      <td>9.000000</td>\n",
       "    </tr>\n",
       "    <tr>\n",
       "      <td>25%</td>\n",
       "      <td>1989.000000</td>\n",
       "      <td>36.000000</td>\n",
       "    </tr>\n",
       "    <tr>\n",
       "      <td>50%</td>\n",
       "      <td>1998.000000</td>\n",
       "      <td>338.000000</td>\n",
       "    </tr>\n",
       "    <tr>\n",
       "      <td>75%</td>\n",
       "      <td>2007.000000</td>\n",
       "      <td>762.000000</td>\n",
       "    </tr>\n",
       "    <tr>\n",
       "      <td>max</td>\n",
       "      <td>2016.000000</td>\n",
       "      <td>1427.000000</td>\n",
       "    </tr>\n",
       "  </tbody>\n",
       "</table>\n",
       "</div>"
      ],
      "text/plain": [
       "              year  games_count\n",
       "count    37.000000    37.000000\n",
       "mean   1998.000000   444.432432\n",
       "std      10.824355   451.604334\n",
       "min    1980.000000     9.000000\n",
       "25%    1989.000000    36.000000\n",
       "50%    1998.000000   338.000000\n",
       "75%    2007.000000   762.000000\n",
       "max    2016.000000  1427.000000"
      ]
     },
     "execution_count": 33,
     "metadata": {},
     "output_type": "execute_result"
    }
   ],
   "source": [
    "g_per_year.describe()"
   ]
  },
  {
   "cell_type": "markdown",
   "metadata": {},
   "source": [
    "### Sales between platforms"
   ]
  },
  {
   "cell_type": "code",
   "execution_count": 34,
   "metadata": {},
   "outputs": [
    {
     "data": {
      "text/html": [
       "<div>\n",
       "<style scoped>\n",
       "    .dataframe tbody tr th:only-of-type {\n",
       "        vertical-align: middle;\n",
       "    }\n",
       "\n",
       "    .dataframe tbody tr th {\n",
       "        vertical-align: top;\n",
       "    }\n",
       "\n",
       "    .dataframe thead th {\n",
       "        text-align: right;\n",
       "    }\n",
       "</style>\n",
       "<table border=\"1\" class=\"dataframe\">\n",
       "  <thead>\n",
       "    <tr style=\"text-align: right;\">\n",
       "      <th></th>\n",
       "      <th>name</th>\n",
       "      <th>platform</th>\n",
       "      <th>year_of_release</th>\n",
       "      <th>genre</th>\n",
       "      <th>na_sales</th>\n",
       "      <th>eu_sales</th>\n",
       "      <th>jp_sales</th>\n",
       "      <th>other_sales</th>\n",
       "      <th>critic_score</th>\n",
       "      <th>user_score</th>\n",
       "      <th>rating</th>\n",
       "      <th>total_sales</th>\n",
       "    </tr>\n",
       "  </thead>\n",
       "  <tbody>\n",
       "    <tr>\n",
       "      <td>0</td>\n",
       "      <td>Wii Sports</td>\n",
       "      <td>Wii</td>\n",
       "      <td>2006</td>\n",
       "      <td>Sports</td>\n",
       "      <td>41.36</td>\n",
       "      <td>28.96</td>\n",
       "      <td>3.77</td>\n",
       "      <td>8.45</td>\n",
       "      <td>76</td>\n",
       "      <td>8</td>\n",
       "      <td>E</td>\n",
       "      <td>82.54</td>\n",
       "    </tr>\n",
       "    <tr>\n",
       "      <td>1</td>\n",
       "      <td>Super Mario Bros.</td>\n",
       "      <td>NES</td>\n",
       "      <td>1985</td>\n",
       "      <td>Platform</td>\n",
       "      <td>29.08</td>\n",
       "      <td>3.58</td>\n",
       "      <td>6.81</td>\n",
       "      <td>0.77</td>\n",
       "      <td>N/A</td>\n",
       "      <td>N/A</td>\n",
       "      <td>N/A</td>\n",
       "      <td>40.24</td>\n",
       "    </tr>\n",
       "    <tr>\n",
       "      <td>2</td>\n",
       "      <td>Mario Kart Wii</td>\n",
       "      <td>Wii</td>\n",
       "      <td>2008</td>\n",
       "      <td>Racing</td>\n",
       "      <td>15.68</td>\n",
       "      <td>12.76</td>\n",
       "      <td>3.79</td>\n",
       "      <td>3.29</td>\n",
       "      <td>82</td>\n",
       "      <td>8.3</td>\n",
       "      <td>E</td>\n",
       "      <td>35.52</td>\n",
       "    </tr>\n",
       "    <tr>\n",
       "      <td>3</td>\n",
       "      <td>Wii Sports Resort</td>\n",
       "      <td>Wii</td>\n",
       "      <td>2009</td>\n",
       "      <td>Sports</td>\n",
       "      <td>15.61</td>\n",
       "      <td>10.93</td>\n",
       "      <td>3.28</td>\n",
       "      <td>2.95</td>\n",
       "      <td>80</td>\n",
       "      <td>8</td>\n",
       "      <td>E</td>\n",
       "      <td>32.77</td>\n",
       "    </tr>\n",
       "    <tr>\n",
       "      <td>4</td>\n",
       "      <td>Pokemon Red/Pokemon Blue</td>\n",
       "      <td>GB</td>\n",
       "      <td>1996</td>\n",
       "      <td>Role-Playing</td>\n",
       "      <td>11.27</td>\n",
       "      <td>8.89</td>\n",
       "      <td>10.22</td>\n",
       "      <td>1.00</td>\n",
       "      <td>N/A</td>\n",
       "      <td>N/A</td>\n",
       "      <td>N/A</td>\n",
       "      <td>31.38</td>\n",
       "    </tr>\n",
       "  </tbody>\n",
       "</table>\n",
       "</div>"
      ],
      "text/plain": [
       "                       name platform  year_of_release         genre  na_sales  \\\n",
       "0                Wii Sports      Wii             2006        Sports     41.36   \n",
       "1         Super Mario Bros.      NES             1985      Platform     29.08   \n",
       "2            Mario Kart Wii      Wii             2008        Racing     15.68   \n",
       "3         Wii Sports Resort      Wii             2009        Sports     15.61   \n",
       "4  Pokemon Red/Pokemon Blue       GB             1996  Role-Playing     11.27   \n",
       "\n",
       "   eu_sales  jp_sales  other_sales critic_score user_score rating  total_sales  \n",
       "0     28.96      3.77         8.45           76          8      E        82.54  \n",
       "1      3.58      6.81         0.77          N/A        N/A    N/A        40.24  \n",
       "2     12.76      3.79         3.29           82        8.3      E        35.52  \n",
       "3     10.93      3.28         2.95           80          8      E        32.77  \n",
       "4      8.89     10.22         1.00          N/A        N/A    N/A        31.38  "
      ]
     },
     "execution_count": 34,
     "metadata": {},
     "output_type": "execute_result"
    }
   ],
   "source": [
    "df.head()"
   ]
  },
  {
   "cell_type": "code",
   "execution_count": 35,
   "metadata": {},
   "outputs": [],
   "source": [
    "p_sales = df.groupby(['platform']).agg({'total_sales': 'sum'}).reset_index()"
   ]
  },
  {
   "cell_type": "markdown",
   "metadata": {},
   "source": [
    "Sorting by sales for better view"
   ]
  },
  {
   "cell_type": "code",
   "execution_count": 36,
   "metadata": {},
   "outputs": [],
   "source": [
    "p_sales = p_sales.sort_values(by='total_sales').reset_index()"
   ]
  },
  {
   "cell_type": "code",
   "execution_count": 37,
   "metadata": {},
   "outputs": [
    {
     "data": {
      "image/png": "[encoded data removed]",
      "text/plain": [
       "<Figure size 720x360 with 1 Axes>"
      ]
     },
     "metadata": {
      "needs_background": "light"
     },
     "output_type": "display_data"
    }
   ],
   "source": [
    "ax = p_sales.plot(x='platform',y='total_sales',kind='bar',figsize = (10,5),legend = False ,title='Sales between platforms').set_ylabel(\"Amount in $M\")\n"
   ]
  },
  {
   "cell_type": "markdown",
   "metadata": {},
   "source": [
    "#### Description\n",
    "This graph shows our top 5 selling platforms are DS, Wii, PS3, X360, and PS2."
   ]
  },
  {
   "cell_type": "markdown",
   "metadata": {},
   "source": [
    "### Top platforms yearly sales distribution"
   ]
  },
  {
   "cell_type": "markdown",
   "metadata": {},
   "source": [
    "choosing only data for the top 5 platforms"
   ]
  },
  {
   "cell_type": "code",
   "execution_count": 38,
   "metadata": {},
   "outputs": [],
   "source": [
    "top5_names = p_sales['platform'].tail().to_list()"
   ]
  },
  {
   "cell_type": "code",
   "execution_count": 39,
   "metadata": {},
   "outputs": [],
   "source": [
    "top5 = df.query('platform in @top5_names')"
   ]
  },
  {
   "cell_type": "markdown",
   "metadata": {},
   "source": [
    "plotting the sales distribution by years for the top 5 platforms"
   ]
  },
  {
   "cell_type": "code",
   "execution_count": 40,
   "metadata": {},
   "outputs": [],
   "source": [
    "top5_y_sales = top5.groupby(['year_of_release']).agg({'total_sales': 'sum'}).reset_index()"
   ]
  },
  {
   "cell_type": "code",
   "execution_count": 41,
   "metadata": {},
   "outputs": [],
   "source": [
    "top5_y_sales.columns = ['year','total_sales']"
   ]
  },
  {
   "cell_type": "code",
   "execution_count": 42,
   "metadata": {},
   "outputs": [
    {
     "data": {
      "image/png": "[encoded data removed]",
      "text/plain": [
       "<Figure size 720x360 with 1 Axes>"
      ]
     },
     "metadata": {
      "needs_background": "light"
     },
     "output_type": "display_data"
    }
   ],
   "source": [
    "ax = top5_y_sales.plot(x='year',y='total_sales',kind='bar',figsize = (10,5),legend = False \n",
    "                  ,title=' Top 5 platforms yearly sales').set_ylabel(\"Amount in $M\")"
   ]
  },
  {
   "cell_type": "markdown",
   "metadata": {},
   "source": [
    "#### Description\n",
    "\n",
    "This graph shows our top 5 platforms have their sales peak at 2008, and their sales decreasing after 2008.\n",
    "This pattern some-what matches the graph about games released per year (section 3.1) where we saw our peak was at 2008, and then started to decrease.\n",
    "This makes sense as the lower the games amount - it is likely the sales to be lower.\n"
   ]
  },
  {
   "cell_type": "markdown",
   "metadata": {},
   "source": [
    "### platforms that used to be popular but now have zero sales analysis\n",
    "\n",
    "We will look at 2 periods for popular platforms who have 0 sales in 2016: 1980-2000 and 2001-2010"
   ]
  },
  {
   "cell_type": "markdown",
   "metadata": {},
   "source": [
    "creating a df until year of 2000 to see which platforms were popular back then and no longer have sales"
   ]
  },
  {
   "cell_type": "code",
   "execution_count": 43,
   "metadata": {},
   "outputs": [],
   "source": [
    "df_2000 = df.query('year_of_release <= 2000')\n",
    "df_2000_2 = df_2000.groupby(['platform']).agg({'total_sales': 'sum'}).reset_index()"
   ]
  },
  {
   "cell_type": "markdown",
   "metadata": {},
   "source": [
    "sorting by total sales"
   ]
  },
  {
   "cell_type": "code",
   "execution_count": 44,
   "metadata": {},
   "outputs": [],
   "source": [
    "df_2000_2 = df_2000_2.sort_values(by='total_sales').reset_index()\n",
    "top5_old_names = df_2000_2['platform'].tail().to_list()"
   ]
  },
  {
   "cell_type": "code",
   "execution_count": 45,
   "metadata": {},
   "outputs": [
    {
     "data": {
      "text/plain": [
       "['SNES', 'N64', 'GB', 'NES', 'PS']"
      ]
     },
     "execution_count": 45,
     "metadata": {},
     "output_type": "execute_result"
    }
   ],
   "source": [
    "top5_old_names"
   ]
  },
  {
   "cell_type": "markdown",
   "metadata": {},
   "source": [
    "slicing only the top 5 platforms until 2000 and plotting to see their sales pattern"
   ]
  },
  {
   "cell_type": "code",
   "execution_count": 46,
   "metadata": {},
   "outputs": [],
   "source": [
    "top5_old = df.query('platform in @top5_old_names')\n",
    "top5_old_sales = top5_old.groupby(['year_of_release']).agg({'total_sales': 'sum'}).reset_index()\n",
    "top5_old_sales.columns = ['year','total_sales']"
   ]
  },
  {
   "cell_type": "code",
   "execution_count": 47,
   "metadata": {},
   "outputs": [
    {
     "data": {
      "image/png": "[encoded data removed]",
      "text/plain": [
       "<Figure size 720x360 with 1 Axes>"
      ]
     },
     "metadata": {
      "needs_background": "light"
     },
     "output_type": "display_data"
    }
   ],
   "source": [
    "ax = top5_old_sales.plot(x='year',y='total_sales',kind='bar',figsize = (10,5),legend = False \n",
    "                  ,title=' Top 5 old(1980-2000) platforms yearly sales').set_ylabel(\"Amount in $M\")"
   ]
  },
  {
   "cell_type": "markdown",
   "metadata": {},
   "source": [
    "#### Description\n",
    "This graph shows the lifetime of the sales of the 5 most popular platforms between 1980 and 2000.\n",
    "We see their last year of selling was 2003, and their most successful years in terms of sales were 1996-2000.\n",
    "\n",
    "all those platforms (SNES, N64, GB, NES, PS) have no sales after 2003."
   ]
  },
  {
   "cell_type": "markdown",
   "metadata": {},
   "source": [
    "creating a df until year of 2010 to see which platforms were popular back then and no longer have sales."
   ]
  },
  {
   "cell_type": "code",
   "execution_count": 48,
   "metadata": {},
   "outputs": [],
   "source": [
    "df_2010 = df.query('year_of_release > 2000 and year_of_release < 2011')\n",
    "df_2010_2 = df_2010.groupby(['platform']).agg({'total_sales': 'sum'}).reset_index()"
   ]
  },
  {
   "cell_type": "markdown",
   "metadata": {},
   "source": [
    "sorting by total sales"
   ]
  },
  {
   "cell_type": "code",
   "execution_count": 49,
   "metadata": {},
   "outputs": [],
   "source": [
    "df_2010_2 = df_2010_2.sort_values(by='total_sales').reset_index()\n",
    "top5_medium_names = df_2010_2['platform'].tail().to_list()"
   ]
  },
  {
   "cell_type": "code",
   "execution_count": 50,
   "metadata": {},
   "outputs": [
    {
     "data": {
      "text/html": [
       "<div>\n",
       "<style scoped>\n",
       "    .dataframe tbody tr th:only-of-type {\n",
       "        vertical-align: middle;\n",
       "    }\n",
       "\n",
       "    .dataframe tbody tr th {\n",
       "        vertical-align: top;\n",
       "    }\n",
       "\n",
       "    .dataframe thead th {\n",
       "        text-align: right;\n",
       "    }\n",
       "</style>\n",
       "<table border=\"1\" class=\"dataframe\">\n",
       "  <thead>\n",
       "    <tr style=\"text-align: right;\">\n",
       "      <th></th>\n",
       "      <th>index</th>\n",
       "      <th>platform</th>\n",
       "      <th>total_sales</th>\n",
       "    </tr>\n",
       "  </thead>\n",
       "  <tbody>\n",
       "    <tr>\n",
       "      <td>7</td>\n",
       "      <td>14</td>\n",
       "      <td>XB</td>\n",
       "      <td>250.58</td>\n",
       "    </tr>\n",
       "    <tr>\n",
       "      <td>8</td>\n",
       "      <td>10</td>\n",
       "      <td>PSP</td>\n",
       "      <td>260.52</td>\n",
       "    </tr>\n",
       "    <tr>\n",
       "      <td>9</td>\n",
       "      <td>3</td>\n",
       "      <td>GBA</td>\n",
       "      <td>312.81</td>\n",
       "    </tr>\n",
       "    <tr>\n",
       "      <td>10</td>\n",
       "      <td>9</td>\n",
       "      <td>PS3</td>\n",
       "      <td>485.77</td>\n",
       "    </tr>\n",
       "    <tr>\n",
       "      <td>11</td>\n",
       "      <td>13</td>\n",
       "      <td>X360</td>\n",
       "      <td>580.86</td>\n",
       "    </tr>\n",
       "    <tr>\n",
       "      <td>12</td>\n",
       "      <td>1</td>\n",
       "      <td>DS</td>\n",
       "      <td>764.03</td>\n",
       "    </tr>\n",
       "    <tr>\n",
       "      <td>13</td>\n",
       "      <td>12</td>\n",
       "      <td>Wii</td>\n",
       "      <td>796.16</td>\n",
       "    </tr>\n",
       "    <tr>\n",
       "      <td>14</td>\n",
       "      <td>8</td>\n",
       "      <td>PS2</td>\n",
       "      <td>1193.94</td>\n",
       "    </tr>\n",
       "  </tbody>\n",
       "</table>\n",
       "</div>"
      ],
      "text/plain": [
       "    index platform  total_sales\n",
       "7      14       XB       250.58\n",
       "8      10      PSP       260.52\n",
       "9       3      GBA       312.81\n",
       "10      9      PS3       485.77\n",
       "11     13     X360       580.86\n",
       "12      1       DS       764.03\n",
       "13     12      Wii       796.16\n",
       "14      8      PS2      1193.94"
      ]
     },
     "execution_count": 50,
     "metadata": {},
     "output_type": "execute_result"
    }
   ],
   "source": [
    "df_2010_2.tail(8)"
   ]
  },
  {
   "cell_type": "code",
   "execution_count": 51,
   "metadata": {},
   "outputs": [
    {
     "data": {
      "text/plain": [
       "['PS3', 'X360', 'DS', 'Wii', 'PS2']"
      ]
     },
     "execution_count": 51,
     "metadata": {},
     "output_type": "execute_result"
    }
   ],
   "source": [
    "top5_medium_names"
   ]
  },
  {
   "cell_type": "markdown",
   "metadata": {},
   "source": [
    "Checking if any of the top 5 between 2000-2010 has sales in 2016, if it does - it will be replaced with the next most popular platform"
   ]
  },
  {
   "cell_type": "code",
   "execution_count": 52,
   "metadata": {},
   "outputs": [
    {
     "data": {
      "text/plain": [
       "PS3     38\n",
       "X360    13\n",
       "Wii      1\n",
       "Name: platform, dtype: int64"
      ]
     },
     "execution_count": 52,
     "metadata": {},
     "output_type": "execute_result"
    }
   ],
   "source": [
    "df.query('platform in @top5_medium_names and year_of_release == 2016')['platform'].value_counts()"
   ]
  },
  {
   "cell_type": "markdown",
   "metadata": {},
   "source": [
    "PS3, X360, and Wii have sales in 2016, and are replaced with GBA, PSP and XB who are the next most popular platform without sales in 2016"
   ]
  },
  {
   "cell_type": "code",
   "execution_count": 53,
   "metadata": {},
   "outputs": [],
   "source": [
    "top5_medium_names = ['XB', 'PSP', 'GBA', 'DS', 'PS2']"
   ]
  },
  {
   "cell_type": "markdown",
   "metadata": {},
   "source": [
    "Veryifing no sales in 2016 for all popular 2000-2010 platforms"
   ]
  },
  {
   "cell_type": "code",
   "execution_count": 54,
   "metadata": {},
   "outputs": [
    {
     "data": {
      "text/plain": [
       "Series([], Name: platform, dtype: int64)"
      ]
     },
     "execution_count": 54,
     "metadata": {},
     "output_type": "execute_result"
    }
   ],
   "source": [
    "df.query('platform in @top5_medium_names and year_of_release == 2016')['platform'].value_counts()"
   ]
  },
  {
   "cell_type": "markdown",
   "metadata": {},
   "source": [
    "slicing only the top 5 platforms between 2000-2010 and plotting to see their sales pattern"
   ]
  },
  {
   "cell_type": "code",
   "execution_count": 55,
   "metadata": {},
   "outputs": [],
   "source": [
    "top5_medium = df.query('platform in @top5_medium_names')\n",
    "top5_medium_sales = top5_medium.groupby(['year_of_release']).agg({'total_sales': 'sum'}).reset_index()\n",
    "top5_medium_sales.columns = ['year','total_sales']"
   ]
  },
  {
   "cell_type": "code",
   "execution_count": 56,
   "metadata": {},
   "outputs": [
    {
     "data": {
      "image/png": "[encoded data removed]",
      "text/plain": [
       "<Figure size 720x360 with 1 Axes>"
      ]
     },
     "metadata": {
      "needs_background": "light"
     },
     "output_type": "display_data"
    }
   ],
   "source": [
    "ax = top5_medium_sales.plot(x='year',y='total_sales',kind='bar',figsize = (10,5),legend = False \n",
    "                  ,title=' Top 5 medium(2000-2010) platforms yearly sales').set_ylabel(\"Amount in $M\")"
   ]
  },
  {
   "cell_type": "markdown",
   "metadata": {},
   "source": [
    "#### Description\n",
    "This graph shows the lifetime of sales for the 5 most popular platforms between the years of 2000-2010 who didnt manage to have sale in 2016.\n",
    "We see that their peak was in 2005, and from then on the amount of sales decreased until the point of having no sales in 2016.\n",
    "\n",
    "All those platforms ('XB', 'PSP', 'GBA', 'DS', 'PS2') have no sales in 2016."
   ]
  },
  {
   "cell_type": "markdown",
   "metadata": {},
   "source": [
    "#### Conclusion"
   ]
  },
  {
   "cell_type": "markdown",
   "metadata": {},
   "source": [
    "Platforms that used to be popular but now have zero sales are:\n",
    "\n",
    "SNES, N64, GB, NES, PS - most popular between 1980-2000.\n",
    "\n",
    "XB, PSP, GBA, DS, PS2 - most popular between 2001-2010 with no sales in 2016."
   ]
  },
  {
   "cell_type": "markdown",
   "metadata": {},
   "source": [
    "### How long does it generally take for new platforms to appear and old ones to fade analysis"
   ]
  },
  {
   "cell_type": "markdown",
   "metadata": {},
   "source": [
    "Finding every platform's first release year (their appearance)"
   ]
  },
  {
   "cell_type": "code",
   "execution_count": 57,
   "metadata": {},
   "outputs": [],
   "source": [
    "first_year = df.groupby(['platform']).agg({'year_of_release': 'min'}).reset_index()"
   ]
  },
  {
   "cell_type": "code",
   "execution_count": 58,
   "metadata": {},
   "outputs": [],
   "source": [
    "first_year = first_year.sort_values(by='platform').reset_index(drop=True)"
   ]
  },
  {
   "cell_type": "code",
   "execution_count": 59,
   "metadata": {},
   "outputs": [],
   "source": [
    "first_year.columns = ['platform','first_year']"
   ]
  },
  {
   "cell_type": "markdown",
   "metadata": {},
   "source": [
    "Finding every platform's last release year (their last year of sales)"
   ]
  },
  {
   "cell_type": "code",
   "execution_count": 60,
   "metadata": {},
   "outputs": [],
   "source": [
    "last_year = df.groupby(['platform']).agg({'year_of_release': 'max'}).reset_index()"
   ]
  },
  {
   "cell_type": "code",
   "execution_count": 61,
   "metadata": {},
   "outputs": [],
   "source": [
    "last_year = last_year.sort_values(by='platform').reset_index(drop=True)"
   ]
  },
  {
   "cell_type": "code",
   "execution_count": 62,
   "metadata": {},
   "outputs": [],
   "source": [
    "last_year.columns = ['platform','last_year']"
   ]
  },
  {
   "cell_type": "markdown",
   "metadata": {},
   "source": [
    "adding the last release year column to the first_year df."
   ]
  },
  {
   "cell_type": "code",
   "execution_count": 63,
   "metadata": {},
   "outputs": [],
   "source": [
    "first_year['last_year'] = last_year['last_year']"
   ]
  },
  {
   "cell_type": "markdown",
   "metadata": {},
   "source": [
    "sorting by the oldest platform to the newest and storing in a new df - platform_life"
   ]
  },
  {
   "cell_type": "code",
   "execution_count": 64,
   "metadata": {},
   "outputs": [],
   "source": [
    "platform_life = first_year.sort_values(by='first_year').reset_index(drop=True)"
   ]
  },
  {
   "cell_type": "code",
   "execution_count": 65,
   "metadata": {},
   "outputs": [
    {
     "data": {
      "text/html": [
       "<div>\n",
       "<style scoped>\n",
       "    .dataframe tbody tr th:only-of-type {\n",
       "        vertical-align: middle;\n",
       "    }\n",
       "\n",
       "    .dataframe tbody tr th {\n",
       "        vertical-align: top;\n",
       "    }\n",
       "\n",
       "    .dataframe thead th {\n",
       "        text-align: right;\n",
       "    }\n",
       "</style>\n",
       "<table border=\"1\" class=\"dataframe\">\n",
       "  <thead>\n",
       "    <tr style=\"text-align: right;\">\n",
       "      <th></th>\n",
       "      <th>platform</th>\n",
       "      <th>first_year</th>\n",
       "      <th>last_year</th>\n",
       "    </tr>\n",
       "  </thead>\n",
       "  <tbody>\n",
       "    <tr>\n",
       "      <td>0</td>\n",
       "      <td>2600</td>\n",
       "      <td>1980</td>\n",
       "      <td>1989</td>\n",
       "    </tr>\n",
       "    <tr>\n",
       "      <td>1</td>\n",
       "      <td>NES</td>\n",
       "      <td>1983</td>\n",
       "      <td>1994</td>\n",
       "    </tr>\n",
       "    <tr>\n",
       "      <td>2</td>\n",
       "      <td>DS</td>\n",
       "      <td>1985</td>\n",
       "      <td>2013</td>\n",
       "    </tr>\n",
       "    <tr>\n",
       "      <td>3</td>\n",
       "      <td>PC</td>\n",
       "      <td>1985</td>\n",
       "      <td>2016</td>\n",
       "    </tr>\n",
       "    <tr>\n",
       "      <td>4</td>\n",
       "      <td>GB</td>\n",
       "      <td>1988</td>\n",
       "      <td>2001</td>\n",
       "    </tr>\n",
       "    <tr>\n",
       "      <td>5</td>\n",
       "      <td>SNES</td>\n",
       "      <td>1990</td>\n",
       "      <td>1999</td>\n",
       "    </tr>\n",
       "    <tr>\n",
       "      <td>6</td>\n",
       "      <td>GEN</td>\n",
       "      <td>1990</td>\n",
       "      <td>1994</td>\n",
       "    </tr>\n",
       "    <tr>\n",
       "      <td>7</td>\n",
       "      <td>GG</td>\n",
       "      <td>1992</td>\n",
       "      <td>1992</td>\n",
       "    </tr>\n",
       "    <tr>\n",
       "      <td>8</td>\n",
       "      <td>SCD</td>\n",
       "      <td>1993</td>\n",
       "      <td>1994</td>\n",
       "    </tr>\n",
       "    <tr>\n",
       "      <td>9</td>\n",
       "      <td>NG</td>\n",
       "      <td>1993</td>\n",
       "      <td>1996</td>\n",
       "    </tr>\n",
       "    <tr>\n",
       "      <td>10</td>\n",
       "      <td>SAT</td>\n",
       "      <td>1994</td>\n",
       "      <td>1999</td>\n",
       "    </tr>\n",
       "    <tr>\n",
       "      <td>11</td>\n",
       "      <td>PS</td>\n",
       "      <td>1994</td>\n",
       "      <td>2003</td>\n",
       "    </tr>\n",
       "    <tr>\n",
       "      <td>12</td>\n",
       "      <td>3DO</td>\n",
       "      <td>1994</td>\n",
       "      <td>1995</td>\n",
       "    </tr>\n",
       "    <tr>\n",
       "      <td>13</td>\n",
       "      <td>TG16</td>\n",
       "      <td>1995</td>\n",
       "      <td>1995</td>\n",
       "    </tr>\n",
       "    <tr>\n",
       "      <td>14</td>\n",
       "      <td>PCFX</td>\n",
       "      <td>1996</td>\n",
       "      <td>1996</td>\n",
       "    </tr>\n",
       "    <tr>\n",
       "      <td>15</td>\n",
       "      <td>N64</td>\n",
       "      <td>1996</td>\n",
       "      <td>2002</td>\n",
       "    </tr>\n",
       "    <tr>\n",
       "      <td>16</td>\n",
       "      <td>DC</td>\n",
       "      <td>1998</td>\n",
       "      <td>2008</td>\n",
       "    </tr>\n",
       "    <tr>\n",
       "      <td>17</td>\n",
       "      <td>WS</td>\n",
       "      <td>1999</td>\n",
       "      <td>2001</td>\n",
       "    </tr>\n",
       "    <tr>\n",
       "      <td>18</td>\n",
       "      <td>GBA</td>\n",
       "      <td>2000</td>\n",
       "      <td>2007</td>\n",
       "    </tr>\n",
       "    <tr>\n",
       "      <td>19</td>\n",
       "      <td>XB</td>\n",
       "      <td>2000</td>\n",
       "      <td>2008</td>\n",
       "    </tr>\n",
       "    <tr>\n",
       "      <td>20</td>\n",
       "      <td>PS2</td>\n",
       "      <td>2000</td>\n",
       "      <td>2011</td>\n",
       "    </tr>\n",
       "    <tr>\n",
       "      <td>21</td>\n",
       "      <td>GC</td>\n",
       "      <td>2001</td>\n",
       "      <td>2007</td>\n",
       "    </tr>\n",
       "    <tr>\n",
       "      <td>22</td>\n",
       "      <td>PSP</td>\n",
       "      <td>2004</td>\n",
       "      <td>2015</td>\n",
       "    </tr>\n",
       "    <tr>\n",
       "      <td>23</td>\n",
       "      <td>X360</td>\n",
       "      <td>2005</td>\n",
       "      <td>2016</td>\n",
       "    </tr>\n",
       "    <tr>\n",
       "      <td>24</td>\n",
       "      <td>PS3</td>\n",
       "      <td>2006</td>\n",
       "      <td>2016</td>\n",
       "    </tr>\n",
       "    <tr>\n",
       "      <td>25</td>\n",
       "      <td>Wii</td>\n",
       "      <td>2006</td>\n",
       "      <td>2016</td>\n",
       "    </tr>\n",
       "    <tr>\n",
       "      <td>26</td>\n",
       "      <td>3DS</td>\n",
       "      <td>2011</td>\n",
       "      <td>2016</td>\n",
       "    </tr>\n",
       "    <tr>\n",
       "      <td>27</td>\n",
       "      <td>PSV</td>\n",
       "      <td>2011</td>\n",
       "      <td>2016</td>\n",
       "    </tr>\n",
       "    <tr>\n",
       "      <td>28</td>\n",
       "      <td>WiiU</td>\n",
       "      <td>2012</td>\n",
       "      <td>2016</td>\n",
       "    </tr>\n",
       "    <tr>\n",
       "      <td>29</td>\n",
       "      <td>PS4</td>\n",
       "      <td>2013</td>\n",
       "      <td>2016</td>\n",
       "    </tr>\n",
       "    <tr>\n",
       "      <td>30</td>\n",
       "      <td>XOne</td>\n",
       "      <td>2013</td>\n",
       "      <td>2016</td>\n",
       "    </tr>\n",
       "  </tbody>\n",
       "</table>\n",
       "</div>"
      ],
      "text/plain": [
       "   platform  first_year  last_year\n",
       "0      2600        1980       1989\n",
       "1       NES        1983       1994\n",
       "2        DS        1985       2013\n",
       "3        PC        1985       2016\n",
       "4        GB        1988       2001\n",
       "5      SNES        1990       1999\n",
       "6       GEN        1990       1994\n",
       "7        GG        1992       1992\n",
       "8       SCD        1993       1994\n",
       "9        NG        1993       1996\n",
       "10      SAT        1994       1999\n",
       "11       PS        1994       2003\n",
       "12      3DO        1994       1995\n",
       "13     TG16        1995       1995\n",
       "14     PCFX        1996       1996\n",
       "15      N64        1996       2002\n",
       "16       DC        1998       2008\n",
       "17       WS        1999       2001\n",
       "18      GBA        2000       2007\n",
       "19       XB        2000       2008\n",
       "20      PS2        2000       2011\n",
       "21       GC        2001       2007\n",
       "22      PSP        2004       2015\n",
       "23     X360        2005       2016\n",
       "24      PS3        2006       2016\n",
       "25      Wii        2006       2016\n",
       "26      3DS        2011       2016\n",
       "27      PSV        2011       2016\n",
       "28     WiiU        2012       2016\n",
       "29      PS4        2013       2016\n",
       "30     XOne        2013       2016"
      ]
     },
     "execution_count": 65,
     "metadata": {},
     "output_type": "execute_result"
    }
   ],
   "source": [
    "platform_life"
   ]
  },
  {
   "cell_type": "markdown",
   "metadata": {},
   "source": [
    "adding a lifetime column"
   ]
  },
  {
   "cell_type": "code",
   "execution_count": 66,
   "metadata": {},
   "outputs": [],
   "source": [
    "platform_life['lifetime'] = (platform_life['last_year'] - platform_life['first_year'])"
   ]
  },
  {
   "cell_type": "markdown",
   "metadata": {},
   "source": [
    "checking how long does it generally take for old platforms to fade"
   ]
  },
  {
   "cell_type": "code",
   "execution_count": 67,
   "metadata": {},
   "outputs": [
    {
     "data": {
      "text/plain": [
       "6.85"
      ]
     },
     "execution_count": 67,
     "metadata": {},
     "output_type": "execute_result"
    }
   ],
   "source": [
    "platform_life.query('last_year < 2016 and first_year >= 1980 and first_year <= 2000')['lifetime'].mean()"
   ]
  },
  {
   "cell_type": "markdown",
   "metadata": {},
   "source": [
    "Checking how long does it generally take for new platforms to appear (2001+) (15 is the amount of years between 2001 and 2016)"
   ]
  },
  {
   "cell_type": "code",
   "execution_count": 68,
   "metadata": {},
   "outputs": [
    {
     "data": {
      "text/plain": [
       "1.5"
      ]
     },
     "execution_count": 68,
     "metadata": {},
     "output_type": "execute_result"
    }
   ],
   "source": [
    "15 / len(platform_life.query('first_year >= 2001'))"
   ]
  },
  {
   "cell_type": "markdown",
   "metadata": {},
   "source": [
    "#### conclusion\n",
    "We see that generally an old(1980-2000) platform fades after 6.85 years,\n",
    "\n",
    "And  a new(2001-2016) platform generally appears every 1.5 years.(10 new platforms in 15 years)"
   ]
  },
  {
   "cell_type": "markdown",
   "metadata": {},
   "source": [
    "### Which platforms are leading in sales? Which ones are growing or shrinking? \n",
    "(Selecting several potentially profitable platforms)"
   ]
  },
  {
   "cell_type": "markdown",
   "metadata": {},
   "source": [
    "new dataframe for the chosen period to work with.(the last 10 years, 2006-2016)"
   ]
  },
  {
   "cell_type": "markdown",
   "metadata": {},
   "source": [
    "we will use the previously made platform_life df to choose only the platforms that have sales in 2016"
   ]
  },
  {
   "cell_type": "code",
   "execution_count": 69,
   "metadata": {},
   "outputs": [],
   "source": [
    "df_new2 = platform_life.query('last_year == 2016')"
   ]
  },
  {
   "cell_type": "code",
   "execution_count": 70,
   "metadata": {},
   "outputs": [],
   "source": [
    "names = df_new2.platform.to_list()"
   ]
  },
  {
   "cell_type": "code",
   "execution_count": 71,
   "metadata": {},
   "outputs": [
    {
     "data": {
      "text/plain": [
       "['PC', 'X360', 'PS3', 'Wii', '3DS', 'PSV', 'WiiU', 'PS4', 'XOne']"
      ]
     },
     "execution_count": 71,
     "metadata": {},
     "output_type": "execute_result"
    }
   ],
   "source": [
    "names"
   ]
  },
  {
   "cell_type": "code",
   "execution_count": 72,
   "metadata": {},
   "outputs": [],
   "source": [
    "df_filtered = df.query('platform in @names')"
   ]
  },
  {
   "cell_type": "markdown",
   "metadata": {},
   "source": [
    "creating a df for sales per platform to see which are leading in sales"
   ]
  },
  {
   "cell_type": "code",
   "execution_count": 73,
   "metadata": {},
   "outputs": [],
   "source": [
    "p_sales = df_filtered.groupby('platform').agg({'total_sales': 'sum'}).reset_index().sort_values(by='total_sales',ascending=False)"
   ]
  },
  {
   "cell_type": "code",
   "execution_count": 74,
   "metadata": {},
   "outputs": [],
   "source": [
    "p_sales = p_sales.reset_index(drop=True)"
   ]
  },
  {
   "cell_type": "code",
   "execution_count": 75,
   "metadata": {},
   "outputs": [
    {
     "data": {
      "text/html": [
       "<div>\n",
       "<style scoped>\n",
       "    .dataframe tbody tr th:only-of-type {\n",
       "        vertical-align: middle;\n",
       "    }\n",
       "\n",
       "    .dataframe tbody tr th {\n",
       "        vertical-align: top;\n",
       "    }\n",
       "\n",
       "    .dataframe thead th {\n",
       "        text-align: right;\n",
       "    }\n",
       "</style>\n",
       "<table border=\"1\" class=\"dataframe\">\n",
       "  <thead>\n",
       "    <tr style=\"text-align: right;\">\n",
       "      <th></th>\n",
       "      <th>platform</th>\n",
       "      <th>total_sales</th>\n",
       "    </tr>\n",
       "  </thead>\n",
       "  <tbody>\n",
       "    <tr>\n",
       "      <td>0</td>\n",
       "      <td>X360</td>\n",
       "      <td>961.24</td>\n",
       "    </tr>\n",
       "    <tr>\n",
       "      <td>1</td>\n",
       "      <td>PS3</td>\n",
       "      <td>931.34</td>\n",
       "    </tr>\n",
       "    <tr>\n",
       "      <td>2</td>\n",
       "      <td>Wii</td>\n",
       "      <td>891.18</td>\n",
       "    </tr>\n",
       "    <tr>\n",
       "      <td>3</td>\n",
       "      <td>PS4</td>\n",
       "      <td>314.14</td>\n",
       "    </tr>\n",
       "    <tr>\n",
       "      <td>4</td>\n",
       "      <td>3DS</td>\n",
       "      <td>257.81</td>\n",
       "    </tr>\n",
       "    <tr>\n",
       "      <td>5</td>\n",
       "      <td>PC</td>\n",
       "      <td>255.76</td>\n",
       "    </tr>\n",
       "    <tr>\n",
       "      <td>6</td>\n",
       "      <td>XOne</td>\n",
       "      <td>159.32</td>\n",
       "    </tr>\n",
       "    <tr>\n",
       "      <td>7</td>\n",
       "      <td>WiiU</td>\n",
       "      <td>82.19</td>\n",
       "    </tr>\n",
       "    <tr>\n",
       "      <td>8</td>\n",
       "      <td>PSV</td>\n",
       "      <td>53.81</td>\n",
       "    </tr>\n",
       "  </tbody>\n",
       "</table>\n",
       "</div>"
      ],
      "text/plain": [
       "  platform  total_sales\n",
       "0     X360       961.24\n",
       "1      PS3       931.34\n",
       "2      Wii       891.18\n",
       "3      PS4       314.14\n",
       "4      3DS       257.81\n",
       "5       PC       255.76\n",
       "6     XOne       159.32\n",
       "7     WiiU        82.19\n",
       "8      PSV        53.81"
      ]
     },
     "execution_count": 75,
     "metadata": {},
     "output_type": "execute_result"
    }
   ],
   "source": [
    "p_sales"
   ]
  },
  {
   "cell_type": "markdown",
   "metadata": {},
   "source": [
    "storing the names"
   ]
  },
  {
   "cell_type": "code",
   "execution_count": 76,
   "metadata": {},
   "outputs": [],
   "source": [
    "names = p_sales['platform'].to_list()"
   ]
  },
  {
   "cell_type": "code",
   "execution_count": 77,
   "metadata": {},
   "outputs": [
    {
     "data": {
      "text/plain": [
       "['X360', 'PS3', 'Wii', 'PS4', '3DS', 'PC', 'XOne', 'WiiU', 'PSV']"
      ]
     },
     "execution_count": 77,
     "metadata": {},
     "output_type": "execute_result"
    }
   ],
   "source": [
    "names"
   ]
  },
  {
   "cell_type": "markdown",
   "metadata": {},
   "source": [
    "for loop to plot every platform with sales in 2016 to see if it's shrinking or it has growth potential"
   ]
  },
  {
   "cell_type": "code",
   "execution_count": 78,
   "metadata": {},
   "outputs": [
    {
     "data": {
      "image/png": "[encoded data removed]",
      "text/plain": [
       "<Figure size 720x360 with 1 Axes>"
      ]
     },
     "metadata": {
      "needs_background": "light"
     },
     "output_type": "display_data"
    },
    {
     "data": {
      "image/png": "[encoded data removed]",
      "text/plain": [
       "<Figure size 720x360 with 1 Axes>"
      ]
     },
     "metadata": {
      "needs_background": "light"
     },
     "output_type": "display_data"
    },
    {
     "data": {
      "image/png": "[encoded data removed]",
      "text/plain": [
       "<Figure size 720x360 with 1 Axes>"
      ]
     },
     "metadata": {
      "needs_background": "light"
     },
     "output_type": "display_data"
    },
    {
     "data": {
      "image/png": "[encoded data removed]",
      "text/plain": [
       "<Figure size 720x360 with 1 Axes>"
      ]
     },
     "metadata": {
      "needs_background": "light"
     },
     "output_type": "display_data"
    },
    {
     "data": {
      "image/png": "[encoded data removed]",
      "text/plain": [
       "<Figure size 720x360 with 1 Axes>"
      ]
     },
     "metadata": {
      "needs_background": "light"
     },
     "output_type": "display_data"
    },
    {
     "data": {
      "image/png": "[encoded data removed]",
      "text/plain": [
       "<Figure size 720x360 with 1 Axes>"
      ]
     },
     "metadata": {
      "needs_background": "light"
     },
     "output_type": "display_data"
    },
    {
     "data": {
      "image/png": "[encoded data removed]",
      "text/plain": [
       "<Figure size 720x360 with 1 Axes>"
      ]
     },
     "metadata": {
      "needs_background": "light"
     },
     "output_type": "display_data"
    },
    {
     "data": {
      "image/png": "[encoded data removed]",
      "text/plain": [
       "<Figure size 720x360 with 1 Axes>"
      ]
     },
     "metadata": {
      "needs_background": "light"
     },
     "output_type": "display_data"
    },
    {
     "data": {
      "image/png": "[encoded data removed]",
      "text/plain": [
       "<Figure size 720x360 with 1 Axes>"
      ]
     },
     "metadata": {
      "needs_background": "light"
     },
     "output_type": "display_data"
    }
   ],
   "source": [
    "for i in names:\n",
    "    df.query('platform == @i').groupby('year_of_release').agg({'total_sales':'sum'}).reset_index().plot(x='year_of_release',y='total_sales',kind='bar',figsize = (10,5),legend = False \n",
    "                  ,title=i + ' Sales lifetime').set_ylabel(\"Amount in $M\");"
   ]
  },
  {
   "cell_type": "markdown",
   "metadata": {},
   "source": [
    "#### Conclusion"
   ]
  },
  {
   "cell_type": "markdown",
   "metadata": {},
   "source": [
    "after plotting every platform that has sales in 2016 in order to figure out its pattern and decide if it's potentially profitable,\n",
    "We decide to pick PS4 and XOne due to their large volume in sales, their growth until 2016 and relative similar graph patterns(taking in account the data for 2016 is incomplete and it explains the decrease in sales).\n",
    "In addition, we pick WiiU as it's more consistent than the rest of the platforms (taking in account the data for 2016 is incomplete and it explains the decrease in sales).\n",
    "\n",
    "The platforms that have sales in 2016 who shows clear shrink are: PS3, X360, Wii, 3DS and PSV. PC looks unstable but is decreasing from 2011 to 2016.\n",
    "\n",
    "Chosen platforms - PS4, XOne and WiiU"
   ]
  },
  {
   "cell_type": "markdown",
   "metadata": {},
   "source": [
    "### Box plot for the global sales of all games, broken down by platform. "
   ]
  },
  {
   "cell_type": "code",
   "execution_count": 79,
   "metadata": {},
   "outputs": [],
   "source": [
    "chosen = df.query('platform in [\"PS4\", \"XOne\", \"WiiU\"]')"
   ]
  },
  {
   "cell_type": "markdown",
   "metadata": {},
   "source": [
    "finding average game global sales per platform"
   ]
  },
  {
   "cell_type": "code",
   "execution_count": 80,
   "metadata": {},
   "outputs": [
    {
     "data": {
      "text/plain": [
       "0.8013775510204081"
      ]
     },
     "execution_count": 80,
     "metadata": {},
     "output_type": "execute_result"
    }
   ],
   "source": [
    "chosen.query('platform == \"PS4\"')['total_sales'].mean()"
   ]
  },
  {
   "cell_type": "code",
   "execution_count": 81,
   "metadata": {},
   "outputs": [
    {
     "data": {
      "text/plain": [
       "0.6450202429149797"
      ]
     },
     "execution_count": 81,
     "metadata": {},
     "output_type": "execute_result"
    }
   ],
   "source": [
    "chosen.query('platform == \"XOne\"')['total_sales'].mean()"
   ]
  },
  {
   "cell_type": "code",
   "execution_count": 82,
   "metadata": {},
   "outputs": [
    {
     "data": {
      "text/plain": [
       "0.5591156462585034"
      ]
     },
     "execution_count": 82,
     "metadata": {},
     "output_type": "execute_result"
    }
   ],
   "source": [
    "chosen.query('platform == \"WiiU\"')['total_sales'].mean()"
   ]
  },
  {
   "cell_type": "code",
   "execution_count": 83,
   "metadata": {},
   "outputs": [
    {
     "data": {
      "image/png": "[encoded data removed]",
      "text/plain": [
       "<Figure size 864x576 with 1 Axes>"
      ]
     },
     "metadata": {
      "needs_background": "light"
     },
     "output_type": "display_data"
    }
   ],
   "source": [
    "chosen.boxplot(by ='platform', column =['total_sales'], grid = True, figsize = (12,8));"
   ]
  },
  {
   "cell_type": "code",
   "execution_count": null,
   "metadata": {},
   "outputs": [],
   "source": []
  },
  {
   "cell_type": "markdown",
   "metadata": {},
   "source": [
    "#### Description & Conclusion\n",
    "This boxplot shows the global sales of all games broken down by our platforms.\n",
    "We can definetly see the density in PS4's upper outliers is much higher, and reaches higher values(Sales in $M).\n",
    "The difference in sales is significant by looking at the boxplots - \n",
    "\n",
    "PS4 with the most sales and with the highest value of sales (highest upper outliers), XOne ranks second and WiiU ranks third.\n",
    "Regarding the average sales between the platforms - We can tell they are relatively closer than the gaps between sales and sales values - \n",
    "\n",
    "PS4's average sale (game's global sales) is 801K (0.801M)\n",
    "\n",
    "XOne's average sale (game's global sales) is 645K (0.645M)\n",
    "\n",
    "WiiU's average sale (game's global sales) is 559K (0.559M)\n"
   ]
  },
  {
   "cell_type": "markdown",
   "metadata": {},
   "source": [
    "### How user and professional reviews affects on sales analysis"
   ]
  },
  {
   "cell_type": "markdown",
   "metadata": {},
   "source": [
    "Creating 2 functions to calculate correlation and plot for user_score and critic_score effects on total_sales"
   ]
  },
  {
   "cell_type": "code",
   "execution_count": 84,
   "metadata": {},
   "outputs": [],
   "source": [
    "def user_score_effect(platform):\n",
    "    data_platform = chosen.query('platform == @platform and user_score != \"N/A\" and user_score != \"tbd\"')\n",
    "    data_platform['user_score'] = data_platform['user_score'].astype(float)\n",
    "    data_platform.plot(kind='scatter', x='user_score', y='total_sales',title=platform +' user score to total sales scatter plot');\n",
    "    return print('Correlation between user_score to total_sales: {}'.format(data_platform['user_score'].corr(data_platform['total_sales'])))\n",
    "\n",
    "\n",
    "def critic_score_effect(platform):\n",
    "    data_platform = chosen.query('platform == @platform and critic_score != \"N/A\" and critic_score != \"tbd\"')\n",
    "    data_platform['critic_score'] = data_platform['critic_score'].astype(int)\n",
    "    data_platform.plot(kind='scatter', x='critic_score', y='total_sales',title=platform +' critic score to total sales scatter plot');\n",
    "    return print('Correlation between critic_score to total_sales: {}'.format(data_platform['critic_score'].corr(data_platform['total_sales'])))"
   ]
  },
  {
   "cell_type": "markdown",
   "metadata": {},
   "source": [
    "#### PS4"
   ]
  },
  {
   "cell_type": "markdown",
   "metadata": {},
   "source": [
    "Users score:"
   ]
  },
  {
   "cell_type": "code",
   "execution_count": 85,
   "metadata": {},
   "outputs": [
    {
     "name": "stdout",
     "output_type": "stream",
     "text": [
      "Correlation between user_score to total_sales: -0.031957110204556424\n"
     ]
    },
    {
     "data": {
      "image/png": "[encoded data removed]",
      "text/plain": [
       "<Figure size 432x288 with 1 Axes>"
      ]
     },
     "metadata": {
      "needs_background": "light"
     },
     "output_type": "display_data"
    }
   ],
   "source": [
    "user_score_effect('PS4')"
   ]
  },
  {
   "cell_type": "markdown",
   "metadata": {},
   "source": [
    "##### Description"
   ]
  },
  {
   "cell_type": "markdown",
   "metadata": {},
   "source": [
    "This scatter plot shows the effect of the user's score on the sales.\n",
    "After looking at the plot and at the correlation, we see that there is almost no correlation between the user's rating and the total sales.\n",
    "We also see users tend to score above 5.5, and generally it doesnt affect the total sales."
   ]
  },
  {
   "cell_type": "markdown",
   "metadata": {},
   "source": [
    "Critic score:"
   ]
  },
  {
   "cell_type": "code",
   "execution_count": 86,
   "metadata": {},
   "outputs": [
    {
     "name": "stdout",
     "output_type": "stream",
     "text": [
      "Correlation between critic_score to total_sales: 0.40656790206178095\n"
     ]
    },
    {
     "data": {
      "image/png": "[encoded data removed]",
      "text/plain": [
       "<Figure size 432x288 with 1 Axes>"
      ]
     },
     "metadata": {
      "needs_background": "light"
     },
     "output_type": "display_data"
    }
   ],
   "source": [
    "critic_score_effect('PS4')"
   ]
  },
  {
   "cell_type": "markdown",
   "metadata": {},
   "source": [
    "##### Description\n",
    "This scatter plot shows the effect of the critic's score on the sales. After looking at the plot and at the correlation, we see that there is a positive correlation between the critic's score and the total sales.\n",
    "Generally, The Higher the critic score is, the higher the total sales are."
   ]
  },
  {
   "cell_type": "markdown",
   "metadata": {},
   "source": [
    "#### XOne"
   ]
  },
  {
   "cell_type": "markdown",
   "metadata": {},
   "source": [
    "User score:"
   ]
  },
  {
   "cell_type": "code",
   "execution_count": 87,
   "metadata": {},
   "outputs": [
    {
     "name": "stdout",
     "output_type": "stream",
     "text": [
      "Correlation between user_score to total_sales: -0.06892505328279414\n"
     ]
    },
    {
     "data": {
      "image/png": "[encoded data removed]",
      "text/plain": [
       "<Figure size 432x288 with 1 Axes>"
      ]
     },
     "metadata": {
      "needs_background": "light"
     },
     "output_type": "display_data"
    }
   ],
   "source": [
    "user_score_effect('XOne')"
   ]
  },
  {
   "cell_type": "markdown",
   "metadata": {},
   "source": [
    "##### Description\n",
    "This scatter plot shows the effect of the user's score on the sales. After looking at the plot and at the correlation, we see that there is almost no correlation between the user's rating and the total sales."
   ]
  },
  {
   "cell_type": "markdown",
   "metadata": {},
   "source": [
    "Critic score:"
   ]
  },
  {
   "cell_type": "code",
   "execution_count": 88,
   "metadata": {},
   "outputs": [
    {
     "name": "stdout",
     "output_type": "stream",
     "text": [
      "Correlation between critic_score to total_sales: 0.4169983280084017\n"
     ]
    },
    {
     "data": {
      "image/png": "[encoded data removed]",
      "text/plain": [
       "<Figure size 432x288 with 1 Axes>"
      ]
     },
     "metadata": {
      "needs_background": "light"
     },
     "output_type": "display_data"
    }
   ],
   "source": [
    "critic_score_effect('XOne')"
   ]
  },
  {
   "cell_type": "markdown",
   "metadata": {},
   "source": [
    "##### Description\n",
    "This scatter plot shows the effect of the critic's score on the sales. After looking at the plot and at the correlation, we see that there is a positive correlation between the critic's score and the total sales. Generally, The Higher the critic score is, the higher the total sales are."
   ]
  },
  {
   "cell_type": "markdown",
   "metadata": {},
   "source": [
    "#### WiiU"
   ]
  },
  {
   "cell_type": "markdown",
   "metadata": {},
   "source": [
    "User score:"
   ]
  },
  {
   "cell_type": "code",
   "execution_count": 89,
   "metadata": {},
   "outputs": [
    {
     "name": "stdout",
     "output_type": "stream",
     "text": [
      "Correlation between user_score to total_sales: 0.4002190202148617\n"
     ]
    },
    {
     "data": {
      "image/png": "[encoded data removed]",
      "text/plain": [
       "<Figure size 432x288 with 1 Axes>"
      ]
     },
     "metadata": {
      "needs_background": "light"
     },
     "output_type": "display_data"
    }
   ],
   "source": [
    "user_score_effect('WiiU')"
   ]
  },
  {
   "cell_type": "markdown",
   "metadata": {},
   "source": [
    "##### Description\n",
    "This scatter plot shows the effect of the user's score on the sales. After looking at the plot and at the correlation, we see that there a positive correlation between the user's rating and the total sales.\n",
    "Generally, The Higher the user score is, the higher the total sales are."
   ]
  },
  {
   "cell_type": "markdown",
   "metadata": {},
   "source": [
    "Critic score:"
   ]
  },
  {
   "cell_type": "code",
   "execution_count": 90,
   "metadata": {},
   "outputs": [
    {
     "name": "stdout",
     "output_type": "stream",
     "text": [
      "Correlation between critic_score to total_sales: 0.34837976012017485\n"
     ]
    },
    {
     "data": {
      "image/png": "[encoded data removed]",
      "text/plain": [
       "<Figure size 432x288 with 1 Axes>"
      ]
     },
     "metadata": {
      "needs_background": "light"
     },
     "output_type": "display_data"
    }
   ],
   "source": [
    "critic_score_effect('WiiU')"
   ]
  },
  {
   "cell_type": "markdown",
   "metadata": {},
   "source": [
    "##### Description\n",
    "This scatter plot shows the effect of the critic's score on the sales. After looking at the plot and at the correlation, we see that there a positive correlation between the critic's rating and the total sales. Generally, The Higher the critic score is, the higher the total sales are."
   ]
  },
  {
   "cell_type": "markdown",
   "metadata": {},
   "source": [
    "#### Conclusion"
   ]
  },
  {
   "cell_type": "markdown",
   "metadata": {},
   "source": [
    "PS4:\n",
    "\n",
    "We can conclude There is no correlation between user's rating and total sales's value, And there is a positive correlation between the critic's score to the total sales's value.\n",
    "\n",
    "We learn about the PS4's customers behaviour - the customer doesn't consider the user's score much, but generally does consider the critic's score.\n",
    "\n",
    "XOne:\n",
    "\n",
    "We can conclude There is no correlation between user's rating and total sales's value, And there is a positive correlation between the critic's score to the total sales's value.\n",
    "\n",
    "We learn about the XOne's customers behaviour - the customer doesn't consider the user's score much, but generally does consider the critic's score.\n",
    "\n",
    "WiiU:\n",
    "\n",
    "We can conclude There is a  positive correlation between user's rating and total sales's value, And there is another positive correlation between the critic's score to the total sales's value.\n",
    "The correlation of the users rating is a bit stronger.\n",
    "\n",
    "We learn about the XOne's customers behaviour - the customer considers both the user's score and the critic's score, with slightly more consideration on the user's score(stronger correlation)\n",
    "\n",
    "Overall:\n",
    "\n",
    "Critic score affects the total sales in all platforms, User score affects the total sale only in WiiU."
   ]
  },
  {
   "cell_type": "markdown",
   "metadata": {},
   "source": [
    "### Genre sales analysis"
   ]
  },
  {
   "cell_type": "markdown",
   "metadata": {},
   "source": [
    "#### distribution of games by genre analysis"
   ]
  },
  {
   "cell_type": "markdown",
   "metadata": {},
   "source": [
    "slicing and plotting distribution of games by genre"
   ]
  },
  {
   "cell_type": "code",
   "execution_count": 91,
   "metadata": {},
   "outputs": [],
   "source": [
    "genres_games = chosen.groupby('genre').agg({'name':'count'}).reset_index()"
   ]
  },
  {
   "cell_type": "code",
   "execution_count": 92,
   "metadata": {},
   "outputs": [],
   "source": [
    "genres_games.columns = ['genre','games_count']"
   ]
  },
  {
   "cell_type": "code",
   "execution_count": 93,
   "metadata": {},
   "outputs": [],
   "source": [
    "genres_games = genres_games.sort_values(by='games_count',ascending=False)"
   ]
  },
  {
   "cell_type": "code",
   "execution_count": 94,
   "metadata": {},
   "outputs": [
    {
     "data": {
      "image/png": "[encoded data removed]",
      "text/plain": [
       "<Figure size 720x360 with 1 Axes>"
      ]
     },
     "metadata": {
      "needs_background": "light"
     },
     "output_type": "display_data"
    }
   ],
   "source": [
    "genres_games.plot(x='genre',y='games_count', kind='bar', figsize = (10,5), legend=False, title='Distribution of games by genre').set_ylabel(\"Amount of games\");"
   ]
  },
  {
   "cell_type": "markdown",
   "metadata": {},
   "source": [
    "##### Description\n",
    "This graph shows the highest amount of gamse are under action genre, followed by sports and shooter genres.\n",
    "Strategy, simulation and puzzle have the least amount of games."
   ]
  },
  {
   "cell_type": "markdown",
   "metadata": {},
   "source": [
    "#### most profitable genres analysis"
   ]
  },
  {
   "cell_type": "markdown",
   "metadata": {},
   "source": [
    "slicing and plotting total sales by genre"
   ]
  },
  {
   "cell_type": "code",
   "execution_count": 95,
   "metadata": {},
   "outputs": [],
   "source": [
    "genres_sales = chosen.groupby('genre').agg({'total_sales':'sum'}).reset_index()"
   ]
  },
  {
   "cell_type": "code",
   "execution_count": 96,
   "metadata": {},
   "outputs": [],
   "source": [
    "genres_sales = genres_sales.sort_values(by='total_sales',ascending=False).reset_index(drop=True)"
   ]
  },
  {
   "cell_type": "code",
   "execution_count": 97,
   "metadata": {},
   "outputs": [
    {
     "data": {
      "text/html": [
       "<div>\n",
       "<style scoped>\n",
       "    .dataframe tbody tr th:only-of-type {\n",
       "        vertical-align: middle;\n",
       "    }\n",
       "\n",
       "    .dataframe tbody tr th {\n",
       "        vertical-align: top;\n",
       "    }\n",
       "\n",
       "    .dataframe thead th {\n",
       "        text-align: right;\n",
       "    }\n",
       "</style>\n",
       "<table border=\"1\" class=\"dataframe\">\n",
       "  <thead>\n",
       "    <tr style=\"text-align: right;\">\n",
       "      <th></th>\n",
       "      <th>genre</th>\n",
       "      <th>total_sales</th>\n",
       "    </tr>\n",
       "  </thead>\n",
       "  <tbody>\n",
       "    <tr>\n",
       "      <td>0</td>\n",
       "      <td>Shooter</td>\n",
       "      <td>154.90</td>\n",
       "    </tr>\n",
       "    <tr>\n",
       "      <td>1</td>\n",
       "      <td>Action</td>\n",
       "      <td>152.48</td>\n",
       "    </tr>\n",
       "    <tr>\n",
       "      <td>2</td>\n",
       "      <td>Sports</td>\n",
       "      <td>85.51</td>\n",
       "    </tr>\n",
       "    <tr>\n",
       "      <td>3</td>\n",
       "      <td>Role-Playing</td>\n",
       "      <td>42.43</td>\n",
       "    </tr>\n",
       "    <tr>\n",
       "      <td>4</td>\n",
       "      <td>Platform</td>\n",
       "      <td>30.15</td>\n",
       "    </tr>\n",
       "    <tr>\n",
       "      <td>5</td>\n",
       "      <td>Racing</td>\n",
       "      <td>29.80</td>\n",
       "    </tr>\n",
       "    <tr>\n",
       "      <td>6</td>\n",
       "      <td>Misc</td>\n",
       "      <td>28.08</td>\n",
       "    </tr>\n",
       "    <tr>\n",
       "      <td>7</td>\n",
       "      <td>Fighting</td>\n",
       "      <td>17.37</td>\n",
       "    </tr>\n",
       "    <tr>\n",
       "      <td>8</td>\n",
       "      <td>Adventure</td>\n",
       "      <td>9.19</td>\n",
       "    </tr>\n",
       "    <tr>\n",
       "      <td>9</td>\n",
       "      <td>Strategy</td>\n",
       "      <td>2.28</td>\n",
       "    </tr>\n",
       "    <tr>\n",
       "      <td>10</td>\n",
       "      <td>Simulation</td>\n",
       "      <td>2.12</td>\n",
       "    </tr>\n",
       "    <tr>\n",
       "      <td>11</td>\n",
       "      <td>Puzzle</td>\n",
       "      <td>1.34</td>\n",
       "    </tr>\n",
       "  </tbody>\n",
       "</table>\n",
       "</div>"
      ],
      "text/plain": [
       "           genre  total_sales\n",
       "0        Shooter       154.90\n",
       "1         Action       152.48\n",
       "2         Sports        85.51\n",
       "3   Role-Playing        42.43\n",
       "4       Platform        30.15\n",
       "5         Racing        29.80\n",
       "6           Misc        28.08\n",
       "7       Fighting        17.37\n",
       "8      Adventure         9.19\n",
       "9       Strategy         2.28\n",
       "10    Simulation         2.12\n",
       "11        Puzzle         1.34"
      ]
     },
     "execution_count": 97,
     "metadata": {},
     "output_type": "execute_result"
    }
   ],
   "source": [
    "genres_sales"
   ]
  },
  {
   "cell_type": "code",
   "execution_count": 98,
   "metadata": {},
   "outputs": [
    {
     "data": {
      "image/png": "[encoded data removed]",
      "text/plain": [
       "<Figure size 720x360 with 1 Axes>"
      ]
     },
     "metadata": {
      "needs_background": "light"
     },
     "output_type": "display_data"
    }
   ],
   "source": [
    "genres_sales.plot(x='genre',y='total_sales', kind='bar', figsize = (10,5), legend=False, title='Total sales by genre').set_ylabel(\"Total sales\");"
   ]
  },
  {
   "cell_type": "markdown",
   "metadata": {},
   "source": [
    "##### Description\n",
    "This graph shows the best selling genres are shooter and action, with shooter leading despite having much lower amount of games compared to action genre which can conclude to - the mean sales of shooter game being much higher than the mean sales of action genre game."
   ]
  },
  {
   "cell_type": "code",
   "execution_count": 99,
   "metadata": {},
   "outputs": [
    {
     "data": {
      "text/plain": [
       "1.7404494382022468"
      ]
     },
     "execution_count": 99,
     "metadata": {},
     "output_type": "execute_result"
    }
   ],
   "source": [
    "chosen.query('genre == \"Shooter\"')['total_sales'].mean()"
   ]
  },
  {
   "cell_type": "code",
   "execution_count": 100,
   "metadata": {},
   "outputs": [
    {
     "data": {
      "text/plain": [
       "152.48"
      ]
     },
     "execution_count": 100,
     "metadata": {},
     "output_type": "execute_result"
    }
   ],
   "source": [
    "chosen.query('genre == \"Action\"')['total_sales'].sum()"
   ]
  },
  {
   "cell_type": "markdown",
   "metadata": {},
   "source": [
    "sorting by genre for the new columns to match,\n",
    "adding new avg_game_sales and games_amount columns."
   ]
  },
  {
   "cell_type": "code",
   "execution_count": 101,
   "metadata": {},
   "outputs": [],
   "source": [
    "genres_sales = genres_sales.sort_values(by='genre').reset_index(drop=True)"
   ]
  },
  {
   "cell_type": "code",
   "execution_count": 102,
   "metadata": {},
   "outputs": [],
   "source": [
    "genres_sales['avg_game_sales'] = chosen.groupby('genre').agg({'total_sales':'mean'}).reset_index(drop=True)"
   ]
  },
  {
   "cell_type": "code",
   "execution_count": 103,
   "metadata": {},
   "outputs": [],
   "source": [
    "genres_sales['games_amount'] = chosen.groupby('genre').agg({'name':'count'}).reset_index(drop=True)"
   ]
  },
  {
   "cell_type": "code",
   "execution_count": 104,
   "metadata": {},
   "outputs": [],
   "source": [
    "genres_sales = genres_sales.sort_values(by='total_sales',ascending=False).reset_index(drop=True)"
   ]
  },
  {
   "cell_type": "code",
   "execution_count": 105,
   "metadata": {},
   "outputs": [
    {
     "data": {
      "text/html": [
       "<div>\n",
       "<style scoped>\n",
       "    .dataframe tbody tr th:only-of-type {\n",
       "        vertical-align: middle;\n",
       "    }\n",
       "\n",
       "    .dataframe tbody tr th {\n",
       "        vertical-align: top;\n",
       "    }\n",
       "\n",
       "    .dataframe thead th {\n",
       "        text-align: right;\n",
       "    }\n",
       "</style>\n",
       "<table border=\"1\" class=\"dataframe\">\n",
       "  <thead>\n",
       "    <tr style=\"text-align: right;\">\n",
       "      <th></th>\n",
       "      <th>genre</th>\n",
       "      <th>total_sales</th>\n",
       "      <th>avg_game_sales</th>\n",
       "      <th>games_amount</th>\n",
       "    </tr>\n",
       "  </thead>\n",
       "  <tbody>\n",
       "    <tr>\n",
       "      <td>0</td>\n",
       "      <td>Shooter</td>\n",
       "      <td>154.90</td>\n",
       "      <td>1.740449</td>\n",
       "      <td>89</td>\n",
       "    </tr>\n",
       "    <tr>\n",
       "      <td>1</td>\n",
       "      <td>Action</td>\n",
       "      <td>152.48</td>\n",
       "      <td>0.520410</td>\n",
       "      <td>293</td>\n",
       "    </tr>\n",
       "    <tr>\n",
       "      <td>2</td>\n",
       "      <td>Sports</td>\n",
       "      <td>85.51</td>\n",
       "      <td>0.929457</td>\n",
       "      <td>92</td>\n",
       "    </tr>\n",
       "    <tr>\n",
       "      <td>3</td>\n",
       "      <td>Role-Playing</td>\n",
       "      <td>42.43</td>\n",
       "      <td>0.589306</td>\n",
       "      <td>72</td>\n",
       "    </tr>\n",
       "    <tr>\n",
       "      <td>4</td>\n",
       "      <td>Platform</td>\n",
       "      <td>30.15</td>\n",
       "      <td>0.886765</td>\n",
       "      <td>34</td>\n",
       "    </tr>\n",
       "    <tr>\n",
       "      <td>5</td>\n",
       "      <td>Racing</td>\n",
       "      <td>29.80</td>\n",
       "      <td>0.709524</td>\n",
       "      <td>42</td>\n",
       "    </tr>\n",
       "    <tr>\n",
       "      <td>6</td>\n",
       "      <td>Misc</td>\n",
       "      <td>28.08</td>\n",
       "      <td>0.460328</td>\n",
       "      <td>61</td>\n",
       "    </tr>\n",
       "    <tr>\n",
       "      <td>7</td>\n",
       "      <td>Fighting</td>\n",
       "      <td>17.37</td>\n",
       "      <td>0.579000</td>\n",
       "      <td>30</td>\n",
       "    </tr>\n",
       "    <tr>\n",
       "      <td>8</td>\n",
       "      <td>Adventure</td>\n",
       "      <td>9.19</td>\n",
       "      <td>0.204222</td>\n",
       "      <td>45</td>\n",
       "    </tr>\n",
       "    <tr>\n",
       "      <td>9</td>\n",
       "      <td>Strategy</td>\n",
       "      <td>2.28</td>\n",
       "      <td>0.190000</td>\n",
       "      <td>12</td>\n",
       "    </tr>\n",
       "    <tr>\n",
       "      <td>10</td>\n",
       "      <td>Simulation</td>\n",
       "      <td>2.12</td>\n",
       "      <td>0.192727</td>\n",
       "      <td>11</td>\n",
       "    </tr>\n",
       "    <tr>\n",
       "      <td>11</td>\n",
       "      <td>Puzzle</td>\n",
       "      <td>1.34</td>\n",
       "      <td>0.268000</td>\n",
       "      <td>5</td>\n",
       "    </tr>\n",
       "  </tbody>\n",
       "</table>\n",
       "</div>"
      ],
      "text/plain": [
       "           genre  total_sales  avg_game_sales  games_amount\n",
       "0        Shooter       154.90        1.740449            89\n",
       "1         Action       152.48        0.520410           293\n",
       "2         Sports        85.51        0.929457            92\n",
       "3   Role-Playing        42.43        0.589306            72\n",
       "4       Platform        30.15        0.886765            34\n",
       "5         Racing        29.80        0.709524            42\n",
       "6           Misc        28.08        0.460328            61\n",
       "7       Fighting        17.37        0.579000            30\n",
       "8      Adventure         9.19        0.204222            45\n",
       "9       Strategy         2.28        0.190000            12\n",
       "10    Simulation         2.12        0.192727            11\n",
       "11        Puzzle         1.34        0.268000             5"
      ]
     },
     "execution_count": 105,
     "metadata": {},
     "output_type": "execute_result"
    }
   ],
   "source": [
    "genres_sales"
   ]
  },
  {
   "cell_type": "code",
   "execution_count": 106,
   "metadata": {},
   "outputs": [
    {
     "data": {
      "text/html": [
       "<div>\n",
       "<style scoped>\n",
       "    .dataframe tbody tr th:only-of-type {\n",
       "        vertical-align: middle;\n",
       "    }\n",
       "\n",
       "    .dataframe tbody tr th {\n",
       "        vertical-align: top;\n",
       "    }\n",
       "\n",
       "    .dataframe thead th {\n",
       "        text-align: right;\n",
       "    }\n",
       "</style>\n",
       "<table border=\"1\" class=\"dataframe\">\n",
       "  <thead>\n",
       "    <tr style=\"text-align: right;\">\n",
       "      <th></th>\n",
       "      <th>total_sales</th>\n",
       "      <th>avg_game_sales</th>\n",
       "      <th>games_amount</th>\n",
       "    </tr>\n",
       "  </thead>\n",
       "  <tbody>\n",
       "    <tr>\n",
       "      <td>total_sales</td>\n",
       "      <td>1.000000</td>\n",
       "      <td>0.712802</td>\n",
       "      <td>0.807480</td>\n",
       "    </tr>\n",
       "    <tr>\n",
       "      <td>avg_game_sales</td>\n",
       "      <td>0.712802</td>\n",
       "      <td>1.000000</td>\n",
       "      <td>0.212233</td>\n",
       "    </tr>\n",
       "    <tr>\n",
       "      <td>games_amount</td>\n",
       "      <td>0.807480</td>\n",
       "      <td>0.212233</td>\n",
       "      <td>1.000000</td>\n",
       "    </tr>\n",
       "  </tbody>\n",
       "</table>\n",
       "</div>"
      ],
      "text/plain": [
       "                total_sales  avg_game_sales  games_amount\n",
       "total_sales        1.000000        0.712802      0.807480\n",
       "avg_game_sales     0.712802        1.000000      0.212233\n",
       "games_amount       0.807480        0.212233      1.000000"
      ]
     },
     "execution_count": 106,
     "metadata": {},
     "output_type": "execute_result"
    }
   ],
   "source": [
    "genres_sales.corr()"
   ]
  },
  {
   "cell_type": "markdown",
   "metadata": {},
   "source": [
    "#### Conclusion\n",
    "After plotting and creating a generelizing table about the genres sales we can conclude the following:\n",
    "\n",
    "- Action genre has the highest amount of games.\n",
    "- Shooter genre has the highest total sales and the highest average sales per game\n",
    "- Puzzle has the lowest value of any metric (total sales, avg game sales and games amount)\n",
    "\n",
    "There is a strong correlation between the average sales of a game and the total sales - as we can see, the shooter genre surpassed the sales of the action genre despite having much lower amount of games - 89 to 293.\n",
    "\n",
    "We can generalize about genres with high and low sales that genres with high sales have a high amount of games and high average sale per game, while genres with low sales have both low amount of games and low average sale per game."
   ]
  },
  {
   "cell_type": "markdown",
   "metadata": {},
   "source": [
    "<div class=\"alert alert-info\" style=\"background-color:#006a79; color:white; padding:0px 10px; border-radius:5px;\"><h2 style='margin:10px 5px'>User profile creation for each region (NA, EU, JP)</h2>\n",
    "</div>"
   ]
  },
  {
   "cell_type": "markdown",
   "metadata": {},
   "source": [
    "#### Regions sales distribution by their top 5 platforms"
   ]
  },
  {
   "cell_type": "markdown",
   "metadata": {},
   "source": [
    "creating a dataframe with regions and their top 5 selling platforms and plotting it."
   ]
  },
  {
   "cell_type": "markdown",
   "metadata": {},
   "source": [
    "extracting top5 platforms for every region"
   ]
  },
  {
   "cell_type": "code",
   "execution_count": 107,
   "metadata": {},
   "outputs": [],
   "source": [
    "df_new = df.query('year_of_release >= 2006')"
   ]
  },
  {
   "cell_type": "code",
   "execution_count": 108,
   "metadata": {},
   "outputs": [],
   "source": [
    "regions = df_new.groupby('platform').agg({'na_sales':'sum','eu_sales':'sum','jp_sales':'sum'}).reset_index()"
   ]
  },
  {
   "cell_type": "code",
   "execution_count": 109,
   "metadata": {},
   "outputs": [
    {
     "data": {
      "text/html": [
       "<div>\n",
       "<style scoped>\n",
       "    .dataframe tbody tr th:only-of-type {\n",
       "        vertical-align: middle;\n",
       "    }\n",
       "\n",
       "    .dataframe tbody tr th {\n",
       "        vertical-align: top;\n",
       "    }\n",
       "\n",
       "    .dataframe thead th {\n",
       "        text-align: right;\n",
       "    }\n",
       "</style>\n",
       "<table border=\"1\" class=\"dataframe\">\n",
       "  <thead>\n",
       "    <tr style=\"text-align: right;\">\n",
       "      <th></th>\n",
       "      <th>platform</th>\n",
       "      <th>na_sales</th>\n",
       "      <th>eu_sales</th>\n",
       "      <th>jp_sales</th>\n",
       "    </tr>\n",
       "  </thead>\n",
       "  <tbody>\n",
       "    <tr>\n",
       "      <td>0</td>\n",
       "      <td>3DS</td>\n",
       "      <td>82.65</td>\n",
       "      <td>61.27</td>\n",
       "      <td>100.62</td>\n",
       "    </tr>\n",
       "    <tr>\n",
       "      <td>1</td>\n",
       "      <td>DC</td>\n",
       "      <td>0.00</td>\n",
       "      <td>0.00</td>\n",
       "      <td>0.06</td>\n",
       "    </tr>\n",
       "    <tr>\n",
       "      <td>2</td>\n",
       "      <td>DS</td>\n",
       "      <td>323.99</td>\n",
       "      <td>142.99</td>\n",
       "      <td>141.49</td>\n",
       "    </tr>\n",
       "    <tr>\n",
       "      <td>3</td>\n",
       "      <td>GBA</td>\n",
       "      <td>5.15</td>\n",
       "      <td>1.88</td>\n",
       "      <td>1.51</td>\n",
       "    </tr>\n",
       "    <tr>\n",
       "      <td>4</td>\n",
       "      <td>GC</td>\n",
       "      <td>8.72</td>\n",
       "      <td>2.34</td>\n",
       "      <td>0.21</td>\n",
       "    </tr>\n",
       "    <tr>\n",
       "      <td>5</td>\n",
       "      <td>PC</td>\n",
       "      <td>44.45</td>\n",
       "      <td>100.32</td>\n",
       "      <td>0.00</td>\n",
       "    </tr>\n",
       "    <tr>\n",
       "      <td>6</td>\n",
       "      <td>PS2</td>\n",
       "      <td>114.89</td>\n",
       "      <td>46.28</td>\n",
       "      <td>35.93</td>\n",
       "    </tr>\n",
       "    <tr>\n",
       "      <td>7</td>\n",
       "      <td>PS3</td>\n",
       "      <td>390.13</td>\n",
       "      <td>327.21</td>\n",
       "      <td>79.41</td>\n",
       "    </tr>\n",
       "    <tr>\n",
       "      <td>8</td>\n",
       "      <td>PS4</td>\n",
       "      <td>108.74</td>\n",
       "      <td>141.09</td>\n",
       "      <td>15.96</td>\n",
       "    </tr>\n",
       "    <tr>\n",
       "      <td>9</td>\n",
       "      <td>PSP</td>\n",
       "      <td>80.54</td>\n",
       "      <td>54.21</td>\n",
       "      <td>70.63</td>\n",
       "    </tr>\n",
       "    <tr>\n",
       "      <td>10</td>\n",
       "      <td>PSV</td>\n",
       "      <td>12.47</td>\n",
       "      <td>13.07</td>\n",
       "      <td>21.84</td>\n",
       "    </tr>\n",
       "    <tr>\n",
       "      <td>11</td>\n",
       "      <td>Wii</td>\n",
       "      <td>486.87</td>\n",
       "      <td>258.32</td>\n",
       "      <td>68.28</td>\n",
       "    </tr>\n",
       "    <tr>\n",
       "      <td>12</td>\n",
       "      <td>WiiU</td>\n",
       "      <td>38.10</td>\n",
       "      <td>25.13</td>\n",
       "      <td>13.01</td>\n",
       "    </tr>\n",
       "    <tr>\n",
       "      <td>13</td>\n",
       "      <td>X360</td>\n",
       "      <td>588.84</td>\n",
       "      <td>267.89</td>\n",
       "      <td>12.02</td>\n",
       "    </tr>\n",
       "    <tr>\n",
       "      <td>14</td>\n",
       "      <td>XB</td>\n",
       "      <td>8.01</td>\n",
       "      <td>2.41</td>\n",
       "      <td>0.00</td>\n",
       "    </tr>\n",
       "    <tr>\n",
       "      <td>15</td>\n",
       "      <td>XOne</td>\n",
       "      <td>93.12</td>\n",
       "      <td>51.59</td>\n",
       "      <td>0.34</td>\n",
       "    </tr>\n",
       "  </tbody>\n",
       "</table>\n",
       "</div>"
      ],
      "text/plain": [
       "   platform  na_sales  eu_sales  jp_sales\n",
       "0       3DS     82.65     61.27    100.62\n",
       "1        DC      0.00      0.00      0.06\n",
       "2        DS    323.99    142.99    141.49\n",
       "3       GBA      5.15      1.88      1.51\n",
       "4        GC      8.72      2.34      0.21\n",
       "5        PC     44.45    100.32      0.00\n",
       "6       PS2    114.89     46.28     35.93\n",
       "7       PS3    390.13    327.21     79.41\n",
       "8       PS4    108.74    141.09     15.96\n",
       "9       PSP     80.54     54.21     70.63\n",
       "10      PSV     12.47     13.07     21.84\n",
       "11      Wii    486.87    258.32     68.28\n",
       "12     WiiU     38.10     25.13     13.01\n",
       "13     X360    588.84    267.89     12.02\n",
       "14       XB      8.01      2.41      0.00\n",
       "15     XOne     93.12     51.59      0.34"
      ]
     },
     "execution_count": 109,
     "metadata": {},
     "output_type": "execute_result"
    }
   ],
   "source": [
    "regions"
   ]
  },
  {
   "cell_type": "code",
   "execution_count": 110,
   "metadata": {},
   "outputs": [],
   "source": [
    "na5 = regions[['platform','na_sales']].sort_values(by='na_sales',ascending=False).head().reset_index(drop=True)\n",
    "eu5 = regions[['platform','eu_sales']].sort_values(by='eu_sales',ascending=False).head().reset_index(drop=True)\n",
    "jp5 = regions[['platform','jp_sales']].sort_values(by='jp_sales',ascending=False).head().reset_index(drop=True)"
   ]
  },
  {
   "cell_type": "markdown",
   "metadata": {},
   "source": [
    "merging and creating the new dataframe"
   ]
  },
  {
   "cell_type": "code",
   "execution_count": 111,
   "metadata": {},
   "outputs": [],
   "source": [
    "data_frames = [na5, eu5, jp5]\n",
    "df_merged = reduce(lambda  left,right: pd.merge(left,right,on=['platform'],\n",
    "                                        how='outer'), data_frames)"
   ]
  },
  {
   "cell_type": "code",
   "execution_count": 112,
   "metadata": {},
   "outputs": [
    {
     "data": {
      "text/html": [
       "<div>\n",
       "<style scoped>\n",
       "    .dataframe tbody tr th:only-of-type {\n",
       "        vertical-align: middle;\n",
       "    }\n",
       "\n",
       "    .dataframe tbody tr th {\n",
       "        vertical-align: top;\n",
       "    }\n",
       "\n",
       "    .dataframe thead th {\n",
       "        text-align: right;\n",
       "    }\n",
       "</style>\n",
       "<table border=\"1\" class=\"dataframe\">\n",
       "  <thead>\n",
       "    <tr style=\"text-align: right;\">\n",
       "      <th></th>\n",
       "      <th>platform</th>\n",
       "      <th>na_sales</th>\n",
       "      <th>eu_sales</th>\n",
       "      <th>jp_sales</th>\n",
       "    </tr>\n",
       "  </thead>\n",
       "  <tbody>\n",
       "    <tr>\n",
       "      <td>0</td>\n",
       "      <td>X360</td>\n",
       "      <td>588.84</td>\n",
       "      <td>267.89</td>\n",
       "      <td>NaN</td>\n",
       "    </tr>\n",
       "    <tr>\n",
       "      <td>1</td>\n",
       "      <td>Wii</td>\n",
       "      <td>486.87</td>\n",
       "      <td>258.32</td>\n",
       "      <td>68.28</td>\n",
       "    </tr>\n",
       "    <tr>\n",
       "      <td>2</td>\n",
       "      <td>PS3</td>\n",
       "      <td>390.13</td>\n",
       "      <td>327.21</td>\n",
       "      <td>79.41</td>\n",
       "    </tr>\n",
       "    <tr>\n",
       "      <td>3</td>\n",
       "      <td>DS</td>\n",
       "      <td>323.99</td>\n",
       "      <td>142.99</td>\n",
       "      <td>141.49</td>\n",
       "    </tr>\n",
       "    <tr>\n",
       "      <td>4</td>\n",
       "      <td>PS2</td>\n",
       "      <td>114.89</td>\n",
       "      <td>NaN</td>\n",
       "      <td>NaN</td>\n",
       "    </tr>\n",
       "    <tr>\n",
       "      <td>5</td>\n",
       "      <td>PS4</td>\n",
       "      <td>NaN</td>\n",
       "      <td>141.09</td>\n",
       "      <td>NaN</td>\n",
       "    </tr>\n",
       "    <tr>\n",
       "      <td>6</td>\n",
       "      <td>3DS</td>\n",
       "      <td>NaN</td>\n",
       "      <td>NaN</td>\n",
       "      <td>100.62</td>\n",
       "    </tr>\n",
       "    <tr>\n",
       "      <td>7</td>\n",
       "      <td>PSP</td>\n",
       "      <td>NaN</td>\n",
       "      <td>NaN</td>\n",
       "      <td>70.63</td>\n",
       "    </tr>\n",
       "  </tbody>\n",
       "</table>\n",
       "</div>"
      ],
      "text/plain": [
       "  platform  na_sales  eu_sales  jp_sales\n",
       "0     X360    588.84    267.89       NaN\n",
       "1      Wii    486.87    258.32     68.28\n",
       "2      PS3    390.13    327.21     79.41\n",
       "3       DS    323.99    142.99    141.49\n",
       "4      PS2    114.89       NaN       NaN\n",
       "5      PS4       NaN    141.09       NaN\n",
       "6      3DS       NaN       NaN    100.62\n",
       "7      PSP       NaN       NaN     70.63"
      ]
     },
     "execution_count": 112,
     "metadata": {},
     "output_type": "execute_result"
    }
   ],
   "source": [
    "df_merged"
   ]
  },
  {
   "cell_type": "code",
   "execution_count": 113,
   "metadata": {
    "scrolled": false
   },
   "outputs": [
    {
     "data": {
      "image/png": "[encoded data removed]",
      "text/plain": [
       "<Figure size 576x432 with 1 Axes>"
      ]
     },
     "metadata": {
      "needs_background": "light"
     },
     "output_type": "display_data"
    }
   ],
   "source": [
    "df_merged.plot.bar(stacked=True,figsize=(8,6),x='platform',title='Regions sales distribution by their top platforms').set_ylabel('Sales in $M');"
   ]
  },
  {
   "cell_type": "markdown",
   "metadata": {},
   "source": [
    "##### Description\n",
    "This graph shows the disribution of regions sales between their top platforms.\n",
    "\n",
    "NA's top 5 platforms by decsending order(largest to smallest): X360, Wii, PS3, DS , PS2\n",
    "\n",
    "EU's top 5 platforms by decsending order(largest to smallest): PS3, X360, Wii, DS, PS4\n",
    "\n",
    "JP's top 5 platforms by decsending order(largest to smallest): DS, 3DS, PS3, PSP, Wii\n",
    "\n",
    "We can conclude that DS, Wii and PS3 are being in the top 5 platforms for all regions."
   ]
  },
  {
   "cell_type": "markdown",
   "metadata": {},
   "source": [
    "#### Top 5 genres per region"
   ]
  },
  {
   "cell_type": "code",
   "execution_count": 114,
   "metadata": {},
   "outputs": [],
   "source": [
    "genres = df_new.groupby('genre').agg({'na_sales':'sum','eu_sales':'sum','jp_sales':'sum'}).reset_index()"
   ]
  },
  {
   "cell_type": "code",
   "execution_count": 115,
   "metadata": {},
   "outputs": [],
   "source": [
    "na5g = genres[['genre','na_sales']].sort_values(by='na_sales',ascending=False).head().reset_index(drop=True)\n",
    "eu5g = genres[['genre','eu_sales']].sort_values(by='eu_sales',ascending=False).head().reset_index(drop=True)\n",
    "jp5g = genres[['genre','jp_sales']].sort_values(by='jp_sales',ascending=False).head().reset_index(drop=True)"
   ]
  },
  {
   "cell_type": "code",
   "execution_count": 116,
   "metadata": {},
   "outputs": [],
   "source": [
    "data_frames = [na5g, eu5g, jp5g]\n",
    "df_g_merged = reduce(lambda  left,right: pd.merge(left,right,on=['genre'],\n",
    "                                        how='outer'), data_frames)"
   ]
  },
  {
   "cell_type": "code",
   "execution_count": 117,
   "metadata": {},
   "outputs": [
    {
     "data": {
      "text/html": [
       "<div>\n",
       "<style scoped>\n",
       "    .dataframe tbody tr th:only-of-type {\n",
       "        vertical-align: middle;\n",
       "    }\n",
       "\n",
       "    .dataframe tbody tr th {\n",
       "        vertical-align: top;\n",
       "    }\n",
       "\n",
       "    .dataframe thead th {\n",
       "        text-align: right;\n",
       "    }\n",
       "</style>\n",
       "<table border=\"1\" class=\"dataframe\">\n",
       "  <thead>\n",
       "    <tr style=\"text-align: right;\">\n",
       "      <th></th>\n",
       "      <th>genre</th>\n",
       "      <th>na_sales</th>\n",
       "      <th>eu_sales</th>\n",
       "      <th>jp_sales</th>\n",
       "    </tr>\n",
       "  </thead>\n",
       "  <tbody>\n",
       "    <tr>\n",
       "      <td>0</td>\n",
       "      <td>Action</td>\n",
       "      <td>530.44</td>\n",
       "      <td>350.70</td>\n",
       "      <td>102.07</td>\n",
       "    </tr>\n",
       "    <tr>\n",
       "      <td>1</td>\n",
       "      <td>Sports</td>\n",
       "      <td>396.64</td>\n",
       "      <td>251.55</td>\n",
       "      <td>48.97</td>\n",
       "    </tr>\n",
       "    <tr>\n",
       "      <td>2</td>\n",
       "      <td>Shooter</td>\n",
       "      <td>373.13</td>\n",
       "      <td>238.89</td>\n",
       "      <td>NaN</td>\n",
       "    </tr>\n",
       "    <tr>\n",
       "      <td>3</td>\n",
       "      <td>Misc</td>\n",
       "      <td>285.06</td>\n",
       "      <td>146.88</td>\n",
       "      <td>64.53</td>\n",
       "    </tr>\n",
       "    <tr>\n",
       "      <td>4</td>\n",
       "      <td>Role-Playing</td>\n",
       "      <td>199.63</td>\n",
       "      <td>NaN</td>\n",
       "      <td>170.38</td>\n",
       "    </tr>\n",
       "    <tr>\n",
       "      <td>5</td>\n",
       "      <td>Racing</td>\n",
       "      <td>NaN</td>\n",
       "      <td>113.39</td>\n",
       "      <td>NaN</td>\n",
       "    </tr>\n",
       "    <tr>\n",
       "      <td>6</td>\n",
       "      <td>Platform</td>\n",
       "      <td>NaN</td>\n",
       "      <td>NaN</td>\n",
       "      <td>35.20</td>\n",
       "    </tr>\n",
       "  </tbody>\n",
       "</table>\n",
       "</div>"
      ],
      "text/plain": [
       "          genre  na_sales  eu_sales  jp_sales\n",
       "0        Action    530.44    350.70    102.07\n",
       "1        Sports    396.64    251.55     48.97\n",
       "2       Shooter    373.13    238.89       NaN\n",
       "3          Misc    285.06    146.88     64.53\n",
       "4  Role-Playing    199.63       NaN    170.38\n",
       "5        Racing       NaN    113.39       NaN\n",
       "6      Platform       NaN       NaN     35.20"
      ]
     },
     "execution_count": 117,
     "metadata": {},
     "output_type": "execute_result"
    }
   ],
   "source": [
    "df_g_merged"
   ]
  },
  {
   "cell_type": "code",
   "execution_count": 118,
   "metadata": {},
   "outputs": [
    {
     "data": {
      "image/png": "[encoded data removed]",
      "text/plain": [
       "<Figure size 576x432 with 1 Axes>"
      ]
     },
     "metadata": {
      "needs_background": "light"
     },
     "output_type": "display_data"
    }
   ],
   "source": [
    "df_g_merged.plot.bar(stacked=True,figsize=(8,6),x='genre',title='Regions sales distribution by their top genres').set_ylabel('Sales in $M');"
   ]
  },
  {
   "cell_type": "markdown",
   "metadata": {},
   "source": [
    "##### Description\n",
    "This graph shows the disribution of regions sales between their top genres.\n",
    "\n",
    "NA's top 5 platforms by decsending order(largest to smallest): Action, Sports, Shooter, Misc , Role-Playing\n",
    "\n",
    "EU's top 5 platforms by decsending order(largest to smallest): Action, Sports, Shooter, Misc, Racing\n",
    "\n",
    "JP's top 5 platforms by decsending order(largest to smallest): Role-Playing, Action, Misc, Sports, Platform\n",
    "\n",
    "We can conclude that NA's and Eu's top 5 genres are almost the same (sharing the same top 4 genres),\n",
    "And action, sports and misc are being in top 5 genres of all regions."
   ]
  },
  {
   "cell_type": "markdown",
   "metadata": {},
   "source": [
    "#### ESRB ratings effects on  sales  analysis"
   ]
  },
  {
   "cell_type": "code",
   "execution_count": 119,
   "metadata": {},
   "outputs": [
    {
     "data": {
      "text/plain": [
       "array(['E', 'M', 'N/A', 'T', 'E10+', 'EC', 'RP'], dtype=object)"
      ]
     },
     "execution_count": 119,
     "metadata": {},
     "output_type": "execute_result"
    }
   ],
   "source": [
    "df_new['rating'].unique()"
   ]
  },
  {
   "cell_type": "code",
   "execution_count": 120,
   "metadata": {},
   "outputs": [],
   "source": [
    "esrb = df_new.groupby('rating').agg({'na_sales':'sum','eu_sales':'sum','jp_sales':'sum'}).reset_index()"
   ]
  },
  {
   "cell_type": "markdown",
   "metadata": {},
   "source": [
    "dropping N/A values as they dont represent rating."
   ]
  },
  {
   "cell_type": "code",
   "execution_count": 121,
   "metadata": {},
   "outputs": [],
   "source": [
    "esrb = esrb[esrb.rating != \"N/A\"]\n"
   ]
  },
  {
   "cell_type": "code",
   "execution_count": 122,
   "metadata": {},
   "outputs": [
    {
     "data": {
      "text/html": [
       "<div>\n",
       "<style scoped>\n",
       "    .dataframe tbody tr th:only-of-type {\n",
       "        vertical-align: middle;\n",
       "    }\n",
       "\n",
       "    .dataframe tbody tr th {\n",
       "        vertical-align: top;\n",
       "    }\n",
       "\n",
       "    .dataframe thead th {\n",
       "        text-align: right;\n",
       "    }\n",
       "</style>\n",
       "<table border=\"1\" class=\"dataframe\">\n",
       "  <thead>\n",
       "    <tr style=\"text-align: right;\">\n",
       "      <th></th>\n",
       "      <th>rating</th>\n",
       "      <th>na_sales</th>\n",
       "      <th>eu_sales</th>\n",
       "      <th>jp_sales</th>\n",
       "    </tr>\n",
       "  </thead>\n",
       "  <tbody>\n",
       "    <tr>\n",
       "      <td>0</td>\n",
       "      <td>E</td>\n",
       "      <td>796.98</td>\n",
       "      <td>461.09</td>\n",
       "      <td>120.36</td>\n",
       "    </tr>\n",
       "    <tr>\n",
       "      <td>1</td>\n",
       "      <td>E10+</td>\n",
       "      <td>315.40</td>\n",
       "      <td>173.35</td>\n",
       "      <td>36.57</td>\n",
       "    </tr>\n",
       "    <tr>\n",
       "      <td>2</td>\n",
       "      <td>EC</td>\n",
       "      <td>1.32</td>\n",
       "      <td>0.00</td>\n",
       "      <td>0.00</td>\n",
       "    </tr>\n",
       "    <tr>\n",
       "      <td>3</td>\n",
       "      <td>M</td>\n",
       "      <td>574.33</td>\n",
       "      <td>398.90</td>\n",
       "      <td>43.79</td>\n",
       "    </tr>\n",
       "    <tr>\n",
       "      <td>5</td>\n",
       "      <td>RP</td>\n",
       "      <td>0.00</td>\n",
       "      <td>0.03</td>\n",
       "      <td>0.00</td>\n",
       "    </tr>\n",
       "    <tr>\n",
       "      <td>6</td>\n",
       "      <td>T</td>\n",
       "      <td>424.14</td>\n",
       "      <td>235.44</td>\n",
       "      <td>83.90</td>\n",
       "    </tr>\n",
       "  </tbody>\n",
       "</table>\n",
       "</div>"
      ],
      "text/plain": [
       "  rating  na_sales  eu_sales  jp_sales\n",
       "0      E    796.98    461.09    120.36\n",
       "1   E10+    315.40    173.35     36.57\n",
       "2     EC      1.32      0.00      0.00\n",
       "3      M    574.33    398.90     43.79\n",
       "5     RP      0.00      0.03      0.00\n",
       "6      T    424.14    235.44     83.90"
      ]
     },
     "execution_count": 122,
     "metadata": {},
     "output_type": "execute_result"
    }
   ],
   "source": [
    "esrb"
   ]
  },
  {
   "cell_type": "code",
   "execution_count": 123,
   "metadata": {},
   "outputs": [
    {
     "data": {
      "image/png": "[encoded data removed]",
      "text/plain": [
       "<Figure size 576x432 with 1 Axes>"
      ]
     },
     "metadata": {
      "needs_background": "light"
     },
     "output_type": "display_data"
    }
   ],
   "source": [
    "esrb.plot.bar(stacked=True,figsize=(8,6),x='rating',title='Regions sales distribution by ESRB rating').set_ylabel('Sales in $M');"
   ]
  },
  {
   "cell_type": "code",
   "execution_count": 124,
   "metadata": {},
   "outputs": [
    {
     "data": {
      "text/html": [
       "<div>\n",
       "<style scoped>\n",
       "    .dataframe tbody tr th:only-of-type {\n",
       "        vertical-align: middle;\n",
       "    }\n",
       "\n",
       "    .dataframe tbody tr th {\n",
       "        vertical-align: top;\n",
       "    }\n",
       "\n",
       "    .dataframe thead th {\n",
       "        text-align: right;\n",
       "    }\n",
       "</style>\n",
       "<table border=\"1\" class=\"dataframe\">\n",
       "  <thead>\n",
       "    <tr style=\"text-align: right;\">\n",
       "      <th></th>\n",
       "      <th>name</th>\n",
       "      <th>platform</th>\n",
       "      <th>year_of_release</th>\n",
       "      <th>genre</th>\n",
       "      <th>na_sales</th>\n",
       "      <th>eu_sales</th>\n",
       "      <th>jp_sales</th>\n",
       "      <th>other_sales</th>\n",
       "      <th>critic_score</th>\n",
       "      <th>user_score</th>\n",
       "      <th>rating</th>\n",
       "      <th>total_sales</th>\n",
       "    </tr>\n",
       "  </thead>\n",
       "  <tbody>\n",
       "    <tr>\n",
       "      <td>4238</td>\n",
       "      <td>Nickelodeon Team Umizoomi</td>\n",
       "      <td>DS</td>\n",
       "      <td>2011</td>\n",
       "      <td>Action</td>\n",
       "      <td>0.42</td>\n",
       "      <td>0.0</td>\n",
       "      <td>0.0</td>\n",
       "      <td>0.03</td>\n",
       "      <td>N/A</td>\n",
       "      <td>tbd</td>\n",
       "      <td>EC</td>\n",
       "      <td>0.45</td>\n",
       "    </tr>\n",
       "    <tr>\n",
       "      <td>4964</td>\n",
       "      <td>Sesame Street: Elmo's A-to-Zoo Adventure</td>\n",
       "      <td>Wii</td>\n",
       "      <td>2010</td>\n",
       "      <td>Misc</td>\n",
       "      <td>0.35</td>\n",
       "      <td>0.0</td>\n",
       "      <td>0.0</td>\n",
       "      <td>0.02</td>\n",
       "      <td>N/A</td>\n",
       "      <td>tbd</td>\n",
       "      <td>EC</td>\n",
       "      <td>0.37</td>\n",
       "    </tr>\n",
       "    <tr>\n",
       "      <td>5956</td>\n",
       "      <td>Sesame Street: Cookie's Counting Carnival</td>\n",
       "      <td>Wii</td>\n",
       "      <td>2010</td>\n",
       "      <td>Misc</td>\n",
       "      <td>0.27</td>\n",
       "      <td>0.0</td>\n",
       "      <td>0.0</td>\n",
       "      <td>0.02</td>\n",
       "      <td>N/A</td>\n",
       "      <td>tbd</td>\n",
       "      <td>EC</td>\n",
       "      <td>0.29</td>\n",
       "    </tr>\n",
       "    <tr>\n",
       "      <td>7466</td>\n",
       "      <td>Ni Hao, Kai-lan: New Year's Celebration</td>\n",
       "      <td>DS</td>\n",
       "      <td>2009</td>\n",
       "      <td>Misc</td>\n",
       "      <td>0.19</td>\n",
       "      <td>0.0</td>\n",
       "      <td>0.0</td>\n",
       "      <td>0.01</td>\n",
       "      <td>N/A</td>\n",
       "      <td>tbd</td>\n",
       "      <td>EC</td>\n",
       "      <td>0.20</td>\n",
       "    </tr>\n",
       "    <tr>\n",
       "      <td>12859</td>\n",
       "      <td>Sesame Street: Cookie's Counting Carnival</td>\n",
       "      <td>PC</td>\n",
       "      <td>2010</td>\n",
       "      <td>Misc</td>\n",
       "      <td>0.05</td>\n",
       "      <td>0.0</td>\n",
       "      <td>0.0</td>\n",
       "      <td>0.00</td>\n",
       "      <td>N/A</td>\n",
       "      <td>tbd</td>\n",
       "      <td>EC</td>\n",
       "      <td>0.05</td>\n",
       "    </tr>\n",
       "    <tr>\n",
       "      <td>13245</td>\n",
       "      <td>Sesame Street: Elmo's A-to-Zoo Adventure</td>\n",
       "      <td>PC</td>\n",
       "      <td>2010</td>\n",
       "      <td>Misc</td>\n",
       "      <td>0.04</td>\n",
       "      <td>0.0</td>\n",
       "      <td>0.0</td>\n",
       "      <td>0.00</td>\n",
       "      <td>N/A</td>\n",
       "      <td>tbd</td>\n",
       "      <td>EC</td>\n",
       "      <td>0.04</td>\n",
       "    </tr>\n",
       "  </tbody>\n",
       "</table>\n",
       "</div>"
      ],
      "text/plain": [
       "                                            name platform  year_of_release  \\\n",
       "4238                   Nickelodeon Team Umizoomi       DS             2011   \n",
       "4964    Sesame Street: Elmo's A-to-Zoo Adventure      Wii             2010   \n",
       "5956   Sesame Street: Cookie's Counting Carnival      Wii             2010   \n",
       "7466     Ni Hao, Kai-lan: New Year's Celebration       DS             2009   \n",
       "12859  Sesame Street: Cookie's Counting Carnival       PC             2010   \n",
       "13245   Sesame Street: Elmo's A-to-Zoo Adventure       PC             2010   \n",
       "\n",
       "        genre  na_sales  eu_sales  jp_sales  other_sales critic_score  \\\n",
       "4238   Action      0.42       0.0       0.0         0.03          N/A   \n",
       "4964     Misc      0.35       0.0       0.0         0.02          N/A   \n",
       "5956     Misc      0.27       0.0       0.0         0.02          N/A   \n",
       "7466     Misc      0.19       0.0       0.0         0.01          N/A   \n",
       "12859    Misc      0.05       0.0       0.0         0.00          N/A   \n",
       "13245    Misc      0.04       0.0       0.0         0.00          N/A   \n",
       "\n",
       "      user_score rating  total_sales  \n",
       "4238         tbd     EC         0.45  \n",
       "4964         tbd     EC         0.37  \n",
       "5956         tbd     EC         0.29  \n",
       "7466         tbd     EC         0.20  \n",
       "12859        tbd     EC         0.05  \n",
       "13245        tbd     EC         0.04  "
      ]
     },
     "execution_count": 124,
     "metadata": {},
     "output_type": "execute_result"
    }
   ],
   "source": [
    "df_new.query('rating == \"EC\"')"
   ]
  },
  {
   "cell_type": "markdown",
   "metadata": {},
   "source": [
    "##### Description \n",
    "The graph shows ESRB ratings do affect sales in individual regions, as We see the E rating (Everyone) is the top selling rating - which makes sense due to the rating's meaning - it means the game is suitable for everyone.\n",
    "\n",
    "The next best selling ratings across all regions is M(Mature), followed by T(Teen) and E10+.\n",
    "\n",
    "rating of EC(Early childhood) has low amount of sales just in NA."
   ]
  },
  {
   "cell_type": "markdown",
   "metadata": {},
   "source": [
    "### Conclusion"
   ]
  },
  {
   "cell_type": "markdown",
   "metadata": {},
   "source": [
    "After plotting the disribution of regions sales between their top platforms we conclude:\n",
    "    \n",
    "DS, Wii and PS3 are being in the top 5 platforms for all regions.\n",
    "    \n",
    "NA's best selling platform - X360\n",
    "    \n",
    "EU's best selling platform - PS3\n",
    "    \n",
    "JP's best selling platform - DS\n",
    "\n",
    "    \n",
    "After plotting the disribution of regions sales between their top genres we conclude:\n",
    "    \n",
    "We can conclude that NA's and Eu's top 5 genres are almost the same (sharing the same top 4 genres), And action, sports and misc are being in top 5 genres of all regions.\n",
    "    \n",
    "NA's best selling genre - Action\n",
    "    \n",
    "EU's best selling genre - Action\n",
    "    \n",
    "JP's best selling genre - Role-Playing\n",
    "\n",
    "\n",
    "    \n",
    "After plotting the regions sales distribution by ESRB rating we conclude:\n",
    "    \n",
    "the E rating (Everyone) is the top selling rating.\n",
    "\n",
    "The next best selling ratings across all regions is M(Mature), followed by T(Teen) and E10+."
   ]
  },
  {
   "cell_type": "markdown",
   "metadata": {},
   "source": [
    "<div class=\"alert alert-info\" style=\"background-color:#006a79; color:white; padding:0px 10px; border-radius:5px;\"><h2 style='margin:10px 5px'>Hypotheses testing</h2>\n",
    "</div>"
   ]
  },
  {
   "cell_type": "markdown",
   "metadata": {},
   "source": [
    "### The Average user ratings of the Xbox One and PC platforms are the same"
   ]
  },
  {
   "cell_type": "markdown",
   "metadata": {},
   "source": [
    "Our null hypothesis (h0) will be: The Average user ratings of the Xbox One and PC platforms are equal.\n",
    "\n",
    "Our alternative hypothesis (h1) is based on h0 and will be: The Average user ratings of the Xbox One and PC platforms are different."
   ]
  },
  {
   "cell_type": "markdown",
   "metadata": {},
   "source": [
    "Creating dataframes for the ratings for both platforms"
   ]
  },
  {
   "cell_type": "code",
   "execution_count": 125,
   "metadata": {},
   "outputs": [],
   "source": [
    "xone_ratings = df_new.query('platform == \"XOne\" and user_score != \"N/A\" and user_score != \"tbd\"')['user_score'].astype(float).to_list()\n",
    "pc_ratings = df_new.query('platform == \"PC\" and user_score != \"N/A\" and user_score != \"tbd\"')['user_score'].astype(float).to_list()"
   ]
  },
  {
   "cell_type": "code",
   "execution_count": 126,
   "metadata": {},
   "outputs": [
    {
     "data": {
      "text/plain": [
       "182"
      ]
     },
     "execution_count": 126,
     "metadata": {},
     "output_type": "execute_result"
    }
   ],
   "source": [
    "len(xone_ratings)"
   ]
  },
  {
   "cell_type": "code",
   "execution_count": 127,
   "metadata": {},
   "outputs": [
    {
     "data": {
      "text/plain": [
       "615"
      ]
     },
     "execution_count": 127,
     "metadata": {},
     "output_type": "execute_result"
    }
   ],
   "source": [
    "len(pc_ratings)"
   ]
  },
  {
   "cell_type": "markdown",
   "metadata": {},
   "source": [
    "Taking a sample from the pc_ratings to match the amount of xone_ratings"
   ]
  },
  {
   "cell_type": "code",
   "execution_count": 128,
   "metadata": {},
   "outputs": [],
   "source": [
    "pc_ratings_sample = random.sample(pc_ratings, len(xone_ratings))"
   ]
  },
  {
   "cell_type": "markdown",
   "metadata": {},
   "source": [
    "Declaring our alpha value - 5% which is the most common and recommended value to use."
   ]
  },
  {
   "cell_type": "code",
   "execution_count": 129,
   "metadata": {},
   "outputs": [],
   "source": [
    "alpha = 0.05"
   ]
  },
  {
   "cell_type": "markdown",
   "metadata": {},
   "source": [
    "Checking the varience values for both parameters for the equal_var parameter using levene's test with both median and mean center parameters."
   ]
  },
  {
   "cell_type": "code",
   "execution_count": 130,
   "metadata": {},
   "outputs": [
    {
     "data": {
      "text/plain": [
       "LeveneResult(statistic=0.15545044236835576, pvalue=0.6936123656419032)"
      ]
     },
     "execution_count": 130,
     "metadata": {},
     "output_type": "execute_result"
    }
   ],
   "source": [
    "levene(xone_ratings, pc_ratings_sample, center='median')"
   ]
  },
  {
   "cell_type": "code",
   "execution_count": 131,
   "metadata": {},
   "outputs": [
    {
     "data": {
      "text/plain": [
       "LeveneResult(statistic=0.4247070405967089, pvalue=0.5150111429552697)"
      ]
     },
     "execution_count": 131,
     "metadata": {},
     "output_type": "execute_result"
    }
   ],
   "source": [
    "levene(xone_ratings, pc_ratings_sample, center='mean')"
   ]
  },
  {
   "cell_type": "markdown",
   "metadata": {},
   "source": [
    "our resulted pvalue is a high number(higher than alpha value), which means we cant deny our variances are equal and will set the parameter equal_var=True"
   ]
  },
  {
   "cell_type": "code",
   "execution_count": 132,
   "metadata": {},
   "outputs": [
    {
     "name": "stdout",
     "output_type": "stream",
     "text": [
      "p-value: 0.04576999872807564\n",
      "We reject the null hypothesis\n"
     ]
    }
   ],
   "source": [
    "results = st.ttest_ind(xone_ratings, pc_ratings_sample, equal_var =True)\n",
    "print('p-value:', results.pvalue)\n",
    "\n",
    "if (results.pvalue < alpha):\n",
    "    print(\"We reject the null hypothesis\")\n",
    "else:\n",
    "    print(\"We can't reject the null hypothesis\")"
   ]
  },
  {
   "cell_type": "markdown",
   "metadata": {},
   "source": [
    "our pvalue is higher than our alpha value, so we can't reject the null hypothesis which is - \n",
    "\n",
    "The Average user ratings of the Xbox One and PC platforms are the same."
   ]
  },
  {
   "cell_type": "markdown",
   "metadata": {},
   "source": [
    "### The Average user ratings for the Action and Sports genres are different."
   ]
  },
  {
   "cell_type": "markdown",
   "metadata": {},
   "source": [
    "Our null hypothesis (h0) will be: The Average user ratings for the action and sports platforms are equal.\n",
    "\n",
    "Our alternative hypothesis (h1) is based on h0 and will be: The Average user ratings for the Action and Sports genres are different"
   ]
  },
  {
   "cell_type": "markdown",
   "metadata": {},
   "source": [
    "Creating dataframes for the ratings for both platforms"
   ]
  },
  {
   "cell_type": "code",
   "execution_count": 133,
   "metadata": {},
   "outputs": [],
   "source": [
    "action_ratings = df_new.query('genre == \"Action\" and user_score != \"N/A\" and user_score != \"tbd\"')['user_score'].astype(float).to_list()\n",
    "sports_ratings = df_new.query('genre == \"Sports\" and user_score != \"N/A\" and user_score != \"tbd\"')['user_score'].astype(float).to_list()"
   ]
  },
  {
   "cell_type": "code",
   "execution_count": 134,
   "metadata": {},
   "outputs": [
    {
     "data": {
      "text/plain": [
       "1324"
      ]
     },
     "execution_count": 134,
     "metadata": {},
     "output_type": "execute_result"
    }
   ],
   "source": [
    "len(action_ratings)"
   ]
  },
  {
   "cell_type": "code",
   "execution_count": 135,
   "metadata": {},
   "outputs": [
    {
     "data": {
      "text/plain": [
       "676"
      ]
     },
     "execution_count": 135,
     "metadata": {},
     "output_type": "execute_result"
    }
   ],
   "source": [
    "len(sports_ratings)"
   ]
  },
  {
   "cell_type": "markdown",
   "metadata": {},
   "source": [
    "Taking a sample from the action_ratings to match the amount of sports_ratings"
   ]
  },
  {
   "cell_type": "code",
   "execution_count": 136,
   "metadata": {},
   "outputs": [],
   "source": [
    "action_ratings_sample = random.sample(action_ratings, len(sports_ratings))"
   ]
  },
  {
   "cell_type": "markdown",
   "metadata": {},
   "source": [
    "Alpha value remains 0.05"
   ]
  },
  {
   "cell_type": "code",
   "execution_count": 137,
   "metadata": {},
   "outputs": [],
   "source": [
    "alpha = 0.05"
   ]
  },
  {
   "cell_type": "markdown",
   "metadata": {},
   "source": [
    "Checking the varience values for both genres for the equal_var parameter using levene's test with both median and mean center parameters."
   ]
  },
  {
   "cell_type": "code",
   "execution_count": 138,
   "metadata": {},
   "outputs": [
    {
     "data": {
      "text/plain": [
       "LeveneResult(statistic=19.04650675469628, pvalue=1.3729110619699575e-05)"
      ]
     },
     "execution_count": 138,
     "metadata": {},
     "output_type": "execute_result"
    }
   ],
   "source": [
    "levene(action_ratings_sample, sports_ratings, center='median')"
   ]
  },
  {
   "cell_type": "code",
   "execution_count": 139,
   "metadata": {},
   "outputs": [
    {
     "data": {
      "text/plain": [
       "LeveneResult(statistic=24.861936446793063, pvalue=6.958210422893653e-07)"
      ]
     },
     "execution_count": 139,
     "metadata": {},
     "output_type": "execute_result"
    }
   ],
   "source": [
    "levene(action_ratings_sample, sports_ratings, center='mean')"
   ]
  },
  {
   "cell_type": "markdown",
   "metadata": {},
   "source": [
    "our resulted pvalue is a very low number, which means our variances are not equal."
   ]
  },
  {
   "cell_type": "code",
   "execution_count": 140,
   "metadata": {},
   "outputs": [
    {
     "name": "stdout",
     "output_type": "stream",
     "text": [
      "p-value: 2.7044558292212026e-09\n",
      "We reject the null hypothesis\n"
     ]
    }
   ],
   "source": [
    "results = st.ttest_ind(action_ratings_sample, sports_ratings, equal_var =False)\n",
    "print('p-value:', results.pvalue)\n",
    "\n",
    "if (results.pvalue < alpha):\n",
    "    print(\"We reject the null hypothesis\")\n",
    "else:\n",
    "    print(\"We can't reject the null hypothesis\")"
   ]
  },
  {
   "cell_type": "markdown",
   "metadata": {},
   "source": [
    "our pvalue is very low, and we reject the null hypothesis which is - The Average user ratings for the action and sports platforms are equal.\n",
    "\n",
    "Which means we can accept our h1  - The Average user ratings for the Action and Sports genres are different."
   ]
  },
  {
   "cell_type": "markdown",
   "metadata": {},
   "source": [
    "### Conclusion\n",
    "After testing the hypotheses for:\n",
    "\n",
    "- The Average user ratings of the Xbox One and PC platforms are the same.\n",
    "\n",
    "- The Average user ratings for the Action and Sports genres are different.\n",
    "\n",
    "\n",
    "we weren't able to reject the null hypothesis for the first statement, which means we cant say the average user ratings for XOne and PC are different. \n",
    "\n",
    "we were able to reject the null hypothesis for the second statement, which means we can say The average user ratings for the Action and Sports genres are different.\n",
    "\n",
    "\n",
    "the significance level used to test the hypotheses is alpha value of 0.05 (5%) as this is the best practice and most common used. the null hypotheses were formulated to claim equality, as this is the h0 for comparing two population means, and the alternative claims for difference between the population and is dependant if we can reject the h0 (equality) or not."
   ]
  },
  {
   "cell_type": "markdown",
   "metadata": {},
   "source": [
    "<div class=\"alert alert-info\" style=\"background-color:#006a79; color:white; padding:0px 10px; border-radius:5px;\"><h2 style='margin:10px 5px'>General Conclusion</h2>\n",
    "</div>"
   ]
  },
  {
   "cell_type": "markdown",
   "metadata": {},
   "source": [
    "To summarize, we concluded many conclusions regarding different aspects of the data:\n",
    "\n",
    "In the data's preparation & processing stage:\n",
    "- There are 6 column that contains missing values across the data:\n",
    "\n",
    "- name(0.011%), Year_of_Release(1.60%), Genre(0.011%), Critic_Score (51.31%), User_Score(40.08%), Rating(40.47%).\n",
    "\n",
    "- We removed the 2 rows with missing genre + name, we filled the missing values in critic_score, user_score and rating with N/A.\n",
    "- TBD rating will be treated like N/A - no available rating.\n",
    "\n",
    "- We added a new total_sales (the sum of sales in all regions) column for every game.\n",
    "\n",
    "\n",
    "In the exploratory data analysis stage:\n",
    "- We see a positive correlation between the year and the amount of games - it generally increases over the years.\n",
    "- our top 5 selling platforms are DS, Wii, PS3, X360, and PS2\n",
    "\n",
    "- our top 5 platforms have their sales peak at 2008, and their sales decreasing after 2008.\n",
    "   This pattern matches the graph about games released per year (section 3.1) where we saw our peak was at 2008, and then    started to decrease. This makes sense as the lower the games amount - it is likely the sales to be lower.\n",
    "- Platforms that used to be popular but now have zero sales are:\n",
    "  SNES, N64, GB, NES, PS - most popular between 1980-2000.\n",
    "  XB, PSP, GBA, DS, PS2 - most popular between 2001-2010 with no sales in 2016.\n",
    "  \n",
    "-  Generally an old(1980-2000) platform fades after 6.85 years.\n",
    "   And a new(2001-2016) platform generally appears every 1.5 years.(10 new platforms in 15 years).\n",
    "   \n",
    "- Chosen platforms that are potentially profitable - PS4, XOne, WiiU.\n",
    "- Platforms that have sales in 2016 who shows clear shrink are: PS3, X360, Wii, 3DS and PSV.\n",
    "- PS4's average sale (game's global sales) is 801K (0.801M)\n",
    "  XOne's average sale (game's global sales) is 645K (0.645M)\n",
    "  WiiU's average sale (game's global sales) is 559K (0.559M)\n",
    " \n",
    "- Critic score positively affects the total sales in all chosen platforms, User score affects the total sale only on WiiU.\n",
    "- Action genre has the highest amount of games and is the second most selling genre.\n",
    "- Shooter genre has the highest total sales and the highest average sales per game\n",
    "- Puzzle genre has the lowest value of any metric (total sales, avg game sales and games amount).\n",
    "\n",
    "In the User profile creation for each region (NA, EU, JP) stage:\n",
    "- DS, Wii and PS3 are being in the top 5 platforms for all regions.\n",
    "\n",
    "- NA's best selling platform - X360\n",
    "\n",
    "- EU's best selling platform - PS3\n",
    "\n",
    "- JP's best selling platform - DS\n",
    "- action, sports and misc are being in top 5 genres of all regions.\n",
    "\n",
    "- NA's best selling genre - Action\n",
    "\n",
    "- EU's best selling genre - Action\n",
    "\n",
    "- JP's best selling genre - Role-Playing\n",
    "\n",
    "- the E rating (Everyone) is the top selling ESRB rating.\n",
    "\n",
    "In the Tests of the hypotheses stage:\n",
    "1. The Average user ratings of the Xbox One and PC platforms are the same.\n",
    " We weren't able to reject the null hypothesis for the statement, which means we cant say the average user ratings for XOne and PC are different.\n",
    " \n",
    "2. The Average user ratings for the Action and Sports genres are different.\n",
    " We were able to reject the null hypothesis for statement, which means we can say The average user ratings for the Action and Sports genres are different.\n",
    "\n",
    "\n",
    "Patterns that determine whether a game succeeds or not(in order to spot potential big winners and plan advertising campaigns)-\n",
    "\n",
    "- The game needs to be in atleast one of the chosen platforms (PS4, XOne, WiiU).\n",
    "- The higher the critic's score - the higher the sales for the game.\n",
    "- The game's genre should be either Action, Shooter or Sports.\n",
    "- The game's ESRB rating should be E / E10+ / M."
   ]
  },
  {
   "cell_type": "code",
   "execution_count": null,
   "metadata": {},
   "outputs": [],
   "source": []
  }
 ],
 "metadata": {
  "ExecuteTimeLog": [
   {
    "duration": 1411,
    "start_time": "2021-07-04T14:29:37.171Z"
   },
   {
    "duration": 270,
    "start_time": "2021-07-04T14:29:39.947Z"
   },
   {
    "duration": 595,
    "start_time": "2021-07-04T14:30:20.651Z"
   },
   {
    "duration": 275,
    "start_time": "2021-07-04T14:30:27.755Z"
   },
   {
    "duration": 23,
    "start_time": "2021-07-04T14:30:29.099Z"
   },
   {
    "duration": 15,
    "start_time": "2021-07-04T14:31:13.453Z"
   },
   {
    "duration": 13,
    "start_time": "2021-07-04T14:33:15.781Z"
   },
   {
    "duration": 24,
    "start_time": "2021-07-04T14:34:13.455Z"
   },
   {
    "duration": 44,
    "start_time": "2021-07-04T14:36:09.815Z"
   },
   {
    "duration": 52,
    "start_time": "2021-07-04T14:36:31.299Z"
   },
   {
    "duration": 18,
    "start_time": "2021-07-04T14:41:29.627Z"
   },
   {
    "duration": 12,
    "start_time": "2021-07-04T14:41:46.437Z"
   },
   {
    "duration": 12,
    "start_time": "2021-07-04T14:41:48.823Z"
   },
   {
    "duration": 14,
    "start_time": "2021-07-04T14:49:52.205Z"
   },
   {
    "duration": 9,
    "start_time": "2021-07-04T14:51:12.348Z"
   },
   {
    "duration": 8,
    "start_time": "2021-07-04T14:51:40.639Z"
   },
   {
    "duration": 8,
    "start_time": "2021-07-04T14:51:51.071Z"
   },
   {
    "duration": 9,
    "start_time": "2021-07-04T14:51:52.847Z"
   },
   {
    "duration": 8,
    "start_time": "2021-07-04T14:51:54.335Z"
   },
   {
    "duration": 7,
    "start_time": "2021-07-04T14:51:55.711Z"
   },
   {
    "duration": 6,
    "start_time": "2021-07-04T14:53:21.280Z"
   },
   {
    "duration": 6,
    "start_time": "2021-07-04T14:55:50.898Z"
   },
   {
    "duration": 20,
    "start_time": "2021-07-04T14:55:58.161Z"
   },
   {
    "duration": 12,
    "start_time": "2021-07-04T14:56:07.975Z"
   },
   {
    "duration": 8,
    "start_time": "2021-07-04T14:56:41.412Z"
   },
   {
    "duration": 9,
    "start_time": "2021-07-04T15:15:25.374Z"
   },
   {
    "duration": 20,
    "start_time": "2021-07-04T15:15:28.594Z"
   },
   {
    "duration": 336,
    "start_time": "2021-07-04T15:15:41.128Z"
   },
   {
    "duration": 24,
    "start_time": "2021-07-04T15:15:43.156Z"
   },
   {
    "duration": 20,
    "start_time": "2021-07-04T15:19:03.494Z"
   },
   {
    "duration": 370,
    "start_time": "2021-07-04T15:19:44.231Z"
   },
   {
    "duration": 11,
    "start_time": "2021-07-04T15:20:19.542Z"
   },
   {
    "duration": 18,
    "start_time": "2021-07-04T15:20:20.936Z"
   },
   {
    "duration": 16,
    "start_time": "2021-07-04T15:20:32.425Z"
   },
   {
    "duration": 10,
    "start_time": "2021-07-04T15:20:35.192Z"
   },
   {
    "duration": 14,
    "start_time": "2021-07-04T15:20:37.128Z"
   },
   {
    "duration": 10,
    "start_time": "2021-07-04T15:20:57.528Z"
   },
   {
    "duration": 16,
    "start_time": "2021-07-04T15:20:58.566Z"
   },
   {
    "duration": 31,
    "start_time": "2021-07-04T15:21:03.463Z"
   },
   {
    "duration": 11,
    "start_time": "2021-07-04T15:21:42.312Z"
   },
   {
    "duration": 22,
    "start_time": "2021-07-04T15:21:43.385Z"
   },
   {
    "duration": 18,
    "start_time": "2021-07-04T15:21:58.440Z"
   },
   {
    "duration": 353,
    "start_time": "2021-07-04T15:23:48.897Z"
   },
   {
    "duration": 4,
    "start_time": "2021-07-04T15:24:31.115Z"
   },
   {
    "duration": 20,
    "start_time": "2021-07-04T15:24:36.939Z"
   },
   {
    "duration": 377,
    "start_time": "2021-07-04T15:25:27.805Z"
   },
   {
    "duration": 8,
    "start_time": "2021-07-04T15:27:53.739Z"
   },
   {
    "duration": 20,
    "start_time": "2021-07-04T15:27:58.268Z"
   },
   {
    "duration": 281,
    "start_time": "2021-07-04T15:28:08.669Z"
   },
   {
    "duration": 4,
    "start_time": "2021-07-04T15:28:12.700Z"
   },
   {
    "duration": 19,
    "start_time": "2021-07-04T15:28:14.019Z"
   },
   {
    "duration": 6,
    "start_time": "2021-07-04T15:28:49.951Z"
   },
   {
    "duration": 11,
    "start_time": "2021-07-04T15:28:58.351Z"
   },
   {
    "duration": 596,
    "start_time": "2021-07-04T15:29:04.351Z"
   },
   {
    "duration": 6,
    "start_time": "2021-07-04T15:29:16.271Z"
   },
   {
    "duration": 346,
    "start_time": "2021-07-04T15:30:38.225Z"
   },
   {
    "duration": 9,
    "start_time": "2021-07-04T15:33:18.863Z"
   },
   {
    "duration": 22,
    "start_time": "2021-07-04T15:33:22.466Z"
   },
   {
    "duration": 837,
    "start_time": "2021-07-04T15:34:52.351Z"
   },
   {
    "duration": 6,
    "start_time": "2021-07-04T15:36:14.465Z"
   },
   {
    "duration": 853,
    "start_time": "2021-07-04T15:37:45.885Z"
   },
   {
    "duration": 26,
    "start_time": "2021-07-04T19:30:08.373Z"
   },
   {
    "duration": 3,
    "start_time": "2021-07-04T19:33:08.909Z"
   },
   {
    "duration": 7,
    "start_time": "2021-07-04T19:34:07.457Z"
   },
   {
    "duration": 9,
    "start_time": "2021-07-04T19:34:12.081Z"
   },
   {
    "duration": 14,
    "start_time": "2021-07-04T19:35:28.178Z"
   },
   {
    "duration": 14,
    "start_time": "2021-07-04T19:35:35.574Z"
   },
   {
    "duration": 20,
    "start_time": "2021-07-04T19:38:42.869Z"
   },
   {
    "duration": 19,
    "start_time": "2021-07-04T19:39:11.172Z"
   },
   {
    "duration": 9,
    "start_time": "2021-07-04T19:39:35.796Z"
   },
   {
    "duration": 22,
    "start_time": "2021-07-04T19:39:45.588Z"
   },
   {
    "duration": 31,
    "start_time": "2021-07-04T19:42:54.063Z"
   },
   {
    "duration": 14,
    "start_time": "2021-07-04T19:43:08.473Z"
   },
   {
    "duration": 8,
    "start_time": "2021-07-04T19:43:27.952Z"
   },
   {
    "duration": 14,
    "start_time": "2021-07-04T19:43:29.769Z"
   },
   {
    "duration": 13,
    "start_time": "2021-07-04T19:43:40.888Z"
   },
   {
    "duration": 13,
    "start_time": "2021-07-04T19:43:46.089Z"
   },
   {
    "duration": 3,
    "start_time": "2021-07-04T19:47:31.869Z"
   },
   {
    "duration": 12,
    "start_time": "2021-07-04T19:48:33.193Z"
   },
   {
    "duration": 31,
    "start_time": "2021-07-04T19:48:55.613Z"
   },
   {
    "duration": 6,
    "start_time": "2021-07-04T19:50:50.191Z"
   },
   {
    "duration": 10,
    "start_time": "2021-07-04T19:50:59.151Z"
   },
   {
    "duration": 13,
    "start_time": "2021-07-04T19:51:31.055Z"
   },
   {
    "duration": 14,
    "start_time": "2021-07-04T19:52:16.862Z"
   },
   {
    "duration": 19,
    "start_time": "2021-07-04T19:52:40.687Z"
   },
   {
    "duration": 18,
    "start_time": "2021-07-04T19:53:03.265Z"
   },
   {
    "duration": 24,
    "start_time": "2021-07-04T19:53:06.737Z"
   },
   {
    "duration": 75,
    "start_time": "2021-07-04T19:53:24.689Z"
   },
   {
    "duration": 38,
    "start_time": "2021-07-04T19:53:47.265Z"
   },
   {
    "duration": 36,
    "start_time": "2021-07-04T19:54:03.155Z"
   },
   {
    "duration": 40,
    "start_time": "2021-07-04T19:54:10.819Z"
   },
   {
    "duration": 24,
    "start_time": "2021-07-04T19:54:14.339Z"
   },
   {
    "duration": 24,
    "start_time": "2021-07-04T19:54:26.819Z"
   },
   {
    "duration": 25,
    "start_time": "2021-07-04T19:54:34.697Z"
   },
   {
    "duration": 27,
    "start_time": "2021-07-04T19:55:37.459Z"
   },
   {
    "duration": 26,
    "start_time": "2021-07-04T19:56:31.091Z"
   },
   {
    "duration": 26,
    "start_time": "2021-07-04T19:56:38.723Z"
   },
   {
    "duration": 25,
    "start_time": "2021-07-04T19:56:45.525Z"
   },
   {
    "duration": 27,
    "start_time": "2021-07-04T19:57:40.837Z"
   },
   {
    "duration": 364,
    "start_time": "2021-07-04T19:59:55.847Z"
   },
   {
    "duration": 393,
    "start_time": "2021-07-04T20:00:39.207Z"
   },
   {
    "duration": 13,
    "start_time": "2021-07-04T20:01:29.879Z"
   },
   {
    "duration": 13,
    "start_time": "2021-07-04T20:02:19.817Z"
   },
   {
    "duration": 12,
    "start_time": "2021-07-04T20:03:03.161Z"
   },
   {
    "duration": 341,
    "start_time": "2021-07-04T20:03:17.641Z"
   },
   {
    "duration": 13,
    "start_time": "2021-07-04T20:03:23.001Z"
   },
   {
    "duration": 6,
    "start_time": "2021-07-04T20:04:14.105Z"
   },
   {
    "duration": 10,
    "start_time": "2021-07-04T20:04:24.057Z"
   },
   {
    "duration": 19,
    "start_time": "2021-07-04T20:04:35.329Z"
   },
   {
    "duration": 13,
    "start_time": "2021-07-04T20:04:45.793Z"
   },
   {
    "duration": 8,
    "start_time": "2021-07-04T20:05:46.652Z"
   },
   {
    "duration": 8,
    "start_time": "2021-07-04T20:05:52.283Z"
   },
   {
    "duration": 385,
    "start_time": "2021-07-04T20:06:02.156Z"
   },
   {
    "duration": 18,
    "start_time": "2021-07-04T20:06:08.796Z"
   },
   {
    "duration": 9,
    "start_time": "2021-07-04T20:06:14.507Z"
   },
   {
    "duration": 13,
    "start_time": "2021-07-04T20:07:07.869Z"
   },
   {
    "duration": 9,
    "start_time": "2021-07-04T20:07:27.213Z"
   },
   {
    "duration": 13,
    "start_time": "2021-07-04T20:07:36.765Z"
   },
   {
    "duration": 13,
    "start_time": "2021-07-04T20:07:42.829Z"
   },
   {
    "duration": 5,
    "start_time": "2021-07-04T20:08:56.157Z"
   },
   {
    "duration": 10,
    "start_time": "2021-07-04T20:09:15.359Z"
   },
   {
    "duration": 12,
    "start_time": "2021-07-04T20:09:22.590Z"
   },
   {
    "duration": 14,
    "start_time": "2021-07-04T20:09:32.669Z"
   },
   {
    "duration": 5,
    "start_time": "2021-07-04T20:09:43.088Z"
   },
   {
    "duration": 169,
    "start_time": "2021-07-04T20:09:48.639Z"
   },
   {
    "duration": 12,
    "start_time": "2021-07-04T20:09:56.639Z"
   },
   {
    "duration": 17,
    "start_time": "2021-07-04T20:10:41.488Z"
   },
   {
    "duration": 10,
    "start_time": "2021-07-04T20:10:53.599Z"
   },
   {
    "duration": 6,
    "start_time": "2021-07-04T20:13:43.521Z"
   },
   {
    "duration": 7,
    "start_time": "2021-07-04T20:13:56.594Z"
   },
   {
    "duration": 9,
    "start_time": "2021-07-04T20:14:00.291Z"
   },
   {
    "duration": 19,
    "start_time": "2021-07-04T20:17:34.572Z"
   },
   {
    "duration": 25,
    "start_time": "2021-07-04T20:17:41.301Z"
   },
   {
    "duration": 5,
    "start_time": "2021-07-04T20:17:55.829Z"
   },
   {
    "duration": 8,
    "start_time": "2021-07-04T20:43:49.362Z"
   },
   {
    "duration": 20,
    "start_time": "2021-07-05T09:02:34.436Z"
   },
   {
    "duration": 12,
    "start_time": "2021-07-05T09:03:11.615Z"
   },
   {
    "duration": 11,
    "start_time": "2021-07-05T09:03:18.318Z"
   },
   {
    "duration": 33,
    "start_time": "2021-07-05T09:04:14.160Z"
   },
   {
    "duration": 7,
    "start_time": "2021-07-05T09:25:19.833Z"
   },
   {
    "duration": 14,
    "start_time": "2021-07-05T09:25:23.569Z"
   },
   {
    "duration": 12,
    "start_time": "2021-07-05T09:25:35.713Z"
   },
   {
    "duration": 14,
    "start_time": "2021-07-05T09:27:22.997Z"
   },
   {
    "duration": 12,
    "start_time": "2021-07-05T09:27:30.213Z"
   },
   {
    "duration": 33,
    "start_time": "2021-07-05T09:27:38.195Z"
   },
   {
    "duration": 29,
    "start_time": "2021-07-05T09:27:46.851Z"
   },
   {
    "duration": 29,
    "start_time": "2021-07-05T09:27:57.061Z"
   },
   {
    "duration": 29,
    "start_time": "2021-07-05T09:27:59.316Z"
   },
   {
    "duration": 9,
    "start_time": "2021-07-05T11:05:48.094Z"
   },
   {
    "duration": 10,
    "start_time": "2021-07-05T15:31:07.909Z"
   },
   {
    "duration": 13,
    "start_time": "2021-07-05T15:31:52.969Z"
   },
   {
    "duration": 345,
    "start_time": "2021-07-05T15:35:09.182Z"
   },
   {
    "duration": 4,
    "start_time": "2021-07-05T15:35:19.515Z"
   },
   {
    "duration": 8,
    "start_time": "2021-07-05T15:35:44.347Z"
   },
   {
    "duration": 14,
    "start_time": "2021-07-05T15:35:49.275Z"
   },
   {
    "duration": 15,
    "start_time": "2021-07-05T15:35:56.029Z"
   },
   {
    "duration": 12,
    "start_time": "2021-07-05T15:36:11.773Z"
   },
   {
    "duration": 9,
    "start_time": "2021-07-05T15:36:29.853Z"
   },
   {
    "duration": 12,
    "start_time": "2021-07-05T15:36:30.861Z"
   },
   {
    "duration": 13,
    "start_time": "2021-07-05T15:38:51.007Z"
   },
   {
    "duration": 8,
    "start_time": "2021-07-05T15:39:11.199Z"
   },
   {
    "duration": 13,
    "start_time": "2021-07-05T15:39:12.430Z"
   },
   {
    "duration": 11,
    "start_time": "2021-07-05T15:39:21.807Z"
   },
   {
    "duration": 13,
    "start_time": "2021-07-05T15:39:22.815Z"
   },
   {
    "duration": 16,
    "start_time": "2021-07-05T15:39:29.023Z"
   },
   {
    "duration": 20,
    "start_time": "2021-07-05T15:39:40.677Z"
   },
   {
    "duration": 20,
    "start_time": "2021-07-05T15:39:42.175Z"
   },
   {
    "duration": 10,
    "start_time": "2021-07-05T15:39:51.775Z"
   },
   {
    "duration": 16,
    "start_time": "2021-07-05T15:39:54.063Z"
   },
   {
    "duration": 338,
    "start_time": "2021-07-05T15:40:13.152Z"
   },
   {
    "duration": 341,
    "start_time": "2021-07-05T15:40:21.250Z"
   },
   {
    "duration": 8,
    "start_time": "2021-07-05T15:40:33.889Z"
   },
   {
    "duration": 20,
    "start_time": "2021-07-05T15:40:39.951Z"
   },
   {
    "duration": 353,
    "start_time": "2021-07-05T15:41:30.481Z"
   },
   {
    "duration": 6,
    "start_time": "2021-07-05T15:42:00.945Z"
   },
   {
    "duration": 19,
    "start_time": "2021-07-05T15:42:02.146Z"
   },
   {
    "duration": 306,
    "start_time": "2021-07-05T15:42:09.250Z"
   },
   {
    "duration": 4,
    "start_time": "2021-07-05T15:42:14.561Z"
   },
   {
    "duration": 13,
    "start_time": "2021-07-05T15:42:28.257Z"
   },
   {
    "duration": 6,
    "start_time": "2021-07-05T15:42:44.578Z"
   },
   {
    "duration": 14,
    "start_time": "2021-07-05T15:42:46.210Z"
   },
   {
    "duration": 19,
    "start_time": "2021-07-05T15:42:50.179Z"
   },
   {
    "duration": 10,
    "start_time": "2021-07-05T15:42:59.490Z"
   },
   {
    "duration": 13,
    "start_time": "2021-07-05T15:43:01.412Z"
   },
   {
    "duration": 20,
    "start_time": "2021-07-05T15:43:07.521Z"
   },
   {
    "duration": 20,
    "start_time": "2021-07-05T15:43:13.898Z"
   },
   {
    "duration": 19,
    "start_time": "2021-07-05T15:43:16.146Z"
   },
   {
    "duration": 9,
    "start_time": "2021-07-05T15:43:32.660Z"
   },
   {
    "duration": 20,
    "start_time": "2021-07-05T15:43:35.235Z"
   },
   {
    "duration": 15,
    "start_time": "2021-07-05T15:43:40.469Z"
   },
   {
    "duration": 12,
    "start_time": "2021-07-05T15:45:17.948Z"
   },
   {
    "duration": 12,
    "start_time": "2021-07-05T15:45:18.884Z"
   },
   {
    "duration": 275,
    "start_time": "2021-07-05T15:46:04.374Z"
   },
   {
    "duration": 5,
    "start_time": "2021-07-05T15:46:09.829Z"
   },
   {
    "duration": 15,
    "start_time": "2021-07-05T15:46:14.102Z"
   },
   {
    "duration": 10,
    "start_time": "2021-07-05T15:46:17.013Z"
   },
   {
    "duration": 14,
    "start_time": "2021-07-05T15:46:17.782Z"
   },
   {
    "duration": 13,
    "start_time": "2021-07-05T15:46:59.061Z"
   },
   {
    "duration": 20,
    "start_time": "2021-07-05T15:47:40.044Z"
   },
   {
    "duration": 20,
    "start_time": "2021-07-05T15:47:42.758Z"
   },
   {
    "duration": 343,
    "start_time": "2021-07-05T15:48:08.072Z"
   },
   {
    "duration": 343,
    "start_time": "2021-07-05T15:48:35.240Z"
   },
   {
    "duration": 19,
    "start_time": "2021-07-05T15:49:11.960Z"
   },
   {
    "duration": 20,
    "start_time": "2021-07-05T15:49:14.049Z"
   },
   {
    "duration": 10,
    "start_time": "2021-07-05T15:49:40.858Z"
   },
   {
    "duration": 14,
    "start_time": "2021-07-05T15:49:43.176Z"
   },
   {
    "duration": 14,
    "start_time": "2021-07-05T15:49:44.344Z"
   },
   {
    "duration": 14,
    "start_time": "2021-07-05T15:49:48.152Z"
   },
   {
    "duration": 11,
    "start_time": "2021-07-05T15:50:41.370Z"
   },
   {
    "duration": 15,
    "start_time": "2021-07-05T15:50:42.762Z"
   },
   {
    "duration": 12,
    "start_time": "2021-07-05T15:51:24.448Z"
   },
   {
    "duration": 5,
    "start_time": "2021-07-05T15:51:37.642Z"
   },
   {
    "duration": 14,
    "start_time": "2021-07-05T15:51:39.674Z"
   },
   {
    "duration": 7,
    "start_time": "2021-07-05T15:53:03.482Z"
   },
   {
    "duration": 7,
    "start_time": "2021-07-05T17:25:23.968Z"
   },
   {
    "duration": 16,
    "start_time": "2021-07-05T17:25:27.657Z"
   },
   {
    "duration": 19,
    "start_time": "2021-07-05T17:25:33.374Z"
   },
   {
    "duration": 14,
    "start_time": "2021-07-05T17:25:42.462Z"
   },
   {
    "duration": 6,
    "start_time": "2021-07-05T17:25:53.290Z"
   },
   {
    "duration": 24,
    "start_time": "2021-07-05T17:25:55.211Z"
   },
   {
    "duration": 284,
    "start_time": "2021-07-05T17:32:18.286Z"
   },
   {
    "duration": 5,
    "start_time": "2021-07-05T17:32:24.222Z"
   },
   {
    "duration": 10,
    "start_time": "2021-07-05T17:32:52.144Z"
   },
   {
    "duration": 6,
    "start_time": "2021-07-05T17:32:53.486Z"
   },
   {
    "duration": 14,
    "start_time": "2021-07-05T17:32:54.385Z"
   },
   {
    "duration": 18,
    "start_time": "2021-07-05T17:33:18.979Z"
   },
   {
    "duration": 20,
    "start_time": "2021-07-05T17:33:21.922Z"
   },
   {
    "duration": 13,
    "start_time": "2021-07-05T17:33:24.815Z"
   },
   {
    "duration": 15,
    "start_time": "2021-07-05T17:33:27.040Z"
   },
   {
    "duration": 9,
    "start_time": "2021-07-05T17:33:28.832Z"
   },
   {
    "duration": 7,
    "start_time": "2021-07-05T17:33:31.664Z"
   },
   {
    "duration": 18,
    "start_time": "2021-07-05T17:35:34.195Z"
   },
   {
    "duration": 6,
    "start_time": "2021-07-05T17:35:38.624Z"
   },
   {
    "duration": 16,
    "start_time": "2021-07-05T17:35:39.648Z"
   },
   {
    "duration": 6,
    "start_time": "2021-07-05T17:35:53.971Z"
   },
   {
    "duration": 8,
    "start_time": "2021-07-05T17:36:03.106Z"
   },
   {
    "duration": 17,
    "start_time": "2021-07-05T17:36:04.035Z"
   },
   {
    "duration": 18,
    "start_time": "2021-07-05T17:36:09.890Z"
   },
   {
    "duration": 23,
    "start_time": "2021-07-05T18:06:50.660Z"
   },
   {
    "duration": 266,
    "start_time": "2021-07-05T18:07:08.462Z"
   },
   {
    "duration": 19,
    "start_time": "2021-07-05T18:07:10.478Z"
   },
   {
    "duration": 6,
    "start_time": "2021-07-05T18:07:20.030Z"
   },
   {
    "duration": 35,
    "start_time": "2021-07-05T18:07:25.694Z"
   },
   {
    "duration": 12,
    "start_time": "2021-07-05T18:07:38.622Z"
   },
   {
    "duration": 6,
    "start_time": "2021-07-05T18:07:40.685Z"
   },
   {
    "duration": 30,
    "start_time": "2021-07-05T18:07:44.530Z"
   },
   {
    "duration": 13,
    "start_time": "2021-07-05T18:07:53.232Z"
   },
   {
    "duration": 24,
    "start_time": "2021-07-05T18:07:55.853Z"
   },
   {
    "duration": 6,
    "start_time": "2021-07-05T18:08:03.101Z"
   },
   {
    "duration": 8,
    "start_time": "2021-07-05T18:08:04.048Z"
   },
   {
    "duration": 9,
    "start_time": "2021-07-05T18:08:05.006Z"
   },
   {
    "duration": 40,
    "start_time": "2021-07-05T18:08:06.112Z"
   },
   {
    "duration": 1669,
    "start_time": "2021-07-05T18:08:45.908Z"
   },
   {
    "duration": 315,
    "start_time": "2021-07-05T18:08:47.579Z"
   },
   {
    "duration": 36,
    "start_time": "2021-07-05T18:08:47.898Z"
   },
   {
    "duration": 24,
    "start_time": "2021-07-05T18:08:47.938Z"
   },
   {
    "duration": 34,
    "start_time": "2021-07-05T18:08:47.966Z"
   },
   {
    "duration": 36,
    "start_time": "2021-07-05T18:08:48.014Z"
   },
   {
    "duration": 65,
    "start_time": "2021-07-05T18:08:48.053Z"
   },
   {
    "duration": 8,
    "start_time": "2021-07-05T18:08:48.123Z"
   },
   {
    "duration": 10,
    "start_time": "2021-07-05T18:08:48.136Z"
   },
   {
    "duration": 108,
    "start_time": "2021-07-05T18:08:48.149Z"
   },
   {
    "duration": 14,
    "start_time": "2021-07-05T18:08:48.260Z"
   },
   {
    "duration": 5,
    "start_time": "2021-07-05T18:08:48.277Z"
   },
   {
    "duration": 29,
    "start_time": "2021-07-05T18:08:48.284Z"
   },
   {
    "duration": 20,
    "start_time": "2021-07-05T18:08:48.325Z"
   },
   {
    "duration": 31,
    "start_time": "2021-07-05T18:08:48.348Z"
   },
   {
    "duration": 49,
    "start_time": "2021-07-05T18:08:48.381Z"
   },
   {
    "duration": 32,
    "start_time": "2021-07-05T18:08:48.433Z"
   },
   {
    "duration": 18,
    "start_time": "2021-07-05T18:08:48.467Z"
   },
   {
    "duration": 21,
    "start_time": "2021-07-05T18:08:48.488Z"
   },
   {
    "duration": 20,
    "start_time": "2021-07-05T18:08:48.512Z"
   },
   {
    "duration": 12,
    "start_time": "2021-07-05T18:08:48.535Z"
   },
   {
    "duration": 8,
    "start_time": "2021-07-05T18:08:48.551Z"
   },
   {
    "duration": 52,
    "start_time": "2021-07-05T18:08:48.566Z"
   },
   {
    "duration": 17,
    "start_time": "2021-07-05T18:08:48.623Z"
   },
   {
    "duration": 47,
    "start_time": "2021-07-05T18:08:48.643Z"
   },
   {
    "duration": 15,
    "start_time": "2021-07-05T18:15:20.306Z"
   },
   {
    "duration": 465,
    "start_time": "2021-07-05T18:15:25.282Z"
   },
   {
    "duration": 7,
    "start_time": "2021-07-05T18:15:33.580Z"
   },
   {
    "duration": 66,
    "start_time": "2021-07-05T18:15:37.708Z"
   },
   {
    "duration": 20,
    "start_time": "2021-07-05T18:18:22.935Z"
   },
   {
    "duration": 5,
    "start_time": "2021-07-05T18:19:52.829Z"
   },
   {
    "duration": 1166,
    "start_time": "2021-07-05T18:21:04.413Z"
   },
   {
    "duration": 20,
    "start_time": "2021-07-05T18:21:09.776Z"
   },
   {
    "duration": 4,
    "start_time": "2021-07-05T18:27:12.567Z"
   },
   {
    "duration": 131,
    "start_time": "2021-07-05T18:28:58.430Z"
   },
   {
    "duration": 12,
    "start_time": "2021-07-05T18:33:23.767Z"
   },
   {
    "duration": 13,
    "start_time": "2021-07-05T18:33:28.283Z"
   },
   {
    "duration": 8,
    "start_time": "2021-07-05T18:34:04.275Z"
   },
   {
    "duration": 4,
    "start_time": "2021-07-05T18:34:37.981Z"
   },
   {
    "duration": 10,
    "start_time": "2021-07-05T18:34:42.637Z"
   },
   {
    "duration": 1263,
    "start_time": "2021-07-05T18:41:23.073Z"
   },
   {
    "duration": 859,
    "start_time": "2021-07-05T18:43:35.077Z"
   },
   {
    "duration": 1720,
    "start_time": "2021-07-05T18:43:41.589Z"
   },
   {
    "duration": 1293,
    "start_time": "2021-07-05T18:44:06.357Z"
   },
   {
    "duration": 682,
    "start_time": "2021-07-05T18:44:45.173Z"
   },
   {
    "duration": 4,
    "start_time": "2021-07-05T18:46:20.007Z"
   },
   {
    "duration": 8,
    "start_time": "2021-07-05T18:46:22.871Z"
   },
   {
    "duration": 10,
    "start_time": "2021-07-05T18:46:48.023Z"
   },
   {
    "duration": 11,
    "start_time": "2021-07-05T18:46:54.279Z"
   },
   {
    "duration": 859,
    "start_time": "2021-07-05T18:51:55.704Z"
   },
   {
    "duration": 423,
    "start_time": "2021-07-05T18:52:53.563Z"
   },
   {
    "duration": 653,
    "start_time": "2021-07-05T18:53:53.630Z"
   },
   {
    "duration": 626,
    "start_time": "2021-07-05T18:54:05.469Z"
   },
   {
    "duration": 671,
    "start_time": "2021-07-05T18:54:36.400Z"
   },
   {
    "duration": 310,
    "start_time": "2021-07-05T18:55:54.577Z"
   },
   {
    "duration": 1006,
    "start_time": "2021-07-05T18:56:59.506Z"
   },
   {
    "duration": 908,
    "start_time": "2021-07-05T18:57:09.154Z"
   },
   {
    "duration": 966,
    "start_time": "2021-07-05T22:45:22.266Z"
   },
   {
    "duration": 632,
    "start_time": "2021-07-05T22:45:57.908Z"
   },
   {
    "duration": 8,
    "start_time": "2021-07-06T07:50:40.407Z"
   },
   {
    "duration": 8,
    "start_time": "2021-07-06T07:51:02.881Z"
   },
   {
    "duration": 11,
    "start_time": "2021-07-06T07:51:25.843Z"
   },
   {
    "duration": 12,
    "start_time": "2021-07-06T07:51:38.919Z"
   },
   {
    "duration": 930,
    "start_time": "2021-07-06T07:51:59.859Z"
   },
   {
    "duration": 23,
    "start_time": "2021-07-06T07:52:10.355Z"
   },
   {
    "duration": 10,
    "start_time": "2021-07-06T07:52:26.707Z"
   },
   {
    "duration": 21,
    "start_time": "2021-07-06T07:54:16.101Z"
   },
   {
    "duration": 978,
    "start_time": "2021-07-06T08:01:58.581Z"
   },
   {
    "duration": 765,
    "start_time": "2021-07-06T08:03:16.531Z"
   },
   {
    "duration": 630,
    "start_time": "2021-07-06T08:04:04.749Z"
   },
   {
    "duration": 612,
    "start_time": "2021-07-06T08:04:22.029Z"
   },
   {
    "duration": 8348,
    "start_time": "2021-07-06T08:08:05.679Z"
   },
   {
    "duration": 320,
    "start_time": "2021-07-06T08:09:34.443Z"
   },
   {
    "duration": 6,
    "start_time": "2021-07-06T08:09:58.753Z"
   },
   {
    "duration": 6,
    "start_time": "2021-07-06T08:10:44.609Z"
   },
   {
    "duration": 10,
    "start_time": "2021-07-06T08:17:09.114Z"
   },
   {
    "duration": 177,
    "start_time": "2021-07-06T08:20:02.212Z"
   },
   {
    "duration": 367,
    "start_time": "2021-07-06T08:20:26.153Z"
   },
   {
    "duration": 893,
    "start_time": "2021-07-06T08:20:36.928Z"
   },
   {
    "duration": 8,
    "start_time": "2021-07-06T08:22:52.062Z"
   },
   {
    "duration": 1044,
    "start_time": "2021-07-06T08:22:54.060Z"
   },
   {
    "duration": 6,
    "start_time": "2021-07-06T08:28:07.134Z"
   },
   {
    "duration": 6,
    "start_time": "2021-07-06T08:28:15.296Z"
   },
   {
    "duration": 3,
    "start_time": "2021-07-06T08:28:30.512Z"
   },
   {
    "duration": 6,
    "start_time": "2021-07-06T08:28:37.138Z"
   },
   {
    "duration": 920,
    "start_time": "2021-07-06T08:28:49.314Z"
   },
   {
    "duration": 3,
    "start_time": "2021-07-06T08:29:05.858Z"
   },
   {
    "duration": 7,
    "start_time": "2021-07-06T08:29:09.202Z"
   },
   {
    "duration": 6,
    "start_time": "2021-07-06T08:29:17.634Z"
   },
   {
    "duration": 3,
    "start_time": "2021-07-06T08:29:27.762Z"
   },
   {
    "duration": 5,
    "start_time": "2021-07-06T08:29:28.898Z"
   },
   {
    "duration": 994,
    "start_time": "2021-07-06T08:29:30.498Z"
   },
   {
    "duration": 3,
    "start_time": "2021-07-06T08:29:56.098Z"
   },
   {
    "duration": 5,
    "start_time": "2021-07-06T08:30:00.818Z"
   },
   {
    "duration": 1066,
    "start_time": "2021-07-06T08:30:07.010Z"
   },
   {
    "duration": 8,
    "start_time": "2021-07-06T08:38:17.732Z"
   },
   {
    "duration": 11,
    "start_time": "2021-07-06T08:39:46.938Z"
   },
   {
    "duration": 1056,
    "start_time": "2021-07-06T08:41:27.756Z"
   },
   {
    "duration": 6,
    "start_time": "2021-07-06T08:43:16.834Z"
   },
   {
    "duration": 7,
    "start_time": "2021-07-06T08:47:04.480Z"
   },
   {
    "duration": 393,
    "start_time": "2021-07-06T09:06:17.975Z"
   },
   {
    "duration": 11,
    "start_time": "2021-07-06T09:06:27.463Z"
   },
   {
    "duration": 10,
    "start_time": "2021-07-06T09:06:46.385Z"
   },
   {
    "duration": 347,
    "start_time": "2021-07-06T09:06:52.033Z"
   },
   {
    "duration": 21,
    "start_time": "2021-07-06T09:06:56.193Z"
   },
   {
    "duration": 11,
    "start_time": "2021-07-06T09:12:22.663Z"
   },
   {
    "duration": 6,
    "start_time": "2021-07-06T09:14:30.197Z"
   },
   {
    "duration": 19,
    "start_time": "2021-07-06T09:20:18.932Z"
   },
   {
    "duration": 9,
    "start_time": "2021-07-06T09:20:52.333Z"
   },
   {
    "duration": 10,
    "start_time": "2021-07-06T09:20:56.205Z"
   },
   {
    "duration": 13,
    "start_time": "2021-07-06T09:21:04.127Z"
   },
   {
    "duration": 9,
    "start_time": "2021-07-06T09:21:20.255Z"
   },
   {
    "duration": 12,
    "start_time": "2021-07-06T09:21:24.094Z"
   },
   {
    "duration": 6,
    "start_time": "2021-07-06T09:22:17.504Z"
   },
   {
    "duration": 545,
    "start_time": "2021-07-06T09:23:10.871Z"
   },
   {
    "duration": 582,
    "start_time": "2021-07-06T09:23:40.546Z"
   },
   {
    "duration": 499,
    "start_time": "2021-07-06T09:24:28.626Z"
   },
   {
    "duration": 311,
    "start_time": "2021-07-06T09:25:42.728Z"
   },
   {
    "duration": 15,
    "start_time": "2021-07-06T09:25:49.719Z"
   },
   {
    "duration": 6,
    "start_time": "2021-07-06T09:26:08.968Z"
   },
   {
    "duration": 13,
    "start_time": "2021-07-06T09:26:13.266Z"
   },
   {
    "duration": 516,
    "start_time": "2021-07-06T09:26:22.081Z"
   },
   {
    "duration": 14,
    "start_time": "2021-07-06T09:27:35.994Z"
   },
   {
    "duration": 4,
    "start_time": "2021-07-06T09:34:38.934Z"
   },
   {
    "duration": 6,
    "start_time": "2021-07-06T09:34:43.322Z"
   },
   {
    "duration": 4,
    "start_time": "2021-07-06T09:34:51.360Z"
   },
   {
    "duration": 6,
    "start_time": "2021-07-06T09:34:52.602Z"
   },
   {
    "duration": 4,
    "start_time": "2021-07-06T09:35:33.658Z"
   },
   {
    "duration": 5,
    "start_time": "2021-07-06T09:35:34.618Z"
   },
   {
    "duration": 4,
    "start_time": "2021-07-06T09:35:40.426Z"
   },
   {
    "duration": 6,
    "start_time": "2021-07-06T09:35:41.642Z"
   },
   {
    "duration": 5,
    "start_time": "2021-07-06T09:35:46.538Z"
   },
   {
    "duration": 5,
    "start_time": "2021-07-06T09:35:47.164Z"
   },
   {
    "duration": 4,
    "start_time": "2021-07-06T09:35:59.337Z"
   },
   {
    "duration": 6,
    "start_time": "2021-07-06T09:36:00.074Z"
   },
   {
    "duration": 4,
    "start_time": "2021-07-06T09:37:15.964Z"
   },
   {
    "duration": 6,
    "start_time": "2021-07-06T09:37:16.731Z"
   },
   {
    "duration": 9,
    "start_time": "2021-07-06T09:37:39.932Z"
   },
   {
    "duration": 13,
    "start_time": "2021-07-06T09:37:43.420Z"
   },
   {
    "duration": 19,
    "start_time": "2021-07-06T09:37:55.788Z"
   },
   {
    "duration": 4,
    "start_time": "2021-07-06T09:38:30.029Z"
   },
   {
    "duration": 6,
    "start_time": "2021-07-06T09:38:31.116Z"
   },
   {
    "duration": 9,
    "start_time": "2021-07-06T09:38:37.564Z"
   },
   {
    "duration": 19,
    "start_time": "2021-07-06T09:38:38.742Z"
   },
   {
    "duration": 14,
    "start_time": "2021-07-06T09:38:42.092Z"
   },
   {
    "duration": 10,
    "start_time": "2021-07-06T09:38:54.750Z"
   },
   {
    "duration": 8,
    "start_time": "2021-07-06T09:41:44.236Z"
   },
   {
    "duration": 9,
    "start_time": "2021-07-06T09:41:52.694Z"
   },
   {
    "duration": 8,
    "start_time": "2021-07-06T09:41:55.054Z"
   },
   {
    "duration": 9,
    "start_time": "2021-07-06T09:42:13.200Z"
   },
   {
    "duration": 8974,
    "start_time": "2021-07-06T09:45:59.968Z"
   },
   {
    "duration": 429,
    "start_time": "2021-07-06T09:46:20.890Z"
   },
   {
    "duration": 745,
    "start_time": "2021-07-06T09:46:46.484Z"
   },
   {
    "duration": 10,
    "start_time": "2021-07-06T09:47:15.764Z"
   },
   {
    "duration": 20,
    "start_time": "2021-07-06T09:47:47.428Z"
   },
   {
    "duration": 42,
    "start_time": "2021-07-06T09:47:53.876Z"
   },
   {
    "duration": 21,
    "start_time": "2021-07-06T09:48:13.542Z"
   },
   {
    "duration": 6,
    "start_time": "2021-07-06T09:48:40.964Z"
   },
   {
    "duration": 10,
    "start_time": "2021-07-06T09:49:12.070Z"
   },
   {
    "duration": 4,
    "start_time": "2021-07-06T09:49:19.654Z"
   },
   {
    "duration": 9773,
    "start_time": "2021-07-06T09:49:28.806Z"
   },
   {
    "duration": 402,
    "start_time": "2021-07-06T09:49:40.214Z"
   },
   {
    "duration": 402,
    "start_time": "2021-07-06T09:50:29.622Z"
   },
   {
    "duration": 13,
    "start_time": "2021-07-06T09:50:42.104Z"
   },
   {
    "duration": 11,
    "start_time": "2021-07-06T09:51:52.104Z"
   },
   {
    "duration": 13,
    "start_time": "2021-07-06T09:52:21.278Z"
   },
   {
    "duration": 7,
    "start_time": "2021-07-06T09:53:12.648Z"
   },
   {
    "duration": 406,
    "start_time": "2021-07-06T12:10:12.778Z"
   },
   {
    "duration": 20,
    "start_time": "2021-07-06T13:26:24.084Z"
   },
   {
    "duration": 48,
    "start_time": "2021-07-06T13:31:02.888Z"
   },
   {
    "duration": 22,
    "start_time": "2021-07-06T13:31:15.794Z"
   },
   {
    "duration": 114,
    "start_time": "2021-07-06T13:31:53.874Z"
   },
   {
    "duration": 16,
    "start_time": "2021-07-06T13:31:59.298Z"
   },
   {
    "duration": 11,
    "start_time": "2021-07-06T13:32:31.826Z"
   },
   {
    "duration": 12,
    "start_time": "2021-07-06T13:32:37.538Z"
   },
   {
    "duration": 23,
    "start_time": "2021-07-06T13:41:16.221Z"
   },
   {
    "duration": 5798,
    "start_time": "2021-07-06T13:41:55.339Z"
   },
   {
    "duration": 21,
    "start_time": "2021-07-06T13:42:13.163Z"
   },
   {
    "duration": 13,
    "start_time": "2021-07-06T13:42:28.227Z"
   },
   {
    "duration": 9,
    "start_time": "2021-07-06T13:42:35.450Z"
   },
   {
    "duration": 11,
    "start_time": "2021-07-06T13:42:42.044Z"
   },
   {
    "duration": 12,
    "start_time": "2021-07-06T13:42:47.548Z"
   },
   {
    "duration": 11,
    "start_time": "2021-07-06T13:42:48.475Z"
   },
   {
    "duration": 12,
    "start_time": "2021-07-06T13:43:15.292Z"
   },
   {
    "duration": 13,
    "start_time": "2021-07-06T13:43:16.653Z"
   },
   {
    "duration": 8,
    "start_time": "2021-07-06T13:44:42.172Z"
   },
   {
    "duration": 10,
    "start_time": "2021-07-06T13:44:49.436Z"
   },
   {
    "duration": 13,
    "start_time": "2021-07-06T13:49:33.603Z"
   },
   {
    "duration": 10,
    "start_time": "2021-07-06T13:49:41.571Z"
   },
   {
    "duration": 12,
    "start_time": "2021-07-06T13:50:09.571Z"
   },
   {
    "duration": 11,
    "start_time": "2021-07-06T13:50:22.265Z"
   },
   {
    "duration": 8,
    "start_time": "2021-07-06T13:51:04.995Z"
   },
   {
    "duration": 41,
    "start_time": "2021-07-06T13:52:06.265Z"
   },
   {
    "duration": 11,
    "start_time": "2021-07-06T13:52:13.731Z"
   },
   {
    "duration": 9,
    "start_time": "2021-07-06T13:54:07.773Z"
   },
   {
    "duration": 11,
    "start_time": "2021-07-06T13:54:11.701Z"
   },
   {
    "duration": 8,
    "start_time": "2021-07-06T13:54:21.445Z"
   },
   {
    "duration": 9,
    "start_time": "2021-07-06T13:54:55.781Z"
   },
   {
    "duration": 7,
    "start_time": "2021-07-06T13:55:09.223Z"
   },
   {
    "duration": 14,
    "start_time": "2021-07-06T13:55:11.238Z"
   },
   {
    "duration": 11,
    "start_time": "2021-07-06T13:55:21.559Z"
   },
   {
    "duration": 11,
    "start_time": "2021-07-06T13:55:26.391Z"
   },
   {
    "duration": 5,
    "start_time": "2021-07-06T13:56:38.078Z"
   },
   {
    "duration": 5,
    "start_time": "2021-07-06T13:56:42.839Z"
   },
   {
    "duration": 9,
    "start_time": "2021-07-06T13:59:35.361Z"
   },
   {
    "duration": 9,
    "start_time": "2021-07-06T14:00:36.007Z"
   },
   {
    "duration": 11,
    "start_time": "2021-07-06T14:00:51.627Z"
   },
   {
    "duration": 4,
    "start_time": "2021-07-06T14:01:03.937Z"
   },
   {
    "duration": 450,
    "start_time": "2021-07-06T14:03:33.529Z"
   },
   {
    "duration": 5,
    "start_time": "2021-07-06T14:09:34.206Z"
   },
   {
    "duration": 52,
    "start_time": "2021-07-06T14:09:38.404Z"
   },
   {
    "duration": 13,
    "start_time": "2021-07-06T14:09:53.673Z"
   },
   {
    "duration": 7,
    "start_time": "2021-07-06T14:10:07.316Z"
   },
   {
    "duration": 32,
    "start_time": "2021-07-06T14:10:10.275Z"
   },
   {
    "duration": 341,
    "start_time": "2021-07-06T14:10:52.436Z"
   },
   {
    "duration": 8,
    "start_time": "2021-07-06T14:15:52.504Z"
   },
   {
    "duration": 98,
    "start_time": "2021-07-06T14:17:23.381Z"
   },
   {
    "duration": 15,
    "start_time": "2021-07-06T14:19:53.564Z"
   },
   {
    "duration": 7,
    "start_time": "2021-07-06T14:20:33.570Z"
   },
   {
    "duration": 5,
    "start_time": "2021-07-06T14:20:42.494Z"
   },
   {
    "duration": 37,
    "start_time": "2021-07-06T14:21:04.366Z"
   },
   {
    "duration": 16,
    "start_time": "2021-07-06T14:24:06.615Z"
   },
   {
    "duration": 11,
    "start_time": "2021-07-06T14:24:11.120Z"
   },
   {
    "duration": 36,
    "start_time": "2021-07-06T14:24:56.288Z"
   },
   {
    "duration": 34,
    "start_time": "2021-07-06T14:25:31.478Z"
   },
   {
    "duration": 323,
    "start_time": "2021-07-06T14:28:38.282Z"
   },
   {
    "duration": 14,
    "start_time": "2021-07-06T14:28:46.050Z"
   },
   {
    "duration": 38,
    "start_time": "2021-07-06T14:29:28.196Z"
   },
   {
    "duration": 35,
    "start_time": "2021-07-06T14:31:29.124Z"
   },
   {
    "duration": 45,
    "start_time": "2021-07-06T14:32:40.742Z"
   },
   {
    "duration": 14,
    "start_time": "2021-07-06T14:33:05.678Z"
   },
   {
    "duration": 14,
    "start_time": "2021-07-06T14:33:15.319Z"
   },
   {
    "duration": 12,
    "start_time": "2021-07-06T14:34:05.560Z"
   },
   {
    "duration": 16,
    "start_time": "2021-07-06T14:34:36.463Z"
   },
   {
    "duration": 16,
    "start_time": "2021-07-06T14:34:44.782Z"
   },
   {
    "duration": 16,
    "start_time": "2021-07-06T14:34:51.353Z"
   },
   {
    "duration": 15,
    "start_time": "2021-07-06T14:36:26.024Z"
   },
   {
    "duration": 3,
    "start_time": "2021-07-06T14:39:15.173Z"
   },
   {
    "duration": 108,
    "start_time": "2021-07-06T14:39:40.652Z"
   },
   {
    "duration": 14,
    "start_time": "2021-07-06T14:39:53.261Z"
   },
   {
    "duration": 16,
    "start_time": "2021-07-06T14:40:24.764Z"
   },
   {
    "duration": 11,
    "start_time": "2021-07-06T14:40:31.692Z"
   },
   {
    "duration": 398,
    "start_time": "2021-07-06T14:41:43.677Z"
   },
   {
    "duration": 417,
    "start_time": "2021-07-06T14:42:08.943Z"
   },
   {
    "duration": 6,
    "start_time": "2021-07-06T14:51:10.925Z"
   },
   {
    "duration": 7,
    "start_time": "2021-07-06T15:01:28.938Z"
   },
   {
    "duration": 10,
    "start_time": "2021-07-06T15:01:31.998Z"
   },
   {
    "duration": 10,
    "start_time": "2021-07-06T15:01:46.063Z"
   },
   {
    "duration": 359,
    "start_time": "2021-07-06T15:02:46.561Z"
   },
   {
    "duration": 9,
    "start_time": "2021-07-06T15:02:59.152Z"
   },
   {
    "duration": 10,
    "start_time": "2021-07-06T15:03:02.703Z"
   },
   {
    "duration": 8,
    "start_time": "2021-07-06T15:03:08.313Z"
   },
   {
    "duration": 10,
    "start_time": "2021-07-06T15:03:28.305Z"
   },
   {
    "duration": 10,
    "start_time": "2021-07-06T15:03:33.664Z"
   },
   {
    "duration": 12,
    "start_time": "2021-07-06T15:03:40.017Z"
   },
   {
    "duration": 5,
    "start_time": "2021-07-06T15:03:59.169Z"
   },
   {
    "duration": 12,
    "start_time": "2021-07-06T15:04:01.217Z"
   },
   {
    "duration": 6,
    "start_time": "2021-07-06T15:05:11.441Z"
   },
   {
    "duration": 13,
    "start_time": "2021-07-06T15:05:12.930Z"
   },
   {
    "duration": 6,
    "start_time": "2021-07-06T15:05:17.248Z"
   },
   {
    "duration": 13,
    "start_time": "2021-07-06T15:05:18.705Z"
   },
   {
    "duration": 9,
    "start_time": "2021-07-06T15:05:23.937Z"
   },
   {
    "duration": 5,
    "start_time": "2021-07-06T15:05:44.323Z"
   },
   {
    "duration": 11,
    "start_time": "2021-07-06T15:05:49.123Z"
   },
   {
    "duration": 9,
    "start_time": "2021-07-06T15:07:04.123Z"
   },
   {
    "duration": 9,
    "start_time": "2021-07-06T15:07:21.123Z"
   },
   {
    "duration": 5,
    "start_time": "2021-07-06T15:07:22.547Z"
   },
   {
    "duration": 10,
    "start_time": "2021-07-06T15:07:27.619Z"
   },
   {
    "duration": 8,
    "start_time": "2021-07-06T15:07:30.947Z"
   },
   {
    "duration": 6,
    "start_time": "2021-07-06T15:07:46.853Z"
   },
   {
    "duration": 9,
    "start_time": "2021-07-06T15:07:50.278Z"
   },
   {
    "duration": 8,
    "start_time": "2021-07-06T15:09:00.845Z"
   },
   {
    "duration": 10,
    "start_time": "2021-07-06T15:09:21.174Z"
   },
   {
    "duration": 5,
    "start_time": "2021-07-06T15:09:44.853Z"
   },
   {
    "duration": 9,
    "start_time": "2021-07-06T15:09:45.509Z"
   },
   {
    "duration": 5,
    "start_time": "2021-07-06T15:09:48.517Z"
   },
   {
    "duration": 10,
    "start_time": "2021-07-06T15:09:49.237Z"
   },
   {
    "duration": 4,
    "start_time": "2021-07-06T15:10:13.159Z"
   },
   {
    "duration": 9,
    "start_time": "2021-07-06T15:10:14.663Z"
   },
   {
    "duration": 4,
    "start_time": "2021-07-06T15:10:28.455Z"
   },
   {
    "duration": 11,
    "start_time": "2021-07-06T15:10:29.510Z"
   },
   {
    "duration": 5,
    "start_time": "2021-07-06T15:11:06.967Z"
   },
   {
    "duration": 11,
    "start_time": "2021-07-06T15:11:09.479Z"
   },
   {
    "duration": 9,
    "start_time": "2021-07-06T15:11:17.911Z"
   },
   {
    "duration": 12,
    "start_time": "2021-07-06T15:11:22.279Z"
   },
   {
    "duration": 13,
    "start_time": "2021-07-06T15:11:24.551Z"
   },
   {
    "duration": 11,
    "start_time": "2021-07-06T15:12:19.735Z"
   },
   {
    "duration": 13,
    "start_time": "2021-07-06T15:12:32.089Z"
   },
   {
    "duration": 10,
    "start_time": "2021-07-06T15:12:42.857Z"
   },
   {
    "duration": 14,
    "start_time": "2021-07-06T15:13:11.657Z"
   },
   {
    "duration": 5,
    "start_time": "2021-07-06T15:13:24.665Z"
   },
   {
    "duration": 13,
    "start_time": "2021-07-06T15:13:29.338Z"
   },
   {
    "duration": 6,
    "start_time": "2021-07-06T15:13:36.585Z"
   },
   {
    "duration": 13,
    "start_time": "2021-07-06T15:13:38.297Z"
   },
   {
    "duration": 6,
    "start_time": "2021-07-06T15:13:43.144Z"
   },
   {
    "duration": 13,
    "start_time": "2021-07-06T15:13:44.617Z"
   },
   {
    "duration": 6,
    "start_time": "2021-07-06T19:48:49.888Z"
   },
   {
    "duration": 14,
    "start_time": "2021-07-06T19:48:54.594Z"
   },
   {
    "duration": 17,
    "start_time": "2021-07-06T19:49:49.125Z"
   },
   {
    "duration": 18,
    "start_time": "2021-07-06T19:52:45.319Z"
   },
   {
    "duration": 12,
    "start_time": "2021-07-06T19:52:57.894Z"
   },
   {
    "duration": 13,
    "start_time": "2021-07-06T19:56:07.707Z"
   },
   {
    "duration": 13,
    "start_time": "2021-07-06T19:56:18.633Z"
   },
   {
    "duration": 317,
    "start_time": "2021-07-06T20:03:50.097Z"
   },
   {
    "duration": 24,
    "start_time": "2021-07-06T20:03:54.837Z"
   },
   {
    "duration": 9,
    "start_time": "2021-07-06T20:05:27.618Z"
   },
   {
    "duration": 9,
    "start_time": "2021-07-06T20:05:53.937Z"
   },
   {
    "duration": 9,
    "start_time": "2021-07-06T20:08:00.095Z"
   },
   {
    "duration": 10,
    "start_time": "2021-07-06T20:09:50.486Z"
   },
   {
    "duration": 5,
    "start_time": "2021-07-06T20:10:10.934Z"
   },
   {
    "duration": 5,
    "start_time": "2021-07-06T20:10:18.246Z"
   },
   {
    "duration": 9,
    "start_time": "2021-07-06T22:14:55.129Z"
   },
   {
    "duration": 5,
    "start_time": "2021-07-06T22:15:09.902Z"
   },
   {
    "duration": 33,
    "start_time": "2021-07-07T08:12:54.548Z"
   },
   {
    "duration": 13,
    "start_time": "2021-07-07T08:14:54.634Z"
   },
   {
    "duration": 12,
    "start_time": "2021-07-07T08:25:38.875Z"
   },
   {
    "duration": 15,
    "start_time": "2021-07-07T08:25:42.933Z"
   },
   {
    "duration": 25,
    "start_time": "2021-07-07T08:25:58.757Z"
   },
   {
    "duration": 298,
    "start_time": "2021-07-07T08:28:47.843Z"
   },
   {
    "duration": 10,
    "start_time": "2021-07-07T08:28:52.613Z"
   },
   {
    "duration": 8,
    "start_time": "2021-07-07T08:30:23.769Z"
   },
   {
    "duration": 10,
    "start_time": "2021-07-07T08:30:27.542Z"
   },
   {
    "duration": 7,
    "start_time": "2021-07-07T08:30:31.783Z"
   },
   {
    "duration": 10,
    "start_time": "2021-07-07T08:30:40.041Z"
   },
   {
    "duration": 8,
    "start_time": "2021-07-07T08:30:51.847Z"
   },
   {
    "duration": 10,
    "start_time": "2021-07-07T08:30:53.225Z"
   },
   {
    "duration": 10,
    "start_time": "2021-07-07T08:31:17.289Z"
   },
   {
    "duration": 10,
    "start_time": "2021-07-07T08:31:28.297Z"
   },
   {
    "duration": 10,
    "start_time": "2021-07-07T08:31:29.465Z"
   },
   {
    "duration": 10,
    "start_time": "2021-07-07T08:31:49.849Z"
   },
   {
    "duration": 11,
    "start_time": "2021-07-07T08:31:50.793Z"
   },
   {
    "duration": 11,
    "start_time": "2021-07-07T08:31:55.785Z"
   },
   {
    "duration": 11,
    "start_time": "2021-07-07T08:31:59.817Z"
   },
   {
    "duration": 15,
    "start_time": "2021-07-07T08:32:10.138Z"
   },
   {
    "duration": 11,
    "start_time": "2021-07-07T08:32:15.417Z"
   },
   {
    "duration": 10,
    "start_time": "2021-07-07T08:32:30.138Z"
   },
   {
    "duration": 4,
    "start_time": "2021-07-07T08:32:43.977Z"
   },
   {
    "duration": 11,
    "start_time": "2021-07-07T08:32:47.323Z"
   },
   {
    "duration": 10,
    "start_time": "2021-07-07T08:33:37.707Z"
   },
   {
    "duration": 4,
    "start_time": "2021-07-07T08:43:09.599Z"
   },
   {
    "duration": 6,
    "start_time": "2021-07-07T08:43:13.011Z"
   },
   {
    "duration": 9,
    "start_time": "2021-07-07T08:43:22.209Z"
   },
   {
    "duration": 7,
    "start_time": "2021-07-07T08:49:19.076Z"
   },
   {
    "duration": 1217,
    "start_time": "2021-07-07T08:49:33.593Z"
   },
   {
    "duration": 11,
    "start_time": "2021-07-07T08:53:14.572Z"
   },
   {
    "duration": 9,
    "start_time": "2021-07-07T08:53:19.020Z"
   },
   {
    "duration": 11,
    "start_time": "2021-07-07T08:53:35.468Z"
   },
   {
    "duration": 10,
    "start_time": "2021-07-07T08:53:36.459Z"
   },
   {
    "duration": 11,
    "start_time": "2021-07-07T08:53:45.035Z"
   },
   {
    "duration": 10,
    "start_time": "2021-07-07T08:53:46.109Z"
   },
   {
    "duration": 11,
    "start_time": "2021-07-07T08:53:53.328Z"
   },
   {
    "duration": 9,
    "start_time": "2021-07-07T08:53:54.046Z"
   },
   {
    "duration": 11,
    "start_time": "2021-07-07T08:54:01.468Z"
   },
   {
    "duration": 8,
    "start_time": "2021-07-07T08:54:02.318Z"
   },
   {
    "duration": 10,
    "start_time": "2021-07-07T08:56:34.910Z"
   },
   {
    "duration": 11,
    "start_time": "2021-07-07T08:56:49.710Z"
   },
   {
    "duration": 8,
    "start_time": "2021-07-07T08:56:51.054Z"
   },
   {
    "duration": 11,
    "start_time": "2021-07-07T08:57:16.579Z"
   },
   {
    "duration": 8,
    "start_time": "2021-07-07T08:57:16.862Z"
   },
   {
    "duration": 12,
    "start_time": "2021-07-07T09:06:43.502Z"
   },
   {
    "duration": 9,
    "start_time": "2021-07-07T09:06:46.710Z"
   },
   {
    "duration": 7,
    "start_time": "2021-07-07T09:17:40.582Z"
   },
   {
    "duration": 11,
    "start_time": "2021-07-07T09:17:47.072Z"
   },
   {
    "duration": 12,
    "start_time": "2021-07-07T09:19:05.222Z"
   },
   {
    "duration": 10,
    "start_time": "2021-07-07T09:19:06.419Z"
   },
   {
    "duration": 10078,
    "start_time": "2021-07-07T09:24:12.108Z"
   },
   {
    "duration": 3,
    "start_time": "2021-07-07T09:26:58.857Z"
   },
   {
    "duration": 5,
    "start_time": "2021-07-07T09:27:06.904Z"
   },
   {
    "duration": 9,
    "start_time": "2021-07-07T09:30:36.746Z"
   },
   {
    "duration": 11,
    "start_time": "2021-07-07T09:31:19.837Z"
   },
   {
    "duration": 11,
    "start_time": "2021-07-07T09:31:25.197Z"
   },
   {
    "duration": 4,
    "start_time": "2021-07-07T09:31:35.869Z"
   },
   {
    "duration": 10,
    "start_time": "2021-07-07T09:31:36.876Z"
   },
   {
    "duration": 4,
    "start_time": "2021-07-07T09:32:54.125Z"
   },
   {
    "duration": 5,
    "start_time": "2021-07-07T09:32:57.165Z"
   },
   {
    "duration": 10,
    "start_time": "2021-07-07T09:34:15.903Z"
   },
   {
    "duration": 12,
    "start_time": "2021-07-07T09:35:58.849Z"
   },
   {
    "duration": 10,
    "start_time": "2021-07-07T09:36:00.561Z"
   },
   {
    "duration": 9015,
    "start_time": "2021-07-07T09:37:17.880Z"
   },
   {
    "duration": 187,
    "start_time": "2021-07-07T09:37:26.710Z"
   },
   {
    "duration": 12,
    "start_time": "2021-07-07T09:37:48.913Z"
   },
   {
    "duration": 10,
    "start_time": "2021-07-07T09:37:55.136Z"
   },
   {
    "duration": 8621,
    "start_time": "2021-07-07T09:38:20.785Z"
   },
   {
    "duration": 10,
    "start_time": "2021-07-07T09:38:38.519Z"
   },
   {
    "duration": 8,
    "start_time": "2021-07-07T09:38:43.057Z"
   },
   {
    "duration": 10,
    "start_time": "2021-07-07T09:38:56.659Z"
   },
   {
    "duration": 12,
    "start_time": "2021-07-07T09:39:12.515Z"
   },
   {
    "duration": 12,
    "start_time": "2021-07-07T09:39:16.603Z"
   },
   {
    "duration": 8,
    "start_time": "2021-07-07T09:39:19.891Z"
   },
   {
    "duration": 10,
    "start_time": "2021-07-07T09:39:24.323Z"
   },
   {
    "duration": 369,
    "start_time": "2021-07-07T09:39:27.955Z"
   },
   {
    "duration": 425,
    "start_time": "2021-07-07T09:39:31.347Z"
   },
   {
    "duration": 374,
    "start_time": "2021-07-07T09:40:55.001Z"
   },
   {
    "duration": 1936,
    "start_time": "2021-07-07T09:42:11.074Z"
   },
   {
    "duration": 10,
    "start_time": "2021-07-07T09:45:34.284Z"
   },
   {
    "duration": 35,
    "start_time": "2021-07-07T09:46:19.869Z"
   },
   {
    "duration": 11,
    "start_time": "2021-07-07T09:47:08.955Z"
   },
   {
    "duration": 10,
    "start_time": "2021-07-07T09:47:10.315Z"
   },
   {
    "duration": 10,
    "start_time": "2021-07-07T09:47:53.483Z"
   },
   {
    "duration": 10,
    "start_time": "2021-07-07T09:48:04.907Z"
   },
   {
    "duration": 11,
    "start_time": "2021-07-07T09:48:09.452Z"
   },
   {
    "duration": 4,
    "start_time": "2021-07-07T09:48:25.165Z"
   },
   {
    "duration": 440,
    "start_time": "2021-07-07T09:48:28.685Z"
   },
   {
    "duration": 5,
    "start_time": "2021-07-07T09:48:31.931Z"
   },
   {
    "duration": 3127,
    "start_time": "2021-07-07T09:48:43.004Z"
   },
   {
    "duration": 11,
    "start_time": "2021-07-07T09:50:22.370Z"
   },
   {
    "duration": 11,
    "start_time": "2021-07-07T10:02:36.935Z"
   },
   {
    "duration": 13,
    "start_time": "2021-07-07T10:21:07.196Z"
   },
   {
    "duration": 10,
    "start_time": "2021-07-07T10:21:07.990Z"
   },
   {
    "duration": 9,
    "start_time": "2021-07-07T13:10:33.923Z"
   },
   {
    "duration": 8,
    "start_time": "2021-07-07T13:10:43.318Z"
   },
   {
    "duration": 14,
    "start_time": "2021-07-07T13:12:33.151Z"
   },
   {
    "duration": 10,
    "start_time": "2021-07-07T13:12:41.815Z"
   },
   {
    "duration": 21,
    "start_time": "2021-07-07T13:13:31.408Z"
   },
   {
    "duration": 137,
    "start_time": "2021-07-07T13:14:25.609Z"
   },
   {
    "duration": 10,
    "start_time": "2021-07-07T13:14:26.825Z"
   },
   {
    "duration": 9,
    "start_time": "2021-07-07T13:14:41.369Z"
   },
   {
    "duration": 13,
    "start_time": "2021-07-07T13:15:34.347Z"
   },
   {
    "duration": 8,
    "start_time": "2021-07-07T13:15:35.451Z"
   },
   {
    "duration": 9,
    "start_time": "2021-07-07T13:15:37.275Z"
   },
   {
    "duration": 15,
    "start_time": "2021-07-07T13:15:59.307Z"
   },
   {
    "duration": 9,
    "start_time": "2021-07-07T13:16:00.059Z"
   },
   {
    "duration": 442,
    "start_time": "2021-07-07T13:16:16.691Z"
   },
   {
    "duration": 23,
    "start_time": "2021-07-07T13:21:51.273Z"
   },
   {
    "duration": 14,
    "start_time": "2021-07-07T13:22:05.253Z"
   },
   {
    "duration": 11,
    "start_time": "2021-07-07T13:22:08.879Z"
   },
   {
    "duration": 275,
    "start_time": "2021-07-07T13:22:51.663Z"
   },
   {
    "duration": 365,
    "start_time": "2021-07-07T13:22:56.609Z"
   },
   {
    "duration": 9,
    "start_time": "2021-07-07T13:26:19.811Z"
   },
   {
    "duration": 10555,
    "start_time": "2021-07-07T13:26:51.833Z"
   },
   {
    "duration": 305,
    "start_time": "2021-07-07T13:27:04.839Z"
   },
   {
    "duration": 591,
    "start_time": "2021-07-07T13:28:40.709Z"
   },
   {
    "duration": 293,
    "start_time": "2021-07-07T13:30:33.479Z"
   },
   {
    "duration": 309,
    "start_time": "2021-07-07T13:31:00.103Z"
   },
   {
    "duration": 433,
    "start_time": "2021-07-07T13:33:10.569Z"
   },
   {
    "duration": 11,
    "start_time": "2021-07-07T13:33:12.375Z"
   },
   {
    "duration": 7,
    "start_time": "2021-07-07T13:33:32.105Z"
   },
   {
    "duration": 6,
    "start_time": "2021-07-07T13:33:36.649Z"
   },
   {
    "duration": 10,
    "start_time": "2021-07-07T13:33:49.065Z"
   },
   {
    "duration": 415,
    "start_time": "2021-07-07T13:34:42.574Z"
   },
   {
    "duration": 12033,
    "start_time": "2021-07-07T13:35:08.909Z"
   },
   {
    "duration": 478,
    "start_time": "2021-07-07T13:36:16.475Z"
   },
   {
    "duration": 622,
    "start_time": "2021-07-07T13:36:44.075Z"
   },
   {
    "duration": 11,
    "start_time": "2021-07-07T13:39:25.508Z"
   },
   {
    "duration": 10,
    "start_time": "2021-07-07T13:42:25.000Z"
   },
   {
    "duration": 10,
    "start_time": "2021-07-07T13:45:48.128Z"
   },
   {
    "duration": 9,
    "start_time": "2021-07-07T13:46:15.204Z"
   },
   {
    "duration": 9,
    "start_time": "2021-07-07T13:46:16.212Z"
   },
   {
    "duration": 9,
    "start_time": "2021-07-07T13:53:02.496Z"
   },
   {
    "duration": 11,
    "start_time": "2021-07-07T13:53:07.450Z"
   },
   {
    "duration": 9,
    "start_time": "2021-07-07T13:53:10.570Z"
   },
   {
    "duration": 11,
    "start_time": "2021-07-07T13:55:23.486Z"
   },
   {
    "duration": 9,
    "start_time": "2021-07-07T13:55:25.132Z"
   },
   {
    "duration": 10,
    "start_time": "2021-07-07T13:55:26.492Z"
   },
   {
    "duration": 34,
    "start_time": "2021-07-07T14:00:44.560Z"
   },
   {
    "duration": 27,
    "start_time": "2021-07-07T14:01:08.870Z"
   },
   {
    "duration": 12,
    "start_time": "2021-07-07T14:01:12.368Z"
   },
   {
    "duration": 54,
    "start_time": "2021-07-07T14:01:40.578Z"
   },
   {
    "duration": 111,
    "start_time": "2021-07-07T14:02:17.506Z"
   },
   {
    "duration": 37,
    "start_time": "2021-07-07T14:02:26.306Z"
   },
   {
    "duration": 9,
    "start_time": "2021-07-07T14:03:26.978Z"
   },
   {
    "duration": 31,
    "start_time": "2021-07-07T14:03:44.388Z"
   },
   {
    "duration": 384,
    "start_time": "2021-07-07T14:07:01.192Z"
   },
   {
    "duration": 32,
    "start_time": "2021-07-07T14:08:08.008Z"
   },
   {
    "duration": 974,
    "start_time": "2021-07-07T14:08:14.791Z"
   },
   {
    "duration": 344,
    "start_time": "2021-07-07T14:08:35.592Z"
   },
   {
    "duration": 347,
    "start_time": "2021-07-07T14:09:01.784Z"
   },
   {
    "duration": 10,
    "start_time": "2021-07-07T14:09:37.497Z"
   },
   {
    "duration": 5,
    "start_time": "2021-07-07T14:09:40.792Z"
   },
   {
    "duration": 422,
    "start_time": "2021-07-07T14:09:44.777Z"
   },
   {
    "duration": 17,
    "start_time": "2021-07-07T14:10:12.408Z"
   },
   {
    "duration": 34,
    "start_time": "2021-07-07T14:10:44.600Z"
   },
   {
    "duration": 370,
    "start_time": "2021-07-07T14:11:03.419Z"
   },
   {
    "duration": 17,
    "start_time": "2021-07-07T14:11:08.888Z"
   },
   {
    "duration": 5,
    "start_time": "2021-07-07T14:11:33.147Z"
   },
   {
    "duration": 14,
    "start_time": "2021-07-07T14:11:57.432Z"
   },
   {
    "duration": 5,
    "start_time": "2021-07-07T14:12:07.656Z"
   },
   {
    "duration": 414,
    "start_time": "2021-07-07T14:13:12.314Z"
   },
   {
    "duration": 379,
    "start_time": "2021-07-07T14:13:18.443Z"
   },
   {
    "duration": 440,
    "start_time": "2021-07-07T14:13:27.467Z"
   },
   {
    "duration": 1556,
    "start_time": "2021-07-07T14:14:38.477Z"
   },
   {
    "duration": 20,
    "start_time": "2021-07-07T14:15:07.740Z"
   },
   {
    "duration": 9,
    "start_time": "2021-07-07T14:15:18.141Z"
   },
   {
    "duration": 10,
    "start_time": "2021-07-07T14:15:34.012Z"
   },
   {
    "duration": 5,
    "start_time": "2021-07-07T14:15:51.772Z"
   },
   {
    "duration": 429,
    "start_time": "2021-07-07T14:15:58.397Z"
   },
   {
    "duration": 17,
    "start_time": "2021-07-07T14:16:13.662Z"
   },
   {
    "duration": 19,
    "start_time": "2021-07-07T14:16:24.142Z"
   },
   {
    "duration": 22,
    "start_time": "2021-07-07T14:24:40.241Z"
   },
   {
    "duration": 324,
    "start_time": "2021-07-07T14:27:29.827Z"
   },
   {
    "duration": 133,
    "start_time": "2021-07-07T14:27:40.173Z"
   },
   {
    "duration": 3510,
    "start_time": "2021-07-07T14:27:41.958Z"
   },
   {
    "duration": 17,
    "start_time": "2021-07-07T14:27:48.711Z"
   },
   {
    "duration": 5,
    "start_time": "2021-07-07T17:24:12.502Z"
   },
   {
    "duration": 453,
    "start_time": "2021-07-07T17:24:35.662Z"
   },
   {
    "duration": 5,
    "start_time": "2021-07-07T17:25:06.808Z"
   },
   {
    "duration": 442,
    "start_time": "2021-07-07T17:25:08.382Z"
   },
   {
    "duration": 462,
    "start_time": "2021-07-07T17:25:17.069Z"
   },
   {
    "duration": 5,
    "start_time": "2021-07-07T17:25:21.534Z"
   },
   {
    "duration": 420,
    "start_time": "2021-07-07T17:25:22.446Z"
   },
   {
    "duration": 5,
    "start_time": "2021-07-07T17:25:44.946Z"
   },
   {
    "duration": 465,
    "start_time": "2021-07-07T17:25:45.872Z"
   },
   {
    "duration": 6,
    "start_time": "2021-07-07T17:25:55.746Z"
   },
   {
    "duration": 425,
    "start_time": "2021-07-07T17:25:56.622Z"
   },
   {
    "duration": 5,
    "start_time": "2021-07-07T17:27:00.196Z"
   },
   {
    "duration": 458,
    "start_time": "2021-07-07T17:27:01.392Z"
   },
   {
    "duration": 5,
    "start_time": "2021-07-07T17:28:03.314Z"
   },
   {
    "duration": 439,
    "start_time": "2021-07-07T17:28:04.352Z"
   },
   {
    "duration": 405,
    "start_time": "2021-07-07T17:28:22.961Z"
   },
   {
    "duration": 407,
    "start_time": "2021-07-07T17:28:25.282Z"
   },
   {
    "duration": 340,
    "start_time": "2021-07-07T17:29:41.922Z"
   },
   {
    "duration": 120,
    "start_time": "2021-07-07T17:30:56.844Z"
   },
   {
    "duration": 5,
    "start_time": "2021-07-07T17:31:07.846Z"
   },
   {
    "duration": 407,
    "start_time": "2021-07-07T17:31:09.046Z"
   },
   {
    "duration": 139,
    "start_time": "2021-07-07T17:31:19.974Z"
   },
   {
    "duration": 5,
    "start_time": "2021-07-07T17:32:08.374Z"
   },
   {
    "duration": 452,
    "start_time": "2021-07-07T17:32:09.460Z"
   },
   {
    "duration": 5,
    "start_time": "2021-07-07T17:32:50.086Z"
   },
   {
    "duration": 952,
    "start_time": "2021-07-07T17:32:51.348Z"
   },
   {
    "duration": 6,
    "start_time": "2021-07-07T17:33:03.606Z"
   },
   {
    "duration": 713,
    "start_time": "2021-07-07T17:33:05.029Z"
   },
   {
    "duration": 5,
    "start_time": "2021-07-07T17:33:24.823Z"
   },
   {
    "duration": 473,
    "start_time": "2021-07-07T17:33:25.974Z"
   },
   {
    "duration": 7,
    "start_time": "2021-07-07T17:35:53.862Z"
   },
   {
    "duration": 476,
    "start_time": "2021-07-07T17:36:20.888Z"
   },
   {
    "duration": 484,
    "start_time": "2021-07-07T17:37:48.378Z"
   },
   {
    "duration": 516,
    "start_time": "2021-07-07T17:38:56.576Z"
   },
   {
    "duration": 412,
    "start_time": "2021-07-07T17:39:42.634Z"
   },
   {
    "duration": 396,
    "start_time": "2021-07-07T17:41:03.429Z"
   },
   {
    "duration": 427,
    "start_time": "2021-07-07T17:41:54.115Z"
   },
   {
    "duration": 7,
    "start_time": "2021-07-07T17:59:54.665Z"
   },
   {
    "duration": 149,
    "start_time": "2021-07-07T18:05:33.895Z"
   },
   {
    "duration": 9,
    "start_time": "2021-07-07T18:06:02.305Z"
   },
   {
    "duration": 9,
    "start_time": "2021-07-07T18:06:06.145Z"
   },
   {
    "duration": 8,
    "start_time": "2021-07-07T18:06:17.539Z"
   },
   {
    "duration": 10,
    "start_time": "2021-07-07T18:06:18.519Z"
   },
   {
    "duration": 9,
    "start_time": "2021-07-07T18:06:41.441Z"
   },
   {
    "duration": 10,
    "start_time": "2021-07-07T18:06:42.369Z"
   },
   {
    "duration": 15,
    "start_time": "2021-07-07T18:11:50.755Z"
   },
   {
    "duration": 11,
    "start_time": "2021-07-07T18:11:53.624Z"
   },
   {
    "duration": 5,
    "start_time": "2021-07-07T18:12:55.912Z"
   },
   {
    "duration": 10,
    "start_time": "2021-07-07T18:13:03.561Z"
   },
   {
    "duration": 465,
    "start_time": "2021-07-07T18:15:47.097Z"
   },
   {
    "duration": 14,
    "start_time": "2021-07-07T18:19:26.106Z"
   },
   {
    "duration": 384,
    "start_time": "2021-07-07T18:19:37.172Z"
   },
   {
    "duration": 467,
    "start_time": "2021-07-07T18:19:49.981Z"
   },
   {
    "duration": 11,
    "start_time": "2021-07-07T18:20:30.854Z"
   },
   {
    "duration": 7,
    "start_time": "2021-07-07T18:20:46.112Z"
   },
   {
    "duration": 377,
    "start_time": "2021-07-07T18:20:47.247Z"
   },
   {
    "duration": 5,
    "start_time": "2021-07-07T18:21:17.089Z"
   },
   {
    "duration": 389,
    "start_time": "2021-07-07T18:21:18.020Z"
   },
   {
    "duration": 371,
    "start_time": "2021-07-07T18:21:24.845Z"
   },
   {
    "duration": 9,
    "start_time": "2021-07-07T18:31:34.296Z"
   },
   {
    "duration": 13,
    "start_time": "2021-07-07T18:31:37.706Z"
   },
   {
    "duration": 12,
    "start_time": "2021-07-07T18:32:14.632Z"
   },
   {
    "duration": 13,
    "start_time": "2021-07-07T18:33:28.617Z"
   },
   {
    "duration": 5,
    "start_time": "2021-07-07T18:33:35.657Z"
   },
   {
    "duration": 407,
    "start_time": "2021-07-07T18:34:50.428Z"
   },
   {
    "duration": 10,
    "start_time": "2021-07-07T18:38:33.588Z"
   },
   {
    "duration": 14,
    "start_time": "2021-07-07T18:38:45.346Z"
   },
   {
    "duration": 11,
    "start_time": "2021-07-07T18:38:52.366Z"
   },
   {
    "duration": 10,
    "start_time": "2021-07-07T18:38:58.558Z"
   },
   {
    "duration": 9,
    "start_time": "2021-07-07T18:39:28.318Z"
   },
   {
    "duration": 12,
    "start_time": "2021-07-07T18:41:27.616Z"
   },
   {
    "duration": 7,
    "start_time": "2021-07-07T18:44:09.416Z"
   },
   {
    "duration": 382,
    "start_time": "2021-07-07T18:44:11.362Z"
   },
   {
    "duration": 13,
    "start_time": "2021-07-07T18:44:15.642Z"
   },
   {
    "duration": 6,
    "start_time": "2021-07-07T18:44:22.292Z"
   },
   {
    "duration": 13,
    "start_time": "2021-07-07T18:44:25.026Z"
   },
   {
    "duration": 8,
    "start_time": "2021-07-07T18:44:44.984Z"
   },
   {
    "duration": 6,
    "start_time": "2021-07-07T18:44:46.834Z"
   },
   {
    "duration": 9308,
    "start_time": "2021-07-07T18:44:48.274Z"
   },
   {
    "duration": 9,
    "start_time": "2021-07-07T18:45:06.964Z"
   },
   {
    "duration": 10,
    "start_time": "2021-07-07T18:45:18.788Z"
   },
   {
    "duration": 9,
    "start_time": "2021-07-07T18:45:20.402Z"
   },
   {
    "duration": 7,
    "start_time": "2021-07-07T18:45:21.412Z"
   },
   {
    "duration": 13,
    "start_time": "2021-07-07T18:45:22.178Z"
   },
   {
    "duration": 7,
    "start_time": "2021-07-07T18:45:28.386Z"
   },
   {
    "duration": 11,
    "start_time": "2021-07-07T18:45:29.332Z"
   },
   {
    "duration": 4,
    "start_time": "2021-07-07T18:45:43.858Z"
   },
   {
    "duration": 12,
    "start_time": "2021-07-07T18:45:49.234Z"
   },
   {
    "duration": 365,
    "start_time": "2021-07-07T18:45:59.236Z"
   },
   {
    "duration": 13,
    "start_time": "2021-07-07T18:46:03.012Z"
   },
   {
    "duration": 9,
    "start_time": "2021-07-07T18:46:18.148Z"
   },
   {
    "duration": 14,
    "start_time": "2021-07-07T18:46:19.316Z"
   },
   {
    "duration": 13,
    "start_time": "2021-07-07T18:46:36.804Z"
   },
   {
    "duration": 9,
    "start_time": "2021-07-07T18:46:38.180Z"
   },
   {
    "duration": 12,
    "start_time": "2021-07-07T18:46:50.485Z"
   },
   {
    "duration": 15,
    "start_time": "2021-07-07T18:46:51.365Z"
   },
   {
    "duration": 6,
    "start_time": "2021-07-07T18:47:06.454Z"
   },
   {
    "duration": 15,
    "start_time": "2021-07-07T18:47:07.318Z"
   },
   {
    "duration": 32,
    "start_time": "2021-07-07T18:50:38.126Z"
   },
   {
    "duration": 10,
    "start_time": "2021-07-07T18:52:47.978Z"
   },
   {
    "duration": 17,
    "start_time": "2021-07-07T18:52:49.163Z"
   },
   {
    "duration": 13,
    "start_time": "2021-07-07T18:53:56.474Z"
   },
   {
    "duration": 5,
    "start_time": "2021-07-07T18:54:13.387Z"
   },
   {
    "duration": 12,
    "start_time": "2021-07-07T18:54:22.026Z"
   },
   {
    "duration": 25,
    "start_time": "2021-07-07T18:54:44.173Z"
   },
   {
    "duration": 9,
    "start_time": "2021-07-07T18:56:13.240Z"
   },
   {
    "duration": 13,
    "start_time": "2021-07-07T18:56:14.109Z"
   },
   {
    "duration": 8,
    "start_time": "2021-07-07T18:57:53.052Z"
   },
   {
    "duration": 13,
    "start_time": "2021-07-07T18:57:57.071Z"
   },
   {
    "duration": 10,
    "start_time": "2021-07-07T18:59:05.390Z"
   },
   {
    "duration": 9,
    "start_time": "2021-07-07T18:59:35.041Z"
   },
   {
    "duration": 6,
    "start_time": "2021-07-07T18:59:36.830Z"
   },
   {
    "duration": 10,
    "start_time": "2021-07-07T18:59:44.085Z"
   },
   {
    "duration": 8,
    "start_time": "2021-07-07T19:01:38.445Z"
   },
   {
    "duration": 11,
    "start_time": "2021-07-07T19:01:42.712Z"
   },
   {
    "duration": 7,
    "start_time": "2021-07-07T19:02:15.987Z"
   },
   {
    "duration": 15,
    "start_time": "2021-07-07T19:02:16.771Z"
   },
   {
    "duration": 8,
    "start_time": "2021-07-07T19:02:21.986Z"
   },
   {
    "duration": 13,
    "start_time": "2021-07-07T19:02:22.770Z"
   },
   {
    "duration": 8,
    "start_time": "2021-07-07T19:02:31.539Z"
   },
   {
    "duration": 6,
    "start_time": "2021-07-07T19:02:33.794Z"
   },
   {
    "duration": 12,
    "start_time": "2021-07-07T19:02:35.730Z"
   },
   {
    "duration": 395,
    "start_time": "2021-07-07T19:02:38.707Z"
   },
   {
    "duration": 6,
    "start_time": "2021-07-07T19:02:46.198Z"
   },
   {
    "duration": 34,
    "start_time": "2021-07-07T19:02:47.219Z"
   },
   {
    "duration": 9,
    "start_time": "2021-07-07T19:03:06.227Z"
   },
   {
    "duration": 9,
    "start_time": "2021-07-07T19:03:07.443Z"
   },
   {
    "duration": 14,
    "start_time": "2021-07-07T19:03:08.402Z"
   },
   {
    "duration": 7,
    "start_time": "2021-07-07T19:04:10.448Z"
   },
   {
    "duration": 12,
    "start_time": "2021-07-07T19:04:17.842Z"
   },
   {
    "duration": 6,
    "start_time": "2021-07-07T19:04:36.741Z"
   },
   {
    "duration": 13,
    "start_time": "2021-07-07T19:04:37.684Z"
   },
   {
    "duration": 12,
    "start_time": "2021-07-07T19:08:49.423Z"
   },
   {
    "duration": 20,
    "start_time": "2021-07-07T19:52:24.342Z"
   },
   {
    "duration": 108,
    "start_time": "2021-07-07T19:57:51.844Z"
   },
   {
    "duration": 7,
    "start_time": "2021-07-07T19:57:58.250Z"
   },
   {
    "duration": 12,
    "start_time": "2021-07-07T19:58:33.285Z"
   },
   {
    "duration": 9,
    "start_time": "2021-07-07T19:58:42.984Z"
   },
   {
    "duration": 10,
    "start_time": "2021-07-07T19:58:44.096Z"
   },
   {
    "duration": 15,
    "start_time": "2021-07-07T19:59:11.444Z"
   },
   {
    "duration": 9660,
    "start_time": "2021-07-07T20:00:40.741Z"
   },
   {
    "duration": 11,
    "start_time": "2021-07-07T20:01:02.758Z"
   },
   {
    "duration": 391,
    "start_time": "2021-07-07T20:01:07.174Z"
   },
   {
    "duration": 380,
    "start_time": "2021-07-07T20:01:09.719Z"
   },
   {
    "duration": 40,
    "start_time": "2021-07-07T20:01:11.798Z"
   },
   {
    "duration": 8,
    "start_time": "2021-07-07T20:01:41.638Z"
   },
   {
    "duration": 6,
    "start_time": "2021-07-07T20:01:45.078Z"
   },
   {
    "duration": 10,
    "start_time": "2021-07-07T20:01:54.615Z"
   },
   {
    "duration": 13,
    "start_time": "2021-07-07T20:01:58.550Z"
   },
   {
    "duration": 13,
    "start_time": "2021-07-07T20:02:59.558Z"
   },
   {
    "duration": 5,
    "start_time": "2021-07-07T20:03:03.498Z"
   },
   {
    "duration": 11,
    "start_time": "2021-07-07T20:03:06.086Z"
   },
   {
    "duration": 378,
    "start_time": "2021-07-07T20:09:46.727Z"
   },
   {
    "duration": 10,
    "start_time": "2021-07-07T20:11:54.734Z"
   },
   {
    "duration": 12,
    "start_time": "2021-07-07T20:12:04.302Z"
   },
   {
    "duration": 10,
    "start_time": "2021-07-07T20:14:20.695Z"
   },
   {
    "duration": 11,
    "start_time": "2021-07-07T20:14:24.527Z"
   },
   {
    "duration": 10,
    "start_time": "2021-07-07T20:15:39.778Z"
   },
   {
    "duration": 13,
    "start_time": "2021-07-07T20:15:48.261Z"
   },
   {
    "duration": 10,
    "start_time": "2021-07-07T20:16:40.245Z"
   },
   {
    "duration": 11,
    "start_time": "2021-07-07T20:16:46.243Z"
   },
   {
    "duration": 14,
    "start_time": "2021-07-07T20:16:50.481Z"
   },
   {
    "duration": 9,
    "start_time": "2021-07-07T20:17:01.412Z"
   },
   {
    "duration": 9,
    "start_time": "2021-07-07T20:21:28.454Z"
   },
   {
    "duration": 13,
    "start_time": "2021-07-07T20:21:29.335Z"
   },
   {
    "duration": 14,
    "start_time": "2021-07-07T20:21:31.949Z"
   },
   {
    "duration": 5,
    "start_time": "2021-07-07T21:25:39.351Z"
   },
   {
    "duration": 13,
    "start_time": "2021-07-07T21:25:42.400Z"
   },
   {
    "duration": 13,
    "start_time": "2021-07-07T21:26:08.643Z"
   },
   {
    "duration": 335,
    "start_time": "2021-07-07T21:26:39.057Z"
   },
   {
    "duration": 8,
    "start_time": "2021-07-07T21:26:56.737Z"
   },
   {
    "duration": 19,
    "start_time": "2021-07-07T21:26:59.587Z"
   },
   {
    "duration": 11,
    "start_time": "2021-07-07T21:27:09.809Z"
   },
   {
    "duration": 6,
    "start_time": "2021-07-07T21:27:17.695Z"
   },
   {
    "duration": 5,
    "start_time": "2021-07-07T21:27:22.673Z"
   },
   {
    "duration": 6,
    "start_time": "2021-07-07T21:27:31.182Z"
   },
   {
    "duration": 6,
    "start_time": "2021-07-07T21:27:32.192Z"
   },
   {
    "duration": 10,
    "start_time": "2021-07-07T21:29:01.636Z"
   },
   {
    "duration": 13,
    "start_time": "2021-07-07T21:29:18.355Z"
   },
   {
    "duration": 9,
    "start_time": "2021-07-07T21:29:23.168Z"
   },
   {
    "duration": 13,
    "start_time": "2021-07-07T21:29:24.032Z"
   },
   {
    "duration": 13,
    "start_time": "2021-07-07T21:29:25.346Z"
   },
   {
    "duration": 5,
    "start_time": "2021-07-07T21:30:15.138Z"
   },
   {
    "duration": 12,
    "start_time": "2021-07-07T21:30:37.698Z"
   },
   {
    "duration": 13,
    "start_time": "2021-07-07T21:40:32.417Z"
   },
   {
    "duration": 10,
    "start_time": "2021-07-07T21:41:38.976Z"
   },
   {
    "duration": 15,
    "start_time": "2021-07-07T21:43:17.377Z"
   },
   {
    "duration": 17,
    "start_time": "2021-07-07T21:43:24.718Z"
   },
   {
    "duration": 15,
    "start_time": "2021-07-07T21:43:53.668Z"
   },
   {
    "duration": 18,
    "start_time": "2021-07-07T21:43:54.802Z"
   },
   {
    "duration": 6,
    "start_time": "2021-07-07T21:45:32.705Z"
   },
   {
    "duration": 12,
    "start_time": "2021-07-07T21:45:36.991Z"
   },
   {
    "duration": 16,
    "start_time": "2021-07-07T21:45:45.054Z"
   },
   {
    "duration": 19,
    "start_time": "2021-07-07T21:45:46.169Z"
   },
   {
    "duration": 6,
    "start_time": "2021-07-07T21:45:56.464Z"
   },
   {
    "duration": 13,
    "start_time": "2021-07-07T21:45:57.616Z"
   },
   {
    "duration": 12,
    "start_time": "2021-07-07T21:49:28.706Z"
   },
   {
    "duration": 5,
    "start_time": "2021-07-07T21:52:14.412Z"
   },
   {
    "duration": 12,
    "start_time": "2021-07-07T21:52:19.284Z"
   },
   {
    "duration": 5,
    "start_time": "2021-07-07T21:53:05.461Z"
   },
   {
    "duration": 16,
    "start_time": "2021-07-07T21:53:12.756Z"
   },
   {
    "duration": 13,
    "start_time": "2021-07-07T21:53:44.262Z"
   },
   {
    "duration": 7,
    "start_time": "2021-07-07T21:53:51.114Z"
   },
   {
    "duration": 7,
    "start_time": "2021-07-07T21:53:58.278Z"
   },
   {
    "duration": 13,
    "start_time": "2021-07-07T21:54:26.118Z"
   },
   {
    "duration": 13,
    "start_time": "2021-07-07T21:55:07.992Z"
   },
   {
    "duration": 10,
    "start_time": "2021-07-07T21:55:58.168Z"
   },
   {
    "duration": 11,
    "start_time": "2021-07-07T21:55:59.400Z"
   },
   {
    "duration": 9,
    "start_time": "2021-07-07T21:56:08.744Z"
   },
   {
    "duration": 11,
    "start_time": "2021-07-07T21:56:09.928Z"
   },
   {
    "duration": 10,
    "start_time": "2021-07-07T21:56:18.042Z"
   },
   {
    "duration": 10,
    "start_time": "2021-07-07T21:56:19.528Z"
   },
   {
    "duration": 13,
    "start_time": "2021-07-07T21:56:36.312Z"
   },
   {
    "duration": 11,
    "start_time": "2021-07-07T21:56:37.304Z"
   },
   {
    "duration": 10,
    "start_time": "2021-07-07T21:56:42.601Z"
   },
   {
    "duration": 9,
    "start_time": "2021-07-07T21:56:43.640Z"
   },
   {
    "duration": 9,
    "start_time": "2021-07-07T22:00:19.405Z"
   },
   {
    "duration": 245,
    "start_time": "2021-07-07T22:00:36.556Z"
   },
   {
    "duration": 10,
    "start_time": "2021-07-07T22:01:18.032Z"
   },
   {
    "duration": 13,
    "start_time": "2021-07-07T22:04:42.524Z"
   },
   {
    "duration": 13,
    "start_time": "2021-07-07T22:07:29.491Z"
   },
   {
    "duration": 12,
    "start_time": "2021-07-07T22:07:40.032Z"
   },
   {
    "duration": 14,
    "start_time": "2021-07-07T22:08:48.932Z"
   },
   {
    "duration": 15,
    "start_time": "2021-07-07T22:08:54.962Z"
   },
   {
    "duration": 13,
    "start_time": "2021-07-07T22:09:02.850Z"
   },
   {
    "duration": 20,
    "start_time": "2021-07-07T22:11:06.276Z"
   },
   {
    "duration": 12,
    "start_time": "2021-07-07T22:11:33.140Z"
   },
   {
    "duration": 374,
    "start_time": "2021-07-07T22:12:12.536Z"
   },
   {
    "duration": 20,
    "start_time": "2021-07-07T22:13:03.048Z"
   },
   {
    "duration": 7,
    "start_time": "2021-07-07T22:13:07.166Z"
   },
   {
    "duration": 19,
    "start_time": "2021-07-07T22:13:20.870Z"
   },
   {
    "duration": 20,
    "start_time": "2021-07-07T22:13:44.907Z"
   },
   {
    "duration": 6,
    "start_time": "2021-07-07T22:13:46.150Z"
   },
   {
    "duration": 6,
    "start_time": "2021-07-07T22:13:58.710Z"
   },
   {
    "duration": 6,
    "start_time": "2021-07-07T22:14:17.015Z"
   },
   {
    "duration": 12,
    "start_time": "2021-07-07T22:17:19.949Z"
   },
   {
    "duration": 4,
    "start_time": "2021-07-07T22:22:37.421Z"
   },
   {
    "duration": 7,
    "start_time": "2021-07-07T22:23:41.342Z"
   },
   {
    "duration": 13,
    "start_time": "2021-07-07T22:23:48.047Z"
   },
   {
    "duration": 7,
    "start_time": "2021-07-07T22:25:25.825Z"
   },
   {
    "duration": 16,
    "start_time": "2021-07-07T22:27:32.127Z"
   },
   {
    "duration": 344,
    "start_time": "2021-07-07T22:28:36.343Z"
   },
   {
    "duration": 9,
    "start_time": "2021-07-07T22:30:40.517Z"
   },
   {
    "duration": 370,
    "start_time": "2021-07-07T22:30:52.282Z"
   },
   {
    "duration": 242,
    "start_time": "2021-07-07T22:30:59.317Z"
   },
   {
    "duration": 10,
    "start_time": "2021-07-07T22:31:12.581Z"
   },
   {
    "duration": 14,
    "start_time": "2021-07-07T22:31:31.401Z"
   },
   {
    "duration": 6,
    "start_time": "2021-07-07T22:32:16.068Z"
   },
   {
    "duration": 12,
    "start_time": "2021-07-07T22:32:19.463Z"
   },
   {
    "duration": 5,
    "start_time": "2021-07-07T22:32:47.511Z"
   },
   {
    "duration": 14,
    "start_time": "2021-07-07T22:32:50.679Z"
   },
   {
    "duration": 336,
    "start_time": "2021-07-07T22:33:34.713Z"
   },
   {
    "duration": 352,
    "start_time": "2021-07-07T22:33:47.847Z"
   },
   {
    "duration": 362,
    "start_time": "2021-07-07T22:34:10.153Z"
   },
   {
    "duration": 364,
    "start_time": "2021-07-07T22:35:30.200Z"
   },
   {
    "duration": 400,
    "start_time": "2021-07-07T22:40:17.574Z"
   },
   {
    "duration": 10,
    "start_time": "2021-07-07T22:41:29.694Z"
   },
   {
    "duration": 367,
    "start_time": "2021-07-07T23:00:47.925Z"
   },
   {
    "duration": 661,
    "start_time": "2021-07-07T23:01:06.895Z"
   },
   {
    "duration": 376,
    "start_time": "2021-07-07T23:01:58.448Z"
   },
   {
    "duration": 386,
    "start_time": "2021-07-07T23:02:12.144Z"
   },
   {
    "duration": 1005,
    "start_time": "2021-07-07T23:06:08.571Z"
   },
   {
    "duration": 863,
    "start_time": "2021-07-07T23:06:41.380Z"
   },
   {
    "duration": 481,
    "start_time": "2021-07-07T23:06:47.862Z"
   },
   {
    "duration": 434,
    "start_time": "2021-07-07T23:07:04.102Z"
   },
   {
    "duration": 423,
    "start_time": "2021-07-07T23:09:41.599Z"
   },
   {
    "duration": 14,
    "start_time": "2021-07-07T23:13:29.673Z"
   },
   {
    "duration": 30,
    "start_time": "2021-07-07T23:15:49.190Z"
   },
   {
    "duration": 32,
    "start_time": "2021-07-07T23:16:09.629Z"
   },
   {
    "duration": 32,
    "start_time": "2021-07-07T23:16:15.505Z"
   },
   {
    "duration": 7,
    "start_time": "2021-07-07T23:16:33.215Z"
   },
   {
    "duration": 6,
    "start_time": "2021-07-07T23:16:46.222Z"
   },
   {
    "duration": 11,
    "start_time": "2021-07-07T23:18:13.679Z"
   },
   {
    "duration": 11,
    "start_time": "2021-07-07T23:18:17.663Z"
   },
   {
    "duration": 10,
    "start_time": "2021-07-07T23:19:00.639Z"
   },
   {
    "duration": 14,
    "start_time": "2021-07-07T23:19:01.967Z"
   },
   {
    "duration": 10,
    "start_time": "2021-07-07T23:19:18.896Z"
   },
   {
    "duration": 14,
    "start_time": "2021-07-07T23:19:19.839Z"
   },
   {
    "duration": 15,
    "start_time": "2021-07-07T23:19:28.943Z"
   },
   {
    "duration": 10,
    "start_time": "2021-07-07T23:19:46.788Z"
   },
   {
    "duration": 10,
    "start_time": "2021-07-07T23:19:57.951Z"
   },
   {
    "duration": 9,
    "start_time": "2021-07-07T23:25:40.784Z"
   },
   {
    "duration": 352,
    "start_time": "2021-07-07T23:30:53.141Z"
   },
   {
    "duration": 10,
    "start_time": "2021-07-07T23:30:59.481Z"
   },
   {
    "duration": 13,
    "start_time": "2021-07-07T23:31:02.617Z"
   },
   {
    "duration": 577,
    "start_time": "2021-07-07T23:31:59.754Z"
   },
   {
    "duration": 14,
    "start_time": "2021-07-07T23:32:22.136Z"
   },
   {
    "duration": 10,
    "start_time": "2021-07-07T23:32:24.344Z"
   },
   {
    "duration": 11,
    "start_time": "2021-07-07T23:32:32.122Z"
   },
   {
    "duration": 9,
    "start_time": "2021-07-07T23:32:36.282Z"
   },
   {
    "duration": 15,
    "start_time": "2021-07-07T23:33:35.979Z"
   },
   {
    "duration": 13,
    "start_time": "2021-07-07T23:33:40.890Z"
   },
   {
    "duration": 12,
    "start_time": "2021-07-07T23:34:17.755Z"
   },
   {
    "duration": 13,
    "start_time": "2021-07-07T23:34:25.146Z"
   },
   {
    "duration": 401,
    "start_time": "2021-07-07T23:35:13.500Z"
   },
   {
    "duration": 12,
    "start_time": "2021-07-07T23:36:44.512Z"
   },
   {
    "duration": 10,
    "start_time": "2021-07-07T23:37:27.086Z"
   },
   {
    "duration": 10,
    "start_time": "2021-07-07T23:38:03.380Z"
   },
   {
    "duration": 10,
    "start_time": "2021-07-07T23:38:37.168Z"
   },
   {
    "duration": 21,
    "start_time": "2021-07-07T23:45:24.732Z"
   },
   {
    "duration": 7,
    "start_time": "2021-07-07T23:45:35.866Z"
   },
   {
    "duration": 32,
    "start_time": "2021-07-07T23:50:17.038Z"
   },
   {
    "duration": 12,
    "start_time": "2021-07-07T23:50:45.992Z"
   },
   {
    "duration": 12,
    "start_time": "2021-07-07T23:51:00.023Z"
   },
   {
    "duration": 5,
    "start_time": "2021-07-07T23:52:35.882Z"
   },
   {
    "duration": 12,
    "start_time": "2021-07-07T23:52:39.449Z"
   },
   {
    "duration": 13,
    "start_time": "2021-07-07T23:53:20.585Z"
   },
   {
    "duration": 382,
    "start_time": "2021-07-07T23:54:00.366Z"
   },
   {
    "duration": 13,
    "start_time": "2021-07-07T23:54:40.892Z"
   },
   {
    "duration": 11,
    "start_time": "2021-07-07T23:54:55.052Z"
   },
   {
    "duration": 11,
    "start_time": "2021-07-07T23:57:40.926Z"
   },
   {
    "duration": 22,
    "start_time": "2021-07-08T00:06:17.758Z"
   },
   {
    "duration": 24,
    "start_time": "2021-07-08T00:06:29.464Z"
   },
   {
    "duration": 4,
    "start_time": "2021-07-08T00:09:00.782Z"
   },
   {
    "duration": 9,
    "start_time": "2021-07-08T00:12:57.267Z"
   },
   {
    "duration": 11,
    "start_time": "2021-07-08T00:13:17.685Z"
   },
   {
    "duration": 14,
    "start_time": "2021-07-08T00:13:30.661Z"
   },
   {
    "duration": 10,
    "start_time": "2021-07-08T00:18:49.379Z"
   },
   {
    "duration": 9,
    "start_time": "2021-07-08T00:19:02.658Z"
   },
   {
    "duration": 9,
    "start_time": "2021-07-08T00:19:11.394Z"
   },
   {
    "duration": 7,
    "start_time": "2021-07-08T00:36:23.413Z"
   },
   {
    "duration": 21,
    "start_time": "2021-07-08T00:36:46.810Z"
   },
   {
    "duration": 8,
    "start_time": "2021-07-08T00:37:30.847Z"
   },
   {
    "duration": 6,
    "start_time": "2021-07-08T00:37:48.721Z"
   },
   {
    "duration": 11,
    "start_time": "2021-07-08T00:37:55.217Z"
   },
   {
    "duration": 4,
    "start_time": "2021-07-08T00:38:22.833Z"
   },
   {
    "duration": 808,
    "start_time": "2021-07-08T00:40:08.610Z"
   },
   {
    "duration": 7,
    "start_time": "2021-07-08T00:40:41.060Z"
   },
   {
    "duration": 20,
    "start_time": "2021-07-08T00:42:09.778Z"
   },
   {
    "duration": 764,
    "start_time": "2021-07-08T00:42:12.932Z"
   },
   {
    "duration": 303,
    "start_time": "2021-07-08T00:42:34.518Z"
   },
   {
    "duration": 8,
    "start_time": "2021-07-08T00:42:41.331Z"
   },
   {
    "duration": 8,
    "start_time": "2021-07-08T00:42:48.102Z"
   },
   {
    "duration": 9,
    "start_time": "2021-07-08T00:43:03.093Z"
   },
   {
    "duration": 9,
    "start_time": "2021-07-08T00:43:12.022Z"
   },
   {
    "duration": 400,
    "start_time": "2021-07-08T00:44:03.480Z"
   },
   {
    "duration": 20,
    "start_time": "2021-07-08T00:44:23.512Z"
   },
   {
    "duration": 767,
    "start_time": "2021-07-08T00:44:28.214Z"
   },
   {
    "duration": 8,
    "start_time": "2021-07-08T00:44:41.464Z"
   },
   {
    "duration": 17,
    "start_time": "2021-07-08T00:44:57.913Z"
   },
   {
    "duration": 6,
    "start_time": "2021-07-08T00:45:17.751Z"
   },
   {
    "duration": 6,
    "start_time": "2021-07-08T00:45:26.888Z"
   },
   {
    "duration": 16,
    "start_time": "2021-07-08T00:46:46.906Z"
   },
   {
    "duration": 20,
    "start_time": "2021-07-08T00:47:40.170Z"
   },
   {
    "duration": 11,
    "start_time": "2021-07-08T00:47:41.962Z"
   },
   {
    "duration": 7,
    "start_time": "2021-07-08T00:47:51.530Z"
   },
   {
    "duration": 6,
    "start_time": "2021-07-08T00:47:59.626Z"
   },
   {
    "duration": 6,
    "start_time": "2021-07-08T00:54:25.600Z"
   },
   {
    "duration": 5,
    "start_time": "2021-07-08T00:54:36.000Z"
   },
   {
    "duration": 3,
    "start_time": "2021-07-08T00:55:22.502Z"
   },
   {
    "duration": 10,
    "start_time": "2021-07-08T00:56:07.271Z"
   },
   {
    "duration": 8,
    "start_time": "2021-07-08T00:56:12.576Z"
   },
   {
    "duration": 289,
    "start_time": "2021-07-08T00:56:16.834Z"
   },
   {
    "duration": 5,
    "start_time": "2021-07-08T00:56:22.642Z"
   },
   {
    "duration": 7,
    "start_time": "2021-07-08T00:56:48.978Z"
   },
   {
    "duration": 7,
    "start_time": "2021-07-08T00:56:54.048Z"
   },
   {
    "duration": 7,
    "start_time": "2021-07-08T00:58:39.418Z"
   },
   {
    "duration": 6,
    "start_time": "2021-07-08T01:00:22.592Z"
   },
   {
    "duration": 6,
    "start_time": "2021-07-08T01:00:36.539Z"
   },
   {
    "duration": 7,
    "start_time": "2021-07-08T01:03:07.778Z"
   },
   {
    "duration": 20,
    "start_time": "2021-07-08T01:06:52.993Z"
   },
   {
    "duration": 5,
    "start_time": "2021-07-08T01:07:11.082Z"
   },
   {
    "duration": 6,
    "start_time": "2021-07-08T01:07:18.251Z"
   },
   {
    "duration": 5,
    "start_time": "2021-07-08T01:08:20.092Z"
   },
   {
    "duration": 6,
    "start_time": "2021-07-08T01:08:29.069Z"
   },
   {
    "duration": 7,
    "start_time": "2021-07-08T01:10:40.203Z"
   },
   {
    "duration": 7,
    "start_time": "2021-07-08T01:10:52.161Z"
   },
   {
    "duration": 7,
    "start_time": "2021-07-08T01:12:19.291Z"
   },
   {
    "duration": 1556,
    "start_time": "2021-07-08T02:02:10.329Z"
   },
   {
    "duration": 318,
    "start_time": "2021-07-08T02:02:11.888Z"
   },
   {
    "duration": 24,
    "start_time": "2021-07-08T02:02:12.210Z"
   },
   {
    "duration": 19,
    "start_time": "2021-07-08T02:02:12.237Z"
   },
   {
    "duration": 51,
    "start_time": "2021-07-08T02:02:12.258Z"
   },
   {
    "duration": 24,
    "start_time": "2021-07-08T02:02:12.311Z"
   },
   {
    "duration": 42,
    "start_time": "2021-07-08T02:02:12.338Z"
   },
   {
    "duration": 30,
    "start_time": "2021-07-08T02:02:12.384Z"
   },
   {
    "duration": 17,
    "start_time": "2021-07-08T02:02:12.417Z"
   },
   {
    "duration": 56,
    "start_time": "2021-07-08T02:02:12.437Z"
   },
   {
    "duration": 14,
    "start_time": "2021-07-08T02:02:12.508Z"
   },
   {
    "duration": 14,
    "start_time": "2021-07-08T02:02:12.524Z"
   },
   {
    "duration": 16,
    "start_time": "2021-07-08T02:02:12.540Z"
   },
   {
    "duration": 6,
    "start_time": "2021-07-08T02:02:12.559Z"
   },
   {
    "duration": 46,
    "start_time": "2021-07-08T02:02:12.568Z"
   },
   {
    "duration": 19,
    "start_time": "2021-07-08T02:02:12.616Z"
   },
   {
    "duration": 22,
    "start_time": "2021-07-08T02:02:12.638Z"
   },
   {
    "duration": 12,
    "start_time": "2021-07-08T02:02:12.663Z"
   },
   {
    "duration": 39,
    "start_time": "2021-07-08T02:02:12.678Z"
   },
   {
    "duration": 13,
    "start_time": "2021-07-08T02:02:12.720Z"
   },
   {
    "duration": 12,
    "start_time": "2021-07-08T02:02:12.736Z"
   },
   {
    "duration": 12,
    "start_time": "2021-07-08T02:02:12.751Z"
   },
   {
    "duration": 40,
    "start_time": "2021-07-08T02:02:12.769Z"
   },
   {
    "duration": 6,
    "start_time": "2021-07-08T02:02:12.813Z"
   },
   {
    "duration": 35,
    "start_time": "2021-07-08T02:02:12.822Z"
   },
   {
    "duration": 8,
    "start_time": "2021-07-08T02:02:12.860Z"
   },
   {
    "duration": 784,
    "start_time": "2021-07-08T02:02:12.870Z"
   },
   {
    "duration": 20,
    "start_time": "2021-07-08T02:02:13.657Z"
   },
   {
    "duration": 30,
    "start_time": "2021-07-08T02:02:13.679Z"
   },
   {
    "duration": 4,
    "start_time": "2021-07-08T02:02:13.711Z"
   },
   {
    "duration": 671,
    "start_time": "2021-07-08T02:02:13.718Z"
   },
   {
    "duration": 22,
    "start_time": "2021-07-08T02:02:14.392Z"
   },
   {
    "duration": 34,
    "start_time": "2021-07-08T02:02:14.417Z"
   },
   {
    "duration": 29,
    "start_time": "2021-07-08T02:02:14.454Z"
   },
   {
    "duration": 29,
    "start_time": "2021-07-08T02:02:14.486Z"
   },
   {
    "duration": 13,
    "start_time": "2021-07-08T02:02:14.518Z"
   },
   {
    "duration": 515,
    "start_time": "2021-07-08T02:02:14.533Z"
   },
   {
    "duration": 5,
    "start_time": "2021-07-08T02:02:15.051Z"
   },
   {
    "duration": 26,
    "start_time": "2021-07-08T02:02:15.059Z"
   },
   {
    "duration": 21,
    "start_time": "2021-07-08T02:02:15.087Z"
   },
   {
    "duration": 13,
    "start_time": "2021-07-08T02:02:15.111Z"
   },
   {
    "duration": 412,
    "start_time": "2021-07-08T02:02:15.127Z"
   },
   {
    "duration": 15,
    "start_time": "2021-07-08T02:02:15.542Z"
   },
   {
    "duration": 21,
    "start_time": "2021-07-08T02:02:15.560Z"
   },
   {
    "duration": 24,
    "start_time": "2021-07-08T02:02:15.584Z"
   },
   {
    "duration": 13,
    "start_time": "2021-07-08T02:02:15.611Z"
   },
   {
    "duration": 428,
    "start_time": "2021-07-08T02:02:15.626Z"
   },
   {
    "duration": 15,
    "start_time": "2021-07-08T02:02:16.056Z"
   },
   {
    "duration": 6,
    "start_time": "2021-07-08T02:02:16.073Z"
   },
   {
    "duration": 31,
    "start_time": "2021-07-08T02:02:16.081Z"
   },
   {
    "duration": 23,
    "start_time": "2021-07-08T02:02:16.115Z"
   },
   {
    "duration": 19,
    "start_time": "2021-07-08T02:02:16.140Z"
   },
   {
    "duration": 18,
    "start_time": "2021-07-08T02:02:16.162Z"
   },
   {
    "duration": 21,
    "start_time": "2021-07-08T02:02:16.183Z"
   },
   {
    "duration": 16,
    "start_time": "2021-07-08T02:02:16.208Z"
   },
   {
    "duration": 413,
    "start_time": "2021-07-08T02:02:16.227Z"
   },
   {
    "duration": 11,
    "start_time": "2021-07-08T02:02:16.643Z"
   },
   {
    "duration": 12,
    "start_time": "2021-07-08T02:02:16.656Z"
   },
   {
    "duration": 7,
    "start_time": "2021-07-08T02:02:16.671Z"
   },
   {
    "duration": 37,
    "start_time": "2021-07-08T02:02:16.680Z"
   },
   {
    "duration": 8,
    "start_time": "2021-07-08T02:02:16.720Z"
   },
   {
    "duration": 17,
    "start_time": "2021-07-08T02:02:16.730Z"
   },
   {
    "duration": 17,
    "start_time": "2021-07-08T02:02:16.750Z"
   },
   {
    "duration": 14,
    "start_time": "2021-07-08T02:02:16.769Z"
   },
   {
    "duration": 98,
    "start_time": "2021-07-08T02:02:16.785Z"
   },
   {
    "duration": 14,
    "start_time": "2021-07-08T02:02:16.885Z"
   },
   {
    "duration": 20,
    "start_time": "2021-07-08T02:02:16.902Z"
   },
   {
    "duration": 9,
    "start_time": "2021-07-08T02:02:16.932Z"
   },
   {
    "duration": 14,
    "start_time": "2021-07-08T02:02:16.945Z"
   },
   {
    "duration": 9,
    "start_time": "2021-07-08T02:02:16.962Z"
   },
   {
    "duration": 20,
    "start_time": "2021-07-08T02:02:16.974Z"
   },
   {
    "duration": 10,
    "start_time": "2021-07-08T02:02:17.008Z"
   },
   {
    "duration": 19,
    "start_time": "2021-07-08T02:02:17.020Z"
   },
   {
    "duration": 8,
    "start_time": "2021-07-08T02:02:17.042Z"
   },
   {
    "duration": 33,
    "start_time": "2021-07-08T02:02:17.052Z"
   },
   {
    "duration": 18,
    "start_time": "2021-07-08T02:02:17.088Z"
   },
   {
    "duration": 17,
    "start_time": "2021-07-08T02:02:17.108Z"
   },
   {
    "duration": 545,
    "start_time": "2021-07-08T02:02:17.127Z"
   },
   {
    "duration": 97,
    "start_time": "2021-07-08T02:02:17.577Z"
   },
   {
    "duration": 93,
    "start_time": "2021-07-08T02:02:17.583Z"
   },
   {
    "duration": 90,
    "start_time": "2021-07-08T02:02:17.587Z"
   },
   {
    "duration": 85,
    "start_time": "2021-07-08T02:02:17.593Z"
   },
   {
    "duration": 81,
    "start_time": "2021-07-08T02:02:17.599Z"
   },
   {
    "duration": 74,
    "start_time": "2021-07-08T02:02:17.607Z"
   },
   {
    "duration": 68,
    "start_time": "2021-07-08T02:02:17.614Z"
   },
   {
    "duration": 65,
    "start_time": "2021-07-08T02:02:17.619Z"
   },
   {
    "duration": 61,
    "start_time": "2021-07-08T02:02:17.624Z"
   },
   {
    "duration": 56,
    "start_time": "2021-07-08T02:02:17.630Z"
   },
   {
    "duration": 52,
    "start_time": "2021-07-08T02:02:17.636Z"
   },
   {
    "duration": 47,
    "start_time": "2021-07-08T02:02:17.642Z"
   },
   {
    "duration": 41,
    "start_time": "2021-07-08T02:02:17.650Z"
   },
   {
    "duration": 34,
    "start_time": "2021-07-08T02:02:17.658Z"
   },
   {
    "duration": 30,
    "start_time": "2021-07-08T02:02:17.664Z"
   },
   {
    "duration": 18,
    "start_time": "2021-07-08T02:02:17.677Z"
   },
   {
    "duration": 13,
    "start_time": "2021-07-08T02:02:17.683Z"
   },
   {
    "duration": 7,
    "start_time": "2021-07-08T02:02:17.690Z"
   },
   {
    "duration": 2,
    "start_time": "2021-07-08T02:02:17.696Z"
   },
   {
    "duration": -1,
    "start_time": "2021-07-08T02:02:17.701Z"
   },
   {
    "duration": -9,
    "start_time": "2021-07-08T02:02:17.710Z"
   },
   {
    "duration": -15,
    "start_time": "2021-07-08T02:02:17.717Z"
   },
   {
    "duration": -21,
    "start_time": "2021-07-08T02:02:17.724Z"
   },
   {
    "duration": -24,
    "start_time": "2021-07-08T02:02:17.729Z"
   },
   {
    "duration": -30,
    "start_time": "2021-07-08T02:02:17.736Z"
   },
   {
    "duration": -33,
    "start_time": "2021-07-08T02:02:17.741Z"
   },
   {
    "duration": -38,
    "start_time": "2021-07-08T02:02:17.747Z"
   },
   {
    "duration": -43,
    "start_time": "2021-07-08T02:02:17.753Z"
   },
   {
    "duration": -51,
    "start_time": "2021-07-08T02:02:17.762Z"
   },
   {
    "duration": -56,
    "start_time": "2021-07-08T02:02:17.769Z"
   },
   {
    "duration": -61,
    "start_time": "2021-07-08T02:02:17.775Z"
   },
   {
    "duration": -75,
    "start_time": "2021-07-08T02:02:17.790Z"
   },
   {
    "duration": -80,
    "start_time": "2021-07-08T02:02:17.796Z"
   },
   {
    "duration": -85,
    "start_time": "2021-07-08T02:02:17.802Z"
   },
   {
    "duration": -88,
    "start_time": "2021-07-08T02:02:17.807Z"
   },
   {
    "duration": -93,
    "start_time": "2021-07-08T02:02:17.813Z"
   },
   {
    "duration": -97,
    "start_time": "2021-07-08T02:02:17.818Z"
   },
   {
    "duration": -101,
    "start_time": "2021-07-08T02:02:17.823Z"
   },
   {
    "duration": -105,
    "start_time": "2021-07-08T02:02:17.829Z"
   },
   {
    "duration": -113,
    "start_time": "2021-07-08T02:02:17.838Z"
   },
   {
    "duration": -121,
    "start_time": "2021-07-08T02:02:17.847Z"
   },
   {
    "duration": -128,
    "start_time": "2021-07-08T02:02:17.855Z"
   },
   {
    "duration": -135,
    "start_time": "2021-07-08T02:02:17.864Z"
   },
   {
    "duration": -141,
    "start_time": "2021-07-08T02:02:17.871Z"
   },
   {
    "duration": -148,
    "start_time": "2021-07-08T02:02:17.879Z"
   },
   {
    "duration": -154,
    "start_time": "2021-07-08T02:02:17.886Z"
   },
   {
    "duration": -170,
    "start_time": "2021-07-08T02:02:17.904Z"
   },
   {
    "duration": -176,
    "start_time": "2021-07-08T02:02:17.911Z"
   },
   {
    "duration": -182,
    "start_time": "2021-07-08T02:02:17.918Z"
   },
   {
    "duration": -186,
    "start_time": "2021-07-08T02:02:17.924Z"
   },
   {
    "duration": -192,
    "start_time": "2021-07-08T02:02:17.931Z"
   },
   {
    "duration": -196,
    "start_time": "2021-07-08T02:02:17.936Z"
   },
   {
    "duration": -200,
    "start_time": "2021-07-08T02:02:17.942Z"
   },
   {
    "duration": -205,
    "start_time": "2021-07-08T02:02:17.948Z"
   },
   {
    "duration": -209,
    "start_time": "2021-07-08T02:02:17.953Z"
   },
   {
    "duration": -215,
    "start_time": "2021-07-08T02:02:17.960Z"
   },
   {
    "duration": -224,
    "start_time": "2021-07-08T02:02:17.970Z"
   },
   {
    "duration": -230,
    "start_time": "2021-07-08T02:02:17.977Z"
   },
   {
    "duration": -235,
    "start_time": "2021-07-08T02:02:17.984Z"
   },
   {
    "duration": -170,
    "start_time": "2021-07-08T02:02:17.991Z"
   },
   {
    "duration": -177,
    "start_time": "2021-07-08T02:02:17.999Z"
   },
   {
    "duration": -189,
    "start_time": "2021-07-08T02:02:18.012Z"
   },
   {
    "duration": 29,
    "start_time": "2021-07-08T02:02:49.803Z"
   },
   {
    "duration": 3118,
    "start_time": "2021-07-08T02:03:45.725Z"
   },
   {
    "duration": 1577,
    "start_time": "2021-07-08T02:04:05.915Z"
   },
   {
    "duration": 265,
    "start_time": "2021-07-08T02:04:07.494Z"
   },
   {
    "duration": 24,
    "start_time": "2021-07-08T02:04:07.762Z"
   },
   {
    "duration": 23,
    "start_time": "2021-07-08T02:04:07.788Z"
   },
   {
    "duration": 27,
    "start_time": "2021-07-08T02:04:07.814Z"
   },
   {
    "duration": 23,
    "start_time": "2021-07-08T02:04:07.843Z"
   },
   {
    "duration": 65,
    "start_time": "2021-07-08T02:04:07.868Z"
   },
   {
    "duration": 6,
    "start_time": "2021-07-08T02:04:07.936Z"
   },
   {
    "duration": 22,
    "start_time": "2021-07-08T02:04:07.945Z"
   },
   {
    "duration": 61,
    "start_time": "2021-07-08T02:04:07.970Z"
   },
   {
    "duration": 13,
    "start_time": "2021-07-08T02:04:08.033Z"
   },
   {
    "duration": 9,
    "start_time": "2021-07-08T02:04:08.048Z"
   },
   {
    "duration": 24,
    "start_time": "2021-07-08T02:04:08.059Z"
   },
   {
    "duration": 16,
    "start_time": "2021-07-08T02:04:08.085Z"
   },
   {
    "duration": 21,
    "start_time": "2021-07-08T02:04:08.103Z"
   },
   {
    "duration": 18,
    "start_time": "2021-07-08T02:04:08.126Z"
   },
   {
    "duration": 23,
    "start_time": "2021-07-08T02:04:08.146Z"
   },
   {
    "duration": 41,
    "start_time": "2021-07-08T02:04:08.171Z"
   },
   {
    "duration": 10,
    "start_time": "2021-07-08T02:04:08.214Z"
   },
   {
    "duration": 30,
    "start_time": "2021-07-08T02:04:08.226Z"
   },
   {
    "duration": 19,
    "start_time": "2021-07-08T02:04:08.258Z"
   },
   {
    "duration": 20,
    "start_time": "2021-07-08T02:04:08.279Z"
   },
   {
    "duration": 19,
    "start_time": "2021-07-08T02:04:08.305Z"
   },
   {
    "duration": 33,
    "start_time": "2021-07-08T02:04:08.328Z"
   },
   {
    "duration": 38,
    "start_time": "2021-07-08T02:04:08.363Z"
   },
   {
    "duration": 8,
    "start_time": "2021-07-08T02:04:08.403Z"
   },
   {
    "duration": 795,
    "start_time": "2021-07-08T02:04:08.414Z"
   },
   {
    "duration": 23,
    "start_time": "2021-07-08T02:04:09.211Z"
   },
   {
    "duration": 18,
    "start_time": "2021-07-08T02:04:09.237Z"
   },
   {
    "duration": 4,
    "start_time": "2021-07-08T02:04:09.258Z"
   },
   {
    "duration": 610,
    "start_time": "2021-07-08T02:04:09.265Z"
   },
   {
    "duration": 11,
    "start_time": "2021-07-08T02:04:09.878Z"
   },
   {
    "duration": 39,
    "start_time": "2021-07-08T02:04:09.892Z"
   },
   {
    "duration": 33,
    "start_time": "2021-07-08T02:04:09.934Z"
   },
   {
    "duration": 39,
    "start_time": "2021-07-08T02:04:09.970Z"
   },
   {
    "duration": 6,
    "start_time": "2021-07-08T02:04:10.011Z"
   },
   {
    "duration": 521,
    "start_time": "2021-07-08T02:04:10.019Z"
   },
   {
    "duration": 4,
    "start_time": "2021-07-08T02:04:10.542Z"
   },
   {
    "duration": 15,
    "start_time": "2021-07-08T02:04:10.549Z"
   },
   {
    "duration": 8,
    "start_time": "2021-07-08T02:04:10.567Z"
   },
   {
    "duration": 11,
    "start_time": "2021-07-08T02:04:10.577Z"
   },
   {
    "duration": 402,
    "start_time": "2021-07-08T02:04:10.610Z"
   },
   {
    "duration": 11,
    "start_time": "2021-07-08T02:04:11.014Z"
   },
   {
    "duration": 14,
    "start_time": "2021-07-08T02:04:11.028Z"
   },
   {
    "duration": 12,
    "start_time": "2021-07-08T02:04:11.044Z"
   },
   {
    "duration": 16,
    "start_time": "2021-07-08T02:04:11.058Z"
   },
   {
    "duration": 444,
    "start_time": "2021-07-08T02:04:11.077Z"
   },
   {
    "duration": 15,
    "start_time": "2021-07-08T02:04:11.523Z"
   },
   {
    "duration": 18,
    "start_time": "2021-07-08T02:04:11.540Z"
   },
   {
    "duration": 18,
    "start_time": "2021-07-08T02:04:11.560Z"
   },
   {
    "duration": 28,
    "start_time": "2021-07-08T02:04:11.581Z"
   },
   {
    "duration": 13,
    "start_time": "2021-07-08T02:04:11.612Z"
   },
   {
    "duration": 9,
    "start_time": "2021-07-08T02:04:11.628Z"
   },
   {
    "duration": 22,
    "start_time": "2021-07-08T02:04:11.639Z"
   },
   {
    "duration": 13,
    "start_time": "2021-07-08T02:04:11.664Z"
   },
   {
    "duration": 444,
    "start_time": "2021-07-08T02:04:11.679Z"
   },
   {
    "duration": 10,
    "start_time": "2021-07-08T02:04:12.125Z"
   },
   {
    "duration": 8,
    "start_time": "2021-07-08T02:04:12.137Z"
   },
   {
    "duration": 17,
    "start_time": "2021-07-08T02:04:12.148Z"
   },
   {
    "duration": 25,
    "start_time": "2021-07-08T02:04:12.168Z"
   },
   {
    "duration": 13,
    "start_time": "2021-07-08T02:04:12.196Z"
   },
   {
    "duration": 12,
    "start_time": "2021-07-08T02:04:12.211Z"
   },
   {
    "duration": 14,
    "start_time": "2021-07-08T02:04:12.226Z"
   },
   {
    "duration": 12,
    "start_time": "2021-07-08T02:04:12.242Z"
   },
   {
    "duration": 110,
    "start_time": "2021-07-08T02:04:12.257Z"
   },
   {
    "duration": 13,
    "start_time": "2021-07-08T02:04:12.370Z"
   },
   {
    "duration": 24,
    "start_time": "2021-07-08T02:04:12.386Z"
   },
   {
    "duration": 21,
    "start_time": "2021-07-08T02:04:12.420Z"
   },
   {
    "duration": 12,
    "start_time": "2021-07-08T02:04:12.446Z"
   },
   {
    "duration": 15,
    "start_time": "2021-07-08T02:04:12.460Z"
   },
   {
    "duration": 15,
    "start_time": "2021-07-08T02:04:12.478Z"
   },
   {
    "duration": 18,
    "start_time": "2021-07-08T02:04:12.495Z"
   },
   {
    "duration": 20,
    "start_time": "2021-07-08T02:04:12.515Z"
   },
   {
    "duration": 16,
    "start_time": "2021-07-08T02:04:12.537Z"
   },
   {
    "duration": 25,
    "start_time": "2021-07-08T02:04:12.555Z"
   },
   {
    "duration": 17,
    "start_time": "2021-07-08T02:04:12.582Z"
   },
   {
    "duration": 19,
    "start_time": "2021-07-08T02:04:12.601Z"
   },
   {
    "duration": 3010,
    "start_time": "2021-07-08T02:04:12.622Z"
   },
   {
    "duration": 8,
    "start_time": "2021-07-08T02:04:15.635Z"
   },
   {
    "duration": 14,
    "start_time": "2021-07-08T02:04:15.646Z"
   },
   {
    "duration": 16,
    "start_time": "2021-07-08T02:04:15.662Z"
   },
   {
    "duration": 30,
    "start_time": "2021-07-08T02:04:15.680Z"
   },
   {
    "duration": 435,
    "start_time": "2021-07-08T02:04:15.713Z"
   },
   {
    "duration": 6,
    "start_time": "2021-07-08T02:04:16.151Z"
   },
   {
    "duration": 484,
    "start_time": "2021-07-08T02:04:16.160Z"
   },
   {
    "duration": 487,
    "start_time": "2021-07-08T02:04:16.646Z"
   },
   {
    "duration": 426,
    "start_time": "2021-07-08T02:04:17.136Z"
   },
   {
    "duration": 552,
    "start_time": "2021-07-08T02:04:17.564Z"
   },
   {
    "duration": 432,
    "start_time": "2021-07-08T02:04:18.118Z"
   },
   {
    "duration": 573,
    "start_time": "2021-07-08T02:04:18.553Z"
   },
   {
    "duration": 9,
    "start_time": "2021-07-08T02:04:19.129Z"
   },
   {
    "duration": 9,
    "start_time": "2021-07-08T02:04:19.142Z"
   },
   {
    "duration": 14,
    "start_time": "2021-07-08T02:04:19.154Z"
   },
   {
    "duration": 387,
    "start_time": "2021-07-08T02:04:19.170Z"
   },
   {
    "duration": 9,
    "start_time": "2021-07-08T02:04:19.559Z"
   },
   {
    "duration": 17,
    "start_time": "2021-07-08T02:04:19.570Z"
   },
   {
    "duration": 28,
    "start_time": "2021-07-08T02:04:19.589Z"
   },
   {
    "duration": 382,
    "start_time": "2021-07-08T02:04:19.619Z"
   },
   {
    "duration": 14,
    "start_time": "2021-07-08T02:04:20.003Z"
   },
   {
    "duration": 22,
    "start_time": "2021-07-08T02:04:20.020Z"
   },
   {
    "duration": 15,
    "start_time": "2021-07-08T02:04:20.044Z"
   },
   {
    "duration": 32,
    "start_time": "2021-07-08T02:04:20.061Z"
   },
   {
    "duration": 19,
    "start_time": "2021-07-08T02:04:20.095Z"
   },
   {
    "duration": 17,
    "start_time": "2021-07-08T02:04:20.116Z"
   },
   {
    "duration": 22,
    "start_time": "2021-07-08T02:04:20.135Z"
   },
   {
    "duration": 18,
    "start_time": "2021-07-08T02:04:20.160Z"
   },
   {
    "duration": 556,
    "start_time": "2021-07-08T02:04:20.181Z"
   },
   {
    "duration": 1190,
    "start_time": "2021-07-08T02:04:19.549Z"
   },
   {
    "duration": 1184,
    "start_time": "2021-07-08T02:04:19.556Z"
   },
   {
    "duration": 1179,
    "start_time": "2021-07-08T02:04:19.563Z"
   },
   {
    "duration": 1165,
    "start_time": "2021-07-08T02:04:19.578Z"
   },
   {
    "duration": 1126,
    "start_time": "2021-07-08T02:04:19.618Z"
   },
   {
    "duration": 1115,
    "start_time": "2021-07-08T02:04:19.630Z"
   },
   {
    "duration": 1111,
    "start_time": "2021-07-08T02:04:19.636Z"
   },
   {
    "duration": 1105,
    "start_time": "2021-07-08T02:04:19.643Z"
   },
   {
    "duration": 1097,
    "start_time": "2021-07-08T02:04:19.652Z"
   },
   {
    "duration": 1093,
    "start_time": "2021-07-08T02:04:19.658Z"
   },
   {
    "duration": 1088,
    "start_time": "2021-07-08T02:04:19.664Z"
   },
   {
    "duration": 1085,
    "start_time": "2021-07-08T02:04:19.669Z"
   },
   {
    "duration": 1073,
    "start_time": "2021-07-08T02:04:19.682Z"
   },
   {
    "duration": 1069,
    "start_time": "2021-07-08T02:04:19.687Z"
   },
   {
    "duration": 1065,
    "start_time": "2021-07-08T02:04:19.693Z"
   },
   {
    "duration": 1060,
    "start_time": "2021-07-08T02:04:19.699Z"
   },
   {
    "duration": 1056,
    "start_time": "2021-07-08T02:04:19.704Z"
   },
   {
    "duration": 1051,
    "start_time": "2021-07-08T02:04:19.710Z"
   },
   {
    "duration": 1046,
    "start_time": "2021-07-08T02:04:19.716Z"
   },
   {
    "duration": 1043,
    "start_time": "2021-07-08T02:04:19.721Z"
   },
   {
    "duration": 1038,
    "start_time": "2021-07-08T02:04:19.727Z"
   },
   {
    "duration": 1039,
    "start_time": "2021-07-08T02:04:19.732Z"
   },
   {
    "duration": 1035,
    "start_time": "2021-07-08T02:04:19.738Z"
   },
   {
    "duration": 1030,
    "start_time": "2021-07-08T02:04:19.745Z"
   },
   {
    "duration": 957,
    "start_time": "2021-07-08T02:04:19.819Z"
   },
   {
    "duration": 953,
    "start_time": "2021-07-08T02:04:19.824Z"
   },
   {
    "duration": 948,
    "start_time": "2021-07-08T02:04:19.830Z"
   },
   {
    "duration": 944,
    "start_time": "2021-07-08T02:04:19.835Z"
   },
   {
    "duration": 968,
    "start_time": "2021-07-08T02:04:19.841Z"
   },
   {
    "duration": 965,
    "start_time": "2021-07-08T02:04:19.846Z"
   },
   {
    "duration": 961,
    "start_time": "2021-07-08T02:04:19.851Z"
   },
   {
    "duration": 958,
    "start_time": "2021-07-08T02:04:19.856Z"
   },
   {
    "duration": 953,
    "start_time": "2021-07-08T02:04:19.862Z"
   },
   {
    "duration": 11,
    "start_time": "2021-07-08T02:05:22.581Z"
   },
   {
    "duration": 20,
    "start_time": "2021-07-08T02:06:27.883Z"
   },
   {
    "duration": 6,
    "start_time": "2021-07-08T02:06:36.393Z"
   },
   {
    "duration": 11,
    "start_time": "2021-07-08T02:06:42.889Z"
   },
   {
    "duration": 13,
    "start_time": "2021-07-08T02:08:17.757Z"
   },
   {
    "duration": 13,
    "start_time": "2021-07-08T02:09:47.547Z"
   },
   {
    "duration": 31,
    "start_time": "2021-07-08T02:10:16.479Z"
   },
   {
    "duration": 8,
    "start_time": "2021-07-08T02:11:41.173Z"
   },
   {
    "duration": 10,
    "start_time": "2021-07-08T02:11:52.399Z"
   },
   {
    "duration": 14,
    "start_time": "2021-07-08T02:11:53.297Z"
   },
   {
    "duration": 1553,
    "start_time": "2021-07-08T02:12:24.632Z"
   },
   {
    "duration": 239,
    "start_time": "2021-07-08T02:12:26.188Z"
   },
   {
    "duration": 23,
    "start_time": "2021-07-08T02:12:26.429Z"
   },
   {
    "duration": 20,
    "start_time": "2021-07-08T02:12:26.454Z"
   },
   {
    "duration": 17,
    "start_time": "2021-07-08T02:12:26.476Z"
   },
   {
    "duration": 23,
    "start_time": "2021-07-08T02:12:26.509Z"
   },
   {
    "duration": 44,
    "start_time": "2021-07-08T02:12:26.534Z"
   },
   {
    "duration": 31,
    "start_time": "2021-07-08T02:12:26.581Z"
   },
   {
    "duration": 15,
    "start_time": "2021-07-08T02:12:26.615Z"
   },
   {
    "duration": 57,
    "start_time": "2021-07-08T02:12:26.633Z"
   },
   {
    "duration": 25,
    "start_time": "2021-07-08T02:12:26.692Z"
   },
   {
    "duration": 7,
    "start_time": "2021-07-08T02:12:26.719Z"
   },
   {
    "duration": 19,
    "start_time": "2021-07-08T02:12:26.728Z"
   },
   {
    "duration": 8,
    "start_time": "2021-07-08T02:12:26.749Z"
   },
   {
    "duration": 15,
    "start_time": "2021-07-08T02:12:26.760Z"
   },
   {
    "duration": 47,
    "start_time": "2021-07-08T02:12:26.777Z"
   },
   {
    "duration": 24,
    "start_time": "2021-07-08T02:12:26.826Z"
   },
   {
    "duration": 12,
    "start_time": "2021-07-08T02:12:26.852Z"
   },
   {
    "duration": 10,
    "start_time": "2021-07-08T02:12:26.867Z"
   },
   {
    "duration": 44,
    "start_time": "2021-07-08T02:12:26.879Z"
   },
   {
    "duration": 7,
    "start_time": "2021-07-08T02:12:26.926Z"
   },
   {
    "duration": 8,
    "start_time": "2021-07-08T02:12:26.936Z"
   },
   {
    "duration": 8,
    "start_time": "2021-07-08T02:12:26.952Z"
   },
   {
    "duration": 7,
    "start_time": "2021-07-08T02:12:27.009Z"
   },
   {
    "duration": 28,
    "start_time": "2021-07-08T02:12:27.019Z"
   },
   {
    "duration": 6,
    "start_time": "2021-07-08T02:12:27.051Z"
   },
   {
    "duration": 821,
    "start_time": "2021-07-08T02:12:27.059Z"
   },
   {
    "duration": 27,
    "start_time": "2021-07-08T02:12:27.883Z"
   },
   {
    "duration": 9,
    "start_time": "2021-07-08T02:12:27.913Z"
   },
   {
    "duration": 4,
    "start_time": "2021-07-08T02:12:27.924Z"
   },
   {
    "duration": 589,
    "start_time": "2021-07-08T02:12:27.930Z"
   },
   {
    "duration": 10,
    "start_time": "2021-07-08T02:12:28.522Z"
   },
   {
    "duration": 25,
    "start_time": "2021-07-08T02:12:28.534Z"
   },
   {
    "duration": 49,
    "start_time": "2021-07-08T02:12:28.561Z"
   },
   {
    "duration": 10,
    "start_time": "2021-07-08T02:12:28.612Z"
   },
   {
    "duration": 11,
    "start_time": "2021-07-08T02:12:28.624Z"
   },
   {
    "duration": 518,
    "start_time": "2021-07-08T02:12:28.637Z"
   },
   {
    "duration": 4,
    "start_time": "2021-07-08T02:12:29.157Z"
   },
   {
    "duration": 17,
    "start_time": "2021-07-08T02:12:29.163Z"
   },
   {
    "duration": 29,
    "start_time": "2021-07-08T02:12:29.182Z"
   },
   {
    "duration": 7,
    "start_time": "2021-07-08T02:12:29.213Z"
   },
   {
    "duration": 416,
    "start_time": "2021-07-08T02:12:29.223Z"
   },
   {
    "duration": 13,
    "start_time": "2021-07-08T02:12:29.641Z"
   },
   {
    "duration": 11,
    "start_time": "2021-07-08T02:12:29.657Z"
   },
   {
    "duration": 9,
    "start_time": "2021-07-08T02:12:29.670Z"
   },
   {
    "duration": 35,
    "start_time": "2021-07-08T02:12:29.681Z"
   },
   {
    "duration": 442,
    "start_time": "2021-07-08T02:12:29.719Z"
   },
   {
    "duration": 15,
    "start_time": "2021-07-08T02:12:30.164Z"
   },
   {
    "duration": 7,
    "start_time": "2021-07-08T02:12:30.181Z"
   },
   {
    "duration": 12,
    "start_time": "2021-07-08T02:12:30.210Z"
   },
   {
    "duration": 16,
    "start_time": "2021-07-08T02:12:30.225Z"
   },
   {
    "duration": 27,
    "start_time": "2021-07-08T02:12:30.244Z"
   },
   {
    "duration": 5,
    "start_time": "2021-07-08T02:12:30.274Z"
   },
   {
    "duration": 36,
    "start_time": "2021-07-08T02:12:30.281Z"
   },
   {
    "duration": 31,
    "start_time": "2021-07-08T02:12:30.319Z"
   },
   {
    "duration": 411,
    "start_time": "2021-07-08T02:12:30.352Z"
   },
   {
    "duration": 8,
    "start_time": "2021-07-08T02:12:30.765Z"
   },
   {
    "duration": 15,
    "start_time": "2021-07-08T02:12:30.775Z"
   },
   {
    "duration": 20,
    "start_time": "2021-07-08T02:12:30.792Z"
   },
   {
    "duration": 39,
    "start_time": "2021-07-08T02:12:30.814Z"
   },
   {
    "duration": 13,
    "start_time": "2021-07-08T02:12:30.856Z"
   },
   {
    "duration": 11,
    "start_time": "2021-07-08T02:12:30.871Z"
   },
   {
    "duration": 14,
    "start_time": "2021-07-08T02:12:30.885Z"
   },
   {
    "duration": 32,
    "start_time": "2021-07-08T02:12:30.902Z"
   },
   {
    "duration": 103,
    "start_time": "2021-07-08T02:12:30.936Z"
   },
   {
    "duration": 17,
    "start_time": "2021-07-08T02:12:31.041Z"
   },
   {
    "duration": 20,
    "start_time": "2021-07-08T02:12:31.060Z"
   },
   {
    "duration": 20,
    "start_time": "2021-07-08T02:12:31.090Z"
   },
   {
    "duration": 434,
    "start_time": "2021-07-08T02:12:31.114Z"
   },
   {
    "duration": -302,
    "start_time": "2021-07-08T02:12:31.852Z"
   },
   {
    "duration": -309,
    "start_time": "2021-07-08T02:12:31.861Z"
   },
   {
    "duration": -317,
    "start_time": "2021-07-08T02:12:31.870Z"
   },
   {
    "duration": -321,
    "start_time": "2021-07-08T02:12:31.875Z"
   },
   {
    "duration": -325,
    "start_time": "2021-07-08T02:12:31.881Z"
   },
   {
    "duration": -328,
    "start_time": "2021-07-08T02:12:31.886Z"
   },
   {
    "duration": -332,
    "start_time": "2021-07-08T02:12:31.892Z"
   },
   {
    "duration": -334,
    "start_time": "2021-07-08T02:12:31.897Z"
   },
   {
    "duration": -342,
    "start_time": "2021-07-08T02:12:31.907Z"
   },
   {
    "duration": -344,
    "start_time": "2021-07-08T02:12:31.912Z"
   },
   {
    "duration": -350,
    "start_time": "2021-07-08T02:12:31.920Z"
   },
   {
    "duration": -352,
    "start_time": "2021-07-08T02:12:31.924Z"
   },
   {
    "duration": -356,
    "start_time": "2021-07-08T02:12:31.931Z"
   },
   {
    "duration": -361,
    "start_time": "2021-07-08T02:12:31.938Z"
   },
   {
    "duration": -383,
    "start_time": "2021-07-08T02:12:31.961Z"
   },
   {
    "duration": -387,
    "start_time": "2021-07-08T02:12:31.967Z"
   },
   {
    "duration": -392,
    "start_time": "2021-07-08T02:12:31.975Z"
   },
   {
    "duration": -397,
    "start_time": "2021-07-08T02:12:31.982Z"
   },
   {
    "duration": -400,
    "start_time": "2021-07-08T02:12:31.987Z"
   },
   {
    "duration": -384,
    "start_time": "2021-07-08T02:12:31.993Z"
   },
   {
    "duration": -389,
    "start_time": "2021-07-08T02:12:31.999Z"
   },
   {
    "duration": -392,
    "start_time": "2021-07-08T02:12:32.004Z"
   },
   {
    "duration": -397,
    "start_time": "2021-07-08T02:12:32.010Z"
   },
   {
    "duration": -401,
    "start_time": "2021-07-08T02:12:32.016Z"
   },
   {
    "duration": -405,
    "start_time": "2021-07-08T02:12:32.022Z"
   },
   {
    "duration": -408,
    "start_time": "2021-07-08T02:12:32.027Z"
   },
   {
    "duration": -414,
    "start_time": "2021-07-08T02:12:32.035Z"
   },
   {
    "duration": -421,
    "start_time": "2021-07-08T02:12:32.043Z"
   },
   {
    "duration": -425,
    "start_time": "2021-07-08T02:12:32.049Z"
   },
   {
    "duration": -429,
    "start_time": "2021-07-08T02:12:32.055Z"
   },
   {
    "duration": -444,
    "start_time": "2021-07-08T02:12:32.071Z"
   },
   {
    "duration": -449,
    "start_time": "2021-07-08T02:12:32.078Z"
   },
   {
    "duration": -455,
    "start_time": "2021-07-08T02:12:32.086Z"
   },
   {
    "duration": -461,
    "start_time": "2021-07-08T02:12:32.094Z"
   },
   {
    "duration": -466,
    "start_time": "2021-07-08T02:12:32.100Z"
   },
   {
    "duration": -469,
    "start_time": "2021-07-08T02:12:32.105Z"
   },
   {
    "duration": -473,
    "start_time": "2021-07-08T02:12:32.111Z"
   },
   {
    "duration": -477,
    "start_time": "2021-07-08T02:12:32.117Z"
   },
   {
    "duration": -481,
    "start_time": "2021-07-08T02:12:32.122Z"
   },
   {
    "duration": -485,
    "start_time": "2021-07-08T02:12:32.128Z"
   },
   {
    "duration": -489,
    "start_time": "2021-07-08T02:12:32.133Z"
   },
   {
    "duration": -492,
    "start_time": "2021-07-08T02:12:32.138Z"
   },
   {
    "duration": -498,
    "start_time": "2021-07-08T02:12:32.146Z"
   },
   {
    "duration": -501,
    "start_time": "2021-07-08T02:12:32.151Z"
   },
   {
    "duration": -446,
    "start_time": "2021-07-08T02:12:32.156Z"
   },
   {
    "duration": -449,
    "start_time": "2021-07-08T02:12:32.161Z"
   },
   {
    "duration": -463,
    "start_time": "2021-07-08T02:12:32.176Z"
   },
   {
    "duration": -467,
    "start_time": "2021-07-08T02:12:32.182Z"
   },
   {
    "duration": -473,
    "start_time": "2021-07-08T02:12:32.189Z"
   },
   {
    "duration": -478,
    "start_time": "2021-07-08T02:12:32.195Z"
   },
   {
    "duration": -482,
    "start_time": "2021-07-08T02:12:32.201Z"
   },
   {
    "duration": -487,
    "start_time": "2021-07-08T02:12:32.207Z"
   },
   {
    "duration": -491,
    "start_time": "2021-07-08T02:12:32.213Z"
   },
   {
    "duration": -497,
    "start_time": "2021-07-08T02:12:32.221Z"
   },
   {
    "duration": -504,
    "start_time": "2021-07-08T02:12:32.229Z"
   },
   {
    "duration": -511,
    "start_time": "2021-07-08T02:12:32.237Z"
   },
   {
    "duration": -517,
    "start_time": "2021-07-08T02:12:32.245Z"
   },
   {
    "duration": -525,
    "start_time": "2021-07-08T02:12:32.254Z"
   },
   {
    "duration": -532,
    "start_time": "2021-07-08T02:12:32.263Z"
   },
   {
    "duration": -539,
    "start_time": "2021-07-08T02:12:32.271Z"
   },
   {
    "duration": -550,
    "start_time": "2021-07-08T02:12:32.284Z"
   },
   {
    "duration": -555,
    "start_time": "2021-07-08T02:12:32.290Z"
   },
   {
    "duration": -561,
    "start_time": "2021-07-08T02:12:32.297Z"
   },
   {
    "duration": -564,
    "start_time": "2021-07-08T02:12:32.302Z"
   },
   {
    "duration": -569,
    "start_time": "2021-07-08T02:12:32.308Z"
   },
   {
    "duration": -573,
    "start_time": "2021-07-08T02:12:32.314Z"
   },
   {
    "duration": -579,
    "start_time": "2021-07-08T02:12:32.322Z"
   },
   {
    "duration": -582,
    "start_time": "2021-07-08T02:12:32.327Z"
   },
   {
    "duration": -528,
    "start_time": "2021-07-08T02:12:32.336Z"
   },
   {
    "duration": -534,
    "start_time": "2021-07-08T02:12:32.344Z"
   },
   {
    "duration": -541,
    "start_time": "2021-07-08T02:12:32.352Z"
   },
   {
    "duration": -547,
    "start_time": "2021-07-08T02:12:32.360Z"
   },
   {
    "duration": 1555,
    "start_time": "2021-07-08T02:13:35.749Z"
   },
   {
    "duration": 271,
    "start_time": "2021-07-08T02:13:37.309Z"
   },
   {
    "duration": 26,
    "start_time": "2021-07-08T02:13:37.584Z"
   },
   {
    "duration": 18,
    "start_time": "2021-07-08T02:13:37.613Z"
   },
   {
    "duration": 20,
    "start_time": "2021-07-08T02:13:37.634Z"
   },
   {
    "duration": 54,
    "start_time": "2021-07-08T02:13:37.656Z"
   },
   {
    "duration": 44,
    "start_time": "2021-07-08T02:13:37.714Z"
   },
   {
    "duration": 7,
    "start_time": "2021-07-08T02:13:37.765Z"
   },
   {
    "duration": 42,
    "start_time": "2021-07-08T02:13:37.776Z"
   },
   {
    "duration": 58,
    "start_time": "2021-07-08T02:13:37.821Z"
   },
   {
    "duration": 34,
    "start_time": "2021-07-08T02:13:37.881Z"
   },
   {
    "duration": 4,
    "start_time": "2021-07-08T02:13:37.918Z"
   },
   {
    "duration": 15,
    "start_time": "2021-07-08T02:13:37.924Z"
   },
   {
    "duration": 6,
    "start_time": "2021-07-08T02:13:37.942Z"
   },
   {
    "duration": 14,
    "start_time": "2021-07-08T02:13:37.950Z"
   },
   {
    "duration": 52,
    "start_time": "2021-07-08T02:13:37.967Z"
   },
   {
    "duration": 22,
    "start_time": "2021-07-08T02:13:38.022Z"
   },
   {
    "duration": 12,
    "start_time": "2021-07-08T02:13:38.047Z"
   },
   {
    "duration": 9,
    "start_time": "2021-07-08T02:13:38.061Z"
   },
   {
    "duration": 43,
    "start_time": "2021-07-08T02:13:38.072Z"
   },
   {
    "duration": 6,
    "start_time": "2021-07-08T02:13:38.118Z"
   },
   {
    "duration": 7,
    "start_time": "2021-07-08T02:13:38.127Z"
   },
   {
    "duration": 7,
    "start_time": "2021-07-08T02:13:38.140Z"
   },
   {
    "duration": 8,
    "start_time": "2021-07-08T02:13:38.150Z"
   },
   {
    "duration": 68,
    "start_time": "2021-07-08T02:13:38.161Z"
   },
   {
    "duration": 6,
    "start_time": "2021-07-08T02:13:38.232Z"
   },
   {
    "duration": 825,
    "start_time": "2021-07-08T02:13:38.241Z"
   },
   {
    "duration": 22,
    "start_time": "2021-07-08T02:13:39.069Z"
   },
   {
    "duration": 26,
    "start_time": "2021-07-08T02:13:39.093Z"
   },
   {
    "duration": 3,
    "start_time": "2021-07-08T02:13:39.122Z"
   },
   {
    "duration": 608,
    "start_time": "2021-07-08T02:13:39.128Z"
   },
   {
    "duration": 10,
    "start_time": "2021-07-08T02:13:39.738Z"
   },
   {
    "duration": 21,
    "start_time": "2021-07-08T02:13:39.750Z"
   },
   {
    "duration": 47,
    "start_time": "2021-07-08T02:13:39.773Z"
   },
   {
    "duration": 17,
    "start_time": "2021-07-08T02:13:39.823Z"
   },
   {
    "duration": 12,
    "start_time": "2021-07-08T02:13:39.842Z"
   },
   {
    "duration": 515,
    "start_time": "2021-07-08T02:13:39.856Z"
   },
   {
    "duration": 4,
    "start_time": "2021-07-08T02:13:40.373Z"
   },
   {
    "duration": 30,
    "start_time": "2021-07-08T02:13:40.380Z"
   },
   {
    "duration": 8,
    "start_time": "2021-07-08T02:13:40.412Z"
   },
   {
    "duration": 3,
    "start_time": "2021-07-08T02:13:40.423Z"
   },
   {
    "duration": 521,
    "start_time": "2021-07-08T02:13:40.429Z"
   },
   {
    "duration": 12,
    "start_time": "2021-07-08T02:13:40.952Z"
   },
   {
    "duration": 12,
    "start_time": "2021-07-08T02:13:40.967Z"
   },
   {
    "duration": 28,
    "start_time": "2021-07-08T02:13:40.982Z"
   },
   {
    "duration": 13,
    "start_time": "2021-07-08T02:13:41.013Z"
   },
   {
    "duration": 441,
    "start_time": "2021-07-08T02:13:41.028Z"
   },
   {
    "duration": 15,
    "start_time": "2021-07-08T02:13:41.471Z"
   },
   {
    "duration": 21,
    "start_time": "2021-07-08T02:13:41.488Z"
   },
   {
    "duration": 27,
    "start_time": "2021-07-08T02:13:41.512Z"
   },
   {
    "duration": 10,
    "start_time": "2021-07-08T02:13:41.541Z"
   },
   {
    "duration": 35,
    "start_time": "2021-07-08T02:13:41.554Z"
   },
   {
    "duration": 8,
    "start_time": "2021-07-08T02:13:41.592Z"
   },
   {
    "duration": 22,
    "start_time": "2021-07-08T02:13:41.603Z"
   },
   {
    "duration": 19,
    "start_time": "2021-07-08T02:13:41.628Z"
   },
   {
    "duration": 404,
    "start_time": "2021-07-08T02:13:41.650Z"
   },
   {
    "duration": 10,
    "start_time": "2021-07-08T02:13:42.056Z"
   },
   {
    "duration": 20,
    "start_time": "2021-07-08T02:13:42.068Z"
   },
   {
    "duration": 11,
    "start_time": "2021-07-08T02:13:42.090Z"
   },
   {
    "duration": 25,
    "start_time": "2021-07-08T02:13:42.103Z"
   },
   {
    "duration": 14,
    "start_time": "2021-07-08T02:13:42.131Z"
   },
   {
    "duration": 17,
    "start_time": "2021-07-08T02:13:42.148Z"
   },
   {
    "duration": 11,
    "start_time": "2021-07-08T02:13:42.168Z"
   },
   {
    "duration": 21,
    "start_time": "2021-07-08T02:13:42.181Z"
   },
   {
    "duration": 104,
    "start_time": "2021-07-08T02:13:42.205Z"
   },
   {
    "duration": 15,
    "start_time": "2021-07-08T02:13:42.311Z"
   },
   {
    "duration": 21,
    "start_time": "2021-07-08T02:13:42.328Z"
   },
   {
    "duration": 14,
    "start_time": "2021-07-08T02:13:42.359Z"
   },
   {
    "duration": 10,
    "start_time": "2021-07-08T02:13:42.377Z"
   },
   {
    "duration": 16,
    "start_time": "2021-07-08T02:13:42.389Z"
   },
   {
    "duration": 23,
    "start_time": "2021-07-08T02:13:42.407Z"
   },
   {
    "duration": 21,
    "start_time": "2021-07-08T02:13:42.432Z"
   },
   {
    "duration": 18,
    "start_time": "2021-07-08T02:13:42.456Z"
   },
   {
    "duration": 19,
    "start_time": "2021-07-08T02:13:42.476Z"
   },
   {
    "duration": 24,
    "start_time": "2021-07-08T02:13:42.498Z"
   },
   {
    "duration": 14,
    "start_time": "2021-07-08T02:13:42.524Z"
   },
   {
    "duration": 12,
    "start_time": "2021-07-08T02:13:42.540Z"
   },
   {
    "duration": 3014,
    "start_time": "2021-07-08T02:13:42.554Z"
   },
   {
    "duration": 8,
    "start_time": "2021-07-08T02:13:45.570Z"
   },
   {
    "duration": 29,
    "start_time": "2021-07-08T02:13:45.581Z"
   },
   {
    "duration": 13,
    "start_time": "2021-07-08T02:13:45.613Z"
   },
   {
    "duration": 9,
    "start_time": "2021-07-08T02:13:45.629Z"
   },
   {
    "duration": 439,
    "start_time": "2021-07-08T02:13:45.641Z"
   },
   {
    "duration": 7,
    "start_time": "2021-07-08T02:13:46.083Z"
   },
   {
    "duration": 439,
    "start_time": "2021-07-08T02:13:46.093Z"
   },
   {
    "duration": 433,
    "start_time": "2021-07-08T02:13:46.534Z"
   },
   {
    "duration": 444,
    "start_time": "2021-07-08T02:13:46.969Z"
   },
   {
    "duration": 431,
    "start_time": "2021-07-08T02:13:47.415Z"
   },
   {
    "duration": 410,
    "start_time": "2021-07-08T02:13:47.848Z"
   },
   {
    "duration": 557,
    "start_time": "2021-07-08T02:13:48.260Z"
   },
   {
    "duration": 8,
    "start_time": "2021-07-08T02:13:48.820Z"
   },
   {
    "duration": 14,
    "start_time": "2021-07-08T02:13:48.830Z"
   },
   {
    "duration": 13,
    "start_time": "2021-07-08T02:13:48.846Z"
   },
   {
    "duration": 366,
    "start_time": "2021-07-08T02:13:48.861Z"
   },
   {
    "duration": 9,
    "start_time": "2021-07-08T02:13:49.229Z"
   },
   {
    "duration": 11,
    "start_time": "2021-07-08T02:13:49.240Z"
   },
   {
    "duration": 15,
    "start_time": "2021-07-08T02:13:49.253Z"
   },
   {
    "duration": 381,
    "start_time": "2021-07-08T02:13:49.271Z"
   },
   {
    "duration": 9,
    "start_time": "2021-07-08T02:13:49.654Z"
   },
   {
    "duration": 9,
    "start_time": "2021-07-08T02:13:49.666Z"
   },
   {
    "duration": 31,
    "start_time": "2021-07-08T02:13:49.678Z"
   },
   {
    "duration": 12,
    "start_time": "2021-07-08T02:13:49.712Z"
   },
   {
    "duration": 18,
    "start_time": "2021-07-08T02:13:49.726Z"
   },
   {
    "duration": 8,
    "start_time": "2021-07-08T02:13:49.746Z"
   },
   {
    "duration": 16,
    "start_time": "2021-07-08T02:13:49.756Z"
   },
   {
    "duration": 35,
    "start_time": "2021-07-08T02:13:49.774Z"
   },
   {
    "duration": 9,
    "start_time": "2021-07-08T02:13:49.811Z"
   },
   {
    "duration": 15,
    "start_time": "2021-07-08T02:13:49.822Z"
   },
   {
    "duration": 16,
    "start_time": "2021-07-08T02:13:49.839Z"
   },
   {
    "duration": 23,
    "start_time": "2021-07-08T02:13:49.857Z"
   },
   {
    "duration": 39,
    "start_time": "2021-07-08T02:13:49.882Z"
   },
   {
    "duration": 23,
    "start_time": "2021-07-08T02:13:49.923Z"
   },
   {
    "duration": 422,
    "start_time": "2021-07-08T02:13:49.948Z"
   },
   {
    "duration": 11,
    "start_time": "2021-07-08T02:13:50.372Z"
   },
   {
    "duration": 32,
    "start_time": "2021-07-08T02:13:50.385Z"
   },
   {
    "duration": 18,
    "start_time": "2021-07-08T02:13:50.419Z"
   },
   {
    "duration": 19,
    "start_time": "2021-07-08T02:13:50.439Z"
   },
   {
    "duration": 414,
    "start_time": "2021-07-08T02:13:50.460Z"
   },
   {
    "duration": 7,
    "start_time": "2021-07-08T02:13:50.876Z"
   },
   {
    "duration": 29,
    "start_time": "2021-07-08T02:13:50.885Z"
   },
   {
    "duration": 5,
    "start_time": "2021-07-08T02:13:50.917Z"
   },
   {
    "duration": 16,
    "start_time": "2021-07-08T02:13:50.925Z"
   },
   {
    "duration": 402,
    "start_time": "2021-07-08T02:13:50.944Z"
   },
   {
    "duration": 25,
    "start_time": "2021-07-08T02:13:51.348Z"
   },
   {
    "duration": 41,
    "start_time": "2021-07-08T02:13:51.376Z"
   },
   {
    "duration": 5,
    "start_time": "2021-07-08T02:13:51.419Z"
   },
   {
    "duration": 8,
    "start_time": "2021-07-08T02:13:51.427Z"
   },
   {
    "duration": 6,
    "start_time": "2021-07-08T02:13:51.438Z"
   },
   {
    "duration": 14,
    "start_time": "2021-07-08T02:13:51.447Z"
   },
   {
    "duration": 11,
    "start_time": "2021-07-08T02:13:51.463Z"
   },
   {
    "duration": 35,
    "start_time": "2021-07-08T02:13:51.476Z"
   },
   {
    "duration": 18,
    "start_time": "2021-07-08T02:13:51.514Z"
   },
   {
    "duration": 40,
    "start_time": "2021-07-08T02:13:51.534Z"
   },
   {
    "duration": 5,
    "start_time": "2021-07-08T02:13:51.577Z"
   },
   {
    "duration": 8,
    "start_time": "2021-07-08T02:13:51.584Z"
   },
   {
    "duration": 4,
    "start_time": "2021-07-08T02:13:51.610Z"
   },
   {
    "duration": 11,
    "start_time": "2021-07-08T02:13:51.616Z"
   },
   {
    "duration": 17,
    "start_time": "2021-07-08T02:13:51.630Z"
   },
   {
    "duration": 17,
    "start_time": "2021-07-08T02:13:51.649Z"
   },
   {
    "duration": 13,
    "start_time": "2021-07-08T02:13:51.669Z"
   },
   {
    "duration": 1599,
    "start_time": "2021-07-08T02:17:20.494Z"
   },
   {
    "duration": 242,
    "start_time": "2021-07-08T02:17:22.096Z"
   },
   {
    "duration": 24,
    "start_time": "2021-07-08T02:17:22.341Z"
   },
   {
    "duration": 22,
    "start_time": "2021-07-08T02:17:22.368Z"
   },
   {
    "duration": 19,
    "start_time": "2021-07-08T02:17:22.410Z"
   },
   {
    "duration": 24,
    "start_time": "2021-07-08T02:17:22.431Z"
   },
   {
    "duration": 69,
    "start_time": "2021-07-08T02:17:22.458Z"
   },
   {
    "duration": 6,
    "start_time": "2021-07-08T02:17:22.531Z"
   },
   {
    "duration": 19,
    "start_time": "2021-07-08T02:17:22.540Z"
   },
   {
    "duration": 72,
    "start_time": "2021-07-08T02:17:22.562Z"
   },
   {
    "duration": 13,
    "start_time": "2021-07-08T02:17:22.636Z"
   },
   {
    "duration": 4,
    "start_time": "2021-07-08T02:17:22.652Z"
   },
   {
    "duration": 17,
    "start_time": "2021-07-08T02:17:22.659Z"
   },
   {
    "duration": 33,
    "start_time": "2021-07-08T02:17:22.679Z"
   },
   {
    "duration": 20,
    "start_time": "2021-07-08T02:17:22.714Z"
   },
   {
    "duration": 22,
    "start_time": "2021-07-08T02:17:22.736Z"
   },
   {
    "duration": 26,
    "start_time": "2021-07-08T02:17:22.761Z"
   },
   {
    "duration": 29,
    "start_time": "2021-07-08T02:17:22.789Z"
   },
   {
    "duration": 17,
    "start_time": "2021-07-08T02:17:22.821Z"
   },
   {
    "duration": 15,
    "start_time": "2021-07-08T02:17:22.840Z"
   },
   {
    "duration": 10,
    "start_time": "2021-07-08T02:17:22.857Z"
   },
   {
    "duration": 39,
    "start_time": "2021-07-08T02:17:22.870Z"
   },
   {
    "duration": 8,
    "start_time": "2021-07-08T02:17:22.915Z"
   },
   {
    "duration": 17,
    "start_time": "2021-07-08T02:17:22.927Z"
   },
   {
    "duration": 35,
    "start_time": "2021-07-08T02:17:22.947Z"
   },
   {
    "duration": 7,
    "start_time": "2021-07-08T02:17:22.985Z"
   },
   {
    "duration": 818,
    "start_time": "2021-07-08T02:17:22.995Z"
   },
   {
    "duration": 20,
    "start_time": "2021-07-08T02:17:23.815Z"
   },
   {
    "duration": 14,
    "start_time": "2021-07-08T02:17:23.838Z"
   },
   {
    "duration": 9,
    "start_time": "2021-07-08T02:17:23.854Z"
   },
   {
    "duration": 585,
    "start_time": "2021-07-08T02:17:23.866Z"
   },
   {
    "duration": 10,
    "start_time": "2021-07-08T02:17:24.453Z"
   },
   {
    "duration": 29,
    "start_time": "2021-07-08T02:17:24.465Z"
   },
   {
    "duration": 19,
    "start_time": "2021-07-08T02:17:24.508Z"
   },
   {
    "duration": 14,
    "start_time": "2021-07-08T02:17:24.530Z"
   },
   {
    "duration": 10,
    "start_time": "2021-07-08T02:17:24.547Z"
   },
   {
    "duration": 516,
    "start_time": "2021-07-08T02:17:24.559Z"
   },
   {
    "duration": 4,
    "start_time": "2021-07-08T02:17:25.077Z"
   },
   {
    "duration": 28,
    "start_time": "2021-07-08T02:17:25.084Z"
   },
   {
    "duration": 14,
    "start_time": "2021-07-08T02:17:25.114Z"
   },
   {
    "duration": 4,
    "start_time": "2021-07-08T02:17:25.130Z"
   },
   {
    "duration": 617,
    "start_time": "2021-07-08T02:17:25.137Z"
   },
   {
    "duration": 13,
    "start_time": "2021-07-08T02:17:25.756Z"
   },
   {
    "duration": 7,
    "start_time": "2021-07-08T02:17:25.772Z"
   },
   {
    "duration": 7,
    "start_time": "2021-07-08T02:17:25.808Z"
   },
   {
    "duration": 16,
    "start_time": "2021-07-08T02:17:25.818Z"
   },
   {
    "duration": 457,
    "start_time": "2021-07-08T02:17:25.837Z"
   },
   {
    "duration": 26,
    "start_time": "2021-07-08T02:17:26.297Z"
   },
   {
    "duration": 8,
    "start_time": "2021-07-08T02:17:26.326Z"
   },
   {
    "duration": 21,
    "start_time": "2021-07-08T02:17:26.337Z"
   },
   {
    "duration": 7,
    "start_time": "2021-07-08T02:17:26.361Z"
   },
   {
    "duration": 51,
    "start_time": "2021-07-08T02:17:26.370Z"
   },
   {
    "duration": 22,
    "start_time": "2021-07-08T02:17:26.424Z"
   },
   {
    "duration": 25,
    "start_time": "2021-07-08T02:17:26.449Z"
   },
   {
    "duration": 28,
    "start_time": "2021-07-08T02:17:26.477Z"
   },
   {
    "duration": 405,
    "start_time": "2021-07-08T02:17:26.508Z"
   },
   {
    "duration": 9,
    "start_time": "2021-07-08T02:17:26.915Z"
   },
   {
    "duration": 7,
    "start_time": "2021-07-08T02:17:26.927Z"
   },
   {
    "duration": 6,
    "start_time": "2021-07-08T02:17:26.937Z"
   },
   {
    "duration": 16,
    "start_time": "2021-07-08T02:17:26.946Z"
   },
   {
    "duration": 8,
    "start_time": "2021-07-08T02:17:26.965Z"
   },
   {
    "duration": 37,
    "start_time": "2021-07-08T02:17:26.975Z"
   },
   {
    "duration": 9,
    "start_time": "2021-07-08T02:17:27.014Z"
   },
   {
    "duration": 8,
    "start_time": "2021-07-08T02:17:27.025Z"
   },
   {
    "duration": 115,
    "start_time": "2021-07-08T02:17:27.035Z"
   },
   {
    "duration": 8,
    "start_time": "2021-07-08T02:17:27.153Z"
   },
   {
    "duration": 16,
    "start_time": "2021-07-08T02:17:27.164Z"
   },
   {
    "duration": 10,
    "start_time": "2021-07-08T02:17:27.210Z"
   },
   {
    "duration": 11,
    "start_time": "2021-07-08T02:17:27.224Z"
   },
   {
    "duration": 10,
    "start_time": "2021-07-08T02:17:27.237Z"
   },
   {
    "duration": 10,
    "start_time": "2021-07-08T02:17:27.250Z"
   },
   {
    "duration": 12,
    "start_time": "2021-07-08T02:17:27.263Z"
   },
   {
    "duration": 34,
    "start_time": "2021-07-08T02:17:27.278Z"
   },
   {
    "duration": 7,
    "start_time": "2021-07-08T02:17:27.315Z"
   },
   {
    "duration": 14,
    "start_time": "2021-07-08T02:17:27.324Z"
   },
   {
    "duration": 8,
    "start_time": "2021-07-08T02:17:27.340Z"
   },
   {
    "duration": 16,
    "start_time": "2021-07-08T02:17:27.350Z"
   },
   {
    "duration": 3092,
    "start_time": "2021-07-08T02:17:27.369Z"
   },
   {
    "duration": 10,
    "start_time": "2021-07-08T02:17:30.464Z"
   },
   {
    "duration": 19,
    "start_time": "2021-07-08T02:17:30.477Z"
   },
   {
    "duration": 14,
    "start_time": "2021-07-08T02:17:30.509Z"
   },
   {
    "duration": 21,
    "start_time": "2021-07-08T02:17:30.525Z"
   },
   {
    "duration": 428,
    "start_time": "2021-07-08T02:17:30.548Z"
   },
   {
    "duration": 7,
    "start_time": "2021-07-08T02:17:30.979Z"
   },
   {
    "duration": 433,
    "start_time": "2021-07-08T02:17:30.988Z"
   },
   {
    "duration": 447,
    "start_time": "2021-07-08T02:17:31.423Z"
   },
   {
    "duration": 469,
    "start_time": "2021-07-08T02:17:31.873Z"
   },
   {
    "duration": 440,
    "start_time": "2021-07-08T02:17:32.344Z"
   },
   {
    "duration": 441,
    "start_time": "2021-07-08T02:17:32.787Z"
   },
   {
    "duration": 548,
    "start_time": "2021-07-08T02:17:33.230Z"
   },
   {
    "duration": 9,
    "start_time": "2021-07-08T02:17:33.780Z"
   },
   {
    "duration": 24,
    "start_time": "2021-07-08T02:17:33.791Z"
   },
   {
    "duration": 10,
    "start_time": "2021-07-08T02:17:33.818Z"
   },
   {
    "duration": 369,
    "start_time": "2021-07-08T02:17:33.831Z"
   },
   {
    "duration": 12,
    "start_time": "2021-07-08T02:17:34.202Z"
   },
   {
    "duration": 9,
    "start_time": "2021-07-08T02:17:34.217Z"
   },
   {
    "duration": 19,
    "start_time": "2021-07-08T02:17:34.228Z"
   },
   {
    "duration": 441,
    "start_time": "2021-07-08T02:17:34.250Z"
   },
   {
    "duration": 19,
    "start_time": "2021-07-08T02:17:34.693Z"
   },
   {
    "duration": 16,
    "start_time": "2021-07-08T02:17:34.714Z"
   },
   {
    "duration": 13,
    "start_time": "2021-07-08T02:17:34.733Z"
   },
   {
    "duration": 13,
    "start_time": "2021-07-08T02:17:34.748Z"
   },
   {
    "duration": 13,
    "start_time": "2021-07-08T02:17:34.763Z"
   },
   {
    "duration": 31,
    "start_time": "2021-07-08T02:17:34.778Z"
   },
   {
    "duration": 12,
    "start_time": "2021-07-08T02:17:34.812Z"
   },
   {
    "duration": 24,
    "start_time": "2021-07-08T02:17:34.826Z"
   },
   {
    "duration": 13,
    "start_time": "2021-07-08T02:17:34.852Z"
   },
   {
    "duration": 11,
    "start_time": "2021-07-08T02:17:34.867Z"
   },
   {
    "duration": 35,
    "start_time": "2021-07-08T02:17:34.880Z"
   },
   {
    "duration": 14,
    "start_time": "2021-07-08T02:17:34.917Z"
   },
   {
    "duration": 16,
    "start_time": "2021-07-08T02:17:34.934Z"
   },
   {
    "duration": 20,
    "start_time": "2021-07-08T02:17:34.952Z"
   },
   {
    "duration": 444,
    "start_time": "2021-07-08T02:17:34.975Z"
   },
   {
    "duration": 10,
    "start_time": "2021-07-08T02:17:35.421Z"
   },
   {
    "duration": 19,
    "start_time": "2021-07-08T02:17:35.433Z"
   },
   {
    "duration": 15,
    "start_time": "2021-07-08T02:17:35.455Z"
   },
   {
    "duration": 37,
    "start_time": "2021-07-08T02:17:35.473Z"
   },
   {
    "duration": 403,
    "start_time": "2021-07-08T02:17:35.513Z"
   },
   {
    "duration": 7,
    "start_time": "2021-07-08T02:17:35.919Z"
   },
   {
    "duration": 17,
    "start_time": "2021-07-08T02:17:35.929Z"
   },
   {
    "duration": 9,
    "start_time": "2021-07-08T02:17:35.948Z"
   },
   {
    "duration": 18,
    "start_time": "2021-07-08T02:17:35.959Z"
   },
   {
    "duration": 509,
    "start_time": "2021-07-08T02:17:35.980Z"
   },
   {
    "duration": 32,
    "start_time": "2021-07-08T02:17:36.492Z"
   },
   {
    "duration": 23,
    "start_time": "2021-07-08T02:17:36.527Z"
   },
   {
    "duration": 5,
    "start_time": "2021-07-08T02:17:36.553Z"
   },
   {
    "duration": 13,
    "start_time": "2021-07-08T02:17:36.560Z"
   },
   {
    "duration": 34,
    "start_time": "2021-07-08T02:17:36.575Z"
   },
   {
    "duration": 11,
    "start_time": "2021-07-08T02:17:36.611Z"
   },
   {
    "duration": 14,
    "start_time": "2021-07-08T02:17:36.624Z"
   },
   {
    "duration": 17,
    "start_time": "2021-07-08T02:17:36.641Z"
   },
   {
    "duration": 7,
    "start_time": "2021-07-08T02:17:36.660Z"
   },
   {
    "duration": 23,
    "start_time": "2021-07-08T02:17:36.669Z"
   },
   {
    "duration": 17,
    "start_time": "2021-07-08T02:17:36.694Z"
   },
   {
    "duration": 21,
    "start_time": "2021-07-08T02:17:36.713Z"
   },
   {
    "duration": 7,
    "start_time": "2021-07-08T02:17:36.737Z"
   },
   {
    "duration": 16,
    "start_time": "2021-07-08T02:17:36.746Z"
   },
   {
    "duration": 20,
    "start_time": "2021-07-08T02:17:36.764Z"
   },
   {
    "duration": 22,
    "start_time": "2021-07-08T02:17:36.787Z"
   },
   {
    "duration": 9,
    "start_time": "2021-07-08T02:17:36.811Z"
   },
   {
    "duration": 1389,
    "start_time": "2021-07-08T05:12:06.497Z"
   },
   {
    "duration": 214,
    "start_time": "2021-07-08T05:12:07.888Z"
   },
   {
    "duration": 14,
    "start_time": "2021-07-08T05:12:08.104Z"
   },
   {
    "duration": 11,
    "start_time": "2021-07-08T05:12:08.120Z"
   },
   {
    "duration": 9,
    "start_time": "2021-07-08T05:12:08.132Z"
   },
   {
    "duration": 14,
    "start_time": "2021-07-08T05:12:08.143Z"
   },
   {
    "duration": 26,
    "start_time": "2021-07-08T05:12:08.158Z"
   },
   {
    "duration": 4,
    "start_time": "2021-07-08T05:12:08.186Z"
   },
   {
    "duration": 6,
    "start_time": "2021-07-08T05:12:08.192Z"
   },
   {
    "duration": 49,
    "start_time": "2021-07-08T05:12:08.199Z"
   },
   {
    "duration": 8,
    "start_time": "2021-07-08T05:12:08.249Z"
   },
   {
    "duration": 3,
    "start_time": "2021-07-08T05:12:08.258Z"
   },
   {
    "duration": 8,
    "start_time": "2021-07-08T05:12:08.262Z"
   },
   {
    "duration": 6,
    "start_time": "2021-07-08T05:12:08.271Z"
   },
   {
    "duration": 9,
    "start_time": "2021-07-08T05:12:08.279Z"
   },
   {
    "duration": 10,
    "start_time": "2021-07-08T05:12:08.290Z"
   },
   {
    "duration": 16,
    "start_time": "2021-07-08T05:12:08.301Z"
   },
   {
    "duration": 7,
    "start_time": "2021-07-08T05:12:08.340Z"
   },
   {
    "duration": 7,
    "start_time": "2021-07-08T05:12:08.348Z"
   },
   {
    "duration": 11,
    "start_time": "2021-07-08T05:12:08.356Z"
   },
   {
    "duration": 10,
    "start_time": "2021-07-08T05:12:08.368Z"
   },
   {
    "duration": 5,
    "start_time": "2021-07-08T05:12:08.380Z"
   },
   {
    "duration": 9,
    "start_time": "2021-07-08T05:12:08.389Z"
   },
   {
    "duration": 11,
    "start_time": "2021-07-08T05:12:08.400Z"
   },
   {
    "duration": 31,
    "start_time": "2021-07-08T05:12:08.412Z"
   },
   {
    "duration": 3,
    "start_time": "2021-07-08T05:12:08.445Z"
   },
   {
    "duration": 442,
    "start_time": "2021-07-08T05:12:08.450Z"
   },
   {
    "duration": 12,
    "start_time": "2021-07-08T05:12:08.894Z"
   },
   {
    "duration": 17,
    "start_time": "2021-07-08T05:12:08.907Z"
   },
   {
    "duration": 7,
    "start_time": "2021-07-08T05:12:08.925Z"
   },
   {
    "duration": 322,
    "start_time": "2021-07-08T05:12:08.933Z"
   },
   {
    "duration": 8,
    "start_time": "2021-07-08T05:12:09.256Z"
   },
   {
    "duration": 28,
    "start_time": "2021-07-08T05:12:09.265Z"
   },
   {
    "duration": 16,
    "start_time": "2021-07-08T05:12:09.295Z"
   },
   {
    "duration": 12,
    "start_time": "2021-07-08T05:12:09.313Z"
   },
   {
    "duration": 18,
    "start_time": "2021-07-08T05:12:09.326Z"
   },
   {
    "duration": 421,
    "start_time": "2021-07-08T05:12:09.346Z"
   },
   {
    "duration": 3,
    "start_time": "2021-07-08T05:12:09.769Z"
   },
   {
    "duration": 9,
    "start_time": "2021-07-08T05:12:09.774Z"
   },
   {
    "duration": 6,
    "start_time": "2021-07-08T05:12:09.785Z"
   },
   {
    "duration": 7,
    "start_time": "2021-07-08T05:12:09.793Z"
   },
   {
    "duration": 229,
    "start_time": "2021-07-08T05:12:09.801Z"
   },
   {
    "duration": 14,
    "start_time": "2021-07-08T05:12:10.032Z"
   },
   {
    "duration": 5,
    "start_time": "2021-07-08T05:12:10.048Z"
   },
   {
    "duration": 6,
    "start_time": "2021-07-08T05:12:10.055Z"
   },
   {
    "duration": 15,
    "start_time": "2021-07-08T05:12:10.063Z"
   },
   {
    "duration": 360,
    "start_time": "2021-07-08T05:12:10.080Z"
   },
   {
    "duration": 13,
    "start_time": "2021-07-08T05:12:10.443Z"
   },
   {
    "duration": 6,
    "start_time": "2021-07-08T05:12:10.458Z"
   },
   {
    "duration": 11,
    "start_time": "2021-07-08T05:12:10.465Z"
   },
   {
    "duration": 7,
    "start_time": "2021-07-08T05:12:10.478Z"
   },
   {
    "duration": 17,
    "start_time": "2021-07-08T05:12:10.487Z"
   },
   {
    "duration": 5,
    "start_time": "2021-07-08T05:12:10.506Z"
   },
   {
    "duration": 32,
    "start_time": "2021-07-08T05:12:10.512Z"
   },
   {
    "duration": 8,
    "start_time": "2021-07-08T05:12:10.545Z"
   },
   {
    "duration": 231,
    "start_time": "2021-07-08T05:12:10.555Z"
   },
   {
    "duration": 6,
    "start_time": "2021-07-08T05:12:10.788Z"
   },
   {
    "duration": 24,
    "start_time": "2021-07-08T05:12:10.795Z"
   },
   {
    "duration": 8,
    "start_time": "2021-07-08T05:12:10.821Z"
   },
   {
    "duration": 9,
    "start_time": "2021-07-08T05:12:10.830Z"
   },
   {
    "duration": 9,
    "start_time": "2021-07-08T05:12:10.840Z"
   },
   {
    "duration": 5,
    "start_time": "2021-07-08T05:12:10.851Z"
   },
   {
    "duration": 7,
    "start_time": "2021-07-08T05:12:10.857Z"
   },
   {
    "duration": 6,
    "start_time": "2021-07-08T05:12:10.866Z"
   },
   {
    "duration": 72,
    "start_time": "2021-07-08T05:12:10.874Z"
   },
   {
    "duration": 5,
    "start_time": "2021-07-08T05:12:10.947Z"
   },
   {
    "duration": 10,
    "start_time": "2021-07-08T05:12:10.953Z"
   },
   {
    "duration": 5,
    "start_time": "2021-07-08T05:12:10.968Z"
   },
   {
    "duration": 5,
    "start_time": "2021-07-08T05:12:10.976Z"
   },
   {
    "duration": 8,
    "start_time": "2021-07-08T05:12:10.983Z"
   },
   {
    "duration": 9,
    "start_time": "2021-07-08T05:12:10.992Z"
   },
   {
    "duration": 12,
    "start_time": "2021-07-08T05:12:11.002Z"
   },
   {
    "duration": 24,
    "start_time": "2021-07-08T05:12:11.016Z"
   },
   {
    "duration": 3,
    "start_time": "2021-07-08T05:12:11.042Z"
   },
   {
    "duration": 11,
    "start_time": "2021-07-08T05:12:11.047Z"
   },
   {
    "duration": 6,
    "start_time": "2021-07-08T05:12:11.059Z"
   },
   {
    "duration": 9,
    "start_time": "2021-07-08T05:12:11.066Z"
   },
   {
    "duration": 1575,
    "start_time": "2021-07-08T05:12:11.076Z"
   },
   {
    "duration": 6,
    "start_time": "2021-07-08T05:12:12.653Z"
   },
   {
    "duration": 9,
    "start_time": "2021-07-08T05:12:12.661Z"
   },
   {
    "duration": 8,
    "start_time": "2021-07-08T05:12:12.671Z"
   },
   {
    "duration": 6,
    "start_time": "2021-07-08T05:12:12.680Z"
   },
   {
    "duration": 247,
    "start_time": "2021-07-08T05:12:12.687Z"
   },
   {
    "duration": 4,
    "start_time": "2021-07-08T05:12:12.936Z"
   },
   {
    "duration": 303,
    "start_time": "2021-07-08T05:12:12.942Z"
   },
   {
    "duration": 302,
    "start_time": "2021-07-08T05:12:13.247Z"
   },
   {
    "duration": 298,
    "start_time": "2021-07-08T05:12:13.550Z"
   },
   {
    "duration": 304,
    "start_time": "2021-07-08T05:12:13.850Z"
   },
   {
    "duration": 300,
    "start_time": "2021-07-08T05:12:14.156Z"
   },
   {
    "duration": 390,
    "start_time": "2021-07-08T05:12:14.458Z"
   },
   {
    "duration": 5,
    "start_time": "2021-07-08T05:12:14.850Z"
   },
   {
    "duration": 5,
    "start_time": "2021-07-08T05:12:14.857Z"
   },
   {
    "duration": 4,
    "start_time": "2021-07-08T05:12:14.863Z"
   },
   {
    "duration": 222,
    "start_time": "2021-07-08T05:12:14.869Z"
   },
   {
    "duration": 7,
    "start_time": "2021-07-08T05:12:15.093Z"
   },
   {
    "duration": 5,
    "start_time": "2021-07-08T05:12:15.102Z"
   },
   {
    "duration": 10,
    "start_time": "2021-07-08T05:12:15.109Z"
   },
   {
    "duration": 214,
    "start_time": "2021-07-08T05:12:15.121Z"
   },
   {
    "duration": 5,
    "start_time": "2021-07-08T05:12:15.337Z"
   },
   {
    "duration": 9,
    "start_time": "2021-07-08T05:12:15.344Z"
   },
   {
    "duration": 11,
    "start_time": "2021-07-08T05:12:15.354Z"
   },
   {
    "duration": 9,
    "start_time": "2021-07-08T05:12:15.367Z"
   },
   {
    "duration": 13,
    "start_time": "2021-07-08T05:12:15.378Z"
   },
   {
    "duration": 15,
    "start_time": "2021-07-08T05:12:15.393Z"
   },
   {
    "duration": 20,
    "start_time": "2021-07-08T05:12:15.410Z"
   },
   {
    "duration": 9,
    "start_time": "2021-07-08T05:12:15.440Z"
   },
   {
    "duration": 21,
    "start_time": "2021-07-08T05:12:15.451Z"
   },
   {
    "duration": 7,
    "start_time": "2021-07-08T05:12:15.474Z"
   },
   {
    "duration": 16,
    "start_time": "2021-07-08T05:12:15.482Z"
   },
   {
    "duration": 8,
    "start_time": "2021-07-08T05:12:15.500Z"
   },
   {
    "duration": 16,
    "start_time": "2021-07-08T05:12:15.510Z"
   },
   {
    "duration": 8,
    "start_time": "2021-07-08T05:12:15.528Z"
   },
   {
    "duration": 226,
    "start_time": "2021-07-08T05:12:15.538Z"
   },
   {
    "duration": 6,
    "start_time": "2021-07-08T05:12:15.766Z"
   },
   {
    "duration": 20,
    "start_time": "2021-07-08T05:12:15.774Z"
   },
   {
    "duration": 23,
    "start_time": "2021-07-08T05:12:15.795Z"
   },
   {
    "duration": 20,
    "start_time": "2021-07-08T05:12:15.819Z"
   },
   {
    "duration": 220,
    "start_time": "2021-07-08T05:12:15.840Z"
   },
   {
    "duration": 4,
    "start_time": "2021-07-08T05:12:16.061Z"
   },
   {
    "duration": 15,
    "start_time": "2021-07-08T05:12:16.066Z"
   },
   {
    "duration": 18,
    "start_time": "2021-07-08T05:12:16.082Z"
   },
   {
    "duration": 20,
    "start_time": "2021-07-08T05:12:16.101Z"
   },
   {
    "duration": 211,
    "start_time": "2021-07-08T05:12:16.122Z"
   },
   {
    "duration": 14,
    "start_time": "2021-07-08T05:12:16.335Z"
   },
   {
    "duration": 25,
    "start_time": "2021-07-08T05:12:16.350Z"
   },
   {
    "duration": 4,
    "start_time": "2021-07-08T05:12:16.376Z"
   },
   {
    "duration": 6,
    "start_time": "2021-07-08T05:12:16.381Z"
   },
   {
    "duration": 16,
    "start_time": "2021-07-08T05:12:16.388Z"
   },
   {
    "duration": 8,
    "start_time": "2021-07-08T05:12:16.405Z"
   },
   {
    "duration": 6,
    "start_time": "2021-07-08T05:12:16.415Z"
   },
   {
    "duration": 8,
    "start_time": "2021-07-08T05:12:16.422Z"
   },
   {
    "duration": 20,
    "start_time": "2021-07-08T05:12:16.431Z"
   },
   {
    "duration": 23,
    "start_time": "2021-07-08T05:12:16.452Z"
   },
   {
    "duration": 14,
    "start_time": "2021-07-08T05:12:16.476Z"
   },
   {
    "duration": 13,
    "start_time": "2021-07-08T05:12:16.492Z"
   },
   {
    "duration": 16,
    "start_time": "2021-07-08T05:12:16.506Z"
   },
   {
    "duration": 11,
    "start_time": "2021-07-08T05:12:16.523Z"
   },
   {
    "duration": 9,
    "start_time": "2021-07-08T05:12:16.535Z"
   },
   {
    "duration": 7,
    "start_time": "2021-07-08T05:12:16.546Z"
   },
   {
    "duration": 25,
    "start_time": "2021-07-08T05:12:16.554Z"
   },
   {
    "duration": 387,
    "start_time": "2021-08-05T12:07:10.715Z"
   },
   {
    "duration": 467,
    "start_time": "2021-08-26T11:49:41.198Z"
   },
   {
    "duration": 418,
    "start_time": "2021-08-26T11:50:10.539Z"
   },
   {
    "duration": 388,
    "start_time": "2021-08-26T11:50:13.925Z"
   }
  ],
  "kernelspec": {
   "display_name": "Python 3",
   "language": "python",
   "name": "python3"
  },
  "language_info": {
   "codemirror_mode": {
    "name": "ipython",
    "version": 3
   },
   "file_extension": ".py",
   "mimetype": "text/x-python",
   "name": "python",
   "nbconvert_exporter": "python",
   "pygments_lexer": "ipython3",
   "version": "3.8.8"
  },
  "toc": {
   "base_numbering": 1,
   "nav_menu": {},
   "number_sections": true,
   "sideBar": true,
   "skip_h1_title": true,
   "title_cell": "Table of Contents",
   "title_sidebar": "Contents",
   "toc_cell": false,
   "toc_position": {},
   "toc_section_display": true,
   "toc_window_display": false
  }
 },
 "nbformat": 4,
 "nbformat_minor": 2
}
