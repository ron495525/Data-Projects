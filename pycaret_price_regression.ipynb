{
 "cells": [
  {
   "cell_type": "markdown",
   "metadata": {},
   "source": [
    "Rusty Bargain used car sales service is developing an app to attract new customers. In that app, you can quickly find out the market value of your car. You have access to historical data: technical specifications, trim versions, and prices. You need to build the model to determine the value. \n",
    "\n",
    "Rusty Bargain is interested in:\n",
    "\n",
    "- the quality of the prediction;\n",
    "- the speed of the prediction;\n",
    "- the time required for training"
   ]
  },
  {
   "cell_type": "markdown",
   "metadata": {},
   "source": [
    "## Data preparation"
   ]
  },
  {
   "cell_type": "markdown",
   "metadata": {},
   "source": [
    "installing dependencies for pycaret library:"
   ]
  },
  {
   "cell_type": "code",
   "execution_count": 1,
   "metadata": {
    "scrolled": true
   },
   "outputs": [
    {
     "name": "stdout",
     "output_type": "stream",
     "text": [
      "--2021-11-15 02:50:56--  https://raw.githubusercontent.com/pycaret/pycaret/master/requirements.txt\n",
      "Resolving raw.githubusercontent.com (raw.githubusercontent.com)... 185.199.110.133, 185.199.111.133, 185.199.109.133, ...\n",
      "Connecting to raw.githubusercontent.com (raw.githubusercontent.com)|185.199.110.133|:443... connected.\n",
      "HTTP request sent, awaiting response... 200 OK\n",
      "Length: 383 [text/plain]\n",
      "Saving to: ‘requirements.txt.9’\n",
      "\n",
      "requirements.txt.9  100%[===================>]     383  --.-KB/s    in 0s      \n",
      "\n",
      "2021-11-15 02:50:57 (7.74 MB/s) - ‘requirements.txt.9’ saved [383/383]\n",
      "\n",
      "Defaulting to user installation because normal site-packages is not writeable\n",
      "Requirement already up-to-date: pandas in /home/jovyan/.local/lib/python3.7/site-packages (from -r requirements.txt (line 1)) (1.3.4)\n",
      "Requirement already up-to-date: scipy<=1.5.4 in /home/jovyan/.local/lib/python3.7/site-packages (from -r requirements.txt (line 2)) (1.5.4)\n",
      "Requirement already up-to-date: numpy==1.19.5 in /opt/conda/lib/python3.7/site-packages (from -r requirements.txt (line 3)) (1.19.5)\n",
      "Requirement already up-to-date: seaborn in /home/jovyan/.local/lib/python3.7/site-packages (from -r requirements.txt (line 4)) (0.11.2)\n",
      "Requirement already up-to-date: matplotlib in /home/jovyan/.local/lib/python3.7/site-packages (from -r requirements.txt (line 5)) (3.4.3)\n",
      "Requirement already up-to-date: IPython in /home/jovyan/.local/lib/python3.7/site-packages (from -r requirements.txt (line 6)) (7.29.0)\n",
      "Requirement already up-to-date: joblib in /home/jovyan/.local/lib/python3.7/site-packages (from -r requirements.txt (line 7)) (1.1.0)\n",
      "Requirement already up-to-date: scikit-learn==0.23.2 in /home/jovyan/.local/lib/python3.7/site-packages (from -r requirements.txt (line 8)) (0.23.2)\n",
      "Requirement already up-to-date: ipywidgets in /home/jovyan/.local/lib/python3.7/site-packages (from -r requirements.txt (line 9)) (7.6.5)\n",
      "Requirement already up-to-date: yellowbrick>=1.0.1 in /home/jovyan/.local/lib/python3.7/site-packages (from -r requirements.txt (line 10)) (1.3.post1)\n",
      "Requirement already up-to-date: lightgbm>=2.3.1 in /home/jovyan/.local/lib/python3.7/site-packages (from -r requirements.txt (line 11)) (3.3.1)\n",
      "Requirement already up-to-date: plotly>=4.4.1 in /home/jovyan/.local/lib/python3.7/site-packages (from -r requirements.txt (line 12)) (5.3.1)\n",
      "Requirement already up-to-date: wordcloud in /home/jovyan/.local/lib/python3.7/site-packages (from -r requirements.txt (line 13)) (1.8.1)\n",
      "Requirement already up-to-date: textblob in /home/jovyan/.local/lib/python3.7/site-packages (from -r requirements.txt (line 14)) (0.17.1)\n",
      "Requirement already up-to-date: cufflinks>=0.17.0 in /home/jovyan/.local/lib/python3.7/site-packages (from -r requirements.txt (line 15)) (0.17.3)\n",
      "Requirement already up-to-date: umap-learn in /home/jovyan/.local/lib/python3.7/site-packages (from -r requirements.txt (line 16)) (0.5.2)\n",
      "Requirement already up-to-date: pyLDAvis in /home/jovyan/.local/lib/python3.7/site-packages (from -r requirements.txt (line 17)) (3.3.1)\n",
      "Requirement already up-to-date: gensim<4.0.0 in /home/jovyan/.local/lib/python3.7/site-packages (from -r requirements.txt (line 18)) (3.8.3)\n",
      "Requirement already up-to-date: spacy<2.4.0 in /home/jovyan/.local/lib/python3.7/site-packages (from -r requirements.txt (line 19)) (2.3.7)\n",
      "Requirement already up-to-date: nltk in /home/jovyan/.local/lib/python3.7/site-packages (from -r requirements.txt (line 20)) (3.6.5)\n",
      "Requirement already up-to-date: mlxtend>=0.17.0 in /home/jovyan/.local/lib/python3.7/site-packages (from -r requirements.txt (line 21)) (0.19.0)\n",
      "Requirement already up-to-date: pyod in /home/jovyan/.local/lib/python3.7/site-packages (from -r requirements.txt (line 22)) (0.9.5)\n",
      "Requirement already up-to-date: pandas-profiling>=2.8.0 in /home/jovyan/.local/lib/python3.7/site-packages (from -r requirements.txt (line 23)) (3.1.0)\n",
      "Requirement already up-to-date: kmodes>=0.10.1 in /home/jovyan/.local/lib/python3.7/site-packages (from -r requirements.txt (line 24)) (0.11.1)\n",
      "Requirement already up-to-date: mlflow in /home/jovyan/.local/lib/python3.7/site-packages (from -r requirements.txt (line 25)) (1.21.0)\n",
      "Requirement already up-to-date: imbalanced-learn==0.7.0 in /home/jovyan/.local/lib/python3.7/site-packages (from -r requirements.txt (line 26)) (0.7.0)\n",
      "Requirement already up-to-date: scikit-plot in /home/jovyan/.local/lib/python3.7/site-packages (from -r requirements.txt (line 27)) (0.3.7)\n",
      "Requirement already up-to-date: Boruta in /home/jovyan/.local/lib/python3.7/site-packages (from -r requirements.txt (line 28)) (0.3)\n",
      "Requirement already satisfied, skipping upgrade: python-dateutil>=2.7.3 in /opt/conda/lib/python3.7/site-packages (from pandas->-r requirements.txt (line 1)) (2.8.1)\n",
      "Requirement already satisfied, skipping upgrade: pytz>=2017.3 in /opt/conda/lib/python3.7/site-packages (from pandas->-r requirements.txt (line 1)) (2021.1)\n",
      "Requirement already satisfied, skipping upgrade: kiwisolver>=1.0.1 in /opt/conda/lib/python3.7/site-packages (from matplotlib->-r requirements.txt (line 5)) (1.3.1)\n",
      "Requirement already satisfied, skipping upgrade: pyparsing>=2.2.1 in /opt/conda/lib/python3.7/site-packages (from matplotlib->-r requirements.txt (line 5)) (2.4.7)\n",
      "Requirement already satisfied, skipping upgrade: cycler>=0.10 in /opt/conda/lib/python3.7/site-packages (from matplotlib->-r requirements.txt (line 5)) (0.10.0)\n",
      "Requirement already satisfied, skipping upgrade: pillow>=6.2.0 in /opt/conda/lib/python3.7/site-packages (from matplotlib->-r requirements.txt (line 5)) (7.0.0)\n",
      "Requirement already satisfied, skipping upgrade: decorator in /opt/conda/lib/python3.7/site-packages (from IPython->-r requirements.txt (line 6)) (4.4.2)\n",
      "Requirement already satisfied, skipping upgrade: pygments in /opt/conda/lib/python3.7/site-packages (from IPython->-r requirements.txt (line 6)) (2.7.2)\n",
      "Requirement already satisfied, skipping upgrade: traitlets>=4.2 in /opt/conda/lib/python3.7/site-packages (from IPython->-r requirements.txt (line 6)) (5.0.5)\n",
      "Requirement already satisfied, skipping upgrade: pickleshare in /opt/conda/lib/python3.7/site-packages (from IPython->-r requirements.txt (line 6)) (0.7.5)\n",
      "Requirement already satisfied, skipping upgrade: jedi>=0.16 in /opt/conda/lib/python3.7/site-packages (from IPython->-r requirements.txt (line 6)) (0.17.2)\n",
      "Requirement already satisfied, skipping upgrade: pexpect>4.3; sys_platform != \"win32\" in /opt/conda/lib/python3.7/site-packages (from IPython->-r requirements.txt (line 6)) (4.8.0)\n",
      "Requirement already satisfied, skipping upgrade: matplotlib-inline in /opt/conda/lib/python3.7/site-packages (from IPython->-r requirements.txt (line 6)) (0.1.2)\n",
      "Requirement already satisfied, skipping upgrade: backcall in /opt/conda/lib/python3.7/site-packages (from IPython->-r requirements.txt (line 6)) (0.2.0)\n",
      "Requirement already satisfied, skipping upgrade: prompt-toolkit!=3.0.0,!=3.0.1,<3.1.0,>=2.0.0 in /opt/conda/lib/python3.7/site-packages (from IPython->-r requirements.txt (line 6)) (3.0.8)\n",
      "Requirement already satisfied, skipping upgrade: setuptools>=18.5 in /opt/conda/lib/python3.7/site-packages (from IPython->-r requirements.txt (line 6)) (49.6.0.post20210108)\n",
      "Requirement already satisfied, skipping upgrade: threadpoolctl>=2.0.0 in /home/jovyan/.local/lib/python3.7/site-packages (from scikit-learn==0.23.2->-r requirements.txt (line 8)) (3.0.0)\n",
      "Requirement already satisfied, skipping upgrade: ipython-genutils~=0.2.0 in /opt/conda/lib/python3.7/site-packages (from ipywidgets->-r requirements.txt (line 9)) (0.2.0)\n",
      "Requirement already satisfied, skipping upgrade: widgetsnbextension~=3.5.0 in /home/jovyan/.local/lib/python3.7/site-packages (from ipywidgets->-r requirements.txt (line 9)) (3.5.2)\n",
      "Requirement already satisfied, skipping upgrade: nbformat>=4.2.0 in /opt/conda/lib/python3.7/site-packages (from ipywidgets->-r requirements.txt (line 9)) (4.4.0)\n",
      "Requirement already satisfied, skipping upgrade: ipykernel>=4.5.1 in /opt/conda/lib/python3.7/site-packages (from ipywidgets->-r requirements.txt (line 9)) (5.5.5)\n",
      "Requirement already satisfied, skipping upgrade: jupyterlab-widgets>=1.0.0; python_version >= \"3.6\" in /home/jovyan/.local/lib/python3.7/site-packages (from ipywidgets->-r requirements.txt (line 9)) (1.0.2)\n",
      "Requirement already satisfied, skipping upgrade: wheel in /opt/conda/lib/python3.7/site-packages (from lightgbm>=2.3.1->-r requirements.txt (line 11)) (0.35.1)\n",
      "Requirement already satisfied, skipping upgrade: tenacity>=6.2.0 in /home/jovyan/.local/lib/python3.7/site-packages (from plotly>=4.4.1->-r requirements.txt (line 12)) (8.0.1)\n",
      "Requirement already satisfied, skipping upgrade: six in /opt/conda/lib/python3.7/site-packages (from plotly>=4.4.1->-r requirements.txt (line 12)) (1.15.0)\n",
      "Requirement already satisfied, skipping upgrade: colorlover>=0.2.1 in /home/jovyan/.local/lib/python3.7/site-packages (from cufflinks>=0.17.0->-r requirements.txt (line 15)) (0.3.0)\n",
      "Requirement already satisfied, skipping upgrade: pynndescent>=0.5 in /home/jovyan/.local/lib/python3.7/site-packages (from umap-learn->-r requirements.txt (line 16)) (0.5.5)\n",
      "Requirement already satisfied, skipping upgrade: numba>=0.49 in /opt/conda/lib/python3.7/site-packages (from umap-learn->-r requirements.txt (line 16)) (0.53.1)\n",
      "Requirement already satisfied, skipping upgrade: tqdm in /opt/conda/lib/python3.7/site-packages (from umap-learn->-r requirements.txt (line 16)) (4.51.0)\n",
      "Requirement already satisfied, skipping upgrade: funcy in /home/jovyan/.local/lib/python3.7/site-packages (from pyLDAvis->-r requirements.txt (line 17)) (1.16)\n",
      "Requirement already satisfied, skipping upgrade: sklearn in /home/jovyan/.local/lib/python3.7/site-packages (from pyLDAvis->-r requirements.txt (line 17)) (0.0)\n",
      "Requirement already satisfied, skipping upgrade: future in /opt/conda/lib/python3.7/site-packages (from pyLDAvis->-r requirements.txt (line 17)) (0.18.2)\n",
      "Requirement already satisfied, skipping upgrade: jinja2 in /opt/conda/lib/python3.7/site-packages (from pyLDAvis->-r requirements.txt (line 17)) (2.11.2)\n",
      "Requirement already satisfied, skipping upgrade: numexpr in /home/jovyan/.local/lib/python3.7/site-packages (from pyLDAvis->-r requirements.txt (line 17)) (2.7.3)\n",
      "Requirement already satisfied, skipping upgrade: smart-open>=1.8.1 in /opt/conda/lib/python3.7/site-packages (from gensim<4.0.0->-r requirements.txt (line 18)) (5.1.0)\n",
      "Requirement already satisfied, skipping upgrade: blis<0.8.0,>=0.4.0 in /opt/conda/lib/python3.7/site-packages (from spacy<2.4.0->-r requirements.txt (line 19)) (0.7.4)\n",
      "Requirement already satisfied, skipping upgrade: srsly<1.1.0,>=1.0.2 in /opt/conda/lib/python3.7/site-packages (from spacy<2.4.0->-r requirements.txt (line 19)) (1.0.5)\n",
      "Requirement already satisfied, skipping upgrade: murmurhash<1.1.0,>=0.28.0 in /opt/conda/lib/python3.7/site-packages (from spacy<2.4.0->-r requirements.txt (line 19)) (1.0.5)\n",
      "Requirement already satisfied, skipping upgrade: catalogue<1.1.0,>=0.0.7 in /opt/conda/lib/python3.7/site-packages (from spacy<2.4.0->-r requirements.txt (line 19)) (1.0.0)\n",
      "Requirement already satisfied, skipping upgrade: preshed<3.1.0,>=3.0.2 in /opt/conda/lib/python3.7/site-packages (from spacy<2.4.0->-r requirements.txt (line 19)) (3.0.5)\n",
      "Requirement already satisfied, skipping upgrade: requests<3.0.0,>=2.13.0 in /home/jovyan/.local/lib/python3.7/site-packages (from spacy<2.4.0->-r requirements.txt (line 19)) (2.26.0)\n",
      "Requirement already satisfied, skipping upgrade: thinc<7.5.0,>=7.4.1 in /opt/conda/lib/python3.7/site-packages (from spacy<2.4.0->-r requirements.txt (line 19)) (7.4.5)\n",
      "Requirement already satisfied, skipping upgrade: wasabi<1.1.0,>=0.4.0 in /opt/conda/lib/python3.7/site-packages (from spacy<2.4.0->-r requirements.txt (line 19)) (0.8.2)\n",
      "Requirement already satisfied, skipping upgrade: plac<1.2.0,>=0.9.6 in /opt/conda/lib/python3.7/site-packages (from spacy<2.4.0->-r requirements.txt (line 19)) (1.1.3)\n",
      "Requirement already satisfied, skipping upgrade: cymem<2.1.0,>=2.0.2 in /opt/conda/lib/python3.7/site-packages (from spacy<2.4.0->-r requirements.txt (line 19)) (2.0.5)\n",
      "Requirement already satisfied, skipping upgrade: click in /opt/conda/lib/python3.7/site-packages (from nltk->-r requirements.txt (line 20)) (8.0.1)\n",
      "Requirement already satisfied, skipping upgrade: regex>=2021.8.3 in /home/jovyan/.local/lib/python3.7/site-packages (from nltk->-r requirements.txt (line 20)) (2021.11.10)\n",
      "Requirement already satisfied, skipping upgrade: statsmodels in /opt/conda/lib/python3.7/site-packages (from pyod->-r requirements.txt (line 22)) (0.10.1)\n",
      "Requirement already satisfied, skipping upgrade: PyYAML>=5.0.0 in /opt/conda/lib/python3.7/site-packages (from pandas-profiling>=2.8.0->-r requirements.txt (line 23)) (5.4.1)\n",
      "Requirement already satisfied, skipping upgrade: pydantic>=1.8.1 in /home/jovyan/.local/lib/python3.7/site-packages (from pandas-profiling>=2.8.0->-r requirements.txt (line 23)) (1.8.2)\n",
      "Requirement already satisfied, skipping upgrade: visions[type_image_path]==0.7.4 in /home/jovyan/.local/lib/python3.7/site-packages (from pandas-profiling>=2.8.0->-r requirements.txt (line 23)) (0.7.4)\n",
      "Requirement already satisfied, skipping upgrade: markupsafe~=2.0.1 in /opt/conda/lib/python3.7/site-packages (from pandas-profiling>=2.8.0->-r requirements.txt (line 23)) (2.0.1)\n",
      "Requirement already satisfied, skipping upgrade: tangled-up-in-unicode==0.1.0 in /home/jovyan/.local/lib/python3.7/site-packages (from pandas-profiling>=2.8.0->-r requirements.txt (line 23)) (0.1.0)\n",
      "Requirement already satisfied, skipping upgrade: htmlmin>=0.1.12 in /home/jovyan/.local/lib/python3.7/site-packages (from pandas-profiling>=2.8.0->-r requirements.txt (line 23)) (0.1.12)\n",
      "Requirement already satisfied, skipping upgrade: missingno>=0.4.2 in /home/jovyan/.local/lib/python3.7/site-packages (from pandas-profiling>=2.8.0->-r requirements.txt (line 23)) (0.5.0)\n",
      "Requirement already satisfied, skipping upgrade: phik>=0.11.1 in /home/jovyan/.local/lib/python3.7/site-packages (from pandas-profiling>=2.8.0->-r requirements.txt (line 23)) (0.12.0)\n",
      "Requirement already satisfied, skipping upgrade: multimethod>=1.4 in /home/jovyan/.local/lib/python3.7/site-packages (from pandas-profiling>=2.8.0->-r requirements.txt (line 23)) (1.6)\n",
      "Requirement already satisfied, skipping upgrade: Flask in /home/jovyan/.local/lib/python3.7/site-packages (from mlflow->-r requirements.txt (line 25)) (2.0.2)\n",
      "Requirement already satisfied, skipping upgrade: sqlalchemy in /opt/conda/lib/python3.7/site-packages (from mlflow->-r requirements.txt (line 25)) (1.3.11)\n",
      "Requirement already satisfied, skipping upgrade: gunicorn; platform_system != \"Windows\" in /home/jovyan/.local/lib/python3.7/site-packages (from mlflow->-r requirements.txt (line 25)) (20.1.0)\n",
      "Requirement already satisfied, skipping upgrade: databricks-cli>=0.8.7 in /home/jovyan/.local/lib/python3.7/site-packages (from mlflow->-r requirements.txt (line 25)) (0.16.2)\n",
      "Requirement already satisfied, skipping upgrade: alembic<=1.4.1 in /home/jovyan/.local/lib/python3.7/site-packages (from mlflow->-r requirements.txt (line 25)) (1.4.1)\n",
      "Requirement already satisfied, skipping upgrade: gitpython>=2.1.0 in /home/jovyan/.local/lib/python3.7/site-packages (from mlflow->-r requirements.txt (line 25)) (3.1.24)\n",
      "Requirement already satisfied, skipping upgrade: querystring-parser in /home/jovyan/.local/lib/python3.7/site-packages (from mlflow->-r requirements.txt (line 25)) (1.2.4)\n",
      "Requirement already satisfied, skipping upgrade: prometheus-flask-exporter in /home/jovyan/.local/lib/python3.7/site-packages (from mlflow->-r requirements.txt (line 25)) (0.18.5)\n",
      "Requirement already satisfied, skipping upgrade: packaging in /opt/conda/lib/python3.7/site-packages (from mlflow->-r requirements.txt (line 25)) (20.4)\n",
      "Requirement already satisfied, skipping upgrade: protobuf>=3.7.0 in /opt/conda/lib/python3.7/site-packages (from mlflow->-r requirements.txt (line 25)) (3.17.2)\n",
      "Requirement already satisfied, skipping upgrade: docker>=4.0.0 in /home/jovyan/.local/lib/python3.7/site-packages (from mlflow->-r requirements.txt (line 25)) (5.0.3)\n",
      "Requirement already satisfied, skipping upgrade: sqlparse>=0.3.1 in /home/jovyan/.local/lib/python3.7/site-packages (from mlflow->-r requirements.txt (line 25)) (0.4.2)\n",
      "Requirement already satisfied, skipping upgrade: entrypoints in /opt/conda/lib/python3.7/site-packages (from mlflow->-r requirements.txt (line 25)) (0.3)\n",
      "Requirement already satisfied, skipping upgrade: cloudpickle in /home/jovyan/.local/lib/python3.7/site-packages (from mlflow->-r requirements.txt (line 25)) (2.0.0)\n",
      "Requirement already satisfied, skipping upgrade: importlib-metadata!=4.7.0,>=3.7.0 in /home/jovyan/.local/lib/python3.7/site-packages (from mlflow->-r requirements.txt (line 25)) (4.8.2)\n",
      "Requirement already satisfied, skipping upgrade: parso<0.8.0,>=0.7.0 in /opt/conda/lib/python3.7/site-packages (from jedi>=0.16->IPython->-r requirements.txt (line 6)) (0.7.1)\n",
      "Requirement already satisfied, skipping upgrade: ptyprocess>=0.5 in /opt/conda/lib/python3.7/site-packages (from pexpect>4.3; sys_platform != \"win32\"->IPython->-r requirements.txt (line 6)) (0.6.0)\n",
      "Requirement already satisfied, skipping upgrade: wcwidth in /opt/conda/lib/python3.7/site-packages (from prompt-toolkit!=3.0.0,!=3.0.1,<3.1.0,>=2.0.0->IPython->-r requirements.txt (line 6)) (0.2.5)\n",
      "Requirement already satisfied, skipping upgrade: notebook>=4.4.1 in /opt/conda/lib/python3.7/site-packages (from widgetsnbextension~=3.5.0->ipywidgets->-r requirements.txt (line 9)) (6.1.4)\n",
      "Requirement already satisfied, skipping upgrade: jsonschema!=2.5.0,>=2.4 in /opt/conda/lib/python3.7/site-packages (from nbformat>=4.2.0->ipywidgets->-r requirements.txt (line 9)) (3.2.0)\n",
      "Requirement already satisfied, skipping upgrade: jupyter-core in /opt/conda/lib/python3.7/site-packages (from nbformat>=4.2.0->ipywidgets->-r requirements.txt (line 9)) (4.6.2)\n",
      "Requirement already satisfied, skipping upgrade: tornado>=4.2 in /opt/conda/lib/python3.7/site-packages (from ipykernel>=4.5.1->ipywidgets->-r requirements.txt (line 9)) (6.1)\n",
      "Requirement already satisfied, skipping upgrade: jupyter-client in /opt/conda/lib/python3.7/site-packages (from ipykernel>=4.5.1->ipywidgets->-r requirements.txt (line 9)) (5.3.4)\n",
      "Requirement already satisfied, skipping upgrade: llvmlite>=0.30 in /opt/conda/lib/python3.7/site-packages (from pynndescent>=0.5->umap-learn->-r requirements.txt (line 16)) (0.36.0)\n",
      "Requirement already satisfied, skipping upgrade: charset-normalizer~=2.0.0; python_version >= \"3\" in /home/jovyan/.local/lib/python3.7/site-packages (from requests<3.0.0,>=2.13.0->spacy<2.4.0->-r requirements.txt (line 19)) (2.0.7)\n",
      "Requirement already satisfied, skipping upgrade: idna<4,>=2.5; python_version >= \"3\" in /opt/conda/lib/python3.7/site-packages (from requests<3.0.0,>=2.13.0->spacy<2.4.0->-r requirements.txt (line 19)) (2.8)\n",
      "Requirement already satisfied, skipping upgrade: certifi>=2017.4.17 in /opt/conda/lib/python3.7/site-packages (from requests<3.0.0,>=2.13.0->spacy<2.4.0->-r requirements.txt (line 19)) (2021.5.30)\n",
      "Requirement already satisfied, skipping upgrade: urllib3<1.27,>=1.21.1 in /opt/conda/lib/python3.7/site-packages (from requests<3.0.0,>=2.13.0->spacy<2.4.0->-r requirements.txt (line 19)) (1.25.11)\n",
      "Requirement already satisfied, skipping upgrade: patsy>=0.4.0 in /opt/conda/lib/python3.7/site-packages (from statsmodels->pyod->-r requirements.txt (line 22)) (0.5.1)\n",
      "Requirement already satisfied, skipping upgrade: typing-extensions>=3.7.4.3 in /home/jovyan/.local/lib/python3.7/site-packages (from pydantic>=1.8.1->pandas-profiling>=2.8.0->-r requirements.txt (line 23)) (3.10.0.2)\n",
      "Requirement already satisfied, skipping upgrade: networkx>=2.4 in /home/jovyan/.local/lib/python3.7/site-packages (from visions[type_image_path]==0.7.4->pandas-profiling>=2.8.0->-r requirements.txt (line 23)) (2.6.3)\n",
      "Requirement already satisfied, skipping upgrade: attrs>=19.3.0 in /home/jovyan/.local/lib/python3.7/site-packages (from visions[type_image_path]==0.7.4->pandas-profiling>=2.8.0->-r requirements.txt (line 23)) (21.2.0)\n",
      "Requirement already satisfied, skipping upgrade: imagehash; extra == \"type_image_path\" in /home/jovyan/.local/lib/python3.7/site-packages (from visions[type_image_path]==0.7.4->pandas-profiling>=2.8.0->-r requirements.txt (line 23)) (4.2.1)\n",
      "Requirement already satisfied, skipping upgrade: Werkzeug>=2.0 in /opt/conda/lib/python3.7/site-packages (from Flask->mlflow->-r requirements.txt (line 25)) (2.0.1)\n",
      "Requirement already satisfied, skipping upgrade: itsdangerous>=2.0 in /home/jovyan/.local/lib/python3.7/site-packages (from Flask->mlflow->-r requirements.txt (line 25)) (2.0.1)\n",
      "Requirement already satisfied, skipping upgrade: tabulate>=0.7.7 in /home/jovyan/.local/lib/python3.7/site-packages (from databricks-cli>=0.8.7->mlflow->-r requirements.txt (line 25)) (0.8.9)\n",
      "Requirement already satisfied, skipping upgrade: Mako in /opt/conda/lib/python3.7/site-packages (from alembic<=1.4.1->mlflow->-r requirements.txt (line 25)) (1.1.3)\n",
      "Requirement already satisfied, skipping upgrade: python-editor>=0.3 in /opt/conda/lib/python3.7/site-packages (from alembic<=1.4.1->mlflow->-r requirements.txt (line 25)) (1.0.4)\n",
      "Requirement already satisfied, skipping upgrade: gitdb<5,>=4.0.1 in /home/jovyan/.local/lib/python3.7/site-packages (from gitpython>=2.1.0->mlflow->-r requirements.txt (line 25)) (4.0.9)\n",
      "Requirement already satisfied, skipping upgrade: prometheus-client in /opt/conda/lib/python3.7/site-packages (from prometheus-flask-exporter->mlflow->-r requirements.txt (line 25)) (0.8.0)\n",
      "Requirement already satisfied, skipping upgrade: websocket-client>=0.32.0 in /home/jovyan/.local/lib/python3.7/site-packages (from docker>=4.0.0->mlflow->-r requirements.txt (line 25)) (1.2.1)\n",
      "Requirement already satisfied, skipping upgrade: zipp>=0.5 in /opt/conda/lib/python3.7/site-packages (from importlib-metadata!=4.7.0,>=3.7.0->mlflow->-r requirements.txt (line 25)) (3.4.0)\n",
      "Requirement already satisfied, skipping upgrade: terminado>=0.8.3 in /opt/conda/lib/python3.7/site-packages (from notebook>=4.4.1->widgetsnbextension~=3.5.0->ipywidgets->-r requirements.txt (line 9)) (0.10.0)\n",
      "Requirement already satisfied, skipping upgrade: argon2-cffi in /opt/conda/lib/python3.7/site-packages (from notebook>=4.4.1->widgetsnbextension~=3.5.0->ipywidgets->-r requirements.txt (line 9)) (20.1.0)\n",
      "Requirement already satisfied, skipping upgrade: pyzmq>=17 in /opt/conda/lib/python3.7/site-packages (from notebook>=4.4.1->widgetsnbextension~=3.5.0->ipywidgets->-r requirements.txt (line 9)) (22.0.3)\n",
      "Requirement already satisfied, skipping upgrade: Send2Trash in /opt/conda/lib/python3.7/site-packages (from notebook>=4.4.1->widgetsnbextension~=3.5.0->ipywidgets->-r requirements.txt (line 9)) (1.5.0)\n",
      "Requirement already satisfied, skipping upgrade: nbconvert in /opt/conda/lib/python3.7/site-packages (from notebook>=4.4.1->widgetsnbextension~=3.5.0->ipywidgets->-r requirements.txt (line 9)) (5.5.0)\n",
      "Requirement already satisfied, skipping upgrade: pyrsistent>=0.14.0 in /opt/conda/lib/python3.7/site-packages (from jsonschema!=2.5.0,>=2.4->nbformat>=4.2.0->ipywidgets->-r requirements.txt (line 9)) (0.17.3)\n",
      "Requirement already satisfied, skipping upgrade: PyWavelets in /home/jovyan/.local/lib/python3.7/site-packages (from imagehash; extra == \"type_image_path\"->visions[type_image_path]==0.7.4->pandas-profiling>=2.8.0->-r requirements.txt (line 23)) (1.2.0)\n",
      "Requirement already satisfied, skipping upgrade: smmap<6,>=3.0.1 in /home/jovyan/.local/lib/python3.7/site-packages (from gitdb<5,>=4.0.1->gitpython>=2.1.0->mlflow->-r requirements.txt (line 25)) (5.0.0)\n",
      "Requirement already satisfied, skipping upgrade: cffi>=1.0.0 in /opt/conda/lib/python3.7/site-packages (from argon2-cffi->notebook>=4.4.1->widgetsnbextension~=3.5.0->ipywidgets->-r requirements.txt (line 9)) (1.14.4)\n",
      "Requirement already satisfied, skipping upgrade: mistune>=0.8.1 in /opt/conda/lib/python3.7/site-packages (from nbconvert->notebook>=4.4.1->widgetsnbextension~=3.5.0->ipywidgets->-r requirements.txt (line 9)) (0.8.4)\n",
      "Requirement already satisfied, skipping upgrade: testpath in /opt/conda/lib/python3.7/site-packages (from nbconvert->notebook>=4.4.1->widgetsnbextension~=3.5.0->ipywidgets->-r requirements.txt (line 9)) (0.4.4)\n",
      "Requirement already satisfied, skipping upgrade: defusedxml in /opt/conda/lib/python3.7/site-packages (from nbconvert->notebook>=4.4.1->widgetsnbextension~=3.5.0->ipywidgets->-r requirements.txt (line 9)) (0.6.0)\n",
      "Requirement already satisfied, skipping upgrade: pandocfilters>=1.4.1 in /opt/conda/lib/python3.7/site-packages (from nbconvert->notebook>=4.4.1->widgetsnbextension~=3.5.0->ipywidgets->-r requirements.txt (line 9)) (1.4.2)\n",
      "Requirement already satisfied, skipping upgrade: bleach in /opt/conda/lib/python3.7/site-packages (from nbconvert->notebook>=4.4.1->widgetsnbextension~=3.5.0->ipywidgets->-r requirements.txt (line 9)) (3.2.1)\n",
      "Requirement already satisfied, skipping upgrade: pycparser in /opt/conda/lib/python3.7/site-packages (from cffi>=1.0.0->argon2-cffi->notebook>=4.4.1->widgetsnbextension~=3.5.0->ipywidgets->-r requirements.txt (line 9)) (2.20)\n",
      "Requirement already satisfied, skipping upgrade: webencodings in /opt/conda/lib/python3.7/site-packages (from bleach->nbconvert->notebook>=4.4.1->widgetsnbextension~=3.5.0->ipywidgets->-r requirements.txt (line 9)) (0.5.1)\n",
      "Defaulting to user installation because normal site-packages is not writeable\n",
      "Requirement already up-to-date: pycaret in /home/jovyan/.local/lib/python3.7/site-packages (2.3.4)\n",
      "Requirement already satisfied, skipping upgrade: textblob in /home/jovyan/.local/lib/python3.7/site-packages (from pycaret) (0.17.1)\n",
      "Requirement already satisfied, skipping upgrade: mlflow in /home/jovyan/.local/lib/python3.7/site-packages (from pycaret) (1.21.0)\n",
      "Requirement already satisfied, skipping upgrade: gensim<4.0.0 in /home/jovyan/.local/lib/python3.7/site-packages (from pycaret) (3.8.3)\n",
      "Requirement already satisfied, skipping upgrade: IPython in /home/jovyan/.local/lib/python3.7/site-packages (from pycaret) (7.29.0)\n",
      "Requirement already satisfied, skipping upgrade: numpy==1.19.5 in /opt/conda/lib/python3.7/site-packages (from pycaret) (1.19.5)\n",
      "Requirement already satisfied, skipping upgrade: umap-learn in /home/jovyan/.local/lib/python3.7/site-packages (from pycaret) (0.5.2)\n",
      "Requirement already satisfied, skipping upgrade: scikit-learn==0.23.2 in /home/jovyan/.local/lib/python3.7/site-packages (from pycaret) (0.23.2)\n",
      "Requirement already satisfied, skipping upgrade: ipywidgets in /home/jovyan/.local/lib/python3.7/site-packages (from pycaret) (7.6.5)\n",
      "Requirement already satisfied, skipping upgrade: kmodes>=0.10.1 in /home/jovyan/.local/lib/python3.7/site-packages (from pycaret) (0.11.1)\n",
      "Requirement already satisfied, skipping upgrade: nltk in /home/jovyan/.local/lib/python3.7/site-packages (from pycaret) (3.6.5)\n",
      "Requirement already satisfied, skipping upgrade: imbalanced-learn==0.7.0 in /home/jovyan/.local/lib/python3.7/site-packages (from pycaret) (0.7.0)\n",
      "Requirement already satisfied, skipping upgrade: pandas-profiling>=2.8.0 in /home/jovyan/.local/lib/python3.7/site-packages (from pycaret) (3.1.0)\n",
      "Requirement already satisfied, skipping upgrade: scikit-plot in /home/jovyan/.local/lib/python3.7/site-packages (from pycaret) (0.3.7)\n",
      "Requirement already satisfied, skipping upgrade: scipy<=1.5.4 in /home/jovyan/.local/lib/python3.7/site-packages (from pycaret) (1.5.4)\n",
      "Requirement already satisfied, skipping upgrade: Boruta in /home/jovyan/.local/lib/python3.7/site-packages (from pycaret) (0.3)\n",
      "Requirement already satisfied, skipping upgrade: matplotlib in /home/jovyan/.local/lib/python3.7/site-packages (from pycaret) (3.4.3)\n",
      "Requirement already satisfied, skipping upgrade: cufflinks>=0.17.0 in /home/jovyan/.local/lib/python3.7/site-packages (from pycaret) (0.17.3)\n",
      "Requirement already satisfied, skipping upgrade: pyod in /home/jovyan/.local/lib/python3.7/site-packages (from pycaret) (0.9.5)\n",
      "Requirement already satisfied, skipping upgrade: lightgbm>=2.3.1 in /home/jovyan/.local/lib/python3.7/site-packages (from pycaret) (3.3.1)\n",
      "Requirement already satisfied, skipping upgrade: mlxtend>=0.17.0 in /home/jovyan/.local/lib/python3.7/site-packages (from pycaret) (0.19.0)\n",
      "Requirement already satisfied, skipping upgrade: seaborn in /home/jovyan/.local/lib/python3.7/site-packages (from pycaret) (0.11.2)\n",
      "Requirement already satisfied, skipping upgrade: joblib in /home/jovyan/.local/lib/python3.7/site-packages (from pycaret) (1.1.0)\n",
      "Requirement already satisfied, skipping upgrade: plotly>=4.4.1 in /home/jovyan/.local/lib/python3.7/site-packages (from pycaret) (5.3.1)\n",
      "Requirement already satisfied, skipping upgrade: spacy<2.4.0 in /home/jovyan/.local/lib/python3.7/site-packages (from pycaret) (2.3.7)\n",
      "Requirement already satisfied, skipping upgrade: pyLDAvis in /home/jovyan/.local/lib/python3.7/site-packages (from pycaret) (3.3.1)\n",
      "Requirement already satisfied, skipping upgrade: pandas in /home/jovyan/.local/lib/python3.7/site-packages (from pycaret) (1.3.4)\n",
      "Requirement already satisfied, skipping upgrade: numba<0.54 in /opt/conda/lib/python3.7/site-packages (from pycaret) (0.53.1)\n",
      "Requirement already satisfied, skipping upgrade: yellowbrick>=1.0.1 in /home/jovyan/.local/lib/python3.7/site-packages (from pycaret) (1.3.post1)\n",
      "Requirement already satisfied, skipping upgrade: wordcloud in /home/jovyan/.local/lib/python3.7/site-packages (from pycaret) (1.8.1)\n",
      "Requirement already satisfied, skipping upgrade: requests>=2.17.3 in /home/jovyan/.local/lib/python3.7/site-packages (from mlflow->pycaret) (2.26.0)\n",
      "Requirement already satisfied, skipping upgrade: importlib-metadata!=4.7.0,>=3.7.0 in /home/jovyan/.local/lib/python3.7/site-packages (from mlflow->pycaret) (4.8.2)\n",
      "Requirement already satisfied, skipping upgrade: sqlalchemy in /opt/conda/lib/python3.7/site-packages (from mlflow->pycaret) (1.3.11)\n",
      "Requirement already satisfied, skipping upgrade: pyyaml>=5.1 in /opt/conda/lib/python3.7/site-packages (from mlflow->pycaret) (5.4.1)\n",
      "Requirement already satisfied, skipping upgrade: alembic<=1.4.1 in /home/jovyan/.local/lib/python3.7/site-packages (from mlflow->pycaret) (1.4.1)\n",
      "Requirement already satisfied, skipping upgrade: docker>=4.0.0 in /home/jovyan/.local/lib/python3.7/site-packages (from mlflow->pycaret) (5.0.3)\n",
      "Requirement already satisfied, skipping upgrade: querystring-parser in /home/jovyan/.local/lib/python3.7/site-packages (from mlflow->pycaret) (1.2.4)\n",
      "Requirement already satisfied, skipping upgrade: protobuf>=3.7.0 in /opt/conda/lib/python3.7/site-packages (from mlflow->pycaret) (3.17.2)\n",
      "Requirement already satisfied, skipping upgrade: gunicorn; platform_system != \"Windows\" in /home/jovyan/.local/lib/python3.7/site-packages (from mlflow->pycaret) (20.1.0)\n",
      "Requirement already satisfied, skipping upgrade: cloudpickle in /home/jovyan/.local/lib/python3.7/site-packages (from mlflow->pycaret) (2.0.0)\n",
      "Requirement already satisfied, skipping upgrade: Flask in /home/jovyan/.local/lib/python3.7/site-packages (from mlflow->pycaret) (2.0.2)\n",
      "Requirement already satisfied, skipping upgrade: sqlparse>=0.3.1 in /home/jovyan/.local/lib/python3.7/site-packages (from mlflow->pycaret) (0.4.2)\n",
      "Requirement already satisfied, skipping upgrade: click>=7.0 in /opt/conda/lib/python3.7/site-packages (from mlflow->pycaret) (8.0.1)\n",
      "Requirement already satisfied, skipping upgrade: entrypoints in /opt/conda/lib/python3.7/site-packages (from mlflow->pycaret) (0.3)\n",
      "Requirement already satisfied, skipping upgrade: pytz in /opt/conda/lib/python3.7/site-packages (from mlflow->pycaret) (2021.1)\n",
      "Requirement already satisfied, skipping upgrade: databricks-cli>=0.8.7 in /home/jovyan/.local/lib/python3.7/site-packages (from mlflow->pycaret) (0.16.2)\n",
      "Requirement already satisfied, skipping upgrade: packaging in /opt/conda/lib/python3.7/site-packages (from mlflow->pycaret) (20.4)\n",
      "Requirement already satisfied, skipping upgrade: prometheus-flask-exporter in /home/jovyan/.local/lib/python3.7/site-packages (from mlflow->pycaret) (0.18.5)\n",
      "Requirement already satisfied, skipping upgrade: gitpython>=2.1.0 in /home/jovyan/.local/lib/python3.7/site-packages (from mlflow->pycaret) (3.1.24)\n",
      "Requirement already satisfied, skipping upgrade: smart-open>=1.8.1 in /opt/conda/lib/python3.7/site-packages (from gensim<4.0.0->pycaret) (5.1.0)\n",
      "Requirement already satisfied, skipping upgrade: six>=1.5.0 in /opt/conda/lib/python3.7/site-packages (from gensim<4.0.0->pycaret) (1.15.0)\n",
      "Requirement already satisfied, skipping upgrade: backcall in /opt/conda/lib/python3.7/site-packages (from IPython->pycaret) (0.2.0)\n",
      "Requirement already satisfied, skipping upgrade: setuptools>=18.5 in /opt/conda/lib/python3.7/site-packages (from IPython->pycaret) (49.6.0.post20210108)\n",
      "Requirement already satisfied, skipping upgrade: decorator in /opt/conda/lib/python3.7/site-packages (from IPython->pycaret) (4.4.2)\n",
      "Requirement already satisfied, skipping upgrade: pexpect>4.3; sys_platform != \"win32\" in /opt/conda/lib/python3.7/site-packages (from IPython->pycaret) (4.8.0)\n",
      "Requirement already satisfied, skipping upgrade: pickleshare in /opt/conda/lib/python3.7/site-packages (from IPython->pycaret) (0.7.5)\n",
      "Requirement already satisfied, skipping upgrade: prompt-toolkit!=3.0.0,!=3.0.1,<3.1.0,>=2.0.0 in /opt/conda/lib/python3.7/site-packages (from IPython->pycaret) (3.0.8)\n",
      "Requirement already satisfied, skipping upgrade: pygments in /opt/conda/lib/python3.7/site-packages (from IPython->pycaret) (2.7.2)\n",
      "Requirement already satisfied, skipping upgrade: jedi>=0.16 in /opt/conda/lib/python3.7/site-packages (from IPython->pycaret) (0.17.2)\n",
      "Requirement already satisfied, skipping upgrade: matplotlib-inline in /opt/conda/lib/python3.7/site-packages (from IPython->pycaret) (0.1.2)\n",
      "Requirement already satisfied, skipping upgrade: traitlets>=4.2 in /opt/conda/lib/python3.7/site-packages (from IPython->pycaret) (5.0.5)\n",
      "Requirement already satisfied, skipping upgrade: tqdm in /opt/conda/lib/python3.7/site-packages (from umap-learn->pycaret) (4.51.0)\n",
      "Requirement already satisfied, skipping upgrade: pynndescent>=0.5 in /home/jovyan/.local/lib/python3.7/site-packages (from umap-learn->pycaret) (0.5.5)\n",
      "Requirement already satisfied, skipping upgrade: threadpoolctl>=2.0.0 in /home/jovyan/.local/lib/python3.7/site-packages (from scikit-learn==0.23.2->pycaret) (3.0.0)\n",
      "Requirement already satisfied, skipping upgrade: nbformat>=4.2.0 in /opt/conda/lib/python3.7/site-packages (from ipywidgets->pycaret) (4.4.0)\n",
      "Requirement already satisfied, skipping upgrade: ipykernel>=4.5.1 in /opt/conda/lib/python3.7/site-packages (from ipywidgets->pycaret) (5.5.5)\n",
      "Requirement already satisfied, skipping upgrade: widgetsnbextension~=3.5.0 in /home/jovyan/.local/lib/python3.7/site-packages (from ipywidgets->pycaret) (3.5.2)\n",
      "Requirement already satisfied, skipping upgrade: jupyterlab-widgets>=1.0.0; python_version >= \"3.6\" in /home/jovyan/.local/lib/python3.7/site-packages (from ipywidgets->pycaret) (1.0.2)\n",
      "Requirement already satisfied, skipping upgrade: ipython-genutils~=0.2.0 in /opt/conda/lib/python3.7/site-packages (from ipywidgets->pycaret) (0.2.0)\n",
      "Requirement already satisfied, skipping upgrade: regex>=2021.8.3 in /home/jovyan/.local/lib/python3.7/site-packages (from nltk->pycaret) (2021.11.10)\n",
      "Requirement already satisfied, skipping upgrade: visions[type_image_path]==0.7.4 in /home/jovyan/.local/lib/python3.7/site-packages (from pandas-profiling>=2.8.0->pycaret) (0.7.4)\n",
      "Requirement already satisfied, skipping upgrade: pydantic>=1.8.1 in /home/jovyan/.local/lib/python3.7/site-packages (from pandas-profiling>=2.8.0->pycaret) (1.8.2)\n",
      "Requirement already satisfied, skipping upgrade: multimethod>=1.4 in /home/jovyan/.local/lib/python3.7/site-packages (from pandas-profiling>=2.8.0->pycaret) (1.6)\n",
      "Requirement already satisfied, skipping upgrade: jinja2>=2.11.1 in /opt/conda/lib/python3.7/site-packages (from pandas-profiling>=2.8.0->pycaret) (2.11.2)\n",
      "Requirement already satisfied, skipping upgrade: htmlmin>=0.1.12 in /home/jovyan/.local/lib/python3.7/site-packages (from pandas-profiling>=2.8.0->pycaret) (0.1.12)\n",
      "Requirement already satisfied, skipping upgrade: markupsafe~=2.0.1 in /opt/conda/lib/python3.7/site-packages (from pandas-profiling>=2.8.0->pycaret) (2.0.1)\n",
      "Requirement already satisfied, skipping upgrade: tangled-up-in-unicode==0.1.0 in /home/jovyan/.local/lib/python3.7/site-packages (from pandas-profiling>=2.8.0->pycaret) (0.1.0)\n",
      "Requirement already satisfied, skipping upgrade: missingno>=0.4.2 in /home/jovyan/.local/lib/python3.7/site-packages (from pandas-profiling>=2.8.0->pycaret) (0.5.0)\n",
      "Requirement already satisfied, skipping upgrade: phik>=0.11.1 in /home/jovyan/.local/lib/python3.7/site-packages (from pandas-profiling>=2.8.0->pycaret) (0.12.0)\n",
      "Requirement already satisfied, skipping upgrade: python-dateutil>=2.7 in /opt/conda/lib/python3.7/site-packages (from matplotlib->pycaret) (2.8.1)\n",
      "Requirement already satisfied, skipping upgrade: pillow>=6.2.0 in /opt/conda/lib/python3.7/site-packages (from matplotlib->pycaret) (7.0.0)\n",
      "Requirement already satisfied, skipping upgrade: pyparsing>=2.2.1 in /opt/conda/lib/python3.7/site-packages (from matplotlib->pycaret) (2.4.7)\n",
      "Requirement already satisfied, skipping upgrade: kiwisolver>=1.0.1 in /opt/conda/lib/python3.7/site-packages (from matplotlib->pycaret) (1.3.1)\n",
      "Requirement already satisfied, skipping upgrade: cycler>=0.10 in /opt/conda/lib/python3.7/site-packages (from matplotlib->pycaret) (0.10.0)\n",
      "Requirement already satisfied, skipping upgrade: colorlover>=0.2.1 in /home/jovyan/.local/lib/python3.7/site-packages (from cufflinks>=0.17.0->pycaret) (0.3.0)\n",
      "Requirement already satisfied, skipping upgrade: statsmodels in /opt/conda/lib/python3.7/site-packages (from pyod->pycaret) (0.10.1)\n",
      "Requirement already satisfied, skipping upgrade: wheel in /opt/conda/lib/python3.7/site-packages (from lightgbm>=2.3.1->pycaret) (0.35.1)\n",
      "Requirement already satisfied, skipping upgrade: tenacity>=6.2.0 in /home/jovyan/.local/lib/python3.7/site-packages (from plotly>=4.4.1->pycaret) (8.0.1)\n",
      "Requirement already satisfied, skipping upgrade: thinc<7.5.0,>=7.4.1 in /opt/conda/lib/python3.7/site-packages (from spacy<2.4.0->pycaret) (7.4.5)\n",
      "Requirement already satisfied, skipping upgrade: preshed<3.1.0,>=3.0.2 in /opt/conda/lib/python3.7/site-packages (from spacy<2.4.0->pycaret) (3.0.5)\n",
      "Requirement already satisfied, skipping upgrade: blis<0.8.0,>=0.4.0 in /opt/conda/lib/python3.7/site-packages (from spacy<2.4.0->pycaret) (0.7.4)\n",
      "Requirement already satisfied, skipping upgrade: wasabi<1.1.0,>=0.4.0 in /opt/conda/lib/python3.7/site-packages (from spacy<2.4.0->pycaret) (0.8.2)\n",
      "Requirement already satisfied, skipping upgrade: srsly<1.1.0,>=1.0.2 in /opt/conda/lib/python3.7/site-packages (from spacy<2.4.0->pycaret) (1.0.5)\n",
      "Requirement already satisfied, skipping upgrade: catalogue<1.1.0,>=0.0.7 in /opt/conda/lib/python3.7/site-packages (from spacy<2.4.0->pycaret) (1.0.0)\n",
      "Requirement already satisfied, skipping upgrade: plac<1.2.0,>=0.9.6 in /opt/conda/lib/python3.7/site-packages (from spacy<2.4.0->pycaret) (1.1.3)\n",
      "Requirement already satisfied, skipping upgrade: cymem<2.1.0,>=2.0.2 in /opt/conda/lib/python3.7/site-packages (from spacy<2.4.0->pycaret) (2.0.5)\n",
      "Requirement already satisfied, skipping upgrade: murmurhash<1.1.0,>=0.28.0 in /opt/conda/lib/python3.7/site-packages (from spacy<2.4.0->pycaret) (1.0.5)\n",
      "Requirement already satisfied, skipping upgrade: future in /opt/conda/lib/python3.7/site-packages (from pyLDAvis->pycaret) (0.18.2)\n",
      "Requirement already satisfied, skipping upgrade: funcy in /home/jovyan/.local/lib/python3.7/site-packages (from pyLDAvis->pycaret) (1.16)\n",
      "Requirement already satisfied, skipping upgrade: sklearn in /home/jovyan/.local/lib/python3.7/site-packages (from pyLDAvis->pycaret) (0.0)\n",
      "Requirement already satisfied, skipping upgrade: numexpr in /home/jovyan/.local/lib/python3.7/site-packages (from pyLDAvis->pycaret) (2.7.3)\n",
      "Requirement already satisfied, skipping upgrade: llvmlite<0.37,>=0.36.0rc1 in /opt/conda/lib/python3.7/site-packages (from numba<0.54->pycaret) (0.36.0)\n",
      "Requirement already satisfied, skipping upgrade: urllib3<1.27,>=1.21.1 in /opt/conda/lib/python3.7/site-packages (from requests>=2.17.3->mlflow->pycaret) (1.25.11)\n",
      "Requirement already satisfied, skipping upgrade: certifi>=2017.4.17 in /opt/conda/lib/python3.7/site-packages (from requests>=2.17.3->mlflow->pycaret) (2021.5.30)\n",
      "Requirement already satisfied, skipping upgrade: charset-normalizer~=2.0.0; python_version >= \"3\" in /home/jovyan/.local/lib/python3.7/site-packages (from requests>=2.17.3->mlflow->pycaret) (2.0.7)\n",
      "Requirement already satisfied, skipping upgrade: idna<4,>=2.5; python_version >= \"3\" in /opt/conda/lib/python3.7/site-packages (from requests>=2.17.3->mlflow->pycaret) (2.8)\n",
      "Requirement already satisfied, skipping upgrade: typing-extensions>=3.6.4; python_version < \"3.8\" in /home/jovyan/.local/lib/python3.7/site-packages (from importlib-metadata!=4.7.0,>=3.7.0->mlflow->pycaret) (3.10.0.2)\n",
      "Requirement already satisfied, skipping upgrade: zipp>=0.5 in /opt/conda/lib/python3.7/site-packages (from importlib-metadata!=4.7.0,>=3.7.0->mlflow->pycaret) (3.4.0)\n",
      "Requirement already satisfied, skipping upgrade: Mako in /opt/conda/lib/python3.7/site-packages (from alembic<=1.4.1->mlflow->pycaret) (1.1.3)\n",
      "Requirement already satisfied, skipping upgrade: python-editor>=0.3 in /opt/conda/lib/python3.7/site-packages (from alembic<=1.4.1->mlflow->pycaret) (1.0.4)\n",
      "Requirement already satisfied, skipping upgrade: websocket-client>=0.32.0 in /home/jovyan/.local/lib/python3.7/site-packages (from docker>=4.0.0->mlflow->pycaret) (1.2.1)\n",
      "Requirement already satisfied, skipping upgrade: itsdangerous>=2.0 in /home/jovyan/.local/lib/python3.7/site-packages (from Flask->mlflow->pycaret) (2.0.1)\n",
      "Requirement already satisfied, skipping upgrade: Werkzeug>=2.0 in /opt/conda/lib/python3.7/site-packages (from Flask->mlflow->pycaret) (2.0.1)\n",
      "Requirement already satisfied, skipping upgrade: tabulate>=0.7.7 in /home/jovyan/.local/lib/python3.7/site-packages (from databricks-cli>=0.8.7->mlflow->pycaret) (0.8.9)\n",
      "Requirement already satisfied, skipping upgrade: prometheus-client in /opt/conda/lib/python3.7/site-packages (from prometheus-flask-exporter->mlflow->pycaret) (0.8.0)\n",
      "Requirement already satisfied, skipping upgrade: gitdb<5,>=4.0.1 in /home/jovyan/.local/lib/python3.7/site-packages (from gitpython>=2.1.0->mlflow->pycaret) (4.0.9)\n",
      "Requirement already satisfied, skipping upgrade: ptyprocess>=0.5 in /opt/conda/lib/python3.7/site-packages (from pexpect>4.3; sys_platform != \"win32\"->IPython->pycaret) (0.6.0)\n",
      "Requirement already satisfied, skipping upgrade: wcwidth in /opt/conda/lib/python3.7/site-packages (from prompt-toolkit!=3.0.0,!=3.0.1,<3.1.0,>=2.0.0->IPython->pycaret) (0.2.5)\n",
      "Requirement already satisfied, skipping upgrade: parso<0.8.0,>=0.7.0 in /opt/conda/lib/python3.7/site-packages (from jedi>=0.16->IPython->pycaret) (0.7.1)\n",
      "Requirement already satisfied, skipping upgrade: jsonschema!=2.5.0,>=2.4 in /opt/conda/lib/python3.7/site-packages (from nbformat>=4.2.0->ipywidgets->pycaret) (3.2.0)\n",
      "Requirement already satisfied, skipping upgrade: jupyter-core in /opt/conda/lib/python3.7/site-packages (from nbformat>=4.2.0->ipywidgets->pycaret) (4.6.2)\n",
      "Requirement already satisfied, skipping upgrade: jupyter-client in /opt/conda/lib/python3.7/site-packages (from ipykernel>=4.5.1->ipywidgets->pycaret) (5.3.4)\n",
      "Requirement already satisfied, skipping upgrade: tornado>=4.2 in /opt/conda/lib/python3.7/site-packages (from ipykernel>=4.5.1->ipywidgets->pycaret) (6.1)\n",
      "Requirement already satisfied, skipping upgrade: notebook>=4.4.1 in /opt/conda/lib/python3.7/site-packages (from widgetsnbextension~=3.5.0->ipywidgets->pycaret) (6.1.4)\n",
      "Requirement already satisfied, skipping upgrade: attrs>=19.3.0 in /home/jovyan/.local/lib/python3.7/site-packages (from visions[type_image_path]==0.7.4->pandas-profiling>=2.8.0->pycaret) (21.2.0)\n",
      "Requirement already satisfied, skipping upgrade: networkx>=2.4 in /home/jovyan/.local/lib/python3.7/site-packages (from visions[type_image_path]==0.7.4->pandas-profiling>=2.8.0->pycaret) (2.6.3)\n",
      "Requirement already satisfied, skipping upgrade: imagehash; extra == \"type_image_path\" in /home/jovyan/.local/lib/python3.7/site-packages (from visions[type_image_path]==0.7.4->pandas-profiling>=2.8.0->pycaret) (4.2.1)\n",
      "Requirement already satisfied, skipping upgrade: patsy>=0.4.0 in /opt/conda/lib/python3.7/site-packages (from statsmodels->pyod->pycaret) (0.5.1)\n",
      "Requirement already satisfied, skipping upgrade: smmap<6,>=3.0.1 in /home/jovyan/.local/lib/python3.7/site-packages (from gitdb<5,>=4.0.1->gitpython>=2.1.0->mlflow->pycaret) (5.0.0)\n",
      "Requirement already satisfied, skipping upgrade: pyrsistent>=0.14.0 in /opt/conda/lib/python3.7/site-packages (from jsonschema!=2.5.0,>=2.4->nbformat>=4.2.0->ipywidgets->pycaret) (0.17.3)\n",
      "Requirement already satisfied, skipping upgrade: pyzmq>=13 in /opt/conda/lib/python3.7/site-packages (from jupyter-client->ipykernel>=4.5.1->ipywidgets->pycaret) (22.0.3)\n",
      "Requirement already satisfied, skipping upgrade: argon2-cffi in /opt/conda/lib/python3.7/site-packages (from notebook>=4.4.1->widgetsnbextension~=3.5.0->ipywidgets->pycaret) (20.1.0)\n",
      "Requirement already satisfied, skipping upgrade: terminado>=0.8.3 in /opt/conda/lib/python3.7/site-packages (from notebook>=4.4.1->widgetsnbextension~=3.5.0->ipywidgets->pycaret) (0.10.0)\n",
      "Requirement already satisfied, skipping upgrade: nbconvert in /opt/conda/lib/python3.7/site-packages (from notebook>=4.4.1->widgetsnbextension~=3.5.0->ipywidgets->pycaret) (5.5.0)\n",
      "Requirement already satisfied, skipping upgrade: Send2Trash in /opt/conda/lib/python3.7/site-packages (from notebook>=4.4.1->widgetsnbextension~=3.5.0->ipywidgets->pycaret) (1.5.0)\n",
      "Requirement already satisfied, skipping upgrade: PyWavelets in /home/jovyan/.local/lib/python3.7/site-packages (from imagehash; extra == \"type_image_path\"->visions[type_image_path]==0.7.4->pandas-profiling>=2.8.0->pycaret) (1.2.0)\n",
      "Requirement already satisfied, skipping upgrade: cffi>=1.0.0 in /opt/conda/lib/python3.7/site-packages (from argon2-cffi->notebook>=4.4.1->widgetsnbextension~=3.5.0->ipywidgets->pycaret) (1.14.4)\n",
      "Requirement already satisfied, skipping upgrade: defusedxml in /opt/conda/lib/python3.7/site-packages (from nbconvert->notebook>=4.4.1->widgetsnbextension~=3.5.0->ipywidgets->pycaret) (0.6.0)\n",
      "Requirement already satisfied, skipping upgrade: pandocfilters>=1.4.1 in /opt/conda/lib/python3.7/site-packages (from nbconvert->notebook>=4.4.1->widgetsnbextension~=3.5.0->ipywidgets->pycaret) (1.4.2)\n",
      "Requirement already satisfied, skipping upgrade: bleach in /opt/conda/lib/python3.7/site-packages (from nbconvert->notebook>=4.4.1->widgetsnbextension~=3.5.0->ipywidgets->pycaret) (3.2.1)\n",
      "Requirement already satisfied, skipping upgrade: testpath in /opt/conda/lib/python3.7/site-packages (from nbconvert->notebook>=4.4.1->widgetsnbextension~=3.5.0->ipywidgets->pycaret) (0.4.4)\n",
      "Requirement already satisfied, skipping upgrade: mistune>=0.8.1 in /opt/conda/lib/python3.7/site-packages (from nbconvert->notebook>=4.4.1->widgetsnbextension~=3.5.0->ipywidgets->pycaret) (0.8.4)\n",
      "Requirement already satisfied, skipping upgrade: pycparser in /opt/conda/lib/python3.7/site-packages (from cffi>=1.0.0->argon2-cffi->notebook>=4.4.1->widgetsnbextension~=3.5.0->ipywidgets->pycaret) (2.20)\n",
      "Requirement already satisfied, skipping upgrade: webencodings in /opt/conda/lib/python3.7/site-packages (from bleach->nbconvert->notebook>=4.4.1->widgetsnbextension~=3.5.0->ipywidgets->pycaret) (0.5.1)\n"
     ]
    }
   ],
   "source": [
    "!wget https://raw.githubusercontent.com/pycaret/pycaret/master/requirements.txt\n",
    "\n",
    "!pip install -r requirements.txt -U\n",
    "\n",
    "!pip install -U pycaret"
   ]
  },
  {
   "cell_type": "markdown",
   "metadata": {},
   "source": [
    "Import libraries:"
   ]
  },
  {
   "cell_type": "code",
   "execution_count": 2,
   "metadata": {},
   "outputs": [
    {
     "name": "stderr",
     "output_type": "stream",
     "text": [
      "/opt/conda/lib/python3.7/site-packages/statsmodels/tools/_testing.py:19: FutureWarning: pandas.util.testing is deprecated. Use the functions in the public API at pandas.testing instead.\n",
      "  import pandas.util.testing as tm\n"
     ]
    }
   ],
   "source": [
    "import pandas as pd\n",
    "import numpy as np\n",
    "import seaborn as sns\n",
    "import matplotlib.pyplot as plt\n",
    "import statsmodels.api as sm\n",
    "import pycaret.regression as pycr\n",
    "from pycaret.regression import *\n",
    "import pycaret.utils as pycu\n",
    "#ignoring warning\n",
    "import warnings\n",
    "import hashlib\n",
    "from catboost import CatBoostRegressor, Pool\n",
    "from sklearn.metrics import mean_absolute_error, make_scorer, mean_squared_error\n",
    "from sklearn.model_selection import train_test_split\n",
    "from sklearn.preprocessing import StandardScaler\n",
    "warnings.filterwarnings(\"ignore\")"
   ]
  },
  {
   "cell_type": "markdown",
   "metadata": {},
   "source": [
    "make a try-except block in order to avoid file path error when working both locally and remotely."
   ]
  },
  {
   "cell_type": "code",
   "execution_count": 3,
   "metadata": {},
   "outputs": [],
   "source": [
    "try:\n",
    "    df = pd.read_csv('car_data.csv')\n",
    "    \n",
    "except:   \n",
    "    df = pd.read_csv('/datasets/car_data.csv')"
   ]
  },
  {
   "cell_type": "markdown",
   "metadata": {},
   "source": [
    "### Explorantory Data Analysis:"
   ]
  },
  {
   "cell_type": "markdown",
   "metadata": {},
   "source": [
    "Checking the data's first 5 observations:"
   ]
  },
  {
   "cell_type": "code",
   "execution_count": 4,
   "metadata": {
    "scrolled": true
   },
   "outputs": [
    {
     "data": {
      "text/html": [
       "<div>\n",
       "<style scoped>\n",
       "    .dataframe tbody tr th:only-of-type {\n",
       "        vertical-align: middle;\n",
       "    }\n",
       "\n",
       "    .dataframe tbody tr th {\n",
       "        vertical-align: top;\n",
       "    }\n",
       "\n",
       "    .dataframe thead th {\n",
       "        text-align: right;\n",
       "    }\n",
       "</style>\n",
       "<table border=\"1\" class=\"dataframe\">\n",
       "  <thead>\n",
       "    <tr style=\"text-align: right;\">\n",
       "      <th></th>\n",
       "      <th>DateCrawled</th>\n",
       "      <th>Price</th>\n",
       "      <th>VehicleType</th>\n",
       "      <th>RegistrationYear</th>\n",
       "      <th>Gearbox</th>\n",
       "      <th>Power</th>\n",
       "      <th>Model</th>\n",
       "      <th>Mileage</th>\n",
       "      <th>RegistrationMonth</th>\n",
       "      <th>FuelType</th>\n",
       "      <th>Brand</th>\n",
       "      <th>NotRepaired</th>\n",
       "      <th>DateCreated</th>\n",
       "      <th>NumberOfPictures</th>\n",
       "      <th>PostalCode</th>\n",
       "      <th>LastSeen</th>\n",
       "    </tr>\n",
       "  </thead>\n",
       "  <tbody>\n",
       "    <tr>\n",
       "      <th>0</th>\n",
       "      <td>24/03/2016 11:52</td>\n",
       "      <td>480</td>\n",
       "      <td>NaN</td>\n",
       "      <td>1993</td>\n",
       "      <td>manual</td>\n",
       "      <td>0</td>\n",
       "      <td>golf</td>\n",
       "      <td>150000</td>\n",
       "      <td>0</td>\n",
       "      <td>petrol</td>\n",
       "      <td>volkswagen</td>\n",
       "      <td>NaN</td>\n",
       "      <td>24/03/2016 00:00</td>\n",
       "      <td>0</td>\n",
       "      <td>70435</td>\n",
       "      <td>07/04/2016 03:16</td>\n",
       "    </tr>\n",
       "    <tr>\n",
       "      <th>1</th>\n",
       "      <td>24/03/2016 10:58</td>\n",
       "      <td>18300</td>\n",
       "      <td>coupe</td>\n",
       "      <td>2011</td>\n",
       "      <td>manual</td>\n",
       "      <td>190</td>\n",
       "      <td>NaN</td>\n",
       "      <td>125000</td>\n",
       "      <td>5</td>\n",
       "      <td>gasoline</td>\n",
       "      <td>audi</td>\n",
       "      <td>yes</td>\n",
       "      <td>24/03/2016 00:00</td>\n",
       "      <td>0</td>\n",
       "      <td>66954</td>\n",
       "      <td>07/04/2016 01:46</td>\n",
       "    </tr>\n",
       "    <tr>\n",
       "      <th>2</th>\n",
       "      <td>14/03/2016 12:52</td>\n",
       "      <td>9800</td>\n",
       "      <td>suv</td>\n",
       "      <td>2004</td>\n",
       "      <td>auto</td>\n",
       "      <td>163</td>\n",
       "      <td>grand</td>\n",
       "      <td>125000</td>\n",
       "      <td>8</td>\n",
       "      <td>gasoline</td>\n",
       "      <td>jeep</td>\n",
       "      <td>NaN</td>\n",
       "      <td>14/03/2016 00:00</td>\n",
       "      <td>0</td>\n",
       "      <td>90480</td>\n",
       "      <td>05/04/2016 12:47</td>\n",
       "    </tr>\n",
       "    <tr>\n",
       "      <th>3</th>\n",
       "      <td>17/03/2016 16:54</td>\n",
       "      <td>1500</td>\n",
       "      <td>small</td>\n",
       "      <td>2001</td>\n",
       "      <td>manual</td>\n",
       "      <td>75</td>\n",
       "      <td>golf</td>\n",
       "      <td>150000</td>\n",
       "      <td>6</td>\n",
       "      <td>petrol</td>\n",
       "      <td>volkswagen</td>\n",
       "      <td>no</td>\n",
       "      <td>17/03/2016 00:00</td>\n",
       "      <td>0</td>\n",
       "      <td>91074</td>\n",
       "      <td>17/03/2016 17:40</td>\n",
       "    </tr>\n",
       "    <tr>\n",
       "      <th>4</th>\n",
       "      <td>31/03/2016 17:25</td>\n",
       "      <td>3600</td>\n",
       "      <td>small</td>\n",
       "      <td>2008</td>\n",
       "      <td>manual</td>\n",
       "      <td>69</td>\n",
       "      <td>fabia</td>\n",
       "      <td>90000</td>\n",
       "      <td>7</td>\n",
       "      <td>gasoline</td>\n",
       "      <td>skoda</td>\n",
       "      <td>no</td>\n",
       "      <td>31/03/2016 00:00</td>\n",
       "      <td>0</td>\n",
       "      <td>60437</td>\n",
       "      <td>06/04/2016 10:17</td>\n",
       "    </tr>\n",
       "  </tbody>\n",
       "</table>\n",
       "</div>"
      ],
      "text/plain": [
       "        DateCrawled  Price VehicleType  RegistrationYear Gearbox  Power  \\\n",
       "0  24/03/2016 11:52    480         NaN              1993  manual      0   \n",
       "1  24/03/2016 10:58  18300       coupe              2011  manual    190   \n",
       "2  14/03/2016 12:52   9800         suv              2004    auto    163   \n",
       "3  17/03/2016 16:54   1500       small              2001  manual     75   \n",
       "4  31/03/2016 17:25   3600       small              2008  manual     69   \n",
       "\n",
       "   Model  Mileage  RegistrationMonth  FuelType       Brand NotRepaired  \\\n",
       "0   golf   150000                  0    petrol  volkswagen         NaN   \n",
       "1    NaN   125000                  5  gasoline        audi         yes   \n",
       "2  grand   125000                  8  gasoline        jeep         NaN   \n",
       "3   golf   150000                  6    petrol  volkswagen          no   \n",
       "4  fabia    90000                  7  gasoline       skoda          no   \n",
       "\n",
       "        DateCreated  NumberOfPictures  PostalCode          LastSeen  \n",
       "0  24/03/2016 00:00                 0       70435  07/04/2016 03:16  \n",
       "1  24/03/2016 00:00                 0       66954  07/04/2016 01:46  \n",
       "2  14/03/2016 00:00                 0       90480  05/04/2016 12:47  \n",
       "3  17/03/2016 00:00                 0       91074  17/03/2016 17:40  \n",
       "4  31/03/2016 00:00                 0       60437  06/04/2016 10:17  "
      ]
     },
     "execution_count": 4,
     "metadata": {},
     "output_type": "execute_result"
    }
   ],
   "source": [
    "df.head()"
   ]
  },
  {
   "cell_type": "markdown",
   "metadata": {},
   "source": [
    "Checking the df's info:"
   ]
  },
  {
   "cell_type": "code",
   "execution_count": 5,
   "metadata": {},
   "outputs": [
    {
     "name": "stdout",
     "output_type": "stream",
     "text": [
      "<class 'pandas.core.frame.DataFrame'>\n",
      "RangeIndex: 354369 entries, 0 to 354368\n",
      "Data columns (total 16 columns):\n",
      " #   Column             Non-Null Count   Dtype \n",
      "---  ------             --------------   ----- \n",
      " 0   DateCrawled        354369 non-null  object\n",
      " 1   Price              354369 non-null  int64 \n",
      " 2   VehicleType        316879 non-null  object\n",
      " 3   RegistrationYear   354369 non-null  int64 \n",
      " 4   Gearbox            334536 non-null  object\n",
      " 5   Power              354369 non-null  int64 \n",
      " 6   Model              334664 non-null  object\n",
      " 7   Mileage            354369 non-null  int64 \n",
      " 8   RegistrationMonth  354369 non-null  int64 \n",
      " 9   FuelType           321474 non-null  object\n",
      " 10  Brand              354369 non-null  object\n",
      " 11  NotRepaired        283215 non-null  object\n",
      " 12  DateCreated        354369 non-null  object\n",
      " 13  NumberOfPictures   354369 non-null  int64 \n",
      " 14  PostalCode         354369 non-null  int64 \n",
      " 15  LastSeen           354369 non-null  object\n",
      "dtypes: int64(7), object(9)\n",
      "memory usage: 43.3+ MB\n"
     ]
    }
   ],
   "source": [
    "df.info()"
   ]
  },
  {
   "cell_type": "markdown",
   "metadata": {},
   "source": [
    "We will remove the following columns: DateCrawled, NumberOfPictures, DateCreated, PostalCode and LastSeen, as they dont provide useful information regarding price prediction and could confuse and misslead our models."
   ]
  },
  {
   "cell_type": "code",
   "execution_count": 6,
   "metadata": {},
   "outputs": [],
   "source": [
    "df = df.drop(['DateCrawled','NumberOfPictures','DateCreated','PostalCode','LastSeen','RegistrationMonth'], axis=1)"
   ]
  },
  {
   "cell_type": "markdown",
   "metadata": {},
   "source": [
    "Lower casing our columns:"
   ]
  },
  {
   "cell_type": "code",
   "execution_count": 7,
   "metadata": {},
   "outputs": [],
   "source": [
    "df.columns= df.columns.str.lower()"
   ]
  },
  {
   "cell_type": "markdown",
   "metadata": {},
   "source": [
    "Checking for duplicates:"
   ]
  },
  {
   "cell_type": "code",
   "execution_count": 8,
   "metadata": {},
   "outputs": [
    {
     "data": {
      "text/plain": [
       "45040"
      ]
     },
     "execution_count": 8,
     "metadata": {},
     "output_type": "execute_result"
    }
   ],
   "source": [
    "df.duplicated().sum()"
   ]
  },
  {
   "cell_type": "markdown",
   "metadata": {},
   "source": [
    "We see we have many duplicated rows, we will run our models both with them and without them"
   ]
  },
  {
   "cell_type": "markdown",
   "metadata": {},
   "source": [
    "Checking for missing values:"
   ]
  },
  {
   "cell_type": "code",
   "execution_count": 9,
   "metadata": {},
   "outputs": [
    {
     "data": {
      "text/plain": [
       "price                   0\n",
       "vehicletype         37490\n",
       "registrationyear        0\n",
       "gearbox             19833\n",
       "power                   0\n",
       "model               19705\n",
       "mileage                 0\n",
       "fueltype            32895\n",
       "brand                   0\n",
       "notrepaired         71154\n",
       "dtype: int64"
      ]
     },
     "execution_count": 9,
     "metadata": {},
     "output_type": "execute_result"
    }
   ],
   "source": [
    "df.isna().sum()"
   ]
  },
  {
   "cell_type": "code",
   "execution_count": 10,
   "metadata": {},
   "outputs": [
    {
     "name": "stdout",
     "output_type": "stream",
     "text": [
      "num of rows with missing values: 108555, 30.63% of total\n"
     ]
    }
   ],
   "source": [
    "abs_value_t = df.isna().any(axis=1).sum()\n",
    "pct_t = round(abs_value_t / len(df) * 100,2)\n",
    "print('num of rows with missing values: {}, {}% of total'.format(abs_value_t, pct_t))"
   ]
  },
  {
   "cell_type": "markdown",
   "metadata": {},
   "source": [
    "We see we have many rows with missing values. We will try predicting with dropping the missing values, and with trying to impute some of them."
   ]
  },
  {
   "cell_type": "markdown",
   "metadata": {},
   "source": [
    "checking the df's descriptive statistics for the numerical columns:"
   ]
  },
  {
   "cell_type": "code",
   "execution_count": 11,
   "metadata": {},
   "outputs": [
    {
     "data": {
      "text/html": [
       "<div>\n",
       "<style scoped>\n",
       "    .dataframe tbody tr th:only-of-type {\n",
       "        vertical-align: middle;\n",
       "    }\n",
       "\n",
       "    .dataframe tbody tr th {\n",
       "        vertical-align: top;\n",
       "    }\n",
       "\n",
       "    .dataframe thead th {\n",
       "        text-align: right;\n",
       "    }\n",
       "</style>\n",
       "<table border=\"1\" class=\"dataframe\">\n",
       "  <thead>\n",
       "    <tr style=\"text-align: right;\">\n",
       "      <th></th>\n",
       "      <th>price</th>\n",
       "      <th>registrationyear</th>\n",
       "      <th>power</th>\n",
       "      <th>mileage</th>\n",
       "    </tr>\n",
       "  </thead>\n",
       "  <tbody>\n",
       "    <tr>\n",
       "      <th>count</th>\n",
       "      <td>354369.000000</td>\n",
       "      <td>354369.000000</td>\n",
       "      <td>354369.000000</td>\n",
       "      <td>354369.000000</td>\n",
       "    </tr>\n",
       "    <tr>\n",
       "      <th>mean</th>\n",
       "      <td>4416.656776</td>\n",
       "      <td>2004.234448</td>\n",
       "      <td>110.094337</td>\n",
       "      <td>128211.172535</td>\n",
       "    </tr>\n",
       "    <tr>\n",
       "      <th>std</th>\n",
       "      <td>4514.158514</td>\n",
       "      <td>90.227958</td>\n",
       "      <td>189.850405</td>\n",
       "      <td>37905.341530</td>\n",
       "    </tr>\n",
       "    <tr>\n",
       "      <th>min</th>\n",
       "      <td>0.000000</td>\n",
       "      <td>1000.000000</td>\n",
       "      <td>0.000000</td>\n",
       "      <td>5000.000000</td>\n",
       "    </tr>\n",
       "    <tr>\n",
       "      <th>25%</th>\n",
       "      <td>1050.000000</td>\n",
       "      <td>1999.000000</td>\n",
       "      <td>69.000000</td>\n",
       "      <td>125000.000000</td>\n",
       "    </tr>\n",
       "    <tr>\n",
       "      <th>50%</th>\n",
       "      <td>2700.000000</td>\n",
       "      <td>2003.000000</td>\n",
       "      <td>105.000000</td>\n",
       "      <td>150000.000000</td>\n",
       "    </tr>\n",
       "    <tr>\n",
       "      <th>75%</th>\n",
       "      <td>6400.000000</td>\n",
       "      <td>2008.000000</td>\n",
       "      <td>143.000000</td>\n",
       "      <td>150000.000000</td>\n",
       "    </tr>\n",
       "    <tr>\n",
       "      <th>max</th>\n",
       "      <td>20000.000000</td>\n",
       "      <td>9999.000000</td>\n",
       "      <td>20000.000000</td>\n",
       "      <td>150000.000000</td>\n",
       "    </tr>\n",
       "  </tbody>\n",
       "</table>\n",
       "</div>"
      ],
      "text/plain": [
       "               price  registrationyear          power        mileage\n",
       "count  354369.000000     354369.000000  354369.000000  354369.000000\n",
       "mean     4416.656776       2004.234448     110.094337  128211.172535\n",
       "std      4514.158514         90.227958     189.850405   37905.341530\n",
       "min         0.000000       1000.000000       0.000000    5000.000000\n",
       "25%      1050.000000       1999.000000      69.000000  125000.000000\n",
       "50%      2700.000000       2003.000000     105.000000  150000.000000\n",
       "75%      6400.000000       2008.000000     143.000000  150000.000000\n",
       "max     20000.000000       9999.000000   20000.000000  150000.000000"
      ]
     },
     "execution_count": 11,
     "metadata": {},
     "output_type": "execute_result"
    }
   ],
   "source": [
    "df.describe()"
   ]
  },
  {
   "cell_type": "markdown",
   "metadata": {},
   "source": [
    "We can already tell we have some unreasonable values, such as 20000 power (hp), registartion year of 1000 and up to 9999."
   ]
  },
  {
   "cell_type": "markdown",
   "metadata": {},
   "source": [
    "Checking for unique value for each feature:"
   ]
  },
  {
   "cell_type": "code",
   "execution_count": 12,
   "metadata": {},
   "outputs": [
    {
     "name": "stdout",
     "output_type": "stream",
     "text": [
      "vehicletype\n",
      "unique count : 8\n",
      "[nan 'coupe' 'suv' 'small' 'sedan' 'convertible' 'bus' 'wagon' 'other']\n",
      "\n",
      "gearbox\n",
      "unique count : 2\n",
      "['manual' 'auto' nan]\n",
      "\n",
      "model\n",
      "unique count : 250\n",
      "['golf' nan 'grand' 'fabia' '3er' '2_reihe' 'other' 'c_max' '3_reihe'\n",
      " 'passat' 'navara' 'ka' 'polo' 'twingo' 'a_klasse' 'scirocco' '5er'\n",
      " 'meriva' 'arosa' 'c4' 'civic' 'transporter' 'punto' 'e_klasse' 'clio'\n",
      " 'kadett' 'kangoo' 'corsa' 'one' 'fortwo' '1er' 'b_klasse' 'signum'\n",
      " 'astra' 'a8' 'jetta' 'fiesta' 'c_klasse' 'micra' 'vito' 'sprinter' '156'\n",
      " 'escort' 'forester' 'xc_reihe' 'scenic' 'a4' 'a1' 'insignia' 'combo'\n",
      " 'focus' 'tt' 'a6' 'jazz' 'omega' 'slk' '7er' '80' '147' '100' 'z_reihe'\n",
      " 'sportage' 'sorento' 'v40' 'ibiza' 'mustang' 'eos' 'touran' 'getz' 'a3'\n",
      " 'almera' 'megane' 'lupo' 'r19' 'zafira' 'caddy' 'mondeo' 'cordoba' 'colt'\n",
      " 'impreza' 'vectra' 'berlingo' 'tiguan' 'i_reihe' 'espace' 'sharan'\n",
      " '6_reihe' 'panda' 'up' 'seicento' 'ceed' '5_reihe' 'yeti' 'octavia' 'mii'\n",
      " 'rx_reihe' '6er' 'modus' 'fox' 'matiz' 'beetle' 'c1' 'rio' 'touareg'\n",
      " 'logan' 'spider' 'cuore' 's_max' 'a2' 'galaxy' 'c3' 'viano' 's_klasse'\n",
      " '1_reihe' 'avensis' 'roomster' 'sl' 'kaefer' 'santa' 'cooper' 'leon'\n",
      " '4_reihe' 'a5' '500' 'laguna' 'ptcruiser' 'clk' 'primera' 'x_reihe'\n",
      " 'exeo' '159' 'transit' 'juke' 'qashqai' 'carisma' 'accord' 'corolla'\n",
      " 'lanos' 'phaeton' 'verso' 'swift' 'rav' 'picanto' 'boxster' 'kalos'\n",
      " 'superb' 'stilo' 'alhambra' 'mx_reihe' 'roadster' 'ypsilon' 'cayenne'\n",
      " 'galant' 'justy' '90' 'sirion' 'crossfire' 'agila' 'duster' 'cr_reihe'\n",
      " 'v50' 'c_reihe' 'v_klasse' 'm_klasse' 'yaris' 'c5' 'aygo' 'cc' 'carnival'\n",
      " 'fusion' '911' 'bora' 'forfour' 'm_reihe' 'cl' 'tigra' '300c' 'spark'\n",
      " 'v70' 'kuga' 'x_type' 'ducato' 's_type' 'x_trail' 'toledo' 'altea'\n",
      " 'voyager' 'calibra' 'bravo' 'antara' 'tucson' 'citigo' 'jimny' 'wrangler'\n",
      " 'lybra' 'q7' 'lancer' 'captiva' 'c2' 'discovery' 'freelander' 'sandero'\n",
      " 'note' '900' 'cherokee' 'clubman' 'samara' 'defender' '601' 'cx_reihe'\n",
      " 'legacy' 'pajero' 'auris' 'niva' 's60' 'nubira' 'vivaro' 'g_klasse'\n",
      " 'lodgy' '850' 'range_rover' 'q3' 'serie_2' 'glk' 'charade' 'croma'\n",
      " 'outlander' 'doblo' 'musa' 'move' '9000' 'v60' '145' 'aveo' '200' 'b_max'\n",
      " 'range_rover_sport' 'terios' 'rangerover' 'q5' 'range_rover_evoque'\n",
      " 'materia' 'delta' 'gl' 'kalina' 'amarok' 'elefantino' 'i3' 'kappa'\n",
      " 'serie_3' 'serie_1']\n",
      "\n",
      "fueltype\n",
      "unique count : 7\n",
      "['petrol' 'gasoline' nan 'lpg' 'other' 'hybrid' 'cng' 'electric']\n",
      "\n",
      "brand\n",
      "unique count : 40\n",
      "['volkswagen' 'audi' 'jeep' 'skoda' 'bmw' 'peugeot' 'ford' 'mazda'\n",
      " 'nissan' 'renault' 'mercedes_benz' 'opel' 'seat' 'citroen' 'honda' 'fiat'\n",
      " 'mini' 'smart' 'hyundai' 'sonstige_autos' 'alfa_romeo' 'subaru' 'volvo'\n",
      " 'mitsubishi' 'kia' 'suzuki' 'lancia' 'toyota' 'chevrolet' 'dacia'\n",
      " 'daihatsu' 'trabant' 'saab' 'chrysler' 'jaguar' 'daewoo' 'porsche'\n",
      " 'rover' 'land_rover' 'lada']\n",
      "\n",
      "notrepaired\n",
      "unique count : 2\n",
      "[nan 'yes' 'no']\n",
      "\n"
     ]
    }
   ],
   "source": [
    "dataset_ = df.select_dtypes(include='object')\n",
    "for col in dataset_.columns:\n",
    "    print('{}\\n'.format(col) + 'unique count : ' + '{}'.format(df[col].nunique()))\n",
    "    print(df[col].unique())\n",
    "    print('')"
   ]
  },
  {
   "cell_type": "markdown",
   "metadata": {},
   "source": [
    "- we will transform notreparied yes / no to 1 and 0, and gearbox manual/ auto to 0 and 1"
   ]
  },
  {
   "cell_type": "code",
   "execution_count": 13,
   "metadata": {},
   "outputs": [],
   "source": [
    "df2 = df.copy()"
   ]
  },
  {
   "cell_type": "code",
   "execution_count": 14,
   "metadata": {},
   "outputs": [],
   "source": [
    "df2.notrepaired = df2.notrepaired.map(dict(yes=1, no=0))\n",
    "df2.gearbox = df2.gearbox.map(dict(auto=1, manual=0))"
   ]
  },
  {
   "cell_type": "code",
   "execution_count": 15,
   "metadata": {},
   "outputs": [
    {
     "data": {
      "text/html": [
       "<div>\n",
       "<style scoped>\n",
       "    .dataframe tbody tr th:only-of-type {\n",
       "        vertical-align: middle;\n",
       "    }\n",
       "\n",
       "    .dataframe tbody tr th {\n",
       "        vertical-align: top;\n",
       "    }\n",
       "\n",
       "    .dataframe thead th {\n",
       "        text-align: right;\n",
       "    }\n",
       "</style>\n",
       "<table border=\"1\" class=\"dataframe\">\n",
       "  <thead>\n",
       "    <tr style=\"text-align: right;\">\n",
       "      <th></th>\n",
       "      <th>price</th>\n",
       "      <th>vehicletype</th>\n",
       "      <th>registrationyear</th>\n",
       "      <th>gearbox</th>\n",
       "      <th>power</th>\n",
       "      <th>model</th>\n",
       "      <th>mileage</th>\n",
       "      <th>fueltype</th>\n",
       "      <th>brand</th>\n",
       "      <th>notrepaired</th>\n",
       "    </tr>\n",
       "  </thead>\n",
       "  <tbody>\n",
       "    <tr>\n",
       "      <th>0</th>\n",
       "      <td>480</td>\n",
       "      <td>NaN</td>\n",
       "      <td>1993</td>\n",
       "      <td>0.0</td>\n",
       "      <td>0</td>\n",
       "      <td>golf</td>\n",
       "      <td>150000</td>\n",
       "      <td>petrol</td>\n",
       "      <td>volkswagen</td>\n",
       "      <td>NaN</td>\n",
       "    </tr>\n",
       "    <tr>\n",
       "      <th>1</th>\n",
       "      <td>18300</td>\n",
       "      <td>coupe</td>\n",
       "      <td>2011</td>\n",
       "      <td>0.0</td>\n",
       "      <td>190</td>\n",
       "      <td>NaN</td>\n",
       "      <td>125000</td>\n",
       "      <td>gasoline</td>\n",
       "      <td>audi</td>\n",
       "      <td>1.0</td>\n",
       "    </tr>\n",
       "    <tr>\n",
       "      <th>2</th>\n",
       "      <td>9800</td>\n",
       "      <td>suv</td>\n",
       "      <td>2004</td>\n",
       "      <td>1.0</td>\n",
       "      <td>163</td>\n",
       "      <td>grand</td>\n",
       "      <td>125000</td>\n",
       "      <td>gasoline</td>\n",
       "      <td>jeep</td>\n",
       "      <td>NaN</td>\n",
       "    </tr>\n",
       "    <tr>\n",
       "      <th>3</th>\n",
       "      <td>1500</td>\n",
       "      <td>small</td>\n",
       "      <td>2001</td>\n",
       "      <td>0.0</td>\n",
       "      <td>75</td>\n",
       "      <td>golf</td>\n",
       "      <td>150000</td>\n",
       "      <td>petrol</td>\n",
       "      <td>volkswagen</td>\n",
       "      <td>0.0</td>\n",
       "    </tr>\n",
       "    <tr>\n",
       "      <th>4</th>\n",
       "      <td>3600</td>\n",
       "      <td>small</td>\n",
       "      <td>2008</td>\n",
       "      <td>0.0</td>\n",
       "      <td>69</td>\n",
       "      <td>fabia</td>\n",
       "      <td>90000</td>\n",
       "      <td>gasoline</td>\n",
       "      <td>skoda</td>\n",
       "      <td>0.0</td>\n",
       "    </tr>\n",
       "  </tbody>\n",
       "</table>\n",
       "</div>"
      ],
      "text/plain": [
       "   price vehicletype  registrationyear  gearbox  power  model  mileage  \\\n",
       "0    480         NaN              1993      0.0      0   golf   150000   \n",
       "1  18300       coupe              2011      0.0    190    NaN   125000   \n",
       "2   9800         suv              2004      1.0    163  grand   125000   \n",
       "3   1500       small              2001      0.0     75   golf   150000   \n",
       "4   3600       small              2008      0.0     69  fabia    90000   \n",
       "\n",
       "   fueltype       brand  notrepaired  \n",
       "0    petrol  volkswagen          NaN  \n",
       "1  gasoline        audi          1.0  \n",
       "2  gasoline        jeep          NaN  \n",
       "3    petrol  volkswagen          0.0  \n",
       "4  gasoline       skoda          0.0  "
      ]
     },
     "execution_count": 15,
     "metadata": {},
     "output_type": "execute_result"
    }
   ],
   "source": [
    "df2.head()"
   ]
  },
  {
   "cell_type": "markdown",
   "metadata": {},
   "source": [
    "checking for outliers:"
   ]
  },
  {
   "cell_type": "code",
   "execution_count": 16,
   "metadata": {},
   "outputs": [
    {
     "data": {
      "image/png": "[encoded data removed]",
      "text/plain": [
       "<Figure size 720x432 with 6 Axes>"
      ]
     },
     "metadata": {
      "needs_background": "light"
     },
     "output_type": "display_data"
    }
   ],
   "source": [
    "selection = df2.select_dtypes(exclude=object)\n",
    "fig, ax = plt.subplots(1, len(selection.columns), figsize=(10, len(selection.columns)))\n",
    "\n",
    "for i, col in enumerate(selection.columns):\n",
    "    axo = df2[col].plot(kind='box', ax=ax[i], showfliers=True, grid=True)\n",
    "    axo.set_ylabel(col)\n",
    "\n",
    "plt.suptitle('All Numeric Feature Boxplot')    \n",
    "plt.tight_layout()\n",
    "plt.show()"
   ]
  },
  {
   "cell_type": "markdown",
   "metadata": {},
   "source": [
    "#### Description:\n",
    "- This plot shows box-plots for every numeric feature.\n",
    "- There are outliers in some features. We will use precentiles to determine the valid range of values for registrationyear and for power. The dependant variable, \"price\", is left out to maintain the data originality."
   ]
  },
  {
   "cell_type": "markdown",
   "metadata": {},
   "source": [
    "checking the percentiles for reasonable values:"
   ]
  },
  {
   "cell_type": "code",
   "execution_count": 17,
   "metadata": {},
   "outputs": [
    {
     "name": "stdout",
     "output_type": "stream",
     "text": [
      "0.5%: 1971.0 \n",
      "99%: 2018.0 \n"
     ]
    }
   ],
   "source": [
    "lower_pct_year = np.percentile(df2.registrationyear, 0.5, axis =0)\n",
    "upper_pct_year = np.percentile(df2.registrationyear, 99, axis =0)\n",
    "\n",
    "print('0.5%: {} '.format(lower_pct_year))\n",
    "print('99%: {} '.format(upper_pct_year))"
   ]
  },
  {
   "cell_type": "code",
   "execution_count": 18,
   "metadata": {},
   "outputs": [
    {
     "name": "stdout",
     "output_type": "stream",
     "text": [
      "12%: 43.0 \n",
      "99.8%: 420.0 \n"
     ]
    }
   ],
   "source": [
    "lower_pct_power = np.percentile(df2.power, 12, axis =0)\n",
    "upper_pct_power = np.percentile(df2.power, 99.8, axis =0)\n",
    "\n",
    "print('12%: {} '.format(lower_pct_power))\n",
    "print('99.8%: {} '.format(upper_pct_power))"
   ]
  },
  {
   "cell_type": "markdown",
   "metadata": {},
   "source": [
    "creating a new df with removed invalid values for registartion year."
   ]
  },
  {
   "cell_type": "code",
   "execution_count": 19,
   "metadata": {},
   "outputs": [],
   "source": [
    "df3 = df2.loc[(df[\"registrationyear\"] >= lower_pct_year) & (df[\"registrationyear\"] <= upper_pct_year)]\n",
    "df3 = df2.loc[(df2[\"power\"] >= lower_pct_power) & (df2[\"power\"] <= upper_pct_power)]"
   ]
  },
  {
   "cell_type": "markdown",
   "metadata": {},
   "source": [
    "new df with null removal:"
   ]
  },
  {
   "cell_type": "code",
   "execution_count": 20,
   "metadata": {},
   "outputs": [
    {
     "name": "stdout",
     "output_type": "stream",
     "text": [
      "<class 'pandas.core.frame.DataFrame'>\n",
      "Int64Index: 234628 entries, 3 to 354367\n",
      "Data columns (total 10 columns):\n",
      " #   Column            Non-Null Count   Dtype  \n",
      "---  ------            --------------   -----  \n",
      " 0   price             234628 non-null  int64  \n",
      " 1   vehicletype       234628 non-null  object \n",
      " 2   registrationyear  234628 non-null  int64  \n",
      " 3   gearbox           234628 non-null  float64\n",
      " 4   power             234628 non-null  int64  \n",
      " 5   model             234628 non-null  object \n",
      " 6   mileage           234628 non-null  int64  \n",
      " 7   fueltype          234628 non-null  object \n",
      " 8   brand             234628 non-null  object \n",
      " 9   notrepaired       234628 non-null  float64\n",
      "dtypes: float64(2), int64(4), object(4)\n",
      "memory usage: 19.7+ MB\n"
     ]
    }
   ],
   "source": [
    "df4 = df3.copy()\n",
    "df4 = df4.dropna()\n",
    "df4.info()"
   ]
  },
  {
   "cell_type": "markdown",
   "metadata": {},
   "source": [
    "checking for  %amount of rows with price = 0:"
   ]
  },
  {
   "cell_type": "code",
   "execution_count": 21,
   "metadata": {},
   "outputs": [
    {
     "data": {
      "text/plain": [
       "1.23"
      ]
     },
     "execution_count": 21,
     "metadata": {},
     "output_type": "execute_result"
    }
   ],
   "source": [
    "round(len(df4.query('price == 0')) / len(df4) * 100,2)"
   ]
  },
  {
   "cell_type": "markdown",
   "metadata": {},
   "source": [
    "We will remove those rows as they are 1.2% of the current data"
   ]
  },
  {
   "cell_type": "code",
   "execution_count": 22,
   "metadata": {},
   "outputs": [],
   "source": [
    "df4 = df4.query('price > 0')"
   ]
  },
  {
   "cell_type": "markdown",
   "metadata": {},
   "source": [
    "checking for mean prices for each brand:"
   ]
  },
  {
   "cell_type": "code",
   "execution_count": 23,
   "metadata": {},
   "outputs": [
    {
     "data": {
      "text/plain": [
       "brand\n",
       "porsche          12671.360324\n",
       "land_rover        9562.222785\n",
       "mini              9530.766426\n",
       "jeep              7757.321429\n",
       "jaguar            7455.308943\n",
       "audi              7231.816371\n",
       "bmw               7047.555271\n",
       "mercedes_benz     6650.556942\n",
       "skoda             6555.313850\n",
       "dacia             6073.666667\n",
       "chevrolet         6041.613770\n",
       "hyundai           5801.287624\n",
       "kia               5727.071023\n",
       "volkswagen        5344.355950\n",
       "toyota            5191.051779\n",
       "volvo             5019.150274\n",
       "nissan            4990.498144\n",
       "seat              4817.212698\n",
       "trabant           4649.500000\n",
       "suzuki            4588.741793\n",
       "subaru            4495.515810\n",
       "honda             4417.426463\n",
       "mazda             4357.811421\n",
       "alfa_romeo        4337.546250\n",
       "chrysler          4328.724544\n",
       "smart             4210.380537\n",
       "saab              4182.828784\n",
       "citroen           3985.778792\n",
       "ford              3920.636199\n",
       "lada              3719.500000\n",
       "peugeot           3668.050699\n",
       "mitsubishi        3595.309062\n",
       "opel              3397.199877\n",
       "fiat              3306.542722\n",
       "renault           2874.855078\n",
       "lancia            2736.123711\n",
       "daihatsu          2237.355353\n",
       "rover             1652.029046\n",
       "daewoo            1126.089109\n",
       "Name: price, dtype: float64"
      ]
     },
     "execution_count": 23,
     "metadata": {},
     "output_type": "execute_result"
    }
   ],
   "source": [
    "df4.groupby('brand')['price'].mean().sort_values(ascending=False)"
   ]
  },
  {
   "cell_type": "markdown",
   "metadata": {},
   "source": [
    "#### Description:\n",
    "- We are picking all brands that their price is > 6500 and consider them premium brands.\n",
    "- We see our premium brands regarding their average price are: porsche, land rover, mini, jeep, jaguar, audi, bmw, mercedes and skoda. \n",
    "- We are going to create a new feature named is_premium based on those brands."
   ]
  },
  {
   "cell_type": "markdown",
   "metadata": {},
   "source": [
    "creating the new feature:"
   ]
  },
  {
   "cell_type": "code",
   "execution_count": 24,
   "metadata": {},
   "outputs": [],
   "source": [
    "premium_makes = ['porsche', 'land_rover', 'mini', 'jeep', 'jaguar', 'audi','bmw','mercedes_benz','skoda']\n",
    "df4['ispremium'] = [1 if name in premium_makes else 0 for name in df4.brand]"
   ]
  },
  {
   "cell_type": "code",
   "execution_count": 25,
   "metadata": {},
   "outputs": [
    {
     "data": {
      "text/html": [
       "<div>\n",
       "<style scoped>\n",
       "    .dataframe tbody tr th:only-of-type {\n",
       "        vertical-align: middle;\n",
       "    }\n",
       "\n",
       "    .dataframe tbody tr th {\n",
       "        vertical-align: top;\n",
       "    }\n",
       "\n",
       "    .dataframe thead th {\n",
       "        text-align: right;\n",
       "    }\n",
       "</style>\n",
       "<table border=\"1\" class=\"dataframe\">\n",
       "  <thead>\n",
       "    <tr style=\"text-align: right;\">\n",
       "      <th></th>\n",
       "      <th>price</th>\n",
       "      <th>vehicletype</th>\n",
       "      <th>registrationyear</th>\n",
       "      <th>gearbox</th>\n",
       "      <th>power</th>\n",
       "      <th>model</th>\n",
       "      <th>mileage</th>\n",
       "      <th>fueltype</th>\n",
       "      <th>brand</th>\n",
       "      <th>notrepaired</th>\n",
       "      <th>ispremium</th>\n",
       "    </tr>\n",
       "  </thead>\n",
       "  <tbody>\n",
       "    <tr>\n",
       "      <th>3</th>\n",
       "      <td>1500</td>\n",
       "      <td>small</td>\n",
       "      <td>2001</td>\n",
       "      <td>0.0</td>\n",
       "      <td>75</td>\n",
       "      <td>golf</td>\n",
       "      <td>150000</td>\n",
       "      <td>petrol</td>\n",
       "      <td>volkswagen</td>\n",
       "      <td>0.0</td>\n",
       "      <td>0</td>\n",
       "    </tr>\n",
       "    <tr>\n",
       "      <th>4</th>\n",
       "      <td>3600</td>\n",
       "      <td>small</td>\n",
       "      <td>2008</td>\n",
       "      <td>0.0</td>\n",
       "      <td>69</td>\n",
       "      <td>fabia</td>\n",
       "      <td>90000</td>\n",
       "      <td>gasoline</td>\n",
       "      <td>skoda</td>\n",
       "      <td>0.0</td>\n",
       "      <td>1</td>\n",
       "    </tr>\n",
       "    <tr>\n",
       "      <th>5</th>\n",
       "      <td>650</td>\n",
       "      <td>sedan</td>\n",
       "      <td>1995</td>\n",
       "      <td>0.0</td>\n",
       "      <td>102</td>\n",
       "      <td>3er</td>\n",
       "      <td>150000</td>\n",
       "      <td>petrol</td>\n",
       "      <td>bmw</td>\n",
       "      <td>1.0</td>\n",
       "      <td>1</td>\n",
       "    </tr>\n",
       "    <tr>\n",
       "      <th>6</th>\n",
       "      <td>2200</td>\n",
       "      <td>convertible</td>\n",
       "      <td>2004</td>\n",
       "      <td>0.0</td>\n",
       "      <td>109</td>\n",
       "      <td>2_reihe</td>\n",
       "      <td>150000</td>\n",
       "      <td>petrol</td>\n",
       "      <td>peugeot</td>\n",
       "      <td>0.0</td>\n",
       "      <td>0</td>\n",
       "    </tr>\n",
       "    <tr>\n",
       "      <th>10</th>\n",
       "      <td>2000</td>\n",
       "      <td>sedan</td>\n",
       "      <td>2004</td>\n",
       "      <td>0.0</td>\n",
       "      <td>105</td>\n",
       "      <td>3_reihe</td>\n",
       "      <td>150000</td>\n",
       "      <td>petrol</td>\n",
       "      <td>mazda</td>\n",
       "      <td>0.0</td>\n",
       "      <td>0</td>\n",
       "    </tr>\n",
       "  </tbody>\n",
       "</table>\n",
       "</div>"
      ],
      "text/plain": [
       "    price  vehicletype  registrationyear  gearbox  power    model  mileage  \\\n",
       "3    1500        small              2001      0.0     75     golf   150000   \n",
       "4    3600        small              2008      0.0     69    fabia    90000   \n",
       "5     650        sedan              1995      0.0    102      3er   150000   \n",
       "6    2200  convertible              2004      0.0    109  2_reihe   150000   \n",
       "10   2000        sedan              2004      0.0    105  3_reihe   150000   \n",
       "\n",
       "    fueltype       brand  notrepaired  ispremium  \n",
       "3     petrol  volkswagen          0.0          0  \n",
       "4   gasoline       skoda          0.0          1  \n",
       "5     petrol         bmw          1.0          1  \n",
       "6     petrol     peugeot          0.0          0  \n",
       "10    petrol       mazda          0.0          0  "
      ]
     },
     "execution_count": 25,
     "metadata": {},
     "output_type": "execute_result"
    }
   ],
   "source": [
    "df4.head()"
   ]
  },
  {
   "cell_type": "markdown",
   "metadata": {},
   "source": [
    "Plotting correlation table:"
   ]
  },
  {
   "cell_type": "code",
   "execution_count": 26,
   "metadata": {},
   "outputs": [
    {
     "data": {
      "image/png": "[encoded data removed]",
      "text/plain": [
       "<Figure size 1152x432 with 2 Axes>"
      ]
     },
     "metadata": {
      "needs_background": "light"
     },
     "output_type": "display_data"
    }
   ],
   "source": [
    "plt.figure(figsize=(16, 6))\n",
    "heatmap = sns.heatmap(df4.corr(), vmin=-1, vmax=1, annot=True, cmap='BrBG')\n",
    "heatmap.set_title('Correlation Heatmap', fontdict={'fontsize':18}, pad=12);"
   ]
  },
  {
   "cell_type": "markdown",
   "metadata": {},
   "source": [
    "#### Description:\n",
    "- We see price(our target variable) correlates with registartion year and power the most.\n",
    "- We see there are no multicollinearity problems right now with our features.\n",
    "- We will create an additional feature to indicate wether our engine is powerful or not"
   ]
  },
  {
   "cell_type": "markdown",
   "metadata": {},
   "source": [
    "Our threshold to indicate wether the engine is powerful or not:"
   ]
  },
  {
   "cell_type": "code",
   "execution_count": 27,
   "metadata": {},
   "outputs": [
    {
     "data": {
      "text/plain": [
       "231.5"
      ]
     },
     "execution_count": 27,
     "metadata": {},
     "output_type": "execute_result"
    }
   ],
   "source": [
    "threshold = df4.power.min() + (df4.power.max() - df4.power.min()) / 2\n",
    "threshold"
   ]
  },
  {
   "cell_type": "code",
   "execution_count": 28,
   "metadata": {},
   "outputs": [],
   "source": [
    "df4['powerful_engine'] = [1 if power >= threshold else 0 for power in df4.power]"
   ]
  },
  {
   "cell_type": "code",
   "execution_count": 29,
   "metadata": {},
   "outputs": [],
   "source": [
    "data = df4.copy()"
   ]
  },
  {
   "cell_type": "markdown",
   "metadata": {},
   "source": [
    "#### Encoding: \n",
    "Replacing remaining object features with one-hot dummies if the certain feature has few unique values or with hash if there are many uniques"
   ]
  },
  {
   "cell_type": "code",
   "execution_count": 30,
   "metadata": {},
   "outputs": [
    {
     "name": "stdout",
     "output_type": "stream",
     "text": [
      "Column vehicletype has 8 values among 231747\n",
      "One-hot encoding of vehicletype\n",
      "Hashing of vehicletype\n",
      "Column model has 249 values among 231747\n",
      "Hashing of model\n",
      "Column fueltype has 7 values among 231747\n",
      "One-hot encoding of fueltype\n",
      "Hashing of fueltype\n",
      "Column brand has 39 values among 231747\n",
      "Hashing of brand\n"
     ]
    }
   ],
   "source": [
    "cols_to_drop = []\n",
    "len_data = len(data)\n",
    "\n",
    "for col in data.drop(columns=['price']).columns:\n",
    "    if data[col].dtype == 'object':\n",
    "        print(f'Column {col} has {data[col].nunique()} values among {len_data}')\n",
    "\n",
    "        if data[col].nunique() < 25:\n",
    "            print(f'One-hot encoding of {col}')\n",
    "            one_hot_cols = pd.get_dummies(data[col], drop_first=True)\n",
    "        for ohc in one_hot_cols.columns:\n",
    "            data[col + '_' + ohc] = one_hot_cols[ohc]\n",
    "        else:\n",
    "            print(f'Hashing of {col}')\n",
    "            data[col + '_hash'] = data[col].apply(lambda row: int(hashlib.sha1((col + \"_\" + str(row)).encode('utf-8')).hexdigest(), 16) % len_data)\n",
    "\n",
    "        cols_to_drop.append(col)\n",
    "    \n",
    "data = data.drop(columns=cols_to_drop)"
   ]
  },
  {
   "cell_type": "markdown",
   "metadata": {},
   "source": [
    "Removing the features with high correlation to reduce the model dimensionality and avoid information redundancy"
   ]
  },
  {
   "cell_type": "code",
   "execution_count": 31,
   "metadata": {},
   "outputs": [
    {
     "name": "stdout",
     "output_type": "stream",
     "text": [
      "Highly correlated features: ['brand_gasoline', 'fueltype_petrol', 'fueltype_petrol', 'fueltype_gasoline', 'brand_petrol', 'fueltype_hash', 'fueltype_hash', 'fueltype_hash']\n"
     ]
    },
    {
     "data": {
      "text/html": [
       "<div>\n",
       "<style scoped>\n",
       "    .dataframe tbody tr th:only-of-type {\n",
       "        vertical-align: middle;\n",
       "    }\n",
       "\n",
       "    .dataframe tbody tr th {\n",
       "        vertical-align: top;\n",
       "    }\n",
       "\n",
       "    .dataframe thead th {\n",
       "        text-align: right;\n",
       "    }\n",
       "</style>\n",
       "<table border=\"1\" class=\"dataframe\">\n",
       "  <thead>\n",
       "    <tr style=\"text-align: right;\">\n",
       "      <th></th>\n",
       "      <th>price</th>\n",
       "      <th>registrationyear</th>\n",
       "      <th>gearbox</th>\n",
       "      <th>power</th>\n",
       "      <th>mileage</th>\n",
       "      <th>notrepaired</th>\n",
       "      <th>ispremium</th>\n",
       "      <th>powerful_engine</th>\n",
       "      <th>vehicletype_convertible</th>\n",
       "      <th>vehicletype_coupe</th>\n",
       "      <th>vehicletype_other</th>\n",
       "      <th>vehicletype_sedan</th>\n",
       "      <th>vehicletype_small</th>\n",
       "      <th>vehicletype_suv</th>\n",
       "      <th>vehicletype_wagon</th>\n",
       "      <th>vehicletype_hash</th>\n",
       "      <th>model_convertible</th>\n",
       "      <th>model_coupe</th>\n",
       "      <th>model_other</th>\n",
       "      <th>model_sedan</th>\n",
       "      <th>model_small</th>\n",
       "      <th>model_suv</th>\n",
       "      <th>model_wagon</th>\n",
       "      <th>model_hash</th>\n",
       "      <th>fueltype_electric</th>\n",
       "      <th>fueltype_hybrid</th>\n",
       "      <th>fueltype_lpg</th>\n",
       "      <th>fueltype_other</th>\n",
       "      <th>brand_electric</th>\n",
       "      <th>brand_hybrid</th>\n",
       "      <th>brand_lpg</th>\n",
       "      <th>brand_other</th>\n",
       "      <th>brand_hash</th>\n",
       "    </tr>\n",
       "  </thead>\n",
       "  <tbody>\n",
       "    <tr>\n",
       "      <th>3</th>\n",
       "      <td>1500</td>\n",
       "      <td>2001</td>\n",
       "      <td>0.0</td>\n",
       "      <td>75</td>\n",
       "      <td>150000</td>\n",
       "      <td>0.0</td>\n",
       "      <td>0</td>\n",
       "      <td>0</td>\n",
       "      <td>0</td>\n",
       "      <td>0</td>\n",
       "      <td>0</td>\n",
       "      <td>0</td>\n",
       "      <td>1</td>\n",
       "      <td>0</td>\n",
       "      <td>0</td>\n",
       "      <td>81662</td>\n",
       "      <td>0</td>\n",
       "      <td>0</td>\n",
       "      <td>0</td>\n",
       "      <td>0</td>\n",
       "      <td>1</td>\n",
       "      <td>0</td>\n",
       "      <td>0</td>\n",
       "      <td>35048</td>\n",
       "      <td>0</td>\n",
       "      <td>0</td>\n",
       "      <td>0</td>\n",
       "      <td>0</td>\n",
       "      <td>0</td>\n",
       "      <td>0</td>\n",
       "      <td>0</td>\n",
       "      <td>0</td>\n",
       "      <td>51833</td>\n",
       "    </tr>\n",
       "    <tr>\n",
       "      <th>4</th>\n",
       "      <td>3600</td>\n",
       "      <td>2008</td>\n",
       "      <td>0.0</td>\n",
       "      <td>69</td>\n",
       "      <td>90000</td>\n",
       "      <td>0.0</td>\n",
       "      <td>1</td>\n",
       "      <td>0</td>\n",
       "      <td>0</td>\n",
       "      <td>0</td>\n",
       "      <td>0</td>\n",
       "      <td>0</td>\n",
       "      <td>1</td>\n",
       "      <td>0</td>\n",
       "      <td>0</td>\n",
       "      <td>81662</td>\n",
       "      <td>0</td>\n",
       "      <td>0</td>\n",
       "      <td>0</td>\n",
       "      <td>0</td>\n",
       "      <td>1</td>\n",
       "      <td>0</td>\n",
       "      <td>0</td>\n",
       "      <td>173017</td>\n",
       "      <td>0</td>\n",
       "      <td>0</td>\n",
       "      <td>0</td>\n",
       "      <td>0</td>\n",
       "      <td>0</td>\n",
       "      <td>0</td>\n",
       "      <td>0</td>\n",
       "      <td>0</td>\n",
       "      <td>18708</td>\n",
       "    </tr>\n",
       "    <tr>\n",
       "      <th>5</th>\n",
       "      <td>650</td>\n",
       "      <td>1995</td>\n",
       "      <td>0.0</td>\n",
       "      <td>102</td>\n",
       "      <td>150000</td>\n",
       "      <td>1.0</td>\n",
       "      <td>1</td>\n",
       "      <td>0</td>\n",
       "      <td>0</td>\n",
       "      <td>0</td>\n",
       "      <td>0</td>\n",
       "      <td>1</td>\n",
       "      <td>0</td>\n",
       "      <td>0</td>\n",
       "      <td>0</td>\n",
       "      <td>99003</td>\n",
       "      <td>0</td>\n",
       "      <td>0</td>\n",
       "      <td>0</td>\n",
       "      <td>1</td>\n",
       "      <td>0</td>\n",
       "      <td>0</td>\n",
       "      <td>0</td>\n",
       "      <td>35430</td>\n",
       "      <td>0</td>\n",
       "      <td>0</td>\n",
       "      <td>0</td>\n",
       "      <td>0</td>\n",
       "      <td>0</td>\n",
       "      <td>0</td>\n",
       "      <td>0</td>\n",
       "      <td>0</td>\n",
       "      <td>195956</td>\n",
       "    </tr>\n",
       "    <tr>\n",
       "      <th>6</th>\n",
       "      <td>2200</td>\n",
       "      <td>2004</td>\n",
       "      <td>0.0</td>\n",
       "      <td>109</td>\n",
       "      <td>150000</td>\n",
       "      <td>0.0</td>\n",
       "      <td>0</td>\n",
       "      <td>0</td>\n",
       "      <td>1</td>\n",
       "      <td>0</td>\n",
       "      <td>0</td>\n",
       "      <td>0</td>\n",
       "      <td>0</td>\n",
       "      <td>0</td>\n",
       "      <td>0</td>\n",
       "      <td>130270</td>\n",
       "      <td>1</td>\n",
       "      <td>0</td>\n",
       "      <td>0</td>\n",
       "      <td>0</td>\n",
       "      <td>0</td>\n",
       "      <td>0</td>\n",
       "      <td>0</td>\n",
       "      <td>127265</td>\n",
       "      <td>0</td>\n",
       "      <td>0</td>\n",
       "      <td>0</td>\n",
       "      <td>0</td>\n",
       "      <td>0</td>\n",
       "      <td>0</td>\n",
       "      <td>0</td>\n",
       "      <td>0</td>\n",
       "      <td>86231</td>\n",
       "    </tr>\n",
       "    <tr>\n",
       "      <th>10</th>\n",
       "      <td>2000</td>\n",
       "      <td>2004</td>\n",
       "      <td>0.0</td>\n",
       "      <td>105</td>\n",
       "      <td>150000</td>\n",
       "      <td>0.0</td>\n",
       "      <td>0</td>\n",
       "      <td>0</td>\n",
       "      <td>0</td>\n",
       "      <td>0</td>\n",
       "      <td>0</td>\n",
       "      <td>1</td>\n",
       "      <td>0</td>\n",
       "      <td>0</td>\n",
       "      <td>0</td>\n",
       "      <td>99003</td>\n",
       "      <td>0</td>\n",
       "      <td>0</td>\n",
       "      <td>0</td>\n",
       "      <td>1</td>\n",
       "      <td>0</td>\n",
       "      <td>0</td>\n",
       "      <td>0</td>\n",
       "      <td>88570</td>\n",
       "      <td>0</td>\n",
       "      <td>0</td>\n",
       "      <td>0</td>\n",
       "      <td>0</td>\n",
       "      <td>0</td>\n",
       "      <td>0</td>\n",
       "      <td>0</td>\n",
       "      <td>0</td>\n",
       "      <td>131407</td>\n",
       "    </tr>\n",
       "    <tr>\n",
       "      <th>...</th>\n",
       "      <td>...</td>\n",
       "      <td>...</td>\n",
       "      <td>...</td>\n",
       "      <td>...</td>\n",
       "      <td>...</td>\n",
       "      <td>...</td>\n",
       "      <td>...</td>\n",
       "      <td>...</td>\n",
       "      <td>...</td>\n",
       "      <td>...</td>\n",
       "      <td>...</td>\n",
       "      <td>...</td>\n",
       "      <td>...</td>\n",
       "      <td>...</td>\n",
       "      <td>...</td>\n",
       "      <td>...</td>\n",
       "      <td>...</td>\n",
       "      <td>...</td>\n",
       "      <td>...</td>\n",
       "      <td>...</td>\n",
       "      <td>...</td>\n",
       "      <td>...</td>\n",
       "      <td>...</td>\n",
       "      <td>...</td>\n",
       "      <td>...</td>\n",
       "      <td>...</td>\n",
       "      <td>...</td>\n",
       "      <td>...</td>\n",
       "      <td>...</td>\n",
       "      <td>...</td>\n",
       "      <td>...</td>\n",
       "      <td>...</td>\n",
       "      <td>...</td>\n",
       "    </tr>\n",
       "    <tr>\n",
       "      <th>354358</th>\n",
       "      <td>1490</td>\n",
       "      <td>1998</td>\n",
       "      <td>0.0</td>\n",
       "      <td>50</td>\n",
       "      <td>150000</td>\n",
       "      <td>0.0</td>\n",
       "      <td>0</td>\n",
       "      <td>0</td>\n",
       "      <td>0</td>\n",
       "      <td>0</td>\n",
       "      <td>0</td>\n",
       "      <td>0</td>\n",
       "      <td>1</td>\n",
       "      <td>0</td>\n",
       "      <td>0</td>\n",
       "      <td>81662</td>\n",
       "      <td>0</td>\n",
       "      <td>0</td>\n",
       "      <td>0</td>\n",
       "      <td>0</td>\n",
       "      <td>1</td>\n",
       "      <td>0</td>\n",
       "      <td>0</td>\n",
       "      <td>41295</td>\n",
       "      <td>0</td>\n",
       "      <td>0</td>\n",
       "      <td>0</td>\n",
       "      <td>0</td>\n",
       "      <td>0</td>\n",
       "      <td>0</td>\n",
       "      <td>0</td>\n",
       "      <td>0</td>\n",
       "      <td>51833</td>\n",
       "    </tr>\n",
       "    <tr>\n",
       "      <th>354359</th>\n",
       "      <td>7900</td>\n",
       "      <td>2010</td>\n",
       "      <td>0.0</td>\n",
       "      <td>140</td>\n",
       "      <td>150000</td>\n",
       "      <td>0.0</td>\n",
       "      <td>0</td>\n",
       "      <td>0</td>\n",
       "      <td>0</td>\n",
       "      <td>0</td>\n",
       "      <td>0</td>\n",
       "      <td>1</td>\n",
       "      <td>0</td>\n",
       "      <td>0</td>\n",
       "      <td>0</td>\n",
       "      <td>99003</td>\n",
       "      <td>0</td>\n",
       "      <td>0</td>\n",
       "      <td>0</td>\n",
       "      <td>1</td>\n",
       "      <td>0</td>\n",
       "      <td>0</td>\n",
       "      <td>0</td>\n",
       "      <td>35048</td>\n",
       "      <td>0</td>\n",
       "      <td>0</td>\n",
       "      <td>0</td>\n",
       "      <td>0</td>\n",
       "      <td>0</td>\n",
       "      <td>0</td>\n",
       "      <td>0</td>\n",
       "      <td>0</td>\n",
       "      <td>51833</td>\n",
       "    </tr>\n",
       "    <tr>\n",
       "      <th>354362</th>\n",
       "      <td>3200</td>\n",
       "      <td>2004</td>\n",
       "      <td>0.0</td>\n",
       "      <td>225</td>\n",
       "      <td>150000</td>\n",
       "      <td>1.0</td>\n",
       "      <td>0</td>\n",
       "      <td>0</td>\n",
       "      <td>0</td>\n",
       "      <td>0</td>\n",
       "      <td>0</td>\n",
       "      <td>1</td>\n",
       "      <td>0</td>\n",
       "      <td>0</td>\n",
       "      <td>0</td>\n",
       "      <td>99003</td>\n",
       "      <td>0</td>\n",
       "      <td>0</td>\n",
       "      <td>0</td>\n",
       "      <td>1</td>\n",
       "      <td>0</td>\n",
       "      <td>0</td>\n",
       "      <td>0</td>\n",
       "      <td>219264</td>\n",
       "      <td>0</td>\n",
       "      <td>0</td>\n",
       "      <td>0</td>\n",
       "      <td>0</td>\n",
       "      <td>0</td>\n",
       "      <td>0</td>\n",
       "      <td>0</td>\n",
       "      <td>0</td>\n",
       "      <td>188346</td>\n",
       "    </tr>\n",
       "    <tr>\n",
       "      <th>354366</th>\n",
       "      <td>1199</td>\n",
       "      <td>2000</td>\n",
       "      <td>1.0</td>\n",
       "      <td>101</td>\n",
       "      <td>125000</td>\n",
       "      <td>0.0</td>\n",
       "      <td>0</td>\n",
       "      <td>0</td>\n",
       "      <td>1</td>\n",
       "      <td>0</td>\n",
       "      <td>0</td>\n",
       "      <td>0</td>\n",
       "      <td>0</td>\n",
       "      <td>0</td>\n",
       "      <td>0</td>\n",
       "      <td>130270</td>\n",
       "      <td>1</td>\n",
       "      <td>0</td>\n",
       "      <td>0</td>\n",
       "      <td>0</td>\n",
       "      <td>0</td>\n",
       "      <td>0</td>\n",
       "      <td>0</td>\n",
       "      <td>135068</td>\n",
       "      <td>0</td>\n",
       "      <td>0</td>\n",
       "      <td>0</td>\n",
       "      <td>0</td>\n",
       "      <td>0</td>\n",
       "      <td>0</td>\n",
       "      <td>0</td>\n",
       "      <td>0</td>\n",
       "      <td>57828</td>\n",
       "    </tr>\n",
       "    <tr>\n",
       "      <th>354367</th>\n",
       "      <td>9200</td>\n",
       "      <td>1996</td>\n",
       "      <td>0.0</td>\n",
       "      <td>102</td>\n",
       "      <td>150000</td>\n",
       "      <td>0.0</td>\n",
       "      <td>0</td>\n",
       "      <td>0</td>\n",
       "      <td>0</td>\n",
       "      <td>0</td>\n",
       "      <td>0</td>\n",
       "      <td>0</td>\n",
       "      <td>0</td>\n",
       "      <td>0</td>\n",
       "      <td>0</td>\n",
       "      <td>199923</td>\n",
       "      <td>0</td>\n",
       "      <td>0</td>\n",
       "      <td>0</td>\n",
       "      <td>0</td>\n",
       "      <td>0</td>\n",
       "      <td>0</td>\n",
       "      <td>0</td>\n",
       "      <td>115562</td>\n",
       "      <td>0</td>\n",
       "      <td>0</td>\n",
       "      <td>0</td>\n",
       "      <td>0</td>\n",
       "      <td>0</td>\n",
       "      <td>0</td>\n",
       "      <td>0</td>\n",
       "      <td>0</td>\n",
       "      <td>51833</td>\n",
       "    </tr>\n",
       "  </tbody>\n",
       "</table>\n",
       "<p>231747 rows × 33 columns</p>\n",
       "</div>"
      ],
      "text/plain": [
       "        price  registrationyear  gearbox  power  mileage  notrepaired  \\\n",
       "3        1500              2001      0.0     75   150000          0.0   \n",
       "4        3600              2008      0.0     69    90000          0.0   \n",
       "5         650              1995      0.0    102   150000          1.0   \n",
       "6        2200              2004      0.0    109   150000          0.0   \n",
       "10       2000              2004      0.0    105   150000          0.0   \n",
       "...       ...               ...      ...    ...      ...          ...   \n",
       "354358   1490              1998      0.0     50   150000          0.0   \n",
       "354359   7900              2010      0.0    140   150000          0.0   \n",
       "354362   3200              2004      0.0    225   150000          1.0   \n",
       "354366   1199              2000      1.0    101   125000          0.0   \n",
       "354367   9200              1996      0.0    102   150000          0.0   \n",
       "\n",
       "        ispremium  powerful_engine  vehicletype_convertible  \\\n",
       "3               0                0                        0   \n",
       "4               1                0                        0   \n",
       "5               1                0                        0   \n",
       "6               0                0                        1   \n",
       "10              0                0                        0   \n",
       "...           ...              ...                      ...   \n",
       "354358          0                0                        0   \n",
       "354359          0                0                        0   \n",
       "354362          0                0                        0   \n",
       "354366          0                0                        1   \n",
       "354367          0                0                        0   \n",
       "\n",
       "        vehicletype_coupe  vehicletype_other  vehicletype_sedan  \\\n",
       "3                       0                  0                  0   \n",
       "4                       0                  0                  0   \n",
       "5                       0                  0                  1   \n",
       "6                       0                  0                  0   \n",
       "10                      0                  0                  1   \n",
       "...                   ...                ...                ...   \n",
       "354358                  0                  0                  0   \n",
       "354359                  0                  0                  1   \n",
       "354362                  0                  0                  1   \n",
       "354366                  0                  0                  0   \n",
       "354367                  0                  0                  0   \n",
       "\n",
       "        vehicletype_small  vehicletype_suv  vehicletype_wagon  \\\n",
       "3                       1                0                  0   \n",
       "4                       1                0                  0   \n",
       "5                       0                0                  0   \n",
       "6                       0                0                  0   \n",
       "10                      0                0                  0   \n",
       "...                   ...              ...                ...   \n",
       "354358                  1                0                  0   \n",
       "354359                  0                0                  0   \n",
       "354362                  0                0                  0   \n",
       "354366                  0                0                  0   \n",
       "354367                  0                0                  0   \n",
       "\n",
       "        vehicletype_hash  model_convertible  model_coupe  model_other  \\\n",
       "3                  81662                  0            0            0   \n",
       "4                  81662                  0            0            0   \n",
       "5                  99003                  0            0            0   \n",
       "6                 130270                  1            0            0   \n",
       "10                 99003                  0            0            0   \n",
       "...                  ...                ...          ...          ...   \n",
       "354358             81662                  0            0            0   \n",
       "354359             99003                  0            0            0   \n",
       "354362             99003                  0            0            0   \n",
       "354366            130270                  1            0            0   \n",
       "354367            199923                  0            0            0   \n",
       "\n",
       "        model_sedan  model_small  model_suv  model_wagon  model_hash  \\\n",
       "3                 0            1          0            0       35048   \n",
       "4                 0            1          0            0      173017   \n",
       "5                 1            0          0            0       35430   \n",
       "6                 0            0          0            0      127265   \n",
       "10                1            0          0            0       88570   \n",
       "...             ...          ...        ...          ...         ...   \n",
       "354358            0            1          0            0       41295   \n",
       "354359            1            0          0            0       35048   \n",
       "354362            1            0          0            0      219264   \n",
       "354366            0            0          0            0      135068   \n",
       "354367            0            0          0            0      115562   \n",
       "\n",
       "        fueltype_electric  fueltype_hybrid  fueltype_lpg  fueltype_other  \\\n",
       "3                       0                0             0               0   \n",
       "4                       0                0             0               0   \n",
       "5                       0                0             0               0   \n",
       "6                       0                0             0               0   \n",
       "10                      0                0             0               0   \n",
       "...                   ...              ...           ...             ...   \n",
       "354358                  0                0             0               0   \n",
       "354359                  0                0             0               0   \n",
       "354362                  0                0             0               0   \n",
       "354366                  0                0             0               0   \n",
       "354367                  0                0             0               0   \n",
       "\n",
       "        brand_electric  brand_hybrid  brand_lpg  brand_other  brand_hash  \n",
       "3                    0             0          0            0       51833  \n",
       "4                    0             0          0            0       18708  \n",
       "5                    0             0          0            0      195956  \n",
       "6                    0             0          0            0       86231  \n",
       "10                   0             0          0            0      131407  \n",
       "...                ...           ...        ...          ...         ...  \n",
       "354358               0             0          0            0       51833  \n",
       "354359               0             0          0            0       51833  \n",
       "354362               0             0          0            0      188346  \n",
       "354366               0             0          0            0       57828  \n",
       "354367               0             0          0            0       51833  \n",
       "\n",
       "[231747 rows x 33 columns]"
      ]
     },
     "execution_count": 31,
     "metadata": {},
     "output_type": "execute_result"
    }
   ],
   "source": [
    "corr = data.drop(columns=[\"price\"]).corr()\n",
    "corr_top = corr.abs().unstack().sort_values(kind='quicksort')\n",
    "corr_top = corr_top[corr_top > 0.9][corr_top < 1]\n",
    "\n",
    "cols_to_drop = [corr_top.index[i][0] for i in range(0, len(corr_top), 2)]\n",
    "print(f\"Highly correlated features: {cols_to_drop}\")\n",
    "data = data.drop(columns=cols_to_drop)\n",
    "\n",
    "data"
   ]
  },
  {
   "cell_type": "code",
   "execution_count": 32,
   "metadata": {},
   "outputs": [],
   "source": [
    "data = data.reset_index(drop=True)"
   ]
  },
  {
   "cell_type": "markdown",
   "metadata": {},
   "source": [
    "Splitting to training and test data before scaling:"
   ]
  },
  {
   "cell_type": "code",
   "execution_count": 33,
   "metadata": {},
   "outputs": [],
   "source": [
    "features = data.drop(columns=['price'])\n",
    "target = data.price\n",
    "\n",
    "X_train, X_test, y_train, y_test = train_test_split(features,target, random_state=42,train_size=0.8)"
   ]
  },
  {
   "cell_type": "code",
   "execution_count": 34,
   "metadata": {},
   "outputs": [],
   "source": [
    "# Rescaling the feaures\n",
    "scaler = StandardScaler()\n",
    "scaler.fit(X_train)\n",
    "\n",
    "X_train = scaler.transform(X_train)\n",
    "X_test = scaler.transform(X_test)"
   ]
  },
  {
   "cell_type": "markdown",
   "metadata": {},
   "source": [
    "### Conclusion:"
   ]
  },
  {
   "cell_type": "markdown",
   "metadata": {},
   "source": [
    "\n",
    "- We have removed features, created new features, got rid of illogical values,encoded the categorical features and scaled the features."
   ]
  },
  {
   "cell_type": "markdown",
   "metadata": {},
   "source": [
    "## Model training"
   ]
  },
  {
   "cell_type": "markdown",
   "metadata": {},
   "source": [
    "number of rows for train set for pycaret:"
   ]
  },
  {
   "cell_type": "code",
   "execution_count": 35,
   "metadata": {},
   "outputs": [],
   "source": [
    "rows = round(len(data) * 0.8)"
   ]
  },
  {
   "cell_type": "code",
   "execution_count": 36,
   "metadata": {},
   "outputs": [],
   "source": [
    "dftrain = data.sample(n= rows, random_state=42)\n",
    "dftest = data.drop(dftrain.index)\n",
    "\n",
    "dftrain.reset_index(drop=True, inplace=True)\n",
    "dftest.reset_index(drop=True, inplace=True)"
   ]
  },
  {
   "cell_type": "markdown",
   "metadata": {},
   "source": [
    "## ** Please press enter in the bar at the boottom of the next cell when it asks for it. **"
   ]
  },
  {
   "cell_type": "code",
   "execution_count": 37,
   "metadata": {},
   "outputs": [
    {
     "data": {
      "text/html": [
       "<style type=\"text/css\">\n",
       "#T_b09aa_row42_col1 {\n",
       "  background-color: lightgreen;\n",
       "}\n",
       "</style>\n",
       "<table id=\"T_b09aa_\">\n",
       "  <thead>\n",
       "    <tr>\n",
       "      <th class=\"blank level0\" >&nbsp;</th>\n",
       "      <th class=\"col_heading level0 col0\" >Description</th>\n",
       "      <th class=\"col_heading level0 col1\" >Value</th>\n",
       "    </tr>\n",
       "  </thead>\n",
       "  <tbody>\n",
       "    <tr>\n",
       "      <th id=\"T_b09aa_level0_row0\" class=\"row_heading level0 row0\" >0</th>\n",
       "      <td id=\"T_b09aa_row0_col0\" class=\"data row0 col0\" >session_id</td>\n",
       "      <td id=\"T_b09aa_row0_col1\" class=\"data row0 col1\" >42</td>\n",
       "    </tr>\n",
       "    <tr>\n",
       "      <th id=\"T_b09aa_level0_row1\" class=\"row_heading level0 row1\" >1</th>\n",
       "      <td id=\"T_b09aa_row1_col0\" class=\"data row1 col0\" >Target</td>\n",
       "      <td id=\"T_b09aa_row1_col1\" class=\"data row1 col1\" >price</td>\n",
       "    </tr>\n",
       "    <tr>\n",
       "      <th id=\"T_b09aa_level0_row2\" class=\"row_heading level0 row2\" >2</th>\n",
       "      <td id=\"T_b09aa_row2_col0\" class=\"data row2 col0\" >Original Data</td>\n",
       "      <td id=\"T_b09aa_row2_col1\" class=\"data row2 col1\" >(185398, 33)</td>\n",
       "    </tr>\n",
       "    <tr>\n",
       "      <th id=\"T_b09aa_level0_row3\" class=\"row_heading level0 row3\" >3</th>\n",
       "      <td id=\"T_b09aa_row3_col0\" class=\"data row3 col0\" >Missing Values</td>\n",
       "      <td id=\"T_b09aa_row3_col1\" class=\"data row3 col1\" >False</td>\n",
       "    </tr>\n",
       "    <tr>\n",
       "      <th id=\"T_b09aa_level0_row4\" class=\"row_heading level0 row4\" >4</th>\n",
       "      <td id=\"T_b09aa_row4_col0\" class=\"data row4 col0\" >Numeric Features</td>\n",
       "      <td id=\"T_b09aa_row4_col1\" class=\"data row4 col1\" >26</td>\n",
       "    </tr>\n",
       "    <tr>\n",
       "      <th id=\"T_b09aa_level0_row5\" class=\"row_heading level0 row5\" >5</th>\n",
       "      <td id=\"T_b09aa_row5_col0\" class=\"data row5 col0\" >Categorical Features</td>\n",
       "      <td id=\"T_b09aa_row5_col1\" class=\"data row5 col1\" >6</td>\n",
       "    </tr>\n",
       "    <tr>\n",
       "      <th id=\"T_b09aa_level0_row6\" class=\"row_heading level0 row6\" >6</th>\n",
       "      <td id=\"T_b09aa_row6_col0\" class=\"data row6 col0\" >Ordinal Features</td>\n",
       "      <td id=\"T_b09aa_row6_col1\" class=\"data row6 col1\" >False</td>\n",
       "    </tr>\n",
       "    <tr>\n",
       "      <th id=\"T_b09aa_level0_row7\" class=\"row_heading level0 row7\" >7</th>\n",
       "      <td id=\"T_b09aa_row7_col0\" class=\"data row7 col0\" >High Cardinality Features</td>\n",
       "      <td id=\"T_b09aa_row7_col1\" class=\"data row7 col1\" >False</td>\n",
       "    </tr>\n",
       "    <tr>\n",
       "      <th id=\"T_b09aa_level0_row8\" class=\"row_heading level0 row8\" >8</th>\n",
       "      <td id=\"T_b09aa_row8_col0\" class=\"data row8 col0\" >High Cardinality Method</td>\n",
       "      <td id=\"T_b09aa_row8_col1\" class=\"data row8 col1\" >None</td>\n",
       "    </tr>\n",
       "    <tr>\n",
       "      <th id=\"T_b09aa_level0_row9\" class=\"row_heading level0 row9\" >9</th>\n",
       "      <td id=\"T_b09aa_row9_col0\" class=\"data row9 col0\" >Transformed Train Set</td>\n",
       "      <td id=\"T_b09aa_row9_col1\" class=\"data row9 col1\" >(129778, 30)</td>\n",
       "    </tr>\n",
       "    <tr>\n",
       "      <th id=\"T_b09aa_level0_row10\" class=\"row_heading level0 row10\" >10</th>\n",
       "      <td id=\"T_b09aa_row10_col0\" class=\"data row10 col0\" >Transformed Test Set</td>\n",
       "      <td id=\"T_b09aa_row10_col1\" class=\"data row10 col1\" >(55620, 30)</td>\n",
       "    </tr>\n",
       "    <tr>\n",
       "      <th id=\"T_b09aa_level0_row11\" class=\"row_heading level0 row11\" >11</th>\n",
       "      <td id=\"T_b09aa_row11_col0\" class=\"data row11 col0\" >Shuffle Train-Test</td>\n",
       "      <td id=\"T_b09aa_row11_col1\" class=\"data row11 col1\" >True</td>\n",
       "    </tr>\n",
       "    <tr>\n",
       "      <th id=\"T_b09aa_level0_row12\" class=\"row_heading level0 row12\" >12</th>\n",
       "      <td id=\"T_b09aa_row12_col0\" class=\"data row12 col0\" >Stratify Train-Test</td>\n",
       "      <td id=\"T_b09aa_row12_col1\" class=\"data row12 col1\" >False</td>\n",
       "    </tr>\n",
       "    <tr>\n",
       "      <th id=\"T_b09aa_level0_row13\" class=\"row_heading level0 row13\" >13</th>\n",
       "      <td id=\"T_b09aa_row13_col0\" class=\"data row13 col0\" >Fold Generator</td>\n",
       "      <td id=\"T_b09aa_row13_col1\" class=\"data row13 col1\" >KFold</td>\n",
       "    </tr>\n",
       "    <tr>\n",
       "      <th id=\"T_b09aa_level0_row14\" class=\"row_heading level0 row14\" >14</th>\n",
       "      <td id=\"T_b09aa_row14_col0\" class=\"data row14 col0\" >Fold Number</td>\n",
       "      <td id=\"T_b09aa_row14_col1\" class=\"data row14 col1\" >10</td>\n",
       "    </tr>\n",
       "    <tr>\n",
       "      <th id=\"T_b09aa_level0_row15\" class=\"row_heading level0 row15\" >15</th>\n",
       "      <td id=\"T_b09aa_row15_col0\" class=\"data row15 col0\" >CPU Jobs</td>\n",
       "      <td id=\"T_b09aa_row15_col1\" class=\"data row15 col1\" >-1</td>\n",
       "    </tr>\n",
       "    <tr>\n",
       "      <th id=\"T_b09aa_level0_row16\" class=\"row_heading level0 row16\" >16</th>\n",
       "      <td id=\"T_b09aa_row16_col0\" class=\"data row16 col0\" >Use GPU</td>\n",
       "      <td id=\"T_b09aa_row16_col1\" class=\"data row16 col1\" >False</td>\n",
       "    </tr>\n",
       "    <tr>\n",
       "      <th id=\"T_b09aa_level0_row17\" class=\"row_heading level0 row17\" >17</th>\n",
       "      <td id=\"T_b09aa_row17_col0\" class=\"data row17 col0\" >Log Experiment</td>\n",
       "      <td id=\"T_b09aa_row17_col1\" class=\"data row17 col1\" >False</td>\n",
       "    </tr>\n",
       "    <tr>\n",
       "      <th id=\"T_b09aa_level0_row18\" class=\"row_heading level0 row18\" >18</th>\n",
       "      <td id=\"T_b09aa_row18_col0\" class=\"data row18 col0\" >Experiment Name</td>\n",
       "      <td id=\"T_b09aa_row18_col1\" class=\"data row18 col1\" >reg-default-name</td>\n",
       "    </tr>\n",
       "    <tr>\n",
       "      <th id=\"T_b09aa_level0_row19\" class=\"row_heading level0 row19\" >19</th>\n",
       "      <td id=\"T_b09aa_row19_col0\" class=\"data row19 col0\" >USI</td>\n",
       "      <td id=\"T_b09aa_row19_col1\" class=\"data row19 col1\" >cd7b</td>\n",
       "    </tr>\n",
       "    <tr>\n",
       "      <th id=\"T_b09aa_level0_row20\" class=\"row_heading level0 row20\" >20</th>\n",
       "      <td id=\"T_b09aa_row20_col0\" class=\"data row20 col0\" >Imputation Type</td>\n",
       "      <td id=\"T_b09aa_row20_col1\" class=\"data row20 col1\" >simple</td>\n",
       "    </tr>\n",
       "    <tr>\n",
       "      <th id=\"T_b09aa_level0_row21\" class=\"row_heading level0 row21\" >21</th>\n",
       "      <td id=\"T_b09aa_row21_col0\" class=\"data row21 col0\" >Iterative Imputation Iteration</td>\n",
       "      <td id=\"T_b09aa_row21_col1\" class=\"data row21 col1\" >None</td>\n",
       "    </tr>\n",
       "    <tr>\n",
       "      <th id=\"T_b09aa_level0_row22\" class=\"row_heading level0 row22\" >22</th>\n",
       "      <td id=\"T_b09aa_row22_col0\" class=\"data row22 col0\" >Numeric Imputer</td>\n",
       "      <td id=\"T_b09aa_row22_col1\" class=\"data row22 col1\" >mean</td>\n",
       "    </tr>\n",
       "    <tr>\n",
       "      <th id=\"T_b09aa_level0_row23\" class=\"row_heading level0 row23\" >23</th>\n",
       "      <td id=\"T_b09aa_row23_col0\" class=\"data row23 col0\" >Iterative Imputation Numeric Model</td>\n",
       "      <td id=\"T_b09aa_row23_col1\" class=\"data row23 col1\" >None</td>\n",
       "    </tr>\n",
       "    <tr>\n",
       "      <th id=\"T_b09aa_level0_row24\" class=\"row_heading level0 row24\" >24</th>\n",
       "      <td id=\"T_b09aa_row24_col0\" class=\"data row24 col0\" >Categorical Imputer</td>\n",
       "      <td id=\"T_b09aa_row24_col1\" class=\"data row24 col1\" >constant</td>\n",
       "    </tr>\n",
       "    <tr>\n",
       "      <th id=\"T_b09aa_level0_row25\" class=\"row_heading level0 row25\" >25</th>\n",
       "      <td id=\"T_b09aa_row25_col0\" class=\"data row25 col0\" >Iterative Imputation Categorical Model</td>\n",
       "      <td id=\"T_b09aa_row25_col1\" class=\"data row25 col1\" >None</td>\n",
       "    </tr>\n",
       "    <tr>\n",
       "      <th id=\"T_b09aa_level0_row26\" class=\"row_heading level0 row26\" >26</th>\n",
       "      <td id=\"T_b09aa_row26_col0\" class=\"data row26 col0\" >Unknown Categoricals Handling</td>\n",
       "      <td id=\"T_b09aa_row26_col1\" class=\"data row26 col1\" >least_frequent</td>\n",
       "    </tr>\n",
       "    <tr>\n",
       "      <th id=\"T_b09aa_level0_row27\" class=\"row_heading level0 row27\" >27</th>\n",
       "      <td id=\"T_b09aa_row27_col0\" class=\"data row27 col0\" >Normalize</td>\n",
       "      <td id=\"T_b09aa_row27_col1\" class=\"data row27 col1\" >False</td>\n",
       "    </tr>\n",
       "    <tr>\n",
       "      <th id=\"T_b09aa_level0_row28\" class=\"row_heading level0 row28\" >28</th>\n",
       "      <td id=\"T_b09aa_row28_col0\" class=\"data row28 col0\" >Normalize Method</td>\n",
       "      <td id=\"T_b09aa_row28_col1\" class=\"data row28 col1\" >None</td>\n",
       "    </tr>\n",
       "    <tr>\n",
       "      <th id=\"T_b09aa_level0_row29\" class=\"row_heading level0 row29\" >29</th>\n",
       "      <td id=\"T_b09aa_row29_col0\" class=\"data row29 col0\" >Transformation</td>\n",
       "      <td id=\"T_b09aa_row29_col1\" class=\"data row29 col1\" >False</td>\n",
       "    </tr>\n",
       "    <tr>\n",
       "      <th id=\"T_b09aa_level0_row30\" class=\"row_heading level0 row30\" >30</th>\n",
       "      <td id=\"T_b09aa_row30_col0\" class=\"data row30 col0\" >Transformation Method</td>\n",
       "      <td id=\"T_b09aa_row30_col1\" class=\"data row30 col1\" >None</td>\n",
       "    </tr>\n",
       "    <tr>\n",
       "      <th id=\"T_b09aa_level0_row31\" class=\"row_heading level0 row31\" >31</th>\n",
       "      <td id=\"T_b09aa_row31_col0\" class=\"data row31 col0\" >PCA</td>\n",
       "      <td id=\"T_b09aa_row31_col1\" class=\"data row31 col1\" >False</td>\n",
       "    </tr>\n",
       "    <tr>\n",
       "      <th id=\"T_b09aa_level0_row32\" class=\"row_heading level0 row32\" >32</th>\n",
       "      <td id=\"T_b09aa_row32_col0\" class=\"data row32 col0\" >PCA Method</td>\n",
       "      <td id=\"T_b09aa_row32_col1\" class=\"data row32 col1\" >None</td>\n",
       "    </tr>\n",
       "    <tr>\n",
       "      <th id=\"T_b09aa_level0_row33\" class=\"row_heading level0 row33\" >33</th>\n",
       "      <td id=\"T_b09aa_row33_col0\" class=\"data row33 col0\" >PCA Components</td>\n",
       "      <td id=\"T_b09aa_row33_col1\" class=\"data row33 col1\" >None</td>\n",
       "    </tr>\n",
       "    <tr>\n",
       "      <th id=\"T_b09aa_level0_row34\" class=\"row_heading level0 row34\" >34</th>\n",
       "      <td id=\"T_b09aa_row34_col0\" class=\"data row34 col0\" >Ignore Low Variance</td>\n",
       "      <td id=\"T_b09aa_row34_col1\" class=\"data row34 col1\" >False</td>\n",
       "    </tr>\n",
       "    <tr>\n",
       "      <th id=\"T_b09aa_level0_row35\" class=\"row_heading level0 row35\" >35</th>\n",
       "      <td id=\"T_b09aa_row35_col0\" class=\"data row35 col0\" >Combine Rare Levels</td>\n",
       "      <td id=\"T_b09aa_row35_col1\" class=\"data row35 col1\" >False</td>\n",
       "    </tr>\n",
       "    <tr>\n",
       "      <th id=\"T_b09aa_level0_row36\" class=\"row_heading level0 row36\" >36</th>\n",
       "      <td id=\"T_b09aa_row36_col0\" class=\"data row36 col0\" >Rare Level Threshold</td>\n",
       "      <td id=\"T_b09aa_row36_col1\" class=\"data row36 col1\" >None</td>\n",
       "    </tr>\n",
       "    <tr>\n",
       "      <th id=\"T_b09aa_level0_row37\" class=\"row_heading level0 row37\" >37</th>\n",
       "      <td id=\"T_b09aa_row37_col0\" class=\"data row37 col0\" >Numeric Binning</td>\n",
       "      <td id=\"T_b09aa_row37_col1\" class=\"data row37 col1\" >False</td>\n",
       "    </tr>\n",
       "    <tr>\n",
       "      <th id=\"T_b09aa_level0_row38\" class=\"row_heading level0 row38\" >38</th>\n",
       "      <td id=\"T_b09aa_row38_col0\" class=\"data row38 col0\" >Remove Outliers</td>\n",
       "      <td id=\"T_b09aa_row38_col1\" class=\"data row38 col1\" >False</td>\n",
       "    </tr>\n",
       "    <tr>\n",
       "      <th id=\"T_b09aa_level0_row39\" class=\"row_heading level0 row39\" >39</th>\n",
       "      <td id=\"T_b09aa_row39_col0\" class=\"data row39 col0\" >Outliers Threshold</td>\n",
       "      <td id=\"T_b09aa_row39_col1\" class=\"data row39 col1\" >None</td>\n",
       "    </tr>\n",
       "    <tr>\n",
       "      <th id=\"T_b09aa_level0_row40\" class=\"row_heading level0 row40\" >40</th>\n",
       "      <td id=\"T_b09aa_row40_col0\" class=\"data row40 col0\" >Remove Multicollinearity</td>\n",
       "      <td id=\"T_b09aa_row40_col1\" class=\"data row40 col1\" >False</td>\n",
       "    </tr>\n",
       "    <tr>\n",
       "      <th id=\"T_b09aa_level0_row41\" class=\"row_heading level0 row41\" >41</th>\n",
       "      <td id=\"T_b09aa_row41_col0\" class=\"data row41 col0\" >Multicollinearity Threshold</td>\n",
       "      <td id=\"T_b09aa_row41_col1\" class=\"data row41 col1\" >None</td>\n",
       "    </tr>\n",
       "    <tr>\n",
       "      <th id=\"T_b09aa_level0_row42\" class=\"row_heading level0 row42\" >42</th>\n",
       "      <td id=\"T_b09aa_row42_col0\" class=\"data row42 col0\" >Remove Perfect Collinearity</td>\n",
       "      <td id=\"T_b09aa_row42_col1\" class=\"data row42 col1\" >True</td>\n",
       "    </tr>\n",
       "    <tr>\n",
       "      <th id=\"T_b09aa_level0_row43\" class=\"row_heading level0 row43\" >43</th>\n",
       "      <td id=\"T_b09aa_row43_col0\" class=\"data row43 col0\" >Clustering</td>\n",
       "      <td id=\"T_b09aa_row43_col1\" class=\"data row43 col1\" >False</td>\n",
       "    </tr>\n",
       "    <tr>\n",
       "      <th id=\"T_b09aa_level0_row44\" class=\"row_heading level0 row44\" >44</th>\n",
       "      <td id=\"T_b09aa_row44_col0\" class=\"data row44 col0\" >Clustering Iteration</td>\n",
       "      <td id=\"T_b09aa_row44_col1\" class=\"data row44 col1\" >None</td>\n",
       "    </tr>\n",
       "    <tr>\n",
       "      <th id=\"T_b09aa_level0_row45\" class=\"row_heading level0 row45\" >45</th>\n",
       "      <td id=\"T_b09aa_row45_col0\" class=\"data row45 col0\" >Polynomial Features</td>\n",
       "      <td id=\"T_b09aa_row45_col1\" class=\"data row45 col1\" >False</td>\n",
       "    </tr>\n",
       "    <tr>\n",
       "      <th id=\"T_b09aa_level0_row46\" class=\"row_heading level0 row46\" >46</th>\n",
       "      <td id=\"T_b09aa_row46_col0\" class=\"data row46 col0\" >Polynomial Degree</td>\n",
       "      <td id=\"T_b09aa_row46_col1\" class=\"data row46 col1\" >None</td>\n",
       "    </tr>\n",
       "    <tr>\n",
       "      <th id=\"T_b09aa_level0_row47\" class=\"row_heading level0 row47\" >47</th>\n",
       "      <td id=\"T_b09aa_row47_col0\" class=\"data row47 col0\" >Trignometry Features</td>\n",
       "      <td id=\"T_b09aa_row47_col1\" class=\"data row47 col1\" >False</td>\n",
       "    </tr>\n",
       "    <tr>\n",
       "      <th id=\"T_b09aa_level0_row48\" class=\"row_heading level0 row48\" >48</th>\n",
       "      <td id=\"T_b09aa_row48_col0\" class=\"data row48 col0\" >Polynomial Threshold</td>\n",
       "      <td id=\"T_b09aa_row48_col1\" class=\"data row48 col1\" >None</td>\n",
       "    </tr>\n",
       "    <tr>\n",
       "      <th id=\"T_b09aa_level0_row49\" class=\"row_heading level0 row49\" >49</th>\n",
       "      <td id=\"T_b09aa_row49_col0\" class=\"data row49 col0\" >Group Features</td>\n",
       "      <td id=\"T_b09aa_row49_col1\" class=\"data row49 col1\" >False</td>\n",
       "    </tr>\n",
       "    <tr>\n",
       "      <th id=\"T_b09aa_level0_row50\" class=\"row_heading level0 row50\" >50</th>\n",
       "      <td id=\"T_b09aa_row50_col0\" class=\"data row50 col0\" >Feature Selection</td>\n",
       "      <td id=\"T_b09aa_row50_col1\" class=\"data row50 col1\" >False</td>\n",
       "    </tr>\n",
       "    <tr>\n",
       "      <th id=\"T_b09aa_level0_row51\" class=\"row_heading level0 row51\" >51</th>\n",
       "      <td id=\"T_b09aa_row51_col0\" class=\"data row51 col0\" >Feature Selection Method</td>\n",
       "      <td id=\"T_b09aa_row51_col1\" class=\"data row51 col1\" >classic</td>\n",
       "    </tr>\n",
       "    <tr>\n",
       "      <th id=\"T_b09aa_level0_row52\" class=\"row_heading level0 row52\" >52</th>\n",
       "      <td id=\"T_b09aa_row52_col0\" class=\"data row52 col0\" >Features Selection Threshold</td>\n",
       "      <td id=\"T_b09aa_row52_col1\" class=\"data row52 col1\" >None</td>\n",
       "    </tr>\n",
       "    <tr>\n",
       "      <th id=\"T_b09aa_level0_row53\" class=\"row_heading level0 row53\" >53</th>\n",
       "      <td id=\"T_b09aa_row53_col0\" class=\"data row53 col0\" >Feature Interaction</td>\n",
       "      <td id=\"T_b09aa_row53_col1\" class=\"data row53 col1\" >False</td>\n",
       "    </tr>\n",
       "    <tr>\n",
       "      <th id=\"T_b09aa_level0_row54\" class=\"row_heading level0 row54\" >54</th>\n",
       "      <td id=\"T_b09aa_row54_col0\" class=\"data row54 col0\" >Feature Ratio</td>\n",
       "      <td id=\"T_b09aa_row54_col1\" class=\"data row54 col1\" >False</td>\n",
       "    </tr>\n",
       "    <tr>\n",
       "      <th id=\"T_b09aa_level0_row55\" class=\"row_heading level0 row55\" >55</th>\n",
       "      <td id=\"T_b09aa_row55_col0\" class=\"data row55 col0\" >Interaction Threshold</td>\n",
       "      <td id=\"T_b09aa_row55_col1\" class=\"data row55 col1\" >None</td>\n",
       "    </tr>\n",
       "    <tr>\n",
       "      <th id=\"T_b09aa_level0_row56\" class=\"row_heading level0 row56\" >56</th>\n",
       "      <td id=\"T_b09aa_row56_col0\" class=\"data row56 col0\" >Transform Target</td>\n",
       "      <td id=\"T_b09aa_row56_col1\" class=\"data row56 col1\" >False</td>\n",
       "    </tr>\n",
       "    <tr>\n",
       "      <th id=\"T_b09aa_level0_row57\" class=\"row_heading level0 row57\" >57</th>\n",
       "      <td id=\"T_b09aa_row57_col0\" class=\"data row57 col0\" >Transform Target Method</td>\n",
       "      <td id=\"T_b09aa_row57_col1\" class=\"data row57 col1\" >box-cox</td>\n",
       "    </tr>\n",
       "  </tbody>\n",
       "</table>\n"
      ],
      "text/plain": [
       "<pandas.io.formats.style.Styler at 0x7f263e796c50>"
      ]
     },
     "metadata": {},
     "output_type": "display_data"
    }
   ],
   "source": [
    "pycaret_exp = pycr.setup(data=dftrain, target=\"price\", session_id=42)"
   ]
  },
  {
   "cell_type": "markdown",
   "metadata": {},
   "source": [
    "training and evaluating over 15 models using cross validation. sorting by RMSE "
   ]
  },
  {
   "cell_type": "code",
   "execution_count": 38,
   "metadata": {
    "scrolled": false
   },
   "outputs": [
    {
     "data": {
      "text/html": [
       "<style type=\"text/css\">\n",
       "#T_fdc72_ th {\n",
       "  text-align: left;\n",
       "}\n",
       "#T_fdc72_row0_col0, #T_fdc72_row0_col6, #T_fdc72_row1_col0, #T_fdc72_row1_col1, #T_fdc72_row1_col2, #T_fdc72_row1_col3, #T_fdc72_row1_col4, #T_fdc72_row1_col5, #T_fdc72_row1_col6, #T_fdc72_row2_col0, #T_fdc72_row2_col1, #T_fdc72_row2_col2, #T_fdc72_row2_col3, #T_fdc72_row2_col4, #T_fdc72_row2_col5, #T_fdc72_row2_col6, #T_fdc72_row3_col0, #T_fdc72_row3_col1, #T_fdc72_row3_col2, #T_fdc72_row3_col3, #T_fdc72_row3_col4, #T_fdc72_row3_col5, #T_fdc72_row3_col6, #T_fdc72_row4_col0, #T_fdc72_row4_col1, #T_fdc72_row4_col2, #T_fdc72_row4_col3, #T_fdc72_row4_col4, #T_fdc72_row4_col5, #T_fdc72_row4_col6, #T_fdc72_row5_col0, #T_fdc72_row5_col1, #T_fdc72_row5_col2, #T_fdc72_row5_col3, #T_fdc72_row5_col4, #T_fdc72_row5_col5, #T_fdc72_row6_col0, #T_fdc72_row6_col1, #T_fdc72_row6_col2, #T_fdc72_row6_col3, #T_fdc72_row6_col4, #T_fdc72_row6_col5, #T_fdc72_row6_col6, #T_fdc72_row7_col0, #T_fdc72_row7_col1, #T_fdc72_row7_col2, #T_fdc72_row7_col3, #T_fdc72_row7_col4, #T_fdc72_row7_col5, #T_fdc72_row7_col6, #T_fdc72_row8_col0, #T_fdc72_row8_col1, #T_fdc72_row8_col2, #T_fdc72_row8_col3, #T_fdc72_row8_col4, #T_fdc72_row8_col5, #T_fdc72_row8_col6, #T_fdc72_row9_col0, #T_fdc72_row9_col1, #T_fdc72_row9_col2, #T_fdc72_row9_col3, #T_fdc72_row9_col4, #T_fdc72_row9_col5, #T_fdc72_row9_col6, #T_fdc72_row10_col0, #T_fdc72_row10_col1, #T_fdc72_row10_col2, #T_fdc72_row10_col3, #T_fdc72_row10_col4, #T_fdc72_row10_col5, #T_fdc72_row10_col6, #T_fdc72_row11_col0, #T_fdc72_row11_col1, #T_fdc72_row11_col2, #T_fdc72_row11_col3, #T_fdc72_row11_col4, #T_fdc72_row11_col5, #T_fdc72_row11_col6, #T_fdc72_row12_col0, #T_fdc72_row12_col1, #T_fdc72_row12_col2, #T_fdc72_row12_col3, #T_fdc72_row12_col4, #T_fdc72_row12_col5, #T_fdc72_row12_col6, #T_fdc72_row13_col0, #T_fdc72_row13_col1, #T_fdc72_row13_col2, #T_fdc72_row13_col3, #T_fdc72_row13_col4, #T_fdc72_row13_col5, #T_fdc72_row13_col6, #T_fdc72_row14_col0, #T_fdc72_row14_col1, #T_fdc72_row14_col2, #T_fdc72_row14_col3, #T_fdc72_row14_col4, #T_fdc72_row14_col5, #T_fdc72_row14_col6, #T_fdc72_row15_col0, #T_fdc72_row15_col1, #T_fdc72_row15_col2, #T_fdc72_row15_col3, #T_fdc72_row15_col4, #T_fdc72_row15_col5, #T_fdc72_row15_col6, #T_fdc72_row16_col0, #T_fdc72_row16_col1, #T_fdc72_row16_col2, #T_fdc72_row16_col3, #T_fdc72_row16_col4, #T_fdc72_row16_col5, #T_fdc72_row16_col6 {\n",
       "  text-align: left;\n",
       "}\n",
       "#T_fdc72_row0_col1, #T_fdc72_row0_col2, #T_fdc72_row0_col3, #T_fdc72_row0_col4, #T_fdc72_row0_col5, #T_fdc72_row5_col6 {\n",
       "  text-align: left;\n",
       "  background-color: yellow;\n",
       "}\n",
       "#T_fdc72_row0_col7, #T_fdc72_row1_col7, #T_fdc72_row2_col7, #T_fdc72_row3_col7, #T_fdc72_row4_col7, #T_fdc72_row5_col7, #T_fdc72_row6_col7, #T_fdc72_row7_col7, #T_fdc72_row8_col7, #T_fdc72_row9_col7, #T_fdc72_row10_col7, #T_fdc72_row13_col7, #T_fdc72_row14_col7, #T_fdc72_row15_col7, #T_fdc72_row16_col7 {\n",
       "  text-align: left;\n",
       "  background-color: lightgrey;\n",
       "}\n",
       "#T_fdc72_row11_col7, #T_fdc72_row12_col7 {\n",
       "  text-align: left;\n",
       "  background-color: yellow;\n",
       "  background-color: lightgrey;\n",
       "}\n",
       "</style>\n",
       "<table id=\"T_fdc72_\">\n",
       "  <thead>\n",
       "    <tr>\n",
       "      <th class=\"blank level0\" >&nbsp;</th>\n",
       "      <th class=\"col_heading level0 col0\" >Model</th>\n",
       "      <th class=\"col_heading level0 col1\" >MAE</th>\n",
       "      <th class=\"col_heading level0 col2\" >MSE</th>\n",
       "      <th class=\"col_heading level0 col3\" >RMSE</th>\n",
       "      <th class=\"col_heading level0 col4\" >R2</th>\n",
       "      <th class=\"col_heading level0 col5\" >RMSLE</th>\n",
       "      <th class=\"col_heading level0 col6\" >MAPE</th>\n",
       "      <th class=\"col_heading level0 col7\" >TT (Sec)</th>\n",
       "    </tr>\n",
       "  </thead>\n",
       "  <tbody>\n",
       "    <tr>\n",
       "      <th id=\"T_fdc72_level0_row0\" class=\"row_heading level0 row0\" >rf</th>\n",
       "      <td id=\"T_fdc72_row0_col0\" class=\"data row0 col0\" >Random Forest Regressor</td>\n",
       "      <td id=\"T_fdc72_row0_col1\" class=\"data row0 col1\" >1038.3088</td>\n",
       "      <td id=\"T_fdc72_row0_col2\" class=\"data row0 col2\" >2707172.8266</td>\n",
       "      <td id=\"T_fdc72_row0_col3\" class=\"data row0 col3\" >1645.1690</td>\n",
       "      <td id=\"T_fdc72_row0_col4\" class=\"data row0 col4\" >0.8784</td>\n",
       "      <td id=\"T_fdc72_row0_col5\" class=\"data row0 col5\" >0.4873</td>\n",
       "      <td id=\"T_fdc72_row0_col6\" class=\"data row0 col6\" >3.9225</td>\n",
       "      <td id=\"T_fdc72_row0_col7\" class=\"data row0 col7\" >44.5480</td>\n",
       "    </tr>\n",
       "    <tr>\n",
       "      <th id=\"T_fdc72_level0_row1\" class=\"row_heading level0 row1\" >et</th>\n",
       "      <td id=\"T_fdc72_row1_col0\" class=\"data row1 col0\" >Extra Trees Regressor</td>\n",
       "      <td id=\"T_fdc72_row1_col1\" class=\"data row1 col1\" >1063.7331</td>\n",
       "      <td id=\"T_fdc72_row1_col2\" class=\"data row1 col2\" >2882922.2251</td>\n",
       "      <td id=\"T_fdc72_row1_col3\" class=\"data row1 col3\" >1697.7850</td>\n",
       "      <td id=\"T_fdc72_row1_col4\" class=\"data row1 col4\" >0.8705</td>\n",
       "      <td id=\"T_fdc72_row1_col5\" class=\"data row1 col5\" >0.5049</td>\n",
       "      <td id=\"T_fdc72_row1_col6\" class=\"data row1 col6\" >3.8648</td>\n",
       "      <td id=\"T_fdc72_row1_col7\" class=\"data row1 col7\" >40.0040</td>\n",
       "    </tr>\n",
       "    <tr>\n",
       "      <th id=\"T_fdc72_level0_row2\" class=\"row_heading level0 row2\" >lightgbm</th>\n",
       "      <td id=\"T_fdc72_row2_col0\" class=\"data row2 col0\" >Light Gradient Boosting Machine</td>\n",
       "      <td id=\"T_fdc72_row2_col1\" class=\"data row2 col1\" >1118.7627</td>\n",
       "      <td id=\"T_fdc72_row2_col2\" class=\"data row2 col2\" >2909087.1868</td>\n",
       "      <td id=\"T_fdc72_row2_col3\" class=\"data row2 col3\" >1705.4966</td>\n",
       "      <td id=\"T_fdc72_row2_col4\" class=\"data row2 col4\" >0.8693</td>\n",
       "      <td id=\"T_fdc72_row2_col5\" class=\"data row2 col5\" >0.5041</td>\n",
       "      <td id=\"T_fdc72_row2_col6\" class=\"data row2 col6\" >4.0912</td>\n",
       "      <td id=\"T_fdc72_row2_col7\" class=\"data row2 col7\" >3.9900</td>\n",
       "    </tr>\n",
       "    <tr>\n",
       "      <th id=\"T_fdc72_level0_row3\" class=\"row_heading level0 row3\" >knn</th>\n",
       "      <td id=\"T_fdc72_row3_col0\" class=\"data row3 col0\" >K Neighbors Regressor</td>\n",
       "      <td id=\"T_fdc72_row3_col1\" class=\"data row3 col1\" >1168.1668</td>\n",
       "      <td id=\"T_fdc72_row3_col2\" class=\"data row3 col2\" >3440119.4740</td>\n",
       "      <td id=\"T_fdc72_row3_col3\" class=\"data row3 col3\" >1854.6954</td>\n",
       "      <td id=\"T_fdc72_row3_col4\" class=\"data row3 col4\" >0.8455</td>\n",
       "      <td id=\"T_fdc72_row3_col5\" class=\"data row3 col5\" >0.5217</td>\n",
       "      <td id=\"T_fdc72_row3_col6\" class=\"data row3 col6\" >4.3717</td>\n",
       "      <td id=\"T_fdc72_row3_col7\" class=\"data row3 col7\" >7.0660</td>\n",
       "    </tr>\n",
       "    <tr>\n",
       "      <th id=\"T_fdc72_level0_row4\" class=\"row_heading level0 row4\" >gbr</th>\n",
       "      <td id=\"T_fdc72_row4_col0\" class=\"data row4 col0\" >Gradient Boosting Regressor</td>\n",
       "      <td id=\"T_fdc72_row4_col1\" class=\"data row4 col1\" >1270.9514</td>\n",
       "      <td id=\"T_fdc72_row4_col2\" class=\"data row4 col2\" >3644604.1337</td>\n",
       "      <td id=\"T_fdc72_row4_col3\" class=\"data row4 col3\" >1908.9448</td>\n",
       "      <td id=\"T_fdc72_row4_col4\" class=\"data row4 col4\" >0.8363</td>\n",
       "      <td id=\"T_fdc72_row4_col5\" class=\"data row4 col5\" >0.5688</td>\n",
       "      <td id=\"T_fdc72_row4_col6\" class=\"data row4 col6\" >4.2760</td>\n",
       "      <td id=\"T_fdc72_row4_col7\" class=\"data row4 col7\" >11.8300</td>\n",
       "    </tr>\n",
       "    <tr>\n",
       "      <th id=\"T_fdc72_level0_row5\" class=\"row_heading level0 row5\" >dt</th>\n",
       "      <td id=\"T_fdc72_row5_col0\" class=\"data row5 col0\" >Decision Tree Regressor</td>\n",
       "      <td id=\"T_fdc72_row5_col1\" class=\"data row5 col1\" >1169.3598</td>\n",
       "      <td id=\"T_fdc72_row5_col2\" class=\"data row5 col2\" >3765450.6709</td>\n",
       "      <td id=\"T_fdc72_row5_col3\" class=\"data row5 col3\" >1940.1167</td>\n",
       "      <td id=\"T_fdc72_row5_col4\" class=\"data row5 col4\" >0.8308</td>\n",
       "      <td id=\"T_fdc72_row5_col5\" class=\"data row5 col5\" >0.5669</td>\n",
       "      <td id=\"T_fdc72_row5_col6\" class=\"data row5 col6\" >3.7787</td>\n",
       "      <td id=\"T_fdc72_row5_col7\" class=\"data row5 col7\" >0.6800</td>\n",
       "    </tr>\n",
       "    <tr>\n",
       "      <th id=\"T_fdc72_level0_row6\" class=\"row_heading level0 row6\" >br</th>\n",
       "      <td id=\"T_fdc72_row6_col0\" class=\"data row6 col0\" >Bayesian Ridge</td>\n",
       "      <td id=\"T_fdc72_row6_col1\" class=\"data row6 col1\" >2036.2102</td>\n",
       "      <td id=\"T_fdc72_row6_col2\" class=\"data row6 col2\" >7900248.8143</td>\n",
       "      <td id=\"T_fdc72_row6_col3\" class=\"data row6 col3\" >2810.6327</td>\n",
       "      <td id=\"T_fdc72_row6_col4\" class=\"data row6 col4\" >0.6451</td>\n",
       "      <td id=\"T_fdc72_row6_col5\" class=\"data row6 col5\" >0.8385</td>\n",
       "      <td id=\"T_fdc72_row6_col6\" class=\"data row6 col6\" >5.5369</td>\n",
       "      <td id=\"T_fdc72_row6_col7\" class=\"data row6 col7\" >1.0300</td>\n",
       "    </tr>\n",
       "    <tr>\n",
       "      <th id=\"T_fdc72_level0_row7\" class=\"row_heading level0 row7\" >ridge</th>\n",
       "      <td id=\"T_fdc72_row7_col0\" class=\"data row7 col0\" >Ridge Regression</td>\n",
       "      <td id=\"T_fdc72_row7_col1\" class=\"data row7 col1\" >2036.2187</td>\n",
       "      <td id=\"T_fdc72_row7_col2\" class=\"data row7 col2\" >7900361.4723</td>\n",
       "      <td id=\"T_fdc72_row7_col3\" class=\"data row7 col3\" >2810.6529</td>\n",
       "      <td id=\"T_fdc72_row7_col4\" class=\"data row7 col4\" >0.6451</td>\n",
       "      <td id=\"T_fdc72_row7_col5\" class=\"data row7 col5\" >0.8388</td>\n",
       "      <td id=\"T_fdc72_row7_col6\" class=\"data row7 col6\" >5.5376</td>\n",
       "      <td id=\"T_fdc72_row7_col7\" class=\"data row7 col7\" >0.3160</td>\n",
       "    </tr>\n",
       "    <tr>\n",
       "      <th id=\"T_fdc72_level0_row8\" class=\"row_heading level0 row8\" >lar</th>\n",
       "      <td id=\"T_fdc72_row8_col0\" class=\"data row8 col0\" >Least Angle Regression</td>\n",
       "      <td id=\"T_fdc72_row8_col1\" class=\"data row8 col1\" >2036.2231</td>\n",
       "      <td id=\"T_fdc72_row8_col2\" class=\"data row8 col2\" >7900427.2747</td>\n",
       "      <td id=\"T_fdc72_row8_col3\" class=\"data row8 col3\" >2810.6646</td>\n",
       "      <td id=\"T_fdc72_row8_col4\" class=\"data row8 col4\" >0.6451</td>\n",
       "      <td id=\"T_fdc72_row8_col5\" class=\"data row8 col5\" >0.8388</td>\n",
       "      <td id=\"T_fdc72_row8_col6\" class=\"data row8 col6\" >5.5378</td>\n",
       "      <td id=\"T_fdc72_row8_col7\" class=\"data row8 col7\" >0.3740</td>\n",
       "    </tr>\n",
       "    <tr>\n",
       "      <th id=\"T_fdc72_level0_row9\" class=\"row_heading level0 row9\" >lasso</th>\n",
       "      <td id=\"T_fdc72_row9_col0\" class=\"data row9 col0\" >Lasso Regression</td>\n",
       "      <td id=\"T_fdc72_row9_col1\" class=\"data row9 col1\" >2036.5170</td>\n",
       "      <td id=\"T_fdc72_row9_col2\" class=\"data row9 col2\" >7902574.7645</td>\n",
       "      <td id=\"T_fdc72_row9_col3\" class=\"data row9 col3\" >2811.0433</td>\n",
       "      <td id=\"T_fdc72_row9_col4\" class=\"data row9 col4\" >0.6450</td>\n",
       "      <td id=\"T_fdc72_row9_col5\" class=\"data row9 col5\" >0.8384</td>\n",
       "      <td id=\"T_fdc72_row9_col6\" class=\"data row9 col6\" >5.5314</td>\n",
       "      <td id=\"T_fdc72_row9_col7\" class=\"data row9 col7\" >14.3160</td>\n",
       "    </tr>\n",
       "    <tr>\n",
       "      <th id=\"T_fdc72_level0_row10\" class=\"row_heading level0 row10\" >lr</th>\n",
       "      <td id=\"T_fdc72_row10_col0\" class=\"data row10 col0\" >Linear Regression</td>\n",
       "      <td id=\"T_fdc72_row10_col1\" class=\"data row10 col1\" >2049.6936</td>\n",
       "      <td id=\"T_fdc72_row10_col2\" class=\"data row10 col2\" >8072572.6259</td>\n",
       "      <td id=\"T_fdc72_row10_col3\" class=\"data row10 col3\" >2841.1451</td>\n",
       "      <td id=\"T_fdc72_row10_col4\" class=\"data row10 col4\" >0.6373</td>\n",
       "      <td id=\"T_fdc72_row10_col5\" class=\"data row10 col5\" >0.8378</td>\n",
       "      <td id=\"T_fdc72_row10_col6\" class=\"data row10 col6\" >5.6078</td>\n",
       "      <td id=\"T_fdc72_row10_col7\" class=\"data row10 col7\" >0.3800</td>\n",
       "    </tr>\n",
       "    <tr>\n",
       "      <th id=\"T_fdc72_level0_row11\" class=\"row_heading level0 row11\" >llar</th>\n",
       "      <td id=\"T_fdc72_row11_col0\" class=\"data row11 col0\" >Lasso Least Angle Regression</td>\n",
       "      <td id=\"T_fdc72_row11_col1\" class=\"data row11 col1\" >2170.1560</td>\n",
       "      <td id=\"T_fdc72_row11_col2\" class=\"data row11 col2\" >9129213.9668</td>\n",
       "      <td id=\"T_fdc72_row11_col3\" class=\"data row11 col3\" >3021.3374</td>\n",
       "      <td id=\"T_fdc72_row11_col4\" class=\"data row11 col4\" >0.5899</td>\n",
       "      <td id=\"T_fdc72_row11_col5\" class=\"data row11 col5\" >0.8114</td>\n",
       "      <td id=\"T_fdc72_row11_col6\" class=\"data row11 col6\" >5.7463</td>\n",
       "      <td id=\"T_fdc72_row11_col7\" class=\"data row11 col7\" >0.2900</td>\n",
       "    </tr>\n",
       "    <tr>\n",
       "      <th id=\"T_fdc72_level0_row12\" class=\"row_heading level0 row12\" >omp</th>\n",
       "      <td id=\"T_fdc72_row12_col0\" class=\"data row12 col0\" >Orthogonal Matching Pursuit</td>\n",
       "      <td id=\"T_fdc72_row12_col1\" class=\"data row12 col1\" >2187.0397</td>\n",
       "      <td id=\"T_fdc72_row12_col2\" class=\"data row12 col2\" >9330028.6173</td>\n",
       "      <td id=\"T_fdc72_row12_col3\" class=\"data row12 col3\" >3054.3318</td>\n",
       "      <td id=\"T_fdc72_row12_col4\" class=\"data row12 col4\" >0.5808</td>\n",
       "      <td id=\"T_fdc72_row12_col5\" class=\"data row12 col5\" >0.8462</td>\n",
       "      <td id=\"T_fdc72_row12_col6\" class=\"data row12 col6\" >5.9355</td>\n",
       "      <td id=\"T_fdc72_row12_col7\" class=\"data row12 col7\" >0.2900</td>\n",
       "    </tr>\n",
       "    <tr>\n",
       "      <th id=\"T_fdc72_level0_row13\" class=\"row_heading level0 row13\" >en</th>\n",
       "      <td id=\"T_fdc72_row13_col0\" class=\"data row13 col0\" >Elastic Net</td>\n",
       "      <td id=\"T_fdc72_row13_col1\" class=\"data row13 col1\" >2187.4653</td>\n",
       "      <td id=\"T_fdc72_row13_col2\" class=\"data row13 col2\" >9675293.5624</td>\n",
       "      <td id=\"T_fdc72_row13_col3\" class=\"data row13 col3\" >3110.2732</td>\n",
       "      <td id=\"T_fdc72_row13_col4\" class=\"data row13 col4\" >0.5653</td>\n",
       "      <td id=\"T_fdc72_row13_col5\" class=\"data row13 col5\" >0.8261</td>\n",
       "      <td id=\"T_fdc72_row13_col6\" class=\"data row13 col6\" >5.9786</td>\n",
       "      <td id=\"T_fdc72_row13_col7\" class=\"data row13 col7\" >10.2160</td>\n",
       "    </tr>\n",
       "    <tr>\n",
       "      <th id=\"T_fdc72_level0_row14\" class=\"row_heading level0 row14\" >ada</th>\n",
       "      <td id=\"T_fdc72_row14_col0\" class=\"data row14 col0\" >AdaBoost Regressor</td>\n",
       "      <td id=\"T_fdc72_row14_col1\" class=\"data row14 col1\" >2801.4811</td>\n",
       "      <td id=\"T_fdc72_row14_col2\" class=\"data row14 col2\" >10752769.3546</td>\n",
       "      <td id=\"T_fdc72_row14_col3\" class=\"data row14 col3\" >3277.2454</td>\n",
       "      <td id=\"T_fdc72_row14_col4\" class=\"data row14 col4\" >0.5171</td>\n",
       "      <td id=\"T_fdc72_row14_col5\" class=\"data row14 col5\" >1.0148</td>\n",
       "      <td id=\"T_fdc72_row14_col6\" class=\"data row14 col6\" >9.0708</td>\n",
       "      <td id=\"T_fdc72_row14_col7\" class=\"data row14 col7\" >7.4840</td>\n",
       "    </tr>\n",
       "    <tr>\n",
       "      <th id=\"T_fdc72_level0_row15\" class=\"row_heading level0 row15\" >huber</th>\n",
       "      <td id=\"T_fdc72_row15_col0\" class=\"data row15 col0\" >Huber Regressor</td>\n",
       "      <td id=\"T_fdc72_row15_col1\" class=\"data row15 col1\" >2993.2897</td>\n",
       "      <td id=\"T_fdc72_row15_col2\" class=\"data row15 col2\" >17475667.1973</td>\n",
       "      <td id=\"T_fdc72_row15_col3\" class=\"data row15 col3\" >4180.3209</td>\n",
       "      <td id=\"T_fdc72_row15_col4\" class=\"data row15 col4\" >0.2150</td>\n",
       "      <td id=\"T_fdc72_row15_col5\" class=\"data row15 col5\" >0.9390</td>\n",
       "      <td id=\"T_fdc72_row15_col6\" class=\"data row15 col6\" >6.9430</td>\n",
       "      <td id=\"T_fdc72_row15_col7\" class=\"data row15 col7\" >17.0500</td>\n",
       "    </tr>\n",
       "    <tr>\n",
       "      <th id=\"T_fdc72_level0_row16\" class=\"row_heading level0 row16\" >par</th>\n",
       "      <td id=\"T_fdc72_row16_col0\" class=\"data row16 col0\" >Passive Aggressive Regressor</td>\n",
       "      <td id=\"T_fdc72_row16_col1\" class=\"data row16 col1\" >4805.2623</td>\n",
       "      <td id=\"T_fdc72_row16_col2\" class=\"data row16 col2\" >40927371.6841</td>\n",
       "      <td id=\"T_fdc72_row16_col3\" class=\"data row16 col3\" >6104.6765</td>\n",
       "      <td id=\"T_fdc72_row16_col4\" class=\"data row16 col4\" >-0.8415</td>\n",
       "      <td id=\"T_fdc72_row16_col5\" class=\"data row16 col5\" >1.2906</td>\n",
       "      <td id=\"T_fdc72_row16_col6\" class=\"data row16 col6\" >10.5787</td>\n",
       "      <td id=\"T_fdc72_row16_col7\" class=\"data row16 col7\" >2.7760</td>\n",
       "    </tr>\n",
       "  </tbody>\n",
       "</table>\n"
      ],
      "text/plain": [
       "<pandas.io.formats.style.Styler at 0x7f265569de90>"
      ]
     },
     "metadata": {},
     "output_type": "display_data"
    },
    {
     "name": "stdout",
     "output_type": "stream",
     "text": [
      "CPU times: user 12min 51s, sys: 1min 37s, total: 14min 28s\n",
      "Wall time: 14min 34s\n"
     ]
    }
   ],
   "source": [
    "%%time\n",
    "best = pycr.compare_models(sort='RMSE', fold = 5)"
   ]
  },
  {
   "cell_type": "markdown",
   "metadata": {},
   "source": [
    "manually checking for CatBoost since its not included in the standard installtion of pycaret and the full version doesnt work on the hub for some reason."
   ]
  },
  {
   "cell_type": "code",
   "execution_count": 39,
   "metadata": {},
   "outputs": [],
   "source": [
    "cbr = CatBoostRegressor(random_state=42, verbose=0)"
   ]
  },
  {
   "cell_type": "code",
   "execution_count": 40,
   "metadata": {},
   "outputs": [],
   "source": [
    "cbr.fit(X_train, y_train)\n",
    "cb_mse = round(mean_squared_error(y_test, cbr.predict(X_test)), 2)\n",
    "cb_rmse = np.sqrt(cb_mse)"
   ]
  },
  {
   "cell_type": "code",
   "execution_count": 41,
   "metadata": {},
   "outputs": [
    {
     "name": "stdout",
     "output_type": "stream",
     "text": [
      "CatBoost RMSE on CV is 1667.95\n"
     ]
    }
   ],
   "source": [
    "print(\"CatBoost RMSE on CV is {}\".format(round(cb_rmse, 2)))"
   ]
  },
  {
   "cell_type": "markdown",
   "metadata": {},
   "source": [
    "We choose to advance and try tuning Random Forest regressor and lightGBM"
   ]
  },
  {
   "cell_type": "markdown",
   "metadata": {},
   "source": [
    "### RF:"
   ]
  },
  {
   "cell_type": "code",
   "execution_count": 42,
   "metadata": {
    "scrolled": false
   },
   "outputs": [
    {
     "data": {
      "text/html": [
       "<style type=\"text/css\">\n",
       "#T_93127_row10_col0, #T_93127_row10_col1, #T_93127_row10_col2, #T_93127_row10_col3, #T_93127_row10_col4, #T_93127_row10_col5 {\n",
       "  background: yellow;\n",
       "}\n",
       "</style>\n",
       "<table id=\"T_93127_\">\n",
       "  <thead>\n",
       "    <tr>\n",
       "      <th class=\"blank level0\" >&nbsp;</th>\n",
       "      <th class=\"col_heading level0 col0\" >MAE</th>\n",
       "      <th class=\"col_heading level0 col1\" >MSE</th>\n",
       "      <th class=\"col_heading level0 col2\" >RMSE</th>\n",
       "      <th class=\"col_heading level0 col3\" >R2</th>\n",
       "      <th class=\"col_heading level0 col4\" >RMSLE</th>\n",
       "      <th class=\"col_heading level0 col5\" >MAPE</th>\n",
       "    </tr>\n",
       "  </thead>\n",
       "  <tbody>\n",
       "    <tr>\n",
       "      <th id=\"T_93127_level0_row0\" class=\"row_heading level0 row0\" >0</th>\n",
       "      <td id=\"T_93127_row0_col0\" class=\"data row0 col0\" >1022.9325</td>\n",
       "      <td id=\"T_93127_row0_col1\" class=\"data row0 col1\" >2656168.4740</td>\n",
       "      <td id=\"T_93127_row0_col2\" class=\"data row0 col2\" >1629.7756</td>\n",
       "      <td id=\"T_93127_row0_col3\" class=\"data row0 col3\" >0.8780</td>\n",
       "      <td id=\"T_93127_row0_col4\" class=\"data row0 col4\" >0.4866</td>\n",
       "      <td id=\"T_93127_row0_col5\" class=\"data row0 col5\" >3.9395</td>\n",
       "    </tr>\n",
       "    <tr>\n",
       "      <th id=\"T_93127_level0_row1\" class=\"row_heading level0 row1\" >1</th>\n",
       "      <td id=\"T_93127_row1_col0\" class=\"data row1 col0\" >1032.5822</td>\n",
       "      <td id=\"T_93127_row1_col1\" class=\"data row1 col1\" >2651690.2061</td>\n",
       "      <td id=\"T_93127_row1_col2\" class=\"data row1 col2\" >1628.4011</td>\n",
       "      <td id=\"T_93127_row1_col3\" class=\"data row1 col3\" >0.8818</td>\n",
       "      <td id=\"T_93127_row1_col4\" class=\"data row1 col4\" >0.4796</td>\n",
       "      <td id=\"T_93127_row1_col5\" class=\"data row1 col5\" >2.8128</td>\n",
       "    </tr>\n",
       "    <tr>\n",
       "      <th id=\"T_93127_level0_row2\" class=\"row_heading level0 row2\" >2</th>\n",
       "      <td id=\"T_93127_row2_col0\" class=\"data row2 col0\" >1018.2044</td>\n",
       "      <td id=\"T_93127_row2_col1\" class=\"data row2 col1\" >2600395.7128</td>\n",
       "      <td id=\"T_93127_row2_col2\" class=\"data row2 col2\" >1612.5743</td>\n",
       "      <td id=\"T_93127_row2_col3\" class=\"data row2 col3\" >0.8839</td>\n",
       "      <td id=\"T_93127_row2_col4\" class=\"data row2 col4\" >0.4934</td>\n",
       "      <td id=\"T_93127_row2_col5\" class=\"data row2 col5\" >4.5214</td>\n",
       "    </tr>\n",
       "    <tr>\n",
       "      <th id=\"T_93127_level0_row3\" class=\"row_heading level0 row3\" >3</th>\n",
       "      <td id=\"T_93127_row3_col0\" class=\"data row3 col0\" >1018.0894</td>\n",
       "      <td id=\"T_93127_row3_col1\" class=\"data row3 col1\" >2588091.8278</td>\n",
       "      <td id=\"T_93127_row3_col2\" class=\"data row3 col2\" >1608.7547</td>\n",
       "      <td id=\"T_93127_row3_col3\" class=\"data row3 col3\" >0.8848</td>\n",
       "      <td id=\"T_93127_row3_col4\" class=\"data row3 col4\" >0.4837</td>\n",
       "      <td id=\"T_93127_row3_col5\" class=\"data row3 col5\" >2.4043</td>\n",
       "    </tr>\n",
       "    <tr>\n",
       "      <th id=\"T_93127_level0_row4\" class=\"row_heading level0 row4\" >4</th>\n",
       "      <td id=\"T_93127_row4_col0\" class=\"data row4 col0\" >1006.7674</td>\n",
       "      <td id=\"T_93127_row4_col1\" class=\"data row4 col1\" >2467618.0857</td>\n",
       "      <td id=\"T_93127_row4_col2\" class=\"data row4 col2\" >1570.8654</td>\n",
       "      <td id=\"T_93127_row4_col3\" class=\"data row4 col3\" >0.8882</td>\n",
       "      <td id=\"T_93127_row4_col4\" class=\"data row4 col4\" >0.5038</td>\n",
       "      <td id=\"T_93127_row4_col5\" class=\"data row4 col5\" >4.4676</td>\n",
       "    </tr>\n",
       "    <tr>\n",
       "      <th id=\"T_93127_level0_row5\" class=\"row_heading level0 row5\" >5</th>\n",
       "      <td id=\"T_93127_row5_col0\" class=\"data row5 col0\" >1028.6350</td>\n",
       "      <td id=\"T_93127_row5_col1\" class=\"data row5 col1\" >2688805.9893</td>\n",
       "      <td id=\"T_93127_row5_col2\" class=\"data row5 col2\" >1639.7579</td>\n",
       "      <td id=\"T_93127_row5_col3\" class=\"data row5 col3\" >0.8793</td>\n",
       "      <td id=\"T_93127_row5_col4\" class=\"data row5 col4\" >0.4771</td>\n",
       "      <td id=\"T_93127_row5_col5\" class=\"data row5 col5\" >5.0383</td>\n",
       "    </tr>\n",
       "    <tr>\n",
       "      <th id=\"T_93127_level0_row6\" class=\"row_heading level0 row6\" >6</th>\n",
       "      <td id=\"T_93127_row6_col0\" class=\"data row6 col0\" >1051.7786</td>\n",
       "      <td id=\"T_93127_row6_col1\" class=\"data row6 col1\" >2817895.0947</td>\n",
       "      <td id=\"T_93127_row6_col2\" class=\"data row6 col2\" >1678.6587</td>\n",
       "      <td id=\"T_93127_row6_col3\" class=\"data row6 col3\" >0.8753</td>\n",
       "      <td id=\"T_93127_row6_col4\" class=\"data row6 col4\" >0.5007</td>\n",
       "      <td id=\"T_93127_row6_col5\" class=\"data row6 col5\" >6.9788</td>\n",
       "    </tr>\n",
       "    <tr>\n",
       "      <th id=\"T_93127_level0_row7\" class=\"row_heading level0 row7\" >7</th>\n",
       "      <td id=\"T_93127_row7_col0\" class=\"data row7 col0\" >1034.1577</td>\n",
       "      <td id=\"T_93127_row7_col1\" class=\"data row7 col1\" >2775551.4833</td>\n",
       "      <td id=\"T_93127_row7_col2\" class=\"data row7 col2\" >1665.9986</td>\n",
       "      <td id=\"T_93127_row7_col3\" class=\"data row7 col3\" >0.8728</td>\n",
       "      <td id=\"T_93127_row7_col4\" class=\"data row7 col4\" >0.4523</td>\n",
       "      <td id=\"T_93127_row7_col5\" class=\"data row7 col5\" >1.7907</td>\n",
       "    </tr>\n",
       "    <tr>\n",
       "      <th id=\"T_93127_level0_row8\" class=\"row_heading level0 row8\" >8</th>\n",
       "      <td id=\"T_93127_row8_col0\" class=\"data row8 col0\" >1039.3931</td>\n",
       "      <td id=\"T_93127_row8_col1\" class=\"data row8 col1\" >2742389.9694</td>\n",
       "      <td id=\"T_93127_row8_col2\" class=\"data row8 col2\" >1656.0163</td>\n",
       "      <td id=\"T_93127_row8_col3\" class=\"data row8 col3\" >0.8786</td>\n",
       "      <td id=\"T_93127_row8_col4\" class=\"data row8 col4\" >0.4989</td>\n",
       "      <td id=\"T_93127_row8_col5\" class=\"data row8 col5\" >3.7790</td>\n",
       "    </tr>\n",
       "    <tr>\n",
       "      <th id=\"T_93127_level0_row9\" class=\"row_heading level0 row9\" >9</th>\n",
       "      <td id=\"T_93127_row9_col0\" class=\"data row9 col0\" >1034.8099</td>\n",
       "      <td id=\"T_93127_row9_col1\" class=\"data row9 col1\" >2648701.7071</td>\n",
       "      <td id=\"T_93127_row9_col2\" class=\"data row9 col2\" >1627.4832</td>\n",
       "      <td id=\"T_93127_row9_col3\" class=\"data row9 col3\" >0.8805</td>\n",
       "      <td id=\"T_93127_row9_col4\" class=\"data row9 col4\" >0.4719</td>\n",
       "      <td id=\"T_93127_row9_col5\" class=\"data row9 col5\" >3.2296</td>\n",
       "    </tr>\n",
       "    <tr>\n",
       "      <th id=\"T_93127_level0_row10\" class=\"row_heading level0 row10\" >Mean</th>\n",
       "      <td id=\"T_93127_row10_col0\" class=\"data row10 col0\" >1028.7350</td>\n",
       "      <td id=\"T_93127_row10_col1\" class=\"data row10 col1\" >2663730.8550</td>\n",
       "      <td id=\"T_93127_row10_col2\" class=\"data row10 col2\" >1631.8286</td>\n",
       "      <td id=\"T_93127_row10_col3\" class=\"data row10 col3\" >0.8803</td>\n",
       "      <td id=\"T_93127_row10_col4\" class=\"data row10 col4\" >0.4848</td>\n",
       "      <td id=\"T_93127_row10_col5\" class=\"data row10 col5\" >3.8962</td>\n",
       "    </tr>\n",
       "    <tr>\n",
       "      <th id=\"T_93127_level0_row11\" class=\"row_heading level0 row11\" >SD</th>\n",
       "      <td id=\"T_93127_row11_col0\" class=\"data row11 col0\" >12.1087</td>\n",
       "      <td id=\"T_93127_row11_col1\" class=\"data row11 col1\" >95763.9533</td>\n",
       "      <td id=\"T_93127_row11_col2\" class=\"data row11 col2\" >29.4331</td>\n",
       "      <td id=\"T_93127_row11_col3\" class=\"data row11 col3\" >0.0043</td>\n",
       "      <td id=\"T_93127_row11_col4\" class=\"data row11 col4\" >0.0149</td>\n",
       "      <td id=\"T_93127_row11_col5\" class=\"data row11 col5\" >1.4077</td>\n",
       "    </tr>\n",
       "  </tbody>\n",
       "</table>\n"
      ],
      "text/plain": [
       "<pandas.io.formats.style.Styler at 0x7f26552690d0>"
      ]
     },
     "metadata": {},
     "output_type": "display_data"
    },
    {
     "name": "stdout",
     "output_type": "stream",
     "text": [
      "CPU times: user 9min 22s, sys: 4.02 s, total: 9min 26s\n",
      "Wall time: 9min 31s\n"
     ]
    }
   ],
   "source": [
    "%%time\n",
    "rf = create_model('rf')"
   ]
  },
  {
   "cell_type": "markdown",
   "metadata": {},
   "source": [
    "Evaluate this model on the hold_out sample"
   ]
  },
  {
   "cell_type": "code",
   "execution_count": 43,
   "metadata": {},
   "outputs": [
    {
     "data": {
      "text/html": [
       "<style type=\"text/css\">\n",
       "</style>\n",
       "<table id=\"T_0a6ac_\">\n",
       "  <thead>\n",
       "    <tr>\n",
       "      <th class=\"blank level0\" >&nbsp;</th>\n",
       "      <th class=\"col_heading level0 col0\" >Model</th>\n",
       "      <th class=\"col_heading level0 col1\" >MAE</th>\n",
       "      <th class=\"col_heading level0 col2\" >MSE</th>\n",
       "      <th class=\"col_heading level0 col3\" >RMSE</th>\n",
       "      <th class=\"col_heading level0 col4\" >R2</th>\n",
       "      <th class=\"col_heading level0 col5\" >RMSLE</th>\n",
       "      <th class=\"col_heading level0 col6\" >MAPE</th>\n",
       "    </tr>\n",
       "  </thead>\n",
       "  <tbody>\n",
       "    <tr>\n",
       "      <th id=\"T_0a6ac_level0_row0\" class=\"row_heading level0 row0\" >0</th>\n",
       "      <td id=\"T_0a6ac_row0_col0\" class=\"data row0 col0\" >Random Forest Regressor</td>\n",
       "      <td id=\"T_0a6ac_row0_col1\" class=\"data row0 col1\" >1016.1226</td>\n",
       "      <td id=\"T_0a6ac_row0_col2\" class=\"data row0 col2\" >2664379.7447</td>\n",
       "      <td id=\"T_0a6ac_row0_col3\" class=\"data row0 col3\" >1632.2928</td>\n",
       "      <td id=\"T_0a6ac_row0_col4\" class=\"data row0 col4\" >0.8801</td>\n",
       "      <td id=\"T_0a6ac_row0_col5\" class=\"data row0 col5\" >0.4705</td>\n",
       "      <td id=\"T_0a6ac_row0_col6\" class=\"data row0 col6\" >3.5128</td>\n",
       "    </tr>\n",
       "  </tbody>\n",
       "</table>\n"
      ],
      "text/plain": [
       "<pandas.io.formats.style.Styler at 0x7f2654ea86d0>"
      ]
     },
     "metadata": {},
     "output_type": "display_data"
    }
   ],
   "source": [
    "predict_result = pycr.predict_model(rf)"
   ]
  },
  {
   "cell_type": "markdown",
   "metadata": {},
   "source": [
    "### LGBM:"
   ]
  },
  {
   "cell_type": "code",
   "execution_count": 44,
   "metadata": {},
   "outputs": [
    {
     "data": {
      "text/html": [
       "<style type=\"text/css\">\n",
       "#T_ba641_row10_col0, #T_ba641_row10_col1, #T_ba641_row10_col2, #T_ba641_row10_col3, #T_ba641_row10_col4, #T_ba641_row10_col5 {\n",
       "  background: yellow;\n",
       "}\n",
       "</style>\n",
       "<table id=\"T_ba641_\">\n",
       "  <thead>\n",
       "    <tr>\n",
       "      <th class=\"blank level0\" >&nbsp;</th>\n",
       "      <th class=\"col_heading level0 col0\" >MAE</th>\n",
       "      <th class=\"col_heading level0 col1\" >MSE</th>\n",
       "      <th class=\"col_heading level0 col2\" >RMSE</th>\n",
       "      <th class=\"col_heading level0 col3\" >R2</th>\n",
       "      <th class=\"col_heading level0 col4\" >RMSLE</th>\n",
       "      <th class=\"col_heading level0 col5\" >MAPE</th>\n",
       "    </tr>\n",
       "  </thead>\n",
       "  <tbody>\n",
       "    <tr>\n",
       "      <th id=\"T_ba641_level0_row0\" class=\"row_heading level0 row0\" >0</th>\n",
       "      <td id=\"T_ba641_row0_col0\" class=\"data row0 col0\" >1113.3687</td>\n",
       "      <td id=\"T_ba641_row0_col1\" class=\"data row0 col1\" >2894208.1321</td>\n",
       "      <td id=\"T_ba641_row0_col2\" class=\"data row0 col2\" >1701.2372</td>\n",
       "      <td id=\"T_ba641_row0_col3\" class=\"data row0 col3\" >0.8671</td>\n",
       "      <td id=\"T_ba641_row0_col4\" class=\"data row0 col4\" >0.5057</td>\n",
       "      <td id=\"T_ba641_row0_col5\" class=\"data row0 col5\" >4.1418</td>\n",
       "    </tr>\n",
       "    <tr>\n",
       "      <th id=\"T_ba641_level0_row1\" class=\"row_heading level0 row1\" >1</th>\n",
       "      <td id=\"T_ba641_row1_col0\" class=\"data row1 col0\" >1125.6692</td>\n",
       "      <td id=\"T_ba641_row1_col1\" class=\"data row1 col1\" >2926519.4658</td>\n",
       "      <td id=\"T_ba641_row1_col2\" class=\"data row1 col2\" >1710.7073</td>\n",
       "      <td id=\"T_ba641_row1_col3\" class=\"data row1 col3\" >0.8696</td>\n",
       "      <td id=\"T_ba641_row1_col4\" class=\"data row1 col4\" >0.4993</td>\n",
       "      <td id=\"T_ba641_row1_col5\" class=\"data row1 col5\" >3.0479</td>\n",
       "    </tr>\n",
       "    <tr>\n",
       "      <th id=\"T_ba641_level0_row2\" class=\"row_heading level0 row2\" >2</th>\n",
       "      <td id=\"T_ba641_row2_col0\" class=\"data row2 col0\" >1112.5414</td>\n",
       "      <td id=\"T_ba641_row2_col1\" class=\"data row2 col1\" >2946978.8958</td>\n",
       "      <td id=\"T_ba641_row2_col2\" class=\"data row2 col2\" >1716.6767</td>\n",
       "      <td id=\"T_ba641_row2_col3\" class=\"data row2 col3\" >0.8685</td>\n",
       "      <td id=\"T_ba641_row2_col4\" class=\"data row2 col4\" >0.5108</td>\n",
       "      <td id=\"T_ba641_row2_col5\" class=\"data row2 col5\" >4.6024</td>\n",
       "    </tr>\n",
       "    <tr>\n",
       "      <th id=\"T_ba641_level0_row3\" class=\"row_heading level0 row3\" >3</th>\n",
       "      <td id=\"T_ba641_row3_col0\" class=\"data row3 col0\" >1111.2337</td>\n",
       "      <td id=\"T_ba641_row3_col1\" class=\"data row3 col1\" >2865486.0318</td>\n",
       "      <td id=\"T_ba641_row3_col2\" class=\"data row3 col2\" >1692.7747</td>\n",
       "      <td id=\"T_ba641_row3_col3\" class=\"data row3 col3\" >0.8724</td>\n",
       "      <td id=\"T_ba641_row3_col4\" class=\"data row3 col4\" >0.5029</td>\n",
       "      <td id=\"T_ba641_row3_col5\" class=\"data row3 col5\" >2.6990</td>\n",
       "    </tr>\n",
       "    <tr>\n",
       "      <th id=\"T_ba641_level0_row4\" class=\"row_heading level0 row4\" >4</th>\n",
       "      <td id=\"T_ba641_row4_col0\" class=\"data row4 col0\" >1083.2382</td>\n",
       "      <td id=\"T_ba641_row4_col1\" class=\"data row4 col1\" >2631893.8236</td>\n",
       "      <td id=\"T_ba641_row4_col2\" class=\"data row4 col2\" >1622.3113</td>\n",
       "      <td id=\"T_ba641_row4_col3\" class=\"data row4 col3\" >0.8807</td>\n",
       "      <td id=\"T_ba641_row4_col4\" class=\"data row4 col4\" >0.5180</td>\n",
       "      <td id=\"T_ba641_row4_col5\" class=\"data row4 col5\" >4.7977</td>\n",
       "    </tr>\n",
       "    <tr>\n",
       "      <th id=\"T_ba641_level0_row5\" class=\"row_heading level0 row5\" >5</th>\n",
       "      <td id=\"T_ba641_row5_col0\" class=\"data row5 col0\" >1117.8670</td>\n",
       "      <td id=\"T_ba641_row5_col1\" class=\"data row5 col1\" >2909502.0790</td>\n",
       "      <td id=\"T_ba641_row5_col2\" class=\"data row5 col2\" >1705.7263</td>\n",
       "      <td id=\"T_ba641_row5_col3\" class=\"data row5 col3\" >0.8693</td>\n",
       "      <td id=\"T_ba641_row5_col4\" class=\"data row5 col4\" >0.4984</td>\n",
       "      <td id=\"T_ba641_row5_col5\" class=\"data row5 col5\" >4.7024</td>\n",
       "    </tr>\n",
       "    <tr>\n",
       "      <th id=\"T_ba641_level0_row6\" class=\"row_heading level0 row6\" >6</th>\n",
       "      <td id=\"T_ba641_row6_col0\" class=\"data row6 col0\" >1138.0810</td>\n",
       "      <td id=\"T_ba641_row6_col1\" class=\"data row6 col1\" >3029515.6657</td>\n",
       "      <td id=\"T_ba641_row6_col2\" class=\"data row6 col2\" >1740.5504</td>\n",
       "      <td id=\"T_ba641_row6_col3\" class=\"data row6 col3\" >0.8659</td>\n",
       "      <td id=\"T_ba641_row6_col4\" class=\"data row6 col4\" >0.5195</td>\n",
       "      <td id=\"T_ba641_row6_col5\" class=\"data row6 col5\" >6.8804</td>\n",
       "    </tr>\n",
       "    <tr>\n",
       "      <th id=\"T_ba641_level0_row7\" class=\"row_heading level0 row7\" >7</th>\n",
       "      <td id=\"T_ba641_row7_col0\" class=\"data row7 col0\" >1118.0752</td>\n",
       "      <td id=\"T_ba641_row7_col1\" class=\"data row7 col1\" >2956014.0704</td>\n",
       "      <td id=\"T_ba641_row7_col2\" class=\"data row7 col2\" >1719.3063</td>\n",
       "      <td id=\"T_ba641_row7_col3\" class=\"data row7 col3\" >0.8645</td>\n",
       "      <td id=\"T_ba641_row7_col4\" class=\"data row7 col4\" >0.4726</td>\n",
       "      <td id=\"T_ba641_row7_col5\" class=\"data row7 col5\" >1.9033</td>\n",
       "    </tr>\n",
       "    <tr>\n",
       "      <th id=\"T_ba641_level0_row8\" class=\"row_heading level0 row8\" >8</th>\n",
       "      <td id=\"T_ba641_row8_col0\" class=\"data row8 col0\" >1119.0920</td>\n",
       "      <td id=\"T_ba641_row8_col1\" class=\"data row8 col1\" >2924740.9984</td>\n",
       "      <td id=\"T_ba641_row8_col2\" class=\"data row8 col2\" >1710.1874</td>\n",
       "      <td id=\"T_ba641_row8_col3\" class=\"data row8 col3\" >0.8706</td>\n",
       "      <td id=\"T_ba641_row8_col4\" class=\"data row8 col4\" >0.5141</td>\n",
       "      <td id=\"T_ba641_row8_col5\" class=\"data row8 col5\" >4.5181</td>\n",
       "    </tr>\n",
       "    <tr>\n",
       "      <th id=\"T_ba641_level0_row9\" class=\"row_heading level0 row9\" >9</th>\n",
       "      <td id=\"T_ba641_row9_col0\" class=\"data row9 col0\" >1128.7459</td>\n",
       "      <td id=\"T_ba641_row9_col1\" class=\"data row9 col1\" >2922577.7264</td>\n",
       "      <td id=\"T_ba641_row9_col2\" class=\"data row9 col2\" >1709.5548</td>\n",
       "      <td id=\"T_ba641_row9_col3\" class=\"data row9 col3\" >0.8682</td>\n",
       "      <td id=\"T_ba641_row9_col4\" class=\"data row9 col4\" >0.4914</td>\n",
       "      <td id=\"T_ba641_row9_col5\" class=\"data row9 col5\" >3.2620</td>\n",
       "    </tr>\n",
       "    <tr>\n",
       "      <th id=\"T_ba641_level0_row10\" class=\"row_heading level0 row10\" >Mean</th>\n",
       "      <td id=\"T_ba641_row10_col0\" class=\"data row10 col0\" >1116.7912</td>\n",
       "      <td id=\"T_ba641_row10_col1\" class=\"data row10 col1\" >2900743.6889</td>\n",
       "      <td id=\"T_ba641_row10_col2\" class=\"data row10 col2\" >1702.9032</td>\n",
       "      <td id=\"T_ba641_row10_col3\" class=\"data row10 col3\" >0.8697</td>\n",
       "      <td id=\"T_ba641_row10_col4\" class=\"data row10 col4\" >0.5033</td>\n",
       "      <td id=\"T_ba641_row10_col5\" class=\"data row10 col5\" >4.0555</td>\n",
       "    </tr>\n",
       "    <tr>\n",
       "      <th id=\"T_ba641_level0_row11\" class=\"row_heading level0 row11\" >SD</th>\n",
       "      <td id=\"T_ba641_row11_col0\" class=\"data row11 col0\" >13.6732</td>\n",
       "      <td id=\"T_ba641_row11_col1\" class=\"data row11 col1\" >98556.8331</td>\n",
       "      <td id=\"T_ba641_row11_col2\" class=\"data row11 col2\" >29.3984</td>\n",
       "      <td id=\"T_ba641_row11_col3\" class=\"data row11 col3\" >0.0043</td>\n",
       "      <td id=\"T_ba641_row11_col4\" class=\"data row11 col4\" >0.0133</td>\n",
       "      <td id=\"T_ba641_row11_col5\" class=\"data row11 col5\" >1.3262</td>\n",
       "    </tr>\n",
       "  </tbody>\n",
       "</table>\n"
      ],
      "text/plain": [
       "<pandas.io.formats.style.Styler at 0x7f2655269550>"
      ]
     },
     "metadata": {},
     "output_type": "display_data"
    },
    {
     "name": "stdout",
     "output_type": "stream",
     "text": [
      "CPU times: user 49.4 s, sys: 364 ms, total: 49.8 s\n",
      "Wall time: 50.7 s\n"
     ]
    }
   ],
   "source": [
    "%%time\n",
    "lightgbm = create_model('lightgbm')"
   ]
  },
  {
   "cell_type": "markdown",
   "metadata": {},
   "source": [
    "Evaluate this model on the hold_out sample"
   ]
  },
  {
   "cell_type": "code",
   "execution_count": 45,
   "metadata": {},
   "outputs": [
    {
     "data": {
      "text/html": [
       "<style type=\"text/css\">\n",
       "</style>\n",
       "<table id=\"T_b1e97_\">\n",
       "  <thead>\n",
       "    <tr>\n",
       "      <th class=\"blank level0\" >&nbsp;</th>\n",
       "      <th class=\"col_heading level0 col0\" >Model</th>\n",
       "      <th class=\"col_heading level0 col1\" >MAE</th>\n",
       "      <th class=\"col_heading level0 col2\" >MSE</th>\n",
       "      <th class=\"col_heading level0 col3\" >RMSE</th>\n",
       "      <th class=\"col_heading level0 col4\" >R2</th>\n",
       "      <th class=\"col_heading level0 col5\" >RMSLE</th>\n",
       "      <th class=\"col_heading level0 col6\" >MAPE</th>\n",
       "    </tr>\n",
       "  </thead>\n",
       "  <tbody>\n",
       "    <tr>\n",
       "      <th id=\"T_b1e97_level0_row0\" class=\"row_heading level0 row0\" >0</th>\n",
       "      <td id=\"T_b1e97_row0_col0\" class=\"data row0 col0\" >Light Gradient Boosting Machine</td>\n",
       "      <td id=\"T_b1e97_row0_col1\" class=\"data row0 col1\" >1118.6640</td>\n",
       "      <td id=\"T_b1e97_row0_col2\" class=\"data row0 col2\" >2951942.3432</td>\n",
       "      <td id=\"T_b1e97_row0_col3\" class=\"data row0 col3\" >1718.1217</td>\n",
       "      <td id=\"T_b1e97_row0_col4\" class=\"data row0 col4\" >0.8671</td>\n",
       "      <td id=\"T_b1e97_row0_col5\" class=\"data row0 col5\" >0.4927</td>\n",
       "      <td id=\"T_b1e97_row0_col6\" class=\"data row0 col6\" >3.7590</td>\n",
       "    </tr>\n",
       "  </tbody>\n",
       "</table>\n"
      ],
      "text/plain": [
       "<pandas.io.formats.style.Styler at 0x7f2654ea8190>"
      ]
     },
     "metadata": {},
     "output_type": "display_data"
    }
   ],
   "source": [
    "predict_result = pycr.predict_model(lightgbm)"
   ]
  },
  {
   "cell_type": "markdown",
   "metadata": {},
   "source": [
    "### tuning:"
   ]
  },
  {
   "cell_type": "markdown",
   "metadata": {},
   "source": [
    "#### RF Tune:"
   ]
  },
  {
   "cell_type": "code",
   "execution_count": 46,
   "metadata": {},
   "outputs": [],
   "source": [
    "grid_rf = {'n_estimators': [3, 5, 10, 50, 100],\n",
    "                     'min_samples_split': [5, 8, 10, 12],\n",
    "                     'max_depth' : [2, 4, 6, 8, 10]\n",
    "                    }"
   ]
  },
  {
   "cell_type": "code",
   "execution_count": 47,
   "metadata": {},
   "outputs": [
    {
     "data": {
      "text/html": [
       "<style type=\"text/css\">\n",
       "#T_d67c4_row5_col0, #T_d67c4_row5_col1, #T_d67c4_row5_col2, #T_d67c4_row5_col3, #T_d67c4_row5_col4, #T_d67c4_row5_col5 {\n",
       "  background: yellow;\n",
       "}\n",
       "</style>\n",
       "<table id=\"T_d67c4_\">\n",
       "  <thead>\n",
       "    <tr>\n",
       "      <th class=\"blank level0\" >&nbsp;</th>\n",
       "      <th class=\"col_heading level0 col0\" >MAE</th>\n",
       "      <th class=\"col_heading level0 col1\" >MSE</th>\n",
       "      <th class=\"col_heading level0 col2\" >RMSE</th>\n",
       "      <th class=\"col_heading level0 col3\" >R2</th>\n",
       "      <th class=\"col_heading level0 col4\" >RMSLE</th>\n",
       "      <th class=\"col_heading level0 col5\" >MAPE</th>\n",
       "    </tr>\n",
       "  </thead>\n",
       "  <tbody>\n",
       "    <tr>\n",
       "      <th id=\"T_d67c4_level0_row0\" class=\"row_heading level0 row0\" >0</th>\n",
       "      <td id=\"T_d67c4_row0_col0\" class=\"data row0 col0\" >1242.5250</td>\n",
       "      <td id=\"T_d67c4_row0_col1\" class=\"data row0 col1\" >3486640.8190</td>\n",
       "      <td id=\"T_d67c4_row0_col2\" class=\"data row0 col2\" >1867.2549</td>\n",
       "      <td id=\"T_d67c4_row0_col3\" class=\"data row0 col3\" >0.8423</td>\n",
       "      <td id=\"T_d67c4_row0_col4\" class=\"data row0 col4\" >0.5493</td>\n",
       "      <td id=\"T_d67c4_row0_col5\" class=\"data row0 col5\" >3.7659</td>\n",
       "    </tr>\n",
       "    <tr>\n",
       "      <th id=\"T_d67c4_level0_row1\" class=\"row_heading level0 row1\" >1</th>\n",
       "      <td id=\"T_d67c4_row1_col0\" class=\"data row1 col0\" >1250.2579</td>\n",
       "      <td id=\"T_d67c4_row1_col1\" class=\"data row1 col1\" >3523474.3339</td>\n",
       "      <td id=\"T_d67c4_row1_col2\" class=\"data row1 col2\" >1877.0920</td>\n",
       "      <td id=\"T_d67c4_row1_col3\" class=\"data row1 col3\" >0.8429</td>\n",
       "      <td id=\"T_d67c4_row1_col4\" class=\"data row1 col4\" >0.5590</td>\n",
       "      <td id=\"T_d67c4_row1_col5\" class=\"data row1 col5\" >3.7719</td>\n",
       "    </tr>\n",
       "    <tr>\n",
       "      <th id=\"T_d67c4_level0_row2\" class=\"row_heading level0 row2\" >2</th>\n",
       "      <td id=\"T_d67c4_row2_col0\" class=\"data row2 col0\" >1233.4050</td>\n",
       "      <td id=\"T_d67c4_row2_col1\" class=\"data row2 col1\" >3398754.6145</td>\n",
       "      <td id=\"T_d67c4_row2_col2\" class=\"data row2 col2\" >1843.5712</td>\n",
       "      <td id=\"T_d67c4_row2_col3\" class=\"data row2 col3\" >0.8467</td>\n",
       "      <td id=\"T_d67c4_row2_col4\" class=\"data row2 col4\" >0.5564</td>\n",
       "      <td id=\"T_d67c4_row2_col5\" class=\"data row2 col5\" >5.0564</td>\n",
       "    </tr>\n",
       "    <tr>\n",
       "      <th id=\"T_d67c4_level0_row3\" class=\"row_heading level0 row3\" >3</th>\n",
       "      <td id=\"T_d67c4_row3_col0\" class=\"data row3 col0\" >1255.1729</td>\n",
       "      <td id=\"T_d67c4_row3_col1\" class=\"data row3 col1\" >3636657.3146</td>\n",
       "      <td id=\"T_d67c4_row3_col2\" class=\"data row3 col2\" >1907.0022</td>\n",
       "      <td id=\"T_d67c4_row3_col3\" class=\"data row3 col3\" >0.8363</td>\n",
       "      <td id=\"T_d67c4_row3_col4\" class=\"data row3 col4\" >0.5458</td>\n",
       "      <td id=\"T_d67c4_row3_col5\" class=\"data row3 col5\" >4.5907</td>\n",
       "    </tr>\n",
       "    <tr>\n",
       "      <th id=\"T_d67c4_level0_row4\" class=\"row_heading level0 row4\" >4</th>\n",
       "      <td id=\"T_d67c4_row4_col0\" class=\"data row4 col0\" >1258.0420</td>\n",
       "      <td id=\"T_d67c4_row4_col1\" class=\"data row4 col1\" >3644290.0241</td>\n",
       "      <td id=\"T_d67c4_row4_col2\" class=\"data row4 col2\" >1909.0024</td>\n",
       "      <td id=\"T_d67c4_row4_col3\" class=\"data row4 col3\" >0.8372</td>\n",
       "      <td id=\"T_d67c4_row4_col4\" class=\"data row4 col4\" >0.5520</td>\n",
       "      <td id=\"T_d67c4_row4_col5\" class=\"data row4 col5\" >4.2797</td>\n",
       "    </tr>\n",
       "    <tr>\n",
       "      <th id=\"T_d67c4_level0_row5\" class=\"row_heading level0 row5\" >Mean</th>\n",
       "      <td id=\"T_d67c4_row5_col0\" class=\"data row5 col0\" >1247.8805</td>\n",
       "      <td id=\"T_d67c4_row5_col1\" class=\"data row5 col1\" >3537963.4212</td>\n",
       "      <td id=\"T_d67c4_row5_col2\" class=\"data row5 col2\" >1880.7845</td>\n",
       "      <td id=\"T_d67c4_row5_col3\" class=\"data row5 col3\" >0.8411</td>\n",
       "      <td id=\"T_d67c4_row5_col4\" class=\"data row5 col4\" >0.5525</td>\n",
       "      <td id=\"T_d67c4_row5_col5\" class=\"data row5 col5\" >4.2929</td>\n",
       "    </tr>\n",
       "    <tr>\n",
       "      <th id=\"T_d67c4_level0_row6\" class=\"row_heading level0 row6\" >SD</th>\n",
       "      <td id=\"T_d67c4_row6_col0\" class=\"data row6 col0\" >8.9477</td>\n",
       "      <td id=\"T_d67c4_row6_col1\" class=\"data row6 col1\" >93025.6589</td>\n",
       "      <td id=\"T_d67c4_row6_col2\" class=\"data row6 col2\" >24.7594</td>\n",
       "      <td id=\"T_d67c4_row6_col3\" class=\"data row6 col3\" >0.0039</td>\n",
       "      <td id=\"T_d67c4_row6_col4\" class=\"data row6 col4\" >0.0047</td>\n",
       "      <td id=\"T_d67c4_row6_col5\" class=\"data row6 col5\" >0.4942</td>\n",
       "    </tr>\n",
       "  </tbody>\n",
       "</table>\n"
      ],
      "text/plain": [
       "<pandas.io.formats.style.Styler at 0x7f264d109110>"
      ]
     },
     "metadata": {},
     "output_type": "display_data"
    },
    {
     "name": "stdout",
     "output_type": "stream",
     "text": [
      "CPU times: user 3min 18s, sys: 0 ns, total: 3min 18s\n",
      "Wall time: 3min 20s\n"
     ]
    }
   ],
   "source": [
    "%%time\n",
    "tuned_rf = pycr.tune_model(rf, fold = 5, custom_grid = grid_rf, optimize='RMSE')"
   ]
  },
  {
   "cell_type": "markdown",
   "metadata": {},
   "source": [
    "We see our tuned rf performed worse than using default settings, we will test both on the test set later on."
   ]
  },
  {
   "cell_type": "markdown",
   "metadata": {},
   "source": [
    "predicting the hold-out sample using the tuned RF:"
   ]
  },
  {
   "cell_type": "code",
   "execution_count": 48,
   "metadata": {},
   "outputs": [
    {
     "data": {
      "text/html": [
       "<style type=\"text/css\">\n",
       "</style>\n",
       "<table id=\"T_b16e4_\">\n",
       "  <thead>\n",
       "    <tr>\n",
       "      <th class=\"blank level0\" >&nbsp;</th>\n",
       "      <th class=\"col_heading level0 col0\" >Model</th>\n",
       "      <th class=\"col_heading level0 col1\" >MAE</th>\n",
       "      <th class=\"col_heading level0 col2\" >MSE</th>\n",
       "      <th class=\"col_heading level0 col3\" >RMSE</th>\n",
       "      <th class=\"col_heading level0 col4\" >R2</th>\n",
       "      <th class=\"col_heading level0 col5\" >RMSLE</th>\n",
       "      <th class=\"col_heading level0 col6\" >MAPE</th>\n",
       "    </tr>\n",
       "  </thead>\n",
       "  <tbody>\n",
       "    <tr>\n",
       "      <th id=\"T_b16e4_level0_row0\" class=\"row_heading level0 row0\" >0</th>\n",
       "      <td id=\"T_b16e4_row0_col0\" class=\"data row0 col0\" >Random Forest Regressor</td>\n",
       "      <td id=\"T_b16e4_row0_col1\" class=\"data row0 col1\" >1243.4433</td>\n",
       "      <td id=\"T_b16e4_row0_col2\" class=\"data row0 col2\" >3547581.6123</td>\n",
       "      <td id=\"T_b16e4_row0_col3\" class=\"data row0 col3\" >1883.5025</td>\n",
       "      <td id=\"T_b16e4_row0_col4\" class=\"data row0 col4\" >0.8403</td>\n",
       "      <td id=\"T_b16e4_row0_col5\" class=\"data row0 col5\" >0.5412</td>\n",
       "      <td id=\"T_b16e4_row0_col6\" class=\"data row0 col6\" >3.9161</td>\n",
       "    </tr>\n",
       "  </tbody>\n",
       "</table>\n"
      ],
      "text/plain": [
       "<pandas.io.formats.style.Styler at 0x7f2655ae6ed0>"
      ]
     },
     "metadata": {},
     "output_type": "display_data"
    }
   ],
   "source": [
    "predict_model(tuned_rf);"
   ]
  },
  {
   "cell_type": "markdown",
   "metadata": {},
   "source": [
    "#### LGBM Tune:"
   ]
  },
  {
   "cell_type": "code",
   "execution_count": 49,
   "metadata": {},
   "outputs": [],
   "source": [
    "lgbm_params = {'num_leaves': np.arange(10,200,10),\n",
    "                        'max_depth': [int(x) for x in np.linspace(10, 110, num = 11)],\n",
    "                        'learning_rate': np.arange(0.1,1,0.1)\n",
    "                        }"
   ]
  },
  {
   "cell_type": "code",
   "execution_count": 50,
   "metadata": {},
   "outputs": [
    {
     "data": {
      "text/html": [
       "<style type=\"text/css\">\n",
       "#T_d709b_row5_col0, #T_d709b_row5_col1, #T_d709b_row5_col2, #T_d709b_row5_col3, #T_d709b_row5_col4, #T_d709b_row5_col5 {\n",
       "  background: yellow;\n",
       "}\n",
       "</style>\n",
       "<table id=\"T_d709b_\">\n",
       "  <thead>\n",
       "    <tr>\n",
       "      <th class=\"blank level0\" >&nbsp;</th>\n",
       "      <th class=\"col_heading level0 col0\" >MAE</th>\n",
       "      <th class=\"col_heading level0 col1\" >MSE</th>\n",
       "      <th class=\"col_heading level0 col2\" >RMSE</th>\n",
       "      <th class=\"col_heading level0 col3\" >R2</th>\n",
       "      <th class=\"col_heading level0 col4\" >RMSLE</th>\n",
       "      <th class=\"col_heading level0 col5\" >MAPE</th>\n",
       "    </tr>\n",
       "  </thead>\n",
       "  <tbody>\n",
       "    <tr>\n",
       "      <th id=\"T_d709b_level0_row0\" class=\"row_heading level0 row0\" >0</th>\n",
       "      <td id=\"T_d709b_row0_col0\" class=\"data row0 col0\" >1029.7960</td>\n",
       "      <td id=\"T_d709b_row0_col1\" class=\"data row0 col1\" >2631158.5787</td>\n",
       "      <td id=\"T_d709b_row0_col2\" class=\"data row0 col2\" >1622.0846</td>\n",
       "      <td id=\"T_d709b_row0_col3\" class=\"data row0 col3\" >0.8810</td>\n",
       "      <td id=\"T_d709b_row0_col4\" class=\"data row0 col4\" >0.4951</td>\n",
       "      <td id=\"T_d709b_row0_col5\" class=\"data row0 col5\" >3.5387</td>\n",
       "    </tr>\n",
       "    <tr>\n",
       "      <th id=\"T_d709b_level0_row1\" class=\"row_heading level0 row1\" >1</th>\n",
       "      <td id=\"T_d709b_row1_col0\" class=\"data row1 col0\" >1020.8102</td>\n",
       "      <td id=\"T_d709b_row1_col1\" class=\"data row1 col1\" >2598721.4409</td>\n",
       "      <td id=\"T_d709b_row1_col2\" class=\"data row1 col2\" >1612.0550</td>\n",
       "      <td id=\"T_d709b_row1_col3\" class=\"data row1 col3\" >0.8842</td>\n",
       "      <td id=\"T_d709b_row1_col4\" class=\"data row1 col4\" >0.5039</td>\n",
       "      <td id=\"T_d709b_row1_col5\" class=\"data row1 col5\" >3.4188</td>\n",
       "    </tr>\n",
       "    <tr>\n",
       "      <th id=\"T_d709b_level0_row2\" class=\"row_heading level0 row2\" >2</th>\n",
       "      <td id=\"T_d709b_row2_col0\" class=\"data row2 col0\" >1020.4281</td>\n",
       "      <td id=\"T_d709b_row2_col1\" class=\"data row2 col1\" >2548692.8672</td>\n",
       "      <td id=\"T_d709b_row2_col2\" class=\"data row2 col2\" >1596.4626</td>\n",
       "      <td id=\"T_d709b_row2_col3\" class=\"data row2 col3\" >0.8850</td>\n",
       "      <td id=\"T_d709b_row2_col4\" class=\"data row2 col4\" >0.4999</td>\n",
       "      <td id=\"T_d709b_row2_col5\" class=\"data row2 col5\" >4.6383</td>\n",
       "    </tr>\n",
       "    <tr>\n",
       "      <th id=\"T_d709b_level0_row3\" class=\"row_heading level0 row3\" >3</th>\n",
       "      <td id=\"T_d709b_row3_col0\" class=\"data row3 col0\" >1031.5049</td>\n",
       "      <td id=\"T_d709b_row3_col1\" class=\"data row3 col1\" >2643556.3348</td>\n",
       "      <td id=\"T_d709b_row3_col2\" class=\"data row3 col2\" >1625.9017</td>\n",
       "      <td id=\"T_d709b_row3_col3\" class=\"data row3 col3\" >0.8810</td>\n",
       "      <td id=\"T_d709b_row3_col4\" class=\"data row3 col4\" >0.4875</td>\n",
       "      <td id=\"T_d709b_row3_col5\" class=\"data row3 col5\" >4.2349</td>\n",
       "    </tr>\n",
       "    <tr>\n",
       "      <th id=\"T_d709b_level0_row4\" class=\"row_heading level0 row4\" >4</th>\n",
       "      <td id=\"T_d709b_row4_col0\" class=\"data row4 col0\" >1034.2072</td>\n",
       "      <td id=\"T_d709b_row4_col1\" class=\"data row4 col1\" >2638022.3663</td>\n",
       "      <td id=\"T_d709b_row4_col2\" class=\"data row4 col2\" >1624.1990</td>\n",
       "      <td id=\"T_d709b_row4_col3\" class=\"data row4 col3\" >0.8821</td>\n",
       "      <td id=\"T_d709b_row4_col4\" class=\"data row4 col4\" >0.5001</td>\n",
       "      <td id=\"T_d709b_row4_col5\" class=\"data row4 col5\" >3.8012</td>\n",
       "    </tr>\n",
       "    <tr>\n",
       "      <th id=\"T_d709b_level0_row5\" class=\"row_heading level0 row5\" >Mean</th>\n",
       "      <td id=\"T_d709b_row5_col0\" class=\"data row5 col0\" >1027.3493</td>\n",
       "      <td id=\"T_d709b_row5_col1\" class=\"data row5 col1\" >2612030.3176</td>\n",
       "      <td id=\"T_d709b_row5_col2\" class=\"data row5 col2\" >1616.1406</td>\n",
       "      <td id=\"T_d709b_row5_col3\" class=\"data row5 col3\" >0.8827</td>\n",
       "      <td id=\"T_d709b_row5_col4\" class=\"data row5 col4\" >0.4973</td>\n",
       "      <td id=\"T_d709b_row5_col5\" class=\"data row5 col5\" >3.9264</td>\n",
       "    </tr>\n",
       "    <tr>\n",
       "      <th id=\"T_d709b_level0_row6\" class=\"row_heading level0 row6\" >SD</th>\n",
       "      <td id=\"T_d709b_row6_col0\" class=\"data row6 col0\" >5.6736</td>\n",
       "      <td id=\"T_d709b_row6_col1\" class=\"data row6 col1\" >35282.0792</td>\n",
       "      <td id=\"T_d709b_row6_col2\" class=\"data row6 col2\" >10.9496</td>\n",
       "      <td id=\"T_d709b_row6_col3\" class=\"data row6 col3\" >0.0017</td>\n",
       "      <td id=\"T_d709b_row6_col4\" class=\"data row6 col4\" >0.0057</td>\n",
       "      <td id=\"T_d709b_row6_col5\" class=\"data row6 col5\" >0.4529</td>\n",
       "    </tr>\n",
       "  </tbody>\n",
       "</table>\n"
      ],
      "text/plain": [
       "<pandas.io.formats.style.Styler at 0x7f265526b150>"
      ]
     },
     "metadata": {},
     "output_type": "display_data"
    },
    {
     "name": "stdout",
     "output_type": "stream",
     "text": [
      "CPU times: user 6min 31s, sys: 3.68 s, total: 6min 35s\n",
      "Wall time: 6min 40s\n"
     ]
    }
   ],
   "source": [
    "%%time\n",
    "tuned_lgbm = pycr.tune_model(lightgbm, fold = 5, custom_grid = lgbm_params, optimize='RMSE')"
   ]
  },
  {
   "cell_type": "markdown",
   "metadata": {},
   "source": [
    "We see our tuned lgbm is performing better! RMSE of 1616 instead of 1702."
   ]
  },
  {
   "cell_type": "markdown",
   "metadata": {},
   "source": [
    "Printing the tuned parameters:"
   ]
  },
  {
   "cell_type": "code",
   "execution_count": 51,
   "metadata": {},
   "outputs": [
    {
     "name": "stdout",
     "output_type": "stream",
     "text": [
      "LGBMRegressor(boosting_type='gbdt', class_weight=None, colsample_bytree=1.0,\n",
      "              importance_type='split', learning_rate=0.5, max_depth=110,\n",
      "              min_child_samples=20, min_child_weight=0.001, min_split_gain=0.0,\n",
      "              n_estimators=100, n_jobs=-1, num_leaves=190, objective=None,\n",
      "              random_state=42, reg_alpha=0.0, reg_lambda=0.0, silent='warn',\n",
      "              subsample=1.0, subsample_for_bin=200000, subsample_freq=0)\n"
     ]
    }
   ],
   "source": [
    "print(tuned_lgbm)"
   ]
  },
  {
   "cell_type": "markdown",
   "metadata": {},
   "source": [
    "predicting the hold-out sample using the tuned lgbm:"
   ]
  },
  {
   "cell_type": "code",
   "execution_count": 52,
   "metadata": {},
   "outputs": [
    {
     "data": {
      "text/html": [
       "<style type=\"text/css\">\n",
       "</style>\n",
       "<table id=\"T_529b3_\">\n",
       "  <thead>\n",
       "    <tr>\n",
       "      <th class=\"blank level0\" >&nbsp;</th>\n",
       "      <th class=\"col_heading level0 col0\" >Model</th>\n",
       "      <th class=\"col_heading level0 col1\" >MAE</th>\n",
       "      <th class=\"col_heading level0 col2\" >MSE</th>\n",
       "      <th class=\"col_heading level0 col3\" >RMSE</th>\n",
       "      <th class=\"col_heading level0 col4\" >R2</th>\n",
       "      <th class=\"col_heading level0 col5\" >RMSLE</th>\n",
       "      <th class=\"col_heading level0 col6\" >MAPE</th>\n",
       "    </tr>\n",
       "  </thead>\n",
       "  <tbody>\n",
       "    <tr>\n",
       "      <th id=\"T_529b3_level0_row0\" class=\"row_heading level0 row0\" >0</th>\n",
       "      <td id=\"T_529b3_row0_col0\" class=\"data row0 col0\" >Light Gradient Boosting Machine</td>\n",
       "      <td id=\"T_529b3_row0_col1\" class=\"data row0 col1\" >1011.3844</td>\n",
       "      <td id=\"T_529b3_row0_col2\" class=\"data row0 col2\" >2581087.0280</td>\n",
       "      <td id=\"T_529b3_row0_col3\" class=\"data row0 col3\" >1606.5762</td>\n",
       "      <td id=\"T_529b3_row0_col4\" class=\"data row0 col4\" >0.8838</td>\n",
       "      <td id=\"T_529b3_row0_col5\" class=\"data row0 col5\" >0.4797</td>\n",
       "      <td id=\"T_529b3_row0_col6\" class=\"data row0 col6\" >3.6795</td>\n",
       "    </tr>\n",
       "  </tbody>\n",
       "</table>\n"
      ],
      "text/plain": [
       "<pandas.io.formats.style.Styler at 0x7f264d109110>"
      ]
     },
     "metadata": {},
     "output_type": "display_data"
    }
   ],
   "source": [
    "predict_model(tuned_lgbm);"
   ]
  },
  {
   "cell_type": "markdown",
   "metadata": {},
   "source": [
    "##### Finalzing the model:"
   ]
  },
  {
   "cell_type": "markdown",
   "metadata": {},
   "source": [
    "- The finalize_model() function fits the model onto the complete dataset including the test/hold-out sample (20% in this case). The purpose of this function is to train the model on the complete dataset before it is deployed in production (in our case to use it on the unseen data(dftest))"
   ]
  },
  {
   "cell_type": "code",
   "execution_count": 53,
   "metadata": {},
   "outputs": [
    {
     "name": "stdout",
     "output_type": "stream",
     "text": [
      "CPU times: user 2min 5s, sys: 1.55 s, total: 2min 7s\n",
      "Wall time: 2min 9s\n"
     ]
    }
   ],
   "source": [
    "%%time\n",
    "final_lightgbm = finalize_model(tuned_lgbm)"
   ]
  },
  {
   "cell_type": "markdown",
   "metadata": {},
   "source": [
    "##### Predict on unseen data:"
   ]
  },
  {
   "cell_type": "code",
   "execution_count": 54,
   "metadata": {},
   "outputs": [],
   "source": [
    "unseen_predictions = predict_model(final_lightgbm, data=dftest)"
   ]
  },
  {
   "cell_type": "markdown",
   "metadata": {},
   "source": [
    "checking the RMSE value on the test set:"
   ]
  },
  {
   "cell_type": "code",
   "execution_count": 56,
   "metadata": {},
   "outputs": [
    {
     "data": {
      "text/plain": [
       "1590.4699"
      ]
     },
     "execution_count": 56,
     "metadata": {},
     "output_type": "execute_result"
    }
   ],
   "source": [
    "pycu.check_metric(unseen_predictions.price, unseen_predictions.Label, 'RMSE')"
   ]
  },
  {
   "cell_type": "markdown",
   "metadata": {},
   "source": [
    "Our final RMSE is 1590, which is a slight improvment from our train set - meaning we are not experiencing overfitting."
   ]
  },
  {
   "cell_type": "markdown",
   "metadata": {},
   "source": [
    "## Model analysis"
   ]
  },
  {
   "cell_type": "markdown",
   "metadata": {},
   "source": [
    "### Quality of models:"
   ]
  },
  {
   "cell_type": "markdown",
   "metadata": {},
   "source": [
    "We chose the best performing ensamble model: RF Regressor, and the best gradient boosting model between the models we tested: LightGBM."
   ]
  },
  {
   "cell_type": "markdown",
   "metadata": {},
   "source": [
    "- RF Regressor reached RMSE of 1880.\n",
    "- LGBM reached RMSE of 1590 on the test set, and is the best performing model.\n",
    "- We also achivied MAPE score of 3.8%, which implies that, on average, the forecast's distance from the true value is 3.8% of the true value."
   ]
  },
  {
   "cell_type": "markdown",
   "metadata": {},
   "source": [
    "### Speed of models analysis:\n",
    "We recorded the speed of models using the time decorator (%%time) in the cells where our models got fitted and tuned."
   ]
  },
  {
   "cell_type": "markdown",
   "metadata": {},
   "source": [
    "- the inital models comparison took us 14min and 30s\n",
    "- training and evaluation of the performance of RF regressor using cross validation took us 9min 18s\n",
    "- training and evaluation of the performance of LGBM regresor using cross validation took us 47s.\n",
    "- Tuning of RF regressor took us 3min 17s\n",
    "- Tuning of LGBM regressor took us 6min 21s\n",
    "\n",
    "\n",
    "- LGBM total (training + tuning): 7m 8s\n",
    "- RF Regressor total(Training + tuning): 12m 35s\n",
    "\n",
    "We can conclude LGBM is faster and achieved better results."
   ]
  }
 ],
 "metadata": {
  "ExecuteTimeLog": [
   {
    "duration": 95888,
    "start_time": "2021-11-09T17:07:06.397Z"
   },
   {
    "duration": 2198,
    "start_time": "2021-11-09T18:11:11.649Z"
   },
   {
    "duration": 729,
    "start_time": "2021-11-09T18:14:25.995Z"
   },
   {
    "duration": 656,
    "start_time": "2021-11-09T18:19:45.941Z"
   },
   {
    "duration": 1600,
    "start_time": "2021-11-11T12:10:44.035Z"
   },
   {
    "duration": 104540,
    "start_time": "2021-11-11T12:10:52.237Z"
   },
   {
    "duration": 6580,
    "start_time": "2021-11-11T12:12:36.780Z"
   },
   {
    "duration": 171760,
    "start_time": "2021-11-13T15:00:42.005Z"
   },
   {
    "duration": 8263,
    "start_time": "2021-11-13T15:03:49.886Z"
   },
   {
    "duration": 923,
    "start_time": "2021-11-13T15:04:20.359Z"
   },
   {
    "duration": 27,
    "start_time": "2021-11-13T15:22:17.294Z"
   },
   {
    "duration": 184,
    "start_time": "2021-11-13T15:23:20.232Z"
   },
   {
    "duration": 124,
    "start_time": "2021-11-13T15:24:12.296Z"
   },
   {
    "duration": 511,
    "start_time": "2021-11-13T15:37:02.127Z"
   },
   {
    "duration": 514,
    "start_time": "2021-11-13T15:38:27.605Z"
   },
   {
    "duration": 172,
    "start_time": "2021-11-13T15:38:35.338Z"
   },
   {
    "duration": 164,
    "start_time": "2021-11-13T15:42:56.949Z"
   },
   {
    "duration": 294,
    "start_time": "2021-11-13T16:25:41.443Z"
   },
   {
    "duration": 35,
    "start_time": "2021-11-13T16:26:23.778Z"
   },
   {
    "duration": 276,
    "start_time": "2021-11-13T16:26:26.092Z"
   },
   {
    "duration": 115,
    "start_time": "2021-11-13T16:26:34.940Z"
   },
   {
    "duration": 111,
    "start_time": "2021-11-13T16:26:38.204Z"
   },
   {
    "duration": 17,
    "start_time": "2021-11-13T16:26:47.378Z"
   },
   {
    "duration": 146,
    "start_time": "2021-11-13T16:28:00.094Z"
   },
   {
    "duration": 92,
    "start_time": "2021-11-13T16:31:17.873Z"
   },
   {
    "duration": 36,
    "start_time": "2021-11-13T16:33:16.210Z"
   },
   {
    "duration": 4,
    "start_time": "2021-11-13T16:35:11.365Z"
   },
   {
    "duration": 17,
    "start_time": "2021-11-13T16:35:16.148Z"
   },
   {
    "duration": 38,
    "start_time": "2021-11-13T16:40:09.198Z"
   },
   {
    "duration": 265,
    "start_time": "2021-11-13T16:40:51.929Z"
   },
   {
    "duration": 283,
    "start_time": "2021-11-13T16:40:55.224Z"
   },
   {
    "duration": 37,
    "start_time": "2021-11-13T16:40:58.937Z"
   },
   {
    "duration": 289,
    "start_time": "2021-11-13T16:42:58.490Z"
   },
   {
    "duration": 349,
    "start_time": "2021-11-13T16:43:10.571Z"
   },
   {
    "duration": 1372,
    "start_time": "2021-11-13T16:58:49.818Z"
   },
   {
    "duration": 1366,
    "start_time": "2021-11-13T16:59:22.030Z"
   },
   {
    "duration": 1336,
    "start_time": "2021-11-13T16:59:26.408Z"
   },
   {
    "duration": 1248,
    "start_time": "2021-11-13T16:59:33.480Z"
   },
   {
    "duration": 1489,
    "start_time": "2021-11-13T17:00:00.090Z"
   },
   {
    "duration": 1204,
    "start_time": "2021-11-13T17:00:04.904Z"
   },
   {
    "duration": 1383,
    "start_time": "2021-11-13T17:00:15.162Z"
   },
   {
    "duration": 1233,
    "start_time": "2021-11-13T17:00:19.914Z"
   },
   {
    "duration": 1371,
    "start_time": "2021-11-13T17:00:34.602Z"
   },
   {
    "duration": 544,
    "start_time": "2021-11-13T17:13:25.332Z"
   },
   {
    "duration": 10,
    "start_time": "2021-11-13T17:34:53.131Z"
   },
   {
    "duration": 11,
    "start_time": "2021-11-13T17:34:57.418Z"
   },
   {
    "duration": 11,
    "start_time": "2021-11-13T17:35:00.724Z"
   },
   {
    "duration": 8,
    "start_time": "2021-11-13T17:35:09.668Z"
   },
   {
    "duration": 7,
    "start_time": "2021-11-13T17:35:19.510Z"
   },
   {
    "duration": 8,
    "start_time": "2021-11-13T17:35:24.214Z"
   },
   {
    "duration": 9,
    "start_time": "2021-11-13T17:36:25.529Z"
   },
   {
    "duration": 12,
    "start_time": "2021-11-13T17:36:28.503Z"
   },
   {
    "duration": 9,
    "start_time": "2021-11-13T17:36:32.247Z"
   },
   {
    "duration": 9,
    "start_time": "2021-11-13T17:36:36.007Z"
   },
   {
    "duration": 13,
    "start_time": "2021-11-13T17:37:21.127Z"
   },
   {
    "duration": 12,
    "start_time": "2021-11-13T17:37:55.304Z"
   },
   {
    "duration": 9,
    "start_time": "2021-11-13T17:40:17.481Z"
   },
   {
    "duration": 10,
    "start_time": "2021-11-13T17:40:20.872Z"
   },
   {
    "duration": 10,
    "start_time": "2021-11-13T17:40:25.786Z"
   },
   {
    "duration": 49,
    "start_time": "2021-11-13T17:45:21.805Z"
   },
   {
    "duration": 59,
    "start_time": "2021-11-13T17:45:37.261Z"
   },
   {
    "duration": 44,
    "start_time": "2021-11-13T17:45:44.879Z"
   },
   {
    "duration": 46,
    "start_time": "2021-11-13T17:46:19.487Z"
   },
   {
    "duration": 22,
    "start_time": "2021-11-13T17:54:18.133Z"
   },
   {
    "duration": 11,
    "start_time": "2021-11-13T17:56:04.839Z"
   },
   {
    "duration": 9,
    "start_time": "2021-11-13T17:56:09.383Z"
   },
   {
    "duration": 9,
    "start_time": "2021-11-13T17:56:13.671Z"
   },
   {
    "duration": 10,
    "start_time": "2021-11-13T17:56:17.056Z"
   },
   {
    "duration": 10,
    "start_time": "2021-11-13T17:59:02.401Z"
   },
   {
    "duration": 99,
    "start_time": "2021-11-13T17:59:10.891Z"
   },
   {
    "duration": 3198,
    "start_time": "2021-11-13T17:59:14.249Z"
   },
   {
    "duration": 3396,
    "start_time": "2021-11-13T17:59:42.987Z"
   },
   {
    "duration": 3266,
    "start_time": "2021-11-13T18:00:07.707Z"
   },
   {
    "duration": 282,
    "start_time": "2021-11-13T18:00:24.619Z"
   },
   {
    "duration": 15,
    "start_time": "2021-11-13T18:15:47.483Z"
   },
   {
    "duration": 15,
    "start_time": "2021-11-13T18:15:50.039Z"
   },
   {
    "duration": 15,
    "start_time": "2021-11-13T18:16:44.295Z"
   },
   {
    "duration": 15,
    "start_time": "2021-11-13T19:01:32.409Z"
   },
   {
    "duration": 3459,
    "start_time": "2021-11-13T19:03:55.763Z"
   },
   {
    "duration": 62,
    "start_time": "2021-11-13T19:05:08.744Z"
   },
   {
    "duration": 96,
    "start_time": "2021-11-13T19:33:15.663Z"
   },
   {
    "duration": 16,
    "start_time": "2021-11-13T19:33:21.501Z"
   },
   {
    "duration": 16,
    "start_time": "2021-11-13T19:33:27.469Z"
   },
   {
    "duration": 50,
    "start_time": "2021-11-13T19:36:46.800Z"
   },
   {
    "duration": 20,
    "start_time": "2021-11-13T19:37:11.889Z"
   },
   {
    "duration": 18,
    "start_time": "2021-11-13T19:37:21.153Z"
   },
   {
    "duration": 14,
    "start_time": "2021-11-13T19:40:00.802Z"
   },
   {
    "duration": 13,
    "start_time": "2021-11-13T19:40:12.730Z"
   },
   {
    "duration": 14,
    "start_time": "2021-11-13T19:40:19.445Z"
   },
   {
    "duration": 14,
    "start_time": "2021-11-13T19:40:23.235Z"
   },
   {
    "duration": 14,
    "start_time": "2021-11-13T19:40:26.820Z"
   },
   {
    "duration": 14,
    "start_time": "2021-11-13T19:40:29.348Z"
   },
   {
    "duration": 15,
    "start_time": "2021-11-13T19:40:31.267Z"
   },
   {
    "duration": 14,
    "start_time": "2021-11-13T19:40:49.446Z"
   },
   {
    "duration": 13,
    "start_time": "2021-11-13T19:40:56.788Z"
   },
   {
    "duration": 13,
    "start_time": "2021-11-13T19:40:59.078Z"
   },
   {
    "duration": 13,
    "start_time": "2021-11-13T19:41:02.340Z"
   },
   {
    "duration": 13,
    "start_time": "2021-11-13T19:41:04.884Z"
   },
   {
    "duration": 13,
    "start_time": "2021-11-13T19:41:11.700Z"
   },
   {
    "duration": 14,
    "start_time": "2021-11-13T19:41:15.381Z"
   },
   {
    "duration": 14,
    "start_time": "2021-11-13T19:41:18.051Z"
   },
   {
    "duration": 14,
    "start_time": "2021-11-13T19:41:26.965Z"
   },
   {
    "duration": 268,
    "start_time": "2021-11-13T20:28:40.910Z"
   },
   {
    "duration": 40,
    "start_time": "2021-11-13T20:29:12.813Z"
   },
   {
    "duration": 105,
    "start_time": "2021-11-13T20:35:23.587Z"
   },
   {
    "duration": 32,
    "start_time": "2021-11-13T20:36:40.843Z"
   },
   {
    "duration": 33,
    "start_time": "2021-11-13T20:40:56.919Z"
   },
   {
    "duration": 32,
    "start_time": "2021-11-13T20:41:02.183Z"
   },
   {
    "duration": 18,
    "start_time": "2021-11-13T21:13:01.154Z"
   },
   {
    "duration": 72,
    "start_time": "2021-11-13T21:29:15.220Z"
   },
   {
    "duration": 8,
    "start_time": "2021-11-13T21:29:28.270Z"
   },
   {
    "duration": 16,
    "start_time": "2021-11-13T21:32:25.890Z"
   },
   {
    "duration": 5,
    "start_time": "2021-11-13T21:32:47.080Z"
   },
   {
    "duration": 27,
    "start_time": "2021-11-13T21:32:57.475Z"
   },
   {
    "duration": 31,
    "start_time": "2021-11-13T21:33:00.112Z"
   },
   {
    "duration": 17,
    "start_time": "2021-11-13T21:33:24.306Z"
   },
   {
    "duration": 98,
    "start_time": "2021-11-13T21:34:43.554Z"
   },
   {
    "duration": 18,
    "start_time": "2021-11-13T21:34:45.010Z"
   },
   {
    "duration": 1876,
    "start_time": "2021-11-13T22:32:10.291Z"
   },
   {
    "duration": 99,
    "start_time": "2021-11-13T22:32:50.373Z"
   },
   {
    "duration": 132,
    "start_time": "2021-11-13T22:32:51.717Z"
   },
   {
    "duration": 92,
    "start_time": "2021-11-13T22:34:30.581Z"
   },
   {
    "duration": 119,
    "start_time": "2021-11-13T22:34:40.919Z"
   },
   {
    "duration": 89,
    "start_time": "2021-11-13T22:35:29.511Z"
   },
   {
    "duration": 79,
    "start_time": "2021-11-13T22:35:32.263Z"
   },
   {
    "duration": 116,
    "start_time": "2021-11-13T22:35:36.241Z"
   },
   {
    "duration": 16,
    "start_time": "2021-11-14T01:20:39.444Z"
   },
   {
    "duration": 17,
    "start_time": "2021-11-14T16:16:22.846Z"
   },
   {
    "duration": 19,
    "start_time": "2021-11-14T16:47:17.241Z"
   },
   {
    "duration": 70,
    "start_time": "2021-11-14T16:47:25.898Z"
   },
   {
    "duration": 77,
    "start_time": "2021-11-14T16:47:35.320Z"
   },
   {
    "duration": 88,
    "start_time": "2021-11-14T16:55:39.711Z"
   },
   {
    "duration": 205,
    "start_time": "2021-11-14T16:59:26.948Z"
   },
   {
    "duration": 78,
    "start_time": "2021-11-14T16:59:41.009Z"
   },
   {
    "duration": 21,
    "start_time": "2021-11-14T16:59:50.177Z"
   },
   {
    "duration": 433,
    "start_time": "2021-11-14T17:00:09.514Z"
   },
   {
    "duration": 10,
    "start_time": "2021-11-14T17:00:27.090Z"
   },
   {
    "duration": 14,
    "start_time": "2021-11-14T17:00:29.921Z"
   },
   {
    "duration": 9,
    "start_time": "2021-11-14T17:00:38.227Z"
   },
   {
    "duration": 8,
    "start_time": "2021-11-14T17:00:42.624Z"
   },
   {
    "duration": 9,
    "start_time": "2021-11-14T17:00:46.323Z"
   },
   {
    "duration": 48,
    "start_time": "2021-11-14T17:00:58.932Z"
   },
   {
    "duration": 47,
    "start_time": "2021-11-14T17:01:08.403Z"
   },
   {
    "duration": 37,
    "start_time": "2021-11-14T17:02:32.611Z"
   },
   {
    "duration": 35,
    "start_time": "2021-11-14T17:02:36.596Z"
   },
   {
    "duration": 18,
    "start_time": "2021-11-14T17:02:51.766Z"
   },
   {
    "duration": 12,
    "start_time": "2021-11-14T17:03:06.790Z"
   },
   {
    "duration": 31,
    "start_time": "2021-11-14T17:03:53.142Z"
   },
   {
    "duration": 25,
    "start_time": "2021-11-14T17:04:11.190Z"
   },
   {
    "duration": 16,
    "start_time": "2021-11-14T17:04:19.413Z"
   },
   {
    "duration": 17,
    "start_time": "2021-11-14T17:04:30.806Z"
   },
   {
    "duration": 19,
    "start_time": "2021-11-14T17:04:34.677Z"
   },
   {
    "duration": 812,
    "start_time": "2021-11-14T17:04:42.710Z"
   },
   {
    "duration": 31,
    "start_time": "2021-11-14T17:08:33.242Z"
   },
   {
    "duration": 34,
    "start_time": "2021-11-14T17:08:40.514Z"
   },
   {
    "duration": 289,
    "start_time": "2021-11-14T17:12:11.900Z"
   },
   {
    "duration": 31,
    "start_time": "2021-11-14T17:12:15.468Z"
   },
   {
    "duration": 32,
    "start_time": "2021-11-14T17:12:21.117Z"
   },
   {
    "duration": 33,
    "start_time": "2021-11-14T17:14:50.446Z"
   },
   {
    "duration": 33,
    "start_time": "2021-11-14T17:15:06.046Z"
   },
   {
    "duration": 38,
    "start_time": "2021-11-14T17:16:38.864Z"
   },
   {
    "duration": 33,
    "start_time": "2021-11-14T17:16:42.915Z"
   },
   {
    "duration": 30,
    "start_time": "2021-11-14T17:16:48.217Z"
   },
   {
    "duration": 305,
    "start_time": "2021-11-14T17:16:59.200Z"
   },
   {
    "duration": 31,
    "start_time": "2021-11-14T17:17:06.032Z"
   },
   {
    "duration": 32,
    "start_time": "2021-11-14T17:17:09.824Z"
   },
   {
    "duration": 30,
    "start_time": "2021-11-14T17:18:14.258Z"
   },
   {
    "duration": 32,
    "start_time": "2021-11-14T17:18:16.994Z"
   },
   {
    "duration": 294,
    "start_time": "2021-11-14T17:18:28.482Z"
   },
   {
    "duration": 33,
    "start_time": "2021-11-14T17:18:32.626Z"
   },
   {
    "duration": 384,
    "start_time": "2021-11-14T17:18:38.225Z"
   },
   {
    "duration": 33,
    "start_time": "2021-11-14T17:18:42.419Z"
   },
   {
    "duration": 291,
    "start_time": "2021-11-14T17:21:11.012Z"
   },
   {
    "duration": 29,
    "start_time": "2021-11-14T17:21:13.076Z"
   },
   {
    "duration": 1345,
    "start_time": "2021-11-14T17:21:24.404Z"
   },
   {
    "duration": 49,
    "start_time": "2021-11-14T17:22:19.286Z"
   },
   {
    "duration": 7,
    "start_time": "2021-11-14T17:27:59.162Z"
   },
   {
    "duration": 879,
    "start_time": "2021-11-14T17:29:10.810Z"
   },
   {
    "duration": 92799,
    "start_time": "2021-11-14T17:29:17.034Z"
   },
   {
    "duration": 18,
    "start_time": "2021-11-14T17:30:53.707Z"
   },
   {
    "duration": 5,
    "start_time": "2021-11-14T17:31:14.012Z"
   },
   {
    "duration": 194,
    "start_time": "2021-11-14T17:31:16.046Z"
   },
   {
    "duration": 8,
    "start_time": "2021-11-14T17:31:28.972Z"
   },
   {
    "duration": 19,
    "start_time": "2021-11-14T17:31:32.924Z"
   },
   {
    "duration": 1071,
    "start_time": "2021-11-14T17:31:34.316Z"
   },
   {
    "duration": 37,
    "start_time": "2021-11-14T17:44:57.577Z"
   },
   {
    "duration": 61,
    "start_time": "2021-11-14T17:47:19.131Z"
   },
   {
    "duration": 258,
    "start_time": "2021-11-14T17:48:22.731Z"
   },
   {
    "duration": 35,
    "start_time": "2021-11-14T17:48:31.867Z"
   },
   {
    "duration": 26,
    "start_time": "2021-11-14T17:50:11.259Z"
   },
   {
    "duration": 306,
    "start_time": "2021-11-14T17:50:23.423Z"
   },
   {
    "duration": 2553,
    "start_time": "2021-11-14T17:50:44.559Z"
   },
   {
    "duration": 34,
    "start_time": "2021-11-14T17:51:33.917Z"
   },
   {
    "duration": 36,
    "start_time": "2021-11-14T17:51:37.789Z"
   },
   {
    "duration": 33,
    "start_time": "2021-11-14T17:51:42.653Z"
   },
   {
    "duration": 19,
    "start_time": "2021-11-14T17:52:37.583Z"
   },
   {
    "duration": 1362,
    "start_time": "2021-11-14T17:54:26.514Z"
   },
   {
    "duration": 14,
    "start_time": "2021-11-14T17:57:35.796Z"
   },
   {
    "duration": 32,
    "start_time": "2021-11-14T17:57:49.556Z"
   },
   {
    "duration": 24,
    "start_time": "2021-11-14T18:08:04.892Z"
   },
   {
    "duration": 2496,
    "start_time": "2021-11-14T18:08:12.142Z"
   },
   {
    "duration": 1085,
    "start_time": "2021-11-14T18:08:20.372Z"
   },
   {
    "duration": 104,
    "start_time": "2021-11-14T18:10:50.784Z"
   },
   {
    "duration": 238,
    "start_time": "2021-11-14T18:12:51.792Z"
   },
   {
    "duration": 296,
    "start_time": "2021-11-14T18:13:02.480Z"
   },
   {
    "duration": 6,
    "start_time": "2021-11-14T18:13:19.600Z"
   },
   {
    "duration": 42,
    "start_time": "2021-11-14T18:13:27.024Z"
   },
   {
    "duration": 5,
    "start_time": "2021-11-14T18:15:38.690Z"
   },
   {
    "duration": 318,
    "start_time": "2021-11-14T18:15:41.521Z"
   },
   {
    "duration": 413,
    "start_time": "2021-11-14T18:15:50.866Z"
   },
   {
    "duration": 307,
    "start_time": "2021-11-14T18:15:55.538Z"
   },
   {
    "duration": 7,
    "start_time": "2021-11-14T18:16:15.914Z"
   },
   {
    "duration": 19739,
    "start_time": "2021-11-14T18:16:48.637Z"
   },
   {
    "duration": 4,
    "start_time": "2021-11-14T18:17:08.379Z"
   },
   {
    "duration": 3965,
    "start_time": "2021-11-14T18:17:08.386Z"
   },
   {
    "duration": 28,
    "start_time": "2021-11-14T18:17:12.354Z"
   },
   {
    "duration": 945,
    "start_time": "2021-11-14T18:17:12.385Z"
   },
   {
    "duration": 36,
    "start_time": "2021-11-14T18:17:13.332Z"
   },
   {
    "duration": 205,
    "start_time": "2021-11-14T18:17:13.371Z"
   },
   {
    "duration": 37,
    "start_time": "2021-11-14T18:17:13.579Z"
   },
   {
    "duration": 6,
    "start_time": "2021-11-14T18:17:13.619Z"
   },
   {
    "duration": 317,
    "start_time": "2021-11-14T18:17:13.627Z"
   },
   {
    "duration": 130,
    "start_time": "2021-11-14T18:17:13.946Z"
   },
   {
    "duration": 122,
    "start_time": "2021-11-14T18:17:14.078Z"
   },
   {
    "duration": 101,
    "start_time": "2021-11-14T18:17:14.204Z"
   },
   {
    "duration": 364,
    "start_time": "2021-11-14T18:17:14.308Z"
   },
   {
    "duration": 517,
    "start_time": "2021-11-14T18:17:14.675Z"
   },
   {
    "duration": 1072,
    "start_time": "2021-11-14T18:17:14.124Z"
   },
   {
    "duration": 1071,
    "start_time": "2021-11-14T18:17:14.126Z"
   },
   {
    "duration": 1070,
    "start_time": "2021-11-14T18:17:14.128Z"
   },
   {
    "duration": 957,
    "start_time": "2021-11-14T18:17:14.243Z"
   },
   {
    "duration": 952,
    "start_time": "2021-11-14T18:17:14.249Z"
   },
   {
    "duration": 952,
    "start_time": "2021-11-14T18:17:14.251Z"
   },
   {
    "duration": 951,
    "start_time": "2021-11-14T18:17:14.253Z"
   },
   {
    "duration": 952,
    "start_time": "2021-11-14T18:17:14.254Z"
   },
   {
    "duration": 951,
    "start_time": "2021-11-14T18:17:14.256Z"
   },
   {
    "duration": 951,
    "start_time": "2021-11-14T18:17:14.257Z"
   },
   {
    "duration": 951,
    "start_time": "2021-11-14T18:17:14.259Z"
   },
   {
    "duration": 950,
    "start_time": "2021-11-14T18:17:14.261Z"
   },
   {
    "duration": 950,
    "start_time": "2021-11-14T18:17:14.263Z"
   },
   {
    "duration": 950,
    "start_time": "2021-11-14T18:17:14.264Z"
   },
   {
    "duration": 949,
    "start_time": "2021-11-14T18:17:14.266Z"
   },
   {
    "duration": 950,
    "start_time": "2021-11-14T18:17:14.267Z"
   },
   {
    "duration": 950,
    "start_time": "2021-11-14T18:17:14.269Z"
   },
   {
    "duration": 950,
    "start_time": "2021-11-14T18:17:14.270Z"
   },
   {
    "duration": 948,
    "start_time": "2021-11-14T18:17:14.273Z"
   },
   {
    "duration": 948,
    "start_time": "2021-11-14T18:17:14.275Z"
   },
   {
    "duration": 20480,
    "start_time": "2021-11-14T18:18:53.258Z"
   },
   {
    "duration": 4,
    "start_time": "2021-11-14T18:19:13.741Z"
   },
   {
    "duration": 3368,
    "start_time": "2021-11-14T18:19:13.748Z"
   },
   {
    "duration": 27,
    "start_time": "2021-11-14T18:19:17.120Z"
   },
   {
    "duration": 925,
    "start_time": "2021-11-14T18:19:17.149Z"
   },
   {
    "duration": 26,
    "start_time": "2021-11-14T18:19:18.076Z"
   },
   {
    "duration": 215,
    "start_time": "2021-11-14T18:19:18.104Z"
   },
   {
    "duration": 48,
    "start_time": "2021-11-14T18:19:18.322Z"
   },
   {
    "duration": 8,
    "start_time": "2021-11-14T18:19:18.373Z"
   },
   {
    "duration": 312,
    "start_time": "2021-11-14T18:19:18.384Z"
   },
   {
    "duration": 119,
    "start_time": "2021-11-14T18:19:18.699Z"
   },
   {
    "duration": 116,
    "start_time": "2021-11-14T18:19:18.820Z"
   },
   {
    "duration": 86,
    "start_time": "2021-11-14T18:19:18.939Z"
   },
   {
    "duration": 364,
    "start_time": "2021-11-14T18:19:19.027Z"
   },
   {
    "duration": 38,
    "start_time": "2021-11-14T18:19:19.394Z"
   },
   {
    "duration": 132,
    "start_time": "2021-11-14T18:19:19.435Z"
   },
   {
    "duration": 17,
    "start_time": "2021-11-14T18:19:19.569Z"
   },
   {
    "duration": 1104,
    "start_time": "2021-11-14T18:19:19.588Z"
   },
   {
    "duration": 16,
    "start_time": "2021-11-14T18:19:20.695Z"
   },
   {
    "duration": 14,
    "start_time": "2021-11-14T18:19:20.714Z"
   },
   {
    "duration": 121,
    "start_time": "2021-11-14T18:19:20.730Z"
   },
   {
    "duration": 191,
    "start_time": "2021-11-14T18:19:20.853Z"
   },
   {
    "duration": 25,
    "start_time": "2021-11-14T18:19:21.048Z"
   },
   {
    "duration": 29,
    "start_time": "2021-11-14T18:19:21.076Z"
   },
   {
    "duration": 59,
    "start_time": "2021-11-14T18:19:21.108Z"
   },
   {
    "duration": 183,
    "start_time": "2021-11-14T18:19:21.170Z"
   },
   {
    "duration": 20,
    "start_time": "2021-11-14T18:19:21.356Z"
   },
   {
    "duration": 866,
    "start_time": "2021-11-14T18:19:21.378Z"
   },
   {
    "duration": 7,
    "start_time": "2021-11-14T18:19:22.246Z"
   },
   {
    "duration": 200,
    "start_time": "2021-11-14T18:19:22.267Z"
   },
   {
    "duration": 21,
    "start_time": "2021-11-14T18:19:22.469Z"
   },
   {
    "duration": 2628,
    "start_time": "2021-11-14T18:19:22.492Z"
   },
   {
    "duration": 1157,
    "start_time": "2021-11-14T18:19:25.123Z"
   },
   {
    "duration": 3,
    "start_time": "2021-11-14T18:19:26.282Z"
   },
   {
    "duration": 9,
    "start_time": "2021-11-14T18:19:26.288Z"
   },
   {
    "duration": 5,
    "start_time": "2021-11-14T18:19:26.300Z"
   },
   {
    "duration": 15,
    "start_time": "2021-11-14T18:19:34.556Z"
   },
   {
    "duration": 1448,
    "start_time": "2021-11-14T18:19:53.613Z"
   },
   {
    "duration": 28,
    "start_time": "2021-11-14T18:20:39.853Z"
   },
   {
    "duration": 38,
    "start_time": "2021-11-14T18:20:43.902Z"
   },
   {
    "duration": 46,
    "start_time": "2021-11-14T18:20:51.773Z"
   },
   {
    "duration": 21,
    "start_time": "2021-11-14T18:20:57.278Z"
   },
   {
    "duration": 75,
    "start_time": "2021-11-14T18:20:59.517Z"
   },
   {
    "duration": 56,
    "start_time": "2021-11-14T18:21:08.414Z"
   },
   {
    "duration": 19,
    "start_time": "2021-11-14T18:21:35.855Z"
   },
   {
    "duration": 2525,
    "start_time": "2021-11-14T18:21:37.087Z"
   },
   {
    "duration": 1034,
    "start_time": "2021-11-14T18:21:44.479Z"
   },
   {
    "duration": 10,
    "start_time": "2021-11-14T18:21:50.287Z"
   },
   {
    "duration": 39,
    "start_time": "2021-11-14T18:21:54.989Z"
   },
   {
    "duration": 103,
    "start_time": "2021-11-14T18:22:19.119Z"
   },
   {
    "duration": 253,
    "start_time": "2021-11-14T18:22:33.535Z"
   },
   {
    "duration": 27,
    "start_time": "2021-11-14T18:25:49.953Z"
   },
   {
    "duration": 5,
    "start_time": "2021-11-14T18:26:47.745Z"
   },
   {
    "duration": 5,
    "start_time": "2021-11-14T18:26:55.249Z"
   },
   {
    "duration": 4,
    "start_time": "2021-11-14T18:27:18.275Z"
   },
   {
    "duration": 137,
    "start_time": "2021-11-14T18:27:35.147Z"
   },
   {
    "duration": 52685,
    "start_time": "2021-11-14T18:31:00.453Z"
   },
   {
    "duration": 1886036,
    "start_time": "2021-11-14T18:35:06.743Z"
   },
   {
    "duration": 5,
    "start_time": "2021-11-14T19:07:00.275Z"
   },
   {
    "duration": 187,
    "start_time": "2021-11-14T19:07:03.219Z"
   },
   {
    "duration": 5,
    "start_time": "2021-11-14T19:09:47.031Z"
   },
   {
    "duration": 544,
    "start_time": "2021-11-14T19:25:14.451Z"
   },
   {
    "duration": 173,
    "start_time": "2021-11-14T19:25:17.604Z"
   },
   {
    "duration": 258,
    "start_time": "2021-11-14T19:26:42.920Z"
   },
   {
    "duration": 5,
    "start_time": "2021-11-14T19:27:42.965Z"
   },
   {
    "duration": 169,
    "start_time": "2021-11-14T19:27:46.885Z"
   },
   {
    "duration": 288,
    "start_time": "2021-11-14T19:28:24.103Z"
   },
   {
    "duration": 178,
    "start_time": "2021-11-14T19:30:15.352Z"
   },
   {
    "duration": 65404,
    "start_time": "2021-11-14T19:30:53.143Z"
   },
   {
    "duration": 131781,
    "start_time": "2021-11-14T19:32:27.274Z"
   },
   {
    "duration": 5,
    "start_time": "2021-11-14T19:35:24.012Z"
   },
   {
    "duration": 292,
    "start_time": "2021-11-14T19:35:32.558Z"
   },
   {
    "duration": 180,
    "start_time": "2021-11-14T19:35:37.228Z"
   },
   {
    "duration": 6,
    "start_time": "2021-11-14T19:35:57.436Z"
   },
   {
    "duration": 24316,
    "start_time": "2021-11-14T19:36:10.174Z"
   },
   {
    "duration": 175,
    "start_time": "2021-11-14T19:36:43.106Z"
   },
   {
    "duration": 263,
    "start_time": "2021-11-14T19:36:52.386Z"
   },
   {
    "duration": 46536,
    "start_time": "2021-11-14T19:45:43.429Z"
   },
   {
    "duration": 10935,
    "start_time": "2021-11-14T19:50:12.072Z"
   },
   {
    "duration": 46582,
    "start_time": "2021-11-14T19:51:13.400Z"
   },
   {
    "duration": 7991,
    "start_time": "2021-11-14T19:53:16.123Z"
   },
   {
    "duration": 55721,
    "start_time": "2021-11-14T19:53:30.682Z"
   },
   {
    "duration": 5,
    "start_time": "2021-11-14T19:55:09.420Z"
   },
   {
    "duration": 10294,
    "start_time": "2021-11-14T19:55:15.763Z"
   },
   {
    "duration": 180,
    "start_time": "2021-11-14T19:55:31.468Z"
   },
   {
    "duration": 291,
    "start_time": "2021-11-14T19:56:58.076Z"
   },
   {
    "duration": 4,
    "start_time": "2021-11-14T20:01:23.008Z"
   },
   {
    "duration": 5,
    "start_time": "2021-11-14T20:03:06.074Z"
   },
   {
    "duration": 18098,
    "start_time": "2021-11-14T20:06:20.566Z"
   },
   {
    "duration": 144379,
    "start_time": "2021-11-14T20:06:42.046Z"
   },
   {
    "duration": 5,
    "start_time": "2021-11-14T20:09:40.427Z"
   },
   {
    "duration": 5,
    "start_time": "2021-11-14T20:26:40.279Z"
   },
   {
    "duration": 562113,
    "start_time": "2021-11-14T20:30:11.945Z"
   },
   {
    "duration": 49268,
    "start_time": "2021-11-14T20:41:13.522Z"
   },
   {
    "duration": 332,
    "start_time": "2021-11-14T21:47:30.568Z"
   },
   {
    "duration": 277,
    "start_time": "2021-11-14T21:47:50.348Z"
   },
   {
    "duration": 254,
    "start_time": "2021-11-14T21:48:16.877Z"
   },
   {
    "duration": 20549,
    "start_time": "2021-11-14T22:30:26.877Z"
   },
   {
    "duration": 5,
    "start_time": "2021-11-14T22:30:47.429Z"
   },
   {
    "duration": 9104,
    "start_time": "2021-11-14T22:30:47.437Z"
   },
   {
    "duration": 24,
    "start_time": "2021-11-14T22:30:56.543Z"
   },
   {
    "duration": 946,
    "start_time": "2021-11-14T22:30:56.570Z"
   },
   {
    "duration": 32,
    "start_time": "2021-11-14T22:30:57.518Z"
   },
   {
    "duration": 202,
    "start_time": "2021-11-14T22:30:57.553Z"
   },
   {
    "duration": 27,
    "start_time": "2021-11-14T22:30:57.760Z"
   },
   {
    "duration": 4,
    "start_time": "2021-11-14T22:30:57.791Z"
   },
   {
    "duration": 307,
    "start_time": "2021-11-14T22:30:57.797Z"
   },
   {
    "duration": 120,
    "start_time": "2021-11-14T22:30:58.107Z"
   },
   {
    "duration": 122,
    "start_time": "2021-11-14T22:30:58.229Z"
   },
   {
    "duration": 87,
    "start_time": "2021-11-14T22:30:58.353Z"
   },
   {
    "duration": 360,
    "start_time": "2021-11-14T22:30:58.443Z"
   },
   {
    "duration": 41,
    "start_time": "2021-11-14T22:30:58.805Z"
   },
   {
    "duration": 129,
    "start_time": "2021-11-14T22:30:58.849Z"
   },
   {
    "duration": 16,
    "start_time": "2021-11-14T22:30:58.981Z"
   },
   {
    "duration": 1569,
    "start_time": "2021-11-14T22:30:59.000Z"
   },
   {
    "duration": 17,
    "start_time": "2021-11-14T22:31:00.571Z"
   },
   {
    "duration": 23,
    "start_time": "2021-11-14T22:31:00.590Z"
   },
   {
    "duration": 119,
    "start_time": "2021-11-14T22:31:00.615Z"
   },
   {
    "duration": 185,
    "start_time": "2021-11-14T22:31:00.737Z"
   },
   {
    "duration": 26,
    "start_time": "2021-11-14T22:31:00.929Z"
   },
   {
    "duration": 36,
    "start_time": "2021-11-14T22:31:00.959Z"
   },
   {
    "duration": 48,
    "start_time": "2021-11-14T22:31:00.997Z"
   },
   {
    "duration": 171,
    "start_time": "2021-11-14T22:31:01.047Z"
   },
   {
    "duration": 17,
    "start_time": "2021-11-14T22:31:01.221Z"
   },
   {
    "duration": 975,
    "start_time": "2021-11-14T22:31:01.240Z"
   },
   {
    "duration": 7,
    "start_time": "2021-11-14T22:31:02.217Z"
   },
   {
    "duration": 205,
    "start_time": "2021-11-14T22:31:02.226Z"
   },
   {
    "duration": 35,
    "start_time": "2021-11-14T22:31:02.434Z"
   },
   {
    "duration": 2557,
    "start_time": "2021-11-14T22:31:02.471Z"
   },
   {
    "duration": 1036,
    "start_time": "2021-11-14T22:31:05.031Z"
   },
   {
    "duration": 8,
    "start_time": "2021-11-14T22:31:06.070Z"
   },
   {
    "duration": 149,
    "start_time": "2021-11-14T22:31:06.081Z"
   },
   {
    "duration": 242,
    "start_time": "2021-11-14T22:31:06.232Z"
   },
   {
    "duration": 3,
    "start_time": "2021-11-14T22:31:06.477Z"
   },
   {
    "duration": 154,
    "start_time": "2021-11-14T22:31:06.483Z"
   },
   {
    "duration": 111866,
    "start_time": "2021-11-14T22:31:06.639Z"
   },
   {
    "duration": 20461,
    "start_time": "2021-11-14T22:54:58.923Z"
   },
   {
    "duration": 3,
    "start_time": "2021-11-14T22:55:19.388Z"
   },
   {
    "duration": 3412,
    "start_time": "2021-11-14T22:55:19.394Z"
   },
   {
    "duration": 22,
    "start_time": "2021-11-14T22:55:22.809Z"
   },
   {
    "duration": 1042,
    "start_time": "2021-11-14T22:55:22.834Z"
   },
   {
    "duration": 24,
    "start_time": "2021-11-14T22:55:23.878Z"
   },
   {
    "duration": 202,
    "start_time": "2021-11-14T22:55:23.904Z"
   },
   {
    "duration": 38,
    "start_time": "2021-11-14T22:55:24.110Z"
   },
   {
    "duration": 18,
    "start_time": "2021-11-14T22:55:24.151Z"
   },
   {
    "duration": 290,
    "start_time": "2021-11-14T22:55:24.171Z"
   },
   {
    "duration": 115,
    "start_time": "2021-11-14T22:55:24.466Z"
   },
   {
    "duration": 125,
    "start_time": "2021-11-14T22:55:24.583Z"
   },
   {
    "duration": 93,
    "start_time": "2021-11-14T22:55:24.711Z"
   },
   {
    "duration": 367,
    "start_time": "2021-11-14T22:55:24.807Z"
   },
   {
    "duration": 40,
    "start_time": "2021-11-14T22:55:25.177Z"
   },
   {
    "duration": 132,
    "start_time": "2021-11-14T22:55:25.219Z"
   },
   {
    "duration": 23,
    "start_time": "2021-11-14T22:55:25.353Z"
   },
   {
    "duration": 1591,
    "start_time": "2021-11-14T22:55:25.379Z"
   },
   {
    "duration": 15,
    "start_time": "2021-11-14T22:55:26.972Z"
   },
   {
    "duration": 13,
    "start_time": "2021-11-14T22:55:26.990Z"
   },
   {
    "duration": 119,
    "start_time": "2021-11-14T22:55:27.005Z"
   },
   {
    "duration": 184,
    "start_time": "2021-11-14T22:55:27.127Z"
   },
   {
    "duration": 14,
    "start_time": "2021-11-14T22:55:27.317Z"
   },
   {
    "duration": 49,
    "start_time": "2021-11-14T22:55:27.334Z"
   },
   {
    "duration": 33,
    "start_time": "2021-11-14T22:55:27.386Z"
   },
   {
    "duration": 175,
    "start_time": "2021-11-14T22:55:27.422Z"
   },
   {
    "duration": 18,
    "start_time": "2021-11-14T22:55:27.599Z"
   },
   {
    "duration": 996,
    "start_time": "2021-11-14T22:55:27.619Z"
   },
   {
    "duration": 7,
    "start_time": "2021-11-14T22:55:28.617Z"
   },
   {
    "duration": 208,
    "start_time": "2021-11-14T22:55:28.626Z"
   },
   {
    "duration": 31,
    "start_time": "2021-11-14T22:55:28.836Z"
   },
   {
    "duration": 2573,
    "start_time": "2021-11-14T22:55:28.870Z"
   },
   {
    "duration": 1031,
    "start_time": "2021-11-14T22:55:31.446Z"
   },
   {
    "duration": 9,
    "start_time": "2021-11-14T22:55:32.480Z"
   },
   {
    "duration": 136,
    "start_time": "2021-11-14T22:55:32.491Z"
   },
   {
    "duration": 237,
    "start_time": "2021-11-14T22:55:32.630Z"
   },
   {
    "duration": 3,
    "start_time": "2021-11-14T22:55:32.870Z"
   },
   {
    "duration": 149,
    "start_time": "2021-11-14T22:55:32.876Z"
   },
   {
    "duration": 113362,
    "start_time": "2021-11-14T22:55:33.027Z"
   },
   {
    "duration": 875760,
    "start_time": "2021-11-14T22:57:26.392Z"
   },
   {
    "duration": 13,
    "start_time": "2021-11-14T23:12:02.154Z"
   },
   {
    "duration": 141807,
    "start_time": "2021-11-14T23:12:02.170Z"
   },
   {
    "duration": 6,
    "start_time": "2021-11-14T23:14:23.979Z"
   },
   {
    "duration": 575107,
    "start_time": "2021-11-14T23:14:23.988Z"
   },
   {
    "duration": 1482864,
    "start_time": "2021-11-14T23:23:59.097Z"
   },
   {
    "duration": 1103,
    "start_time": "2021-11-14T23:48:40.862Z"
   },
   {
    "duration": 4,
    "start_time": "2021-11-14T23:52:04.183Z"
   },
   {
    "duration": 290415,
    "start_time": "2021-11-14T23:52:05.800Z"
   },
   {
    "duration": 2624,
    "start_time": "2021-11-14T23:58:14.189Z"
   },
   {
    "duration": 1610694,
    "start_time": "2021-11-15T00:00:35.178Z"
   },
   {
    "duration": 5,
    "start_time": "2021-11-15T00:27:30.196Z"
   },
   {
    "duration": 4,
    "start_time": "2021-11-15T00:27:39.250Z"
   },
   {
    "duration": 31273,
    "start_time": "2021-11-15T00:27:48.416Z"
   },
   {
    "duration": 4,
    "start_time": "2021-11-15T00:28:37.584Z"
   },
   {
    "duration": 102024,
    "start_time": "2021-11-15T00:29:45.892Z"
   },
   {
    "duration": 802586,
    "start_time": "2021-11-15T00:32:59.602Z"
   },
   {
    "duration": 195805,
    "start_time": "2021-11-15T00:47:45.239Z"
   },
   {
    "duration": 95,
    "start_time": "2021-11-15T01:10:47.644Z"
   },
   {
    "duration": 45439,
    "start_time": "2021-11-15T01:12:11.498Z"
   },
   {
    "duration": 5,
    "start_time": "2021-11-15T01:15:07.168Z"
   },
   {
    "duration": 209025,
    "start_time": "2021-11-15T01:15:10.841Z"
   },
   {
    "duration": 386863,
    "start_time": "2021-11-15T01:19:02.766Z"
   },
   {
    "duration": 6,
    "start_time": "2021-11-15T01:27:19.936Z"
   },
   {
    "duration": 6,
    "start_time": "2021-11-15T01:27:27.894Z"
   },
   {
    "duration": 6,
    "start_time": "2021-11-15T01:27:33.120Z"
   },
   {
    "duration": 276,
    "start_time": "2021-11-15T01:28:14.547Z"
   },
   {
    "duration": 9440,
    "start_time": "2021-11-15T01:28:20.305Z"
   },
   {
    "duration": 595,
    "start_time": "2021-11-15T01:29:30.723Z"
   },
   {
    "duration": 892,
    "start_time": "2021-11-15T01:33:03.795Z"
   },
   {
    "duration": 268,
    "start_time": "2021-11-15T01:33:22.502Z"
   },
   {
    "duration": 6349,
    "start_time": "2021-11-15T01:33:28.360Z"
   },
   {
    "duration": 987,
    "start_time": "2021-11-15T01:35:20.239Z"
   },
   {
    "duration": 1068,
    "start_time": "2021-11-15T01:35:24.728Z"
   },
   {
    "duration": 244,
    "start_time": "2021-11-15T01:36:59.123Z"
   },
   {
    "duration": 135864,
    "start_time": "2021-11-15T01:39:43.275Z"
   },
   {
    "duration": 1346,
    "start_time": "2021-11-15T01:44:33.077Z"
   },
   {
    "duration": 9,
    "start_time": "2021-11-15T01:45:48.854Z"
   },
   {
    "duration": 7,
    "start_time": "2021-11-15T01:45:53.248Z"
   },
   {
    "duration": 19756,
    "start_time": "2021-11-15T01:56:21.465Z"
   },
   {
    "duration": 3379,
    "start_time": "2021-11-15T01:56:41.224Z"
   },
   {
    "duration": 949,
    "start_time": "2021-11-15T01:56:44.607Z"
   },
   {
    "duration": 29,
    "start_time": "2021-11-15T01:56:45.558Z"
   },
   {
    "duration": 204,
    "start_time": "2021-11-15T01:56:45.589Z"
   },
   {
    "duration": 39,
    "start_time": "2021-11-15T01:56:45.796Z"
   },
   {
    "duration": 10,
    "start_time": "2021-11-15T01:56:45.837Z"
   },
   {
    "duration": 293,
    "start_time": "2021-11-15T01:56:45.867Z"
   },
   {
    "duration": 117,
    "start_time": "2021-11-15T01:56:46.163Z"
   },
   {
    "duration": 123,
    "start_time": "2021-11-15T01:56:46.283Z"
   },
   {
    "duration": 95,
    "start_time": "2021-11-15T01:56:46.409Z"
   },
   {
    "duration": 353,
    "start_time": "2021-11-15T01:56:46.507Z"
   },
   {
    "duration": 42,
    "start_time": "2021-11-15T01:56:46.863Z"
   },
   {
    "duration": 142,
    "start_time": "2021-11-15T01:56:46.908Z"
   },
   {
    "duration": 26,
    "start_time": "2021-11-15T01:56:47.053Z"
   },
   {
    "duration": 1633,
    "start_time": "2021-11-15T01:56:47.082Z"
   },
   {
    "duration": 16,
    "start_time": "2021-11-15T01:56:48.717Z"
   },
   {
    "duration": 34,
    "start_time": "2021-11-15T01:56:48.735Z"
   },
   {
    "duration": 103,
    "start_time": "2021-11-15T01:56:48.772Z"
   },
   {
    "duration": 179,
    "start_time": "2021-11-15T01:56:48.877Z"
   },
   {
    "duration": 18,
    "start_time": "2021-11-15T01:56:49.059Z"
   },
   {
    "duration": 27,
    "start_time": "2021-11-15T01:56:49.079Z"
   },
   {
    "duration": 61,
    "start_time": "2021-11-15T01:56:49.112Z"
   },
   {
    "duration": 160,
    "start_time": "2021-11-15T01:56:49.176Z"
   },
   {
    "duration": 17,
    "start_time": "2021-11-15T01:56:49.338Z"
   },
   {
    "duration": 936,
    "start_time": "2021-11-15T01:56:49.357Z"
   },
   {
    "duration": 7,
    "start_time": "2021-11-15T01:56:50.296Z"
   },
   {
    "duration": 206,
    "start_time": "2021-11-15T01:56:50.305Z"
   },
   {
    "duration": 22,
    "start_time": "2021-11-15T01:56:50.514Z"
   },
   {
    "duration": 2535,
    "start_time": "2021-11-15T01:56:50.538Z"
   },
   {
    "duration": 1028,
    "start_time": "2021-11-15T01:56:53.075Z"
   },
   {
    "duration": 8,
    "start_time": "2021-11-15T01:56:54.105Z"
   },
   {
    "duration": 143,
    "start_time": "2021-11-15T01:56:54.116Z"
   },
   {
    "duration": 230,
    "start_time": "2021-11-15T01:56:54.262Z"
   },
   {
    "duration": 4,
    "start_time": "2021-11-15T01:56:54.494Z"
   },
   {
    "duration": 156,
    "start_time": "2021-11-15T01:56:54.500Z"
   },
   {
    "duration": 35927,
    "start_time": "2021-11-15T01:56:54.658Z"
   },
   {
    "duration": 870688,
    "start_time": "2021-11-15T01:57:30.588Z"
   },
   {
    "duration": 5,
    "start_time": "2021-11-15T02:12:01.279Z"
   },
   {
    "duration": 142589,
    "start_time": "2021-11-15T02:12:01.287Z"
   },
   {
    "duration": 4,
    "start_time": "2021-11-15T02:14:23.879Z"
   },
   {
    "duration": 558506,
    "start_time": "2021-11-15T02:14:23.885Z"
   },
   {
    "duration": 2644,
    "start_time": "2021-11-15T02:23:42.393Z"
   },
   {
    "duration": 46804,
    "start_time": "2021-11-15T02:23:45.039Z"
   },
   {
    "duration": 4,
    "start_time": "2021-11-15T02:24:31.845Z"
   },
   {
    "duration": 197193,
    "start_time": "2021-11-15T02:24:31.852Z"
   },
   {
    "duration": 241,
    "start_time": "2021-11-15T02:27:49.048Z"
   },
   {
    "duration": 5,
    "start_time": "2021-11-15T02:27:49.291Z"
   },
   {
    "duration": 381150,
    "start_time": "2021-11-15T02:27:49.298Z"
   },
   {
    "duration": 4,
    "start_time": "2021-11-15T02:34:10.451Z"
   },
   {
    "duration": 1034,
    "start_time": "2021-11-15T02:34:10.458Z"
   },
   {
    "duration": 135147,
    "start_time": "2021-11-15T02:34:11.495Z"
   },
   {
    "duration": 1258,
    "start_time": "2021-11-15T02:36:26.645Z"
   },
   {
    "duration": 7,
    "start_time": "2021-11-15T02:36:27.906Z"
   },
   {
    "duration": 8,
    "start_time": "2021-11-15T02:46:19.377Z"
   },
   {
    "duration": 19499,
    "start_time": "2021-11-15T02:50:55.563Z"
   },
   {
    "duration": 3459,
    "start_time": "2021-11-15T02:51:15.065Z"
   },
   {
    "duration": 942,
    "start_time": "2021-11-15T02:51:18.527Z"
   },
   {
    "duration": 25,
    "start_time": "2021-11-15T02:51:19.472Z"
   },
   {
    "duration": 211,
    "start_time": "2021-11-15T02:51:19.500Z"
   },
   {
    "duration": 38,
    "start_time": "2021-11-15T02:51:19.713Z"
   },
   {
    "duration": 4,
    "start_time": "2021-11-15T02:51:19.767Z"
   },
   {
    "duration": 297,
    "start_time": "2021-11-15T02:51:19.775Z"
   },
   {
    "duration": 125,
    "start_time": "2021-11-15T02:51:20.076Z"
   },
   {
    "duration": 136,
    "start_time": "2021-11-15T02:51:20.204Z"
   },
   {
    "duration": 93,
    "start_time": "2021-11-15T02:51:20.342Z"
   },
   {
    "duration": 351,
    "start_time": "2021-11-15T02:51:20.438Z"
   },
   {
    "duration": 43,
    "start_time": "2021-11-15T02:51:20.791Z"
   },
   {
    "duration": 147,
    "start_time": "2021-11-15T02:51:20.836Z"
   },
   {
    "duration": 18,
    "start_time": "2021-11-15T02:51:20.985Z"
   },
   {
    "duration": 1548,
    "start_time": "2021-11-15T02:51:21.005Z"
   },
   {
    "duration": 15,
    "start_time": "2021-11-15T02:51:22.556Z"
   },
   {
    "duration": 18,
    "start_time": "2021-11-15T02:51:22.573Z"
   },
   {
    "duration": 117,
    "start_time": "2021-11-15T02:51:22.593Z"
   },
   {
    "duration": 175,
    "start_time": "2021-11-15T02:51:22.713Z"
   },
   {
    "duration": 14,
    "start_time": "2021-11-15T02:51:22.891Z"
   },
   {
    "duration": 40,
    "start_time": "2021-11-15T02:51:22.907Z"
   },
   {
    "duration": 33,
    "start_time": "2021-11-15T02:51:22.971Z"
   },
   {
    "duration": 176,
    "start_time": "2021-11-15T02:51:23.007Z"
   },
   {
    "duration": 17,
    "start_time": "2021-11-15T02:51:23.185Z"
   },
   {
    "duration": 964,
    "start_time": "2021-11-15T02:51:23.205Z"
   },
   {
    "duration": 7,
    "start_time": "2021-11-15T02:51:24.171Z"
   },
   {
    "duration": 201,
    "start_time": "2021-11-15T02:51:24.180Z"
   },
   {
    "duration": 22,
    "start_time": "2021-11-15T02:51:24.383Z"
   },
   {
    "duration": 2506,
    "start_time": "2021-11-15T02:51:24.407Z"
   },
   {
    "duration": 1024,
    "start_time": "2021-11-15T02:51:26.915Z"
   },
   {
    "duration": 9,
    "start_time": "2021-11-15T02:51:27.941Z"
   },
   {
    "duration": 141,
    "start_time": "2021-11-15T02:51:27.952Z"
   },
   {
    "duration": 239,
    "start_time": "2021-11-15T02:51:28.095Z"
   },
   {
    "duration": 3,
    "start_time": "2021-11-15T02:51:28.337Z"
   },
   {
    "duration": 158,
    "start_time": "2021-11-15T02:51:28.342Z"
   },
   {
    "duration": 11188,
    "start_time": "2021-11-15T02:51:28.503Z"
   },
   {
    "duration": 874885,
    "start_time": "2021-11-15T02:51:39.694Z"
   },
   {
    "duration": 4,
    "start_time": "2021-11-15T03:06:14.582Z"
   },
   {
    "duration": 143186,
    "start_time": "2021-11-15T03:06:14.588Z"
   },
   {
    "duration": 5,
    "start_time": "2021-11-15T03:08:37.776Z"
   },
   {
    "duration": 571805,
    "start_time": "2021-11-15T03:08:37.783Z"
   },
   {
    "duration": 2630,
    "start_time": "2021-11-15T03:18:09.590Z"
   },
   {
    "duration": 50680,
    "start_time": "2021-11-15T03:18:12.222Z"
   },
   {
    "duration": 809,
    "start_time": "2021-11-15T03:19:02.905Z"
   },
   {
    "duration": 5,
    "start_time": "2021-11-15T03:19:03.716Z"
   },
   {
    "duration": 200154,
    "start_time": "2021-11-15T03:19:03.723Z"
   },
   {
    "duration": 249,
    "start_time": "2021-11-15T03:22:23.879Z"
   },
   {
    "duration": 5,
    "start_time": "2021-11-15T03:22:24.131Z"
   },
   {
    "duration": 400617,
    "start_time": "2021-11-15T03:22:24.138Z"
   },
   {
    "duration": 10,
    "start_time": "2021-11-15T03:29:04.757Z"
   },
   {
    "duration": 1059,
    "start_time": "2021-11-15T03:29:04.770Z"
   },
   {
    "duration": 129135,
    "start_time": "2021-11-15T03:29:05.832Z"
   },
   {
    "duration": 1306,
    "start_time": "2021-11-15T03:31:14.969Z"
   },
   {
    "duration": 7,
    "start_time": "2021-11-15T03:31:16.277Z"
   },
   {
    "duration": 7,
    "start_time": "2021-11-15T03:31:24.258Z"
   }
  ],
  "kernelspec": {
   "display_name": "Python 3",
   "language": "python",
   "name": "python3"
  },
  "language_info": {
   "codemirror_mode": {
    "name": "ipython",
    "version": 3
   },
   "file_extension": ".py",
   "mimetype": "text/x-python",
   "name": "python",
   "nbconvert_exporter": "python",
   "pygments_lexer": "ipython3",
   "version": "3.8.8"
  },
  "toc": {
   "base_numbering": 1,
   "nav_menu": {},
   "number_sections": true,
   "sideBar": true,
   "skip_h1_title": true,
   "title_cell": "Table of Contents",
   "title_sidebar": "Contents",
   "toc_cell": false,
   "toc_position": {},
   "toc_section_display": true,
   "toc_window_display": false
  }
 },
 "nbformat": 4,
 "nbformat_minor": 2
}
