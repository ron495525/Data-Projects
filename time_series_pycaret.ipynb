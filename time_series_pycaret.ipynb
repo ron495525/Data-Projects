{
 "cells": [
  {
   "cell_type": "markdown",
   "metadata": {},
   "source": [
    "# Project description\n",
    "\n",
    "Sweet Lift Taxi company has collected historical data on taxi orders at airports. To attract more drivers during peak hours, we need to predict the amount of taxi orders for the next hour. Build a model for such a prediction.\n",
    "\n",
    "The RMSE metric on the test set should not be more than 48.\n",
    "\n",
    "## Project instructions\n",
    "\n",
    "1. Download the data and resample it by one hour.\n",
    "2. Analyze the data.\n",
    "3. Train different models with different hyperparameters. The test sample should be 10% of the initial dataset. \n",
    "4. Test the data using the test sample and provide a conclusion.\n",
    "\n",
    "## Data description\n",
    "\n",
    "The data is stored in file `taxi.csv`. The number of orders is in the '*num_orders*' column."
   ]
  },
  {
   "cell_type": "markdown",
   "metadata": {},
   "source": [
    "## Preparation"
   ]
  },
  {
   "cell_type": "markdown",
   "metadata": {},
   "source": [
    "Import libraries:"
   ]
  },
  {
   "cell_type": "code",
   "execution_count": 1,
   "metadata": {
    "scrolled": true
   },
   "outputs": [
    {
     "name": "stdout",
     "output_type": "stream",
     "text": [
      "Defaulting to user installation because normal site-packages is not writeable\n",
      "Collecting scikit-learn==0.23\n",
      "  Using cached scikit_learn-0.23.0-cp37-cp37m-manylinux1_x86_64.whl (7.3 MB)\n",
      "Requirement already satisfied, skipping upgrade: scipy>=0.19.1 in /opt/conda/lib/python3.7/site-packages (from scikit-learn==0.23) (1.4.1)\n",
      "Requirement already satisfied, skipping upgrade: numpy>=1.13.3 in /opt/conda/lib/python3.7/site-packages (from scikit-learn==0.23) (1.19.5)\n",
      "Requirement already satisfied, skipping upgrade: joblib>=0.11 in /opt/conda/lib/python3.7/site-packages (from scikit-learn==0.23) (1.0.1)\n",
      "Requirement already satisfied, skipping upgrade: threadpoolctl>=2.0.0 in /home/jovyan/.local/lib/python3.7/site-packages (from scikit-learn==0.23) (3.0.0)\n",
      "Installing collected packages: scikit-learn\n",
      "  Attempting uninstall: scikit-learn\n",
      "    Found existing installation: scikit-learn 0.24.2\n",
      "    Uninstalling scikit-learn-0.24.2:\n",
      "      Successfully uninstalled scikit-learn-0.24.2\n",
      "\u001b[31mERROR: After October 2020 you may experience errors when installing or updating packages. This is because pip will change the way that it resolves dependency conflicts.\n",
      "\n",
      "We recommend you use --use-feature=2020-resolver to test your packages with the new resolver before it becomes the default.\n",
      "\n",
      "sktime 0.8.1 requires scikit-learn>=0.24.0, but you'll have scikit-learn 0.23.0 which is incompatible.\n",
      "sktime 0.8.1 requires statsmodels<=0.12.1, but you'll have statsmodels 0.12.2 which is incompatible.\n",
      "pyldavis 3.3.1 requires numpy>=1.20.0, but you'll have numpy 1.19.5 which is incompatible.\n",
      "pycaret-ts-alpha 3.0.0.dev1636735356 requires scikit-learn~=0.24.2, but you'll have scikit-learn 0.23.0 which is incompatible.\u001b[0m\n",
      "Successfully installed scikit-learn-0.23.0\n"
     ]
    }
   ],
   "source": [
    "!pip install -U scikit-learn==0.23"
   ]
  },
  {
   "cell_type": "code",
   "execution_count": 2,
   "metadata": {},
   "outputs": [
    {
     "name": "stdout",
     "output_type": "stream",
     "text": [
      "Defaulting to user installation because normal site-packages is not writeable\n",
      "Requirement already up-to-date: pandas in /home/jovyan/.local/lib/python3.7/site-packages (1.3.4)\n",
      "Requirement already satisfied, skipping upgrade: pytz>=2017.3 in /opt/conda/lib/python3.7/site-packages (from pandas) (2021.1)\n",
      "Requirement already satisfied, skipping upgrade: python-dateutil>=2.7.3 in /opt/conda/lib/python3.7/site-packages (from pandas) (2.8.1)\n",
      "Requirement already satisfied, skipping upgrade: numpy>=1.17.3; platform_machine != \"aarch64\" and platform_machine != \"arm64\" and python_version < \"3.10\" in /opt/conda/lib/python3.7/site-packages (from pandas) (1.19.5)\n",
      "Requirement already satisfied, skipping upgrade: six>=1.5 in /opt/conda/lib/python3.7/site-packages (from python-dateutil>=2.7.3->pandas) (1.15.0)\n"
     ]
    }
   ],
   "source": [
    "!pip install --upgrade pandas"
   ]
  },
  {
   "cell_type": "code",
   "execution_count": 3,
   "metadata": {},
   "outputs": [],
   "source": [
    "from pycaret.time_series import *"
   ]
  },
  {
   "cell_type": "code",
   "execution_count": 4,
   "metadata": {},
   "outputs": [],
   "source": [
    "#import pandas as pd\n",
    "import numpy as np\n",
    "import matplotlib.pyplot as plt\n",
    "import seaborn as sns\n",
    "import statsmodels\n",
    "\n",
    "#rmse\n",
    "from sklearn.metrics import mean_squared_error\n",
    "from math import sqrt\n",
    "\n",
    "from sklearn.model_selection import train_test_split\n",
    "from sklearn.ensemble import RandomForestRegressor\n",
    "from sklearn.linear_model import LinearRegression\n",
    "from sklearn.model_selection import TimeSeriesSplit\n",
    "from sklearn.metrics import mean_absolute_error, make_scorer, mean_squared_error\n",
    "\n",
    "from statsmodels.tsa.seasonal import seasonal_decompose\n",
    "from statsmodels.graphics.tsaplots import plot_acf\n",
    "from statsmodels.graphics.tsaplots import plot_pacf\n",
    "\n",
    "\n",
    "import logging, sys\n",
    "logging.disable(sys.maxsize)\n",
    "\n",
    "import warnings\n",
    "warnings.filterwarnings(\"ignore\")"
   ]
  },
  {
   "cell_type": "code",
   "execution_count": 5,
   "metadata": {},
   "outputs": [
    {
     "name": "stdout",
     "output_type": "stream",
     "text": [
      "Defaulting to user installation because normal site-packages is not writeable\n",
      "Requirement already satisfied: pycaret-ts-alpha in /home/jovyan/.local/lib/python3.7/site-packages (3.0.0.dev1636735356)\n",
      "Requirement already satisfied: cufflinks>=0.17.0 in /home/jovyan/.local/lib/python3.7/site-packages (from pycaret-ts-alpha) (0.17.3)\n",
      "Requirement already satisfied: imbalanced-learn==0.7.0 in /home/jovyan/.local/lib/python3.7/site-packages (from pycaret-ts-alpha) (0.7.0)\n",
      "Requirement already satisfied: scipy<=1.5.4 in /opt/conda/lib/python3.7/site-packages (from pycaret-ts-alpha) (1.4.1)\n",
      "Requirement already satisfied: sktime>=0.8.0 in /home/jovyan/.local/lib/python3.7/site-packages (from pycaret-ts-alpha) (0.8.1)\n",
      "Requirement already satisfied: ipywidgets in /opt/conda/lib/python3.7/site-packages (from pycaret-ts-alpha) (7.2.0)\n",
      "Requirement already satisfied: scikit-plot in /home/jovyan/.local/lib/python3.7/site-packages (from pycaret-ts-alpha) (0.3.7)\n",
      "Requirement already satisfied: IPython in /opt/conda/lib/python3.7/site-packages (from pycaret-ts-alpha) (7.24.1)\n",
      "Requirement already satisfied: mlxtend>=0.17.0 in /home/jovyan/.local/lib/python3.7/site-packages (from pycaret-ts-alpha) (0.19.0)\n",
      "Requirement already satisfied: pmdarima>=1.8.0 in /home/jovyan/.local/lib/python3.7/site-packages (from pycaret-ts-alpha) (1.8.4)\n",
      "Requirement already satisfied: pyLDAvis in /home/jovyan/.local/lib/python3.7/site-packages (from pycaret-ts-alpha) (3.3.1)\n",
      "Requirement already satisfied: plotly>=5.0.0 in /home/jovyan/.local/lib/python3.7/site-packages (from pycaret-ts-alpha) (5.4.0)\n",
      "Requirement already satisfied: pyod in /opt/conda/lib/python3.7/site-packages (from pycaret-ts-alpha) (0.7.8.2)\n",
      "Requirement already satisfied: joblib in /opt/conda/lib/python3.7/site-packages (from pycaret-ts-alpha) (1.0.1)\n",
      "Requirement already satisfied: spacy<2.4.0 in /opt/conda/lib/python3.7/site-packages (from pycaret-ts-alpha) (2.3.4)\n",
      "Requirement already satisfied: pandas in /home/jovyan/.local/lib/python3.7/site-packages (from pycaret-ts-alpha) (1.3.4)\n",
      "Requirement already satisfied: numba in /opt/conda/lib/python3.7/site-packages (from pycaret-ts-alpha) (0.53.1)\n",
      "Requirement already satisfied: matplotlib in /opt/conda/lib/python3.7/site-packages (from pycaret-ts-alpha) (3.1.0)\n",
      "Requirement already satisfied: numpy==1.19.5 in /opt/conda/lib/python3.7/site-packages (from pycaret-ts-alpha) (1.19.5)\n",
      "Requirement already satisfied: gensim<4.0.0 in /opt/conda/lib/python3.7/site-packages (from pycaret-ts-alpha) (3.8.1)\n",
      "Requirement already satisfied: pyyaml<6.0.0 in /opt/conda/lib/python3.7/site-packages (from pycaret-ts-alpha) (5.4.1)\n",
      "Collecting scikit-learn~=0.24.2\n",
      "  Using cached scikit_learn-0.24.2-cp37-cp37m-manylinux2010_x86_64.whl (22.3 MB)\n",
      "Requirement already satisfied: statsmodels~=0.12.1 in /home/jovyan/.local/lib/python3.7/site-packages (from pycaret-ts-alpha) (0.12.2)\n",
      "Requirement already satisfied: kmodes>=0.10.1 in /home/jovyan/.local/lib/python3.7/site-packages (from pycaret-ts-alpha) (0.11.1)\n",
      "Requirement already satisfied: pandas-profiling>=2.8.0 in /home/jovyan/.local/lib/python3.7/site-packages (from pycaret-ts-alpha) (3.1.0)\n",
      "Requirement already satisfied: nltk in /opt/conda/lib/python3.7/site-packages (from pycaret-ts-alpha) (3.4.1)\n",
      "Requirement already satisfied: wordcloud in /home/jovyan/.local/lib/python3.7/site-packages (from pycaret-ts-alpha) (1.8.1)\n",
      "Requirement already satisfied: lightgbm>=2.3.1 in /opt/conda/lib/python3.7/site-packages (from pycaret-ts-alpha) (2.3.1)\n",
      "Requirement already satisfied: tbats>=1.1.0 in /home/jovyan/.local/lib/python3.7/site-packages (from pycaret-ts-alpha) (1.1.0)\n",
      "Requirement already satisfied: Boruta in /home/jovyan/.local/lib/python3.7/site-packages (from pycaret-ts-alpha) (0.3)\n",
      "Requirement already satisfied: textblob in /home/jovyan/.local/lib/python3.7/site-packages (from pycaret-ts-alpha) (0.17.1)\n",
      "Requirement already satisfied: mlflow in /home/jovyan/.local/lib/python3.7/site-packages (from pycaret-ts-alpha) (1.21.0)\n",
      "Requirement already satisfied: umap-learn in /home/jovyan/.local/lib/python3.7/site-packages (from pycaret-ts-alpha) (0.5.2)\n",
      "Requirement already satisfied: yellowbrick>=1.0.1 in /home/jovyan/.local/lib/python3.7/site-packages (from pycaret-ts-alpha) (1.3.post1)\n",
      "Requirement already satisfied: seaborn in /opt/conda/lib/python3.7/site-packages (from pycaret-ts-alpha) (0.9.0)\n",
      "Requirement already satisfied: six>=1.9.0 in /opt/conda/lib/python3.7/site-packages (from cufflinks>=0.17.0->pycaret-ts-alpha) (1.15.0)\n",
      "Requirement already satisfied: setuptools>=34.4.1 in /opt/conda/lib/python3.7/site-packages (from cufflinks>=0.17.0->pycaret-ts-alpha) (49.6.0.post20210108)\n",
      "Requirement already satisfied: colorlover>=0.2.1 in /home/jovyan/.local/lib/python3.7/site-packages (from cufflinks>=0.17.0->pycaret-ts-alpha) (0.3.0)\n",
      "Requirement already satisfied: wheel in /opt/conda/lib/python3.7/site-packages (from sktime>=0.8.0->pycaret-ts-alpha) (0.35.1)\n",
      "Requirement already satisfied: widgetsnbextension~=3.2.0 in /opt/conda/lib/python3.7/site-packages (from ipywidgets->pycaret-ts-alpha) (3.2.1)\n",
      "Requirement already satisfied: nbformat>=4.2.0 in /opt/conda/lib/python3.7/site-packages (from ipywidgets->pycaret-ts-alpha) (4.4.0)\n",
      "Requirement already satisfied: ipykernel>=4.5.1 in /opt/conda/lib/python3.7/site-packages (from ipywidgets->pycaret-ts-alpha) (5.5.5)\n",
      "Requirement already satisfied: traitlets>=4.3.1 in /opt/conda/lib/python3.7/site-packages (from ipywidgets->pycaret-ts-alpha) (5.0.5)\n",
      "Requirement already satisfied: pygments in /opt/conda/lib/python3.7/site-packages (from IPython->pycaret-ts-alpha) (2.7.2)\n",
      "Requirement already satisfied: backcall in /opt/conda/lib/python3.7/site-packages (from IPython->pycaret-ts-alpha) (0.2.0)\n",
      "Requirement already satisfied: jedi>=0.16 in /opt/conda/lib/python3.7/site-packages (from IPython->pycaret-ts-alpha) (0.17.2)\n",
      "Requirement already satisfied: decorator in /opt/conda/lib/python3.7/site-packages (from IPython->pycaret-ts-alpha) (4.4.2)\n",
      "Requirement already satisfied: pickleshare in /opt/conda/lib/python3.7/site-packages (from IPython->pycaret-ts-alpha) (0.7.5)\n",
      "Requirement already satisfied: matplotlib-inline in /opt/conda/lib/python3.7/site-packages (from IPython->pycaret-ts-alpha) (0.1.2)\n",
      "Requirement already satisfied: prompt-toolkit!=3.0.0,!=3.0.1,<3.1.0,>=2.0.0 in /opt/conda/lib/python3.7/site-packages (from IPython->pycaret-ts-alpha) (3.0.8)\n",
      "Requirement already satisfied: pexpect>4.3; sys_platform != \"win32\" in /opt/conda/lib/python3.7/site-packages (from IPython->pycaret-ts-alpha) (4.8.0)\n",
      "Requirement already satisfied: Cython!=0.29.18,>=0.29 in /home/jovyan/.local/lib/python3.7/site-packages (from pmdarima>=1.8.0->pycaret-ts-alpha) (0.29.24)\n",
      "Requirement already satisfied: urllib3 in /opt/conda/lib/python3.7/site-packages (from pmdarima>=1.8.0->pycaret-ts-alpha) (1.25.11)\n",
      "Requirement already satisfied: funcy in /home/jovyan/.local/lib/python3.7/site-packages (from pyLDAvis->pycaret-ts-alpha) (1.16)\n",
      "Requirement already satisfied: future in /opt/conda/lib/python3.7/site-packages (from pyLDAvis->pycaret-ts-alpha) (0.18.2)\n",
      "Requirement already satisfied: numexpr in /home/jovyan/.local/lib/python3.7/site-packages (from pyLDAvis->pycaret-ts-alpha) (2.7.3)\n",
      "Requirement already satisfied: sklearn in /home/jovyan/.local/lib/python3.7/site-packages (from pyLDAvis->pycaret-ts-alpha) (0.0)\n",
      "Requirement already satisfied: jinja2 in /opt/conda/lib/python3.7/site-packages (from pyLDAvis->pycaret-ts-alpha) (2.11.2)\n",
      "Requirement already satisfied: tenacity>=6.2.0 in /home/jovyan/.local/lib/python3.7/site-packages (from plotly>=5.0.0->pycaret-ts-alpha) (8.0.1)\n",
      "Requirement already satisfied: suod in /opt/conda/lib/python3.7/site-packages (from pyod->pycaret-ts-alpha) (0.0.6)\n",
      "Requirement already satisfied: combo in /opt/conda/lib/python3.7/site-packages (from pyod->pycaret-ts-alpha) (0.1.2)\n",
      "Requirement already satisfied: requests<3.0.0,>=2.13.0 in /home/jovyan/.local/lib/python3.7/site-packages (from spacy<2.4.0->pycaret-ts-alpha) (2.26.0)\n",
      "Requirement already satisfied: murmurhash<1.1.0,>=0.28.0 in /opt/conda/lib/python3.7/site-packages (from spacy<2.4.0->pycaret-ts-alpha) (1.0.5)\n",
      "Requirement already satisfied: blis<0.8.0,>=0.4.0; python_version >= \"3.6\" in /opt/conda/lib/python3.7/site-packages (from spacy<2.4.0->pycaret-ts-alpha) (0.7.4)\n",
      "Requirement already satisfied: tqdm<5.0.0,>=4.38.0 in /opt/conda/lib/python3.7/site-packages (from spacy<2.4.0->pycaret-ts-alpha) (4.51.0)\n",
      "Requirement already satisfied: plac<1.2.0,>=0.9.6 in /opt/conda/lib/python3.7/site-packages (from spacy<2.4.0->pycaret-ts-alpha) (1.1.3)\n",
      "Requirement already satisfied: catalogue<1.1.0,>=0.0.7 in /opt/conda/lib/python3.7/site-packages (from spacy<2.4.0->pycaret-ts-alpha) (1.0.0)\n",
      "Requirement already satisfied: wasabi<1.1.0,>=0.4.0 in /opt/conda/lib/python3.7/site-packages (from spacy<2.4.0->pycaret-ts-alpha) (0.8.2)\n",
      "Requirement already satisfied: srsly<1.1.0,>=1.0.2 in /opt/conda/lib/python3.7/site-packages (from spacy<2.4.0->pycaret-ts-alpha) (1.0.5)\n",
      "Requirement already satisfied: preshed<3.1.0,>=3.0.2 in /opt/conda/lib/python3.7/site-packages (from spacy<2.4.0->pycaret-ts-alpha) (3.0.5)\n",
      "Requirement already satisfied: thinc<7.5.0,>=7.4.1 in /opt/conda/lib/python3.7/site-packages (from spacy<2.4.0->pycaret-ts-alpha) (7.4.5)\n",
      "Requirement already satisfied: cymem<2.1.0,>=2.0.2 in /opt/conda/lib/python3.7/site-packages (from spacy<2.4.0->pycaret-ts-alpha) (2.0.5)\n",
      "Requirement already satisfied: pytz>=2017.3 in /opt/conda/lib/python3.7/site-packages (from pandas->pycaret-ts-alpha) (2021.1)\n",
      "Requirement already satisfied: python-dateutil>=2.7.3 in /opt/conda/lib/python3.7/site-packages (from pandas->pycaret-ts-alpha) (2.8.1)\n",
      "Requirement already satisfied: llvmlite<0.37,>=0.36.0rc1 in /opt/conda/lib/python3.7/site-packages (from numba->pycaret-ts-alpha) (0.36.0)\n",
      "Requirement already satisfied: pyparsing!=2.0.4,!=2.1.2,!=2.1.6,>=2.0.1 in /opt/conda/lib/python3.7/site-packages (from matplotlib->pycaret-ts-alpha) (2.4.7)\n",
      "Requirement already satisfied: kiwisolver>=1.0.1 in /opt/conda/lib/python3.7/site-packages (from matplotlib->pycaret-ts-alpha) (1.3.1)\n",
      "Requirement already satisfied: cycler>=0.10 in /opt/conda/lib/python3.7/site-packages (from matplotlib->pycaret-ts-alpha) (0.10.0)\n",
      "Requirement already satisfied: smart-open>=1.8.1 in /opt/conda/lib/python3.7/site-packages (from gensim<4.0.0->pycaret-ts-alpha) (5.1.0)\n",
      "Requirement already satisfied: threadpoolctl>=2.0.0 in /home/jovyan/.local/lib/python3.7/site-packages (from scikit-learn~=0.24.2->pycaret-ts-alpha) (3.0.0)\n",
      "Requirement already satisfied: patsy>=0.5 in /opt/conda/lib/python3.7/site-packages (from statsmodels~=0.12.1->pycaret-ts-alpha) (0.5.1)\n",
      "Requirement already satisfied: htmlmin>=0.1.12 in /home/jovyan/.local/lib/python3.7/site-packages (from pandas-profiling>=2.8.0->pycaret-ts-alpha) (0.1.12)\n",
      "Requirement already satisfied: missingno>=0.4.2 in /home/jovyan/.local/lib/python3.7/site-packages (from pandas-profiling>=2.8.0->pycaret-ts-alpha) (0.5.0)\n",
      "Requirement already satisfied: multimethod>=1.4 in /home/jovyan/.local/lib/python3.7/site-packages (from pandas-profiling>=2.8.0->pycaret-ts-alpha) (1.6)\n",
      "Requirement already satisfied: pydantic>=1.8.1 in /home/jovyan/.local/lib/python3.7/site-packages (from pandas-profiling>=2.8.0->pycaret-ts-alpha) (1.8.2)\n",
      "Requirement already satisfied: markupsafe~=2.0.1 in /opt/conda/lib/python3.7/site-packages (from pandas-profiling>=2.8.0->pycaret-ts-alpha) (2.0.1)\n",
      "Requirement already satisfied: tangled-up-in-unicode==0.1.0 in /home/jovyan/.local/lib/python3.7/site-packages (from pandas-profiling>=2.8.0->pycaret-ts-alpha) (0.1.0)\n",
      "Requirement already satisfied: visions[type_image_path]==0.7.4 in /home/jovyan/.local/lib/python3.7/site-packages (from pandas-profiling>=2.8.0->pycaret-ts-alpha) (0.7.4)\n",
      "Requirement already satisfied: phik>=0.11.1 in /home/jovyan/.local/lib/python3.7/site-packages (from pandas-profiling>=2.8.0->pycaret-ts-alpha) (0.12.0)\n",
      "Requirement already satisfied: pillow in /opt/conda/lib/python3.7/site-packages (from wordcloud->pycaret-ts-alpha) (7.0.0)\n",
      "Requirement already satisfied: sqlalchemy in /opt/conda/lib/python3.7/site-packages (from mlflow->pycaret-ts-alpha) (1.3.11)\n",
      "Requirement already satisfied: databricks-cli>=0.8.7 in /home/jovyan/.local/lib/python3.7/site-packages (from mlflow->pycaret-ts-alpha) (0.16.2)\n",
      "Requirement already satisfied: packaging in /opt/conda/lib/python3.7/site-packages (from mlflow->pycaret-ts-alpha) (20.4)\n",
      "Requirement already satisfied: importlib-metadata!=4.7.0,>=3.7.0 in /home/jovyan/.local/lib/python3.7/site-packages (from mlflow->pycaret-ts-alpha) (4.8.2)\n",
      "Requirement already satisfied: gunicorn; platform_system != \"Windows\" in /home/jovyan/.local/lib/python3.7/site-packages (from mlflow->pycaret-ts-alpha) (20.1.0)\n",
      "Requirement already satisfied: sqlparse>=0.3.1 in /home/jovyan/.local/lib/python3.7/site-packages (from mlflow->pycaret-ts-alpha) (0.4.2)\n",
      "Requirement already satisfied: querystring-parser in /home/jovyan/.local/lib/python3.7/site-packages (from mlflow->pycaret-ts-alpha) (1.2.4)\n",
      "Requirement already satisfied: protobuf>=3.7.0 in /opt/conda/lib/python3.7/site-packages (from mlflow->pycaret-ts-alpha) (3.17.2)\n",
      "Requirement already satisfied: cloudpickle in /home/jovyan/.local/lib/python3.7/site-packages (from mlflow->pycaret-ts-alpha) (2.0.0)\n",
      "Requirement already satisfied: gitpython>=2.1.0 in /home/jovyan/.local/lib/python3.7/site-packages (from mlflow->pycaret-ts-alpha) (3.1.24)\n",
      "Requirement already satisfied: entrypoints in /opt/conda/lib/python3.7/site-packages (from mlflow->pycaret-ts-alpha) (0.3)\n",
      "Requirement already satisfied: Flask in /home/jovyan/.local/lib/python3.7/site-packages (from mlflow->pycaret-ts-alpha) (2.0.2)\n",
      "Requirement already satisfied: docker>=4.0.0 in /home/jovyan/.local/lib/python3.7/site-packages (from mlflow->pycaret-ts-alpha) (5.0.3)\n",
      "Requirement already satisfied: prometheus-flask-exporter in /home/jovyan/.local/lib/python3.7/site-packages (from mlflow->pycaret-ts-alpha) (0.18.6)\n",
      "Requirement already satisfied: click>=7.0 in /opt/conda/lib/python3.7/site-packages (from mlflow->pycaret-ts-alpha) (8.0.1)\n",
      "Requirement already satisfied: alembic<=1.4.1 in /home/jovyan/.local/lib/python3.7/site-packages (from mlflow->pycaret-ts-alpha) (1.4.1)\n",
      "Requirement already satisfied: pynndescent>=0.5 in /home/jovyan/.local/lib/python3.7/site-packages (from umap-learn->pycaret-ts-alpha) (0.5.5)\n",
      "Requirement already satisfied: notebook>=4.4.1 in /opt/conda/lib/python3.7/site-packages (from widgetsnbextension~=3.2.0->ipywidgets->pycaret-ts-alpha) (6.1.4)\n",
      "Requirement already satisfied: ipython-genutils in /opt/conda/lib/python3.7/site-packages (from nbformat>=4.2.0->ipywidgets->pycaret-ts-alpha) (0.2.0)\n",
      "Requirement already satisfied: jupyter-core in /opt/conda/lib/python3.7/site-packages (from nbformat>=4.2.0->ipywidgets->pycaret-ts-alpha) (4.6.2)\n",
      "Requirement already satisfied: jsonschema!=2.5.0,>=2.4 in /opt/conda/lib/python3.7/site-packages (from nbformat>=4.2.0->ipywidgets->pycaret-ts-alpha) (3.2.0)\n",
      "Requirement already satisfied: jupyter-client in /opt/conda/lib/python3.7/site-packages (from ipykernel>=4.5.1->ipywidgets->pycaret-ts-alpha) (5.3.4)\n",
      "Requirement already satisfied: tornado>=4.2 in /opt/conda/lib/python3.7/site-packages (from ipykernel>=4.5.1->ipywidgets->pycaret-ts-alpha) (6.1)\n",
      "Requirement already satisfied: parso<0.8.0,>=0.7.0 in /opt/conda/lib/python3.7/site-packages (from jedi>=0.16->IPython->pycaret-ts-alpha) (0.7.1)\n",
      "Requirement already satisfied: wcwidth in /opt/conda/lib/python3.7/site-packages (from prompt-toolkit!=3.0.0,!=3.0.1,<3.1.0,>=2.0.0->IPython->pycaret-ts-alpha) (0.2.5)\n",
      "Requirement already satisfied: ptyprocess>=0.5 in /opt/conda/lib/python3.7/site-packages (from pexpect>4.3; sys_platform != \"win32\"->IPython->pycaret-ts-alpha) (0.6.0)\n",
      "Requirement already satisfied: psutil in /opt/conda/lib/python3.7/site-packages (from suod->pyod->pycaret-ts-alpha) (5.8.0)\n",
      "Requirement already satisfied: idna<4,>=2.5; python_version >= \"3\" in /opt/conda/lib/python3.7/site-packages (from requests<3.0.0,>=2.13.0->spacy<2.4.0->pycaret-ts-alpha) (2.8)\n",
      "Requirement already satisfied: certifi>=2017.4.17 in /opt/conda/lib/python3.7/site-packages (from requests<3.0.0,>=2.13.0->spacy<2.4.0->pycaret-ts-alpha) (2021.5.30)\n",
      "Requirement already satisfied: charset-normalizer~=2.0.0; python_version >= \"3\" in /home/jovyan/.local/lib/python3.7/site-packages (from requests<3.0.0,>=2.13.0->spacy<2.4.0->pycaret-ts-alpha) (2.0.8)\n",
      "Requirement already satisfied: typing-extensions>=3.7.4.3 in /home/jovyan/.local/lib/python3.7/site-packages (from pydantic>=1.8.1->pandas-profiling>=2.8.0->pycaret-ts-alpha) (4.0.0)\n",
      "Requirement already satisfied: attrs>=19.3.0 in /home/jovyan/.local/lib/python3.7/site-packages (from visions[type_image_path]==0.7.4->pandas-profiling>=2.8.0->pycaret-ts-alpha) (21.2.0)\n",
      "Requirement already satisfied: networkx>=2.4 in /home/jovyan/.local/lib/python3.7/site-packages (from visions[type_image_path]==0.7.4->pandas-profiling>=2.8.0->pycaret-ts-alpha) (2.6.3)\n",
      "Requirement already satisfied: imagehash; extra == \"type_image_path\" in /home/jovyan/.local/lib/python3.7/site-packages (from visions[type_image_path]==0.7.4->pandas-profiling>=2.8.0->pycaret-ts-alpha) (4.2.1)\n",
      "Requirement already satisfied: tabulate>=0.7.7 in /home/jovyan/.local/lib/python3.7/site-packages (from databricks-cli>=0.8.7->mlflow->pycaret-ts-alpha) (0.8.9)\n",
      "Requirement already satisfied: zipp>=0.5 in /opt/conda/lib/python3.7/site-packages (from importlib-metadata!=4.7.0,>=3.7.0->mlflow->pycaret-ts-alpha) (3.4.0)\n",
      "Requirement already satisfied: gitdb<5,>=4.0.1 in /home/jovyan/.local/lib/python3.7/site-packages (from gitpython>=2.1.0->mlflow->pycaret-ts-alpha) (4.0.9)\n",
      "Requirement already satisfied: Werkzeug>=2.0 in /opt/conda/lib/python3.7/site-packages (from Flask->mlflow->pycaret-ts-alpha) (2.0.1)\n",
      "Requirement already satisfied: itsdangerous>=2.0 in /home/jovyan/.local/lib/python3.7/site-packages (from Flask->mlflow->pycaret-ts-alpha) (2.0.1)\n",
      "Requirement already satisfied: websocket-client>=0.32.0 in /home/jovyan/.local/lib/python3.7/site-packages (from docker>=4.0.0->mlflow->pycaret-ts-alpha) (1.2.1)\n",
      "Requirement already satisfied: prometheus-client in /opt/conda/lib/python3.7/site-packages (from prometheus-flask-exporter->mlflow->pycaret-ts-alpha) (0.8.0)\n",
      "Requirement already satisfied: python-editor>=0.3 in /opt/conda/lib/python3.7/site-packages (from alembic<=1.4.1->mlflow->pycaret-ts-alpha) (1.0.4)\n",
      "Requirement already satisfied: Mako in /opt/conda/lib/python3.7/site-packages (from alembic<=1.4.1->mlflow->pycaret-ts-alpha) (1.1.3)\n",
      "Requirement already satisfied: pyzmq>=17 in /opt/conda/lib/python3.7/site-packages (from notebook>=4.4.1->widgetsnbextension~=3.2.0->ipywidgets->pycaret-ts-alpha) (22.0.3)\n",
      "Requirement already satisfied: terminado>=0.8.3 in /opt/conda/lib/python3.7/site-packages (from notebook>=4.4.1->widgetsnbextension~=3.2.0->ipywidgets->pycaret-ts-alpha) (0.10.0)\n",
      "Requirement already satisfied: Send2Trash in /opt/conda/lib/python3.7/site-packages (from notebook>=4.4.1->widgetsnbextension~=3.2.0->ipywidgets->pycaret-ts-alpha) (1.5.0)\n",
      "Requirement already satisfied: argon2-cffi in /opt/conda/lib/python3.7/site-packages (from notebook>=4.4.1->widgetsnbextension~=3.2.0->ipywidgets->pycaret-ts-alpha) (20.1.0)\n",
      "Requirement already satisfied: nbconvert in /opt/conda/lib/python3.7/site-packages (from notebook>=4.4.1->widgetsnbextension~=3.2.0->ipywidgets->pycaret-ts-alpha) (5.5.0)\n",
      "Requirement already satisfied: pyrsistent>=0.14.0 in /opt/conda/lib/python3.7/site-packages (from jsonschema!=2.5.0,>=2.4->nbformat>=4.2.0->ipywidgets->pycaret-ts-alpha) (0.17.3)\n",
      "Requirement already satisfied: PyWavelets in /home/jovyan/.local/lib/python3.7/site-packages (from imagehash; extra == \"type_image_path\"->visions[type_image_path]==0.7.4->pandas-profiling>=2.8.0->pycaret-ts-alpha) (1.2.0)\n",
      "Requirement already satisfied: smmap<6,>=3.0.1 in /home/jovyan/.local/lib/python3.7/site-packages (from gitdb<5,>=4.0.1->gitpython>=2.1.0->mlflow->pycaret-ts-alpha) (5.0.0)\n",
      "Requirement already satisfied: cffi>=1.0.0 in /opt/conda/lib/python3.7/site-packages (from argon2-cffi->notebook>=4.4.1->widgetsnbextension~=3.2.0->ipywidgets->pycaret-ts-alpha) (1.14.4)\n",
      "Requirement already satisfied: mistune>=0.8.1 in /opt/conda/lib/python3.7/site-packages (from nbconvert->notebook>=4.4.1->widgetsnbextension~=3.2.0->ipywidgets->pycaret-ts-alpha) (0.8.4)\n",
      "Requirement already satisfied: bleach in /opt/conda/lib/python3.7/site-packages (from nbconvert->notebook>=4.4.1->widgetsnbextension~=3.2.0->ipywidgets->pycaret-ts-alpha) (3.2.1)\n",
      "Requirement already satisfied: testpath in /opt/conda/lib/python3.7/site-packages (from nbconvert->notebook>=4.4.1->widgetsnbextension~=3.2.0->ipywidgets->pycaret-ts-alpha) (0.4.4)\n",
      "Requirement already satisfied: pandocfilters>=1.4.1 in /opt/conda/lib/python3.7/site-packages (from nbconvert->notebook>=4.4.1->widgetsnbextension~=3.2.0->ipywidgets->pycaret-ts-alpha) (1.4.2)\n",
      "Requirement already satisfied: defusedxml in /opt/conda/lib/python3.7/site-packages (from nbconvert->notebook>=4.4.1->widgetsnbextension~=3.2.0->ipywidgets->pycaret-ts-alpha) (0.6.0)\n",
      "Requirement already satisfied: pycparser in /opt/conda/lib/python3.7/site-packages (from cffi>=1.0.0->argon2-cffi->notebook>=4.4.1->widgetsnbextension~=3.2.0->ipywidgets->pycaret-ts-alpha) (2.20)\n",
      "Requirement already satisfied: webencodings in /opt/conda/lib/python3.7/site-packages (from bleach->nbconvert->notebook>=4.4.1->widgetsnbextension~=3.2.0->ipywidgets->pycaret-ts-alpha) (0.5.1)\n",
      "Installing collected packages: scikit-learn\n",
      "  Attempting uninstall: scikit-learn\n",
      "    Found existing installation: scikit-learn 0.23.0\n",
      "    Uninstalling scikit-learn-0.23.0:\n",
      "      Successfully uninstalled scikit-learn-0.23.0\n",
      "\u001b[31mERROR: After October 2020 you may experience errors when installing or updating packages. This is because pip will change the way that it resolves dependency conflicts.\n",
      "\n",
      "We recommend you use --use-feature=2020-resolver to test your packages with the new resolver before it becomes the default.\n",
      "\n",
      "sktime 0.8.1 requires statsmodels<=0.12.1, but you'll have statsmodels 0.12.2 which is incompatible.\n",
      "pyldavis 3.3.1 requires numpy>=1.20.0, but you'll have numpy 1.19.5 which is incompatible.\u001b[0m\n",
      "Successfully installed scikit-learn-0.24.2\n"
     ]
    }
   ],
   "source": [
    "!pip install pycaret-ts-alpha"
   ]
  },
  {
   "cell_type": "code",
   "execution_count": 6,
   "metadata": {},
   "outputs": [],
   "source": [
    "#adjust display settings\n",
    "%matplotlib inline\n",
    "plt.rc('figure',figsize=(18,3))\n",
    "plt.rcParams['figure.facecolor'] = 'w'"
   ]
  },
  {
   "cell_type": "markdown",
   "metadata": {},
   "source": [
    "Load the data:"
   ]
  },
  {
   "cell_type": "code",
   "execution_count": 7,
   "metadata": {},
   "outputs": [],
   "source": [
    "df = pd.read_csv('/datasets/taxi.csv', index_col=[0], parse_dates=[0])"
   ]
  },
  {
   "cell_type": "code",
   "execution_count": 8,
   "metadata": {},
   "outputs": [
    {
     "data": {
      "text/html": [
       "<div>\n",
       "<style scoped>\n",
       "    .dataframe tbody tr th:only-of-type {\n",
       "        vertical-align: middle;\n",
       "    }\n",
       "\n",
       "    .dataframe tbody tr th {\n",
       "        vertical-align: top;\n",
       "    }\n",
       "\n",
       "    .dataframe thead th {\n",
       "        text-align: right;\n",
       "    }\n",
       "</style>\n",
       "<table border=\"1\" class=\"dataframe\">\n",
       "  <thead>\n",
       "    <tr style=\"text-align: right;\">\n",
       "      <th></th>\n",
       "      <th>num_orders</th>\n",
       "    </tr>\n",
       "    <tr>\n",
       "      <th>datetime</th>\n",
       "      <th></th>\n",
       "    </tr>\n",
       "  </thead>\n",
       "  <tbody>\n",
       "    <tr>\n",
       "      <th>2018-03-01 00:00:00</th>\n",
       "      <td>9</td>\n",
       "    </tr>\n",
       "    <tr>\n",
       "      <th>2018-03-01 00:10:00</th>\n",
       "      <td>14</td>\n",
       "    </tr>\n",
       "    <tr>\n",
       "      <th>2018-03-01 00:20:00</th>\n",
       "      <td>28</td>\n",
       "    </tr>\n",
       "    <tr>\n",
       "      <th>2018-03-01 00:30:00</th>\n",
       "      <td>20</td>\n",
       "    </tr>\n",
       "    <tr>\n",
       "      <th>2018-03-01 00:40:00</th>\n",
       "      <td>32</td>\n",
       "    </tr>\n",
       "  </tbody>\n",
       "</table>\n",
       "</div>"
      ],
      "text/plain": [
       "                     num_orders\n",
       "datetime                       \n",
       "2018-03-01 00:00:00           9\n",
       "2018-03-01 00:10:00          14\n",
       "2018-03-01 00:20:00          28\n",
       "2018-03-01 00:30:00          20\n",
       "2018-03-01 00:40:00          32"
      ]
     },
     "execution_count": 8,
     "metadata": {},
     "output_type": "execute_result"
    }
   ],
   "source": [
    "df.head()"
   ]
  },
  {
   "cell_type": "code",
   "execution_count": 9,
   "metadata": {},
   "outputs": [
    {
     "data": {
      "text/html": [
       "<div>\n",
       "<style scoped>\n",
       "    .dataframe tbody tr th:only-of-type {\n",
       "        vertical-align: middle;\n",
       "    }\n",
       "\n",
       "    .dataframe tbody tr th {\n",
       "        vertical-align: top;\n",
       "    }\n",
       "\n",
       "    .dataframe thead th {\n",
       "        text-align: right;\n",
       "    }\n",
       "</style>\n",
       "<table border=\"1\" class=\"dataframe\">\n",
       "  <thead>\n",
       "    <tr style=\"text-align: right;\">\n",
       "      <th></th>\n",
       "      <th>num_orders</th>\n",
       "    </tr>\n",
       "    <tr>\n",
       "      <th>datetime</th>\n",
       "      <th></th>\n",
       "    </tr>\n",
       "  </thead>\n",
       "  <tbody>\n",
       "    <tr>\n",
       "      <th>2018-08-31 23:10:00</th>\n",
       "      <td>32</td>\n",
       "    </tr>\n",
       "    <tr>\n",
       "      <th>2018-08-31 23:20:00</th>\n",
       "      <td>24</td>\n",
       "    </tr>\n",
       "    <tr>\n",
       "      <th>2018-08-31 23:30:00</th>\n",
       "      <td>27</td>\n",
       "    </tr>\n",
       "    <tr>\n",
       "      <th>2018-08-31 23:40:00</th>\n",
       "      <td>39</td>\n",
       "    </tr>\n",
       "    <tr>\n",
       "      <th>2018-08-31 23:50:00</th>\n",
       "      <td>53</td>\n",
       "    </tr>\n",
       "  </tbody>\n",
       "</table>\n",
       "</div>"
      ],
      "text/plain": [
       "                     num_orders\n",
       "datetime                       \n",
       "2018-08-31 23:10:00          32\n",
       "2018-08-31 23:20:00          24\n",
       "2018-08-31 23:30:00          27\n",
       "2018-08-31 23:40:00          39\n",
       "2018-08-31 23:50:00          53"
      ]
     },
     "execution_count": 9,
     "metadata": {},
     "output_type": "execute_result"
    }
   ],
   "source": [
    "df.tail()"
   ]
  },
  {
   "cell_type": "markdown",
   "metadata": {},
   "source": [
    "checking the table's structure:"
   ]
  },
  {
   "cell_type": "code",
   "execution_count": 10,
   "metadata": {},
   "outputs": [
    {
     "name": "stdout",
     "output_type": "stream",
     "text": [
      "<class 'pandas.core.frame.DataFrame'>\n",
      "DatetimeIndex: 26496 entries, 2018-03-01 00:00:00 to 2018-08-31 23:50:00\n",
      "Data columns (total 1 columns):\n",
      " #   Column      Non-Null Count  Dtype\n",
      "---  ------      --------------  -----\n",
      " 0   num_orders  26496 non-null  int64\n",
      "dtypes: int64(1)\n",
      "memory usage: 414.0 KB\n"
     ]
    }
   ],
   "source": [
    "df.info()"
   ]
  },
  {
   "cell_type": "markdown",
   "metadata": {},
   "source": [
    "sort data by Datetime index, delete the index name"
   ]
  },
  {
   "cell_type": "code",
   "execution_count": 11,
   "metadata": {},
   "outputs": [],
   "source": [
    "df.sort_index(inplace=True)\n",
    "df.index.name= None"
   ]
  },
  {
   "cell_type": "markdown",
   "metadata": {},
   "source": [
    "Resample the data by 1H and summing each hour since we need to know the amount of orders per hour."
   ]
  },
  {
   "cell_type": "code",
   "execution_count": 12,
   "metadata": {},
   "outputs": [],
   "source": [
    "df = df.resample('1H').sum()"
   ]
  },
  {
   "cell_type": "markdown",
   "metadata": {},
   "source": [
    "## Analysis"
   ]
  },
  {
   "cell_type": "markdown",
   "metadata": {},
   "source": [
    "plotting a simple plot to get an overview of the time series:"
   ]
  },
  {
   "cell_type": "code",
   "execution_count": 13,
   "metadata": {},
   "outputs": [
    {
     "data": {
      "image/png": "[encoded data removed]",
      "text/plain": [
       "<Figure size 1296x216 with 1 Axes>"
      ]
     },
     "metadata": {},
     "output_type": "display_data"
    }
   ],
   "source": [
    "df.plot();"
   ]
  },
  {
   "cell_type": "markdown",
   "metadata": {},
   "source": [
    "#### Description:\n",
    "This plot shows the time series of our data.\n",
    "We see that we have data from march to august."
   ]
  },
  {
   "cell_type": "markdown",
   "metadata": {},
   "source": [
    "decomposing and plotting the data to understand its components"
   ]
  },
  {
   "cell_type": "code",
   "execution_count": 14,
   "metadata": {},
   "outputs": [],
   "source": [
    "decomposed = seasonal_decompose(df)"
   ]
  },
  {
   "cell_type": "code",
   "execution_count": 15,
   "metadata": {},
   "outputs": [
    {
     "data": {
      "image/png": "[encoded data removed]",
      "text/plain": [
       "<Figure size 1296x216 with 1 Axes>"
      ]
     },
     "metadata": {},
     "output_type": "display_data"
    }
   ],
   "source": [
    "decomposed.seasonal.plot();"
   ]
  },
  {
   "cell_type": "markdown",
   "metadata": {},
   "source": [
    "Since we cant understand anything from this plot, we will zoom in into august trying to figure out things more clearly:"
   ]
  },
  {
   "cell_type": "code",
   "execution_count": 16,
   "metadata": {},
   "outputs": [
    {
     "data": {
      "image/png": "[encoded data removed]",
      "text/plain": [
       "<Figure size 1296x216 with 1 Axes>"
      ]
     },
     "metadata": {},
     "output_type": "display_data"
    }
   ],
   "source": [
    "decomposed.seasonal['2018-08-01':'2018-08-31'].plot();"
   ]
  },
  {
   "cell_type": "markdown",
   "metadata": {},
   "source": [
    "Zooming in to 2 day period to understand hourly seasionality as this is what matters in our task:"
   ]
  },
  {
   "cell_type": "code",
   "execution_count": 17,
   "metadata": {},
   "outputs": [
    {
     "data": {
      "image/png": "[encoded data removed]",
      "text/plain": [
       "<Figure size 1296x216 with 1 Axes>"
      ]
     },
     "metadata": {},
     "output_type": "display_data"
    }
   ],
   "source": [
    "decomposed.seasonal['2018-08-30':'2018-08-31'].plot();"
   ]
  },
  {
   "cell_type": "markdown",
   "metadata": {},
   "source": [
    "We can now see our cyclically repeating patterns (seasonality) regarding hourly orders clearer. "
   ]
  },
  {
   "cell_type": "markdown",
   "metadata": {},
   "source": [
    "#### Description:\n",
    "- We can see that we gradually increase our num of orders from around 18:00 until midnight, and then the amount of orders decreases until 06:00."
   ]
  },
  {
   "cell_type": "markdown",
   "metadata": {},
   "source": [
    "creating a copy of the df without new features:"
   ]
  },
  {
   "cell_type": "code",
   "execution_count": 18,
   "metadata": {},
   "outputs": [
    {
     "data": {
      "text/html": [
       "<div>\n",
       "<style scoped>\n",
       "    .dataframe tbody tr th:only-of-type {\n",
       "        vertical-align: middle;\n",
       "    }\n",
       "\n",
       "    .dataframe tbody tr th {\n",
       "        vertical-align: top;\n",
       "    }\n",
       "\n",
       "    .dataframe thead th {\n",
       "        text-align: right;\n",
       "    }\n",
       "</style>\n",
       "<table border=\"1\" class=\"dataframe\">\n",
       "  <thead>\n",
       "    <tr style=\"text-align: right;\">\n",
       "      <th></th>\n",
       "      <th>num_orders</th>\n",
       "    </tr>\n",
       "  </thead>\n",
       "  <tbody>\n",
       "    <tr>\n",
       "      <th>2018-03-01 00:00:00</th>\n",
       "      <td>124</td>\n",
       "    </tr>\n",
       "    <tr>\n",
       "      <th>2018-03-01 01:00:00</th>\n",
       "      <td>85</td>\n",
       "    </tr>\n",
       "    <tr>\n",
       "      <th>2018-03-01 02:00:00</th>\n",
       "      <td>71</td>\n",
       "    </tr>\n",
       "    <tr>\n",
       "      <th>2018-03-01 03:00:00</th>\n",
       "      <td>66</td>\n",
       "    </tr>\n",
       "    <tr>\n",
       "      <th>2018-03-01 04:00:00</th>\n",
       "      <td>43</td>\n",
       "    </tr>\n",
       "  </tbody>\n",
       "</table>\n",
       "</div>"
      ],
      "text/plain": [
       "                     num_orders\n",
       "2018-03-01 00:00:00         124\n",
       "2018-03-01 01:00:00          85\n",
       "2018-03-01 02:00:00          71\n",
       "2018-03-01 03:00:00          66\n",
       "2018-03-01 04:00:00          43"
      ]
     },
     "execution_count": 18,
     "metadata": {},
     "output_type": "execute_result"
    }
   ],
   "source": [
    "df2 = df.copy()\n",
    "df2.head()"
   ]
  },
  {
   "cell_type": "markdown",
   "metadata": {},
   "source": [
    "### Features creation:"
   ]
  },
  {
   "cell_type": "code",
   "execution_count": 19,
   "metadata": {},
   "outputs": [],
   "source": [
    "def make_features(data, max_lag, rolling_mean_size):\n",
    "    data['month'] = data.index.month\n",
    "    data['day'] = data.index.day\n",
    "    data['dayofweek'] = data.index.dayofweek\n",
    "    \n",
    "    for lag in range(1, max_lag + 1):\n",
    "        data['lag_{}'.format(lag)] = data['num_orders'].shift(lag)\n",
    "\n",
    "    data['rolling_mean'] = data['num_orders'].shift().rolling(rolling_mean_size).mean()"
   ]
  },
  {
   "cell_type": "markdown",
   "metadata": {},
   "source": [
    "In order to determine how many lag features to add, we will use the plot_acf function."
   ]
  },
  {
   "cell_type": "code",
   "execution_count": 20,
   "metadata": {},
   "outputs": [
    {
     "data": {
      "image/png": "[encoded data removed]",
      "text/plain": [
       "<Figure size 1296x216 with 1 Axes>"
      ]
     },
     "metadata": {},
     "output_type": "display_data"
    }
   ],
   "source": [
    "plot_acf(df,lags=40);"
   ]
  },
  {
   "cell_type": "markdown",
   "metadata": {},
   "source": [
    "We will start by using 5 lags and rolling mean of 6 hours and adjust it if our RMSE won't satisfy us"
   ]
  },
  {
   "cell_type": "code",
   "execution_count": 21,
   "metadata": {},
   "outputs": [],
   "source": [
    "make_features(df, 8, 6)"
   ]
  },
  {
   "cell_type": "markdown",
   "metadata": {},
   "source": [
    "plotting the rolling mean:"
   ]
  },
  {
   "cell_type": "code",
   "execution_count": 22,
   "metadata": {},
   "outputs": [
    {
     "data": {
      "image/png": "[encoded data removed]",
      "text/plain": [
       "<Figure size 1296x216 with 1 Axes>"
      ]
     },
     "metadata": {},
     "output_type": "display_data"
    }
   ],
   "source": [
    "df['2018-08-29':'2018-08-30'][['num_orders', 'rolling_mean']].plot();"
   ]
  },
  {
   "cell_type": "markdown",
   "metadata": {},
   "source": [
    "Making the data stationary:"
   ]
  },
  {
   "cell_type": "code",
   "execution_count": 23,
   "metadata": {},
   "outputs": [],
   "source": [
    "#df -= df.shift()"
   ]
  },
  {
   "cell_type": "markdown",
   "metadata": {},
   "source": [
    "## Training"
   ]
  },
  {
   "cell_type": "markdown",
   "metadata": {},
   "source": [
    "splitting to train and test sets with test set being 0.1 of the data"
   ]
  },
  {
   "cell_type": "code",
   "execution_count": 24,
   "metadata": {},
   "outputs": [],
   "source": [
    "train, test = train_test_split(df, shuffle=False, test_size=0.1)\n",
    "train2, test2 = train_test_split(df2, shuffle=False, test_size=0.1)"
   ]
  },
  {
   "cell_type": "code",
   "execution_count": 25,
   "metadata": {},
   "outputs": [],
   "source": [
    "train = train.dropna()\n",
    "X_train = train.drop('num_orders',axis=1)\n",
    "y_train = train['num_orders']\n",
    "X_test = test.drop('num_orders', axis=1)\n",
    "y_test = test['num_orders']"
   ]
  },
  {
   "cell_type": "markdown",
   "metadata": {},
   "source": [
    "### PyCaret"
   ]
  },
  {
   "cell_type": "markdown",
   "metadata": {},
   "source": [
    "creating 10% of train set as validation set"
   ]
  },
  {
   "cell_type": "code",
   "execution_count": 26,
   "metadata": {},
   "outputs": [],
   "source": [
    "test_size = 0.1 * len(train2)\n",
    "test_size = int(test_size)"
   ]
  },
  {
   "cell_type": "markdown",
   "metadata": {},
   "source": [
    "setting the forecasting horizon to 1 (1 hour):"
   ]
  },
  {
   "cell_type": "code",
   "execution_count": 27,
   "metadata": {
    "scrolled": true
   },
   "outputs": [
    {
     "data": {
      "text/html": [
       "<style type=\"text/css\">\n",
       "#T_5ceed_row9_col1, #T_5ceed_row12_col1 {\n",
       "  background-color: lightgreen;\n",
       "}\n",
       "</style>\n",
       "<table id=\"T_5ceed_\">\n",
       "  <thead>\n",
       "    <tr>\n",
       "      <th class=\"blank level0\" >&nbsp;</th>\n",
       "      <th class=\"col_heading level0 col0\" >Description</th>\n",
       "      <th class=\"col_heading level0 col1\" >Value</th>\n",
       "    </tr>\n",
       "  </thead>\n",
       "  <tbody>\n",
       "    <tr>\n",
       "      <th id=\"T_5ceed_level0_row0\" class=\"row_heading level0 row0\" >0</th>\n",
       "      <td id=\"T_5ceed_row0_col0\" class=\"data row0 col0\" >session_id</td>\n",
       "      <td id=\"T_5ceed_row0_col1\" class=\"data row0 col1\" >123</td>\n",
       "    </tr>\n",
       "    <tr>\n",
       "      <th id=\"T_5ceed_level0_row1\" class=\"row_heading level0 row1\" >1</th>\n",
       "      <td id=\"T_5ceed_row1_col0\" class=\"data row1 col0\" >Original Data</td>\n",
       "      <td id=\"T_5ceed_row1_col1\" class=\"data row1 col1\" >(3974, 1)</td>\n",
       "    </tr>\n",
       "    <tr>\n",
       "      <th id=\"T_5ceed_level0_row2\" class=\"row_heading level0 row2\" >2</th>\n",
       "      <td id=\"T_5ceed_row2_col0\" class=\"data row2 col0\" >Missing Values</td>\n",
       "      <td id=\"T_5ceed_row2_col1\" class=\"data row2 col1\" >False</td>\n",
       "    </tr>\n",
       "    <tr>\n",
       "      <th id=\"T_5ceed_level0_row3\" class=\"row_heading level0 row3\" >3</th>\n",
       "      <td id=\"T_5ceed_row3_col0\" class=\"data row3 col0\" >Transformed Train Set</td>\n",
       "      <td id=\"T_5ceed_row3_col1\" class=\"data row3 col1\" >(3973,)</td>\n",
       "    </tr>\n",
       "    <tr>\n",
       "      <th id=\"T_5ceed_level0_row4\" class=\"row_heading level0 row4\" >4</th>\n",
       "      <td id=\"T_5ceed_row4_col0\" class=\"data row4 col0\" >Transformed Test Set</td>\n",
       "      <td id=\"T_5ceed_row4_col1\" class=\"data row4 col1\" >(1,)</td>\n",
       "    </tr>\n",
       "    <tr>\n",
       "      <th id=\"T_5ceed_level0_row5\" class=\"row_heading level0 row5\" >5</th>\n",
       "      <td id=\"T_5ceed_row5_col0\" class=\"data row5 col0\" >Fold Generator</td>\n",
       "      <td id=\"T_5ceed_row5_col1\" class=\"data row5 col1\" >ExpandingWindowSplitter</td>\n",
       "    </tr>\n",
       "    <tr>\n",
       "      <th id=\"T_5ceed_level0_row6\" class=\"row_heading level0 row6\" >6</th>\n",
       "      <td id=\"T_5ceed_row6_col0\" class=\"data row6 col0\" >Fold Number</td>\n",
       "      <td id=\"T_5ceed_row6_col1\" class=\"data row6 col1\" >3</td>\n",
       "    </tr>\n",
       "    <tr>\n",
       "      <th id=\"T_5ceed_level0_row7\" class=\"row_heading level0 row7\" >7</th>\n",
       "      <td id=\"T_5ceed_row7_col0\" class=\"data row7 col0\" >Enforce Prediction Interval</td>\n",
       "      <td id=\"T_5ceed_row7_col1\" class=\"data row7 col1\" >False</td>\n",
       "    </tr>\n",
       "    <tr>\n",
       "      <th id=\"T_5ceed_level0_row8\" class=\"row_heading level0 row8\" >8</th>\n",
       "      <td id=\"T_5ceed_row8_col0\" class=\"data row8 col0\" >Seasonal Period Tested</td>\n",
       "      <td id=\"T_5ceed_row8_col1\" class=\"data row8 col1\" >24</td>\n",
       "    </tr>\n",
       "    <tr>\n",
       "      <th id=\"T_5ceed_level0_row9\" class=\"row_heading level0 row9\" >9</th>\n",
       "      <td id=\"T_5ceed_row9_col0\" class=\"data row9 col0\" >Seasonality Detected</td>\n",
       "      <td id=\"T_5ceed_row9_col1\" class=\"data row9 col1\" >True</td>\n",
       "    </tr>\n",
       "    <tr>\n",
       "      <th id=\"T_5ceed_level0_row10\" class=\"row_heading level0 row10\" >10</th>\n",
       "      <td id=\"T_5ceed_row10_col0\" class=\"data row10 col0\" >Target Strictly Positive</td>\n",
       "      <td id=\"T_5ceed_row10_col1\" class=\"data row10 col1\" >False</td>\n",
       "    </tr>\n",
       "    <tr>\n",
       "      <th id=\"T_5ceed_level0_row11\" class=\"row_heading level0 row11\" >11</th>\n",
       "      <td id=\"T_5ceed_row11_col0\" class=\"data row11 col0\" >Target White Noise</td>\n",
       "      <td id=\"T_5ceed_row11_col1\" class=\"data row11 col1\" >No</td>\n",
       "    </tr>\n",
       "    <tr>\n",
       "      <th id=\"T_5ceed_level0_row12\" class=\"row_heading level0 row12\" >12</th>\n",
       "      <td id=\"T_5ceed_row12_col0\" class=\"data row12 col0\" >Recommended d</td>\n",
       "      <td id=\"T_5ceed_row12_col1\" class=\"data row12 col1\" >1</td>\n",
       "    </tr>\n",
       "    <tr>\n",
       "      <th id=\"T_5ceed_level0_row13\" class=\"row_heading level0 row13\" >13</th>\n",
       "      <td id=\"T_5ceed_row13_col0\" class=\"data row13 col0\" >Recommended Seasonal D</td>\n",
       "      <td id=\"T_5ceed_row13_col1\" class=\"data row13 col1\" >0</td>\n",
       "    </tr>\n",
       "    <tr>\n",
       "      <th id=\"T_5ceed_level0_row14\" class=\"row_heading level0 row14\" >14</th>\n",
       "      <td id=\"T_5ceed_row14_col0\" class=\"data row14 col0\" >CPU Jobs</td>\n",
       "      <td id=\"T_5ceed_row14_col1\" class=\"data row14 col1\" >-1</td>\n",
       "    </tr>\n",
       "    <tr>\n",
       "      <th id=\"T_5ceed_level0_row15\" class=\"row_heading level0 row15\" >15</th>\n",
       "      <td id=\"T_5ceed_row15_col0\" class=\"data row15 col0\" >Use GPU</td>\n",
       "      <td id=\"T_5ceed_row15_col1\" class=\"data row15 col1\" >False</td>\n",
       "    </tr>\n",
       "    <tr>\n",
       "      <th id=\"T_5ceed_level0_row16\" class=\"row_heading level0 row16\" >16</th>\n",
       "      <td id=\"T_5ceed_row16_col0\" class=\"data row16 col0\" >Log Experiment</td>\n",
       "      <td id=\"T_5ceed_row16_col1\" class=\"data row16 col1\" >False</td>\n",
       "    </tr>\n",
       "    <tr>\n",
       "      <th id=\"T_5ceed_level0_row17\" class=\"row_heading level0 row17\" >17</th>\n",
       "      <td id=\"T_5ceed_row17_col0\" class=\"data row17 col0\" >Experiment Name</td>\n",
       "      <td id=\"T_5ceed_row17_col1\" class=\"data row17 col1\" >ts-default-name</td>\n",
       "    </tr>\n",
       "    <tr>\n",
       "      <th id=\"T_5ceed_level0_row18\" class=\"row_heading level0 row18\" >18</th>\n",
       "      <td id=\"T_5ceed_row18_col0\" class=\"data row18 col0\" >USI</td>\n",
       "      <td id=\"T_5ceed_row18_col1\" class=\"data row18 col1\" >6eac</td>\n",
       "    </tr>\n",
       "    <tr>\n",
       "      <th id=\"T_5ceed_level0_row19\" class=\"row_heading level0 row19\" >19</th>\n",
       "      <td id=\"T_5ceed_row19_col0\" class=\"data row19 col0\" >Imputation Type</td>\n",
       "      <td id=\"T_5ceed_row19_col1\" class=\"data row19 col1\" >simple</td>\n",
       "    </tr>\n",
       "  </tbody>\n",
       "</table>\n"
      ],
      "text/plain": [
       "<pandas.io.formats.style.Styler at 0x7f045fe66590>"
      ]
     },
     "metadata": {},
     "output_type": "display_data"
    },
    {
     "data": {
      "text/plain": [
       "<pycaret.internal.pycaret_experiment.time_series_experiment.TimeSeriesExperiment at 0x7f045fe92ed0>"
      ]
     },
     "execution_count": 27,
     "metadata": {},
     "output_type": "execute_result"
    }
   ],
   "source": [
    "setup(train2, fh = 1, fold = 3, session_id = 123)"
   ]
  },
  {
   "cell_type": "code",
   "execution_count": 28,
   "metadata": {
    "scrolled": true
   },
   "outputs": [
    {
     "data": {
      "text/html": [
       "<style type=\"text/css\">\n",
       "#T_a3631_ th {\n",
       "  text-align: left;\n",
       "}\n",
       "#T_a3631_row0_col0, #T_a3631_row0_col3, #T_a3631_row1_col0, #T_a3631_row1_col1, #T_a3631_row1_col2, #T_a3631_row1_col4, #T_a3631_row2_col0, #T_a3631_row2_col1, #T_a3631_row2_col2, #T_a3631_row2_col3, #T_a3631_row2_col4, #T_a3631_row3_col0, #T_a3631_row3_col1, #T_a3631_row3_col2, #T_a3631_row3_col3, #T_a3631_row3_col4, #T_a3631_row4_col0, #T_a3631_row4_col1, #T_a3631_row4_col2, #T_a3631_row4_col3, #T_a3631_row4_col4, #T_a3631_row5_col0, #T_a3631_row5_col1, #T_a3631_row5_col2, #T_a3631_row5_col3, #T_a3631_row5_col4, #T_a3631_row6_col0, #T_a3631_row6_col1, #T_a3631_row6_col2, #T_a3631_row6_col3, #T_a3631_row6_col4, #T_a3631_row7_col0, #T_a3631_row7_col1, #T_a3631_row7_col2, #T_a3631_row7_col3, #T_a3631_row7_col4, #T_a3631_row8_col0, #T_a3631_row8_col1, #T_a3631_row8_col2, #T_a3631_row8_col3, #T_a3631_row8_col4, #T_a3631_row9_col0, #T_a3631_row9_col1, #T_a3631_row9_col2, #T_a3631_row9_col3, #T_a3631_row9_col4, #T_a3631_row10_col0, #T_a3631_row10_col1, #T_a3631_row10_col2, #T_a3631_row10_col3, #T_a3631_row10_col4, #T_a3631_row11_col0, #T_a3631_row11_col1, #T_a3631_row11_col2, #T_a3631_row11_col3, #T_a3631_row11_col4, #T_a3631_row12_col0, #T_a3631_row12_col1, #T_a3631_row12_col2, #T_a3631_row12_col3, #T_a3631_row12_col4, #T_a3631_row13_col0, #T_a3631_row13_col1, #T_a3631_row13_col2, #T_a3631_row13_col3, #T_a3631_row13_col4, #T_a3631_row14_col0, #T_a3631_row14_col1, #T_a3631_row14_col2, #T_a3631_row14_col3, #T_a3631_row14_col4, #T_a3631_row15_col0, #T_a3631_row15_col1, #T_a3631_row15_col2, #T_a3631_row15_col3, #T_a3631_row15_col4, #T_a3631_row16_col0, #T_a3631_row16_col1, #T_a3631_row16_col2, #T_a3631_row16_col3, #T_a3631_row16_col4, #T_a3631_row17_col0, #T_a3631_row17_col1, #T_a3631_row17_col2, #T_a3631_row17_col3, #T_a3631_row17_col4, #T_a3631_row18_col0, #T_a3631_row18_col1, #T_a3631_row18_col2, #T_a3631_row18_col3, #T_a3631_row18_col4, #T_a3631_row19_col0, #T_a3631_row19_col1, #T_a3631_row19_col2, #T_a3631_row19_col3, #T_a3631_row19_col4, #T_a3631_row20_col0, #T_a3631_row20_col1, #T_a3631_row20_col2, #T_a3631_row20_col3, #T_a3631_row20_col4, #T_a3631_row21_col0, #T_a3631_row21_col1, #T_a3631_row21_col2, #T_a3631_row21_col3, #T_a3631_row21_col4, #T_a3631_row22_col0, #T_a3631_row22_col1, #T_a3631_row22_col2, #T_a3631_row22_col3, #T_a3631_row22_col4, #T_a3631_row23_col0, #T_a3631_row23_col1, #T_a3631_row23_col2, #T_a3631_row23_col3, #T_a3631_row23_col4 {\n",
       "  text-align: left;\n",
       "}\n",
       "#T_a3631_row0_col1, #T_a3631_row0_col2, #T_a3631_row0_col4, #T_a3631_row1_col3 {\n",
       "  text-align: left;\n",
       "  background-color: yellow;\n",
       "}\n",
       "#T_a3631_row0_col5, #T_a3631_row1_col5, #T_a3631_row2_col5, #T_a3631_row3_col5, #T_a3631_row5_col5, #T_a3631_row6_col5, #T_a3631_row7_col5, #T_a3631_row8_col5, #T_a3631_row10_col5, #T_a3631_row11_col5, #T_a3631_row12_col5, #T_a3631_row13_col5, #T_a3631_row14_col5, #T_a3631_row15_col5, #T_a3631_row16_col5, #T_a3631_row17_col5, #T_a3631_row18_col5, #T_a3631_row19_col5, #T_a3631_row22_col5, #T_a3631_row23_col5 {\n",
       "  text-align: left;\n",
       "  background-color: lightgrey;\n",
       "}\n",
       "#T_a3631_row4_col5, #T_a3631_row9_col5, #T_a3631_row20_col5, #T_a3631_row21_col5 {\n",
       "  text-align: left;\n",
       "  background-color: yellow;\n",
       "  background-color: lightgrey;\n",
       "}\n",
       "</style>\n",
       "<table id=\"T_a3631_\">\n",
       "  <thead>\n",
       "    <tr>\n",
       "      <th class=\"blank level0\" >&nbsp;</th>\n",
       "      <th class=\"col_heading level0 col0\" >Model</th>\n",
       "      <th class=\"col_heading level0 col1\" >MAE</th>\n",
       "      <th class=\"col_heading level0 col2\" >RMSE</th>\n",
       "      <th class=\"col_heading level0 col3\" >MAPE</th>\n",
       "      <th class=\"col_heading level0 col4\" >SMAPE</th>\n",
       "      <th class=\"col_heading level0 col5\" >TT (Sec)</th>\n",
       "    </tr>\n",
       "  </thead>\n",
       "  <tbody>\n",
       "    <tr>\n",
       "      <th id=\"T_a3631_level0_row0\" class=\"row_heading level0 row0\" >exp_smooth</th>\n",
       "      <td id=\"T_a3631_row0_col0\" class=\"data row0 col0\" >Exponential Smoothing</td>\n",
       "      <td id=\"T_a3631_row0_col1\" class=\"data row0 col1\" >19.2898</td>\n",
       "      <td id=\"T_a3631_row0_col2\" class=\"data row0 col2\" >19.2898</td>\n",
       "      <td id=\"T_a3631_row0_col3\" class=\"data row0 col3\" >0.1845</td>\n",
       "      <td id=\"T_a3631_row0_col4\" class=\"data row0 col4\" >0.1611</td>\n",
       "      <td id=\"T_a3631_row0_col5\" class=\"data row0 col5\" >0.6000</td>\n",
       "    </tr>\n",
       "    <tr>\n",
       "      <th id=\"T_a3631_level0_row1\" class=\"row_heading level0 row1\" >knn_cds_dt</th>\n",
       "      <td id=\"T_a3631_row1_col0\" class=\"data row1 col0\" >K Neighbors w/ Cond. Deseasonalize & Detrending</td>\n",
       "      <td id=\"T_a3631_row1_col1\" class=\"data row1 col1\" >22.9627</td>\n",
       "      <td id=\"T_a3631_row1_col2\" class=\"data row1 col2\" >22.9627</td>\n",
       "      <td id=\"T_a3631_row1_col3\" class=\"data row1 col3\" >0.1668</td>\n",
       "      <td id=\"T_a3631_row1_col4\" class=\"data row1 col4\" >0.1805</td>\n",
       "      <td id=\"T_a3631_row1_col5\" class=\"data row1 col5\" >0.0600</td>\n",
       "    </tr>\n",
       "    <tr>\n",
       "      <th id=\"T_a3631_level0_row2\" class=\"row_heading level0 row2\" >omp_cds_dt</th>\n",
       "      <td id=\"T_a3631_row2_col0\" class=\"data row2 col0\" >Orthogonal Matching Pursuit w/ Cond. Deseasonalize & Detrending</td>\n",
       "      <td id=\"T_a3631_row2_col1\" class=\"data row2 col1\" >27.1090</td>\n",
       "      <td id=\"T_a3631_row2_col2\" class=\"data row2 col2\" >27.1090</td>\n",
       "      <td id=\"T_a3631_row2_col3\" class=\"data row2 col3\" >0.2246</td>\n",
       "      <td id=\"T_a3631_row2_col4\" class=\"data row2 col4\" >0.2179</td>\n",
       "      <td id=\"T_a3631_row2_col5\" class=\"data row2 col5\" >0.1633</td>\n",
       "    </tr>\n",
       "    <tr>\n",
       "      <th id=\"T_a3631_level0_row3\" class=\"row_heading level0 row3\" >et_cds_dt</th>\n",
       "      <td id=\"T_a3631_row3_col0\" class=\"data row3 col0\" >Extra Trees w/ Cond. Deseasonalize & Detrending</td>\n",
       "      <td id=\"T_a3631_row3_col1\" class=\"data row3 col1\" >27.6084</td>\n",
       "      <td id=\"T_a3631_row3_col2\" class=\"data row3 col2\" >27.6084</td>\n",
       "      <td id=\"T_a3631_row3_col3\" class=\"data row3 col3\" >0.2162</td>\n",
       "      <td id=\"T_a3631_row3_col4\" class=\"data row3 col4\" >0.2214</td>\n",
       "      <td id=\"T_a3631_row3_col5\" class=\"data row3 col5\" >0.9433</td>\n",
       "    </tr>\n",
       "    <tr>\n",
       "      <th id=\"T_a3631_level0_row4\" class=\"row_heading level0 row4\" >naive</th>\n",
       "      <td id=\"T_a3631_row4_col0\" class=\"data row4 col0\" >Naive Forecaster</td>\n",
       "      <td id=\"T_a3631_row4_col1\" class=\"data row4 col1\" >27.6667</td>\n",
       "      <td id=\"T_a3631_row4_col2\" class=\"data row4 col2\" >27.6667</td>\n",
       "      <td id=\"T_a3631_row4_col3\" class=\"data row4 col3\" >0.2568</td>\n",
       "      <td id=\"T_a3631_row4_col4\" class=\"data row4 col4\" >0.2168</td>\n",
       "      <td id=\"T_a3631_row4_col5\" class=\"data row4 col5\" >0.0067</td>\n",
       "    </tr>\n",
       "    <tr>\n",
       "      <th id=\"T_a3631_level0_row5\" class=\"row_heading level0 row5\" >gbr_cds_dt</th>\n",
       "      <td id=\"T_a3631_row5_col0\" class=\"data row5 col0\" >Gradient Boosting w/ Cond. Deseasonalize & Detrending</td>\n",
       "      <td id=\"T_a3631_row5_col1\" class=\"data row5 col1\" >29.1101</td>\n",
       "      <td id=\"T_a3631_row5_col2\" class=\"data row5 col2\" >29.1101</td>\n",
       "      <td id=\"T_a3631_row5_col3\" class=\"data row5 col3\" >0.2553</td>\n",
       "      <td id=\"T_a3631_row5_col4\" class=\"data row5 col4\" >0.2318</td>\n",
       "      <td id=\"T_a3631_row5_col5\" class=\"data row5 col5\" >1.1667</td>\n",
       "    </tr>\n",
       "    <tr>\n",
       "      <th id=\"T_a3631_level0_row6\" class=\"row_heading level0 row6\" >lightgbm_cds_dt</th>\n",
       "      <td id=\"T_a3631_row6_col0\" class=\"data row6 col0\" >Light Gradient Boosting w/ Cond. Deseasonalize & Detrending</td>\n",
       "      <td id=\"T_a3631_row6_col1\" class=\"data row6 col1\" >29.5162</td>\n",
       "      <td id=\"T_a3631_row6_col2\" class=\"data row6 col2\" >29.5162</td>\n",
       "      <td id=\"T_a3631_row6_col3\" class=\"data row6 col3\" >0.2664</td>\n",
       "      <td id=\"T_a3631_row6_col4\" class=\"data row6 col4\" >0.2360</td>\n",
       "      <td id=\"T_a3631_row6_col5\" class=\"data row6 col5\" >1.1233</td>\n",
       "    </tr>\n",
       "    <tr>\n",
       "      <th id=\"T_a3631_level0_row7\" class=\"row_heading level0 row7\" >ada_cds_dt</th>\n",
       "      <td id=\"T_a3631_row7_col0\" class=\"data row7 col0\" >AdaBoost w/ Cond. Deseasonalize & Detrending</td>\n",
       "      <td id=\"T_a3631_row7_col1\" class=\"data row7 col1\" >29.9371</td>\n",
       "      <td id=\"T_a3631_row7_col2\" class=\"data row7 col2\" >29.9371</td>\n",
       "      <td id=\"T_a3631_row7_col3\" class=\"data row7 col3\" >0.2894</td>\n",
       "      <td id=\"T_a3631_row7_col4\" class=\"data row7 col4\" >0.2280</td>\n",
       "      <td id=\"T_a3631_row7_col5\" class=\"data row7 col5\" >0.3867</td>\n",
       "    </tr>\n",
       "    <tr>\n",
       "      <th id=\"T_a3631_level0_row8\" class=\"row_heading level0 row8\" >rf_cds_dt</th>\n",
       "      <td id=\"T_a3631_row8_col0\" class=\"data row8 col0\" >Random Forest w/ Cond. Deseasonalize & Detrending</td>\n",
       "      <td id=\"T_a3631_row8_col1\" class=\"data row8 col1\" >31.7735</td>\n",
       "      <td id=\"T_a3631_row8_col2\" class=\"data row8 col2\" >31.7735</td>\n",
       "      <td id=\"T_a3631_row8_col3\" class=\"data row8 col3\" >0.2669</td>\n",
       "      <td id=\"T_a3631_row8_col4\" class=\"data row8 col4\" >0.2543</td>\n",
       "      <td id=\"T_a3631_row8_col5\" class=\"data row8 col5\" >2.8367</td>\n",
       "    </tr>\n",
       "    <tr>\n",
       "      <th id=\"T_a3631_level0_row9\" class=\"row_heading level0 row9\" >polytrend</th>\n",
       "      <td id=\"T_a3631_row9_col0\" class=\"data row9 col0\" >Polynomial Trend Forecaster</td>\n",
       "      <td id=\"T_a3631_row9_col1\" class=\"data row9 col1\" >33.1864</td>\n",
       "      <td id=\"T_a3631_row9_col2\" class=\"data row9 col2\" >33.1864</td>\n",
       "      <td id=\"T_a3631_row9_col3\" class=\"data row9 col3\" >0.2437</td>\n",
       "      <td id=\"T_a3631_row9_col4\" class=\"data row9 col4\" >0.2685</td>\n",
       "      <td id=\"T_a3631_row9_col5\" class=\"data row9 col5\" >0.0067</td>\n",
       "    </tr>\n",
       "    <tr>\n",
       "      <th id=\"T_a3631_level0_row10\" class=\"row_heading level0 row10\" >llar_cds_dt</th>\n",
       "      <td id=\"T_a3631_row10_col0\" class=\"data row10 col0\" >Lasso Least Angular Regressor w/ Cond. Deseasonalize & Detrending</td>\n",
       "      <td id=\"T_a3631_row10_col1\" class=\"data row10 col1\" >33.1901</td>\n",
       "      <td id=\"T_a3631_row10_col2\" class=\"data row10 col2\" >33.1901</td>\n",
       "      <td id=\"T_a3631_row10_col3\" class=\"data row10 col3\" >0.2437</td>\n",
       "      <td id=\"T_a3631_row10_col4\" class=\"data row10 col4\" >0.2685</td>\n",
       "      <td id=\"T_a3631_row10_col5\" class=\"data row10 col5\" >0.1633</td>\n",
       "    </tr>\n",
       "    <tr>\n",
       "      <th id=\"T_a3631_level0_row11\" class=\"row_heading level0 row11\" >theta</th>\n",
       "      <td id=\"T_a3631_row11_col0\" class=\"data row11 col0\" >Theta Forecaster</td>\n",
       "      <td id=\"T_a3631_row11_col1\" class=\"data row11 col1\" >34.6816</td>\n",
       "      <td id=\"T_a3631_row11_col2\" class=\"data row11 col2\" >34.6816</td>\n",
       "      <td id=\"T_a3631_row11_col3\" class=\"data row11 col3\" >0.2939</td>\n",
       "      <td id=\"T_a3631_row11_col4\" class=\"data row11 col4\" >0.2778</td>\n",
       "      <td id=\"T_a3631_row11_col5\" class=\"data row11 col5\" >0.0167</td>\n",
       "    </tr>\n",
       "    <tr>\n",
       "      <th id=\"T_a3631_level0_row12\" class=\"row_heading level0 row12\" >huber_cds_dt</th>\n",
       "      <td id=\"T_a3631_row12_col0\" class=\"data row12 col0\" >Huber w/ Cond. Deseasonalize & Detrending</td>\n",
       "      <td id=\"T_a3631_row12_col1\" class=\"data row12 col1\" >35.1424</td>\n",
       "      <td id=\"T_a3631_row12_col2\" class=\"data row12 col2\" >35.1424</td>\n",
       "      <td id=\"T_a3631_row12_col3\" class=\"data row12 col3\" >0.2736</td>\n",
       "      <td id=\"T_a3631_row12_col4\" class=\"data row12 col4\" >0.2892</td>\n",
       "      <td id=\"T_a3631_row12_col5\" class=\"data row12 col5\" >0.5200</td>\n",
       "    </tr>\n",
       "    <tr>\n",
       "      <th id=\"T_a3631_level0_row13\" class=\"row_heading level0 row13\" >lasso_cds_dt</th>\n",
       "      <td id=\"T_a3631_row13_col0\" class=\"data row13 col0\" >Lasso w/ Cond. Deseasonalize & Detrending</td>\n",
       "      <td id=\"T_a3631_row13_col1\" class=\"data row13 col1\" >35.2090</td>\n",
       "      <td id=\"T_a3631_row13_col2\" class=\"data row13 col2\" >35.2090</td>\n",
       "      <td id=\"T_a3631_row13_col3\" class=\"data row13 col3\" >0.2839</td>\n",
       "      <td id=\"T_a3631_row13_col4\" class=\"data row13 col4\" >0.2865</td>\n",
       "      <td id=\"T_a3631_row13_col5\" class=\"data row13 col5\" >0.1867</td>\n",
       "    </tr>\n",
       "    <tr>\n",
       "      <th id=\"T_a3631_level0_row14\" class=\"row_heading level0 row14\" >br_cds_dt</th>\n",
       "      <td id=\"T_a3631_row14_col0\" class=\"data row14 col0\" >Bayesian Ridge w/ Cond. Deseasonalize & Detrending</td>\n",
       "      <td id=\"T_a3631_row14_col1\" class=\"data row14 col1\" >35.2588</td>\n",
       "      <td id=\"T_a3631_row14_col2\" class=\"data row14 col2\" >35.2588</td>\n",
       "      <td id=\"T_a3631_row14_col3\" class=\"data row14 col3\" >0.2845</td>\n",
       "      <td id=\"T_a3631_row14_col4\" class=\"data row14 col4\" >0.2869</td>\n",
       "      <td id=\"T_a3631_row14_col5\" class=\"data row14 col5\" >0.3867</td>\n",
       "    </tr>\n",
       "    <tr>\n",
       "      <th id=\"T_a3631_level0_row15\" class=\"row_heading level0 row15\" >en_cds_dt</th>\n",
       "      <td id=\"T_a3631_row15_col0\" class=\"data row15 col0\" >Elastic Net w/ Cond. Deseasonalize & Detrending</td>\n",
       "      <td id=\"T_a3631_row15_col1\" class=\"data row15 col1\" >35.2954</td>\n",
       "      <td id=\"T_a3631_row15_col2\" class=\"data row15 col2\" >35.2954</td>\n",
       "      <td id=\"T_a3631_row15_col3\" class=\"data row15 col3\" >0.2848</td>\n",
       "      <td id=\"T_a3631_row15_col4\" class=\"data row15 col4\" >0.2873</td>\n",
       "      <td id=\"T_a3631_row15_col5\" class=\"data row15 col5\" >0.1967</td>\n",
       "    </tr>\n",
       "    <tr>\n",
       "      <th id=\"T_a3631_level0_row16\" class=\"row_heading level0 row16\" >lar_cds_dt</th>\n",
       "      <td id=\"T_a3631_row16_col0\" class=\"data row16 col0\" >Least Angular Regressor w/ Cond. Deseasonalize & Detrending</td>\n",
       "      <td id=\"T_a3631_row16_col1\" class=\"data row16 col1\" >35.3943</td>\n",
       "      <td id=\"T_a3631_row16_col2\" class=\"data row16 col2\" >35.3943</td>\n",
       "      <td id=\"T_a3631_row16_col3\" class=\"data row16 col3\" >0.2859</td>\n",
       "      <td id=\"T_a3631_row16_col4\" class=\"data row16 col4\" >0.2881</td>\n",
       "      <td id=\"T_a3631_row16_col5\" class=\"data row16 col5\" >0.1800</td>\n",
       "    </tr>\n",
       "    <tr>\n",
       "      <th id=\"T_a3631_level0_row17\" class=\"row_heading level0 row17\" >lr_cds_dt</th>\n",
       "      <td id=\"T_a3631_row17_col0\" class=\"data row17 col0\" >Linear w/ Cond. Deseasonalize & Detrending</td>\n",
       "      <td id=\"T_a3631_row17_col1\" class=\"data row17 col1\" >35.3943</td>\n",
       "      <td id=\"T_a3631_row17_col2\" class=\"data row17 col2\" >35.3943</td>\n",
       "      <td id=\"T_a3631_row17_col3\" class=\"data row17 col3\" >0.2859</td>\n",
       "      <td id=\"T_a3631_row17_col4\" class=\"data row17 col4\" >0.2881</td>\n",
       "      <td id=\"T_a3631_row17_col5\" class=\"data row17 col5\" >0.1633</td>\n",
       "    </tr>\n",
       "    <tr>\n",
       "      <th id=\"T_a3631_level0_row18\" class=\"row_heading level0 row18\" >ridge_cds_dt</th>\n",
       "      <td id=\"T_a3631_row18_col0\" class=\"data row18 col0\" >Ridge w/ Cond. Deseasonalize & Detrending</td>\n",
       "      <td id=\"T_a3631_row18_col1\" class=\"data row18 col1\" >35.3943</td>\n",
       "      <td id=\"T_a3631_row18_col2\" class=\"data row18 col2\" >35.3943</td>\n",
       "      <td id=\"T_a3631_row18_col3\" class=\"data row18 col3\" >0.2859</td>\n",
       "      <td id=\"T_a3631_row18_col4\" class=\"data row18 col4\" >0.2881</td>\n",
       "      <td id=\"T_a3631_row18_col5\" class=\"data row18 col5\" >0.1633</td>\n",
       "    </tr>\n",
       "    <tr>\n",
       "      <th id=\"T_a3631_level0_row19\" class=\"row_heading level0 row19\" >arima</th>\n",
       "      <td id=\"T_a3631_row19_col0\" class=\"data row19 col0\" >ARIMA</td>\n",
       "      <td id=\"T_a3631_row19_col1\" class=\"data row19 col1\" >46.0935</td>\n",
       "      <td id=\"T_a3631_row19_col2\" class=\"data row19 col2\" >46.0935</td>\n",
       "      <td id=\"T_a3631_row19_col3\" class=\"data row19 col3\" >0.3741</td>\n",
       "      <td id=\"T_a3631_row19_col4\" class=\"data row19 col4\" >0.3780</td>\n",
       "      <td id=\"T_a3631_row19_col5\" class=\"data row19 col5\" >1.3900</td>\n",
       "    </tr>\n",
       "    <tr>\n",
       "      <th id=\"T_a3631_level0_row20\" class=\"row_heading level0 row20\" >snaive</th>\n",
       "      <td id=\"T_a3631_row20_col0\" class=\"data row20 col0\" >Seasonal Naive Forecaster</td>\n",
       "      <td id=\"T_a3631_row20_col1\" class=\"data row20 col1\" >47.3333</td>\n",
       "      <td id=\"T_a3631_row20_col2\" class=\"data row20 col2\" >47.3333</td>\n",
       "      <td id=\"T_a3631_row20_col3\" class=\"data row20 col3\" >0.3607</td>\n",
       "      <td id=\"T_a3631_row20_col4\" class=\"data row20 col4\" >0.4040</td>\n",
       "      <td id=\"T_a3631_row20_col5\" class=\"data row20 col5\" >0.0067</td>\n",
       "    </tr>\n",
       "    <tr>\n",
       "      <th id=\"T_a3631_level0_row21\" class=\"row_heading level0 row21\" >grand_means</th>\n",
       "      <td id=\"T_a3631_row21_col0\" class=\"data row21 col0\" >Grand Means Forecaster</td>\n",
       "      <td id=\"T_a3631_row21_col1\" class=\"data row21 col1\" >52.4073</td>\n",
       "      <td id=\"T_a3631_row21_col2\" class=\"data row21 col2\" >52.4073</td>\n",
       "      <td id=\"T_a3631_row21_col3\" class=\"data row21 col3\" >0.3680</td>\n",
       "      <td id=\"T_a3631_row21_col4\" class=\"data row21 col4\" >0.4722</td>\n",
       "      <td id=\"T_a3631_row21_col5\" class=\"data row21 col5\" >0.0067</td>\n",
       "    </tr>\n",
       "    <tr>\n",
       "      <th id=\"T_a3631_level0_row22\" class=\"row_heading level0 row22\" >dt_cds_dt</th>\n",
       "      <td id=\"T_a3631_row22_col0\" class=\"data row22 col0\" >Decision Tree w/ Cond. Deseasonalize & Detrending</td>\n",
       "      <td id=\"T_a3631_row22_col1\" class=\"data row22 col1\" >56.4706</td>\n",
       "      <td id=\"T_a3631_row22_col2\" class=\"data row22 col2\" >56.4706</td>\n",
       "      <td id=\"T_a3631_row22_col3\" class=\"data row22 col3\" >0.4945</td>\n",
       "      <td id=\"T_a3631_row22_col4\" class=\"data row22 col4\" >0.4305</td>\n",
       "      <td id=\"T_a3631_row22_col5\" class=\"data row22 col5\" >0.1000</td>\n",
       "    </tr>\n",
       "    <tr>\n",
       "      <th id=\"T_a3631_level0_row23\" class=\"row_heading level0 row23\" >par_cds_dt</th>\n",
       "      <td id=\"T_a3631_row23_col0\" class=\"data row23 col0\" >Passive Aggressive w/ Cond. Deseasonalize & Detrending</td>\n",
       "      <td id=\"T_a3631_row23_col1\" class=\"data row23 col1\" >93.0738</td>\n",
       "      <td id=\"T_a3631_row23_col2\" class=\"data row23 col2\" >93.0738</td>\n",
       "      <td id=\"T_a3631_row23_col3\" class=\"data row23 col3\" >0.7240</td>\n",
       "      <td id=\"T_a3631_row23_col4\" class=\"data row23 col4\" >0.8253</td>\n",
       "      <td id=\"T_a3631_row23_col5\" class=\"data row23 col5\" >0.0600</td>\n",
       "    </tr>\n",
       "  </tbody>\n",
       "</table>\n"
      ],
      "text/plain": [
       "<pandas.io.formats.style.Styler at 0x7f045fee0b10>"
      ]
     },
     "metadata": {},
     "output_type": "display_data"
    }
   ],
   "source": [
    "best = compare_models(sort='RMSE',exclude=['auto_arima'])"
   ]
  },
  {
   "cell_type": "markdown",
   "metadata": {},
   "source": [
    "We continue with Exponential Smoothing as this is the best performing model regarding RMSE"
   ]
  },
  {
   "cell_type": "markdown",
   "metadata": {},
   "source": [
    "finalzing ( fitting on entire train set)"
   ]
  },
  {
   "cell_type": "code",
   "execution_count": 29,
   "metadata": {
    "scrolled": true
   },
   "outputs": [
    {
     "name": "stdout",
     "output_type": "stream",
     "text": [
      "CPU times: user 3.08 s, sys: 0 ns, total: 3.08 s\n",
      "Wall time: 3.1 s\n"
     ]
    }
   ],
   "source": [
    "%%time\n",
    "final_exp_smooth = finalize_model(best);"
   ]
  },
  {
   "cell_type": "code",
   "execution_count": null,
   "metadata": {},
   "outputs": [],
   "source": []
  },
  {
   "cell_type": "markdown",
   "metadata": {},
   "source": [
    "## Testing"
   ]
  },
  {
   "cell_type": "markdown",
   "metadata": {},
   "source": [
    "predicting the next hour from the last value of the train set ( predicting the first value of the test set)"
   ]
  },
  {
   "cell_type": "code",
   "execution_count": 30,
   "metadata": {},
   "outputs": [],
   "source": [
    "predict_1h = predict_model(final_exp_smooth).values"
   ]
  },
  {
   "cell_type": "markdown",
   "metadata": {},
   "source": [
    "training RMSE for 1H prediction: (prediction from the last hour of training to real value (first value of test set))"
   ]
  },
  {
   "cell_type": "code",
   "execution_count": 31,
   "metadata": {},
   "outputs": [
    {
     "name": "stdout",
     "output_type": "stream",
     "text": [
      "RMSE of prediction of an hour from the test set: 13.939899999999994\n"
     ]
    }
   ],
   "source": [
    "print('RMSE of prediction of an hour from the test set: {}'.format(np.sqrt(mean_squared_error(test2.iloc[0], predict_1h))))"
   ]
  },
  {
   "cell_type": "markdown",
   "metadata": {},
   "source": [
    "Lets try to predict an entire day of the test set and see what RMSE we get:"
   ]
  },
  {
   "cell_type": "code",
   "execution_count": 32,
   "metadata": {},
   "outputs": [],
   "source": [
    "predict_24h= predict_model(final_exp_smooth, fh=24).values"
   ]
  },
  {
   "cell_type": "code",
   "execution_count": 33,
   "metadata": {
    "scrolled": true
   },
   "outputs": [
    {
     "name": "stdout",
     "output_type": "stream",
     "text": [
      "RMSE of prediction of 24 hours from the test set: 38.14058898094435\n"
     ]
    }
   ],
   "source": [
    "print('RMSE of prediction of 24 hours from the test set: {}'.format(np.sqrt(mean_squared_error(test2.iloc[0:24], predict_24h))))"
   ]
  },
  {
   "cell_type": "markdown",
   "metadata": {},
   "source": [
    "Forecasting the entire test set:"
   ]
  },
  {
   "cell_type": "code",
   "execution_count": 34,
   "metadata": {},
   "outputs": [
    {
     "data": {
      "text/plain": [
       "ExponentialSmoothing(damped_trend=False, initial_level=None,\n",
       "                     initial_seasonal=None, initial_trend=None,\n",
       "                     initialization_method='estimated', seasonal='add', sp=24,\n",
       "                     trend='add', use_boxcox=None)"
      ]
     },
     "execution_count": 34,
     "metadata": {},
     "output_type": "execute_result"
    }
   ],
   "source": [
    "final_exp_smooth"
   ]
  },
  {
   "cell_type": "code",
   "execution_count": 35,
   "metadata": {},
   "outputs": [],
   "source": [
    "predict_test= predict_model(final_exp_smooth, fh=len(test2)).values"
   ]
  },
  {
   "cell_type": "code",
   "execution_count": 36,
   "metadata": {},
   "outputs": [
    {
     "name": "stdout",
     "output_type": "stream",
     "text": [
      "RMSE of prediction of an entire day from the test set: 40.44866194209917\n"
     ]
    }
   ],
   "source": [
    "print('RMSE of prediction of an entire day from the test set: {}'.format(np.sqrt(mean_squared_error(test2.values, predict_test))))"
   ]
  },
  {
   "cell_type": "code",
   "execution_count": 38,
   "metadata": {},
   "outputs": [
    {
     "data": {
      "image/png": "[encoded data removed]",
      "text/plain": [
       "<Figure size 1296x216 with 1 Axes>"
      ]
     },
     "metadata": {},
     "output_type": "display_data"
    }
   ],
   "source": [
    "test2['forecast'] = predict_test\n",
    "test2.plot();"
   ]
  },
  {
   "cell_type": "markdown",
   "metadata": {},
   "source": [
    "### Conclusions:"
   ]
  },
  {
   "cell_type": "markdown",
   "metadata": {},
   "source": [
    "- We managed to achieve RMSE of 40.4 for predicting the entire test set."
   ]
  },
  {
   "cell_type": "markdown",
   "metadata": {},
   "source": [
    "- Our used and best performing model is Exponential Smoothing\n"
   ]
  }
 ],
 "metadata": {
  "ExecuteTimeLog": [
   {
    "duration": 1609,
    "start_time": "2021-11-27T12:59:16.399Z"
   },
   {
    "duration": 431,
    "start_time": "2021-11-27T12:59:33.565Z"
   },
   {
    "duration": 358,
    "start_time": "2021-11-27T12:59:59.689Z"
   },
   {
    "duration": 4,
    "start_time": "2021-11-27T13:01:31.291Z"
   },
   {
    "duration": 32,
    "start_time": "2021-11-27T13:03:55.847Z"
   },
   {
    "duration": 11,
    "start_time": "2021-11-27T13:04:02.795Z"
   },
   {
    "duration": 37,
    "start_time": "2021-11-27T13:04:35.483Z"
   },
   {
    "duration": 7,
    "start_time": "2021-11-27T13:04:38.001Z"
   },
   {
    "duration": 6,
    "start_time": "2021-11-27T13:05:10.653Z"
   },
   {
    "duration": 4,
    "start_time": "2021-11-27T13:05:23.549Z"
   },
   {
    "duration": 3,
    "start_time": "2021-11-27T13:06:40.030Z"
   },
   {
    "duration": 6,
    "start_time": "2021-11-27T13:06:45.901Z"
   },
   {
    "duration": 8,
    "start_time": "2021-11-27T13:07:21.216Z"
   },
   {
    "duration": 6,
    "start_time": "2021-11-27T13:09:42.337Z"
   },
   {
    "duration": 9,
    "start_time": "2021-11-27T13:10:11.201Z"
   },
   {
    "duration": 7,
    "start_time": "2021-11-27T13:10:15.767Z"
   },
   {
    "duration": 11,
    "start_time": "2021-11-27T13:11:46.227Z"
   },
   {
    "duration": 4,
    "start_time": "2021-11-27T13:13:52.147Z"
   },
   {
    "duration": 9,
    "start_time": "2021-11-27T13:15:24.588Z"
   },
   {
    "duration": 8,
    "start_time": "2021-11-27T13:15:28.453Z"
   },
   {
    "duration": 271,
    "start_time": "2021-11-27T13:18:24.599Z"
   },
   {
    "duration": 157,
    "start_time": "2021-11-27T13:19:37.162Z"
   },
   {
    "duration": 311,
    "start_time": "2021-11-27T13:19:40.160Z"
   },
   {
    "duration": 7,
    "start_time": "2021-11-27T13:20:33.962Z"
   },
   {
    "duration": 73,
    "start_time": "2021-11-27T13:24:08.300Z"
   },
   {
    "duration": 6,
    "start_time": "2021-11-27T13:25:00.272Z"
   },
   {
    "duration": 308,
    "start_time": "2021-11-27T13:25:15.423Z"
   },
   {
    "duration": 8,
    "start_time": "2021-11-27T13:26:10.305Z"
   },
   {
    "duration": 361,
    "start_time": "2021-11-27T13:26:18.644Z"
   },
   {
    "duration": 11,
    "start_time": "2021-11-27T13:26:47.807Z"
   },
   {
    "duration": 279,
    "start_time": "2021-11-27T13:26:54.671Z"
   },
   {
    "duration": 305,
    "start_time": "2021-11-27T13:27:45.137Z"
   },
   {
    "duration": 338,
    "start_time": "2021-11-27T13:27:52.385Z"
   },
   {
    "duration": 1092,
    "start_time": "2021-11-27T13:31:47.917Z"
   },
   {
    "duration": 262,
    "start_time": "2021-11-27T13:32:22.097Z"
   },
   {
    "duration": 25457,
    "start_time": "2021-11-27T13:32:25.924Z"
   },
   {
    "duration": 301,
    "start_time": "2021-11-27T13:39:24.538Z"
   },
   {
    "duration": 219,
    "start_time": "2021-11-27T13:39:44.848Z"
   },
   {
    "duration": 198,
    "start_time": "2021-11-27T13:39:56.267Z"
   },
   {
    "duration": 304,
    "start_time": "2021-11-27T13:40:03.354Z"
   },
   {
    "duration": 203,
    "start_time": "2021-11-27T13:40:16.970Z"
   },
   {
    "duration": 204,
    "start_time": "2021-11-27T13:40:30.170Z"
   },
   {
    "duration": 193,
    "start_time": "2021-11-27T13:40:35.130Z"
   },
   {
    "duration": 184,
    "start_time": "2021-11-27T13:40:51.275Z"
   },
   {
    "duration": 284,
    "start_time": "2021-11-27T13:40:59.203Z"
   },
   {
    "duration": 266,
    "start_time": "2021-11-27T13:41:34.026Z"
   },
   {
    "duration": 302,
    "start_time": "2021-11-27T13:41:40.890Z"
   },
   {
    "duration": 209,
    "start_time": "2021-11-27T13:42:20.860Z"
   },
   {
    "duration": 208,
    "start_time": "2021-11-27T13:42:39.213Z"
   },
   {
    "duration": 213,
    "start_time": "2021-11-27T13:42:58.796Z"
   },
   {
    "duration": 200,
    "start_time": "2021-11-27T13:43:11.116Z"
   },
   {
    "duration": 234,
    "start_time": "2021-11-27T13:43:25.948Z"
   },
   {
    "duration": 203,
    "start_time": "2021-11-27T13:46:13.239Z"
   },
   {
    "duration": 204,
    "start_time": "2021-11-27T13:47:23.233Z"
   },
   {
    "duration": 211,
    "start_time": "2021-11-27T13:47:36.016Z"
   },
   {
    "duration": 208,
    "start_time": "2021-11-27T13:47:47.168Z"
   },
   {
    "duration": 243,
    "start_time": "2021-11-27T13:47:50.993Z"
   },
   {
    "duration": 211,
    "start_time": "2021-11-27T13:48:40.289Z"
   },
   {
    "duration": 203,
    "start_time": "2021-11-27T13:49:36.979Z"
   },
   {
    "duration": 213,
    "start_time": "2021-11-27T13:50:10.562Z"
   },
   {
    "duration": 210,
    "start_time": "2021-11-27T13:52:14.613Z"
   },
   {
    "duration": 206,
    "start_time": "2021-11-27T13:52:22.494Z"
   },
   {
    "duration": 4,
    "start_time": "2021-11-27T13:55:46.951Z"
   },
   {
    "duration": 369,
    "start_time": "2021-11-27T13:57:51.673Z"
   },
   {
    "duration": 151,
    "start_time": "2021-11-27T13:57:57.017Z"
   },
   {
    "duration": 348,
    "start_time": "2021-11-27T13:58:11.994Z"
   },
   {
    "duration": 324,
    "start_time": "2021-11-27T13:59:00.812Z"
   },
   {
    "duration": 506,
    "start_time": "2021-11-27T13:59:25.371Z"
   },
   {
    "duration": 303,
    "start_time": "2021-11-27T13:59:33.257Z"
   },
   {
    "duration": 329,
    "start_time": "2021-11-27T13:59:37.225Z"
   },
   {
    "duration": 4,
    "start_time": "2021-11-27T14:12:43.757Z"
   },
   {
    "duration": 408,
    "start_time": "2021-11-27T14:12:49.461Z"
   },
   {
    "duration": 302,
    "start_time": "2021-11-27T14:13:25.925Z"
   },
   {
    "duration": 345,
    "start_time": "2021-11-27T14:14:06.200Z"
   },
   {
    "duration": 3,
    "start_time": "2021-11-27T14:16:11.976Z"
   },
   {
    "duration": 12,
    "start_time": "2021-11-27T14:16:13.655Z"
   },
   {
    "duration": 13,
    "start_time": "2021-11-27T14:16:17.399Z"
   },
   {
    "duration": 13,
    "start_time": "2021-11-27T14:16:23.769Z"
   },
   {
    "duration": 214,
    "start_time": "2021-11-27T14:17:20.425Z"
   },
   {
    "duration": 223,
    "start_time": "2021-11-27T14:17:22.583Z"
   },
   {
    "duration": 227,
    "start_time": "2021-11-27T14:17:48.921Z"
   },
   {
    "duration": 355,
    "start_time": "2021-11-27T14:23:16.525Z"
   },
   {
    "duration": 5,
    "start_time": "2021-11-27T14:23:21.392Z"
   },
   {
    "duration": 9,
    "start_time": "2021-11-27T14:24:19.456Z"
   },
   {
    "duration": 360,
    "start_time": "2021-11-27T14:33:15.110Z"
   },
   {
    "duration": 15,
    "start_time": "2021-11-27T14:33:24.150Z"
   },
   {
    "duration": 4,
    "start_time": "2021-11-27T14:33:25.990Z"
   },
   {
    "duration": 17,
    "start_time": "2021-11-27T14:34:30.200Z"
   },
   {
    "duration": 4,
    "start_time": "2021-11-27T14:34:43.416Z"
   },
   {
    "duration": 6,
    "start_time": "2021-11-27T14:35:08.760Z"
   },
   {
    "duration": 5,
    "start_time": "2021-11-27T14:36:22.380Z"
   },
   {
    "duration": 1278,
    "start_time": "2021-11-27T14:39:26.085Z"
   },
   {
    "duration": 7,
    "start_time": "2021-11-27T14:39:27.364Z"
   },
   {
    "duration": 46,
    "start_time": "2021-11-27T14:39:27.373Z"
   },
   {
    "duration": 11,
    "start_time": "2021-11-27T14:39:27.421Z"
   },
   {
    "duration": 13,
    "start_time": "2021-11-27T14:39:27.433Z"
   },
   {
    "duration": 14,
    "start_time": "2021-11-27T14:39:27.448Z"
   },
   {
    "duration": 11,
    "start_time": "2021-11-27T14:39:27.464Z"
   },
   {
    "duration": 19,
    "start_time": "2021-11-27T14:39:27.477Z"
   },
   {
    "duration": 389,
    "start_time": "2021-11-27T14:39:27.499Z"
   },
   {
    "duration": 20,
    "start_time": "2021-11-27T14:39:27.890Z"
   },
   {
    "duration": 479,
    "start_time": "2021-11-27T14:39:27.911Z"
   },
   {
    "duration": 356,
    "start_time": "2021-11-27T14:39:28.392Z"
   },
   {
    "duration": 249,
    "start_time": "2021-11-27T14:39:28.752Z"
   },
   {
    "duration": 6,
    "start_time": "2021-11-27T14:39:29.006Z"
   },
   {
    "duration": 17,
    "start_time": "2021-11-27T14:39:29.014Z"
   },
   {
    "duration": 229,
    "start_time": "2021-11-27T14:39:29.033Z"
   },
   {
    "duration": 12,
    "start_time": "2021-11-27T14:39:29.264Z"
   },
   {
    "duration": 276,
    "start_time": "2021-11-27T14:39:29.277Z"
   },
   {
    "duration": 5,
    "start_time": "2021-11-27T14:39:29.555Z"
   },
   {
    "duration": 8,
    "start_time": "2021-11-27T14:39:29.562Z"
   },
   {
    "duration": 137,
    "start_time": "2021-11-27T14:39:29.572Z"
   },
   {
    "duration": 6,
    "start_time": "2021-11-27T14:39:29.711Z"
   },
   {
    "duration": 801,
    "start_time": "2021-11-27T14:39:39.770Z"
   },
   {
    "duration": 5,
    "start_time": "2021-11-27T14:40:11.786Z"
   },
   {
    "duration": 1258,
    "start_time": "2021-11-27T14:40:29.513Z"
   },
   {
    "duration": 6,
    "start_time": "2021-11-27T14:40:30.773Z"
   },
   {
    "duration": 52,
    "start_time": "2021-11-27T14:40:30.781Z"
   },
   {
    "duration": 25,
    "start_time": "2021-11-27T14:40:30.835Z"
   },
   {
    "duration": 11,
    "start_time": "2021-11-27T14:40:30.862Z"
   },
   {
    "duration": 28,
    "start_time": "2021-11-27T14:40:30.874Z"
   },
   {
    "duration": 11,
    "start_time": "2021-11-27T14:40:30.904Z"
   },
   {
    "duration": 30,
    "start_time": "2021-11-27T14:40:30.917Z"
   },
   {
    "duration": 530,
    "start_time": "2021-11-27T14:40:30.950Z"
   },
   {
    "duration": 24,
    "start_time": "2021-11-27T14:40:31.482Z"
   },
   {
    "duration": 687,
    "start_time": "2021-11-27T14:40:31.509Z"
   },
   {
    "duration": 508,
    "start_time": "2021-11-27T14:40:32.198Z"
   },
   {
    "duration": 351,
    "start_time": "2021-11-27T14:40:32.709Z"
   },
   {
    "duration": 5,
    "start_time": "2021-11-27T14:40:33.062Z"
   },
   {
    "duration": 476,
    "start_time": "2021-11-27T14:40:33.069Z"
   },
   {
    "duration": 15,
    "start_time": "2021-11-27T14:40:33.547Z"
   },
   {
    "duration": 378,
    "start_time": "2021-11-27T14:40:33.564Z"
   },
   {
    "duration": 7,
    "start_time": "2021-11-27T14:40:33.944Z"
   },
   {
    "duration": 12,
    "start_time": "2021-11-27T14:40:33.953Z"
   },
   {
    "duration": 44,
    "start_time": "2021-11-27T14:40:33.967Z"
   },
   {
    "duration": 94,
    "start_time": "2021-11-27T14:40:34.015Z"
   },
   {
    "duration": 5,
    "start_time": "2021-11-27T14:40:48.448Z"
   },
   {
    "duration": 3,
    "start_time": "2021-11-27T14:43:21.823Z"
   },
   {
    "duration": 3,
    "start_time": "2021-11-27T14:43:57.362Z"
   },
   {
    "duration": 4,
    "start_time": "2021-11-27T14:44:04.240Z"
   },
   {
    "duration": 458,
    "start_time": "2021-11-27T14:44:09.632Z"
   },
   {
    "duration": 798,
    "start_time": "2021-11-27T14:44:19.922Z"
   },
   {
    "duration": 3,
    "start_time": "2021-11-27T14:44:39.858Z"
   },
   {
    "duration": 709,
    "start_time": "2021-11-27T14:44:40.674Z"
   },
   {
    "duration": 938,
    "start_time": "2021-11-27T14:44:50.033Z"
   },
   {
    "duration": 196,
    "start_time": "2021-11-27T14:45:25.650Z"
   },
   {
    "duration": 226,
    "start_time": "2021-11-27T14:45:42.354Z"
   },
   {
    "duration": 74,
    "start_time": "2021-11-27T14:45:58.676Z"
   },
   {
    "duration": 57,
    "start_time": "2021-11-27T14:46:01.346Z"
   },
   {
    "duration": 202,
    "start_time": "2021-11-27T14:46:04.340Z"
   },
   {
    "duration": 203,
    "start_time": "2021-11-27T14:47:23.460Z"
   },
   {
    "duration": 208,
    "start_time": "2021-11-27T14:49:12.054Z"
   },
   {
    "duration": 202,
    "start_time": "2021-11-27T14:49:13.990Z"
   },
   {
    "duration": 202,
    "start_time": "2021-11-27T14:49:15.078Z"
   },
   {
    "duration": 5,
    "start_time": "2021-11-27T14:49:18.502Z"
   },
   {
    "duration": 16,
    "start_time": "2021-11-27T14:49:23.766Z"
   },
   {
    "duration": 5,
    "start_time": "2021-11-27T14:49:24.614Z"
   },
   {
    "duration": 4,
    "start_time": "2021-11-27T14:49:25.846Z"
   },
   {
    "duration": 195,
    "start_time": "2021-11-27T14:49:30.630Z"
   },
   {
    "duration": 194,
    "start_time": "2021-11-27T14:49:31.478Z"
   },
   {
    "duration": 190,
    "start_time": "2021-11-27T14:49:32.390Z"
   },
   {
    "duration": 193,
    "start_time": "2021-11-27T14:49:38.518Z"
   },
   {
    "duration": 191,
    "start_time": "2021-11-27T14:49:39.574Z"
   },
   {
    "duration": 263,
    "start_time": "2021-11-27T14:49:41.718Z"
   },
   {
    "duration": 187,
    "start_time": "2021-11-27T14:49:43.030Z"
   },
   {
    "duration": 18856,
    "start_time": "2021-11-27T14:49:52.550Z"
   },
   {
    "duration": 5,
    "start_time": "2021-11-27T14:51:00.656Z"
   },
   {
    "duration": 4,
    "start_time": "2021-11-27T14:51:30.970Z"
   },
   {
    "duration": 21,
    "start_time": "2021-11-27T14:52:06.090Z"
   },
   {
    "duration": 200192,
    "start_time": "2021-11-27T14:52:27.496Z"
   },
   {
    "duration": 382,
    "start_time": "2021-11-27T14:56:45.532Z"
   },
   {
    "duration": 219312,
    "start_time": "2021-11-27T14:57:16.764Z"
   },
   {
    "duration": 357,
    "start_time": "2021-11-27T15:01:49.200Z"
   },
   {
    "duration": 361,
    "start_time": "2021-11-27T15:01:53.169Z"
   },
   {
    "duration": 345,
    "start_time": "2021-11-27T15:02:54.032Z"
   },
   {
    "duration": 363,
    "start_time": "2021-11-27T15:03:17.152Z"
   },
   {
    "duration": 8,
    "start_time": "2021-11-27T15:08:08.806Z"
   },
   {
    "duration": 10,
    "start_time": "2021-11-27T15:30:27.191Z"
   },
   {
    "duration": 4,
    "start_time": "2021-11-27T15:30:31.591Z"
   },
   {
    "duration": 7,
    "start_time": "2021-11-27T15:30:33.320Z"
   },
   {
    "duration": 9,
    "start_time": "2021-11-27T15:30:36.411Z"
   },
   {
    "duration": 4,
    "start_time": "2021-11-27T15:30:37.479Z"
   },
   {
    "duration": 5,
    "start_time": "2021-11-27T15:30:40.183Z"
   },
   {
    "duration": 175,
    "start_time": "2021-11-27T15:30:53.913Z"
   },
   {
    "duration": 185,
    "start_time": "2021-11-27T15:30:58.745Z"
   },
   {
    "duration": 278,
    "start_time": "2021-11-27T15:31:02.330Z"
   },
   {
    "duration": 17537,
    "start_time": "2021-11-27T15:31:14.201Z"
   },
   {
    "duration": 5,
    "start_time": "2021-11-27T15:31:37.721Z"
   },
   {
    "duration": 5,
    "start_time": "2021-11-27T15:31:54.024Z"
   },
   {
    "duration": 4,
    "start_time": "2021-11-27T15:32:04.139Z"
   },
   {
    "duration": 7,
    "start_time": "2021-11-27T15:32:06.745Z"
   },
   {
    "duration": 192421,
    "start_time": "2021-11-27T15:32:18.345Z"
   },
   {
    "duration": 4,
    "start_time": "2021-11-27T15:35:30.768Z"
   },
   {
    "duration": 6,
    "start_time": "2021-11-27T15:35:56.782Z"
   },
   {
    "duration": 176,
    "start_time": "2021-11-27T15:36:20.029Z"
   },
   {
    "duration": 179,
    "start_time": "2021-11-27T15:36:26.638Z"
   },
   {
    "duration": 190,
    "start_time": "2021-11-27T15:36:27.693Z"
   },
   {
    "duration": 187,
    "start_time": "2021-11-27T15:36:32.157Z"
   },
   {
    "duration": 182,
    "start_time": "2021-11-27T15:36:35.598Z"
   },
   {
    "duration": 179,
    "start_time": "2021-11-27T15:36:38.653Z"
   },
   {
    "duration": 175,
    "start_time": "2021-11-27T15:36:41.262Z"
   },
   {
    "duration": 184,
    "start_time": "2021-11-27T15:36:45.472Z"
   },
   {
    "duration": 192,
    "start_time": "2021-11-27T15:36:48.590Z"
   },
   {
    "duration": 187,
    "start_time": "2021-11-27T15:37:01.021Z"
   },
   {
    "duration": 5,
    "start_time": "2021-11-27T15:37:58.799Z"
   },
   {
    "duration": 9,
    "start_time": "2021-11-27T15:39:27.616Z"
   },
   {
    "duration": 9,
    "start_time": "2021-11-27T15:39:44.738Z"
   },
   {
    "duration": 39,
    "start_time": "2021-11-27T15:45:44.214Z"
   },
   {
    "duration": 3,
    "start_time": "2021-11-27T15:45:47.910Z"
   },
   {
    "duration": 8,
    "start_time": "2021-11-27T15:45:49.463Z"
   },
   {
    "duration": 358,
    "start_time": "2021-11-27T15:45:57.254Z"
   },
   {
    "duration": 15,
    "start_time": "2021-11-27T15:46:00.182Z"
   },
   {
    "duration": 245,
    "start_time": "2021-11-27T15:46:02.470Z"
   },
   {
    "duration": 6,
    "start_time": "2021-11-27T15:46:10.582Z"
   },
   {
    "duration": 11,
    "start_time": "2021-11-27T15:46:12.056Z"
   },
   {
    "duration": 106,
    "start_time": "2021-11-27T15:46:14.408Z"
   },
   {
    "duration": 6,
    "start_time": "2021-11-27T15:46:15.302Z"
   },
   {
    "duration": 4,
    "start_time": "2021-11-27T15:46:27.606Z"
   },
   {
    "duration": 283,
    "start_time": "2021-11-27T15:55:54.335Z"
   },
   {
    "duration": 290,
    "start_time": "2021-11-27T15:56:01.902Z"
   },
   {
    "duration": 22380,
    "start_time": "2021-11-27T15:56:10.606Z"
   },
   {
    "duration": 4,
    "start_time": "2021-11-27T15:58:22.546Z"
   },
   {
    "duration": 7,
    "start_time": "2021-11-27T15:58:25.408Z"
   },
   {
    "duration": 275720,
    "start_time": "2021-11-27T15:58:27.952Z"
   },
   {
    "duration": 6,
    "start_time": "2021-11-27T16:04:57.222Z"
   },
   {
    "duration": 11,
    "start_time": "2021-11-27T16:05:09.527Z"
   },
   {
    "duration": 564,
    "start_time": "2021-11-27T16:11:35.482Z"
   },
   {
    "duration": 286,
    "start_time": "2021-11-27T16:11:38.704Z"
   },
   {
    "duration": 114,
    "start_time": "2021-11-27T16:11:42.586Z"
   },
   {
    "duration": 3136,
    "start_time": "2021-11-27T16:11:45.706Z"
   },
   {
    "duration": 5656,
    "start_time": "2021-11-27T16:11:51.626Z"
   },
   {
    "duration": 239,
    "start_time": "2021-11-27T16:12:00.577Z"
   },
   {
    "duration": 306,
    "start_time": "2021-11-27T16:12:03.521Z"
   },
   {
    "duration": 894,
    "start_time": "2021-11-27T16:12:06.546Z"
   },
   {
    "duration": 638,
    "start_time": "2021-11-27T16:14:38.956Z"
   },
   {
    "duration": 422,
    "start_time": "2021-11-27T16:14:42.942Z"
   },
   {
    "duration": 1389,
    "start_time": "2021-11-27T16:14:46.290Z"
   },
   {
    "duration": 866,
    "start_time": "2021-11-27T16:16:56.606Z"
   },
   {
    "duration": 572,
    "start_time": "2021-11-27T16:17:22.608Z"
   },
   {
    "duration": 238,
    "start_time": "2021-11-27T16:17:26.960Z"
   },
   {
    "duration": 1139,
    "start_time": "2021-11-27T16:17:29.568Z"
   },
   {
    "duration": 546,
    "start_time": "2021-11-27T16:17:33.617Z"
   },
   {
    "duration": 538,
    "start_time": "2021-11-27T16:17:37.617Z"
   },
   {
    "duration": 12,
    "start_time": "2021-11-27T16:21:54.611Z"
   },
   {
    "duration": 474,
    "start_time": "2021-11-27T16:43:04.917Z"
   },
   {
    "duration": 441,
    "start_time": "2021-11-27T16:43:13.221Z"
   },
   {
    "duration": 1281,
    "start_time": "2021-11-27T16:43:30.338Z"
   },
   {
    "duration": 8,
    "start_time": "2021-11-27T16:43:31.621Z"
   },
   {
    "duration": 52,
    "start_time": "2021-11-27T16:43:31.631Z"
   },
   {
    "duration": 10,
    "start_time": "2021-11-27T16:43:31.685Z"
   },
   {
    "duration": 10,
    "start_time": "2021-11-27T16:43:31.697Z"
   },
   {
    "duration": 21,
    "start_time": "2021-11-27T16:43:31.709Z"
   },
   {
    "duration": 22,
    "start_time": "2021-11-27T16:43:31.733Z"
   },
   {
    "duration": 15,
    "start_time": "2021-11-27T16:43:31.758Z"
   },
   {
    "duration": 340,
    "start_time": "2021-11-27T16:43:31.776Z"
   },
   {
    "duration": 12,
    "start_time": "2021-11-27T16:43:32.119Z"
   },
   {
    "duration": 460,
    "start_time": "2021-11-27T16:43:32.133Z"
   },
   {
    "duration": 337,
    "start_time": "2021-11-27T16:43:32.595Z"
   },
   {
    "duration": 237,
    "start_time": "2021-11-27T16:43:32.933Z"
   },
   {
    "duration": 4,
    "start_time": "2021-11-27T16:43:33.172Z"
   },
   {
    "duration": 367,
    "start_time": "2021-11-27T16:43:33.177Z"
   },
   {
    "duration": 12,
    "start_time": "2021-11-27T16:43:33.545Z"
   },
   {
    "duration": 256,
    "start_time": "2021-11-27T16:43:33.559Z"
   },
   {
    "duration": 3,
    "start_time": "2021-11-27T16:43:33.817Z"
   },
   {
    "duration": 10,
    "start_time": "2021-11-27T16:43:33.821Z"
   },
   {
    "duration": 8,
    "start_time": "2021-11-27T16:43:33.832Z"
   },
   {
    "duration": 3,
    "start_time": "2021-11-27T16:43:33.841Z"
   },
   {
    "duration": 61,
    "start_time": "2021-11-27T16:43:33.846Z"
   },
   {
    "duration": 96,
    "start_time": "2021-11-27T16:43:33.911Z"
   },
   {
    "duration": 116,
    "start_time": "2021-11-27T16:43:34.010Z"
   },
   {
    "duration": 515,
    "start_time": "2021-11-27T16:43:33.613Z"
   },
   {
    "duration": 498,
    "start_time": "2021-11-27T16:43:33.631Z"
   },
   {
    "duration": 497,
    "start_time": "2021-11-27T16:43:33.633Z"
   },
   {
    "duration": 497,
    "start_time": "2021-11-27T16:43:33.634Z"
   },
   {
    "duration": 496,
    "start_time": "2021-11-27T16:43:33.636Z"
   },
   {
    "duration": 495,
    "start_time": "2021-11-27T16:43:33.638Z"
   },
   {
    "duration": 215,
    "start_time": "2021-11-27T16:44:14.650Z"
   },
   {
    "duration": 4610,
    "start_time": "2021-11-27T16:44:22.172Z"
   },
   {
    "duration": 6370,
    "start_time": "2021-11-27T16:44:32.161Z"
   },
   {
    "duration": 18067,
    "start_time": "2021-11-27T16:45:04.182Z"
   },
   {
    "duration": 3,
    "start_time": "2021-11-27T16:45:57.868Z"
   },
   {
    "duration": 408,
    "start_time": "2021-11-27T16:46:08.940Z"
   },
   {
    "duration": 4,
    "start_time": "2021-11-27T16:49:42.130Z"
   },
   {
    "duration": 5,
    "start_time": "2021-11-27T16:49:43.138Z"
   },
   {
    "duration": 35,
    "start_time": "2021-11-27T16:49:43.919Z"
   },
   {
    "duration": 7,
    "start_time": "2021-11-27T16:49:44.680Z"
   },
   {
    "duration": 7,
    "start_time": "2021-11-27T16:49:47.296Z"
   },
   {
    "duration": 6,
    "start_time": "2021-11-27T16:49:50.096Z"
   },
   {
    "duration": 4,
    "start_time": "2021-11-27T16:49:51.712Z"
   },
   {
    "duration": 8,
    "start_time": "2021-11-27T16:49:52.704Z"
   },
   {
    "duration": 331,
    "start_time": "2021-11-27T16:49:54.800Z"
   },
   {
    "duration": 10,
    "start_time": "2021-11-27T16:50:03.696Z"
   },
   {
    "duration": 421,
    "start_time": "2021-11-27T16:50:04.978Z"
   },
   {
    "duration": 355,
    "start_time": "2021-11-27T16:50:12.319Z"
   },
   {
    "duration": 320,
    "start_time": "2021-11-27T16:50:17.058Z"
   },
   {
    "duration": 5,
    "start_time": "2021-11-27T16:53:19.618Z"
   },
   {
    "duration": 6,
    "start_time": "2021-11-27T16:53:33.238Z"
   },
   {
    "duration": 350,
    "start_time": "2021-11-27T16:57:22.090Z"
   },
   {
    "duration": 14,
    "start_time": "2021-11-27T17:01:58.090Z"
   },
   {
    "duration": 288,
    "start_time": "2021-11-27T17:02:00.346Z"
   },
   {
    "duration": 7,
    "start_time": "2021-11-27T17:02:06.186Z"
   },
   {
    "duration": 9,
    "start_time": "2021-11-27T17:02:07.306Z"
   },
   {
    "duration": 4,
    "start_time": "2021-11-27T17:02:08.866Z"
   },
   {
    "duration": 4,
    "start_time": "2021-11-27T17:02:13.210Z"
   },
   {
    "duration": 3,
    "start_time": "2021-11-27T17:02:20.458Z"
   },
   {
    "duration": 446,
    "start_time": "2021-11-27T17:02:28.074Z"
   },
   {
    "duration": 117,
    "start_time": "2021-11-27T17:02:48.571Z"
   },
   {
    "duration": 115,
    "start_time": "2021-11-27T17:02:52.746Z"
   },
   {
    "duration": 4,
    "start_time": "2021-11-27T17:03:06.636Z"
   },
   {
    "duration": 3,
    "start_time": "2021-11-27T17:03:15.806Z"
   },
   {
    "duration": 10,
    "start_time": "2021-11-27T17:03:40.448Z"
   },
   {
    "duration": 5,
    "start_time": "2021-11-27T17:03:41.242Z"
   },
   {
    "duration": 7100,
    "start_time": "2021-11-27T17:03:52.140Z"
   },
   {
    "duration": 20496,
    "start_time": "2021-11-27T17:04:26.252Z"
   },
   {
    "duration": 3,
    "start_time": "2021-11-27T17:05:06.896Z"
   },
   {
    "duration": 3,
    "start_time": "2021-11-27T17:05:28.319Z"
   },
   {
    "duration": 4,
    "start_time": "2021-11-27T17:05:29.094Z"
   },
   {
    "duration": 4,
    "start_time": "2021-11-27T17:05:36.236Z"
   },
   {
    "duration": 4,
    "start_time": "2021-11-27T17:05:37.004Z"
   },
   {
    "duration": 429,
    "start_time": "2021-11-27T17:05:54.496Z"
   },
   {
    "duration": 2599,
    "start_time": "2021-11-27T17:06:09.996Z"
   },
   {
    "duration": 25928,
    "start_time": "2021-11-27T17:10:50.406Z"
   },
   {
    "duration": 4840,
    "start_time": "2021-11-27T17:11:21.479Z"
   },
   {
    "duration": 393,
    "start_time": "2021-11-27T17:12:23.299Z"
   },
   {
    "duration": 4239,
    "start_time": "2021-11-27T17:12:30.580Z"
   },
   {
    "duration": 4009,
    "start_time": "2021-11-27T17:12:40.355Z"
   },
   {
    "duration": 157,
    "start_time": "2021-11-27T17:12:50.853Z"
   },
   {
    "duration": 3120,
    "start_time": "2021-11-27T17:12:54.134Z"
   },
   {
    "duration": 3625,
    "start_time": "2021-11-27T17:13:02.418Z"
   },
   {
    "duration": 4149,
    "start_time": "2021-11-27T17:13:09.668Z"
   },
   {
    "duration": 5341,
    "start_time": "2021-11-27T17:13:19.413Z"
   },
   {
    "duration": 2049,
    "start_time": "2021-11-27T17:13:29.909Z"
   },
   {
    "duration": 5431,
    "start_time": "2021-11-27T17:13:38.677Z"
   },
   {
    "duration": 2158,
    "start_time": "2021-11-27T17:13:58.517Z"
   },
   {
    "duration": 1445,
    "start_time": "2021-11-27T17:14:03.189Z"
   },
   {
    "duration": 4111,
    "start_time": "2021-11-27T17:14:07.049Z"
   },
   {
    "duration": 4931,
    "start_time": "2021-11-27T17:14:14.885Z"
   },
   {
    "duration": 5225,
    "start_time": "2021-11-27T17:14:55.652Z"
   },
   {
    "duration": 268,
    "start_time": "2021-11-27T17:15:13.893Z"
   },
   {
    "duration": 5118,
    "start_time": "2021-11-27T17:15:16.663Z"
   },
   {
    "duration": 20,
    "start_time": "2021-11-27T17:20:38.297Z"
   },
   {
    "duration": 153343,
    "start_time": "2021-11-27T17:21:13.739Z"
   },
   {
    "duration": 417,
    "start_time": "2021-11-27T17:24:45.037Z"
   },
   {
    "duration": 58234,
    "start_time": "2021-11-27T17:24:51.454Z"
   },
   {
    "duration": 400,
    "start_time": "2021-11-27T17:26:08.621Z"
   },
   {
    "duration": 52065,
    "start_time": "2021-11-27T17:28:56.370Z"
   },
   {
    "duration": 481,
    "start_time": "2021-11-27T17:30:25.795Z"
   },
   {
    "duration": 13,
    "start_time": "2021-11-27T17:30:58.600Z"
   },
   {
    "duration": 358,
    "start_time": "2021-11-27T17:31:00.914Z"
   },
   {
    "duration": 516,
    "start_time": "2021-11-27T17:31:18.131Z"
   },
   {
    "duration": 20643,
    "start_time": "2021-11-27T17:37:13.609Z"
   },
   {
    "duration": 4046,
    "start_time": "2021-11-27T17:44:56.124Z"
   },
   {
    "duration": 4209,
    "start_time": "2021-11-27T17:45:19.882Z"
   },
   {
    "duration": 14,
    "start_time": "2021-11-27T17:45:50.140Z"
   },
   {
    "duration": 57,
    "start_time": "2021-11-27T17:45:51.085Z"
   },
   {
    "duration": 14,
    "start_time": "2021-11-27T17:45:51.845Z"
   },
   {
    "duration": 6,
    "start_time": "2021-11-27T17:45:53.611Z"
   },
   {
    "duration": 12,
    "start_time": "2021-11-27T17:46:05.997Z"
   },
   {
    "duration": 3,
    "start_time": "2021-11-27T17:46:07.372Z"
   },
   {
    "duration": 5,
    "start_time": "2021-11-27T17:46:12.989Z"
   },
   {
    "duration": 13,
    "start_time": "2021-11-27T17:46:26.173Z"
   },
   {
    "duration": 412,
    "start_time": "2021-11-27T17:46:27.950Z"
   },
   {
    "duration": 1379,
    "start_time": "2021-11-27T17:47:01.535Z"
   },
   {
    "duration": 9,
    "start_time": "2021-11-27T17:51:27.798Z"
   },
   {
    "duration": 414,
    "start_time": "2021-11-27T17:51:28.544Z"
   },
   {
    "duration": 323,
    "start_time": "2021-11-27T17:51:31.184Z"
   },
   {
    "duration": 313,
    "start_time": "2021-11-27T17:53:14.370Z"
   },
   {
    "duration": 8,
    "start_time": "2021-11-27T17:53:44.770Z"
   },
   {
    "duration": 4,
    "start_time": "2021-11-27T17:55:40.947Z"
   },
   {
    "duration": 329,
    "start_time": "2021-11-27T17:55:41.890Z"
   },
   {
    "duration": 21,
    "start_time": "2021-11-27T17:55:44.002Z"
   },
   {
    "duration": 330,
    "start_time": "2021-11-27T17:55:45.943Z"
   },
   {
    "duration": 5,
    "start_time": "2021-11-27T17:56:03.492Z"
   },
   {
    "duration": 6,
    "start_time": "2021-11-27T17:56:25.348Z"
   },
   {
    "duration": 3028,
    "start_time": "2021-11-27T17:59:11.895Z"
   },
   {
    "duration": 7,
    "start_time": "2021-11-27T17:59:43.385Z"
   },
   {
    "duration": 719,
    "start_time": "2021-11-27T17:59:50.091Z"
   },
   {
    "duration": 5,
    "start_time": "2021-11-27T17:59:52.760Z"
   },
   {
    "duration": 4,
    "start_time": "2021-11-27T17:59:56.983Z"
   },
   {
    "duration": 3,
    "start_time": "2021-11-27T18:00:22.649Z"
   },
   {
    "duration": 373,
    "start_time": "2021-11-27T18:00:31.777Z"
   },
   {
    "duration": 4,
    "start_time": "2021-11-27T18:00:45.835Z"
   },
   {
    "duration": 4,
    "start_time": "2021-11-27T18:00:51.817Z"
   },
   {
    "duration": 917,
    "start_time": "2021-11-27T18:01:02.793Z"
   },
   {
    "duration": 3,
    "start_time": "2021-11-27T18:01:13.821Z"
   },
   {
    "duration": 4,
    "start_time": "2021-11-27T18:01:14.823Z"
   },
   {
    "duration": 753,
    "start_time": "2021-11-27T18:01:18.745Z"
   },
   {
    "duration": 44706,
    "start_time": "2021-11-27T18:02:22.905Z"
   },
   {
    "duration": 107915,
    "start_time": "2021-11-27T18:05:07.349Z"
   },
   {
    "duration": 915,
    "start_time": "2021-11-27T18:20:06.645Z"
   },
   {
    "duration": 6745,
    "start_time": "2021-11-27T18:20:28.267Z"
   },
   {
    "duration": 5541,
    "start_time": "2021-11-27T18:20:35.014Z"
   },
   {
    "duration": 2551,
    "start_time": "2021-11-27T18:20:40.558Z"
   },
   {
    "duration": 3,
    "start_time": "2021-11-27T18:20:43.111Z"
   },
   {
    "duration": 5,
    "start_time": "2021-11-27T18:20:43.116Z"
   },
   {
    "duration": 9,
    "start_time": "2021-11-27T18:20:43.123Z"
   },
   {
    "duration": 47,
    "start_time": "2021-11-27T18:20:43.134Z"
   },
   {
    "duration": 12,
    "start_time": "2021-11-27T18:20:43.184Z"
   },
   {
    "duration": 12,
    "start_time": "2021-11-27T18:20:43.199Z"
   },
   {
    "duration": 23,
    "start_time": "2021-11-27T18:20:43.213Z"
   },
   {
    "duration": 5,
    "start_time": "2021-11-27T18:20:43.239Z"
   },
   {
    "duration": 14,
    "start_time": "2021-11-27T18:20:43.246Z"
   },
   {
    "duration": 497,
    "start_time": "2021-11-27T18:20:43.261Z"
   },
   {
    "duration": 9,
    "start_time": "2021-11-27T18:20:43.760Z"
   },
   {
    "duration": 475,
    "start_time": "2021-11-27T18:20:43.771Z"
   },
   {
    "duration": 340,
    "start_time": "2021-11-27T18:20:44.248Z"
   },
   {
    "duration": 259,
    "start_time": "2021-11-27T18:20:44.590Z"
   },
   {
    "duration": 6,
    "start_time": "2021-11-27T18:20:44.850Z"
   },
   {
    "duration": 5,
    "start_time": "2021-11-27T18:20:44.858Z"
   },
   {
    "duration": 289,
    "start_time": "2021-11-27T18:20:44.865Z"
   },
   {
    "duration": 12,
    "start_time": "2021-11-27T18:20:45.156Z"
   },
   {
    "duration": 306,
    "start_time": "2021-11-27T18:20:45.169Z"
   },
   {
    "duration": 3,
    "start_time": "2021-11-27T18:20:45.478Z"
   },
   {
    "duration": 10,
    "start_time": "2021-11-27T18:20:45.483Z"
   },
   {
    "duration": 8,
    "start_time": "2021-11-27T18:20:45.507Z"
   },
   {
    "duration": 4,
    "start_time": "2021-11-27T18:20:45.516Z"
   },
   {
    "duration": 91,
    "start_time": "2021-11-27T18:20:45.522Z"
   },
   {
    "duration": 96,
    "start_time": "2021-11-27T18:20:45.617Z"
   },
   {
    "duration": 4743,
    "start_time": "2021-11-27T18:20:45.806Z"
   },
   {
    "duration": 20973,
    "start_time": "2021-11-27T18:20:50.551Z"
   },
   {
    "duration": 3,
    "start_time": "2021-11-27T18:21:11.526Z"
   },
   {
    "duration": 35,
    "start_time": "2021-11-27T18:21:11.531Z"
   },
   {
    "duration": 40,
    "start_time": "2021-11-27T18:21:11.568Z"
   },
   {
    "duration": 28544,
    "start_time": "2021-11-27T18:21:11.610Z"
   },
   {
    "duration": 478,
    "start_time": "2021-11-27T18:21:39.678Z"
   },
   {
    "duration": 476,
    "start_time": "2021-11-27T18:21:39.681Z"
   },
   {
    "duration": 475,
    "start_time": "2021-11-27T18:21:39.683Z"
   },
   {
    "duration": 474,
    "start_time": "2021-11-27T18:21:39.685Z"
   },
   {
    "duration": 473,
    "start_time": "2021-11-27T18:21:39.687Z"
   },
   {
    "duration": 473,
    "start_time": "2021-11-27T18:21:39.689Z"
   },
   {
    "duration": 472,
    "start_time": "2021-11-27T18:21:39.691Z"
   },
   {
    "duration": 3,
    "start_time": "2021-11-27T18:21:46.941Z"
   },
   {
    "duration": 2609,
    "start_time": "2021-11-27T18:21:51.727Z"
   },
   {
    "duration": 96113,
    "start_time": "2021-11-27T18:22:07.363Z"
   },
   {
    "duration": 70283,
    "start_time": "2021-11-27T18:24:31.938Z"
   },
   {
    "duration": 353,
    "start_time": "2021-11-27T18:27:14.546Z"
   },
   {
    "duration": 1936,
    "start_time": "2021-11-27T18:28:13.299Z"
   },
   {
    "duration": 321,
    "start_time": "2021-11-27T18:28:55.649Z"
   },
   {
    "duration": 348,
    "start_time": "2021-11-27T18:30:42.001Z"
   },
   {
    "duration": 2,
    "start_time": "2021-11-27T18:31:52.549Z"
   },
   {
    "duration": 921,
    "start_time": "2021-11-27T18:32:13.229Z"
   },
   {
    "duration": 959,
    "start_time": "2021-11-27T18:33:07.495Z"
   },
   {
    "duration": 61403,
    "start_time": "2021-11-27T18:34:03.207Z"
   },
   {
    "duration": 13879,
    "start_time": "2021-11-27T18:35:10.889Z"
   },
   {
    "duration": 43687,
    "start_time": "2021-11-27T18:35:27.591Z"
   },
   {
    "duration": 418,
    "start_time": "2021-11-27T18:36:48.819Z"
   },
   {
    "duration": 323,
    "start_time": "2021-11-27T18:37:43.471Z"
   },
   {
    "duration": 313,
    "start_time": "2021-11-27T18:38:02.399Z"
   },
   {
    "duration": 445,
    "start_time": "2021-11-27T18:40:37.907Z"
   },
   {
    "duration": 27658,
    "start_time": "2021-11-27T18:43:42.159Z"
   },
   {
    "duration": 4120,
    "start_time": "2021-11-27T18:45:20.914Z"
   },
   {
    "duration": 3718,
    "start_time": "2021-11-27T18:46:35.793Z"
   },
   {
    "duration": 3,
    "start_time": "2021-11-27T18:47:06.676Z"
   },
   {
    "duration": 3832,
    "start_time": "2021-11-27T18:47:08.561Z"
   },
   {
    "duration": 5,
    "start_time": "2021-11-27T18:47:22.132Z"
   },
   {
    "duration": 353,
    "start_time": "2021-11-27T18:47:35.171Z"
   },
   {
    "duration": 348,
    "start_time": "2021-11-27T18:47:42.707Z"
   },
   {
    "duration": 4,
    "start_time": "2021-11-27T18:48:45.043Z"
   },
   {
    "duration": 3,
    "start_time": "2021-11-27T18:48:57.603Z"
   },
   {
    "duration": 439,
    "start_time": "2021-11-27T18:49:45.877Z"
   },
   {
    "duration": 265,
    "start_time": "2021-11-27T18:51:32.885Z"
   },
   {
    "duration": 394,
    "start_time": "2021-11-27T18:52:00.758Z"
   },
   {
    "duration": 9,
    "start_time": "2021-11-27T18:53:05.991Z"
   },
   {
    "duration": 8,
    "start_time": "2021-11-27T18:53:08.973Z"
   },
   {
    "duration": 8,
    "start_time": "2021-11-27T18:53:10.519Z"
   },
   {
    "duration": 258,
    "start_time": "2021-11-27T18:53:25.431Z"
   },
   {
    "duration": 7,
    "start_time": "2021-11-27T18:53:33.463Z"
   },
   {
    "duration": 7,
    "start_time": "2021-11-27T18:53:34.711Z"
   },
   {
    "duration": 253,
    "start_time": "2021-11-27T18:54:50.441Z"
   },
   {
    "duration": 7,
    "start_time": "2021-11-27T18:55:23.821Z"
   },
   {
    "duration": 5,
    "start_time": "2021-11-27T18:55:31.064Z"
   },
   {
    "duration": 7,
    "start_time": "2021-11-27T18:55:34.427Z"
   },
   {
    "duration": 351,
    "start_time": "2021-11-27T18:55:44.012Z"
   },
   {
    "duration": 249,
    "start_time": "2021-11-27T18:55:46.186Z"
   },
   {
    "duration": 5,
    "start_time": "2021-11-27T18:55:47.497Z"
   },
   {
    "duration": 5,
    "start_time": "2021-11-27T19:03:03.606Z"
   },
   {
    "duration": 243,
    "start_time": "2021-11-27T19:07:25.221Z"
   },
   {
    "duration": 5,
    "start_time": "2021-11-27T19:07:26.674Z"
   },
   {
    "duration": 188,
    "start_time": "2021-11-27T19:08:05.733Z"
   },
   {
    "duration": 352,
    "start_time": "2021-11-27T19:08:44.820Z"
   },
   {
    "duration": 239,
    "start_time": "2021-11-27T19:08:46.548Z"
   },
   {
    "duration": 4,
    "start_time": "2021-11-27T19:08:48.631Z"
   },
   {
    "duration": 215,
    "start_time": "2021-11-27T19:09:30.102Z"
   },
   {
    "duration": 190,
    "start_time": "2021-11-27T19:09:33.462Z"
   },
   {
    "duration": 371,
    "start_time": "2021-11-27T19:09:34.532Z"
   },
   {
    "duration": 8,
    "start_time": "2021-11-27T19:09:59.236Z"
   },
   {
    "duration": 361,
    "start_time": "2021-11-27T19:10:07.460Z"
   },
   {
    "duration": 5,
    "start_time": "2021-11-27T19:10:20.278Z"
   },
   {
    "duration": 6,
    "start_time": "2021-11-27T19:10:49.160Z"
   },
   {
    "duration": 6,
    "start_time": "2021-11-27T19:11:11.190Z"
   },
   {
    "duration": 126,
    "start_time": "2021-11-27T19:13:07.928Z"
   },
   {
    "duration": 2553,
    "start_time": "2021-11-27T19:15:33.176Z"
   },
   {
    "duration": 3485,
    "start_time": "2021-11-27T19:15:35.731Z"
   },
   {
    "duration": 886,
    "start_time": "2021-11-27T19:15:39.218Z"
   },
   {
    "duration": 6,
    "start_time": "2021-11-27T19:15:40.106Z"
   },
   {
    "duration": 47,
    "start_time": "2021-11-27T19:15:40.114Z"
   },
   {
    "duration": 12,
    "start_time": "2021-11-27T19:15:40.163Z"
   },
   {
    "duration": 8,
    "start_time": "2021-11-27T19:15:40.177Z"
   },
   {
    "duration": 18,
    "start_time": "2021-11-27T19:15:40.189Z"
   },
   {
    "duration": 3,
    "start_time": "2021-11-27T19:15:40.210Z"
   },
   {
    "duration": 13,
    "start_time": "2021-11-27T19:15:40.215Z"
   },
   {
    "duration": 639,
    "start_time": "2021-11-27T19:15:40.231Z"
   },
   {
    "duration": 6,
    "start_time": "2021-11-27T19:15:40.872Z"
   },
   {
    "duration": 491,
    "start_time": "2021-11-27T19:15:40.880Z"
   },
   {
    "duration": 344,
    "start_time": "2021-11-27T19:15:41.374Z"
   },
   {
    "duration": 256,
    "start_time": "2021-11-27T19:15:41.720Z"
   },
   {
    "duration": 7,
    "start_time": "2021-11-27T19:15:41.978Z"
   },
   {
    "duration": 19,
    "start_time": "2021-11-27T19:15:41.987Z"
   },
   {
    "duration": 257,
    "start_time": "2021-11-27T19:15:42.008Z"
   },
   {
    "duration": 13,
    "start_time": "2021-11-27T19:15:42.267Z"
   },
   {
    "duration": 306,
    "start_time": "2021-11-27T19:15:42.282Z"
   },
   {
    "duration": 2,
    "start_time": "2021-11-27T19:15:42.590Z"
   },
   {
    "duration": 17,
    "start_time": "2021-11-27T19:15:42.594Z"
   },
   {
    "duration": 13,
    "start_time": "2021-11-27T19:15:42.615Z"
   },
   {
    "duration": 3,
    "start_time": "2021-11-27T19:15:42.630Z"
   },
   {
    "duration": 2000,
    "start_time": "2021-11-27T19:15:42.635Z"
   },
   {
    "duration": 133259,
    "start_time": "2021-11-27T19:15:44.637Z"
   },
   {
    "duration": 3578,
    "start_time": "2021-11-27T19:17:57.906Z"
   },
   {
    "duration": 228,
    "start_time": "2021-11-27T19:18:01.486Z"
   },
   {
    "duration": 4,
    "start_time": "2021-11-27T19:18:01.716Z"
   },
   {
    "duration": 189,
    "start_time": "2021-11-27T19:18:01.722Z"
   },
   {
    "duration": 5,
    "start_time": "2021-11-27T19:18:01.913Z"
   },
   {
    "duration": 4,
    "start_time": "2021-11-27T19:20:08.473Z"
   },
   {
    "duration": 6,
    "start_time": "2021-11-27T19:20:09.879Z"
   },
   {
    "duration": 698,
    "start_time": "2021-11-28T15:49:50.835Z"
   },
   {
    "duration": 1144,
    "start_time": "2021-11-28T15:49:58.261Z"
   },
   {
    "duration": 73847,
    "start_time": "2021-11-28T15:49:59.407Z"
   },
   {
    "duration": 404,
    "start_time": "2021-11-28T15:51:13.256Z"
   },
   {
    "duration": 1488,
    "start_time": "2021-11-28T15:51:12.176Z"
   },
   {
    "duration": 1472,
    "start_time": "2021-11-28T15:51:12.192Z"
   },
   {
    "duration": 1454,
    "start_time": "2021-11-28T15:51:12.211Z"
   },
   {
    "duration": 1453,
    "start_time": "2021-11-28T15:51:12.214Z"
   },
   {
    "duration": 1440,
    "start_time": "2021-11-28T15:51:12.227Z"
   },
   {
    "duration": 1425,
    "start_time": "2021-11-28T15:51:12.243Z"
   },
   {
    "duration": 1421,
    "start_time": "2021-11-28T15:51:12.248Z"
   },
   {
    "duration": 1418,
    "start_time": "2021-11-28T15:51:12.252Z"
   },
   {
    "duration": 1403,
    "start_time": "2021-11-28T15:51:12.268Z"
   },
   {
    "duration": 1390,
    "start_time": "2021-11-28T15:51:12.282Z"
   },
   {
    "duration": 1387,
    "start_time": "2021-11-28T15:51:12.286Z"
   },
   {
    "duration": 1374,
    "start_time": "2021-11-28T15:51:12.301Z"
   },
   {
    "duration": 1365,
    "start_time": "2021-11-28T15:51:12.311Z"
   },
   {
    "duration": 1352,
    "start_time": "2021-11-28T15:51:12.325Z"
   },
   {
    "duration": 1342,
    "start_time": "2021-11-28T15:51:12.336Z"
   },
   {
    "duration": 1331,
    "start_time": "2021-11-28T15:51:12.347Z"
   },
   {
    "duration": 1320,
    "start_time": "2021-11-28T15:51:12.359Z"
   },
   {
    "duration": 1302,
    "start_time": "2021-11-28T15:51:12.378Z"
   },
   {
    "duration": 1296,
    "start_time": "2021-11-28T15:51:12.385Z"
   },
   {
    "duration": 1288,
    "start_time": "2021-11-28T15:51:12.394Z"
   },
   {
    "duration": 1277,
    "start_time": "2021-11-28T15:51:12.406Z"
   },
   {
    "duration": 1273,
    "start_time": "2021-11-28T15:51:12.411Z"
   },
   {
    "duration": 1271,
    "start_time": "2021-11-28T15:51:12.414Z"
   },
   {
    "duration": 1268,
    "start_time": "2021-11-28T15:51:12.418Z"
   },
   {
    "duration": 1251,
    "start_time": "2021-11-28T15:51:12.436Z"
   },
   {
    "duration": 1245,
    "start_time": "2021-11-28T15:51:12.443Z"
   },
   {
    "duration": 1244,
    "start_time": "2021-11-28T15:51:12.445Z"
   },
   {
    "duration": 1241,
    "start_time": "2021-11-28T15:51:12.449Z"
   },
   {
    "duration": 1546,
    "start_time": "2021-11-28T15:52:56.630Z"
   },
   {
    "duration": 2865,
    "start_time": "2021-11-28T15:53:01.952Z"
   },
   {
    "duration": 738,
    "start_time": "2021-11-28T15:53:10.040Z"
   },
   {
    "duration": 4571,
    "start_time": "2021-11-28T15:54:19.907Z"
   },
   {
    "duration": 251,
    "start_time": "2021-11-28T15:54:34.338Z"
   },
   {
    "duration": 5209,
    "start_time": "2021-11-28T15:54:52.647Z"
   },
   {
    "duration": 2145,
    "start_time": "2021-11-28T15:55:00.128Z"
   },
   {
    "duration": 4226,
    "start_time": "2021-11-28T15:56:11.725Z"
   },
   {
    "duration": 254,
    "start_time": "2021-11-28T15:56:19.591Z"
   },
   {
    "duration": 5404,
    "start_time": "2021-11-28T15:56:44.051Z"
   },
   {
    "duration": 266,
    "start_time": "2021-11-28T15:56:53.753Z"
   },
   {
    "duration": 2750,
    "start_time": "2021-11-28T15:57:13.640Z"
   },
   {
    "duration": 256,
    "start_time": "2021-11-28T15:57:23.476Z"
   },
   {
    "duration": 163,
    "start_time": "2021-11-28T15:58:03.735Z"
   },
   {
    "duration": 5126,
    "start_time": "2021-11-28T15:58:07.930Z"
   },
   {
    "duration": 284,
    "start_time": "2021-11-28T15:58:23.412Z"
   },
   {
    "duration": 268,
    "start_time": "2021-11-28T15:58:50.366Z"
   },
   {
    "duration": 254,
    "start_time": "2021-11-28T15:58:57.796Z"
   },
   {
    "duration": 5,
    "start_time": "2021-11-28T15:59:11.799Z"
   },
   {
    "duration": 4620,
    "start_time": "2021-11-28T15:59:18.950Z"
   },
   {
    "duration": 4,
    "start_time": "2021-11-28T15:59:26.454Z"
   },
   {
    "duration": 4,
    "start_time": "2021-11-28T15:59:29.086Z"
   },
   {
    "duration": 4,
    "start_time": "2021-11-28T15:59:41.246Z"
   },
   {
    "duration": 4,
    "start_time": "2021-11-28T15:59:44.025Z"
   },
   {
    "duration": 2362,
    "start_time": "2021-11-28T16:00:26.801Z"
   },
   {
    "duration": 4,
    "start_time": "2021-11-28T16:00:34.808Z"
   },
   {
    "duration": 1972,
    "start_time": "2021-11-28T16:01:08.325Z"
   },
   {
    "duration": 275,
    "start_time": "2021-11-28T16:01:52.884Z"
   },
   {
    "duration": 2095,
    "start_time": "2021-11-28T16:01:55.813Z"
   },
   {
    "duration": 2765,
    "start_time": "2021-11-28T16:02:03.848Z"
   },
   {
    "duration": 247,
    "start_time": "2021-11-28T16:02:11.375Z"
   },
   {
    "duration": 610,
    "start_time": "2021-11-28T16:02:24.035Z"
   },
   {
    "duration": 8,
    "start_time": "2021-11-28T16:02:26.870Z"
   },
   {
    "duration": 5116,
    "start_time": "2021-11-28T16:02:43.782Z"
   },
   {
    "duration": 4,
    "start_time": "2021-11-28T16:03:12.917Z"
   },
   {
    "duration": 767,
    "start_time": "2021-11-28T16:03:15.238Z"
   },
   {
    "duration": 4,
    "start_time": "2021-11-28T16:03:54.133Z"
   },
   {
    "duration": 239,
    "start_time": "2021-11-28T16:03:59.048Z"
   },
   {
    "duration": 268,
    "start_time": "2021-11-28T16:05:27.289Z"
   },
   {
    "duration": 1580,
    "start_time": "2021-11-28T16:05:37.214Z"
   },
   {
    "duration": 2700,
    "start_time": "2021-11-28T16:05:42.680Z"
   },
   {
    "duration": 676,
    "start_time": "2021-11-28T16:06:08.320Z"
   },
   {
    "duration": 279,
    "start_time": "2021-11-28T16:07:46.554Z"
   },
   {
    "duration": 258,
    "start_time": "2021-11-28T16:08:00.508Z"
   },
   {
    "duration": 258,
    "start_time": "2021-11-28T16:08:04.298Z"
   },
   {
    "duration": 232,
    "start_time": "2021-11-28T16:08:08.176Z"
   },
   {
    "duration": 1140,
    "start_time": "2021-11-28T16:08:31.964Z"
   },
   {
    "duration": 10114,
    "start_time": "2021-11-28T16:09:18.320Z"
   },
   {
    "duration": 1595,
    "start_time": "2021-11-28T16:09:53.662Z"
   },
   {
    "duration": 2941,
    "start_time": "2021-11-28T16:09:57.129Z"
   },
   {
    "duration": 724,
    "start_time": "2021-11-28T16:10:49.552Z"
   },
   {
    "duration": 2384,
    "start_time": "2021-11-28T16:12:05.161Z"
   },
   {
    "duration": 3762,
    "start_time": "2021-11-28T16:12:39.531Z"
   },
   {
    "duration": 2140,
    "start_time": "2021-11-28T16:12:49.102Z"
   },
   {
    "duration": 155,
    "start_time": "2021-11-28T16:12:58.251Z"
   },
   {
    "duration": 288,
    "start_time": "2021-11-28T16:13:01.712Z"
   },
   {
    "duration": 2764,
    "start_time": "2021-11-28T16:13:14.452Z"
   },
   {
    "duration": 3487,
    "start_time": "2021-11-28T16:13:46.221Z"
   },
   {
    "duration": 264,
    "start_time": "2021-11-28T16:14:17.923Z"
   },
   {
    "duration": 237,
    "start_time": "2021-11-28T16:14:19.918Z"
   },
   {
    "duration": 236,
    "start_time": "2021-11-28T16:14:24.357Z"
   },
   {
    "duration": 261,
    "start_time": "2021-11-28T16:14:42.869Z"
   },
   {
    "duration": 292,
    "start_time": "2021-11-28T16:14:46.485Z"
   },
   {
    "duration": 2062,
    "start_time": "2021-11-28T16:14:50.937Z"
   },
   {
    "duration": 148,
    "start_time": "2021-11-28T16:14:58.069Z"
   },
   {
    "duration": 257,
    "start_time": "2021-11-28T16:15:01.335Z"
   },
   {
    "duration": 4282,
    "start_time": "2021-11-28T16:15:31.826Z"
   },
   {
    "duration": 5881,
    "start_time": "2021-11-28T16:15:45.088Z"
   },
   {
    "duration": 2219,
    "start_time": "2021-11-28T16:16:20.836Z"
   },
   {
    "duration": 232,
    "start_time": "2021-11-28T16:17:12.522Z"
   },
   {
    "duration": 60,
    "start_time": "2021-11-28T16:17:54.164Z"
   },
   {
    "duration": 292,
    "start_time": "2021-11-28T16:18:06.830Z"
   },
   {
    "duration": 235,
    "start_time": "2021-11-28T16:18:15.556Z"
   },
   {
    "duration": 242,
    "start_time": "2021-11-28T16:18:23.148Z"
   },
   {
    "duration": 2,
    "start_time": "2021-11-28T16:18:37.180Z"
   },
   {
    "duration": 249,
    "start_time": "2021-11-28T16:18:40.422Z"
   },
   {
    "duration": 286,
    "start_time": "2021-11-28T16:18:56.752Z"
   },
   {
    "duration": 4183,
    "start_time": "2021-11-28T16:19:14.418Z"
   },
   {
    "duration": 2443,
    "start_time": "2021-11-28T16:19:23.093Z"
   },
   {
    "duration": 25,
    "start_time": "2021-11-28T16:19:54.453Z"
   },
   {
    "duration": 8,
    "start_time": "2021-11-28T16:19:58.219Z"
   },
   {
    "duration": 79,
    "start_time": "2021-11-28T16:20:00.099Z"
   },
   {
    "duration": 10,
    "start_time": "2021-11-28T16:20:00.899Z"
   },
   {
    "duration": 6,
    "start_time": "2021-11-28T16:20:02.419Z"
   },
   {
    "duration": 5,
    "start_time": "2021-11-28T16:20:03.695Z"
   },
   {
    "duration": 3,
    "start_time": "2021-11-28T16:20:05.107Z"
   },
   {
    "duration": 9,
    "start_time": "2021-11-28T16:20:06.435Z"
   },
   {
    "duration": 315,
    "start_time": "2021-11-28T16:20:07.561Z"
   },
   {
    "duration": 7,
    "start_time": "2021-11-28T16:20:10.643Z"
   },
   {
    "duration": 325,
    "start_time": "2021-11-28T16:20:11.385Z"
   },
   {
    "duration": 276,
    "start_time": "2021-11-28T16:20:13.575Z"
   },
   {
    "duration": 190,
    "start_time": "2021-11-28T16:20:15.593Z"
   },
   {
    "duration": 6,
    "start_time": "2021-11-28T16:20:18.611Z"
   },
   {
    "duration": 4,
    "start_time": "2021-11-28T16:20:20.131Z"
   },
   {
    "duration": 287,
    "start_time": "2021-11-28T16:20:23.045Z"
   },
   {
    "duration": 12,
    "start_time": "2021-11-28T16:20:33.155Z"
   },
   {
    "duration": 230,
    "start_time": "2021-11-28T16:20:34.679Z"
   },
   {
    "duration": 6,
    "start_time": "2021-11-28T16:20:38.905Z"
   },
   {
    "duration": 7,
    "start_time": "2021-11-28T16:20:39.971Z"
   },
   {
    "duration": 3,
    "start_time": "2021-11-28T16:20:41.891Z"
   },
   {
    "duration": 2137,
    "start_time": "2021-11-28T16:20:43.139Z"
   },
   {
    "duration": 5455,
    "start_time": "2021-11-28T16:21:11.083Z"
   },
   {
    "duration": 344,
    "start_time": "2021-11-28T16:21:33.799Z"
   },
   {
    "duration": 4323,
    "start_time": "2021-11-28T16:22:14.193Z"
   },
   {
    "duration": 2343,
    "start_time": "2021-11-28T16:22:18.518Z"
   },
   {
    "duration": 28,
    "start_time": "2021-11-28T16:22:20.863Z"
   },
   {
    "duration": 5930,
    "start_time": "2021-11-28T16:22:20.893Z"
   },
   {
    "duration": 7,
    "start_time": "2021-11-28T16:22:26.826Z"
   },
   {
    "duration": 45,
    "start_time": "2021-11-28T16:22:26.835Z"
   },
   {
    "duration": 12,
    "start_time": "2021-11-28T16:22:26.882Z"
   },
   {
    "duration": 18,
    "start_time": "2021-11-28T16:22:26.897Z"
   },
   {
    "duration": 27,
    "start_time": "2021-11-28T16:22:26.917Z"
   },
   {
    "duration": 20,
    "start_time": "2021-11-28T16:22:26.946Z"
   },
   {
    "duration": 27,
    "start_time": "2021-11-28T16:22:26.967Z"
   },
   {
    "duration": 339,
    "start_time": "2021-11-28T16:22:26.996Z"
   },
   {
    "duration": 10,
    "start_time": "2021-11-28T16:22:27.337Z"
   },
   {
    "duration": 370,
    "start_time": "2021-11-28T16:22:27.348Z"
   },
   {
    "duration": 315,
    "start_time": "2021-11-28T16:22:27.719Z"
   },
   {
    "duration": 220,
    "start_time": "2021-11-28T16:22:28.036Z"
   },
   {
    "duration": 8,
    "start_time": "2021-11-28T16:22:28.258Z"
   },
   {
    "duration": 21,
    "start_time": "2021-11-28T16:22:28.267Z"
   },
   {
    "duration": 384,
    "start_time": "2021-11-28T16:22:28.291Z"
   },
   {
    "duration": 14,
    "start_time": "2021-11-28T16:22:28.677Z"
   },
   {
    "duration": 256,
    "start_time": "2021-11-28T16:22:28.693Z"
   },
   {
    "duration": 2,
    "start_time": "2021-11-28T16:22:28.951Z"
   },
   {
    "duration": 26,
    "start_time": "2021-11-28T16:22:28.956Z"
   },
   {
    "duration": 21,
    "start_time": "2021-11-28T16:22:28.984Z"
   },
   {
    "duration": 13,
    "start_time": "2021-11-28T16:22:29.008Z"
   },
   {
    "duration": 1777,
    "start_time": "2021-11-28T16:22:29.022Z"
   },
   {
    "duration": 1556,
    "start_time": "2021-11-28T16:22:29.245Z"
   },
   {
    "duration": 1549,
    "start_time": "2021-11-28T16:22:29.253Z"
   },
   {
    "duration": 1548,
    "start_time": "2021-11-28T16:22:29.255Z"
   },
   {
    "duration": 1548,
    "start_time": "2021-11-28T16:22:29.257Z"
   },
   {
    "duration": 1540,
    "start_time": "2021-11-28T16:22:29.266Z"
   },
   {
    "duration": 1539,
    "start_time": "2021-11-28T16:22:29.268Z"
   },
   {
    "duration": 9,
    "start_time": "2021-11-28T16:23:12.046Z"
   },
   {
    "duration": 3,
    "start_time": "2021-11-28T16:23:22.738Z"
   },
   {
    "duration": 3,
    "start_time": "2021-11-28T16:23:49.966Z"
   },
   {
    "duration": 2,
    "start_time": "2021-11-28T16:24:06.846Z"
   },
   {
    "duration": 381,
    "start_time": "2021-11-28T16:24:15.171Z"
   },
   {
    "duration": 6,
    "start_time": "2021-11-28T16:24:59.827Z"
   },
   {
    "duration": 1536,
    "start_time": "2021-11-28T16:25:31.583Z"
   },
   {
    "duration": 3422,
    "start_time": "2021-11-28T16:25:40.313Z"
   },
   {
    "duration": 731,
    "start_time": "2021-11-28T16:25:49.032Z"
   },
   {
    "duration": 4226,
    "start_time": "2021-11-28T16:26:00.729Z"
   },
   {
    "duration": 2377,
    "start_time": "2021-11-28T16:26:11.625Z"
   },
   {
    "duration": 23,
    "start_time": "2021-11-28T16:26:19.083Z"
   },
   {
    "duration": 5097,
    "start_time": "2021-11-28T16:26:22.636Z"
   },
   {
    "duration": 3235,
    "start_time": "2021-11-28T16:26:48.283Z"
   },
   {
    "duration": 8,
    "start_time": "2021-11-28T16:26:51.520Z"
   },
   {
    "duration": 55,
    "start_time": "2021-11-28T16:26:51.530Z"
   },
   {
    "duration": 10,
    "start_time": "2021-11-28T16:26:51.587Z"
   },
   {
    "duration": 6,
    "start_time": "2021-11-28T16:26:51.599Z"
   },
   {
    "duration": 16,
    "start_time": "2021-11-28T16:26:51.607Z"
   },
   {
    "duration": 9,
    "start_time": "2021-11-28T16:26:51.625Z"
   },
   {
    "duration": 19,
    "start_time": "2021-11-28T16:26:51.637Z"
   },
   {
    "duration": 335,
    "start_time": "2021-11-28T16:26:51.657Z"
   },
   {
    "duration": 7,
    "start_time": "2021-11-28T16:26:51.993Z"
   },
   {
    "duration": 626,
    "start_time": "2021-11-28T16:26:52.002Z"
   },
   {
    "duration": 409,
    "start_time": "2021-11-28T16:26:52.630Z"
   },
   {
    "duration": 203,
    "start_time": "2021-11-28T16:26:53.041Z"
   },
   {
    "duration": 7,
    "start_time": "2021-11-28T16:26:53.246Z"
   },
   {
    "duration": 9,
    "start_time": "2021-11-28T16:26:53.255Z"
   },
   {
    "duration": 391,
    "start_time": "2021-11-28T16:26:53.265Z"
   },
   {
    "duration": 12,
    "start_time": "2021-11-28T16:26:53.657Z"
   },
   {
    "duration": 236,
    "start_time": "2021-11-28T16:26:53.671Z"
   },
   {
    "duration": 2,
    "start_time": "2021-11-28T16:26:53.908Z"
   },
   {
    "duration": 14,
    "start_time": "2021-11-28T16:26:53.912Z"
   },
   {
    "duration": 26,
    "start_time": "2021-11-28T16:26:53.927Z"
   },
   {
    "duration": 18,
    "start_time": "2021-11-28T16:26:53.954Z"
   },
   {
    "duration": 18,
    "start_time": "2021-11-28T16:26:53.975Z"
   },
   {
    "duration": 1813,
    "start_time": "2021-11-28T16:26:53.994Z"
   },
   {
    "duration": 1536,
    "start_time": "2021-11-28T16:26:54.273Z"
   },
   {
    "duration": 1527,
    "start_time": "2021-11-28T16:26:54.283Z"
   },
   {
    "duration": 1511,
    "start_time": "2021-11-28T16:26:54.300Z"
   },
   {
    "duration": 1509,
    "start_time": "2021-11-28T16:26:54.303Z"
   },
   {
    "duration": 1506,
    "start_time": "2021-11-28T16:26:54.307Z"
   },
   {
    "duration": 1506,
    "start_time": "2021-11-28T16:26:54.308Z"
   },
   {
    "duration": 9,
    "start_time": "2021-11-28T16:30:05.905Z"
   },
   {
    "duration": 4,
    "start_time": "2021-11-28T16:30:09.309Z"
   },
   {
    "duration": 4,
    "start_time": "2021-11-28T16:30:16.050Z"
   },
   {
    "duration": 9,
    "start_time": "2021-11-28T16:30:23.180Z"
   },
   {
    "duration": 4,
    "start_time": "2021-11-28T16:30:28.285Z"
   },
   {
    "duration": 286,
    "start_time": "2021-11-28T16:30:30.932Z"
   },
   {
    "duration": 6,
    "start_time": "2021-11-28T16:30:49.388Z"
   },
   {
    "duration": 8,
    "start_time": "2021-11-28T16:30:54.764Z"
   },
   {
    "duration": 357,
    "start_time": "2021-11-28T16:31:00.625Z"
   },
   {
    "duration": 11,
    "start_time": "2021-11-28T16:32:33.831Z"
   },
   {
    "duration": 6,
    "start_time": "2021-11-28T16:32:38.039Z"
   },
   {
    "duration": 242,
    "start_time": "2021-11-28T16:33:09.570Z"
   },
   {
    "duration": 4,
    "start_time": "2021-11-28T16:33:59.984Z"
   },
   {
    "duration": 6960,
    "start_time": "2021-11-28T16:35:09.952Z"
   },
   {
    "duration": 3,
    "start_time": "2021-11-28T16:35:25.953Z"
   },
   {
    "duration": 246,
    "start_time": "2021-11-28T16:35:31.808Z"
   },
   {
    "duration": 363,
    "start_time": "2021-11-28T16:35:36.367Z"
   },
   {
    "duration": 5,
    "start_time": "2021-11-28T16:36:06.050Z"
   },
   {
    "duration": 3069,
    "start_time": "2021-11-28T16:37:52.884Z"
   },
   {
    "duration": 484,
    "start_time": "2021-11-28T16:37:59.012Z"
   },
   {
    "duration": 4122,
    "start_time": "2021-11-28T16:38:09.612Z"
   },
   {
    "duration": 1873,
    "start_time": "2021-11-28T16:38:17.844Z"
   },
   {
    "duration": 23,
    "start_time": "2021-11-28T16:38:30.842Z"
   },
   {
    "duration": 4958,
    "start_time": "2021-11-28T16:38:32.208Z"
   },
   {
    "duration": 2654,
    "start_time": "2021-11-28T16:38:49.678Z"
   },
   {
    "duration": 7,
    "start_time": "2021-11-28T16:38:52.335Z"
   },
   {
    "duration": 38,
    "start_time": "2021-11-28T16:38:52.344Z"
   },
   {
    "duration": 8,
    "start_time": "2021-11-28T16:38:52.384Z"
   },
   {
    "duration": 5,
    "start_time": "2021-11-28T16:38:52.393Z"
   },
   {
    "duration": 10,
    "start_time": "2021-11-28T16:38:52.400Z"
   },
   {
    "duration": 3,
    "start_time": "2021-11-28T16:38:52.411Z"
   },
   {
    "duration": 8,
    "start_time": "2021-11-28T16:38:52.416Z"
   },
   {
    "duration": 316,
    "start_time": "2021-11-28T16:38:52.426Z"
   },
   {
    "duration": 8,
    "start_time": "2021-11-28T16:38:52.743Z"
   },
   {
    "duration": 324,
    "start_time": "2021-11-28T16:38:52.753Z"
   },
   {
    "duration": 262,
    "start_time": "2021-11-28T16:38:53.079Z"
   },
   {
    "duration": 206,
    "start_time": "2021-11-28T16:38:53.342Z"
   },
   {
    "duration": 5,
    "start_time": "2021-11-28T16:38:53.550Z"
   },
   {
    "duration": 13,
    "start_time": "2021-11-28T16:38:53.557Z"
   },
   {
    "duration": 388,
    "start_time": "2021-11-28T16:38:53.571Z"
   },
   {
    "duration": 10,
    "start_time": "2021-11-28T16:38:53.960Z"
   },
   {
    "duration": 225,
    "start_time": "2021-11-28T16:38:53.971Z"
   },
   {
    "duration": 2,
    "start_time": "2021-11-28T16:38:54.198Z"
   },
   {
    "duration": 18,
    "start_time": "2021-11-28T16:38:54.201Z"
   },
   {
    "duration": 6,
    "start_time": "2021-11-28T16:38:54.221Z"
   },
   {
    "duration": 2770,
    "start_time": "2021-11-28T16:38:54.229Z"
   },
   {
    "duration": 4,
    "start_time": "2021-11-28T16:38:57.002Z"
   },
   {
    "duration": 7,
    "start_time": "2021-11-28T16:38:57.008Z"
   },
   {
    "duration": 7,
    "start_time": "2021-11-28T16:38:57.016Z"
   },
   {
    "duration": 1755,
    "start_time": "2021-11-28T16:38:57.025Z"
   },
   {
    "duration": 39755,
    "start_time": "2021-11-28T16:38:58.788Z"
   },
   {
    "duration": 3481,
    "start_time": "2021-11-28T16:39:38.544Z"
   },
   {
    "duration": 214,
    "start_time": "2021-11-28T16:39:42.027Z"
   },
   {
    "duration": 3,
    "start_time": "2021-11-28T16:39:42.243Z"
   },
   {
    "duration": 158,
    "start_time": "2021-11-28T16:39:42.247Z"
   },
   {
    "duration": 5,
    "start_time": "2021-11-28T16:39:42.406Z"
   },
   {
    "duration": 4264,
    "start_time": "2021-11-28T16:40:59.343Z"
   },
   {
    "duration": 2735,
    "start_time": "2021-11-28T16:41:03.609Z"
   },
   {
    "duration": 3023,
    "start_time": "2021-11-28T16:41:06.346Z"
   },
   {
    "duration": 24,
    "start_time": "2021-11-28T16:41:09.370Z"
   },
   {
    "duration": 5445,
    "start_time": "2021-11-28T16:41:09.395Z"
   },
   {
    "duration": 7,
    "start_time": "2021-11-28T16:41:14.842Z"
   },
   {
    "duration": 44,
    "start_time": "2021-11-28T16:41:14.851Z"
   },
   {
    "duration": 9,
    "start_time": "2021-11-28T16:41:14.896Z"
   },
   {
    "duration": 5,
    "start_time": "2021-11-28T16:41:14.908Z"
   },
   {
    "duration": 10,
    "start_time": "2021-11-28T16:41:14.915Z"
   },
   {
    "duration": 4,
    "start_time": "2021-11-28T16:41:14.927Z"
   },
   {
    "duration": 11,
    "start_time": "2021-11-28T16:41:14.932Z"
   },
   {
    "duration": 308,
    "start_time": "2021-11-28T16:41:14.944Z"
   },
   {
    "duration": 6,
    "start_time": "2021-11-28T16:41:15.254Z"
   },
   {
    "duration": 316,
    "start_time": "2021-11-28T16:41:15.262Z"
   },
   {
    "duration": 261,
    "start_time": "2021-11-28T16:41:15.580Z"
   },
   {
    "duration": 195,
    "start_time": "2021-11-28T16:41:15.843Z"
   },
   {
    "duration": 6,
    "start_time": "2021-11-28T16:41:16.040Z"
   },
   {
    "duration": 4,
    "start_time": "2021-11-28T16:41:16.048Z"
   },
   {
    "duration": 405,
    "start_time": "2021-11-28T16:41:16.053Z"
   },
   {
    "duration": 10,
    "start_time": "2021-11-28T16:41:16.460Z"
   },
   {
    "duration": 340,
    "start_time": "2021-11-28T16:41:16.472Z"
   },
   {
    "duration": 2,
    "start_time": "2021-11-28T16:41:16.813Z"
   },
   {
    "duration": 8,
    "start_time": "2021-11-28T16:41:16.816Z"
   },
   {
    "duration": 6,
    "start_time": "2021-11-28T16:41:16.825Z"
   },
   {
    "duration": 6,
    "start_time": "2021-11-28T16:41:16.832Z"
   },
   {
    "duration": 1635,
    "start_time": "2021-11-28T16:41:16.840Z"
   },
   {
    "duration": 39219,
    "start_time": "2021-11-28T16:41:18.488Z"
   },
   {
    "duration": 3216,
    "start_time": "2021-11-28T16:41:57.709Z"
   },
   {
    "duration": 215,
    "start_time": "2021-11-28T16:42:00.927Z"
   },
   {
    "duration": 5,
    "start_time": "2021-11-28T16:42:01.143Z"
   },
   {
    "duration": 181,
    "start_time": "2021-11-28T16:42:01.150Z"
   },
   {
    "duration": 6,
    "start_time": "2021-11-28T16:42:01.333Z"
   },
   {
    "duration": 4,
    "start_time": "2021-11-28T16:46:00.693Z"
   },
   {
    "duration": 144,
    "start_time": "2021-11-28T17:26:31.647Z"
   },
   {
    "duration": 410,
    "start_time": "2021-11-28T17:26:52.094Z"
   },
   {
    "duration": 5,
    "start_time": "2021-11-28T17:27:01.727Z"
   },
   {
    "duration": 82,
    "start_time": "2021-11-28T17:28:31.149Z"
   },
   {
    "duration": 239,
    "start_time": "2021-11-28T17:29:59.517Z"
   },
   {
    "duration": 264,
    "start_time": "2021-11-28T17:30:45.037Z"
   },
   {
    "duration": 6,
    "start_time": "2021-11-28T17:33:26.225Z"
   },
   {
    "duration": 5,
    "start_time": "2021-11-28T17:33:28.431Z"
   },
   {
    "duration": 262,
    "start_time": "2021-11-28T17:33:43.627Z"
   },
   {
    "duration": 45826,
    "start_time": "2021-11-28T17:33:52.492Z"
   },
   {
    "duration": 5,
    "start_time": "2021-11-28T17:37:27.075Z"
   },
   {
    "duration": 4313,
    "start_time": "2021-11-28T17:44:01.570Z"
   },
   {
    "duration": 2582,
    "start_time": "2021-11-28T17:44:05.885Z"
   },
   {
    "duration": 2443,
    "start_time": "2021-11-28T17:44:08.469Z"
   },
   {
    "duration": 21,
    "start_time": "2021-11-28T17:44:10.914Z"
   },
   {
    "duration": 5052,
    "start_time": "2021-11-28T17:44:10.937Z"
   },
   {
    "duration": 8,
    "start_time": "2021-11-28T17:44:15.991Z"
   },
   {
    "duration": 39,
    "start_time": "2021-11-28T17:44:16.000Z"
   },
   {
    "duration": 8,
    "start_time": "2021-11-28T17:44:16.042Z"
   },
   {
    "duration": 5,
    "start_time": "2021-11-28T17:44:16.052Z"
   },
   {
    "duration": 11,
    "start_time": "2021-11-28T17:44:16.059Z"
   },
   {
    "duration": 3,
    "start_time": "2021-11-28T17:44:16.071Z"
   },
   {
    "duration": 9,
    "start_time": "2021-11-28T17:44:16.088Z"
   },
   {
    "duration": 303,
    "start_time": "2021-11-28T17:44:16.099Z"
   },
   {
    "duration": 7,
    "start_time": "2021-11-28T17:44:16.403Z"
   },
   {
    "duration": 308,
    "start_time": "2021-11-28T17:44:16.411Z"
   },
   {
    "duration": 269,
    "start_time": "2021-11-28T17:44:16.721Z"
   },
   {
    "duration": 198,
    "start_time": "2021-11-28T17:44:16.991Z"
   },
   {
    "duration": 6,
    "start_time": "2021-11-28T17:44:17.191Z"
   },
   {
    "duration": 19,
    "start_time": "2021-11-28T17:44:17.198Z"
   },
   {
    "duration": 346,
    "start_time": "2021-11-28T17:44:17.218Z"
   },
   {
    "duration": 10,
    "start_time": "2021-11-28T17:44:17.565Z"
   },
   {
    "duration": 329,
    "start_time": "2021-11-28T17:44:17.577Z"
   },
   {
    "duration": 3,
    "start_time": "2021-11-28T17:44:17.909Z"
   },
   {
    "duration": 17,
    "start_time": "2021-11-28T17:44:17.913Z"
   },
   {
    "duration": 15,
    "start_time": "2021-11-28T17:44:17.932Z"
   },
   {
    "duration": 15,
    "start_time": "2021-11-28T17:44:17.948Z"
   },
   {
    "duration": 17,
    "start_time": "2021-11-28T17:44:17.965Z"
   },
   {
    "duration": 1359,
    "start_time": "2021-11-28T17:44:17.983Z"
   },
   {
    "duration": 36106,
    "start_time": "2021-11-28T17:44:19.344Z"
   },
   {
    "duration": 5712,
    "start_time": "2021-11-28T17:44:55.452Z"
   },
   {
    "duration": 134,
    "start_time": "2021-11-28T17:45:01.166Z"
   },
   {
    "duration": 5,
    "start_time": "2021-11-28T17:45:01.302Z"
   },
   {
    "duration": 142,
    "start_time": "2021-11-28T17:45:01.308Z"
   },
   {
    "duration": 6,
    "start_time": "2021-11-28T17:45:01.451Z"
   },
   {
    "duration": 62,
    "start_time": "2021-11-28T17:45:01.458Z"
   },
   {
    "duration": 207,
    "start_time": "2021-11-28T17:45:01.522Z"
   },
   {
    "duration": 4,
    "start_time": "2021-11-28T17:45:01.731Z"
   },
   {
    "duration": 275,
    "start_time": "2021-11-28T17:45:01.737Z"
   },
   {
    "duration": 4511,
    "start_time": "2021-11-28T17:45:42.270Z"
   },
   {
    "duration": 2570,
    "start_time": "2021-11-28T17:45:46.783Z"
   },
   {
    "duration": 2595,
    "start_time": "2021-11-28T17:45:49.355Z"
   },
   {
    "duration": 19,
    "start_time": "2021-11-28T17:45:51.952Z"
   },
   {
    "duration": 5055,
    "start_time": "2021-11-28T17:45:51.972Z"
   },
   {
    "duration": 8,
    "start_time": "2021-11-28T17:45:57.029Z"
   },
   {
    "duration": 43,
    "start_time": "2021-11-28T17:45:57.038Z"
   },
   {
    "duration": 9,
    "start_time": "2021-11-28T17:45:57.083Z"
   },
   {
    "duration": 6,
    "start_time": "2021-11-28T17:45:57.094Z"
   },
   {
    "duration": 15,
    "start_time": "2021-11-28T17:45:57.101Z"
   },
   {
    "duration": 2,
    "start_time": "2021-11-28T17:45:57.118Z"
   },
   {
    "duration": 10,
    "start_time": "2021-11-28T17:45:57.122Z"
   },
   {
    "duration": 309,
    "start_time": "2021-11-28T17:45:57.133Z"
   },
   {
    "duration": 6,
    "start_time": "2021-11-28T17:45:57.443Z"
   },
   {
    "duration": 305,
    "start_time": "2021-11-28T17:45:57.451Z"
   },
   {
    "duration": 266,
    "start_time": "2021-11-28T17:45:57.758Z"
   },
   {
    "duration": 197,
    "start_time": "2021-11-28T17:45:58.025Z"
   },
   {
    "duration": 6,
    "start_time": "2021-11-28T17:45:58.223Z"
   },
   {
    "duration": 4,
    "start_time": "2021-11-28T17:45:58.231Z"
   },
   {
    "duration": 379,
    "start_time": "2021-11-28T17:45:58.237Z"
   },
   {
    "duration": 11,
    "start_time": "2021-11-28T17:45:58.618Z"
   },
   {
    "duration": 333,
    "start_time": "2021-11-28T17:45:58.630Z"
   },
   {
    "duration": 2,
    "start_time": "2021-11-28T17:45:58.966Z"
   },
   {
    "duration": 17,
    "start_time": "2021-11-28T17:45:58.970Z"
   },
   {
    "duration": 6,
    "start_time": "2021-11-28T17:45:58.989Z"
   },
   {
    "duration": 2,
    "start_time": "2021-11-28T17:45:58.996Z"
   },
   {
    "duration": 1611,
    "start_time": "2021-11-28T17:45:59.000Z"
   },
   {
    "duration": 38543,
    "start_time": "2021-11-28T17:46:00.613Z"
   },
   {
    "duration": 3105,
    "start_time": "2021-11-28T17:46:39.158Z"
   },
   {
    "duration": 201,
    "start_time": "2021-11-28T17:46:42.264Z"
   },
   {
    "duration": 3,
    "start_time": "2021-11-28T17:46:42.467Z"
   },
   {
    "duration": 154,
    "start_time": "2021-11-28T17:46:42.472Z"
   },
   {
    "duration": 4,
    "start_time": "2021-11-28T17:46:42.628Z"
   },
   {
    "duration": 8,
    "start_time": "2021-11-28T17:46:42.633Z"
   },
   {
    "duration": 155,
    "start_time": "2021-11-28T17:46:42.643Z"
   },
   {
    "duration": 3,
    "start_time": "2021-11-28T17:46:42.800Z"
   },
   {
    "duration": 270,
    "start_time": "2021-11-28T17:46:42.804Z"
   },
   {
    "duration": 253,
    "start_time": "2021-11-28T17:48:02.367Z"
   }
  ],
  "kernelspec": {
   "display_name": "Python 3",
   "language": "python",
   "name": "python3"
  },
  "language_info": {
   "codemirror_mode": {
    "name": "ipython",
    "version": 3
   },
   "file_extension": ".py",
   "mimetype": "text/x-python",
   "name": "python",
   "nbconvert_exporter": "python",
   "pygments_lexer": "ipython3",
   "version": "3.8.8"
  },
  "toc": {
   "base_numbering": 1,
   "nav_menu": {},
   "number_sections": true,
   "sideBar": true,
   "skip_h1_title": true,
   "title_cell": "Table of Contents",
   "title_sidebar": "Contents",
   "toc_cell": false,
   "toc_position": {},
   "toc_section_display": true,
   "toc_window_display": false
  }
 },
 "nbformat": 4,
 "nbformat_minor": 2
}
