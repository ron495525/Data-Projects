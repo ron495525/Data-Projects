{
 "cells": [
  {
   "cell_type": "markdown",
   "metadata": {},
   "source": [
    "# Project description\n",
    "You work as an analyst for the telecom operator Megaline. The company\n",
    "offers its clients two prepaid plans, Surf and Ultimate. The commercial\n",
    "department wants to know which of the plans brings in more revenue in order\n",
    "to adjust the advertising budget.\n",
    "\n"
   ]
  },
  {
   "cell_type": "markdown",
   "metadata": {},
   "source": [
    "# Project's Goal\n",
    "\n",
    "Analyze clients' behavior and determine which prepaid plan brings in more revenue.\n"
   ]
  },
  {
   "cell_type": "markdown",
   "metadata": {},
   "source": [
    "## Open the data files and study the general information"
   ]
  },
  {
   "cell_type": "code",
   "execution_count": 1,
   "metadata": {},
   "outputs": [],
   "source": [
    "#import libraries\n",
    "import numpy as np\n",
    "import datetime as dt\n",
    "import pandas as pd\n",
    "import matplotlib.pyplot as plt\n",
    "import warnings\n",
    "from scipy import stats as st\n",
    "from scipy.stats import levene\n",
    "import math as mt\n",
    "from functools import reduce\n",
    "\n",
    "#ignorning warning\n",
    "warnings.simplefilter ('ignore')\n",
    "\n",
    "#make a try-except block in order to avoid file path error when working both locally and remotely.\n",
    "try:\n",
    "    df_calls = pd.read_csv('megaline_calls.csv')\n",
    "    df_internet = pd.read_csv('megaline_internet.csv')\n",
    "    df_msg = pd.read_csv('megaline_messages.csv')\n",
    "    df_plans = pd.read_csv('megaline_plans.csv')\n",
    "    df_users = pd.read_csv('megaline_users.csv')\n",
    "except:\n",
    "    df_calls = pd.read_csv('/datasets/megaline_calls.csv')\n",
    "    df_internet = pd.read_csv('/datasets/megaline_internet.csv')\n",
    "    df_msg = pd.read_csv('/datasets/megaline_messages.csv')\n",
    "    df_plans = pd.read_csv('/datasets/megaline_plans.csv')\n",
    "    df_users = pd.read_csv('/datasets/megaline_users.csv')\n",
    "    \n"
   ]
  },
  {
   "cell_type": "code",
   "execution_count": 2,
   "metadata": {},
   "outputs": [],
   "source": [
    "#dict to iterate over all dfs together\n",
    "dfs = {\n",
    "  \"df_calls\": df_calls,\n",
    "  \"df_internet\": df_internet,\n",
    "    \"df_msg\": df_msg,\n",
    "    \"df_plans\": df_plans,\n",
    "    \"df_users\": df_users    \n",
    "}"
   ]
  },
  {
   "cell_type": "markdown",
   "metadata": {},
   "source": [
    "Check the tables first 5 rows to see the general information."
   ]
  },
  {
   "cell_type": "code",
   "execution_count": 3,
   "metadata": {},
   "outputs": [
    {
     "name": "stdout",
     "output_type": "stream",
     "text": [
      "\n",
      "df_calls\n",
      "         id  user_id   call_date  duration\n",
      "0   1000_93     1000  2018-12-27      8.52\n",
      "1  1000_145     1000  2018-12-27     13.66\n",
      "2  1000_247     1000  2018-12-27     14.48\n",
      "3  1000_309     1000  2018-12-28      5.76\n",
      "4  1000_380     1000  2018-12-30      4.22\n",
      "\n",
      "df_internet\n",
      "         id  user_id session_date  mb_used\n",
      "0   1000_13     1000   2018-12-29    89.86\n",
      "1  1000_204     1000   2018-12-31     0.00\n",
      "2  1000_379     1000   2018-12-28   660.40\n",
      "3  1000_413     1000   2018-12-26   270.99\n",
      "4  1000_442     1000   2018-12-27   880.22\n",
      "\n",
      "df_msg\n",
      "         id  user_id message_date\n",
      "0  1000_125     1000   2018-12-27\n",
      "1  1000_160     1000   2018-12-31\n",
      "2  1000_223     1000   2018-12-31\n",
      "3  1000_251     1000   2018-12-27\n",
      "4  1000_255     1000   2018-12-26\n",
      "\n",
      "df_plans\n",
      "   messages_included  mb_per_month_included  minutes_included  \\\n",
      "0                 50                  15360               500   \n",
      "1               1000                  30720              3000   \n",
      "\n",
      "   usd_monthly_pay  usd_per_gb  usd_per_message  usd_per_minute plan_name  \n",
      "0               20          10             0.03            0.03      surf  \n",
      "1               70           7             0.01            0.01  ultimate  \n",
      "\n",
      "df_users\n",
      "   user_id first_name  last_name  age                                   city  \\\n",
      "0     1000   Anamaria      Bauer   45  Atlanta-Sandy Springs-Roswell, GA MSA   \n",
      "1     1001     Mickey  Wilkerson   28        Seattle-Tacoma-Bellevue, WA MSA   \n",
      "2     1002     Carlee    Hoffman   36   Las Vegas-Henderson-Paradise, NV MSA   \n",
      "3     1003   Reynaldo    Jenkins   52                          Tulsa, OK MSA   \n",
      "4     1004    Leonila   Thompson   40        Seattle-Tacoma-Bellevue, WA MSA   \n",
      "\n",
      "     reg_date      plan churn_date  \n",
      "0  2018-12-24  ultimate        NaN  \n",
      "1  2018-08-13      surf        NaN  \n",
      "2  2018-10-21      surf        NaN  \n",
      "3  2018-01-28      surf        NaN  \n",
      "4  2018-05-23      surf        NaN  \n"
     ]
    }
   ],
   "source": [
    "for k,v in dfs.items():\n",
    "    print('\\n{}\\n{}'.format(k, v.head()))"
   ]
  },
  {
   "cell_type": "markdown",
   "metadata": {},
   "source": [
    "Check the tables general structure."
   ]
  },
  {
   "cell_type": "code",
   "execution_count": 4,
   "metadata": {},
   "outputs": [
    {
     "name": "stdout",
     "output_type": "stream",
     "text": [
      "\n",
      "\n",
      "df_calls\n",
      "<class 'pandas.core.frame.DataFrame'>\n",
      "RangeIndex: 137735 entries, 0 to 137734\n",
      "Data columns (total 4 columns):\n",
      "id           137735 non-null object\n",
      "user_id      137735 non-null int64\n",
      "call_date    137735 non-null object\n",
      "duration     137735 non-null float64\n",
      "dtypes: float64(1), int64(1), object(2)\n",
      "memory usage: 4.2+ MB\n",
      "\n",
      "\n",
      "df_internet\n",
      "<class 'pandas.core.frame.DataFrame'>\n",
      "RangeIndex: 104825 entries, 0 to 104824\n",
      "Data columns (total 4 columns):\n",
      "id              104825 non-null object\n",
      "user_id         104825 non-null int64\n",
      "session_date    104825 non-null object\n",
      "mb_used         104825 non-null float64\n",
      "dtypes: float64(1), int64(1), object(2)\n",
      "memory usage: 3.2+ MB\n",
      "\n",
      "\n",
      "df_msg\n",
      "<class 'pandas.core.frame.DataFrame'>\n",
      "RangeIndex: 76051 entries, 0 to 76050\n",
      "Data columns (total 3 columns):\n",
      "id              76051 non-null object\n",
      "user_id         76051 non-null int64\n",
      "message_date    76051 non-null object\n",
      "dtypes: int64(1), object(2)\n",
      "memory usage: 1.7+ MB\n",
      "\n",
      "\n",
      "df_plans\n",
      "<class 'pandas.core.frame.DataFrame'>\n",
      "RangeIndex: 2 entries, 0 to 1\n",
      "Data columns (total 8 columns):\n",
      "messages_included        2 non-null int64\n",
      "mb_per_month_included    2 non-null int64\n",
      "minutes_included         2 non-null int64\n",
      "usd_monthly_pay          2 non-null int64\n",
      "usd_per_gb               2 non-null int64\n",
      "usd_per_message          2 non-null float64\n",
      "usd_per_minute           2 non-null float64\n",
      "plan_name                2 non-null object\n",
      "dtypes: float64(2), int64(5), object(1)\n",
      "memory usage: 256.0+ bytes\n",
      "\n",
      "\n",
      "df_users\n",
      "<class 'pandas.core.frame.DataFrame'>\n",
      "RangeIndex: 500 entries, 0 to 499\n",
      "Data columns (total 8 columns):\n",
      "user_id       500 non-null int64\n",
      "first_name    500 non-null object\n",
      "last_name     500 non-null object\n",
      "age           500 non-null int64\n",
      "city          500 non-null object\n",
      "reg_date      500 non-null object\n",
      "plan          500 non-null object\n",
      "churn_date    34 non-null object\n",
      "dtypes: int64(2), object(6)\n",
      "memory usage: 31.4+ KB\n"
     ]
    }
   ],
   "source": [
    "for k,v in dfs.items():\n",
    "    print('\\n\\n'+ k)\n",
    "    v.info()"
   ]
  },
  {
   "cell_type": "markdown",
   "metadata": {},
   "source": [
    "percentage of missing values in all dataframes"
   ]
  },
  {
   "cell_type": "code",
   "execution_count": 5,
   "metadata": {},
   "outputs": [
    {
     "name": "stdout",
     "output_type": "stream",
     "text": [
      "\n",
      "df_calls\n",
      "id           0.0\n",
      "user_id      0.0\n",
      "call_date    0.0\n",
      "duration     0.0\n",
      "dtype: float64\n",
      "\n",
      "df_internet\n",
      "id              0.0\n",
      "user_id         0.0\n",
      "session_date    0.0\n",
      "mb_used         0.0\n",
      "dtype: float64\n",
      "\n",
      "df_msg\n",
      "id              0.0\n",
      "user_id         0.0\n",
      "message_date    0.0\n",
      "dtype: float64\n",
      "\n",
      "df_plans\n",
      "messages_included        0.0\n",
      "mb_per_month_included    0.0\n",
      "minutes_included         0.0\n",
      "usd_monthly_pay          0.0\n",
      "usd_per_gb               0.0\n",
      "usd_per_message          0.0\n",
      "usd_per_minute           0.0\n",
      "plan_name                0.0\n",
      "dtype: float64\n",
      "\n",
      "df_users\n",
      "user_id       0.000\n",
      "first_name    0.000\n",
      "last_name     0.000\n",
      "age           0.000\n",
      "city          0.000\n",
      "reg_date      0.000\n",
      "plan          0.000\n",
      "churn_date    0.932\n",
      "dtype: float64\n"
     ]
    }
   ],
   "source": [
    "for k,v in dfs.items():\n",
    "    print('\\n{}\\n{}'.format(k, v.isna().mean()))"
   ]
  },
  {
   "cell_type": "markdown",
   "metadata": {},
   "source": [
    "We have no missing values besides churn_date column in the users df, which refers to the date the user stopped using the service, missing means the calling plan was being used when this data was generated."
   ]
  },
  {
   "cell_type": "markdown",
   "metadata": {},
   "source": [
    "Checking for duplicates"
   ]
  },
  {
   "cell_type": "code",
   "execution_count": 6,
   "metadata": {},
   "outputs": [
    {
     "name": "stdout",
     "output_type": "stream",
     "text": [
      "\n",
      "df_calls\n",
      "0\n",
      "\n",
      "df_internet\n",
      "0\n",
      "\n",
      "df_msg\n",
      "0\n",
      "\n",
      "df_plans\n",
      "0\n",
      "\n",
      "df_users\n",
      "0\n"
     ]
    }
   ],
   "source": [
    "for k,v in dfs.items():\n",
    "    print('\\n{}\\n{}'.format(k, v.duplicated().sum()))"
   ]
  },
  {
   "cell_type": "markdown",
   "metadata": {},
   "source": [
    "looking for common columns between dfs"
   ]
  },
  {
   "cell_type": "code",
   "execution_count": 7,
   "metadata": {},
   "outputs": [
    {
     "name": "stdout",
     "output_type": "stream",
     "text": [
      "\n",
      "df_calls\n",
      "['id', 'user_id', 'call_date', 'duration']\n",
      "\n",
      "df_internet\n",
      "['id', 'user_id', 'session_date', 'mb_used']\n",
      "\n",
      "df_msg\n",
      "['id', 'user_id', 'message_date']\n",
      "\n",
      "df_plans\n",
      "['messages_included', 'mb_per_month_included', 'minutes_included', 'usd_monthly_pay', 'usd_per_gb', 'usd_per_message', 'usd_per_minute', 'plan_name']\n",
      "\n",
      "df_users\n",
      "['user_id', 'first_name', 'last_name', 'age', 'city', 'reg_date', 'plan', 'churn_date']\n"
     ]
    }
   ],
   "source": [
    "for k,v in dfs.items():\n",
    "    print('\\n{}\\n{}'.format(k, v.columns.tolist()))"
   ]
  },
  {
   "cell_type": "markdown",
   "metadata": {},
   "source": [
    "Checking for the tables general statistics"
   ]
  },
  {
   "cell_type": "code",
   "execution_count": 8,
   "metadata": {},
   "outputs": [
    {
     "name": "stdout",
     "output_type": "stream",
     "text": [
      "\n",
      "df_calls\n",
      "             user_id       duration\n",
      "count  137735.000000  137735.000000\n",
      "mean     1247.658046       6.745927\n",
      "std       139.416268       5.839241\n",
      "min      1000.000000       0.000000\n",
      "25%      1128.000000       1.290000\n",
      "50%      1247.000000       5.980000\n",
      "75%      1365.000000      10.690000\n",
      "max      1499.000000      37.600000\n",
      "\n",
      "df_internet\n",
      "             user_id        mb_used\n",
      "count  104825.000000  104825.000000\n",
      "mean     1242.496361     366.713701\n",
      "std       142.053913     277.170542\n",
      "min      1000.000000       0.000000\n",
      "25%      1122.000000     136.080000\n",
      "50%      1236.000000     343.980000\n",
      "75%      1367.000000     554.610000\n",
      "max      1499.000000    1693.470000\n",
      "\n",
      "df_msg\n",
      "            user_id\n",
      "count  76051.000000\n",
      "mean    1245.972768\n",
      "std      139.843635\n",
      "min     1000.000000\n",
      "25%     1123.000000\n",
      "50%     1251.000000\n",
      "75%     1362.000000\n",
      "max     1497.000000\n",
      "\n",
      "df_plans\n",
      "       messages_included  mb_per_month_included  minutes_included  \\\n",
      "count           2.000000               2.000000          2.000000   \n",
      "mean          525.000000           23040.000000       1750.000000   \n",
      "std           671.751442           10861.160159       1767.766953   \n",
      "min            50.000000           15360.000000        500.000000   \n",
      "25%           287.500000           19200.000000       1125.000000   \n",
      "50%           525.000000           23040.000000       1750.000000   \n",
      "75%           762.500000           26880.000000       2375.000000   \n",
      "max          1000.000000           30720.000000       3000.000000   \n",
      "\n",
      "       usd_monthly_pay  usd_per_gb  usd_per_message  usd_per_minute  \n",
      "count         2.000000     2.00000         2.000000        2.000000  \n",
      "mean         45.000000     8.50000         0.020000        0.020000  \n",
      "std          35.355339     2.12132         0.014142        0.014142  \n",
      "min          20.000000     7.00000         0.010000        0.010000  \n",
      "25%          32.500000     7.75000         0.015000        0.015000  \n",
      "50%          45.000000     8.50000         0.020000        0.020000  \n",
      "75%          57.500000     9.25000         0.025000        0.025000  \n",
      "max          70.000000    10.00000         0.030000        0.030000  \n",
      "\n",
      "df_users\n",
      "           user_id         age\n",
      "count   500.000000  500.000000\n",
      "mean   1249.500000   45.486000\n",
      "std     144.481833   16.972269\n",
      "min    1000.000000   18.000000\n",
      "25%    1124.750000   30.000000\n",
      "50%    1249.500000   46.000000\n",
      "75%    1374.250000   61.000000\n",
      "max    1499.000000   75.000000\n"
     ]
    }
   ],
   "source": [
    "for k,v in dfs.items():\n",
    "    print('\\n{}\\n{}'.format(k, v.describe()))"
   ]
  },
  {
   "cell_type": "markdown",
   "metadata": {},
   "source": [
    "Checking how much unanswered calls compared to total calls"
   ]
  },
  {
   "cell_type": "code",
   "execution_count": 9,
   "metadata": {},
   "outputs": [
    {
     "data": {
      "text/plain": [
       "19.482339274694162"
      ]
     },
     "execution_count": 9,
     "metadata": {},
     "output_type": "execute_result"
    }
   ],
   "source": [
    "df_calls['duration'].value_counts() \n",
    "missed_call_prec = (26834 / len(df_calls)) * 100\n",
    "missed_call_prec"
   ]
  },
  {
   "cell_type": "markdown",
   "metadata": {},
   "source": [
    "Checking how much users didnt use internet at all compared to total users"
   ]
  },
  {
   "cell_type": "code",
   "execution_count": 10,
   "metadata": {},
   "outputs": [
    {
     "data": {
      "text/plain": [
       "13.11423801574052"
      ]
     },
     "execution_count": 10,
     "metadata": {},
     "output_type": "execute_result"
    }
   ],
   "source": [
    "df_internet['mb_used'].value_counts() \n",
    "no_internet_prec = (13747 / len(df_internet)) * 100\n",
    "no_internet_prec"
   ]
  },
  {
   "cell_type": "markdown",
   "metadata": {},
   "source": [
    "### Conclusion\n",
    "#### After having a look at the table's general information, We discovered useful information regarding our data."
   ]
  },
  {
   "cell_type": "markdown",
   "metadata": {},
   "source": [
    "##### there are no duplicates in our data\n",
    "##### There is 1 column that contains missing values across the data.\n",
    "df_users.churn_date is the only column with missing values, but those missing values have a meaning - the plan was being used \n",
    "when this data was generated. we will replace the missing value with None -this means there is no churn_date as the user still uses the plan.\n",
    "\n",
    "##### There are several columns that their datatype should be changed.\n",
    "All the date related columns should be changed to date type. (except churn_date that will contain the word 'None' - an object)\n",
    "\n",
    "df_calls.duration column will be rounded up and changed to int.\n",
    "\n",
    "##### Values measurement unit will be changed \n",
    "We know the plans are measured by gb and our column is represented with mb(df_internet.mb_used). \n",
    "We will add a column with  the representation of gb according to the plans rules:\n",
    "For calls, each individual call is rounded up: even if the call lasted\n",
    "just one second, it will be counted as one minute. (1s = 1m, 61s = 2m)\n",
    "For web traffic, individual web sessions are not rounded up. Instead, the total for the month is rounded up (i.e; 1mb = 1gb, 1025mb = 2gb). \n",
    "\n",
    "#####  Abnormal values analysis\n",
    "Values of 0 in call_duration(19.4%) will be considered unanswered call, and values of 0 in mb_used(13.1%) are considered 0 usage in the session."
   ]
  },
  {
   "cell_type": "markdown",
   "metadata": {},
   "source": [
    "## Data preperation"
   ]
  },
  {
   "cell_type": "markdown",
   "metadata": {},
   "source": [
    "### covert datatypes"
   ]
  },
  {
   "cell_type": "code",
   "execution_count": 11,
   "metadata": {},
   "outputs": [],
   "source": [
    "#function to convert object columns with dates to date dtype\n",
    "def obj_to_dt(df, column):\n",
    "    df[column] =  pd.to_datetime(df[column], format='%Y-%m-%d')\n",
    "    "
   ]
  },
  {
   "cell_type": "code",
   "execution_count": 12,
   "metadata": {},
   "outputs": [],
   "source": [
    "obj_to_dt(df_calls,'call_date')\n",
    "obj_to_dt(df_internet, 'session_date')\n",
    "obj_to_dt(df_msg, 'message_date')\n",
    "obj_to_dt(df_users, 'reg_date')"
   ]
  },
  {
   "cell_type": "markdown",
   "metadata": {},
   "source": [
    "rounding up df_calls.duration column and changing to int type."
   ]
  },
  {
   "cell_type": "code",
   "execution_count": 13,
   "metadata": {},
   "outputs": [],
   "source": [
    "df_calls['duration'] = df_calls['duration'].apply(np.ceil)\n",
    "df_calls['duration'] = df_calls['duration'].astype(int)"
   ]
  },
  {
   "cell_type": "code",
   "execution_count": 14,
   "metadata": {},
   "outputs": [],
   "source": [
    "#round up monthly mb usage to gb per user"
   ]
  },
  {
   "cell_type": "markdown",
   "metadata": {},
   "source": [
    "### fill missing values"
   ]
  },
  {
   "cell_type": "markdown",
   "metadata": {},
   "source": [
    "fill churn_date missing values with None"
   ]
  },
  {
   "cell_type": "code",
   "execution_count": 15,
   "metadata": {},
   "outputs": [],
   "source": [
    "#fill churn_date missing values with None\n",
    "df_users['churn_date'] = df_users['churn_date'].fillna('None')"
   ]
  },
  {
   "cell_type": "markdown",
   "metadata": {},
   "source": [
    "### find  number of calls made and minutes used per month, number of text messages sent per month And the volume of data per month, per user per month."
   ]
  },
  {
   "cell_type": "markdown",
   "metadata": {},
   "source": [
    "adding month column to group by months for the calculations"
   ]
  },
  {
   "cell_type": "code",
   "execution_count": 16,
   "metadata": {},
   "outputs": [],
   "source": [
    "df_calls['month'] = df_calls['call_date'].dt.month\n",
    "df_internet['month'] = df_internet['session_date'].dt.month\n",
    "df_msg['month'] = df_msg['message_date'].dt.month"
   ]
  },
  {
   "cell_type": "code",
   "execution_count": 17,
   "metadata": {},
   "outputs": [],
   "source": [
    "#calls_group = df_calls.groupby(['user_id','month'])[['user_id', 'month','duration']].agg({'duration': ['sum']})\n",
    "#calls_group = df_calls.groupby(['user_id','month'])\n",
    "internet_group = df_internet.groupby(['user_id','month']).agg({'mb_used': 'sum'}).reset_index()\n",
    "msg_group = df_msg.groupby(['user_id','month']).agg({'message_date': 'count'}).reset_index()\n",
    "calls_group = df_calls.groupby(['user_id','month']).agg({'duration':'sum'}).reset_index()\n",
    "users_group = df_users"
   ]
  },
  {
   "cell_type": "markdown",
   "metadata": {},
   "source": [
    "creating a new df with new  columns of mins per month, msgs per month, and volume of data, groped by user and month."
   ]
  },
  {
   "cell_type": "code",
   "execution_count": 18,
   "metadata": {},
   "outputs": [],
   "source": [
    "data_frames = [calls_group, internet_group, msg_group]\n",
    "df_merged = reduce(lambda  left,right: pd.merge(left,right,on=['user_id', 'month'],\n",
    "                                        how='outer'), data_frames)"
   ]
  },
  {
   "cell_type": "markdown",
   "metadata": {},
   "source": [
    "storing user_id and plan to add to the merged df"
   ]
  },
  {
   "cell_type": "code",
   "execution_count": 19,
   "metadata": {},
   "outputs": [],
   "source": [
    "test = df_users[['user_id','plan']]"
   ]
  },
  {
   "cell_type": "markdown",
   "metadata": {},
   "source": [
    "adding plan column"
   ]
  },
  {
   "cell_type": "code",
   "execution_count": 20,
   "metadata": {},
   "outputs": [],
   "source": [
    "data_frames2 = [df_merged, test]\n",
    "df_merged = reduce(lambda  left,right: pd.merge(left,right,on=['user_id'],\n",
    "                                        how='outer'), data_frames2)"
   ]
  },
  {
   "cell_type": "code",
   "execution_count": 21,
   "metadata": {},
   "outputs": [
    {
     "data": {
      "text/html": [
       "<div>\n",
       "<style scoped>\n",
       "    .dataframe tbody tr th:only-of-type {\n",
       "        vertical-align: middle;\n",
       "    }\n",
       "\n",
       "    .dataframe tbody tr th {\n",
       "        vertical-align: top;\n",
       "    }\n",
       "\n",
       "    .dataframe thead th {\n",
       "        text-align: right;\n",
       "    }\n",
       "</style>\n",
       "<table border=\"1\" class=\"dataframe\">\n",
       "  <thead>\n",
       "    <tr style=\"text-align: right;\">\n",
       "      <th></th>\n",
       "      <th>user_id</th>\n",
       "      <th>month</th>\n",
       "      <th>duration</th>\n",
       "      <th>mb_used</th>\n",
       "      <th>message_date</th>\n",
       "      <th>plan</th>\n",
       "    </tr>\n",
       "  </thead>\n",
       "  <tbody>\n",
       "    <tr>\n",
       "      <td>0</td>\n",
       "      <td>1000</td>\n",
       "      <td>12.0</td>\n",
       "      <td>124.0</td>\n",
       "      <td>1901.47</td>\n",
       "      <td>11.0</td>\n",
       "      <td>ultimate</td>\n",
       "    </tr>\n",
       "    <tr>\n",
       "      <td>1</td>\n",
       "      <td>1001</td>\n",
       "      <td>8.0</td>\n",
       "      <td>182.0</td>\n",
       "      <td>6919.15</td>\n",
       "      <td>30.0</td>\n",
       "      <td>surf</td>\n",
       "    </tr>\n",
       "    <tr>\n",
       "      <td>2</td>\n",
       "      <td>1001</td>\n",
       "      <td>9.0</td>\n",
       "      <td>315.0</td>\n",
       "      <td>13314.82</td>\n",
       "      <td>44.0</td>\n",
       "      <td>surf</td>\n",
       "    </tr>\n",
       "    <tr>\n",
       "      <td>3</td>\n",
       "      <td>1001</td>\n",
       "      <td>10.0</td>\n",
       "      <td>393.0</td>\n",
       "      <td>22330.49</td>\n",
       "      <td>53.0</td>\n",
       "      <td>surf</td>\n",
       "    </tr>\n",
       "    <tr>\n",
       "      <td>4</td>\n",
       "      <td>1001</td>\n",
       "      <td>11.0</td>\n",
       "      <td>426.0</td>\n",
       "      <td>18504.30</td>\n",
       "      <td>36.0</td>\n",
       "      <td>surf</td>\n",
       "    </tr>\n",
       "  </tbody>\n",
       "</table>\n",
       "</div>"
      ],
      "text/plain": [
       "   user_id  month  duration   mb_used  message_date      plan\n",
       "0     1000   12.0     124.0   1901.47          11.0  ultimate\n",
       "1     1001    8.0     182.0   6919.15          30.0      surf\n",
       "2     1001    9.0     315.0  13314.82          44.0      surf\n",
       "3     1001   10.0     393.0  22330.49          53.0      surf\n",
       "4     1001   11.0     426.0  18504.30          36.0      surf"
      ]
     },
     "execution_count": 21,
     "metadata": {},
     "output_type": "execute_result"
    }
   ],
   "source": [
    "df_merged.head()"
   ]
  },
  {
   "cell_type": "markdown",
   "metadata": {},
   "source": [
    "checking for null values"
   ]
  },
  {
   "cell_type": "code",
   "execution_count": 22,
   "metadata": {
    "scrolled": true
   },
   "outputs": [
    {
     "data": {
      "text/html": [
       "<div>\n",
       "<style scoped>\n",
       "    .dataframe tbody tr th:only-of-type {\n",
       "        vertical-align: middle;\n",
       "    }\n",
       "\n",
       "    .dataframe tbody tr th {\n",
       "        vertical-align: top;\n",
       "    }\n",
       "\n",
       "    .dataframe thead th {\n",
       "        text-align: right;\n",
       "    }\n",
       "</style>\n",
       "<table border=\"1\" class=\"dataframe\">\n",
       "  <thead>\n",
       "    <tr style=\"text-align: right;\">\n",
       "      <th></th>\n",
       "      <th>user_id</th>\n",
       "      <th>month</th>\n",
       "      <th>duration</th>\n",
       "      <th>mb_used</th>\n",
       "      <th>message_date</th>\n",
       "      <th>plan</th>\n",
       "    </tr>\n",
       "  </thead>\n",
       "  <tbody>\n",
       "    <tr>\n",
       "      <td>29</td>\n",
       "      <td>1009</td>\n",
       "      <td>5.0</td>\n",
       "      <td>534.0</td>\n",
       "      <td>20389.40</td>\n",
       "      <td>NaN</td>\n",
       "      <td>surf</td>\n",
       "    </tr>\n",
       "    <tr>\n",
       "      <td>30</td>\n",
       "      <td>1009</td>\n",
       "      <td>6.0</td>\n",
       "      <td>823.0</td>\n",
       "      <td>18845.90</td>\n",
       "      <td>NaN</td>\n",
       "      <td>surf</td>\n",
       "    </tr>\n",
       "    <tr>\n",
       "      <td>31</td>\n",
       "      <td>1009</td>\n",
       "      <td>7.0</td>\n",
       "      <td>880.0</td>\n",
       "      <td>30421.65</td>\n",
       "      <td>NaN</td>\n",
       "      <td>surf</td>\n",
       "    </tr>\n",
       "    <tr>\n",
       "      <td>32</td>\n",
       "      <td>1009</td>\n",
       "      <td>8.0</td>\n",
       "      <td>731.0</td>\n",
       "      <td>24557.52</td>\n",
       "      <td>NaN</td>\n",
       "      <td>surf</td>\n",
       "    </tr>\n",
       "    <tr>\n",
       "      <td>33</td>\n",
       "      <td>1009</td>\n",
       "      <td>9.0</td>\n",
       "      <td>776.0</td>\n",
       "      <td>20962.40</td>\n",
       "      <td>NaN</td>\n",
       "      <td>surf</td>\n",
       "    </tr>\n",
       "    <tr>\n",
       "      <td>...</td>\n",
       "      <td>...</td>\n",
       "      <td>...</td>\n",
       "      <td>...</td>\n",
       "      <td>...</td>\n",
       "      <td>...</td>\n",
       "      <td>...</td>\n",
       "    </tr>\n",
       "    <tr>\n",
       "      <td>2298</td>\n",
       "      <td>1307</td>\n",
       "      <td>NaN</td>\n",
       "      <td>NaN</td>\n",
       "      <td>NaN</td>\n",
       "      <td>NaN</td>\n",
       "      <td>surf</td>\n",
       "    </tr>\n",
       "    <tr>\n",
       "      <td>2299</td>\n",
       "      <td>1319</td>\n",
       "      <td>NaN</td>\n",
       "      <td>NaN</td>\n",
       "      <td>NaN</td>\n",
       "      <td>NaN</td>\n",
       "      <td>surf</td>\n",
       "    </tr>\n",
       "    <tr>\n",
       "      <td>2300</td>\n",
       "      <td>1378</td>\n",
       "      <td>NaN</td>\n",
       "      <td>NaN</td>\n",
       "      <td>NaN</td>\n",
       "      <td>NaN</td>\n",
       "      <td>surf</td>\n",
       "    </tr>\n",
       "    <tr>\n",
       "      <td>2301</td>\n",
       "      <td>1463</td>\n",
       "      <td>NaN</td>\n",
       "      <td>NaN</td>\n",
       "      <td>NaN</td>\n",
       "      <td>NaN</td>\n",
       "      <td>ultimate</td>\n",
       "    </tr>\n",
       "    <tr>\n",
       "      <td>2302</td>\n",
       "      <td>1473</td>\n",
       "      <td>NaN</td>\n",
       "      <td>NaN</td>\n",
       "      <td>NaN</td>\n",
       "      <td>NaN</td>\n",
       "      <td>surf</td>\n",
       "    </tr>\n",
       "  </tbody>\n",
       "</table>\n",
       "<p>544 rows × 6 columns</p>\n",
       "</div>"
      ],
      "text/plain": [
       "      user_id  month  duration   mb_used  message_date      plan\n",
       "29       1009    5.0     534.0  20389.40           NaN      surf\n",
       "30       1009    6.0     823.0  18845.90           NaN      surf\n",
       "31       1009    7.0     880.0  30421.65           NaN      surf\n",
       "32       1009    8.0     731.0  24557.52           NaN      surf\n",
       "33       1009    9.0     776.0  20962.40           NaN      surf\n",
       "...       ...    ...       ...       ...           ...       ...\n",
       "2298     1307    NaN       NaN       NaN           NaN      surf\n",
       "2299     1319    NaN       NaN       NaN           NaN      surf\n",
       "2300     1378    NaN       NaN       NaN           NaN      surf\n",
       "2301     1463    NaN       NaN       NaN           NaN  ultimate\n",
       "2302     1473    NaN       NaN       NaN           NaN      surf\n",
       "\n",
       "[544 rows x 6 columns]"
      ]
     },
     "execution_count": 22,
     "metadata": {},
     "output_type": "execute_result"
    }
   ],
   "source": [
    "df_merged[pd.isnull(df_merged).any(axis=1)]"
   ]
  },
  {
   "cell_type": "markdown",
   "metadata": {},
   "source": [
    "we will fill the missing values with 0 as we sum the values in order to get the revenue , missing means 0 "
   ]
  },
  {
   "cell_type": "markdown",
   "metadata": {},
   "source": [
    "filling missing values with 0"
   ]
  },
  {
   "cell_type": "code",
   "execution_count": 23,
   "metadata": {},
   "outputs": [],
   "source": [
    "df_merged = df_merged.fillna(0)"
   ]
  },
  {
   "cell_type": "markdown",
   "metadata": {},
   "source": [
    "Coverting mb to gb by the plans rules - rounding up."
   ]
  },
  {
   "cell_type": "code",
   "execution_count": 24,
   "metadata": {},
   "outputs": [],
   "source": [
    "df_merged['mb_used'] = (df_merged['mb_used'] / 1024)"
   ]
  },
  {
   "cell_type": "code",
   "execution_count": 25,
   "metadata": {},
   "outputs": [],
   "source": [
    "df_merged['mb_used'] = df_merged['mb_used'].apply(np.ceil)"
   ]
  },
  {
   "cell_type": "markdown",
   "metadata": {},
   "source": [
    "changing column names"
   ]
  },
  {
   "cell_type": "code",
   "execution_count": 26,
   "metadata": {},
   "outputs": [],
   "source": [
    "df_merged.columns = ['user_id','month','call_duration','gb_used','msg_count','plan']"
   ]
  },
  {
   "cell_type": "markdown",
   "metadata": {},
   "source": [
    "changing datatypes for rounded float numbers to int"
   ]
  },
  {
   "cell_type": "code",
   "execution_count": 27,
   "metadata": {},
   "outputs": [],
   "source": [
    "df_merged = df_merged.astype ({\"call_duration\":\"int64\", \"gb_used\":\"int64\", \"msg_count\":\"int64\",\"month\":\"int64\"})"
   ]
  },
  {
   "cell_type": "markdown",
   "metadata": {},
   "source": [
    "Calculating monthly revenue from each user "
   ]
  },
  {
   "cell_type": "code",
   "execution_count": 28,
   "metadata": {},
   "outputs": [],
   "source": [
    "#creating a function that will go row by row and find the costs \n",
    "def revenue(row):\n",
    "    calls=row['call_duration']\n",
    "    gb=row['gb_used']\n",
    "    msg=row['msg_count']\n",
    "    plan=row['plan']\n",
    "    \n",
    "    #finding the calls cost\n",
    "    if plan == 'surf' and calls <= 500:\n",
    "        cost_calls = 0\n",
    "    elif plan == 'surf' and calls > 500:\n",
    "        cost_calls = (calls - 500) * 0.03\n",
    "    elif plan == 'ultimate' and calls <= 3000:\n",
    "        cost_calls = 0\n",
    "    elif plan == 'ultimate' and calls > 3000:\n",
    "        cost_calls = (calls - 3000) * 0.01\n",
    "    \n",
    "    #finding the data usage cost\n",
    "    if plan == 'surf' and gb <= 15:\n",
    "        cost_gb = 0\n",
    "    elif plan == 'surf' and gb > 15:\n",
    "        cost_gb = (gb - 15) * 10\n",
    "    elif plan == 'ultimate' and gb <= 30:\n",
    "        cost_gb = 0\n",
    "    elif plan == 'ultimate' and gb > 30:\n",
    "        cost_gb = (gb - 30) * 7\n",
    "        \n",
    "    #finding msg cost\n",
    "    if plan == 'surf' and msg <= 50:\n",
    "        cost_msg = 0\n",
    "    elif plan == 'surf' and msg > 50:\n",
    "        cost_msg = (msg - 50) * 0.03\n",
    "    elif plan == 'ultimate' and msg <= 1000:\n",
    "        cost_msg = 0\n",
    "    elif plan == 'ultimate' and msg > 1000:\n",
    "        cost_msg = (msg - 1000) * 0.01\n",
    "    \n",
    "    #plans costs\n",
    "    if plan == 'surf':\n",
    "        cost_plan = 20\n",
    "    else:\n",
    "        cost_plan = 70\n",
    "        \n",
    "        \n",
    "    #now calculate the total cost by simply summing it all up\n",
    "    total_cost=cost_calls+cost_gb+cost_msg+cost_plan\n",
    "    return total_cost"
   ]
  },
  {
   "cell_type": "code",
   "execution_count": 29,
   "metadata": {},
   "outputs": [],
   "source": [
    "# apply our function to every row of our data.\n",
    "df_merged['monthly_revenue']=df_merged.apply(revenue,axis=1)"
   ]
  },
  {
   "cell_type": "code",
   "execution_count": 30,
   "metadata": {},
   "outputs": [
    {
     "data": {
      "text/html": [
       "<div>\n",
       "<style scoped>\n",
       "    .dataframe tbody tr th:only-of-type {\n",
       "        vertical-align: middle;\n",
       "    }\n",
       "\n",
       "    .dataframe tbody tr th {\n",
       "        vertical-align: top;\n",
       "    }\n",
       "\n",
       "    .dataframe thead th {\n",
       "        text-align: right;\n",
       "    }\n",
       "</style>\n",
       "<table border=\"1\" class=\"dataframe\">\n",
       "  <thead>\n",
       "    <tr style=\"text-align: right;\">\n",
       "      <th></th>\n",
       "      <th>user_id</th>\n",
       "      <th>month</th>\n",
       "      <th>call_duration</th>\n",
       "      <th>gb_used</th>\n",
       "      <th>msg_count</th>\n",
       "      <th>plan</th>\n",
       "      <th>monthly_revenue</th>\n",
       "    </tr>\n",
       "  </thead>\n",
       "  <tbody>\n",
       "    <tr>\n",
       "      <td>0</td>\n",
       "      <td>1000</td>\n",
       "      <td>12</td>\n",
       "      <td>124</td>\n",
       "      <td>2</td>\n",
       "      <td>11</td>\n",
       "      <td>ultimate</td>\n",
       "      <td>70.00</td>\n",
       "    </tr>\n",
       "    <tr>\n",
       "      <td>1</td>\n",
       "      <td>1001</td>\n",
       "      <td>8</td>\n",
       "      <td>182</td>\n",
       "      <td>7</td>\n",
       "      <td>30</td>\n",
       "      <td>surf</td>\n",
       "      <td>20.00</td>\n",
       "    </tr>\n",
       "    <tr>\n",
       "      <td>2</td>\n",
       "      <td>1001</td>\n",
       "      <td>9</td>\n",
       "      <td>315</td>\n",
       "      <td>14</td>\n",
       "      <td>44</td>\n",
       "      <td>surf</td>\n",
       "      <td>20.00</td>\n",
       "    </tr>\n",
       "    <tr>\n",
       "      <td>3</td>\n",
       "      <td>1001</td>\n",
       "      <td>10</td>\n",
       "      <td>393</td>\n",
       "      <td>22</td>\n",
       "      <td>53</td>\n",
       "      <td>surf</td>\n",
       "      <td>90.09</td>\n",
       "    </tr>\n",
       "    <tr>\n",
       "      <td>4</td>\n",
       "      <td>1001</td>\n",
       "      <td>11</td>\n",
       "      <td>426</td>\n",
       "      <td>19</td>\n",
       "      <td>36</td>\n",
       "      <td>surf</td>\n",
       "      <td>60.00</td>\n",
       "    </tr>\n",
       "  </tbody>\n",
       "</table>\n",
       "</div>"
      ],
      "text/plain": [
       "   user_id  month  call_duration  gb_used  msg_count      plan  \\\n",
       "0     1000     12            124        2         11  ultimate   \n",
       "1     1001      8            182        7         30      surf   \n",
       "2     1001      9            315       14         44      surf   \n",
       "3     1001     10            393       22         53      surf   \n",
       "4     1001     11            426       19         36      surf   \n",
       "\n",
       "   monthly_revenue  \n",
       "0            70.00  \n",
       "1            20.00  \n",
       "2            20.00  \n",
       "3            90.09  \n",
       "4            60.00  "
      ]
     },
     "execution_count": 30,
     "metadata": {},
     "output_type": "execute_result"
    }
   ],
   "source": [
    "df_merged.head()"
   ]
  },
  {
   "cell_type": "markdown",
   "metadata": {},
   "source": [
    "creating a df to see monthly users per plan"
   ]
  },
  {
   "cell_type": "code",
   "execution_count": 32,
   "metadata": {},
   "outputs": [],
   "source": [
    "monthly_users = df_merged.groupby(['plan','month']).agg({'user_id': 'count'}).reset_index()"
   ]
  },
  {
   "cell_type": "code",
   "execution_count": 33,
   "metadata": {},
   "outputs": [],
   "source": [
    "monthly_users = monthly_users.drop(monthly_users[monthly_users.month == 0].index)\n",
    "monthly_users.columns = ['plan', 'month', 'users_count']"
   ]
  },
  {
   "cell_type": "code",
   "execution_count": 34,
   "metadata": {},
   "outputs": [
    {
     "data": {
      "text/html": [
       "<div>\n",
       "<style scoped>\n",
       "    .dataframe tbody tr th:only-of-type {\n",
       "        vertical-align: middle;\n",
       "    }\n",
       "\n",
       "    .dataframe tbody tr th {\n",
       "        vertical-align: top;\n",
       "    }\n",
       "\n",
       "    .dataframe thead th {\n",
       "        text-align: right;\n",
       "    }\n",
       "</style>\n",
       "<table border=\"1\" class=\"dataframe\">\n",
       "  <thead>\n",
       "    <tr style=\"text-align: right;\">\n",
       "      <th></th>\n",
       "      <th>plan</th>\n",
       "      <th>month</th>\n",
       "      <th>users_count</th>\n",
       "    </tr>\n",
       "  </thead>\n",
       "  <tbody>\n",
       "    <tr>\n",
       "      <td>1</td>\n",
       "      <td>surf</td>\n",
       "      <td>1</td>\n",
       "      <td>2</td>\n",
       "    </tr>\n",
       "    <tr>\n",
       "      <td>2</td>\n",
       "      <td>surf</td>\n",
       "      <td>2</td>\n",
       "      <td>9</td>\n",
       "    </tr>\n",
       "    <tr>\n",
       "      <td>3</td>\n",
       "      <td>surf</td>\n",
       "      <td>3</td>\n",
       "      <td>23</td>\n",
       "    </tr>\n",
       "    <tr>\n",
       "      <td>4</td>\n",
       "      <td>surf</td>\n",
       "      <td>4</td>\n",
       "      <td>50</td>\n",
       "    </tr>\n",
       "    <tr>\n",
       "      <td>5</td>\n",
       "      <td>surf</td>\n",
       "      <td>5</td>\n",
       "      <td>77</td>\n",
       "    </tr>\n",
       "  </tbody>\n",
       "</table>\n",
       "</div>"
      ],
      "text/plain": [
       "   plan  month  users_count\n",
       "1  surf      1            2\n",
       "2  surf      2            9\n",
       "3  surf      3           23\n",
       "4  surf      4           50\n",
       "5  surf      5           77"
      ]
     },
     "execution_count": 34,
     "metadata": {},
     "output_type": "execute_result"
    }
   ],
   "source": [
    "monthly_users.head()"
   ]
  },
  {
   "cell_type": "markdown",
   "metadata": {},
   "source": [
    "### Conclusion"
   ]
  },
  {
   "cell_type": "markdown",
   "metadata": {},
   "source": [
    "We have taken care of data type conversion, filled missing values, and made a new dataframe that shows us \n",
    "the user's monthly revenue by his consumptions (calls, msgs, data usage, plan).\n",
    "by looking at the initial statistics of the table,\n",
    "We see that our mean monthly revenue for all users from both plans is 64.24$.\n",
    "By our monthly_users df, we see that the users count is growing as the year progresses."
   ]
  },
  {
   "cell_type": "markdown",
   "metadata": {},
   "source": [
    "## Data Analysis"
   ]
  },
  {
   "cell_type": "markdown",
   "metadata": {},
   "source": [
    "#### Find the minutes, texts, and volume of data the users of each plan require per month. "
   ]
  },
  {
   "cell_type": "code",
   "execution_count": 35,
   "metadata": {},
   "outputs": [],
   "source": [
    "plans_usage = df_merged.groupby(['plan','month']).agg({'call_duration': 'sum','gb_used': 'sum', 'msg_count': 'sum'}).reset_index()"
   ]
  },
  {
   "cell_type": "code",
   "execution_count": 36,
   "metadata": {},
   "outputs": [
    {
     "data": {
      "text/html": [
       "<div>\n",
       "<style scoped>\n",
       "    .dataframe tbody tr th:only-of-type {\n",
       "        vertical-align: middle;\n",
       "    }\n",
       "\n",
       "    .dataframe tbody tr th {\n",
       "        vertical-align: top;\n",
       "    }\n",
       "\n",
       "    .dataframe thead th {\n",
       "        text-align: right;\n",
       "    }\n",
       "</style>\n",
       "<table border=\"1\" class=\"dataframe\">\n",
       "  <thead>\n",
       "    <tr style=\"text-align: right;\">\n",
       "      <th></th>\n",
       "      <th>plan</th>\n",
       "      <th>month</th>\n",
       "      <th>call_duration</th>\n",
       "      <th>gb_used</th>\n",
       "      <th>msg_count</th>\n",
       "    </tr>\n",
       "  </thead>\n",
       "  <tbody>\n",
       "    <tr>\n",
       "      <td>0</td>\n",
       "      <td>surf</td>\n",
       "      <td>0</td>\n",
       "      <td>0</td>\n",
       "      <td>0</td>\n",
       "      <td>0</td>\n",
       "    </tr>\n",
       "    <tr>\n",
       "      <td>1</td>\n",
       "      <td>surf</td>\n",
       "      <td>1</td>\n",
       "      <td>406</td>\n",
       "      <td>10</td>\n",
       "      <td>21</td>\n",
       "    </tr>\n",
       "    <tr>\n",
       "      <td>2</td>\n",
       "      <td>surf</td>\n",
       "      <td>2</td>\n",
       "      <td>2673</td>\n",
       "      <td>110</td>\n",
       "      <td>108</td>\n",
       "    </tr>\n",
       "    <tr>\n",
       "      <td>3</td>\n",
       "      <td>surf</td>\n",
       "      <td>3</td>\n",
       "      <td>7590</td>\n",
       "      <td>312</td>\n",
       "      <td>351</td>\n",
       "    </tr>\n",
       "    <tr>\n",
       "      <td>4</td>\n",
       "      <td>surf</td>\n",
       "      <td>4</td>\n",
       "      <td>17577</td>\n",
       "      <td>611</td>\n",
       "      <td>870</td>\n",
       "    </tr>\n",
       "  </tbody>\n",
       "</table>\n",
       "</div>"
      ],
      "text/plain": [
       "   plan  month  call_duration  gb_used  msg_count\n",
       "0  surf      0              0        0          0\n",
       "1  surf      1            406       10         21\n",
       "2  surf      2           2673      110        108\n",
       "3  surf      3           7590      312        351\n",
       "4  surf      4          17577      611        870"
      ]
     },
     "execution_count": 36,
     "metadata": {},
     "output_type": "execute_result"
    }
   ],
   "source": [
    "plans_usage.head()"
   ]
  },
  {
   "cell_type": "markdown",
   "metadata": {},
   "source": [
    "removing the 0 month row as those are users that have no info beside their plan, and we cant assume which month they are in."
   ]
  },
  {
   "cell_type": "code",
   "execution_count": 37,
   "metadata": {},
   "outputs": [],
   "source": [
    "plans_usage = plans_usage.drop(plans_usage[plans_usage.month == 0].index)"
   ]
  },
  {
   "cell_type": "code",
   "execution_count": 38,
   "metadata": {},
   "outputs": [],
   "source": [
    "plans_usage = plans_usage.reset_index(drop=True)"
   ]
  },
  {
   "cell_type": "markdown",
   "metadata": {},
   "source": [
    "adding the users_count from the monthly_users df to see correlation between number of users and our usage metrics"
   ]
  },
  {
   "cell_type": "code",
   "execution_count": 39,
   "metadata": {},
   "outputs": [],
   "source": [
    "data_frames = [plans_usage, monthly_users]\n",
    "plans_usage = reduce(lambda  left,right: pd.merge(left,right,on=['plan','month'],\n",
    "                                        how='inner'), data_frames)"
   ]
  },
  {
   "cell_type": "code",
   "execution_count": 40,
   "metadata": {},
   "outputs": [],
   "source": [
    "plans_usage = plans_usage[['plan', 'month', 'users_count', 'call_duration', 'gb_used','msg_count']]"
   ]
  },
  {
   "cell_type": "code",
   "execution_count": 41,
   "metadata": {},
   "outputs": [
    {
     "data": {
      "text/html": [
       "<div>\n",
       "<style scoped>\n",
       "    .dataframe tbody tr th:only-of-type {\n",
       "        vertical-align: middle;\n",
       "    }\n",
       "\n",
       "    .dataframe tbody tr th {\n",
       "        vertical-align: top;\n",
       "    }\n",
       "\n",
       "    .dataframe thead th {\n",
       "        text-align: right;\n",
       "    }\n",
       "</style>\n",
       "<table border=\"1\" class=\"dataframe\">\n",
       "  <thead>\n",
       "    <tr style=\"text-align: right;\">\n",
       "      <th></th>\n",
       "      <th>plan</th>\n",
       "      <th>month</th>\n",
       "      <th>users_count</th>\n",
       "      <th>call_duration</th>\n",
       "      <th>gb_used</th>\n",
       "      <th>msg_count</th>\n",
       "    </tr>\n",
       "  </thead>\n",
       "  <tbody>\n",
       "    <tr>\n",
       "      <td>0</td>\n",
       "      <td>surf</td>\n",
       "      <td>1</td>\n",
       "      <td>2</td>\n",
       "      <td>406</td>\n",
       "      <td>10</td>\n",
       "      <td>21</td>\n",
       "    </tr>\n",
       "    <tr>\n",
       "      <td>1</td>\n",
       "      <td>surf</td>\n",
       "      <td>2</td>\n",
       "      <td>9</td>\n",
       "      <td>2673</td>\n",
       "      <td>110</td>\n",
       "      <td>108</td>\n",
       "    </tr>\n",
       "    <tr>\n",
       "      <td>2</td>\n",
       "      <td>surf</td>\n",
       "      <td>3</td>\n",
       "      <td>23</td>\n",
       "      <td>7590</td>\n",
       "      <td>312</td>\n",
       "      <td>351</td>\n",
       "    </tr>\n",
       "    <tr>\n",
       "      <td>3</td>\n",
       "      <td>surf</td>\n",
       "      <td>4</td>\n",
       "      <td>50</td>\n",
       "      <td>17577</td>\n",
       "      <td>611</td>\n",
       "      <td>870</td>\n",
       "    </tr>\n",
       "    <tr>\n",
       "      <td>4</td>\n",
       "      <td>surf</td>\n",
       "      <td>5</td>\n",
       "      <td>77</td>\n",
       "      <td>30768</td>\n",
       "      <td>1087</td>\n",
       "      <td>1849</td>\n",
       "    </tr>\n",
       "  </tbody>\n",
       "</table>\n",
       "</div>"
      ],
      "text/plain": [
       "   plan  month  users_count  call_duration  gb_used  msg_count\n",
       "0  surf      1            2            406       10         21\n",
       "1  surf      2            9           2673      110        108\n",
       "2  surf      3           23           7590      312        351\n",
       "3  surf      4           50          17577      611        870\n",
       "4  surf      5           77          30768     1087       1849"
      ]
     },
     "execution_count": 41,
     "metadata": {},
     "output_type": "execute_result"
    }
   ],
   "source": [
    "plans_usage.head()"
   ]
  },
  {
   "cell_type": "code",
   "execution_count": 42,
   "metadata": {},
   "outputs": [
    {
     "data": {
      "text/html": [
       "<div>\n",
       "<style scoped>\n",
       "    .dataframe tbody tr th:only-of-type {\n",
       "        vertical-align: middle;\n",
       "    }\n",
       "\n",
       "    .dataframe tbody tr th {\n",
       "        vertical-align: top;\n",
       "    }\n",
       "\n",
       "    .dataframe thead th {\n",
       "        text-align: right;\n",
       "    }\n",
       "</style>\n",
       "<table border=\"1\" class=\"dataframe\">\n",
       "  <thead>\n",
       "    <tr style=\"text-align: right;\">\n",
       "      <th></th>\n",
       "      <th>month</th>\n",
       "      <th>users_count</th>\n",
       "      <th>call_duration</th>\n",
       "      <th>gb_used</th>\n",
       "      <th>msg_count</th>\n",
       "    </tr>\n",
       "  </thead>\n",
       "  <tbody>\n",
       "    <tr>\n",
       "      <td>month</td>\n",
       "      <td>1.000000</td>\n",
       "      <td>0.842389</td>\n",
       "      <td>0.846793</td>\n",
       "      <td>0.850670</td>\n",
       "      <td>0.878902</td>\n",
       "    </tr>\n",
       "    <tr>\n",
       "      <td>users_count</td>\n",
       "      <td>0.842389</td>\n",
       "      <td>1.000000</td>\n",
       "      <td>0.997073</td>\n",
       "      <td>0.997171</td>\n",
       "      <td>0.981112</td>\n",
       "    </tr>\n",
       "    <tr>\n",
       "      <td>call_duration</td>\n",
       "      <td>0.846793</td>\n",
       "      <td>0.997073</td>\n",
       "      <td>1.000000</td>\n",
       "      <td>0.998866</td>\n",
       "      <td>0.989256</td>\n",
       "    </tr>\n",
       "    <tr>\n",
       "      <td>gb_used</td>\n",
       "      <td>0.850670</td>\n",
       "      <td>0.997171</td>\n",
       "      <td>0.998866</td>\n",
       "      <td>1.000000</td>\n",
       "      <td>0.990467</td>\n",
       "    </tr>\n",
       "    <tr>\n",
       "      <td>msg_count</td>\n",
       "      <td>0.878902</td>\n",
       "      <td>0.981112</td>\n",
       "      <td>0.989256</td>\n",
       "      <td>0.990467</td>\n",
       "      <td>1.000000</td>\n",
       "    </tr>\n",
       "  </tbody>\n",
       "</table>\n",
       "</div>"
      ],
      "text/plain": [
       "                  month  users_count  call_duration   gb_used  msg_count\n",
       "month          1.000000     0.842389       0.846793  0.850670   0.878902\n",
       "users_count    0.842389     1.000000       0.997073  0.997171   0.981112\n",
       "call_duration  0.846793     0.997073       1.000000  0.998866   0.989256\n",
       "gb_used        0.850670     0.997171       0.998866  1.000000   0.990467\n",
       "msg_count      0.878902     0.981112       0.989256  0.990467   1.000000"
      ]
     },
     "execution_count": 42,
     "metadata": {},
     "output_type": "execute_result"
    }
   ],
   "source": [
    "plans_usage.corr()"
   ]
  },
  {
   "cell_type": "markdown",
   "metadata": {},
   "source": [
    "##### conclusion"
   ]
  },
  {
   "cell_type": "markdown",
   "metadata": {},
   "source": [
    "We see strong correlations between our number of users , to the months - increasing as the year progresses,\n",
    "and so are all the usage metrics - increasing with the amount of users and as the year progresses - (bigger month = more users) (more users = more usage)"
   ]
  },
  {
   "cell_type": "markdown",
   "metadata": {},
   "source": [
    "#### Calculate the mean, variance, and standard deviation."
   ]
  },
  {
   "cell_type": "markdown",
   "metadata": {},
   "source": [
    "adding mean columns for calls, gb, msgs per plan per month"
   ]
  },
  {
   "cell_type": "code",
   "execution_count": 43,
   "metadata": {},
   "outputs": [],
   "source": [
    "def mean_calls(row):\n",
    "    calls=row['call_duration']\n",
    "    users=row['users_count']    \n",
    "    #finding the calls mean per plan per month\n",
    "    mean_calls = calls / users\n",
    "    return mean_calls"
   ]
  },
  {
   "cell_type": "code",
   "execution_count": 44,
   "metadata": {},
   "outputs": [],
   "source": [
    "def mean_gb(row):\n",
    "    gb=row['gb_used']\n",
    "    users=row['users_count']    \n",
    "    #finding the gb mean per plan per month\n",
    "    mean_gb = gb / users\n",
    "    return mean_gb"
   ]
  },
  {
   "cell_type": "code",
   "execution_count": 45,
   "metadata": {},
   "outputs": [],
   "source": [
    "def mean_msg(row):\n",
    "    msg=row['msg_count']\n",
    "    users=row['users_count']    \n",
    "    #finding the msg mean per plan per month\n",
    "    mean_msg = msg / users\n",
    "    return mean_msg"
   ]
  },
  {
   "cell_type": "markdown",
   "metadata": {},
   "source": [
    "applying the functions to the df to create the new columns"
   ]
  },
  {
   "cell_type": "code",
   "execution_count": 46,
   "metadata": {},
   "outputs": [],
   "source": [
    "plans_usage['mean_calls']=plans_usage.apply(mean_calls,axis=1)\n",
    "plans_usage['mean_gb']=plans_usage.apply(mean_gb,axis=1)\n",
    "plans_usage['mean_msg']=plans_usage.apply(mean_msg,axis=1)\n"
   ]
  },
  {
   "cell_type": "code",
   "execution_count": 47,
   "metadata": {},
   "outputs": [
    {
     "data": {
      "text/html": [
       "<div>\n",
       "<style scoped>\n",
       "    .dataframe tbody tr th:only-of-type {\n",
       "        vertical-align: middle;\n",
       "    }\n",
       "\n",
       "    .dataframe tbody tr th {\n",
       "        vertical-align: top;\n",
       "    }\n",
       "\n",
       "    .dataframe thead th {\n",
       "        text-align: right;\n",
       "    }\n",
       "</style>\n",
       "<table border=\"1\" class=\"dataframe\">\n",
       "  <thead>\n",
       "    <tr style=\"text-align: right;\">\n",
       "      <th></th>\n",
       "      <th>plan</th>\n",
       "      <th>month</th>\n",
       "      <th>users_count</th>\n",
       "      <th>call_duration</th>\n",
       "      <th>gb_used</th>\n",
       "      <th>msg_count</th>\n",
       "      <th>mean_calls</th>\n",
       "      <th>mean_gb</th>\n",
       "      <th>mean_msg</th>\n",
       "    </tr>\n",
       "  </thead>\n",
       "  <tbody>\n",
       "    <tr>\n",
       "      <td>0</td>\n",
       "      <td>surf</td>\n",
       "      <td>1</td>\n",
       "      <td>2</td>\n",
       "      <td>406</td>\n",
       "      <td>10</td>\n",
       "      <td>21</td>\n",
       "      <td>203.000000</td>\n",
       "      <td>5.000000</td>\n",
       "      <td>10.500000</td>\n",
       "    </tr>\n",
       "    <tr>\n",
       "      <td>1</td>\n",
       "      <td>surf</td>\n",
       "      <td>2</td>\n",
       "      <td>9</td>\n",
       "      <td>2673</td>\n",
       "      <td>110</td>\n",
       "      <td>108</td>\n",
       "      <td>297.000000</td>\n",
       "      <td>12.222222</td>\n",
       "      <td>12.000000</td>\n",
       "    </tr>\n",
       "    <tr>\n",
       "      <td>2</td>\n",
       "      <td>surf</td>\n",
       "      <td>3</td>\n",
       "      <td>23</td>\n",
       "      <td>7590</td>\n",
       "      <td>312</td>\n",
       "      <td>351</td>\n",
       "      <td>330.000000</td>\n",
       "      <td>13.565217</td>\n",
       "      <td>15.260870</td>\n",
       "    </tr>\n",
       "    <tr>\n",
       "      <td>3</td>\n",
       "      <td>surf</td>\n",
       "      <td>4</td>\n",
       "      <td>50</td>\n",
       "      <td>17577</td>\n",
       "      <td>611</td>\n",
       "      <td>870</td>\n",
       "      <td>351.540000</td>\n",
       "      <td>12.220000</td>\n",
       "      <td>17.400000</td>\n",
       "    </tr>\n",
       "    <tr>\n",
       "      <td>4</td>\n",
       "      <td>surf</td>\n",
       "      <td>5</td>\n",
       "      <td>77</td>\n",
       "      <td>30768</td>\n",
       "      <td>1087</td>\n",
       "      <td>1849</td>\n",
       "      <td>399.584416</td>\n",
       "      <td>14.116883</td>\n",
       "      <td>24.012987</td>\n",
       "    </tr>\n",
       "  </tbody>\n",
       "</table>\n",
       "</div>"
      ],
      "text/plain": [
       "   plan  month  users_count  call_duration  gb_used  msg_count  mean_calls  \\\n",
       "0  surf      1            2            406       10         21  203.000000   \n",
       "1  surf      2            9           2673      110        108  297.000000   \n",
       "2  surf      3           23           7590      312        351  330.000000   \n",
       "3  surf      4           50          17577      611        870  351.540000   \n",
       "4  surf      5           77          30768     1087       1849  399.584416   \n",
       "\n",
       "     mean_gb   mean_msg  \n",
       "0   5.000000  10.500000  \n",
       "1  12.222222  12.000000  \n",
       "2  13.565217  15.260870  \n",
       "3  12.220000  17.400000  \n",
       "4  14.116883  24.012987  "
      ]
     },
     "execution_count": 47,
     "metadata": {},
     "output_type": "execute_result"
    }
   ],
   "source": [
    "plans_usage.head()"
   ]
  },
  {
   "cell_type": "markdown",
   "metadata": {},
   "source": [
    "Creating functions to find std and variance per plan per month as requested"
   ]
  },
  {
   "cell_type": "code",
   "execution_count": 48,
   "metadata": {},
   "outputs": [],
   "source": [
    "def plan_month_std(row, metric):\n",
    "    plan=row['plan']\n",
    "    month=row['month']    \n",
    "    #finding the std per plan per month per metric\n",
    "    if plan == 'surf':\n",
    "        call_std = df_merged.query('plan == \"surf\" and month == @month')[metric].std()\n",
    "    else:\n",
    "        call_std = df_merged.query('plan == \"ultimate\" and month == @month')[metric].std()\n",
    "    return call_std"
   ]
  },
  {
   "cell_type": "code",
   "execution_count": 49,
   "metadata": {},
   "outputs": [],
   "source": [
    "def plan_month_var(row, metric):\n",
    "    plan=row['plan']\n",
    "    month=row['month']    \n",
    "    #finding the var per plan per month per metric\n",
    "    if plan == 'surf':\n",
    "        call_var = df_merged.query('plan == \"surf\" and month == @month')[metric].var()\n",
    "    else:\n",
    "        call_var = df_merged.query('plan == \"ultimate\" and month == @month')[metric].var()\n",
    "    return call_var"
   ]
  },
  {
   "cell_type": "code",
   "execution_count": 50,
   "metadata": {},
   "outputs": [],
   "source": [
    "plans_usage['std_calls']=plans_usage.apply(plan_month_std,axis=1,metric='call_duration')\n",
    "plans_usage['std_gb']=plans_usage.apply(plan_month_std,axis=1,metric='gb_used')\n",
    "plans_usage['std_msg']=plans_usage.apply(plan_month_std,axis=1,metric='msg_count')\n",
    "plans_usage['var_calls']=plans_usage.apply(plan_month_var,axis=1,metric='call_duration')\n",
    "plans_usage['var_gb']=plans_usage.apply(plan_month_var,axis=1,metric='gb_used')\n",
    "plans_usage['var_msg']=plans_usage.apply(plan_month_var,axis=1,metric='msg_count')\n"
   ]
  },
  {
   "cell_type": "code",
   "execution_count": 51,
   "metadata": {
    "scrolled": true
   },
   "outputs": [
    {
     "data": {
      "text/html": [
       "<div>\n",
       "<style scoped>\n",
       "    .dataframe tbody tr th:only-of-type {\n",
       "        vertical-align: middle;\n",
       "    }\n",
       "\n",
       "    .dataframe tbody tr th {\n",
       "        vertical-align: top;\n",
       "    }\n",
       "\n",
       "    .dataframe thead th {\n",
       "        text-align: right;\n",
       "    }\n",
       "</style>\n",
       "<table border=\"1\" class=\"dataframe\">\n",
       "  <thead>\n",
       "    <tr style=\"text-align: right;\">\n",
       "      <th></th>\n",
       "      <th>plan</th>\n",
       "      <th>month</th>\n",
       "      <th>users_count</th>\n",
       "      <th>call_duration</th>\n",
       "      <th>gb_used</th>\n",
       "      <th>msg_count</th>\n",
       "      <th>mean_calls</th>\n",
       "      <th>mean_gb</th>\n",
       "      <th>mean_msg</th>\n",
       "      <th>std_calls</th>\n",
       "      <th>std_gb</th>\n",
       "      <th>std_msg</th>\n",
       "      <th>var_calls</th>\n",
       "      <th>var_gb</th>\n",
       "      <th>var_msg</th>\n",
       "    </tr>\n",
       "  </thead>\n",
       "  <tbody>\n",
       "    <tr>\n",
       "      <td>0</td>\n",
       "      <td>surf</td>\n",
       "      <td>1</td>\n",
       "      <td>2</td>\n",
       "      <td>406</td>\n",
       "      <td>10</td>\n",
       "      <td>21</td>\n",
       "      <td>203.000000</td>\n",
       "      <td>5.000000</td>\n",
       "      <td>10.500000</td>\n",
       "      <td>125.865007</td>\n",
       "      <td>4.242641</td>\n",
       "      <td>14.849242</td>\n",
       "      <td>15842.000000</td>\n",
       "      <td>18.000000</td>\n",
       "      <td>220.500000</td>\n",
       "    </tr>\n",
       "    <tr>\n",
       "      <td>1</td>\n",
       "      <td>surf</td>\n",
       "      <td>2</td>\n",
       "      <td>9</td>\n",
       "      <td>2673</td>\n",
       "      <td>110</td>\n",
       "      <td>108</td>\n",
       "      <td>297.000000</td>\n",
       "      <td>12.222222</td>\n",
       "      <td>12.000000</td>\n",
       "      <td>228.531179</td>\n",
       "      <td>6.437736</td>\n",
       "      <td>19.646883</td>\n",
       "      <td>52226.500000</td>\n",
       "      <td>41.444444</td>\n",
       "      <td>386.000000</td>\n",
       "    </tr>\n",
       "    <tr>\n",
       "      <td>2</td>\n",
       "      <td>surf</td>\n",
       "      <td>3</td>\n",
       "      <td>23</td>\n",
       "      <td>7590</td>\n",
       "      <td>312</td>\n",
       "      <td>351</td>\n",
       "      <td>330.000000</td>\n",
       "      <td>13.565217</td>\n",
       "      <td>15.260870</td>\n",
       "      <td>189.233622</td>\n",
       "      <td>7.999012</td>\n",
       "      <td>18.616262</td>\n",
       "      <td>35809.363636</td>\n",
       "      <td>63.984190</td>\n",
       "      <td>346.565217</td>\n",
       "    </tr>\n",
       "    <tr>\n",
       "      <td>3</td>\n",
       "      <td>surf</td>\n",
       "      <td>4</td>\n",
       "      <td>50</td>\n",
       "      <td>17577</td>\n",
       "      <td>611</td>\n",
       "      <td>870</td>\n",
       "      <td>351.540000</td>\n",
       "      <td>12.220000</td>\n",
       "      <td>17.400000</td>\n",
       "      <td>225.536567</td>\n",
       "      <td>7.497728</td>\n",
       "      <td>22.396246</td>\n",
       "      <td>50866.743265</td>\n",
       "      <td>56.215918</td>\n",
       "      <td>501.591837</td>\n",
       "    </tr>\n",
       "    <tr>\n",
       "      <td>4</td>\n",
       "      <td>surf</td>\n",
       "      <td>5</td>\n",
       "      <td>77</td>\n",
       "      <td>30768</td>\n",
       "      <td>1087</td>\n",
       "      <td>1849</td>\n",
       "      <td>399.584416</td>\n",
       "      <td>14.116883</td>\n",
       "      <td>24.012987</td>\n",
       "      <td>244.446763</td>\n",
       "      <td>7.627813</td>\n",
       "      <td>29.106652</td>\n",
       "      <td>59754.219754</td>\n",
       "      <td>58.183527</td>\n",
       "      <td>847.197198</td>\n",
       "    </tr>\n",
       "    <tr>\n",
       "      <td>5</td>\n",
       "      <td>surf</td>\n",
       "      <td>6</td>\n",
       "      <td>97</td>\n",
       "      <td>41836</td>\n",
       "      <td>1502</td>\n",
       "      <td>2454</td>\n",
       "      <td>431.298969</td>\n",
       "      <td>15.484536</td>\n",
       "      <td>25.298969</td>\n",
       "      <td>213.524304</td>\n",
       "      <td>6.910308</td>\n",
       "      <td>30.247646</td>\n",
       "      <td>45592.628436</td>\n",
       "      <td>47.752363</td>\n",
       "      <td>914.920103</td>\n",
       "    </tr>\n",
       "    <tr>\n",
       "      <td>6</td>\n",
       "      <td>surf</td>\n",
       "      <td>7</td>\n",
       "      <td>121</td>\n",
       "      <td>54448</td>\n",
       "      <td>2042</td>\n",
       "      <td>3271</td>\n",
       "      <td>449.983471</td>\n",
       "      <td>16.876033</td>\n",
       "      <td>27.033058</td>\n",
       "      <td>246.992105</td>\n",
       "      <td>7.840674</td>\n",
       "      <td>30.395979</td>\n",
       "      <td>61005.099725</td>\n",
       "      <td>61.476171</td>\n",
       "      <td>923.915565</td>\n",
       "    </tr>\n",
       "    <tr>\n",
       "      <td>7</td>\n",
       "      <td>surf</td>\n",
       "      <td>8</td>\n",
       "      <td>162</td>\n",
       "      <td>66438</td>\n",
       "      <td>2735</td>\n",
       "      <td>4662</td>\n",
       "      <td>410.111111</td>\n",
       "      <td>16.882716</td>\n",
       "      <td>28.777778</td>\n",
       "      <td>233.119381</td>\n",
       "      <td>8.451091</td>\n",
       "      <td>32.086064</td>\n",
       "      <td>54344.645963</td>\n",
       "      <td>71.420942</td>\n",
       "      <td>1029.515528</td>\n",
       "    </tr>\n",
       "    <tr>\n",
       "      <td>8</td>\n",
       "      <td>surf</td>\n",
       "      <td>9</td>\n",
       "      <td>194</td>\n",
       "      <td>80360</td>\n",
       "      <td>3238</td>\n",
       "      <td>5968</td>\n",
       "      <td>414.226804</td>\n",
       "      <td>16.690722</td>\n",
       "      <td>30.762887</td>\n",
       "      <td>215.860971</td>\n",
       "      <td>7.017167</td>\n",
       "      <td>31.683268</td>\n",
       "      <td>46595.958656</td>\n",
       "      <td>49.240639</td>\n",
       "      <td>1003.829496</td>\n",
       "    </tr>\n",
       "    <tr>\n",
       "      <td>9</td>\n",
       "      <td>surf</td>\n",
       "      <td>10</td>\n",
       "      <td>237</td>\n",
       "      <td>101846</td>\n",
       "      <td>4126</td>\n",
       "      <td>8020</td>\n",
       "      <td>429.729958</td>\n",
       "      <td>17.409283</td>\n",
       "      <td>33.839662</td>\n",
       "      <td>228.645280</td>\n",
       "      <td>7.792679</td>\n",
       "      <td>35.713663</td>\n",
       "      <td>52278.664056</td>\n",
       "      <td>60.725846</td>\n",
       "      <td>1275.465708</td>\n",
       "    </tr>\n",
       "    <tr>\n",
       "      <td>10</td>\n",
       "      <td>surf</td>\n",
       "      <td>11</td>\n",
       "      <td>283</td>\n",
       "      <td>119801</td>\n",
       "      <td>4650</td>\n",
       "      <td>9165</td>\n",
       "      <td>423.325088</td>\n",
       "      <td>16.431095</td>\n",
       "      <td>32.385159</td>\n",
       "      <td>227.171789</td>\n",
       "      <td>7.389711</td>\n",
       "      <td>32.639608</td>\n",
       "      <td>51607.021602</td>\n",
       "      <td>54.607824</td>\n",
       "      <td>1065.344034</td>\n",
       "    </tr>\n",
       "    <tr>\n",
       "      <td>11</td>\n",
       "      <td>surf</td>\n",
       "      <td>12</td>\n",
       "      <td>318</td>\n",
       "      <td>150680</td>\n",
       "      <td>5800</td>\n",
       "      <td>12275</td>\n",
       "      <td>473.836478</td>\n",
       "      <td>18.238994</td>\n",
       "      <td>38.600629</td>\n",
       "      <td>252.248923</td>\n",
       "      <td>8.319305</td>\n",
       "      <td>38.185843</td>\n",
       "      <td>63629.518918</td>\n",
       "      <td>69.210841</td>\n",
       "      <td>1458.158612</td>\n",
       "    </tr>\n",
       "    <tr>\n",
       "      <td>12</td>\n",
       "      <td>ultimate</td>\n",
       "      <td>1</td>\n",
       "      <td>4</td>\n",
       "      <td>774</td>\n",
       "      <td>29</td>\n",
       "      <td>62</td>\n",
       "      <td>193.500000</td>\n",
       "      <td>7.250000</td>\n",
       "      <td>15.500000</td>\n",
       "      <td>128.733575</td>\n",
       "      <td>3.862210</td>\n",
       "      <td>17.710637</td>\n",
       "      <td>16572.333333</td>\n",
       "      <td>14.916667</td>\n",
       "      <td>313.666667</td>\n",
       "    </tr>\n",
       "    <tr>\n",
       "      <td>13</td>\n",
       "      <td>ultimate</td>\n",
       "      <td>2</td>\n",
       "      <td>7</td>\n",
       "      <td>2822</td>\n",
       "      <td>121</td>\n",
       "      <td>151</td>\n",
       "      <td>403.142857</td>\n",
       "      <td>17.285714</td>\n",
       "      <td>21.571429</td>\n",
       "      <td>277.289517</td>\n",
       "      <td>6.156684</td>\n",
       "      <td>21.869744</td>\n",
       "      <td>76889.476190</td>\n",
       "      <td>37.904762</td>\n",
       "      <td>478.285714</td>\n",
       "    </tr>\n",
       "    <tr>\n",
       "      <td>14</td>\n",
       "      <td>ultimate</td>\n",
       "      <td>3</td>\n",
       "      <td>12</td>\n",
       "      <td>3651</td>\n",
       "      <td>221</td>\n",
       "      <td>243</td>\n",
       "      <td>304.250000</td>\n",
       "      <td>18.416667</td>\n",
       "      <td>20.250000</td>\n",
       "      <td>248.967732</td>\n",
       "      <td>11.774073</td>\n",
       "      <td>25.580977</td>\n",
       "      <td>61984.931818</td>\n",
       "      <td>138.628788</td>\n",
       "      <td>654.386364</td>\n",
       "    </tr>\n",
       "    <tr>\n",
       "      <td>15</td>\n",
       "      <td>ultimate</td>\n",
       "      <td>4</td>\n",
       "      <td>21</td>\n",
       "      <td>7074</td>\n",
       "      <td>343</td>\n",
       "      <td>463</td>\n",
       "      <td>336.857143</td>\n",
       "      <td>16.333333</td>\n",
       "      <td>22.047619</td>\n",
       "      <td>186.785783</td>\n",
       "      <td>9.264628</td>\n",
       "      <td>23.326972</td>\n",
       "      <td>34888.928571</td>\n",
       "      <td>85.833333</td>\n",
       "      <td>544.147619</td>\n",
       "    </tr>\n",
       "    <tr>\n",
       "      <td>16</td>\n",
       "      <td>ultimate</td>\n",
       "      <td>5</td>\n",
       "      <td>29</td>\n",
       "      <td>11781</td>\n",
       "      <td>489</td>\n",
       "      <td>931</td>\n",
       "      <td>406.241379</td>\n",
       "      <td>16.862069</td>\n",
       "      <td>32.103448</td>\n",
       "      <td>209.382537</td>\n",
       "      <td>7.361697</td>\n",
       "      <td>36.018195</td>\n",
       "      <td>43841.046798</td>\n",
       "      <td>54.194581</td>\n",
       "      <td>1297.310345</td>\n",
       "    </tr>\n",
       "    <tr>\n",
       "      <td>17</td>\n",
       "      <td>ultimate</td>\n",
       "      <td>6</td>\n",
       "      <td>47</td>\n",
       "      <td>17435</td>\n",
       "      <td>725</td>\n",
       "      <td>1379</td>\n",
       "      <td>370.957447</td>\n",
       "      <td>15.425532</td>\n",
       "      <td>29.340426</td>\n",
       "      <td>206.163924</td>\n",
       "      <td>8.298100</td>\n",
       "      <td>29.285162</td>\n",
       "      <td>42503.563367</td>\n",
       "      <td>68.858464</td>\n",
       "      <td>857.620722</td>\n",
       "    </tr>\n",
       "    <tr>\n",
       "      <td>18</td>\n",
       "      <td>ultimate</td>\n",
       "      <td>7</td>\n",
       "      <td>59</td>\n",
       "      <td>25197</td>\n",
       "      <td>973</td>\n",
       "      <td>1937</td>\n",
       "      <td>427.067797</td>\n",
       "      <td>16.491525</td>\n",
       "      <td>32.830508</td>\n",
       "      <td>269.375898</td>\n",
       "      <td>8.015874</td>\n",
       "      <td>30.991741</td>\n",
       "      <td>72563.374635</td>\n",
       "      <td>64.254237</td>\n",
       "      <td>960.488019</td>\n",
       "    </tr>\n",
       "    <tr>\n",
       "      <td>19</td>\n",
       "      <td>ultimate</td>\n",
       "      <td>8</td>\n",
       "      <td>71</td>\n",
       "      <td>29922</td>\n",
       "      <td>1267</td>\n",
       "      <td>2732</td>\n",
       "      <td>421.436620</td>\n",
       "      <td>17.845070</td>\n",
       "      <td>38.478873</td>\n",
       "      <td>231.614997</td>\n",
       "      <td>7.618864</td>\n",
       "      <td>34.588544</td>\n",
       "      <td>53645.506640</td>\n",
       "      <td>58.047082</td>\n",
       "      <td>1196.367404</td>\n",
       "    </tr>\n",
       "    <tr>\n",
       "      <td>20</td>\n",
       "      <td>ultimate</td>\n",
       "      <td>9</td>\n",
       "      <td>86</td>\n",
       "      <td>37626</td>\n",
       "      <td>1463</td>\n",
       "      <td>3259</td>\n",
       "      <td>437.511628</td>\n",
       "      <td>17.011628</td>\n",
       "      <td>37.895349</td>\n",
       "      <td>238.894254</td>\n",
       "      <td>6.874495</td>\n",
       "      <td>32.417871</td>\n",
       "      <td>57070.464569</td>\n",
       "      <td>47.258687</td>\n",
       "      <td>1050.918331</td>\n",
       "    </tr>\n",
       "    <tr>\n",
       "      <td>21</td>\n",
       "      <td>ultimate</td>\n",
       "      <td>10</td>\n",
       "      <td>106</td>\n",
       "      <td>47778</td>\n",
       "      <td>1878</td>\n",
       "      <td>4181</td>\n",
       "      <td>450.735849</td>\n",
       "      <td>17.716981</td>\n",
       "      <td>39.443396</td>\n",
       "      <td>232.941861</td>\n",
       "      <td>7.389510</td>\n",
       "      <td>34.944331</td>\n",
       "      <td>54261.910512</td>\n",
       "      <td>54.604852</td>\n",
       "      <td>1221.106289</td>\n",
       "    </tr>\n",
       "    <tr>\n",
       "      <td>22</td>\n",
       "      <td>ultimate</td>\n",
       "      <td>11</td>\n",
       "      <td>127</td>\n",
       "      <td>56540</td>\n",
       "      <td>2174</td>\n",
       "      <td>4903</td>\n",
       "      <td>445.196850</td>\n",
       "      <td>17.118110</td>\n",
       "      <td>38.606299</td>\n",
       "      <td>246.156907</td>\n",
       "      <td>7.375005</td>\n",
       "      <td>35.109389</td>\n",
       "      <td>60593.222847</td>\n",
       "      <td>54.390701</td>\n",
       "      <td>1232.669166</td>\n",
       "    </tr>\n",
       "    <tr>\n",
       "      <td>23</td>\n",
       "      <td>ultimate</td>\n",
       "      <td>12</td>\n",
       "      <td>151</td>\n",
       "      <td>69324</td>\n",
       "      <td>2778</td>\n",
       "      <td>6796</td>\n",
       "      <td>459.099338</td>\n",
       "      <td>18.397351</td>\n",
       "      <td>45.006623</td>\n",
       "      <td>250.007567</td>\n",
       "      <td>7.670793</td>\n",
       "      <td>39.362672</td>\n",
       "      <td>62503.783400</td>\n",
       "      <td>58.841060</td>\n",
       "      <td>1549.419956</td>\n",
       "    </tr>\n",
       "  </tbody>\n",
       "</table>\n",
       "</div>"
      ],
      "text/plain": [
       "        plan  month  users_count  call_duration  gb_used  msg_count  \\\n",
       "0       surf      1            2            406       10         21   \n",
       "1       surf      2            9           2673      110        108   \n",
       "2       surf      3           23           7590      312        351   \n",
       "3       surf      4           50          17577      611        870   \n",
       "4       surf      5           77          30768     1087       1849   \n",
       "5       surf      6           97          41836     1502       2454   \n",
       "6       surf      7          121          54448     2042       3271   \n",
       "7       surf      8          162          66438     2735       4662   \n",
       "8       surf      9          194          80360     3238       5968   \n",
       "9       surf     10          237         101846     4126       8020   \n",
       "10      surf     11          283         119801     4650       9165   \n",
       "11      surf     12          318         150680     5800      12275   \n",
       "12  ultimate      1            4            774       29         62   \n",
       "13  ultimate      2            7           2822      121        151   \n",
       "14  ultimate      3           12           3651      221        243   \n",
       "15  ultimate      4           21           7074      343        463   \n",
       "16  ultimate      5           29          11781      489        931   \n",
       "17  ultimate      6           47          17435      725       1379   \n",
       "18  ultimate      7           59          25197      973       1937   \n",
       "19  ultimate      8           71          29922     1267       2732   \n",
       "20  ultimate      9           86          37626     1463       3259   \n",
       "21  ultimate     10          106          47778     1878       4181   \n",
       "22  ultimate     11          127          56540     2174       4903   \n",
       "23  ultimate     12          151          69324     2778       6796   \n",
       "\n",
       "    mean_calls    mean_gb   mean_msg   std_calls     std_gb    std_msg  \\\n",
       "0   203.000000   5.000000  10.500000  125.865007   4.242641  14.849242   \n",
       "1   297.000000  12.222222  12.000000  228.531179   6.437736  19.646883   \n",
       "2   330.000000  13.565217  15.260870  189.233622   7.999012  18.616262   \n",
       "3   351.540000  12.220000  17.400000  225.536567   7.497728  22.396246   \n",
       "4   399.584416  14.116883  24.012987  244.446763   7.627813  29.106652   \n",
       "5   431.298969  15.484536  25.298969  213.524304   6.910308  30.247646   \n",
       "6   449.983471  16.876033  27.033058  246.992105   7.840674  30.395979   \n",
       "7   410.111111  16.882716  28.777778  233.119381   8.451091  32.086064   \n",
       "8   414.226804  16.690722  30.762887  215.860971   7.017167  31.683268   \n",
       "9   429.729958  17.409283  33.839662  228.645280   7.792679  35.713663   \n",
       "10  423.325088  16.431095  32.385159  227.171789   7.389711  32.639608   \n",
       "11  473.836478  18.238994  38.600629  252.248923   8.319305  38.185843   \n",
       "12  193.500000   7.250000  15.500000  128.733575   3.862210  17.710637   \n",
       "13  403.142857  17.285714  21.571429  277.289517   6.156684  21.869744   \n",
       "14  304.250000  18.416667  20.250000  248.967732  11.774073  25.580977   \n",
       "15  336.857143  16.333333  22.047619  186.785783   9.264628  23.326972   \n",
       "16  406.241379  16.862069  32.103448  209.382537   7.361697  36.018195   \n",
       "17  370.957447  15.425532  29.340426  206.163924   8.298100  29.285162   \n",
       "18  427.067797  16.491525  32.830508  269.375898   8.015874  30.991741   \n",
       "19  421.436620  17.845070  38.478873  231.614997   7.618864  34.588544   \n",
       "20  437.511628  17.011628  37.895349  238.894254   6.874495  32.417871   \n",
       "21  450.735849  17.716981  39.443396  232.941861   7.389510  34.944331   \n",
       "22  445.196850  17.118110  38.606299  246.156907   7.375005  35.109389   \n",
       "23  459.099338  18.397351  45.006623  250.007567   7.670793  39.362672   \n",
       "\n",
       "       var_calls      var_gb      var_msg  \n",
       "0   15842.000000   18.000000   220.500000  \n",
       "1   52226.500000   41.444444   386.000000  \n",
       "2   35809.363636   63.984190   346.565217  \n",
       "3   50866.743265   56.215918   501.591837  \n",
       "4   59754.219754   58.183527   847.197198  \n",
       "5   45592.628436   47.752363   914.920103  \n",
       "6   61005.099725   61.476171   923.915565  \n",
       "7   54344.645963   71.420942  1029.515528  \n",
       "8   46595.958656   49.240639  1003.829496  \n",
       "9   52278.664056   60.725846  1275.465708  \n",
       "10  51607.021602   54.607824  1065.344034  \n",
       "11  63629.518918   69.210841  1458.158612  \n",
       "12  16572.333333   14.916667   313.666667  \n",
       "13  76889.476190   37.904762   478.285714  \n",
       "14  61984.931818  138.628788   654.386364  \n",
       "15  34888.928571   85.833333   544.147619  \n",
       "16  43841.046798   54.194581  1297.310345  \n",
       "17  42503.563367   68.858464   857.620722  \n",
       "18  72563.374635   64.254237   960.488019  \n",
       "19  53645.506640   58.047082  1196.367404  \n",
       "20  57070.464569   47.258687  1050.918331  \n",
       "21  54261.910512   54.604852  1221.106289  \n",
       "22  60593.222847   54.390701  1232.669166  \n",
       "23  62503.783400   58.841060  1549.419956  "
      ]
     },
     "execution_count": 51,
     "metadata": {},
     "output_type": "execute_result"
    }
   ],
   "source": [
    "plans_usage.head(30)"
   ]
  },
  {
   "cell_type": "markdown",
   "metadata": {},
   "source": [
    "storing each plan's call durations, data usage,and msgs to plot"
   ]
  },
  {
   "cell_type": "code",
   "execution_count": 52,
   "metadata": {},
   "outputs": [],
   "source": [
    "surf_calls = plans_usage.query('plan == \"surf\"')['call_duration']\n",
    "ult_calls = plans_usage.query('plan == \"ultimate\"')['call_duration']\n",
    "\n",
    "surf_gb = plans_usage.query('plan == \"surf\"')['gb_used']\n",
    "ult_gb = plans_usage.query('plan == \"ultimate\"')['gb_used']\n",
    "\n",
    "surf_msg = plans_usage.query('plan == \"surf\"')['msg_count']\n",
    "ult_msg = plans_usage.query('plan == \"ultimate\"')['msg_count']"
   ]
  },
  {
   "cell_type": "markdown",
   "metadata": {},
   "source": [
    "##### call duration histogram between plans by months distribution"
   ]
  },
  {
   "cell_type": "code",
   "execution_count": 53,
   "metadata": {},
   "outputs": [
    {
     "data": {
      "image/png": "[encoded data removed]",
      "text/plain": [
       "<Figure size 432x288 with 1 Axes>"
      ]
     },
     "metadata": {
      "needs_background": "light"
     },
     "output_type": "display_data"
    }
   ],
   "source": [
    "plt.style.use('seaborn-deep')\n",
    "#bins from the lowest value to the maximum\n",
    "bins = np.linspace(406, 150680, 12)\n",
    "plt.hist([surf_calls, ult_calls], bins, label=['surf', 'ultimate'])\n",
    "plt.legend(loc='upper right')\n",
    "plt.title('Monthly calls duration')\n",
    "plt.xlabel('Call duration')\n",
    "plt.ylabel('Amount of months')\n",
    "\n",
    "plt.show()"
   ]
  },
  {
   "cell_type": "markdown",
   "metadata": {},
   "source": [
    "#### Description"
   ]
  },
  {
   "cell_type": "markdown",
   "metadata": {},
   "source": [
    "This graph shows that both lowest and highest amount of call duration belongs to the surf plan.\n",
    "The surf plan's distribution is wider, and is more skewed to the right. (mean=56201, median=48142)\n",
    "The ultimate's distribution is less wider, and has more months with lower values.(mean=25827, median=21316)\n",
    "\n",
    "We can also see a decrease in the amount of months as the call duration increases.\n",
    "\n",
    "Both plans have their highest amount of months(3 for surf, 5 for ultimate) in a relative low value area(below 20000)\n",
    "\n"
   ]
  },
  {
   "cell_type": "markdown",
   "metadata": {},
   "source": [
    "##### data usage (gb) histogram between plans by months distribution"
   ]
  },
  {
   "cell_type": "code",
   "execution_count": 54,
   "metadata": {},
   "outputs": [
    {
     "data": {
      "image/png": "[encoded data removed]",
      "text/plain": [
       "<Figure size 432x288 with 1 Axes>"
      ]
     },
     "metadata": {
      "needs_background": "light"
     },
     "output_type": "display_data"
    }
   ],
   "source": [
    "#bins from the lowest value to the maximum\n",
    "bins = np.linspace(10, 5800, 12)\n",
    "plt.hist([surf_gb, ult_gb], bins, label=['surf', 'ultimate'])\n",
    "plt.legend(loc='upper right')\n",
    "plt.title('Monthly data usage')\n",
    "plt.xlabel('Amount of data (GB)')\n",
    "plt.ylabel('Amount of months')\n",
    "\n",
    "plt.show()"
   ]
  },
  {
   "cell_type": "markdown",
   "metadata": {},
   "source": [
    "#### Description"
   ]
  },
  {
   "cell_type": "markdown",
   "metadata": {},
   "source": [
    "This graph shows that both lowest and highest amount of data usage belongs to the surf plan.\n",
    "The surf plan's distribution is wider, and is more skewed to the right. (mean=2185, median=1772)\n",
    "The ultimate's distribution is less wider, and has more months with lower values.(mean=1038, median=849)\n",
    "\n",
    "We can also see a decrease in the amount of months as the data usage increases.\n",
    "\n",
    "Both plans have their highest amount of months(3 for surf, 5 for ultimate) in a relative low value area(below 1000).\n",
    "\n"
   ]
  },
  {
   "cell_type": "markdown",
   "metadata": {},
   "source": [
    "##### amount of messages histogram between plans by months distribution"
   ]
  },
  {
   "cell_type": "code",
   "execution_count": 55,
   "metadata": {},
   "outputs": [
    {
     "data": {
      "image/png": "[encoded data removed]",
      "text/plain": [
       "<Figure size 432x288 with 1 Axes>"
      ]
     },
     "metadata": {
      "needs_background": "light"
     },
     "output_type": "display_data"
    }
   ],
   "source": [
    "#bins from the lowest value to the maximum\n",
    "bins = np.linspace(21, 12275, 12)\n",
    "plt.hist([surf_msg, ult_msg], bins, label=['surf', 'ultimate'])\n",
    "plt.legend(loc='upper right')\n",
    "plt.title('Monthly amount of messages')\n",
    "plt.xlabel('Amount of messages')\n",
    "plt.ylabel('Amount of months')\n",
    "\n",
    "plt.show()"
   ]
  },
  {
   "cell_type": "markdown",
   "metadata": {},
   "source": [
    "#### Description"
   ]
  },
  {
   "cell_type": "markdown",
   "metadata": {},
   "source": [
    "This graph shows that both lowest and highest amount of data usage belongs to the surf plan.\n",
    "The surf plan's distribution is wider, and is more skewed to the right. (mean=4084, median=2862)\n",
    "The ultimate's distribution is less wider, and has more months with lower values.(mean=2253, median=1658)\n",
    "\n",
    "We can also see a decrease in the amount of months as the amount of messages increases.\n",
    "\n",
    "Both plans have their highest amount of months(4 for surf, 5 for ultimate) in a relative low value area(below 2000).\n",
    "\n"
   ]
  },
  {
   "cell_type": "markdown",
   "metadata": {},
   "source": [
    "### Conclusion\n"
   ]
  },
  {
   "cell_type": "markdown",
   "metadata": {},
   "source": [
    "We have calculated the users_count, minutes, texts, and volume of data\n",
    "the users of each plan require per month, the mean, variance, and\n",
    "standard deviation, and stored it in plans_usage df.\n",
    "\n",
    "We see that theres a strong positive correlation between the number of months(january - 1 , december- 12) to the number of users,\n",
    "and to the usage metrics. we conclude that january always had the lowest values, and december had the highest values(for both plans) - as it had \n",
    "much more users.\n",
    "\n",
    "By looking at our plots, we conclude the highest values in all metrics (calls,data usage, messages) belongs to surf plan,\n",
    "which can be explained by the amount of users(surf grew from 2 users in jan to 318 users in dec,\n",
    "                                              ultimate grew from 4 users in jan to 151 users in dec)."
   ]
  },
  {
   "cell_type": "markdown",
   "metadata": {},
   "source": [
    "## Test the hypotheses"
   ]
  },
  {
   "cell_type": "markdown",
   "metadata": {},
   "source": [
    "### The average revenue from users of Ultimate and Surf calling plans differs.\n"
   ]
  },
  {
   "cell_type": "markdown",
   "metadata": {},
   "source": [
    "Our null hypothesis (h0) will be: The average revenue from users of ultimate and surf calling plans is equal.\n",
    "\n",
    "Our alternative hypothesis (h1) is based on h0 and will be: The average revenue from users of ultimate and surf calling plans differs.\n",
    "    "
   ]
  },
  {
   "cell_type": "markdown",
   "metadata": {},
   "source": [
    "Creating dataframes for the revenues for both plans"
   ]
  },
  {
   "cell_type": "code",
   "execution_count": 56,
   "metadata": {},
   "outputs": [],
   "source": [
    "surf_revenue = df_merged.query('plan == \"surf\"')['monthly_revenue']\n",
    "ult_revenue = df_merged.query('plan == \"ultimate\"')['monthly_revenue']"
   ]
  },
  {
   "cell_type": "markdown",
   "metadata": {},
   "source": [
    "Declaring our alpha value - 5% which is the most common and recommended value"
   ]
  },
  {
   "cell_type": "code",
   "execution_count": 57,
   "metadata": {},
   "outputs": [],
   "source": [
    "alpha = 0.05"
   ]
  },
  {
   "cell_type": "markdown",
   "metadata": {},
   "source": [
    "Checking the varience values for both plans for the equal_var parameter using levene's test."
   ]
  },
  {
   "cell_type": "code",
   "execution_count": 58,
   "metadata": {},
   "outputs": [
    {
     "data": {
      "text/plain": [
       "LeveneResult(statistic=405.7401019739098, pvalue=3.070976609395645e-83)"
      ]
     },
     "execution_count": 58,
     "metadata": {},
     "output_type": "execute_result"
    }
   ],
   "source": [
    "levene(surf_revenue, ult_revenue, center='median')"
   ]
  },
  {
   "cell_type": "markdown",
   "metadata": {},
   "source": [
    "our resulted pvalue is a very low number, which means our variances are not equal."
   ]
  },
  {
   "cell_type": "code",
   "execution_count": 59,
   "metadata": {},
   "outputs": [],
   "source": [
    "results = st.ttest_ind(surf_revenue, ult_revenue, equal_var =False)"
   ]
  },
  {
   "cell_type": "code",
   "execution_count": 60,
   "metadata": {},
   "outputs": [
    {
     "name": "stdout",
     "output_type": "stream",
     "text": [
      "p-value: 1.2184115852123163e-15\n",
      "We reject the null hypothesis\n"
     ]
    }
   ],
   "source": [
    "print('p-value:', results.pvalue)\n",
    "\n",
    "if (results.pvalue < alpha):\n",
    "    print(\"We reject the null hypothesis\")\n",
    "else:\n",
    "    print(\"We can't reject the null hypothesis\")"
   ]
  },
  {
   "cell_type": "markdown",
   "metadata": {},
   "source": [
    "our pvalue is very low, and we reject the null hypothesis which is - the average revenue from both plans is equal,\n",
    "and therfore, we know our h1 is correct - the the average revenue from both plans differs."
   ]
  },
  {
   "cell_type": "markdown",
   "metadata": {},
   "source": [
    "### The average revenue from users in NY-NJ area is different from that of the users from other regions.\n"
   ]
  },
  {
   "cell_type": "markdown",
   "metadata": {},
   "source": [
    "Our null hypothesis (h0) will be: The average revenue from users in NY-NJ area is equal from that of the users from other regions.\n",
    "\n",
    "Our alternative hypothesis (h1) is based on h0 and will be: The average revenue from users in NY-NJ area is different from that of the users from other regions"
   ]
  },
  {
   "cell_type": "markdown",
   "metadata": {},
   "source": [
    "function to get total revenue per user for region calculation"
   ]
  },
  {
   "cell_type": "code",
   "execution_count": 61,
   "metadata": {},
   "outputs": [],
   "source": [
    "def total_rev(row):\n",
    "    user=row['user_id']\n",
    "    monthly=row['monthly_revenue']\n",
    "    \n",
    "    total_rev = df_merged.query('user_id == @user')['monthly_revenue'].sum()\n",
    "        \n",
    "    return total_rev"
   ]
  },
  {
   "cell_type": "code",
   "execution_count": 62,
   "metadata": {},
   "outputs": [],
   "source": [
    "df_merged['total_rev'] = df_merged.apply(total_rev,axis=1)"
   ]
  },
  {
   "cell_type": "code",
   "execution_count": 63,
   "metadata": {},
   "outputs": [],
   "source": [
    "data_frames = [df_users, df_merged]\n",
    "df_test = reduce(lambda  left,right: pd.merge(left,right,on=['user_id'],\n",
    "                                        how='left'), data_frames)"
   ]
  },
  {
   "cell_type": "markdown",
   "metadata": {},
   "source": [
    "Dropping not identical columns in order to create duplicates,  to filter each row for each user."
   ]
  },
  {
   "cell_type": "code",
   "execution_count": 64,
   "metadata": {},
   "outputs": [],
   "source": [
    "df_test = df_test.drop(['month', 'call_duration','gb_used','msg_count','monthly_revenue'], axis = 1)"
   ]
  },
  {
   "cell_type": "code",
   "execution_count": 65,
   "metadata": {},
   "outputs": [
    {
     "data": {
      "text/plain": [
       "1803"
      ]
     },
     "execution_count": 65,
     "metadata": {},
     "output_type": "execute_result"
    }
   ],
   "source": [
    "df_test.duplicated().sum()"
   ]
  },
  {
   "cell_type": "code",
   "execution_count": 66,
   "metadata": {},
   "outputs": [
    {
     "data": {
      "text/html": [
       "<div>\n",
       "<style scoped>\n",
       "    .dataframe tbody tr th:only-of-type {\n",
       "        vertical-align: middle;\n",
       "    }\n",
       "\n",
       "    .dataframe tbody tr th {\n",
       "        vertical-align: top;\n",
       "    }\n",
       "\n",
       "    .dataframe thead th {\n",
       "        text-align: right;\n",
       "    }\n",
       "</style>\n",
       "<table border=\"1\" class=\"dataframe\">\n",
       "  <thead>\n",
       "    <tr style=\"text-align: right;\">\n",
       "      <th></th>\n",
       "      <th>user_id</th>\n",
       "      <th>first_name</th>\n",
       "      <th>last_name</th>\n",
       "      <th>age</th>\n",
       "      <th>city</th>\n",
       "      <th>reg_date</th>\n",
       "      <th>plan_x</th>\n",
       "      <th>churn_date</th>\n",
       "      <th>plan_y</th>\n",
       "      <th>total_rev</th>\n",
       "    </tr>\n",
       "  </thead>\n",
       "  <tbody>\n",
       "    <tr>\n",
       "      <td>0</td>\n",
       "      <td>1000</td>\n",
       "      <td>Anamaria</td>\n",
       "      <td>Bauer</td>\n",
       "      <td>45</td>\n",
       "      <td>Atlanta-Sandy Springs-Roswell, GA MSA</td>\n",
       "      <td>2018-12-24</td>\n",
       "      <td>ultimate</td>\n",
       "      <td>None</td>\n",
       "      <td>ultimate</td>\n",
       "      <td>70.00</td>\n",
       "    </tr>\n",
       "    <tr>\n",
       "      <td>1</td>\n",
       "      <td>1001</td>\n",
       "      <td>Mickey</td>\n",
       "      <td>Wilkerson</td>\n",
       "      <td>28</td>\n",
       "      <td>Seattle-Tacoma-Bellevue, WA MSA</td>\n",
       "      <td>2018-08-13</td>\n",
       "      <td>surf</td>\n",
       "      <td>None</td>\n",
       "      <td>surf</td>\n",
       "      <td>250.09</td>\n",
       "    </tr>\n",
       "    <tr>\n",
       "      <td>2</td>\n",
       "      <td>1001</td>\n",
       "      <td>Mickey</td>\n",
       "      <td>Wilkerson</td>\n",
       "      <td>28</td>\n",
       "      <td>Seattle-Tacoma-Bellevue, WA MSA</td>\n",
       "      <td>2018-08-13</td>\n",
       "      <td>surf</td>\n",
       "      <td>None</td>\n",
       "      <td>surf</td>\n",
       "      <td>250.09</td>\n",
       "    </tr>\n",
       "    <tr>\n",
       "      <td>3</td>\n",
       "      <td>1001</td>\n",
       "      <td>Mickey</td>\n",
       "      <td>Wilkerson</td>\n",
       "      <td>28</td>\n",
       "      <td>Seattle-Tacoma-Bellevue, WA MSA</td>\n",
       "      <td>2018-08-13</td>\n",
       "      <td>surf</td>\n",
       "      <td>None</td>\n",
       "      <td>surf</td>\n",
       "      <td>250.09</td>\n",
       "    </tr>\n",
       "    <tr>\n",
       "      <td>4</td>\n",
       "      <td>1001</td>\n",
       "      <td>Mickey</td>\n",
       "      <td>Wilkerson</td>\n",
       "      <td>28</td>\n",
       "      <td>Seattle-Tacoma-Bellevue, WA MSA</td>\n",
       "      <td>2018-08-13</td>\n",
       "      <td>surf</td>\n",
       "      <td>None</td>\n",
       "      <td>surf</td>\n",
       "      <td>250.09</td>\n",
       "    </tr>\n",
       "  </tbody>\n",
       "</table>\n",
       "</div>"
      ],
      "text/plain": [
       "   user_id first_name  last_name  age                                   city  \\\n",
       "0     1000   Anamaria      Bauer   45  Atlanta-Sandy Springs-Roswell, GA MSA   \n",
       "1     1001     Mickey  Wilkerson   28        Seattle-Tacoma-Bellevue, WA MSA   \n",
       "2     1001     Mickey  Wilkerson   28        Seattle-Tacoma-Bellevue, WA MSA   \n",
       "3     1001     Mickey  Wilkerson   28        Seattle-Tacoma-Bellevue, WA MSA   \n",
       "4     1001     Mickey  Wilkerson   28        Seattle-Tacoma-Bellevue, WA MSA   \n",
       "\n",
       "    reg_date    plan_x churn_date    plan_y  total_rev  \n",
       "0 2018-12-24  ultimate       None  ultimate      70.00  \n",
       "1 2018-08-13      surf       None      surf     250.09  \n",
       "2 2018-08-13      surf       None      surf     250.09  \n",
       "3 2018-08-13      surf       None      surf     250.09  \n",
       "4 2018-08-13      surf       None      surf     250.09  "
      ]
     },
     "execution_count": 66,
     "metadata": {},
     "output_type": "execute_result"
    }
   ],
   "source": [
    "df_test.head()"
   ]
  },
  {
   "cell_type": "code",
   "execution_count": 67,
   "metadata": {},
   "outputs": [],
   "source": [
    "df_test = df_test.drop_duplicates()"
   ]
  },
  {
   "cell_type": "code",
   "execution_count": 68,
   "metadata": {},
   "outputs": [
    {
     "name": "stdout",
     "output_type": "stream",
     "text": [
      "<class 'pandas.core.frame.DataFrame'>\n",
      "Int64Index: 500 entries, 0 to 2299\n",
      "Data columns (total 10 columns):\n",
      "user_id       500 non-null int64\n",
      "first_name    500 non-null object\n",
      "last_name     500 non-null object\n",
      "age           500 non-null int64\n",
      "city          500 non-null object\n",
      "reg_date      500 non-null datetime64[ns]\n",
      "plan_x        500 non-null object\n",
      "churn_date    500 non-null object\n",
      "plan_y        500 non-null object\n",
      "total_rev     500 non-null float64\n",
      "dtypes: datetime64[ns](1), float64(1), int64(2), object(6)\n",
      "memory usage: 43.0+ KB\n"
     ]
    }
   ],
   "source": [
    "df_test.info()"
   ]
  },
  {
   "cell_type": "markdown",
   "metadata": {},
   "source": [
    "we have 500 rows, for 500 users, with the column of total revenue for region calculation."
   ]
  },
  {
   "cell_type": "markdown",
   "metadata": {},
   "source": [
    "Creating dataframes for the revenues for  NY-NJ area and other regions."
   ]
  },
  {
   "cell_type": "code",
   "execution_count": 69,
   "metadata": {},
   "outputs": [],
   "source": [
    "nynj_revenue = df_test[df_test.city.str.contains('NY-NJ')]['total_rev']"
   ]
  },
  {
   "cell_type": "code",
   "execution_count": 70,
   "metadata": {},
   "outputs": [],
   "source": [
    "other_revenue = df_test[~df_test.city.str.contains('NY-NJ')]['total_rev']"
   ]
  },
  {
   "cell_type": "code",
   "execution_count": 71,
   "metadata": {},
   "outputs": [
    {
     "data": {
      "text/plain": [
       "242.0980583781921"
      ]
     },
     "execution_count": 71,
     "metadata": {},
     "output_type": "execute_result"
    }
   ],
   "source": [
    "nynj_revenue.std()"
   ]
  },
  {
   "cell_type": "code",
   "execution_count": 72,
   "metadata": {},
   "outputs": [
    {
     "data": {
      "text/plain": [
       "276.6197377204259"
      ]
     },
     "execution_count": 72,
     "metadata": {},
     "output_type": "execute_result"
    }
   ],
   "source": [
    "other_revenue.std()"
   ]
  },
  {
   "cell_type": "markdown",
   "metadata": {},
   "source": [
    "Declaring our alpha value - 5% which is the most common and recommended value"
   ]
  },
  {
   "cell_type": "code",
   "execution_count": 73,
   "metadata": {},
   "outputs": [],
   "source": [
    "alpha = 0.05"
   ]
  },
  {
   "cell_type": "markdown",
   "metadata": {},
   "source": [
    "Checking the varience values for nynj and other regions for the equal_var parameter using levene's test."
   ]
  },
  {
   "cell_type": "code",
   "execution_count": 74,
   "metadata": {},
   "outputs": [
    {
     "data": {
      "text/plain": [
       "LeveneResult(statistic=0.29759609065809506, pvalue=0.5856376488506585)"
      ]
     },
     "execution_count": 74,
     "metadata": {},
     "output_type": "execute_result"
    }
   ],
   "source": [
    "levene(nynj_revenue, other_revenue, center='median')"
   ]
  },
  {
   "cell_type": "markdown",
   "metadata": {},
   "source": [
    "Our pvalue is higher than our alpha value (0.05%) and we will set the parameter equal_var=True"
   ]
  },
  {
   "cell_type": "code",
   "execution_count": 75,
   "metadata": {},
   "outputs": [],
   "source": [
    "results = st.ttest_ind(nynj_revenue, other_revenue, equal_var =True)"
   ]
  },
  {
   "cell_type": "code",
   "execution_count": 76,
   "metadata": {},
   "outputs": [
    {
     "name": "stdout",
     "output_type": "stream",
     "text": [
      "p-value: 0.6491879042432283\n",
      "We can't reject the null hypothesis\n"
     ]
    }
   ],
   "source": [
    "print('p-value:', results.pvalue)\n",
    "\n",
    "if (results.pvalue < alpha):\n",
    "    print(\"We reject the null hypothesis\")\n",
    "else:\n",
    "    print(\"We can't reject the null hypothesis\")"
   ]
  },
  {
   "cell_type": "markdown",
   "metadata": {},
   "source": [
    "our pvalue is high and higher than our alpha value, so we can't reject the null hypothesis which is - The average revenue from users in NY-NJ area is equal from that of the users from other regions."
   ]
  },
  {
   "cell_type": "markdown",
   "metadata": {},
   "source": [
    "### Conclusion"
   ]
  },
  {
   "cell_type": "markdown",
   "metadata": {},
   "source": [
    "After testing the hypotheses for:\n",
    "\n",
    "    - The average revenue from users of Ultimate and Surf calling plans differs.\n",
    "    \n",
    "    - The average revenue from users in NY-NJ area is different from that of the users from other regions.\n",
    "    \n",
    "we were able to reject the null hypothesis for the first statement, which means the average revenue does differ between the plans.\n",
    "we weren't able to reject the null hypothesis for the second statement, which means we cant say the avg revenue between nynj to others is different. \n",
    "\n",
    "the criterion used to test the hypotheses is alpha value of 0.05 (5%) as this is the best practice and most common used.\n",
    "the null hypotheses were formulated to claim equality, as this is the h0 for comparing two population means,\n",
    "and the alternative claims for difference between the population and is dependant if we can reject the h0 (equality) or not.\n"
   ]
  },
  {
   "cell_type": "code",
   "execution_count": 77,
   "metadata": {},
   "outputs": [],
   "source": [
    "surf_revenue_total = df_test.query('plan_x == \"surf\"')['total_rev'].sum()\n",
    "ult_revenue_total = df_test.query('plan_x == \"ultimate\"')['total_rev'].sum()\n",
    "surf_revenue_mean = df_test.query('plan_x == \"surf\"')['total_rev'].mean()\n",
    "ult_revenue_mean = df_test.query('plan_x == \"ultimate\"')['total_rev'].mean()\n"
   ]
  },
  {
   "cell_type": "code",
   "execution_count": 78,
   "metadata": {},
   "outputs": [
    {
     "data": {
      "text/plain": [
       "95611.18"
      ]
     },
     "execution_count": 78,
     "metadata": {},
     "output_type": "execute_result"
    }
   ],
   "source": [
    "surf_revenue_total"
   ]
  },
  {
   "cell_type": "code",
   "execution_count": 79,
   "metadata": {},
   "outputs": [
    {
     "data": {
      "text/plain": [
       "52346.0"
      ]
     },
     "execution_count": 79,
     "metadata": {},
     "output_type": "execute_result"
    }
   ],
   "source": [
    "ult_revenue_total"
   ]
  },
  {
   "cell_type": "code",
   "execution_count": 80,
   "metadata": {
    "scrolled": true
   },
   "outputs": [
    {
     "data": {
      "text/plain": [
       "282.03887905604716"
      ]
     },
     "execution_count": 80,
     "metadata": {},
     "output_type": "execute_result"
    }
   ],
   "source": [
    "surf_revenue_mean "
   ]
  },
  {
   "cell_type": "code",
   "execution_count": 81,
   "metadata": {},
   "outputs": [
    {
     "data": {
      "text/plain": [
       "325.1304347826087"
      ]
     },
     "execution_count": 81,
     "metadata": {},
     "output_type": "execute_result"
    }
   ],
   "source": [
    "ult_revenue_mean "
   ]
  },
  {
   "cell_type": "markdown",
   "metadata": {},
   "source": [
    "## Overall Conclusion"
   ]
  },
  {
   "cell_type": "markdown",
   "metadata": {},
   "source": [
    "To summarize, we concluded many conclusions regarding different aspects of the data:\n",
    "- In the data's preparation & processing stage:\n",
    "1. we discovered 1 column with missing values - df_users.churn_date is the only column with missing values,\n",
    "   but those missing values have a meaning - the plan was being used when this data was generated, filled with None.\n",
    "2. All the date related columns have been changed to date type.\n",
    "3. Data's usage measurement unit (MB) has been changed to GB.\n",
    "4. Values of 0 in call_duration(19.4%) are considered unanswered call, and values of 0 in mb_used(13.1%) are considered 0 usage in the session.\n",
    "\n",
    "- In the exploratory data analysis stage:\n",
    "1. We see that theres a strong positive correlation between the number of months(january - 1 , december- 12) to the number of users, and to the usage metrics. we conclude that january always had the lowest values, and december had the highest values(for both plans) - as it had much more users.\n",
    "\n",
    "2. we conclude the highest values in all metrics (calls,data usage, messages) belongs to surf plan, which can be explained by the amount of users(surf grew from 2 users in jan to 318 users in dec, ultimate grew from 4 users in jan to 151 users in dec)(with no 0 values- actual usage of the metrics).\n",
    "\n",
    "3. The surf plan's users growth is much bigger than the ultimate plan's user growth.\n",
    "\n",
    "- In the Tests of the hypotheses:\n",
    "1. The average revenue from users of Ultimate and Surf calling plans differs.\n",
    "   we were able to reject the null hypothesis for this statement, which means the average revenue does differ between the plans.\n",
    "\n",
    "2. The average revenue from users in NY-NJ area is different from that of the users from other regions.\n",
    "   we weren't able to reject the null hypothesis for the second statement, which means we cant say the avg revenue between nynj to others is different.\n",
    "\n",
    "\n",
    "- Which prepaid plan bring more in revenue? (in order to adjust the advertising budget).\n",
    "\n",
    "  surf plan total revenue: 95611.18\n",
    "  \n",
    "  ultimate plan total revenue: 52346\n",
    "\n",
    "  surf plan mean(average per user) revenue: 282.03\n",
    "  \n",
    "  ultimate plan mean(average per user) revenue: 325.13\n",
    "\n",
    "  We conclude that the surf plan brought more total revenue in 2018, and had a bigger user growth, but the ultimate plan\n",
    "  brings more revenue per user.\n",
    "  My suggestion is to advertise the ultimate plan more due to its small user growth, high revenue per user, and because the     user growth for the surf plan is much higher."
   ]
  }
 ],
 "metadata": {
  "ExecuteTimeLog": [
   {
    "duration": 1973,
    "start_time": "2021-06-29T15:10:09.795Z"
   },
   {
    "duration": 17,
    "start_time": "2021-06-29T15:13:00.301Z"
   },
   {
    "duration": 18,
    "start_time": "2021-06-29T15:14:13.911Z"
   },
   {
    "duration": 11,
    "start_time": "2021-06-29T15:14:17.421Z"
   },
   {
    "duration": 10,
    "start_time": "2021-06-29T15:14:32.167Z"
   },
   {
    "duration": 13,
    "start_time": "2021-06-29T15:14:42.121Z"
   },
   {
    "duration": 15,
    "start_time": "2021-06-29T15:14:48.537Z"
   },
   {
    "duration": 12,
    "start_time": "2021-06-29T15:24:46.081Z"
   },
   {
    "duration": 112,
    "start_time": "2021-06-29T15:25:11.329Z"
   },
   {
    "duration": 114,
    "start_time": "2021-06-29T15:25:15.282Z"
   },
   {
    "duration": 11,
    "start_time": "2021-06-29T15:25:23.521Z"
   },
   {
    "duration": 117,
    "start_time": "2021-06-29T15:25:34.465Z"
   },
   {
    "duration": 520,
    "start_time": "2021-06-29T15:25:38.897Z"
   },
   {
    "duration": 372,
    "start_time": "2021-06-29T15:25:46.033Z"
   },
   {
    "duration": 350,
    "start_time": "2021-06-29T15:25:56.835Z"
   },
   {
    "duration": 11,
    "start_time": "2021-06-29T15:26:42.147Z"
   },
   {
    "duration": 10,
    "start_time": "2021-06-29T15:26:57.153Z"
   },
   {
    "duration": 10,
    "start_time": "2021-06-29T15:27:13.329Z"
   },
   {
    "duration": 12,
    "start_time": "2021-06-29T15:27:18.166Z"
   },
   {
    "duration": 12,
    "start_time": "2021-06-29T15:27:42.403Z"
   },
   {
    "duration": 12,
    "start_time": "2021-06-29T15:28:05.923Z"
   },
   {
    "duration": 12,
    "start_time": "2021-06-29T15:28:14.115Z"
   },
   {
    "duration": 10,
    "start_time": "2021-06-29T15:28:24.180Z"
   },
   {
    "duration": 26,
    "start_time": "2021-06-29T15:30:12.481Z"
   },
   {
    "duration": 4,
    "start_time": "2021-06-29T15:37:15.515Z"
   },
   {
    "duration": 56,
    "start_time": "2021-06-29T15:37:27.052Z"
   },
   {
    "duration": 53,
    "start_time": "2021-06-29T15:37:46.987Z"
   },
   {
    "duration": 81,
    "start_time": "2021-06-29T15:37:59.309Z"
   },
   {
    "duration": 56,
    "start_time": "2021-06-29T15:38:08.411Z"
   },
   {
    "duration": 56,
    "start_time": "2021-06-29T15:39:23.150Z"
   },
   {
    "duration": 4,
    "start_time": "2021-06-29T15:41:43.597Z"
   },
   {
    "duration": 4,
    "start_time": "2021-06-29T15:41:45.983Z"
   },
   {
    "duration": 402,
    "start_time": "2021-06-29T15:43:49.473Z"
   },
   {
    "duration": 37,
    "start_time": "2021-06-29T15:44:00.384Z"
   },
   {
    "duration": 36,
    "start_time": "2021-06-29T15:44:15.824Z"
   },
   {
    "duration": 36,
    "start_time": "2021-06-29T15:44:34.114Z"
   },
   {
    "duration": 37,
    "start_time": "2021-06-29T15:44:40.144Z"
   },
   {
    "duration": 5,
    "start_time": "2021-06-29T15:45:57.394Z"
   },
   {
    "duration": 55,
    "start_time": "2021-06-29T15:46:00.050Z"
   },
   {
    "duration": 8,
    "start_time": "2021-06-29T15:47:42.804Z"
   },
   {
    "duration": 54,
    "start_time": "2021-06-29T15:47:57.652Z"
   },
   {
    "duration": 7,
    "start_time": "2021-06-29T15:48:07.763Z"
   },
   {
    "duration": 54,
    "start_time": "2021-06-29T15:48:34.820Z"
   },
   {
    "duration": 52,
    "start_time": "2021-06-29T15:51:00.014Z"
   },
   {
    "duration": 42,
    "start_time": "2021-06-29T15:51:54.648Z"
   },
   {
    "duration": 42,
    "start_time": "2021-06-29T15:52:10.728Z"
   },
   {
    "duration": 9,
    "start_time": "2021-06-29T15:52:20.182Z"
   },
   {
    "duration": 33,
    "start_time": "2021-06-29T15:54:22.650Z"
   },
   {
    "duration": 47,
    "start_time": "2021-06-29T15:54:33.498Z"
   },
   {
    "duration": 389,
    "start_time": "2021-06-29T15:55:01.434Z"
   },
   {
    "duration": 46,
    "start_time": "2021-06-29T15:55:23.418Z"
   },
   {
    "duration": 365,
    "start_time": "2021-06-29T15:55:37.658Z"
   },
   {
    "duration": 335,
    "start_time": "2021-06-29T15:55:45.308Z"
   },
   {
    "duration": 45,
    "start_time": "2021-06-29T15:56:10.860Z"
   },
   {
    "duration": 693,
    "start_time": "2021-06-29T15:56:28.202Z"
   },
   {
    "duration": 382,
    "start_time": "2021-06-29T15:57:33.180Z"
   },
   {
    "duration": 46,
    "start_time": "2021-06-29T15:58:11.534Z"
   },
   {
    "duration": 46,
    "start_time": "2021-06-29T15:58:21.516Z"
   },
   {
    "duration": 45,
    "start_time": "2021-06-29T15:58:42.940Z"
   },
   {
    "duration": 44,
    "start_time": "2021-06-29T15:58:50.044Z"
   },
   {
    "duration": 362,
    "start_time": "2021-06-29T16:01:50.796Z"
   },
   {
    "duration": 336,
    "start_time": "2021-06-29T16:02:02.752Z"
   },
   {
    "duration": 364,
    "start_time": "2021-06-29T16:02:08.048Z"
   },
   {
    "duration": 155,
    "start_time": "2021-06-29T16:02:17.375Z"
   },
   {
    "duration": 11,
    "start_time": "2021-06-29T16:08:00.272Z"
   },
   {
    "duration": 24,
    "start_time": "2021-06-29T16:08:26.726Z"
   },
   {
    "duration": 6,
    "start_time": "2021-06-29T16:23:59.817Z"
   },
   {
    "duration": 12,
    "start_time": "2021-06-29T16:25:35.339Z"
   },
   {
    "duration": 6,
    "start_time": "2021-06-29T16:27:56.533Z"
   },
   {
    "duration": 5,
    "start_time": "2021-06-29T16:28:36.133Z"
   },
   {
    "duration": 15,
    "start_time": "2021-06-30T08:52:07.870Z"
   },
   {
    "duration": 30,
    "start_time": "2021-06-30T08:52:33.614Z"
   },
   {
    "duration": 28,
    "start_time": "2021-06-30T08:52:55.432Z"
   },
   {
    "duration": 33,
    "start_time": "2021-06-30T08:53:08.969Z"
   },
   {
    "duration": 19,
    "start_time": "2021-06-30T09:18:23.621Z"
   },
   {
    "duration": 95,
    "start_time": "2021-06-30T09:18:34.943Z"
   },
   {
    "duration": 33,
    "start_time": "2021-06-30T12:32:51.465Z"
   },
   {
    "duration": 30,
    "start_time": "2021-06-30T12:34:48.892Z"
   },
   {
    "duration": 54,
    "start_time": "2021-06-30T12:35:00.324Z"
   },
   {
    "duration": 14,
    "start_time": "2021-06-30T12:36:12.006Z"
   },
   {
    "duration": 39,
    "start_time": "2021-06-30T12:36:29.637Z"
   },
   {
    "duration": 17,
    "start_time": "2021-06-30T12:37:20.361Z"
   },
   {
    "duration": 45,
    "start_time": "2021-06-30T12:38:07.272Z"
   },
   {
    "duration": 201,
    "start_time": "2021-06-30T12:38:14.791Z"
   },
   {
    "duration": 13,
    "start_time": "2021-06-30T12:38:53.799Z"
   },
   {
    "duration": 46,
    "start_time": "2021-06-30T12:38:55.847Z"
   },
   {
    "duration": 42,
    "start_time": "2021-06-30T12:39:28.088Z"
   },
   {
    "duration": 109,
    "start_time": "2021-06-30T12:50:02.904Z"
   },
   {
    "duration": 14,
    "start_time": "2021-06-30T12:52:16.976Z"
   },
   {
    "duration": 15,
    "start_time": "2021-06-30T12:53:01.516Z"
   },
   {
    "duration": 20,
    "start_time": "2021-06-30T12:53:13.732Z"
   },
   {
    "duration": 18,
    "start_time": "2021-06-30T12:53:34.324Z"
   },
   {
    "duration": 17,
    "start_time": "2021-06-30T12:54:14.599Z"
   },
   {
    "duration": 16,
    "start_time": "2021-06-30T12:54:18.216Z"
   },
   {
    "duration": 19,
    "start_time": "2021-06-30T12:57:23.470Z"
   },
   {
    "duration": 112,
    "start_time": "2021-06-30T12:57:47.134Z"
   },
   {
    "duration": 19,
    "start_time": "2021-06-30T12:57:53.209Z"
   },
   {
    "duration": 12,
    "start_time": "2021-06-30T13:07:31.546Z"
   },
   {
    "duration": 17,
    "start_time": "2021-06-30T17:22:00.511Z"
   },
   {
    "duration": 16,
    "start_time": "2021-06-30T17:22:06.025Z"
   },
   {
    "duration": 420,
    "start_time": "2021-06-30T17:24:50.663Z"
   },
   {
    "duration": 383,
    "start_time": "2021-06-30T17:24:59.585Z"
   },
   {
    "duration": 1630,
    "start_time": "2021-06-30T17:25:06.014Z"
   },
   {
    "duration": 387,
    "start_time": "2021-06-30T17:25:16.621Z"
   },
   {
    "duration": 372,
    "start_time": "2021-06-30T17:25:29.163Z"
   },
   {
    "duration": 12,
    "start_time": "2021-06-30T17:28:59.871Z"
   },
   {
    "duration": 12,
    "start_time": "2021-06-30T17:29:40.703Z"
   },
   {
    "duration": 4,
    "start_time": "2021-06-30T17:40:01.342Z"
   },
   {
    "duration": 4,
    "start_time": "2021-06-30T17:40:19.608Z"
   },
   {
    "duration": 8,
    "start_time": "2021-06-30T17:41:39.994Z"
   },
   {
    "duration": 389,
    "start_time": "2021-06-30T17:44:06.978Z"
   },
   {
    "duration": 21,
    "start_time": "2021-06-30T17:45:11.596Z"
   },
   {
    "duration": 388,
    "start_time": "2021-06-30T17:45:28.765Z"
   },
   {
    "duration": 31,
    "start_time": "2021-06-30T17:46:03.452Z"
   },
   {
    "duration": 15,
    "start_time": "2021-06-30T17:46:17.758Z"
   },
   {
    "duration": 12,
    "start_time": "2021-06-30T17:46:22.238Z"
   },
   {
    "duration": 50,
    "start_time": "2021-06-30T17:46:44.206Z"
   },
   {
    "duration": 45,
    "start_time": "2021-06-30T17:47:07.118Z"
   },
   {
    "duration": 6,
    "start_time": "2021-06-30T17:51:12.808Z"
   },
   {
    "duration": 12,
    "start_time": "2021-06-30T17:51:21.442Z"
   },
   {
    "duration": 6,
    "start_time": "2021-06-30T17:53:19.788Z"
   },
   {
    "duration": 21,
    "start_time": "2021-06-30T17:53:28.308Z"
   },
   {
    "duration": 12,
    "start_time": "2021-06-30T17:53:33.668Z"
   },
   {
    "duration": 16,
    "start_time": "2021-06-30T18:00:34.689Z"
   },
   {
    "duration": 26,
    "start_time": "2021-06-30T18:00:42.027Z"
   },
   {
    "duration": 9,
    "start_time": "2021-06-30T18:01:56.381Z"
   },
   {
    "duration": 25,
    "start_time": "2021-06-30T18:03:19.949Z"
   },
   {
    "duration": 383,
    "start_time": "2021-06-30T18:05:49.305Z"
   },
   {
    "duration": 7,
    "start_time": "2021-06-30T18:05:56.975Z"
   },
   {
    "duration": 26,
    "start_time": "2021-06-30T18:05:59.537Z"
   },
   {
    "duration": 13,
    "start_time": "2021-06-30T18:06:14.497Z"
   },
   {
    "duration": 3,
    "start_time": "2021-06-30T18:19:09.298Z"
   },
   {
    "duration": 3,
    "start_time": "2021-06-30T18:26:04.998Z"
   },
   {
    "duration": 23,
    "start_time": "2021-06-30T18:26:52.224Z"
   },
   {
    "duration": 12,
    "start_time": "2021-06-30T18:27:00.434Z"
   },
   {
    "duration": 15,
    "start_time": "2021-06-30T18:27:04.641Z"
   },
   {
    "duration": 50,
    "start_time": "2021-06-30T18:28:05.394Z"
   },
   {
    "duration": 13,
    "start_time": "2021-06-30T18:28:12.946Z"
   },
   {
    "duration": 15,
    "start_time": "2021-06-30T18:28:17.826Z"
   },
   {
    "duration": 14,
    "start_time": "2021-06-30T18:28:27.970Z"
   },
   {
    "duration": 2176,
    "start_time": "2021-06-30T18:30:46.129Z"
   },
   {
    "duration": 4,
    "start_time": "2021-06-30T18:30:48.308Z"
   },
   {
    "duration": 27,
    "start_time": "2021-06-30T18:30:48.315Z"
   },
   {
    "duration": 77,
    "start_time": "2021-06-30T18:30:48.346Z"
   },
   {
    "duration": 46,
    "start_time": "2021-06-30T18:30:48.426Z"
   },
   {
    "duration": 191,
    "start_time": "2021-06-30T18:30:48.474Z"
   },
   {
    "duration": 6,
    "start_time": "2021-06-30T18:30:48.668Z"
   },
   {
    "duration": 143,
    "start_time": "2021-06-30T18:30:48.677Z"
   },
   {
    "duration": 15,
    "start_time": "2021-06-30T18:30:48.823Z"
   },
   {
    "duration": 12,
    "start_time": "2021-06-30T18:30:48.841Z"
   },
   {
    "duration": 61,
    "start_time": "2021-06-30T18:30:48.856Z"
   },
   {
    "duration": 4,
    "start_time": "2021-06-30T18:30:48.920Z"
   },
   {
    "duration": 88,
    "start_time": "2021-06-30T18:30:48.926Z"
   },
   {
    "duration": 6,
    "start_time": "2021-06-30T18:30:49.016Z"
   },
   {
    "duration": 6,
    "start_time": "2021-06-30T18:30:49.025Z"
   },
   {
    "duration": 12,
    "start_time": "2021-06-30T18:30:49.034Z"
   },
   {
    "duration": 74,
    "start_time": "2021-06-30T18:30:49.049Z"
   },
   {
    "duration": 2103,
    "start_time": "2021-06-30T18:35:51.888Z"
   },
   {
    "duration": 3,
    "start_time": "2021-06-30T18:35:53.994Z"
   },
   {
    "duration": 35,
    "start_time": "2021-06-30T18:35:54.001Z"
   },
   {
    "duration": 59,
    "start_time": "2021-06-30T18:35:54.039Z"
   },
   {
    "duration": 50,
    "start_time": "2021-06-30T18:35:54.100Z"
   },
   {
    "duration": 182,
    "start_time": "2021-06-30T18:35:54.153Z"
   },
   {
    "duration": 5,
    "start_time": "2021-06-30T18:35:54.337Z"
   },
   {
    "duration": 131,
    "start_time": "2021-06-30T18:35:54.344Z"
   },
   {
    "duration": 32,
    "start_time": "2021-06-30T18:35:54.478Z"
   },
   {
    "duration": 16,
    "start_time": "2021-06-30T18:35:54.513Z"
   },
   {
    "duration": 4,
    "start_time": "2021-06-30T18:35:54.531Z"
   },
   {
    "duration": 91,
    "start_time": "2021-06-30T18:35:54.537Z"
   },
   {
    "duration": 5,
    "start_time": "2021-06-30T18:35:54.630Z"
   },
   {
    "duration": 15,
    "start_time": "2021-06-30T18:35:54.638Z"
   },
   {
    "duration": 10,
    "start_time": "2021-06-30T18:35:54.656Z"
   },
   {
    "duration": 63,
    "start_time": "2021-06-30T18:35:54.668Z"
   },
   {
    "duration": 152,
    "start_time": "2021-06-30T18:35:54.733Z"
   },
   {
    "duration": 101876,
    "start_time": "2021-06-30T18:35:59.495Z"
   },
   {
    "duration": 601,
    "start_time": "2021-06-30T18:37:40.772Z"
   },
   {
    "duration": 396,
    "start_time": "2021-06-30T18:37:46.131Z"
   },
   {
    "duration": 2273,
    "start_time": "2021-06-30T18:38:52.184Z"
   },
   {
    "duration": 4,
    "start_time": "2021-06-30T18:38:54.460Z"
   },
   {
    "duration": 31,
    "start_time": "2021-06-30T18:38:54.467Z"
   },
   {
    "duration": 59,
    "start_time": "2021-06-30T18:38:54.501Z"
   },
   {
    "duration": 54,
    "start_time": "2021-06-30T18:38:54.562Z"
   },
   {
    "duration": 176,
    "start_time": "2021-06-30T18:38:54.618Z"
   },
   {
    "duration": 14,
    "start_time": "2021-06-30T18:38:54.796Z"
   },
   {
    "duration": 117,
    "start_time": "2021-06-30T18:38:54.814Z"
   },
   {
    "duration": 14,
    "start_time": "2021-06-30T18:38:54.934Z"
   },
   {
    "duration": 21,
    "start_time": "2021-06-30T18:38:54.950Z"
   },
   {
    "duration": 35,
    "start_time": "2021-06-30T18:38:54.975Z"
   },
   {
    "duration": 111,
    "start_time": "2021-06-30T18:38:55.013Z"
   },
   {
    "duration": 6,
    "start_time": "2021-06-30T18:38:55.126Z"
   },
   {
    "duration": 42,
    "start_time": "2021-06-30T18:38:55.134Z"
   },
   {
    "duration": 9,
    "start_time": "2021-06-30T18:38:55.178Z"
   },
   {
    "duration": 57,
    "start_time": "2021-06-30T18:38:55.189Z"
   },
   {
    "duration": 409,
    "start_time": "2021-06-30T18:41:54.535Z"
   },
   {
    "duration": 2091,
    "start_time": "2021-06-30T18:42:08.307Z"
   },
   {
    "duration": 4,
    "start_time": "2021-06-30T18:42:10.401Z"
   },
   {
    "duration": 31,
    "start_time": "2021-06-30T18:42:10.408Z"
   },
   {
    "duration": 79,
    "start_time": "2021-06-30T18:42:10.442Z"
   },
   {
    "duration": 46,
    "start_time": "2021-06-30T18:42:10.523Z"
   },
   {
    "duration": 186,
    "start_time": "2021-06-30T18:42:10.571Z"
   },
   {
    "duration": 6,
    "start_time": "2021-06-30T18:42:10.759Z"
   },
   {
    "duration": 142,
    "start_time": "2021-06-30T18:42:10.768Z"
   },
   {
    "duration": 14,
    "start_time": "2021-06-30T18:42:10.914Z"
   },
   {
    "duration": 18,
    "start_time": "2021-06-30T18:42:10.931Z"
   },
   {
    "duration": 3,
    "start_time": "2021-06-30T18:42:10.952Z"
   },
   {
    "duration": 108,
    "start_time": "2021-06-30T18:42:10.957Z"
   },
   {
    "duration": 6,
    "start_time": "2021-06-30T18:42:11.067Z"
   },
   {
    "duration": 5,
    "start_time": "2021-06-30T18:42:11.076Z"
   },
   {
    "duration": 25,
    "start_time": "2021-06-30T18:42:11.084Z"
   },
   {
    "duration": 57,
    "start_time": "2021-06-30T18:42:11.111Z"
   },
   {
    "duration": 22395,
    "start_time": "2021-06-30T18:42:11.171Z"
   },
   {
    "duration": 2009,
    "start_time": "2021-06-30T18:44:31.878Z"
   },
   {
    "duration": 5,
    "start_time": "2021-06-30T18:44:33.890Z"
   },
   {
    "duration": 30,
    "start_time": "2021-06-30T18:44:33.898Z"
   },
   {
    "duration": 56,
    "start_time": "2021-06-30T18:44:33.931Z"
   },
   {
    "duration": 62,
    "start_time": "2021-06-30T18:44:33.990Z"
   },
   {
    "duration": 185,
    "start_time": "2021-06-30T18:44:34.054Z"
   },
   {
    "duration": 5,
    "start_time": "2021-06-30T18:44:34.241Z"
   },
   {
    "duration": 136,
    "start_time": "2021-06-30T18:44:34.251Z"
   },
   {
    "duration": 29,
    "start_time": "2021-06-30T18:44:34.391Z"
   },
   {
    "duration": 19,
    "start_time": "2021-06-30T18:44:34.422Z"
   },
   {
    "duration": 5,
    "start_time": "2021-06-30T18:44:34.444Z"
   },
   {
    "duration": 100,
    "start_time": "2021-06-30T18:44:34.452Z"
   },
   {
    "duration": 7,
    "start_time": "2021-06-30T18:44:34.555Z"
   },
   {
    "duration": 12,
    "start_time": "2021-06-30T18:44:34.565Z"
   },
   {
    "duration": 19,
    "start_time": "2021-06-30T18:44:34.580Z"
   },
   {
    "duration": 61,
    "start_time": "2021-06-30T18:44:34.609Z"
   },
   {
    "duration": 55485,
    "start_time": "2021-06-30T18:44:34.672Z"
   },
   {
    "duration": 598,
    "start_time": "2021-06-30T18:45:29.562Z"
   },
   {
    "duration": 1970,
    "start_time": "2021-06-30T18:48:40.932Z"
   },
   {
    "duration": 4,
    "start_time": "2021-06-30T18:48:42.905Z"
   },
   {
    "duration": 29,
    "start_time": "2021-06-30T18:48:42.912Z"
   },
   {
    "duration": 71,
    "start_time": "2021-06-30T18:48:42.944Z"
   },
   {
    "duration": 52,
    "start_time": "2021-06-30T18:48:43.017Z"
   },
   {
    "duration": 185,
    "start_time": "2021-06-30T18:48:43.072Z"
   },
   {
    "duration": 6,
    "start_time": "2021-06-30T18:48:43.259Z"
   },
   {
    "duration": 129,
    "start_time": "2021-06-30T18:48:43.268Z"
   },
   {
    "duration": 15,
    "start_time": "2021-06-30T18:48:43.411Z"
   },
   {
    "duration": 17,
    "start_time": "2021-06-30T18:48:43.429Z"
   },
   {
    "duration": 4,
    "start_time": "2021-06-30T18:48:43.448Z"
   },
   {
    "duration": 103,
    "start_time": "2021-06-30T18:48:43.454Z"
   },
   {
    "duration": 6,
    "start_time": "2021-06-30T18:48:43.559Z"
   },
   {
    "duration": 7,
    "start_time": "2021-06-30T18:48:43.568Z"
   },
   {
    "duration": 13,
    "start_time": "2021-06-30T18:48:43.577Z"
   },
   {
    "duration": 64,
    "start_time": "2021-06-30T18:48:43.593Z"
   },
   {
    "duration": 2144,
    "start_time": "2021-06-30T19:19:05.291Z"
   },
   {
    "duration": 4,
    "start_time": "2021-06-30T19:19:07.438Z"
   },
   {
    "duration": 44,
    "start_time": "2021-06-30T19:19:07.445Z"
   },
   {
    "duration": 68,
    "start_time": "2021-06-30T19:19:07.492Z"
   },
   {
    "duration": 63,
    "start_time": "2021-06-30T19:19:07.562Z"
   },
   {
    "duration": 193,
    "start_time": "2021-06-30T19:19:07.627Z"
   },
   {
    "duration": 5,
    "start_time": "2021-06-30T19:19:07.822Z"
   },
   {
    "duration": 121,
    "start_time": "2021-06-30T19:19:07.830Z"
   },
   {
    "duration": 15,
    "start_time": "2021-06-30T19:19:07.953Z"
   },
   {
    "duration": 41,
    "start_time": "2021-06-30T19:19:07.970Z"
   },
   {
    "duration": 3,
    "start_time": "2021-06-30T19:19:08.014Z"
   },
   {
    "duration": 89,
    "start_time": "2021-06-30T19:19:08.020Z"
   },
   {
    "duration": 6,
    "start_time": "2021-06-30T19:19:08.111Z"
   },
   {
    "duration": 11,
    "start_time": "2021-06-30T19:19:08.119Z"
   },
   {
    "duration": 8,
    "start_time": "2021-06-30T19:19:08.133Z"
   },
   {
    "duration": 73,
    "start_time": "2021-06-30T19:19:08.143Z"
   },
   {
    "duration": 124176,
    "start_time": "2021-06-30T19:19:08.218Z"
   },
   {
    "duration": 386,
    "start_time": "2021-06-30T19:31:08.483Z"
   },
   {
    "duration": 4,
    "start_time": "2021-06-30T19:31:58.981Z"
   },
   {
    "duration": 738,
    "start_time": "2021-06-30T20:10:44.590Z"
   },
   {
    "duration": 2100,
    "start_time": "2021-06-30T20:11:00.571Z"
   },
   {
    "duration": 4,
    "start_time": "2021-06-30T20:11:02.673Z"
   },
   {
    "duration": 35,
    "start_time": "2021-06-30T20:11:02.682Z"
   },
   {
    "duration": 90,
    "start_time": "2021-06-30T20:11:02.719Z"
   },
   {
    "duration": 55,
    "start_time": "2021-06-30T20:11:02.813Z"
   },
   {
    "duration": 193,
    "start_time": "2021-06-30T20:11:02.870Z"
   },
   {
    "duration": 5,
    "start_time": "2021-06-30T20:11:03.066Z"
   },
   {
    "duration": 134,
    "start_time": "2021-06-30T20:11:03.075Z"
   },
   {
    "duration": 15,
    "start_time": "2021-06-30T20:11:03.211Z"
   },
   {
    "duration": 26,
    "start_time": "2021-06-30T20:11:03.228Z"
   },
   {
    "duration": 17,
    "start_time": "2021-06-30T20:11:03.256Z"
   },
   {
    "duration": 114,
    "start_time": "2021-06-30T20:11:03.275Z"
   },
   {
    "duration": 8,
    "start_time": "2021-06-30T20:11:03.393Z"
   },
   {
    "duration": 23,
    "start_time": "2021-06-30T20:11:03.403Z"
   },
   {
    "duration": 12,
    "start_time": "2021-06-30T20:11:03.428Z"
   },
   {
    "duration": 58,
    "start_time": "2021-06-30T20:11:03.443Z"
   },
   {
    "duration": 10,
    "start_time": "2021-06-30T20:11:03.504Z"
   },
   {
    "duration": 17,
    "start_time": "2021-06-30T20:11:03.516Z"
   },
   {
    "duration": 148,
    "start_time": "2021-06-30T20:11:03.535Z"
   },
   {
    "duration": 37,
    "start_time": "2021-06-30T20:11:14.892Z"
   },
   {
    "duration": 516,
    "start_time": "2021-06-30T20:11:52.684Z"
   },
   {
    "duration": 399,
    "start_time": "2021-06-30T20:12:56.540Z"
   },
   {
    "duration": 5,
    "start_time": "2021-06-30T20:13:05.617Z"
   },
   {
    "duration": 389,
    "start_time": "2021-06-30T20:13:07.157Z"
   },
   {
    "duration": 6,
    "start_time": "2021-06-30T20:13:11.391Z"
   },
   {
    "duration": 4,
    "start_time": "2021-06-30T20:13:28.892Z"
   },
   {
    "duration": 6,
    "start_time": "2021-06-30T20:13:32.462Z"
   },
   {
    "duration": 31,
    "start_time": "2021-06-30T20:13:35.996Z"
   },
   {
    "duration": 5,
    "start_time": "2021-06-30T20:16:19.169Z"
   },
   {
    "duration": 30,
    "start_time": "2021-06-30T20:16:21.072Z"
   },
   {
    "duration": 435,
    "start_time": "2021-06-30T20:56:43.322Z"
   },
   {
    "duration": 21,
    "start_time": "2021-06-30T21:00:45.397Z"
   },
   {
    "duration": 44,
    "start_time": "2021-06-30T21:01:32.344Z"
   },
   {
    "duration": 15,
    "start_time": "2021-06-30T21:01:35.845Z"
   },
   {
    "duration": 4,
    "start_time": "2021-06-30T21:03:17.608Z"
   },
   {
    "duration": 29,
    "start_time": "2021-06-30T21:03:19.032Z"
   },
   {
    "duration": 22,
    "start_time": "2021-06-30T21:06:38.810Z"
   },
   {
    "duration": 12,
    "start_time": "2021-06-30T21:06:40.988Z"
   },
   {
    "duration": 1396,
    "start_time": "2021-06-30T21:08:45.506Z"
   },
   {
    "duration": 8,
    "start_time": "2021-06-30T21:09:41.940Z"
   },
   {
    "duration": 29,
    "start_time": "2021-06-30T21:10:46.990Z"
   },
   {
    "duration": 12,
    "start_time": "2021-06-30T21:10:48.558Z"
   },
   {
    "duration": 12,
    "start_time": "2021-06-30T21:10:57.746Z"
   },
   {
    "duration": 10,
    "start_time": "2021-06-30T21:11:13.513Z"
   },
   {
    "duration": 29,
    "start_time": "2021-06-30T21:11:26.528Z"
   },
   {
    "duration": 10,
    "start_time": "2021-06-30T21:11:27.987Z"
   },
   {
    "duration": 13,
    "start_time": "2021-06-30T21:11:31.552Z"
   },
   {
    "duration": 8,
    "start_time": "2021-06-30T21:11:40.546Z"
   },
   {
    "duration": 7,
    "start_time": "2021-06-30T21:12:03.664Z"
   },
   {
    "duration": 1001,
    "start_time": "2021-06-30T21:12:13.728Z"
   },
   {
    "duration": 4,
    "start_time": "2021-06-30T21:12:17.888Z"
   },
   {
    "duration": 390,
    "start_time": "2021-06-30T21:12:26.128Z"
   },
   {
    "duration": 31,
    "start_time": "2021-06-30T21:12:39.872Z"
   },
   {
    "duration": 16,
    "start_time": "2021-06-30T21:15:10.568Z"
   },
   {
    "duration": 11,
    "start_time": "2021-06-30T21:32:47.523Z"
   },
   {
    "duration": 20,
    "start_time": "2021-06-30T21:41:08.969Z"
   },
   {
    "duration": 10,
    "start_time": "2021-06-30T21:41:16.127Z"
   },
   {
    "duration": 9,
    "start_time": "2021-06-30T21:41:35.129Z"
   },
   {
    "duration": 11,
    "start_time": "2021-06-30T21:41:54.472Z"
   },
   {
    "duration": 75,
    "start_time": "2021-06-30T21:54:48.869Z"
   },
   {
    "duration": 4,
    "start_time": "2021-06-30T21:55:08.438Z"
   },
   {
    "duration": 1994,
    "start_time": "2021-06-30T21:59:35.052Z"
   },
   {
    "duration": 4,
    "start_time": "2021-06-30T21:59:37.050Z"
   },
   {
    "duration": 35,
    "start_time": "2021-06-30T21:59:37.057Z"
   },
   {
    "duration": 65,
    "start_time": "2021-06-30T21:59:37.095Z"
   },
   {
    "duration": 60,
    "start_time": "2021-06-30T21:59:37.163Z"
   },
   {
    "duration": 188,
    "start_time": "2021-06-30T21:59:37.225Z"
   },
   {
    "duration": 5,
    "start_time": "2021-06-30T21:59:37.415Z"
   },
   {
    "duration": 129,
    "start_time": "2021-06-30T21:59:37.423Z"
   },
   {
    "duration": 15,
    "start_time": "2021-06-30T21:59:37.556Z"
   },
   {
    "duration": 43,
    "start_time": "2021-06-30T21:59:37.575Z"
   },
   {
    "duration": 4,
    "start_time": "2021-06-30T21:59:37.620Z"
   },
   {
    "duration": 89,
    "start_time": "2021-06-30T21:59:37.626Z"
   },
   {
    "duration": 6,
    "start_time": "2021-06-30T21:59:37.717Z"
   },
   {
    "duration": 13,
    "start_time": "2021-06-30T21:59:37.726Z"
   },
   {
    "duration": 9,
    "start_time": "2021-06-30T21:59:37.742Z"
   },
   {
    "duration": 64,
    "start_time": "2021-06-30T21:59:37.754Z"
   },
   {
    "duration": 89,
    "start_time": "2021-06-30T21:59:37.820Z"
   },
   {
    "duration": 41,
    "start_time": "2021-06-30T21:59:37.911Z"
   },
   {
    "duration": 17,
    "start_time": "2021-06-30T21:59:48.389Z"
   },
   {
    "duration": 10,
    "start_time": "2021-06-30T22:02:33.558Z"
   },
   {
    "duration": 40,
    "start_time": "2021-06-30T22:07:58.286Z"
   },
   {
    "duration": 24,
    "start_time": "2021-06-30T22:07:59.823Z"
   },
   {
    "duration": 9,
    "start_time": "2021-06-30T22:08:01.323Z"
   },
   {
    "duration": 11,
    "start_time": "2021-06-30T22:08:09.086Z"
   },
   {
    "duration": 13,
    "start_time": "2021-06-30T22:08:26.464Z"
   },
   {
    "duration": 28,
    "start_time": "2021-06-30T22:09:19.645Z"
   },
   {
    "duration": 491,
    "start_time": "2021-06-30T22:09:25.501Z"
   },
   {
    "duration": 32,
    "start_time": "2021-06-30T22:09:32.784Z"
   },
   {
    "duration": 22,
    "start_time": "2021-06-30T22:48:54.207Z"
   },
   {
    "duration": 12,
    "start_time": "2021-06-30T22:48:56.737Z"
   },
   {
    "duration": 10,
    "start_time": "2021-06-30T22:49:03.682Z"
   },
   {
    "duration": 379,
    "start_time": "2021-06-30T22:49:51.571Z"
   },
   {
    "duration": 15,
    "start_time": "2021-06-30T22:50:05.875Z"
   },
   {
    "duration": 9,
    "start_time": "2021-06-30T22:50:08.193Z"
   },
   {
    "duration": 11,
    "start_time": "2021-06-30T22:50:13.123Z"
   },
   {
    "duration": 16,
    "start_time": "2021-06-30T22:50:32.801Z"
   },
   {
    "duration": 11,
    "start_time": "2021-06-30T22:50:33.914Z"
   },
   {
    "duration": 11,
    "start_time": "2021-06-30T22:52:10.755Z"
   },
   {
    "duration": 11,
    "start_time": "2021-06-30T22:52:29.301Z"
   },
   {
    "duration": 12,
    "start_time": "2021-06-30T22:52:40.435Z"
   },
   {
    "duration": 10985,
    "start_time": "2021-06-30T22:53:11.477Z"
   },
   {
    "duration": 27,
    "start_time": "2021-06-30T22:54:16.440Z"
   },
   {
    "duration": 11,
    "start_time": "2021-06-30T22:54:26.805Z"
   },
   {
    "duration": 9,
    "start_time": "2021-06-30T22:54:55.519Z"
   },
   {
    "duration": 13,
    "start_time": "2021-06-30T22:55:11.445Z"
   },
   {
    "duration": 35,
    "start_time": "2021-06-30T22:55:28.871Z"
   },
   {
    "duration": 11,
    "start_time": "2021-06-30T22:55:38.055Z"
   },
   {
    "duration": 9,
    "start_time": "2021-06-30T22:56:53.737Z"
   },
   {
    "duration": 25,
    "start_time": "2021-06-30T22:57:03.851Z"
   },
   {
    "duration": 14,
    "start_time": "2021-06-30T22:57:10.939Z"
   },
   {
    "duration": 10,
    "start_time": "2021-06-30T22:57:42.265Z"
   },
   {
    "duration": 26,
    "start_time": "2021-06-30T22:59:00.045Z"
   },
   {
    "duration": 11,
    "start_time": "2021-06-30T22:59:01.627Z"
   },
   {
    "duration": 14,
    "start_time": "2021-06-30T22:59:07.835Z"
   },
   {
    "duration": 12,
    "start_time": "2021-06-30T22:59:31.273Z"
   },
   {
    "duration": 35,
    "start_time": "2021-06-30T22:59:37.193Z"
   },
   {
    "duration": 12,
    "start_time": "2021-06-30T22:59:38.273Z"
   },
   {
    "duration": 37,
    "start_time": "2021-06-30T22:59:53.259Z"
   },
   {
    "duration": 22,
    "start_time": "2021-06-30T23:00:03.499Z"
   },
   {
    "duration": 15,
    "start_time": "2021-06-30T23:00:05.499Z"
   },
   {
    "duration": 10,
    "start_time": "2021-06-30T23:00:34.859Z"
   },
   {
    "duration": 13,
    "start_time": "2021-06-30T23:00:42.082Z"
   },
   {
    "duration": 2354,
    "start_time": "2021-06-30T23:03:44.801Z"
   },
   {
    "duration": 4,
    "start_time": "2021-06-30T23:03:47.158Z"
   },
   {
    "duration": 30,
    "start_time": "2021-06-30T23:03:47.165Z"
   },
   {
    "duration": 59,
    "start_time": "2021-06-30T23:03:47.198Z"
   },
   {
    "duration": 68,
    "start_time": "2021-06-30T23:03:47.260Z"
   },
   {
    "duration": 254,
    "start_time": "2021-06-30T23:03:47.331Z"
   },
   {
    "duration": 7,
    "start_time": "2021-06-30T23:03:47.588Z"
   },
   {
    "duration": 127,
    "start_time": "2021-06-30T23:03:47.609Z"
   },
   {
    "duration": 16,
    "start_time": "2021-06-30T23:03:47.739Z"
   },
   {
    "duration": 20,
    "start_time": "2021-06-30T23:03:47.758Z"
   },
   {
    "duration": 29,
    "start_time": "2021-06-30T23:03:47.781Z"
   },
   {
    "duration": 75,
    "start_time": "2021-06-30T23:03:47.813Z"
   },
   {
    "duration": 23,
    "start_time": "2021-06-30T23:03:47.891Z"
   },
   {
    "duration": 4,
    "start_time": "2021-06-30T23:03:47.917Z"
   },
   {
    "duration": 11,
    "start_time": "2021-06-30T23:03:47.924Z"
   },
   {
    "duration": 86,
    "start_time": "2021-06-30T23:03:47.938Z"
   },
   {
    "duration": 15,
    "start_time": "2021-06-30T23:03:48.027Z"
   },
   {
    "duration": 79,
    "start_time": "2021-06-30T23:03:48.045Z"
   },
   {
    "duration": 24,
    "start_time": "2021-06-30T23:03:48.127Z"
   },
   {
    "duration": 16,
    "start_time": "2021-06-30T23:03:48.153Z"
   },
   {
    "duration": 10,
    "start_time": "2021-06-30T23:04:02.477Z"
   },
   {
    "duration": 6,
    "start_time": "2021-06-30T23:04:53.183Z"
   },
   {
    "duration": 687,
    "start_time": "2021-06-30T23:04:56.575Z"
   },
   {
    "duration": 8,
    "start_time": "2021-06-30T23:05:01.167Z"
   },
   {
    "duration": 13,
    "start_time": "2021-06-30T23:05:09.503Z"
   },
   {
    "duration": 13,
    "start_time": "2021-06-30T23:05:25.353Z"
   },
   {
    "duration": 4,
    "start_time": "2021-06-30T23:07:17.589Z"
   },
   {
    "duration": 13,
    "start_time": "2021-06-30T23:07:19.190Z"
   },
   {
    "duration": 4,
    "start_time": "2021-06-30T23:07:31.233Z"
   },
   {
    "duration": 13,
    "start_time": "2021-06-30T23:08:01.569Z"
   },
   {
    "duration": 12,
    "start_time": "2021-06-30T23:09:06.377Z"
   },
   {
    "duration": 14,
    "start_time": "2021-06-30T23:09:09.091Z"
   },
   {
    "duration": 132,
    "start_time": "2021-06-30T23:11:22.820Z"
   },
   {
    "duration": 5,
    "start_time": "2021-06-30T23:12:11.733Z"
   },
   {
    "duration": 13,
    "start_time": "2021-06-30T23:12:15.950Z"
   },
   {
    "duration": 5,
    "start_time": "2021-06-30T23:12:28.245Z"
   },
   {
    "duration": 12,
    "start_time": "2021-06-30T23:12:31.669Z"
   },
   {
    "duration": 40,
    "start_time": "2021-06-30T23:12:47.272Z"
   },
   {
    "duration": 22,
    "start_time": "2021-06-30T23:12:49.531Z"
   },
   {
    "duration": 20,
    "start_time": "2021-06-30T23:12:50.741Z"
   },
   {
    "duration": 12,
    "start_time": "2021-06-30T23:12:56.182Z"
   },
   {
    "duration": 8,
    "start_time": "2021-06-30T23:15:09.416Z"
   },
   {
    "duration": 12,
    "start_time": "2021-06-30T23:15:31.591Z"
   },
   {
    "duration": 10,
    "start_time": "2021-06-30T23:15:46.649Z"
   },
   {
    "duration": 14,
    "start_time": "2021-06-30T23:16:10.935Z"
   },
   {
    "duration": 12,
    "start_time": "2021-06-30T23:16:20.345Z"
   },
   {
    "duration": 15,
    "start_time": "2021-06-30T23:16:26.794Z"
   },
   {
    "duration": 13,
    "start_time": "2021-06-30T23:16:45.609Z"
   },
   {
    "duration": 18,
    "start_time": "2021-06-30T23:16:59.689Z"
   },
   {
    "duration": 11,
    "start_time": "2021-06-30T23:17:09.193Z"
   },
   {
    "duration": 18,
    "start_time": "2021-06-30T23:17:16.719Z"
   },
   {
    "duration": 9,
    "start_time": "2021-06-30T23:17:24.921Z"
   },
   {
    "duration": 18,
    "start_time": "2021-06-30T23:17:29.753Z"
   },
   {
    "duration": 9,
    "start_time": "2021-06-30T23:17:33.387Z"
   },
   {
    "duration": 9,
    "start_time": "2021-06-30T23:17:44.331Z"
   },
   {
    "duration": 17,
    "start_time": "2021-06-30T23:17:55.785Z"
   },
   {
    "duration": 8,
    "start_time": "2021-06-30T23:17:58.713Z"
   },
   {
    "duration": 21,
    "start_time": "2021-06-30T23:18:07.450Z"
   },
   {
    "duration": 8,
    "start_time": "2021-06-30T23:18:09.275Z"
   },
   {
    "duration": 4,
    "start_time": "2021-06-30T23:18:54.748Z"
   },
   {
    "duration": 11,
    "start_time": "2021-06-30T23:18:59.675Z"
   },
   {
    "duration": 5,
    "start_time": "2021-06-30T23:19:09.019Z"
   },
   {
    "duration": 386,
    "start_time": "2021-06-30T23:19:14.377Z"
   },
   {
    "duration": 14,
    "start_time": "2021-06-30T23:19:20.699Z"
   },
   {
    "duration": 5,
    "start_time": "2021-06-30T23:20:23.460Z"
   },
   {
    "duration": 13,
    "start_time": "2021-06-30T23:20:31.443Z"
   },
   {
    "duration": 12,
    "start_time": "2021-06-30T23:21:48.551Z"
   },
   {
    "duration": 4,
    "start_time": "2021-06-30T23:21:54.443Z"
   },
   {
    "duration": 13,
    "start_time": "2021-06-30T23:21:56.334Z"
   },
   {
    "duration": 2120,
    "start_time": "2021-06-30T23:22:45.830Z"
   },
   {
    "duration": 4,
    "start_time": "2021-06-30T23:22:47.953Z"
   },
   {
    "duration": 38,
    "start_time": "2021-06-30T23:22:47.959Z"
   },
   {
    "duration": 60,
    "start_time": "2021-06-30T23:22:48.000Z"
   },
   {
    "duration": 57,
    "start_time": "2021-06-30T23:22:48.063Z"
   },
   {
    "duration": 178,
    "start_time": "2021-06-30T23:22:48.123Z"
   },
   {
    "duration": 5,
    "start_time": "2021-06-30T23:22:48.310Z"
   },
   {
    "duration": 123,
    "start_time": "2021-06-30T23:22:48.318Z"
   },
   {
    "duration": 15,
    "start_time": "2021-06-30T23:22:48.444Z"
   },
   {
    "duration": 17,
    "start_time": "2021-06-30T23:22:48.461Z"
   },
   {
    "duration": 30,
    "start_time": "2021-06-30T23:22:48.480Z"
   },
   {
    "duration": 69,
    "start_time": "2021-06-30T23:22:48.513Z"
   },
   {
    "duration": 6,
    "start_time": "2021-06-30T23:22:48.584Z"
   },
   {
    "duration": 10,
    "start_time": "2021-06-30T23:22:48.610Z"
   },
   {
    "duration": 10,
    "start_time": "2021-06-30T23:22:48.622Z"
   },
   {
    "duration": 56,
    "start_time": "2021-06-30T23:22:48.634Z"
   },
   {
    "duration": 62,
    "start_time": "2021-06-30T23:22:48.693Z"
   },
   {
    "duration": 21,
    "start_time": "2021-06-30T23:22:48.758Z"
   },
   {
    "duration": 28,
    "start_time": "2021-06-30T23:22:48.781Z"
   },
   {
    "duration": 11,
    "start_time": "2021-06-30T23:22:48.811Z"
   },
   {
    "duration": 6,
    "start_time": "2021-06-30T23:22:48.825Z"
   },
   {
    "duration": 8,
    "start_time": "2021-06-30T23:22:48.833Z"
   },
   {
    "duration": 15,
    "start_time": "2021-06-30T23:22:48.845Z"
   },
   {
    "duration": 10,
    "start_time": "2021-06-30T23:23:06.541Z"
   },
   {
    "duration": 13,
    "start_time": "2021-06-30T23:23:35.166Z"
   },
   {
    "duration": 34,
    "start_time": "2021-06-30T23:24:22.704Z"
   },
   {
    "duration": 15,
    "start_time": "2021-06-30T23:24:59.072Z"
   },
   {
    "duration": 7,
    "start_time": "2021-06-30T23:25:52.482Z"
   },
   {
    "duration": 11,
    "start_time": "2021-06-30T23:25:57.521Z"
   },
   {
    "duration": 35,
    "start_time": "2021-06-30T23:26:03.840Z"
   },
   {
    "duration": 12,
    "start_time": "2021-06-30T23:26:10.481Z"
   },
   {
    "duration": 16,
    "start_time": "2021-07-01T11:31:05.038Z"
   },
   {
    "duration": 10,
    "start_time": "2021-07-01T11:31:20.622Z"
   },
   {
    "duration": 16,
    "start_time": "2021-07-01T11:32:54.937Z"
   },
   {
    "duration": 21,
    "start_time": "2021-07-01T14:49:52.247Z"
   },
   {
    "duration": 6,
    "start_time": "2021-07-01T14:50:49.368Z"
   },
   {
    "duration": 15,
    "start_time": "2021-07-01T23:33:47.483Z"
   },
   {
    "duration": 452,
    "start_time": "2021-07-01T23:34:52.279Z"
   },
   {
    "duration": 7,
    "start_time": "2021-07-01T23:34:57.542Z"
   },
   {
    "duration": 6,
    "start_time": "2021-07-01T23:35:10.613Z"
   },
   {
    "duration": 7,
    "start_time": "2021-07-01T23:35:21.589Z"
   },
   {
    "duration": 5,
    "start_time": "2021-07-01T23:35:30.277Z"
   },
   {
    "duration": 7,
    "start_time": "2021-07-01T23:35:34.437Z"
   },
   {
    "duration": 115,
    "start_time": "2021-07-01T23:35:42.151Z"
   },
   {
    "duration": 351,
    "start_time": "2021-07-01T23:35:48.117Z"
   },
   {
    "duration": 10,
    "start_time": "2021-07-01T23:35:53.015Z"
   },
   {
    "duration": 17,
    "start_time": "2021-07-01T23:36:15.483Z"
   },
   {
    "duration": 11,
    "start_time": "2021-07-01T23:37:38.158Z"
   },
   {
    "duration": 11,
    "start_time": "2021-07-01T23:37:46.215Z"
   },
   {
    "duration": 16,
    "start_time": "2021-07-01T23:41:39.724Z"
   },
   {
    "duration": 10,
    "start_time": "2021-07-01T23:43:51.262Z"
   },
   {
    "duration": 608,
    "start_time": "2021-07-01T23:44:29.182Z"
   },
   {
    "duration": 21,
    "start_time": "2021-07-01T23:44:42.494Z"
   },
   {
    "duration": 10,
    "start_time": "2021-07-01T23:45:20.048Z"
   },
   {
    "duration": 674,
    "start_time": "2021-07-01T23:45:44.976Z"
   },
   {
    "duration": 11,
    "start_time": "2021-07-01T23:46:48.863Z"
   },
   {
    "duration": 12,
    "start_time": "2021-07-01T23:47:29.232Z"
   },
   {
    "duration": 16,
    "start_time": "2021-07-01T23:47:33.440Z"
   },
   {
    "duration": 15,
    "start_time": "2021-07-01T23:47:42.078Z"
   },
   {
    "duration": 17,
    "start_time": "2021-07-01T23:47:55.026Z"
   },
   {
    "duration": 16,
    "start_time": "2021-07-01T23:48:05.122Z"
   },
   {
    "duration": 14,
    "start_time": "2021-07-01T23:48:11.442Z"
   },
   {
    "duration": 17,
    "start_time": "2021-07-01T23:48:17.072Z"
   },
   {
    "duration": 8624,
    "start_time": "2021-07-01T23:49:18.354Z"
   },
   {
    "duration": 6,
    "start_time": "2021-07-01T23:49:36.232Z"
   },
   {
    "duration": 12,
    "start_time": "2021-07-01T23:49:40.706Z"
   },
   {
    "duration": 10,
    "start_time": "2021-07-01T23:49:49.250Z"
   },
   {
    "duration": 13,
    "start_time": "2021-07-01T23:49:50.594Z"
   },
   {
    "duration": 14,
    "start_time": "2021-07-01T23:49:54.882Z"
   },
   {
    "duration": 17,
    "start_time": "2021-07-01T23:50:16.754Z"
   },
   {
    "duration": 16,
    "start_time": "2021-07-01T23:50:21.700Z"
   },
   {
    "duration": 17,
    "start_time": "2021-07-01T23:50:28.210Z"
   },
   {
    "duration": 17,
    "start_time": "2021-07-01T23:50:50.100Z"
   },
   {
    "duration": 10,
    "start_time": "2021-07-01T23:51:04.068Z"
   },
   {
    "duration": 9,
    "start_time": "2021-07-01T23:51:20.194Z"
   },
   {
    "duration": 10,
    "start_time": "2021-07-01T23:51:23.620Z"
   },
   {
    "duration": 9,
    "start_time": "2021-07-01T23:51:31.715Z"
   },
   {
    "duration": 17,
    "start_time": "2021-07-01T23:53:37.700Z"
   },
   {
    "duration": 17,
    "start_time": "2021-07-01T23:54:24.758Z"
   },
   {
    "duration": 16,
    "start_time": "2021-07-01T23:54:50.262Z"
   },
   {
    "duration": 15,
    "start_time": "2021-07-01T23:55:06.598Z"
   },
   {
    "duration": 13,
    "start_time": "2021-07-01T23:55:28.232Z"
   },
   {
    "duration": 15,
    "start_time": "2021-07-01T23:55:33.926Z"
   },
   {
    "duration": 13,
    "start_time": "2021-07-01T23:55:47.782Z"
   },
   {
    "duration": 14,
    "start_time": "2021-07-01T23:55:55.062Z"
   },
   {
    "duration": 14,
    "start_time": "2021-07-01T23:59:03.680Z"
   },
   {
    "duration": 2139,
    "start_time": "2021-07-02T00:01:01.086Z"
   },
   {
    "duration": 3,
    "start_time": "2021-07-02T00:01:03.228Z"
   },
   {
    "duration": 37,
    "start_time": "2021-07-02T00:01:03.234Z"
   },
   {
    "duration": 57,
    "start_time": "2021-07-02T00:01:03.273Z"
   },
   {
    "duration": 45,
    "start_time": "2021-07-02T00:01:03.333Z"
   },
   {
    "duration": 204,
    "start_time": "2021-07-02T00:01:03.381Z"
   },
   {
    "duration": 5,
    "start_time": "2021-07-02T00:01:03.587Z"
   },
   {
    "duration": 119,
    "start_time": "2021-07-02T00:01:03.610Z"
   },
   {
    "duration": 16,
    "start_time": "2021-07-02T00:01:03.732Z"
   },
   {
    "duration": 16,
    "start_time": "2021-07-02T00:01:03.751Z"
   },
   {
    "duration": 9,
    "start_time": "2021-07-02T00:01:03.770Z"
   },
   {
    "duration": 67,
    "start_time": "2021-07-02T00:01:03.809Z"
   },
   {
    "duration": 6,
    "start_time": "2021-07-02T00:01:03.879Z"
   },
   {
    "duration": 22,
    "start_time": "2021-07-02T00:01:03.888Z"
   },
   {
    "duration": 22,
    "start_time": "2021-07-02T00:01:03.912Z"
   },
   {
    "duration": 60,
    "start_time": "2021-07-02T00:01:03.937Z"
   },
   {
    "duration": 52,
    "start_time": "2021-07-02T00:01:03.999Z"
   },
   {
    "duration": 20,
    "start_time": "2021-07-02T00:01:04.054Z"
   },
   {
    "duration": 5,
    "start_time": "2021-07-02T00:01:04.077Z"
   },
   {
    "duration": 32,
    "start_time": "2021-07-02T00:01:04.085Z"
   },
   {
    "duration": 23,
    "start_time": "2021-07-02T00:01:04.120Z"
   },
   {
    "duration": 23,
    "start_time": "2021-07-02T00:01:04.146Z"
   },
   {
    "duration": 7,
    "start_time": "2021-07-02T00:01:04.208Z"
   },
   {
    "duration": 13,
    "start_time": "2021-07-02T00:01:04.218Z"
   },
   {
    "duration": 21,
    "start_time": "2021-07-02T00:01:04.234Z"
   },
   {
    "duration": 1821,
    "start_time": "2021-07-02T00:01:04.257Z"
   },
   {
    "duration": 1102,
    "start_time": "2021-07-02T00:01:04.978Z"
   },
   {
    "duration": 1005,
    "start_time": "2021-07-02T00:01:05.077Z"
   },
   {
    "duration": 12,
    "start_time": "2021-07-02T00:01:30.028Z"
   },
   {
    "duration": 12,
    "start_time": "2021-07-02T00:01:48.336Z"
   },
   {
    "duration": 19,
    "start_time": "2021-07-02T00:02:20.940Z"
   },
   {
    "duration": 5,
    "start_time": "2021-07-02T00:02:24.380Z"
   },
   {
    "duration": 12,
    "start_time": "2021-07-02T00:02:28.732Z"
   },
   {
    "duration": 15,
    "start_time": "2021-07-02T00:02:31.212Z"
   },
   {
    "duration": 367,
    "start_time": "2021-07-02T00:02:38.156Z"
   },
   {
    "duration": 24,
    "start_time": "2021-07-02T00:02:42.092Z"
   },
   {
    "duration": 6,
    "start_time": "2021-07-02T00:03:57.421Z"
   },
   {
    "duration": 5,
    "start_time": "2021-07-02T00:04:02.846Z"
   },
   {
    "duration": 5,
    "start_time": "2021-07-02T00:04:03.982Z"
   },
   {
    "duration": 15,
    "start_time": "2021-07-02T00:04:05.891Z"
   },
   {
    "duration": 4,
    "start_time": "2021-07-02T00:04:11.566Z"
   },
   {
    "duration": 8,
    "start_time": "2021-07-02T00:04:15.902Z"
   },
   {
    "duration": 13,
    "start_time": "2021-07-02T00:04:18.366Z"
   },
   {
    "duration": 1960,
    "start_time": "2021-07-02T00:04:33.357Z"
   },
   {
    "duration": 4,
    "start_time": "2021-07-02T00:04:35.319Z"
   },
   {
    "duration": 29,
    "start_time": "2021-07-02T00:04:35.325Z"
   },
   {
    "duration": 72,
    "start_time": "2021-07-02T00:04:35.356Z"
   },
   {
    "duration": 44,
    "start_time": "2021-07-02T00:04:35.430Z"
   },
   {
    "duration": 204,
    "start_time": "2021-07-02T00:04:35.477Z"
   },
   {
    "duration": 5,
    "start_time": "2021-07-02T00:04:35.683Z"
   },
   {
    "duration": 128,
    "start_time": "2021-07-02T00:04:35.690Z"
   },
   {
    "duration": 14,
    "start_time": "2021-07-02T00:04:35.821Z"
   },
   {
    "duration": 18,
    "start_time": "2021-07-02T00:04:35.838Z"
   },
   {
    "duration": 3,
    "start_time": "2021-07-02T00:04:35.859Z"
   },
   {
    "duration": 108,
    "start_time": "2021-07-02T00:04:35.865Z"
   },
   {
    "duration": 6,
    "start_time": "2021-07-02T00:04:35.976Z"
   },
   {
    "duration": 13,
    "start_time": "2021-07-02T00:04:35.985Z"
   },
   {
    "duration": 16,
    "start_time": "2021-07-02T00:04:36.008Z"
   },
   {
    "duration": 58,
    "start_time": "2021-07-02T00:04:36.027Z"
   },
   {
    "duration": 61,
    "start_time": "2021-07-02T00:04:36.088Z"
   },
   {
    "duration": 20,
    "start_time": "2021-07-02T00:04:36.151Z"
   },
   {
    "duration": 9,
    "start_time": "2021-07-02T00:04:36.174Z"
   },
   {
    "duration": 28,
    "start_time": "2021-07-02T00:04:36.186Z"
   },
   {
    "duration": 27,
    "start_time": "2021-07-02T00:04:36.217Z"
   },
   {
    "duration": 24,
    "start_time": "2021-07-02T00:04:36.246Z"
   },
   {
    "duration": 5,
    "start_time": "2021-07-02T00:04:36.273Z"
   },
   {
    "duration": 29,
    "start_time": "2021-07-02T00:04:36.280Z"
   },
   {
    "duration": 4,
    "start_time": "2021-07-02T00:04:36.312Z"
   },
   {
    "duration": 26,
    "start_time": "2021-07-02T00:04:36.319Z"
   },
   {
    "duration": 7,
    "start_time": "2021-07-02T00:04:36.349Z"
   },
   {
    "duration": 13,
    "start_time": "2021-07-02T00:04:36.358Z"
   },
   {
    "duration": 34,
    "start_time": "2021-07-02T00:04:36.374Z"
   },
   {
    "duration": 7,
    "start_time": "2021-07-02T00:46:31.528Z"
   },
   {
    "duration": 12,
    "start_time": "2021-07-02T00:46:32.450Z"
   },
   {
    "duration": 474,
    "start_time": "2021-07-02T00:49:22.634Z"
   },
   {
    "duration": 12,
    "start_time": "2021-07-02T00:49:26.290Z"
   },
   {
    "duration": 12,
    "start_time": "2021-07-02T01:03:47.722Z"
   },
   {
    "duration": 734,
    "start_time": "2021-07-02T01:04:50.289Z"
   },
   {
    "duration": 11,
    "start_time": "2021-07-02T01:06:35.404Z"
   },
   {
    "duration": 726,
    "start_time": "2021-07-02T01:06:39.714Z"
   },
   {
    "duration": 10,
    "start_time": "2021-07-02T01:07:09.828Z"
   },
   {
    "duration": 136,
    "start_time": "2021-07-02T01:07:12.690Z"
   },
   {
    "duration": 2084,
    "start_time": "2021-07-02T01:09:06.732Z"
   },
   {
    "duration": 4,
    "start_time": "2021-07-02T01:09:08.819Z"
   },
   {
    "duration": 30,
    "start_time": "2021-07-02T01:09:08.826Z"
   },
   {
    "duration": 78,
    "start_time": "2021-07-02T01:09:08.859Z"
   },
   {
    "duration": 45,
    "start_time": "2021-07-02T01:09:08.939Z"
   },
   {
    "duration": 210,
    "start_time": "2021-07-02T01:09:08.986Z"
   },
   {
    "duration": 5,
    "start_time": "2021-07-02T01:09:09.198Z"
   },
   {
    "duration": 120,
    "start_time": "2021-07-02T01:09:09.210Z"
   },
   {
    "duration": 15,
    "start_time": "2021-07-02T01:09:09.333Z"
   },
   {
    "duration": 17,
    "start_time": "2021-07-02T01:09:09.351Z"
   },
   {
    "duration": 39,
    "start_time": "2021-07-02T01:09:09.371Z"
   },
   {
    "duration": 83,
    "start_time": "2021-07-02T01:09:09.412Z"
   },
   {
    "duration": 6,
    "start_time": "2021-07-02T01:09:09.498Z"
   },
   {
    "duration": 5,
    "start_time": "2021-07-02T01:09:09.506Z"
   },
   {
    "duration": 12,
    "start_time": "2021-07-02T01:09:09.513Z"
   },
   {
    "duration": 59,
    "start_time": "2021-07-02T01:09:09.527Z"
   },
   {
    "duration": 64,
    "start_time": "2021-07-02T01:09:09.588Z"
   },
   {
    "duration": 21,
    "start_time": "2021-07-02T01:09:09.654Z"
   },
   {
    "duration": 5,
    "start_time": "2021-07-02T01:09:09.677Z"
   },
   {
    "duration": 33,
    "start_time": "2021-07-02T01:09:09.684Z"
   },
   {
    "duration": 16,
    "start_time": "2021-07-02T01:09:09.719Z"
   },
   {
    "duration": 22,
    "start_time": "2021-07-02T01:09:09.738Z"
   },
   {
    "duration": 5,
    "start_time": "2021-07-02T01:09:09.764Z"
   },
   {
    "duration": 39,
    "start_time": "2021-07-02T01:09:09.772Z"
   },
   {
    "duration": 12,
    "start_time": "2021-07-02T01:09:09.813Z"
   },
   {
    "duration": 8,
    "start_time": "2021-07-02T01:09:09.827Z"
   },
   {
    "duration": 12,
    "start_time": "2021-07-02T01:09:09.837Z"
   },
   {
    "duration": 11,
    "start_time": "2021-07-02T01:09:09.852Z"
   },
   {
    "duration": 154,
    "start_time": "2021-07-02T01:09:09.865Z"
   },
   {
    "duration": 518,
    "start_time": "2021-07-02T01:24:19.465Z"
   },
   {
    "duration": 9,
    "start_time": "2021-07-02T01:24:23.743Z"
   },
   {
    "duration": 8,
    "start_time": "2021-07-02T01:24:33.565Z"
   },
   {
    "duration": 1943,
    "start_time": "2021-07-02T01:24:50.153Z"
   },
   {
    "duration": 5,
    "start_time": "2021-07-02T01:24:52.099Z"
   },
   {
    "duration": 26,
    "start_time": "2021-07-02T01:24:52.108Z"
   },
   {
    "duration": 77,
    "start_time": "2021-07-02T01:24:52.138Z"
   },
   {
    "duration": 45,
    "start_time": "2021-07-02T01:24:52.218Z"
   },
   {
    "duration": 198,
    "start_time": "2021-07-02T01:24:52.265Z"
   },
   {
    "duration": 4,
    "start_time": "2021-07-02T01:24:52.466Z"
   },
   {
    "duration": 136,
    "start_time": "2021-07-02T01:24:52.475Z"
   },
   {
    "duration": 15,
    "start_time": "2021-07-02T01:24:52.614Z"
   },
   {
    "duration": 16,
    "start_time": "2021-07-02T01:24:52.631Z"
   },
   {
    "duration": 6,
    "start_time": "2021-07-02T01:24:52.649Z"
   },
   {
    "duration": 101,
    "start_time": "2021-07-02T01:24:52.658Z"
   },
   {
    "duration": 7,
    "start_time": "2021-07-02T01:24:52.761Z"
   },
   {
    "duration": 12,
    "start_time": "2021-07-02T01:24:52.770Z"
   },
   {
    "duration": 17,
    "start_time": "2021-07-02T01:24:52.785Z"
   },
   {
    "duration": 60,
    "start_time": "2021-07-02T01:24:52.804Z"
   },
   {
    "duration": 59,
    "start_time": "2021-07-02T01:24:52.866Z"
   },
   {
    "duration": 21,
    "start_time": "2021-07-02T01:24:52.927Z"
   },
   {
    "duration": 6,
    "start_time": "2021-07-02T01:24:52.950Z"
   },
   {
    "duration": 17,
    "start_time": "2021-07-02T01:24:52.958Z"
   },
   {
    "duration": 41,
    "start_time": "2021-07-02T01:24:52.977Z"
   },
   {
    "duration": 23,
    "start_time": "2021-07-02T01:24:53.020Z"
   },
   {
    "duration": 5,
    "start_time": "2021-07-02T01:24:53.047Z"
   },
   {
    "duration": 13,
    "start_time": "2021-07-02T01:24:53.054Z"
   },
   {
    "duration": 4,
    "start_time": "2021-07-02T01:24:53.070Z"
   },
   {
    "duration": 36,
    "start_time": "2021-07-02T01:24:53.076Z"
   },
   {
    "duration": 12,
    "start_time": "2021-07-02T01:24:53.115Z"
   },
   {
    "duration": 12,
    "start_time": "2021-07-02T01:24:53.130Z"
   },
   {
    "duration": 151,
    "start_time": "2021-07-02T01:24:53.144Z"
   },
   {
    "duration": 14,
    "start_time": "2021-07-02T09:07:03.151Z"
   },
   {
    "duration": 39,
    "start_time": "2021-07-02T09:07:24.687Z"
   },
   {
    "duration": 7,
    "start_time": "2021-07-02T09:27:51.272Z"
   },
   {
    "duration": 7,
    "start_time": "2021-07-02T09:28:25.980Z"
   },
   {
    "duration": 4,
    "start_time": "2021-07-02T09:28:45.100Z"
   },
   {
    "duration": 6,
    "start_time": "2021-07-02T09:28:47.772Z"
   },
   {
    "duration": 10,
    "start_time": "2021-07-02T09:28:51.644Z"
   },
   {
    "duration": 40,
    "start_time": "2021-07-02T09:36:06.359Z"
   },
   {
    "duration": 13,
    "start_time": "2021-07-02T09:39:29.183Z"
   },
   {
    "duration": 17,
    "start_time": "2021-07-02T10:06:10.626Z"
   },
   {
    "duration": 14,
    "start_time": "2021-07-02T10:08:32.024Z"
   },
   {
    "duration": 14,
    "start_time": "2021-07-02T10:08:35.069Z"
   },
   {
    "duration": 17,
    "start_time": "2021-07-02T10:09:04.706Z"
   },
   {
    "duration": 20,
    "start_time": "2021-07-02T10:09:55.006Z"
   },
   {
    "duration": 11,
    "start_time": "2021-07-02T10:10:45.230Z"
   },
   {
    "duration": 11,
    "start_time": "2021-07-02T10:10:46.813Z"
   },
   {
    "duration": 553,
    "start_time": "2021-07-02T10:11:57.296Z"
   },
   {
    "duration": 10,
    "start_time": "2021-07-02T10:12:09.794Z"
   },
   {
    "duration": 9,
    "start_time": "2021-07-02T10:12:15.392Z"
   },
   {
    "duration": 10,
    "start_time": "2021-07-02T10:12:30.687Z"
   },
   {
    "duration": 15,
    "start_time": "2021-07-02T10:12:42.897Z"
   },
   {
    "duration": 14,
    "start_time": "2021-07-02T10:12:44.048Z"
   },
   {
    "duration": 13,
    "start_time": "2021-07-02T10:13:22.560Z"
   },
   {
    "duration": 11,
    "start_time": "2021-07-02T10:14:21.938Z"
   },
   {
    "duration": 12,
    "start_time": "2021-07-02T10:14:29.729Z"
   },
   {
    "duration": 12,
    "start_time": "2021-07-02T10:14:33.170Z"
   },
   {
    "duration": 11,
    "start_time": "2021-07-02T10:15:04.450Z"
   },
   {
    "duration": 9,
    "start_time": "2021-07-02T10:18:17.793Z"
   },
   {
    "duration": 15,
    "start_time": "2021-07-02T10:18:22.204Z"
   },
   {
    "duration": 12,
    "start_time": "2021-07-02T10:18:25.254Z"
   },
   {
    "duration": 13,
    "start_time": "2021-07-02T10:18:29.157Z"
   },
   {
    "duration": 15,
    "start_time": "2021-07-02T10:18:34.808Z"
   },
   {
    "duration": 5,
    "start_time": "2021-07-02T10:19:08.006Z"
   },
   {
    "duration": 15,
    "start_time": "2021-07-02T10:19:11.126Z"
   },
   {
    "duration": 5,
    "start_time": "2021-07-02T10:20:27.560Z"
   },
   {
    "duration": 15,
    "start_time": "2021-07-02T10:20:29.720Z"
   },
   {
    "duration": 13,
    "start_time": "2021-07-02T10:22:19.672Z"
   },
   {
    "duration": 14,
    "start_time": "2021-07-02T10:22:21.690Z"
   },
   {
    "duration": 7,
    "start_time": "2021-07-02T10:22:51.706Z"
   },
   {
    "duration": 14,
    "start_time": "2021-07-02T10:22:53.529Z"
   },
   {
    "duration": 4,
    "start_time": "2021-07-02T10:22:59.514Z"
   },
   {
    "duration": 14,
    "start_time": "2021-07-02T10:23:01.626Z"
   },
   {
    "duration": 14,
    "start_time": "2021-07-02T10:23:42.554Z"
   },
   {
    "duration": 17,
    "start_time": "2021-07-02T10:33:14.035Z"
   },
   {
    "duration": 428,
    "start_time": "2021-07-02T10:35:17.812Z"
   },
   {
    "duration": 10,
    "start_time": "2021-07-02T10:35:38.244Z"
   },
   {
    "duration": 10,
    "start_time": "2021-07-02T10:35:43.698Z"
   },
   {
    "duration": 17,
    "start_time": "2021-07-02T10:36:08.036Z"
   },
   {
    "duration": 10,
    "start_time": "2021-07-02T10:37:10.492Z"
   },
   {
    "duration": 13,
    "start_time": "2021-07-02T10:38:12.182Z"
   },
   {
    "duration": 13,
    "start_time": "2021-07-02T10:38:13.365Z"
   },
   {
    "duration": 13,
    "start_time": "2021-07-02T10:38:24.758Z"
   },
   {
    "duration": 10,
    "start_time": "2021-07-02T10:40:07.815Z"
   },
   {
    "duration": 7,
    "start_time": "2021-07-02T10:40:10.662Z"
   },
   {
    "duration": 12,
    "start_time": "2021-07-02T10:40:16.760Z"
   },
   {
    "duration": 10,
    "start_time": "2021-07-02T10:42:28.047Z"
   },
   {
    "duration": 7,
    "start_time": "2021-07-02T10:43:16.410Z"
   },
   {
    "duration": 11,
    "start_time": "2021-07-02T10:43:17.627Z"
   },
   {
    "duration": 9,
    "start_time": "2021-07-02T10:47:30.538Z"
   },
   {
    "duration": 12,
    "start_time": "2021-07-02T10:47:39.423Z"
   },
   {
    "duration": 6,
    "start_time": "2021-07-02T10:49:22.165Z"
   },
   {
    "duration": 319,
    "start_time": "2021-07-02T10:49:38.639Z"
   },
   {
    "duration": 11,
    "start_time": "2021-07-02T10:49:43.551Z"
   },
   {
    "duration": 15,
    "start_time": "2021-07-02T10:49:50.273Z"
   },
   {
    "duration": 17,
    "start_time": "2021-07-02T10:50:12.081Z"
   },
   {
    "duration": 12,
    "start_time": "2021-07-02T10:51:22.897Z"
   },
   {
    "duration": 13,
    "start_time": "2021-07-02T10:51:41.331Z"
   },
   {
    "duration": 12,
    "start_time": "2021-07-02T10:56:05.633Z"
   },
   {
    "duration": 495,
    "start_time": "2021-07-02T11:09:48.717Z"
   },
   {
    "duration": 385,
    "start_time": "2021-07-02T11:09:58.177Z"
   },
   {
    "duration": 7,
    "start_time": "2021-07-02T11:10:03.329Z"
   },
   {
    "duration": 8,
    "start_time": "2021-07-02T11:10:05.937Z"
   },
   {
    "duration": 376,
    "start_time": "2021-07-02T11:10:29.409Z"
   },
   {
    "duration": 346,
    "start_time": "2021-07-02T11:11:21.329Z"
   },
   {
    "duration": 368,
    "start_time": "2021-07-02T11:15:07.617Z"
   },
   {
    "duration": 4,
    "start_time": "2021-07-02T11:15:09.365Z"
   },
   {
    "duration": 740,
    "start_time": "2021-07-02T11:15:10.469Z"
   },
   {
    "duration": 4,
    "start_time": "2021-07-02T11:15:30.965Z"
   },
   {
    "duration": 8,
    "start_time": "2021-07-02T11:15:41.509Z"
   },
   {
    "duration": 19,
    "start_time": "2021-07-02T11:15:46.245Z"
   },
   {
    "duration": 4,
    "start_time": "2021-07-02T11:20:21.750Z"
   },
   {
    "duration": 4,
    "start_time": "2021-07-02T11:20:22.554Z"
   },
   {
    "duration": 4,
    "start_time": "2021-07-02T11:20:23.401Z"
   },
   {
    "duration": 785,
    "start_time": "2021-07-02T11:21:32.120Z"
   },
   {
    "duration": 4,
    "start_time": "2021-07-02T11:21:48.619Z"
   },
   {
    "duration": 776,
    "start_time": "2021-07-02T11:21:54.251Z"
   },
   {
    "duration": 4,
    "start_time": "2021-07-02T11:22:09.755Z"
   },
   {
    "duration": 13,
    "start_time": "2021-07-02T11:22:11.995Z"
   },
   {
    "duration": 18,
    "start_time": "2021-07-02T11:22:13.506Z"
   },
   {
    "duration": 21,
    "start_time": "2021-07-02T11:29:53.095Z"
   },
   {
    "duration": 56,
    "start_time": "2021-07-02T11:30:15.666Z"
   },
   {
    "duration": 4,
    "start_time": "2021-07-02T11:36:18.136Z"
   },
   {
    "duration": 6,
    "start_time": "2021-07-02T11:36:22.360Z"
   },
   {
    "duration": 18,
    "start_time": "2021-07-02T11:36:25.288Z"
   },
   {
    "duration": 13,
    "start_time": "2021-07-02T11:47:19.864Z"
   },
   {
    "duration": 447,
    "start_time": "2021-07-02T11:51:07.588Z"
   },
   {
    "duration": 18,
    "start_time": "2021-07-02T11:51:13.716Z"
   },
   {
    "duration": 18,
    "start_time": "2021-07-02T11:51:32.277Z"
   },
   {
    "duration": 12,
    "start_time": "2021-07-02T12:04:32.529Z"
   },
   {
    "duration": 11,
    "start_time": "2021-07-02T12:04:40.127Z"
   },
   {
    "duration": 13,
    "start_time": "2021-07-02T12:05:44.657Z"
   },
   {
    "duration": 17,
    "start_time": "2021-07-02T12:06:05.745Z"
   },
   {
    "duration": 15,
    "start_time": "2021-07-02T12:06:27.844Z"
   },
   {
    "duration": 20,
    "start_time": "2021-07-02T12:06:40.496Z"
   },
   {
    "duration": 14,
    "start_time": "2021-07-02T12:06:57.408Z"
   },
   {
    "duration": 10,
    "start_time": "2021-07-02T12:07:38.530Z"
   },
   {
    "duration": 13,
    "start_time": "2021-07-02T12:07:42.899Z"
   },
   {
    "duration": 9,
    "start_time": "2021-07-02T12:08:12.549Z"
   },
   {
    "duration": 124,
    "start_time": "2021-07-02T12:08:45.171Z"
   },
   {
    "duration": 11,
    "start_time": "2021-07-02T12:08:51.139Z"
   },
   {
    "duration": 11,
    "start_time": "2021-07-02T12:10:17.348Z"
   },
   {
    "duration": 12,
    "start_time": "2021-07-02T12:14:23.385Z"
   },
   {
    "duration": 15,
    "start_time": "2021-07-02T12:14:25.239Z"
   },
   {
    "duration": 5,
    "start_time": "2021-07-02T12:15:21.119Z"
   },
   {
    "duration": 99,
    "start_time": "2021-07-02T12:16:03.673Z"
   },
   {
    "duration": 17,
    "start_time": "2021-07-02T12:16:09.833Z"
   },
   {
    "duration": 5,
    "start_time": "2021-07-02T12:34:06.176Z"
   },
   {
    "duration": 896,
    "start_time": "2021-07-02T12:34:17.162Z"
   },
   {
    "duration": 121,
    "start_time": "2021-07-02T12:35:09.001Z"
   },
   {
    "duration": 125,
    "start_time": "2021-07-02T12:36:10.716Z"
   },
   {
    "duration": 981,
    "start_time": "2021-07-02T12:36:18.350Z"
   },
   {
    "duration": 184,
    "start_time": "2021-07-02T12:36:42.105Z"
   },
   {
    "duration": 1025,
    "start_time": "2021-07-02T12:37:40.107Z"
   },
   {
    "duration": 357,
    "start_time": "2021-07-02T12:37:58.971Z"
   },
   {
    "duration": 185,
    "start_time": "2021-07-02T12:38:16.446Z"
   },
   {
    "duration": 356,
    "start_time": "2021-07-02T12:40:02.205Z"
   },
   {
    "duration": 443,
    "start_time": "2021-07-02T12:40:21.150Z"
   },
   {
    "duration": 397,
    "start_time": "2021-07-02T12:40:53.728Z"
   },
   {
    "duration": 112,
    "start_time": "2021-07-02T12:42:39.410Z"
   },
   {
    "duration": 25,
    "start_time": "2021-07-02T12:42:42.472Z"
   },
   {
    "duration": 13,
    "start_time": "2021-07-02T12:44:52.858Z"
   },
   {
    "duration": 5,
    "start_time": "2021-07-02T12:45:28.568Z"
   },
   {
    "duration": 6,
    "start_time": "2021-07-02T12:45:29.746Z"
   },
   {
    "duration": 603,
    "start_time": "2021-07-02T12:45:40.070Z"
   },
   {
    "duration": 22,
    "start_time": "2021-07-02T12:45:42.391Z"
   },
   {
    "duration": 30,
    "start_time": "2021-07-02T14:39:39.867Z"
   },
   {
    "duration": 12,
    "start_time": "2021-07-02T14:46:30.293Z"
   },
   {
    "duration": 623,
    "start_time": "2021-07-02T14:50:09.181Z"
   },
   {
    "duration": 10,
    "start_time": "2021-07-02T15:13:21.852Z"
   },
   {
    "duration": 10,
    "start_time": "2021-07-02T15:13:45.478Z"
   },
   {
    "duration": 12,
    "start_time": "2021-07-02T15:13:52.704Z"
   },
   {
    "duration": 445,
    "start_time": "2021-07-02T15:14:16.672Z"
   },
   {
    "duration": 854,
    "start_time": "2021-07-02T15:14:54.418Z"
   },
   {
    "duration": 343,
    "start_time": "2021-07-02T15:15:12.882Z"
   },
   {
    "duration": 335,
    "start_time": "2021-07-02T15:16:02.739Z"
   },
   {
    "duration": 611,
    "start_time": "2021-07-02T15:16:31.858Z"
   },
   {
    "duration": 334,
    "start_time": "2021-07-02T15:16:42.946Z"
   },
   {
    "duration": 302,
    "start_time": "2021-07-02T15:17:33.252Z"
   },
   {
    "duration": 405,
    "start_time": "2021-07-02T15:17:40.338Z"
   },
   {
    "duration": 576,
    "start_time": "2021-07-02T15:18:10.437Z"
   },
   {
    "duration": 332,
    "start_time": "2021-07-02T15:18:19.188Z"
   },
   {
    "duration": 669,
    "start_time": "2021-07-02T15:19:20.004Z"
   },
   {
    "duration": 339,
    "start_time": "2021-07-02T15:20:25.479Z"
   },
   {
    "duration": 366,
    "start_time": "2021-07-02T15:21:02.262Z"
   },
   {
    "duration": 11,
    "start_time": "2021-07-02T15:22:46.988Z"
   },
   {
    "duration": 356,
    "start_time": "2021-07-02T15:22:48.214Z"
   },
   {
    "duration": 31,
    "start_time": "2021-07-02T15:28:32.201Z"
   },
   {
    "duration": 360,
    "start_time": "2021-07-02T15:30:02.261Z"
   },
   {
    "duration": 470,
    "start_time": "2021-07-02T15:30:38.495Z"
   },
   {
    "duration": 358,
    "start_time": "2021-07-02T15:35:04.511Z"
   },
   {
    "duration": 349,
    "start_time": "2021-07-02T15:35:28.313Z"
   },
   {
    "duration": 615,
    "start_time": "2021-07-02T15:47:51.789Z"
   },
   {
    "duration": 358,
    "start_time": "2021-07-02T15:48:09.357Z"
   },
   {
    "duration": 25,
    "start_time": "2021-07-02T16:00:49.092Z"
   },
   {
    "duration": 11,
    "start_time": "2021-07-02T16:00:59.687Z"
   },
   {
    "duration": 11,
    "start_time": "2021-07-02T16:02:29.257Z"
   },
   {
    "duration": 7,
    "start_time": "2021-07-02T16:02:32.985Z"
   },
   {
    "duration": 7,
    "start_time": "2021-07-02T16:02:38.073Z"
   },
   {
    "duration": 7,
    "start_time": "2021-07-02T16:03:21.417Z"
   },
   {
    "duration": 7,
    "start_time": "2021-07-02T16:03:26.009Z"
   },
   {
    "duration": 7,
    "start_time": "2021-07-02T16:03:36.923Z"
   },
   {
    "duration": 6,
    "start_time": "2021-07-02T16:13:14.712Z"
   },
   {
    "duration": 5,
    "start_time": "2021-07-02T16:13:31.766Z"
   },
   {
    "duration": 6,
    "start_time": "2021-07-02T16:14:49.254Z"
   },
   {
    "duration": 6,
    "start_time": "2021-07-02T16:15:43.668Z"
   },
   {
    "duration": 461,
    "start_time": "2021-07-02T16:17:04.904Z"
   },
   {
    "duration": 369,
    "start_time": "2021-07-02T16:18:35.814Z"
   },
   {
    "duration": 5,
    "start_time": "2021-07-02T16:21:56.160Z"
   },
   {
    "duration": 5,
    "start_time": "2021-07-02T16:22:05.248Z"
   },
   {
    "duration": 6,
    "start_time": "2021-07-02T16:22:09.369Z"
   },
   {
    "duration": 6,
    "start_time": "2021-07-02T16:22:32.378Z"
   },
   {
    "duration": 6,
    "start_time": "2021-07-02T16:22:49.386Z"
   },
   {
    "duration": 6,
    "start_time": "2021-07-02T16:23:01.420Z"
   },
   {
    "duration": 5,
    "start_time": "2021-07-02T16:25:10.862Z"
   },
   {
    "duration": 7,
    "start_time": "2021-07-02T16:25:21.484Z"
   },
   {
    "duration": 6,
    "start_time": "2021-07-02T16:25:42.275Z"
   },
   {
    "duration": 6,
    "start_time": "2021-07-02T16:25:46.764Z"
   },
   {
    "duration": 6,
    "start_time": "2021-07-02T16:25:56.220Z"
   },
   {
    "duration": 22,
    "start_time": "2021-07-02T16:30:57.688Z"
   },
   {
    "duration": 30,
    "start_time": "2021-07-02T16:31:20.612Z"
   },
   {
    "duration": 28,
    "start_time": "2021-07-02T16:37:44.768Z"
   },
   {
    "duration": 29,
    "start_time": "2021-07-02T16:37:48.392Z"
   },
   {
    "duration": 358,
    "start_time": "2021-07-02T16:40:45.884Z"
   },
   {
    "duration": 27,
    "start_time": "2021-07-02T16:42:01.291Z"
   },
   {
    "duration": 354,
    "start_time": "2021-07-02T16:42:39.255Z"
   },
   {
    "duration": 22,
    "start_time": "2021-07-02T16:45:51.812Z"
   },
   {
    "duration": 7,
    "start_time": "2021-07-02T16:45:52.577Z"
   },
   {
    "duration": 22,
    "start_time": "2021-07-02T16:46:21.956Z"
   },
   {
    "duration": 70,
    "start_time": "2021-07-02T16:46:50.578Z"
   },
   {
    "duration": 29,
    "start_time": "2021-07-02T16:46:58.642Z"
   },
   {
    "duration": 142,
    "start_time": "2021-07-02T16:48:16.523Z"
   },
   {
    "duration": 365,
    "start_time": "2021-07-02T17:07:59.881Z"
   },
   {
    "duration": 14,
    "start_time": "2021-07-02T17:08:06.585Z"
   },
   {
    "duration": 379,
    "start_time": "2021-07-02T17:08:29.513Z"
   },
   {
    "duration": 12,
    "start_time": "2021-07-02T17:08:45.525Z"
   },
   {
    "duration": 11,
    "start_time": "2021-07-02T17:08:54.709Z"
   },
   {
    "duration": 11,
    "start_time": "2021-07-02T17:09:05.315Z"
   },
   {
    "duration": 12,
    "start_time": "2021-07-02T17:09:50.755Z"
   },
   {
    "duration": 7,
    "start_time": "2021-07-02T17:11:32.443Z"
   },
   {
    "duration": 6,
    "start_time": "2021-07-02T17:11:35.895Z"
   },
   {
    "duration": 6,
    "start_time": "2021-07-02T17:11:44.037Z"
   },
   {
    "duration": 6,
    "start_time": "2021-07-02T17:11:55.141Z"
   },
   {
    "duration": 6,
    "start_time": "2021-07-02T17:12:00.565Z"
   },
   {
    "duration": 7,
    "start_time": "2021-07-02T17:12:11.639Z"
   },
   {
    "duration": 7,
    "start_time": "2021-07-02T17:12:14.167Z"
   },
   {
    "duration": 7,
    "start_time": "2021-07-02T17:12:35.495Z"
   },
   {
    "duration": 6,
    "start_time": "2021-07-02T17:12:48.999Z"
   },
   {
    "duration": 5,
    "start_time": "2021-07-02T17:12:49.879Z"
   },
   {
    "duration": 4,
    "start_time": "2021-07-02T17:19:16.150Z"
   },
   {
    "duration": 7,
    "start_time": "2021-07-02T17:19:56.381Z"
   },
   {
    "duration": 7,
    "start_time": "2021-07-02T17:20:10.301Z"
   },
   {
    "duration": 7,
    "start_time": "2021-07-02T17:20:18.253Z"
   },
   {
    "duration": 7,
    "start_time": "2021-07-02T17:21:01.965Z"
   },
   {
    "duration": 7,
    "start_time": "2021-07-02T17:21:07.645Z"
   },
   {
    "duration": 6,
    "start_time": "2021-07-02T17:21:59.839Z"
   },
   {
    "duration": 3,
    "start_time": "2021-07-02T17:22:38.901Z"
   },
   {
    "duration": 5,
    "start_time": "2021-07-02T17:23:31.967Z"
   },
   {
    "duration": 5,
    "start_time": "2021-07-02T17:23:46.527Z"
   },
   {
    "duration": 7,
    "start_time": "2021-07-02T17:26:04.855Z"
   },
   {
    "duration": 7,
    "start_time": "2021-07-02T17:26:13.009Z"
   },
   {
    "duration": 6,
    "start_time": "2021-07-02T17:26:25.129Z"
   },
   {
    "duration": 6,
    "start_time": "2021-07-02T17:26:45.667Z"
   },
   {
    "duration": 16,
    "start_time": "2021-07-02T17:33:26.031Z"
   },
   {
    "duration": 13,
    "start_time": "2021-07-02T17:37:13.261Z"
   },
   {
    "duration": 15,
    "start_time": "2021-07-02T17:38:16.355Z"
   },
   {
    "duration": 16,
    "start_time": "2021-07-02T17:38:21.681Z"
   },
   {
    "duration": 384,
    "start_time": "2021-07-02T17:41:58.390Z"
   },
   {
    "duration": 9,
    "start_time": "2021-07-02T17:42:04.480Z"
   },
   {
    "duration": 9,
    "start_time": "2021-07-02T17:42:14.514Z"
   },
   {
    "duration": 4,
    "start_time": "2021-07-02T17:43:57.583Z"
   },
   {
    "duration": 9,
    "start_time": "2021-07-02T17:44:16.739Z"
   },
   {
    "duration": 5730,
    "start_time": "2021-07-02T17:46:25.202Z"
   },
   {
    "duration": 16,
    "start_time": "2021-07-02T17:46:38.550Z"
   },
   {
    "duration": 21,
    "start_time": "2021-07-02T17:47:03.996Z"
   },
   {
    "duration": 11,
    "start_time": "2021-07-02T17:47:15.160Z"
   },
   {
    "duration": 7,
    "start_time": "2021-07-02T17:47:32.759Z"
   },
   {
    "duration": 14,
    "start_time": "2021-07-02T17:47:40.663Z"
   },
   {
    "duration": 13,
    "start_time": "2021-07-02T17:49:38.326Z"
   },
   {
    "duration": 36,
    "start_time": "2021-07-02T17:49:40.490Z"
   },
   {
    "duration": 14,
    "start_time": "2021-07-02T17:50:07.456Z"
   },
   {
    "duration": 36,
    "start_time": "2021-07-02T17:50:09.596Z"
   },
   {
    "duration": 380,
    "start_time": "2021-07-02T17:50:31.068Z"
   },
   {
    "duration": 357,
    "start_time": "2021-07-02T17:51:08.828Z"
   },
   {
    "duration": 445,
    "start_time": "2021-07-02T17:51:24.300Z"
   },
   {
    "duration": 16,
    "start_time": "2021-07-02T17:52:22.828Z"
   },
   {
    "duration": 22,
    "start_time": "2021-07-02T17:52:29.564Z"
   },
   {
    "duration": 8,
    "start_time": "2021-07-02T17:53:28.819Z"
   },
   {
    "duration": 9,
    "start_time": "2021-07-02T17:53:37.165Z"
   },
   {
    "duration": 20,
    "start_time": "2021-07-02T17:53:45.677Z"
   },
   {
    "duration": 11,
    "start_time": "2021-07-02T17:53:49.981Z"
   },
   {
    "duration": 22,
    "start_time": "2021-07-02T17:53:55.388Z"
   },
   {
    "duration": 32,
    "start_time": "2021-07-02T17:54:36.956Z"
   },
   {
    "duration": 6,
    "start_time": "2021-07-02T17:54:42.844Z"
   },
   {
    "duration": 18,
    "start_time": "2021-07-02T17:54:46.314Z"
   },
   {
    "duration": 11,
    "start_time": "2021-07-02T17:54:52.268Z"
   },
   {
    "duration": 10,
    "start_time": "2021-07-02T17:56:40.154Z"
   },
   {
    "duration": 9,
    "start_time": "2021-07-02T17:56:44.493Z"
   },
   {
    "duration": 18,
    "start_time": "2021-07-02T17:56:52.157Z"
   },
   {
    "duration": 13,
    "start_time": "2021-07-02T17:57:09.597Z"
   },
   {
    "duration": 7,
    "start_time": "2021-07-02T17:57:13.149Z"
   },
   {
    "duration": 11,
    "start_time": "2021-07-02T17:57:19.397Z"
   },
   {
    "duration": 11,
    "start_time": "2021-07-02T17:57:23.759Z"
   },
   {
    "duration": 10,
    "start_time": "2021-07-02T17:57:40.829Z"
   },
   {
    "duration": 12,
    "start_time": "2021-07-02T17:57:42.093Z"
   },
   {
    "duration": 17,
    "start_time": "2021-07-02T17:57:49.229Z"
   },
   {
    "duration": 7,
    "start_time": "2021-07-02T18:01:29.431Z"
   },
   {
    "duration": 18,
    "start_time": "2021-07-02T18:01:34.912Z"
   },
   {
    "duration": 6,
    "start_time": "2021-07-02T18:01:54.775Z"
   },
   {
    "duration": 7,
    "start_time": "2021-07-02T18:01:56.193Z"
   },
   {
    "duration": 6,
    "start_time": "2021-07-02T18:02:00.385Z"
   },
   {
    "duration": 385,
    "start_time": "2021-07-02T18:02:06.081Z"
   },
   {
    "duration": 5,
    "start_time": "2021-07-02T18:02:12.705Z"
   },
   {
    "duration": 6,
    "start_time": "2021-07-02T18:03:49.825Z"
   },
   {
    "duration": 7,
    "start_time": "2021-07-02T18:03:55.651Z"
   },
   {
    "duration": 7,
    "start_time": "2021-07-02T18:04:09.875Z"
   },
   {
    "duration": 5,
    "start_time": "2021-07-02T18:04:35.773Z"
   },
   {
    "duration": 5,
    "start_time": "2021-07-02T18:04:43.907Z"
   },
   {
    "duration": 128,
    "start_time": "2021-07-02T18:05:05.012Z"
   },
   {
    "duration": 4,
    "start_time": "2021-07-02T18:05:16.260Z"
   },
   {
    "duration": 6,
    "start_time": "2021-07-02T18:06:08.458Z"
   },
   {
    "duration": 6,
    "start_time": "2021-07-02T18:06:14.068Z"
   },
   {
    "duration": 6,
    "start_time": "2021-07-02T18:06:21.269Z"
   },
   {
    "duration": 6,
    "start_time": "2021-07-02T18:06:22.309Z"
   },
   {
    "duration": 8,
    "start_time": "2021-07-02T18:06:27.941Z"
   },
   {
    "duration": 5,
    "start_time": "2021-07-02T18:06:31.765Z"
   },
   {
    "duration": 399,
    "start_time": "2021-07-02T18:06:54.053Z"
   },
   {
    "duration": 7,
    "start_time": "2021-07-02T18:06:55.702Z"
   },
   {
    "duration": 6,
    "start_time": "2021-07-02T18:06:59.844Z"
   },
   {
    "duration": 8,
    "start_time": "2021-07-02T18:07:25.956Z"
   },
   {
    "duration": 5,
    "start_time": "2021-07-02T18:08:49.859Z"
   },
   {
    "duration": 6,
    "start_time": "2021-07-02T18:09:01.478Z"
   },
   {
    "duration": 386,
    "start_time": "2021-07-02T18:28:18.959Z"
   },
   {
    "duration": 411,
    "start_time": "2021-07-02T18:28:24.435Z"
   },
   {
    "duration": 9,
    "start_time": "2021-07-02T18:29:00.277Z"
   },
   {
    "duration": 7,
    "start_time": "2021-07-02T18:29:11.046Z"
   },
   {
    "duration": 7,
    "start_time": "2021-07-02T18:29:16.467Z"
   },
   {
    "duration": 393,
    "start_time": "2021-07-02T18:29:21.940Z"
   },
   {
    "duration": 6,
    "start_time": "2021-07-02T18:29:35.222Z"
   },
   {
    "duration": 10,
    "start_time": "2021-07-02T18:30:13.221Z"
   },
   {
    "duration": 6,
    "start_time": "2021-07-02T18:30:13.987Z"
   },
   {
    "duration": 5,
    "start_time": "2021-07-02T18:30:14.787Z"
   },
   {
    "duration": 16,
    "start_time": "2021-07-02T18:31:11.926Z"
   },
   {
    "duration": 394,
    "start_time": "2021-07-02T18:31:13.286Z"
   },
   {
    "duration": 5,
    "start_time": "2021-07-02T18:31:20.182Z"
   },
   {
    "duration": 5,
    "start_time": "2021-07-02T18:31:23.574Z"
   },
   {
    "duration": 18,
    "start_time": "2021-07-02T18:37:04.280Z"
   },
   {
    "duration": 5,
    "start_time": "2021-07-02T18:37:06.986Z"
   },
   {
    "duration": 5,
    "start_time": "2021-07-02T18:37:15.578Z"
   },
   {
    "duration": 17,
    "start_time": "2021-07-02T18:37:23.324Z"
   },
   {
    "duration": 6,
    "start_time": "2021-07-02T18:37:24.668Z"
   },
   {
    "duration": 6,
    "start_time": "2021-07-02T18:37:25.820Z"
   },
   {
    "duration": 2106,
    "start_time": "2021-07-02T18:54:52.369Z"
   },
   {
    "duration": 4,
    "start_time": "2021-07-02T18:54:54.478Z"
   },
   {
    "duration": 29,
    "start_time": "2021-07-02T18:54:54.486Z"
   },
   {
    "duration": 57,
    "start_time": "2021-07-02T18:54:54.518Z"
   },
   {
    "duration": 65,
    "start_time": "2021-07-02T18:54:54.578Z"
   },
   {
    "duration": 192,
    "start_time": "2021-07-02T18:54:54.646Z"
   },
   {
    "duration": 6,
    "start_time": "2021-07-02T18:54:54.841Z"
   },
   {
    "duration": 136,
    "start_time": "2021-07-02T18:54:54.853Z"
   },
   {
    "duration": 28,
    "start_time": "2021-07-02T18:54:54.992Z"
   },
   {
    "duration": 18,
    "start_time": "2021-07-02T18:54:55.023Z"
   },
   {
    "duration": 4,
    "start_time": "2021-07-02T18:54:55.043Z"
   },
   {
    "duration": 105,
    "start_time": "2021-07-02T18:54:55.049Z"
   },
   {
    "duration": 7,
    "start_time": "2021-07-02T18:54:55.157Z"
   },
   {
    "duration": 4,
    "start_time": "2021-07-02T18:54:55.166Z"
   },
   {
    "duration": 8,
    "start_time": "2021-07-02T18:54:55.172Z"
   },
   {
    "duration": 77,
    "start_time": "2021-07-02T18:54:55.182Z"
   },
   {
    "duration": 80,
    "start_time": "2021-07-02T18:54:55.261Z"
   },
   {
    "duration": 19,
    "start_time": "2021-07-02T18:54:55.343Z"
   },
   {
    "duration": 5,
    "start_time": "2021-07-02T18:54:55.365Z"
   },
   {
    "duration": 37,
    "start_time": "2021-07-02T18:54:55.372Z"
   },
   {
    "duration": 15,
    "start_time": "2021-07-02T18:54:55.412Z"
   },
   {
    "duration": 21,
    "start_time": "2021-07-02T18:54:55.430Z"
   },
   {
    "duration": 5,
    "start_time": "2021-07-02T18:54:55.457Z"
   },
   {
    "duration": 43,
    "start_time": "2021-07-02T18:54:55.466Z"
   },
   {
    "duration": 4,
    "start_time": "2021-07-02T18:54:55.512Z"
   },
   {
    "duration": 9,
    "start_time": "2021-07-02T18:54:55.519Z"
   },
   {
    "duration": 9,
    "start_time": "2021-07-02T18:54:55.530Z"
   },
   {
    "duration": 11,
    "start_time": "2021-07-02T18:54:55.542Z"
   },
   {
    "duration": 153,
    "start_time": "2021-07-02T18:54:55.555Z"
   },
   {
    "duration": 12,
    "start_time": "2021-07-02T18:54:55.711Z"
   },
   {
    "duration": 11,
    "start_time": "2021-07-02T18:54:55.725Z"
   },
   {
    "duration": 12,
    "start_time": "2021-07-02T18:54:55.738Z"
   },
   {
    "duration": 14,
    "start_time": "2021-07-02T18:54:55.752Z"
   },
   {
    "duration": 44,
    "start_time": "2021-07-02T18:54:55.768Z"
   },
   {
    "duration": 12,
    "start_time": "2021-07-02T18:54:55.815Z"
   },
   {
    "duration": 8,
    "start_time": "2021-07-02T18:54:55.829Z"
   },
   {
    "duration": 5,
    "start_time": "2021-07-02T18:54:55.840Z"
   },
   {
    "duration": 15,
    "start_time": "2021-07-02T18:54:55.848Z"
   },
   {
    "duration": 8,
    "start_time": "2021-07-02T18:54:55.866Z"
   },
   {
    "duration": 43,
    "start_time": "2021-07-02T18:54:55.877Z"
   },
   {
    "duration": 21,
    "start_time": "2021-07-02T18:54:55.936Z"
   },
   {
    "duration": 4,
    "start_time": "2021-07-02T18:54:55.960Z"
   },
   {
    "duration": 5,
    "start_time": "2021-07-02T18:54:55.967Z"
   },
   {
    "duration": 34,
    "start_time": "2021-07-02T18:54:55.975Z"
   },
   {
    "duration": 16,
    "start_time": "2021-07-02T18:54:56.012Z"
   },
   {
    "duration": 18,
    "start_time": "2021-07-02T18:54:56.031Z"
   },
   {
    "duration": 11,
    "start_time": "2021-07-02T18:54:56.051Z"
   },
   {
    "duration": 6,
    "start_time": "2021-07-02T18:54:56.064Z"
   },
   {
    "duration": 589,
    "start_time": "2021-07-02T18:54:56.073Z"
   },
   {
    "duration": 45,
    "start_time": "2021-07-02T18:54:56.664Z"
   },
   {
    "duration": 24,
    "start_time": "2021-07-02T18:54:56.711Z"
   },
   {
    "duration": 365,
    "start_time": "2021-07-02T18:54:56.737Z"
   },
   {
    "duration": 418,
    "start_time": "2021-07-02T18:54:57.108Z"
   },
   {
    "duration": 359,
    "start_time": "2021-07-02T18:54:57.529Z"
   },
   {
    "duration": 20,
    "start_time": "2021-07-02T18:54:57.890Z"
   },
   {
    "duration": 12,
    "start_time": "2021-07-02T18:54:57.913Z"
   },
   {
    "duration": 8,
    "start_time": "2021-07-02T18:54:57.928Z"
   },
   {
    "duration": 12,
    "start_time": "2021-07-02T18:54:57.939Z"
   },
   {
    "duration": 7,
    "start_time": "2021-07-02T18:54:57.954Z"
   },
   {
    "duration": 47,
    "start_time": "2021-07-02T18:54:57.963Z"
   },
   {
    "duration": 10,
    "start_time": "2021-07-02T18:54:58.013Z"
   },
   {
    "duration": 5912,
    "start_time": "2021-07-02T18:54:58.025Z"
   },
   {
    "duration": 14,
    "start_time": "2021-07-02T18:55:03.940Z"
   },
   {
    "duration": 7,
    "start_time": "2021-07-02T18:55:03.956Z"
   },
   {
    "duration": 20,
    "start_time": "2021-07-02T18:55:03.965Z"
   },
   {
    "duration": 35,
    "start_time": "2021-07-02T18:55:03.988Z"
   },
   {
    "duration": 13,
    "start_time": "2021-07-02T18:55:04.026Z"
   },
   {
    "duration": 10,
    "start_time": "2021-07-02T18:55:04.047Z"
   },
   {
    "duration": 8,
    "start_time": "2021-07-02T18:55:04.060Z"
   },
   {
    "duration": 39,
    "start_time": "2021-07-02T18:55:04.071Z"
   },
   {
    "duration": 15,
    "start_time": "2021-07-02T18:55:04.113Z"
   },
   {
    "duration": 14,
    "start_time": "2021-07-02T18:55:04.131Z"
   },
   {
    "duration": 7,
    "start_time": "2021-07-02T18:55:04.147Z"
   },
   {
    "duration": 13,
    "start_time": "2021-07-02T18:55:04.157Z"
   },
   {
    "duration": 17,
    "start_time": "2021-07-02T18:55:04.173Z"
   },
   {
    "duration": 31,
    "start_time": "2021-07-02T18:55:04.192Z"
   },
   {
    "duration": 22,
    "start_time": "2021-07-02T18:55:04.227Z"
   },
   {
    "duration": 14,
    "start_time": "2021-07-02T18:55:04.252Z"
   },
   {
    "duration": 11,
    "start_time": "2021-07-02T18:55:04.269Z"
   },
   {
    "duration": 27,
    "start_time": "2021-07-02T18:55:04.282Z"
   },
   {
    "duration": 5,
    "start_time": "2021-07-02T18:55:04.312Z"
   },
   {
    "duration": 6,
    "start_time": "2021-07-02T18:55:33.621Z"
   },
   {
    "duration": 5,
    "start_time": "2021-07-02T18:55:38.373Z"
   },
   {
    "duration": 2052,
    "start_time": "2021-07-02T19:18:47.132Z"
   },
   {
    "duration": 3,
    "start_time": "2021-07-02T19:18:49.187Z"
   },
   {
    "duration": 29,
    "start_time": "2021-07-02T19:18:49.193Z"
   },
   {
    "duration": 55,
    "start_time": "2021-07-02T19:18:49.225Z"
   },
   {
    "duration": 66,
    "start_time": "2021-07-02T19:18:49.282Z"
   },
   {
    "duration": 185,
    "start_time": "2021-07-02T19:18:49.350Z"
   },
   {
    "duration": 5,
    "start_time": "2021-07-02T19:18:49.537Z"
   },
   {
    "duration": 130,
    "start_time": "2021-07-02T19:18:49.546Z"
   },
   {
    "duration": 33,
    "start_time": "2021-07-02T19:18:49.679Z"
   },
   {
    "duration": 18,
    "start_time": "2021-07-02T19:18:49.714Z"
   },
   {
    "duration": 4,
    "start_time": "2021-07-02T19:18:49.734Z"
   },
   {
    "duration": 97,
    "start_time": "2021-07-02T19:18:49.740Z"
   },
   {
    "duration": 6,
    "start_time": "2021-07-02T19:18:49.839Z"
   },
   {
    "duration": 10,
    "start_time": "2021-07-02T19:18:49.847Z"
   },
   {
    "duration": 12,
    "start_time": "2021-07-02T19:18:49.860Z"
   },
   {
    "duration": 64,
    "start_time": "2021-07-02T19:18:49.874Z"
   },
   {
    "duration": 51,
    "start_time": "2021-07-02T19:18:49.940Z"
   },
   {
    "duration": 33,
    "start_time": "2021-07-02T19:18:49.993Z"
   },
   {
    "duration": 6,
    "start_time": "2021-07-02T19:18:50.029Z"
   },
   {
    "duration": 20,
    "start_time": "2021-07-02T19:18:50.038Z"
   },
   {
    "duration": 17,
    "start_time": "2021-07-02T19:18:50.061Z"
   },
   {
    "duration": 25,
    "start_time": "2021-07-02T19:18:50.109Z"
   },
   {
    "duration": 5,
    "start_time": "2021-07-02T19:18:50.142Z"
   },
   {
    "duration": 15,
    "start_time": "2021-07-02T19:18:50.152Z"
   },
   {
    "duration": 5,
    "start_time": "2021-07-02T19:18:50.170Z"
   },
   {
    "duration": 5,
    "start_time": "2021-07-02T19:18:50.209Z"
   },
   {
    "duration": 14,
    "start_time": "2021-07-02T19:18:50.218Z"
   },
   {
    "duration": 16,
    "start_time": "2021-07-02T19:18:50.235Z"
   },
   {
    "duration": 156,
    "start_time": "2021-07-02T19:18:50.254Z"
   },
   {
    "duration": 13,
    "start_time": "2021-07-02T19:18:50.412Z"
   },
   {
    "duration": 34,
    "start_time": "2021-07-02T19:18:50.428Z"
   },
   {
    "duration": 16,
    "start_time": "2021-07-02T19:18:50.465Z"
   },
   {
    "duration": 14,
    "start_time": "2021-07-02T19:18:50.484Z"
   },
   {
    "duration": 24,
    "start_time": "2021-07-02T19:18:50.501Z"
   },
   {
    "duration": 11,
    "start_time": "2021-07-02T19:18:50.528Z"
   },
   {
    "duration": 12,
    "start_time": "2021-07-02T19:18:50.541Z"
   },
   {
    "duration": 21,
    "start_time": "2021-07-02T19:18:50.556Z"
   },
   {
    "duration": 20,
    "start_time": "2021-07-02T19:18:50.579Z"
   },
   {
    "duration": 9,
    "start_time": "2021-07-02T19:18:50.601Z"
   },
   {
    "duration": 17,
    "start_time": "2021-07-02T19:18:50.612Z"
   },
   {
    "duration": 18,
    "start_time": "2021-07-02T19:18:50.632Z"
   },
   {
    "duration": 4,
    "start_time": "2021-07-02T19:18:50.652Z"
   },
   {
    "duration": 11,
    "start_time": "2021-07-02T19:18:50.659Z"
   },
   {
    "duration": 13,
    "start_time": "2021-07-02T19:18:50.672Z"
   },
   {
    "duration": 30,
    "start_time": "2021-07-02T19:18:50.687Z"
   },
   {
    "duration": 19,
    "start_time": "2021-07-02T19:18:50.720Z"
   },
   {
    "duration": 5,
    "start_time": "2021-07-02T19:18:50.741Z"
   },
   {
    "duration": 13,
    "start_time": "2021-07-02T19:18:50.748Z"
   },
   {
    "duration": 591,
    "start_time": "2021-07-02T19:18:50.764Z"
   },
   {
    "duration": 29,
    "start_time": "2021-07-02T19:18:51.357Z"
   },
   {
    "duration": 22,
    "start_time": "2021-07-02T19:18:51.409Z"
   },
   {
    "duration": 367,
    "start_time": "2021-07-02T19:18:51.434Z"
   },
   {
    "duration": 363,
    "start_time": "2021-07-02T19:18:51.803Z"
   },
   {
    "duration": 367,
    "start_time": "2021-07-02T19:18:52.169Z"
   },
   {
    "duration": 11,
    "start_time": "2021-07-02T19:18:52.539Z"
   },
   {
    "duration": 9,
    "start_time": "2021-07-02T19:18:52.553Z"
   },
   {
    "duration": 10,
    "start_time": "2021-07-02T19:18:52.564Z"
   },
   {
    "duration": 33,
    "start_time": "2021-07-02T19:18:52.576Z"
   },
   {
    "duration": 4,
    "start_time": "2021-07-02T19:18:52.612Z"
   },
   {
    "duration": 11,
    "start_time": "2021-07-02T19:18:52.619Z"
   },
   {
    "duration": 5685,
    "start_time": "2021-07-02T19:18:52.632Z"
   },
   {
    "duration": 13,
    "start_time": "2021-07-02T19:18:58.320Z"
   },
   {
    "duration": 6,
    "start_time": "2021-07-02T19:18:58.336Z"
   },
   {
    "duration": 12,
    "start_time": "2021-07-02T19:18:58.345Z"
   },
   {
    "duration": 52,
    "start_time": "2021-07-02T19:18:58.359Z"
   },
   {
    "duration": 10,
    "start_time": "2021-07-02T19:18:58.414Z"
   },
   {
    "duration": 10,
    "start_time": "2021-07-02T19:18:58.426Z"
   },
   {
    "duration": 6,
    "start_time": "2021-07-02T19:18:58.443Z"
   },
   {
    "duration": 17,
    "start_time": "2021-07-02T19:18:58.452Z"
   },
   {
    "duration": 42,
    "start_time": "2021-07-02T19:18:58.471Z"
   },
   {
    "duration": 12,
    "start_time": "2021-07-02T19:18:58.516Z"
   },
   {
    "duration": 9,
    "start_time": "2021-07-02T19:18:58.531Z"
   },
   {
    "duration": 10,
    "start_time": "2021-07-02T19:18:58.542Z"
   },
   {
    "duration": 10,
    "start_time": "2021-07-02T19:18:58.555Z"
   },
   {
    "duration": 24,
    "start_time": "2021-07-02T19:18:58.568Z"
   },
   {
    "duration": 22,
    "start_time": "2021-07-02T19:18:58.595Z"
   },
   {
    "duration": 9,
    "start_time": "2021-07-02T19:18:58.619Z"
   },
   {
    "duration": 9,
    "start_time": "2021-07-02T19:18:58.631Z"
   },
   {
    "duration": 19,
    "start_time": "2021-07-02T19:18:58.643Z"
   },
   {
    "duration": 7,
    "start_time": "2021-07-02T19:18:58.665Z"
   },
   {
    "duration": 338,
    "start_time": "2021-07-03T15:31:10.412Z"
   },
   {
    "duration": 2145,
    "start_time": "2021-07-03T15:31:15.030Z"
   },
   {
    "duration": 4,
    "start_time": "2021-07-03T15:31:17.178Z"
   },
   {
    "duration": 26,
    "start_time": "2021-07-03T15:31:17.188Z"
   },
   {
    "duration": 59,
    "start_time": "2021-07-03T15:31:17.217Z"
   },
   {
    "duration": 51,
    "start_time": "2021-07-03T15:31:17.279Z"
   },
   {
    "duration": 180,
    "start_time": "2021-07-03T15:31:17.333Z"
   },
   {
    "duration": 6,
    "start_time": "2021-07-03T15:31:17.515Z"
   },
   {
    "duration": 124,
    "start_time": "2021-07-03T15:31:17.525Z"
   },
   {
    "duration": 28,
    "start_time": "2021-07-03T15:31:17.653Z"
   },
   {
    "duration": 17,
    "start_time": "2021-07-03T15:31:17.683Z"
   },
   {
    "duration": 3,
    "start_time": "2021-07-03T15:31:17.703Z"
   },
   {
    "duration": 82,
    "start_time": "2021-07-03T15:31:17.708Z"
   },
   {
    "duration": 6,
    "start_time": "2021-07-03T15:31:17.792Z"
   },
   {
    "duration": 6,
    "start_time": "2021-07-03T15:31:17.800Z"
   },
   {
    "duration": 8,
    "start_time": "2021-07-03T15:31:17.808Z"
   },
   {
    "duration": 58,
    "start_time": "2021-07-03T15:31:17.818Z"
   },
   {
    "duration": 54,
    "start_time": "2021-07-03T15:31:17.879Z"
   },
   {
    "duration": 32,
    "start_time": "2021-07-03T15:31:17.935Z"
   },
   {
    "duration": 5,
    "start_time": "2021-07-03T15:31:17.969Z"
   },
   {
    "duration": 12,
    "start_time": "2021-07-03T15:31:17.977Z"
   },
   {
    "duration": 19,
    "start_time": "2021-07-03T15:31:17.991Z"
   },
   {
    "duration": 74,
    "start_time": "2021-07-03T15:31:18.012Z"
   },
   {
    "duration": 6,
    "start_time": "2021-07-03T15:31:18.091Z"
   },
   {
    "duration": 10,
    "start_time": "2021-07-03T15:31:18.100Z"
   },
   {
    "duration": 5,
    "start_time": "2021-07-03T15:31:18.167Z"
   },
   {
    "duration": 11,
    "start_time": "2021-07-03T15:31:18.174Z"
   },
   {
    "duration": 10,
    "start_time": "2021-07-03T15:31:18.188Z"
   },
   {
    "duration": 11,
    "start_time": "2021-07-03T15:31:18.201Z"
   },
   {
    "duration": 167,
    "start_time": "2021-07-03T15:31:18.214Z"
   },
   {
    "duration": 12,
    "start_time": "2021-07-03T15:31:18.383Z"
   },
   {
    "duration": 17,
    "start_time": "2021-07-03T15:31:18.398Z"
   },
   {
    "duration": 52,
    "start_time": "2021-07-03T15:31:18.417Z"
   },
   {
    "duration": 7,
    "start_time": "2021-07-03T15:31:18.471Z"
   },
   {
    "duration": 12,
    "start_time": "2021-07-03T15:31:18.481Z"
   },
   {
    "duration": 12,
    "start_time": "2021-07-03T15:31:18.496Z"
   },
   {
    "duration": 65,
    "start_time": "2021-07-03T15:31:18.511Z"
   },
   {
    "duration": 7,
    "start_time": "2021-07-03T15:31:18.579Z"
   },
   {
    "duration": 8,
    "start_time": "2021-07-03T15:31:18.589Z"
   },
   {
    "duration": 67,
    "start_time": "2021-07-03T15:31:18.600Z"
   },
   {
    "duration": 7,
    "start_time": "2021-07-03T15:31:18.670Z"
   },
   {
    "duration": 22,
    "start_time": "2021-07-03T15:31:18.679Z"
   },
   {
    "duration": 65,
    "start_time": "2021-07-03T15:31:18.703Z"
   },
   {
    "duration": 4,
    "start_time": "2021-07-03T15:31:18.771Z"
   },
   {
    "duration": 6,
    "start_time": "2021-07-03T15:31:18.778Z"
   },
   {
    "duration": 8,
    "start_time": "2021-07-03T15:31:18.787Z"
   },
   {
    "duration": 69,
    "start_time": "2021-07-03T15:31:18.798Z"
   },
   {
    "duration": 16,
    "start_time": "2021-07-03T15:31:18.870Z"
   },
   {
    "duration": 15,
    "start_time": "2021-07-03T15:31:18.889Z"
   },
   {
    "duration": 61,
    "start_time": "2021-07-03T15:31:18.906Z"
   },
   {
    "duration": 619,
    "start_time": "2021-07-03T15:31:18.969Z"
   },
   {
    "duration": 30,
    "start_time": "2021-07-03T15:31:19.590Z"
   },
   {
    "duration": 47,
    "start_time": "2021-07-03T15:31:19.622Z"
   },
   {
    "duration": 385,
    "start_time": "2021-07-03T15:31:19.672Z"
   },
   {
    "duration": 408,
    "start_time": "2021-07-03T15:31:20.059Z"
   },
   {
    "duration": 382,
    "start_time": "2021-07-03T15:31:20.470Z"
   },
   {
    "duration": 19,
    "start_time": "2021-07-03T15:31:20.855Z"
   },
   {
    "duration": 11,
    "start_time": "2021-07-03T15:31:20.877Z"
   },
   {
    "duration": 10,
    "start_time": "2021-07-03T15:31:20.891Z"
   },
   {
    "duration": 6,
    "start_time": "2021-07-03T15:31:20.904Z"
   },
   {
    "duration": 20,
    "start_time": "2021-07-03T15:31:20.913Z"
   },
   {
    "duration": 10,
    "start_time": "2021-07-03T15:31:20.935Z"
   },
   {
    "duration": 6427,
    "start_time": "2021-07-03T15:31:20.948Z"
   },
   {
    "duration": 16,
    "start_time": "2021-07-03T15:31:27.378Z"
   },
   {
    "duration": 9,
    "start_time": "2021-07-03T15:31:27.396Z"
   },
   {
    "duration": 13,
    "start_time": "2021-07-03T15:31:27.407Z"
   },
   {
    "duration": 58,
    "start_time": "2021-07-03T15:31:27.423Z"
   },
   {
    "duration": 12,
    "start_time": "2021-07-03T15:31:27.484Z"
   },
   {
    "duration": 9,
    "start_time": "2021-07-03T15:31:27.503Z"
   },
   {
    "duration": 7,
    "start_time": "2021-07-03T15:31:27.515Z"
   },
   {
    "duration": 44,
    "start_time": "2021-07-03T15:31:27.524Z"
   },
   {
    "duration": 9,
    "start_time": "2021-07-03T15:31:27.572Z"
   },
   {
    "duration": 6,
    "start_time": "2021-07-03T15:31:27.584Z"
   },
   {
    "duration": 4,
    "start_time": "2021-07-03T15:31:27.592Z"
   },
   {
    "duration": 9,
    "start_time": "2021-07-03T15:31:27.599Z"
   },
   {
    "duration": 10,
    "start_time": "2021-07-03T15:31:27.610Z"
   },
   {
    "duration": 46,
    "start_time": "2021-07-03T15:31:27.623Z"
   },
   {
    "duration": 20,
    "start_time": "2021-07-03T15:31:27.672Z"
   },
   {
    "duration": 8,
    "start_time": "2021-07-03T15:31:27.694Z"
   },
   {
    "duration": 6,
    "start_time": "2021-07-03T15:31:27.704Z"
   },
   {
    "duration": 6,
    "start_time": "2021-07-03T15:31:27.713Z"
   },
   {
    "duration": 50,
    "start_time": "2021-07-03T15:31:27.721Z"
   },
   {
    "duration": 18,
    "start_time": "2021-07-03T15:32:19.348Z"
   },
   {
    "duration": 383,
    "start_time": "2021-07-08T00:45:49.470Z"
   },
   {
    "duration": 2280,
    "start_time": "2021-08-23T22:37:40.896Z"
   }
  ],
  "kernelspec": {
   "display_name": "Python 3",
   "language": "python",
   "name": "python3"
  },
  "language_info": {
   "codemirror_mode": {
    "name": "ipython",
    "version": 3
   },
   "file_extension": ".py",
   "mimetype": "text/x-python",
   "name": "python",
   "nbconvert_exporter": "python",
   "pygments_lexer": "ipython3",
   "version": "3.8.8"
  },
  "toc": {
   "base_numbering": 1,
   "nav_menu": {},
   "number_sections": true,
   "sideBar": true,
   "skip_h1_title": true,
   "title_cell": "Table of Contents",
   "title_sidebar": "Contents",
   "toc_cell": false,
   "toc_position": {},
   "toc_section_display": true,
   "toc_window_display": false
  }
 },
 "nbformat": 4,
 "nbformat_minor": 2
}
