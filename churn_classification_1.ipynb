{
 "cells": [
  {
   "cell_type": "markdown",
   "metadata": {},
   "source": [
    "# Project Description\n",
    "Beta Bank customers are leaving: little by little, chipping away every month.\n",
    "The bankers figured out it’s cheaper to save the existing customers rather than\n",
    "to attract new ones.\n",
    "We need to predict whether a customer will leave the bank soon. You have the\n",
    "data on clients’ past behavior and termination of contracts with the bank."
   ]
  },
  {
   "cell_type": "markdown",
   "metadata": {},
   "source": [
    "# Project's Goal\n",
    "Predict whether a customer will leave the bank soon.\n",
    "\n",
    "We will Build a model with the maximum possible F1 score. To pass the project, We\n",
    "need an F1 score of at least 0.59. Check the F1 for the test set.\n",
    "Additionally, we will measure the AUC-ROC metric and compare it with the F1."
   ]
  },
  {
   "cell_type": "markdown",
   "metadata": {},
   "source": [
    "# Table of Contents\n",
    "\n",
    " * [ Load, overview and prepare the data](#chapter1)\n",
    "     * [Encoding categorical features](#section_1_1)\n",
    "     * [Scaling numeric features](#section_1_2)\n",
    "     * [imputing missing values](#section_1_3)\n",
    "\n",
    "\n",
    " * [Classes examination & model training without taking into account the imbalance](#chapter2)\n",
    " \n",
    "    * [Logistic Regression classifier](#section_2_1)\n",
    "    * [RFC](#section_2_2)\n",
    "    * [CatBoost Classifier](#section_2_3)\n",
    "    * [ANN](#section_2_4)        \n",
    "        \n",
    "        \n",
    " * [Quality of models improvment , taking into account the imbalance of classes.](#chapter3)\n",
    "  \n",
    "   * [Observation of the balance between classes](#section_3_1)\n",
    "   * [Using Class_Weight:LogisticRegression](#section_3_2)\n",
    "       * [RFC](#section_3_3)\n",
    "       * [CatBoost](#section_3_4)\n",
    "       * [ANN](#section_3_5)  \n",
    "       \n",
    "   * [Upsampling](#section_3_6)\n",
    "       * [LogisticRegression](#section_3_7)\n",
    "       * [RFC](#section_3_8)\n",
    "       * [CatBoost](#section_3_9)\n",
    "       * [ANN](#section_3_10)\n",
    "   * [Downsampling](#section_3_11)\n",
    "       * [LogisticRegression](#section_3_12)\n",
    "       * [RFC](#section_3_13)\n",
    "       * [CatBoost](#section_3_14)\n",
    "       * [ANN](#section_3_15) \n",
    "   * [Changing Threshold](#section_3_16)\n",
    "       * [LogisticRegression](#section_3_17)\n",
    "       * [RFC](#section_3_18)\n",
    "   * [Hyperparameters tuning](#section_3_19)\n",
    "       * [RFC](#section_3_20)\n",
    "       * [CatBoost](#section_3_21)\n",
    "       \n",
    "       \n",
    " * [Models final testing and validation](#chapter4)\n",
    "    * [RFC](#section_4_1)\n",
    "    * [CatBoost](#section_4_2)\n",
    "    * [Conclusions](#section_4_3)"
   ]
  },
  {
   "cell_type": "markdown",
   "metadata": {},
   "source": [
    "<a class=\"anchor\" id=\"chapter1\"></a>"
   ]
  },
  {
   "cell_type": "markdown",
   "metadata": {},
   "source": [
    "<div class=\"alert alert-info\" style=\"background-color:#006a79; color:white; padding:0px 10px; border-radius:5px;\"><h2 style='margin:10px 5px'>Load, overview and prepare the data</h2>\n",
    "</div>"
   ]
  },
  {
   "cell_type": "code",
   "execution_count": 1,
   "metadata": {},
   "outputs": [
    {
     "name": "stdout",
     "output_type": "stream",
     "text": [
      "Defaulting to user installation because normal site-packages is not writeable\n",
      "Collecting scikit-learn\n",
      "  Downloading scikit_learn-1.0-cp37-cp37m-manylinux_2_12_x86_64.manylinux2010_x86_64.whl (23.1 MB)\n",
      "\u001b[K     |████████████████████████████████| 23.1 MB 5.8 kB/s ta 0:00:015\n",
      "\u001b[?25hRequirement already satisfied, skipping upgrade: scipy>=1.1.0 in /opt/conda/lib/python3.7/site-packages (from scikit-learn) (1.4.1)\n",
      "Requirement already satisfied, skipping upgrade: joblib>=0.11 in /opt/conda/lib/python3.7/site-packages (from scikit-learn) (1.0.1)\n",
      "Requirement already satisfied, skipping upgrade: numpy>=1.14.6 in /opt/conda/lib/python3.7/site-packages (from scikit-learn) (1.19.5)\n",
      "Collecting threadpoolctl>=2.0.0\n",
      "  Downloading threadpoolctl-3.0.0-py3-none-any.whl (14 kB)\n",
      "Installing collected packages: threadpoolctl, scikit-learn\n",
      "Successfully installed scikit-learn-1.0 threadpoolctl-3.0.0\n"
     ]
    }
   ],
   "source": [
    "!pip install -U scikit-learn"
   ]
  },
  {
   "cell_type": "code",
   "execution_count": 2,
   "metadata": {},
   "outputs": [
    {
     "name": "stdout",
     "output_type": "stream",
     "text": [
      "Defaulting to user installation because normal site-packages is not writeable\n",
      "Collecting fast_ml\n",
      "  Downloading fast_ml-3.68-py3-none-any.whl (42 kB)\n",
      "\u001b[K     |████████████████████████████████| 42 kB 200 kB/s eta 0:00:01\n",
      "\u001b[?25hInstalling collected packages: fast-ml\n",
      "Successfully installed fast-ml-3.68\n"
     ]
    }
   ],
   "source": [
    "!pip install fast_ml"
   ]
  },
  {
   "cell_type": "code",
   "execution_count": 3,
   "metadata": {},
   "outputs": [
    {
     "name": "stdout",
     "output_type": "stream",
     "text": [
      "Defaulting to user installation because normal site-packages is not writeable\n",
      "Collecting seaborn\n",
      "  Downloading seaborn-0.11.2-py3-none-any.whl (292 kB)\n",
      "\u001b[K     |████████████████████████████████| 292 kB 1.3 MB/s eta 0:00:01\n",
      "\u001b[?25hRequirement already satisfied, skipping upgrade: pandas>=0.23 in /opt/conda/lib/python3.7/site-packages (from seaborn) (0.25.1)\n",
      "Requirement already satisfied, skipping upgrade: scipy>=1.0 in /opt/conda/lib/python3.7/site-packages (from seaborn) (1.4.1)\n",
      "Requirement already satisfied, skipping upgrade: numpy>=1.15 in /opt/conda/lib/python3.7/site-packages (from seaborn) (1.19.5)\n",
      "Requirement already satisfied, skipping upgrade: matplotlib>=2.2 in /opt/conda/lib/python3.7/site-packages (from seaborn) (3.1.0)\n",
      "Requirement already satisfied, skipping upgrade: pytz>=2017.2 in /opt/conda/lib/python3.7/site-packages (from pandas>=0.23->seaborn) (2021.1)\n",
      "Requirement already satisfied, skipping upgrade: python-dateutil>=2.6.1 in /opt/conda/lib/python3.7/site-packages (from pandas>=0.23->seaborn) (2.8.1)\n",
      "Requirement already satisfied, skipping upgrade: pyparsing!=2.0.4,!=2.1.2,!=2.1.6,>=2.0.1 in /opt/conda/lib/python3.7/site-packages (from matplotlib>=2.2->seaborn) (2.4.7)\n",
      "Requirement already satisfied, skipping upgrade: kiwisolver>=1.0.1 in /opt/conda/lib/python3.7/site-packages (from matplotlib>=2.2->seaborn) (1.3.1)\n",
      "Requirement already satisfied, skipping upgrade: cycler>=0.10 in /opt/conda/lib/python3.7/site-packages (from matplotlib>=2.2->seaborn) (0.10.0)\n",
      "Requirement already satisfied, skipping upgrade: six>=1.5 in /opt/conda/lib/python3.7/site-packages (from python-dateutil>=2.6.1->pandas>=0.23->seaborn) (1.15.0)\n",
      "Installing collected packages: seaborn\n",
      "Successfully installed seaborn-0.11.2\n"
     ]
    }
   ],
   "source": [
    "!pip install seaborn --upgrade"
   ]
  },
  {
   "cell_type": "markdown",
   "metadata": {},
   "source": [
    "Import libraries:"
   ]
  },
  {
   "cell_type": "code",
   "execution_count": 4,
   "metadata": {},
   "outputs": [],
   "source": [
    "import pandas as pd\n",
    "import numpy as np\n",
    "from numpy import mean\n",
    "from numpy import std\n",
    "%matplotlib inline\n",
    "import matplotlib.pyplot as plt\n",
    "import seaborn as sns\n",
    "from sklearn.linear_model import LogisticRegression\n",
    "from sklearn.ensemble import RandomForestClassifier\n",
    "from sklearn.metrics import f1_score, roc_auc_score, roc_curve, precision_score, recall_score, plot_confusion_matrix\n",
    "from sklearn.metrics import precision_recall_curve, accuracy_score\n",
    "from catboost import CatBoostClassifier\n",
    "from sklearn.preprocessing import StandardScaler\n",
    "from sklearn.preprocessing import OneHotEncoder\n",
    "from sklearn.model_selection import train_test_split, GridSearchCV\n",
    "from catboost import Pool, cv\n",
    "from sklearn.utils import shuffle\n",
    "from sklearn.impute import SimpleImputer\n",
    "from sklearn.impute import KNNImputer\n",
    "from sklearn.model_selection import cross_val_score\n",
    "from sklearn.model_selection import RepeatedStratifiedKFold\n",
    "from sklearn.pipeline import Pipeline\n",
    "from matplotlib import pyplot\n",
    "from catboost import CatBoostClassifier\n",
    "from catboost import Pool, cv\n",
    "import tensorflow as tf\n",
    "from sklearn.metrics import confusion_matrix, classification_report\n",
    "from scipy import stats\n",
    "#from scipy.stats import norm, boxcox\n",
    "from sklearn.utils import class_weight\n",
    "from sklearn.experimental import enable_halving_search_cv \n",
    "from sklearn.model_selection import HalvingGridSearchCV\n",
    "import tensorflow.keras.backend as K\n",
    "import warnings\n",
    "warnings.filterwarnings(\"ignore\")"
   ]
  },
  {
   "cell_type": "code",
   "execution_count": 5,
   "metadata": {},
   "outputs": [],
   "source": [
    "plt.rcParams[\"figure.figsize\"] = (13, 7)"
   ]
  },
  {
   "cell_type": "markdown",
   "metadata": {},
   "source": [
    "make a try-except block in order to avoid file path error when working both locally and remotely."
   ]
  },
  {
   "cell_type": "code",
   "execution_count": 6,
   "metadata": {},
   "outputs": [],
   "source": [
    "try:\n",
    "    df = pd.read_csv('Churn.csv')\n",
    "except:\n",
    "    df = pd.read_csv('/datasets/Churn.csv')"
   ]
  },
  {
   "cell_type": "markdown",
   "metadata": {},
   "source": [
    "Check the table's first 5 rows to see the general information."
   ]
  },
  {
   "cell_type": "code",
   "execution_count": 7,
   "metadata": {},
   "outputs": [
    {
     "data": {
      "text/html": [
       "<div>\n",
       "<style scoped>\n",
       "    .dataframe tbody tr th:only-of-type {\n",
       "        vertical-align: middle;\n",
       "    }\n",
       "\n",
       "    .dataframe tbody tr th {\n",
       "        vertical-align: top;\n",
       "    }\n",
       "\n",
       "    .dataframe thead th {\n",
       "        text-align: right;\n",
       "    }\n",
       "</style>\n",
       "<table border=\"1\" class=\"dataframe\">\n",
       "  <thead>\n",
       "    <tr style=\"text-align: right;\">\n",
       "      <th></th>\n",
       "      <th>RowNumber</th>\n",
       "      <th>CustomerId</th>\n",
       "      <th>Surname</th>\n",
       "      <th>CreditScore</th>\n",
       "      <th>Geography</th>\n",
       "      <th>Gender</th>\n",
       "      <th>Age</th>\n",
       "      <th>Tenure</th>\n",
       "      <th>Balance</th>\n",
       "      <th>NumOfProducts</th>\n",
       "      <th>HasCrCard</th>\n",
       "      <th>IsActiveMember</th>\n",
       "      <th>EstimatedSalary</th>\n",
       "      <th>Exited</th>\n",
       "    </tr>\n",
       "  </thead>\n",
       "  <tbody>\n",
       "    <tr>\n",
       "      <td>0</td>\n",
       "      <td>1</td>\n",
       "      <td>15634602</td>\n",
       "      <td>Hargrave</td>\n",
       "      <td>619</td>\n",
       "      <td>France</td>\n",
       "      <td>Female</td>\n",
       "      <td>42</td>\n",
       "      <td>2.0</td>\n",
       "      <td>0.00</td>\n",
       "      <td>1</td>\n",
       "      <td>1</td>\n",
       "      <td>1</td>\n",
       "      <td>101348.88</td>\n",
       "      <td>1</td>\n",
       "    </tr>\n",
       "    <tr>\n",
       "      <td>1</td>\n",
       "      <td>2</td>\n",
       "      <td>15647311</td>\n",
       "      <td>Hill</td>\n",
       "      <td>608</td>\n",
       "      <td>Spain</td>\n",
       "      <td>Female</td>\n",
       "      <td>41</td>\n",
       "      <td>1.0</td>\n",
       "      <td>83807.86</td>\n",
       "      <td>1</td>\n",
       "      <td>0</td>\n",
       "      <td>1</td>\n",
       "      <td>112542.58</td>\n",
       "      <td>0</td>\n",
       "    </tr>\n",
       "    <tr>\n",
       "      <td>2</td>\n",
       "      <td>3</td>\n",
       "      <td>15619304</td>\n",
       "      <td>Onio</td>\n",
       "      <td>502</td>\n",
       "      <td>France</td>\n",
       "      <td>Female</td>\n",
       "      <td>42</td>\n",
       "      <td>8.0</td>\n",
       "      <td>159660.80</td>\n",
       "      <td>3</td>\n",
       "      <td>1</td>\n",
       "      <td>0</td>\n",
       "      <td>113931.57</td>\n",
       "      <td>1</td>\n",
       "    </tr>\n",
       "    <tr>\n",
       "      <td>3</td>\n",
       "      <td>4</td>\n",
       "      <td>15701354</td>\n",
       "      <td>Boni</td>\n",
       "      <td>699</td>\n",
       "      <td>France</td>\n",
       "      <td>Female</td>\n",
       "      <td>39</td>\n",
       "      <td>1.0</td>\n",
       "      <td>0.00</td>\n",
       "      <td>2</td>\n",
       "      <td>0</td>\n",
       "      <td>0</td>\n",
       "      <td>93826.63</td>\n",
       "      <td>0</td>\n",
       "    </tr>\n",
       "    <tr>\n",
       "      <td>4</td>\n",
       "      <td>5</td>\n",
       "      <td>15737888</td>\n",
       "      <td>Mitchell</td>\n",
       "      <td>850</td>\n",
       "      <td>Spain</td>\n",
       "      <td>Female</td>\n",
       "      <td>43</td>\n",
       "      <td>2.0</td>\n",
       "      <td>125510.82</td>\n",
       "      <td>1</td>\n",
       "      <td>1</td>\n",
       "      <td>1</td>\n",
       "      <td>79084.10</td>\n",
       "      <td>0</td>\n",
       "    </tr>\n",
       "  </tbody>\n",
       "</table>\n",
       "</div>"
      ],
      "text/plain": [
       "   RowNumber  CustomerId   Surname  CreditScore Geography  Gender  Age  \\\n",
       "0          1    15634602  Hargrave          619    France  Female   42   \n",
       "1          2    15647311      Hill          608     Spain  Female   41   \n",
       "2          3    15619304      Onio          502    France  Female   42   \n",
       "3          4    15701354      Boni          699    France  Female   39   \n",
       "4          5    15737888  Mitchell          850     Spain  Female   43   \n",
       "\n",
       "   Tenure    Balance  NumOfProducts  HasCrCard  IsActiveMember  \\\n",
       "0     2.0       0.00              1          1               1   \n",
       "1     1.0   83807.86              1          0               1   \n",
       "2     8.0  159660.80              3          1               0   \n",
       "3     1.0       0.00              2          0               0   \n",
       "4     2.0  125510.82              1          1               1   \n",
       "\n",
       "   EstimatedSalary  Exited  \n",
       "0        101348.88       1  \n",
       "1        112542.58       0  \n",
       "2        113931.57       1  \n",
       "3         93826.63       0  \n",
       "4         79084.10       0  "
      ]
     },
     "execution_count": 7,
     "metadata": {},
     "output_type": "execute_result"
    }
   ],
   "source": [
    "df.head()"
   ]
  },
  {
   "cell_type": "markdown",
   "metadata": {},
   "source": [
    "We will lower-case our columns names for convinience"
   ]
  },
  {
   "cell_type": "code",
   "execution_count": 8,
   "metadata": {},
   "outputs": [],
   "source": [
    "df.columns = df.columns.str.lower()"
   ]
  },
  {
   "cell_type": "markdown",
   "metadata": {},
   "source": [
    "We will create and use another df without  columns rownumber, customerid and surname as they are not useful and can misslead our future model."
   ]
  },
  {
   "cell_type": "code",
   "execution_count": 9,
   "metadata": {},
   "outputs": [],
   "source": [
    "df_new = df.drop(['rownumber', 'customerid', 'surname'], axis=1).copy()"
   ]
  },
  {
   "cell_type": "markdown",
   "metadata": {},
   "source": [
    "before any steps of preprocessing will be taken we will split to train-valid-test sets to simulate a truely unseen new data.\n",
    "60-20-20 ratio (train,valid,test)"
   ]
  },
  {
   "cell_type": "code",
   "execution_count": 10,
   "metadata": {},
   "outputs": [],
   "source": [
    "target = df_new['exited']\n",
    "features = df_new.drop('exited', axis=1)\n",
    "\n",
    "X_train, X_test, y_train, y_test = train_test_split(features, target,\n",
    "                                                    test_size=0.2,\n",
    "                                                    stratify=target,\n",
    "                                                    random_state=42)\n",
    "\n",
    "X_train, X_valid, y_train, y_valid = train_test_split(X_train, y_train,\n",
    "                                                      test_size=0.25,\n",
    "                                                      stratify=y_train,\n",
    "                                                      random_state=42)"
   ]
  },
  {
   "cell_type": "markdown",
   "metadata": {},
   "source": [
    "printing the shapes of our created sets:"
   ]
  },
  {
   "cell_type": "code",
   "execution_count": 11,
   "metadata": {},
   "outputs": [
    {
     "name": "stdout",
     "output_type": "stream",
     "text": [
      "Train set\n",
      "(6000, 10)\n",
      "(6000,)\n",
      "\n",
      "Validation set\n",
      "(2000, 10)\n",
      "(2000,)\n",
      "\n",
      "Test set\n",
      "(2000, 10)\n",
      "(2000,)\n"
     ]
    }
   ],
   "source": [
    "print('Train set')\n",
    "print(X_train.shape), print(y_train.shape)\n",
    "print('\\nValidation set')\n",
    "print(X_valid.shape), print(y_valid.shape)\n",
    "print('\\nTest set')\n",
    "print(X_test.shape), print(y_test.shape);"
   ]
  },
  {
   "cell_type": "markdown",
   "metadata": {},
   "source": [
    "Check the table's general structure"
   ]
  },
  {
   "cell_type": "code",
   "execution_count": 12,
   "metadata": {},
   "outputs": [
    {
     "name": "stdout",
     "output_type": "stream",
     "text": [
      "<class 'pandas.core.frame.DataFrame'>\n",
      "Int64Index: 6000 entries, 1995 to 1215\n",
      "Data columns (total 10 columns):\n",
      "creditscore        6000 non-null int64\n",
      "geography          6000 non-null object\n",
      "gender             6000 non-null object\n",
      "age                6000 non-null int64\n",
      "tenure             5451 non-null float64\n",
      "balance            6000 non-null float64\n",
      "numofproducts      6000 non-null int64\n",
      "hascrcard          6000 non-null int64\n",
      "isactivemember     6000 non-null int64\n",
      "estimatedsalary    6000 non-null float64\n",
      "dtypes: float64(3), int64(5), object(2)\n",
      "memory usage: 515.6+ KB\n"
     ]
    }
   ],
   "source": [
    "X_train.info()"
   ]
  },
  {
   "cell_type": "markdown",
   "metadata": {},
   "source": [
    "We already see we have missing values in tenure column, which will be taken care of."
   ]
  },
  {
   "cell_type": "markdown",
   "metadata": {},
   "source": [
    "Checking for missing values and duplicates:"
   ]
  },
  {
   "cell_type": "code",
   "execution_count": 13,
   "metadata": {},
   "outputs": [
    {
     "data": {
      "text/plain": [
       "creditscore          0\n",
       "geography            0\n",
       "gender               0\n",
       "age                  0\n",
       "tenure             549\n",
       "balance              0\n",
       "numofproducts        0\n",
       "hascrcard            0\n",
       "isactivemember       0\n",
       "estimatedsalary      0\n",
       "dtype: int64"
      ]
     },
     "execution_count": 13,
     "metadata": {},
     "output_type": "execute_result"
    }
   ],
   "source": [
    "X_train.isna().sum()"
   ]
  },
  {
   "cell_type": "code",
   "execution_count": 14,
   "metadata": {},
   "outputs": [
    {
     "data": {
      "text/plain": [
       "0"
      ]
     },
     "execution_count": 14,
     "metadata": {},
     "output_type": "execute_result"
    }
   ],
   "source": [
    "X_train.duplicated().sum()"
   ]
  },
  {
   "cell_type": "markdown",
   "metadata": {},
   "source": [
    "We have 549 rows with missing value for tenure, and we have no duplicates in our train data.\n",
    "\n",
    "- we can assume tenure value might be missing for new clients in the bank, as it represents how long the clients are clients.\n",
    "- we will check the exited value for those rows with missing tenure value to see if there is any difference from the total ratio"
   ]
  },
  {
   "cell_type": "markdown",
   "metadata": {},
   "source": [
    "checking the exited distribution in % in rows with missing tenure value "
   ]
  },
  {
   "cell_type": "code",
   "execution_count": 15,
   "metadata": {},
   "outputs": [
    {
     "data": {
      "text/plain": [
       "0    79.867987\n",
       "1    20.132013\n",
       "Name: exited, dtype: float64"
      ]
     },
     "execution_count": 15,
     "metadata": {},
     "output_type": "execute_result"
    }
   ],
   "source": [
    "df_new[df_new.isna().any(axis=1)].exited.value_counts(normalize=True)*100"
   ]
  },
  {
   "cell_type": "markdown",
   "metadata": {},
   "source": [
    "checking the exited distribution in % in all rows"
   ]
  },
  {
   "cell_type": "code",
   "execution_count": 16,
   "metadata": {},
   "outputs": [
    {
     "data": {
      "text/plain": [
       "0    79.63\n",
       "1    20.37\n",
       "Name: exited, dtype: float64"
      ]
     },
     "execution_count": 16,
     "metadata": {},
     "output_type": "execute_result"
    }
   ],
   "source": [
    "df_new.exited.value_counts(normalize=True)*100"
   ]
  },
  {
   "cell_type": "markdown",
   "metadata": {},
   "source": [
    "##### Conclusion:\n",
    "the ratio is nearly the same, and the missing tenure value didnt affect it."
   ]
  },
  {
   "cell_type": "markdown",
   "metadata": {},
   "source": [
    "checking the table's initial statistics:"
   ]
  },
  {
   "cell_type": "code",
   "execution_count": 17,
   "metadata": {},
   "outputs": [
    {
     "data": {
      "text/html": [
       "<div>\n",
       "<style scoped>\n",
       "    .dataframe tbody tr th:only-of-type {\n",
       "        vertical-align: middle;\n",
       "    }\n",
       "\n",
       "    .dataframe tbody tr th {\n",
       "        vertical-align: top;\n",
       "    }\n",
       "\n",
       "    .dataframe thead th {\n",
       "        text-align: right;\n",
       "    }\n",
       "</style>\n",
       "<table border=\"1\" class=\"dataframe\">\n",
       "  <thead>\n",
       "    <tr style=\"text-align: right;\">\n",
       "      <th></th>\n",
       "      <th>creditscore</th>\n",
       "      <th>age</th>\n",
       "      <th>tenure</th>\n",
       "      <th>balance</th>\n",
       "      <th>numofproducts</th>\n",
       "      <th>hascrcard</th>\n",
       "      <th>isactivemember</th>\n",
       "      <th>estimatedsalary</th>\n",
       "    </tr>\n",
       "  </thead>\n",
       "  <tbody>\n",
       "    <tr>\n",
       "      <td>count</td>\n",
       "      <td>6000.000000</td>\n",
       "      <td>6000.000000</td>\n",
       "      <td>5451.000000</td>\n",
       "      <td>6000.000000</td>\n",
       "      <td>6000.000000</td>\n",
       "      <td>6000.000000</td>\n",
       "      <td>6000.000000</td>\n",
       "      <td>6000.000000</td>\n",
       "    </tr>\n",
       "    <tr>\n",
       "      <td>mean</td>\n",
       "      <td>651.102500</td>\n",
       "      <td>38.959667</td>\n",
       "      <td>5.000367</td>\n",
       "      <td>77261.098155</td>\n",
       "      <td>1.533833</td>\n",
       "      <td>0.709667</td>\n",
       "      <td>0.515500</td>\n",
       "      <td>99452.181700</td>\n",
       "    </tr>\n",
       "    <tr>\n",
       "      <td>std</td>\n",
       "      <td>96.645467</td>\n",
       "      <td>10.482144</td>\n",
       "      <td>2.914500</td>\n",
       "      <td>62284.911851</td>\n",
       "      <td>0.584733</td>\n",
       "      <td>0.453954</td>\n",
       "      <td>0.499801</td>\n",
       "      <td>57283.092853</td>\n",
       "    </tr>\n",
       "    <tr>\n",
       "      <td>min</td>\n",
       "      <td>350.000000</td>\n",
       "      <td>18.000000</td>\n",
       "      <td>0.000000</td>\n",
       "      <td>0.000000</td>\n",
       "      <td>1.000000</td>\n",
       "      <td>0.000000</td>\n",
       "      <td>0.000000</td>\n",
       "      <td>90.070000</td>\n",
       "    </tr>\n",
       "    <tr>\n",
       "      <td>25%</td>\n",
       "      <td>584.000000</td>\n",
       "      <td>32.000000</td>\n",
       "      <td>2.000000</td>\n",
       "      <td>0.000000</td>\n",
       "      <td>1.000000</td>\n",
       "      <td>0.000000</td>\n",
       "      <td>0.000000</td>\n",
       "      <td>50691.817500</td>\n",
       "    </tr>\n",
       "    <tr>\n",
       "      <td>50%</td>\n",
       "      <td>652.000000</td>\n",
       "      <td>37.000000</td>\n",
       "      <td>5.000000</td>\n",
       "      <td>97757.240000</td>\n",
       "      <td>1.000000</td>\n",
       "      <td>1.000000</td>\n",
       "      <td>1.000000</td>\n",
       "      <td>99107.435000</td>\n",
       "    </tr>\n",
       "    <tr>\n",
       "      <td>75%</td>\n",
       "      <td>717.000000</td>\n",
       "      <td>44.000000</td>\n",
       "      <td>8.000000</td>\n",
       "      <td>128293.950000</td>\n",
       "      <td>2.000000</td>\n",
       "      <td>1.000000</td>\n",
       "      <td>1.000000</td>\n",
       "      <td>147891.152500</td>\n",
       "    </tr>\n",
       "    <tr>\n",
       "      <td>max</td>\n",
       "      <td>850.000000</td>\n",
       "      <td>92.000000</td>\n",
       "      <td>10.000000</td>\n",
       "      <td>238387.560000</td>\n",
       "      <td>4.000000</td>\n",
       "      <td>1.000000</td>\n",
       "      <td>1.000000</td>\n",
       "      <td>199992.480000</td>\n",
       "    </tr>\n",
       "  </tbody>\n",
       "</table>\n",
       "</div>"
      ],
      "text/plain": [
       "       creditscore          age       tenure        balance  numofproducts  \\\n",
       "count  6000.000000  6000.000000  5451.000000    6000.000000    6000.000000   \n",
       "mean    651.102500    38.959667     5.000367   77261.098155       1.533833   \n",
       "std      96.645467    10.482144     2.914500   62284.911851       0.584733   \n",
       "min     350.000000    18.000000     0.000000       0.000000       1.000000   \n",
       "25%     584.000000    32.000000     2.000000       0.000000       1.000000   \n",
       "50%     652.000000    37.000000     5.000000   97757.240000       1.000000   \n",
       "75%     717.000000    44.000000     8.000000  128293.950000       2.000000   \n",
       "max     850.000000    92.000000    10.000000  238387.560000       4.000000   \n",
       "\n",
       "         hascrcard  isactivemember  estimatedsalary  \n",
       "count  6000.000000     6000.000000      6000.000000  \n",
       "mean      0.709667        0.515500     99452.181700  \n",
       "std       0.453954        0.499801     57283.092853  \n",
       "min       0.000000        0.000000        90.070000  \n",
       "25%       0.000000        0.000000     50691.817500  \n",
       "50%       1.000000        1.000000     99107.435000  \n",
       "75%       1.000000        1.000000    147891.152500  \n",
       "max       1.000000        1.000000    199992.480000  "
      ]
     },
     "execution_count": 17,
     "metadata": {},
     "output_type": "execute_result"
    }
   ],
   "source": [
    "X_train.describe()"
   ]
  },
  {
   "cell_type": "markdown",
   "metadata": {},
   "source": [
    "the table's numeric features correlations:"
   ]
  },
  {
   "cell_type": "code",
   "execution_count": 18,
   "metadata": {},
   "outputs": [
    {
     "data": {
      "text/html": [
       "<div>\n",
       "<style scoped>\n",
       "    .dataframe tbody tr th:only-of-type {\n",
       "        vertical-align: middle;\n",
       "    }\n",
       "\n",
       "    .dataframe tbody tr th {\n",
       "        vertical-align: top;\n",
       "    }\n",
       "\n",
       "    .dataframe thead th {\n",
       "        text-align: right;\n",
       "    }\n",
       "</style>\n",
       "<table border=\"1\" class=\"dataframe\">\n",
       "  <thead>\n",
       "    <tr style=\"text-align: right;\">\n",
       "      <th></th>\n",
       "      <th>creditscore</th>\n",
       "      <th>age</th>\n",
       "      <th>tenure</th>\n",
       "      <th>balance</th>\n",
       "      <th>numofproducts</th>\n",
       "      <th>hascrcard</th>\n",
       "      <th>isactivemember</th>\n",
       "      <th>estimatedsalary</th>\n",
       "    </tr>\n",
       "  </thead>\n",
       "  <tbody>\n",
       "    <tr>\n",
       "      <td>creditscore</td>\n",
       "      <td>1.000000</td>\n",
       "      <td>-0.000656</td>\n",
       "      <td>-0.000703</td>\n",
       "      <td>0.003504</td>\n",
       "      <td>0.015140</td>\n",
       "      <td>0.011097</td>\n",
       "      <td>0.025865</td>\n",
       "      <td>-0.006970</td>\n",
       "    </tr>\n",
       "    <tr>\n",
       "      <td>age</td>\n",
       "      <td>-0.000656</td>\n",
       "      <td>1.000000</td>\n",
       "      <td>-0.010336</td>\n",
       "      <td>0.029234</td>\n",
       "      <td>-0.030618</td>\n",
       "      <td>-0.016439</td>\n",
       "      <td>0.082974</td>\n",
       "      <td>0.000158</td>\n",
       "    </tr>\n",
       "    <tr>\n",
       "      <td>tenure</td>\n",
       "      <td>-0.000703</td>\n",
       "      <td>-0.010336</td>\n",
       "      <td>1.000000</td>\n",
       "      <td>-0.014802</td>\n",
       "      <td>0.017600</td>\n",
       "      <td>0.026953</td>\n",
       "      <td>-0.023308</td>\n",
       "      <td>0.022184</td>\n",
       "    </tr>\n",
       "    <tr>\n",
       "      <td>balance</td>\n",
       "      <td>0.003504</td>\n",
       "      <td>0.029234</td>\n",
       "      <td>-0.014802</td>\n",
       "      <td>1.000000</td>\n",
       "      <td>-0.305426</td>\n",
       "      <td>-0.012615</td>\n",
       "      <td>0.002635</td>\n",
       "      <td>0.023947</td>\n",
       "    </tr>\n",
       "    <tr>\n",
       "      <td>numofproducts</td>\n",
       "      <td>0.015140</td>\n",
       "      <td>-0.030618</td>\n",
       "      <td>0.017600</td>\n",
       "      <td>-0.305426</td>\n",
       "      <td>1.000000</td>\n",
       "      <td>0.004357</td>\n",
       "      <td>0.010183</td>\n",
       "      <td>0.013309</td>\n",
       "    </tr>\n",
       "    <tr>\n",
       "      <td>hascrcard</td>\n",
       "      <td>0.011097</td>\n",
       "      <td>-0.016439</td>\n",
       "      <td>0.026953</td>\n",
       "      <td>-0.012615</td>\n",
       "      <td>0.004357</td>\n",
       "      <td>1.000000</td>\n",
       "      <td>-0.011020</td>\n",
       "      <td>-0.023134</td>\n",
       "    </tr>\n",
       "    <tr>\n",
       "      <td>isactivemember</td>\n",
       "      <td>0.025865</td>\n",
       "      <td>0.082974</td>\n",
       "      <td>-0.023308</td>\n",
       "      <td>0.002635</td>\n",
       "      <td>0.010183</td>\n",
       "      <td>-0.011020</td>\n",
       "      <td>1.000000</td>\n",
       "      <td>-0.013913</td>\n",
       "    </tr>\n",
       "    <tr>\n",
       "      <td>estimatedsalary</td>\n",
       "      <td>-0.006970</td>\n",
       "      <td>0.000158</td>\n",
       "      <td>0.022184</td>\n",
       "      <td>0.023947</td>\n",
       "      <td>0.013309</td>\n",
       "      <td>-0.023134</td>\n",
       "      <td>-0.013913</td>\n",
       "      <td>1.000000</td>\n",
       "    </tr>\n",
       "  </tbody>\n",
       "</table>\n",
       "</div>"
      ],
      "text/plain": [
       "                 creditscore       age    tenure   balance  numofproducts  \\\n",
       "creditscore         1.000000 -0.000656 -0.000703  0.003504       0.015140   \n",
       "age                -0.000656  1.000000 -0.010336  0.029234      -0.030618   \n",
       "tenure             -0.000703 -0.010336  1.000000 -0.014802       0.017600   \n",
       "balance             0.003504  0.029234 -0.014802  1.000000      -0.305426   \n",
       "numofproducts       0.015140 -0.030618  0.017600 -0.305426       1.000000   \n",
       "hascrcard           0.011097 -0.016439  0.026953 -0.012615       0.004357   \n",
       "isactivemember      0.025865  0.082974 -0.023308  0.002635       0.010183   \n",
       "estimatedsalary    -0.006970  0.000158  0.022184  0.023947       0.013309   \n",
       "\n",
       "                 hascrcard  isactivemember  estimatedsalary  \n",
       "creditscore       0.011097        0.025865        -0.006970  \n",
       "age              -0.016439        0.082974         0.000158  \n",
       "tenure            0.026953       -0.023308         0.022184  \n",
       "balance          -0.012615        0.002635         0.023947  \n",
       "numofproducts     0.004357        0.010183         0.013309  \n",
       "hascrcard         1.000000       -0.011020        -0.023134  \n",
       "isactivemember   -0.011020        1.000000        -0.013913  \n",
       "estimatedsalary  -0.023134       -0.013913         1.000000  "
      ]
     },
     "execution_count": 18,
     "metadata": {},
     "output_type": "execute_result"
    }
   ],
   "source": [
    "X_train.corr()"
   ]
  },
  {
   "cell_type": "markdown",
   "metadata": {},
   "source": [
    "plotting our corr table for easier understanding"
   ]
  },
  {
   "cell_type": "code",
   "execution_count": 19,
   "metadata": {},
   "outputs": [
    {
     "data": {
      "image/png": "[encoded data removed]",
      "text/plain": [
       "<Figure size 1152x432 with 2 Axes>"
      ]
     },
     "metadata": {
      "needs_background": "light"
     },
     "output_type": "display_data"
    }
   ],
   "source": [
    "plt.figure(figsize=(16, 6))\n",
    "heatmap = sns.heatmap(X_train.corr(), vmin=-1, vmax=1, annot=True, cmap='BrBG')\n",
    "heatmap.set_title('Correlation Heatmap', fontdict={'fontsize':18}, pad=12);"
   ]
  },
  {
   "cell_type": "markdown",
   "metadata": {},
   "source": [
    "#### Description:\n",
    "this heatmap shows the correlation between numeric features in our dataset.\n",
    "- The strongest correlation (negative corr) is between balance and numofproducts, with value of -0.3.\n",
    "- We can see tenure (our feature with missing values) doesnt correlate with any feature, as that could have been a way to impute its missing values."
   ]
  },
  {
   "cell_type": "markdown",
   "metadata": {},
   "source": [
    "Checking the age distribution for exit status (our target)"
   ]
  },
  {
   "cell_type": "code",
   "execution_count": 20,
   "metadata": {},
   "outputs": [
    {
     "data": {
      "image/png": "[encoded data removed]",
      "text/plain": [
       "<Figure size 936x504 with 1 Axes>"
      ]
     },
     "metadata": {
      "needs_background": "light"
     },
     "output_type": "display_data"
    }
   ],
   "source": [
    "exited = df_new.query('exited == 1')\n",
    "no_exited = df_new.query('exited == 0')\n",
    "\n",
    "plt.hist(data = no_exited, x = 'age', alpha = 0.8, bins = 10, label = 'no_exit')\n",
    "plt.hist(data = exited, x = 'age', alpha = 0.8, bins = 10, label = 'exit')\n",
    "plt.xlim(df_new.age.min(), df_new.age.max())\n",
    "plt.legend()\n",
    "plt.title('age distribution for exit status')\n",
    "plt.xlabel('age')\n",
    "plt.ylabel('count');"
   ]
  },
  {
   "cell_type": "markdown",
   "metadata": {},
   "source": [
    "#### Description:\n",
    "this graph shows the age distribution for the exit status.\n",
    "- The relative amount of customers exiting surpasses the amount of customers that doesnt exit around the age of 50.\n",
    "- we can already tell our classes are imbalanced by the amount of no_exit to exit"
   ]
  },
  {
   "cell_type": "markdown",
   "metadata": {},
   "source": [
    "We will encode and scale our data before we imputing missing values to be able to compare several imputing methods"
   ]
  },
  {
   "cell_type": "markdown",
   "metadata": {},
   "source": [
    "<a class=\"anchor\" id=\"section_1_1\"></a>"
   ]
  },
  {
   "cell_type": "markdown",
   "metadata": {},
   "source": [
    "### Encoding categorical features"
   ]
  },
  {
   "cell_type": "markdown",
   "metadata": {},
   "source": [
    "checking the categorical features"
   ]
  },
  {
   "cell_type": "code",
   "execution_count": 21,
   "metadata": {},
   "outputs": [
    {
     "data": {
      "text/plain": [
       "France     2980\n",
       "Spain      1516\n",
       "Germany    1504\n",
       "Name: geography, dtype: int64"
      ]
     },
     "execution_count": 21,
     "metadata": {},
     "output_type": "execute_result"
    }
   ],
   "source": [
    "X_train['geography'].value_counts()"
   ]
  },
  {
   "cell_type": "code",
   "execution_count": 22,
   "metadata": {},
   "outputs": [
    {
     "data": {
      "text/plain": [
       "Male      3276\n",
       "Female    2724\n",
       "Name: gender, dtype: int64"
      ]
     },
     "execution_count": 22,
     "metadata": {},
     "output_type": "execute_result"
    }
   ],
   "source": [
    "X_train['gender'].value_counts()"
   ]
  },
  {
   "cell_type": "markdown",
   "metadata": {},
   "source": [
    "encoding using OHE and watching the newly created columns:"
   ]
  },
  {
   "cell_type": "markdown",
   "metadata": {},
   "source": [
    "(in this case it is fine to use pandas to perform OHE, but generally its better to use sklearn's OneHotEncoder)"
   ]
  },
  {
   "cell_type": "code",
   "execution_count": 23,
   "metadata": {},
   "outputs": [
    {
     "data": {
      "text/html": [
       "<div>\n",
       "<style scoped>\n",
       "    .dataframe tbody tr th:only-of-type {\n",
       "        vertical-align: middle;\n",
       "    }\n",
       "\n",
       "    .dataframe tbody tr th {\n",
       "        vertical-align: top;\n",
       "    }\n",
       "\n",
       "    .dataframe thead th {\n",
       "        text-align: right;\n",
       "    }\n",
       "</style>\n",
       "<table border=\"1\" class=\"dataframe\">\n",
       "  <thead>\n",
       "    <tr style=\"text-align: right;\">\n",
       "      <th></th>\n",
       "      <th>creditscore</th>\n",
       "      <th>age</th>\n",
       "      <th>tenure</th>\n",
       "      <th>balance</th>\n",
       "      <th>numofproducts</th>\n",
       "      <th>hascrcard</th>\n",
       "      <th>isactivemember</th>\n",
       "      <th>estimatedsalary</th>\n",
       "      <th>_Germany</th>\n",
       "      <th>_Spain</th>\n",
       "      <th>_Male</th>\n",
       "    </tr>\n",
       "  </thead>\n",
       "  <tbody>\n",
       "    <tr>\n",
       "      <td>1995</td>\n",
       "      <td>584</td>\n",
       "      <td>44</td>\n",
       "      <td>5.0</td>\n",
       "      <td>95671.75</td>\n",
       "      <td>2</td>\n",
       "      <td>1</td>\n",
       "      <td>1</td>\n",
       "      <td>106564.88</td>\n",
       "      <td>0</td>\n",
       "      <td>0</td>\n",
       "      <td>0</td>\n",
       "    </tr>\n",
       "    <tr>\n",
       "      <td>2724</td>\n",
       "      <td>453</td>\n",
       "      <td>38</td>\n",
       "      <td>NaN</td>\n",
       "      <td>120623.21</td>\n",
       "      <td>1</td>\n",
       "      <td>1</td>\n",
       "      <td>0</td>\n",
       "      <td>129697.99</td>\n",
       "      <td>1</td>\n",
       "      <td>0</td>\n",
       "      <td>0</td>\n",
       "    </tr>\n",
       "    <tr>\n",
       "      <td>5224</td>\n",
       "      <td>803</td>\n",
       "      <td>43</td>\n",
       "      <td>3.0</td>\n",
       "      <td>0.00</td>\n",
       "      <td>1</td>\n",
       "      <td>1</td>\n",
       "      <td>0</td>\n",
       "      <td>72051.44</td>\n",
       "      <td>0</td>\n",
       "      <td>1</td>\n",
       "      <td>1</td>\n",
       "    </tr>\n",
       "    <tr>\n",
       "      <td>7697</td>\n",
       "      <td>601</td>\n",
       "      <td>41</td>\n",
       "      <td>3.0</td>\n",
       "      <td>0.00</td>\n",
       "      <td>2</td>\n",
       "      <td>1</td>\n",
       "      <td>0</td>\n",
       "      <td>54342.83</td>\n",
       "      <td>0</td>\n",
       "      <td>1</td>\n",
       "      <td>0</td>\n",
       "    </tr>\n",
       "    <tr>\n",
       "      <td>1226</td>\n",
       "      <td>531</td>\n",
       "      <td>42</td>\n",
       "      <td>6.0</td>\n",
       "      <td>88324.31</td>\n",
       "      <td>2</td>\n",
       "      <td>1</td>\n",
       "      <td>0</td>\n",
       "      <td>75248.75</td>\n",
       "      <td>1</td>\n",
       "      <td>0</td>\n",
       "      <td>0</td>\n",
       "    </tr>\n",
       "  </tbody>\n",
       "</table>\n",
       "</div>"
      ],
      "text/plain": [
       "      creditscore  age  tenure    balance  numofproducts  hascrcard  \\\n",
       "1995          584   44     5.0   95671.75              2          1   \n",
       "2724          453   38     NaN  120623.21              1          1   \n",
       "5224          803   43     3.0       0.00              1          1   \n",
       "7697          601   41     3.0       0.00              2          1   \n",
       "1226          531   42     6.0   88324.31              2          1   \n",
       "\n",
       "      isactivemember  estimatedsalary  _Germany  _Spain  _Male  \n",
       "1995               1        106564.88         0       0      0  \n",
       "2724               0        129697.99         1       0      0  \n",
       "5224               0         72051.44         0       1      1  \n",
       "7697               0         54342.83         0       1      0  \n",
       "1226               0         75248.75         1       0      0  "
      ]
     },
     "execution_count": 23,
     "metadata": {},
     "output_type": "execute_result"
    }
   ],
   "source": [
    "X_train= pd.get_dummies(X_train, drop_first=True, prefix='')\n",
    "X_valid = pd.get_dummies(X_valid, drop_first=True, prefix='')\n",
    "X_test = pd.get_dummies(X_test, drop_first=True, prefix='')\n",
    "X_train.head()"
   ]
  },
  {
   "cell_type": "markdown",
   "metadata": {},
   "source": [
    "checking the new shapes of the sets:"
   ]
  },
  {
   "cell_type": "code",
   "execution_count": 24,
   "metadata": {},
   "outputs": [
    {
     "name": "stdout",
     "output_type": "stream",
     "text": [
      "Train set\n",
      "(6000, 11)\n",
      "(6000,)\n",
      "\n",
      "Validation set\n",
      "(2000, 11)\n",
      "(2000,)\n",
      "\n",
      "Test set\n",
      "(2000, 11)\n",
      "(2000,)\n"
     ]
    }
   ],
   "source": [
    "print('Train set')\n",
    "print(X_train.shape), print(y_train.shape)\n",
    "print('\\nValidation set')\n",
    "print(X_valid.shape), print(y_valid.shape)\n",
    "print('\\nTest set')\n",
    "print(X_test.shape), print(y_test.shape);"
   ]
  },
  {
   "cell_type": "markdown",
   "metadata": {},
   "source": [
    "<a class=\"anchor\" id=\"section_1_2\"></a>"
   ]
  },
  {
   "cell_type": "markdown",
   "metadata": {},
   "source": [
    "### Scaling numeric features"
   ]
  },
  {
   "cell_type": "markdown",
   "metadata": {},
   "source": [
    "Scaling features across the entire dataset can lead to a data leak. We will only fit the scaler on the train set.\n",
    "We will then use the fitted scaler and apply it to our other sets."
   ]
  },
  {
   "cell_type": "code",
   "execution_count": 25,
   "metadata": {},
   "outputs": [],
   "source": [
    "numeric = ['creditscore', 'age', 'balance', 'estimatedsalary']\n",
    "scaler = StandardScaler()\n",
    "scaler.fit(X_train[numeric])\n",
    "\n",
    "X_train[numeric] = scaler.transform(X_train[numeric])\n",
    "X_valid[numeric] = scaler.transform(X_valid[numeric])\n",
    "X_test[numeric] = scaler.transform(X_test[numeric])"
   ]
  },
  {
   "cell_type": "markdown",
   "metadata": {},
   "source": [
    "<a class=\"anchor\" id=\"section_1_3\"></a>"
   ]
  },
  {
   "cell_type": "markdown",
   "metadata": {},
   "source": [
    "### Imputing missing values:"
   ]
  },
  {
   "cell_type": "markdown",
   "metadata": {},
   "source": [
    "Creating a function to compare imputation strategies and checking it on our train set:"
   ]
  },
  {
   "cell_type": "code",
   "execution_count": 26,
   "metadata": {},
   "outputs": [],
   "source": [
    "# model = LogisticRegression(random_state=42,solver='liblinear')\n",
    "# imputer = KNNImputer()\n",
    "# # pipeline = Pipeline(teps=[('i', imputer), ('m', model)])\n",
    "# # define model evaluation\n",
    "# cv = RepeatedStratifiedKFold(n_splits=10, n_repeats=3, random_state=42)\n",
    "# # evaluate model\n",
    "# scores = cross_val_score(pipeline, X_train, y_train, scoring='f1', cv=cv, n_jobs=-1, error_score='raise')\n",
    "# print('Meanf1: %.3f (%.3f)' % (mean(scores), std(scores)))"
   ]
  },
  {
   "cell_type": "code",
   "execution_count": 27,
   "metadata": {},
   "outputs": [],
   "source": [
    "def impute_score(features, target, scoring):\n",
    "    results = []\n",
    "    strategies = ['mean', 'median', 'most_frequent', 'constant']\n",
    "    #by leaving constast empty, it will fill with default value of 0.\n",
    "    for s in strategies:\n",
    "    # create the modeling pipeline\n",
    "        pipeline = Pipeline(steps=[('i', SimpleImputer(strategy=s)), ('m', LogisticRegression(random_state=42,solver='liblinear'))])\n",
    "    # evaluate the model\n",
    "        cv = RepeatedStratifiedKFold(n_splits=10, n_repeats=3, random_state=42)\n",
    "        scores = cross_val_score(pipeline, features, target, scoring=scoring, cv=cv, n_jobs=-1)\n",
    "    # store results\n",
    "        results.append(scores)\n",
    "        print('>%s %.3f (%.3f std)' % (s, mean(scores), std(scores)))\n",
    "    # plot model performance for comparison\n",
    "    pyplot.boxplot(results, labels=strategies, showmeans=True)\n",
    "    pyplot.title('{} score for imputing methods'.format(scoring))\n",
    "    pyplot.show()"
   ]
  },
  {
   "cell_type": "code",
   "execution_count": 28,
   "metadata": {},
   "outputs": [
    {
     "name": "stdout",
     "output_type": "stream",
     "text": [
      ">mean 0.312 (0.030 std)\n",
      ">median 0.312 (0.030 std)\n",
      ">most_frequent 0.312 (0.029 std)\n",
      ">constant 0.311 (0.031 std)\n"
     ]
    },
    {
     "data": {
      "image/png": "[encoded data removed]",
      "text/plain": [
       "<Figure size 936x504 with 1 Axes>"
      ]
     },
     "metadata": {
      "needs_background": "light"
     },
     "output_type": "display_data"
    }
   ],
   "source": [
    "impute_score(X_train, y_train, 'f1')"
   ]
  },
  {
   "cell_type": "markdown",
   "metadata": {},
   "source": [
    "#### Description & conclusion:\n",
    "This boxplot shows the f1 scores for the tested imputing methods:\n",
    "\n",
    "- As the scores being fairly even, we will use the median strategy to fill the missing values to keep the current balance of the data"
   ]
  },
  {
   "cell_type": "markdown",
   "metadata": {},
   "source": [
    "applying the imputation for our sets:"
   ]
  },
  {
   "cell_type": "code",
   "execution_count": 29,
   "metadata": {},
   "outputs": [],
   "source": [
    "for i in [X_train, X_valid, X_test]:\n",
    "    imp = SimpleImputer(strategy='median')\n",
    "    imp = imp.fit(i[['tenure']])\n",
    "    i['tenure'] = imp.transform(i[['tenure']])"
   ]
  },
  {
   "cell_type": "markdown",
   "metadata": {},
   "source": [
    "### Conclusions:"
   ]
  },
  {
   "cell_type": "markdown",
   "metadata": {},
   "source": [
    "We've previewed & prepared our dataset:\n",
    "\n",
    "- we splitted our data into train,validation and test sets (60%,20%,20% respectively)\n",
    "- no duplicates found, no need to delete rows.\n",
    "- the columns customer_id,row_number and surname got removed.\n",
    "- missing values were found in tenure column\n",
    "- tenure column doesnt correlate with any existing feature in our data, hence we need to use a general imputation method.\n",
    "- categorical features (geography, gender) got encoded using OHE encoding method.\n",
    "- numeric features got scaled using standard scaler.\n",
    "- missing values were imputed using median strategy after comparing several imputation methods."
   ]
  },
  {
   "cell_type": "markdown",
   "metadata": {},
   "source": [
    "<a class=\"anchor\" id=\"chapter2\"></a>"
   ]
  },
  {
   "cell_type": "markdown",
   "metadata": {},
   "source": [
    "<div class=\"alert alert-info\" style=\"background-color:#006a79; color:white; padding:0px 10px; border-radius:5px;\"><h2 style='margin:10px 5px'>Classes examination & model training without taking into account the imbalance</h2>\n",
    "</div>"
   ]
  },
  {
   "cell_type": "markdown",
   "metadata": {},
   "source": [
    "#### examination of classes balance:"
   ]
  },
  {
   "cell_type": "code",
   "execution_count": 30,
   "metadata": {},
   "outputs": [
    {
     "name": "stdout",
     "output_type": "stream",
     "text": [
      "0    79.616667\n",
      "1    20.383333\n",
      "Name: exited, dtype: float64\n",
      "0    79.65\n",
      "1    20.35\n",
      "Name: exited, dtype: float64\n",
      "0    79.65\n",
      "1    20.35\n",
      "Name: exited, dtype: float64\n"
     ]
    }
   ],
   "source": [
    "for i in [y_train, y_valid, y_test]:\n",
    "    print(i.value_counts(normalize=True)*100)"
   ]
  },
  {
   "cell_type": "markdown",
   "metadata": {},
   "source": [
    "#### Description:\n",
    "We see our classes are imbalanced across all of our data-sets, with class 0 (didnt exit) happening 79.6x% of the times"
   ]
  },
  {
   "cell_type": "markdown",
   "metadata": {},
   "source": [
    "### training of models without considering class imbalance: \n",
    "\n",
    "(We will not tune hyper-parameters at this stage, as we will do so when considering the classes imbalance)"
   ]
  },
  {
   "cell_type": "markdown",
   "metadata": {},
   "source": [
    "<a class=\"anchor\" id=\"section_2_1\"></a>"
   ]
  },
  {
   "cell_type": "markdown",
   "metadata": {},
   "source": [
    "#### Logistic regression:"
   ]
  },
  {
   "cell_type": "code",
   "execution_count": 31,
   "metadata": {},
   "outputs": [
    {
     "name": "stdout",
     "output_type": "stream",
     "text": [
      "F1: 0.31842576028622543\n",
      "ROC-AUC: 0.7561845358455528\n"
     ]
    }
   ],
   "source": [
    "model = LogisticRegression(random_state=42,solver='liblinear')\n",
    "model.fit(X_train, y_train)\n",
    "predicted_valid = model.predict(X_valid)\n",
    "y_proba_valid = model.predict_proba(X_valid)[:, 1]\n",
    "\n",
    "print(\"F1:\", f1_score(y_valid, predicted_valid))\n",
    "print(\"ROC-AUC:\", roc_auc_score(y_valid, y_proba_valid))"
   ]
  },
  {
   "cell_type": "markdown",
   "metadata": {},
   "source": [
    "We got low scores for both F1 and ROC-AUC using basic logistic regression."
   ]
  },
  {
   "cell_type": "markdown",
   "metadata": {},
   "source": [
    "<a class=\"anchor\" id=\"section_2_2\"></a>"
   ]
  },
  {
   "cell_type": "markdown",
   "metadata": {},
   "source": [
    "#### Random Forest Classifier:\n",
    "We will use min_samples_leaf=5 as the default value.\n",
    "\n",
    "min_samples_leaf -  the minimum number of samples required to be at a leaf node"
   ]
  },
  {
   "cell_type": "code",
   "execution_count": 32,
   "metadata": {},
   "outputs": [
    {
     "name": "stdout",
     "output_type": "stream",
     "text": [
      "F1: 0.5515055467511886\n",
      "ROC-AUC: 0.8605708944691997\n"
     ]
    }
   ],
   "source": [
    "model = RandomForestClassifier(random_state=42,min_samples_leaf=5)\n",
    "model.fit(X_train, y_train)\n",
    "predicted_valid = model.predict(X_valid)\n",
    "y_proba_valid = model.predict_proba(X_valid)[:, 1]\n",
    "\n",
    "print(\"F1:\", f1_score(y_valid, predicted_valid))\n",
    "print(\"ROC-AUC:\", roc_auc_score(y_valid, y_proba_valid))"
   ]
  },
  {
   "cell_type": "markdown",
   "metadata": {},
   "source": [
    " F1 score of 0.55, not high enough for our task."
   ]
  },
  {
   "cell_type": "markdown",
   "metadata": {},
   "source": [
    "<a class=\"anchor\" id=\"section_2_3\"></a>"
   ]
  },
  {
   "cell_type": "markdown",
   "metadata": {},
   "source": [
    "#### CatBoost classifier:\n",
    "\n",
    "(a great algorithm by yandex :})"
   ]
  },
  {
   "cell_type": "markdown",
   "metadata": {},
   "source": [
    "verbose=  logging level \n",
    "\n",
    "custom_loss F1 = we define our loss to be F1 score"
   ]
  },
  {
   "cell_type": "code",
   "execution_count": 33,
   "metadata": {},
   "outputs": [
    {
     "name": "stdout",
     "output_type": "stream",
     "text": [
      "Learning rate set to 0.027819\n",
      "0:\tlearn: 0.6704754\ttotal: 51.6ms\tremaining: 51.6s\n",
      "100:\tlearn: 0.3253721\ttotal: 1.74s\tremaining: 15.5s\n",
      "200:\tlearn: 0.3028422\ttotal: 3.58s\tremaining: 14.2s\n",
      "300:\tlearn: 0.2866564\ttotal: 5.36s\tremaining: 12.4s\n",
      "400:\tlearn: 0.2709867\ttotal: 7.13s\tremaining: 10.7s\n",
      "500:\tlearn: 0.2566947\ttotal: 8.9s\tremaining: 8.87s\n",
      "600:\tlearn: 0.2443251\ttotal: 10.6s\tremaining: 7.02s\n",
      "700:\tlearn: 0.2327841\ttotal: 12.3s\tremaining: 5.26s\n",
      "800:\tlearn: 0.2217535\ttotal: 14.2s\tremaining: 3.53s\n",
      "900:\tlearn: 0.2117433\ttotal: 16s\tremaining: 1.75s\n",
      "999:\tlearn: 0.2028549\ttotal: 17.7s\tremaining: 0us\n",
      "F1: 0.5745007680491552\n",
      "ROC-AUC: 0.8597195037873003\n"
     ]
    }
   ],
   "source": [
    "model = CatBoostClassifier(verbose=100, custom_loss=['F1'], random_state=42)\n",
    "model.fit(X_train, y_train)\n",
    "predicted_valid = model.predict(X_valid)\n",
    "y_proba_valid = model.predict_proba(X_valid)[:, 1]\n",
    "\n",
    "print(\"F1:\", f1_score(y_valid, predicted_valid))\n",
    "print(\"ROC-AUC:\", roc_auc_score(y_valid, y_proba_valid))"
   ]
  },
  {
   "cell_type": "markdown",
   "metadata": {},
   "source": [
    "Decent scores , but still not high enough for our task."
   ]
  },
  {
   "cell_type": "markdown",
   "metadata": {},
   "source": [
    "<a class=\"anchor\" id=\"section_2_4\"></a>"
   ]
  },
  {
   "cell_type": "markdown",
   "metadata": {},
   "source": [
    "#### ANN "
   ]
  },
  {
   "cell_type": "markdown",
   "metadata": {},
   "source": [
    "** All the ANN parts have been commented out to not waste the reviewer's time, as the models werent performing and weren't tuned . Commenting out is optional and up to the reviewer"
   ]
  },
  {
   "cell_type": "markdown",
   "metadata": {},
   "source": [
    "converting all dtypes to float32:"
   ]
  },
  {
   "cell_type": "code",
   "execution_count": 34,
   "metadata": {},
   "outputs": [],
   "source": [
    "X_train = X_train.astype('float32')\n",
    "X_valid = X_valid.astype('float32')\n",
    "X_test = X_test.astype('float32')\n",
    "y_train = y_train.astype('float32')\n",
    "y_valid = y_valid.astype('float32')\n",
    "y_test = y_test.astype('float32')"
   ]
  },
  {
   "cell_type": "markdown",
   "metadata": {},
   "source": [
    "checking and defining the amount of features and classes for our model"
   ]
  },
  {
   "cell_type": "code",
   "execution_count": 35,
   "metadata": {},
   "outputs": [
    {
     "data": {
      "text/plain": [
       "11"
      ]
     },
     "execution_count": 35,
     "metadata": {},
     "output_type": "execute_result"
    }
   ],
   "source": [
    "n_features = X_train.shape[1]\n",
    "n_class = len(np.unique(y_train))\n",
    "n_features"
   ]
  },
  {
   "cell_type": "markdown",
   "metadata": {},
   "source": [
    "creating a function to use F1 as our NN lose, and as a metric too:"
   ]
  },
  {
   "cell_type": "code",
   "execution_count": 36,
   "metadata": {},
   "outputs": [],
   "source": [
    "def f1(y_true, y_pred):\n",
    "    y_pred = K.round(y_pred)\n",
    "    tp = K.sum(K.cast(y_true*y_pred, 'float'), axis=0)\n",
    "    tn = K.sum(K.cast((1-y_true)*(1-y_pred), 'float'), axis=0)\n",
    "    fp = K.sum(K.cast((1-y_true)*y_pred, 'float'), axis=0)\n",
    "    fn = K.sum(K.cast(y_true*(1-y_pred), 'float'), axis=0)\n",
    "\n",
    "    p = tp / (tp + fp + K.epsilon())\n",
    "    r = tp / (tp + fn + K.epsilon())\n",
    "\n",
    "    f1 = 2*p*r / (p+r+K.epsilon())\n",
    "    #f1 = tf.where(tf.is_nan(f1), tf.zeros_like(f1), f1)\n",
    "    f1 = tf.where(tf.math.is_nan(f1), tf.zeros_like(f1), f1)\n",
    "    return K.mean(f1)\n",
    "\n",
    "\n",
    "def f1_loss(y_true, y_pred):\n",
    "    tp = K.sum(K.cast(y_true*y_pred, 'float'), axis=0)\n",
    "    tn = K.sum(K.cast((1-y_true)*(1-y_pred), 'float'), axis=0)\n",
    "    fp = K.sum(K.cast((1-y_true)*y_pred, 'float'), axis=0)\n",
    "    fn = K.sum(K.cast(y_true*(1-y_pred), 'float'), axis=0)\n",
    "\n",
    "    p = tp / (tp + fp + K.epsilon())\n",
    "    r = tp / (tp + fn + K.epsilon())\n",
    "\n",
    "    f1 = 2*p*r / (p+r+K.epsilon())\n",
    "    #f1 = tf.where(tf.is_nan(f1), tf.zeros_like(f1), f1)\n",
    "    f1 = tf.where(tf.math.is_nan(f1), tf.zeros_like(f1), f1)\n",
    "    return 1 - K.mean(f1)"
   ]
  },
  {
   "cell_type": "markdown",
   "metadata": {},
   "source": [
    "Creating a function to deploy a simple ANN model for us."
   ]
  },
  {
   "cell_type": "code",
   "execution_count": 37,
   "metadata": {},
   "outputs": [],
   "source": [
    "def create_ann():\n",
    "    model = tf.keras.models.Sequential()\n",
    "    model.add(tf.keras.layers.Dense(units = 10,input_dim = n_features,  activation = 'relu'))\n",
    "    model.add(tf.keras.layers.Dense(units = 4, activation = 'relu'))\n",
    "    model.add(tf.keras.layers.Dense(units = 1, activation = 'sigmoid'))\n",
    "    model.compile(optimizer = 'adam', loss = 'binary_crossentropy', metrics = ['accuracy',f1])\n",
    "    return model"
   ]
  },
  {
   "cell_type": "markdown",
   "metadata": {},
   "source": [
    "Creating a function to plot train / validation metric progress:"
   ]
  },
  {
   "cell_type": "code",
   "execution_count": 38,
   "metadata": {},
   "outputs": [],
   "source": [
    "def plot_metric(history, metric):\n",
    "    train_metrics = history.history[metric]\n",
    "    val_metrics = history.history['val_'+metric]\n",
    "    epochs = range(1, len(train_metrics) + 1)\n",
    "    plt.plot(epochs, train_metrics)\n",
    "    plt.plot(epochs, val_metrics)\n",
    "    plt.title('Training and validation '+ metric)\n",
    "    plt.xlabel(\"Epochs\")\n",
    "    plt.ylabel(metric)\n",
    "    plt.legend([\"train_\"+metric, 'val_'+metric])\n",
    "    plt.show()"
   ]
  },
  {
   "cell_type": "code",
   "execution_count": 39,
   "metadata": {},
   "outputs": [],
   "source": [
    "model = create_ann()"
   ]
  },
  {
   "cell_type": "markdown",
   "metadata": {},
   "source": [
    "fitting the ANN on the training set"
   ]
  },
  {
   "cell_type": "code",
   "execution_count": 40,
   "metadata": {},
   "outputs": [
    {
     "name": "stdout",
     "output_type": "stream",
     "text": [
      "Train on 6000 samples, validate on 2000 samples\n",
      "Epoch 1/100\n",
      "6000/6000 [==============================] - 1s 189us/sample - loss: 0.6190 - accuracy: 0.6832 - f1: 0.0970 - val_loss: 0.4788 - val_accuracy: 0.7965 - val_f1: 0.0000e+00\n",
      "Epoch 2/100\n",
      "6000/6000 [==============================] - 1s 101us/sample - loss: 0.4592 - accuracy: 0.7980 - f1: 0.0229 - val_loss: 0.4445 - val_accuracy: 0.7970 - val_f1: 0.0361\n",
      "Epoch 3/100\n",
      "6000/6000 [==============================] - 1s 101us/sample - loss: 0.4389 - accuracy: 0.8000 - f1: 0.0711 - val_loss: 0.4336 - val_accuracy: 0.8020 - val_f1: 0.1007\n",
      "Epoch 4/100\n",
      "6000/6000 [==============================] - 1s 101us/sample - loss: 0.4319 - accuracy: 0.8032 - f1: 0.1272 - val_loss: 0.4306 - val_accuracy: 0.8040 - val_f1: 0.1422\n",
      "Epoch 5/100\n",
      "6000/6000 [==============================] - 1s 100us/sample - loss: 0.4282 - accuracy: 0.8037 - f1: 0.1673 - val_loss: 0.4280 - val_accuracy: 0.8050 - val_f1: 0.2107\n",
      "Epoch 6/100\n",
      "6000/6000 [==============================] - 1s 101us/sample - loss: 0.4267 - accuracy: 0.8055 - f1: 0.2367 - val_loss: 0.4262 - val_accuracy: 0.8070 - val_f1: 0.2451\n",
      "Epoch 7/100\n",
      "6000/6000 [==============================] - 1s 100us/sample - loss: 0.4248 - accuracy: 0.8055 - f1: 0.2687 - val_loss: 0.4272 - val_accuracy: 0.8095 - val_f1: 0.2649\n",
      "Epoch 8/100\n",
      "6000/6000 [==============================] - 1s 102us/sample - loss: 0.4232 - accuracy: 0.8100 - f1: 0.3048 - val_loss: 0.4253 - val_accuracy: 0.8130 - val_f1: 0.3140\n",
      "Epoch 9/100\n",
      "6000/6000 [==============================] - 1s 109us/sample - loss: 0.4212 - accuracy: 0.8138 - f1: 0.3367 - val_loss: 0.4266 - val_accuracy: 0.8165 - val_f1: 0.2897\n",
      "Epoch 10/100\n",
      "6000/6000 [==============================] - 1s 103us/sample - loss: 0.4208 - accuracy: 0.8132 - f1: 0.3282 - val_loss: 0.4243 - val_accuracy: 0.8160 - val_f1: 0.3222\n",
      "Epoch 11/100\n",
      "6000/6000 [==============================] - 1s 103us/sample - loss: 0.4198 - accuracy: 0.8137 - f1: 0.3366 - val_loss: 0.4244 - val_accuracy: 0.8160 - val_f1: 0.3811\n",
      "Epoch 12/100\n",
      "6000/6000 [==============================] - 1s 109us/sample - loss: 0.4186 - accuracy: 0.8177 - f1: 0.3555 - val_loss: 0.4222 - val_accuracy: 0.8210 - val_f1: 0.3841\n",
      "Epoch 13/100\n",
      "6000/6000 [==============================] - 1s 102us/sample - loss: 0.4174 - accuracy: 0.8198 - f1: 0.3687 - val_loss: 0.4252 - val_accuracy: 0.8195 - val_f1: 0.3199\n",
      "Epoch 14/100\n",
      "6000/6000 [==============================] - 1s 102us/sample - loss: 0.4161 - accuracy: 0.8198 - f1: 0.3527 - val_loss: 0.4213 - val_accuracy: 0.8210 - val_f1: 0.3723\n",
      "Epoch 15/100\n",
      "6000/6000 [==============================] - 1s 102us/sample - loss: 0.4140 - accuracy: 0.8233 - f1: 0.3586 - val_loss: 0.4211 - val_accuracy: 0.8190 - val_f1: 0.3279\n",
      "Epoch 16/100\n",
      "6000/6000 [==============================] - 1s 101us/sample - loss: 0.4126 - accuracy: 0.8223 - f1: 0.3522 - val_loss: 0.4190 - val_accuracy: 0.8190 - val_f1: 0.3661\n",
      "Epoch 17/100\n",
      "6000/6000 [==============================] - 1s 100us/sample - loss: 0.4118 - accuracy: 0.8250 - f1: 0.3653 - val_loss: 0.4184 - val_accuracy: 0.8210 - val_f1: 0.3439\n",
      "Epoch 18/100\n",
      "6000/6000 [==============================] - 1s 100us/sample - loss: 0.4099 - accuracy: 0.8275 - f1: 0.3693 - val_loss: 0.4173 - val_accuracy: 0.8195 - val_f1: 0.3585\n",
      "Epoch 19/100\n",
      "6000/6000 [==============================] - 1s 99us/sample - loss: 0.4083 - accuracy: 0.8290 - f1: 0.3837 - val_loss: 0.4179 - val_accuracy: 0.8250 - val_f1: 0.3536\n",
      "Epoch 20/100\n",
      "6000/6000 [==============================] - 1s 100us/sample - loss: 0.4076 - accuracy: 0.8292 - f1: 0.3860 - val_loss: 0.4163 - val_accuracy: 0.8215 - val_f1: 0.3837\n",
      "Epoch 21/100\n",
      "6000/6000 [==============================] - 1s 101us/sample - loss: 0.4065 - accuracy: 0.8312 - f1: 0.3844 - val_loss: 0.4161 - val_accuracy: 0.8240 - val_f1: 0.4028\n",
      "Epoch 22/100\n",
      "6000/6000 [==============================] - 1s 101us/sample - loss: 0.4053 - accuracy: 0.8323 - f1: 0.3874 - val_loss: 0.4151 - val_accuracy: 0.8265 - val_f1: 0.3736\n",
      "Epoch 23/100\n",
      "6000/6000 [==============================] - 1s 101us/sample - loss: 0.4044 - accuracy: 0.8335 - f1: 0.3958 - val_loss: 0.4139 - val_accuracy: 0.8260 - val_f1: 0.3847\n",
      "Epoch 24/100\n",
      "6000/6000 [==============================] - 1s 100us/sample - loss: 0.4034 - accuracy: 0.8347 - f1: 0.4030 - val_loss: 0.4134 - val_accuracy: 0.8265 - val_f1: 0.4022\n",
      "Epoch 25/100\n",
      "6000/6000 [==============================] - 1s 100us/sample - loss: 0.4021 - accuracy: 0.8347 - f1: 0.4116 - val_loss: 0.4123 - val_accuracy: 0.8300 - val_f1: 0.3744\n",
      "Epoch 26/100\n",
      "6000/6000 [==============================] - 1s 106us/sample - loss: 0.4010 - accuracy: 0.8367 - f1: 0.4164 - val_loss: 0.4118 - val_accuracy: 0.8275 - val_f1: 0.3781\n",
      "Epoch 27/100\n",
      "6000/6000 [==============================] - 1s 100us/sample - loss: 0.4002 - accuracy: 0.8372 - f1: 0.4102 - val_loss: 0.4121 - val_accuracy: 0.8305 - val_f1: 0.4176\n",
      "Epoch 28/100\n",
      "6000/6000 [==============================] - 1s 100us/sample - loss: 0.3988 - accuracy: 0.8385 - f1: 0.4372 - val_loss: 0.4117 - val_accuracy: 0.8285 - val_f1: 0.4115\n",
      "Epoch 29/100\n",
      "6000/6000 [==============================] - 1s 100us/sample - loss: 0.3978 - accuracy: 0.8388 - f1: 0.4297 - val_loss: 0.4105 - val_accuracy: 0.8300 - val_f1: 0.4059\n",
      "Epoch 30/100\n",
      "6000/6000 [==============================] - 1s 99us/sample - loss: 0.3972 - accuracy: 0.8407 - f1: 0.4371 - val_loss: 0.4123 - val_accuracy: 0.8315 - val_f1: 0.4381\n",
      "Epoch 31/100\n",
      "6000/6000 [==============================] - 1s 101us/sample - loss: 0.3958 - accuracy: 0.8392 - f1: 0.4384 - val_loss: 0.4094 - val_accuracy: 0.8310 - val_f1: 0.4187\n",
      "Epoch 32/100\n",
      "6000/6000 [==============================] - 1s 98us/sample - loss: 0.3945 - accuracy: 0.8423 - f1: 0.4410 - val_loss: 0.4089 - val_accuracy: 0.8335 - val_f1: 0.3973\n",
      "Epoch 33/100\n",
      "6000/6000 [==============================] - 1s 100us/sample - loss: 0.3940 - accuracy: 0.8413 - f1: 0.4457 - val_loss: 0.4080 - val_accuracy: 0.8315 - val_f1: 0.3867\n",
      "Epoch 34/100\n",
      "6000/6000 [==============================] - 1s 100us/sample - loss: 0.3926 - accuracy: 0.8427 - f1: 0.4486 - val_loss: 0.4088 - val_accuracy: 0.8335 - val_f1: 0.4501\n",
      "Epoch 35/100\n",
      "6000/6000 [==============================] - 1s 100us/sample - loss: 0.3921 - accuracy: 0.8390 - f1: 0.4497 - val_loss: 0.4092 - val_accuracy: 0.8325 - val_f1: 0.3787\n",
      "Epoch 36/100\n",
      "6000/6000 [==============================] - 1s 101us/sample - loss: 0.3920 - accuracy: 0.8400 - f1: 0.4484 - val_loss: 0.4066 - val_accuracy: 0.8385 - val_f1: 0.4359\n",
      "Epoch 37/100\n",
      "6000/6000 [==============================] - 1s 100us/sample - loss: 0.3899 - accuracy: 0.8422 - f1: 0.4406 - val_loss: 0.4066 - val_accuracy: 0.8340 - val_f1: 0.4068\n",
      "Epoch 38/100\n",
      "6000/6000 [==============================] - 1s 100us/sample - loss: 0.3894 - accuracy: 0.8417 - f1: 0.4512 - val_loss: 0.4063 - val_accuracy: 0.8360 - val_f1: 0.4451\n",
      "Epoch 39/100\n",
      "6000/6000 [==============================] - 1s 99us/sample - loss: 0.3890 - accuracy: 0.8397 - f1: 0.4499 - val_loss: 0.4050 - val_accuracy: 0.8375 - val_f1: 0.4269\n",
      "Epoch 40/100\n",
      "6000/6000 [==============================] - 1s 99us/sample - loss: 0.3878 - accuracy: 0.8422 - f1: 0.4526 - val_loss: 0.4044 - val_accuracy: 0.8390 - val_f1: 0.4262\n",
      "Epoch 41/100\n",
      "6000/6000 [==============================] - 1s 100us/sample - loss: 0.3872 - accuracy: 0.8418 - f1: 0.4631 - val_loss: 0.4042 - val_accuracy: 0.8355 - val_f1: 0.4079\n",
      "Epoch 42/100\n",
      "6000/6000 [==============================] - 1s 100us/sample - loss: 0.3867 - accuracy: 0.8407 - f1: 0.4533 - val_loss: 0.4042 - val_accuracy: 0.8395 - val_f1: 0.4320\n",
      "Epoch 43/100\n",
      "6000/6000 [==============================] - 1s 100us/sample - loss: 0.3862 - accuracy: 0.8438 - f1: 0.4714 - val_loss: 0.4049 - val_accuracy: 0.8355 - val_f1: 0.4019\n",
      "Epoch 44/100\n",
      "6000/6000 [==============================] - 1s 100us/sample - loss: 0.3850 - accuracy: 0.8422 - f1: 0.4549 - val_loss: 0.4037 - val_accuracy: 0.8405 - val_f1: 0.4326\n",
      "Epoch 45/100\n",
      "6000/6000 [==============================] - 1s 99us/sample - loss: 0.3840 - accuracy: 0.8430 - f1: 0.4533 - val_loss: 0.4048 - val_accuracy: 0.8335 - val_f1: 0.3820\n",
      "Epoch 46/100\n",
      "6000/6000 [==============================] - 1s 99us/sample - loss: 0.3837 - accuracy: 0.8433 - f1: 0.4612 - val_loss: 0.4030 - val_accuracy: 0.8410 - val_f1: 0.4323\n",
      "Epoch 47/100\n",
      "6000/6000 [==============================] - 1s 102us/sample - loss: 0.3825 - accuracy: 0.8430 - f1: 0.4627 - val_loss: 0.4029 - val_accuracy: 0.8385 - val_f1: 0.4196\n",
      "Epoch 48/100\n",
      "6000/6000 [==============================] - 1s 109us/sample - loss: 0.3826 - accuracy: 0.8438 - f1: 0.4523 - val_loss: 0.4023 - val_accuracy: 0.8390 - val_f1: 0.4228\n",
      "Epoch 49/100\n",
      "6000/6000 [==============================] - 1s 101us/sample - loss: 0.3820 - accuracy: 0.8428 - f1: 0.4505 - val_loss: 0.4017 - val_accuracy: 0.8415 - val_f1: 0.4452\n",
      "Epoch 50/100\n",
      "6000/6000 [==============================] - 1s 102us/sample - loss: 0.3810 - accuracy: 0.8437 - f1: 0.4616 - val_loss: 0.4018 - val_accuracy: 0.8400 - val_f1: 0.4416\n",
      "Epoch 51/100\n",
      "6000/6000 [==============================] - 1s 101us/sample - loss: 0.3807 - accuracy: 0.8420 - f1: 0.4642 - val_loss: 0.4010 - val_accuracy: 0.8395 - val_f1: 0.4234\n",
      "Epoch 52/100\n",
      "6000/6000 [==============================] - 1s 100us/sample - loss: 0.3795 - accuracy: 0.8435 - f1: 0.4682 - val_loss: 0.4015 - val_accuracy: 0.8395 - val_f1: 0.4280\n",
      "Epoch 53/100\n",
      "6000/6000 [==============================] - 1s 100us/sample - loss: 0.3782 - accuracy: 0.8443 - f1: 0.4600 - val_loss: 0.4069 - val_accuracy: 0.8315 - val_f1: 0.4581\n",
      "Epoch 54/100\n",
      "6000/6000 [==============================] - 1s 99us/sample - loss: 0.3790 - accuracy: 0.8438 - f1: 0.4774 - val_loss: 0.4011 - val_accuracy: 0.8410 - val_f1: 0.4476\n",
      "Epoch 55/100\n",
      "6000/6000 [==============================] - 1s 102us/sample - loss: 0.3781 - accuracy: 0.8430 - f1: 0.4609 - val_loss: 0.4008 - val_accuracy: 0.8365 - val_f1: 0.4120\n",
      "Epoch 56/100\n",
      "6000/6000 [==============================] - 1s 99us/sample - loss: 0.3775 - accuracy: 0.8437 - f1: 0.4705 - val_loss: 0.3994 - val_accuracy: 0.8410 - val_f1: 0.4456\n",
      "Epoch 57/100\n",
      "6000/6000 [==============================] - 1s 100us/sample - loss: 0.3772 - accuracy: 0.8437 - f1: 0.4678 - val_loss: 0.4017 - val_accuracy: 0.8360 - val_f1: 0.4017\n",
      "Epoch 58/100\n",
      "6000/6000 [==============================] - 1s 111us/sample - loss: 0.3761 - accuracy: 0.8433 - f1: 0.4638 - val_loss: 0.4001 - val_accuracy: 0.8400 - val_f1: 0.4264\n",
      "Epoch 59/100\n",
      "6000/6000 [==============================] - 1s 115us/sample - loss: 0.3767 - accuracy: 0.8443 - f1: 0.4564 - val_loss: 0.3976 - val_accuracy: 0.8420 - val_f1: 0.4405\n",
      "Epoch 60/100\n",
      "6000/6000 [==============================] - 1s 117us/sample - loss: 0.3753 - accuracy: 0.8438 - f1: 0.4759 - val_loss: 0.3981 - val_accuracy: 0.8395 - val_f1: 0.4506\n",
      "Epoch 61/100\n",
      "6000/6000 [==============================] - 1s 99us/sample - loss: 0.3746 - accuracy: 0.8457 - f1: 0.4734 - val_loss: 0.3971 - val_accuracy: 0.8425 - val_f1: 0.4505\n",
      "Epoch 62/100\n",
      "6000/6000 [==============================] - 1s 99us/sample - loss: 0.3762 - accuracy: 0.8445 - f1: 0.4669 - val_loss: 0.3964 - val_accuracy: 0.8420 - val_f1: 0.4582\n",
      "Epoch 63/100\n",
      "6000/6000 [==============================] - 1s 92us/sample - loss: 0.3742 - accuracy: 0.8443 - f1: 0.4581 - val_loss: 0.3995 - val_accuracy: 0.8355 - val_f1: 0.4664\n",
      "Epoch 64/100\n",
      "6000/6000 [==============================] - 1s 99us/sample - loss: 0.3738 - accuracy: 0.8443 - f1: 0.4835 - val_loss: 0.3963 - val_accuracy: 0.8385 - val_f1: 0.4174\n",
      "Epoch 65/100\n",
      "6000/6000 [==============================] - 1s 99us/sample - loss: 0.3733 - accuracy: 0.8452 - f1: 0.4721 - val_loss: 0.3960 - val_accuracy: 0.8405 - val_f1: 0.4579\n",
      "Epoch 66/100\n",
      "6000/6000 [==============================] - 1s 100us/sample - loss: 0.3726 - accuracy: 0.8447 - f1: 0.4630 - val_loss: 0.3949 - val_accuracy: 0.8400 - val_f1: 0.4302\n",
      "Epoch 67/100\n",
      "6000/6000 [==============================] - 1s 99us/sample - loss: 0.3728 - accuracy: 0.8442 - f1: 0.4775 - val_loss: 0.3934 - val_accuracy: 0.8425 - val_f1: 0.4603\n",
      "Epoch 68/100\n",
      "6000/6000 [==============================] - 1s 98us/sample - loss: 0.3720 - accuracy: 0.8450 - f1: 0.4877 - val_loss: 0.3947 - val_accuracy: 0.8380 - val_f1: 0.4638\n",
      "Epoch 69/100\n",
      "6000/6000 [==============================] - 1s 100us/sample - loss: 0.3722 - accuracy: 0.8457 - f1: 0.4822 - val_loss: 0.3939 - val_accuracy: 0.8405 - val_f1: 0.4493\n",
      "Epoch 70/100\n",
      "6000/6000 [==============================] - 1s 102us/sample - loss: 0.3717 - accuracy: 0.8460 - f1: 0.4864 - val_loss: 0.3951 - val_accuracy: 0.8425 - val_f1: 0.4517\n",
      "Epoch 71/100\n",
      "6000/6000 [==============================] - 1s 101us/sample - loss: 0.3710 - accuracy: 0.8460 - f1: 0.4916 - val_loss: 0.3925 - val_accuracy: 0.8425 - val_f1: 0.4529\n",
      "Epoch 72/100\n",
      "6000/6000 [==============================] - 1s 108us/sample - loss: 0.3701 - accuracy: 0.8463 - f1: 0.4909 - val_loss: 0.3937 - val_accuracy: 0.8390 - val_f1: 0.4632\n",
      "Epoch 73/100\n",
      "6000/6000 [==============================] - 1s 101us/sample - loss: 0.3708 - accuracy: 0.8460 - f1: 0.4883 - val_loss: 0.3956 - val_accuracy: 0.8355 - val_f1: 0.4596\n",
      "Epoch 74/100\n",
      "6000/6000 [==============================] - 1s 100us/sample - loss: 0.3704 - accuracy: 0.8458 - f1: 0.4736 - val_loss: 0.3905 - val_accuracy: 0.8445 - val_f1: 0.4518\n",
      "Epoch 75/100\n",
      "6000/6000 [==============================] - 1s 99us/sample - loss: 0.3698 - accuracy: 0.8457 - f1: 0.4866 - val_loss: 0.3902 - val_accuracy: 0.8430 - val_f1: 0.4601\n",
      "Epoch 76/100\n",
      "6000/6000 [==============================] - 1s 99us/sample - loss: 0.3693 - accuracy: 0.8458 - f1: 0.4700 - val_loss: 0.3918 - val_accuracy: 0.8375 - val_f1: 0.4576\n",
      "Epoch 77/100\n",
      "6000/6000 [==============================] - 1s 93us/sample - loss: 0.3688 - accuracy: 0.8468 - f1: 0.4790 - val_loss: 0.3922 - val_accuracy: 0.8395 - val_f1: 0.4744\n",
      "Epoch 78/100\n",
      "6000/6000 [==============================] - 1s 106us/sample - loss: 0.3680 - accuracy: 0.8473 - f1: 0.4834 - val_loss: 0.3894 - val_accuracy: 0.8420 - val_f1: 0.4595\n",
      "Epoch 79/100\n",
      "6000/6000 [==============================] - 1s 93us/sample - loss: 0.3688 - accuracy: 0.8480 - f1: 0.4966 - val_loss: 0.3899 - val_accuracy: 0.8445 - val_f1: 0.4522\n",
      "Epoch 80/100\n",
      "6000/6000 [==============================] - 1s 100us/sample - loss: 0.3676 - accuracy: 0.8485 - f1: 0.4935 - val_loss: 0.3886 - val_accuracy: 0.8390 - val_f1: 0.4658\n",
      "Epoch 81/100\n",
      "6000/6000 [==============================] - 1s 99us/sample - loss: 0.3672 - accuracy: 0.8473 - f1: 0.4889 - val_loss: 0.3875 - val_accuracy: 0.8445 - val_f1: 0.4608\n",
      "Epoch 82/100\n",
      "6000/6000 [==============================] - 1s 101us/sample - loss: 0.3659 - accuracy: 0.8457 - f1: 0.4791 - val_loss: 0.3874 - val_accuracy: 0.8405 - val_f1: 0.4715\n",
      "Epoch 83/100\n",
      "6000/6000 [==============================] - 1s 109us/sample - loss: 0.3659 - accuracy: 0.8465 - f1: 0.4929 - val_loss: 0.3869 - val_accuracy: 0.8440 - val_f1: 0.4576\n",
      "Epoch 84/100\n",
      "6000/6000 [==============================] - 1s 101us/sample - loss: 0.3657 - accuracy: 0.8467 - f1: 0.4958 - val_loss: 0.3858 - val_accuracy: 0.8415 - val_f1: 0.4633\n",
      "Epoch 85/100\n",
      "6000/6000 [==============================] - 1s 100us/sample - loss: 0.3640 - accuracy: 0.8490 - f1: 0.4783 - val_loss: 0.3833 - val_accuracy: 0.8440 - val_f1: 0.4693\n",
      "Epoch 86/100\n",
      "6000/6000 [==============================] - 1s 100us/sample - loss: 0.3639 - accuracy: 0.8478 - f1: 0.4921 - val_loss: 0.3823 - val_accuracy: 0.8455 - val_f1: 0.4722\n",
      "Epoch 87/100\n",
      "6000/6000 [==============================] - 1s 100us/sample - loss: 0.3630 - accuracy: 0.8480 - f1: 0.4896 - val_loss: 0.3844 - val_accuracy: 0.8460 - val_f1: 0.4614\n",
      "Epoch 88/100\n",
      "6000/6000 [==============================] - 1s 101us/sample - loss: 0.3628 - accuracy: 0.8487 - f1: 0.5052 - val_loss: 0.3806 - val_accuracy: 0.8485 - val_f1: 0.4867\n",
      "Epoch 89/100\n",
      "6000/6000 [==============================] - 1s 99us/sample - loss: 0.3613 - accuracy: 0.8495 - f1: 0.5087 - val_loss: 0.3811 - val_accuracy: 0.8485 - val_f1: 0.4761\n",
      "Epoch 90/100\n",
      "6000/6000 [==============================] - 1s 100us/sample - loss: 0.3603 - accuracy: 0.8505 - f1: 0.5122 - val_loss: 0.3793 - val_accuracy: 0.8465 - val_f1: 0.4762\n",
      "Epoch 91/100\n",
      "6000/6000 [==============================] - 1s 99us/sample - loss: 0.3583 - accuracy: 0.8507 - f1: 0.5149 - val_loss: 0.3805 - val_accuracy: 0.8490 - val_f1: 0.4700\n",
      "Epoch 92/100\n",
      "6000/6000 [==============================] - 1s 99us/sample - loss: 0.3581 - accuracy: 0.8520 - f1: 0.5179 - val_loss: 0.3730 - val_accuracy: 0.8490 - val_f1: 0.5047\n",
      "Epoch 93/100\n",
      "6000/6000 [==============================] - 1s 101us/sample - loss: 0.3571 - accuracy: 0.8520 - f1: 0.5154 - val_loss: 0.3719 - val_accuracy: 0.8490 - val_f1: 0.5059\n",
      "Epoch 94/100\n",
      "6000/6000 [==============================] - 1s 99us/sample - loss: 0.3553 - accuracy: 0.8522 - f1: 0.5263 - val_loss: 0.3736 - val_accuracy: 0.8515 - val_f1: 0.4918\n",
      "Epoch 95/100\n",
      "6000/6000 [==============================] - 1s 100us/sample - loss: 0.3549 - accuracy: 0.8520 - f1: 0.5339 - val_loss: 0.3722 - val_accuracy: 0.8460 - val_f1: 0.4862\n",
      "Epoch 96/100\n",
      "6000/6000 [==============================] - 1s 100us/sample - loss: 0.3541 - accuracy: 0.8533 - f1: 0.5332 - val_loss: 0.3706 - val_accuracy: 0.8475 - val_f1: 0.4910\n",
      "Epoch 97/100\n",
      "6000/6000 [==============================] - 1s 101us/sample - loss: 0.3529 - accuracy: 0.8538 - f1: 0.5344 - val_loss: 0.3753 - val_accuracy: 0.8435 - val_f1: 0.5382\n",
      "Epoch 98/100\n",
      "6000/6000 [==============================] - 1s 99us/sample - loss: 0.3532 - accuracy: 0.8570 - f1: 0.5446 - val_loss: 0.3690 - val_accuracy: 0.8520 - val_f1: 0.5156\n",
      "Epoch 99/100\n",
      "6000/6000 [==============================] - 1s 100us/sample - loss: 0.3522 - accuracy: 0.8547 - f1: 0.5305 - val_loss: 0.3694 - val_accuracy: 0.8505 - val_f1: 0.5192\n",
      "Epoch 100/100\n",
      "6000/6000 [==============================] - 1s 99us/sample - loss: 0.3518 - accuracy: 0.8555 - f1: 0.5294 - val_loss: 0.3687 - val_accuracy: 0.8515 - val_f1: 0.5114\n"
     ]
    }
   ],
   "source": [
    "history = model.fit(X_train.values, y_train.values, validation_data = (X_valid.values, y_valid.values), epochs = 100)"
   ]
  },
  {
   "cell_type": "markdown",
   "metadata": {},
   "source": [
    "Predicting the validation results without considering class imbalance (threshold of 0.5 despite imbalance):"
   ]
  },
  {
   "cell_type": "code",
   "execution_count": 41,
   "metadata": {},
   "outputs": [],
   "source": [
    "y_pred = model.predict(X_valid)\n",
    "y_pred = (y_pred > 0.5)"
   ]
  },
  {
   "cell_type": "code",
   "execution_count": 42,
   "metadata": {},
   "outputs": [
    {
     "name": "stdout",
     "output_type": "stream",
     "text": [
      "              precision    recall  f1-score   support\n",
      "\n",
      "           0       0.87      0.96      0.91      1593\n",
      "           1       0.73      0.43      0.54       407\n",
      "\n",
      "    accuracy                           0.85      2000\n",
      "   macro avg       0.80      0.70      0.73      2000\n",
      "weighted avg       0.84      0.85      0.84      2000\n",
      "\n"
     ]
    }
   ],
   "source": [
    "print(classification_report(y_valid, y_pred,\n",
    "          target_names=['0', '1'], zero_division=1))"
   ]
  },
  {
   "cell_type": "markdown",
   "metadata": {},
   "source": [
    "plotting the f1 progress:"
   ]
  },
  {
   "cell_type": "code",
   "execution_count": 43,
   "metadata": {},
   "outputs": [
    {
     "data": {
      "image/png": "[encoded data removed]",
      "text/plain": [
       "<Figure size 936x504 with 1 Axes>"
      ]
     },
     "metadata": {
      "needs_background": "light"
     },
     "output_type": "display_data"
    }
   ],
   "source": [
    "plot_metric(history, 'f1')"
   ]
  },
  {
   "cell_type": "code",
   "execution_count": 44,
   "metadata": {},
   "outputs": [
    {
     "data": {
      "text/plain": [
       "0.543778801843318"
      ]
     },
     "execution_count": 44,
     "metadata": {},
     "output_type": "execute_result"
    }
   ],
   "source": [
    "f1_score(y_valid, y_pred)"
   ]
  },
  {
   "cell_type": "markdown",
   "metadata": {},
   "source": [
    "##### Description:\n",
    "This graph shows our training and validation f1 progression:\n",
    "- our F1 score for the validation set is 0.56"
   ]
  },
  {
   "cell_type": "markdown",
   "metadata": {},
   "source": [
    "### Conclusion:\n",
    "- Classes were seen to be imbalanced, with much more observations to class 0.\n",
    "- RandomForest performed the best when the classes imbalance isnt considered and models aren't tuned with F1 score of 0.592.\n"
   ]
  },
  {
   "cell_type": "markdown",
   "metadata": {},
   "source": [
    "<div class=\"alert alert-info\" style=\"background-color:#006a79; color:white; padding:0px 10px; border-radius:5px;\"><h2 style='margin:10px 5px'> Quality of models improvment , taking into account the imbalance of\n",
    "classes.</h2>\n",
    "</div>"
   ]
  },
  {
   "cell_type": "markdown",
   "metadata": {},
   "source": [
    "<a class=\"anchor\" id=\"section_3_1\"></a>"
   ]
  },
  {
   "cell_type": "markdown",
   "metadata": {},
   "source": [
    "observation of the balance between classes:"
   ]
  },
  {
   "cell_type": "code",
   "execution_count": 45,
   "metadata": {},
   "outputs": [
    {
     "data": {
      "text/plain": [
       "0.0    4777\n",
       "1.0    1223\n",
       "Name: exited, dtype: int64"
      ]
     },
     "execution_count": 45,
     "metadata": {},
     "output_type": "execute_result"
    }
   ],
   "source": [
    "y_train.value_counts()"
   ]
  },
  {
   "cell_type": "code",
   "execution_count": 46,
   "metadata": {},
   "outputs": [
    {
     "data": {
      "image/png": "[encoded data removed]",
      "text/plain": [
       "<Figure size 936x504 with 1 Axes>"
      ]
     },
     "metadata": {
      "needs_background": "light"
     },
     "output_type": "display_data"
    }
   ],
   "source": [
    "y_train.value_counts().plot(kind='bar',title='Balance between the target classes');"
   ]
  },
  {
   "cell_type": "markdown",
   "metadata": {},
   "source": [
    "#### Description:\n",
    "This graph shows our  classes are not balanced, with class 0 being about 4 times more common."
   ]
  },
  {
   "cell_type": "markdown",
   "metadata": {},
   "source": [
    "We will use 4 methods in order to try and solve this imbalance:\n",
    "- adding the class_weight = 'balanced' to our models in order to balance the classes.\n",
    "- upsampling\n",
    "- downsampling\n",
    "- changing the threshold of the probability of the classes\n",
    "\n",
    "We will then pick the best resulting method and tune our hyperparameters on its balanced data."
   ]
  },
  {
   "cell_type": "markdown",
   "metadata": {},
   "source": [
    "<a class=\"anchor\" id=\"section_3_2\"></a>"
   ]
  },
  {
   "cell_type": "markdown",
   "metadata": {},
   "source": [
    "### Using class_weight hyperparameter:"
   ]
  },
  {
   "cell_type": "markdown",
   "metadata": {},
   "source": [
    "#### Logistic regression:"
   ]
  },
  {
   "cell_type": "code",
   "execution_count": 47,
   "metadata": {},
   "outputs": [
    {
     "name": "stdout",
     "output_type": "stream",
     "text": [
      "F1: 0.4804270462633452\n",
      "ROC-AUC: 0.7607653878840319\n"
     ]
    }
   ],
   "source": [
    "model = LogisticRegression(random_state=42,solver='liblinear', class_weight='balanced')\n",
    "model.fit(X_train, y_train)\n",
    "predicted_valid = model.predict(X_valid)\n",
    "y_proba_valid = model.predict_proba(X_valid)[:, 1]\n",
    "\n",
    "print(\"F1:\", f1_score(y_valid, predicted_valid))\n",
    "print(\"ROC-AUC:\", roc_auc_score(y_valid, y_proba_valid))"
   ]
  },
  {
   "cell_type": "markdown",
   "metadata": {},
   "source": [
    "Big improvement in the F1 score using class_weight='balanced', but still not enough for our task."
   ]
  },
  {
   "cell_type": "markdown",
   "metadata": {},
   "source": [
    "<a class=\"anchor\" id=\"section_3_3\"></a>"
   ]
  },
  {
   "cell_type": "markdown",
   "metadata": {},
   "source": [
    "#### Random forest Classifier:"
   ]
  },
  {
   "cell_type": "markdown",
   "metadata": {},
   "source": [
    "min_samples_leaf - the minimum number of samples required to be at a leaf node\n",
    "\n",
    "class_weight='balanced' - gives weights to the classes in order to balance them"
   ]
  },
  {
   "cell_type": "code",
   "execution_count": 48,
   "metadata": {},
   "outputs": [
    {
     "name": "stdout",
     "output_type": "stream",
     "text": [
      "F1: 0.6381418092909535\n",
      "ROC-AUC: 0.8578532307345867\n"
     ]
    }
   ],
   "source": [
    "model = RandomForestClassifier(random_state=42, class_weight='balanced',min_samples_leaf=5)\n",
    "model.fit(X_train, y_train)\n",
    "predicted_valid = model.predict(X_valid)\n",
    "y_proba_valid = model.predict_proba(X_valid)[:, 1]\n",
    "\n",
    "print(\"F1:\", f1_score(y_valid, predicted_valid))\n",
    "print(\"ROC-AUC:\", roc_auc_score(y_valid, y_proba_valid))"
   ]
  },
  {
   "cell_type": "markdown",
   "metadata": {},
   "source": [
    "An incrase from 0.55 to 0.638 using class_weight='balanced'. This score is high enough for our task, althoght it didnt run on the test set yet."
   ]
  },
  {
   "cell_type": "markdown",
   "metadata": {},
   "source": [
    "<a class=\"anchor\" id=\"section_3_4\"></a>"
   ]
  },
  {
   "cell_type": "markdown",
   "metadata": {},
   "source": [
    "#### CatBoost:"
   ]
  },
  {
   "cell_type": "markdown",
   "metadata": {},
   "source": [
    "For CatBoost we will use class_weights and calculate the class_weights using the compute_class_weight method."
   ]
  },
  {
   "cell_type": "code",
   "execution_count": 49,
   "metadata": {},
   "outputs": [],
   "source": [
    "class_weights = class_weight.compute_class_weight('balanced',classes = np.unique(y_train),y = y_train)"
   ]
  },
  {
   "cell_type": "code",
   "execution_count": 50,
   "metadata": {},
   "outputs": [
    {
     "name": "stdout",
     "output_type": "stream",
     "text": [
      "Learning rate set to 0.027819\n",
      "0:\tlearn: 0.6796437\ttotal: 3.35ms\tremaining: 3.35s\n",
      "100:\tlearn: 0.4365180\ttotal: 1.66s\tremaining: 14.8s\n",
      "200:\tlearn: 0.4033395\ttotal: 3.62s\tremaining: 14.4s\n",
      "300:\tlearn: 0.3796966\ttotal: 5.48s\tremaining: 12.7s\n",
      "400:\tlearn: 0.3562094\ttotal: 7.34s\tremaining: 11s\n",
      "500:\tlearn: 0.3351664\ttotal: 9.11s\tremaining: 9.07s\n",
      "600:\tlearn: 0.3145970\ttotal: 10.9s\tremaining: 7.22s\n",
      "700:\tlearn: 0.2966431\ttotal: 12.8s\tremaining: 5.47s\n",
      "800:\tlearn: 0.2801893\ttotal: 14.8s\tremaining: 3.67s\n",
      "900:\tlearn: 0.2650406\ttotal: 16.6s\tremaining: 1.82s\n",
      "999:\tlearn: 0.2511515\ttotal: 18.3s\tremaining: 0us\n",
      "F1: 0.6211453744493393\n",
      "ROC-AUC: 0.8552358213375162\n"
     ]
    }
   ],
   "source": [
    "model = CatBoostClassifier(verbose=100, random_state=42, custom_loss=['F1'], class_weights=(class_weights))\n",
    "model.fit(X_train, y_train)\n",
    "predicted_valid = model.predict(X_valid)\n",
    "y_proba_valid = model.predict_proba(X_valid)[:, 1]\n",
    "\n",
    "print(\"F1:\", f1_score(y_valid, predicted_valid))\n",
    "print(\"ROC-AUC:\", roc_auc_score(y_valid, y_proba_valid))"
   ]
  },
  {
   "cell_type": "markdown",
   "metadata": {},
   "source": [
    "Our F1 score increased from 0.57 to 0.62 using class_weights! it can be considered a decent improvment"
   ]
  },
  {
   "cell_type": "markdown",
   "metadata": {},
   "source": [
    "<a class=\"anchor\" id=\"section_3_5\"></a>"
   ]
  },
  {
   "cell_type": "markdown",
   "metadata": {},
   "source": [
    "#### ANN:"
   ]
  },
  {
   "cell_type": "markdown",
   "metadata": {},
   "source": [
    "We will use the same class_weights paramter we calculated for CatBoost to indicate the weight for our ANN."
   ]
  },
  {
   "cell_type": "code",
   "execution_count": 51,
   "metadata": {},
   "outputs": [],
   "source": [
    "model = create_ann()"
   ]
  },
  {
   "cell_type": "code",
   "execution_count": 52,
   "metadata": {},
   "outputs": [
    {
     "name": "stdout",
     "output_type": "stream",
     "text": [
      "Train on 6000 samples, validate on 2000 samples\n",
      "Epoch 1/100\n",
      "6000/6000 [==============================] - 1s 200us/sample - loss: 0.6130 - accuracy: 0.7392 - f1: 0.0662 - val_loss: 0.5319 - val_accuracy: 0.7965 - val_f1: 0.0000e+00\n",
      "Epoch 2/100\n",
      "6000/6000 [==============================] - 1s 112us/sample - loss: 0.4939 - accuracy: 0.7962 - f1: 0.0000e+00 - val_loss: 0.4739 - val_accuracy: 0.7965 - val_f1: 0.0000e+00\n",
      "Epoch 3/100\n",
      "6000/6000 [==============================] - 1s 101us/sample - loss: 0.4559 - accuracy: 0.7962 - f1: 0.0000e+00 - val_loss: 0.4483 - val_accuracy: 0.7965 - val_f1: 0.0000e+00\n",
      "Epoch 4/100\n",
      "6000/6000 [==============================] - 1s 102us/sample - loss: 0.4385 - accuracy: 0.7962 - f1: 0.0000e+00 - val_loss: 0.4375 - val_accuracy: 0.7965 - val_f1: 0.0000e+00\n",
      "Epoch 5/100\n",
      "6000/6000 [==============================] - 1s 100us/sample - loss: 0.4304 - accuracy: 0.7962 - f1: 0.0000e+00 - val_loss: 0.4334 - val_accuracy: 0.7965 - val_f1: 0.0000e+00\n",
      "Epoch 6/100\n",
      "6000/6000 [==============================] - 1s 110us/sample - loss: 0.4265 - accuracy: 0.7962 - f1: 0.0000e+00 - val_loss: 0.4287 - val_accuracy: 0.7965 - val_f1: 0.0000e+00\n",
      "Epoch 7/100\n",
      "6000/6000 [==============================] - 1s 101us/sample - loss: 0.4227 - accuracy: 0.7965 - f1: 0.0028 - val_loss: 0.4265 - val_accuracy: 0.7965 - val_f1: 0.0000e+00\n",
      "Epoch 8/100\n",
      "6000/6000 [==============================] - 1s 100us/sample - loss: 0.4193 - accuracy: 0.7967 - f1: 0.0047 - val_loss: 0.4224 - val_accuracy: 0.7970 - val_f1: 0.0053\n",
      "Epoch 9/100\n",
      "6000/6000 [==============================] - 1s 100us/sample - loss: 0.4159 - accuracy: 0.7985 - f1: 0.0231 - val_loss: 0.4190 - val_accuracy: 0.8030 - val_f1: 0.0780\n",
      "Epoch 10/100\n",
      "6000/6000 [==============================] - 1s 105us/sample - loss: 0.4120 - accuracy: 0.8087 - f1: 0.1710 - val_loss: 0.4146 - val_accuracy: 0.8155 - val_f1: 0.2173\n",
      "Epoch 11/100\n",
      "6000/6000 [==============================] - 1s 110us/sample - loss: 0.4090 - accuracy: 0.8202 - f1: 0.2520 - val_loss: 0.4117 - val_accuracy: 0.8230 - val_f1: 0.2963\n",
      "Epoch 12/100\n",
      "6000/6000 [==============================] - 1s 104us/sample - loss: 0.4059 - accuracy: 0.8247 - f1: 0.3085 - val_loss: 0.4091 - val_accuracy: 0.8250 - val_f1: 0.3137\n",
      "Epoch 13/100\n",
      "6000/6000 [==============================] - 1s 102us/sample - loss: 0.4026 - accuracy: 0.8285 - f1: 0.3495 - val_loss: 0.4074 - val_accuracy: 0.8275 - val_f1: 0.3676\n",
      "Epoch 14/100\n",
      "6000/6000 [==============================] - 1s 109us/sample - loss: 0.4010 - accuracy: 0.8287 - f1: 0.3402 - val_loss: 0.4053 - val_accuracy: 0.8280 - val_f1: 0.3620\n",
      "Epoch 15/100\n",
      "6000/6000 [==============================] - 1s 103us/sample - loss: 0.3979 - accuracy: 0.8285 - f1: 0.3702 - val_loss: 0.4043 - val_accuracy: 0.8300 - val_f1: 0.3863\n",
      "Epoch 16/100\n",
      "6000/6000 [==============================] - 1s 101us/sample - loss: 0.3959 - accuracy: 0.8303 - f1: 0.3784 - val_loss: 0.4035 - val_accuracy: 0.8290 - val_f1: 0.3613\n",
      "Epoch 17/100\n",
      "6000/6000 [==============================] - 1s 100us/sample - loss: 0.3939 - accuracy: 0.8305 - f1: 0.3907 - val_loss: 0.4025 - val_accuracy: 0.8310 - val_f1: 0.3816\n",
      "Epoch 18/100\n",
      "6000/6000 [==============================] - 1s 100us/sample - loss: 0.3925 - accuracy: 0.8322 - f1: 0.4163 - val_loss: 0.4013 - val_accuracy: 0.8290 - val_f1: 0.3875\n",
      "Epoch 19/100\n",
      "6000/6000 [==============================] - 1s 99us/sample - loss: 0.3917 - accuracy: 0.8333 - f1: 0.4226 - val_loss: 0.4008 - val_accuracy: 0.8270 - val_f1: 0.4012\n",
      "Epoch 20/100\n",
      "6000/6000 [==============================] - 1s 101us/sample - loss: 0.3900 - accuracy: 0.8332 - f1: 0.4224 - val_loss: 0.3997 - val_accuracy: 0.8290 - val_f1: 0.4054\n",
      "Epoch 21/100\n",
      "6000/6000 [==============================] - 1s 102us/sample - loss: 0.3890 - accuracy: 0.8328 - f1: 0.4313 - val_loss: 0.3998 - val_accuracy: 0.8285 - val_f1: 0.4180\n",
      "Epoch 22/100\n",
      "6000/6000 [==============================] - 1s 101us/sample - loss: 0.3876 - accuracy: 0.8345 - f1: 0.4413 - val_loss: 0.3990 - val_accuracy: 0.8305 - val_f1: 0.4136\n",
      "Epoch 23/100\n",
      "6000/6000 [==============================] - 1s 101us/sample - loss: 0.3871 - accuracy: 0.8352 - f1: 0.4513 - val_loss: 0.3984 - val_accuracy: 0.8295 - val_f1: 0.4046\n",
      "Epoch 24/100\n",
      "6000/6000 [==============================] - 1s 92us/sample - loss: 0.3855 - accuracy: 0.8363 - f1: 0.4461 - val_loss: 0.3982 - val_accuracy: 0.8330 - val_f1: 0.4435\n",
      "Epoch 25/100\n",
      "6000/6000 [==============================] - 1s 100us/sample - loss: 0.3850 - accuracy: 0.8353 - f1: 0.4308 - val_loss: 0.3983 - val_accuracy: 0.8310 - val_f1: 0.4338\n",
      "Epoch 26/100\n",
      "6000/6000 [==============================] - 1s 100us/sample - loss: 0.3839 - accuracy: 0.8360 - f1: 0.4563 - val_loss: 0.3967 - val_accuracy: 0.8335 - val_f1: 0.4393\n",
      "Epoch 27/100\n",
      "6000/6000 [==============================] - 1s 99us/sample - loss: 0.3827 - accuracy: 0.8395 - f1: 0.4480 - val_loss: 0.3969 - val_accuracy: 0.8350 - val_f1: 0.4518\n",
      "Epoch 28/100\n",
      "6000/6000 [==============================] - 1s 100us/sample - loss: 0.3820 - accuracy: 0.8383 - f1: 0.4554 - val_loss: 0.3962 - val_accuracy: 0.8355 - val_f1: 0.4627\n",
      "Epoch 29/100\n",
      "6000/6000 [==============================] - 1s 100us/sample - loss: 0.3814 - accuracy: 0.8400 - f1: 0.4540 - val_loss: 0.3962 - val_accuracy: 0.8370 - val_f1: 0.4255\n",
      "Epoch 30/100\n",
      "6000/6000 [==============================] - 1s 100us/sample - loss: 0.3805 - accuracy: 0.8397 - f1: 0.4757 - val_loss: 0.3959 - val_accuracy: 0.8370 - val_f1: 0.4364\n",
      "Epoch 31/100\n",
      "6000/6000 [==============================] - 1s 100us/sample - loss: 0.3804 - accuracy: 0.8390 - f1: 0.4589 - val_loss: 0.3962 - val_accuracy: 0.8355 - val_f1: 0.4301\n",
      "Epoch 32/100\n",
      "6000/6000 [==============================] - 1s 108us/sample - loss: 0.3798 - accuracy: 0.8398 - f1: 0.4427 - val_loss: 0.3947 - val_accuracy: 0.8350 - val_f1: 0.4508\n",
      "Epoch 33/100\n",
      "6000/6000 [==============================] - 1s 101us/sample - loss: 0.3790 - accuracy: 0.8395 - f1: 0.4664 - val_loss: 0.3961 - val_accuracy: 0.8355 - val_f1: 0.4340\n",
      "Epoch 34/100\n",
      "6000/6000 [==============================] - 1s 102us/sample - loss: 0.3785 - accuracy: 0.8392 - f1: 0.4496 - val_loss: 0.3943 - val_accuracy: 0.8370 - val_f1: 0.4444\n",
      "Epoch 35/100\n",
      "6000/6000 [==============================] - 1s 102us/sample - loss: 0.3775 - accuracy: 0.8398 - f1: 0.4567 - val_loss: 0.3943 - val_accuracy: 0.8375 - val_f1: 0.4549\n",
      "Epoch 36/100\n",
      "6000/6000 [==============================] - 1s 100us/sample - loss: 0.3763 - accuracy: 0.8412 - f1: 0.4623 - val_loss: 0.3958 - val_accuracy: 0.8380 - val_f1: 0.4323\n",
      "Epoch 37/100\n",
      "6000/6000 [==============================] - 1s 99us/sample - loss: 0.3764 - accuracy: 0.8400 - f1: 0.4615 - val_loss: 0.3950 - val_accuracy: 0.8370 - val_f1: 0.4410\n",
      "Epoch 38/100\n",
      "6000/6000 [==============================] - 1s 100us/sample - loss: 0.3761 - accuracy: 0.8397 - f1: 0.4602 - val_loss: 0.3950 - val_accuracy: 0.8370 - val_f1: 0.4556\n",
      "Epoch 39/100\n",
      "6000/6000 [==============================] - 1s 102us/sample - loss: 0.3757 - accuracy: 0.8413 - f1: 0.4579 - val_loss: 0.3934 - val_accuracy: 0.8385 - val_f1: 0.4321\n",
      "Epoch 40/100\n",
      "6000/6000 [==============================] - 1s 100us/sample - loss: 0.3750 - accuracy: 0.8397 - f1: 0.4473 - val_loss: 0.3953 - val_accuracy: 0.8375 - val_f1: 0.4221\n",
      "Epoch 41/100\n",
      "6000/6000 [==============================] - 1s 102us/sample - loss: 0.3746 - accuracy: 0.8412 - f1: 0.4607 - val_loss: 0.3916 - val_accuracy: 0.8390 - val_f1: 0.4556\n",
      "Epoch 42/100\n",
      "6000/6000 [==============================] - 1s 100us/sample - loss: 0.3742 - accuracy: 0.8422 - f1: 0.4670 - val_loss: 0.3915 - val_accuracy: 0.8375 - val_f1: 0.4671\n",
      "Epoch 43/100\n",
      "6000/6000 [==============================] - 1s 99us/sample - loss: 0.3732 - accuracy: 0.8422 - f1: 0.4600 - val_loss: 0.3908 - val_accuracy: 0.8385 - val_f1: 0.4569\n",
      "Epoch 44/100\n",
      "6000/6000 [==============================] - 1s 100us/sample - loss: 0.3734 - accuracy: 0.8418 - f1: 0.4760 - val_loss: 0.3933 - val_accuracy: 0.8380 - val_f1: 0.4131\n",
      "Epoch 45/100\n",
      "6000/6000 [==============================] - 1s 100us/sample - loss: 0.3727 - accuracy: 0.8403 - f1: 0.4708 - val_loss: 0.3904 - val_accuracy: 0.8395 - val_f1: 0.4395\n",
      "Epoch 46/100\n",
      "6000/6000 [==============================] - 1s 99us/sample - loss: 0.3720 - accuracy: 0.8417 - f1: 0.4570 - val_loss: 0.3896 - val_accuracy: 0.8395 - val_f1: 0.4553\n",
      "Epoch 47/100\n",
      "6000/6000 [==============================] - 1s 101us/sample - loss: 0.3714 - accuracy: 0.8417 - f1: 0.4757 - val_loss: 0.3940 - val_accuracy: 0.8410 - val_f1: 0.4222\n",
      "Epoch 48/100\n",
      "6000/6000 [==============================] - 1s 99us/sample - loss: 0.3707 - accuracy: 0.8435 - f1: 0.4681 - val_loss: 0.3918 - val_accuracy: 0.8400 - val_f1: 0.4364\n",
      "Epoch 49/100\n",
      "6000/6000 [==============================] - 1s 100us/sample - loss: 0.3711 - accuracy: 0.8413 - f1: 0.4552 - val_loss: 0.3888 - val_accuracy: 0.8405 - val_f1: 0.4505\n",
      "Epoch 50/100\n",
      "6000/6000 [==============================] - 1s 100us/sample - loss: 0.3706 - accuracy: 0.8445 - f1: 0.4732 - val_loss: 0.3879 - val_accuracy: 0.8405 - val_f1: 0.4544\n",
      "Epoch 51/100\n",
      "6000/6000 [==============================] - 1s 93us/sample - loss: 0.3693 - accuracy: 0.8442 - f1: 0.4748 - val_loss: 0.3892 - val_accuracy: 0.8410 - val_f1: 0.4446\n",
      "Epoch 52/100\n",
      "6000/6000 [==============================] - 1s 101us/sample - loss: 0.3694 - accuracy: 0.8418 - f1: 0.4592 - val_loss: 0.3884 - val_accuracy: 0.8385 - val_f1: 0.4636\n",
      "Epoch 53/100\n",
      "6000/6000 [==============================] - 1s 100us/sample - loss: 0.3684 - accuracy: 0.8440 - f1: 0.4779 - val_loss: 0.3871 - val_accuracy: 0.8405 - val_f1: 0.4566\n",
      "Epoch 54/100\n",
      "6000/6000 [==============================] - 1s 100us/sample - loss: 0.3678 - accuracy: 0.8440 - f1: 0.4644 - val_loss: 0.3869 - val_accuracy: 0.8405 - val_f1: 0.4561\n",
      "Epoch 55/100\n",
      "6000/6000 [==============================] - 1s 101us/sample - loss: 0.3677 - accuracy: 0.8458 - f1: 0.4717 - val_loss: 0.3888 - val_accuracy: 0.8415 - val_f1: 0.4281\n",
      "Epoch 56/100\n",
      "6000/6000 [==============================] - 1s 100us/sample - loss: 0.3673 - accuracy: 0.8468 - f1: 0.4730 - val_loss: 0.3873 - val_accuracy: 0.8395 - val_f1: 0.4665\n",
      "Epoch 57/100\n",
      "6000/6000 [==============================] - 1s 100us/sample - loss: 0.3671 - accuracy: 0.8445 - f1: 0.4758 - val_loss: 0.3862 - val_accuracy: 0.8410 - val_f1: 0.4559\n",
      "Epoch 58/100\n",
      "6000/6000 [==============================] - 1s 101us/sample - loss: 0.3661 - accuracy: 0.8437 - f1: 0.4652 - val_loss: 0.3862 - val_accuracy: 0.8435 - val_f1: 0.4440\n",
      "Epoch 59/100\n",
      "6000/6000 [==============================] - 1s 100us/sample - loss: 0.3656 - accuracy: 0.8475 - f1: 0.4787 - val_loss: 0.3859 - val_accuracy: 0.8415 - val_f1: 0.4632\n",
      "Epoch 60/100\n",
      "6000/6000 [==============================] - 1s 101us/sample - loss: 0.3653 - accuracy: 0.8460 - f1: 0.4896 - val_loss: 0.3848 - val_accuracy: 0.8420 - val_f1: 0.4526\n",
      "Epoch 61/100\n",
      "6000/6000 [==============================] - 1s 100us/sample - loss: 0.3651 - accuracy: 0.8450 - f1: 0.4793 - val_loss: 0.3859 - val_accuracy: 0.8410 - val_f1: 0.4359\n",
      "Epoch 62/100\n",
      "6000/6000 [==============================] - 1s 100us/sample - loss: 0.3646 - accuracy: 0.8455 - f1: 0.4622 - val_loss: 0.3850 - val_accuracy: 0.8420 - val_f1: 0.4661\n",
      "Epoch 63/100\n",
      "6000/6000 [==============================] - 1s 99us/sample - loss: 0.3640 - accuracy: 0.8455 - f1: 0.4901 - val_loss: 0.3860 - val_accuracy: 0.8425 - val_f1: 0.4435\n",
      "Epoch 64/100\n",
      "6000/6000 [==============================] - 1s 101us/sample - loss: 0.3640 - accuracy: 0.8457 - f1: 0.4706 - val_loss: 0.3845 - val_accuracy: 0.8425 - val_f1: 0.4591\n",
      "Epoch 65/100\n",
      "6000/6000 [==============================] - 1s 100us/sample - loss: 0.3641 - accuracy: 0.8467 - f1: 0.4709 - val_loss: 0.3841 - val_accuracy: 0.8430 - val_f1: 0.4488\n",
      "Epoch 66/100\n",
      "6000/6000 [==============================] - 1s 99us/sample - loss: 0.3633 - accuracy: 0.8448 - f1: 0.4684 - val_loss: 0.3850 - val_accuracy: 0.8445 - val_f1: 0.4567\n",
      "Epoch 67/100\n",
      "6000/6000 [==============================] - 1s 100us/sample - loss: 0.3628 - accuracy: 0.8478 - f1: 0.4859 - val_loss: 0.3861 - val_accuracy: 0.8435 - val_f1: 0.4591\n",
      "Epoch 68/100\n",
      "6000/6000 [==============================] - 1s 100us/sample - loss: 0.3630 - accuracy: 0.8457 - f1: 0.4746 - val_loss: 0.3833 - val_accuracy: 0.8465 - val_f1: 0.4743\n",
      "Epoch 69/100\n",
      "6000/6000 [==============================] - 1s 101us/sample - loss: 0.3621 - accuracy: 0.8468 - f1: 0.4849 - val_loss: 0.3846 - val_accuracy: 0.8435 - val_f1: 0.4497\n",
      "Epoch 70/100\n",
      "6000/6000 [==============================] - 1s 109us/sample - loss: 0.3620 - accuracy: 0.8475 - f1: 0.4675 - val_loss: 0.3838 - val_accuracy: 0.8435 - val_f1: 0.4483\n",
      "Epoch 71/100\n",
      "6000/6000 [==============================] - 1s 102us/sample - loss: 0.3615 - accuracy: 0.8477 - f1: 0.4824 - val_loss: 0.3874 - val_accuracy: 0.8440 - val_f1: 0.4334\n",
      "Epoch 72/100\n",
      "6000/6000 [==============================] - 1s 102us/sample - loss: 0.3619 - accuracy: 0.8468 - f1: 0.4826 - val_loss: 0.3828 - val_accuracy: 0.8435 - val_f1: 0.4655\n",
      "Epoch 73/100\n",
      "6000/6000 [==============================] - 1s 102us/sample - loss: 0.3615 - accuracy: 0.8468 - f1: 0.4802 - val_loss: 0.3827 - val_accuracy: 0.8440 - val_f1: 0.4528\n",
      "Epoch 74/100\n",
      "6000/6000 [==============================] - 1s 111us/sample - loss: 0.3608 - accuracy: 0.8478 - f1: 0.4926 - val_loss: 0.3834 - val_accuracy: 0.8435 - val_f1: 0.4501\n",
      "Epoch 75/100\n",
      "6000/6000 [==============================] - 1s 104us/sample - loss: 0.3600 - accuracy: 0.8473 - f1: 0.4897 - val_loss: 0.3836 - val_accuracy: 0.8445 - val_f1: 0.4460\n",
      "Epoch 76/100\n",
      "6000/6000 [==============================] - 1s 110us/sample - loss: 0.3599 - accuracy: 0.8460 - f1: 0.4759 - val_loss: 0.3823 - val_accuracy: 0.8445 - val_f1: 0.4540\n",
      "Epoch 77/100\n",
      "6000/6000 [==============================] - 1s 103us/sample - loss: 0.3602 - accuracy: 0.8447 - f1: 0.4758 - val_loss: 0.3811 - val_accuracy: 0.8485 - val_f1: 0.4897\n",
      "Epoch 78/100\n",
      "6000/6000 [==============================] - 1s 100us/sample - loss: 0.3595 - accuracy: 0.8470 - f1: 0.4842 - val_loss: 0.3816 - val_accuracy: 0.8455 - val_f1: 0.4697\n",
      "Epoch 79/100\n",
      "6000/6000 [==============================] - 1s 100us/sample - loss: 0.3586 - accuracy: 0.8470 - f1: 0.4831 - val_loss: 0.3817 - val_accuracy: 0.8485 - val_f1: 0.4744\n",
      "Epoch 80/100\n",
      "6000/6000 [==============================] - 1s 100us/sample - loss: 0.3588 - accuracy: 0.8452 - f1: 0.4770 - val_loss: 0.3816 - val_accuracy: 0.8445 - val_f1: 0.4921\n",
      "Epoch 81/100\n",
      "6000/6000 [==============================] - 1s 100us/sample - loss: 0.3584 - accuracy: 0.8465 - f1: 0.4939 - val_loss: 0.3802 - val_accuracy: 0.8475 - val_f1: 0.4826\n",
      "Epoch 82/100\n",
      "6000/6000 [==============================] - 1s 100us/sample - loss: 0.3584 - accuracy: 0.8470 - f1: 0.4733 - val_loss: 0.3794 - val_accuracy: 0.8480 - val_f1: 0.4805\n",
      "Epoch 83/100\n",
      "6000/6000 [==============================] - 1s 102us/sample - loss: 0.3575 - accuracy: 0.8465 - f1: 0.4895 - val_loss: 0.3797 - val_accuracy: 0.8485 - val_f1: 0.4773\n",
      "Epoch 84/100\n",
      "6000/6000 [==============================] - 1s 101us/sample - loss: 0.3576 - accuracy: 0.8473 - f1: 0.4865 - val_loss: 0.3801 - val_accuracy: 0.8490 - val_f1: 0.4652\n",
      "Epoch 85/100\n",
      "6000/6000 [==============================] - 1s 101us/sample - loss: 0.3568 - accuracy: 0.8510 - f1: 0.4891 - val_loss: 0.3799 - val_accuracy: 0.8445 - val_f1: 0.4831\n",
      "Epoch 86/100\n",
      "6000/6000 [==============================] - 1s 99us/sample - loss: 0.3563 - accuracy: 0.8472 - f1: 0.4969 - val_loss: 0.3796 - val_accuracy: 0.8470 - val_f1: 0.4686\n",
      "Epoch 87/100\n",
      "6000/6000 [==============================] - 1s 109us/sample - loss: 0.3566 - accuracy: 0.8508 - f1: 0.4986 - val_loss: 0.3799 - val_accuracy: 0.8470 - val_f1: 0.4620\n",
      "Epoch 88/100\n",
      "6000/6000 [==============================] - 1s 100us/sample - loss: 0.3561 - accuracy: 0.8475 - f1: 0.4814 - val_loss: 0.3796 - val_accuracy: 0.8475 - val_f1: 0.4904\n",
      "Epoch 89/100\n",
      "6000/6000 [==============================] - 1s 100us/sample - loss: 0.3556 - accuracy: 0.8502 - f1: 0.5042 - val_loss: 0.3782 - val_accuracy: 0.8475 - val_f1: 0.4767\n",
      "Epoch 90/100\n",
      "6000/6000 [==============================] - 1s 100us/sample - loss: 0.3550 - accuracy: 0.8507 - f1: 0.4905 - val_loss: 0.3816 - val_accuracy: 0.8465 - val_f1: 0.4779\n",
      "Epoch 91/100\n",
      "6000/6000 [==============================] - 1s 101us/sample - loss: 0.3560 - accuracy: 0.8488 - f1: 0.4939 - val_loss: 0.3792 - val_accuracy: 0.8470 - val_f1: 0.4734\n",
      "Epoch 92/100\n",
      "6000/6000 [==============================] - 1s 101us/sample - loss: 0.3549 - accuracy: 0.8483 - f1: 0.4796 - val_loss: 0.3796 - val_accuracy: 0.8470 - val_f1: 0.4661\n",
      "Epoch 93/100\n",
      "6000/6000 [==============================] - 1s 100us/sample - loss: 0.3549 - accuracy: 0.8508 - f1: 0.4933 - val_loss: 0.3798 - val_accuracy: 0.8420 - val_f1: 0.4646\n",
      "Epoch 94/100\n",
      "6000/6000 [==============================] - 1s 100us/sample - loss: 0.3542 - accuracy: 0.8497 - f1: 0.5011 - val_loss: 0.3812 - val_accuracy: 0.8475 - val_f1: 0.4949\n",
      "Epoch 95/100\n",
      "6000/6000 [==============================] - 1s 100us/sample - loss: 0.3545 - accuracy: 0.8473 - f1: 0.4863 - val_loss: 0.3795 - val_accuracy: 0.8495 - val_f1: 0.4956\n",
      "Epoch 96/100\n",
      "6000/6000 [==============================] - 1s 99us/sample - loss: 0.3547 - accuracy: 0.8498 - f1: 0.5001 - val_loss: 0.3793 - val_accuracy: 0.8470 - val_f1: 0.4599\n",
      "Epoch 97/100\n",
      "6000/6000 [==============================] - 1s 100us/sample - loss: 0.3543 - accuracy: 0.8483 - f1: 0.4996 - val_loss: 0.3815 - val_accuracy: 0.8460 - val_f1: 0.4509\n",
      "Epoch 98/100\n",
      "6000/6000 [==============================] - 1s 100us/sample - loss: 0.3541 - accuracy: 0.8495 - f1: 0.4949 - val_loss: 0.3798 - val_accuracy: 0.8445 - val_f1: 0.4672\n",
      "Epoch 99/100\n",
      "6000/6000 [==============================] - 1s 99us/sample - loss: 0.3534 - accuracy: 0.8483 - f1: 0.4856 - val_loss: 0.3796 - val_accuracy: 0.8495 - val_f1: 0.4673\n",
      "Epoch 100/100\n",
      "6000/6000 [==============================] - 1s 99us/sample - loss: 0.3537 - accuracy: 0.8507 - f1: 0.5013 - val_loss: 0.3796 - val_accuracy: 0.8435 - val_f1: 0.4737\n"
     ]
    }
   ],
   "source": [
    "history = model.fit(X_train.values, y_train.values, validation_data = (X_valid.values, y_valid.values), epochs = 100, class_weight = class_weights)"
   ]
  },
  {
   "cell_type": "code",
   "execution_count": 53,
   "metadata": {},
   "outputs": [],
   "source": [
    "y_pred = model.predict(X_valid)\n",
    "y_pred = (y_pred > 0.5)"
   ]
  },
  {
   "cell_type": "code",
   "execution_count": 54,
   "metadata": {},
   "outputs": [
    {
     "name": "stdout",
     "output_type": "stream",
     "text": [
      "              precision    recall  f1-score   support\n",
      "\n",
      "           0       0.86      0.96      0.91      1593\n",
      "           1       0.71      0.40      0.51       407\n",
      "\n",
      "    accuracy                           0.84      2000\n",
      "   macro avg       0.78      0.68      0.71      2000\n",
      "weighted avg       0.83      0.84      0.83      2000\n",
      "\n"
     ]
    }
   ],
   "source": [
    "print(classification_report(y_valid, y_pred,\n",
    "          target_names=['0', '1'], zero_division=1))"
   ]
  },
  {
   "cell_type": "code",
   "execution_count": 55,
   "metadata": {},
   "outputs": [
    {
     "data": {
      "image/png": "[encoded data removed]",
      "text/plain": [
       "<Figure size 936x504 with 1 Axes>"
      ]
     },
     "metadata": {
      "needs_background": "light"
     },
     "output_type": "display_data"
    }
   ],
   "source": [
    "plot_metric(history, 'f1')"
   ]
  },
  {
   "cell_type": "code",
   "execution_count": 56,
   "metadata": {},
   "outputs": [
    {
     "data": {
      "text/plain": [
       "0.5070866141732282"
      ]
     },
     "execution_count": 56,
     "metadata": {},
     "output_type": "execute_result"
    }
   ],
   "source": [
    "f1_score(y_valid, y_pred)"
   ]
  },
  {
   "cell_type": "markdown",
   "metadata": {},
   "source": [
    "##### Description:\n",
    "This graph shows the f1 progress through the epochs in both training and validation sets.\n",
    "- our F1 score for the validation set is 0.55, which is decrease from 0.56."
   ]
  },
  {
   "cell_type": "markdown",
   "metadata": {},
   "source": [
    "A small increase in our F1 score using class_weight. (0.56 to 0.55)"
   ]
  },
  {
   "cell_type": "markdown",
   "metadata": {},
   "source": [
    "<a class=\"anchor\" id=\"section_3_6\"></a>"
   ]
  },
  {
   "cell_type": "markdown",
   "metadata": {},
   "source": [
    "### Upsampling:"
   ]
  },
  {
   "cell_type": "markdown",
   "metadata": {},
   "source": [
    "Creating an upsampling function:"
   ]
  },
  {
   "cell_type": "code",
   "execution_count": 57,
   "metadata": {},
   "outputs": [],
   "source": [
    "def upsample(features, target, repeat):\n",
    "    \n",
    "    features_zeros = features[target == 0]\n",
    "    features_ones = features[target == 1]\n",
    "    target_zeros = target[target == 0]\n",
    "    target_ones = target[target == 1]\n",
    "    \n",
    "    features_upsampled = pd.concat([features_zeros] + [features_ones] * repeat)\n",
    "    target_upsampled = pd.concat([target_zeros] + [target_ones] * repeat)\n",
    "    \n",
    "    features_upsampled = shuffle(features_upsampled, random_state=42)\n",
    "    target_upsampled = shuffle(target_upsampled, random_state=42)\n",
    "    \n",
    "    return features_upsampled, target_upsampled"
   ]
  },
  {
   "cell_type": "markdown",
   "metadata": {},
   "source": [
    "upsampling our training set:"
   ]
  },
  {
   "cell_type": "code",
   "execution_count": 58,
   "metadata": {},
   "outputs": [],
   "source": [
    "t_features_upsampled, t_target_upsampled = upsample(X_train, y_train, 5)"
   ]
  },
  {
   "cell_type": "markdown",
   "metadata": {},
   "source": [
    "checking the size of our new upsampled training set:"
   ]
  },
  {
   "cell_type": "code",
   "execution_count": 59,
   "metadata": {},
   "outputs": [
    {
     "name": "stdout",
     "output_type": "stream",
     "text": [
      "(10892, 11)\n",
      "(10892,)\n"
     ]
    }
   ],
   "source": [
    "print(t_features_upsampled.shape)\n",
    "print(t_target_upsampled.shape)"
   ]
  },
  {
   "cell_type": "markdown",
   "metadata": {},
   "source": [
    "<a class=\"anchor\" id=\"section_3_7\"></a>"
   ]
  },
  {
   "cell_type": "markdown",
   "metadata": {},
   "source": [
    "#### Logistic Regression:"
   ]
  },
  {
   "cell_type": "code",
   "execution_count": 60,
   "metadata": {},
   "outputs": [
    {
     "name": "stdout",
     "output_type": "stream",
     "text": [
      "F1: 0.4782608695652174\n",
      "ROC-AUC: 0.7613514901650495\n"
     ]
    }
   ],
   "source": [
    "model = LogisticRegression(random_state=42,solver='liblinear')\n",
    "model.fit(t_features_upsampled, t_target_upsampled)\n",
    "predicted_valid = model.predict(X_valid)\n",
    "y_proba_valid = model.predict_proba(X_valid)[:, 1]\n",
    "\n",
    "print(\"F1:\", f1_score(y_valid, predicted_valid))\n",
    "print(\"ROC-AUC:\", roc_auc_score(y_valid, y_proba_valid))"
   ]
  },
  {
   "cell_type": "markdown",
   "metadata": {},
   "source": [
    "A slight decrease compared to class_weight (F1 of 0.48)"
   ]
  },
  {
   "cell_type": "markdown",
   "metadata": {},
   "source": [
    "<a class=\"anchor\" id=\"section_3_8\"></a>"
   ]
  },
  {
   "cell_type": "markdown",
   "metadata": {},
   "source": [
    "#### Random Forest Classifier:"
   ]
  },
  {
   "cell_type": "code",
   "execution_count": 61,
   "metadata": {},
   "outputs": [
    {
     "name": "stdout",
     "output_type": "stream",
     "text": [
      "F1: 0.6305309734513275\n",
      "ROC-AUC: 0.8603673010452672\n"
     ]
    }
   ],
   "source": [
    "model = RandomForestClassifier(random_state=42, min_samples_leaf=5)\n",
    "model.fit(t_features_upsampled, t_target_upsampled)\n",
    "predicted_valid = model.predict(X_valid)\n",
    "y_proba_valid = model.predict_proba(X_valid)[:, 1]\n",
    "\n",
    "print(\"F1:\", f1_score(y_valid, predicted_valid))\n",
    "print(\"ROC-AUC:\", roc_auc_score(y_valid, y_proba_valid))"
   ]
  },
  {
   "cell_type": "markdown",
   "metadata": {},
   "source": [
    "A small decrease in F1 score(0.638 to 0.630)"
   ]
  },
  {
   "cell_type": "markdown",
   "metadata": {},
   "source": [
    "<a class=\"anchor\" id=\"section_3_9\"></a>"
   ]
  },
  {
   "cell_type": "markdown",
   "metadata": {},
   "source": [
    "#### CatBoost:"
   ]
  },
  {
   "cell_type": "code",
   "execution_count": 62,
   "metadata": {},
   "outputs": [
    {
     "name": "stdout",
     "output_type": "stream",
     "text": [
      "Learning rate set to 0.032933\n",
      "0:\tlearn: 0.6745860\ttotal: 11.2ms\tremaining: 11.2s\n",
      "100:\tlearn: 0.4175242\ttotal: 6.26s\tremaining: 55.8s\n",
      "200:\tlearn: 0.3790955\ttotal: 13.6s\tremaining: 54.1s\n",
      "300:\tlearn: 0.3493869\ttotal: 19.5s\tremaining: 45.2s\n",
      "400:\tlearn: 0.3229749\ttotal: 25.2s\tremaining: 37.7s\n",
      "500:\tlearn: 0.2985503\ttotal: 31.1s\tremaining: 31s\n",
      "600:\tlearn: 0.2763582\ttotal: 37.1s\tremaining: 24.6s\n",
      "700:\tlearn: 0.2578282\ttotal: 43.1s\tremaining: 18.4s\n",
      "800:\tlearn: 0.2409955\ttotal: 49s\tremaining: 12.2s\n",
      "900:\tlearn: 0.2256275\ttotal: 55.3s\tremaining: 6.07s\n",
      "999:\tlearn: 0.2121220\ttotal: 1m 1s\tremaining: 0us\n",
      "F1: 0.6092436974789915\n",
      "ROC-AUC: 0.8537027011603284\n"
     ]
    }
   ],
   "source": [
    "model = CatBoostClassifier(verbose=100, custom_loss=['F1'], random_state=42)\n",
    "model.fit(t_features_upsampled, t_target_upsampled)\n",
    "predicted_valid = model.predict(X_valid)\n",
    "y_proba_valid = model.predict_proba(X_valid)[:, 1]\n",
    "\n",
    "print(\"F1:\", f1_score(y_valid, predicted_valid))\n",
    "print(\"ROC-AUC:\", roc_auc_score(y_valid, y_proba_valid))"
   ]
  },
  {
   "cell_type": "markdown",
   "metadata": {},
   "source": [
    "A slight decrease in F1 score compared to class_weight (0.62 to 0.60)"
   ]
  },
  {
   "cell_type": "markdown",
   "metadata": {},
   "source": [
    "<a class=\"anchor\" id=\"section_3_10\"></a>"
   ]
  },
  {
   "cell_type": "markdown",
   "metadata": {},
   "source": [
    "#### ANN:"
   ]
  },
  {
   "cell_type": "code",
   "execution_count": 63,
   "metadata": {},
   "outputs": [],
   "source": [
    "model = create_ann()"
   ]
  },
  {
   "cell_type": "code",
   "execution_count": 64,
   "metadata": {},
   "outputs": [
    {
     "name": "stdout",
     "output_type": "stream",
     "text": [
      "Train on 10892 samples, validate on 2000 samples\n",
      "Epoch 1/100\n",
      "10892/10892 [==============================] - 2s 143us/sample - loss: 0.7002 - accuracy: 0.5747 - f1: 0.6891 - val_loss: 0.6793 - val_accuracy: 0.5720 - val_f1: 0.3941\n",
      "Epoch 2/100\n",
      "10892/10892 [==============================] - 1s 98us/sample - loss: 0.5956 - accuracy: 0.6986 - f1: 0.7338 - val_loss: 0.6209 - val_accuracy: 0.6830 - val_f1: 0.4687\n",
      "Epoch 3/100\n",
      "10892/10892 [==============================] - 1s 92us/sample - loss: 0.5700 - accuracy: 0.7174 - f1: 0.7478 - val_loss: 0.6297 - val_accuracy: 0.6785 - val_f1: 0.4804\n",
      "Epoch 4/100\n",
      "10892/10892 [==============================] - 1s 92us/sample - loss: 0.5600 - accuracy: 0.7214 - f1: 0.7523 - val_loss: 0.6113 - val_accuracy: 0.6910 - val_f1: 0.4898\n",
      "Epoch 5/100\n",
      "10892/10892 [==============================] - 1s 92us/sample - loss: 0.5533 - accuracy: 0.7260 - f1: 0.7568 - val_loss: 0.6260 - val_accuracy: 0.6770 - val_f1: 0.4864\n",
      "Epoch 6/100\n",
      "10892/10892 [==============================] - 1s 91us/sample - loss: 0.5464 - accuracy: 0.7293 - f1: 0.7592 - val_loss: 0.6163 - val_accuracy: 0.6760 - val_f1: 0.4815\n",
      "Epoch 7/100\n",
      "10892/10892 [==============================] - 1s 93us/sample - loss: 0.5397 - accuracy: 0.7316 - f1: 0.7631 - val_loss: 0.6403 - val_accuracy: 0.6555 - val_f1: 0.4783\n",
      "Epoch 8/100\n",
      "10892/10892 [==============================] - 1s 94us/sample - loss: 0.5341 - accuracy: 0.7351 - f1: 0.7671 - val_loss: 0.6240 - val_accuracy: 0.6695 - val_f1: 0.4826\n",
      "Epoch 9/100\n",
      "10892/10892 [==============================] - 1s 95us/sample - loss: 0.5285 - accuracy: 0.7355 - f1: 0.7671 - val_loss: 0.5626 - val_accuracy: 0.7045 - val_f1: 0.4856\n",
      "Epoch 10/100\n",
      "10892/10892 [==============================] - 1s 87us/sample - loss: 0.5228 - accuracy: 0.7392 - f1: 0.7691 - val_loss: 0.6094 - val_accuracy: 0.6710 - val_f1: 0.4849\n",
      "Epoch 11/100\n",
      "10892/10892 [==============================] - 1s 98us/sample - loss: 0.5186 - accuracy: 0.7418 - f1: 0.7730 - val_loss: 0.5583 - val_accuracy: 0.7085 - val_f1: 0.5020\n",
      "Epoch 12/100\n",
      "10892/10892 [==============================] - 1s 92us/sample - loss: 0.5139 - accuracy: 0.7455 - f1: 0.7736 - val_loss: 0.5782 - val_accuracy: 0.6935 - val_f1: 0.4974\n",
      "Epoch 13/100\n",
      "10892/10892 [==============================] - 1s 93us/sample - loss: 0.5095 - accuracy: 0.7438 - f1: 0.7735 - val_loss: 0.5540 - val_accuracy: 0.7090 - val_f1: 0.5033\n",
      "Epoch 14/100\n",
      "10892/10892 [==============================] - 1s 92us/sample - loss: 0.5045 - accuracy: 0.7472 - f1: 0.7760 - val_loss: 0.5515 - val_accuracy: 0.7140 - val_f1: 0.5102\n",
      "Epoch 15/100\n",
      "10892/10892 [==============================] - 1s 97us/sample - loss: 0.4998 - accuracy: 0.7507 - f1: 0.7785 - val_loss: 0.5809 - val_accuracy: 0.6970 - val_f1: 0.5098\n",
      "Epoch 16/100\n",
      "10892/10892 [==============================] - 1s 92us/sample - loss: 0.4960 - accuracy: 0.7519 - f1: 0.7796 - val_loss: 0.5406 - val_accuracy: 0.7190 - val_f1: 0.5178\n",
      "Epoch 17/100\n",
      "10892/10892 [==============================] - 1s 87us/sample - loss: 0.4935 - accuracy: 0.7571 - f1: 0.7813 - val_loss: 0.5610 - val_accuracy: 0.7075 - val_f1: 0.5154\n",
      "Epoch 18/100\n",
      "10892/10892 [==============================] - 1s 92us/sample - loss: 0.4902 - accuracy: 0.7581 - f1: 0.7839 - val_loss: 0.5539 - val_accuracy: 0.7080 - val_f1: 0.5148\n",
      "Epoch 19/100\n",
      "10892/10892 [==============================] - 1s 92us/sample - loss: 0.4877 - accuracy: 0.7590 - f1: 0.7840 - val_loss: 0.5927 - val_accuracy: 0.6895 - val_f1: 0.5173\n",
      "Epoch 20/100\n",
      "10892/10892 [==============================] - 1s 91us/sample - loss: 0.4859 - accuracy: 0.7606 - f1: 0.7852 - val_loss: 0.5486 - val_accuracy: 0.7160 - val_f1: 0.5230\n",
      "Epoch 21/100\n",
      "10892/10892 [==============================] - 1s 91us/sample - loss: 0.4837 - accuracy: 0.7595 - f1: 0.7849 - val_loss: 0.5204 - val_accuracy: 0.7350 - val_f1: 0.5289\n",
      "Epoch 22/100\n",
      "10892/10892 [==============================] - 1s 92us/sample - loss: 0.4814 - accuracy: 0.7633 - f1: 0.7892 - val_loss: 0.5213 - val_accuracy: 0.7335 - val_f1: 0.5268\n",
      "Epoch 23/100\n",
      "10892/10892 [==============================] - 1s 92us/sample - loss: 0.4798 - accuracy: 0.7630 - f1: 0.7872 - val_loss: 0.5607 - val_accuracy: 0.7140 - val_f1: 0.5263\n",
      "Epoch 24/100\n",
      "10892/10892 [==============================] - 1s 91us/sample - loss: 0.4782 - accuracy: 0.7618 - f1: 0.7865 - val_loss: 0.4956 - val_accuracy: 0.7540 - val_f1: 0.5359\n",
      "Epoch 25/100\n",
      "10892/10892 [==============================] - 1s 91us/sample - loss: 0.4763 - accuracy: 0.7640 - f1: 0.7872 - val_loss: 0.5667 - val_accuracy: 0.7060 - val_f1: 0.5224\n",
      "Epoch 26/100\n",
      "10892/10892 [==============================] - 1s 91us/sample - loss: 0.4752 - accuracy: 0.7673 - f1: 0.7905 - val_loss: 0.5336 - val_accuracy: 0.7280 - val_f1: 0.5265\n",
      "Epoch 27/100\n",
      "10892/10892 [==============================] - 1s 93us/sample - loss: 0.4739 - accuracy: 0.7712 - f1: 0.7947 - val_loss: 0.5556 - val_accuracy: 0.7150 - val_f1: 0.5259\n",
      "Epoch 28/100\n",
      "10892/10892 [==============================] - 1s 90us/sample - loss: 0.4729 - accuracy: 0.7694 - f1: 0.7918 - val_loss: 0.5568 - val_accuracy: 0.7100 - val_f1: 0.5209\n",
      "Epoch 29/100\n",
      "10892/10892 [==============================] - 1s 91us/sample - loss: 0.4716 - accuracy: 0.7702 - f1: 0.7937 - val_loss: 0.5262 - val_accuracy: 0.7340 - val_f1: 0.5296\n",
      "Epoch 30/100\n",
      "10892/10892 [==============================] - 1s 92us/sample - loss: 0.4691 - accuracy: 0.7737 - f1: 0.7964 - val_loss: 0.5233 - val_accuracy: 0.7310 - val_f1: 0.5226\n",
      "Epoch 31/100\n",
      "10892/10892 [==============================] - 1s 91us/sample - loss: 0.4675 - accuracy: 0.7730 - f1: 0.7946 - val_loss: 0.5292 - val_accuracy: 0.7285 - val_f1: 0.5258\n",
      "Epoch 32/100\n",
      "10892/10892 [==============================] - 1s 87us/sample - loss: 0.4674 - accuracy: 0.7720 - f1: 0.7940 - val_loss: 0.5284 - val_accuracy: 0.7315 - val_f1: 0.5344\n",
      "Epoch 33/100\n",
      "10892/10892 [==============================] - 1s 96us/sample - loss: 0.4642 - accuracy: 0.7722 - f1: 0.7950 - val_loss: 0.5117 - val_accuracy: 0.7415 - val_f1: 0.5354\n",
      "Epoch 34/100\n",
      "10892/10892 [==============================] - 1s 92us/sample - loss: 0.4626 - accuracy: 0.7749 - f1: 0.7960 - val_loss: 0.5126 - val_accuracy: 0.7415 - val_f1: 0.5328\n",
      "Epoch 35/100\n",
      "10892/10892 [==============================] - 1s 87us/sample - loss: 0.4611 - accuracy: 0.7774 - f1: 0.7970 - val_loss: 0.5085 - val_accuracy: 0.7450 - val_f1: 0.5373\n",
      "Epoch 36/100\n",
      "10892/10892 [==============================] - 1s 91us/sample - loss: 0.4607 - accuracy: 0.7775 - f1: 0.7995 - val_loss: 0.5199 - val_accuracy: 0.7410 - val_f1: 0.5347\n",
      "Epoch 37/100\n",
      "10892/10892 [==============================] - 1s 92us/sample - loss: 0.4588 - accuracy: 0.7765 - f1: 0.7978 - val_loss: 0.5417 - val_accuracy: 0.7225 - val_f1: 0.5254\n",
      "Epoch 38/100\n",
      "10892/10892 [==============================] - 1s 96us/sample - loss: 0.4564 - accuracy: 0.7793 - f1: 0.8009 - val_loss: 0.4934 - val_accuracy: 0.7575 - val_f1: 0.5435\n",
      "Epoch 39/100\n",
      "10892/10892 [==============================] - 1s 93us/sample - loss: 0.4559 - accuracy: 0.7807 - f1: 0.8022 - val_loss: 0.5289 - val_accuracy: 0.7380 - val_f1: 0.5341\n",
      "Epoch 40/100\n",
      "10892/10892 [==============================] - 1s 93us/sample - loss: 0.4556 - accuracy: 0.7815 - f1: 0.8018 - val_loss: 0.4909 - val_accuracy: 0.7630 - val_f1: 0.5486\n",
      "Epoch 41/100\n",
      "10892/10892 [==============================] - 1s 93us/sample - loss: 0.4542 - accuracy: 0.7805 - f1: 0.7998 - val_loss: 0.5185 - val_accuracy: 0.7440 - val_f1: 0.5337\n",
      "Epoch 42/100\n",
      "10892/10892 [==============================] - 1s 92us/sample - loss: 0.4542 - accuracy: 0.7838 - f1: 0.8036 - val_loss: 0.5104 - val_accuracy: 0.7515 - val_f1: 0.5425\n",
      "Epoch 43/100\n",
      "10892/10892 [==============================] - 1s 98us/sample - loss: 0.4528 - accuracy: 0.7820 - f1: 0.8024 - val_loss: 0.4927 - val_accuracy: 0.7600 - val_f1: 0.5456\n",
      "Epoch 44/100\n",
      "10892/10892 [==============================] - 1s 93us/sample - loss: 0.4512 - accuracy: 0.7846 - f1: 0.8045 - val_loss: 0.5588 - val_accuracy: 0.7275 - val_f1: 0.5401\n",
      "Epoch 45/100\n",
      "10892/10892 [==============================] - 1s 93us/sample - loss: 0.4511 - accuracy: 0.7862 - f1: 0.8050 - val_loss: 0.5275 - val_accuracy: 0.7415 - val_f1: 0.5422\n",
      "Epoch 46/100\n",
      "10892/10892 [==============================] - 1s 91us/sample - loss: 0.4506 - accuracy: 0.7819 - f1: 0.8030 - val_loss: 0.5910 - val_accuracy: 0.7050 - val_f1: 0.5237\n",
      "Epoch 47/100\n",
      "10892/10892 [==============================] - 1s 96us/sample - loss: 0.4502 - accuracy: 0.7831 - f1: 0.8036 - val_loss: 0.5046 - val_accuracy: 0.7600 - val_f1: 0.5547\n",
      "Epoch 48/100\n",
      "10892/10892 [==============================] - 1s 95us/sample - loss: 0.4496 - accuracy: 0.7853 - f1: 0.8059 - val_loss: 0.4806 - val_accuracy: 0.7750 - val_f1: 0.5629\n",
      "Epoch 49/100\n",
      "10892/10892 [==============================] - 1s 92us/sample - loss: 0.4484 - accuracy: 0.7852 - f1: 0.8061 - val_loss: 0.4924 - val_accuracy: 0.7690 - val_f1: 0.5582\n",
      "Epoch 50/100\n",
      "10892/10892 [==============================] - 1s 94us/sample - loss: 0.4475 - accuracy: 0.7863 - f1: 0.8069 - val_loss: 0.5060 - val_accuracy: 0.7585 - val_f1: 0.5499\n",
      "Epoch 51/100\n",
      "10892/10892 [==============================] - 1s 99us/sample - loss: 0.4469 - accuracy: 0.7862 - f1: 0.8060 - val_loss: 0.5655 - val_accuracy: 0.7285 - val_f1: 0.5340\n",
      "Epoch 52/100\n",
      "10892/10892 [==============================] - 1s 94us/sample - loss: 0.4472 - accuracy: 0.7888 - f1: 0.8088 - val_loss: 0.5340 - val_accuracy: 0.7405 - val_f1: 0.5362\n",
      "Epoch 53/100\n",
      "10892/10892 [==============================] - 1s 98us/sample - loss: 0.4472 - accuracy: 0.7842 - f1: 0.8040 - val_loss: 0.4974 - val_accuracy: 0.7650 - val_f1: 0.5519\n",
      "Epoch 54/100\n",
      "10892/10892 [==============================] - 1s 92us/sample - loss: 0.4459 - accuracy: 0.7877 - f1: 0.8073 - val_loss: 0.5003 - val_accuracy: 0.7625 - val_f1: 0.5550\n",
      "Epoch 55/100\n",
      "10892/10892 [==============================] - 1s 92us/sample - loss: 0.4450 - accuracy: 0.7847 - f1: 0.8051 - val_loss: 0.5144 - val_accuracy: 0.7530 - val_f1: 0.5453\n",
      "Epoch 56/100\n",
      "10892/10892 [==============================] - 1s 92us/sample - loss: 0.4456 - accuracy: 0.7864 - f1: 0.8071 - val_loss: 0.4983 - val_accuracy: 0.7655 - val_f1: 0.5600\n",
      "Epoch 57/100\n",
      "10892/10892 [==============================] - 1s 91us/sample - loss: 0.4446 - accuracy: 0.7864 - f1: 0.8066 - val_loss: 0.5010 - val_accuracy: 0.7620 - val_f1: 0.5585\n",
      "Epoch 58/100\n",
      "10892/10892 [==============================] - 1s 92us/sample - loss: 0.4458 - accuracy: 0.7851 - f1: 0.8057 - val_loss: 0.5591 - val_accuracy: 0.7155 - val_f1: 0.5246\n",
      "Epoch 59/100\n",
      "10892/10892 [==============================] - 1s 91us/sample - loss: 0.4454 - accuracy: 0.7845 - f1: 0.8049 - val_loss: 0.5079 - val_accuracy: 0.7545 - val_f1: 0.5468\n",
      "Epoch 60/100\n",
      "10892/10892 [==============================] - 1s 94us/sample - loss: 0.4455 - accuracy: 0.7868 - f1: 0.8067 - val_loss: 0.5513 - val_accuracy: 0.7335 - val_f1: 0.5381\n",
      "Epoch 61/100\n",
      "10892/10892 [==============================] - 1s 91us/sample - loss: 0.4437 - accuracy: 0.7848 - f1: 0.8069 - val_loss: 0.4983 - val_accuracy: 0.7605 - val_f1: 0.5518\n",
      "Epoch 62/100\n",
      "10892/10892 [==============================] - 1s 91us/sample - loss: 0.4441 - accuracy: 0.7866 - f1: 0.8070 - val_loss: 0.4939 - val_accuracy: 0.7695 - val_f1: 0.5619\n",
      "Epoch 63/100\n",
      "10892/10892 [==============================] - 1s 92us/sample - loss: 0.4452 - accuracy: 0.7846 - f1: 0.8054 - val_loss: 0.4903 - val_accuracy: 0.7645 - val_f1: 0.5542\n",
      "Epoch 64/100\n",
      "10892/10892 [==============================] - 1s 87us/sample - loss: 0.4436 - accuracy: 0.7866 - f1: 0.8070 - val_loss: 0.5076 - val_accuracy: 0.7565 - val_f1: 0.5515\n",
      "Epoch 65/100\n",
      "10892/10892 [==============================] - 1s 91us/sample - loss: 0.4434 - accuracy: 0.7876 - f1: 0.8082 - val_loss: 0.4699 - val_accuracy: 0.7775 - val_f1: 0.5646\n",
      "Epoch 66/100\n",
      "10892/10892 [==============================] - 1s 93us/sample - loss: 0.4437 - accuracy: 0.7852 - f1: 0.8058 - val_loss: 0.5433 - val_accuracy: 0.7355 - val_f1: 0.5374\n",
      "Epoch 67/100\n",
      "10892/10892 [==============================] - 1s 110us/sample - loss: 0.4429 - accuracy: 0.7854 - f1: 0.8065 - val_loss: 0.5442 - val_accuracy: 0.7360 - val_f1: 0.5388\n",
      "Epoch 68/100\n",
      "10892/10892 [==============================] - 1s 92us/sample - loss: 0.4432 - accuracy: 0.7863 - f1: 0.8061 - val_loss: 0.4921 - val_accuracy: 0.7630 - val_f1: 0.5550\n",
      "Epoch 69/100\n",
      "10892/10892 [==============================] - 1s 96us/sample - loss: 0.4431 - accuracy: 0.7831 - f1: 0.8041 - val_loss: 0.4801 - val_accuracy: 0.7725 - val_f1: 0.5607\n",
      "Epoch 70/100\n",
      "10892/10892 [==============================] - 1s 93us/sample - loss: 0.4424 - accuracy: 0.7871 - f1: 0.8074 - val_loss: 0.5703 - val_accuracy: 0.7205 - val_f1: 0.5306\n",
      "Epoch 71/100\n",
      "10892/10892 [==============================] - 1s 92us/sample - loss: 0.4416 - accuracy: 0.7839 - f1: 0.8054 - val_loss: 0.4986 - val_accuracy: 0.7620 - val_f1: 0.5520\n",
      "Epoch 72/100\n",
      "10892/10892 [==============================] - 1s 92us/sample - loss: 0.4417 - accuracy: 0.7852 - f1: 0.8051 - val_loss: 0.5484 - val_accuracy: 0.7330 - val_f1: 0.5392\n",
      "Epoch 73/100\n",
      "10892/10892 [==============================] - 1s 94us/sample - loss: 0.4422 - accuracy: 0.7867 - f1: 0.8065 - val_loss: 0.4725 - val_accuracy: 0.7795 - val_f1: 0.5655\n",
      "Epoch 74/100\n",
      "10892/10892 [==============================] - 1s 93us/sample - loss: 0.4417 - accuracy: 0.7865 - f1: 0.8061 - val_loss: 0.4911 - val_accuracy: 0.7680 - val_f1: 0.5596\n",
      "Epoch 75/100\n",
      "10892/10892 [==============================] - 1s 96us/sample - loss: 0.4413 - accuracy: 0.7864 - f1: 0.8063 - val_loss: 0.5138 - val_accuracy: 0.7515 - val_f1: 0.5469\n",
      "Epoch 76/100\n",
      "10892/10892 [==============================] - 1s 91us/sample - loss: 0.4419 - accuracy: 0.7849 - f1: 0.8044 - val_loss: 0.4871 - val_accuracy: 0.7690 - val_f1: 0.5575\n",
      "Epoch 77/100\n",
      "10892/10892 [==============================] - 1s 88us/sample - loss: 0.4410 - accuracy: 0.7868 - f1: 0.8060 - val_loss: 0.5126 - val_accuracy: 0.7555 - val_f1: 0.5492\n",
      "Epoch 78/100\n",
      "10892/10892 [==============================] - 1s 92us/sample - loss: 0.4405 - accuracy: 0.7871 - f1: 0.8058 - val_loss: 0.5257 - val_accuracy: 0.7465 - val_f1: 0.5452\n",
      "Epoch 79/100\n",
      "10892/10892 [==============================] - 1s 92us/sample - loss: 0.4413 - accuracy: 0.7871 - f1: 0.8067 - val_loss: 0.5233 - val_accuracy: 0.7505 - val_f1: 0.5544\n",
      "Epoch 80/100\n",
      "10892/10892 [==============================] - 1s 91us/sample - loss: 0.4404 - accuracy: 0.7868 - f1: 0.8077 - val_loss: 0.4427 - val_accuracy: 0.7930 - val_f1: 0.5685\n",
      "Epoch 81/100\n",
      "10892/10892 [==============================] - 1s 92us/sample - loss: 0.4408 - accuracy: 0.7881 - f1: 0.8086 - val_loss: 0.5052 - val_accuracy: 0.7565 - val_f1: 0.5548\n",
      "Epoch 82/100\n",
      "10892/10892 [==============================] - 1s 91us/sample - loss: 0.4418 - accuracy: 0.7876 - f1: 0.8083 - val_loss: 0.5101 - val_accuracy: 0.7530 - val_f1: 0.5523\n",
      "Epoch 83/100\n",
      "10892/10892 [==============================] - 1s 92us/sample - loss: 0.4402 - accuracy: 0.7871 - f1: 0.8059 - val_loss: 0.5808 - val_accuracy: 0.7175 - val_f1: 0.5356\n",
      "Epoch 84/100\n",
      "10892/10892 [==============================] - 1s 91us/sample - loss: 0.4401 - accuracy: 0.7869 - f1: 0.8072 - val_loss: 0.5211 - val_accuracy: 0.7420 - val_f1: 0.5444\n",
      "Epoch 85/100\n",
      "10892/10892 [==============================] - 1s 91us/sample - loss: 0.4406 - accuracy: 0.7828 - f1: 0.8033 - val_loss: 0.5525 - val_accuracy: 0.7315 - val_f1: 0.5408\n",
      "Epoch 86/100\n",
      "10892/10892 [==============================] - 1s 92us/sample - loss: 0.4392 - accuracy: 0.7864 - f1: 0.8080 - val_loss: 0.5302 - val_accuracy: 0.7450 - val_f1: 0.5498\n",
      "Epoch 87/100\n",
      "10892/10892 [==============================] - 1s 91us/sample - loss: 0.4397 - accuracy: 0.7883 - f1: 0.8077 - val_loss: 0.4963 - val_accuracy: 0.7615 - val_f1: 0.5506\n",
      "Epoch 88/100\n",
      "10892/10892 [==============================] - 1s 91us/sample - loss: 0.4401 - accuracy: 0.7866 - f1: 0.8076 - val_loss: 0.5580 - val_accuracy: 0.7285 - val_f1: 0.5401\n",
      "Epoch 89/100\n",
      "10892/10892 [==============================] - 1s 87us/sample - loss: 0.4393 - accuracy: 0.7861 - f1: 0.8056 - val_loss: 0.5857 - val_accuracy: 0.7085 - val_f1: 0.5299\n",
      "Epoch 90/100\n",
      "10892/10892 [==============================] - 1s 92us/sample - loss: 0.4397 - accuracy: 0.7852 - f1: 0.8069 - val_loss: 0.5557 - val_accuracy: 0.7290 - val_f1: 0.5388\n",
      "Epoch 91/100\n",
      "10892/10892 [==============================] - 1s 91us/sample - loss: 0.4394 - accuracy: 0.7872 - f1: 0.8084 - val_loss: 0.5162 - val_accuracy: 0.7525 - val_f1: 0.5534\n",
      "Epoch 92/100\n",
      "10892/10892 [==============================] - 1s 91us/sample - loss: 0.4408 - accuracy: 0.7855 - f1: 0.8041 - val_loss: 0.5467 - val_accuracy: 0.7310 - val_f1: 0.5379\n",
      "Epoch 93/100\n",
      "10892/10892 [==============================] - 1s 91us/sample - loss: 0.4400 - accuracy: 0.7864 - f1: 0.8062 - val_loss: 0.4902 - val_accuracy: 0.7630 - val_f1: 0.5543\n",
      "Epoch 94/100\n",
      "10892/10892 [==============================] - 1s 90us/sample - loss: 0.4392 - accuracy: 0.7854 - f1: 0.8058 - val_loss: 0.5039 - val_accuracy: 0.7575 - val_f1: 0.5504\n",
      "Epoch 95/100\n",
      "10892/10892 [==============================] - 1s 92us/sample - loss: 0.4390 - accuracy: 0.7872 - f1: 0.8076 - val_loss: 0.4961 - val_accuracy: 0.7690 - val_f1: 0.5635\n",
      "Epoch 96/100\n",
      "10892/10892 [==============================] - 1s 92us/sample - loss: 0.4388 - accuracy: 0.7876 - f1: 0.8070 - val_loss: 0.5247 - val_accuracy: 0.7440 - val_f1: 0.5447\n",
      "Epoch 97/100\n",
      "10892/10892 [==============================] - 1s 93us/sample - loss: 0.4392 - accuracy: 0.7896 - f1: 0.8100 - val_loss: 0.5025 - val_accuracy: 0.7605 - val_f1: 0.5527\n",
      "Epoch 98/100\n",
      "10892/10892 [==============================] - 1s 93us/sample - loss: 0.4397 - accuracy: 0.7863 - f1: 0.8064 - val_loss: 0.4838 - val_accuracy: 0.7715 - val_f1: 0.5626\n",
      "Epoch 99/100\n",
      "10892/10892 [==============================] - 1s 91us/sample - loss: 0.4380 - accuracy: 0.7887 - f1: 0.8077 - val_loss: 0.5144 - val_accuracy: 0.7495 - val_f1: 0.5474\n",
      "Epoch 100/100\n",
      "10892/10892 [==============================] - 1s 91us/sample - loss: 0.4369 - accuracy: 0.7919 - f1: 0.8107 - val_loss: 0.4727 - val_accuracy: 0.7765 - val_f1: 0.5640\n"
     ]
    }
   ],
   "source": [
    "history = model.fit(t_features_upsampled.values, t_target_upsampled.values, validation_data = (X_valid.values, y_valid.values), epochs = 100)"
   ]
  },
  {
   "cell_type": "code",
   "execution_count": 65,
   "metadata": {},
   "outputs": [],
   "source": [
    "y_pred = model.predict(X_valid)\n",
    "y_pred = (y_pred > 0.5)"
   ]
  },
  {
   "cell_type": "code",
   "execution_count": 66,
   "metadata": {},
   "outputs": [
    {
     "name": "stdout",
     "output_type": "stream",
     "text": [
      "              precision    recall  f1-score   support\n",
      "\n",
      "           0       0.92      0.78      0.85      1593\n",
      "           1       0.47      0.75      0.58       407\n",
      "\n",
      "    accuracy                           0.78      2000\n",
      "   macro avg       0.70      0.77      0.71      2000\n",
      "weighted avg       0.83      0.78      0.79      2000\n",
      "\n"
     ]
    }
   ],
   "source": [
    "print(classification_report(y_valid, y_pred,\n",
    "          target_names=['0', '1'], zero_division=1))"
   ]
  },
  {
   "cell_type": "code",
   "execution_count": 67,
   "metadata": {},
   "outputs": [
    {
     "data": {
      "image/png": "[encoded data removed]",
      "text/plain": [
       "<Figure size 936x504 with 1 Axes>"
      ]
     },
     "metadata": {
      "needs_background": "light"
     },
     "output_type": "display_data"
    }
   ],
   "source": [
    "plot_metric(history, 'f1')"
   ]
  },
  {
   "cell_type": "code",
   "execution_count": 68,
   "metadata": {},
   "outputs": [
    {
     "data": {
      "text/plain": [
       "0.576303317535545"
      ]
     },
     "execution_count": 68,
     "metadata": {},
     "output_type": "execute_result"
    }
   ],
   "source": [
    "f1_score(y_valid, y_pred)"
   ]
  },
  {
   "cell_type": "markdown",
   "metadata": {},
   "source": [
    "#### Description:\n",
    "This graph shows the progress of F1 score in both validation and training sets:\n",
    "- We see that using the upsampled data, our ANN seem to perform much better on the training set, while performing worse on the validation set - an indication for overfitting.\n"
   ]
  },
  {
   "cell_type": "markdown",
   "metadata": {},
   "source": [
    "<a class=\"anchor\" id=\"section_3_11\"></a>"
   ]
  },
  {
   "cell_type": "markdown",
   "metadata": {},
   "source": [
    "### Downsampling:"
   ]
  },
  {
   "cell_type": "markdown",
   "metadata": {},
   "source": [
    "A function to downsample:"
   ]
  },
  {
   "cell_type": "code",
   "execution_count": 69,
   "metadata": {},
   "outputs": [],
   "source": [
    "def downsample(features, target, fraction):\n",
    "    features_zeros = features[target == 0]\n",
    "    features_ones = features[target == 1]\n",
    "    target_zeros = target[target == 0]\n",
    "    target_ones = target[target == 1]\n",
    "\n",
    "    features_sample = features_zeros.sample(frac=0.1, random_state=42)\n",
    "    target_sample = target_zeros.sample(frac=0.1, random_state=42)\n",
    "    \n",
    "    features_downsampled = pd.concat([features_sample] + [features_ones])\n",
    "    target_downsampled = pd.concat([target_sample] + [target_ones])\n",
    "    \n",
    "    features_downsampled = shuffle(features_downsampled, random_state=42)\n",
    "    target_downsampled = shuffle(target_downsampled, random_state=42)\n",
    "    \n",
    "\n",
    "    \n",
    "    return features_downsampled, target_downsampled"
   ]
  },
  {
   "cell_type": "code",
   "execution_count": 70,
   "metadata": {},
   "outputs": [],
   "source": [
    "t_features_downsampled, t_target_downsampled = downsample(X_train, y_train, 0.1)"
   ]
  },
  {
   "cell_type": "markdown",
   "metadata": {},
   "source": [
    "<a class=\"anchor\" id=\"section_3_12\"></a>"
   ]
  },
  {
   "cell_type": "markdown",
   "metadata": {},
   "source": [
    "#### Logistic regression:"
   ]
  },
  {
   "cell_type": "code",
   "execution_count": 71,
   "metadata": {},
   "outputs": [
    {
     "name": "stdout",
     "output_type": "stream",
     "text": [
      "F1: 0.4136389044158748\n",
      "ROC-AUC: 0.7639087469595944\n"
     ]
    }
   ],
   "source": [
    "model = LogisticRegression(random_state=42,solver='liblinear')\n",
    "model.fit(t_features_downsampled, t_target_downsampled)\n",
    "predicted_valid = model.predict(X_valid)\n",
    "y_proba_valid = model.predict_proba(X_valid)[:, 1]\n",
    "\n",
    "print(\"F1:\", f1_score(y_valid, predicted_valid))\n",
    "print(\"ROC-AUC:\", roc_auc_score(y_valid, y_proba_valid))"
   ]
  },
  {
   "cell_type": "markdown",
   "metadata": {},
   "source": [
    "A decrease from upsampling and class_weight usage."
   ]
  },
  {
   "cell_type": "markdown",
   "metadata": {},
   "source": [
    "<a class=\"anchor\" id=\"section_3_13\"></a>"
   ]
  },
  {
   "cell_type": "markdown",
   "metadata": {},
   "source": [
    "#### RandomForest Classifier:"
   ]
  },
  {
   "cell_type": "code",
   "execution_count": 72,
   "metadata": {},
   "outputs": [
    {
     "name": "stdout",
     "output_type": "stream",
     "text": [
      "F1: 0.4558823529411765\n",
      "ROC-AUC: 0.8492514085734424\n"
     ]
    }
   ],
   "source": [
    "model = RandomForestClassifier(random_state=42, min_samples_leaf=5)\n",
    "model.fit(t_features_downsampled, t_target_downsampled)\n",
    "predicted_valid = model.predict(X_valid)\n",
    "y_proba_valid = model.predict_proba(X_valid)[:, 1]\n",
    "\n",
    "print(\"F1:\", f1_score(y_valid, predicted_valid))\n",
    "print(\"ROC-AUC:\", roc_auc_score(y_valid, y_proba_valid))"
   ]
  },
  {
   "cell_type": "markdown",
   "metadata": {},
   "source": [
    "A major decrease in F1 score (0.63 to 0.45)"
   ]
  },
  {
   "cell_type": "markdown",
   "metadata": {},
   "source": [
    "<a class=\"anchor\" id=\"section_3_14\"></a>"
   ]
  },
  {
   "cell_type": "markdown",
   "metadata": {},
   "source": [
    "#### CatBoost:"
   ]
  },
  {
   "cell_type": "code",
   "execution_count": 73,
   "metadata": {},
   "outputs": [
    {
     "name": "stdout",
     "output_type": "stream",
     "text": [
      "Learning rate set to 0.019472\n",
      "0:\tlearn: 0.6832716\ttotal: 1.84ms\tremaining: 1.84s\n",
      "100:\tlearn: 0.3904882\ttotal: 879ms\tremaining: 7.82s\n",
      "200:\tlearn: 0.3439784\ttotal: 1.85s\tremaining: 7.34s\n",
      "300:\tlearn: 0.3124322\ttotal: 2.83s\tremaining: 6.58s\n",
      "400:\tlearn: 0.2853629\ttotal: 3.81s\tremaining: 5.7s\n",
      "500:\tlearn: 0.2599513\ttotal: 4.79s\tremaining: 4.77s\n",
      "600:\tlearn: 0.2375026\ttotal: 5.86s\tremaining: 3.89s\n",
      "700:\tlearn: 0.2167299\ttotal: 6.93s\tremaining: 2.95s\n",
      "800:\tlearn: 0.1996347\ttotal: 7.82s\tremaining: 1.94s\n",
      "900:\tlearn: 0.1818863\ttotal: 8.8s\tremaining: 967ms\n",
      "999:\tlearn: 0.1668262\ttotal: 9.86s\tremaining: 0us\n",
      "F1: 0.492\n",
      "ROC-AUC: 0.8550599906532111\n"
     ]
    }
   ],
   "source": [
    "model = CatBoostClassifier(verbose=100, custom_loss=['F1'], random_state=42)\n",
    "model.fit(t_features_downsampled, t_target_downsampled)\n",
    "predicted_valid = model.predict(X_valid)\n",
    "y_proba_valid = model.predict_proba(X_valid)[:, 1]\n",
    "\n",
    "print(\"F1:\", f1_score(y_valid, predicted_valid))\n",
    "print(\"ROC-AUC:\", roc_auc_score(y_valid, y_proba_valid))"
   ]
  },
  {
   "cell_type": "markdown",
   "metadata": {},
   "source": [
    "A major decrease in F1 score (0.60 to 0.49)"
   ]
  },
  {
   "cell_type": "markdown",
   "metadata": {},
   "source": [
    "<a class=\"anchor\" id=\"section_3_15\"></a>"
   ]
  },
  {
   "cell_type": "markdown",
   "metadata": {},
   "source": [
    "#### ANN:"
   ]
  },
  {
   "cell_type": "code",
   "execution_count": 74,
   "metadata": {},
   "outputs": [],
   "source": [
    "model = create_ann()"
   ]
  },
  {
   "cell_type": "code",
   "execution_count": 75,
   "metadata": {},
   "outputs": [
    {
     "name": "stdout",
     "output_type": "stream",
     "text": [
      "Train on 1701 samples, validate on 2000 samples\n",
      "Epoch 1/100\n",
      "1701/1701 [==============================] - 1s 422us/sample - loss: 0.6799 - accuracy: 0.6420 - f1: 0.7615 - val_loss: 0.7480 - val_accuracy: 0.2030 - val_f1: 0.3322\n",
      "Epoch 2/100\n",
      "1701/1701 [==============================] - 0s 177us/sample - loss: 0.6440 - accuracy: 0.7190 - f1: 0.8370 - val_loss: 0.8194 - val_accuracy: 0.2035 - val_f1: 0.3340\n",
      "Epoch 3/100\n",
      "1701/1701 [==============================] - 0s 170us/sample - loss: 0.6034 - accuracy: 0.7190 - f1: 0.8364 - val_loss: 0.9247 - val_accuracy: 0.2035 - val_f1: 0.3340\n",
      "Epoch 4/100\n",
      "1701/1701 [==============================] - 0s 136us/sample - loss: 0.5788 - accuracy: 0.7190 - f1: 0.8368 - val_loss: 1.0068 - val_accuracy: 0.2035 - val_f1: 0.3340\n",
      "Epoch 5/100\n",
      "1701/1701 [==============================] - 0s 138us/sample - loss: 0.5679 - accuracy: 0.7190 - f1: 0.8366 - val_loss: 1.0332 - val_accuracy: 0.2035 - val_f1: 0.3340\n",
      "Epoch 6/100\n",
      "1701/1701 [==============================] - 0s 166us/sample - loss: 0.5575 - accuracy: 0.7190 - f1: 0.8298 - val_loss: 1.0172 - val_accuracy: 0.2035 - val_f1: 0.3340\n",
      "Epoch 7/100\n",
      "1701/1701 [==============================] - 0s 136us/sample - loss: 0.5477 - accuracy: 0.7190 - f1: 0.8360 - val_loss: 0.9999 - val_accuracy: 0.2035 - val_f1: 0.3340\n",
      "Epoch 8/100\n",
      "1701/1701 [==============================] - 0s 162us/sample - loss: 0.5361 - accuracy: 0.7190 - f1: 0.8336 - val_loss: 0.9834 - val_accuracy: 0.2035 - val_f1: 0.3340\n",
      "Epoch 9/100\n",
      "1701/1701 [==============================] - 0s 135us/sample - loss: 0.5267 - accuracy: 0.7190 - f1: 0.8346 - val_loss: 0.9690 - val_accuracy: 0.2035 - val_f1: 0.3340\n",
      "Epoch 10/100\n",
      "1701/1701 [==============================] - 0s 137us/sample - loss: 0.5202 - accuracy: 0.7190 - f1: 0.8297 - val_loss: 0.9823 - val_accuracy: 0.2035 - val_f1: 0.3340\n",
      "Epoch 11/100\n",
      "1701/1701 [==============================] - 0s 161us/sample - loss: 0.5157 - accuracy: 0.7190 - f1: 0.8350 - val_loss: 0.9817 - val_accuracy: 0.2035 - val_f1: 0.3340\n",
      "Epoch 12/100\n",
      "1701/1701 [==============================] - 0s 135us/sample - loss: 0.5121 - accuracy: 0.7190 - f1: 0.8325 - val_loss: 0.9672 - val_accuracy: 0.2035 - val_f1: 0.3340\n",
      "Epoch 13/100\n",
      "1701/1701 [==============================] - 0s 161us/sample - loss: 0.5091 - accuracy: 0.7190 - f1: 0.8327 - val_loss: 0.9596 - val_accuracy: 0.2035 - val_f1: 0.3340\n",
      "Epoch 14/100\n",
      "1701/1701 [==============================] - 0s 136us/sample - loss: 0.5072 - accuracy: 0.7190 - f1: 0.8259 - val_loss: 0.9793 - val_accuracy: 0.2035 - val_f1: 0.3340\n",
      "Epoch 15/100\n",
      "1701/1701 [==============================] - 0s 163us/sample - loss: 0.5056 - accuracy: 0.7190 - f1: 0.8352 - val_loss: 0.9621 - val_accuracy: 0.2035 - val_f1: 0.3340\n",
      "Epoch 16/100\n",
      "1701/1701 [==============================] - 0s 136us/sample - loss: 0.5037 - accuracy: 0.7190 - f1: 0.8359 - val_loss: 0.9649 - val_accuracy: 0.2035 - val_f1: 0.3340\n",
      "Epoch 17/100\n",
      "1701/1701 [==============================] - 0s 163us/sample - loss: 0.5022 - accuracy: 0.7190 - f1: 0.8334 - val_loss: 0.9478 - val_accuracy: 0.2035 - val_f1: 0.3340\n",
      "Epoch 18/100\n",
      "1701/1701 [==============================] - 0s 160us/sample - loss: 0.5017 - accuracy: 0.7190 - f1: 0.8363 - val_loss: 0.9465 - val_accuracy: 0.2035 - val_f1: 0.3340\n",
      "Epoch 19/100\n",
      "1701/1701 [==============================] - 0s 136us/sample - loss: 0.5000 - accuracy: 0.7190 - f1: 0.8291 - val_loss: 0.9639 - val_accuracy: 0.2035 - val_f1: 0.3340\n",
      "Epoch 20/100\n",
      "1701/1701 [==============================] - 0s 159us/sample - loss: 0.4987 - accuracy: 0.7190 - f1: 0.8346 - val_loss: 0.9804 - val_accuracy: 0.2035 - val_f1: 0.3340\n",
      "Epoch 21/100\n",
      "1701/1701 [==============================] - 0s 135us/sample - loss: 0.4977 - accuracy: 0.7190 - f1: 0.8353 - val_loss: 0.9592 - val_accuracy: 0.2035 - val_f1: 0.3340\n",
      "Epoch 22/100\n",
      "1701/1701 [==============================] - 0s 161us/sample - loss: 0.4970 - accuracy: 0.7190 - f1: 0.8348 - val_loss: 0.9438 - val_accuracy: 0.2035 - val_f1: 0.3340\n",
      "Epoch 23/100\n",
      "1701/1701 [==============================] - 0s 137us/sample - loss: 0.4962 - accuracy: 0.7231 - f1: 0.8330 - val_loss: 0.9534 - val_accuracy: 0.4350 - val_f1: 0.3879\n",
      "Epoch 24/100\n",
      "1701/1701 [==============================] - 0s 160us/sample - loss: 0.4951 - accuracy: 0.7678 - f1: 0.8463 - val_loss: 0.9497 - val_accuracy: 0.4435 - val_f1: 0.3907\n",
      "Epoch 25/100\n",
      "1701/1701 [==============================] - 0s 165us/sample - loss: 0.4941 - accuracy: 0.7684 - f1: 0.8496 - val_loss: 0.9424 - val_accuracy: 0.4510 - val_f1: 0.3918\n",
      "Epoch 26/100\n",
      "1701/1701 [==============================] - 0s 142us/sample - loss: 0.4936 - accuracy: 0.7690 - f1: 0.8516 - val_loss: 0.9566 - val_accuracy: 0.4485 - val_f1: 0.3929\n",
      "Epoch 27/100\n",
      "1701/1701 [==============================] - 0s 166us/sample - loss: 0.4930 - accuracy: 0.7695 - f1: 0.8497 - val_loss: 0.9515 - val_accuracy: 0.4535 - val_f1: 0.3911\n",
      "Epoch 28/100\n",
      "1701/1701 [==============================] - 0s 165us/sample - loss: 0.4932 - accuracy: 0.7678 - f1: 0.8461 - val_loss: 0.9412 - val_accuracy: 0.4610 - val_f1: 0.3951\n",
      "Epoch 29/100\n",
      "1701/1701 [==============================] - 0s 140us/sample - loss: 0.4918 - accuracy: 0.7737 - f1: 0.8505 - val_loss: 0.9409 - val_accuracy: 0.4635 - val_f1: 0.3952\n",
      "Epoch 30/100\n",
      "1701/1701 [==============================] - 0s 169us/sample - loss: 0.4911 - accuracy: 0.7707 - f1: 0.8507 - val_loss: 0.9315 - val_accuracy: 0.4805 - val_f1: 0.4008\n",
      "Epoch 31/100\n",
      "1701/1701 [==============================] - 0s 163us/sample - loss: 0.4903 - accuracy: 0.7713 - f1: 0.8501 - val_loss: 0.9261 - val_accuracy: 0.4880 - val_f1: 0.4049\n",
      "Epoch 32/100\n",
      "1701/1701 [==============================] - 0s 138us/sample - loss: 0.4901 - accuracy: 0.7707 - f1: 0.8500 - val_loss: 0.9204 - val_accuracy: 0.4945 - val_f1: 0.4079\n",
      "Epoch 33/100\n",
      "1701/1701 [==============================] - 0s 161us/sample - loss: 0.4890 - accuracy: 0.7725 - f1: 0.8463 - val_loss: 0.9425 - val_accuracy: 0.4745 - val_f1: 0.4003\n",
      "Epoch 34/100\n",
      "1701/1701 [==============================] - 0s 162us/sample - loss: 0.4890 - accuracy: 0.7719 - f1: 0.8494 - val_loss: 0.9440 - val_accuracy: 0.4740 - val_f1: 0.3986\n",
      "Epoch 35/100\n",
      "1701/1701 [==============================] - 0s 134us/sample - loss: 0.4887 - accuracy: 0.7713 - f1: 0.8455 - val_loss: 0.9497 - val_accuracy: 0.4755 - val_f1: 0.4011\n",
      "Epoch 36/100\n",
      "1701/1701 [==============================] - 0s 161us/sample - loss: 0.4881 - accuracy: 0.7707 - f1: 0.8500 - val_loss: 0.9162 - val_accuracy: 0.5020 - val_f1: 0.4117\n",
      "Epoch 37/100\n",
      "1701/1701 [==============================] - 0s 142us/sample - loss: 0.4871 - accuracy: 0.7748 - f1: 0.8510 - val_loss: 0.9543 - val_accuracy: 0.4730 - val_f1: 0.4009\n",
      "Epoch 38/100\n",
      "1701/1701 [==============================] - 0s 157us/sample - loss: 0.4873 - accuracy: 0.7684 - f1: 0.8477 - val_loss: 0.9256 - val_accuracy: 0.4945 - val_f1: 0.4068\n",
      "Epoch 39/100\n",
      "1701/1701 [==============================] - 0s 134us/sample - loss: 0.4862 - accuracy: 0.7731 - f1: 0.8483 - val_loss: 0.9465 - val_accuracy: 0.4820 - val_f1: 0.4051\n",
      "Epoch 40/100\n",
      "1701/1701 [==============================] - 0s 159us/sample - loss: 0.4861 - accuracy: 0.7719 - f1: 0.8501 - val_loss: 0.9403 - val_accuracy: 0.4870 - val_f1: 0.4058\n",
      "Epoch 41/100\n",
      "1701/1701 [==============================] - 0s 135us/sample - loss: 0.4855 - accuracy: 0.7743 - f1: 0.8528 - val_loss: 0.9225 - val_accuracy: 0.4975 - val_f1: 0.4064\n",
      "Epoch 42/100\n",
      "1701/1701 [==============================] - 0s 157us/sample - loss: 0.4854 - accuracy: 0.7737 - f1: 0.8509 - val_loss: 0.9148 - val_accuracy: 0.5120 - val_f1: 0.4139\n",
      "Epoch 43/100\n",
      "1701/1701 [==============================] - 0s 134us/sample - loss: 0.4846 - accuracy: 0.7725 - f1: 0.8485 - val_loss: 0.9179 - val_accuracy: 0.5040 - val_f1: 0.4099\n",
      "Epoch 44/100\n",
      "1701/1701 [==============================] - 0s 158us/sample - loss: 0.4842 - accuracy: 0.7743 - f1: 0.8491 - val_loss: 0.9371 - val_accuracy: 0.4880 - val_f1: 0.4047\n",
      "Epoch 45/100\n",
      "1701/1701 [==============================] - 0s 134us/sample - loss: 0.4851 - accuracy: 0.7725 - f1: 0.8500 - val_loss: 0.9132 - val_accuracy: 0.5065 - val_f1: 0.4096\n",
      "Epoch 46/100\n",
      "1701/1701 [==============================] - 0s 160us/sample - loss: 0.4831 - accuracy: 0.7760 - f1: 0.8512 - val_loss: 0.9314 - val_accuracy: 0.4930 - val_f1: 0.4061\n",
      "Epoch 47/100\n",
      "1701/1701 [==============================] - 0s 133us/sample - loss: 0.4826 - accuracy: 0.7778 - f1: 0.8516 - val_loss: 0.9188 - val_accuracy: 0.5040 - val_f1: 0.4101\n",
      "Epoch 48/100\n",
      "1701/1701 [==============================] - 0s 159us/sample - loss: 0.4823 - accuracy: 0.7778 - f1: 0.8530 - val_loss: 0.9304 - val_accuracy: 0.4975 - val_f1: 0.4079\n",
      "Epoch 49/100\n",
      "1701/1701 [==============================] - 0s 134us/sample - loss: 0.4817 - accuracy: 0.7760 - f1: 0.8503 - val_loss: 0.9229 - val_accuracy: 0.5025 - val_f1: 0.4093\n",
      "Epoch 50/100\n",
      "1701/1701 [==============================] - 0s 159us/sample - loss: 0.4817 - accuracy: 0.7778 - f1: 0.8522 - val_loss: 0.9014 - val_accuracy: 0.5180 - val_f1: 0.4144\n",
      "Epoch 51/100\n",
      "1701/1701 [==============================] - 0s 134us/sample - loss: 0.4814 - accuracy: 0.7725 - f1: 0.8491 - val_loss: 0.9234 - val_accuracy: 0.4960 - val_f1: 0.4071\n",
      "Epoch 52/100\n",
      "1701/1701 [==============================] - 0s 157us/sample - loss: 0.4807 - accuracy: 0.7790 - f1: 0.8526 - val_loss: 0.9152 - val_accuracy: 0.5075 - val_f1: 0.4126\n",
      "Epoch 53/100\n",
      "1701/1701 [==============================] - 0s 132us/sample - loss: 0.4804 - accuracy: 0.7772 - f1: 0.8508 - val_loss: 0.9115 - val_accuracy: 0.5110 - val_f1: 0.4122\n",
      "Epoch 54/100\n",
      "1701/1701 [==============================] - 0s 158us/sample - loss: 0.4801 - accuracy: 0.7807 - f1: 0.8553 - val_loss: 0.9204 - val_accuracy: 0.5045 - val_f1: 0.4111\n",
      "Epoch 55/100\n",
      "1701/1701 [==============================] - 0s 133us/sample - loss: 0.4808 - accuracy: 0.7743 - f1: 0.8480 - val_loss: 0.9025 - val_accuracy: 0.5155 - val_f1: 0.4108\n",
      "Epoch 56/100\n",
      "1701/1701 [==============================] - 0s 160us/sample - loss: 0.4795 - accuracy: 0.7784 - f1: 0.8489 - val_loss: 0.9086 - val_accuracy: 0.5095 - val_f1: 0.4121\n",
      "Epoch 57/100\n",
      "1701/1701 [==============================] - 0s 134us/sample - loss: 0.4789 - accuracy: 0.7784 - f1: 0.8492 - val_loss: 0.9110 - val_accuracy: 0.5115 - val_f1: 0.4136\n",
      "Epoch 58/100\n",
      "1701/1701 [==============================] - 0s 159us/sample - loss: 0.4783 - accuracy: 0.7748 - f1: 0.8514 - val_loss: 0.8967 - val_accuracy: 0.5235 - val_f1: 0.4160\n",
      "Epoch 59/100\n",
      "1701/1701 [==============================] - 0s 133us/sample - loss: 0.4782 - accuracy: 0.7772 - f1: 0.8465 - val_loss: 0.9072 - val_accuracy: 0.5165 - val_f1: 0.4129\n",
      "Epoch 60/100\n",
      "1701/1701 [==============================] - 0s 156us/sample - loss: 0.4778 - accuracy: 0.7795 - f1: 0.8525 - val_loss: 0.9008 - val_accuracy: 0.5175 - val_f1: 0.4131\n",
      "Epoch 61/100\n",
      "1701/1701 [==============================] - 0s 132us/sample - loss: 0.4772 - accuracy: 0.7790 - f1: 0.8535 - val_loss: 0.9289 - val_accuracy: 0.5030 - val_f1: 0.4096\n",
      "Epoch 62/100\n",
      "1701/1701 [==============================] - 0s 160us/sample - loss: 0.4772 - accuracy: 0.7754 - f1: 0.8481 - val_loss: 0.9041 - val_accuracy: 0.5195 - val_f1: 0.4135\n",
      "Epoch 63/100\n",
      "1701/1701 [==============================] - 0s 134us/sample - loss: 0.4769 - accuracy: 0.7743 - f1: 0.8508 - val_loss: 0.8987 - val_accuracy: 0.5200 - val_f1: 0.4140\n",
      "Epoch 64/100\n",
      "1701/1701 [==============================] - 0s 157us/sample - loss: 0.4761 - accuracy: 0.7760 - f1: 0.8520 - val_loss: 0.9225 - val_accuracy: 0.5075 - val_f1: 0.4102\n",
      "Epoch 65/100\n",
      "1701/1701 [==============================] - 0s 133us/sample - loss: 0.4759 - accuracy: 0.7772 - f1: 0.8500 - val_loss: 0.9205 - val_accuracy: 0.5090 - val_f1: 0.4111\n",
      "Epoch 66/100\n",
      "1701/1701 [==============================] - 0s 159us/sample - loss: 0.4754 - accuracy: 0.7772 - f1: 0.8518 - val_loss: 0.8969 - val_accuracy: 0.5290 - val_f1: 0.4191\n",
      "Epoch 67/100\n",
      "1701/1701 [==============================] - 0s 136us/sample - loss: 0.4750 - accuracy: 0.7772 - f1: 0.8525 - val_loss: 0.9008 - val_accuracy: 0.5235 - val_f1: 0.4159\n",
      "Epoch 68/100\n",
      "1701/1701 [==============================] - 0s 158us/sample - loss: 0.4748 - accuracy: 0.7778 - f1: 0.8496 - val_loss: 0.8953 - val_accuracy: 0.5250 - val_f1: 0.4167\n",
      "Epoch 69/100\n",
      "1701/1701 [==============================] - 0s 136us/sample - loss: 0.4751 - accuracy: 0.7801 - f1: 0.8485 - val_loss: 0.8788 - val_accuracy: 0.5405 - val_f1: 0.4256\n",
      "Epoch 70/100\n",
      "1701/1701 [==============================] - 0s 163us/sample - loss: 0.4746 - accuracy: 0.7766 - f1: 0.8494 - val_loss: 0.9234 - val_accuracy: 0.5075 - val_f1: 0.4115\n",
      "Epoch 71/100\n",
      "1701/1701 [==============================] - 0s 135us/sample - loss: 0.4742 - accuracy: 0.7772 - f1: 0.8500 - val_loss: 0.8929 - val_accuracy: 0.5315 - val_f1: 0.4209\n",
      "Epoch 72/100\n",
      "1701/1701 [==============================] - 0s 160us/sample - loss: 0.4736 - accuracy: 0.7807 - f1: 0.8520 - val_loss: 0.9335 - val_accuracy: 0.5030 - val_f1: 0.4084\n",
      "Epoch 73/100\n",
      "1701/1701 [==============================] - 0s 134us/sample - loss: 0.4735 - accuracy: 0.7801 - f1: 0.8558 - val_loss: 0.8983 - val_accuracy: 0.5260 - val_f1: 0.4198\n",
      "Epoch 74/100\n",
      "1701/1701 [==============================] - 0s 160us/sample - loss: 0.4729 - accuracy: 0.7766 - f1: 0.8459 - val_loss: 0.9011 - val_accuracy: 0.5240 - val_f1: 0.4187\n",
      "Epoch 75/100\n",
      "1701/1701 [==============================] - 0s 138us/sample - loss: 0.4730 - accuracy: 0.7795 - f1: 0.8486 - val_loss: 0.8639 - val_accuracy: 0.5495 - val_f1: 0.4258\n",
      "Epoch 76/100\n",
      "1701/1701 [==============================] - 0s 157us/sample - loss: 0.4725 - accuracy: 0.7778 - f1: 0.8483 - val_loss: 0.9093 - val_accuracy: 0.5175 - val_f1: 0.4154\n",
      "Epoch 77/100\n",
      "1701/1701 [==============================] - 0s 162us/sample - loss: 0.4718 - accuracy: 0.7784 - f1: 0.8516 - val_loss: 0.8815 - val_accuracy: 0.5410 - val_f1: 0.4268\n",
      "Epoch 78/100\n",
      "1701/1701 [==============================] - 0s 137us/sample - loss: 0.4716 - accuracy: 0.7754 - f1: 0.8464 - val_loss: 0.8968 - val_accuracy: 0.5305 - val_f1: 0.4215\n",
      "Epoch 79/100\n",
      "1701/1701 [==============================] - 0s 159us/sample - loss: 0.4715 - accuracy: 0.7778 - f1: 0.8529 - val_loss: 0.8684 - val_accuracy: 0.5475 - val_f1: 0.4257\n",
      "Epoch 80/100\n",
      "1701/1701 [==============================] - 0s 137us/sample - loss: 0.4724 - accuracy: 0.7778 - f1: 0.8518 - val_loss: 0.8708 - val_accuracy: 0.5480 - val_f1: 0.4298\n",
      "Epoch 81/100\n",
      "1701/1701 [==============================] - 0s 161us/sample - loss: 0.4710 - accuracy: 0.7790 - f1: 0.8515 - val_loss: 0.8907 - val_accuracy: 0.5335 - val_f1: 0.4230\n",
      "Epoch 82/100\n",
      "1701/1701 [==============================] - 0s 135us/sample - loss: 0.4700 - accuracy: 0.7784 - f1: 0.8504 - val_loss: 0.8938 - val_accuracy: 0.5310 - val_f1: 0.4211\n",
      "Epoch 83/100\n",
      "1701/1701 [==============================] - 0s 163us/sample - loss: 0.4697 - accuracy: 0.7790 - f1: 0.8526 - val_loss: 0.8927 - val_accuracy: 0.5325 - val_f1: 0.4237\n",
      "Epoch 84/100\n",
      "1701/1701 [==============================] - 0s 164us/sample - loss: 0.4695 - accuracy: 0.7784 - f1: 0.8520 - val_loss: 0.8968 - val_accuracy: 0.5250 - val_f1: 0.4192\n",
      "Epoch 85/100\n",
      "1701/1701 [==============================] - 0s 137us/sample - loss: 0.4691 - accuracy: 0.7807 - f1: 0.8526 - val_loss: 0.9061 - val_accuracy: 0.5230 - val_f1: 0.4181\n",
      "Epoch 86/100\n",
      "1701/1701 [==============================] - 0s 164us/sample - loss: 0.4687 - accuracy: 0.7772 - f1: 0.8477 - val_loss: 0.9022 - val_accuracy: 0.5240 - val_f1: 0.4189\n",
      "Epoch 87/100\n",
      "1701/1701 [==============================] - 0s 139us/sample - loss: 0.4682 - accuracy: 0.7784 - f1: 0.8516 - val_loss: 0.9015 - val_accuracy: 0.5265 - val_f1: 0.4202\n",
      "Epoch 88/100\n",
      "1701/1701 [==============================] - 0s 159us/sample - loss: 0.4678 - accuracy: 0.7795 - f1: 0.8507 - val_loss: 0.8892 - val_accuracy: 0.5330 - val_f1: 0.4239\n",
      "Epoch 89/100\n",
      "1701/1701 [==============================] - 0s 161us/sample - loss: 0.4675 - accuracy: 0.7813 - f1: 0.8524 - val_loss: 0.8760 - val_accuracy: 0.5465 - val_f1: 0.4272\n",
      "Epoch 90/100\n",
      "1701/1701 [==============================] - 0s 137us/sample - loss: 0.4670 - accuracy: 0.7790 - f1: 0.8523 - val_loss: 0.8826 - val_accuracy: 0.5365 - val_f1: 0.4228\n",
      "Epoch 91/100\n",
      "1701/1701 [==============================] - 0s 161us/sample - loss: 0.4663 - accuracy: 0.7790 - f1: 0.8515 - val_loss: 0.8965 - val_accuracy: 0.5295 - val_f1: 0.4221\n",
      "Epoch 92/100\n",
      "1701/1701 [==============================] - 0s 135us/sample - loss: 0.4665 - accuracy: 0.7772 - f1: 0.8510 - val_loss: 0.8741 - val_accuracy: 0.5430 - val_f1: 0.4261\n",
      "Epoch 93/100\n",
      "1701/1701 [==============================] - 0s 158us/sample - loss: 0.4662 - accuracy: 0.7795 - f1: 0.8506 - val_loss: 0.8853 - val_accuracy: 0.5325 - val_f1: 0.4211\n",
      "Epoch 94/100\n",
      "1701/1701 [==============================] - 0s 134us/sample - loss: 0.4657 - accuracy: 0.7807 - f1: 0.8489 - val_loss: 0.8664 - val_accuracy: 0.5525 - val_f1: 0.4309\n",
      "Epoch 95/100\n",
      "1701/1701 [==============================] - 0s 158us/sample - loss: 0.4653 - accuracy: 0.7790 - f1: 0.8498 - val_loss: 0.8949 - val_accuracy: 0.5305 - val_f1: 0.4243\n",
      "Epoch 96/100\n",
      "1701/1701 [==============================] - 0s 134us/sample - loss: 0.4650 - accuracy: 0.7790 - f1: 0.8508 - val_loss: 0.8845 - val_accuracy: 0.5345 - val_f1: 0.4260\n",
      "Epoch 97/100\n",
      "1701/1701 [==============================] - 0s 162us/sample - loss: 0.4648 - accuracy: 0.7807 - f1: 0.8537 - val_loss: 0.9236 - val_accuracy: 0.5115 - val_f1: 0.4154\n",
      "Epoch 98/100\n",
      "1701/1701 [==============================] - 0s 135us/sample - loss: 0.4642 - accuracy: 0.7801 - f1: 0.8538 - val_loss: 0.8939 - val_accuracy: 0.5285 - val_f1: 0.4237\n",
      "Epoch 99/100\n",
      "1701/1701 [==============================] - 0s 159us/sample - loss: 0.4638 - accuracy: 0.7848 - f1: 0.8562 - val_loss: 0.9164 - val_accuracy: 0.5160 - val_f1: 0.4174\n",
      "Epoch 100/100\n",
      "1701/1701 [==============================] - 0s 133us/sample - loss: 0.4645 - accuracy: 0.7784 - f1: 0.8526 - val_loss: 0.9081 - val_accuracy: 0.5175 - val_f1: 0.4167\n"
     ]
    }
   ],
   "source": [
    "history = model.fit(t_features_downsampled.values, t_target_downsampled.values, validation_data = (X_valid.values, y_valid.values), epochs = 100)"
   ]
  },
  {
   "cell_type": "code",
   "execution_count": 76,
   "metadata": {},
   "outputs": [],
   "source": [
    "y_pred = model.predict(X_valid)\n",
    "y_pred = (y_pred > 0.5)"
   ]
  },
  {
   "cell_type": "code",
   "execution_count": 77,
   "metadata": {},
   "outputs": [
    {
     "name": "stdout",
     "output_type": "stream",
     "text": [
      "              precision    recall  f1-score   support\n",
      "\n",
      "           0       0.93      0.43      0.59      1593\n",
      "           1       0.28      0.87      0.42       407\n",
      "\n",
      "    accuracy                           0.52      2000\n",
      "   macro avg       0.60      0.65      0.50      2000\n",
      "weighted avg       0.80      0.52      0.55      2000\n",
      "\n"
     ]
    }
   ],
   "source": [
    "print(classification_report(y_valid, y_pred,\n",
    "          target_names=['0', '1'], zero_division=1))"
   ]
  },
  {
   "cell_type": "code",
   "execution_count": 78,
   "metadata": {},
   "outputs": [
    {
     "data": {
      "image/png": "[encoded data removed]",
      "text/plain": [
       "<Figure size 936x504 with 1 Axes>"
      ]
     },
     "metadata": {
      "needs_background": "light"
     },
     "output_type": "display_data"
    }
   ],
   "source": [
    "plot_metric(history, 'f1')"
   ]
  },
  {
   "cell_type": "code",
   "execution_count": 79,
   "metadata": {},
   "outputs": [
    {
     "data": {
      "text/plain": [
       "0.4231918708906157"
      ]
     },
     "execution_count": 79,
     "metadata": {},
     "output_type": "execute_result"
    }
   ],
   "source": [
    "f1_score(y_valid, y_pred)"
   ]
  },
  {
   "cell_type": "markdown",
   "metadata": {},
   "source": [
    "##### Description:\n",
    "This graph shows the change of F1 through the epochs.\n",
    "- The performance is much worse, with F1 being 0.41 now\n",
    "- There is a clear overfitting again, training set gets a high F1 score while validation set gets less than half of it."
   ]
  },
  {
   "cell_type": "markdown",
   "metadata": {},
   "source": [
    "<a class=\"anchor\" id=\"section_3_16\"></a>"
   ]
  },
  {
   "cell_type": "markdown",
   "metadata": {},
   "source": [
    "### Changing Threshold:"
   ]
  },
  {
   "cell_type": "markdown",
   "metadata": {},
   "source": [
    "We will change the thresholds for logistic regression and random forest."
   ]
  },
  {
   "cell_type": "markdown",
   "metadata": {},
   "source": [
    "The probability of class 1 is enough for us. By default it is equal to 0.5 - we will try different  parameters -  up to 0.95"
   ]
  },
  {
   "cell_type": "markdown",
   "metadata": {},
   "source": [
    "We will plot a PR curve to demonstrate the effect of the threshold on the metrics"
   ]
  },
  {
   "cell_type": "markdown",
   "metadata": {},
   "source": [
    "<div class=\"alert alert-success\" role=\"alert\">\n",
    "Reviewer's comment v. 3:\n",
    "    \n",
    "Well done that you added description to the models.\n",
    "</div>"
   ]
  },
  {
   "cell_type": "markdown",
   "metadata": {},
   "source": [
    "<a class=\"anchor\" id=\"section_3_17\"></a>"
   ]
  },
  {
   "cell_type": "markdown",
   "metadata": {},
   "source": [
    "#### LogisticRegression:"
   ]
  },
  {
   "cell_type": "code",
   "execution_count": 80,
   "metadata": {},
   "outputs": [
    {
     "name": "stdout",
     "output_type": "stream",
     "text": [
      "Threshold = 0.00 | Precision = 0.203, Recall = 1.000 | F1-score = 0.338\n",
      "Threshold = 0.05 | Precision = 0.221, Recall = 0.975 | F1-score = 0.361\n",
      "Threshold = 0.10 | Precision = 0.269, Recall = 0.902 | F1-score = 0.415\n",
      "Threshold = 0.15 | Precision = 0.313, Recall = 0.776 | F1-score = 0.447\n",
      "Threshold = 0.20 | Precision = 0.371, Recall = 0.688 | F1-score = 0.482\n",
      "Threshold = 0.25 | Precision = 0.413, Recall = 0.563 | F1-score = 0.477\n",
      "Threshold = 0.30 | Precision = 0.473, Recall = 0.477 | F1-score = 0.475\n",
      "Threshold = 0.35 | Precision = 0.515, Recall = 0.420 | F1-score = 0.463\n",
      "Threshold = 0.40 | Precision = 0.552, Recall = 0.354 | F1-score = 0.431\n",
      "Threshold = 0.45 | Precision = 0.574, Recall = 0.278 | F1-score = 0.374\n",
      "Threshold = 0.50 | Precision = 0.586, Recall = 0.219 | F1-score = 0.318\n",
      "Threshold = 0.55 | Precision = 0.632, Recall = 0.147 | F1-score = 0.239\n",
      "Threshold = 0.60 | Precision = 0.677, Recall = 0.108 | F1-score = 0.186\n",
      "Threshold = 0.65 | Precision = 0.636, Recall = 0.069 | F1-score = 0.124\n",
      "Threshold = 0.70 | Precision = 0.700, Recall = 0.052 | F1-score = 0.096\n",
      "Threshold = 0.75 | Precision = 0.647, Recall = 0.027 | F1-score = 0.052\n",
      "Threshold = 0.80 | Precision = 0.571, Recall = 0.010 | F1-score = 0.019\n",
      "Threshold = 0.85 | Precision = 0.750, Recall = 0.007 | F1-score = 0.015\n",
      "Threshold = 0.90 | Precision = 0.500, Recall = 0.002 | F1-score = 0.005\n"
     ]
    },
    {
     "data": {
      "image/png": "[encoded data removed]",
      "text/plain": [
       "<Figure size 720x720 with 1 Axes>"
      ]
     },
     "metadata": {
      "needs_background": "light"
     },
     "output_type": "display_data"
    }
   ],
   "source": [
    "model = LogisticRegression(random_state=42, solver='liblinear')\n",
    "model.fit(X_train, y_train)\n",
    "probabilities_valid = model.predict_proba(X_valid)\n",
    "probabilities_one_valid = probabilities_valid[:, 1]\n",
    "\n",
    "for threshold in np.arange(0, 0.95, 0.05):\n",
    "    predicted_valid = probabilities_one_valid > threshold\n",
    "    precision = precision_score(y_valid, predicted_valid)\n",
    "    recall = recall_score(y_valid, predicted_valid)\n",
    "    f1 = f1_score(y_valid, predicted_valid)\n",
    "    print(\"Threshold = {:.2f} | Precision = {:.3f}, Recall = {:.3f} | F1-score = {:.3f}\".format(\n",
    "        threshold, precision, recall, f1))\n",
    "\n",
    "precision, recall, thresholds = precision_recall_curve(y_valid, probabilities_valid[:, 1])    \n",
    "plt.figure(figsize=(10, 10))\n",
    "plt.step(recall, precision, where='post')\n",
    "plt.xlabel('Recall')\n",
    "plt.ylabel('Precision')\n",
    "plt.ylim([0.0, 1.05])\n",
    "plt.xlim([0.0, 1.0])\n",
    "plt.title('PR curve')\n",
    "plt.show() "
   ]
  },
  {
   "cell_type": "markdown",
   "metadata": {},
   "source": [
    "##### Description:\n",
    "this graph shows the PR curve for logistic regression.\n",
    "- Our best F1 score (0.48)was obtained at threshold of 0.20."
   ]
  },
  {
   "cell_type": "markdown",
   "metadata": {},
   "source": [
    "<a class=\"anchor\" id=\"section_3_18\"></a>"
   ]
  },
  {
   "cell_type": "markdown",
   "metadata": {},
   "source": [
    "#### Random Forest:"
   ]
  },
  {
   "cell_type": "code",
   "execution_count": 81,
   "metadata": {},
   "outputs": [
    {
     "name": "stdout",
     "output_type": "stream",
     "text": [
      "Threshold = 0.00 | Precision = 0.203, Recall = 1.000 | F1-score = 0.338\n",
      "Threshold = 0.05 | Precision = 0.257, Recall = 0.966 | F1-score = 0.406\n",
      "Threshold = 0.10 | Precision = 0.322, Recall = 0.921 | F1-score = 0.477\n",
      "Threshold = 0.15 | Precision = 0.395, Recall = 0.855 | F1-score = 0.540\n",
      "Threshold = 0.20 | Precision = 0.465, Recall = 0.779 | F1-score = 0.583\n",
      "Threshold = 0.25 | Precision = 0.541, Recall = 0.713 | F1-score = 0.615\n",
      "Threshold = 0.30 | Precision = 0.609, Recall = 0.661 | F1-score = 0.634\n",
      "Threshold = 0.35 | Precision = 0.677, Recall = 0.592 | F1-score = 0.632\n",
      "Threshold = 0.40 | Precision = 0.723, Recall = 0.545 | F1-score = 0.622\n",
      "Threshold = 0.45 | Precision = 0.753, Recall = 0.479 | F1-score = 0.586\n",
      "Threshold = 0.50 | Precision = 0.777, Recall = 0.428 | F1-score = 0.552\n",
      "Threshold = 0.55 | Precision = 0.813, Recall = 0.386 | F1-score = 0.523\n",
      "Threshold = 0.60 | Precision = 0.851, Recall = 0.337 | F1-score = 0.482\n",
      "Threshold = 0.65 | Precision = 0.866, Recall = 0.285 | F1-score = 0.429\n",
      "Threshold = 0.70 | Precision = 0.891, Recall = 0.221 | F1-score = 0.354\n",
      "Threshold = 0.75 | Precision = 0.910, Recall = 0.174 | F1-score = 0.293\n",
      "Threshold = 0.80 | Precision = 0.918, Recall = 0.111 | F1-score = 0.197\n",
      "Threshold = 0.85 | Precision = 0.955, Recall = 0.052 | F1-score = 0.098\n",
      "Threshold = 0.90 | Precision = 1.000, Recall = 0.017 | F1-score = 0.034\n"
     ]
    },
    {
     "data": {
      "image/png": "[encoded data removed]",
      "text/plain": [
       "<Figure size 720x720 with 1 Axes>"
      ]
     },
     "metadata": {
      "needs_background": "light"
     },
     "output_type": "display_data"
    }
   ],
   "source": [
    "model = RandomForestClassifier(random_state=42, min_samples_leaf=5)\n",
    "model.fit(X_train, y_train)\n",
    "probabilities_valid = model.predict_proba(X_valid)\n",
    "probabilities_one_valid = probabilities_valid[:, 1]\n",
    "\n",
    "for threshold in np.arange(0, 0.95, 0.05):\n",
    "    predicted_valid = probabilities_one_valid > threshold\n",
    "    precision = precision_score(y_valid, predicted_valid)\n",
    "    recall = recall_score(y_valid, predicted_valid)\n",
    "    f1 = f1_score(y_valid, predicted_valid)\n",
    "    print(\"Threshold = {:.2f} | Precision = {:.3f}, Recall = {:.3f} | F1-score = {:.3f}\".format(\n",
    "        threshold, precision, recall, f1))\n",
    "\n",
    "precision, recall, thresholds = precision_recall_curve(y_valid, probabilities_valid[:, 1])    \n",
    "plt.figure(figsize=(10, 10))\n",
    "plt.step(recall, precision, where='post')\n",
    "plt.xlabel('Recall')\n",
    "plt.ylabel('Precision')\n",
    "plt.ylim([0.0, 1.05])\n",
    "plt.xlim([0.0, 1.0])\n",
    "plt.title('PR curve')\n",
    "plt.show() "
   ]
  },
  {
   "cell_type": "markdown",
   "metadata": {},
   "source": [
    "#### Description:\n",
    "This graph shows the PR curve for Random Forest Classifier:\n",
    "- Our best F1 score (0.634) was obtained at threshold of 0.30"
   ]
  },
  {
   "cell_type": "markdown",
   "metadata": {},
   "source": [
    "### Conclusion:"
   ]
  },
  {
   "cell_type": "markdown",
   "metadata": {},
   "source": [
    "After testing all the methods , our best resulting models are:\n",
    "- Catboost with 0.62 F1 score using class_weights.\n",
    "- RandomForest with 0.63 F1 score using class_weight.\n",
    "- RandomForest with 0.63 using upsampling.\n",
    "- RandomForest with 0.63 F1 score changing threshold to 0.35.\n",
    "\n",
    "\n",
    "- We see that random forest is our most stable model, who yielded similar scores in several methods.\n",
    "- We choose to use class_weights as it's usage resulted us in 2 models (CatBoost and RF) with scores of 0.62+"
   ]
  },
  {
   "cell_type": "markdown",
   "metadata": {},
   "source": [
    "<a class=\"anchor\" id=\"section_3_19\"></a>"
   ]
  },
  {
   "cell_type": "markdown",
   "metadata": {},
   "source": [
    "### Hyperparameters tuning:"
   ]
  },
  {
   "cell_type": "markdown",
   "metadata": {},
   "source": [
    "We will train the model on the base sample - using class_weight hyperparameter, check the parameters on the validation sample and evaluate it by the F1 score.\n",
    "\n",
    "the parameters will be selected by using HalvingGridSearchCV for Random forest, and the built in Pool function for CatBoost."
   ]
  },
  {
   "cell_type": "markdown",
   "metadata": {},
   "source": [
    "<a class=\"anchor\" id=\"section_3_20\"></a>"
   ]
  },
  {
   "cell_type": "markdown",
   "metadata": {},
   "source": [
    "#### RandomForest:"
   ]
  },
  {
   "cell_type": "markdown",
   "metadata": {},
   "source": [
    "The following grid search takes about 300 seconds ( 5 minutes)"
   ]
  },
  {
   "cell_type": "code",
   "execution_count": 82,
   "metadata": {},
   "outputs": [
    {
     "name": "stdout",
     "output_type": "stream",
     "text": [
      "n_iterations: 6\n",
      "n_required_iterations: 6\n",
      "n_possible_iterations: 6\n",
      "min_resources_: 24\n",
      "max_resources_: 6000\n",
      "aggressive_elimination: False\n",
      "factor: 3\n",
      "----------\n",
      "iter: 0\n",
      "n_candidates: 400\n",
      "n_resources: 24\n",
      "Fitting 5 folds for each of 400 candidates, totalling 2000 fits\n",
      "----------\n",
      "iter: 1\n",
      "n_candidates: 134\n",
      "n_resources: 72\n",
      "Fitting 5 folds for each of 134 candidates, totalling 670 fits\n",
      "----------\n",
      "iter: 2\n",
      "n_candidates: 45\n",
      "n_resources: 216\n",
      "Fitting 5 folds for each of 45 candidates, totalling 225 fits\n",
      "----------\n",
      "iter: 3\n",
      "n_candidates: 15\n",
      "n_resources: 648\n",
      "Fitting 5 folds for each of 15 candidates, totalling 75 fits\n",
      "----------\n",
      "iter: 4\n",
      "n_candidates: 5\n",
      "n_resources: 1944\n",
      "Fitting 5 folds for each of 5 candidates, totalling 25 fits\n",
      "----------\n",
      "iter: 5\n",
      "n_candidates: 2\n",
      "n_resources: 5832\n",
      "Fitting 5 folds for each of 2 candidates, totalling 10 fits\n"
     ]
    },
    {
     "data": {
      "text/plain": [
       "HalvingGridSearchCV(estimator=RandomForestClassifier(class_weight='balanced',\n",
       "                                                     min_samples_leaf=5,\n",
       "                                                     random_state=42),\n",
       "                    param_grid={'criterion': ['gini', 'entropy'],\n",
       "                                'max_depth': [2, 4, 6, 8, 10],\n",
       "                                'min_samples_split': [5, 8, 10, 12, 15],\n",
       "                                'n_estimators': [3, 10, 20, 30, 50, 70, 85,\n",
       "                                                 100]},\n",
       "                    random_state=42, scoring='f1', verbose=1)"
      ]
     },
     "execution_count": 82,
     "metadata": {},
     "output_type": "execute_result"
    }
   ],
   "source": [
    "grid_rf = {'n_estimators': [3, 10, 20, 30, 50, 70, 85, 100],\n",
    "                     'criterion': ['gini', 'entropy'],\n",
    "                     'min_samples_split': [5, 8, 10, 12, 15],\n",
    "                     'max_depth' : [2, 4, 6, 8, 10]\n",
    "                    }\n",
    "model = RandomForestClassifier(random_state=42, class_weight='balanced', min_samples_leaf=5)\n",
    "\n",
    "grid_search = HalvingGridSearchCV(model, param_grid=grid_rf, scoring= 'f1', random_state=42,verbose=1)\n",
    "\n",
    "grid_search.fit(X_train, y_train)"
   ]
  },
  {
   "cell_type": "markdown",
   "metadata": {},
   "source": [
    "computation time for the HalvingGridSearch:"
   ]
  },
  {
   "cell_type": "code",
   "execution_count": 83,
   "metadata": {},
   "outputs": [
    {
     "name": "stdout",
     "output_type": "stream",
     "text": [
      "Time in seconds: 170.86032915115354\n"
     ]
    }
   ],
   "source": [
    "mean_fit_time= grid_search.cv_results_['mean_fit_time']\n",
    "mean_score_time= grid_search.cv_results_['mean_score_time']\n",
    "n_splits  = grid_search.n_splits_ #number of splits of training data\n",
    "n_iter = pd.DataFrame(grid_search.cv_results_).shape[0] #Iterations per split\n",
    "\n",
    "print('Time in seconds:', np.mean(mean_fit_time + mean_score_time) * n_splits * n_iter)"
   ]
  },
  {
   "cell_type": "markdown",
   "metadata": {},
   "source": [
    "checking the best F1 score and the best params and running the tuned model to test it."
   ]
  },
  {
   "cell_type": "code",
   "execution_count": 84,
   "metadata": {},
   "outputs": [
    {
     "name": "stdout",
     "output_type": "stream",
     "text": [
      "The best f1 score obtained: 0.612\n"
     ]
    }
   ],
   "source": [
    "print('The best f1 score obtained:', grid_search.best_score_.round(3))"
   ]
  },
  {
   "cell_type": "code",
   "execution_count": 85,
   "metadata": {},
   "outputs": [
    {
     "data": {
      "text/plain": [
       "{'criterion': 'gini',\n",
       " 'max_depth': 10,\n",
       " 'min_samples_split': 12,\n",
       " 'n_estimators': 100}"
      ]
     },
     "execution_count": 85,
     "metadata": {},
     "output_type": "execute_result"
    }
   ],
   "source": [
    "grid_search.best_params_"
   ]
  },
  {
   "cell_type": "markdown",
   "metadata": {},
   "source": [
    "Using the obtained best params as directions to the area of values to check.\n",
    "I manually changed some of the hyperparameters and obtained F1 score of 0.65, which is higher than what the grid search provided within its tested params."
   ]
  },
  {
   "cell_type": "code",
   "execution_count": 86,
   "metadata": {},
   "outputs": [
    {
     "name": "stdout",
     "output_type": "stream",
     "text": [
      "F1: 0.6221142162818956\n"
     ]
    }
   ],
   "source": [
    "model_rfc = RandomForestClassifier(random_state=42, criterion='entropy', min_samples_leaf=5,\n",
    "                               min_samples_split=12, n_estimators=100, max_depth=20, class_weight='balanced')\n",
    "model_rfc.fit(X_train, y_train)\n",
    "predicted_valid = model_rfc.predict(X_test)\n",
    "print(\"F1:\", f1_score(y_test, predicted_valid))"
   ]
  },
  {
   "cell_type": "markdown",
   "metadata": {},
   "source": [
    "We obtained  F1 score of 0.65, which is an increase from 0.63"
   ]
  },
  {
   "cell_type": "markdown",
   "metadata": {},
   "source": [
    "Checking and plotting the ROC curve:"
   ]
  },
  {
   "cell_type": "code",
   "execution_count": 87,
   "metadata": {},
   "outputs": [
    {
     "data": {
      "image/png": "[encoded data removed]",
      "text/plain": [
       "<Figure size 720x720 with 1 Axes>"
      ]
     },
     "metadata": {
      "needs_background": "light"
     },
     "output_type": "display_data"
    },
    {
     "name": "stdout",
     "output_type": "stream",
     "text": [
      "ROC-AUC score: 0.8629276425886596\n"
     ]
    }
   ],
   "source": [
    "probabilities_valid = model_rfc.predict_proba(X_valid)\n",
    "probabilities_one_valid = probabilities_valid[:, 1]\n",
    "\n",
    "fpr, tpr, thresholds = roc_curve(y_valid, probabilities_one_valid) \n",
    "\n",
    "plt.figure(figsize=(10, 10))\n",
    "plt.plot(fpr, tpr, linestyle='-')\n",
    "plt.plot([0, 1], [0, 1], linestyle='--')\n",
    "plt.xlim([0.0, 1.0])\n",
    "plt.ylim([0.0, 1.0])\n",
    "plt.xlabel('False Positive Rate')\n",
    "plt.ylabel('True Positive Rate')\n",
    "plt.title('ROC-curve')\n",
    "plt.show()\n",
    "\n",
    "auc_roc = roc_auc_score(y_valid, probabilities_one_valid)\n",
    "\n",
    "print(\"ROC-AUC score:\", auc_roc)"
   ]
  },
  {
   "cell_type": "markdown",
   "metadata": {},
   "source": [
    "##### Description:\n",
    "This graph shows the ROC-curve for the tuned rfc model.\n",
    "- Our ROC-AUC score is 0.86, which tells us our model behaves and should behave well on unfamiliar data."
   ]
  },
  {
   "cell_type": "markdown",
   "metadata": {},
   "source": [
    "<a class=\"anchor\" id=\"section_3_21\"></a>"
   ]
  },
  {
   "cell_type": "markdown",
   "metadata": {},
   "source": [
    "#### CatBoost:"
   ]
  },
  {
   "cell_type": "code",
   "execution_count": 88,
   "metadata": {},
   "outputs": [
    {
     "data": {
      "text/plain": [
       "<catboost.core.CatBoostClassifier at 0x7f00b8dbc510>"
      ]
     },
     "execution_count": 88,
     "metadata": {},
     "output_type": "execute_result"
    }
   ],
   "source": [
    "model_cat = CatBoostClassifier(custom_loss=['F1'],random_seed=42,logging_level='Silent', class_weights=(class_weights))\n",
    "\n",
    "model_cat.fit(X_train, y_train,eval_set=(X_valid, y_valid))"
   ]
  },
  {
   "cell_type": "markdown",
   "metadata": {},
   "source": [
    "Getting the grid parameters and cross-validating using the built-in Pool function (takes about 3 minutes)"
   ]
  },
  {
   "cell_type": "code",
   "execution_count": 89,
   "metadata": {},
   "outputs": [],
   "source": [
    "cv_params = model_cat.get_params()\n",
    "cv_params.update({'loss_function': 'Logloss'})\n",
    "\n",
    "cv_data = cv(Pool(X_train, y_train),cv_params)"
   ]
  },
  {
   "cell_type": "markdown",
   "metadata": {},
   "source": [
    "Checking the F1-Score:"
   ]
  },
  {
   "cell_type": "code",
   "execution_count": 90,
   "metadata": {},
   "outputs": [
    {
     "name": "stdout",
     "output_type": "stream",
     "text": [
      "F1-score: 0.770810978185858\n"
     ]
    }
   ],
   "source": [
    "print('F1-score: {}'.format(np.max(cv_data['test-F1:use_weights=true-mean'])))"
   ]
  },
  {
   "cell_type": "markdown",
   "metadata": {},
   "source": [
    "Seems like a massive increase in the f1 score, to value of 0.77"
   ]
  },
  {
   "cell_type": "markdown",
   "metadata": {},
   "source": [
    "Checking and plotting the ROC curve:"
   ]
  },
  {
   "cell_type": "code",
   "execution_count": 91,
   "metadata": {},
   "outputs": [
    {
     "data": {
      "image/png": "[encoded data removed]",
      "text/plain": [
       "<Figure size 720x720 with 1 Axes>"
      ]
     },
     "metadata": {
      "needs_background": "light"
     },
     "output_type": "display_data"
    },
    {
     "name": "stdout",
     "output_type": "stream",
     "text": [
      "ROC-AUC score: 0.8666185445846464\n"
     ]
    }
   ],
   "source": [
    "probabilities_valid = model_cat.predict_proba(X_valid)\n",
    "probabilities_one_valid = probabilities_valid[:, 1]\n",
    "\n",
    "fpr, tpr, thresholds = roc_curve(y_valid, probabilities_one_valid) \n",
    "\n",
    "plt.figure(figsize=(10, 10))\n",
    "plt.plot(fpr, tpr, linestyle='-')\n",
    "plt.plot([0, 1], [0, 1], linestyle='--')\n",
    "plt.xlim([0.0, 1.0])\n",
    "plt.ylim([0.0, 1.0])\n",
    "plt.xlabel('False Positive Rate')\n",
    "plt.ylabel('True Positive Rate')\n",
    "plt.title('ROC-curve')\n",
    "plt.show()\n",
    "\n",
    "auc_roc = roc_auc_score(y_valid, probabilities_one_valid)\n",
    "\n",
    "print(\"ROC-AUC score:\", auc_roc)"
   ]
  },
  {
   "cell_type": "markdown",
   "metadata": {},
   "source": [
    "##### Description:\n",
    "This graph shows the ROC-Curve for CatBoost.\n",
    "- We got a very good result with a massive incrase in the F1 score (0.77).\n",
    "\n",
    "let's see how the model will behave on the test set!\n",
    "\n"
   ]
  },
  {
   "cell_type": "markdown",
   "metadata": {},
   "source": [
    "### Conclusion:\n",
    "- We improved our random forest to F1 of 0.65\n",
    "- We improved our CatBoost to F1 of 0.77\n",
    "\n",
    "Lets see if our models will behave the same on the test set."
   ]
  },
  {
   "cell_type": "markdown",
   "metadata": {},
   "source": [
    "<a class=\"anchor\" id=\"chapter4\"></a>"
   ]
  },
  {
   "cell_type": "markdown",
   "metadata": {},
   "source": [
    "<div class=\"alert alert-info\" style=\"background-color:#006a79; color:white; padding:0px 10px; border-radius:5px;\"><h2 style='margin:10px 5px'> Models final testing and validation.</h2>\n",
    "</div>"
   ]
  },
  {
   "cell_type": "markdown",
   "metadata": {},
   "source": [
    "creating lists to later present metrics."
   ]
  },
  {
   "cell_type": "code",
   "execution_count": 92,
   "metadata": {},
   "outputs": [],
   "source": [
    "table_models = []\n",
    "table_f1 = []\n",
    "table_acc = []\n",
    "table_auc = []"
   ]
  },
  {
   "cell_type": "markdown",
   "metadata": {},
   "source": [
    "<a class=\"anchor\" id=\"section_4_1\"></a>"
   ]
  },
  {
   "cell_type": "markdown",
   "metadata": {},
   "source": [
    "### Random Forest:"
   ]
  },
  {
   "cell_type": "code",
   "execution_count": 93,
   "metadata": {},
   "outputs": [
    {
     "name": "stdout",
     "output_type": "stream",
     "text": [
      "Test set F1-score: 0.6221142162818956\n",
      "Test set ROC-AUC: 0.8623446250564896\n",
      "Test set Accuracy: 0.8445\n"
     ]
    }
   ],
   "source": [
    "predictions_test = model_rfc.predict(X_test)\n",
    "probabilities_test = model_rfc.predict_proba(X_test)\n",
    "probabilities_one_test = probabilities_test[:, 1]\n",
    "\n",
    "test_f1 = f1_score(y_test, predictions_test)\n",
    "test_acc = accuracy_score(y_test, predictions_test)\n",
    "test_auc = roc_auc_score(y_test, probabilities_one_test)\n",
    "\n",
    "\n",
    "print(\"Test set F1-score:\", test_f1)\n",
    "print(\"Test set ROC-AUC:\", test_auc)\n",
    "print(\"Test set Accuracy:\", test_acc)\n",
    "\n",
    "table_acc.append(round(test_acc, 2))\n",
    "table_f1.append(round(test_f1, 2))\n",
    "table_auc.append(round(test_auc, 2))\n",
    "table_models.append('RandomForestClassifier')"
   ]
  },
  {
   "cell_type": "markdown",
   "metadata": {},
   "source": [
    "We surpassed the requeried 0.59 threshold of F1-score on the test set, and ROC-AUC of 0.86."
   ]
  },
  {
   "cell_type": "markdown",
   "metadata": {},
   "source": [
    "Creating feature importance table:"
   ]
  },
  {
   "cell_type": "code",
   "execution_count": 94,
   "metadata": {},
   "outputs": [
    {
     "data": {
      "text/html": [
       "<div>\n",
       "<style scoped>\n",
       "    .dataframe tbody tr th:only-of-type {\n",
       "        vertical-align: middle;\n",
       "    }\n",
       "\n",
       "    .dataframe tbody tr th {\n",
       "        vertical-align: top;\n",
       "    }\n",
       "\n",
       "    .dataframe thead th {\n",
       "        text-align: right;\n",
       "    }\n",
       "</style>\n",
       "<table border=\"1\" class=\"dataframe\">\n",
       "  <thead>\n",
       "    <tr style=\"text-align: right;\">\n",
       "      <th></th>\n",
       "      <th>Feature</th>\n",
       "      <th>fi</th>\n",
       "    </tr>\n",
       "  </thead>\n",
       "  <tbody>\n",
       "    <tr>\n",
       "      <td>1</td>\n",
       "      <td>age</td>\n",
       "      <td>0.284063</td>\n",
       "    </tr>\n",
       "    <tr>\n",
       "      <td>4</td>\n",
       "      <td>numofproducts</td>\n",
       "      <td>0.170121</td>\n",
       "    </tr>\n",
       "    <tr>\n",
       "      <td>3</td>\n",
       "      <td>balance</td>\n",
       "      <td>0.126187</td>\n",
       "    </tr>\n",
       "    <tr>\n",
       "      <td>7</td>\n",
       "      <td>estimatedsalary</td>\n",
       "      <td>0.115105</td>\n",
       "    </tr>\n",
       "    <tr>\n",
       "      <td>0</td>\n",
       "      <td>creditscore</td>\n",
       "      <td>0.107664</td>\n",
       "    </tr>\n",
       "    <tr>\n",
       "      <td>2</td>\n",
       "      <td>tenure</td>\n",
       "      <td>0.062416</td>\n",
       "    </tr>\n",
       "    <tr>\n",
       "      <td>6</td>\n",
       "      <td>isactivemember</td>\n",
       "      <td>0.048166</td>\n",
       "    </tr>\n",
       "    <tr>\n",
       "      <td>8</td>\n",
       "      <td>_Germany</td>\n",
       "      <td>0.033478</td>\n",
       "    </tr>\n",
       "    <tr>\n",
       "      <td>10</td>\n",
       "      <td>_Male</td>\n",
       "      <td>0.025166</td>\n",
       "    </tr>\n",
       "    <tr>\n",
       "      <td>5</td>\n",
       "      <td>hascrcard</td>\n",
       "      <td>0.013906</td>\n",
       "    </tr>\n",
       "    <tr>\n",
       "      <td>9</td>\n",
       "      <td>_Spain</td>\n",
       "      <td>0.013730</td>\n",
       "    </tr>\n",
       "  </tbody>\n",
       "</table>\n",
       "</div>"
      ],
      "text/plain": [
       "            Feature        fi\n",
       "1               age  0.284063\n",
       "4     numofproducts  0.170121\n",
       "3           balance  0.126187\n",
       "7   estimatedsalary  0.115105\n",
       "0       creditscore  0.107664\n",
       "2            tenure  0.062416\n",
       "6    isactivemember  0.048166\n",
       "8          _Germany  0.033478\n",
       "10            _Male  0.025166\n",
       "5         hascrcard  0.013906\n",
       "9            _Spain  0.013730"
      ]
     },
     "execution_count": 94,
     "metadata": {},
     "output_type": "execute_result"
    }
   ],
   "source": [
    "rfc_fi = pd.DataFrame({'Feature':X_test.columns,'fi':model_rfc.feature_importances_})\n",
    "rfc_fi.sort_values('fi',ascending=False)"
   ]
  },
  {
   "cell_type": "markdown",
   "metadata": {},
   "source": [
    "#### Description & Conclusion:\n",
    "This table shows the feature importance score for the final RFC model.\n",
    "- Age is the most important feature for our RFC model, followed by numofproducts and balance."
   ]
  },
  {
   "cell_type": "markdown",
   "metadata": {},
   "source": [
    "<a class=\"anchor\" id=\"section_4_2\"></a>"
   ]
  },
  {
   "cell_type": "markdown",
   "metadata": {},
   "source": [
    "### CatBoost:"
   ]
  },
  {
   "cell_type": "code",
   "execution_count": 95,
   "metadata": {},
   "outputs": [
    {
     "name": "stdout",
     "output_type": "stream",
     "text": [
      "Test set F1-score: 0.604417670682731\n",
      "Test set ROC-AUC: 0.8706210062142266\n",
      "Test set Accuracy: 0.803\n"
     ]
    }
   ],
   "source": [
    "predictions_test = model_cat.predict(X_test)\n",
    "probabilities_test = model_cat.predict_proba(X_test)\n",
    "probabilities_one_test = probabilities_test[:, 1]\n",
    "\n",
    "test_f1 = f1_score(y_test, predictions_test)\n",
    "test_acc = accuracy_score(y_test, predictions_test)\n",
    "test_auc = roc_auc_score(y_test, probabilities_one_test)\n",
    "\n",
    "\n",
    "print(\"Test set F1-score:\", test_f1)\n",
    "print(\"Test set ROC-AUC:\", test_auc)\n",
    "print(\"Test set Accuracy:\", test_acc)\n",
    "\n",
    "table_acc.append(round(test_acc, 2))\n",
    "table_f1.append(round(test_f1, 2))\n",
    "table_auc.append(round(test_auc, 2))\n",
    "table_models.append('CatBoostClassifier')"
   ]
  },
  {
   "cell_type": "markdown",
   "metadata": {},
   "source": [
    "We ended up with F1-score of 0.6, which is lower than RFC (0.62), but with a bit higher ROC-AUC (0.87 to 0.86)"
   ]
  },
  {
   "cell_type": "markdown",
   "metadata": {},
   "source": [
    "Creating feature importance table:\n"
   ]
  },
  {
   "cell_type": "code",
   "execution_count": 96,
   "metadata": {},
   "outputs": [
    {
     "data": {
      "text/html": [
       "<div>\n",
       "<style scoped>\n",
       "    .dataframe tbody tr th:only-of-type {\n",
       "        vertical-align: middle;\n",
       "    }\n",
       "\n",
       "    .dataframe tbody tr th {\n",
       "        vertical-align: top;\n",
       "    }\n",
       "\n",
       "    .dataframe thead th {\n",
       "        text-align: right;\n",
       "    }\n",
       "</style>\n",
       "<table border=\"1\" class=\"dataframe\">\n",
       "  <thead>\n",
       "    <tr style=\"text-align: right;\">\n",
       "      <th></th>\n",
       "      <th>Feature</th>\n",
       "      <th>fi</th>\n",
       "    </tr>\n",
       "  </thead>\n",
       "  <tbody>\n",
       "    <tr>\n",
       "      <td>4</td>\n",
       "      <td>numofproducts</td>\n",
       "      <td>30.879285</td>\n",
       "    </tr>\n",
       "    <tr>\n",
       "      <td>1</td>\n",
       "      <td>age</td>\n",
       "      <td>21.063328</td>\n",
       "    </tr>\n",
       "    <tr>\n",
       "      <td>3</td>\n",
       "      <td>balance</td>\n",
       "      <td>11.120090</td>\n",
       "    </tr>\n",
       "    <tr>\n",
       "      <td>6</td>\n",
       "      <td>isactivemember</td>\n",
       "      <td>8.268885</td>\n",
       "    </tr>\n",
       "    <tr>\n",
       "      <td>7</td>\n",
       "      <td>estimatedsalary</td>\n",
       "      <td>5.971195</td>\n",
       "    </tr>\n",
       "    <tr>\n",
       "      <td>8</td>\n",
       "      <td>_Germany</td>\n",
       "      <td>5.940013</td>\n",
       "    </tr>\n",
       "    <tr>\n",
       "      <td>0</td>\n",
       "      <td>creditscore</td>\n",
       "      <td>5.696993</td>\n",
       "    </tr>\n",
       "    <tr>\n",
       "      <td>2</td>\n",
       "      <td>tenure</td>\n",
       "      <td>4.821970</td>\n",
       "    </tr>\n",
       "    <tr>\n",
       "      <td>10</td>\n",
       "      <td>_Male</td>\n",
       "      <td>3.996290</td>\n",
       "    </tr>\n",
       "    <tr>\n",
       "      <td>9</td>\n",
       "      <td>_Spain</td>\n",
       "      <td>1.254924</td>\n",
       "    </tr>\n",
       "    <tr>\n",
       "      <td>5</td>\n",
       "      <td>hascrcard</td>\n",
       "      <td>0.987027</td>\n",
       "    </tr>\n",
       "  </tbody>\n",
       "</table>\n",
       "</div>"
      ],
      "text/plain": [
       "            Feature         fi\n",
       "4     numofproducts  30.879285\n",
       "1               age  21.063328\n",
       "3           balance  11.120090\n",
       "6    isactivemember   8.268885\n",
       "7   estimatedsalary   5.971195\n",
       "8          _Germany   5.940013\n",
       "0       creditscore   5.696993\n",
       "2            tenure   4.821970\n",
       "10            _Male   3.996290\n",
       "9            _Spain   1.254924\n",
       "5         hascrcard   0.987027"
      ]
     },
     "execution_count": 96,
     "metadata": {},
     "output_type": "execute_result"
    }
   ],
   "source": [
    "cat_fi = pd.DataFrame({'Feature':X_test.columns,'fi':model_cat.feature_importances_})\n",
    "cat_fi.sort_values('fi',ascending=False)"
   ]
  },
  {
   "cell_type": "markdown",
   "metadata": {},
   "source": [
    "<a class=\"anchor\" id=\"section_4_3\"></a>"
   ]
  },
  {
   "cell_type": "markdown",
   "metadata": {},
   "source": [
    "#### Description & Conclusion:\n",
    "This table shows the feature importance score for the final Catboost model.\n",
    "- numofproducts is the most important feature for our CatBoost model, followed by age and balance.\n",
    "- numofproducts, age and balance are the top 3(not by order) features by importance for both models."
   ]
  },
  {
   "cell_type": "markdown",
   "metadata": {},
   "source": [
    "Creating and displaying the final table to see our final results:"
   ]
  },
  {
   "cell_type": "code",
   "execution_count": 97,
   "metadata": {},
   "outputs": [
    {
     "data": {
      "text/html": [
       "<div>\n",
       "<style scoped>\n",
       "    .dataframe tbody tr th:only-of-type {\n",
       "        vertical-align: middle;\n",
       "    }\n",
       "\n",
       "    .dataframe tbody tr th {\n",
       "        vertical-align: top;\n",
       "    }\n",
       "\n",
       "    .dataframe thead th {\n",
       "        text-align: right;\n",
       "    }\n",
       "</style>\n",
       "<table border=\"1\" class=\"dataframe\">\n",
       "  <thead>\n",
       "    <tr style=\"text-align: right;\">\n",
       "      <th></th>\n",
       "      <th>Model</th>\n",
       "      <th>F1 score</th>\n",
       "      <th>Accuracy</th>\n",
       "      <th>ROC-AUC</th>\n",
       "    </tr>\n",
       "  </thead>\n",
       "  <tbody>\n",
       "    <tr>\n",
       "      <td>0</td>\n",
       "      <td>RandomForestClassifier</td>\n",
       "      <td>0.62</td>\n",
       "      <td>0.84</td>\n",
       "      <td>0.86</td>\n",
       "    </tr>\n",
       "    <tr>\n",
       "      <td>1</td>\n",
       "      <td>CatBoostClassifier</td>\n",
       "      <td>0.60</td>\n",
       "      <td>0.80</td>\n",
       "      <td>0.87</td>\n",
       "    </tr>\n",
       "  </tbody>\n",
       "</table>\n",
       "</div>"
      ],
      "text/plain": [
       "                    Model  F1 score  Accuracy  ROC-AUC\n",
       "0  RandomForestClassifier      0.62      0.84     0.86\n",
       "1      CatBoostClassifier      0.60      0.80     0.87"
      ]
     },
     "execution_count": 97,
     "metadata": {},
     "output_type": "execute_result"
    }
   ],
   "source": [
    "table_of_models = (pd.DataFrame({'Model':table_models, 'F1 score':table_f1, 'Accuracy':table_acc, \n",
    "                                'ROC-AUC':table_auc }).sort_values(by='F1 score', ascending=False).reset_index(drop=True))\n",
    "\n",
    "table_of_models"
   ]
  },
  {
   "cell_type": "markdown",
   "metadata": {},
   "source": [
    "### Conclusion:"
   ]
  },
  {
   "cell_type": "markdown",
   "metadata": {},
   "source": [
    "In the data preperation stage:\n",
    "\n",
    "- We removed the folloing rows 'rownumber', 'customerid', 'surname' as they didnt contain useful information for our task.\n",
    "- We split our data to training validation and test sets.\n",
    "- We Encoded the categorical features using OHE\n",
    "- Scaled the numeric features using StandardScaler\n",
    "- Imputed the missing values in tenure column using median strategy\n",
    "- We saw there is class imbalance in our target variable (exited).\n",
    "In the model training & class imbalance fixing stage:\n",
    "\n",
    "- We have tried 4 different methods to treat our class imbalance: using class_weight parameter, upsampling, downsampling and changing probably threshold.\n",
    "\n",
    "- The most successful models were RandomForest and CatBoost using class_weight parameter."
   ]
  },
  {
   "cell_type": "markdown",
   "metadata": {},
   "source": [
    "In the model final testing and validation stage:\n",
    "- The best result (F1) was obtained on the Random forest - 0.62, Catboost takes the second place.\n",
    "\n",
    "- We also looked at what features are important for classification models: age, balance and number of products are in the lead.\n",
    "- We were provided with historical data on customer behavior and termination of agreements with the bank. Based on this data, we formed features for training the model in order to predict customer churn. We have achieved the best results with a model based on the Random Forest algorithm - F1 score of 0.62.\n",
    "\n",
    "- Based on the analysis (using the best model as an example):\n"
   ]
  },
  {
   "cell_type": "code",
   "execution_count": 98,
   "metadata": {},
   "outputs": [
    {
     "data": {
      "text/html": [
       "<div>\n",
       "<style scoped>\n",
       "    .dataframe tbody tr th:only-of-type {\n",
       "        vertical-align: middle;\n",
       "    }\n",
       "\n",
       "    .dataframe tbody tr th {\n",
       "        vertical-align: top;\n",
       "    }\n",
       "\n",
       "    .dataframe thead th {\n",
       "        text-align: right;\n",
       "    }\n",
       "</style>\n",
       "<table border=\"1\" class=\"dataframe\">\n",
       "  <thead>\n",
       "    <tr style=\"text-align: right;\">\n",
       "      <th></th>\n",
       "      <th>Feature</th>\n",
       "      <th>fi</th>\n",
       "    </tr>\n",
       "  </thead>\n",
       "  <tbody>\n",
       "    <tr>\n",
       "      <td>0</td>\n",
       "      <td>age</td>\n",
       "      <td>0.284063</td>\n",
       "    </tr>\n",
       "    <tr>\n",
       "      <td>1</td>\n",
       "      <td>numofproducts</td>\n",
       "      <td>0.170121</td>\n",
       "    </tr>\n",
       "    <tr>\n",
       "      <td>2</td>\n",
       "      <td>balance</td>\n",
       "      <td>0.126187</td>\n",
       "    </tr>\n",
       "    <tr>\n",
       "      <td>3</td>\n",
       "      <td>estimatedsalary</td>\n",
       "      <td>0.115105</td>\n",
       "    </tr>\n",
       "    <tr>\n",
       "      <td>4</td>\n",
       "      <td>creditscore</td>\n",
       "      <td>0.107664</td>\n",
       "    </tr>\n",
       "  </tbody>\n",
       "</table>\n",
       "</div>"
      ],
      "text/plain": [
       "           Feature        fi\n",
       "0              age  0.284063\n",
       "1    numofproducts  0.170121\n",
       "2          balance  0.126187\n",
       "3  estimatedsalary  0.115105\n",
       "4      creditscore  0.107664"
      ]
     },
     "execution_count": 98,
     "metadata": {},
     "output_type": "execute_result"
    }
   ],
   "source": [
    "rfc_fi.sort_values('fi',ascending=False).reset_index(drop=True).head()"
   ]
  },
  {
   "cell_type": "markdown",
   "metadata": {},
   "source": [
    "The most important features to look out for when considering customers churn are:\n",
    "\n",
    "- client's age\n",
    "- number of products\n",
    "- account balance\n",
    "- expected salary\n",
    "- credit score"
   ]
  }
 ],
 "metadata": {
  "ExecuteTimeLog": [
   {
    "duration": 241,
    "start_time": "2021-10-03T12:22:26.514Z"
   },
   {
    "duration": 5399,
    "start_time": "2021-10-03T12:22:51.922Z"
   },
   {
    "duration": 5246,
    "start_time": "2021-10-03T12:22:59.810Z"
   },
   {
    "duration": 798,
    "start_time": "2021-10-03T12:24:07.748Z"
   },
   {
    "duration": 1503,
    "start_time": "2021-10-03T12:24:12.804Z"
   },
   {
    "duration": 259,
    "start_time": "2021-10-03T12:24:17.156Z"
   },
   {
    "duration": 22,
    "start_time": "2021-10-03T12:24:20.739Z"
   },
   {
    "duration": 14,
    "start_time": "2021-10-03T12:25:04.308Z"
   },
   {
    "duration": 1711,
    "start_time": "2021-10-03T12:28:49.919Z"
   },
   {
    "duration": 6,
    "start_time": "2021-10-03T12:29:28.744Z"
   },
   {
    "duration": 423,
    "start_time": "2021-10-03T12:29:33.528Z"
   },
   {
    "duration": 6,
    "start_time": "2021-10-03T12:29:40.312Z"
   },
   {
    "duration": 10,
    "start_time": "2021-10-03T12:29:46.456Z"
   },
   {
    "duration": 11,
    "start_time": "2021-10-03T12:30:13.352Z"
   },
   {
    "duration": 6,
    "start_time": "2021-10-03T12:30:24.936Z"
   },
   {
    "duration": 11,
    "start_time": "2021-10-03T12:30:36.808Z"
   },
   {
    "duration": 371,
    "start_time": "2021-10-03T12:32:57.724Z"
   },
   {
    "duration": 10743,
    "start_time": "2021-10-03T12:33:44.892Z"
   },
   {
    "duration": 350,
    "start_time": "2021-10-03T12:34:08.447Z"
   },
   {
    "duration": 366,
    "start_time": "2021-10-03T12:34:16.574Z"
   },
   {
    "duration": 367,
    "start_time": "2021-10-03T12:34:37.773Z"
   },
   {
    "duration": 10,
    "start_time": "2021-10-03T12:34:57.983Z"
   },
   {
    "duration": 1071,
    "start_time": "2021-10-03T12:35:02.927Z"
   },
   {
    "duration": 481,
    "start_time": "2021-10-03T12:35:07.740Z"
   },
   {
    "duration": 4,
    "start_time": "2021-10-03T12:35:17.357Z"
   },
   {
    "duration": 4015,
    "start_time": "2021-10-03T12:35:57.789Z"
   },
   {
    "duration": 5,
    "start_time": "2021-10-03T12:36:09.423Z"
   },
   {
    "duration": 4007,
    "start_time": "2021-10-03T12:37:50.098Z"
   },
   {
    "duration": 3203,
    "start_time": "2021-10-03T12:37:58.879Z"
   },
   {
    "duration": 3812,
    "start_time": "2021-10-03T12:38:04.415Z"
   },
   {
    "duration": 749,
    "start_time": "2021-10-03T12:38:26.464Z"
   },
   {
    "duration": 484,
    "start_time": "2021-10-03T12:38:32.962Z"
   },
   {
    "duration": 783,
    "start_time": "2021-10-03T12:38:41.250Z"
   },
   {
    "duration": 12,
    "start_time": "2021-10-03T12:38:45.187Z"
   },
   {
    "duration": 4,
    "start_time": "2021-10-03T12:38:50.434Z"
   },
   {
    "duration": 6,
    "start_time": "2021-10-03T12:40:23.844Z"
   },
   {
    "duration": 4,
    "start_time": "2021-10-03T12:42:35.028Z"
   },
   {
    "duration": 425,
    "start_time": "2021-10-03T12:47:57.594Z"
   },
   {
    "duration": 252,
    "start_time": "2021-10-03T12:48:02.200Z"
   },
   {
    "duration": 23,
    "start_time": "2021-10-03T12:48:03.293Z"
   },
   {
    "duration": 4,
    "start_time": "2021-10-03T12:48:04.841Z"
   },
   {
    "duration": 12,
    "start_time": "2021-10-03T12:48:08.490Z"
   },
   {
    "duration": 59,
    "start_time": "2021-10-03T12:52:18.444Z"
   },
   {
    "duration": 24,
    "start_time": "2021-10-03T12:54:11.758Z"
   },
   {
    "duration": 10,
    "start_time": "2021-10-03T12:56:15.520Z"
   },
   {
    "duration": 17,
    "start_time": "2021-10-03T12:56:42.496Z"
   },
   {
    "duration": 124,
    "start_time": "2021-10-03T13:02:00.340Z"
   },
   {
    "duration": 9,
    "start_time": "2021-10-03T13:02:01.988Z"
   },
   {
    "duration": 9,
    "start_time": "2021-10-03T13:02:12.788Z"
   },
   {
    "duration": 22,
    "start_time": "2021-10-04T15:39:32.857Z"
   },
   {
    "duration": 30,
    "start_time": "2021-10-04T15:40:52.066Z"
   },
   {
    "duration": 20,
    "start_time": "2021-10-04T15:43:41.379Z"
   },
   {
    "duration": 16,
    "start_time": "2021-10-04T15:44:10.891Z"
   },
   {
    "duration": 33,
    "start_time": "2021-10-04T15:45:12.910Z"
   },
   {
    "duration": 19,
    "start_time": "2021-10-04T15:45:52.381Z"
   },
   {
    "duration": 373,
    "start_time": "2021-10-04T15:46:58.559Z"
   },
   {
    "duration": 6,
    "start_time": "2021-10-04T15:50:39.665Z"
   },
   {
    "duration": 646,
    "start_time": "2021-10-04T15:52:37.861Z"
   },
   {
    "duration": 2576,
    "start_time": "2021-10-04T15:53:33.187Z"
   },
   {
    "duration": 397,
    "start_time": "2021-10-04T15:54:00.261Z"
   },
   {
    "duration": 69,
    "start_time": "2021-10-04T15:54:04.279Z"
   },
   {
    "duration": 10,
    "start_time": "2021-10-04T15:54:09.404Z"
   },
   {
    "duration": 627,
    "start_time": "2021-10-04T15:54:17.909Z"
   },
   {
    "duration": 5,
    "start_time": "2021-10-04T15:55:20.341Z"
   },
   {
    "duration": 7,
    "start_time": "2021-10-04T15:55:25.508Z"
   },
   {
    "duration": 367,
    "start_time": "2021-10-04T15:55:43.764Z"
   },
   {
    "duration": 6,
    "start_time": "2021-10-04T15:55:54.260Z"
   },
   {
    "duration": 5,
    "start_time": "2021-10-04T15:55:58.164Z"
   },
   {
    "duration": 6,
    "start_time": "2021-10-04T15:56:26.005Z"
   },
   {
    "duration": 6,
    "start_time": "2021-10-04T15:56:36.515Z"
   },
   {
    "duration": 5,
    "start_time": "2021-10-04T15:56:52.152Z"
   },
   {
    "duration": 6,
    "start_time": "2021-10-04T15:56:57.733Z"
   },
   {
    "duration": 147,
    "start_time": "2021-10-04T15:57:10.375Z"
   },
   {
    "duration": 4101,
    "start_time": "2021-10-04T15:59:34.264Z"
   },
   {
    "duration": 98,
    "start_time": "2021-10-04T16:00:47.530Z"
   },
   {
    "duration": 34865,
    "start_time": "2021-10-04T16:02:42.825Z"
   },
   {
    "duration": 5,
    "start_time": "2021-10-04T16:03:27.383Z"
   },
   {
    "duration": 4,
    "start_time": "2021-10-04T16:04:11.673Z"
   },
   {
    "duration": 1025,
    "start_time": "2021-10-04T16:06:21.372Z"
   },
   {
    "duration": 9,
    "start_time": "2021-10-04T16:06:53.898Z"
   },
   {
    "duration": 6,
    "start_time": "2021-10-04T16:07:47.900Z"
   },
   {
    "duration": 56,
    "start_time": "2021-10-04T16:09:27.964Z"
   },
   {
    "duration": 8,
    "start_time": "2021-10-04T16:16:32.754Z"
   },
   {
    "duration": 4,
    "start_time": "2021-10-04T16:21:36.918Z"
   },
   {
    "duration": 167,
    "start_time": "2021-10-04T16:24:04.506Z"
   },
   {
    "duration": 4288,
    "start_time": "2021-10-04T16:24:42.393Z"
   },
   {
    "duration": 366,
    "start_time": "2021-10-04T16:24:58.106Z"
   },
   {
    "duration": 8,
    "start_time": "2021-10-04T16:25:10.071Z"
   },
   {
    "duration": 4498,
    "start_time": "2021-10-04T16:25:18.507Z"
   },
   {
    "duration": 2809,
    "start_time": "2021-10-04T16:25:52.715Z"
   },
   {
    "duration": 2927,
    "start_time": "2021-10-04T16:27:21.340Z"
   },
   {
    "duration": 10,
    "start_time": "2021-10-04T16:30:16.462Z"
   },
   {
    "duration": 4291,
    "start_time": "2021-10-04T16:41:06.744Z"
   },
   {
    "duration": 2755,
    "start_time": "2021-10-04T16:43:21.210Z"
   },
   {
    "duration": 9,
    "start_time": "2021-10-04T22:24:22.189Z"
   },
   {
    "duration": 11,
    "start_time": "2021-10-04T22:26:24.095Z"
   },
   {
    "duration": 775,
    "start_time": "2021-10-04T22:29:44.835Z"
   },
   {
    "duration": 776,
    "start_time": "2021-10-04T22:30:12.802Z"
   },
   {
    "duration": 10,
    "start_time": "2021-10-04T22:31:11.988Z"
   },
   {
    "duration": 450,
    "start_time": "2021-10-04T22:31:15.348Z"
   },
   {
    "duration": 7,
    "start_time": "2021-10-04T22:33:02.009Z"
   },
   {
    "duration": 7,
    "start_time": "2021-10-04T22:33:18.695Z"
   },
   {
    "duration": 16,
    "start_time": "2021-10-04T22:34:04.487Z"
   },
   {
    "duration": 8,
    "start_time": "2021-10-04T22:34:13.189Z"
   },
   {
    "duration": 9,
    "start_time": "2021-10-04T22:34:16.837Z"
   },
   {
    "duration": 6725,
    "start_time": "2021-10-04T22:34:22.600Z"
   },
   {
    "duration": 35,
    "start_time": "2021-10-04T22:34:45.293Z"
   },
   {
    "duration": 4339,
    "start_time": "2021-10-04T22:34:48.871Z"
   },
   {
    "duration": 6,
    "start_time": "2021-10-04T22:35:07.242Z"
   },
   {
    "duration": 4265,
    "start_time": "2021-10-04T22:35:08.136Z"
   },
   {
    "duration": 7,
    "start_time": "2021-10-04T22:35:38.026Z"
   },
   {
    "duration": 400,
    "start_time": "2021-10-04T22:35:43.623Z"
   },
   {
    "duration": 4174,
    "start_time": "2021-10-04T22:35:54.792Z"
   },
   {
    "duration": 7,
    "start_time": "2021-10-04T22:36:44.378Z"
   },
   {
    "duration": 4186,
    "start_time": "2021-10-04T22:36:46.935Z"
   },
   {
    "duration": 7,
    "start_time": "2021-10-04T22:37:01.500Z"
   },
   {
    "duration": 9,
    "start_time": "2021-10-04T22:37:13.673Z"
   },
   {
    "duration": 4160,
    "start_time": "2021-10-04T22:37:22.905Z"
   },
   {
    "duration": 7,
    "start_time": "2021-10-04T22:37:42.810Z"
   },
   {
    "duration": 4174,
    "start_time": "2021-10-04T22:37:43.737Z"
   },
   {
    "duration": 8,
    "start_time": "2021-10-04T22:54:30.826Z"
   },
   {
    "duration": 4121,
    "start_time": "2021-10-04T22:54:32.696Z"
   },
   {
    "duration": 1715,
    "start_time": "2021-10-05T09:07:57.920Z"
   },
   {
    "duration": 8,
    "start_time": "2021-10-05T17:01:57.778Z"
   },
   {
    "duration": 10,
    "start_time": "2021-10-05T17:02:00.131Z"
   },
   {
    "duration": 11,
    "start_time": "2021-10-05T17:02:04.195Z"
   },
   {
    "duration": 9,
    "start_time": "2021-10-05T17:02:33.301Z"
   },
   {
    "duration": 13,
    "start_time": "2021-10-05T17:02:38.179Z"
   },
   {
    "duration": 53,
    "start_time": "2021-10-05T17:02:41.946Z"
   },
   {
    "duration": 23,
    "start_time": "2021-10-05T17:02:50.148Z"
   },
   {
    "duration": 1318,
    "start_time": "2021-10-05T17:05:23.206Z"
   },
   {
    "duration": 11,
    "start_time": "2021-10-05T17:12:49.549Z"
   },
   {
    "duration": 29315,
    "start_time": "2021-10-05T17:15:27.549Z"
   },
   {
    "duration": 4441,
    "start_time": "2021-10-05T17:16:10.693Z"
   },
   {
    "duration": 18,
    "start_time": "2021-10-05T17:17:31.393Z"
   },
   {
    "duration": 7,
    "start_time": "2021-10-05T17:22:11.171Z"
   },
   {
    "duration": 111,
    "start_time": "2021-10-05T18:28:04.317Z"
   },
   {
    "duration": 18,
    "start_time": "2021-10-05T18:45:34.365Z"
   },
   {
    "duration": 348,
    "start_time": "2021-10-05T18:46:07.998Z"
   },
   {
    "duration": 853,
    "start_time": "2021-10-05T18:46:29.292Z"
   },
   {
    "duration": 651,
    "start_time": "2021-10-05T18:47:07.419Z"
   },
   {
    "duration": 699,
    "start_time": "2021-10-05T18:47:25.837Z"
   },
   {
    "duration": 1096,
    "start_time": "2021-10-05T18:47:36.539Z"
   },
   {
    "duration": 521,
    "start_time": "2021-10-05T18:47:53.806Z"
   },
   {
    "duration": 392,
    "start_time": "2021-10-05T18:48:12.013Z"
   },
   {
    "duration": 436,
    "start_time": "2021-10-05T18:49:35.661Z"
   },
   {
    "duration": 408,
    "start_time": "2021-10-05T18:50:03.422Z"
   },
   {
    "duration": 7,
    "start_time": "2021-10-05T19:22:12.874Z"
   },
   {
    "duration": 6,
    "start_time": "2021-10-05T19:22:23.578Z"
   },
   {
    "duration": 3402,
    "start_time": "2021-10-05T19:22:31.098Z"
   },
   {
    "duration": 69879,
    "start_time": "2021-10-06T00:05:58.715Z"
   },
   {
    "duration": 17,
    "start_time": "2021-10-06T00:19:46.936Z"
   },
   {
    "duration": 121,
    "start_time": "2021-10-06T00:20:12.835Z"
   },
   {
    "duration": 7,
    "start_time": "2021-10-06T00:20:21.434Z"
   },
   {
    "duration": 11,
    "start_time": "2021-10-06T00:20:55.975Z"
   },
   {
    "duration": 9,
    "start_time": "2021-10-06T00:22:19.210Z"
   },
   {
    "duration": 11,
    "start_time": "2021-10-06T00:23:53.580Z"
   },
   {
    "duration": 48,
    "start_time": "2021-10-06T00:24:09.220Z"
   },
   {
    "duration": 20,
    "start_time": "2021-10-06T00:24:14.123Z"
   },
   {
    "duration": 1170,
    "start_time": "2021-10-06T00:24:19.290Z"
   },
   {
    "duration": 9,
    "start_time": "2021-10-06T00:35:26.468Z"
   },
   {
    "duration": 9,
    "start_time": "2021-10-06T00:35:58.612Z"
   },
   {
    "duration": 45,
    "start_time": "2021-10-06T00:39:05.447Z"
   },
   {
    "duration": 18,
    "start_time": "2021-10-06T00:39:44.920Z"
   },
   {
    "duration": 7,
    "start_time": "2021-10-06T00:39:48.104Z"
   },
   {
    "duration": 416,
    "start_time": "2021-10-06T00:40:00.312Z"
   },
   {
    "duration": 11,
    "start_time": "2021-10-06T00:40:06.648Z"
   },
   {
    "duration": 9,
    "start_time": "2021-10-06T00:40:08.025Z"
   },
   {
    "duration": 18,
    "start_time": "2021-10-06T00:41:01.992Z"
   },
   {
    "duration": 25,
    "start_time": "2021-10-06T00:41:14.072Z"
   },
   {
    "duration": 17,
    "start_time": "2021-10-06T00:43:01.756Z"
   },
   {
    "duration": 31,
    "start_time": "2021-10-06T00:43:11.580Z"
   },
   {
    "duration": 265,
    "start_time": "2021-10-06T00:59:44.483Z"
   },
   {
    "duration": 8,
    "start_time": "2021-10-06T01:00:13.145Z"
   },
   {
    "duration": 35,
    "start_time": "2021-10-06T01:02:24.091Z"
   },
   {
    "duration": 17,
    "start_time": "2021-10-06T01:02:31.948Z"
   },
   {
    "duration": 27174,
    "start_time": "2021-10-06T01:04:41.597Z"
   },
   {
    "duration": 6,
    "start_time": "2021-10-06T01:05:43.009Z"
   },
   {
    "duration": 675,
    "start_time": "2021-10-06T01:06:00.110Z"
   },
   {
    "duration": 6,
    "start_time": "2021-10-06T01:06:09.520Z"
   },
   {
    "duration": 5173,
    "start_time": "2021-10-06T01:06:10.834Z"
   },
   {
    "duration": 6,
    "start_time": "2021-10-06T01:06:23.521Z"
   },
   {
    "duration": 4309,
    "start_time": "2021-10-06T01:06:24.591Z"
   },
   {
    "duration": 2888,
    "start_time": "2021-10-06T01:06:57.614Z"
   },
   {
    "duration": 2764,
    "start_time": "2021-10-06T01:08:46.464Z"
   },
   {
    "duration": 7,
    "start_time": "2021-10-06T01:09:26.195Z"
   },
   {
    "duration": 2769,
    "start_time": "2021-10-06T01:09:27.040Z"
   },
   {
    "duration": 7,
    "start_time": "2021-10-06T01:09:34.352Z"
   },
   {
    "duration": 2772,
    "start_time": "2021-10-06T01:09:35.056Z"
   },
   {
    "duration": 2603,
    "start_time": "2021-10-06T01:10:51.429Z"
   },
   {
    "duration": 2749,
    "start_time": "2021-10-06T01:11:10.115Z"
   },
   {
    "duration": 9,
    "start_time": "2021-10-06T01:19:34.187Z"
   },
   {
    "duration": 663,
    "start_time": "2021-10-06T01:19:46.121Z"
   },
   {
    "duration": 16,
    "start_time": "2021-10-06T01:19:53.419Z"
   },
   {
    "duration": 9,
    "start_time": "2021-10-06T01:19:56.491Z"
   },
   {
    "duration": 17,
    "start_time": "2021-10-06T01:20:02.011Z"
   },
   {
    "duration": 8,
    "start_time": "2021-10-06T01:21:29.425Z"
   },
   {
    "duration": 30,
    "start_time": "2021-10-06T01:21:37.803Z"
   },
   {
    "duration": 9,
    "start_time": "2021-10-06T01:21:39.451Z"
   },
   {
    "duration": 17,
    "start_time": "2021-10-06T01:21:43.067Z"
   },
   {
    "duration": 35,
    "start_time": "2021-10-06T01:29:43.201Z"
   },
   {
    "duration": 73,
    "start_time": "2021-10-06T01:30:15.585Z"
   },
   {
    "duration": 115,
    "start_time": "2021-10-06T01:30:34.115Z"
   },
   {
    "duration": 111,
    "start_time": "2021-10-06T01:30:47.011Z"
   },
   {
    "duration": 17,
    "start_time": "2021-10-06T14:37:10.639Z"
   },
   {
    "duration": 10,
    "start_time": "2021-10-06T14:37:18.831Z"
   },
   {
    "duration": 30,
    "start_time": "2021-10-06T14:38:20.015Z"
   },
   {
    "duration": 12,
    "start_time": "2021-10-06T14:38:28.063Z"
   },
   {
    "duration": 12,
    "start_time": "2021-10-06T14:38:48.463Z"
   },
   {
    "duration": 9,
    "start_time": "2021-10-06T14:39:13.423Z"
   },
   {
    "duration": 13,
    "start_time": "2021-10-06T14:40:15.521Z"
   },
   {
    "duration": 9,
    "start_time": "2021-10-06T14:40:21.313Z"
   },
   {
    "duration": 11,
    "start_time": "2021-10-06T14:43:09.588Z"
   },
   {
    "duration": 16,
    "start_time": "2021-10-06T14:44:01.749Z"
   },
   {
    "duration": 6,
    "start_time": "2021-10-06T14:44:03.811Z"
   },
   {
    "duration": 11,
    "start_time": "2021-10-06T14:44:06.819Z"
   },
   {
    "duration": 400,
    "start_time": "2021-10-06T14:44:22.967Z"
   },
   {
    "duration": 9,
    "start_time": "2021-10-06T14:44:26.755Z"
   },
   {
    "duration": 58,
    "start_time": "2021-10-06T14:44:30.845Z"
   },
   {
    "duration": 6,
    "start_time": "2021-10-06T14:44:35.155Z"
   },
   {
    "duration": 35,
    "start_time": "2021-10-06T14:44:42.901Z"
   },
   {
    "duration": 4386,
    "start_time": "2021-10-06T14:45:18.549Z"
   },
   {
    "duration": 29,
    "start_time": "2021-10-06T14:45:41.461Z"
   },
   {
    "duration": 119,
    "start_time": "2021-10-06T14:45:45.781Z"
   },
   {
    "duration": 18,
    "start_time": "2021-10-06T14:45:57.655Z"
   },
   {
    "duration": 55,
    "start_time": "2021-10-06T14:46:05.885Z"
   },
   {
    "duration": 8,
    "start_time": "2021-10-06T14:46:07.813Z"
   },
   {
    "duration": 38,
    "start_time": "2021-10-06T14:46:11.958Z"
   },
   {
    "duration": 31,
    "start_time": "2021-10-06T14:46:31.093Z"
   },
   {
    "duration": 123,
    "start_time": "2021-10-06T14:46:35.109Z"
   },
   {
    "duration": 4140,
    "start_time": "2021-10-06T14:47:00.357Z"
   },
   {
    "duration": 3136,
    "start_time": "2021-10-06T14:47:04.500Z"
   },
   {
    "duration": 3847,
    "start_time": "2021-10-06T14:47:07.639Z"
   },
   {
    "duration": 1606,
    "start_time": "2021-10-06T14:47:11.490Z"
   },
   {
    "duration": 247,
    "start_time": "2021-10-06T14:47:13.099Z"
   },
   {
    "duration": 21,
    "start_time": "2021-10-06T14:47:13.348Z"
   },
   {
    "duration": 14,
    "start_time": "2021-10-06T14:47:13.372Z"
   },
   {
    "duration": 16,
    "start_time": "2021-10-06T14:47:13.390Z"
   },
   {
    "duration": 22,
    "start_time": "2021-10-06T14:47:13.409Z"
   },
   {
    "duration": 8,
    "start_time": "2021-10-06T14:47:13.433Z"
   },
   {
    "duration": 21,
    "start_time": "2021-10-06T14:47:13.444Z"
   },
   {
    "duration": 12,
    "start_time": "2021-10-06T14:47:13.468Z"
   },
   {
    "duration": 22,
    "start_time": "2021-10-06T14:47:13.483Z"
   },
   {
    "duration": 17,
    "start_time": "2021-10-06T14:47:13.508Z"
   },
   {
    "duration": 31,
    "start_time": "2021-10-06T14:47:13.527Z"
   },
   {
    "duration": 45,
    "start_time": "2021-10-06T14:47:13.560Z"
   },
   {
    "duration": 16,
    "start_time": "2021-10-06T14:47:13.607Z"
   },
   {
    "duration": 1089,
    "start_time": "2021-10-06T14:47:13.625Z"
   },
   {
    "duration": 420,
    "start_time": "2021-10-06T14:47:14.717Z"
   },
   {
    "duration": 18,
    "start_time": "2021-10-06T14:47:15.139Z"
   },
   {
    "duration": 9,
    "start_time": "2021-10-06T14:47:15.160Z"
   },
   {
    "duration": 59,
    "start_time": "2021-10-06T14:47:15.172Z"
   },
   {
    "duration": 28,
    "start_time": "2021-10-06T14:47:15.236Z"
   },
   {
    "duration": 54,
    "start_time": "2021-10-06T14:47:15.267Z"
   },
   {
    "duration": 3,
    "start_time": "2021-10-06T14:47:15.324Z"
   },
   {
    "duration": 36,
    "start_time": "2021-10-06T14:47:15.330Z"
   },
   {
    "duration": 4368,
    "start_time": "2021-10-06T14:47:15.369Z"
   },
   {
    "duration": 38,
    "start_time": "2021-10-06T14:47:19.740Z"
   },
   {
    "duration": 133,
    "start_time": "2021-10-06T14:47:19.781Z"
   },
   {
    "duration": 11,
    "start_time": "2021-10-06T15:12:51.046Z"
   },
   {
    "duration": 10,
    "start_time": "2021-10-06T15:20:38.332Z"
   },
   {
    "duration": 10,
    "start_time": "2021-10-06T15:20:43.419Z"
   },
   {
    "duration": 24,
    "start_time": "2021-10-06T15:21:23.343Z"
   },
   {
    "duration": 18,
    "start_time": "2021-10-06T15:21:34.202Z"
   },
   {
    "duration": 19,
    "start_time": "2021-10-06T15:21:54.443Z"
   },
   {
    "duration": 13,
    "start_time": "2021-10-06T15:22:02.876Z"
   },
   {
    "duration": 13,
    "start_time": "2021-10-06T15:22:17.439Z"
   },
   {
    "duration": 2844,
    "start_time": "2021-10-06T15:32:01.844Z"
   },
   {
    "duration": 17,
    "start_time": "2021-10-06T15:32:21.750Z"
   },
   {
    "duration": 13,
    "start_time": "2021-10-06T15:32:26.852Z"
   },
   {
    "duration": 2071,
    "start_time": "2021-10-06T15:32:30.358Z"
   },
   {
    "duration": 1750,
    "start_time": "2021-10-06T15:32:35.029Z"
   },
   {
    "duration": 4,
    "start_time": "2021-10-06T15:33:30.855Z"
   },
   {
    "duration": 1991,
    "start_time": "2021-10-06T15:33:37.801Z"
   },
   {
    "duration": 2661,
    "start_time": "2021-10-06T15:33:49.702Z"
   },
   {
    "duration": 2560,
    "start_time": "2021-10-06T15:35:14.583Z"
   },
   {
    "duration": 2737,
    "start_time": "2021-10-06T15:35:25.297Z"
   },
   {
    "duration": 2574,
    "start_time": "2021-10-06T15:35:36.683Z"
   },
   {
    "duration": 2746,
    "start_time": "2021-10-06T15:36:03.243Z"
   },
   {
    "duration": 16,
    "start_time": "2021-10-06T15:36:48.155Z"
   },
   {
    "duration": 9,
    "start_time": "2021-10-06T15:36:58.941Z"
   },
   {
    "duration": 62,
    "start_time": "2021-10-06T15:37:01.033Z"
   },
   {
    "duration": 9,
    "start_time": "2021-10-06T15:37:02.649Z"
   },
   {
    "duration": 36,
    "start_time": "2021-10-06T15:37:05.049Z"
   },
   {
    "duration": 4546,
    "start_time": "2021-10-06T15:37:09.915Z"
   },
   {
    "duration": 549,
    "start_time": "2021-10-06T15:37:29.913Z"
   },
   {
    "duration": 1702,
    "start_time": "2021-10-06T15:37:51.193Z"
   },
   {
    "duration": 32,
    "start_time": "2021-10-06T15:38:16.651Z"
   },
   {
    "duration": 16,
    "start_time": "2021-10-06T15:38:20.249Z"
   },
   {
    "duration": 42,
    "start_time": "2021-10-06T15:43:33.217Z"
   },
   {
    "duration": 49,
    "start_time": "2021-10-06T15:43:37.808Z"
   },
   {
    "duration": 83,
    "start_time": "2021-10-06T15:43:40.575Z"
   },
   {
    "duration": 37,
    "start_time": "2021-10-06T15:44:04.255Z"
   },
   {
    "duration": 51,
    "start_time": "2021-10-06T15:44:10.607Z"
   },
   {
    "duration": 602,
    "start_time": "2021-10-06T15:44:56.818Z"
   },
   {
    "duration": 154,
    "start_time": "2021-10-06T15:45:01.104Z"
   },
   {
    "duration": 117,
    "start_time": "2021-10-06T15:45:07.743Z"
   },
   {
    "duration": 347,
    "start_time": "2021-10-06T15:56:20.267Z"
   },
   {
    "duration": 564,
    "start_time": "2021-10-06T15:57:06.718Z"
   },
   {
    "duration": 121,
    "start_time": "2021-10-06T15:57:11.661Z"
   },
   {
    "duration": 13,
    "start_time": "2021-10-06T16:00:47.615Z"
   },
   {
    "duration": 27923,
    "start_time": "2021-10-06T16:01:53.935Z"
   },
   {
    "duration": 25124,
    "start_time": "2021-10-06T16:02:38.447Z"
   },
   {
    "duration": 3876,
    "start_time": "2021-10-06T16:28:16.582Z"
   },
   {
    "duration": 9,
    "start_time": "2021-10-06T16:30:23.558Z"
   },
   {
    "duration": 8,
    "start_time": "2021-10-06T16:30:55.095Z"
   },
   {
    "duration": 8,
    "start_time": "2021-10-06T16:31:23.256Z"
   },
   {
    "duration": 780,
    "start_time": "2021-10-06T16:31:31.398Z"
   },
   {
    "duration": 6,
    "start_time": "2021-10-06T16:31:51.320Z"
   },
   {
    "duration": 5,
    "start_time": "2021-10-06T16:32:42.460Z"
   },
   {
    "duration": 688,
    "start_time": "2021-10-06T16:33:42.602Z"
   },
   {
    "duration": 373,
    "start_time": "2021-10-06T16:36:57.454Z"
   },
   {
    "duration": 361,
    "start_time": "2021-10-06T16:43:59.683Z"
   },
   {
    "duration": 113,
    "start_time": "2021-10-06T16:46:16.134Z"
   },
   {
    "duration": 14,
    "start_time": "2021-10-06T16:48:39.545Z"
   },
   {
    "duration": 17,
    "start_time": "2021-10-06T16:55:16.973Z"
   },
   {
    "duration": 4,
    "start_time": "2021-10-06T16:55:29.467Z"
   },
   {
    "duration": 344,
    "start_time": "2021-10-06T16:57:48.463Z"
   },
   {
    "duration": 417,
    "start_time": "2021-10-06T16:58:27.999Z"
   },
   {
    "duration": 67,
    "start_time": "2021-10-06T17:00:19.650Z"
   },
   {
    "duration": 91161,
    "start_time": "2021-10-06T17:00:27.297Z"
   },
   {
    "duration": 179,
    "start_time": "2021-10-06T17:04:30.707Z"
   },
   {
    "duration": 14,
    "start_time": "2021-10-06T17:06:07.541Z"
   },
   {
    "duration": 8,
    "start_time": "2021-10-06T17:06:47.990Z"
   },
   {
    "duration": 145,
    "start_time": "2021-10-06T17:07:32.023Z"
   },
   {
    "duration": 333,
    "start_time": "2021-10-06T17:07:37.546Z"
   },
   {
    "duration": 5,
    "start_time": "2021-10-06T17:07:49.383Z"
   },
   {
    "duration": 141,
    "start_time": "2021-10-06T17:07:55.242Z"
   },
   {
    "duration": 13,
    "start_time": "2021-10-06T17:08:02.439Z"
   },
   {
    "duration": 14,
    "start_time": "2021-10-06T17:08:37.639Z"
   },
   {
    "duration": 15,
    "start_time": "2021-10-06T17:08:41.544Z"
   },
   {
    "duration": 148,
    "start_time": "2021-10-06T17:11:24.522Z"
   },
   {
    "duration": 14,
    "start_time": "2021-10-06T17:11:36.363Z"
   },
   {
    "duration": 10,
    "start_time": "2021-10-06T17:11:45.227Z"
   },
   {
    "duration": 6,
    "start_time": "2021-10-06T17:20:47.696Z"
   },
   {
    "duration": 27716,
    "start_time": "2021-10-06T17:24:57.418Z"
   },
   {
    "duration": 6,
    "start_time": "2021-10-06T17:25:56.613Z"
   },
   {
    "duration": 129,
    "start_time": "2021-10-06T17:26:01.241Z"
   },
   {
    "duration": 7,
    "start_time": "2021-10-06T17:26:16.614Z"
   },
   {
    "duration": 4,
    "start_time": "2021-10-06T17:27:56.920Z"
   },
   {
    "duration": 5,
    "start_time": "2021-10-06T17:27:57.750Z"
   },
   {
    "duration": 8,
    "start_time": "2021-10-06T17:27:58.584Z"
   },
   {
    "duration": 5,
    "start_time": "2021-10-06T17:27:59.720Z"
   },
   {
    "duration": 4,
    "start_time": "2021-10-06T17:28:01.208Z"
   },
   {
    "duration": 337,
    "start_time": "2021-10-06T17:28:03.240Z"
   },
   {
    "duration": 91655,
    "start_time": "2021-10-06T17:28:54.536Z"
   },
   {
    "duration": 182,
    "start_time": "2021-10-06T17:31:18.778Z"
   },
   {
    "duration": 13,
    "start_time": "2021-10-06T17:31:24.474Z"
   },
   {
    "duration": 9,
    "start_time": "2021-10-06T17:31:30.540Z"
   },
   {
    "duration": 9,
    "start_time": "2021-10-06T17:31:37.501Z"
   },
   {
    "duration": 8,
    "start_time": "2021-10-06T17:32:11.357Z"
   },
   {
    "duration": 11,
    "start_time": "2021-10-06T17:39:58.416Z"
   },
   {
    "duration": 9,
    "start_time": "2021-10-06T17:40:13.768Z"
   },
   {
    "duration": 548,
    "start_time": "2021-10-06T17:58:19.589Z"
   },
   {
    "duration": 224,
    "start_time": "2021-10-06T17:58:33.635Z"
   },
   {
    "duration": 67,
    "start_time": "2021-10-06T17:58:46.401Z"
   },
   {
    "duration": 155,
    "start_time": "2021-10-06T17:58:50.003Z"
   },
   {
    "duration": 213,
    "start_time": "2021-10-06T18:05:42.046Z"
   },
   {
    "duration": 67,
    "start_time": "2021-10-06T18:05:49.095Z"
   },
   {
    "duration": 136,
    "start_time": "2021-10-06T18:06:14.038Z"
   },
   {
    "duration": 8,
    "start_time": "2021-10-06T19:39:47.144Z"
   },
   {
    "duration": 7,
    "start_time": "2021-10-06T19:42:14.968Z"
   },
   {
    "duration": 108,
    "start_time": "2021-10-06T19:44:08.315Z"
   },
   {
    "duration": 4,
    "start_time": "2021-10-06T19:46:06.348Z"
   },
   {
    "duration": 6,
    "start_time": "2021-10-06T19:46:08.685Z"
   },
   {
    "duration": 5,
    "start_time": "2021-10-06T19:54:29.122Z"
   },
   {
    "duration": 128,
    "start_time": "2021-10-07T01:41:44.649Z"
   },
   {
    "duration": 14,
    "start_time": "2021-10-07T01:41:45.883Z"
   },
   {
    "duration": 127,
    "start_time": "2021-10-07T01:41:52.457Z"
   },
   {
    "duration": 14,
    "start_time": "2021-10-07T01:41:53.499Z"
   },
   {
    "duration": 122,
    "start_time": "2021-10-07T01:41:57.659Z"
   },
   {
    "duration": 13,
    "start_time": "2021-10-07T01:41:58.553Z"
   },
   {
    "duration": 103,
    "start_time": "2021-10-07T01:42:02.777Z"
   },
   {
    "duration": 15,
    "start_time": "2021-10-07T01:42:05.161Z"
   },
   {
    "duration": 92,
    "start_time": "2021-10-07T01:42:11.706Z"
   },
   {
    "duration": 18,
    "start_time": "2021-10-07T01:42:12.506Z"
   },
   {
    "duration": 96,
    "start_time": "2021-10-07T01:42:22.603Z"
   },
   {
    "duration": 15,
    "start_time": "2021-10-07T01:42:23.945Z"
   },
   {
    "duration": 10,
    "start_time": "2021-10-07T01:42:31.355Z"
   },
   {
    "duration": 10,
    "start_time": "2021-10-07T01:42:32.553Z"
   },
   {
    "duration": 98,
    "start_time": "2021-10-07T01:42:37.483Z"
   },
   {
    "duration": 15,
    "start_time": "2021-10-07T01:42:38.809Z"
   },
   {
    "duration": 126,
    "start_time": "2021-10-07T01:42:46.361Z"
   },
   {
    "duration": 16,
    "start_time": "2021-10-07T01:42:47.289Z"
   },
   {
    "duration": 127,
    "start_time": "2021-10-07T01:42:53.547Z"
   },
   {
    "duration": 15,
    "start_time": "2021-10-07T01:42:54.729Z"
   },
   {
    "duration": 11,
    "start_time": "2021-10-07T01:43:13.437Z"
   },
   {
    "duration": 10,
    "start_time": "2021-10-07T01:43:15.467Z"
   },
   {
    "duration": 92,
    "start_time": "2021-10-07T01:44:01.294Z"
   },
   {
    "duration": 13,
    "start_time": "2021-10-07T01:44:02.363Z"
   },
   {
    "duration": 98,
    "start_time": "2021-10-07T01:44:06.685Z"
   },
   {
    "duration": 13,
    "start_time": "2021-10-07T01:44:07.339Z"
   },
   {
    "duration": 100,
    "start_time": "2021-10-07T01:44:10.187Z"
   },
   {
    "duration": 14,
    "start_time": "2021-10-07T01:44:10.877Z"
   },
   {
    "duration": 124,
    "start_time": "2021-10-07T01:44:16.255Z"
   },
   {
    "duration": 13,
    "start_time": "2021-10-07T01:44:17.179Z"
   },
   {
    "duration": 96,
    "start_time": "2021-10-07T01:44:22.219Z"
   },
   {
    "duration": 14,
    "start_time": "2021-10-07T01:44:23.085Z"
   },
   {
    "duration": 9,
    "start_time": "2021-10-07T01:44:24.734Z"
   },
   {
    "duration": 113,
    "start_time": "2021-10-07T01:45:19.965Z"
   },
   {
    "duration": 13,
    "start_time": "2021-10-07T01:45:21.997Z"
   },
   {
    "duration": 8,
    "start_time": "2021-10-07T01:45:23.741Z"
   },
   {
    "duration": 9,
    "start_time": "2021-10-07T01:45:24.781Z"
   },
   {
    "duration": 25189,
    "start_time": "2021-10-07T01:45:59.181Z"
   },
   {
    "duration": 101,
    "start_time": "2021-10-07T01:46:53.197Z"
   },
   {
    "duration": 9,
    "start_time": "2021-10-07T01:47:10.062Z"
   },
   {
    "duration": 300,
    "start_time": "2021-10-07T09:07:14.370Z"
   },
   {
    "duration": 20,
    "start_time": "2021-10-07T09:07:16.082Z"
   },
   {
    "duration": 12,
    "start_time": "2021-10-07T09:07:29.586Z"
   },
   {
    "duration": 9,
    "start_time": "2021-10-07T09:07:35.106Z"
   },
   {
    "duration": 99,
    "start_time": "2021-10-07T09:08:10.100Z"
   },
   {
    "duration": 13,
    "start_time": "2021-10-07T09:08:11.106Z"
   },
   {
    "duration": 9,
    "start_time": "2021-10-07T09:08:12.738Z"
   },
   {
    "duration": 9,
    "start_time": "2021-10-07T09:08:17.250Z"
   },
   {
    "duration": 150,
    "start_time": "2021-10-09T18:22:46.332Z"
   },
   {
    "duration": 8,
    "start_time": "2021-10-09T18:23:08.525Z"
   },
   {
    "duration": 227,
    "start_time": "2021-10-09T18:23:48.463Z"
   },
   {
    "duration": 250,
    "start_time": "2021-10-09T18:23:54.959Z"
   },
   {
    "duration": 236,
    "start_time": "2021-10-09T18:24:17.998Z"
   },
   {
    "duration": 232,
    "start_time": "2021-10-09T18:24:22.687Z"
   },
   {
    "duration": 92,
    "start_time": "2021-10-09T19:01:12.082Z"
   },
   {
    "duration": 620,
    "start_time": "2021-10-09T19:02:31.983Z"
   },
   {
    "duration": 335,
    "start_time": "2021-10-09T19:02:36.463Z"
   },
   {
    "duration": 465,
    "start_time": "2021-10-09T19:02:39.587Z"
   },
   {
    "duration": 361,
    "start_time": "2021-10-09T19:02:41.454Z"
   },
   {
    "duration": 339,
    "start_time": "2021-10-09T19:02:46.767Z"
   },
   {
    "duration": 352,
    "start_time": "2021-10-09T19:02:56.334Z"
   },
   {
    "duration": 112,
    "start_time": "2021-10-09T19:03:09.953Z"
   },
   {
    "duration": 1141,
    "start_time": "2021-10-09T19:04:27.921Z"
   },
   {
    "duration": 145,
    "start_time": "2021-10-09T19:04:39.075Z"
   },
   {
    "duration": 1117,
    "start_time": "2021-10-09T19:04:45.104Z"
   },
   {
    "duration": 1159,
    "start_time": "2021-10-09T19:05:01.345Z"
   },
   {
    "duration": 935,
    "start_time": "2021-10-09T19:05:08.209Z"
   },
   {
    "duration": 997,
    "start_time": "2021-10-09T19:05:13.345Z"
   },
   {
    "duration": 1124,
    "start_time": "2021-10-09T19:05:17.601Z"
   },
   {
    "duration": 925,
    "start_time": "2021-10-09T19:05:25.971Z"
   },
   {
    "duration": 857,
    "start_time": "2021-10-09T19:05:29.364Z"
   },
   {
    "duration": 1121,
    "start_time": "2021-10-09T19:05:33.873Z"
   },
   {
    "duration": 1109,
    "start_time": "2021-10-09T19:05:54.275Z"
   },
   {
    "duration": 922,
    "start_time": "2021-10-09T19:06:07.810Z"
   },
   {
    "duration": 1187,
    "start_time": "2021-10-09T19:06:14.627Z"
   },
   {
    "duration": 867,
    "start_time": "2021-10-09T19:06:23.122Z"
   },
   {
    "duration": 1002,
    "start_time": "2021-10-09T19:06:26.786Z"
   },
   {
    "duration": 1002,
    "start_time": "2021-10-09T19:06:30.115Z"
   },
   {
    "duration": 1117,
    "start_time": "2021-10-09T19:06:35.075Z"
   },
   {
    "duration": 970,
    "start_time": "2021-10-09T19:06:39.122Z"
   },
   {
    "duration": 1005,
    "start_time": "2021-10-09T19:06:42.386Z"
   },
   {
    "duration": 932,
    "start_time": "2021-10-09T19:06:45.891Z"
   },
   {
    "duration": 1118,
    "start_time": "2021-10-09T19:06:53.635Z"
   },
   {
    "duration": 342,
    "start_time": "2021-10-09T19:09:48.709Z"
   },
   {
    "duration": 3522,
    "start_time": "2021-10-09T19:11:05.016Z"
   },
   {
    "duration": 9,
    "start_time": "2021-10-09T19:13:25.211Z"
   },
   {
    "duration": 8,
    "start_time": "2021-10-09T19:13:59.145Z"
   },
   {
    "duration": 8,
    "start_time": "2021-10-09T19:14:02.505Z"
   },
   {
    "duration": 8,
    "start_time": "2021-10-09T19:14:38.523Z"
   },
   {
    "duration": 8,
    "start_time": "2021-10-09T19:14:46.377Z"
   },
   {
    "duration": 977,
    "start_time": "2021-10-09T19:16:55.307Z"
   },
   {
    "duration": 860,
    "start_time": "2021-10-09T19:17:02.333Z"
   },
   {
    "duration": 32236,
    "start_time": "2021-10-09T19:17:47.627Z"
   },
   {
    "duration": 865,
    "start_time": "2021-10-09T19:18:43.424Z"
   },
   {
    "duration": 2251,
    "start_time": "2021-10-09T19:18:45.919Z"
   },
   {
    "duration": 32212,
    "start_time": "2021-10-09T19:18:58.481Z"
   },
   {
    "duration": 6,
    "start_time": "2021-10-09T19:20:30.911Z"
   },
   {
    "duration": 38374,
    "start_time": "2021-10-09T19:20:38.624Z"
   },
   {
    "duration": 33690,
    "start_time": "2021-10-09T19:21:29.023Z"
   },
   {
    "duration": 34361,
    "start_time": "2021-10-09T19:22:07.632Z"
   },
   {
    "duration": 13,
    "start_time": "2021-10-09T19:25:39.334Z"
   },
   {
    "duration": 349,
    "start_time": "2021-10-09T19:25:42.705Z"
   },
   {
    "duration": 346,
    "start_time": "2021-10-09T19:26:47.795Z"
   },
   {
    "duration": 118,
    "start_time": "2021-10-09T19:29:44.918Z"
   },
   {
    "duration": 152,
    "start_time": "2021-10-09T19:29:49.989Z"
   },
   {
    "duration": 329,
    "start_time": "2021-10-09T19:29:53.047Z"
   },
   {
    "duration": 336,
    "start_time": "2021-10-09T19:30:08.279Z"
   },
   {
    "duration": 336,
    "start_time": "2021-10-09T19:30:24.007Z"
   },
   {
    "duration": 2337,
    "start_time": "2021-10-09T19:33:34.122Z"
   },
   {
    "duration": 6,
    "start_time": "2021-10-09T19:36:29.772Z"
   },
   {
    "duration": 142,
    "start_time": "2021-10-09T19:36:34.204Z"
   },
   {
    "duration": 11,
    "start_time": "2021-10-09T19:36:36.972Z"
   },
   {
    "duration": 33752,
    "start_time": "2021-10-09T19:37:05.065Z"
   },
   {
    "duration": 6,
    "start_time": "2021-10-09T19:38:43.790Z"
   },
   {
    "duration": 31914,
    "start_time": "2021-10-09T19:38:46.606Z"
   },
   {
    "duration": 4,
    "start_time": "2021-10-09T19:40:46.178Z"
   },
   {
    "duration": 5,
    "start_time": "2021-10-09T19:40:47.074Z"
   },
   {
    "duration": 8,
    "start_time": "2021-10-09T19:40:47.887Z"
   },
   {
    "duration": 6,
    "start_time": "2021-10-09T19:40:49.360Z"
   },
   {
    "duration": 5,
    "start_time": "2021-10-09T19:40:51.087Z"
   },
   {
    "duration": 94162,
    "start_time": "2021-10-09T19:40:58.813Z"
   },
   {
    "duration": 184,
    "start_time": "2021-10-09T19:44:23.426Z"
   },
   {
    "duration": 13,
    "start_time": "2021-10-09T19:44:24.930Z"
   },
   {
    "duration": 333,
    "start_time": "2021-10-09T19:44:38.292Z"
   },
   {
    "duration": 571,
    "start_time": "2021-10-09T19:45:00.164Z"
   },
   {
    "duration": 5,
    "start_time": "2021-10-09T19:46:41.924Z"
   },
   {
    "duration": 10,
    "start_time": "2021-10-09T19:46:43.060Z"
   },
   {
    "duration": 7,
    "start_time": "2021-10-09T19:46:44.245Z"
   },
   {
    "duration": 7,
    "start_time": "2021-10-09T19:46:45.365Z"
   },
   {
    "duration": 5,
    "start_time": "2021-10-09T19:46:47.061Z"
   },
   {
    "duration": 93503,
    "start_time": "2021-10-09T19:46:48.294Z"
   },
   {
    "duration": 723,
    "start_time": "2021-10-09T19:48:25.866Z"
   },
   {
    "duration": 9,
    "start_time": "2021-10-09T19:49:50.680Z"
   },
   {
    "duration": 5,
    "start_time": "2021-10-09T19:50:09.671Z"
   },
   {
    "duration": 17,
    "start_time": "2021-10-09T19:50:20.552Z"
   },
   {
    "duration": 9,
    "start_time": "2021-10-09T19:50:37.849Z"
   },
   {
    "duration": 11,
    "start_time": "2021-10-09T19:50:40.345Z"
   },
   {
    "duration": 125,
    "start_time": "2021-10-09T19:51:01.449Z"
   },
   {
    "duration": 15,
    "start_time": "2021-10-09T19:51:02.876Z"
   },
   {
    "duration": 123,
    "start_time": "2021-10-09T19:51:06.665Z"
   },
   {
    "duration": 19,
    "start_time": "2021-10-09T19:51:08.057Z"
   },
   {
    "duration": 9,
    "start_time": "2021-10-09T19:51:11.576Z"
   },
   {
    "duration": 110,
    "start_time": "2021-10-09T19:51:14.171Z"
   },
   {
    "duration": 15,
    "start_time": "2021-10-09T19:51:15.192Z"
   },
   {
    "duration": 100,
    "start_time": "2021-10-09T19:51:17.897Z"
   },
   {
    "duration": 20,
    "start_time": "2021-10-09T19:51:18.857Z"
   },
   {
    "duration": 116,
    "start_time": "2021-10-09T19:51:22.971Z"
   },
   {
    "duration": 14,
    "start_time": "2021-10-09T19:51:24.137Z"
   },
   {
    "duration": 11,
    "start_time": "2021-10-09T19:51:25.866Z"
   },
   {
    "duration": 97,
    "start_time": "2021-10-09T19:51:29.098Z"
   },
   {
    "duration": 14,
    "start_time": "2021-10-09T19:51:30.121Z"
   },
   {
    "duration": 14,
    "start_time": "2021-10-09T19:51:31.964Z"
   },
   {
    "duration": 110,
    "start_time": "2021-10-09T19:51:35.385Z"
   },
   {
    "duration": 14,
    "start_time": "2021-10-09T19:51:36.280Z"
   },
   {
    "duration": 11,
    "start_time": "2021-10-09T19:51:37.770Z"
   },
   {
    "duration": 107,
    "start_time": "2021-10-09T19:51:41.176Z"
   },
   {
    "duration": 14,
    "start_time": "2021-10-09T19:51:42.026Z"
   },
   {
    "duration": 9,
    "start_time": "2021-10-09T19:51:43.627Z"
   },
   {
    "duration": 116,
    "start_time": "2021-10-09T19:51:46.905Z"
   },
   {
    "duration": 14,
    "start_time": "2021-10-09T19:51:48.073Z"
   },
   {
    "duration": 9,
    "start_time": "2021-10-09T19:51:49.640Z"
   },
   {
    "duration": 100,
    "start_time": "2021-10-09T19:52:21.529Z"
   },
   {
    "duration": 18,
    "start_time": "2021-10-09T19:52:23.180Z"
   },
   {
    "duration": 104,
    "start_time": "2021-10-09T19:52:27.516Z"
   },
   {
    "duration": 14,
    "start_time": "2021-10-09T19:52:28.571Z"
   },
   {
    "duration": 9,
    "start_time": "2021-10-09T19:52:30.122Z"
   },
   {
    "duration": 100,
    "start_time": "2021-10-09T19:52:32.600Z"
   },
   {
    "duration": 19,
    "start_time": "2021-10-09T19:52:34.057Z"
   },
   {
    "duration": 8,
    "start_time": "2021-10-09T19:52:35.146Z"
   },
   {
    "duration": 102,
    "start_time": "2021-10-09T19:52:37.690Z"
   },
   {
    "duration": 17,
    "start_time": "2021-10-09T19:52:38.650Z"
   },
   {
    "duration": 10,
    "start_time": "2021-10-09T19:52:40.009Z"
   },
   {
    "duration": 134,
    "start_time": "2021-10-09T19:52:43.146Z"
   },
   {
    "duration": 17,
    "start_time": "2021-10-09T19:52:44.347Z"
   },
   {
    "duration": 9,
    "start_time": "2021-10-09T19:52:45.836Z"
   },
   {
    "duration": 98,
    "start_time": "2021-10-09T19:53:04.508Z"
   },
   {
    "duration": 15,
    "start_time": "2021-10-09T19:53:05.386Z"
   },
   {
    "duration": 10,
    "start_time": "2021-10-09T19:53:08.522Z"
   },
   {
    "duration": 8,
    "start_time": "2021-10-09T19:53:18.202Z"
   },
   {
    "duration": 7,
    "start_time": "2021-10-09T20:00:08.529Z"
   },
   {
    "duration": 11,
    "start_time": "2021-10-09T20:00:27.233Z"
   },
   {
    "duration": 89270,
    "start_time": "2021-10-09T20:00:39.137Z"
   },
   {
    "duration": 102,
    "start_time": "2021-10-09T20:02:12.211Z"
   },
   {
    "duration": 18,
    "start_time": "2021-10-09T20:02:13.764Z"
   },
   {
    "duration": 8,
    "start_time": "2021-10-09T20:02:16.243Z"
   },
   {
    "duration": 239,
    "start_time": "2021-10-09T20:03:35.331Z"
   },
   {
    "duration": 11,
    "start_time": "2021-10-09T20:04:03.189Z"
   },
   {
    "duration": 6,
    "start_time": "2021-10-09T20:04:23.893Z"
   },
   {
    "duration": 89437,
    "start_time": "2021-10-09T20:04:50.853Z"
   },
   {
    "duration": 5,
    "start_time": "2021-10-09T20:06:20.293Z"
   },
   {
    "duration": 111,
    "start_time": "2021-10-09T20:06:59.477Z"
   },
   {
    "duration": 13,
    "start_time": "2021-10-09T20:07:09.879Z"
   },
   {
    "duration": 9,
    "start_time": "2021-10-09T20:08:20.313Z"
   },
   {
    "duration": 102,
    "start_time": "2021-10-09T20:11:23.401Z"
   },
   {
    "duration": 14,
    "start_time": "2021-10-09T20:11:24.569Z"
   },
   {
    "duration": 9,
    "start_time": "2021-10-09T20:11:26.697Z"
   },
   {
    "duration": 130,
    "start_time": "2021-10-09T20:11:29.947Z"
   },
   {
    "duration": 14,
    "start_time": "2021-10-09T20:11:31.195Z"
   },
   {
    "duration": 9,
    "start_time": "2021-10-09T20:11:32.651Z"
   },
   {
    "duration": 101,
    "start_time": "2021-10-09T20:11:35.627Z"
   },
   {
    "duration": 14,
    "start_time": "2021-10-09T20:11:36.409Z"
   },
   {
    "duration": 124,
    "start_time": "2021-10-09T20:11:40.745Z"
   },
   {
    "duration": 15,
    "start_time": "2021-10-09T20:11:41.547Z"
   },
   {
    "duration": 146,
    "start_time": "2021-10-09T20:11:43.833Z"
   },
   {
    "duration": 15,
    "start_time": "2021-10-09T20:11:44.715Z"
   },
   {
    "duration": 13,
    "start_time": "2021-10-09T20:11:46.460Z"
   },
   {
    "duration": 102,
    "start_time": "2021-10-09T20:11:50.107Z"
   },
   {
    "duration": 13,
    "start_time": "2021-10-09T20:11:51.035Z"
   },
   {
    "duration": 9,
    "start_time": "2021-10-09T20:11:53.147Z"
   },
   {
    "duration": 104,
    "start_time": "2021-10-09T20:11:56.411Z"
   },
   {
    "duration": 14,
    "start_time": "2021-10-09T20:11:57.611Z"
   },
   {
    "duration": 104,
    "start_time": "2021-10-09T20:12:00.699Z"
   },
   {
    "duration": 13,
    "start_time": "2021-10-09T20:12:01.723Z"
   },
   {
    "duration": 12,
    "start_time": "2021-10-09T20:12:03.260Z"
   },
   {
    "duration": 117,
    "start_time": "2021-10-09T20:12:16.972Z"
   },
   {
    "duration": 13,
    "start_time": "2021-10-09T20:12:19.579Z"
   },
   {
    "duration": 8,
    "start_time": "2021-10-09T20:12:22.799Z"
   },
   {
    "duration": 8,
    "start_time": "2021-10-09T20:15:21.197Z"
   },
   {
    "duration": 119,
    "start_time": "2021-10-09T20:15:36.670Z"
   },
   {
    "duration": 103,
    "start_time": "2021-10-09T20:15:49.583Z"
   },
   {
    "duration": 426,
    "start_time": "2021-10-09T20:15:50.941Z"
   },
   {
    "duration": 107,
    "start_time": "2021-10-09T20:15:54.781Z"
   },
   {
    "duration": 16,
    "start_time": "2021-10-09T20:15:55.821Z"
   },
   {
    "duration": 131,
    "start_time": "2021-10-09T20:15:58.861Z"
   },
   {
    "duration": 16,
    "start_time": "2021-10-09T20:15:59.888Z"
   },
   {
    "duration": 127,
    "start_time": "2021-10-09T20:16:02.173Z"
   },
   {
    "duration": 13,
    "start_time": "2021-10-09T20:16:03.181Z"
   },
   {
    "duration": 97,
    "start_time": "2021-10-09T20:16:05.821Z"
   },
   {
    "duration": 14,
    "start_time": "2021-10-09T20:16:06.670Z"
   },
   {
    "duration": 8,
    "start_time": "2021-10-09T20:16:08.285Z"
   },
   {
    "duration": 100,
    "start_time": "2021-10-09T20:16:11.389Z"
   },
   {
    "duration": 16,
    "start_time": "2021-10-09T20:16:12.271Z"
   },
   {
    "duration": 9,
    "start_time": "2021-10-09T20:16:13.709Z"
   },
   {
    "duration": 99,
    "start_time": "2021-10-09T20:16:16.093Z"
   },
   {
    "duration": 15,
    "start_time": "2021-10-09T20:16:17.168Z"
   },
   {
    "duration": 11,
    "start_time": "2021-10-09T20:16:18.253Z"
   },
   {
    "duration": 105,
    "start_time": "2021-10-09T20:16:24.479Z"
   },
   {
    "duration": 13,
    "start_time": "2021-10-09T20:16:26.033Z"
   },
   {
    "duration": 8,
    "start_time": "2021-10-09T20:16:27.343Z"
   },
   {
    "duration": 5,
    "start_time": "2021-10-09T20:20:04.898Z"
   },
   {
    "duration": 492,
    "start_time": "2021-10-09T20:20:21.604Z"
   },
   {
    "duration": 17,
    "start_time": "2021-10-09T20:20:32.017Z"
   },
   {
    "duration": 4,
    "start_time": "2021-10-09T20:20:45.124Z"
   },
   {
    "duration": 21,
    "start_time": "2021-10-09T20:25:21.750Z"
   },
   {
    "duration": 5,
    "start_time": "2021-10-09T20:25:24.181Z"
   },
   {
    "duration": 5,
    "start_time": "2021-10-09T20:25:29.381Z"
   },
   {
    "duration": 222,
    "start_time": "2021-10-09T20:25:55.238Z"
   },
   {
    "duration": 1717,
    "start_time": "2021-10-09T20:27:06.472Z"
   },
   {
    "duration": 82564,
    "start_time": "2021-10-09T20:28:11.672Z"
   },
   {
    "duration": 12,
    "start_time": "2021-10-09T20:31:01.516Z"
   },
   {
    "duration": 600,
    "start_time": "2021-10-09T20:31:40.172Z"
   },
   {
    "duration": 6,
    "start_time": "2021-10-09T20:32:18.435Z"
   },
   {
    "duration": 12,
    "start_time": "2021-10-09T20:32:43.724Z"
   },
   {
    "duration": 5,
    "start_time": "2021-10-09T20:32:47.229Z"
   },
   {
    "duration": 6,
    "start_time": "2021-10-09T20:33:06.958Z"
   },
   {
    "duration": 12,
    "start_time": "2021-10-09T20:33:17.117Z"
   },
   {
    "duration": 5,
    "start_time": "2021-10-09T20:33:20.764Z"
   },
   {
    "duration": 7,
    "start_time": "2021-10-09T20:33:56.238Z"
   },
   {
    "duration": 12,
    "start_time": "2021-10-09T20:33:57.357Z"
   },
   {
    "duration": 5,
    "start_time": "2021-10-09T20:34:01.614Z"
   },
   {
    "duration": 6,
    "start_time": "2021-10-09T20:34:34.510Z"
   },
   {
    "duration": 13,
    "start_time": "2021-10-09T20:34:37.821Z"
   },
   {
    "duration": 356,
    "start_time": "2021-10-09T20:34:41.678Z"
   },
   {
    "duration": 6,
    "start_time": "2021-10-09T20:35:28.480Z"
   },
   {
    "duration": 9,
    "start_time": "2021-10-09T20:35:29.648Z"
   },
   {
    "duration": 6,
    "start_time": "2021-10-09T20:35:30.960Z"
   },
   {
    "duration": 6,
    "start_time": "2021-10-09T20:35:36.896Z"
   },
   {
    "duration": 9,
    "start_time": "2021-10-09T20:35:37.822Z"
   },
   {
    "duration": 92649,
    "start_time": "2021-10-09T20:35:41.152Z"
   },
   {
    "duration": 198,
    "start_time": "2021-10-09T20:37:20.672Z"
   },
   {
    "duration": 13,
    "start_time": "2021-10-09T20:37:22.127Z"
   },
   {
    "duration": 9,
    "start_time": "2021-10-09T20:37:26.256Z"
   },
   {
    "duration": 10,
    "start_time": "2021-10-09T20:37:42.130Z"
   },
   {
    "duration": 4,
    "start_time": "2021-10-09T20:37:51.600Z"
   },
   {
    "duration": 6,
    "start_time": "2021-10-09T20:37:55.970Z"
   },
   {
    "duration": 9,
    "start_time": "2021-10-09T20:37:57.458Z"
   },
   {
    "duration": 5,
    "start_time": "2021-10-09T20:37:58.406Z"
   },
   {
    "duration": 10,
    "start_time": "2021-10-09T20:38:06.369Z"
   },
   {
    "duration": 92280,
    "start_time": "2021-10-09T20:38:07.698Z"
   },
   {
    "duration": 169,
    "start_time": "2021-10-09T20:41:49.124Z"
   },
   {
    "duration": 17,
    "start_time": "2021-10-09T20:41:50.275Z"
   },
   {
    "duration": 100,
    "start_time": "2021-10-09T20:42:18.698Z"
   },
   {
    "duration": 14,
    "start_time": "2021-10-09T20:42:19.590Z"
   },
   {
    "duration": 111,
    "start_time": "2021-10-09T20:42:22.277Z"
   },
   {
    "duration": 14,
    "start_time": "2021-10-09T20:42:23.237Z"
   },
   {
    "duration": 130,
    "start_time": "2021-10-09T20:42:26.438Z"
   },
   {
    "duration": 16,
    "start_time": "2021-10-09T20:42:27.556Z"
   },
   {
    "duration": 98,
    "start_time": "2021-10-09T20:42:30.612Z"
   },
   {
    "duration": 14,
    "start_time": "2021-10-09T20:42:31.428Z"
   },
   {
    "duration": 127,
    "start_time": "2021-10-09T20:42:33.651Z"
   },
   {
    "duration": 14,
    "start_time": "2021-10-09T20:42:34.598Z"
   },
   {
    "duration": 8,
    "start_time": "2021-10-09T20:42:37.558Z"
   },
   {
    "duration": 6,
    "start_time": "2021-10-09T20:43:07.894Z"
   },
   {
    "duration": 8,
    "start_time": "2021-10-09T20:43:13.461Z"
   },
   {
    "duration": 8,
    "start_time": "2021-10-09T20:43:17.938Z"
   },
   {
    "duration": 5,
    "start_time": "2021-10-09T20:43:59.208Z"
   },
   {
    "duration": 6,
    "start_time": "2021-10-09T20:44:07.304Z"
   },
   {
    "duration": 18,
    "start_time": "2021-10-09T20:44:08.758Z"
   },
   {
    "duration": 5,
    "start_time": "2021-10-09T20:44:10.294Z"
   },
   {
    "duration": 120,
    "start_time": "2021-10-09T20:44:13.142Z"
   },
   {
    "duration": 1922,
    "start_time": "2021-10-09T20:44:26.536Z"
   },
   {
    "duration": 78583,
    "start_time": "2021-10-09T20:44:50.646Z"
   },
   {
    "duration": 11,
    "start_time": "2021-10-09T20:47:24.600Z"
   },
   {
    "duration": 153699,
    "start_time": "2021-10-09T20:47:44.602Z"
   },
   {
    "duration": 9,
    "start_time": "2021-10-09T20:50:23.052Z"
   },
   {
    "duration": 149333,
    "start_time": "2021-10-09T20:50:28.381Z"
   },
   {
    "duration": 154,
    "start_time": "2021-10-09T20:54:02.446Z"
   },
   {
    "duration": 14,
    "start_time": "2021-10-09T20:54:16.270Z"
   },
   {
    "duration": 135,
    "start_time": "2021-10-09T20:54:23.150Z"
   },
   {
    "duration": 14,
    "start_time": "2021-10-09T20:54:24.096Z"
   },
   {
    "duration": 124,
    "start_time": "2021-10-09T20:54:27.966Z"
   },
   {
    "duration": 16,
    "start_time": "2021-10-09T20:54:28.976Z"
   },
   {
    "duration": 96,
    "start_time": "2021-10-09T20:54:31.600Z"
   },
   {
    "duration": 15,
    "start_time": "2021-10-09T20:54:32.416Z"
   },
   {
    "duration": 130,
    "start_time": "2021-10-09T20:54:34.929Z"
   },
   {
    "duration": 13,
    "start_time": "2021-10-09T20:54:35.521Z"
   },
   {
    "duration": 96,
    "start_time": "2021-10-09T20:54:38.001Z"
   },
   {
    "duration": 13,
    "start_time": "2021-10-09T20:54:39.014Z"
   },
   {
    "duration": 8,
    "start_time": "2021-10-09T20:54:59.777Z"
   },
   {
    "duration": 359,
    "start_time": "2021-10-09T21:07:32.525Z"
   },
   {
    "duration": 15,
    "start_time": "2021-10-09T21:09:31.551Z"
   },
   {
    "duration": 7,
    "start_time": "2021-10-09T21:11:11.829Z"
   },
   {
    "duration": 7,
    "start_time": "2021-10-09T21:12:59.455Z"
   },
   {
    "duration": 9,
    "start_time": "2021-10-09T21:13:01.375Z"
   },
   {
    "duration": 96626,
    "start_time": "2021-10-09T21:13:13.167Z"
   },
   {
    "duration": 229,
    "start_time": "2021-10-09T21:15:05.329Z"
   },
   {
    "duration": 14,
    "start_time": "2021-10-09T21:15:07.074Z"
   },
   {
    "duration": 132,
    "start_time": "2021-10-09T21:15:25.745Z"
   },
   {
    "duration": 13,
    "start_time": "2021-10-09T21:15:26.640Z"
   },
   {
    "duration": 122,
    "start_time": "2021-10-09T21:15:33.763Z"
   },
   {
    "duration": 14,
    "start_time": "2021-10-09T21:15:35.025Z"
   },
   {
    "duration": 9,
    "start_time": "2021-10-09T21:15:38.129Z"
   },
   {
    "duration": 10,
    "start_time": "2021-10-09T21:16:15.651Z"
   },
   {
    "duration": 6,
    "start_time": "2021-10-09T21:16:57.779Z"
   },
   {
    "duration": 8,
    "start_time": "2021-10-09T21:16:59.001Z"
   },
   {
    "duration": 876,
    "start_time": "2021-10-09T21:17:07.827Z"
   },
   {
    "duration": 12,
    "start_time": "2021-10-09T21:18:50.267Z"
   },
   {
    "duration": 7,
    "start_time": "2021-10-09T21:19:02.244Z"
   },
   {
    "duration": 9,
    "start_time": "2021-10-09T21:19:03.188Z"
   },
   {
    "duration": 937,
    "start_time": "2021-10-09T21:19:10.421Z"
   },
   {
    "duration": 15,
    "start_time": "2021-10-09T21:20:53.062Z"
   },
   {
    "duration": 16,
    "start_time": "2021-10-09T21:21:04.027Z"
   },
   {
    "duration": 323,
    "start_time": "2021-10-09T21:23:07.799Z"
   },
   {
    "duration": 18,
    "start_time": "2021-10-09T21:27:01.965Z"
   },
   {
    "duration": 8508,
    "start_time": "2021-10-09T21:30:30.863Z"
   },
   {
    "duration": 341,
    "start_time": "2021-10-09T21:31:01.535Z"
   },
   {
    "duration": 26,
    "start_time": "2021-10-09T21:31:11.265Z"
   },
   {
    "duration": 14,
    "start_time": "2021-10-09T21:31:39.022Z"
   },
   {
    "duration": 379,
    "start_time": "2021-10-09T21:31:58.599Z"
   },
   {
    "duration": 27,
    "start_time": "2021-10-09T21:32:10.017Z"
   },
   {
    "duration": 13,
    "start_time": "2021-10-09T21:32:11.457Z"
   },
   {
    "duration": 7,
    "start_time": "2021-10-09T21:32:24.223Z"
   },
   {
    "duration": 26,
    "start_time": "2021-10-09T21:32:57.763Z"
   },
   {
    "duration": 16,
    "start_time": "2021-10-09T21:33:08.659Z"
   },
   {
    "duration": 4,
    "start_time": "2021-10-09T21:33:09.952Z"
   },
   {
    "duration": 284,
    "start_time": "2021-10-09T21:33:12.418Z"
   },
   {
    "duration": 4,
    "start_time": "2021-10-09T21:33:14.609Z"
   },
   {
    "duration": 7,
    "start_time": "2021-10-09T21:33:16.383Z"
   },
   {
    "duration": 24,
    "start_time": "2021-10-09T21:33:18.577Z"
   },
   {
    "duration": 8,
    "start_time": "2021-10-09T21:33:19.824Z"
   },
   {
    "duration": 11,
    "start_time": "2021-10-09T21:33:23.471Z"
   },
   {
    "duration": 9,
    "start_time": "2021-10-09T21:33:27.904Z"
   },
   {
    "duration": 14,
    "start_time": "2021-10-09T21:33:35.391Z"
   },
   {
    "duration": 14,
    "start_time": "2021-10-09T21:33:49.601Z"
   },
   {
    "duration": 11,
    "start_time": "2021-10-09T21:33:51.696Z"
   },
   {
    "duration": 55,
    "start_time": "2021-10-09T21:33:54.599Z"
   },
   {
    "duration": 22,
    "start_time": "2021-10-09T21:33:56.994Z"
   },
   {
    "duration": 1504,
    "start_time": "2021-10-09T21:33:59.425Z"
   },
   {
    "duration": 633,
    "start_time": "2021-10-09T21:34:06.033Z"
   },
   {
    "duration": 9,
    "start_time": "2021-10-09T21:34:10.449Z"
   },
   {
    "duration": 9,
    "start_time": "2021-10-09T21:34:12.369Z"
   },
   {
    "duration": 180,
    "start_time": "2021-10-09T21:34:15.601Z"
   },
   {
    "duration": 9,
    "start_time": "2021-10-09T21:34:49.521Z"
   },
   {
    "duration": 9697,
    "start_time": "2021-10-09T21:35:12.961Z"
   },
   {
    "duration": 247,
    "start_time": "2021-10-09T21:35:35.905Z"
   },
   {
    "duration": 19,
    "start_time": "2021-10-09T21:35:37.229Z"
   },
   {
    "duration": 4,
    "start_time": "2021-10-09T21:35:39.539Z"
   },
   {
    "duration": 7,
    "start_time": "2021-10-09T21:35:41.779Z"
   },
   {
    "duration": 25,
    "start_time": "2021-10-09T21:36:25.497Z"
   },
   {
    "duration": 31,
    "start_time": "2021-10-09T21:36:29.298Z"
   },
   {
    "duration": 22,
    "start_time": "2021-10-09T21:37:02.549Z"
   },
   {
    "duration": 26,
    "start_time": "2021-10-09T21:37:04.955Z"
   },
   {
    "duration": 8,
    "start_time": "2021-10-09T21:37:11.299Z"
   },
   {
    "duration": 11,
    "start_time": "2021-10-09T21:37:19.075Z"
   },
   {
    "duration": 9,
    "start_time": "2021-10-09T21:37:21.667Z"
   },
   {
    "duration": 11,
    "start_time": "2021-10-09T21:37:23.189Z"
   },
   {
    "duration": 14,
    "start_time": "2021-10-09T21:37:24.531Z"
   },
   {
    "duration": 10,
    "start_time": "2021-10-09T21:37:25.828Z"
   },
   {
    "duration": 47,
    "start_time": "2021-10-09T21:37:27.865Z"
   },
   {
    "duration": 18,
    "start_time": "2021-10-09T21:37:29.237Z"
   },
   {
    "duration": 1126,
    "start_time": "2021-10-09T21:37:30.566Z"
   },
   {
    "duration": 535,
    "start_time": "2021-10-09T21:37:35.859Z"
   },
   {
    "duration": 9,
    "start_time": "2021-10-09T21:37:40.613Z"
   },
   {
    "duration": 9,
    "start_time": "2021-10-09T21:37:42.771Z"
   },
   {
    "duration": 55,
    "start_time": "2021-10-09T21:37:47.235Z"
   },
   {
    "duration": 8,
    "start_time": "2021-10-09T21:37:54.229Z"
   },
   {
    "duration": 37,
    "start_time": "2021-10-09T21:37:59.619Z"
   },
   {
    "duration": 7,
    "start_time": "2021-10-09T21:38:05.765Z"
   },
   {
    "duration": 4590,
    "start_time": "2021-10-09T21:38:12.052Z"
   },
   {
    "duration": 31,
    "start_time": "2021-10-09T21:38:28.533Z"
   },
   {
    "duration": 14,
    "start_time": "2021-10-09T21:38:31.813Z"
   },
   {
    "duration": 126,
    "start_time": "2021-10-09T21:38:37.637Z"
   },
   {
    "duration": 1076,
    "start_time": "2021-10-09T21:38:41.813Z"
   },
   {
    "duration": 886,
    "start_time": "2021-10-09T21:40:42.135Z"
   },
   {
    "duration": 945,
    "start_time": "2021-10-09T21:40:45.559Z"
   },
   {
    "duration": 1066,
    "start_time": "2021-10-09T21:40:49.095Z"
   },
   {
    "duration": 982,
    "start_time": "2021-10-09T21:40:54.231Z"
   },
   {
    "duration": 1203,
    "start_time": "2021-10-09T21:40:57.463Z"
   },
   {
    "duration": 1071,
    "start_time": "2021-10-09T21:41:02.695Z"
   },
   {
    "duration": 1570,
    "start_time": "2021-10-09T21:42:08.345Z"
   },
   {
    "duration": 36485,
    "start_time": "2021-10-09T21:42:17.431Z"
   },
   {
    "duration": 7,
    "start_time": "2021-10-09T21:43:30.793Z"
   },
   {
    "duration": 10,
    "start_time": "2021-10-09T21:43:31.833Z"
   },
   {
    "duration": 911,
    "start_time": "2021-10-09T21:43:33.964Z"
   },
   {
    "duration": 11,
    "start_time": "2021-10-09T21:43:45.977Z"
   },
   {
    "duration": 338,
    "start_time": "2021-10-09T21:46:34.011Z"
   },
   {
    "duration": 7,
    "start_time": "2021-10-09T21:47:31.995Z"
   },
   {
    "duration": 6,
    "start_time": "2021-10-09T21:47:37.626Z"
   },
   {
    "duration": 9,
    "start_time": "2021-10-09T21:48:34.829Z"
   },
   {
    "duration": 10,
    "start_time": "2021-10-09T21:49:11.101Z"
   },
   {
    "duration": 9,
    "start_time": "2021-10-09T21:49:14.157Z"
   },
   {
    "duration": 7,
    "start_time": "2021-10-09T21:50:36.991Z"
   },
   {
    "duration": 8,
    "start_time": "2021-10-09T21:50:39.007Z"
   },
   {
    "duration": 21,
    "start_time": "2021-10-09T21:50:54.207Z"
   },
   {
    "duration": 9,
    "start_time": "2021-10-09T21:51:03.669Z"
   },
   {
    "duration": 358,
    "start_time": "2021-10-09T21:51:21.702Z"
   },
   {
    "duration": 6,
    "start_time": "2021-10-09T21:51:38.431Z"
   },
   {
    "duration": 103,
    "start_time": "2021-10-09T21:51:45.521Z"
   },
   {
    "duration": 6,
    "start_time": "2021-10-09T21:51:51.091Z"
   },
   {
    "duration": 330,
    "start_time": "2021-10-09T21:54:57.411Z"
   },
   {
    "duration": 1196,
    "start_time": "2021-10-09T21:55:01.089Z"
   },
   {
    "duration": 5,
    "start_time": "2021-10-09T21:55:05.939Z"
   },
   {
    "duration": 5,
    "start_time": "2021-10-09T21:55:37.635Z"
   },
   {
    "duration": 5,
    "start_time": "2021-10-09T21:56:01.827Z"
   },
   {
    "duration": 332,
    "start_time": "2021-10-09T21:56:40.387Z"
   },
   {
    "duration": 344,
    "start_time": "2021-10-09T21:56:50.611Z"
   },
   {
    "duration": 326,
    "start_time": "2021-10-09T21:57:27.525Z"
   },
   {
    "duration": 19,
    "start_time": "2021-10-09T21:57:34.053Z"
   },
   {
    "duration": 78,
    "start_time": "2021-10-09T21:57:55.013Z"
   },
   {
    "duration": 7,
    "start_time": "2021-10-09T21:58:02.259Z"
   },
   {
    "duration": 1159,
    "start_time": "2021-10-09T21:58:07.475Z"
   },
   {
    "duration": 8,
    "start_time": "2021-10-09T21:59:07.717Z"
   },
   {
    "duration": 9,
    "start_time": "2021-10-09T22:01:03.273Z"
   },
   {
    "duration": 9,
    "start_time": "2021-10-09T22:01:08.713Z"
   },
   {
    "duration": 6,
    "start_time": "2021-10-09T22:01:14.473Z"
   },
   {
    "duration": 421,
    "start_time": "2021-10-09T22:01:15.496Z"
   },
   {
    "duration": 7,
    "start_time": "2021-10-09T22:01:23.720Z"
   },
   {
    "duration": 23,
    "start_time": "2021-10-09T22:01:55.995Z"
   },
   {
    "duration": 8,
    "start_time": "2021-10-09T22:01:57.417Z"
   },
   {
    "duration": 13,
    "start_time": "2021-10-09T22:02:00.521Z"
   },
   {
    "duration": 536,
    "start_time": "2021-10-09T22:02:05.369Z"
   },
   {
    "duration": 9,
    "start_time": "2021-10-09T22:02:08.745Z"
   },
   {
    "duration": 56,
    "start_time": "2021-10-09T22:02:10.467Z"
   },
   {
    "duration": 7,
    "start_time": "2021-10-09T22:02:18.267Z"
   },
   {
    "duration": 35,
    "start_time": "2021-10-09T22:02:20.795Z"
   },
   {
    "duration": 6,
    "start_time": "2021-10-09T22:02:22.893Z"
   },
   {
    "duration": 4486,
    "start_time": "2021-10-09T22:02:23.995Z"
   },
   {
    "duration": 31,
    "start_time": "2021-10-09T22:02:30.137Z"
   },
   {
    "duration": 14,
    "start_time": "2021-10-09T22:02:32.153Z"
   },
   {
    "duration": 114,
    "start_time": "2021-10-09T22:02:50.045Z"
   },
   {
    "duration": 1049,
    "start_time": "2021-10-09T22:02:51.979Z"
   },
   {
    "duration": 7,
    "start_time": "2021-10-09T22:03:29.163Z"
   },
   {
    "duration": 651,
    "start_time": "2021-10-09T22:04:10.093Z"
   },
   {
    "duration": 5,
    "start_time": "2021-10-09T22:06:17.199Z"
   },
   {
    "duration": 25,
    "start_time": "2021-10-09T22:06:19.965Z"
   },
   {
    "duration": 10,
    "start_time": "2021-10-09T22:06:24.133Z"
   },
   {
    "duration": 9,
    "start_time": "2021-10-09T22:07:40.751Z"
   },
   {
    "duration": 10,
    "start_time": "2021-10-09T22:07:42.578Z"
   },
   {
    "duration": 336,
    "start_time": "2021-10-09T22:07:45.967Z"
   },
   {
    "duration": 5,
    "start_time": "2021-10-09T22:07:48.975Z"
   },
   {
    "duration": 7,
    "start_time": "2021-10-09T22:08:11.183Z"
   },
   {
    "duration": 12,
    "start_time": "2021-10-09T22:09:24.726Z"
   },
   {
    "duration": 7,
    "start_time": "2021-10-09T22:09:36.497Z"
   },
   {
    "duration": 10,
    "start_time": "2021-10-09T22:09:38.001Z"
   },
   {
    "duration": 101450,
    "start_time": "2021-10-09T22:09:42.355Z"
   },
   {
    "duration": 168,
    "start_time": "2021-10-09T22:11:45.635Z"
   },
   {
    "duration": 7,
    "start_time": "2021-10-09T22:11:50.897Z"
   },
   {
    "duration": 15,
    "start_time": "2021-10-09T22:11:54.451Z"
   },
   {
    "duration": 9,
    "start_time": "2021-10-09T22:11:57.449Z"
   },
   {
    "duration": 15,
    "start_time": "2021-10-09T22:13:05.971Z"
   },
   {
    "duration": 15,
    "start_time": "2021-10-09T22:13:07.523Z"
   },
   {
    "duration": 129,
    "start_time": "2021-10-09T22:13:09.763Z"
   },
   {
    "duration": 16,
    "start_time": "2021-10-09T22:13:10.787Z"
   },
   {
    "duration": 125,
    "start_time": "2021-10-09T22:13:14.451Z"
   },
   {
    "duration": 17,
    "start_time": "2021-10-09T22:13:15.459Z"
   },
   {
    "duration": 118,
    "start_time": "2021-10-09T22:13:18.163Z"
   },
   {
    "duration": 15,
    "start_time": "2021-10-09T22:13:19.571Z"
   },
   {
    "duration": 96,
    "start_time": "2021-10-09T22:13:21.811Z"
   },
   {
    "duration": 17,
    "start_time": "2021-10-09T22:13:22.963Z"
   },
   {
    "duration": 9,
    "start_time": "2021-10-09T22:13:27.171Z"
   },
   {
    "duration": 8,
    "start_time": "2021-10-09T22:13:50.780Z"
   },
   {
    "duration": 346,
    "start_time": "2021-10-09T22:13:54.211Z"
   },
   {
    "duration": 137,
    "start_time": "2021-10-09T22:14:04.227Z"
   },
   {
    "duration": 1059,
    "start_time": "2021-10-09T22:14:09.779Z"
   },
   {
    "duration": 6,
    "start_time": "2021-10-09T22:14:26.294Z"
   },
   {
    "duration": 26675,
    "start_time": "2021-10-09T22:14:30.404Z"
   },
   {
    "duration": 24603,
    "start_time": "2021-10-09T22:15:37.608Z"
   },
   {
    "duration": 1072,
    "start_time": "2021-10-09T22:16:04.966Z"
   },
   {
    "duration": 117,
    "start_time": "2021-10-09T22:16:31.352Z"
   },
   {
    "duration": 104,
    "start_time": "2021-10-09T22:16:41.160Z"
   },
   {
    "duration": 1053,
    "start_time": "2021-10-09T22:16:49.688Z"
   },
   {
    "duration": 9,
    "start_time": "2021-10-09T22:17:51.512Z"
   },
   {
    "duration": 99810,
    "start_time": "2021-10-09T22:17:55.401Z"
   },
   {
    "duration": 156,
    "start_time": "2021-10-09T22:19:39.946Z"
   },
   {
    "duration": 15,
    "start_time": "2021-10-09T22:19:41.610Z"
   },
   {
    "duration": 121,
    "start_time": "2021-10-09T22:19:51.370Z"
   },
   {
    "duration": 14,
    "start_time": "2021-10-09T22:19:52.282Z"
   },
   {
    "duration": 97,
    "start_time": "2021-10-09T22:19:54.297Z"
   },
   {
    "duration": 15,
    "start_time": "2021-10-09T22:19:55.162Z"
   },
   {
    "duration": 104,
    "start_time": "2021-10-09T22:19:58.890Z"
   },
   {
    "duration": 17,
    "start_time": "2021-10-09T22:19:59.978Z"
   },
   {
    "duration": 114,
    "start_time": "2021-10-09T22:20:02.170Z"
   },
   {
    "duration": 17,
    "start_time": "2021-10-09T22:20:03.242Z"
   },
   {
    "duration": 9,
    "start_time": "2021-10-09T22:20:06.042Z"
   },
   {
    "duration": 6,
    "start_time": "2021-10-09T22:21:07.836Z"
   },
   {
    "duration": 13,
    "start_time": "2021-10-09T22:21:11.626Z"
   },
   {
    "duration": 5,
    "start_time": "2021-10-09T22:21:14.346Z"
   },
   {
    "duration": 81,
    "start_time": "2021-10-09T22:21:21.181Z"
   },
   {
    "duration": 1586,
    "start_time": "2021-10-09T22:21:50.396Z"
   },
   {
    "duration": 77055,
    "start_time": "2021-10-09T22:23:19.824Z"
   },
   {
    "duration": 10,
    "start_time": "2021-10-09T22:25:39.662Z"
   },
   {
    "duration": 164170,
    "start_time": "2021-10-09T22:25:46.606Z"
   },
   {
    "duration": 163,
    "start_time": "2021-10-09T22:29:16.129Z"
   },
   {
    "duration": 17,
    "start_time": "2021-10-09T22:29:18.272Z"
   },
   {
    "duration": 11,
    "start_time": "2021-10-09T22:29:19.986Z"
   },
   {
    "duration": 134,
    "start_time": "2021-10-09T22:29:24.146Z"
   },
   {
    "duration": 17,
    "start_time": "2021-10-09T22:29:25.123Z"
   },
   {
    "duration": 135,
    "start_time": "2021-10-09T22:29:27.440Z"
   },
   {
    "duration": 17,
    "start_time": "2021-10-09T22:29:28.369Z"
   },
   {
    "duration": 94,
    "start_time": "2021-10-09T22:29:31.201Z"
   },
   {
    "duration": 15,
    "start_time": "2021-10-09T22:29:32.243Z"
   },
   {
    "duration": 9,
    "start_time": "2021-10-09T22:29:36.049Z"
   },
   {
    "duration": 133,
    "start_time": "2021-10-09T22:35:54.519Z"
   },
   {
    "duration": 5,
    "start_time": "2021-10-09T22:36:03.609Z"
   },
   {
    "duration": 6,
    "start_time": "2021-10-09T22:36:21.064Z"
   },
   {
    "duration": 672,
    "start_time": "2021-10-09T22:36:49.593Z"
   },
   {
    "duration": 19608,
    "start_time": "2021-10-09T22:37:12.793Z"
   },
   {
    "duration": 122,
    "start_time": "2021-10-09T22:37:37.049Z"
   },
   {
    "duration": 15,
    "start_time": "2021-10-09T22:37:39.481Z"
   },
   {
    "duration": 6,
    "start_time": "2021-10-09T22:37:46.809Z"
   },
   {
    "duration": 10,
    "start_time": "2021-10-09T22:37:48.425Z"
   },
   {
    "duration": 21037,
    "start_time": "2021-10-09T22:37:50.648Z"
   },
   {
    "duration": 168,
    "start_time": "2021-10-09T22:38:16.040Z"
   },
   {
    "duration": 17,
    "start_time": "2021-10-09T22:38:17.227Z"
   },
   {
    "duration": 98,
    "start_time": "2021-10-09T22:38:25.097Z"
   },
   {
    "duration": 14,
    "start_time": "2021-10-09T22:38:26.075Z"
   },
   {
    "duration": 126,
    "start_time": "2021-10-09T22:38:28.233Z"
   },
   {
    "duration": 95,
    "start_time": "2021-10-09T22:38:31.321Z"
   },
   {
    "duration": 15,
    "start_time": "2021-10-09T22:38:32.200Z"
   },
   {
    "duration": 123,
    "start_time": "2021-10-09T22:38:34.459Z"
   },
   {
    "duration": 16,
    "start_time": "2021-10-09T22:38:35.176Z"
   },
   {
    "duration": 119,
    "start_time": "2021-10-09T22:38:37.563Z"
   },
   {
    "duration": 15,
    "start_time": "2021-10-09T22:38:38.377Z"
   },
   {
    "duration": 124,
    "start_time": "2021-10-09T22:38:39.853Z"
   },
   {
    "duration": 15,
    "start_time": "2021-10-09T22:38:40.488Z"
   },
   {
    "duration": 96,
    "start_time": "2021-10-09T22:38:42.280Z"
   },
   {
    "duration": 15,
    "start_time": "2021-10-09T22:38:43.656Z"
   },
   {
    "duration": 11,
    "start_time": "2021-10-09T22:38:45.610Z"
   },
   {
    "duration": 5,
    "start_time": "2021-10-09T22:39:01.131Z"
   },
   {
    "duration": 404,
    "start_time": "2021-10-09T22:39:06.571Z"
   },
   {
    "duration": 19816,
    "start_time": "2021-10-09T22:39:29.384Z"
   },
   {
    "duration": 122,
    "start_time": "2021-10-09T22:39:52.941Z"
   },
   {
    "duration": 17,
    "start_time": "2021-10-09T22:39:54.396Z"
   },
   {
    "duration": 8,
    "start_time": "2021-10-09T22:39:57.007Z"
   },
   {
    "duration": 6,
    "start_time": "2021-10-09T22:40:08.445Z"
   },
   {
    "duration": 759,
    "start_time": "2021-10-09T22:40:10.060Z"
   },
   {
    "duration": 6,
    "start_time": "2021-10-09T22:41:49.453Z"
   },
   {
    "duration": 10,
    "start_time": "2021-10-09T22:42:08.253Z"
   },
   {
    "duration": 20822,
    "start_time": "2021-10-09T22:42:09.773Z"
   },
   {
    "duration": 182,
    "start_time": "2021-10-09T22:43:59.294Z"
   },
   {
    "duration": 140,
    "start_time": "2021-10-09T22:44:15.359Z"
   },
   {
    "duration": 15,
    "start_time": "2021-10-09T22:44:20.975Z"
   },
   {
    "duration": 139,
    "start_time": "2021-10-09T22:44:26.256Z"
   },
   {
    "duration": 22,
    "start_time": "2021-10-09T22:44:27.296Z"
   },
   {
    "duration": 96,
    "start_time": "2021-10-09T22:44:32.897Z"
   },
   {
    "duration": 14,
    "start_time": "2021-10-09T22:44:33.790Z"
   },
   {
    "duration": 103,
    "start_time": "2021-10-09T22:44:47.377Z"
   },
   {
    "duration": 15,
    "start_time": "2021-10-09T22:44:49.006Z"
   },
   {
    "duration": 132,
    "start_time": "2021-10-09T22:44:56.239Z"
   },
   {
    "duration": 15,
    "start_time": "2021-10-09T22:44:57.759Z"
   },
   {
    "duration": 122,
    "start_time": "2021-10-09T22:45:00.961Z"
   },
   {
    "duration": 15,
    "start_time": "2021-10-09T22:45:01.919Z"
   },
   {
    "duration": 126,
    "start_time": "2021-10-09T22:45:05.039Z"
   },
   {
    "duration": 16,
    "start_time": "2021-10-09T22:45:05.839Z"
   },
   {
    "duration": 92,
    "start_time": "2021-10-09T22:45:07.615Z"
   },
   {
    "duration": 16,
    "start_time": "2021-10-09T22:45:08.927Z"
   },
   {
    "duration": 11,
    "start_time": "2021-10-09T22:45:10.415Z"
   },
   {
    "duration": 408,
    "start_time": "2021-10-09T22:45:27.775Z"
   },
   {
    "duration": 97772,
    "start_time": "2021-10-09T22:45:58.897Z"
   },
   {
    "duration": 98,
    "start_time": "2021-10-09T22:47:42.304Z"
   },
   {
    "duration": 15,
    "start_time": "2021-10-09T22:47:43.457Z"
   },
   {
    "duration": 8,
    "start_time": "2021-10-09T22:47:46.225Z"
   },
   {
    "duration": 402,
    "start_time": "2021-10-09T22:47:48.097Z"
   },
   {
    "duration": 397,
    "start_time": "2021-10-09T22:47:58.483Z"
   },
   {
    "duration": 414,
    "start_time": "2021-10-09T22:48:14.003Z"
   },
   {
    "duration": 413,
    "start_time": "2021-10-09T22:48:56.915Z"
   },
   {
    "duration": 9,
    "start_time": "2021-10-09T22:49:54.595Z"
   },
   {
    "duration": 9,
    "start_time": "2021-10-09T22:51:15.397Z"
   },
   {
    "duration": 9,
    "start_time": "2021-10-09T22:51:23.859Z"
   },
   {
    "duration": 98648,
    "start_time": "2021-10-09T22:51:24.725Z"
   },
   {
    "duration": 156,
    "start_time": "2021-10-09T22:53:08.551Z"
   },
   {
    "duration": 15,
    "start_time": "2021-10-09T22:53:10.501Z"
   },
   {
    "duration": 9,
    "start_time": "2021-10-09T22:53:15.175Z"
   },
   {
    "duration": 402,
    "start_time": "2021-10-09T22:53:16.309Z"
   },
   {
    "duration": 7,
    "start_time": "2021-10-09T22:55:44.507Z"
   },
   {
    "duration": 13,
    "start_time": "2021-10-09T22:55:51.609Z"
   },
   {
    "duration": 5,
    "start_time": "2021-10-09T22:55:52.617Z"
   },
   {
    "duration": 73,
    "start_time": "2021-10-09T22:55:58.791Z"
   },
   {
    "duration": 1617,
    "start_time": "2021-10-09T22:56:05.018Z"
   },
   {
    "duration": 393,
    "start_time": "2021-10-09T22:56:21.721Z"
   },
   {
    "duration": 10,
    "start_time": "2021-10-09T22:56:42.393Z"
   },
   {
    "duration": 165139,
    "start_time": "2021-10-09T22:56:44.057Z"
   },
   {
    "duration": 6,
    "start_time": "2021-10-09T22:59:29.199Z"
   },
   {
    "duration": 184,
    "start_time": "2021-10-09T22:59:40.075Z"
   },
   {
    "duration": 15,
    "start_time": "2021-10-09T22:59:41.628Z"
   },
   {
    "duration": 384,
    "start_time": "2021-10-09T22:59:44.811Z"
   },
   {
    "duration": 11,
    "start_time": "2021-10-09T22:59:55.420Z"
   },
   {
    "duration": 14,
    "start_time": "2021-10-09T23:02:52.366Z"
   },
   {
    "duration": 6,
    "start_time": "2021-10-09T23:03:13.265Z"
   },
   {
    "duration": 18,
    "start_time": "2021-10-09T23:03:15.455Z"
   },
   {
    "duration": 12,
    "start_time": "2021-10-09T23:04:06.960Z"
   },
   {
    "duration": 68,
    "start_time": "2021-10-09T23:04:25.199Z"
   },
   {
    "duration": 522,
    "start_time": "2021-10-09T23:05:29.937Z"
   },
   {
    "duration": 17203,
    "start_time": "2021-10-09T23:06:19.489Z"
   },
   {
    "duration": 10,
    "start_time": "2021-10-09T23:07:23.683Z"
   },
   {
    "duration": 164646,
    "start_time": "2021-10-09T23:07:32.531Z"
   },
   {
    "duration": 9,
    "start_time": "2021-10-09T23:10:21.910Z"
   },
   {
    "duration": 43352,
    "start_time": "2021-10-09T23:10:22.837Z"
   },
   {
    "duration": 184,
    "start_time": "2021-10-09T23:11:12.005Z"
   },
   {
    "duration": 15,
    "start_time": "2021-10-09T23:11:12.933Z"
   },
   {
    "duration": 390,
    "start_time": "2021-10-09T23:11:17.600Z"
   },
   {
    "duration": 9,
    "start_time": "2021-10-09T23:11:20.950Z"
   },
   {
    "duration": 364,
    "start_time": "2021-10-09T23:17:41.118Z"
   },
   {
    "duration": 383,
    "start_time": "2021-10-09T23:17:54.398Z"
   },
   {
    "duration": 688,
    "start_time": "2021-10-09T23:18:19.486Z"
   },
   {
    "duration": 638,
    "start_time": "2021-10-09T23:22:19.602Z"
   },
   {
    "duration": 1569,
    "start_time": "2021-10-09T23:22:27.316Z"
   },
   {
    "duration": 865,
    "start_time": "2021-10-09T23:33:27.545Z"
   },
   {
    "duration": 882,
    "start_time": "2021-10-09T23:33:48.891Z"
   },
   {
    "duration": 1072,
    "start_time": "2021-10-09T23:34:14.154Z"
   },
   {
    "duration": 880,
    "start_time": "2021-10-09T23:34:17.084Z"
   },
   {
    "duration": 942,
    "start_time": "2021-10-09T23:34:24.408Z"
   },
   {
    "duration": 986,
    "start_time": "2021-10-09T23:34:28.442Z"
   },
   {
    "duration": 899,
    "start_time": "2021-10-09T23:34:32.362Z"
   },
   {
    "duration": 800,
    "start_time": "2021-10-09T23:34:35.402Z"
   },
   {
    "duration": 935,
    "start_time": "2021-10-09T23:34:38.186Z"
   },
   {
    "duration": 962,
    "start_time": "2021-10-09T23:35:01.546Z"
   },
   {
    "duration": 955,
    "start_time": "2021-10-09T23:35:49.050Z"
   },
   {
    "duration": 331,
    "start_time": "2021-10-09T23:36:09.196Z"
   },
   {
    "duration": 25707,
    "start_time": "2021-10-09T23:36:14.076Z"
   },
   {
    "duration": 954,
    "start_time": "2021-10-09T23:37:00.396Z"
   },
   {
    "duration": 1023,
    "start_time": "2021-10-09T23:38:15.212Z"
   },
   {
    "duration": 920,
    "start_time": "2021-10-09T23:38:27.710Z"
   },
   {
    "duration": 1041,
    "start_time": "2021-10-09T23:39:00.990Z"
   },
   {
    "duration": 933,
    "start_time": "2021-10-09T23:39:28.988Z"
   },
   {
    "duration": 148,
    "start_time": "2021-10-09T23:40:00.111Z"
   },
   {
    "duration": 1621,
    "start_time": "2021-10-09T23:40:04.302Z"
   },
   {
    "duration": 1580,
    "start_time": "2021-10-09T23:40:12.496Z"
   },
   {
    "duration": 428,
    "start_time": "2021-10-09T23:41:01.776Z"
   },
   {
    "duration": 1407,
    "start_time": "2021-10-09T23:41:33.154Z"
   },
   {
    "duration": 1392,
    "start_time": "2021-10-09T23:41:59.250Z"
   },
   {
    "duration": 1427,
    "start_time": "2021-10-09T23:42:13.906Z"
   },
   {
    "duration": 26060,
    "start_time": "2021-10-09T23:47:50.119Z"
   },
   {
    "duration": 25307,
    "start_time": "2021-10-09T23:48:48.486Z"
   },
   {
    "duration": 79617,
    "start_time": "2021-10-09T23:49:40.059Z"
   },
   {
    "duration": 108,
    "start_time": "2021-10-09T23:55:42.747Z"
   },
   {
    "duration": 346,
    "start_time": "2021-10-09T23:55:48.701Z"
   },
   {
    "duration": 583297,
    "start_time": "2021-10-09T23:56:04.605Z"
   },
   {
    "duration": 671593,
    "start_time": "2021-10-10T00:09:10.215Z"
   },
   {
    "duration": 99402,
    "start_time": "2021-10-10T00:20:54.802Z"
   },
   {
    "duration": 169402,
    "start_time": "2021-10-10T00:22:38.967Z"
   },
   {
    "duration": 5,
    "start_time": "2021-10-10T00:26:24.277Z"
   },
   {
    "duration": 358,
    "start_time": "2021-10-10T00:27:31.527Z"
   },
   {
    "duration": 10,
    "start_time": "2021-10-10T00:28:06.727Z"
   },
   {
    "duration": 9,
    "start_time": "2021-10-10T00:28:23.073Z"
   },
   {
    "duration": 12,
    "start_time": "2021-10-10T00:30:23.129Z"
   },
   {
    "duration": 77,
    "start_time": "2021-10-10T00:32:16.873Z"
   },
   {
    "duration": 71,
    "start_time": "2021-10-10T00:32:24.411Z"
   },
   {
    "duration": 75,
    "start_time": "2021-10-10T00:32:34.651Z"
   },
   {
    "duration": 77,
    "start_time": "2021-10-10T00:32:40.379Z"
   },
   {
    "duration": 76,
    "start_time": "2021-10-10T00:32:45.790Z"
   },
   {
    "duration": 46,
    "start_time": "2021-10-10T00:32:51.899Z"
   },
   {
    "duration": 62,
    "start_time": "2021-10-10T00:32:57.083Z"
   },
   {
    "duration": 112,
    "start_time": "2021-10-10T00:32:59.949Z"
   },
   {
    "duration": 124,
    "start_time": "2021-10-10T00:33:03.819Z"
   },
   {
    "duration": 115,
    "start_time": "2021-10-10T00:33:08.459Z"
   },
   {
    "duration": 123,
    "start_time": "2021-10-10T00:33:28.315Z"
   },
   {
    "duration": 122,
    "start_time": "2021-10-10T00:33:31.563Z"
   },
   {
    "duration": 128,
    "start_time": "2021-10-10T00:33:35.037Z"
   },
   {
    "duration": 103,
    "start_time": "2021-10-10T00:33:38.829Z"
   },
   {
    "duration": 110,
    "start_time": "2021-10-10T00:33:41.437Z"
   },
   {
    "duration": 122,
    "start_time": "2021-10-10T00:33:46.348Z"
   },
   {
    "duration": 111,
    "start_time": "2021-10-10T00:33:51.791Z"
   },
   {
    "duration": 115,
    "start_time": "2021-10-10T00:34:13.853Z"
   },
   {
    "duration": 107,
    "start_time": "2021-10-10T00:34:19.173Z"
   },
   {
    "duration": 108,
    "start_time": "2021-10-10T00:34:23.293Z"
   },
   {
    "duration": 115,
    "start_time": "2021-10-10T00:34:25.553Z"
   },
   {
    "duration": 63,
    "start_time": "2021-10-10T00:34:29.133Z"
   },
   {
    "duration": 157,
    "start_time": "2021-10-10T00:34:33.149Z"
   },
   {
    "duration": 193,
    "start_time": "2021-10-10T00:34:35.981Z"
   },
   {
    "duration": 332,
    "start_time": "2021-10-10T00:34:40.239Z"
   },
   {
    "duration": 291,
    "start_time": "2021-10-10T00:34:43.293Z"
   },
   {
    "duration": 368,
    "start_time": "2021-10-10T00:34:46.238Z"
   },
   {
    "duration": 190,
    "start_time": "2021-10-10T00:34:48.925Z"
   },
   {
    "duration": 230,
    "start_time": "2021-10-10T00:34:50.813Z"
   },
   {
    "duration": 903,
    "start_time": "2021-10-10T00:35:06.062Z"
   },
   {
    "duration": 449,
    "start_time": "2021-10-10T00:35:10.509Z"
   },
   {
    "duration": 367,
    "start_time": "2021-10-10T00:35:14.621Z"
   },
   {
    "duration": 1885,
    "start_time": "2021-10-10T00:35:18.128Z"
   },
   {
    "duration": 198,
    "start_time": "2021-10-10T00:35:22.861Z"
   },
   {
    "duration": 206,
    "start_time": "2021-10-10T00:36:15.102Z"
   },
   {
    "duration": 192,
    "start_time": "2021-10-10T00:36:18.416Z"
   },
   {
    "duration": 192,
    "start_time": "2021-10-10T00:36:21.981Z"
   },
   {
    "duration": 200,
    "start_time": "2021-10-10T00:36:25.407Z"
   },
   {
    "duration": 196,
    "start_time": "2021-10-10T00:36:27.935Z"
   },
   {
    "duration": 209,
    "start_time": "2021-10-10T00:36:31.245Z"
   },
   {
    "duration": 200,
    "start_time": "2021-10-10T00:36:34.895Z"
   },
   {
    "duration": 204,
    "start_time": "2021-10-10T00:36:37.853Z"
   },
   {
    "duration": 225,
    "start_time": "2021-10-10T00:37:39.136Z"
   },
   {
    "duration": 227,
    "start_time": "2021-10-10T00:37:42.047Z"
   },
   {
    "duration": 230,
    "start_time": "2021-10-10T00:37:44.992Z"
   },
   {
    "duration": 209,
    "start_time": "2021-10-10T00:37:48.945Z"
   },
   {
    "duration": 561803,
    "start_time": "2021-10-10T00:37:59.049Z"
   },
   {
    "duration": 345661,
    "start_time": "2021-10-10T00:47:25.146Z"
   },
   {
    "duration": 11,
    "start_time": "2021-10-10T00:53:19.693Z"
   },
   {
    "duration": 9,
    "start_time": "2021-10-10T00:53:39.102Z"
   },
   {
    "duration": 9,
    "start_time": "2021-10-10T00:53:44.416Z"
   },
   {
    "duration": 7,
    "start_time": "2021-10-10T00:53:50.351Z"
   },
   {
    "duration": 5,
    "start_time": "2021-10-10T00:53:55.820Z"
   },
   {
    "duration": 185,
    "start_time": "2021-10-10T00:54:46.206Z"
   },
   {
    "duration": 844,
    "start_time": "2021-10-10T00:55:02.062Z"
   },
   {
    "duration": 177,
    "start_time": "2021-10-10T00:55:27.616Z"
   },
   {
    "duration": 411,
    "start_time": "2021-10-10T00:55:30.656Z"
   },
   {
    "duration": 1581,
    "start_time": "2021-10-10T00:55:33.696Z"
   },
   {
    "duration": 1212,
    "start_time": "2021-10-10T00:55:39.376Z"
   },
   {
    "duration": 808,
    "start_time": "2021-10-10T00:55:45.728Z"
   },
   {
    "duration": 930,
    "start_time": "2021-10-10T00:55:50.206Z"
   },
   {
    "duration": 477,
    "start_time": "2021-10-10T00:56:05.875Z"
   },
   {
    "duration": 207,
    "start_time": "2021-10-10T00:56:09.777Z"
   },
   {
    "duration": 471,
    "start_time": "2021-10-10T00:56:13.378Z"
   },
   {
    "duration": 208,
    "start_time": "2021-10-10T00:56:16.592Z"
   },
   {
    "duration": 664,
    "start_time": "2021-10-10T00:56:19.520Z"
   },
   {
    "duration": 763,
    "start_time": "2021-10-10T00:56:23.811Z"
   },
   {
    "duration": 784,
    "start_time": "2021-10-10T00:56:28.320Z"
   },
   {
    "duration": 932,
    "start_time": "2021-10-10T00:56:32.800Z"
   },
   {
    "duration": 977,
    "start_time": "2021-10-10T00:56:40.048Z"
   },
   {
    "duration": 986,
    "start_time": "2021-10-10T00:56:43.632Z"
   },
   {
    "duration": 1017,
    "start_time": "2021-10-10T00:56:48.897Z"
   },
   {
    "duration": 1025,
    "start_time": "2021-10-10T00:56:55.488Z"
   },
   {
    "duration": 872,
    "start_time": "2021-10-10T00:57:06.785Z"
   },
   {
    "duration": 997,
    "start_time": "2021-10-10T00:57:12.656Z"
   },
   {
    "duration": 1038,
    "start_time": "2021-10-10T00:57:34.640Z"
   },
   {
    "duration": 1032,
    "start_time": "2021-10-10T00:57:38.851Z"
   },
   {
    "duration": 1053,
    "start_time": "2021-10-10T00:57:42.353Z"
   },
   {
    "duration": 1069,
    "start_time": "2021-10-10T00:57:45.650Z"
   },
   {
    "duration": 1023,
    "start_time": "2021-10-10T00:57:49.250Z"
   },
   {
    "duration": 1003,
    "start_time": "2021-10-10T00:57:53.696Z"
   },
   {
    "duration": 1036,
    "start_time": "2021-10-10T00:57:57.011Z"
   },
   {
    "duration": 1230,
    "start_time": "2021-10-10T00:57:59.682Z"
   },
   {
    "duration": 1034,
    "start_time": "2021-10-10T00:58:03.810Z"
   },
   {
    "duration": 1123,
    "start_time": "2021-10-10T00:58:06.818Z"
   },
   {
    "duration": 1024,
    "start_time": "2021-10-10T00:58:08.960Z"
   },
   {
    "duration": 1019,
    "start_time": "2021-10-10T00:58:11.152Z"
   },
   {
    "duration": 1027,
    "start_time": "2021-10-10T00:58:15.680Z"
   },
   {
    "duration": 1115,
    "start_time": "2021-10-10T00:58:18.898Z"
   },
   {
    "duration": 1008,
    "start_time": "2021-10-10T00:58:22.608Z"
   },
   {
    "duration": 1000,
    "start_time": "2021-10-10T00:58:25.728Z"
   },
   {
    "duration": 448,
    "start_time": "2021-10-10T01:00:47.235Z"
   },
   {
    "duration": 31369,
    "start_time": "2021-10-10T01:03:39.079Z"
   },
   {
    "duration": 121029,
    "start_time": "2021-10-10T01:05:39.065Z"
   },
   {
    "duration": 111,
    "start_time": "2021-10-10T01:07:50.538Z"
   },
   {
    "duration": 6,
    "start_time": "2021-10-10T01:08:46.795Z"
   },
   {
    "duration": 329,
    "start_time": "2021-10-10T01:09:01.884Z"
   },
   {
    "duration": 326,
    "start_time": "2021-10-10T01:09:06.475Z"
   },
   {
    "duration": 332,
    "start_time": "2021-10-10T01:09:07.965Z"
   },
   {
    "duration": 21,
    "start_time": "2021-10-10T01:09:29.149Z"
   },
   {
    "duration": 5,
    "start_time": "2021-10-10T01:09:48.589Z"
   },
   {
    "duration": 5,
    "start_time": "2021-10-10T01:09:51.281Z"
   },
   {
    "duration": 35266,
    "start_time": "2021-10-10T01:10:48.571Z"
   },
   {
    "duration": 127475,
    "start_time": "2021-10-10T01:11:30.175Z"
   },
   {
    "duration": 8971,
    "start_time": "2021-10-10T01:14:16.591Z"
   },
   {
    "duration": 321,
    "start_time": "2021-10-10T01:14:35.544Z"
   },
   {
    "duration": 6,
    "start_time": "2021-10-10T01:15:55.203Z"
   },
   {
    "duration": 10,
    "start_time": "2021-10-10T01:15:59.665Z"
   },
   {
    "duration": 5,
    "start_time": "2021-10-10T01:16:27.841Z"
   },
   {
    "duration": 426,
    "start_time": "2021-10-10T01:18:16.757Z"
   },
   {
    "duration": 4,
    "start_time": "2021-10-10T01:23:49.255Z"
   },
   {
    "duration": 470,
    "start_time": "2021-10-10T01:26:57.198Z"
   },
   {
    "duration": 64,
    "start_time": "2021-10-10T01:28:09.214Z"
   },
   {
    "duration": 24,
    "start_time": "2021-10-10T01:29:08.670Z"
   },
   {
    "duration": 344,
    "start_time": "2021-10-10T01:29:18.647Z"
   },
   {
    "duration": 6,
    "start_time": "2021-10-10T01:29:22.814Z"
   },
   {
    "duration": 340,
    "start_time": "2021-10-10T01:30:17.054Z"
   },
   {
    "duration": 32,
    "start_time": "2021-10-10T01:30:41.376Z"
   },
   {
    "duration": 485,
    "start_time": "2021-10-10T01:31:27.156Z"
   },
   {
    "duration": 378,
    "start_time": "2021-10-10T01:31:47.777Z"
   },
   {
    "duration": 747,
    "start_time": "2021-10-10T01:31:51.840Z"
   },
   {
    "duration": 36,
    "start_time": "2021-10-10T01:32:03.314Z"
   },
   {
    "duration": 347,
    "start_time": "2021-10-10T01:34:28.274Z"
   },
   {
    "duration": 15,
    "start_time": "2021-10-10T01:34:40.064Z"
   },
   {
    "duration": 14,
    "start_time": "2021-10-10T01:35:20.692Z"
   },
   {
    "duration": 4,
    "start_time": "2021-10-10T01:35:37.492Z"
   },
   {
    "duration": 66,
    "start_time": "2021-10-10T01:35:38.690Z"
   },
   {
    "duration": 17,
    "start_time": "2021-10-10T01:36:14.407Z"
   },
   {
    "duration": 4,
    "start_time": "2021-10-10T01:37:36.916Z"
   },
   {
    "duration": 4,
    "start_time": "2021-10-10T01:39:31.098Z"
   },
   {
    "duration": 121,
    "start_time": "2021-10-10T01:39:47.012Z"
   },
   {
    "duration": 4,
    "start_time": "2021-10-10T01:40:46.694Z"
   },
   {
    "duration": 129,
    "start_time": "2021-10-10T01:40:47.946Z"
   },
   {
    "duration": 4,
    "start_time": "2021-10-10T01:41:00.998Z"
   },
   {
    "duration": 124,
    "start_time": "2021-10-10T01:41:02.332Z"
   },
   {
    "duration": 29,
    "start_time": "2021-10-10T01:41:08.718Z"
   },
   {
    "duration": 21,
    "start_time": "2021-10-10T01:42:03.590Z"
   },
   {
    "duration": 13,
    "start_time": "2021-10-10T01:43:19.930Z"
   },
   {
    "duration": 15,
    "start_time": "2021-10-10T01:45:59.820Z"
   },
   {
    "duration": 6,
    "start_time": "2021-10-10T01:48:41.630Z"
   },
   {
    "duration": 5,
    "start_time": "2021-10-10T01:48:44.078Z"
   },
   {
    "duration": 6,
    "start_time": "2021-10-10T01:49:15.359Z"
   },
   {
    "duration": 11,
    "start_time": "2021-10-10T01:52:22.352Z"
   },
   {
    "duration": 3,
    "start_time": "2021-10-10T01:57:44.308Z"
   },
   {
    "duration": 154,
    "start_time": "2021-10-10T02:01:05.032Z"
   },
   {
    "duration": 169,
    "start_time": "2021-10-10T02:02:14.488Z"
   },
   {
    "duration": 149,
    "start_time": "2021-10-10T02:03:34.154Z"
   },
   {
    "duration": 107,
    "start_time": "2021-10-10T02:08:40.560Z"
   },
   {
    "duration": 111,
    "start_time": "2021-10-10T02:11:15.859Z"
   },
   {
    "duration": 3911,
    "start_time": "2021-10-10T02:22:42.453Z"
   },
   {
    "duration": 3200,
    "start_time": "2021-10-10T02:22:46.368Z"
   },
   {
    "duration": 3702,
    "start_time": "2021-10-10T02:22:49.571Z"
   },
   {
    "duration": 6130,
    "start_time": "2021-10-10T02:22:53.277Z"
   },
   {
    "duration": 4,
    "start_time": "2021-10-10T02:22:59.409Z"
   },
   {
    "duration": 270,
    "start_time": "2021-10-10T02:22:59.415Z"
   },
   {
    "duration": 22,
    "start_time": "2021-10-10T02:22:59.687Z"
   },
   {
    "duration": 11,
    "start_time": "2021-10-10T02:22:59.713Z"
   },
   {
    "duration": 13,
    "start_time": "2021-10-10T02:22:59.726Z"
   },
   {
    "duration": 40,
    "start_time": "2021-10-10T02:22:59.741Z"
   },
   {
    "duration": 8,
    "start_time": "2021-10-10T02:22:59.784Z"
   },
   {
    "duration": 10,
    "start_time": "2021-10-10T02:22:59.795Z"
   },
   {
    "duration": 7,
    "start_time": "2021-10-10T02:22:59.807Z"
   },
   {
    "duration": 51,
    "start_time": "2021-10-10T02:22:59.817Z"
   },
   {
    "duration": 18,
    "start_time": "2021-10-10T02:22:59.870Z"
   },
   {
    "duration": 8,
    "start_time": "2021-10-10T02:22:59.890Z"
   },
   {
    "duration": 76,
    "start_time": "2021-10-10T02:22:59.900Z"
   },
   {
    "duration": 17,
    "start_time": "2021-10-10T02:22:59.979Z"
   },
   {
    "duration": 1217,
    "start_time": "2021-10-10T02:22:59.998Z"
   },
   {
    "duration": 544,
    "start_time": "2021-10-10T02:23:01.218Z"
   },
   {
    "duration": 9,
    "start_time": "2021-10-10T02:23:01.765Z"
   },
   {
    "duration": 40,
    "start_time": "2021-10-10T02:23:01.776Z"
   },
   {
    "duration": 63,
    "start_time": "2021-10-10T02:23:01.822Z"
   },
   {
    "duration": 6,
    "start_time": "2021-10-10T02:23:01.890Z"
   },
   {
    "duration": 61,
    "start_time": "2021-10-10T02:23:01.898Z"
   },
   {
    "duration": 3,
    "start_time": "2021-10-10T02:23:01.962Z"
   },
   {
    "duration": 18,
    "start_time": "2021-10-10T02:23:01.968Z"
   },
   {
    "duration": 4518,
    "start_time": "2021-10-10T02:23:01.989Z"
   },
   {
    "duration": 29,
    "start_time": "2021-10-10T02:23:06.510Z"
   },
   {
    "duration": 26,
    "start_time": "2021-10-10T02:23:06.541Z"
   },
   {
    "duration": 94,
    "start_time": "2021-10-10T02:23:06.569Z"
   },
   {
    "duration": 1064,
    "start_time": "2021-10-10T02:23:06.666Z"
   },
   {
    "duration": 25181,
    "start_time": "2021-10-10T02:23:07.732Z"
   },
   {
    "duration": 9,
    "start_time": "2021-10-10T02:23:32.915Z"
   },
   {
    "duration": 4,
    "start_time": "2021-10-10T02:23:32.926Z"
   },
   {
    "duration": 11,
    "start_time": "2021-10-10T02:23:32.932Z"
   },
   {
    "duration": 13,
    "start_time": "2021-10-10T02:23:32.945Z"
   },
   {
    "duration": 12,
    "start_time": "2021-10-10T02:23:32.961Z"
   },
   {
    "duration": 11,
    "start_time": "2021-10-10T02:23:32.975Z"
   },
   {
    "duration": 10,
    "start_time": "2021-10-10T02:23:32.989Z"
   },
   {
    "duration": 9,
    "start_time": "2021-10-10T02:23:33.001Z"
   },
   {
    "duration": 8,
    "start_time": "2021-10-10T02:23:33.012Z"
   },
   {
    "duration": 10,
    "start_time": "2021-10-10T02:23:33.022Z"
   },
   {
    "duration": 25,
    "start_time": "2021-10-10T02:23:33.034Z"
   },
   {
    "duration": 359,
    "start_time": "2021-10-10T02:23:33.061Z"
   },
   {
    "duration": 56,
    "start_time": "2021-10-10T02:23:33.422Z"
   },
   {
    "duration": 1138,
    "start_time": "2021-10-10T02:23:33.559Z"
   },
   {
    "duration": 5,
    "start_time": "2021-10-10T02:23:34.700Z"
   },
   {
    "duration": 26563,
    "start_time": "2021-10-10T02:23:34.707Z"
   },
   {
    "duration": 3,
    "start_time": "2021-10-10T02:24:01.273Z"
   },
   {
    "duration": 15,
    "start_time": "2021-10-10T02:24:01.278Z"
   },
   {
    "duration": 19,
    "start_time": "2021-10-10T02:24:01.295Z"
   },
   {
    "duration": 29,
    "start_time": "2021-10-10T02:24:01.317Z"
   },
   {
    "duration": 19,
    "start_time": "2021-10-10T02:24:01.349Z"
   },
   {
    "duration": 32,
    "start_time": "2021-10-10T02:24:01.371Z"
   },
   {
    "duration": 36,
    "start_time": "2021-10-10T02:24:01.406Z"
   },
   {
    "duration": 37,
    "start_time": "2021-10-10T02:24:01.444Z"
   },
   {
    "duration": 33,
    "start_time": "2021-10-10T02:24:01.483Z"
   },
   {
    "duration": 146,
    "start_time": "2021-10-10T02:24:01.519Z"
   },
   {
    "duration": 1528,
    "start_time": "2021-10-10T02:24:01.759Z"
   },
   {
    "duration": 78766,
    "start_time": "2021-10-10T02:24:03.289Z"
   },
   {
    "duration": 3,
    "start_time": "2021-10-10T02:25:22.057Z"
   },
   {
    "duration": 5,
    "start_time": "2021-10-10T02:25:22.063Z"
   },
   {
    "duration": 9,
    "start_time": "2021-10-10T02:25:22.071Z"
   },
   {
    "duration": 6,
    "start_time": "2021-10-10T02:25:22.082Z"
   },
   {
    "duration": 7,
    "start_time": "2021-10-10T02:25:22.090Z"
   },
   {
    "duration": 5,
    "start_time": "2021-10-10T02:25:22.099Z"
   },
   {
    "duration": 6,
    "start_time": "2021-10-10T02:25:22.112Z"
   },
   {
    "duration": 49,
    "start_time": "2021-10-10T02:25:22.121Z"
   },
   {
    "duration": 186,
    "start_time": "2021-10-10T02:25:22.172Z"
   },
   {
    "duration": 439,
    "start_time": "2021-10-10T02:25:22.361Z"
   },
   {
    "duration": 17141,
    "start_time": "2021-10-10T02:25:22.803Z"
   },
   {
    "duration": 3,
    "start_time": "2021-10-10T02:25:39.946Z"
   },
   {
    "duration": 11,
    "start_time": "2021-10-10T02:25:39.951Z"
   },
   {
    "duration": 7,
    "start_time": "2021-10-10T02:25:39.965Z"
   },
   {
    "duration": 7,
    "start_time": "2021-10-10T02:25:39.974Z"
   },
   {
    "duration": 5,
    "start_time": "2021-10-10T02:25:39.983Z"
   },
   {
    "duration": 9,
    "start_time": "2021-10-10T02:25:39.990Z"
   },
   {
    "duration": 785,
    "start_time": "2021-10-10T02:25:40.002Z"
   },
   {
    "duration": 1434,
    "start_time": "2021-10-10T02:25:40.791Z"
   },
   {
    "duration": 334673,
    "start_time": "2021-10-10T02:25:42.228Z"
   },
   {
    "duration": 10,
    "start_time": "2021-10-10T02:31:16.904Z"
   },
   {
    "duration": 19,
    "start_time": "2021-10-10T02:31:16.917Z"
   },
   {
    "duration": 21,
    "start_time": "2021-10-10T02:31:16.938Z"
   },
   {
    "duration": 1045,
    "start_time": "2021-10-10T02:31:16.962Z"
   },
   {
    "duration": 582,
    "start_time": "2021-10-10T02:31:18.009Z"
   },
   {
    "duration": 37325,
    "start_time": "2021-10-10T02:31:18.593Z"
   },
   {
    "duration": 118286,
    "start_time": "2021-10-10T02:31:55.921Z"
   },
   {
    "duration": 5,
    "start_time": "2021-10-10T02:33:54.209Z"
   },
   {
    "duration": 402,
    "start_time": "2021-10-10T02:33:54.216Z"
   },
   {
    "duration": 4,
    "start_time": "2021-10-10T02:33:54.620Z"
   },
   {
    "duration": 136,
    "start_time": "2021-10-10T02:33:54.626Z"
   },
   {
    "duration": 28,
    "start_time": "2021-10-10T02:33:54.765Z"
   },
   {
    "duration": 21,
    "start_time": "2021-10-10T02:33:54.795Z"
   },
   {
    "duration": 50,
    "start_time": "2021-10-10T02:33:54.818Z"
   },
   {
    "duration": 35,
    "start_time": "2021-10-10T02:33:54.870Z"
   },
   {
    "duration": 21,
    "start_time": "2021-10-10T02:33:54.907Z"
   },
   {
    "duration": 7090,
    "start_time": "2021-10-10T20:18:37.991Z"
   },
   {
    "duration": 3165,
    "start_time": "2021-10-10T20:18:45.084Z"
   },
   {
    "duration": 3272,
    "start_time": "2021-10-10T20:18:48.251Z"
   },
   {
    "duration": 4797,
    "start_time": "2021-10-10T20:18:51.525Z"
   },
   {
    "duration": 4,
    "start_time": "2021-10-10T20:18:56.324Z"
   },
   {
    "duration": 204,
    "start_time": "2021-10-10T20:18:56.330Z"
   },
   {
    "duration": 18,
    "start_time": "2021-10-10T20:18:56.536Z"
   },
   {
    "duration": 4,
    "start_time": "2021-10-10T20:18:56.557Z"
   },
   {
    "duration": 7,
    "start_time": "2021-10-10T20:18:56.563Z"
   },
   {
    "duration": 19,
    "start_time": "2021-10-10T20:18:56.573Z"
   },
   {
    "duration": 6,
    "start_time": "2021-10-10T20:18:56.594Z"
   },
   {
    "duration": 13,
    "start_time": "2021-10-10T20:18:56.602Z"
   },
   {
    "duration": 38,
    "start_time": "2021-10-10T20:18:56.617Z"
   },
   {
    "duration": 8,
    "start_time": "2021-10-10T20:18:56.657Z"
   },
   {
    "duration": 18,
    "start_time": "2021-10-10T20:18:56.667Z"
   },
   {
    "duration": 6,
    "start_time": "2021-10-10T20:18:56.687Z"
   },
   {
    "duration": 63,
    "start_time": "2021-10-10T20:18:56.694Z"
   },
   {
    "duration": 14,
    "start_time": "2021-10-10T20:18:56.759Z"
   },
   {
    "duration": 704,
    "start_time": "2021-10-10T20:18:56.775Z"
   },
   {
    "duration": 346,
    "start_time": "2021-10-10T20:18:57.481Z"
   },
   {
    "duration": 6,
    "start_time": "2021-10-10T20:18:57.829Z"
   },
   {
    "duration": 18,
    "start_time": "2021-10-10T20:18:57.837Z"
   },
   {
    "duration": 35,
    "start_time": "2021-10-10T20:18:57.858Z"
   },
   {
    "duration": 5,
    "start_time": "2021-10-10T20:18:57.896Z"
   },
   {
    "duration": 52,
    "start_time": "2021-10-10T20:18:57.903Z"
   },
   {
    "duration": 2,
    "start_time": "2021-10-10T20:18:57.957Z"
   },
   {
    "duration": 6,
    "start_time": "2021-10-10T20:18:57.961Z"
   },
   {
    "duration": 2889,
    "start_time": "2021-10-10T20:18:57.968Z"
   },
   {
    "duration": 24,
    "start_time": "2021-10-10T20:19:00.860Z"
   },
   {
    "duration": 16,
    "start_time": "2021-10-10T20:19:00.886Z"
   },
   {
    "duration": 147,
    "start_time": "2021-10-10T20:19:00.904Z"
   },
   {
    "duration": 760,
    "start_time": "2021-10-10T20:19:01.053Z"
   },
   {
    "duration": 23946,
    "start_time": "2021-10-10T20:19:01.815Z"
   },
   {
    "duration": 6,
    "start_time": "2021-10-10T20:19:25.763Z"
   },
   {
    "duration": 4,
    "start_time": "2021-10-10T20:19:25.771Z"
   },
   {
    "duration": 17,
    "start_time": "2021-10-10T20:19:25.776Z"
   },
   {
    "duration": 4,
    "start_time": "2021-10-10T20:19:25.795Z"
   },
   {
    "duration": 6,
    "start_time": "2021-10-10T20:19:25.801Z"
   },
   {
    "duration": 4,
    "start_time": "2021-10-10T20:19:25.809Z"
   },
   {
    "duration": 9,
    "start_time": "2021-10-10T20:19:25.814Z"
   },
   {
    "duration": 11,
    "start_time": "2021-10-10T20:19:25.824Z"
   },
   {
    "duration": 8,
    "start_time": "2021-10-10T20:19:25.836Z"
   },
   {
    "duration": 8,
    "start_time": "2021-10-10T20:19:25.845Z"
   },
   {
    "duration": 11,
    "start_time": "2021-10-10T20:19:25.855Z"
   },
   {
    "duration": 205,
    "start_time": "2021-10-10T20:19:25.868Z"
   },
   {
    "duration": 80,
    "start_time": "2021-10-10T20:19:26.075Z"
   },
   {
    "duration": 745,
    "start_time": "2021-10-10T20:19:26.157Z"
   },
   {
    "duration": 4,
    "start_time": "2021-10-10T20:19:26.904Z"
   },
   {
    "duration": 22837,
    "start_time": "2021-10-10T20:19:26.910Z"
   },
   {
    "duration": 2,
    "start_time": "2021-10-10T20:19:49.750Z"
   },
   {
    "duration": 9,
    "start_time": "2021-10-10T20:19:49.754Z"
   },
   {
    "duration": 7,
    "start_time": "2021-10-10T20:19:49.765Z"
   },
   {
    "duration": 4,
    "start_time": "2021-10-10T20:19:49.774Z"
   },
   {
    "duration": 10,
    "start_time": "2021-10-10T20:19:49.780Z"
   },
   {
    "duration": 5,
    "start_time": "2021-10-10T20:19:49.792Z"
   },
   {
    "duration": 8,
    "start_time": "2021-10-10T20:19:49.799Z"
   },
   {
    "duration": 16,
    "start_time": "2021-10-10T20:19:49.809Z"
   },
   {
    "duration": 3,
    "start_time": "2021-10-10T20:19:49.827Z"
   },
   {
    "duration": 124,
    "start_time": "2021-10-10T20:19:49.831Z"
   },
   {
    "duration": 1099,
    "start_time": "2021-10-10T20:19:49.958Z"
   },
   {
    "duration": 72690,
    "start_time": "2021-10-10T20:19:51.059Z"
   },
   {
    "duration": 3,
    "start_time": "2021-10-10T20:21:03.750Z"
   },
   {
    "duration": 6,
    "start_time": "2021-10-10T20:21:03.754Z"
   },
   {
    "duration": 8,
    "start_time": "2021-10-10T20:21:03.762Z"
   },
   {
    "duration": 9,
    "start_time": "2021-10-10T20:21:03.771Z"
   },
   {
    "duration": 66,
    "start_time": "2021-10-10T20:21:03.782Z"
   },
   {
    "duration": 4,
    "start_time": "2021-10-10T20:21:03.850Z"
   },
   {
    "duration": 4,
    "start_time": "2021-10-10T20:21:03.859Z"
   },
   {
    "duration": 14,
    "start_time": "2021-10-10T20:21:03.865Z"
   },
   {
    "duration": 71,
    "start_time": "2021-10-10T20:21:03.881Z"
   },
   {
    "duration": 379,
    "start_time": "2021-10-10T20:21:03.956Z"
   },
   {
    "duration": 13223,
    "start_time": "2021-10-10T20:21:04.337Z"
   },
   {
    "duration": 2,
    "start_time": "2021-10-10T20:21:17.562Z"
   },
   {
    "duration": 15,
    "start_time": "2021-10-10T20:21:17.566Z"
   },
   {
    "duration": 11,
    "start_time": "2021-10-10T20:21:17.582Z"
   },
   {
    "duration": 15,
    "start_time": "2021-10-10T20:21:17.595Z"
   },
   {
    "duration": 13,
    "start_time": "2021-10-10T20:21:17.612Z"
   },
   {
    "duration": 6,
    "start_time": "2021-10-10T20:21:17.627Z"
   },
   {
    "duration": 530,
    "start_time": "2021-10-10T20:21:17.635Z"
   },
   {
    "duration": 956,
    "start_time": "2021-10-10T20:21:18.167Z"
   },
   {
    "duration": 234498,
    "start_time": "2021-10-10T20:21:19.125Z"
   },
   {
    "duration": 8,
    "start_time": "2021-10-10T20:25:13.626Z"
   },
   {
    "duration": 4,
    "start_time": "2021-10-10T20:25:13.650Z"
   },
   {
    "duration": 14,
    "start_time": "2021-10-10T20:25:13.656Z"
   },
   {
    "duration": 718,
    "start_time": "2021-10-10T20:25:13.672Z"
   },
   {
    "duration": 428,
    "start_time": "2021-10-10T20:25:14.392Z"
   },
   {
    "duration": 26935,
    "start_time": "2021-10-10T20:25:14.822Z"
   },
   {
    "duration": 106711,
    "start_time": "2021-10-10T20:25:41.759Z"
   },
   {
    "duration": 5,
    "start_time": "2021-10-10T20:27:28.472Z"
   },
   {
    "duration": 259,
    "start_time": "2021-10-10T20:27:28.479Z"
   },
   {
    "duration": 3,
    "start_time": "2021-10-10T20:27:28.750Z"
   },
   {
    "duration": 99,
    "start_time": "2021-10-10T20:27:28.755Z"
   },
   {
    "duration": 17,
    "start_time": "2021-10-10T20:27:28.856Z"
   },
   {
    "duration": 20,
    "start_time": "2021-10-10T20:27:28.875Z"
   },
   {
    "duration": 9,
    "start_time": "2021-10-10T20:27:28.897Z"
   },
   {
    "duration": 41,
    "start_time": "2021-10-10T20:27:28.908Z"
   },
   {
    "duration": 28,
    "start_time": "2021-10-10T20:27:28.951Z"
   },
   {
    "duration": 8658,
    "start_time": "2021-10-11T07:00:49.063Z"
   },
   {
    "duration": 3380,
    "start_time": "2021-10-11T07:00:57.726Z"
   },
   {
    "duration": 3419,
    "start_time": "2021-10-11T07:01:01.109Z"
   },
   {
    "duration": 4390,
    "start_time": "2021-10-11T07:01:04.530Z"
   },
   {
    "duration": 2,
    "start_time": "2021-10-11T07:01:08.922Z"
   },
   {
    "duration": 234,
    "start_time": "2021-10-11T07:01:08.926Z"
   },
   {
    "duration": 16,
    "start_time": "2021-10-11T07:01:09.161Z"
   },
   {
    "duration": 14,
    "start_time": "2021-10-11T07:01:09.180Z"
   },
   {
    "duration": 17,
    "start_time": "2021-10-11T07:01:09.197Z"
   },
   {
    "duration": 21,
    "start_time": "2021-10-11T07:01:09.216Z"
   },
   {
    "duration": 5,
    "start_time": "2021-10-11T07:01:09.239Z"
   },
   {
    "duration": 9,
    "start_time": "2021-10-11T07:01:09.245Z"
   },
   {
    "duration": 8,
    "start_time": "2021-10-11T07:01:09.255Z"
   },
   {
    "duration": 12,
    "start_time": "2021-10-11T07:01:09.265Z"
   },
   {
    "duration": 10,
    "start_time": "2021-10-11T07:01:09.279Z"
   },
   {
    "duration": 8,
    "start_time": "2021-10-11T07:01:09.291Z"
   },
   {
    "duration": 31,
    "start_time": "2021-10-11T07:01:09.300Z"
   },
   {
    "duration": 45,
    "start_time": "2021-10-11T07:01:09.333Z"
   },
   {
    "duration": 737,
    "start_time": "2021-10-11T07:01:09.380Z"
   },
   {
    "duration": 340,
    "start_time": "2021-10-11T07:01:10.119Z"
   },
   {
    "duration": 6,
    "start_time": "2021-10-11T07:01:10.461Z"
   },
   {
    "duration": 13,
    "start_time": "2021-10-11T07:01:10.469Z"
   },
   {
    "duration": 35,
    "start_time": "2021-10-11T07:01:10.484Z"
   },
   {
    "duration": 6,
    "start_time": "2021-10-11T07:01:10.521Z"
   },
   {
    "duration": 58,
    "start_time": "2021-10-11T07:01:10.529Z"
   },
   {
    "duration": 2,
    "start_time": "2021-10-11T07:01:10.592Z"
   },
   {
    "duration": 5,
    "start_time": "2021-10-11T07:01:10.598Z"
   },
   {
    "duration": 2682,
    "start_time": "2021-10-11T07:01:10.605Z"
   },
   {
    "duration": 22,
    "start_time": "2021-10-11T07:01:13.289Z"
   },
   {
    "duration": 10,
    "start_time": "2021-10-11T07:01:13.313Z"
   },
   {
    "duration": 153,
    "start_time": "2021-10-11T07:01:13.325Z"
   },
   {
    "duration": 763,
    "start_time": "2021-10-11T07:01:13.480Z"
   },
   {
    "duration": 24822,
    "start_time": "2021-10-11T07:01:14.245Z"
   },
   {
    "duration": 7,
    "start_time": "2021-10-11T07:01:39.069Z"
   },
   {
    "duration": 7,
    "start_time": "2021-10-11T07:01:39.077Z"
   },
   {
    "duration": 13,
    "start_time": "2021-10-11T07:01:39.085Z"
   },
   {
    "duration": 15,
    "start_time": "2021-10-11T07:01:39.099Z"
   },
   {
    "duration": 18,
    "start_time": "2021-10-11T07:01:39.116Z"
   },
   {
    "duration": 3,
    "start_time": "2021-10-11T07:01:39.136Z"
   },
   {
    "duration": 9,
    "start_time": "2021-10-11T07:01:39.141Z"
   },
   {
    "duration": 7,
    "start_time": "2021-10-11T07:01:39.152Z"
   },
   {
    "duration": 8,
    "start_time": "2021-10-11T07:01:39.160Z"
   },
   {
    "duration": 19,
    "start_time": "2021-10-11T07:01:39.170Z"
   },
   {
    "duration": 7,
    "start_time": "2021-10-11T07:01:39.191Z"
   },
   {
    "duration": 218,
    "start_time": "2021-10-11T07:01:39.200Z"
   },
   {
    "duration": 68,
    "start_time": "2021-10-11T07:01:39.420Z"
   },
   {
    "duration": 726,
    "start_time": "2021-10-11T07:01:39.490Z"
   },
   {
    "duration": 4,
    "start_time": "2021-10-11T07:01:40.218Z"
   },
   {
    "duration": 23095,
    "start_time": "2021-10-11T07:01:40.223Z"
   },
   {
    "duration": 2,
    "start_time": "2021-10-11T07:02:03.320Z"
   },
   {
    "duration": 22,
    "start_time": "2021-10-11T07:02:03.324Z"
   },
   {
    "duration": 19,
    "start_time": "2021-10-11T07:02:03.348Z"
   },
   {
    "duration": 7,
    "start_time": "2021-10-11T07:02:03.369Z"
   },
   {
    "duration": 18,
    "start_time": "2021-10-11T07:02:03.378Z"
   },
   {
    "duration": 21,
    "start_time": "2021-10-11T07:02:03.398Z"
   },
   {
    "duration": 10,
    "start_time": "2021-10-11T07:02:03.421Z"
   },
   {
    "duration": 25,
    "start_time": "2021-10-11T07:02:03.433Z"
   },
   {
    "duration": 6,
    "start_time": "2021-10-11T07:02:03.460Z"
   },
   {
    "duration": 118,
    "start_time": "2021-10-11T07:02:03.468Z"
   },
   {
    "duration": 993,
    "start_time": "2021-10-11T07:02:03.677Z"
   },
   {
    "duration": 67187,
    "start_time": "2021-10-11T07:02:04.671Z"
   },
   {
    "duration": 3,
    "start_time": "2021-10-11T07:03:11.860Z"
   },
   {
    "duration": 12,
    "start_time": "2021-10-11T07:03:11.865Z"
   },
   {
    "duration": 6,
    "start_time": "2021-10-11T07:03:11.879Z"
   },
   {
    "duration": 22,
    "start_time": "2021-10-11T07:03:11.886Z"
   },
   {
    "duration": 10,
    "start_time": "2021-10-11T07:03:11.910Z"
   },
   {
    "duration": 15,
    "start_time": "2021-10-11T07:03:11.922Z"
   },
   {
    "duration": 15,
    "start_time": "2021-10-11T07:03:11.939Z"
   },
   {
    "duration": 15,
    "start_time": "2021-10-11T07:03:11.956Z"
   },
   {
    "duration": 107,
    "start_time": "2021-10-11T07:03:11.973Z"
   },
   {
    "duration": 393,
    "start_time": "2021-10-11T07:03:12.083Z"
   },
   {
    "duration": 13129,
    "start_time": "2021-10-11T07:03:12.478Z"
   },
   {
    "duration": 2,
    "start_time": "2021-10-11T07:03:25.609Z"
   },
   {
    "duration": 5,
    "start_time": "2021-10-11T07:03:25.613Z"
   },
   {
    "duration": 4,
    "start_time": "2021-10-11T07:03:25.620Z"
   },
   {
    "duration": 5,
    "start_time": "2021-10-11T07:03:25.626Z"
   },
   {
    "duration": 6,
    "start_time": "2021-10-11T07:03:25.632Z"
   },
   {
    "duration": 5,
    "start_time": "2021-10-11T07:03:25.640Z"
   },
   {
    "duration": 559,
    "start_time": "2021-10-11T07:03:25.646Z"
   },
   {
    "duration": 983,
    "start_time": "2021-10-11T07:03:26.210Z"
   },
   {
    "duration": 207198,
    "start_time": "2021-10-11T07:03:27.195Z"
   },
   {
    "duration": 7,
    "start_time": "2021-10-11T07:06:54.395Z"
   },
   {
    "duration": 8,
    "start_time": "2021-10-11T07:06:54.404Z"
   },
   {
    "duration": 12,
    "start_time": "2021-10-11T07:06:54.414Z"
   },
   {
    "duration": 717,
    "start_time": "2021-10-11T07:06:54.428Z"
   },
   {
    "duration": 285,
    "start_time": "2021-10-11T07:06:55.147Z"
   },
   {
    "duration": 24727,
    "start_time": "2021-10-11T07:06:55.434Z"
   },
   {
    "duration": 95945,
    "start_time": "2021-10-11T07:07:20.163Z"
   },
   {
    "duration": 5,
    "start_time": "2021-10-11T07:08:56.109Z"
   },
   {
    "duration": 236,
    "start_time": "2021-10-11T07:08:56.117Z"
   },
   {
    "duration": 3,
    "start_time": "2021-10-11T07:08:56.355Z"
   },
   {
    "duration": 95,
    "start_time": "2021-10-11T07:08:56.360Z"
   },
   {
    "duration": 30,
    "start_time": "2021-10-11T07:08:56.457Z"
   },
   {
    "duration": 14,
    "start_time": "2021-10-11T07:08:56.489Z"
   },
   {
    "duration": 8,
    "start_time": "2021-10-11T07:08:56.505Z"
   },
   {
    "duration": 10,
    "start_time": "2021-10-11T07:08:56.515Z"
   },
   {
    "duration": 9,
    "start_time": "2021-10-11T07:08:56.526Z"
   },
   {
    "duration": 95,
    "start_time": "2021-10-11T07:44:34.510Z"
   },
   {
    "duration": 341,
    "start_time": "2021-10-11T11:54:23.289Z"
   },
   {
    "duration": 12428,
    "start_time": "2021-10-11T13:55:02.464Z"
   },
   {
    "duration": 4158,
    "start_time": "2021-10-11T13:55:14.895Z"
   },
   {
    "duration": 4513,
    "start_time": "2021-10-11T13:55:19.056Z"
   },
   {
    "duration": 5046,
    "start_time": "2021-10-11T13:55:23.573Z"
   },
   {
    "duration": 5,
    "start_time": "2021-10-11T13:55:28.621Z"
   },
   {
    "duration": 207,
    "start_time": "2021-10-11T13:55:28.629Z"
   },
   {
    "duration": 25,
    "start_time": "2021-10-11T13:55:28.838Z"
   },
   {
    "duration": 4,
    "start_time": "2021-10-11T13:55:28.869Z"
   },
   {
    "duration": 13,
    "start_time": "2021-10-11T13:55:28.877Z"
   },
   {
    "duration": 27,
    "start_time": "2021-10-11T13:55:28.892Z"
   },
   {
    "duration": 7,
    "start_time": "2021-10-11T13:55:28.922Z"
   },
   {
    "duration": 42,
    "start_time": "2021-10-11T13:55:28.932Z"
   },
   {
    "duration": 15,
    "start_time": "2021-10-11T13:55:28.977Z"
   },
   {
    "duration": 15,
    "start_time": "2021-10-11T13:55:28.995Z"
   },
   {
    "duration": 54,
    "start_time": "2021-10-11T13:55:29.013Z"
   },
   {
    "duration": 9,
    "start_time": "2021-10-11T13:55:29.070Z"
   },
   {
    "duration": 50,
    "start_time": "2021-10-11T13:55:29.081Z"
   },
   {
    "duration": 40,
    "start_time": "2021-10-11T13:55:29.133Z"
   },
   {
    "duration": 1124,
    "start_time": "2021-10-11T13:55:29.175Z"
   },
   {
    "duration": 570,
    "start_time": "2021-10-11T13:55:30.301Z"
   },
   {
    "duration": 9,
    "start_time": "2021-10-11T13:55:30.873Z"
   },
   {
    "duration": 18,
    "start_time": "2021-10-11T13:55:30.884Z"
   },
   {
    "duration": 78,
    "start_time": "2021-10-11T13:55:30.908Z"
   },
   {
    "duration": 7,
    "start_time": "2021-10-11T13:55:30.990Z"
   },
   {
    "duration": 53,
    "start_time": "2021-10-11T13:55:31.000Z"
   },
   {
    "duration": 11,
    "start_time": "2021-10-11T13:55:31.056Z"
   },
   {
    "duration": 20,
    "start_time": "2021-10-11T13:55:31.070Z"
   },
   {
    "duration": 4712,
    "start_time": "2021-10-11T13:55:31.092Z"
   },
   {
    "duration": 31,
    "start_time": "2021-10-11T13:55:35.807Z"
   },
   {
    "duration": 31,
    "start_time": "2021-10-11T13:55:35.840Z"
   },
   {
    "duration": 193,
    "start_time": "2021-10-11T13:55:35.874Z"
   },
   {
    "duration": 1100,
    "start_time": "2021-10-11T13:55:36.070Z"
   },
   {
    "duration": 26001,
    "start_time": "2021-10-11T13:55:37.173Z"
   },
   {
    "duration": 8,
    "start_time": "2021-10-11T13:56:03.177Z"
   },
   {
    "duration": 5,
    "start_time": "2021-10-11T13:56:03.188Z"
   },
   {
    "duration": 11,
    "start_time": "2021-10-11T13:56:03.195Z"
   },
   {
    "duration": 6,
    "start_time": "2021-10-11T13:56:03.209Z"
   },
   {
    "duration": 9,
    "start_time": "2021-10-11T13:56:03.217Z"
   },
   {
    "duration": 7,
    "start_time": "2021-10-11T13:56:03.229Z"
   },
   {
    "duration": 28,
    "start_time": "2021-10-11T13:56:03.239Z"
   },
   {
    "duration": 8,
    "start_time": "2021-10-11T13:56:03.270Z"
   },
   {
    "duration": 10,
    "start_time": "2021-10-11T13:56:03.280Z"
   },
   {
    "duration": 10,
    "start_time": "2021-10-11T13:56:03.292Z"
   },
   {
    "duration": 14,
    "start_time": "2021-10-11T13:56:03.305Z"
   },
   {
    "duration": 379,
    "start_time": "2021-10-11T13:56:03.321Z"
   },
   {
    "duration": 171,
    "start_time": "2021-10-11T13:56:03.703Z"
   },
   {
    "duration": 996,
    "start_time": "2021-10-11T13:56:03.966Z"
   },
   {
    "duration": 6,
    "start_time": "2021-10-11T13:56:04.967Z"
   },
   {
    "duration": 26944,
    "start_time": "2021-10-11T13:56:04.976Z"
   },
   {
    "duration": 3,
    "start_time": "2021-10-11T13:56:31.923Z"
   },
   {
    "duration": 10,
    "start_time": "2021-10-11T13:56:31.929Z"
   },
   {
    "duration": 6,
    "start_time": "2021-10-11T13:56:31.942Z"
   },
   {
    "duration": 17,
    "start_time": "2021-10-11T13:56:31.950Z"
   },
   {
    "duration": 6,
    "start_time": "2021-10-11T13:56:31.970Z"
   },
   {
    "duration": 7,
    "start_time": "2021-10-11T13:56:31.979Z"
   },
   {
    "duration": 8,
    "start_time": "2021-10-11T13:56:31.988Z"
   },
   {
    "duration": 29,
    "start_time": "2021-10-11T13:56:31.998Z"
   },
   {
    "duration": 5,
    "start_time": "2021-10-11T13:56:32.030Z"
   },
   {
    "duration": 135,
    "start_time": "2021-10-11T13:56:32.037Z"
   },
   {
    "duration": 1722,
    "start_time": "2021-10-11T13:56:32.175Z"
   },
   {
    "duration": 76123,
    "start_time": "2021-10-11T13:56:33.900Z"
   },
   {
    "duration": 3,
    "start_time": "2021-10-11T13:57:50.026Z"
   },
   {
    "duration": 8,
    "start_time": "2021-10-11T13:57:50.031Z"
   },
   {
    "duration": 9,
    "start_time": "2021-10-11T13:57:50.042Z"
   },
   {
    "duration": 7,
    "start_time": "2021-10-11T13:57:50.054Z"
   },
   {
    "duration": 4,
    "start_time": "2021-10-11T13:57:50.067Z"
   },
   {
    "duration": 6,
    "start_time": "2021-10-11T13:57:50.073Z"
   },
   {
    "duration": 6,
    "start_time": "2021-10-11T13:57:50.088Z"
   },
   {
    "duration": 16,
    "start_time": "2021-10-11T13:57:50.097Z"
   },
   {
    "duration": 157,
    "start_time": "2021-10-11T13:57:50.115Z"
   },
   {
    "duration": 538,
    "start_time": "2021-10-11T13:57:50.275Z"
   },
   {
    "duration": 17543,
    "start_time": "2021-10-11T13:57:50.815Z"
   },
   {
    "duration": 3,
    "start_time": "2021-10-11T13:58:08.361Z"
   },
   {
    "duration": 6,
    "start_time": "2021-10-11T13:58:08.366Z"
   },
   {
    "duration": 7,
    "start_time": "2021-10-11T13:58:08.375Z"
   },
   {
    "duration": 6,
    "start_time": "2021-10-11T13:58:08.384Z"
   },
   {
    "duration": 8,
    "start_time": "2021-10-11T13:58:08.393Z"
   },
   {
    "duration": 6,
    "start_time": "2021-10-11T13:58:08.403Z"
   },
   {
    "duration": 796,
    "start_time": "2021-10-11T13:58:08.411Z"
   },
   {
    "duration": 1497,
    "start_time": "2021-10-11T13:58:09.210Z"
   },
   {
    "duration": 358473,
    "start_time": "2021-10-11T13:58:10.710Z"
   },
   {
    "duration": 9,
    "start_time": "2021-10-11T14:04:09.186Z"
   },
   {
    "duration": 8,
    "start_time": "2021-10-11T14:04:09.197Z"
   },
   {
    "duration": 16,
    "start_time": "2021-10-11T14:04:09.208Z"
   },
   {
    "duration": 1086,
    "start_time": "2021-10-11T14:04:09.226Z"
   },
   {
    "duration": 453,
    "start_time": "2021-10-11T14:04:10.314Z"
   },
   {
    "duration": 30228,
    "start_time": "2021-10-11T14:04:10.769Z"
   },
   {
    "duration": 101682,
    "start_time": "2021-10-11T14:04:41.000Z"
   },
   {
    "duration": 5,
    "start_time": "2021-10-11T14:06:22.684Z"
   },
   {
    "duration": 411,
    "start_time": "2021-10-11T14:06:22.692Z"
   },
   {
    "duration": 4,
    "start_time": "2021-10-11T14:06:23.105Z"
   },
   {
    "duration": 142,
    "start_time": "2021-10-11T14:06:23.111Z"
   },
   {
    "duration": 37,
    "start_time": "2021-10-11T14:06:23.255Z"
   },
   {
    "duration": 21,
    "start_time": "2021-10-11T14:06:23.294Z"
   },
   {
    "duration": 12,
    "start_time": "2021-10-11T14:06:23.317Z"
   },
   {
    "duration": 15,
    "start_time": "2021-10-11T14:06:23.368Z"
   },
   {
    "duration": 11,
    "start_time": "2021-10-11T14:06:23.386Z"
   },
   {
    "duration": 6,
    "start_time": "2021-10-11T14:22:35.118Z"
   },
   {
    "duration": 21,
    "start_time": "2021-10-11T14:22:39.709Z"
   },
   {
    "duration": 12,
    "start_time": "2021-10-11T14:22:47.155Z"
   },
   {
    "duration": 81,
    "start_time": "2021-10-11T14:22:56.063Z"
   },
   {
    "duration": 6,
    "start_time": "2021-10-11T14:22:59.677Z"
   },
   {
    "duration": 825,
    "start_time": "2021-10-11T14:23:55.439Z"
   },
   {
    "duration": 6,
    "start_time": "2021-10-11T14:24:19.247Z"
   },
   {
    "duration": 4,
    "start_time": "2021-10-11T14:24:25.056Z"
   },
   {
    "duration": 6,
    "start_time": "2021-10-11T14:24:32.576Z"
   },
   {
    "duration": 6,
    "start_time": "2021-10-11T14:24:35.296Z"
   },
   {
    "duration": 6,
    "start_time": "2021-10-11T14:24:38.064Z"
   },
   {
    "duration": 6,
    "start_time": "2021-10-11T14:24:43.808Z"
   },
   {
    "duration": 6,
    "start_time": "2021-10-11T14:24:46.896Z"
   },
   {
    "duration": 7,
    "start_time": "2021-10-11T14:24:49.871Z"
   },
   {
    "duration": 6,
    "start_time": "2021-10-11T14:37:20.362Z"
   },
   {
    "duration": 7,
    "start_time": "2021-10-11T14:37:33.593Z"
   },
   {
    "duration": 6,
    "start_time": "2021-10-11T14:40:26.813Z"
   },
   {
    "duration": 11,
    "start_time": "2021-10-11T14:40:50.642Z"
   },
   {
    "duration": 5,
    "start_time": "2021-10-11T14:40:53.420Z"
   },
   {
    "duration": 5,
    "start_time": "2021-10-11T14:40:55.086Z"
   },
   {
    "duration": 824,
    "start_time": "2021-10-11T14:41:05.278Z"
   },
   {
    "duration": 5,
    "start_time": "2021-10-11T14:41:29.662Z"
   },
   {
    "duration": 811,
    "start_time": "2021-10-11T14:41:37.998Z"
   },
   {
    "duration": 5,
    "start_time": "2021-10-11T14:41:49.390Z"
   },
   {
    "duration": 8,
    "start_time": "2021-10-11T14:41:52.877Z"
   },
   {
    "duration": 252,
    "start_time": "2021-10-11T14:41:55.070Z"
   },
   {
    "duration": 94376,
    "start_time": "2021-10-11T14:42:07.202Z"
   },
   {
    "duration": 5,
    "start_time": "2021-10-11T14:44:06.298Z"
   },
   {
    "duration": 132,
    "start_time": "2021-10-11T14:44:09.472Z"
   },
   {
    "duration": 16,
    "start_time": "2021-10-11T14:44:11.168Z"
   },
   {
    "duration": 126,
    "start_time": "2021-10-11T14:44:16.464Z"
   },
   {
    "duration": 16,
    "start_time": "2021-10-11T14:44:17.392Z"
   },
   {
    "duration": 124,
    "start_time": "2021-10-11T14:44:20.050Z"
   },
   {
    "duration": 15,
    "start_time": "2021-10-11T14:44:21.312Z"
   },
   {
    "duration": 96,
    "start_time": "2021-10-11T14:44:23.488Z"
   },
   {
    "duration": 15,
    "start_time": "2021-10-11T14:44:24.336Z"
   },
   {
    "duration": 411,
    "start_time": "2021-10-11T14:44:27.399Z"
   },
   {
    "duration": 9,
    "start_time": "2021-10-11T14:44:35.520Z"
   },
   {
    "duration": 6,
    "start_time": "2021-10-11T14:46:22.760Z"
   },
   {
    "duration": 111,
    "start_time": "2021-10-11T14:46:25.360Z"
   },
   {
    "duration": 95592,
    "start_time": "2021-10-11T14:46:31.810Z"
   },
   {
    "duration": 161,
    "start_time": "2021-10-11T14:48:12.018Z"
   },
   {
    "duration": 16,
    "start_time": "2021-10-11T14:48:13.633Z"
   },
   {
    "duration": 95,
    "start_time": "2021-10-11T14:48:21.105Z"
   },
   {
    "duration": 17,
    "start_time": "2021-10-11T14:48:22.082Z"
   },
   {
    "duration": 288,
    "start_time": "2021-10-11T14:48:24.801Z"
   },
   {
    "duration": 15,
    "start_time": "2021-10-11T14:48:25.972Z"
   },
   {
    "duration": 93,
    "start_time": "2021-10-11T14:48:28.594Z"
   },
   {
    "duration": 15,
    "start_time": "2021-10-11T14:48:29.426Z"
   },
   {
    "duration": 128,
    "start_time": "2021-10-11T14:48:32.547Z"
   },
   {
    "duration": 15,
    "start_time": "2021-10-11T14:48:33.652Z"
   },
   {
    "duration": 124,
    "start_time": "2021-10-11T14:48:35.764Z"
   },
   {
    "duration": 15,
    "start_time": "2021-10-11T14:48:37.044Z"
   },
   {
    "duration": 424,
    "start_time": "2021-10-11T14:48:38.964Z"
   },
   {
    "duration": 9,
    "start_time": "2021-10-11T14:48:44.099Z"
   },
   {
    "duration": 5,
    "start_time": "2021-10-11T14:49:19.715Z"
   },
   {
    "duration": 106,
    "start_time": "2021-10-11T14:49:21.384Z"
   },
   {
    "duration": 84966,
    "start_time": "2021-10-11T14:49:22.745Z"
   },
   {
    "duration": 148,
    "start_time": "2021-10-11T14:50:51.637Z"
   },
   {
    "duration": 17,
    "start_time": "2021-10-11T14:50:53.029Z"
   },
   {
    "duration": 6,
    "start_time": "2021-10-11T14:51:10.519Z"
   },
   {
    "duration": 112,
    "start_time": "2021-10-11T14:51:14.740Z"
   },
   {
    "duration": 98801,
    "start_time": "2021-10-11T14:51:16.085Z"
   },
   {
    "duration": 159,
    "start_time": "2021-10-11T14:52:57.238Z"
   },
   {
    "duration": 18,
    "start_time": "2021-10-11T14:52:58.341Z"
   },
   {
    "duration": 9,
    "start_time": "2021-10-11T14:53:01.957Z"
   },
   {
    "duration": 6,
    "start_time": "2021-10-11T14:53:20.039Z"
   },
   {
    "duration": 126,
    "start_time": "2021-10-11T14:53:21.958Z"
   },
   {
    "duration": 99020,
    "start_time": "2021-10-11T14:53:23.687Z"
   },
   {
    "duration": 147,
    "start_time": "2021-10-11T14:55:23.068Z"
   },
   {
    "duration": 17,
    "start_time": "2021-10-11T14:55:24.279Z"
   },
   {
    "duration": 6,
    "start_time": "2021-10-11T14:55:43.337Z"
   },
   {
    "duration": 118,
    "start_time": "2021-10-11T14:55:52.313Z"
   },
   {
    "duration": 97665,
    "start_time": "2021-10-11T14:55:53.321Z"
   },
   {
    "duration": 7,
    "start_time": "2021-10-11T14:57:59.114Z"
   },
   {
    "duration": 6,
    "start_time": "2021-10-11T14:58:06.359Z"
   },
   {
    "duration": 5,
    "start_time": "2021-10-11T14:58:26.557Z"
   },
   {
    "duration": 127,
    "start_time": "2021-10-11T14:58:32.891Z"
   },
   {
    "duration": 16,
    "start_time": "2021-10-11T14:58:33.801Z"
   },
   {
    "duration": 9,
    "start_time": "2021-10-11T14:58:36.923Z"
   },
   {
    "duration": 7,
    "start_time": "2021-10-11T14:59:20.463Z"
   },
   {
    "duration": 5,
    "start_time": "2021-10-11T15:02:24.910Z"
   },
   {
    "duration": 109,
    "start_time": "2021-10-11T15:02:28.785Z"
   },
   {
    "duration": 96424,
    "start_time": "2021-10-11T15:02:30.159Z"
   },
   {
    "duration": 129,
    "start_time": "2021-10-11T15:04:10.287Z"
   },
   {
    "duration": 15,
    "start_time": "2021-10-11T15:04:11.201Z"
   },
   {
    "duration": 9,
    "start_time": "2021-10-11T15:04:33.423Z"
   },
   {
    "duration": 114,
    "start_time": "2021-10-11T15:04:35.571Z"
   },
   {
    "duration": 96933,
    "start_time": "2021-10-11T15:04:36.479Z"
   },
   {
    "duration": 132,
    "start_time": "2021-10-11T15:06:43.987Z"
   },
   {
    "duration": 16,
    "start_time": "2021-10-11T15:06:44.993Z"
   },
   {
    "duration": 9,
    "start_time": "2021-10-11T15:06:48.657Z"
   },
   {
    "duration": 6,
    "start_time": "2021-10-11T15:07:16.177Z"
   },
   {
    "duration": 131,
    "start_time": "2021-10-11T15:07:18.385Z"
   },
   {
    "duration": 99082,
    "start_time": "2021-10-11T15:07:19.618Z"
   },
   {
    "duration": 142,
    "start_time": "2021-10-11T15:09:18.661Z"
   },
   {
    "duration": 16,
    "start_time": "2021-10-11T15:09:20.051Z"
   },
   {
    "duration": 6,
    "start_time": "2021-10-11T15:09:38.470Z"
   },
   {
    "duration": 106,
    "start_time": "2021-10-11T15:09:40.613Z"
   },
   {
    "duration": 98348,
    "start_time": "2021-10-11T15:09:42.340Z"
   },
   {
    "duration": 153,
    "start_time": "2021-10-11T15:11:34.038Z"
   },
   {
    "duration": 16,
    "start_time": "2021-10-11T15:11:35.365Z"
   },
   {
    "duration": 9,
    "start_time": "2021-10-11T15:11:37.652Z"
   },
   {
    "duration": 6,
    "start_time": "2021-10-11T15:11:48.229Z"
   },
   {
    "duration": 110,
    "start_time": "2021-10-11T15:11:49.877Z"
   },
   {
    "duration": 87586,
    "start_time": "2021-10-11T15:11:51.286Z"
   },
   {
    "duration": 171,
    "start_time": "2021-10-11T15:13:23.400Z"
   },
   {
    "duration": 15,
    "start_time": "2021-10-11T15:13:24.328Z"
   },
   {
    "duration": 6,
    "start_time": "2021-10-11T15:13:42.072Z"
   },
   {
    "duration": 116,
    "start_time": "2021-10-11T15:13:47.210Z"
   },
   {
    "duration": 99516,
    "start_time": "2021-10-11T15:13:48.603Z"
   },
   {
    "duration": 151,
    "start_time": "2021-10-11T15:15:42.857Z"
   },
   {
    "duration": 14,
    "start_time": "2021-10-11T15:15:44.698Z"
   },
   {
    "duration": 6,
    "start_time": "2021-10-11T15:15:53.815Z"
   },
   {
    "duration": 109,
    "start_time": "2021-10-11T15:15:55.578Z"
   },
   {
    "duration": 96665,
    "start_time": "2021-10-11T15:15:56.761Z"
   },
   {
    "duration": 156,
    "start_time": "2021-10-11T15:17:40.138Z"
   },
   {
    "duration": 15,
    "start_time": "2021-10-11T15:17:41.353Z"
   },
   {
    "duration": 6,
    "start_time": "2021-10-11T15:18:04.492Z"
   },
   {
    "duration": 107,
    "start_time": "2021-10-11T15:18:06.604Z"
   },
   {
    "duration": 90945,
    "start_time": "2021-10-11T15:18:07.532Z"
   },
   {
    "duration": 147,
    "start_time": "2021-10-11T15:20:03.054Z"
   },
   {
    "duration": 18,
    "start_time": "2021-10-11T15:20:04.237Z"
   },
   {
    "duration": 6,
    "start_time": "2021-10-11T15:20:16.686Z"
   },
   {
    "duration": 135,
    "start_time": "2021-10-11T15:20:18.434Z"
   },
   {
    "duration": 100614,
    "start_time": "2021-10-11T15:20:22.158Z"
   },
   {
    "duration": 182,
    "start_time": "2021-10-11T15:22:06.389Z"
   },
   {
    "duration": 15,
    "start_time": "2021-10-11T15:22:08.896Z"
   },
   {
    "duration": 6,
    "start_time": "2021-10-11T15:23:00.577Z"
   },
   {
    "duration": 107,
    "start_time": "2021-10-11T15:23:02.174Z"
   },
   {
    "duration": 10262,
    "start_time": "2021-10-11T15:23:03.152Z"
   },
   {
    "duration": 6,
    "start_time": "2021-10-11T15:23:21.696Z"
   },
   {
    "duration": 110,
    "start_time": "2021-10-11T15:23:24.944Z"
   },
   {
    "duration": 97290,
    "start_time": "2021-10-11T15:23:26.096Z"
   },
   {
    "duration": 159,
    "start_time": "2021-10-11T15:25:09.730Z"
   },
   {
    "duration": 16,
    "start_time": "2021-10-11T15:25:10.642Z"
   },
   {
    "duration": 5,
    "start_time": "2021-10-11T15:25:15.424Z"
   },
   {
    "duration": 106,
    "start_time": "2021-10-11T15:25:16.721Z"
   },
   {
    "duration": 92407,
    "start_time": "2021-10-11T15:25:17.760Z"
   },
   {
    "duration": 7,
    "start_time": "2021-10-11T15:27:29.972Z"
   },
   {
    "duration": 116,
    "start_time": "2021-10-11T15:27:31.539Z"
   },
   {
    "duration": 96567,
    "start_time": "2021-10-11T15:27:33.656Z"
   },
   {
    "duration": 127,
    "start_time": "2021-10-11T15:29:17.093Z"
   },
   {
    "duration": 16,
    "start_time": "2021-10-11T15:29:18.053Z"
   },
   {
    "duration": 9,
    "start_time": "2021-10-11T15:29:21.572Z"
   },
   {
    "duration": 6,
    "start_time": "2021-10-11T15:29:27.317Z"
   },
   {
    "duration": 108,
    "start_time": "2021-10-11T15:29:29.093Z"
   },
   {
    "duration": 96783,
    "start_time": "2021-10-11T15:29:30.133Z"
   },
   {
    "duration": 133,
    "start_time": "2021-10-11T15:31:39.179Z"
   },
   {
    "duration": 16,
    "start_time": "2021-10-11T15:31:39.959Z"
   },
   {
    "duration": 10,
    "start_time": "2021-10-11T15:31:44.232Z"
   },
   {
    "duration": 6,
    "start_time": "2021-10-11T15:31:57.881Z"
   },
   {
    "duration": 124,
    "start_time": "2021-10-11T15:31:59.991Z"
   },
   {
    "duration": 99815,
    "start_time": "2021-10-11T15:32:01.495Z"
   },
   {
    "duration": 158,
    "start_time": "2021-10-11T15:33:43.945Z"
   },
   {
    "duration": 16,
    "start_time": "2021-10-11T15:33:44.893Z"
   },
   {
    "duration": 6,
    "start_time": "2021-10-11T15:33:53.769Z"
   },
   {
    "duration": 6,
    "start_time": "2021-10-11T15:34:01.481Z"
   },
   {
    "duration": 110,
    "start_time": "2021-10-11T15:34:03.929Z"
   },
   {
    "duration": 96002,
    "start_time": "2021-10-11T15:34:04.901Z"
   },
   {
    "duration": 159,
    "start_time": "2021-10-11T15:35:42.635Z"
   },
   {
    "duration": 16,
    "start_time": "2021-10-11T15:35:43.483Z"
   },
   {
    "duration": 6,
    "start_time": "2021-10-11T15:35:51.691Z"
   },
   {
    "duration": 114,
    "start_time": "2021-10-11T15:35:55.707Z"
   },
   {
    "duration": 96081,
    "start_time": "2021-10-11T15:35:56.717Z"
   },
   {
    "duration": 133,
    "start_time": "2021-10-11T15:37:35.581Z"
   },
   {
    "duration": 14,
    "start_time": "2021-10-11T15:37:36.571Z"
   },
   {
    "duration": 9,
    "start_time": "2021-10-11T15:37:40.189Z"
   },
   {
    "duration": 6,
    "start_time": "2021-10-11T15:37:46.795Z"
   },
   {
    "duration": 115,
    "start_time": "2021-10-11T15:37:48.171Z"
   },
   {
    "duration": 98407,
    "start_time": "2021-10-11T15:37:49.212Z"
   },
   {
    "duration": 127,
    "start_time": "2021-10-11T15:41:52.390Z"
   },
   {
    "duration": 16,
    "start_time": "2021-10-11T15:41:53.793Z"
   },
   {
    "duration": 11,
    "start_time": "2021-10-11T15:41:56.176Z"
   },
   {
    "duration": 5,
    "start_time": "2021-10-11T15:42:01.122Z"
   },
   {
    "duration": 5,
    "start_time": "2021-10-11T15:42:02.514Z"
   },
   {
    "duration": 119,
    "start_time": "2021-10-11T15:42:04.464Z"
   },
   {
    "duration": 96542,
    "start_time": "2021-10-11T15:42:06.432Z"
   },
   {
    "duration": 159,
    "start_time": "2021-10-11T15:44:27.940Z"
   },
   {
    "duration": 15,
    "start_time": "2021-10-11T15:44:29.012Z"
   },
   {
    "duration": 9,
    "start_time": "2021-10-11T15:44:31.206Z"
   },
   {
    "duration": 12,
    "start_time": "2021-10-11T15:44:46.868Z"
   },
   {
    "duration": 430,
    "start_time": "2021-10-11T15:44:52.339Z"
   },
   {
    "duration": 138,
    "start_time": "2021-10-11T15:53:17.530Z"
   },
   {
    "duration": 16,
    "start_time": "2021-10-11T15:53:20.140Z"
   },
   {
    "duration": 410,
    "start_time": "2021-10-11T15:53:26.762Z"
   },
   {
    "duration": 11,
    "start_time": "2021-10-11T15:53:40.060Z"
   },
   {
    "duration": 109,
    "start_time": "2021-10-11T22:37:29.296Z"
   },
   {
    "duration": 95986,
    "start_time": "2021-10-11T22:37:31.804Z"
   },
   {
    "duration": 148,
    "start_time": "2021-10-11T22:39:19.954Z"
   },
   {
    "duration": 15,
    "start_time": "2021-10-11T22:39:21.406Z"
   },
   {
    "duration": 396,
    "start_time": "2021-10-11T22:39:23.364Z"
   },
   {
    "duration": 8,
    "start_time": "2021-10-11T22:39:30.062Z"
   },
   {
    "duration": 107,
    "start_time": "2021-10-11T22:40:40.320Z"
   },
   {
    "duration": 159848,
    "start_time": "2021-10-11T22:40:41.664Z"
   },
   {
    "duration": 152,
    "start_time": "2021-10-11T22:43:55.748Z"
   },
   {
    "duration": 17,
    "start_time": "2021-10-11T22:43:56.770Z"
   },
   {
    "duration": 417,
    "start_time": "2021-10-11T22:43:58.642Z"
   },
   {
    "duration": 10,
    "start_time": "2021-10-11T22:44:25.972Z"
   },
   {
    "duration": 107,
    "start_time": "2021-10-11T22:45:21.077Z"
   },
   {
    "duration": 41474,
    "start_time": "2021-10-11T22:45:22.020Z"
   },
   {
    "duration": 147,
    "start_time": "2021-10-12T00:58:49.158Z"
   },
   {
    "duration": 16,
    "start_time": "2021-10-12T00:58:50.182Z"
   },
   {
    "duration": 396,
    "start_time": "2021-10-12T00:58:53.110Z"
   },
   {
    "duration": 11,
    "start_time": "2021-10-12T00:59:08.038Z"
   },
   {
    "duration": 90,
    "start_time": "2021-10-12T01:17:02.231Z"
   },
   {
    "duration": 20839,
    "start_time": "2021-10-15T10:21:08.693Z"
   },
   {
    "duration": 5271,
    "start_time": "2021-10-15T10:21:29.535Z"
   },
   {
    "duration": 5072,
    "start_time": "2021-10-15T10:21:34.809Z"
   },
   {
    "duration": 8506,
    "start_time": "2021-10-15T10:21:39.884Z"
   },
   {
    "duration": 4,
    "start_time": "2021-10-15T10:21:48.392Z"
   },
   {
    "duration": 347,
    "start_time": "2021-10-15T10:21:48.399Z"
   },
   {
    "duration": 32,
    "start_time": "2021-10-15T10:21:48.748Z"
   },
   {
    "duration": 5,
    "start_time": "2021-10-15T10:21:48.784Z"
   },
   {
    "duration": 8,
    "start_time": "2021-10-15T10:21:48.795Z"
   },
   {
    "duration": 51,
    "start_time": "2021-10-15T10:21:48.806Z"
   },
   {
    "duration": 7,
    "start_time": "2021-10-15T10:21:48.860Z"
   },
   {
    "duration": 11,
    "start_time": "2021-10-15T10:21:48.869Z"
   },
   {
    "duration": 8,
    "start_time": "2021-10-15T10:21:48.882Z"
   },
   {
    "duration": 11,
    "start_time": "2021-10-15T10:21:48.893Z"
   },
   {
    "duration": 57,
    "start_time": "2021-10-15T10:21:48.906Z"
   },
   {
    "duration": 11,
    "start_time": "2021-10-15T10:21:48.966Z"
   },
   {
    "duration": 81,
    "start_time": "2021-10-15T10:21:48.980Z"
   },
   {
    "duration": 21,
    "start_time": "2021-10-15T10:21:49.064Z"
   },
   {
    "duration": 1160,
    "start_time": "2021-10-15T10:21:49.087Z"
   },
   {
    "duration": 662,
    "start_time": "2021-10-15T10:21:50.257Z"
   },
   {
    "duration": 886,
    "start_time": "2021-10-15T10:21:50.922Z"
   },
   {
    "duration": 459,
    "start_time": "2021-10-15T10:21:51.810Z"
   },
   {
    "duration": 170,
    "start_time": "2021-10-15T10:21:52.271Z"
   },
   {
    "duration": 7,
    "start_time": "2021-10-15T10:21:52.443Z"
   },
   {
    "duration": 39,
    "start_time": "2021-10-15T10:21:52.452Z"
   },
   {
    "duration": 2,
    "start_time": "2021-10-15T10:21:52.494Z"
   },
   {
    "duration": 7,
    "start_time": "2021-10-15T10:21:52.503Z"
   },
   {
    "duration": 4530,
    "start_time": "2021-10-15T10:21:52.513Z"
   },
   {
    "duration": 38,
    "start_time": "2021-10-15T10:21:57.046Z"
   },
   {
    "duration": 13,
    "start_time": "2021-10-15T10:21:57.086Z"
   },
   {
    "duration": 157,
    "start_time": "2021-10-15T10:21:57.101Z"
   },
   {
    "duration": 1124,
    "start_time": "2021-10-15T10:21:57.261Z"
   },
   {
    "duration": 28633,
    "start_time": "2021-10-15T10:21:58.388Z"
   },
   {
    "duration": 8,
    "start_time": "2021-10-15T10:22:27.024Z"
   },
   {
    "duration": 7,
    "start_time": "2021-10-15T10:22:27.034Z"
   },
   {
    "duration": 20,
    "start_time": "2021-10-15T10:22:27.044Z"
   },
   {
    "duration": -35,
    "start_time": "2021-10-15T10:22:27.103Z"
   },
   {
    "duration": -42,
    "start_time": "2021-10-15T10:22:27.112Z"
   },
   {
    "duration": -50,
    "start_time": "2021-10-15T10:22:27.122Z"
   },
   {
    "duration": -156,
    "start_time": "2021-10-15T10:22:27.230Z"
   },
   {
    "duration": -165,
    "start_time": "2021-10-15T10:22:27.241Z"
   },
   {
    "duration": -171,
    "start_time": "2021-10-15T10:22:27.249Z"
   },
   {
    "duration": -178,
    "start_time": "2021-10-15T10:22:27.259Z"
   },
   {
    "duration": -184,
    "start_time": "2021-10-15T10:22:27.267Z"
   },
   {
    "duration": -191,
    "start_time": "2021-10-15T10:22:27.276Z"
   },
   {
    "duration": -198,
    "start_time": "2021-10-15T10:22:27.285Z"
   },
   {
    "duration": -208,
    "start_time": "2021-10-15T10:22:27.297Z"
   },
   {
    "duration": -215,
    "start_time": "2021-10-15T10:22:27.306Z"
   },
   {
    "duration": -221,
    "start_time": "2021-10-15T10:22:27.315Z"
   },
   {
    "duration": -227,
    "start_time": "2021-10-15T10:22:27.323Z"
   },
   {
    "duration": -232,
    "start_time": "2021-10-15T10:22:27.330Z"
   },
   {
    "duration": -238,
    "start_time": "2021-10-15T10:22:27.338Z"
   },
   {
    "duration": -189,
    "start_time": "2021-10-15T10:22:27.347Z"
   },
   {
    "duration": -194,
    "start_time": "2021-10-15T10:22:27.354Z"
   },
   {
    "duration": -199,
    "start_time": "2021-10-15T10:22:27.362Z"
   },
   {
    "duration": -204,
    "start_time": "2021-10-15T10:22:27.369Z"
   },
   {
    "duration": -213,
    "start_time": "2021-10-15T10:22:27.380Z"
   },
   {
    "duration": -220,
    "start_time": "2021-10-15T10:22:27.389Z"
   },
   {
    "duration": -227,
    "start_time": "2021-10-15T10:22:27.398Z"
   },
   {
    "duration": -234,
    "start_time": "2021-10-15T10:22:27.407Z"
   },
   {
    "duration": -241,
    "start_time": "2021-10-15T10:22:27.416Z"
   },
   {
    "duration": -250,
    "start_time": "2021-10-15T10:22:27.426Z"
   },
   {
    "duration": -258,
    "start_time": "2021-10-15T10:22:27.435Z"
   },
   {
    "duration": -266,
    "start_time": "2021-10-15T10:22:27.444Z"
   },
   {
    "duration": -272,
    "start_time": "2021-10-15T10:22:27.452Z"
   },
   {
    "duration": -283,
    "start_time": "2021-10-15T10:22:27.464Z"
   },
   {
    "duration": -290,
    "start_time": "2021-10-15T10:22:27.473Z"
   },
   {
    "duration": -295,
    "start_time": "2021-10-15T10:22:27.480Z"
   },
   {
    "duration": -302,
    "start_time": "2021-10-15T10:22:27.489Z"
   },
   {
    "duration": -309,
    "start_time": "2021-10-15T10:22:27.497Z"
   },
   {
    "duration": -316,
    "start_time": "2021-10-15T10:22:27.505Z"
   },
   {
    "duration": -324,
    "start_time": "2021-10-15T10:22:27.515Z"
   },
   {
    "duration": -330,
    "start_time": "2021-10-15T10:22:27.523Z"
   },
   {
    "duration": -337,
    "start_time": "2021-10-15T10:22:27.531Z"
   },
   {
    "duration": -344,
    "start_time": "2021-10-15T10:22:27.540Z"
   },
   {
    "duration": -350,
    "start_time": "2021-10-15T10:22:27.547Z"
   },
   {
    "duration": -297,
    "start_time": "2021-10-15T10:22:27.555Z"
   },
   {
    "duration": -303,
    "start_time": "2021-10-15T10:22:27.562Z"
   },
   {
    "duration": -310,
    "start_time": "2021-10-15T10:22:27.571Z"
   },
   {
    "duration": -317,
    "start_time": "2021-10-15T10:22:27.579Z"
   },
   {
    "duration": -324,
    "start_time": "2021-10-15T10:22:27.588Z"
   },
   {
    "duration": -331,
    "start_time": "2021-10-15T10:22:27.596Z"
   },
   {
    "duration": -338,
    "start_time": "2021-10-15T10:22:27.605Z"
   },
   {
    "duration": -344,
    "start_time": "2021-10-15T10:22:27.612Z"
   },
   {
    "duration": -351,
    "start_time": "2021-10-15T10:22:27.621Z"
   },
   {
    "duration": -358,
    "start_time": "2021-10-15T10:22:27.629Z"
   },
   {
    "duration": -364,
    "start_time": "2021-10-15T10:22:27.637Z"
   },
   {
    "duration": -370,
    "start_time": "2021-10-15T10:22:27.644Z"
   },
   {
    "duration": -377,
    "start_time": "2021-10-15T10:22:27.652Z"
   },
   {
    "duration": -383,
    "start_time": "2021-10-15T10:22:27.660Z"
   },
   {
    "duration": -391,
    "start_time": "2021-10-15T10:22:27.669Z"
   },
   {
    "duration": -398,
    "start_time": "2021-10-15T10:22:27.678Z"
   },
   {
    "duration": -405,
    "start_time": "2021-10-15T10:22:27.687Z"
   },
   {
    "duration": -412,
    "start_time": "2021-10-15T10:22:27.695Z"
   },
   {
    "duration": -419,
    "start_time": "2021-10-15T10:22:27.704Z"
   },
   {
    "duration": -427,
    "start_time": "2021-10-15T10:22:27.713Z"
   },
   {
    "duration": -435,
    "start_time": "2021-10-15T10:22:27.722Z"
   },
   {
    "duration": -440,
    "start_time": "2021-10-15T10:22:27.729Z"
   },
   {
    "duration": 7884,
    "start_time": "2021-10-15T10:52:46.190Z"
   },
   {
    "duration": 2440,
    "start_time": "2021-10-15T10:52:54.076Z"
   },
   {
    "duration": 2632,
    "start_time": "2021-10-15T10:52:56.518Z"
   },
   {
    "duration": 5309,
    "start_time": "2021-10-15T10:53:01.143Z"
   },
   {
    "duration": 3,
    "start_time": "2021-10-15T10:53:08.663Z"
   },
   {
    "duration": 154,
    "start_time": "2021-10-15T10:53:09.559Z"
   },
   {
    "duration": 14,
    "start_time": "2021-10-15T10:53:11.093Z"
   },
   {
    "duration": 4,
    "start_time": "2021-10-15T10:53:12.388Z"
   },
   {
    "duration": 6,
    "start_time": "2021-10-15T10:53:13.367Z"
   },
   {
    "duration": 17,
    "start_time": "2021-10-15T10:53:14.665Z"
   },
   {
    "duration": 5,
    "start_time": "2021-10-15T10:53:15.831Z"
   },
   {
    "duration": 6,
    "start_time": "2021-10-15T10:53:17.609Z"
   },
   {
    "duration": 7,
    "start_time": "2021-10-15T10:53:18.918Z"
   },
   {
    "duration": 11,
    "start_time": "2021-10-15T10:53:20.038Z"
   },
   {
    "duration": 10,
    "start_time": "2021-10-15T10:53:21.558Z"
   },
   {
    "duration": 6,
    "start_time": "2021-10-15T10:53:23.030Z"
   },
   {
    "duration": 30,
    "start_time": "2021-10-15T10:53:24.917Z"
   },
   {
    "duration": 12,
    "start_time": "2021-10-15T10:53:26.150Z"
   },
   {
    "duration": 755,
    "start_time": "2021-10-15T10:53:27.558Z"
   },
   {
    "duration": 32,
    "start_time": "2021-10-15T10:53:40.534Z"
   },
   {
    "duration": 5,
    "start_time": "2021-10-15T10:53:42.534Z"
   },
   {
    "duration": 22,
    "start_time": "2021-10-15T10:53:45.097Z"
   },
   {
    "duration": 5,
    "start_time": "2021-10-15T10:53:52.198Z"
   },
   {
    "duration": 2420,
    "start_time": "2021-10-15T10:53:53.721Z"
   },
   {
    "duration": 18,
    "start_time": "2021-10-15T10:53:59.849Z"
   },
   {
    "duration": 9,
    "start_time": "2021-10-15T10:54:02.695Z"
   },
   {
    "duration": 103,
    "start_time": "2021-10-15T10:54:04.889Z"
   },
   {
    "duration": 593,
    "start_time": "2021-10-15T10:54:07.174Z"
   },
   {
    "duration": 6,
    "start_time": "2021-10-15T10:54:11.751Z"
   },
   {
    "duration": 4,
    "start_time": "2021-10-15T10:54:16.790Z"
   },
   {
    "duration": 5,
    "start_time": "2021-10-15T10:54:20.153Z"
   },
   {
    "duration": 4,
    "start_time": "2021-10-15T10:54:31.193Z"
   },
   {
    "duration": 8,
    "start_time": "2021-10-15T10:54:39.560Z"
   },
   {
    "duration": 2301,
    "start_time": "2021-10-15T10:54:50.271Z"
   },
   {
    "duration": 1827,
    "start_time": "2021-10-15T10:54:52.575Z"
   },
   {
    "duration": 2016,
    "start_time": "2021-10-15T10:54:54.405Z"
   },
   {
    "duration": 4260,
    "start_time": "2021-10-15T10:54:56.423Z"
   },
   {
    "duration": 3,
    "start_time": "2021-10-15T10:55:00.684Z"
   },
   {
    "duration": 166,
    "start_time": "2021-10-15T10:55:00.688Z"
   },
   {
    "duration": 15,
    "start_time": "2021-10-15T10:55:00.855Z"
   },
   {
    "duration": 7,
    "start_time": "2021-10-15T10:55:00.872Z"
   },
   {
    "duration": 10,
    "start_time": "2021-10-15T10:55:00.880Z"
   },
   {
    "duration": 19,
    "start_time": "2021-10-15T10:55:00.891Z"
   },
   {
    "duration": 5,
    "start_time": "2021-10-15T10:55:00.911Z"
   },
   {
    "duration": 11,
    "start_time": "2021-10-15T10:55:00.917Z"
   },
   {
    "duration": 7,
    "start_time": "2021-10-15T10:55:00.929Z"
   },
   {
    "duration": 10,
    "start_time": "2021-10-15T10:55:00.937Z"
   },
   {
    "duration": 14,
    "start_time": "2021-10-15T10:55:00.948Z"
   },
   {
    "duration": 6,
    "start_time": "2021-10-15T10:55:00.963Z"
   },
   {
    "duration": 36,
    "start_time": "2021-10-15T10:55:00.970Z"
   },
   {
    "duration": 11,
    "start_time": "2021-10-15T10:55:01.008Z"
   },
   {
    "duration": 825,
    "start_time": "2021-10-15T10:55:01.020Z"
   },
   {
    "duration": 431,
    "start_time": "2021-10-15T10:55:01.847Z"
   },
   {
    "duration": 6,
    "start_time": "2021-10-15T10:55:02.280Z"
   },
   {
    "duration": 6,
    "start_time": "2021-10-15T10:55:02.292Z"
   },
   {
    "duration": 37,
    "start_time": "2021-10-15T10:55:02.301Z"
   },
   {
    "duration": 5,
    "start_time": "2021-10-15T10:55:02.341Z"
   },
   {
    "duration": 47,
    "start_time": "2021-10-15T10:55:02.347Z"
   },
   {
    "duration": 3,
    "start_time": "2021-10-15T10:55:02.395Z"
   },
   {
    "duration": 12,
    "start_time": "2021-10-15T10:55:02.399Z"
   },
   {
    "duration": 2465,
    "start_time": "2021-10-15T10:55:02.412Z"
   },
   {
    "duration": 27,
    "start_time": "2021-10-15T10:55:04.879Z"
   },
   {
    "duration": 9,
    "start_time": "2021-10-15T10:55:04.907Z"
   },
   {
    "duration": 76,
    "start_time": "2021-10-15T10:55:04.917Z"
   },
   {
    "duration": 693,
    "start_time": "2021-10-15T10:55:04.995Z"
   },
   {
    "duration": 19736,
    "start_time": "2021-10-15T10:55:05.692Z"
   },
   {
    "duration": 6,
    "start_time": "2021-10-15T10:55:25.429Z"
   },
   {
    "duration": 9,
    "start_time": "2021-10-15T10:55:25.437Z"
   },
   {
    "duration": 13,
    "start_time": "2021-10-15T10:55:25.447Z"
   },
   {
    "duration": 10,
    "start_time": "2021-10-15T10:55:25.461Z"
   },
   {
    "duration": 8,
    "start_time": "2021-10-15T10:55:25.472Z"
   },
   {
    "duration": 97,
    "start_time": "2021-10-15T10:55:25.481Z"
   },
   {
    "duration": 61663,
    "start_time": "2021-10-15T10:55:25.579Z"
   },
   {
    "duration": 154,
    "start_time": "2021-10-15T10:56:27.244Z"
   },
   {
    "duration": 10,
    "start_time": "2021-10-15T10:56:27.399Z"
   },
   {
    "duration": 256,
    "start_time": "2021-10-15T10:56:27.410Z"
   },
   {
    "duration": 7,
    "start_time": "2021-10-15T10:56:27.667Z"
   },
   {
    "duration": 18,
    "start_time": "2021-10-15T10:56:27.675Z"
   },
   {
    "duration": 209,
    "start_time": "2021-10-15T10:56:27.695Z"
   },
   {
    "duration": 88,
    "start_time": "2021-10-15T10:56:27.906Z"
   },
   {
    "duration": 682,
    "start_time": "2021-10-15T10:56:27.996Z"
   },
   {
    "duration": 11,
    "start_time": "2021-10-15T10:56:28.680Z"
   },
   {
    "duration": 19229,
    "start_time": "2021-10-15T10:56:28.693Z"
   },
   {
    "duration": 74,
    "start_time": "2021-10-15T10:56:47.924Z"
   },
   {
    "duration": 61948,
    "start_time": "2021-10-15T10:56:48.000Z"
   },
   {
    "duration": 287,
    "start_time": "2021-10-15T10:57:49.950Z"
   },
   {
    "duration": 10,
    "start_time": "2021-10-15T10:57:50.238Z"
   },
   {
    "duration": 291,
    "start_time": "2021-10-15T10:57:50.250Z"
   },
   {
    "duration": 6,
    "start_time": "2021-10-15T10:57:50.543Z"
   },
   {
    "duration": 4,
    "start_time": "2021-10-15T10:57:50.550Z"
   },
   {
    "duration": 13,
    "start_time": "2021-10-15T10:57:50.555Z"
   },
   {
    "duration": 3,
    "start_time": "2021-10-15T10:57:50.570Z"
   },
   {
    "duration": 119,
    "start_time": "2021-10-15T10:57:50.574Z"
   },
   {
    "duration": 987,
    "start_time": "2021-10-15T10:57:50.695Z"
   },
   {
    "duration": 61732,
    "start_time": "2021-10-15T10:57:51.683Z"
   },
   {
    "duration": 83,
    "start_time": "2021-10-15T10:58:53.417Z"
   },
   {
    "duration": 102809,
    "start_time": "2021-10-15T10:58:53.502Z"
   },
   {
    "duration": 109,
    "start_time": "2021-10-15T11:00:36.312Z"
   },
   {
    "duration": 10,
    "start_time": "2021-10-15T11:00:36.422Z"
   },
   {
    "duration": 285,
    "start_time": "2021-10-15T11:00:36.434Z"
   },
   {
    "duration": 5,
    "start_time": "2021-10-15T11:00:36.724Z"
   },
   {
    "duration": 4,
    "start_time": "2021-10-15T11:00:36.731Z"
   },
   {
    "duration": 11,
    "start_time": "2021-10-15T11:00:36.737Z"
   },
   {
    "duration": 52,
    "start_time": "2021-10-15T11:00:36.749Z"
   },
   {
    "duration": 366,
    "start_time": "2021-10-15T11:00:36.892Z"
   },
   {
    "duration": 11942,
    "start_time": "2021-10-15T11:00:37.260Z"
   },
   {
    "duration": 70,
    "start_time": "2021-10-15T11:00:49.203Z"
   },
   {
    "duration": 26919,
    "start_time": "2021-10-15T11:00:49.291Z"
   },
   {
    "duration": 109,
    "start_time": "2021-10-15T11:01:16.212Z"
   },
   {
    "duration": 10,
    "start_time": "2021-10-15T11:01:16.323Z"
   },
   {
    "duration": 298,
    "start_time": "2021-10-15T11:01:16.335Z"
   },
   {
    "duration": 6,
    "start_time": "2021-10-15T11:01:16.635Z"
   },
   {
    "duration": 484,
    "start_time": "2021-10-15T11:01:16.643Z"
   },
   {
    "duration": 900,
    "start_time": "2021-10-15T11:01:17.129Z"
   },
   {
    "duration": 193637,
    "start_time": "2021-10-15T11:01:18.031Z"
   },
   {
    "duration": 6,
    "start_time": "2021-10-15T11:04:31.669Z"
   },
   {
    "duration": 8,
    "start_time": "2021-10-15T11:04:31.677Z"
   },
   {
    "duration": 4,
    "start_time": "2021-10-15T11:04:31.691Z"
   },
   {
    "duration": 645,
    "start_time": "2021-10-15T11:04:31.696Z"
   },
   {
    "duration": 273,
    "start_time": "2021-10-15T11:04:32.343Z"
   },
   {
    "duration": 23191,
    "start_time": "2021-10-15T11:04:32.617Z"
   },
   {
    "duration": 75804,
    "start_time": "2021-10-15T11:04:55.809Z"
   },
   {
    "duration": 4,
    "start_time": "2021-10-15T11:06:11.614Z"
   },
   {
    "duration": 243,
    "start_time": "2021-10-15T11:06:11.620Z"
   },
   {
    "duration": 2,
    "start_time": "2021-10-15T11:06:11.865Z"
   },
   {
    "duration": 92,
    "start_time": "2021-10-15T11:06:11.869Z"
   },
   {
    "duration": 16,
    "start_time": "2021-10-15T11:06:11.963Z"
   },
   {
    "duration": 23,
    "start_time": "2021-10-15T11:06:11.981Z"
   },
   {
    "duration": 11,
    "start_time": "2021-10-15T11:06:12.006Z"
   },
   {
    "duration": 15,
    "start_time": "2021-10-15T11:06:12.019Z"
   },
   {
    "duration": 10,
    "start_time": "2021-10-15T11:06:12.036Z"
   },
   {
    "duration": 8683,
    "start_time": "2021-10-15T20:18:34.778Z"
   },
   {
    "duration": 2845,
    "start_time": "2021-10-15T20:18:43.463Z"
   },
   {
    "duration": 2830,
    "start_time": "2021-10-15T20:18:46.310Z"
   },
   {
    "duration": 4561,
    "start_time": "2021-10-15T20:18:49.143Z"
   },
   {
    "duration": 3,
    "start_time": "2021-10-15T20:18:53.705Z"
   },
   {
    "duration": 192,
    "start_time": "2021-10-15T20:18:53.709Z"
   },
   {
    "duration": 14,
    "start_time": "2021-10-15T20:18:53.902Z"
   },
   {
    "duration": 3,
    "start_time": "2021-10-15T20:18:53.918Z"
   },
   {
    "duration": 7,
    "start_time": "2021-10-15T20:18:53.923Z"
   },
   {
    "duration": 16,
    "start_time": "2021-10-15T20:18:53.932Z"
   },
   {
    "duration": 3,
    "start_time": "2021-10-15T20:18:53.950Z"
   },
   {
    "duration": 7,
    "start_time": "2021-10-15T20:18:53.955Z"
   },
   {
    "duration": 28,
    "start_time": "2021-10-15T20:18:53.964Z"
   },
   {
    "duration": 7,
    "start_time": "2021-10-15T20:18:53.993Z"
   },
   {
    "duration": 9,
    "start_time": "2021-10-15T20:18:54.002Z"
   },
   {
    "duration": 5,
    "start_time": "2021-10-15T20:18:54.012Z"
   },
   {
    "duration": 30,
    "start_time": "2021-10-15T20:18:54.018Z"
   },
   {
    "duration": 10,
    "start_time": "2021-10-15T20:18:54.050Z"
   },
   {
    "duration": 712,
    "start_time": "2021-10-15T20:18:54.091Z"
   },
   {
    "duration": 328,
    "start_time": "2021-10-15T20:18:54.804Z"
   },
   {
    "duration": 6,
    "start_time": "2021-10-15T20:18:55.133Z"
   },
   {
    "duration": 8,
    "start_time": "2021-10-15T20:18:55.140Z"
   },
   {
    "duration": 47,
    "start_time": "2021-10-15T20:18:55.152Z"
   },
   {
    "duration": 5,
    "start_time": "2021-10-15T20:18:55.201Z"
   },
   {
    "duration": 26,
    "start_time": "2021-10-15T20:18:55.207Z"
   },
   {
    "duration": 2,
    "start_time": "2021-10-15T20:18:55.235Z"
   },
   {
    "duration": 6,
    "start_time": "2021-10-15T20:18:55.238Z"
   },
   {
    "duration": 2396,
    "start_time": "2021-10-15T20:18:55.245Z"
   },
   {
    "duration": 18,
    "start_time": "2021-10-15T20:18:57.643Z"
   },
   {
    "duration": 8,
    "start_time": "2021-10-15T20:18:57.662Z"
   },
   {
    "duration": 38,
    "start_time": "2021-10-15T20:18:57.671Z"
   },
   {
    "duration": 764,
    "start_time": "2021-10-15T20:18:57.711Z"
   },
   {
    "duration": 19006,
    "start_time": "2021-10-15T20:18:58.477Z"
   },
   {
    "duration": 5,
    "start_time": "2021-10-15T20:19:17.485Z"
   },
   {
    "duration": 4,
    "start_time": "2021-10-15T20:19:17.492Z"
   },
   {
    "duration": 7,
    "start_time": "2021-10-15T20:19:17.497Z"
   },
   {
    "duration": 7,
    "start_time": "2021-10-15T20:19:17.506Z"
   },
   {
    "duration": 5,
    "start_time": "2021-10-15T20:19:17.515Z"
   },
   {
    "duration": 98,
    "start_time": "2021-10-15T20:19:17.521Z"
   },
   {
    "duration": 61287,
    "start_time": "2021-10-15T20:19:17.621Z"
   },
   {
    "duration": 106,
    "start_time": "2021-10-15T20:20:18.909Z"
   },
   {
    "duration": 9,
    "start_time": "2021-10-15T20:20:19.016Z"
   },
   {
    "duration": 252,
    "start_time": "2021-10-15T20:20:19.026Z"
   },
   {
    "duration": 13,
    "start_time": "2021-10-15T20:20:19.279Z"
   },
   {
    "duration": 5,
    "start_time": "2021-10-15T20:20:19.294Z"
   },
   {
    "duration": 205,
    "start_time": "2021-10-15T20:20:19.300Z"
   },
   {
    "duration": 91,
    "start_time": "2021-10-15T20:20:19.506Z"
   },
   {
    "duration": 701,
    "start_time": "2021-10-15T20:20:19.599Z"
   },
   {
    "duration": 3,
    "start_time": "2021-10-15T20:20:20.302Z"
   },
   {
    "duration": 20224,
    "start_time": "2021-10-15T20:20:20.307Z"
   },
   {
    "duration": 67,
    "start_time": "2021-10-15T20:20:40.533Z"
   },
   {
    "duration": 61608,
    "start_time": "2021-10-15T20:20:40.602Z"
   },
   {
    "duration": 106,
    "start_time": "2021-10-15T20:21:42.211Z"
   },
   {
    "duration": 11,
    "start_time": "2021-10-15T20:21:42.319Z"
   },
   {
    "duration": 267,
    "start_time": "2021-10-15T20:21:42.331Z"
   },
   {
    "duration": 8,
    "start_time": "2021-10-15T20:21:42.600Z"
   },
   {
    "duration": 10,
    "start_time": "2021-10-15T20:21:42.609Z"
   },
   {
    "duration": 26,
    "start_time": "2021-10-15T20:21:42.620Z"
   },
   {
    "duration": 10,
    "start_time": "2021-10-15T20:21:42.647Z"
   },
   {
    "duration": 133,
    "start_time": "2021-10-15T20:21:42.659Z"
   },
   {
    "duration": 980,
    "start_time": "2021-10-15T20:21:42.794Z"
   },
   {
    "duration": 62698,
    "start_time": "2021-10-15T20:21:43.776Z"
   },
   {
    "duration": 67,
    "start_time": "2021-10-15T20:22:46.476Z"
   },
   {
    "duration": 101273,
    "start_time": "2021-10-15T20:22:46.544Z"
   },
   {
    "duration": 106,
    "start_time": "2021-10-15T20:24:27.819Z"
   },
   {
    "duration": 11,
    "start_time": "2021-10-15T20:24:27.927Z"
   },
   {
    "duration": 284,
    "start_time": "2021-10-15T20:24:27.939Z"
   },
   {
    "duration": 7,
    "start_time": "2021-10-15T20:24:28.230Z"
   },
   {
    "duration": 4,
    "start_time": "2021-10-15T20:24:28.240Z"
   },
   {
    "duration": 10,
    "start_time": "2021-10-15T20:24:28.246Z"
   },
   {
    "duration": 135,
    "start_time": "2021-10-15T20:24:28.258Z"
   },
   {
    "duration": 379,
    "start_time": "2021-10-15T20:24:28.395Z"
   },
   {
    "duration": 11108,
    "start_time": "2021-10-15T20:24:28.776Z"
   },
   {
    "duration": 68,
    "start_time": "2021-10-15T20:24:39.886Z"
   },
   {
    "duration": 26086,
    "start_time": "2021-10-15T20:24:39.956Z"
   },
   {
    "duration": 117,
    "start_time": "2021-10-15T20:25:06.043Z"
   },
   {
    "duration": 37,
    "start_time": "2021-10-15T20:25:06.162Z"
   },
   {
    "duration": 256,
    "start_time": "2021-10-15T20:25:06.200Z"
   },
   {
    "duration": 5,
    "start_time": "2021-10-15T20:25:06.458Z"
   },
   {
    "duration": 551,
    "start_time": "2021-10-15T20:25:06.465Z"
   },
   {
    "duration": 884,
    "start_time": "2021-10-15T20:25:07.018Z"
   },
   {
    "duration": 192145,
    "start_time": "2021-10-15T20:25:07.903Z"
   },
   {
    "duration": 7,
    "start_time": "2021-10-15T20:28:20.049Z"
   },
   {
    "duration": 11,
    "start_time": "2021-10-15T20:28:20.058Z"
   },
   {
    "duration": 6,
    "start_time": "2021-10-15T20:28:20.070Z"
   },
   {
    "duration": 658,
    "start_time": "2021-10-15T20:28:20.077Z"
   },
   {
    "duration": 441,
    "start_time": "2021-10-15T20:28:20.736Z"
   },
   {
    "duration": 22890,
    "start_time": "2021-10-15T20:28:21.178Z"
   },
   {
    "duration": 80775,
    "start_time": "2021-10-15T20:28:44.070Z"
   },
   {
    "duration": 3,
    "start_time": "2021-10-15T20:30:04.847Z"
   },
   {
    "duration": 242,
    "start_time": "2021-10-15T20:30:04.852Z"
   },
   {
    "duration": 3,
    "start_time": "2021-10-15T20:30:05.096Z"
   },
   {
    "duration": 98,
    "start_time": "2021-10-15T20:30:05.101Z"
   },
   {
    "duration": 17,
    "start_time": "2021-10-15T20:30:05.200Z"
   },
   {
    "duration": 14,
    "start_time": "2021-10-15T20:30:05.219Z"
   },
   {
    "duration": 8,
    "start_time": "2021-10-15T20:30:05.234Z"
   },
   {
    "duration": 14,
    "start_time": "2021-10-15T20:30:05.244Z"
   },
   {
    "duration": 37,
    "start_time": "2021-10-15T20:30:05.259Z"
   }
  ],
  "kernelspec": {
   "display_name": "Python 3",
   "language": "python",
   "name": "python3"
  },
  "language_info": {
   "codemirror_mode": {
    "name": "ipython",
    "version": 3
   },
   "file_extension": ".py",
   "mimetype": "text/x-python",
   "name": "python",
   "nbconvert_exporter": "python",
   "pygments_lexer": "ipython3",
   "version": "3.8.8"
  },
  "toc": {
   "base_numbering": 1,
   "nav_menu": {},
   "number_sections": true,
   "sideBar": true,
   "skip_h1_title": true,
   "title_cell": "Table of Contents",
   "title_sidebar": "Contents",
   "toc_cell": false,
   "toc_position": {},
   "toc_section_display": true,
   "toc_window_display": false
  }
 },
 "nbformat": 4,
 "nbformat_minor": 2
}
