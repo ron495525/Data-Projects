{
 "cells": [
  {
   "cell_type": "markdown",
   "metadata": {},
   "source": [
    "# Project Description\n",
    "You work for the OilGiant mining company.\n",
    "\n",
    "OilGiant mining company is looking to expand into new territory."
   ]
  },
  {
   "cell_type": "markdown",
   "metadata": {},
   "source": [
    "# Project's Goal\n",
    "\n",
    "Find the best place for a new well. (the region with the highest average profit with risk of loss lower than 2.5%.)\n"
   ]
  },
  {
   "cell_type": "markdown",
   "metadata": {},
   "source": [
    "<div class=\"alert alert-info\" style=\"background-color:#006a79; color:white; padding:0px 10px; border-radius:5px;\"><h2 style='margin:10px 5px'>Load, overview and prepare the data</h2>\n",
    "</div>"
   ]
  },
  {
   "cell_type": "markdown",
   "metadata": {},
   "source": [
    "updating libraries:"
   ]
  },
  {
   "cell_type": "code",
   "execution_count": 1,
   "metadata": {},
   "outputs": [
    {
     "name": "stdout",
     "output_type": "stream",
     "text": [
      "Defaulting to user installation because normal site-packages is not writeable\n",
      "Requirement already up-to-date: pandas in /home/jovyan/.local/lib/python3.7/site-packages (1.3.4)\n",
      "Requirement already satisfied, skipping upgrade: numpy>=1.17.3; platform_machine != \"aarch64\" and platform_machine != \"arm64\" and python_version < \"3.10\" in /opt/conda/lib/python3.7/site-packages (from pandas) (1.19.5)\n",
      "Requirement already satisfied, skipping upgrade: pytz>=2017.3 in /opt/conda/lib/python3.7/site-packages (from pandas) (2021.1)\n",
      "Requirement already satisfied, skipping upgrade: python-dateutil>=2.7.3 in /opt/conda/lib/python3.7/site-packages (from pandas) (2.8.1)\n",
      "Requirement already satisfied, skipping upgrade: six>=1.5 in /opt/conda/lib/python3.7/site-packages (from python-dateutil>=2.7.3->pandas) (1.15.0)\n",
      "Defaulting to user installation because normal site-packages is not writeable\n",
      "Requirement already up-to-date: seaborn in /home/jovyan/.local/lib/python3.7/site-packages (0.11.2)\n",
      "Requirement already satisfied, skipping upgrade: scipy>=1.0 in /opt/conda/lib/python3.7/site-packages (from seaborn) (1.4.1)\n",
      "Requirement already satisfied, skipping upgrade: pandas>=0.23 in /home/jovyan/.local/lib/python3.7/site-packages (from seaborn) (1.3.4)\n",
      "Requirement already satisfied, skipping upgrade: matplotlib>=2.2 in /opt/conda/lib/python3.7/site-packages (from seaborn) (3.1.0)\n",
      "Requirement already satisfied, skipping upgrade: numpy>=1.15 in /opt/conda/lib/python3.7/site-packages (from seaborn) (1.19.5)\n",
      "Requirement already satisfied, skipping upgrade: pytz>=2017.3 in /opt/conda/lib/python3.7/site-packages (from pandas>=0.23->seaborn) (2021.1)\n",
      "Requirement already satisfied, skipping upgrade: python-dateutil>=2.7.3 in /opt/conda/lib/python3.7/site-packages (from pandas>=0.23->seaborn) (2.8.1)\n",
      "Requirement already satisfied, skipping upgrade: kiwisolver>=1.0.1 in /opt/conda/lib/python3.7/site-packages (from matplotlib>=2.2->seaborn) (1.3.1)\n",
      "Requirement already satisfied, skipping upgrade: cycler>=0.10 in /opt/conda/lib/python3.7/site-packages (from matplotlib>=2.2->seaborn) (0.10.0)\n",
      "Requirement already satisfied, skipping upgrade: pyparsing!=2.0.4,!=2.1.2,!=2.1.6,>=2.0.1 in /opt/conda/lib/python3.7/site-packages (from matplotlib>=2.2->seaborn) (2.4.7)\n",
      "Requirement already satisfied, skipping upgrade: six>=1.5 in /opt/conda/lib/python3.7/site-packages (from python-dateutil>=2.7.3->pandas>=0.23->seaborn) (1.15.0)\n",
      "Defaulting to user installation because normal site-packages is not writeable\n",
      "Requirement already up-to-date: scikit-learn in /home/jovyan/.local/lib/python3.7/site-packages (1.0)\n",
      "Requirement already satisfied, skipping upgrade: numpy>=1.14.6 in /opt/conda/lib/python3.7/site-packages (from scikit-learn) (1.19.5)\n",
      "Requirement already satisfied, skipping upgrade: joblib>=0.11 in /opt/conda/lib/python3.7/site-packages (from scikit-learn) (1.0.1)\n",
      "Requirement already satisfied, skipping upgrade: threadpoolctl>=2.0.0 in /home/jovyan/.local/lib/python3.7/site-packages (from scikit-learn) (3.0.0)\n",
      "Requirement already satisfied, skipping upgrade: scipy>=1.1.0 in /opt/conda/lib/python3.7/site-packages (from scikit-learn) (1.4.1)\n"
     ]
    }
   ],
   "source": [
    "!pip install pandas --upgrade\n",
    "!pip install seaborn --upgrade    \n",
    "!pip install -U scikit-learn --upgrade "
   ]
  },
  {
   "cell_type": "markdown",
   "metadata": {},
   "source": [
    "Import libraries:"
   ]
  },
  {
   "cell_type": "code",
   "execution_count": 2,
   "metadata": {},
   "outputs": [],
   "source": [
    "import pandas as pd\n",
    "import numpy as np\n",
    "\n",
    "from sklearn.linear_model import LinearRegression\n",
    "from sklearn.metrics import r2_score\n",
    "from sklearn.metrics import mean_squared_error\n",
    "from sklearn.metrics import mean_absolute_error\n",
    "from sklearn.pipeline import Pipeline\n",
    "from sklearn.preprocessing import StandardScaler\n",
    "from sklearn.preprocessing import MinMaxScaler\n",
    "from sklearn.model_selection import cross_val_score\n",
    "from sklearn.model_selection import cross_validate\n",
    "from sklearn.dummy import DummyRegressor\n",
    "\n",
    "import matplotlib.pyplot as plt\n",
    "import seaborn as sns\n",
    "\n",
    "from sklearn.model_selection import train_test_split\n",
    "\n",
    "import scipy.stats as st\n",
    "import math as mt\n",
    "\n",
    "#ignoring warning\n",
    "import warnings\n",
    "warnings.filterwarnings(\"ignore\")"
   ]
  },
  {
   "cell_type": "code",
   "execution_count": 3,
   "metadata": {},
   "outputs": [],
   "source": [
    "pd.set_option('display.float_format', lambda x: '%.3f' % x)"
   ]
  },
  {
   "cell_type": "markdown",
   "metadata": {},
   "source": [
    "make a try-except block in order to avoid file path error when working both locally and remotely."
   ]
  },
  {
   "cell_type": "code",
   "execution_count": 4,
   "metadata": {},
   "outputs": [],
   "source": [
    "try:\n",
    "    df0 = pd.read_csv('geo_data_0.csv')\n",
    "    df1 = pd.read_csv('geo_data_1.csv')\n",
    "    df2 = pd.read_csv('geo_data_2.csv')\n",
    "    \n",
    "except:   \n",
    "    df0 = pd.read_csv('/datasets/geo_data_0.csv')\n",
    "    df1 = pd.read_csv('/datasets/geo_data_1.csv')\n",
    "    df2 = pd.read_csv('/datasets/geo_data_2.csv')"
   ]
  },
  {
   "cell_type": "markdown",
   "metadata": {},
   "source": [
    "### df0:"
   ]
  },
  {
   "cell_type": "markdown",
   "metadata": {},
   "source": [
    "Check the table's first 5 rows to see the general information."
   ]
  },
  {
   "cell_type": "code",
   "execution_count": 5,
   "metadata": {},
   "outputs": [
    {
     "data": {
      "text/html": [
       "<div>\n",
       "<style scoped>\n",
       "    .dataframe tbody tr th:only-of-type {\n",
       "        vertical-align: middle;\n",
       "    }\n",
       "\n",
       "    .dataframe tbody tr th {\n",
       "        vertical-align: top;\n",
       "    }\n",
       "\n",
       "    .dataframe thead th {\n",
       "        text-align: right;\n",
       "    }\n",
       "</style>\n",
       "<table border=\"1\" class=\"dataframe\">\n",
       "  <thead>\n",
       "    <tr style=\"text-align: right;\">\n",
       "      <th></th>\n",
       "      <th>id</th>\n",
       "      <th>f0</th>\n",
       "      <th>f1</th>\n",
       "      <th>f2</th>\n",
       "      <th>product</th>\n",
       "    </tr>\n",
       "  </thead>\n",
       "  <tbody>\n",
       "    <tr>\n",
       "      <th>0</th>\n",
       "      <td>txEyH</td>\n",
       "      <td>0.706</td>\n",
       "      <td>-0.498</td>\n",
       "      <td>1.221</td>\n",
       "      <td>105.280</td>\n",
       "    </tr>\n",
       "    <tr>\n",
       "      <th>1</th>\n",
       "      <td>2acmU</td>\n",
       "      <td>1.335</td>\n",
       "      <td>-0.340</td>\n",
       "      <td>4.365</td>\n",
       "      <td>73.038</td>\n",
       "    </tr>\n",
       "    <tr>\n",
       "      <th>2</th>\n",
       "      <td>409Wp</td>\n",
       "      <td>1.023</td>\n",
       "      <td>0.152</td>\n",
       "      <td>1.420</td>\n",
       "      <td>85.266</td>\n",
       "    </tr>\n",
       "    <tr>\n",
       "      <th>3</th>\n",
       "      <td>iJLyR</td>\n",
       "      <td>-0.032</td>\n",
       "      <td>0.139</td>\n",
       "      <td>2.979</td>\n",
       "      <td>168.621</td>\n",
       "    </tr>\n",
       "    <tr>\n",
       "      <th>4</th>\n",
       "      <td>Xdl7t</td>\n",
       "      <td>1.988</td>\n",
       "      <td>0.155</td>\n",
       "      <td>4.752</td>\n",
       "      <td>154.037</td>\n",
       "    </tr>\n",
       "  </tbody>\n",
       "</table>\n",
       "</div>"
      ],
      "text/plain": [
       "      id     f0     f1    f2  product\n",
       "0  txEyH  0.706 -0.498 1.221  105.280\n",
       "1  2acmU  1.335 -0.340 4.365   73.038\n",
       "2  409Wp  1.023  0.152 1.420   85.266\n",
       "3  iJLyR -0.032  0.139 2.979  168.621\n",
       "4  Xdl7t  1.988  0.155 4.752  154.037"
      ]
     },
     "execution_count": 5,
     "metadata": {},
     "output_type": "execute_result"
    }
   ],
   "source": [
    "df0.head()"
   ]
  },
  {
   "cell_type": "markdown",
   "metadata": {},
   "source": [
    "Check the table's general structure:"
   ]
  },
  {
   "cell_type": "code",
   "execution_count": 6,
   "metadata": {},
   "outputs": [
    {
     "name": "stdout",
     "output_type": "stream",
     "text": [
      "<class 'pandas.core.frame.DataFrame'>\n",
      "RangeIndex: 100000 entries, 0 to 99999\n",
      "Data columns (total 5 columns):\n",
      " #   Column   Non-Null Count   Dtype  \n",
      "---  ------   --------------   -----  \n",
      " 0   id       100000 non-null  object \n",
      " 1   f0       100000 non-null  float64\n",
      " 2   f1       100000 non-null  float64\n",
      " 3   f2       100000 non-null  float64\n",
      " 4   product  100000 non-null  float64\n",
      "dtypes: float64(4), object(1)\n",
      "memory usage: 3.8+ MB\n"
     ]
    }
   ],
   "source": [
    "df0.info()"
   ]
  },
  {
   "cell_type": "markdown",
   "metadata": {},
   "source": [
    "We already see we dont have missing values in df0."
   ]
  },
  {
   "cell_type": "markdown",
   "metadata": {},
   "source": [
    "Removing id column - a non-numeric variable that does not provide useful information to the model and can misslead."
   ]
  },
  {
   "cell_type": "code",
   "execution_count": 7,
   "metadata": {},
   "outputs": [],
   "source": [
    "df0 = df0.drop(['id'], axis=1)"
   ]
  },
  {
   "cell_type": "markdown",
   "metadata": {},
   "source": [
    "checking for duplicates:"
   ]
  },
  {
   "cell_type": "code",
   "execution_count": 8,
   "metadata": {},
   "outputs": [
    {
     "data": {
      "text/plain": [
       "0"
      ]
     },
     "execution_count": 8,
     "metadata": {},
     "output_type": "execute_result"
    }
   ],
   "source": [
    "df0.duplicated().sum()"
   ]
  },
  {
   "cell_type": "markdown",
   "metadata": {},
   "source": [
    "checking the table's initial statistics:"
   ]
  },
  {
   "cell_type": "code",
   "execution_count": 9,
   "metadata": {},
   "outputs": [
    {
     "data": {
      "text/html": [
       "<div>\n",
       "<style scoped>\n",
       "    .dataframe tbody tr th:only-of-type {\n",
       "        vertical-align: middle;\n",
       "    }\n",
       "\n",
       "    .dataframe tbody tr th {\n",
       "        vertical-align: top;\n",
       "    }\n",
       "\n",
       "    .dataframe thead th {\n",
       "        text-align: right;\n",
       "    }\n",
       "</style>\n",
       "<table border=\"1\" class=\"dataframe\">\n",
       "  <thead>\n",
       "    <tr style=\"text-align: right;\">\n",
       "      <th></th>\n",
       "      <th>f0</th>\n",
       "      <th>f1</th>\n",
       "      <th>f2</th>\n",
       "      <th>product</th>\n",
       "    </tr>\n",
       "  </thead>\n",
       "  <tbody>\n",
       "    <tr>\n",
       "      <th>count</th>\n",
       "      <td>100000.000</td>\n",
       "      <td>100000.000</td>\n",
       "      <td>100000.000</td>\n",
       "      <td>100000.000</td>\n",
       "    </tr>\n",
       "    <tr>\n",
       "      <th>mean</th>\n",
       "      <td>0.500</td>\n",
       "      <td>0.250</td>\n",
       "      <td>2.503</td>\n",
       "      <td>92.500</td>\n",
       "    </tr>\n",
       "    <tr>\n",
       "      <th>std</th>\n",
       "      <td>0.872</td>\n",
       "      <td>0.504</td>\n",
       "      <td>3.248</td>\n",
       "      <td>44.289</td>\n",
       "    </tr>\n",
       "    <tr>\n",
       "      <th>min</th>\n",
       "      <td>-1.409</td>\n",
       "      <td>-0.848</td>\n",
       "      <td>-12.088</td>\n",
       "      <td>0.000</td>\n",
       "    </tr>\n",
       "    <tr>\n",
       "      <th>25%</th>\n",
       "      <td>-0.073</td>\n",
       "      <td>-0.201</td>\n",
       "      <td>0.288</td>\n",
       "      <td>56.498</td>\n",
       "    </tr>\n",
       "    <tr>\n",
       "      <th>50%</th>\n",
       "      <td>0.502</td>\n",
       "      <td>0.250</td>\n",
       "      <td>2.516</td>\n",
       "      <td>91.850</td>\n",
       "    </tr>\n",
       "    <tr>\n",
       "      <th>75%</th>\n",
       "      <td>1.074</td>\n",
       "      <td>0.701</td>\n",
       "      <td>4.715</td>\n",
       "      <td>128.564</td>\n",
       "    </tr>\n",
       "    <tr>\n",
       "      <th>max</th>\n",
       "      <td>2.362</td>\n",
       "      <td>1.344</td>\n",
       "      <td>16.004</td>\n",
       "      <td>185.364</td>\n",
       "    </tr>\n",
       "  </tbody>\n",
       "</table>\n",
       "</div>"
      ],
      "text/plain": [
       "              f0         f1         f2    product\n",
       "count 100000.000 100000.000 100000.000 100000.000\n",
       "mean       0.500      0.250      2.503     92.500\n",
       "std        0.872      0.504      3.248     44.289\n",
       "min       -1.409     -0.848    -12.088      0.000\n",
       "25%       -0.073     -0.201      0.288     56.498\n",
       "50%        0.502      0.250      2.516     91.850\n",
       "75%        1.074      0.701      4.715    128.564\n",
       "max        2.362      1.344     16.004    185.364"
      ]
     },
     "execution_count": 9,
     "metadata": {},
     "output_type": "execute_result"
    }
   ],
   "source": [
    "df0.describe()"
   ]
  },
  {
   "cell_type": "markdown",
   "metadata": {},
   "source": [
    "the table's numeric features correlations:"
   ]
  },
  {
   "cell_type": "code",
   "execution_count": 10,
   "metadata": {},
   "outputs": [
    {
     "data": {
      "text/html": [
       "<div>\n",
       "<style scoped>\n",
       "    .dataframe tbody tr th:only-of-type {\n",
       "        vertical-align: middle;\n",
       "    }\n",
       "\n",
       "    .dataframe tbody tr th {\n",
       "        vertical-align: top;\n",
       "    }\n",
       "\n",
       "    .dataframe thead th {\n",
       "        text-align: right;\n",
       "    }\n",
       "</style>\n",
       "<table border=\"1\" class=\"dataframe\">\n",
       "  <thead>\n",
       "    <tr style=\"text-align: right;\">\n",
       "      <th></th>\n",
       "      <th>f0</th>\n",
       "      <th>f1</th>\n",
       "      <th>f2</th>\n",
       "      <th>product</th>\n",
       "    </tr>\n",
       "  </thead>\n",
       "  <tbody>\n",
       "    <tr>\n",
       "      <th>f0</th>\n",
       "      <td>1.000</td>\n",
       "      <td>-0.441</td>\n",
       "      <td>-0.003</td>\n",
       "      <td>0.144</td>\n",
       "    </tr>\n",
       "    <tr>\n",
       "      <th>f1</th>\n",
       "      <td>-0.441</td>\n",
       "      <td>1.000</td>\n",
       "      <td>0.002</td>\n",
       "      <td>-0.192</td>\n",
       "    </tr>\n",
       "    <tr>\n",
       "      <th>f2</th>\n",
       "      <td>-0.003</td>\n",
       "      <td>0.002</td>\n",
       "      <td>1.000</td>\n",
       "      <td>0.484</td>\n",
       "    </tr>\n",
       "    <tr>\n",
       "      <th>product</th>\n",
       "      <td>0.144</td>\n",
       "      <td>-0.192</td>\n",
       "      <td>0.484</td>\n",
       "      <td>1.000</td>\n",
       "    </tr>\n",
       "  </tbody>\n",
       "</table>\n",
       "</div>"
      ],
      "text/plain": [
       "            f0     f1     f2  product\n",
       "f0       1.000 -0.441 -0.003    0.144\n",
       "f1      -0.441  1.000  0.002   -0.192\n",
       "f2      -0.003  0.002  1.000    0.484\n",
       "product  0.144 -0.192  0.484    1.000"
      ]
     },
     "execution_count": 10,
     "metadata": {},
     "output_type": "execute_result"
    }
   ],
   "source": [
    "df0.corr()"
   ]
  },
  {
   "cell_type": "markdown",
   "metadata": {},
   "source": [
    "plotting our corr table for easier understanding:"
   ]
  },
  {
   "cell_type": "code",
   "execution_count": 11,
   "metadata": {},
   "outputs": [
    {
     "data": {
      "image/png": "[encoded data removed]",
      "text/plain": [
       "<Figure size 1152x432 with 2 Axes>"
      ]
     },
     "metadata": {
      "needs_background": "light"
     },
     "output_type": "display_data"
    }
   ],
   "source": [
    "plt.figure(figsize=(16, 6))\n",
    "heatmap = sns.heatmap(df0.corr(), vmin=-1, vmax=1, annot=True, cmap='BrBG')\n",
    "heatmap.set_title('df0 Correlation Heatmap', fontdict={'fontsize':18}, pad=12);"
   ]
  },
  {
   "cell_type": "markdown",
   "metadata": {},
   "source": [
    "##### Description:\n",
    "this heatmap shows the correlation between numeric features in our df0 dataset.\n",
    "- The strongest correlation (positive corr) is between f2 and product(our target), with value of 0.48.\n",
    "- f0 negativley correlates with f1 (-0.44)."
   ]
  },
  {
   "cell_type": "markdown",
   "metadata": {},
   "source": [
    "#### Conclusion:"
   ]
  },
  {
   "cell_type": "markdown",
   "metadata": {},
   "source": [
    "- We dont have missing values in df0\n",
    "- We dont have duplicates in df0\n",
    "- feature f2 correlates with product(target) with value of 0.48.\n",
    "- We have removed id column as it is not useful for our task and can misslead our future model."
   ]
  },
  {
   "cell_type": "markdown",
   "metadata": {},
   "source": [
    "### df1:"
   ]
  },
  {
   "cell_type": "markdown",
   "metadata": {},
   "source": [
    "Check the table's first 5 rows to see the general information."
   ]
  },
  {
   "cell_type": "code",
   "execution_count": 12,
   "metadata": {},
   "outputs": [
    {
     "data": {
      "text/html": [
       "<div>\n",
       "<style scoped>\n",
       "    .dataframe tbody tr th:only-of-type {\n",
       "        vertical-align: middle;\n",
       "    }\n",
       "\n",
       "    .dataframe tbody tr th {\n",
       "        vertical-align: top;\n",
       "    }\n",
       "\n",
       "    .dataframe thead th {\n",
       "        text-align: right;\n",
       "    }\n",
       "</style>\n",
       "<table border=\"1\" class=\"dataframe\">\n",
       "  <thead>\n",
       "    <tr style=\"text-align: right;\">\n",
       "      <th></th>\n",
       "      <th>id</th>\n",
       "      <th>f0</th>\n",
       "      <th>f1</th>\n",
       "      <th>f2</th>\n",
       "      <th>product</th>\n",
       "    </tr>\n",
       "  </thead>\n",
       "  <tbody>\n",
       "    <tr>\n",
       "      <th>0</th>\n",
       "      <td>kBEdx</td>\n",
       "      <td>-15.001</td>\n",
       "      <td>-8.276</td>\n",
       "      <td>-0.006</td>\n",
       "      <td>3.179</td>\n",
       "    </tr>\n",
       "    <tr>\n",
       "      <th>1</th>\n",
       "      <td>62mP7</td>\n",
       "      <td>14.272</td>\n",
       "      <td>-3.475</td>\n",
       "      <td>0.999</td>\n",
       "      <td>26.953</td>\n",
       "    </tr>\n",
       "    <tr>\n",
       "      <th>2</th>\n",
       "      <td>vyE1P</td>\n",
       "      <td>6.263</td>\n",
       "      <td>-5.948</td>\n",
       "      <td>5.001</td>\n",
       "      <td>134.766</td>\n",
       "    </tr>\n",
       "    <tr>\n",
       "      <th>3</th>\n",
       "      <td>KcrkZ</td>\n",
       "      <td>-13.081</td>\n",
       "      <td>-11.506</td>\n",
       "      <td>4.999</td>\n",
       "      <td>137.945</td>\n",
       "    </tr>\n",
       "    <tr>\n",
       "      <th>4</th>\n",
       "      <td>AHL4O</td>\n",
       "      <td>12.702</td>\n",
       "      <td>-8.147</td>\n",
       "      <td>5.004</td>\n",
       "      <td>134.766</td>\n",
       "    </tr>\n",
       "  </tbody>\n",
       "</table>\n",
       "</div>"
      ],
      "text/plain": [
       "      id      f0      f1     f2  product\n",
       "0  kBEdx -15.001  -8.276 -0.006    3.179\n",
       "1  62mP7  14.272  -3.475  0.999   26.953\n",
       "2  vyE1P   6.263  -5.948  5.001  134.766\n",
       "3  KcrkZ -13.081 -11.506  4.999  137.945\n",
       "4  AHL4O  12.702  -8.147  5.004  134.766"
      ]
     },
     "execution_count": 12,
     "metadata": {},
     "output_type": "execute_result"
    }
   ],
   "source": [
    "df1.head()"
   ]
  },
  {
   "cell_type": "markdown",
   "metadata": {},
   "source": [
    "Check the table's general structure:"
   ]
  },
  {
   "cell_type": "code",
   "execution_count": 13,
   "metadata": {},
   "outputs": [
    {
     "name": "stdout",
     "output_type": "stream",
     "text": [
      "<class 'pandas.core.frame.DataFrame'>\n",
      "RangeIndex: 100000 entries, 0 to 99999\n",
      "Data columns (total 5 columns):\n",
      " #   Column   Non-Null Count   Dtype  \n",
      "---  ------   --------------   -----  \n",
      " 0   id       100000 non-null  object \n",
      " 1   f0       100000 non-null  float64\n",
      " 2   f1       100000 non-null  float64\n",
      " 3   f2       100000 non-null  float64\n",
      " 4   product  100000 non-null  float64\n",
      "dtypes: float64(4), object(1)\n",
      "memory usage: 3.8+ MB\n"
     ]
    }
   ],
   "source": [
    "df1.info()"
   ]
  },
  {
   "cell_type": "markdown",
   "metadata": {},
   "source": [
    "We already see we dont have missing values in df1."
   ]
  },
  {
   "cell_type": "markdown",
   "metadata": {},
   "source": [
    "Removing id column - a non-numeric variable that does not provide useful information to the model and can misslead."
   ]
  },
  {
   "cell_type": "code",
   "execution_count": 14,
   "metadata": {},
   "outputs": [],
   "source": [
    "df1 = df1.drop(['id'], axis=1)"
   ]
  },
  {
   "cell_type": "markdown",
   "metadata": {},
   "source": [
    "Checking for duplicates"
   ]
  },
  {
   "cell_type": "code",
   "execution_count": 15,
   "metadata": {},
   "outputs": [
    {
     "data": {
      "text/plain": [
       "0"
      ]
     },
     "execution_count": 15,
     "metadata": {},
     "output_type": "execute_result"
    }
   ],
   "source": [
    "df1.duplicated().sum()"
   ]
  },
  {
   "cell_type": "markdown",
   "metadata": {},
   "source": [
    "checking the table's initial statistics:"
   ]
  },
  {
   "cell_type": "code",
   "execution_count": 16,
   "metadata": {},
   "outputs": [
    {
     "data": {
      "text/html": [
       "<div>\n",
       "<style scoped>\n",
       "    .dataframe tbody tr th:only-of-type {\n",
       "        vertical-align: middle;\n",
       "    }\n",
       "\n",
       "    .dataframe tbody tr th {\n",
       "        vertical-align: top;\n",
       "    }\n",
       "\n",
       "    .dataframe thead th {\n",
       "        text-align: right;\n",
       "    }\n",
       "</style>\n",
       "<table border=\"1\" class=\"dataframe\">\n",
       "  <thead>\n",
       "    <tr style=\"text-align: right;\">\n",
       "      <th></th>\n",
       "      <th>f0</th>\n",
       "      <th>f1</th>\n",
       "      <th>f2</th>\n",
       "      <th>product</th>\n",
       "    </tr>\n",
       "  </thead>\n",
       "  <tbody>\n",
       "    <tr>\n",
       "      <th>count</th>\n",
       "      <td>100000.000</td>\n",
       "      <td>100000.000</td>\n",
       "      <td>100000.000</td>\n",
       "      <td>100000.000</td>\n",
       "    </tr>\n",
       "    <tr>\n",
       "      <th>mean</th>\n",
       "      <td>1.141</td>\n",
       "      <td>-4.797</td>\n",
       "      <td>2.495</td>\n",
       "      <td>68.825</td>\n",
       "    </tr>\n",
       "    <tr>\n",
       "      <th>std</th>\n",
       "      <td>8.966</td>\n",
       "      <td>5.120</td>\n",
       "      <td>1.704</td>\n",
       "      <td>45.944</td>\n",
       "    </tr>\n",
       "    <tr>\n",
       "      <th>min</th>\n",
       "      <td>-31.610</td>\n",
       "      <td>-26.359</td>\n",
       "      <td>-0.018</td>\n",
       "      <td>0.000</td>\n",
       "    </tr>\n",
       "    <tr>\n",
       "      <th>25%</th>\n",
       "      <td>-6.299</td>\n",
       "      <td>-8.268</td>\n",
       "      <td>1.000</td>\n",
       "      <td>26.953</td>\n",
       "    </tr>\n",
       "    <tr>\n",
       "      <th>50%</th>\n",
       "      <td>1.153</td>\n",
       "      <td>-4.813</td>\n",
       "      <td>2.011</td>\n",
       "      <td>57.086</td>\n",
       "    </tr>\n",
       "    <tr>\n",
       "      <th>75%</th>\n",
       "      <td>8.621</td>\n",
       "      <td>-1.333</td>\n",
       "      <td>4.000</td>\n",
       "      <td>107.813</td>\n",
       "    </tr>\n",
       "    <tr>\n",
       "      <th>max</th>\n",
       "      <td>29.422</td>\n",
       "      <td>18.734</td>\n",
       "      <td>5.020</td>\n",
       "      <td>137.945</td>\n",
       "    </tr>\n",
       "  </tbody>\n",
       "</table>\n",
       "</div>"
      ],
      "text/plain": [
       "              f0         f1         f2    product\n",
       "count 100000.000 100000.000 100000.000 100000.000\n",
       "mean       1.141     -4.797      2.495     68.825\n",
       "std        8.966      5.120      1.704     45.944\n",
       "min      -31.610    -26.359     -0.018      0.000\n",
       "25%       -6.299     -8.268      1.000     26.953\n",
       "50%        1.153     -4.813      2.011     57.086\n",
       "75%        8.621     -1.333      4.000    107.813\n",
       "max       29.422     18.734      5.020    137.945"
      ]
     },
     "execution_count": 16,
     "metadata": {},
     "output_type": "execute_result"
    }
   ],
   "source": [
    "df1.describe()"
   ]
  },
  {
   "cell_type": "markdown",
   "metadata": {},
   "source": [
    "the table's numeric features correlations:"
   ]
  },
  {
   "cell_type": "code",
   "execution_count": 17,
   "metadata": {},
   "outputs": [
    {
     "data": {
      "text/html": [
       "<div>\n",
       "<style scoped>\n",
       "    .dataframe tbody tr th:only-of-type {\n",
       "        vertical-align: middle;\n",
       "    }\n",
       "\n",
       "    .dataframe tbody tr th {\n",
       "        vertical-align: top;\n",
       "    }\n",
       "\n",
       "    .dataframe thead th {\n",
       "        text-align: right;\n",
       "    }\n",
       "</style>\n",
       "<table border=\"1\" class=\"dataframe\">\n",
       "  <thead>\n",
       "    <tr style=\"text-align: right;\">\n",
       "      <th></th>\n",
       "      <th>f0</th>\n",
       "      <th>f1</th>\n",
       "      <th>f2</th>\n",
       "      <th>product</th>\n",
       "    </tr>\n",
       "  </thead>\n",
       "  <tbody>\n",
       "    <tr>\n",
       "      <th>f0</th>\n",
       "      <td>1.000</td>\n",
       "      <td>0.182</td>\n",
       "      <td>-0.002</td>\n",
       "      <td>-0.030</td>\n",
       "    </tr>\n",
       "    <tr>\n",
       "      <th>f1</th>\n",
       "      <td>0.182</td>\n",
       "      <td>1.000</td>\n",
       "      <td>-0.003</td>\n",
       "      <td>-0.010</td>\n",
       "    </tr>\n",
       "    <tr>\n",
       "      <th>f2</th>\n",
       "      <td>-0.002</td>\n",
       "      <td>-0.003</td>\n",
       "      <td>1.000</td>\n",
       "      <td>0.999</td>\n",
       "    </tr>\n",
       "    <tr>\n",
       "      <th>product</th>\n",
       "      <td>-0.030</td>\n",
       "      <td>-0.010</td>\n",
       "      <td>0.999</td>\n",
       "      <td>1.000</td>\n",
       "    </tr>\n",
       "  </tbody>\n",
       "</table>\n",
       "</div>"
      ],
      "text/plain": [
       "            f0     f1     f2  product\n",
       "f0       1.000  0.182 -0.002   -0.030\n",
       "f1       0.182  1.000 -0.003   -0.010\n",
       "f2      -0.002 -0.003  1.000    0.999\n",
       "product -0.030 -0.010  0.999    1.000"
      ]
     },
     "execution_count": 17,
     "metadata": {},
     "output_type": "execute_result"
    }
   ],
   "source": [
    "df1.corr()"
   ]
  },
  {
   "cell_type": "markdown",
   "metadata": {},
   "source": [
    "plotting our corr table for better understanding:"
   ]
  },
  {
   "cell_type": "code",
   "execution_count": 18,
   "metadata": {},
   "outputs": [
    {
     "data": {
      "image/png": "[encoded data removed]",
      "text/plain": [
       "<Figure size 1152x432 with 2 Axes>"
      ]
     },
     "metadata": {
      "needs_background": "light"
     },
     "output_type": "display_data"
    }
   ],
   "source": [
    "plt.figure(figsize=(16, 6))\n",
    "heatmap = sns.heatmap(df1.corr(), vmin=-1, vmax=1, annot=True, cmap='BrBG')\n",
    "heatmap.set_title('df1 Correlation Heatmap', fontdict={'fontsize':18}, pad=12);"
   ]
  },
  {
   "cell_type": "markdown",
   "metadata": {},
   "source": [
    "##### Description:\n",
    "this heatmap shows the correlation between numeric features in our df1 dataset.\n",
    "- The strongest correlation (positive corr) is between f2 and product(our target), with value of 0.999 !."
   ]
  },
  {
   "cell_type": "markdown",
   "metadata": {},
   "source": [
    "#### Conclusion:\n",
    "- We dont have missing values in df1\n",
    "- We dont have duplicates in df1\n",
    "- feature f2 correlates heavily with product(target) with value of 0.99.\n",
    "- We have removed id column as it is not useful for our task and can misslead our future model."
   ]
  },
  {
   "cell_type": "markdown",
   "metadata": {},
   "source": [
    "### df2:"
   ]
  },
  {
   "cell_type": "markdown",
   "metadata": {},
   "source": [
    "Check the table's first 5 rows to see the general information."
   ]
  },
  {
   "cell_type": "code",
   "execution_count": 19,
   "metadata": {},
   "outputs": [
    {
     "data": {
      "text/html": [
       "<div>\n",
       "<style scoped>\n",
       "    .dataframe tbody tr th:only-of-type {\n",
       "        vertical-align: middle;\n",
       "    }\n",
       "\n",
       "    .dataframe tbody tr th {\n",
       "        vertical-align: top;\n",
       "    }\n",
       "\n",
       "    .dataframe thead th {\n",
       "        text-align: right;\n",
       "    }\n",
       "</style>\n",
       "<table border=\"1\" class=\"dataframe\">\n",
       "  <thead>\n",
       "    <tr style=\"text-align: right;\">\n",
       "      <th></th>\n",
       "      <th>id</th>\n",
       "      <th>f0</th>\n",
       "      <th>f1</th>\n",
       "      <th>f2</th>\n",
       "      <th>product</th>\n",
       "    </tr>\n",
       "  </thead>\n",
       "  <tbody>\n",
       "    <tr>\n",
       "      <th>0</th>\n",
       "      <td>fwXo0</td>\n",
       "      <td>-1.147</td>\n",
       "      <td>0.963</td>\n",
       "      <td>-0.829</td>\n",
       "      <td>27.759</td>\n",
       "    </tr>\n",
       "    <tr>\n",
       "      <th>1</th>\n",
       "      <td>WJtFt</td>\n",
       "      <td>0.263</td>\n",
       "      <td>0.270</td>\n",
       "      <td>-2.530</td>\n",
       "      <td>56.070</td>\n",
       "    </tr>\n",
       "    <tr>\n",
       "      <th>2</th>\n",
       "      <td>ovLUW</td>\n",
       "      <td>0.195</td>\n",
       "      <td>0.289</td>\n",
       "      <td>-5.586</td>\n",
       "      <td>62.872</td>\n",
       "    </tr>\n",
       "    <tr>\n",
       "      <th>3</th>\n",
       "      <td>q6cA6</td>\n",
       "      <td>2.236</td>\n",
       "      <td>-0.554</td>\n",
       "      <td>0.930</td>\n",
       "      <td>114.573</td>\n",
       "    </tr>\n",
       "    <tr>\n",
       "      <th>4</th>\n",
       "      <td>WPMUX</td>\n",
       "      <td>-0.516</td>\n",
       "      <td>1.716</td>\n",
       "      <td>5.899</td>\n",
       "      <td>149.601</td>\n",
       "    </tr>\n",
       "  </tbody>\n",
       "</table>\n",
       "</div>"
      ],
      "text/plain": [
       "      id     f0     f1     f2  product\n",
       "0  fwXo0 -1.147  0.963 -0.829   27.759\n",
       "1  WJtFt  0.263  0.270 -2.530   56.070\n",
       "2  ovLUW  0.195  0.289 -5.586   62.872\n",
       "3  q6cA6  2.236 -0.554  0.930  114.573\n",
       "4  WPMUX -0.516  1.716  5.899  149.601"
      ]
     },
     "execution_count": 19,
     "metadata": {},
     "output_type": "execute_result"
    }
   ],
   "source": [
    "df2.head()"
   ]
  },
  {
   "cell_type": "markdown",
   "metadata": {},
   "source": [
    "Check the table's general structure:"
   ]
  },
  {
   "cell_type": "code",
   "execution_count": 20,
   "metadata": {},
   "outputs": [
    {
     "name": "stdout",
     "output_type": "stream",
     "text": [
      "<class 'pandas.core.frame.DataFrame'>\n",
      "RangeIndex: 100000 entries, 0 to 99999\n",
      "Data columns (total 5 columns):\n",
      " #   Column   Non-Null Count   Dtype  \n",
      "---  ------   --------------   -----  \n",
      " 0   id       100000 non-null  object \n",
      " 1   f0       100000 non-null  float64\n",
      " 2   f1       100000 non-null  float64\n",
      " 3   f2       100000 non-null  float64\n",
      " 4   product  100000 non-null  float64\n",
      "dtypes: float64(4), object(1)\n",
      "memory usage: 3.8+ MB\n"
     ]
    }
   ],
   "source": [
    "df2.info()"
   ]
  },
  {
   "cell_type": "markdown",
   "metadata": {},
   "source": [
    "We already see we dont have missing values in df2."
   ]
  },
  {
   "cell_type": "markdown",
   "metadata": {},
   "source": [
    "Removing id column - a non-numeric variable that does not provide useful information to the model and can misslead."
   ]
  },
  {
   "cell_type": "code",
   "execution_count": 21,
   "metadata": {},
   "outputs": [],
   "source": [
    "df2 = df2.drop(['id'], axis=1)"
   ]
  },
  {
   "cell_type": "markdown",
   "metadata": {},
   "source": [
    "Checking for duplicates:"
   ]
  },
  {
   "cell_type": "code",
   "execution_count": 22,
   "metadata": {},
   "outputs": [
    {
     "data": {
      "text/plain": [
       "0"
      ]
     },
     "execution_count": 22,
     "metadata": {},
     "output_type": "execute_result"
    }
   ],
   "source": [
    "df2.duplicated().sum()"
   ]
  },
  {
   "cell_type": "markdown",
   "metadata": {},
   "source": [
    "checking the table's initial statistics:"
   ]
  },
  {
   "cell_type": "code",
   "execution_count": 23,
   "metadata": {},
   "outputs": [
    {
     "data": {
      "text/html": [
       "<div>\n",
       "<style scoped>\n",
       "    .dataframe tbody tr th:only-of-type {\n",
       "        vertical-align: middle;\n",
       "    }\n",
       "\n",
       "    .dataframe tbody tr th {\n",
       "        vertical-align: top;\n",
       "    }\n",
       "\n",
       "    .dataframe thead th {\n",
       "        text-align: right;\n",
       "    }\n",
       "</style>\n",
       "<table border=\"1\" class=\"dataframe\">\n",
       "  <thead>\n",
       "    <tr style=\"text-align: right;\">\n",
       "      <th></th>\n",
       "      <th>f0</th>\n",
       "      <th>f1</th>\n",
       "      <th>f2</th>\n",
       "      <th>product</th>\n",
       "    </tr>\n",
       "  </thead>\n",
       "  <tbody>\n",
       "    <tr>\n",
       "      <th>count</th>\n",
       "      <td>100000.000</td>\n",
       "      <td>100000.000</td>\n",
       "      <td>100000.000</td>\n",
       "      <td>100000.000</td>\n",
       "    </tr>\n",
       "    <tr>\n",
       "      <th>mean</th>\n",
       "      <td>0.002</td>\n",
       "      <td>-0.002</td>\n",
       "      <td>2.495</td>\n",
       "      <td>95.000</td>\n",
       "    </tr>\n",
       "    <tr>\n",
       "      <th>std</th>\n",
       "      <td>1.732</td>\n",
       "      <td>1.730</td>\n",
       "      <td>3.473</td>\n",
       "      <td>44.750</td>\n",
       "    </tr>\n",
       "    <tr>\n",
       "      <th>min</th>\n",
       "      <td>-8.760</td>\n",
       "      <td>-7.084</td>\n",
       "      <td>-11.970</td>\n",
       "      <td>0.000</td>\n",
       "    </tr>\n",
       "    <tr>\n",
       "      <th>25%</th>\n",
       "      <td>-1.162</td>\n",
       "      <td>-1.175</td>\n",
       "      <td>0.130</td>\n",
       "      <td>59.450</td>\n",
       "    </tr>\n",
       "    <tr>\n",
       "      <th>50%</th>\n",
       "      <td>0.009</td>\n",
       "      <td>-0.009</td>\n",
       "      <td>2.484</td>\n",
       "      <td>94.926</td>\n",
       "    </tr>\n",
       "    <tr>\n",
       "      <th>75%</th>\n",
       "      <td>1.159</td>\n",
       "      <td>1.164</td>\n",
       "      <td>4.859</td>\n",
       "      <td>130.595</td>\n",
       "    </tr>\n",
       "    <tr>\n",
       "      <th>max</th>\n",
       "      <td>7.238</td>\n",
       "      <td>7.845</td>\n",
       "      <td>16.739</td>\n",
       "      <td>190.030</td>\n",
       "    </tr>\n",
       "  </tbody>\n",
       "</table>\n",
       "</div>"
      ],
      "text/plain": [
       "              f0         f1         f2    product\n",
       "count 100000.000 100000.000 100000.000 100000.000\n",
       "mean       0.002     -0.002      2.495     95.000\n",
       "std        1.732      1.730      3.473     44.750\n",
       "min       -8.760     -7.084    -11.970      0.000\n",
       "25%       -1.162     -1.175      0.130     59.450\n",
       "50%        0.009     -0.009      2.484     94.926\n",
       "75%        1.159      1.164      4.859    130.595\n",
       "max        7.238      7.845     16.739    190.030"
      ]
     },
     "execution_count": 23,
     "metadata": {},
     "output_type": "execute_result"
    }
   ],
   "source": [
    "df2.describe()"
   ]
  },
  {
   "cell_type": "markdown",
   "metadata": {},
   "source": [
    "the table's numeric features correlations:"
   ]
  },
  {
   "cell_type": "code",
   "execution_count": 24,
   "metadata": {},
   "outputs": [
    {
     "data": {
      "text/html": [
       "<div>\n",
       "<style scoped>\n",
       "    .dataframe tbody tr th:only-of-type {\n",
       "        vertical-align: middle;\n",
       "    }\n",
       "\n",
       "    .dataframe tbody tr th {\n",
       "        vertical-align: top;\n",
       "    }\n",
       "\n",
       "    .dataframe thead th {\n",
       "        text-align: right;\n",
       "    }\n",
       "</style>\n",
       "<table border=\"1\" class=\"dataframe\">\n",
       "  <thead>\n",
       "    <tr style=\"text-align: right;\">\n",
       "      <th></th>\n",
       "      <th>f0</th>\n",
       "      <th>f1</th>\n",
       "      <th>f2</th>\n",
       "      <th>product</th>\n",
       "    </tr>\n",
       "  </thead>\n",
       "  <tbody>\n",
       "    <tr>\n",
       "      <th>f0</th>\n",
       "      <td>1.000</td>\n",
       "      <td>0.001</td>\n",
       "      <td>-0.000</td>\n",
       "      <td>-0.002</td>\n",
       "    </tr>\n",
       "    <tr>\n",
       "      <th>f1</th>\n",
       "      <td>0.001</td>\n",
       "      <td>1.000</td>\n",
       "      <td>0.001</td>\n",
       "      <td>-0.001</td>\n",
       "    </tr>\n",
       "    <tr>\n",
       "      <th>f2</th>\n",
       "      <td>-0.000</td>\n",
       "      <td>0.001</td>\n",
       "      <td>1.000</td>\n",
       "      <td>0.446</td>\n",
       "    </tr>\n",
       "    <tr>\n",
       "      <th>product</th>\n",
       "      <td>-0.002</td>\n",
       "      <td>-0.001</td>\n",
       "      <td>0.446</td>\n",
       "      <td>1.000</td>\n",
       "    </tr>\n",
       "  </tbody>\n",
       "</table>\n",
       "</div>"
      ],
      "text/plain": [
       "            f0     f1     f2  product\n",
       "f0       1.000  0.001 -0.000   -0.002\n",
       "f1       0.001  1.000  0.001   -0.001\n",
       "f2      -0.000  0.001  1.000    0.446\n",
       "product -0.002 -0.001  0.446    1.000"
      ]
     },
     "execution_count": 24,
     "metadata": {},
     "output_type": "execute_result"
    }
   ],
   "source": [
    "df2.corr()"
   ]
  },
  {
   "cell_type": "markdown",
   "metadata": {},
   "source": [
    "plotting our corr table for better understanding:"
   ]
  },
  {
   "cell_type": "code",
   "execution_count": 25,
   "metadata": {},
   "outputs": [
    {
     "data": {
      "image/png": "[encoded data removed]",
      "text/plain": [
       "<Figure size 1152x432 with 2 Axes>"
      ]
     },
     "metadata": {
      "needs_background": "light"
     },
     "output_type": "display_data"
    }
   ],
   "source": [
    "plt.figure(figsize=(16, 6))\n",
    "heatmap = sns.heatmap(df2.corr(), vmin=-1, vmax=1, annot=True, cmap='BrBG')\n",
    "heatmap.set_title('df2 Correlation Heatmap', fontdict={'fontsize':18}, pad=12);"
   ]
  },
  {
   "cell_type": "markdown",
   "metadata": {},
   "source": [
    "##### Description:\n",
    "this heatmap shows the correlation between numeric features in our df2 dataset.\n",
    "- The strongest correlation (positive corr) is between f2 and product(our target), with value of 0.45."
   ]
  },
  {
   "cell_type": "markdown",
   "metadata": {},
   "source": [
    "#### Conclusion:\n",
    "- We dont have missing values in df2\n",
    "- We dont have duplicates in df2\n",
    "- feature f2 correlates heavily with product(target) with value of 0.45.\n",
    "- We have removed id column as it is not useful for our task and can misslead our future model."
   ]
  },
  {
   "cell_type": "markdown",
   "metadata": {},
   "source": [
    "### Conclusion:\n",
    "- We have no duplicates in all dataframes.\n",
    "- We have no missing values in all dataframes.\n",
    "- We have removed the id column from all dataframes.\n",
    "- df1.f2 correlates with our target (product) at nearly perfect correlation (0.999)."
   ]
  },
  {
   "cell_type": "markdown",
   "metadata": {},
   "source": [
    "<div class=\"alert alert-info\" style=\"background-color:#006a79; color:white; padding:0px 10px; border-radius:5px;\"><h2 style='margin:10px 5px'>Model train & test for each region</h2>\n",
    "</div>"
   ]
  },
  {
   "cell_type": "markdown",
   "metadata": {},
   "source": [
    "Split the data into a training set and validation set:"
   ]
  },
  {
   "cell_type": "markdown",
   "metadata": {},
   "source": [
    "The ratio of the sets will be 75:25 (train, valid)"
   ]
  },
  {
   "cell_type": "markdown",
   "metadata": {},
   "source": [
    "### df0:"
   ]
  },
  {
   "cell_type": "markdown",
   "metadata": {},
   "source": [
    "defining random_state to be constant for all random_state usages:"
   ]
  },
  {
   "cell_type": "code",
   "execution_count": 26,
   "metadata": {},
   "outputs": [],
   "source": [
    "RANDOM_STATE = 42"
   ]
  },
  {
   "cell_type": "markdown",
   "metadata": {},
   "source": [
    "slicing features and target and printing the shapes:"
   ]
  },
  {
   "cell_type": "code",
   "execution_count": 27,
   "metadata": {},
   "outputs": [
    {
     "data": {
      "text/plain": [
       "(100000,)"
      ]
     },
     "metadata": {},
     "output_type": "display_data"
    },
    {
     "data": {
      "text/plain": [
       "(100000, 3)"
      ]
     },
     "metadata": {},
     "output_type": "display_data"
    }
   ],
   "source": [
    "target0 = df0['product']\n",
    "features0 = df0.drop(['product'], axis=1)\n",
    "display(target0.shape, features0.shape)"
   ]
  },
  {
   "cell_type": "markdown",
   "metadata": {},
   "source": [
    "splitting to training and validation sets and printing the shapes:"
   ]
  },
  {
   "cell_type": "code",
   "execution_count": 28,
   "metadata": {},
   "outputs": [
    {
     "data": {
      "text/plain": [
       "(75000, 3)"
      ]
     },
     "metadata": {},
     "output_type": "display_data"
    },
    {
     "data": {
      "text/plain": [
       "(25000, 3)"
      ]
     },
     "metadata": {},
     "output_type": "display_data"
    },
    {
     "data": {
      "text/plain": [
       "(75000,)"
      ]
     },
     "metadata": {},
     "output_type": "display_data"
    },
    {
     "data": {
      "text/plain": [
       "(25000,)"
      ]
     },
     "metadata": {},
     "output_type": "display_data"
    }
   ],
   "source": [
    "features_train0, features_valid0, target_train0, target_valid0 = train_test_split(\n",
    "    features0, target0, test_size=0.25, random_state=RANDOM_STATE)\n",
    "display(features_train0.shape, features_valid0.shape, target_train0.shape, target_valid0.shape)"
   ]
  },
  {
   "cell_type": "markdown",
   "metadata": {},
   "source": [
    "#### Scaling numeric features:"
   ]
  },
  {
   "cell_type": "markdown",
   "metadata": {},
   "source": [
    "Scaling features across the entire dataset can lead to a data leak. We will only fit the scaler on the train set. We will then use the fitted scaler and apply it to our other set."
   ]
  },
  {
   "cell_type": "code",
   "execution_count": 29,
   "metadata": {},
   "outputs": [],
   "source": [
    "# #feature scaler\n",
    "# scaler0 = StandardScaler()\n",
    "# scaler0.fit(features_train0)\n",
    "\n",
    "# #features\n",
    "# features_train0_norm = scaler0.transform(features_train0)\n",
    "# features_valid0_norm = scaler0.transform(features_valid0)"
   ]
  },
  {
   "cell_type": "markdown",
   "metadata": {},
   "source": [
    "convert the array to a dataframe to be able to see each feature separately:"
   ]
  },
  {
   "cell_type": "code",
   "execution_count": 30,
   "metadata": {},
   "outputs": [],
   "source": [
    "# col_names = features_train0.columns\n",
    "# features_train0_norm = pd.DataFrame(features_train0_norm, columns=col_names)"
   ]
  },
  {
   "cell_type": "markdown",
   "metadata": {},
   "source": [
    "#### Model training"
   ]
  },
  {
   "cell_type": "code",
   "execution_count": 31,
   "metadata": {},
   "outputs": [
    {
     "name": "stdout",
     "output_type": "stream",
     "text": [
      "RMSE: 37.76\n",
      "Average volume of product predicted: 92.4\n"
     ]
    }
   ],
   "source": [
    "model0 = LinearRegression()\n",
    "\n",
    "model0.fit(features_train0, target_train0)\n",
    "\n",
    "predicted_valid0 = model0.predict(features_valid0)\n",
    "\n",
    "# calculate RMSE score\n",
    "print('RMSE:', round(mean_squared_error(target_valid0, predicted_valid0, squared=False), 2))\n",
    "\n",
    "# calculate Average volume of product predicted.\n",
    "print('Average volume of product predicted:', round(predicted_valid0.mean(), 2))"
   ]
  },
  {
   "cell_type": "markdown",
   "metadata": {},
   "source": [
    "dataframe containing the target and predictions:"
   ]
  },
  {
   "cell_type": "code",
   "execution_count": 32,
   "metadata": {},
   "outputs": [
    {
     "data": {
      "text/html": [
       "<div>\n",
       "<style scoped>\n",
       "    .dataframe tbody tr th:only-of-type {\n",
       "        vertical-align: middle;\n",
       "    }\n",
       "\n",
       "    .dataframe tbody tr th {\n",
       "        vertical-align: top;\n",
       "    }\n",
       "\n",
       "    .dataframe thead th {\n",
       "        text-align: right;\n",
       "    }\n",
       "</style>\n",
       "<table border=\"1\" class=\"dataframe\">\n",
       "  <thead>\n",
       "    <tr style=\"text-align: right;\">\n",
       "      <th></th>\n",
       "      <th>product</th>\n",
       "      <th>predicted</th>\n",
       "    </tr>\n",
       "  </thead>\n",
       "  <tbody>\n",
       "    <tr>\n",
       "      <th>75721</th>\n",
       "      <td>122.073</td>\n",
       "      <td>101.901</td>\n",
       "    </tr>\n",
       "    <tr>\n",
       "      <th>80184</th>\n",
       "      <td>48.739</td>\n",
       "      <td>78.218</td>\n",
       "    </tr>\n",
       "    <tr>\n",
       "      <th>19864</th>\n",
       "      <td>131.338</td>\n",
       "      <td>115.267</td>\n",
       "    </tr>\n",
       "    <tr>\n",
       "      <th>76699</th>\n",
       "      <td>88.328</td>\n",
       "      <td>105.619</td>\n",
       "    </tr>\n",
       "    <tr>\n",
       "      <th>92991</th>\n",
       "      <td>36.959</td>\n",
       "      <td>97.980</td>\n",
       "    </tr>\n",
       "  </tbody>\n",
       "</table>\n",
       "</div>"
      ],
      "text/plain": [
       "       product  predicted\n",
       "75721  122.073    101.901\n",
       "80184   48.739     78.218\n",
       "19864  131.338    115.267\n",
       "76699   88.328    105.619\n",
       "92991   36.959     97.980"
      ]
     },
     "execution_count": 32,
     "metadata": {},
     "output_type": "execute_result"
    }
   ],
   "source": [
    "df_target_predictions_valid0 = pd.DataFrame(target_valid0)\n",
    "df_target_predictions_valid0['predicted'] = predicted_valid0\n",
    "df_target_predictions_valid0.head()"
   ]
  },
  {
   "cell_type": "markdown",
   "metadata": {},
   "source": [
    "#### Sanity check:"
   ]
  },
  {
   "cell_type": "code",
   "execution_count": 33,
   "metadata": {},
   "outputs": [
    {
     "name": "stdout",
     "output_type": "stream",
     "text": [
      "geo0's dummy RMSE: 44.27723501700235\n"
     ]
    }
   ],
   "source": [
    "dummyregressor_model0 = DummyRegressor(strategy='mean') \n",
    "\n",
    "dummyregressor_model0.fit(features_train0, target_train0)\n",
    "dummy_pred0 = dummyregressor_model0.predict(features_valid0)\n",
    "\n",
    "#print dummy RMSE:\n",
    "print('geo0\\'s dummy RMSE:',np.sqrt(mean_squared_error(target_valid0, dummy_pred0)))"
   ]
  },
  {
   "cell_type": "markdown",
   "metadata": {},
   "source": [
    "#### Conclusion:\n",
    "- Our model's RMSE is 37.76 with average predicted volume of 92.4.\n",
    "- Our model acts better than dummy regressor(baseline constant model that predicts the mean)"
   ]
  },
  {
   "cell_type": "markdown",
   "metadata": {},
   "source": [
    "### df1:"
   ]
  },
  {
   "cell_type": "markdown",
   "metadata": {},
   "source": [
    "slicing features and target and printing the shapes:"
   ]
  },
  {
   "cell_type": "code",
   "execution_count": 34,
   "metadata": {},
   "outputs": [
    {
     "data": {
      "text/plain": [
       "(100000,)"
      ]
     },
     "metadata": {},
     "output_type": "display_data"
    },
    {
     "data": {
      "text/plain": [
       "(100000, 3)"
      ]
     },
     "metadata": {},
     "output_type": "display_data"
    }
   ],
   "source": [
    "target1 = df1['product']\n",
    "features1 = df1.drop(['product'], axis=1)\n",
    "display(target1.shape, features1.shape)"
   ]
  },
  {
   "cell_type": "markdown",
   "metadata": {},
   "source": [
    "splitting to training and validation sets and printing the shapes:"
   ]
  },
  {
   "cell_type": "code",
   "execution_count": 35,
   "metadata": {},
   "outputs": [
    {
     "data": {
      "text/plain": [
       "(75000, 3)"
      ]
     },
     "metadata": {},
     "output_type": "display_data"
    },
    {
     "data": {
      "text/plain": [
       "(25000, 3)"
      ]
     },
     "metadata": {},
     "output_type": "display_data"
    },
    {
     "data": {
      "text/plain": [
       "(75000,)"
      ]
     },
     "metadata": {},
     "output_type": "display_data"
    },
    {
     "data": {
      "text/plain": [
       "(25000,)"
      ]
     },
     "metadata": {},
     "output_type": "display_data"
    }
   ],
   "source": [
    "features_train1, features_valid1, target_train1, target_valid1 = train_test_split(\n",
    "    features1, target1, test_size=0.25, random_state=RANDOM_STATE)\n",
    "display(features_train1.shape, features_valid1.shape, target_train1.shape, target_valid1.shape)"
   ]
  },
  {
   "cell_type": "markdown",
   "metadata": {},
   "source": [
    "#### Model training"
   ]
  },
  {
   "cell_type": "code",
   "execution_count": 36,
   "metadata": {},
   "outputs": [
    {
     "name": "stdout",
     "output_type": "stream",
     "text": [
      "RMSE: 0.89\n",
      "Average volume of product predicted: 68.71\n"
     ]
    }
   ],
   "source": [
    "model1 = LinearRegression()\n",
    "\n",
    "model1.fit(features_train1, target_train1)\n",
    "\n",
    "predicted_valid1 = model1.predict(features_valid1)\n",
    "\n",
    "print('RMSE:', round(mean_squared_error(target_valid1, predicted_valid1, squared=False), 2))\n",
    "\n",
    "# Calculating Average volume of product predicted.\n",
    "print('Average volume of product predicted:', round(predicted_valid1.mean(), 2))"
   ]
  },
  {
   "cell_type": "markdown",
   "metadata": {},
   "source": [
    "dataframe containing the target and predictions:"
   ]
  },
  {
   "cell_type": "code",
   "execution_count": 37,
   "metadata": {},
   "outputs": [
    {
     "data": {
      "text/html": [
       "<div>\n",
       "<style scoped>\n",
       "    .dataframe tbody tr th:only-of-type {\n",
       "        vertical-align: middle;\n",
       "    }\n",
       "\n",
       "    .dataframe tbody tr th {\n",
       "        vertical-align: top;\n",
       "    }\n",
       "\n",
       "    .dataframe thead th {\n",
       "        text-align: right;\n",
       "    }\n",
       "</style>\n",
       "<table border=\"1\" class=\"dataframe\">\n",
       "  <thead>\n",
       "    <tr style=\"text-align: right;\">\n",
       "      <th></th>\n",
       "      <th>product</th>\n",
       "      <th>predicted</th>\n",
       "    </tr>\n",
       "  </thead>\n",
       "  <tbody>\n",
       "    <tr>\n",
       "      <th>75721</th>\n",
       "      <td>0.000</td>\n",
       "      <td>0.845</td>\n",
       "    </tr>\n",
       "    <tr>\n",
       "      <th>80184</th>\n",
       "      <td>53.907</td>\n",
       "      <td>52.922</td>\n",
       "    </tr>\n",
       "    <tr>\n",
       "      <th>19864</th>\n",
       "      <td>134.766</td>\n",
       "      <td>135.110</td>\n",
       "    </tr>\n",
       "    <tr>\n",
       "      <th>76699</th>\n",
       "      <td>107.813</td>\n",
       "      <td>109.495</td>\n",
       "    </tr>\n",
       "    <tr>\n",
       "      <th>92991</th>\n",
       "      <td>0.000</td>\n",
       "      <td>-0.047</td>\n",
       "    </tr>\n",
       "  </tbody>\n",
       "</table>\n",
       "</div>"
      ],
      "text/plain": [
       "       product  predicted\n",
       "75721    0.000      0.845\n",
       "80184   53.907     52.922\n",
       "19864  134.766    135.110\n",
       "76699  107.813    109.495\n",
       "92991    0.000     -0.047"
      ]
     },
     "execution_count": 37,
     "metadata": {},
     "output_type": "execute_result"
    }
   ],
   "source": [
    "df_target_predictions_valid1 = pd.DataFrame(target_valid1)\n",
    "df_target_predictions_valid1['predicted'] = predicted_valid1\n",
    "df_target_predictions_valid1.head()"
   ]
  },
  {
   "cell_type": "markdown",
   "metadata": {},
   "source": [
    "#### Sanity check:"
   ]
  },
  {
   "cell_type": "code",
   "execution_count": 38,
   "metadata": {},
   "outputs": [
    {
     "name": "stdout",
     "output_type": "stream",
     "text": [
      "geo1's dummy RMSE: 51.75815779076904\n"
     ]
    }
   ],
   "source": [
    "dummyregressor_model1 = DummyRegressor(strategy='mean') \n",
    "\n",
    "dummyregressor_model1.fit(features_train1, target_train1)\n",
    "dummy_pred1 = dummyregressor_model0.predict(features_valid1)\n",
    "\n",
    "#print dummy RMSE:\n",
    "print('geo1\\'s dummy RMSE:',np.sqrt(mean_squared_error(target_valid1, dummy_pred1)))"
   ]
  },
  {
   "cell_type": "markdown",
   "metadata": {},
   "source": [
    "#### Conclusion:\n",
    "- Our model's RMSE is 0.89 with average predicted volume of 68.71.\n",
    "- Our model acts way better than dummy regressor(baseline constant model that predicts the mean)."
   ]
  },
  {
   "cell_type": "markdown",
   "metadata": {},
   "source": [
    "### df2:"
   ]
  },
  {
   "cell_type": "markdown",
   "metadata": {},
   "source": [
    "slicing features and target and printing their shape:"
   ]
  },
  {
   "cell_type": "code",
   "execution_count": 39,
   "metadata": {},
   "outputs": [
    {
     "data": {
      "text/plain": [
       "(100000,)"
      ]
     },
     "metadata": {},
     "output_type": "display_data"
    },
    {
     "data": {
      "text/plain": [
       "(100000, 3)"
      ]
     },
     "metadata": {},
     "output_type": "display_data"
    }
   ],
   "source": [
    "target2 = df2['product']\n",
    "features2 = df2.drop(['product'], axis=1)\n",
    "display(target2.shape, features2.shape)"
   ]
  },
  {
   "cell_type": "markdown",
   "metadata": {},
   "source": [
    "splitting to training and validation sets and printing the shapes:"
   ]
  },
  {
   "cell_type": "code",
   "execution_count": 40,
   "metadata": {},
   "outputs": [
    {
     "data": {
      "text/plain": [
       "(75000, 3)"
      ]
     },
     "metadata": {},
     "output_type": "display_data"
    },
    {
     "data": {
      "text/plain": [
       "(25000, 3)"
      ]
     },
     "metadata": {},
     "output_type": "display_data"
    },
    {
     "data": {
      "text/plain": [
       "(75000,)"
      ]
     },
     "metadata": {},
     "output_type": "display_data"
    },
    {
     "data": {
      "text/plain": [
       "(25000,)"
      ]
     },
     "metadata": {},
     "output_type": "display_data"
    }
   ],
   "source": [
    "features_train2, features_valid2, target_train2, target_valid2 = train_test_split(\n",
    "    features2, target2, test_size=0.25, random_state=RANDOM_STATE)\n",
    "display(features_train2.shape, features_valid2.shape, target_train2.shape, target_valid2.shape)"
   ]
  },
  {
   "cell_type": "markdown",
   "metadata": {},
   "source": [
    "#### model training"
   ]
  },
  {
   "cell_type": "code",
   "execution_count": 41,
   "metadata": {},
   "outputs": [
    {
     "name": "stdout",
     "output_type": "stream",
     "text": [
      "RMSE: 40.15\n",
      "Average volume of product predicted: 94.77\n"
     ]
    }
   ],
   "source": [
    "model2 = LinearRegression()\n",
    "\n",
    "# Training.\n",
    "model2.fit(features_train2, target_train2)\n",
    "\n",
    "# Predicting validation set.\n",
    "predicted_valid2 = model2.predict(features_valid2)\n",
    "\n",
    "# Calculating RMSE score.\n",
    "print('RMSE:', round(mean_squared_error(target_valid2, predicted_valid2, squared=False), 2))\n",
    "\n",
    "# Calculating Average volume of product predicted.\n",
    "print('Average volume of product predicted:', round(predicted_valid2.mean(), 2))"
   ]
  },
  {
   "cell_type": "markdown",
   "metadata": {},
   "source": [
    "dataframe containing the target and predicitions:"
   ]
  },
  {
   "cell_type": "code",
   "execution_count": 42,
   "metadata": {},
   "outputs": [
    {
     "data": {
      "text/html": [
       "<div>\n",
       "<style scoped>\n",
       "    .dataframe tbody tr th:only-of-type {\n",
       "        vertical-align: middle;\n",
       "    }\n",
       "\n",
       "    .dataframe tbody tr th {\n",
       "        vertical-align: top;\n",
       "    }\n",
       "\n",
       "    .dataframe thead th {\n",
       "        text-align: right;\n",
       "    }\n",
       "</style>\n",
       "<table border=\"1\" class=\"dataframe\">\n",
       "  <thead>\n",
       "    <tr style=\"text-align: right;\">\n",
       "      <th></th>\n",
       "      <th>product</th>\n",
       "      <th>predicted</th>\n",
       "    </tr>\n",
       "  </thead>\n",
       "  <tbody>\n",
       "    <tr>\n",
       "      <th>75721</th>\n",
       "      <td>117.441</td>\n",
       "      <td>98.302</td>\n",
       "    </tr>\n",
       "    <tr>\n",
       "      <th>80184</th>\n",
       "      <td>47.841</td>\n",
       "      <td>101.592</td>\n",
       "    </tr>\n",
       "    <tr>\n",
       "      <th>19864</th>\n",
       "      <td>45.883</td>\n",
       "      <td>52.449</td>\n",
       "    </tr>\n",
       "    <tr>\n",
       "      <th>76699</th>\n",
       "      <td>139.015</td>\n",
       "      <td>109.922</td>\n",
       "    </tr>\n",
       "    <tr>\n",
       "      <th>92991</th>\n",
       "      <td>84.004</td>\n",
       "      <td>72.412</td>\n",
       "    </tr>\n",
       "  </tbody>\n",
       "</table>\n",
       "</div>"
      ],
      "text/plain": [
       "       product  predicted\n",
       "75721  117.441     98.302\n",
       "80184   47.841    101.592\n",
       "19864   45.883     52.449\n",
       "76699  139.015    109.922\n",
       "92991   84.004     72.412"
      ]
     },
     "execution_count": 42,
     "metadata": {},
     "output_type": "execute_result"
    }
   ],
   "source": [
    "df_target_predictions_valid2 = pd.DataFrame(target_valid2)\n",
    "df_target_predictions_valid2['predicted'] = predicted_valid2\n",
    "df_target_predictions_valid2.head()"
   ]
  },
  {
   "cell_type": "markdown",
   "metadata": {},
   "source": [
    "#### sanity check:"
   ]
  },
  {
   "cell_type": "code",
   "execution_count": 43,
   "metadata": {},
   "outputs": [
    {
     "name": "stdout",
     "output_type": "stream",
     "text": [
      "geo2's dummy RMSE: 44.85733086265198\n"
     ]
    }
   ],
   "source": [
    "dummyregressor_model2 = DummyRegressor(strategy='mean') \n",
    "\n",
    "dummyregressor_model2.fit(features_train2, target_train2)\n",
    "dummy_pred2 = dummyregressor_model0.predict(features_valid2)\n",
    "\n",
    "#print dummy RMSE:\n",
    "print('geo2\\'s dummy RMSE:',np.sqrt(mean_squared_error(target_valid2, dummy_pred2)))"
   ]
  },
  {
   "cell_type": "markdown",
   "metadata": {},
   "source": [
    "#### Conclusion:\n",
    "- Our model's RMSE is 40.15 with average predicted volume of 94.77.\n",
    "- Our model acts better than dummy regressor(baseline constant model that predicts the mean)."
   ]
  },
  {
   "cell_type": "markdown",
   "metadata": {},
   "source": [
    "printing the models RMSEs & predicted volumes in a table for clear comparison:"
   ]
  },
  {
   "cell_type": "code",
   "execution_count": 44,
   "metadata": {},
   "outputs": [
    {
     "data": {
      "text/plain": [
       "94.77"
      ]
     },
     "execution_count": 44,
     "metadata": {},
     "output_type": "execute_result"
    }
   ],
   "source": [
    "round(predicted_valid2.mean(), 2)"
   ]
  },
  {
   "cell_type": "markdown",
   "metadata": {},
   "source": [
    "creating lists of the values for the table and passing it to the table and printing it:"
   ]
  },
  {
   "cell_type": "code",
   "execution_count": 45,
   "metadata": {},
   "outputs": [],
   "source": [
    "regions = ['Region 0', 'Region 1', 'Region 2']\n",
    "rmse_scores = [round(mean_squared_error(target_valid0, predicted_valid0, squared=False), 2), \n",
    "               round(mean_squared_error(target_valid1, predicted_valid1, squared=False), 2),\n",
    "               round(mean_squared_error(target_valid2, predicted_valid2, squared=False), 2)\n",
    "              ]\n",
    "\n",
    "dummy_rmse = [np.sqrt(mean_squared_error(target_valid0, dummy_pred0)), \n",
    "              np.sqrt(mean_squared_error(target_valid1, dummy_pred1)),\n",
    "              np.sqrt(mean_squared_error(target_valid2, dummy_pred2))\n",
    "             ]\n",
    "volume_predicted = [round(predicted_valid0.mean(), 2),\n",
    "                    round(predicted_valid1.mean(), 2),\n",
    "                    round(predicted_valid2.mean(), 2)\n",
    "                   ]\n",
    "\n",
    "#creating the df\n",
    "regions_df = (pd.DataFrame({'Region':regions, 'RMSE':rmse_scores, 'Dummy RMSE':dummy_rmse, \n",
    "                                'Average volume of product':volume_predicted }).sort_values(by='Region').reset_index(drop=True))"
   ]
  },
  {
   "cell_type": "code",
   "execution_count": 46,
   "metadata": {},
   "outputs": [
    {
     "data": {
      "text/html": [
       "<div>\n",
       "<style scoped>\n",
       "    .dataframe tbody tr th:only-of-type {\n",
       "        vertical-align: middle;\n",
       "    }\n",
       "\n",
       "    .dataframe tbody tr th {\n",
       "        vertical-align: top;\n",
       "    }\n",
       "\n",
       "    .dataframe thead th {\n",
       "        text-align: right;\n",
       "    }\n",
       "</style>\n",
       "<table border=\"1\" class=\"dataframe\">\n",
       "  <thead>\n",
       "    <tr style=\"text-align: right;\">\n",
       "      <th></th>\n",
       "      <th>Region</th>\n",
       "      <th>RMSE</th>\n",
       "      <th>Dummy RMSE</th>\n",
       "      <th>Average volume of product</th>\n",
       "    </tr>\n",
       "  </thead>\n",
       "  <tbody>\n",
       "    <tr>\n",
       "      <th>0</th>\n",
       "      <td>Region 0</td>\n",
       "      <td>37.760</td>\n",
       "      <td>44.277</td>\n",
       "      <td>92.400</td>\n",
       "    </tr>\n",
       "    <tr>\n",
       "      <th>1</th>\n",
       "      <td>Region 1</td>\n",
       "      <td>0.890</td>\n",
       "      <td>51.758</td>\n",
       "      <td>68.710</td>\n",
       "    </tr>\n",
       "    <tr>\n",
       "      <th>2</th>\n",
       "      <td>Region 2</td>\n",
       "      <td>40.150</td>\n",
       "      <td>44.857</td>\n",
       "      <td>94.770</td>\n",
       "    </tr>\n",
       "  </tbody>\n",
       "</table>\n",
       "</div>"
      ],
      "text/plain": [
       "     Region   RMSE  Dummy RMSE  Average volume of product\n",
       "0  Region 0 37.760      44.277                     92.400\n",
       "1  Region 1  0.890      51.758                     68.710\n",
       "2  Region 2 40.150      44.857                     94.770"
      ]
     },
     "execution_count": 46,
     "metadata": {},
     "output_type": "execute_result"
    }
   ],
   "source": [
    "regions_df"
   ]
  },
  {
   "cell_type": "markdown",
   "metadata": {},
   "source": [
    "### Conclusion:"
   ]
  },
  {
   "cell_type": "markdown",
   "metadata": {},
   "source": [
    "- Region 0 and region 2 are similar in terms of data, predictions and model quality.\n",
    "- Region 1 has the lowest RMSE with value of 0.89, probably due to its highly correlated feature that we discovered eariler.\n",
    "- Region 0 and region 2 have a higher average volume of product than region 1, but taking into consideration their error rate is about 40,than it would be reasonable to say that they might yeild a similar result to region 1."
   ]
  },
  {
   "cell_type": "markdown",
   "metadata": {},
   "source": [
    "<div class=\"alert alert-info\" style=\"background-color:#006a79; color:white; padding:0px 10px; border-radius:5px;\"><h2 style='margin:10px 5px'>Profit Calculation</h2>\n",
    "</div>"
   ]
  },
  {
   "cell_type": "markdown",
   "metadata": {},
   "source": [
    "conditions for our profit calculation function:"
   ]
  },
  {
   "cell_type": "code",
   "execution_count": 47,
   "metadata": {},
   "outputs": [],
   "source": [
    "# amount of wells to develop\n",
    "oil_wells = 200\n",
    "\n",
    "# wells development budget\n",
    "budget = 100000000\n",
    "\n",
    "# profit per barrel\n",
    "barrel_profit = 4.5\n",
    "\n",
    "# profit per unit of product\n",
    "product_profit = barrel_profit * 1000"
   ]
  },
  {
   "cell_type": "markdown",
   "metadata": {},
   "source": [
    "#### Volume of reserves sufficient for developing a new well without losses."
   ]
  },
  {
   "cell_type": "markdown",
   "metadata": {},
   "source": [
    "Checking the amount of units to break even"
   ]
  },
  {
   "cell_type": "code",
   "execution_count": 48,
   "metadata": {},
   "outputs": [
    {
     "name": "stdout",
     "output_type": "stream",
     "text": [
      "Break even (to start having profit): 111.11 units of product per well\n"
     ]
    }
   ],
   "source": [
    "well_budget = budget / oil_wells\n",
    "break_even = well_budget / product_profit\n",
    "\n",
    "print('Break even (to start having profit): {} units of product per well'.format(round(break_even, 2)))"
   ]
  },
  {
   "cell_type": "markdown",
   "metadata": {},
   "source": [
    "Average units of product of wells for each region as predicted by our model."
   ]
  },
  {
   "cell_type": "code",
   "execution_count": 49,
   "metadata": {},
   "outputs": [
    {
     "name": "stdout",
     "output_type": "stream",
     "text": [
      "Average volume of product for region 0: 92.4\n",
      "Average volume of product for region 1: 68.71\n",
      "Average volume of product for region 2: 94.77\n"
     ]
    }
   ],
   "source": [
    "x = 0\n",
    "for vp in volume_predicted:\n",
    "    print('Average volume of product for region {}: {}'.format(x, vp))\n",
    "    x += 1"
   ]
  },
  {
   "cell_type": "markdown",
   "metadata": {},
   "source": [
    "##### Conclusion:\n",
    "- The average product per well is not high enough to break even.\n",
    "- It just means that the average is probably low for more lower volume wells that are being predicted, but there are wells that have higher product volume than the average in our predictions."
   ]
  },
  {
   "cell_type": "markdown",
   "metadata": {},
   "source": [
    "#### Profit calculation function"
   ]
  },
  {
   "cell_type": "code",
   "execution_count": 50,
   "metadata": {},
   "outputs": [],
   "source": [
    "def profit_calc(wells_df, profit, amount):\n",
    "    \n",
    "    \n",
    "    wells_df = wells_df.sort_values(by=['predicted'], ascending=False).head(amount)\n",
    "    \n",
    "    \n",
    "    product_sum = wells_df['product'].sum()\n",
    "    predicted_sum = wells_df['predicted'].sum()\n",
    "    \n",
    "    # true revenue\n",
    "    revenue = product_sum * profit\n",
    "    \n",
    "    # predicted revenue\n",
    "    predicted_revenue = predicted_sum * profit\n",
    "    \n",
    "    # true profit\n",
    "    profit = revenue - 100000000\n",
    "    \n",
    "    # predicted profit\n",
    "    predicted_profit = predicted_revenue - 100000000\n",
    "    \n",
    "    return profit, predicted_profit         "
   ]
  },
  {
   "cell_type": "markdown",
   "metadata": {},
   "source": [
    "Calculating regional profits:"
   ]
  },
  {
   "cell_type": "code",
   "execution_count": 51,
   "metadata": {},
   "outputs": [],
   "source": [
    "profits = [\n",
    "          profit_calc(wells_df = df_target_predictions_valid0, profit = 4500, amount = 200),\n",
    "          profit_calc(wells_df = df_target_predictions_valid1, profit = 4500, amount = 200),\n",
    "          profit_calc(wells_df = df_target_predictions_valid2, profit = 4500, amount = 200)\n",
    "         ]"
   ]
  },
  {
   "cell_type": "code",
   "execution_count": 52,
   "metadata": {},
   "outputs": [
    {
     "name": "stdout",
     "output_type": "stream",
     "text": [
      "Profits for Region0: \n",
      "-----------------\n",
      " True profit      $ 33.59 Mil.\n",
      " Predicted profit $ 38.97 Mil.\n",
      "\n",
      "Profits for Region1: \n",
      "-----------------\n",
      " True profit      $ 24.15 Mil.\n",
      " Predicted profit $ 24.87 Mil.\n",
      "\n",
      "Profits for Region2: \n",
      "-----------------\n",
      " True profit      $ 25.99 Mil.\n",
      " Predicted profit $ 33.78 Mil.\n",
      "\n"
     ]
    }
   ],
   "source": [
    "i = 0\n",
    "for p in profits:\n",
    "    print('Profits for Region'+str(i)+': \\n-----------------\\n True profit      $',round(p[0] / 1000000, 2),'Mil.\\n Predicted profit $',round(p[1] / 1000000, 2),'Mil.\\n')\n",
    "    i += 1"
   ]
  },
  {
   "cell_type": "markdown",
   "metadata": {},
   "source": [
    "##### Conclusion:"
   ]
  },
  {
   "cell_type": "markdown",
   "metadata": {},
   "source": [
    "- At this stage, the highest true profit comes from region 0, so it is the region we shoould invest.\n",
    "- We have discapencies in region 0 and 2, due to the high error rate.\n",
    "- Region 1 predicted and true profit are almost the same."
   ]
  },
  {
   "cell_type": "markdown",
   "metadata": {},
   "source": [
    "### Risks and Profits for Each Region"
   ]
  },
  {
   "cell_type": "markdown",
   "metadata": {},
   "source": [
    "We'll use the bootstrap techinque to create a 1,000 random subsamples of our data and use it to calculate our profits."
   ]
  },
  {
   "cell_type": "code",
   "execution_count": 53,
   "metadata": {},
   "outputs": [],
   "source": [
    "def bootstrap_profit(df, reps):\n",
    "    state = np.random.RandomState(RANDOM_STATE)\n",
    "    \n",
    "    # empty df and list\n",
    "    target_subsample = pd.DataFrame(columns = ['product', 'predicted'])\n",
    "    df_highest_wells_profit = []\n",
    "    \n",
    "    # random subsample -  500 in size, picking the 200 highest predicted wells, claculating profit \n",
    "    # and appending to the list we created.\n",
    "    for i in range(reps):   \n",
    "        target_subsample = df.sample(n=500, replace=True, random_state=state)\n",
    "        profit = profit_calc(wells_df = target_subsample, profit = 4500, amount = 200)\n",
    "        df_highest_wells_profit.append(profit)\n",
    "    \n",
    "    # converting the list to dataframe.\n",
    "    return pd.DataFrame(df_highest_wells_profit, columns = ['product', 'predicted'])"
   ]
  },
  {
   "cell_type": "markdown",
   "metadata": {},
   "source": [
    "Dist plot function to see the dist of true product values and predicted values."
   ]
  },
  {
   "cell_type": "code",
   "execution_count": 54,
   "metadata": {},
   "outputs": [],
   "source": [
    "def dist_plot(df, location, size):\n",
    "    fig, axes = plt.subplots(1, 2, figsize = (size), sharey=True, sharex=True)\n",
    "    \n",
    "    sns.histplot(data=df['product'], ax=axes[0])\n",
    "    sns.histplot(data=df['predicted'], ax=axes[1])\n",
    "    \n",
    "    axes[0].set(xlabel='Profit (in mil $)', ylabel='Frequecy');\n",
    "    axes[0].set(title='Region {} Distribution of True Profit'.format(location));\n",
    "    axes[1].set(xlabel='Profit (in mil $)', ylabel='Frequecy');\n",
    "    axes[1].set(title='Region {} Distribution of Predicted Profit'.format(location));\n",
    "    \n",
    "    plt.show()"
   ]
  },
  {
   "cell_type": "code",
   "execution_count": 55,
   "metadata": {},
   "outputs": [],
   "source": [
    "regs = [\n",
    "           df_target_predictions_valid0, \n",
    "           df_target_predictions_valid1, \n",
    "           df_target_predictions_valid2\n",
    "          ]"
   ]
  },
  {
   "cell_type": "code",
   "execution_count": 56,
   "metadata": {},
   "outputs": [],
   "source": [
    "regions_profit = []\n",
    "\n",
    "i = 0\n",
    "\n",
    "for dfi in regs:\n",
    "    \n",
    "    # bootstrap_profit dataframe.\n",
    "    profit = bootstrap_profit(df = dfi, reps = 1000)\n",
    "    \n",
    "    # calculating confidence interval\n",
    "    confidence_interval = st.t.interval(\n",
    "                                        0.95, len(profit['product'])-1, \n",
    "                                        loc=profit['product'].mean(), \n",
    "                                        scale=st.sem(profit['product'])\n",
    "                                       )\n",
    "    \n",
    "    # calculating risk of losses.\n",
    "    loss_risk = (profit['product']<0).mean()\n",
    "    \n",
    "    # dict for accesibility.\n",
    "    region_dict = {\n",
    "                    'name': 'reg_'+str(i),\n",
    "                    'profit_df': profit,\n",
    "                    'average_profit': profit.mean(),\n",
    "                    'confidence_interval': confidence_interval,\n",
    "                    'loss_risk': loss_risk\n",
    "                  }\n",
    "    \n",
    "    # i for the naming scheme + 1\n",
    "    i += 1\n",
    "    \n",
    "    # appending dictto the empty list.\n",
    "    regions_profit.append(region_dict)"
   ]
  },
  {
   "cell_type": "markdown",
   "metadata": {},
   "source": [
    "Plotting different regional profits"
   ]
  },
  {
   "cell_type": "code",
   "execution_count": 57,
   "metadata": {},
   "outputs": [
    {
     "name": "stdout",
     "output_type": "stream",
     "text": [
      "Region 0\n"
     ]
    },
    {
     "data": {
      "image/png": "[encoded data removed]",
      "text/plain": [
       "<Figure size 864x360 with 2 Axes>"
      ]
     },
     "metadata": {
      "needs_background": "light"
     },
     "output_type": "display_data"
    },
    {
     "name": "stdout",
     "output_type": "stream",
     "text": [
      "Region 1\n"
     ]
    },
    {
     "data": {
      "image/png": "[encoded data removed]",
      "text/plain": [
       "<Figure size 864x360 with 2 Axes>"
      ]
     },
     "metadata": {
      "needs_background": "light"
     },
     "output_type": "display_data"
    },
    {
     "name": "stdout",
     "output_type": "stream",
     "text": [
      "Region 2\n"
     ]
    },
    {
     "data": {
      "image/png": "[encoded data removed]",
      "text/plain": [
       "<Figure size 864x360 with 2 Axes>"
      ]
     },
     "metadata": {
      "needs_background": "light"
     },
     "output_type": "display_data"
    }
   ],
   "source": [
    "r = 0\n",
    "for reg_dict in regions_profit:\n",
    "    print('Region '+str(r))\n",
    "    dist_plot(df = reg_dict['profit_df'], location = r,  size = [12, 5])\n",
    "    r += 1"
   ]
  },
  {
   "cell_type": "markdown",
   "metadata": {},
   "source": [
    "#### Description & conclusion:"
   ]
  },
  {
   "cell_type": "markdown",
   "metadata": {},
   "source": [
    "- Region 2 has the highest value of negative profits compared to the other (almost -0.5).\n",
    "- Region 1 has the lowest value of negative profits compared to the other (around -0.2).\n",
    "- Region 1 has the highest peak of profits around 0.4 mil, and it seems that it would have the highest profit out of the 3 regions.\n",
    "- region 1 predictions are the best by far."
   ]
  },
  {
   "cell_type": "code",
   "execution_count": 58,
   "metadata": {},
   "outputs": [
    {
     "name": "stdout",
     "output_type": "stream",
     "text": [
      "The Average Profit for Region0:\n",
      " True Profit: $ 4.0 mil.\n",
      " Pred Profit: $ 3.31 mil.\n",
      "\n",
      "The Average Profit for Region1:\n",
      " True Profit: $ 4.52 mil.\n",
      " Pred Profit: $ 4.5 mil.\n",
      "\n",
      "The Average Profit for Region2:\n",
      " True Profit: $ 3.75 mil.\n",
      " Pred Profit: $ 2.69 mil.\n",
      "\n"
     ]
    }
   ],
   "source": [
    "r = 0\n",
    "for reg_dict in regions_profit:\n",
    "    print('The Average Profit for Region'+str(r)+':\\n True Profit: $',round((reg_dict['average_profit'][0] / 1000000), 2),'mil.\\n Pred Profit: $',round((reg_dict['average_profit'][1] / 1000000), 2),'mil.')\n",
    "    r += 1\n",
    "    print()"
   ]
  },
  {
   "cell_type": "markdown",
   "metadata": {},
   "source": [
    "#### Conclusion:"
   ]
  },
  {
   "cell_type": "markdown",
   "metadata": {},
   "source": [
    "- The highest average profit is of region 1.\n",
    "- The estimated average profit for region 1 is very close to the real average, while the rest of the regions are relativley far."
   ]
  },
  {
   "cell_type": "markdown",
   "metadata": {},
   "source": [
    "### Confidence level"
   ]
  },
  {
   "cell_type": "code",
   "execution_count": 59,
   "metadata": {},
   "outputs": [
    {
     "name": "stdout",
     "output_type": "stream",
     "text": [
      "95% Confidence Interval Region0:\n",
      " Lower Bound: 3834659.45 \n",
      " Upper Bound: 4156850.11\n",
      "\n",
      "95% Confidence Interval Region1:\n",
      " Lower Bound: 4393369.21 \n",
      " Upper Bound: 4647608.61\n",
      "\n",
      "95% Confidence Interval Region2:\n",
      " Lower Bound: 3587346.8 \n",
      " Upper Bound: 3912851.26\n",
      "\n"
     ]
    }
   ],
   "source": [
    "r = 0\n",
    "for reg_dict in regions_profit:\n",
    "    print('95% Confidence Interval Region'+str(r)+':\\n Lower Bound:',round(reg_dict['confidence_interval'][0], 2),'\\n Upper Bound:',round(reg_dict['confidence_interval'][1], 2))    \n",
    "    r += 1\n",
    "    print()"
   ]
  },
  {
   "cell_type": "markdown",
   "metadata": {},
   "source": [
    "#### Conclusion:\n",
    "- The highest confidence level is of region 1."
   ]
  },
  {
   "cell_type": "markdown",
   "metadata": {},
   "source": [
    "### Risk of losses:"
   ]
  },
  {
   "cell_type": "code",
   "execution_count": 60,
   "metadata": {},
   "outputs": [
    {
     "name": "stdout",
     "output_type": "stream",
     "text": [
      "Risk of Losses for Region 0: 6.00%\n",
      "\n",
      "Risk of Losses for Region 1: 1.50%\n",
      "\n",
      "Risk of Losses for Region 2: 8.00%\n",
      "\n"
     ]
    }
   ],
   "source": [
    "r = 0\n",
    "for reg_dict in regions_profit:\n",
    "    print('Risk of Losses for Region '+str(r)+': {:.2%}'.format(reg_dict['loss_risk']))\n",
    "    r += 1\n",
    "    print()"
   ]
  },
  {
   "cell_type": "markdown",
   "metadata": {},
   "source": [
    "#### Conclusion:\n",
    "- Region 1 has the lowest risk of losses by a margin"
   ]
  },
  {
   "cell_type": "markdown",
   "metadata": {},
   "source": [
    "### Conclusion:"
   ]
  },
  {
   "cell_type": "markdown",
   "metadata": {},
   "source": [
    "- The highest average profit is of region 1.\n",
    "- The lowest risk is for region 1 by a significant margin.\n",
    "- The highest confidence interval is of region 1.\n",
    "- region 1 has the lowest  value of negative profits compared to the other (around -0.2).\n",
    "- region 1 has the highest peak of profits around 0.4 mil, and it seems that it would have the best profit out of the 3 regions.\n",
    "\n",
    "- The highest risk belongs to region 2.\n",
    "\n",
    "Our study shows that the best investment would come from region 1 as it has the lowest risk, the highest average profit and highest values in our confidence interval with the smallest interval."
   ]
  }
 ],
 "metadata": {
  "ExecuteTimeLog": [
   {
    "duration": 19343,
    "start_time": "2021-10-19T16:35:36.009Z"
   },
   {
    "duration": 1274,
    "start_time": "2021-10-19T16:40:26.489Z"
   },
   {
    "duration": 4,
    "start_time": "2021-10-19T16:40:35.913Z"
   },
   {
    "duration": 5,
    "start_time": "2021-10-19T16:41:15.843Z"
   },
   {
    "duration": 666,
    "start_time": "2021-10-19T16:42:17.999Z"
   },
   {
    "duration": 13,
    "start_time": "2021-10-19T16:43:07.091Z"
   },
   {
    "duration": 15,
    "start_time": "2021-10-19T16:48:30.697Z"
   },
   {
    "duration": 49,
    "start_time": "2021-10-19T16:49:17.959Z"
   },
   {
    "duration": 351,
    "start_time": "2021-10-19T16:49:50.313Z"
   },
   {
    "duration": 34,
    "start_time": "2021-10-19T16:49:53.609Z"
   },
   {
    "duration": 15,
    "start_time": "2021-10-19T16:50:18.633Z"
   },
   {
    "duration": 377,
    "start_time": "2021-10-19T16:51:02.556Z"
   },
   {
    "duration": 21513,
    "start_time": "2021-10-19T16:53:19.081Z"
   },
   {
    "duration": 13,
    "start_time": "2021-10-19T17:24:51.023Z"
   },
   {
    "duration": 9,
    "start_time": "2021-10-19T17:24:54.854Z"
   },
   {
    "duration": 17,
    "start_time": "2021-10-19T17:24:59.465Z"
   },
   {
    "duration": 7,
    "start_time": "2021-10-19T17:34:19.371Z"
   },
   {
    "duration": 32,
    "start_time": "2021-10-19T17:34:26.469Z"
   },
   {
    "duration": 34,
    "start_time": "2021-10-19T17:34:27.599Z"
   },
   {
    "duration": 14,
    "start_time": "2021-10-19T17:34:31.806Z"
   },
   {
    "duration": 395,
    "start_time": "2021-10-19T17:34:36.735Z"
   },
   {
    "duration": 4,
    "start_time": "2021-10-19T17:34:44.703Z"
   },
   {
    "duration": 9,
    "start_time": "2021-10-19T17:34:46.785Z"
   },
   {
    "duration": 34,
    "start_time": "2021-10-19T17:34:52.257Z"
   },
   {
    "duration": 34,
    "start_time": "2021-10-19T17:34:54.289Z"
   },
   {
    "duration": 14,
    "start_time": "2021-10-19T17:34:57.521Z"
   },
   {
    "duration": 428,
    "start_time": "2021-10-19T17:35:05.648Z"
   },
   {
    "duration": 4,
    "start_time": "2021-10-19T17:35:59.489Z"
   },
   {
    "duration": 27,
    "start_time": "2021-10-19T17:36:18.769Z"
   },
   {
    "duration": 24,
    "start_time": "2021-10-19T17:36:46.609Z"
   },
   {
    "duration": 34,
    "start_time": "2021-10-19T17:37:04.929Z"
   },
   {
    "duration": 16,
    "start_time": "2021-10-19T17:37:29.730Z"
   },
   {
    "duration": 420,
    "start_time": "2021-10-19T17:38:12.209Z"
   },
   {
    "duration": 9,
    "start_time": "2021-10-19T17:42:46.231Z"
   },
   {
    "duration": 13,
    "start_time": "2021-10-19T17:44:08.663Z"
   },
   {
    "duration": 5,
    "start_time": "2021-10-19T17:45:28.217Z"
   },
   {
    "duration": 61,
    "start_time": "2021-10-19T17:45:50.810Z"
   },
   {
    "duration": 32,
    "start_time": "2021-10-19T17:46:16.873Z"
   },
   {
    "duration": 13,
    "start_time": "2021-10-19T17:46:53.610Z"
   },
   {
    "duration": 363,
    "start_time": "2021-10-19T17:47:27.963Z"
   },
   {
    "duration": 6,
    "start_time": "2021-10-19T18:52:26.081Z"
   },
   {
    "duration": 3,
    "start_time": "2021-10-19T18:54:21.795Z"
   },
   {
    "duration": 17,
    "start_time": "2021-10-19T18:54:49.973Z"
   },
   {
    "duration": 8,
    "start_time": "2021-10-19T21:11:28.473Z"
   },
   {
    "duration": 4,
    "start_time": "2021-10-19T21:11:43.193Z"
   },
   {
    "duration": 9,
    "start_time": "2021-10-19T21:11:49.799Z"
   },
   {
    "duration": 837,
    "start_time": "2021-10-19T21:13:11.448Z"
   },
   {
    "duration": 209,
    "start_time": "2021-10-19T21:13:57.835Z"
   },
   {
    "duration": 628,
    "start_time": "2021-10-19T21:14:17.178Z"
   },
   {
    "duration": 204,
    "start_time": "2021-10-19T21:14:41.819Z"
   },
   {
    "duration": 488,
    "start_time": "2021-10-19T21:15:12.203Z"
   },
   {
    "duration": 530,
    "start_time": "2021-10-19T21:15:29.131Z"
   },
   {
    "duration": 218,
    "start_time": "2021-10-19T21:15:53.211Z"
   },
   {
    "duration": 497,
    "start_time": "2021-10-19T21:16:04.139Z"
   },
   {
    "duration": 211,
    "start_time": "2021-10-19T21:16:10.685Z"
   },
   {
    "duration": 205,
    "start_time": "2021-10-19T21:16:12.251Z"
   },
   {
    "duration": 208,
    "start_time": "2021-10-19T21:16:28.891Z"
   },
   {
    "duration": 464,
    "start_time": "2021-10-19T21:16:38.827Z"
   },
   {
    "duration": 477,
    "start_time": "2021-10-19T21:16:43.451Z"
   },
   {
    "duration": 327,
    "start_time": "2021-10-19T21:17:01.547Z"
   },
   {
    "duration": 211,
    "start_time": "2021-10-19T21:28:00.096Z"
   },
   {
    "duration": 245,
    "start_time": "2021-10-19T21:58:32.708Z"
   },
   {
    "duration": 262,
    "start_time": "2021-10-19T22:25:35.189Z"
   },
   {
    "duration": 4,
    "start_time": "2021-10-19T22:27:39.081Z"
   },
   {
    "duration": 335,
    "start_time": "2021-10-19T22:32:37.804Z"
   },
   {
    "duration": 277,
    "start_time": "2021-10-19T22:33:02.462Z"
   },
   {
    "duration": 8,
    "start_time": "2021-10-19T22:35:14.312Z"
   },
   {
    "duration": 428,
    "start_time": "2021-10-19T22:35:30.384Z"
   },
   {
    "duration": 6,
    "start_time": "2021-10-19T22:35:35.247Z"
   },
   {
    "duration": 6,
    "start_time": "2021-10-19T22:35:40.368Z"
   },
   {
    "duration": 7,
    "start_time": "2021-10-19T22:35:45.711Z"
   },
   {
    "duration": 3,
    "start_time": "2021-10-19T22:35:50.701Z"
   },
   {
    "duration": 6,
    "start_time": "2021-10-19T22:35:55.984Z"
   },
   {
    "duration": 15,
    "start_time": "2021-10-19T22:36:35.186Z"
   },
   {
    "duration": 423,
    "start_time": "2021-10-19T22:36:55.903Z"
   },
   {
    "duration": 5,
    "start_time": "2021-10-19T22:36:59.472Z"
   },
   {
    "duration": 5,
    "start_time": "2021-10-19T22:37:04.720Z"
   },
   {
    "duration": 5,
    "start_time": "2021-10-19T22:37:13.120Z"
   },
   {
    "duration": 3,
    "start_time": "2021-10-19T22:37:18.207Z"
   },
   {
    "duration": 7,
    "start_time": "2021-10-19T22:37:20.944Z"
   },
   {
    "duration": 14,
    "start_time": "2021-10-19T22:37:26.930Z"
   },
   {
    "duration": 10,
    "start_time": "2021-10-19T22:37:34.897Z"
   },
   {
    "duration": 245,
    "start_time": "2021-10-19T22:38:33.888Z"
   },
   {
    "duration": 4,
    "start_time": "2021-10-19T22:38:46.738Z"
   },
   {
    "duration": 415,
    "start_time": "2021-10-19T22:42:38.596Z"
   },
   {
    "duration": 7,
    "start_time": "2021-10-19T22:42:53.540Z"
   },
   {
    "duration": 7,
    "start_time": "2021-10-19T22:43:14.310Z"
   },
   {
    "duration": 23,
    "start_time": "2021-10-19T22:43:45.237Z"
   },
   {
    "duration": 3,
    "start_time": "2021-10-19T22:44:14.998Z"
   },
   {
    "duration": 21,
    "start_time": "2021-10-19T22:44:17.847Z"
   },
   {
    "duration": 21,
    "start_time": "2021-10-19T22:45:31.832Z"
   },
   {
    "duration": 7,
    "start_time": "2021-10-19T22:46:14.184Z"
   },
   {
    "duration": 23,
    "start_time": "2021-10-19T22:46:18.046Z"
   },
   {
    "duration": 9,
    "start_time": "2021-10-19T22:46:28.136Z"
   },
   {
    "duration": 21,
    "start_time": "2021-10-19T22:46:29.400Z"
   },
   {
    "duration": 22,
    "start_time": "2021-10-19T22:46:31.496Z"
   },
   {
    "duration": 25,
    "start_time": "2021-10-19T22:57:27.336Z"
   },
   {
    "duration": 448,
    "start_time": "2021-10-19T22:59:41.034Z"
   },
   {
    "duration": 7,
    "start_time": "2021-10-19T22:59:44.036Z"
   },
   {
    "duration": 7,
    "start_time": "2021-10-19T22:59:48.084Z"
   },
   {
    "duration": 6,
    "start_time": "2021-10-19T22:59:52.978Z"
   },
   {
    "duration": 3,
    "start_time": "2021-10-19T22:59:57.396Z"
   },
   {
    "duration": 6,
    "start_time": "2021-10-19T23:00:01.957Z"
   },
   {
    "duration": 15,
    "start_time": "2021-10-19T23:00:04.068Z"
   },
   {
    "duration": 22,
    "start_time": "2021-10-19T23:00:07.729Z"
   },
   {
    "duration": 8,
    "start_time": "2021-10-19T23:02:50.918Z"
   },
   {
    "duration": 301,
    "start_time": "2021-10-20T00:12:51.431Z"
   },
   {
    "duration": 5,
    "start_time": "2021-10-20T00:13:20.069Z"
   },
   {
    "duration": 6,
    "start_time": "2021-10-20T00:13:23.920Z"
   },
   {
    "duration": 271,
    "start_time": "2021-10-20T00:57:50.150Z"
   },
   {
    "duration": 6,
    "start_time": "2021-10-20T00:57:57.816Z"
   },
   {
    "duration": 16,
    "start_time": "2021-10-20T00:59:44.553Z"
   },
   {
    "duration": 5,
    "start_time": "2021-10-20T01:02:00.074Z"
   },
   {
    "duration": 210,
    "start_time": "2021-10-20T01:02:16.892Z"
   },
   {
    "duration": 5,
    "start_time": "2021-10-20T01:02:20.986Z"
   },
   {
    "duration": 5,
    "start_time": "2021-10-20T01:02:37.740Z"
   },
   {
    "duration": 5,
    "start_time": "2021-10-20T01:02:40.219Z"
   },
   {
    "duration": 22,
    "start_time": "2021-10-20T01:02:57.388Z"
   },
   {
    "duration": 14,
    "start_time": "2021-10-20T01:03:11.260Z"
   },
   {
    "duration": 12,
    "start_time": "2021-10-20T01:03:12.492Z"
   },
   {
    "duration": 10,
    "start_time": "2021-10-20T01:32:27.621Z"
   },
   {
    "duration": 8,
    "start_time": "2021-10-20T01:33:16.215Z"
   },
   {
    "duration": 6,
    "start_time": "2021-10-20T01:33:54.021Z"
   },
   {
    "duration": 7,
    "start_time": "2021-10-20T01:35:05.687Z"
   },
   {
    "duration": 6,
    "start_time": "2021-10-20T01:35:23.191Z"
   },
   {
    "duration": 17,
    "start_time": "2021-10-20T01:36:03.975Z"
   },
   {
    "duration": 5,
    "start_time": "2021-10-20T01:36:32.695Z"
   },
   {
    "duration": 18,
    "start_time": "2021-10-20T01:37:31.865Z"
   },
   {
    "duration": 9,
    "start_time": "2021-10-20T01:38:17.545Z"
   },
   {
    "duration": 5,
    "start_time": "2021-10-20T01:39:14.107Z"
   },
   {
    "duration": 6,
    "start_time": "2021-10-20T01:39:25.883Z"
   },
   {
    "duration": 5,
    "start_time": "2021-10-20T01:39:34.651Z"
   },
   {
    "duration": 4,
    "start_time": "2021-10-20T01:45:54.575Z"
   },
   {
    "duration": 5,
    "start_time": "2021-10-20T01:46:02.882Z"
   },
   {
    "duration": 88,
    "start_time": "2021-10-20T01:46:31.186Z"
   },
   {
    "duration": 5,
    "start_time": "2021-10-20T01:46:40.097Z"
   },
   {
    "duration": 7,
    "start_time": "2021-10-20T01:49:57.878Z"
   },
   {
    "duration": 268,
    "start_time": "2021-10-20T01:50:00.068Z"
   },
   {
    "duration": 4,
    "start_time": "2021-10-20T01:50:08.931Z"
   },
   {
    "duration": 7,
    "start_time": "2021-10-20T01:50:17.891Z"
   },
   {
    "duration": 5,
    "start_time": "2021-10-20T01:50:28.469Z"
   },
   {
    "duration": 5,
    "start_time": "2021-10-20T01:50:42.083Z"
   },
   {
    "duration": 7,
    "start_time": "2021-10-20T01:50:45.400Z"
   },
   {
    "duration": 9,
    "start_time": "2021-10-20T01:52:21.560Z"
   },
   {
    "duration": 6,
    "start_time": "2021-10-20T01:52:22.246Z"
   },
   {
    "duration": 3,
    "start_time": "2021-10-20T23:06:51.788Z"
   },
   {
    "duration": 4,
    "start_time": "2021-10-20T23:09:22.787Z"
   },
   {
    "duration": 4,
    "start_time": "2021-10-20T23:15:06.748Z"
   },
   {
    "duration": 90,
    "start_time": "2021-10-20T23:16:33.364Z"
   },
   {
    "duration": 4,
    "start_time": "2021-10-20T23:16:44.916Z"
   },
   {
    "duration": 108,
    "start_time": "2021-10-20T23:16:55.556Z"
   },
   {
    "duration": 4,
    "start_time": "2021-10-20T23:17:02.196Z"
   },
   {
    "duration": 3,
    "start_time": "2021-10-20T23:22:37.254Z"
   },
   {
    "duration": 14,
    "start_time": "2021-10-20T23:24:42.457Z"
   },
   {
    "duration": 4,
    "start_time": "2021-10-20T23:25:09.756Z"
   },
   {
    "duration": 6,
    "start_time": "2021-10-20T23:26:13.004Z"
   },
   {
    "duration": 5,
    "start_time": "2021-10-20T23:26:15.580Z"
   },
   {
    "duration": 4,
    "start_time": "2021-10-20T23:35:30.652Z"
   },
   {
    "duration": 4,
    "start_time": "2021-10-20T23:51:58.405Z"
   },
   {
    "duration": 2,
    "start_time": "2021-10-20T23:52:10.144Z"
   },
   {
    "duration": 291,
    "start_time": "2021-10-20T23:53:29.197Z"
   },
   {
    "duration": 532,
    "start_time": "2021-10-20T23:53:43.844Z"
   },
   {
    "duration": 594,
    "start_time": "2021-10-20T23:54:05.127Z"
   },
   {
    "duration": 4,
    "start_time": "2021-10-20T23:55:03.176Z"
   },
   {
    "duration": 4,
    "start_time": "2021-10-20T23:55:07.682Z"
   },
   {
    "duration": 2,
    "start_time": "2021-10-20T23:55:09.043Z"
   },
   {
    "duration": 1848,
    "start_time": "2021-10-20T23:55:19.735Z"
   },
   {
    "duration": 1216,
    "start_time": "2021-10-20T23:56:36.806Z"
   },
   {
    "duration": 5,
    "start_time": "2021-10-21T00:03:11.836Z"
   },
   {
    "duration": 5,
    "start_time": "2021-10-21T00:06:01.228Z"
   },
   {
    "duration": 4,
    "start_time": "2021-10-21T00:09:14.033Z"
   },
   {
    "duration": 7527,
    "start_time": "2021-10-21T00:16:37.705Z"
   },
   {
    "duration": 1195,
    "start_time": "2021-10-21T00:16:45.235Z"
   },
   {
    "duration": 2,
    "start_time": "2021-10-21T00:16:46.432Z"
   },
   {
    "duration": 441,
    "start_time": "2021-10-21T00:16:46.436Z"
   },
   {
    "duration": 12,
    "start_time": "2021-10-21T00:16:46.879Z"
   },
   {
    "duration": 14,
    "start_time": "2021-10-21T00:16:46.893Z"
   },
   {
    "duration": 5,
    "start_time": "2021-10-21T00:16:46.909Z"
   },
   {
    "duration": 55,
    "start_time": "2021-10-21T00:16:46.917Z"
   },
   {
    "duration": 31,
    "start_time": "2021-10-21T00:16:46.975Z"
   },
   {
    "duration": 13,
    "start_time": "2021-10-21T00:16:47.008Z"
   },
   {
    "duration": 402,
    "start_time": "2021-10-21T00:16:47.044Z"
   },
   {
    "duration": 8,
    "start_time": "2021-10-21T00:16:47.448Z"
   },
   {
    "duration": 20,
    "start_time": "2021-10-21T00:16:47.458Z"
   },
   {
    "duration": 5,
    "start_time": "2021-10-21T00:16:47.480Z"
   },
   {
    "duration": 43,
    "start_time": "2021-10-21T00:16:47.487Z"
   },
   {
    "duration": 34,
    "start_time": "2021-10-21T00:16:47.532Z"
   },
   {
    "duration": 12,
    "start_time": "2021-10-21T00:16:47.568Z"
   },
   {
    "duration": 370,
    "start_time": "2021-10-21T00:16:47.582Z"
   },
   {
    "duration": 8,
    "start_time": "2021-10-21T00:16:47.954Z"
   },
   {
    "duration": 15,
    "start_time": "2021-10-21T00:16:47.964Z"
   },
   {
    "duration": 6,
    "start_time": "2021-10-21T00:16:47.980Z"
   },
   {
    "duration": 60,
    "start_time": "2021-10-21T00:16:47.987Z"
   },
   {
    "duration": 33,
    "start_time": "2021-10-21T00:16:48.053Z"
   },
   {
    "duration": 13,
    "start_time": "2021-10-21T00:16:48.090Z"
   },
   {
    "duration": 424,
    "start_time": "2021-10-21T00:16:48.105Z"
   },
   {
    "duration": 3,
    "start_time": "2021-10-21T00:16:48.531Z"
   },
   {
    "duration": 14,
    "start_time": "2021-10-21T00:16:48.536Z"
   },
   {
    "duration": 20,
    "start_time": "2021-10-21T00:16:48.551Z"
   },
   {
    "duration": 2,
    "start_time": "2021-10-21T00:16:48.573Z"
   },
   {
    "duration": 5,
    "start_time": "2021-10-21T00:16:48.577Z"
   },
   {
    "duration": 63,
    "start_time": "2021-10-21T00:16:48.583Z"
   },
   {
    "duration": 100,
    "start_time": "2021-10-21T00:16:48.648Z"
   },
   {
    "duration": 6,
    "start_time": "2021-10-21T00:16:48.751Z"
   },
   {
    "duration": 10,
    "start_time": "2021-10-21T00:16:48.759Z"
   },
   {
    "duration": 19,
    "start_time": "2021-10-21T00:16:48.770Z"
   },
   {
    "duration": 63,
    "start_time": "2021-10-21T00:16:48.791Z"
   },
   {
    "duration": 188,
    "start_time": "2021-10-21T00:16:48.857Z"
   },
   {
    "duration": 6,
    "start_time": "2021-10-21T00:16:49.047Z"
   },
   {
    "duration": 7,
    "start_time": "2021-10-21T00:16:49.055Z"
   },
   {
    "duration": 34,
    "start_time": "2021-10-21T00:16:49.064Z"
   },
   {
    "duration": 47,
    "start_time": "2021-10-21T00:16:49.100Z"
   },
   {
    "duration": 96,
    "start_time": "2021-10-21T00:16:49.150Z"
   },
   {
    "duration": 6,
    "start_time": "2021-10-21T00:16:49.249Z"
   },
   {
    "duration": 7,
    "start_time": "2021-10-21T00:16:49.257Z"
   },
   {
    "duration": 10,
    "start_time": "2021-10-21T00:16:49.266Z"
   },
   {
    "duration": 8,
    "start_time": "2021-10-21T00:16:49.277Z"
   },
   {
    "duration": 58,
    "start_time": "2021-10-21T00:16:49.287Z"
   },
   {
    "duration": 3,
    "start_time": "2021-10-21T00:16:49.346Z"
   },
   {
    "duration": 11,
    "start_time": "2021-10-21T00:16:49.351Z"
   },
   {
    "duration": 6,
    "start_time": "2021-10-21T00:16:49.363Z"
   },
   {
    "duration": 17,
    "start_time": "2021-10-21T00:16:49.371Z"
   },
   {
    "duration": 5,
    "start_time": "2021-10-21T00:16:49.390Z"
   },
   {
    "duration": 5,
    "start_time": "2021-10-21T00:16:49.396Z"
   },
   {
    "duration": 5,
    "start_time": "2021-10-21T00:16:49.403Z"
   },
   {
    "duration": 7,
    "start_time": "2021-10-21T00:16:49.409Z"
   },
   {
    "duration": 1881,
    "start_time": "2021-10-21T00:16:49.418Z"
   },
   {
    "duration": 1256,
    "start_time": "2021-10-21T00:16:51.300Z"
   },
   {
    "duration": 6,
    "start_time": "2021-10-21T00:16:52.557Z"
   },
   {
    "duration": 10,
    "start_time": "2021-10-21T00:16:52.564Z"
   },
   {
    "duration": 8,
    "start_time": "2021-10-21T00:16:52.576Z"
   }
  ],
  "kernelspec": {
   "display_name": "Python 3",
   "language": "python",
   "name": "python3"
  },
  "language_info": {
   "codemirror_mode": {
    "name": "ipython",
    "version": 3
   },
   "file_extension": ".py",
   "mimetype": "text/x-python",
   "name": "python",
   "nbconvert_exporter": "python",
   "pygments_lexer": "ipython3",
   "version": "3.8.8"
  },
  "toc": {
   "base_numbering": 1,
   "nav_menu": {},
   "number_sections": true,
   "sideBar": true,
   "skip_h1_title": true,
   "title_cell": "Table of Contents",
   "title_sidebar": "Contents",
   "toc_cell": false,
   "toc_position": {},
   "toc_section_display": true,
   "toc_window_display": false
  }
 },
 "nbformat": 4,
 "nbformat_minor": 2
}
