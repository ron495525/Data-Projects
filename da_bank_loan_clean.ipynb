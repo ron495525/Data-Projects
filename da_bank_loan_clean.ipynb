{
 "cells": [
  {
   "cell_type": "markdown",
   "metadata": {},
   "source": [
    "# Analyzing borrowers’ risk of defaulting\n",
    "\n",
    "Our project is to prepare a report for a bank’s loan division. We will need to find out if a customer’s marital status and number of children has an impact on whether they will default on a loan. The bank already has some data on customers’ credit worthiness.\n",
    "\n",
    "Our report will be considered when building a **credit scoring** of a potential customer. A **credit scoring** is used to evaluate the ability of a potential borrower to repay their loan."
   ]
  },
  {
   "cell_type": "markdown",
   "metadata": {},
   "source": [
    "## Open the data file and have a look at the general information. "
   ]
  },
  {
   "cell_type": "code",
   "execution_count": 5,
   "metadata": {},
   "outputs": [
    {
     "data": {
      "text/html": [
       "<div>\n",
       "<style scoped>\n",
       "    .dataframe tbody tr th:only-of-type {\n",
       "        vertical-align: middle;\n",
       "    }\n",
       "\n",
       "    .dataframe tbody tr th {\n",
       "        vertical-align: top;\n",
       "    }\n",
       "\n",
       "    .dataframe thead th {\n",
       "        text-align: right;\n",
       "    }\n",
       "</style>\n",
       "<table border=\"1\" class=\"dataframe\">\n",
       "  <thead>\n",
       "    <tr style=\"text-align: right;\">\n",
       "      <th></th>\n",
       "      <th>children</th>\n",
       "      <th>days_employed</th>\n",
       "      <th>dob_years</th>\n",
       "      <th>education</th>\n",
       "      <th>education_id</th>\n",
       "      <th>family_status</th>\n",
       "      <th>family_status_id</th>\n",
       "      <th>gender</th>\n",
       "      <th>income_type</th>\n",
       "      <th>debt</th>\n",
       "      <th>total_income</th>\n",
       "      <th>purpose</th>\n",
       "    </tr>\n",
       "  </thead>\n",
       "  <tbody>\n",
       "    <tr>\n",
       "      <td>0</td>\n",
       "      <td>1</td>\n",
       "      <td>-8437.673028</td>\n",
       "      <td>42</td>\n",
       "      <td>bachelor's degree</td>\n",
       "      <td>0</td>\n",
       "      <td>married</td>\n",
       "      <td>0</td>\n",
       "      <td>F</td>\n",
       "      <td>employee</td>\n",
       "      <td>0</td>\n",
       "      <td>40620.102</td>\n",
       "      <td>purchase of the house</td>\n",
       "    </tr>\n",
       "    <tr>\n",
       "      <td>1</td>\n",
       "      <td>1</td>\n",
       "      <td>-4024.803754</td>\n",
       "      <td>36</td>\n",
       "      <td>secondary education</td>\n",
       "      <td>1</td>\n",
       "      <td>married</td>\n",
       "      <td>0</td>\n",
       "      <td>F</td>\n",
       "      <td>employee</td>\n",
       "      <td>0</td>\n",
       "      <td>17932.802</td>\n",
       "      <td>car purchase</td>\n",
       "    </tr>\n",
       "    <tr>\n",
       "      <td>2</td>\n",
       "      <td>0</td>\n",
       "      <td>-5623.422610</td>\n",
       "      <td>33</td>\n",
       "      <td>Secondary Education</td>\n",
       "      <td>1</td>\n",
       "      <td>married</td>\n",
       "      <td>0</td>\n",
       "      <td>M</td>\n",
       "      <td>employee</td>\n",
       "      <td>0</td>\n",
       "      <td>23341.752</td>\n",
       "      <td>purchase of the house</td>\n",
       "    </tr>\n",
       "    <tr>\n",
       "      <td>3</td>\n",
       "      <td>3</td>\n",
       "      <td>-4124.747207</td>\n",
       "      <td>32</td>\n",
       "      <td>secondary education</td>\n",
       "      <td>1</td>\n",
       "      <td>married</td>\n",
       "      <td>0</td>\n",
       "      <td>M</td>\n",
       "      <td>employee</td>\n",
       "      <td>0</td>\n",
       "      <td>42820.568</td>\n",
       "      <td>supplementary education</td>\n",
       "    </tr>\n",
       "    <tr>\n",
       "      <td>4</td>\n",
       "      <td>0</td>\n",
       "      <td>340266.072047</td>\n",
       "      <td>53</td>\n",
       "      <td>secondary education</td>\n",
       "      <td>1</td>\n",
       "      <td>civil partnership</td>\n",
       "      <td>1</td>\n",
       "      <td>F</td>\n",
       "      <td>retiree</td>\n",
       "      <td>0</td>\n",
       "      <td>25378.572</td>\n",
       "      <td>to have a wedding</td>\n",
       "    </tr>\n",
       "    <tr>\n",
       "      <td>5</td>\n",
       "      <td>0</td>\n",
       "      <td>-926.185831</td>\n",
       "      <td>27</td>\n",
       "      <td>bachelor's degree</td>\n",
       "      <td>0</td>\n",
       "      <td>civil partnership</td>\n",
       "      <td>1</td>\n",
       "      <td>M</td>\n",
       "      <td>business</td>\n",
       "      <td>0</td>\n",
       "      <td>40922.170</td>\n",
       "      <td>purchase of the house</td>\n",
       "    </tr>\n",
       "    <tr>\n",
       "      <td>6</td>\n",
       "      <td>0</td>\n",
       "      <td>-2879.202052</td>\n",
       "      <td>43</td>\n",
       "      <td>bachelor's degree</td>\n",
       "      <td>0</td>\n",
       "      <td>married</td>\n",
       "      <td>0</td>\n",
       "      <td>F</td>\n",
       "      <td>business</td>\n",
       "      <td>0</td>\n",
       "      <td>38484.156</td>\n",
       "      <td>housing transactions</td>\n",
       "    </tr>\n",
       "    <tr>\n",
       "      <td>7</td>\n",
       "      <td>0</td>\n",
       "      <td>-152.779569</td>\n",
       "      <td>50</td>\n",
       "      <td>SECONDARY EDUCATION</td>\n",
       "      <td>1</td>\n",
       "      <td>married</td>\n",
       "      <td>0</td>\n",
       "      <td>M</td>\n",
       "      <td>employee</td>\n",
       "      <td>0</td>\n",
       "      <td>21731.829</td>\n",
       "      <td>education</td>\n",
       "    </tr>\n",
       "    <tr>\n",
       "      <td>8</td>\n",
       "      <td>2</td>\n",
       "      <td>-6929.865299</td>\n",
       "      <td>35</td>\n",
       "      <td>BACHELOR'S DEGREE</td>\n",
       "      <td>0</td>\n",
       "      <td>civil partnership</td>\n",
       "      <td>1</td>\n",
       "      <td>F</td>\n",
       "      <td>employee</td>\n",
       "      <td>0</td>\n",
       "      <td>15337.093</td>\n",
       "      <td>having a wedding</td>\n",
       "    </tr>\n",
       "    <tr>\n",
       "      <td>9</td>\n",
       "      <td>0</td>\n",
       "      <td>-2188.756445</td>\n",
       "      <td>41</td>\n",
       "      <td>secondary education</td>\n",
       "      <td>1</td>\n",
       "      <td>married</td>\n",
       "      <td>0</td>\n",
       "      <td>M</td>\n",
       "      <td>employee</td>\n",
       "      <td>0</td>\n",
       "      <td>23108.150</td>\n",
       "      <td>purchase of the house for my family</td>\n",
       "    </tr>\n",
       "  </tbody>\n",
       "</table>\n",
       "</div>"
      ],
      "text/plain": [
       "   children  days_employed  dob_years            education  education_id  \\\n",
       "0         1   -8437.673028         42    bachelor's degree             0   \n",
       "1         1   -4024.803754         36  secondary education             1   \n",
       "2         0   -5623.422610         33  Secondary Education             1   \n",
       "3         3   -4124.747207         32  secondary education             1   \n",
       "4         0  340266.072047         53  secondary education             1   \n",
       "5         0    -926.185831         27    bachelor's degree             0   \n",
       "6         0   -2879.202052         43    bachelor's degree             0   \n",
       "7         0    -152.779569         50  SECONDARY EDUCATION             1   \n",
       "8         2   -6929.865299         35    BACHELOR'S DEGREE             0   \n",
       "9         0   -2188.756445         41  secondary education             1   \n",
       "\n",
       "       family_status  family_status_id gender income_type  debt  total_income  \\\n",
       "0            married                 0      F    employee     0     40620.102   \n",
       "1            married                 0      F    employee     0     17932.802   \n",
       "2            married                 0      M    employee     0     23341.752   \n",
       "3            married                 0      M    employee     0     42820.568   \n",
       "4  civil partnership                 1      F     retiree     0     25378.572   \n",
       "5  civil partnership                 1      M    business     0     40922.170   \n",
       "6            married                 0      F    business     0     38484.156   \n",
       "7            married                 0      M    employee     0     21731.829   \n",
       "8  civil partnership                 1      F    employee     0     15337.093   \n",
       "9            married                 0      M    employee     0     23108.150   \n",
       "\n",
       "                               purpose  \n",
       "0                purchase of the house  \n",
       "1                         car purchase  \n",
       "2                purchase of the house  \n",
       "3              supplementary education  \n",
       "4                    to have a wedding  \n",
       "5                purchase of the house  \n",
       "6                 housing transactions  \n",
       "7                            education  \n",
       "8                     having a wedding  \n",
       "9  purchase of the house for my family  "
      ]
     },
     "execution_count": 5,
     "metadata": {},
     "output_type": "execute_result"
    }
   ],
   "source": [
    "#import pandas library.\n",
    "import pandas as pd\n",
    "#make a try-except block in order to avoid path error.\n",
    "try:\n",
    "    df = pd.read_csv('credit_scoring_eng.csv')\n",
    "except:\n",
    "    df = pd.read_csv('/datasets/credit_scoring_eng.csv')\n",
    "    \n",
    "#check the table's first 10 rows to see the general information.     \n",
    "df.head(10)"
   ]
  },
  {
   "cell_type": "code",
   "execution_count": 2,
   "metadata": {
    "scrolled": true
   },
   "outputs": [
    {
     "name": "stdout",
     "output_type": "stream",
     "text": [
      "<class 'pandas.core.frame.DataFrame'>\n",
      "RangeIndex: 21525 entries, 0 to 21524\n",
      "Data columns (total 12 columns):\n",
      "children            21525 non-null int64\n",
      "days_employed       19351 non-null float64\n",
      "dob_years           21525 non-null int64\n",
      "education           21525 non-null object\n",
      "education_id        21525 non-null int64\n",
      "family_status       21525 non-null object\n",
      "family_status_id    21525 non-null int64\n",
      "gender              21525 non-null object\n",
      "income_type         21525 non-null object\n",
      "debt                21525 non-null int64\n",
      "total_income        19351 non-null float64\n",
      "purpose             21525 non-null object\n",
      "dtypes: float64(2), int64(5), object(5)\n",
      "memory usage: 2.0+ MB\n"
     ]
    }
   ],
   "source": [
    "#Check the table's general structure.\n",
    "df.info()\n"
   ]
  },
  {
   "cell_type": "code",
   "execution_count": 3,
   "metadata": {},
   "outputs": [
    {
     "data": {
      "text/html": [
       "<div>\n",
       "<style scoped>\n",
       "    .dataframe tbody tr th:only-of-type {\n",
       "        vertical-align: middle;\n",
       "    }\n",
       "\n",
       "    .dataframe tbody tr th {\n",
       "        vertical-align: top;\n",
       "    }\n",
       "\n",
       "    .dataframe thead th {\n",
       "        text-align: right;\n",
       "    }\n",
       "</style>\n",
       "<table border=\"1\" class=\"dataframe\">\n",
       "  <thead>\n",
       "    <tr style=\"text-align: right;\">\n",
       "      <th></th>\n",
       "      <th>children</th>\n",
       "      <th>days_employed</th>\n",
       "      <th>dob_years</th>\n",
       "      <th>education_id</th>\n",
       "      <th>family_status_id</th>\n",
       "      <th>debt</th>\n",
       "      <th>total_income</th>\n",
       "    </tr>\n",
       "  </thead>\n",
       "  <tbody>\n",
       "    <tr>\n",
       "      <td>count</td>\n",
       "      <td>21525.000000</td>\n",
       "      <td>19351.000000</td>\n",
       "      <td>21525.000000</td>\n",
       "      <td>21525.000000</td>\n",
       "      <td>21525.000000</td>\n",
       "      <td>21525.000000</td>\n",
       "      <td>19351.000000</td>\n",
       "    </tr>\n",
       "    <tr>\n",
       "      <td>mean</td>\n",
       "      <td>0.538908</td>\n",
       "      <td>63046.497661</td>\n",
       "      <td>43.293380</td>\n",
       "      <td>0.817236</td>\n",
       "      <td>0.972544</td>\n",
       "      <td>0.080883</td>\n",
       "      <td>26787.568355</td>\n",
       "    </tr>\n",
       "    <tr>\n",
       "      <td>std</td>\n",
       "      <td>1.381587</td>\n",
       "      <td>140827.311974</td>\n",
       "      <td>12.574584</td>\n",
       "      <td>0.548138</td>\n",
       "      <td>1.420324</td>\n",
       "      <td>0.272661</td>\n",
       "      <td>16475.450632</td>\n",
       "    </tr>\n",
       "    <tr>\n",
       "      <td>min</td>\n",
       "      <td>-1.000000</td>\n",
       "      <td>-18388.949901</td>\n",
       "      <td>0.000000</td>\n",
       "      <td>0.000000</td>\n",
       "      <td>0.000000</td>\n",
       "      <td>0.000000</td>\n",
       "      <td>3306.762000</td>\n",
       "    </tr>\n",
       "    <tr>\n",
       "      <td>25%</td>\n",
       "      <td>0.000000</td>\n",
       "      <td>-2747.423625</td>\n",
       "      <td>33.000000</td>\n",
       "      <td>1.000000</td>\n",
       "      <td>0.000000</td>\n",
       "      <td>0.000000</td>\n",
       "      <td>16488.504500</td>\n",
       "    </tr>\n",
       "    <tr>\n",
       "      <td>50%</td>\n",
       "      <td>0.000000</td>\n",
       "      <td>-1203.369529</td>\n",
       "      <td>42.000000</td>\n",
       "      <td>1.000000</td>\n",
       "      <td>0.000000</td>\n",
       "      <td>0.000000</td>\n",
       "      <td>23202.870000</td>\n",
       "    </tr>\n",
       "    <tr>\n",
       "      <td>75%</td>\n",
       "      <td>1.000000</td>\n",
       "      <td>-291.095954</td>\n",
       "      <td>53.000000</td>\n",
       "      <td>1.000000</td>\n",
       "      <td>1.000000</td>\n",
       "      <td>0.000000</td>\n",
       "      <td>32549.611000</td>\n",
       "    </tr>\n",
       "    <tr>\n",
       "      <td>max</td>\n",
       "      <td>20.000000</td>\n",
       "      <td>401755.400475</td>\n",
       "      <td>75.000000</td>\n",
       "      <td>4.000000</td>\n",
       "      <td>4.000000</td>\n",
       "      <td>1.000000</td>\n",
       "      <td>362496.645000</td>\n",
       "    </tr>\n",
       "  </tbody>\n",
       "</table>\n",
       "</div>"
      ],
      "text/plain": [
       "           children  days_employed     dob_years  education_id  \\\n",
       "count  21525.000000   19351.000000  21525.000000  21525.000000   \n",
       "mean       0.538908   63046.497661     43.293380      0.817236   \n",
       "std        1.381587  140827.311974     12.574584      0.548138   \n",
       "min       -1.000000  -18388.949901      0.000000      0.000000   \n",
       "25%        0.000000   -2747.423625     33.000000      1.000000   \n",
       "50%        0.000000   -1203.369529     42.000000      1.000000   \n",
       "75%        1.000000    -291.095954     53.000000      1.000000   \n",
       "max       20.000000  401755.400475     75.000000      4.000000   \n",
       "\n",
       "       family_status_id          debt   total_income  \n",
       "count      21525.000000  21525.000000   19351.000000  \n",
       "mean           0.972544      0.080883   26787.568355  \n",
       "std            1.420324      0.272661   16475.450632  \n",
       "min            0.000000      0.000000    3306.762000  \n",
       "25%            0.000000      0.000000   16488.504500  \n",
       "50%            0.000000      0.000000   23202.870000  \n",
       "75%            1.000000      0.000000   32549.611000  \n",
       "max            4.000000      1.000000  362496.645000  "
      ]
     },
     "execution_count": 3,
     "metadata": {},
     "output_type": "execute_result"
    }
   ],
   "source": [
    "#Check the table's general statistics.\n",
    "df.describe()"
   ]
  },
  {
   "cell_type": "code",
   "execution_count": 4,
   "metadata": {},
   "outputs": [
    {
     "data": {
      "text/plain": [
       "children               0\n",
       "days_employed       2174\n",
       "dob_years              0\n",
       "education              0\n",
       "education_id           0\n",
       "family_status          0\n",
       "family_status_id       0\n",
       "gender                 0\n",
       "income_type            0\n",
       "debt                   0\n",
       "total_income        2174\n",
       "purpose                0\n",
       "dtype: int64"
      ]
     },
     "execution_count": 4,
     "metadata": {},
     "output_type": "execute_result"
    }
   ],
   "source": [
    "#Show the missing values that the .info() method showed us more clear.\n",
    "df.isna().sum()"
   ]
  },
  {
   "cell_type": "code",
   "execution_count": 5,
   "metadata": {},
   "outputs": [
    {
     "data": {
      "text/plain": [
       "days_employed    0.100999\n",
       "total_income     0.100999\n",
       "dtype: float64"
      ]
     },
     "execution_count": 5,
     "metadata": {},
     "output_type": "execute_result"
    }
   ],
   "source": [
    "#how much missing values comapred to total values in column\n",
    "null_prec = df[['days_employed','total_income']].isnull().sum() / len(df)\n",
    "null_prec"
   ]
  },
  {
   "cell_type": "code",
   "execution_count": 22,
   "metadata": {},
   "outputs": [
    {
     "data": {
      "text/plain": [
       "days_employed    0.0\n",
       "total_income     0.0\n",
       "dtype: float64"
      ]
     },
     "execution_count": 22,
     "metadata": {},
     "output_type": "execute_result"
    }
   ],
   "source": [
    "df[['days_employed','total_income']].isna().mean()"
   ]
  },
  {
   "cell_type": "code",
   "execution_count": 6,
   "metadata": {
    "scrolled": true
   },
   "outputs": [
    {
     "data": {
      "text/html": [
       "<div>\n",
       "<style scoped>\n",
       "    .dataframe tbody tr th:only-of-type {\n",
       "        vertical-align: middle;\n",
       "    }\n",
       "\n",
       "    .dataframe tbody tr th {\n",
       "        vertical-align: top;\n",
       "    }\n",
       "\n",
       "    .dataframe thead th {\n",
       "        text-align: right;\n",
       "    }\n",
       "</style>\n",
       "<table border=\"1\" class=\"dataframe\">\n",
       "  <thead>\n",
       "    <tr style=\"text-align: right;\">\n",
       "      <th></th>\n",
       "      <th>children</th>\n",
       "      <th>days_employed</th>\n",
       "      <th>dob_years</th>\n",
       "      <th>education</th>\n",
       "      <th>education_id</th>\n",
       "      <th>family_status</th>\n",
       "      <th>family_status_id</th>\n",
       "      <th>gender</th>\n",
       "      <th>income_type</th>\n",
       "      <th>debt</th>\n",
       "      <th>total_income</th>\n",
       "      <th>purpose</th>\n",
       "    </tr>\n",
       "  </thead>\n",
       "  <tbody>\n",
       "    <tr>\n",
       "      <td>2849</td>\n",
       "      <td>0</td>\n",
       "      <td>NaN</td>\n",
       "      <td>41</td>\n",
       "      <td>secondary education</td>\n",
       "      <td>1</td>\n",
       "      <td>married</td>\n",
       "      <td>0</td>\n",
       "      <td>F</td>\n",
       "      <td>employee</td>\n",
       "      <td>0</td>\n",
       "      <td>NaN</td>\n",
       "      <td>purchase of the house for my family</td>\n",
       "    </tr>\n",
       "    <tr>\n",
       "      <td>4182</td>\n",
       "      <td>1</td>\n",
       "      <td>NaN</td>\n",
       "      <td>34</td>\n",
       "      <td>BACHELOR'S DEGREE</td>\n",
       "      <td>0</td>\n",
       "      <td>civil partnership</td>\n",
       "      <td>1</td>\n",
       "      <td>F</td>\n",
       "      <td>employee</td>\n",
       "      <td>0</td>\n",
       "      <td>NaN</td>\n",
       "      <td>wedding ceremony</td>\n",
       "    </tr>\n",
       "    <tr>\n",
       "      <td>4851</td>\n",
       "      <td>0</td>\n",
       "      <td>NaN</td>\n",
       "      <td>60</td>\n",
       "      <td>secondary education</td>\n",
       "      <td>1</td>\n",
       "      <td>civil partnership</td>\n",
       "      <td>1</td>\n",
       "      <td>F</td>\n",
       "      <td>retiree</td>\n",
       "      <td>0</td>\n",
       "      <td>NaN</td>\n",
       "      <td>wedding ceremony</td>\n",
       "    </tr>\n",
       "    <tr>\n",
       "      <td>5557</td>\n",
       "      <td>0</td>\n",
       "      <td>NaN</td>\n",
       "      <td>58</td>\n",
       "      <td>secondary education</td>\n",
       "      <td>1</td>\n",
       "      <td>civil partnership</td>\n",
       "      <td>1</td>\n",
       "      <td>F</td>\n",
       "      <td>retiree</td>\n",
       "      <td>0</td>\n",
       "      <td>NaN</td>\n",
       "      <td>to have a wedding</td>\n",
       "    </tr>\n",
       "    <tr>\n",
       "      <td>7808</td>\n",
       "      <td>0</td>\n",
       "      <td>NaN</td>\n",
       "      <td>57</td>\n",
       "      <td>secondary education</td>\n",
       "      <td>1</td>\n",
       "      <td>civil partnership</td>\n",
       "      <td>1</td>\n",
       "      <td>F</td>\n",
       "      <td>retiree</td>\n",
       "      <td>0</td>\n",
       "      <td>NaN</td>\n",
       "      <td>having a wedding</td>\n",
       "    </tr>\n",
       "    <tr>\n",
       "      <td>8583</td>\n",
       "      <td>0</td>\n",
       "      <td>NaN</td>\n",
       "      <td>58</td>\n",
       "      <td>bachelor's degree</td>\n",
       "      <td>0</td>\n",
       "      <td>unmarried</td>\n",
       "      <td>4</td>\n",
       "      <td>F</td>\n",
       "      <td>retiree</td>\n",
       "      <td>0</td>\n",
       "      <td>NaN</td>\n",
       "      <td>supplementary education</td>\n",
       "    </tr>\n",
       "    <tr>\n",
       "      <td>9238</td>\n",
       "      <td>2</td>\n",
       "      <td>NaN</td>\n",
       "      <td>34</td>\n",
       "      <td>secondary education</td>\n",
       "      <td>1</td>\n",
       "      <td>married</td>\n",
       "      <td>0</td>\n",
       "      <td>F</td>\n",
       "      <td>employee</td>\n",
       "      <td>0</td>\n",
       "      <td>NaN</td>\n",
       "      <td>buying property for renting out</td>\n",
       "    </tr>\n",
       "    <tr>\n",
       "      <td>9528</td>\n",
       "      <td>0</td>\n",
       "      <td>NaN</td>\n",
       "      <td>66</td>\n",
       "      <td>secondary education</td>\n",
       "      <td>1</td>\n",
       "      <td>widow / widower</td>\n",
       "      <td>2</td>\n",
       "      <td>F</td>\n",
       "      <td>retiree</td>\n",
       "      <td>0</td>\n",
       "      <td>NaN</td>\n",
       "      <td>transactions with my real estate</td>\n",
       "    </tr>\n",
       "    <tr>\n",
       "      <td>9627</td>\n",
       "      <td>0</td>\n",
       "      <td>NaN</td>\n",
       "      <td>56</td>\n",
       "      <td>secondary education</td>\n",
       "      <td>1</td>\n",
       "      <td>married</td>\n",
       "      <td>0</td>\n",
       "      <td>F</td>\n",
       "      <td>retiree</td>\n",
       "      <td>0</td>\n",
       "      <td>NaN</td>\n",
       "      <td>transactions with my real estate</td>\n",
       "    </tr>\n",
       "    <tr>\n",
       "      <td>10462</td>\n",
       "      <td>0</td>\n",
       "      <td>NaN</td>\n",
       "      <td>62</td>\n",
       "      <td>secondary education</td>\n",
       "      <td>1</td>\n",
       "      <td>married</td>\n",
       "      <td>0</td>\n",
       "      <td>F</td>\n",
       "      <td>retiree</td>\n",
       "      <td>0</td>\n",
       "      <td>NaN</td>\n",
       "      <td>buy commercial real estate</td>\n",
       "    </tr>\n",
       "    <tr>\n",
       "      <td>10697</td>\n",
       "      <td>0</td>\n",
       "      <td>NaN</td>\n",
       "      <td>40</td>\n",
       "      <td>secondary education</td>\n",
       "      <td>1</td>\n",
       "      <td>civil partnership</td>\n",
       "      <td>1</td>\n",
       "      <td>F</td>\n",
       "      <td>business</td>\n",
       "      <td>0</td>\n",
       "      <td>NaN</td>\n",
       "      <td>to have a wedding</td>\n",
       "    </tr>\n",
       "    <tr>\n",
       "      <td>10864</td>\n",
       "      <td>0</td>\n",
       "      <td>NaN</td>\n",
       "      <td>62</td>\n",
       "      <td>secondary education</td>\n",
       "      <td>1</td>\n",
       "      <td>married</td>\n",
       "      <td>0</td>\n",
       "      <td>F</td>\n",
       "      <td>retiree</td>\n",
       "      <td>0</td>\n",
       "      <td>NaN</td>\n",
       "      <td>housing renovation</td>\n",
       "    </tr>\n",
       "    <tr>\n",
       "      <td>10994</td>\n",
       "      <td>0</td>\n",
       "      <td>NaN</td>\n",
       "      <td>62</td>\n",
       "      <td>secondary education</td>\n",
       "      <td>1</td>\n",
       "      <td>married</td>\n",
       "      <td>0</td>\n",
       "      <td>F</td>\n",
       "      <td>retiree</td>\n",
       "      <td>0</td>\n",
       "      <td>NaN</td>\n",
       "      <td>housing renovation</td>\n",
       "    </tr>\n",
       "    <tr>\n",
       "      <td>11791</td>\n",
       "      <td>0</td>\n",
       "      <td>NaN</td>\n",
       "      <td>47</td>\n",
       "      <td>secondary education</td>\n",
       "      <td>1</td>\n",
       "      <td>married</td>\n",
       "      <td>0</td>\n",
       "      <td>F</td>\n",
       "      <td>employee</td>\n",
       "      <td>0</td>\n",
       "      <td>NaN</td>\n",
       "      <td>building a property</td>\n",
       "    </tr>\n",
       "    <tr>\n",
       "      <td>12373</td>\n",
       "      <td>0</td>\n",
       "      <td>NaN</td>\n",
       "      <td>58</td>\n",
       "      <td>secondary education</td>\n",
       "      <td>1</td>\n",
       "      <td>married</td>\n",
       "      <td>0</td>\n",
       "      <td>M</td>\n",
       "      <td>employee</td>\n",
       "      <td>0</td>\n",
       "      <td>NaN</td>\n",
       "      <td>buy real estate</td>\n",
       "    </tr>\n",
       "    <tr>\n",
       "      <td>12375</td>\n",
       "      <td>1</td>\n",
       "      <td>NaN</td>\n",
       "      <td>37</td>\n",
       "      <td>secondary education</td>\n",
       "      <td>1</td>\n",
       "      <td>married</td>\n",
       "      <td>0</td>\n",
       "      <td>F</td>\n",
       "      <td>employee</td>\n",
       "      <td>0</td>\n",
       "      <td>NaN</td>\n",
       "      <td>buy real estate</td>\n",
       "    </tr>\n",
       "    <tr>\n",
       "      <td>12736</td>\n",
       "      <td>0</td>\n",
       "      <td>NaN</td>\n",
       "      <td>59</td>\n",
       "      <td>secondary education</td>\n",
       "      <td>1</td>\n",
       "      <td>married</td>\n",
       "      <td>0</td>\n",
       "      <td>F</td>\n",
       "      <td>retiree</td>\n",
       "      <td>0</td>\n",
       "      <td>NaN</td>\n",
       "      <td>to become educated</td>\n",
       "    </tr>\n",
       "    <tr>\n",
       "      <td>13025</td>\n",
       "      <td>1</td>\n",
       "      <td>NaN</td>\n",
       "      <td>44</td>\n",
       "      <td>secondary education</td>\n",
       "      <td>1</td>\n",
       "      <td>married</td>\n",
       "      <td>0</td>\n",
       "      <td>F</td>\n",
       "      <td>employee</td>\n",
       "      <td>0</td>\n",
       "      <td>NaN</td>\n",
       "      <td>second-hand car purchase</td>\n",
       "    </tr>\n",
       "    <tr>\n",
       "      <td>13639</td>\n",
       "      <td>0</td>\n",
       "      <td>NaN</td>\n",
       "      <td>64</td>\n",
       "      <td>secondary education</td>\n",
       "      <td>1</td>\n",
       "      <td>married</td>\n",
       "      <td>0</td>\n",
       "      <td>F</td>\n",
       "      <td>retiree</td>\n",
       "      <td>0</td>\n",
       "      <td>NaN</td>\n",
       "      <td>car</td>\n",
       "    </tr>\n",
       "    <tr>\n",
       "      <td>13773</td>\n",
       "      <td>0</td>\n",
       "      <td>NaN</td>\n",
       "      <td>35</td>\n",
       "      <td>secondary education</td>\n",
       "      <td>1</td>\n",
       "      <td>civil partnership</td>\n",
       "      <td>1</td>\n",
       "      <td>F</td>\n",
       "      <td>employee</td>\n",
       "      <td>0</td>\n",
       "      <td>NaN</td>\n",
       "      <td>to have a wedding</td>\n",
       "    </tr>\n",
       "    <tr>\n",
       "      <td>13878</td>\n",
       "      <td>1</td>\n",
       "      <td>NaN</td>\n",
       "      <td>31</td>\n",
       "      <td>secondary education</td>\n",
       "      <td>1</td>\n",
       "      <td>married</td>\n",
       "      <td>0</td>\n",
       "      <td>F</td>\n",
       "      <td>business</td>\n",
       "      <td>0</td>\n",
       "      <td>NaN</td>\n",
       "      <td>purchase of the house</td>\n",
       "    </tr>\n",
       "    <tr>\n",
       "      <td>13942</td>\n",
       "      <td>0</td>\n",
       "      <td>NaN</td>\n",
       "      <td>44</td>\n",
       "      <td>secondary education</td>\n",
       "      <td>1</td>\n",
       "      <td>married</td>\n",
       "      <td>0</td>\n",
       "      <td>F</td>\n",
       "      <td>employee</td>\n",
       "      <td>0</td>\n",
       "      <td>NaN</td>\n",
       "      <td>car purchase</td>\n",
       "    </tr>\n",
       "    <tr>\n",
       "      <td>14432</td>\n",
       "      <td>2</td>\n",
       "      <td>NaN</td>\n",
       "      <td>36</td>\n",
       "      <td>bachelor's degree</td>\n",
       "      <td>0</td>\n",
       "      <td>married</td>\n",
       "      <td>0</td>\n",
       "      <td>F</td>\n",
       "      <td>civil servant</td>\n",
       "      <td>0</td>\n",
       "      <td>NaN</td>\n",
       "      <td>getting an education</td>\n",
       "    </tr>\n",
       "    <tr>\n",
       "      <td>14832</td>\n",
       "      <td>0</td>\n",
       "      <td>NaN</td>\n",
       "      <td>50</td>\n",
       "      <td>secondary education</td>\n",
       "      <td>1</td>\n",
       "      <td>unmarried</td>\n",
       "      <td>4</td>\n",
       "      <td>F</td>\n",
       "      <td>employee</td>\n",
       "      <td>0</td>\n",
       "      <td>NaN</td>\n",
       "      <td>property</td>\n",
       "    </tr>\n",
       "    <tr>\n",
       "      <td>15091</td>\n",
       "      <td>0</td>\n",
       "      <td>NaN</td>\n",
       "      <td>58</td>\n",
       "      <td>secondary education</td>\n",
       "      <td>1</td>\n",
       "      <td>civil partnership</td>\n",
       "      <td>1</td>\n",
       "      <td>M</td>\n",
       "      <td>employee</td>\n",
       "      <td>0</td>\n",
       "      <td>NaN</td>\n",
       "      <td>having a wedding</td>\n",
       "    </tr>\n",
       "    <tr>\n",
       "      <td>15188</td>\n",
       "      <td>0</td>\n",
       "      <td>NaN</td>\n",
       "      <td>60</td>\n",
       "      <td>secondary education</td>\n",
       "      <td>1</td>\n",
       "      <td>married</td>\n",
       "      <td>0</td>\n",
       "      <td>M</td>\n",
       "      <td>employee</td>\n",
       "      <td>0</td>\n",
       "      <td>NaN</td>\n",
       "      <td>buy real estate</td>\n",
       "    </tr>\n",
       "    <tr>\n",
       "      <td>15273</td>\n",
       "      <td>0</td>\n",
       "      <td>NaN</td>\n",
       "      <td>57</td>\n",
       "      <td>secondary education</td>\n",
       "      <td>1</td>\n",
       "      <td>civil partnership</td>\n",
       "      <td>1</td>\n",
       "      <td>F</td>\n",
       "      <td>retiree</td>\n",
       "      <td>0</td>\n",
       "      <td>NaN</td>\n",
       "      <td>wedding ceremony</td>\n",
       "    </tr>\n",
       "    <tr>\n",
       "      <td>16176</td>\n",
       "      <td>0</td>\n",
       "      <td>NaN</td>\n",
       "      <td>47</td>\n",
       "      <td>secondary education</td>\n",
       "      <td>1</td>\n",
       "      <td>married</td>\n",
       "      <td>0</td>\n",
       "      <td>F</td>\n",
       "      <td>employee</td>\n",
       "      <td>0</td>\n",
       "      <td>NaN</td>\n",
       "      <td>housing renovation</td>\n",
       "    </tr>\n",
       "    <tr>\n",
       "      <td>16378</td>\n",
       "      <td>0</td>\n",
       "      <td>NaN</td>\n",
       "      <td>46</td>\n",
       "      <td>secondary education</td>\n",
       "      <td>1</td>\n",
       "      <td>married</td>\n",
       "      <td>0</td>\n",
       "      <td>F</td>\n",
       "      <td>employee</td>\n",
       "      <td>0</td>\n",
       "      <td>NaN</td>\n",
       "      <td>university education</td>\n",
       "    </tr>\n",
       "    <tr>\n",
       "      <td>16902</td>\n",
       "      <td>2</td>\n",
       "      <td>NaN</td>\n",
       "      <td>39</td>\n",
       "      <td>secondary education</td>\n",
       "      <td>1</td>\n",
       "      <td>civil partnership</td>\n",
       "      <td>1</td>\n",
       "      <td>F</td>\n",
       "      <td>employee</td>\n",
       "      <td>0</td>\n",
       "      <td>NaN</td>\n",
       "      <td>to have a wedding</td>\n",
       "    </tr>\n",
       "    <tr>\n",
       "      <td>16904</td>\n",
       "      <td>1</td>\n",
       "      <td>NaN</td>\n",
       "      <td>32</td>\n",
       "      <td>bachelor's degree</td>\n",
       "      <td>0</td>\n",
       "      <td>married</td>\n",
       "      <td>0</td>\n",
       "      <td>F</td>\n",
       "      <td>employee</td>\n",
       "      <td>0</td>\n",
       "      <td>NaN</td>\n",
       "      <td>buying a second-hand car</td>\n",
       "    </tr>\n",
       "    <tr>\n",
       "      <td>17379</td>\n",
       "      <td>0</td>\n",
       "      <td>NaN</td>\n",
       "      <td>54</td>\n",
       "      <td>bachelor's degree</td>\n",
       "      <td>0</td>\n",
       "      <td>married</td>\n",
       "      <td>0</td>\n",
       "      <td>M</td>\n",
       "      <td>business</td>\n",
       "      <td>0</td>\n",
       "      <td>NaN</td>\n",
       "      <td>transactions with commercial real estate</td>\n",
       "    </tr>\n",
       "    <tr>\n",
       "      <td>17755</td>\n",
       "      <td>1</td>\n",
       "      <td>NaN</td>\n",
       "      <td>43</td>\n",
       "      <td>secondary education</td>\n",
       "      <td>1</td>\n",
       "      <td>married</td>\n",
       "      <td>0</td>\n",
       "      <td>M</td>\n",
       "      <td>employee</td>\n",
       "      <td>0</td>\n",
       "      <td>NaN</td>\n",
       "      <td>to become educated</td>\n",
       "    </tr>\n",
       "    <tr>\n",
       "      <td>17774</td>\n",
       "      <td>1</td>\n",
       "      <td>NaN</td>\n",
       "      <td>40</td>\n",
       "      <td>secondary education</td>\n",
       "      <td>1</td>\n",
       "      <td>civil partnership</td>\n",
       "      <td>1</td>\n",
       "      <td>F</td>\n",
       "      <td>business</td>\n",
       "      <td>0</td>\n",
       "      <td>NaN</td>\n",
       "      <td>building a real estate</td>\n",
       "    </tr>\n",
       "    <tr>\n",
       "      <td>18328</td>\n",
       "      <td>0</td>\n",
       "      <td>NaN</td>\n",
       "      <td>29</td>\n",
       "      <td>bachelor's degree</td>\n",
       "      <td>0</td>\n",
       "      <td>married</td>\n",
       "      <td>0</td>\n",
       "      <td>M</td>\n",
       "      <td>employee</td>\n",
       "      <td>0</td>\n",
       "      <td>NaN</td>\n",
       "      <td>buy residential real estate</td>\n",
       "    </tr>\n",
       "    <tr>\n",
       "      <td>18349</td>\n",
       "      <td>1</td>\n",
       "      <td>NaN</td>\n",
       "      <td>30</td>\n",
       "      <td>bachelor's degree</td>\n",
       "      <td>0</td>\n",
       "      <td>married</td>\n",
       "      <td>0</td>\n",
       "      <td>F</td>\n",
       "      <td>civil servant</td>\n",
       "      <td>0</td>\n",
       "      <td>NaN</td>\n",
       "      <td>purchase of the house for my family</td>\n",
       "    </tr>\n",
       "    <tr>\n",
       "      <td>18428</td>\n",
       "      <td>0</td>\n",
       "      <td>NaN</td>\n",
       "      <td>64</td>\n",
       "      <td>secondary education</td>\n",
       "      <td>1</td>\n",
       "      <td>married</td>\n",
       "      <td>0</td>\n",
       "      <td>F</td>\n",
       "      <td>retiree</td>\n",
       "      <td>0</td>\n",
       "      <td>NaN</td>\n",
       "      <td>housing</td>\n",
       "    </tr>\n",
       "    <tr>\n",
       "      <td>18521</td>\n",
       "      <td>0</td>\n",
       "      <td>NaN</td>\n",
       "      <td>56</td>\n",
       "      <td>secondary education</td>\n",
       "      <td>1</td>\n",
       "      <td>civil partnership</td>\n",
       "      <td>1</td>\n",
       "      <td>F</td>\n",
       "      <td>employee</td>\n",
       "      <td>0</td>\n",
       "      <td>NaN</td>\n",
       "      <td>to have a wedding</td>\n",
       "    </tr>\n",
       "    <tr>\n",
       "      <td>18563</td>\n",
       "      <td>0</td>\n",
       "      <td>NaN</td>\n",
       "      <td>54</td>\n",
       "      <td>secondary education</td>\n",
       "      <td>1</td>\n",
       "      <td>married</td>\n",
       "      <td>0</td>\n",
       "      <td>F</td>\n",
       "      <td>employee</td>\n",
       "      <td>0</td>\n",
       "      <td>NaN</td>\n",
       "      <td>transactions with my real estate</td>\n",
       "    </tr>\n",
       "    <tr>\n",
       "      <td>18755</td>\n",
       "      <td>0</td>\n",
       "      <td>NaN</td>\n",
       "      <td>58</td>\n",
       "      <td>secondary education</td>\n",
       "      <td>1</td>\n",
       "      <td>married</td>\n",
       "      <td>0</td>\n",
       "      <td>F</td>\n",
       "      <td>retiree</td>\n",
       "      <td>0</td>\n",
       "      <td>NaN</td>\n",
       "      <td>to become educated</td>\n",
       "    </tr>\n",
       "    <tr>\n",
       "      <td>19041</td>\n",
       "      <td>0</td>\n",
       "      <td>NaN</td>\n",
       "      <td>56</td>\n",
       "      <td>secondary education</td>\n",
       "      <td>1</td>\n",
       "      <td>civil partnership</td>\n",
       "      <td>1</td>\n",
       "      <td>F</td>\n",
       "      <td>employee</td>\n",
       "      <td>0</td>\n",
       "      <td>NaN</td>\n",
       "      <td>having a wedding</td>\n",
       "    </tr>\n",
       "    <tr>\n",
       "      <td>19184</td>\n",
       "      <td>0</td>\n",
       "      <td>NaN</td>\n",
       "      <td>46</td>\n",
       "      <td>secondary education</td>\n",
       "      <td>1</td>\n",
       "      <td>married</td>\n",
       "      <td>0</td>\n",
       "      <td>F</td>\n",
       "      <td>employee</td>\n",
       "      <td>0</td>\n",
       "      <td>NaN</td>\n",
       "      <td>to own a car</td>\n",
       "    </tr>\n",
       "    <tr>\n",
       "      <td>19321</td>\n",
       "      <td>0</td>\n",
       "      <td>NaN</td>\n",
       "      <td>23</td>\n",
       "      <td>secondary education</td>\n",
       "      <td>1</td>\n",
       "      <td>unmarried</td>\n",
       "      <td>4</td>\n",
       "      <td>F</td>\n",
       "      <td>employee</td>\n",
       "      <td>0</td>\n",
       "      <td>NaN</td>\n",
       "      <td>second-hand car purchase</td>\n",
       "    </tr>\n",
       "    <tr>\n",
       "      <td>19387</td>\n",
       "      <td>0</td>\n",
       "      <td>NaN</td>\n",
       "      <td>38</td>\n",
       "      <td>bachelor's degree</td>\n",
       "      <td>0</td>\n",
       "      <td>civil partnership</td>\n",
       "      <td>1</td>\n",
       "      <td>F</td>\n",
       "      <td>business</td>\n",
       "      <td>0</td>\n",
       "      <td>NaN</td>\n",
       "      <td>having a wedding</td>\n",
       "    </tr>\n",
       "    <tr>\n",
       "      <td>19688</td>\n",
       "      <td>0</td>\n",
       "      <td>NaN</td>\n",
       "      <td>61</td>\n",
       "      <td>secondary education</td>\n",
       "      <td>1</td>\n",
       "      <td>married</td>\n",
       "      <td>0</td>\n",
       "      <td>F</td>\n",
       "      <td>retiree</td>\n",
       "      <td>0</td>\n",
       "      <td>NaN</td>\n",
       "      <td>real estate transactions</td>\n",
       "    </tr>\n",
       "    <tr>\n",
       "      <td>19832</td>\n",
       "      <td>0</td>\n",
       "      <td>NaN</td>\n",
       "      <td>48</td>\n",
       "      <td>secondary education</td>\n",
       "      <td>1</td>\n",
       "      <td>married</td>\n",
       "      <td>0</td>\n",
       "      <td>F</td>\n",
       "      <td>employee</td>\n",
       "      <td>0</td>\n",
       "      <td>NaN</td>\n",
       "      <td>housing renovation</td>\n",
       "    </tr>\n",
       "    <tr>\n",
       "      <td>19946</td>\n",
       "      <td>0</td>\n",
       "      <td>NaN</td>\n",
       "      <td>57</td>\n",
       "      <td>secondary education</td>\n",
       "      <td>1</td>\n",
       "      <td>married</td>\n",
       "      <td>0</td>\n",
       "      <td>F</td>\n",
       "      <td>employee</td>\n",
       "      <td>0</td>\n",
       "      <td>NaN</td>\n",
       "      <td>second-hand car purchase</td>\n",
       "    </tr>\n",
       "    <tr>\n",
       "      <td>20116</td>\n",
       "      <td>0</td>\n",
       "      <td>NaN</td>\n",
       "      <td>57</td>\n",
       "      <td>secondary education</td>\n",
       "      <td>1</td>\n",
       "      <td>civil partnership</td>\n",
       "      <td>1</td>\n",
       "      <td>M</td>\n",
       "      <td>retiree</td>\n",
       "      <td>0</td>\n",
       "      <td>NaN</td>\n",
       "      <td>wedding ceremony</td>\n",
       "    </tr>\n",
       "    <tr>\n",
       "      <td>20165</td>\n",
       "      <td>0</td>\n",
       "      <td>NaN</td>\n",
       "      <td>42</td>\n",
       "      <td>secondary education</td>\n",
       "      <td>1</td>\n",
       "      <td>married</td>\n",
       "      <td>0</td>\n",
       "      <td>F</td>\n",
       "      <td>employee</td>\n",
       "      <td>0</td>\n",
       "      <td>NaN</td>\n",
       "      <td>purchase of the house for my family</td>\n",
       "    </tr>\n",
       "    <tr>\n",
       "      <td>20702</td>\n",
       "      <td>0</td>\n",
       "      <td>NaN</td>\n",
       "      <td>64</td>\n",
       "      <td>secondary education</td>\n",
       "      <td>1</td>\n",
       "      <td>married</td>\n",
       "      <td>0</td>\n",
       "      <td>F</td>\n",
       "      <td>retiree</td>\n",
       "      <td>0</td>\n",
       "      <td>NaN</td>\n",
       "      <td>supplementary education</td>\n",
       "    </tr>\n",
       "    <tr>\n",
       "      <td>21032</td>\n",
       "      <td>0</td>\n",
       "      <td>NaN</td>\n",
       "      <td>60</td>\n",
       "      <td>secondary education</td>\n",
       "      <td>1</td>\n",
       "      <td>married</td>\n",
       "      <td>0</td>\n",
       "      <td>F</td>\n",
       "      <td>retiree</td>\n",
       "      <td>0</td>\n",
       "      <td>NaN</td>\n",
       "      <td>to become educated</td>\n",
       "    </tr>\n",
       "    <tr>\n",
       "      <td>21132</td>\n",
       "      <td>0</td>\n",
       "      <td>NaN</td>\n",
       "      <td>47</td>\n",
       "      <td>secondary education</td>\n",
       "      <td>1</td>\n",
       "      <td>married</td>\n",
       "      <td>0</td>\n",
       "      <td>F</td>\n",
       "      <td>employee</td>\n",
       "      <td>0</td>\n",
       "      <td>NaN</td>\n",
       "      <td>housing renovation</td>\n",
       "    </tr>\n",
       "    <tr>\n",
       "      <td>21281</td>\n",
       "      <td>1</td>\n",
       "      <td>NaN</td>\n",
       "      <td>30</td>\n",
       "      <td>bachelor's degree</td>\n",
       "      <td>0</td>\n",
       "      <td>married</td>\n",
       "      <td>0</td>\n",
       "      <td>F</td>\n",
       "      <td>employee</td>\n",
       "      <td>0</td>\n",
       "      <td>NaN</td>\n",
       "      <td>buy commercial real estate</td>\n",
       "    </tr>\n",
       "    <tr>\n",
       "      <td>21415</td>\n",
       "      <td>0</td>\n",
       "      <td>NaN</td>\n",
       "      <td>54</td>\n",
       "      <td>secondary education</td>\n",
       "      <td>1</td>\n",
       "      <td>married</td>\n",
       "      <td>0</td>\n",
       "      <td>F</td>\n",
       "      <td>retiree</td>\n",
       "      <td>0</td>\n",
       "      <td>NaN</td>\n",
       "      <td>housing transactions</td>\n",
       "    </tr>\n",
       "  </tbody>\n",
       "</table>\n",
       "</div>"
      ],
      "text/plain": [
       "       children  days_employed  dob_years            education  education_id  \\\n",
       "2849          0            NaN         41  secondary education             1   \n",
       "4182          1            NaN         34    BACHELOR'S DEGREE             0   \n",
       "4851          0            NaN         60  secondary education             1   \n",
       "5557          0            NaN         58  secondary education             1   \n",
       "7808          0            NaN         57  secondary education             1   \n",
       "8583          0            NaN         58    bachelor's degree             0   \n",
       "9238          2            NaN         34  secondary education             1   \n",
       "9528          0            NaN         66  secondary education             1   \n",
       "9627          0            NaN         56  secondary education             1   \n",
       "10462         0            NaN         62  secondary education             1   \n",
       "10697         0            NaN         40  secondary education             1   \n",
       "10864         0            NaN         62  secondary education             1   \n",
       "10994         0            NaN         62  secondary education             1   \n",
       "11791         0            NaN         47  secondary education             1   \n",
       "12373         0            NaN         58  secondary education             1   \n",
       "12375         1            NaN         37  secondary education             1   \n",
       "12736         0            NaN         59  secondary education             1   \n",
       "13025         1            NaN         44  secondary education             1   \n",
       "13639         0            NaN         64  secondary education             1   \n",
       "13773         0            NaN         35  secondary education             1   \n",
       "13878         1            NaN         31  secondary education             1   \n",
       "13942         0            NaN         44  secondary education             1   \n",
       "14432         2            NaN         36    bachelor's degree             0   \n",
       "14832         0            NaN         50  secondary education             1   \n",
       "15091         0            NaN         58  secondary education             1   \n",
       "15188         0            NaN         60  secondary education             1   \n",
       "15273         0            NaN         57  secondary education             1   \n",
       "16176         0            NaN         47  secondary education             1   \n",
       "16378         0            NaN         46  secondary education             1   \n",
       "16902         2            NaN         39  secondary education             1   \n",
       "16904         1            NaN         32    bachelor's degree             0   \n",
       "17379         0            NaN         54    bachelor's degree             0   \n",
       "17755         1            NaN         43  secondary education             1   \n",
       "17774         1            NaN         40  secondary education             1   \n",
       "18328         0            NaN         29    bachelor's degree             0   \n",
       "18349         1            NaN         30    bachelor's degree             0   \n",
       "18428         0            NaN         64  secondary education             1   \n",
       "18521         0            NaN         56  secondary education             1   \n",
       "18563         0            NaN         54  secondary education             1   \n",
       "18755         0            NaN         58  secondary education             1   \n",
       "19041         0            NaN         56  secondary education             1   \n",
       "19184         0            NaN         46  secondary education             1   \n",
       "19321         0            NaN         23  secondary education             1   \n",
       "19387         0            NaN         38    bachelor's degree             0   \n",
       "19688         0            NaN         61  secondary education             1   \n",
       "19832         0            NaN         48  secondary education             1   \n",
       "19946         0            NaN         57  secondary education             1   \n",
       "20116         0            NaN         57  secondary education             1   \n",
       "20165         0            NaN         42  secondary education             1   \n",
       "20702         0            NaN         64  secondary education             1   \n",
       "21032         0            NaN         60  secondary education             1   \n",
       "21132         0            NaN         47  secondary education             1   \n",
       "21281         1            NaN         30    bachelor's degree             0   \n",
       "21415         0            NaN         54  secondary education             1   \n",
       "\n",
       "           family_status  family_status_id gender    income_type  debt  \\\n",
       "2849             married                 0      F       employee     0   \n",
       "4182   civil partnership                 1      F       employee     0   \n",
       "4851   civil partnership                 1      F        retiree     0   \n",
       "5557   civil partnership                 1      F        retiree     0   \n",
       "7808   civil partnership                 1      F        retiree     0   \n",
       "8583           unmarried                 4      F        retiree     0   \n",
       "9238             married                 0      F       employee     0   \n",
       "9528     widow / widower                 2      F        retiree     0   \n",
       "9627             married                 0      F        retiree     0   \n",
       "10462            married                 0      F        retiree     0   \n",
       "10697  civil partnership                 1      F       business     0   \n",
       "10864            married                 0      F        retiree     0   \n",
       "10994            married                 0      F        retiree     0   \n",
       "11791            married                 0      F       employee     0   \n",
       "12373            married                 0      M       employee     0   \n",
       "12375            married                 0      F       employee     0   \n",
       "12736            married                 0      F        retiree     0   \n",
       "13025            married                 0      F       employee     0   \n",
       "13639            married                 0      F        retiree     0   \n",
       "13773  civil partnership                 1      F       employee     0   \n",
       "13878            married                 0      F       business     0   \n",
       "13942            married                 0      F       employee     0   \n",
       "14432            married                 0      F  civil servant     0   \n",
       "14832          unmarried                 4      F       employee     0   \n",
       "15091  civil partnership                 1      M       employee     0   \n",
       "15188            married                 0      M       employee     0   \n",
       "15273  civil partnership                 1      F        retiree     0   \n",
       "16176            married                 0      F       employee     0   \n",
       "16378            married                 0      F       employee     0   \n",
       "16902  civil partnership                 1      F       employee     0   \n",
       "16904            married                 0      F       employee     0   \n",
       "17379            married                 0      M       business     0   \n",
       "17755            married                 0      M       employee     0   \n",
       "17774  civil partnership                 1      F       business     0   \n",
       "18328            married                 0      M       employee     0   \n",
       "18349            married                 0      F  civil servant     0   \n",
       "18428            married                 0      F        retiree     0   \n",
       "18521  civil partnership                 1      F       employee     0   \n",
       "18563            married                 0      F       employee     0   \n",
       "18755            married                 0      F        retiree     0   \n",
       "19041  civil partnership                 1      F       employee     0   \n",
       "19184            married                 0      F       employee     0   \n",
       "19321          unmarried                 4      F       employee     0   \n",
       "19387  civil partnership                 1      F       business     0   \n",
       "19688            married                 0      F        retiree     0   \n",
       "19832            married                 0      F       employee     0   \n",
       "19946            married                 0      F       employee     0   \n",
       "20116  civil partnership                 1      M        retiree     0   \n",
       "20165            married                 0      F       employee     0   \n",
       "20702            married                 0      F        retiree     0   \n",
       "21032            married                 0      F        retiree     0   \n",
       "21132            married                 0      F       employee     0   \n",
       "21281            married                 0      F       employee     0   \n",
       "21415            married                 0      F        retiree     0   \n",
       "\n",
       "       total_income                                   purpose  \n",
       "2849            NaN       purchase of the house for my family  \n",
       "4182            NaN                          wedding ceremony  \n",
       "4851            NaN                          wedding ceremony  \n",
       "5557            NaN                         to have a wedding  \n",
       "7808            NaN                          having a wedding  \n",
       "8583            NaN                   supplementary education  \n",
       "9238            NaN           buying property for renting out  \n",
       "9528            NaN          transactions with my real estate  \n",
       "9627            NaN          transactions with my real estate  \n",
       "10462           NaN                buy commercial real estate  \n",
       "10697           NaN                         to have a wedding  \n",
       "10864           NaN                        housing renovation  \n",
       "10994           NaN                        housing renovation  \n",
       "11791           NaN                       building a property  \n",
       "12373           NaN                           buy real estate  \n",
       "12375           NaN                           buy real estate  \n",
       "12736           NaN                        to become educated  \n",
       "13025           NaN                  second-hand car purchase  \n",
       "13639           NaN                                       car  \n",
       "13773           NaN                         to have a wedding  \n",
       "13878           NaN                     purchase of the house  \n",
       "13942           NaN                              car purchase  \n",
       "14432           NaN                      getting an education  \n",
       "14832           NaN                                  property  \n",
       "15091           NaN                          having a wedding  \n",
       "15188           NaN                           buy real estate  \n",
       "15273           NaN                          wedding ceremony  \n",
       "16176           NaN                        housing renovation  \n",
       "16378           NaN                      university education  \n",
       "16902           NaN                         to have a wedding  \n",
       "16904           NaN                  buying a second-hand car  \n",
       "17379           NaN  transactions with commercial real estate  \n",
       "17755           NaN                        to become educated  \n",
       "17774           NaN                    building a real estate  \n",
       "18328           NaN               buy residential real estate  \n",
       "18349           NaN       purchase of the house for my family  \n",
       "18428           NaN                                   housing  \n",
       "18521           NaN                         to have a wedding  \n",
       "18563           NaN          transactions with my real estate  \n",
       "18755           NaN                        to become educated  \n",
       "19041           NaN                          having a wedding  \n",
       "19184           NaN                              to own a car  \n",
       "19321           NaN                  second-hand car purchase  \n",
       "19387           NaN                          having a wedding  \n",
       "19688           NaN                  real estate transactions  \n",
       "19832           NaN                        housing renovation  \n",
       "19946           NaN                  second-hand car purchase  \n",
       "20116           NaN                          wedding ceremony  \n",
       "20165           NaN       purchase of the house for my family  \n",
       "20702           NaN                   supplementary education  \n",
       "21032           NaN                        to become educated  \n",
       "21132           NaN                        housing renovation  \n",
       "21281           NaN                buy commercial real estate  \n",
       "21415           NaN                      housing transactions  "
      ]
     },
     "execution_count": 6,
     "metadata": {},
     "output_type": "execute_result"
    }
   ],
   "source": [
    "#print the rows with duplicates - \n",
    "has_duplicate = df.duplicated()\n",
    "duplicates = df[has_duplicate]\n",
    "duplicates"
   ]
  },
  {
   "cell_type": "code",
   "execution_count": 7,
   "metadata": {},
   "outputs": [
    {
     "data": {
      "text/plain": [
       "54"
      ]
     },
     "execution_count": 7,
     "metadata": {},
     "output_type": "execute_result"
    }
   ],
   "source": [
    "#Number of duplicated rows\n",
    "df.duplicated().sum()"
   ]
  },
  {
   "cell_type": "code",
   "execution_count": 8,
   "metadata": {
    "scrolled": true
   },
   "outputs": [
    {
     "data": {
      "text/plain": [
       "F      14236\n",
       "M       7288\n",
       "XNA        1\n",
       "Name: gender, dtype: int64"
      ]
     },
     "execution_count": 8,
     "metadata": {},
     "output_type": "execute_result"
    }
   ],
   "source": [
    "#checking for the count of those unique values\n",
    "df['gender'].value_counts()"
   ]
  },
  {
   "cell_type": "markdown",
   "metadata": {},
   "source": [
    "### Conclusion"
   ]
  },
  {
   "cell_type": "markdown",
   "metadata": {},
   "source": [
    "#### After having a look at the table's general information, We discovered useful information regarding our data.\n",
    "\n",
    "#### 1. There are 2174 rows with 2 columns that contain missing values (days_employed, total_income).\n",
    "My assumption is that the fact both columns are missing together in every row, means the customer is not working,\n",
    "Having days_employed and total_income missing together makes it easy to belive the person is not employed(doesnt have days Employed and no income). I would ask the provider of the data if that's his intention by leaving those columns Missing together.\n",
    "The precentage of unemployed persons by this logic is 10% roughly (10.099%).\n",
    "Those missing values will be filled with 0's accordingly due to the logic in this scenario. (0 days employed and 0 income when not working).\n",
    "#### 2. There are data types that need to be changed.\n",
    "days_employed will be changed to int as I didnt find this information useful as a float.\n",
    "all int type columns will be downcasted to the lowest possible type in order to save memory.\n",
    "#### 3. There are illogical values in the table.\n",
    "Thanks to the describe() method, we are able to see some illogical values in some of the columns.\n",
    "a) Value of -1 children is not possible, and value of 20 children can be possible if the amount families is relatively low (will be checked).\n",
    "b) Negative value of days_employed cant be possible, we can assume those -'s are filled in by a mistake and take the absolute value of those rows with negative values. I would ask the data provider about it.\n",
    "There are also illogical values in days_employed, such as 401755 days employed (1,100 years), we will take care of this by making a logical range of employed days.\n",
    "c)age of 0 in dob_years is not possible, will be changed to a logical value of 18 as minimum age for loan request.\n",
    "d)gender contains 1 row with value 'XNA'\n",
    "#### 4. There are duplicated rows.\n",
    "There are 54 duplicated rows that will be removed.\n",
    "Used the duplicated.sum() methods in order to see the amount of duplicated rows.\n"
   ]
  },
  {
   "cell_type": "markdown",
   "metadata": {},
   "source": [
    "## Data preprocessing"
   ]
  },
  {
   "cell_type": "markdown",
   "metadata": {},
   "source": [
    "### Processing missing values"
   ]
  },
  {
   "cell_type": "code",
   "execution_count": 9,
   "metadata": {},
   "outputs": [
    {
     "data": {
      "text/plain": [
       "children            0\n",
       "days_employed       0\n",
       "dob_years           0\n",
       "education           0\n",
       "education_id        0\n",
       "family_status       0\n",
       "family_status_id    0\n",
       "gender              0\n",
       "income_type         0\n",
       "debt                0\n",
       "total_income        0\n",
       "purpose             0\n",
       "dtype: int64"
      ]
     },
     "execution_count": 9,
     "metadata": {},
     "output_type": "execute_result"
    }
   ],
   "source": [
    "#replacing missing values (only exist in days_employed and total_income) with 0.\n",
    "df['days_employed'].fillna(0, inplace = True)\n",
    "df['total_income'].fillna(0, inplace = True)\n",
    "\n",
    "#make sure the missing values are gone and replaced with 0.\n",
    "df.isna().sum()"
   ]
  },
  {
   "cell_type": "markdown",
   "metadata": {},
   "source": [
    "### Conclusion"
   ]
  },
  {
   "cell_type": "markdown",
   "metadata": {},
   "source": [
    "#### \n",
    "we have replaced the missing values with 0 using the .fillna method.\n",
    "We made sure there are no missing values left in our data with .isna.sum "
   ]
  },
  {
   "cell_type": "markdown",
   "metadata": {},
   "source": [
    "### Proccecing illogical values"
   ]
  },
  {
   "cell_type": "code",
   "execution_count": 10,
   "metadata": {
    "scrolled": false
   },
   "outputs": [
    {
     "name": "stderr",
     "output_type": "stream",
     "text": [
      "/opt/conda/lib/python3.7/site-packages/ipykernel_launcher.py:37: SettingWithCopyWarning: \n",
      "A value is trying to be set on a copy of a slice from a DataFrame.\n",
      "Try using .loc[row_indexer,col_indexer] = value instead\n",
      "\n",
      "See the caveats in the documentation: http://pandas.pydata.org/pandas-docs/stable/user_guide/indexing.html#returning-a-view-versus-a-copy\n"
     ]
    },
    {
     "data": {
      "text/html": [
       "<div>\n",
       "<style scoped>\n",
       "    .dataframe tbody tr th:only-of-type {\n",
       "        vertical-align: middle;\n",
       "    }\n",
       "\n",
       "    .dataframe tbody tr th {\n",
       "        vertical-align: top;\n",
       "    }\n",
       "\n",
       "    .dataframe thead th {\n",
       "        text-align: right;\n",
       "    }\n",
       "</style>\n",
       "<table border=\"1\" class=\"dataframe\">\n",
       "  <thead>\n",
       "    <tr style=\"text-align: right;\">\n",
       "      <th></th>\n",
       "      <th>children</th>\n",
       "      <th>days_employed</th>\n",
       "      <th>dob_years</th>\n",
       "      <th>education_id</th>\n",
       "      <th>family_status_id</th>\n",
       "      <th>debt</th>\n",
       "      <th>total_income</th>\n",
       "      <th>years_employed</th>\n",
       "    </tr>\n",
       "  </thead>\n",
       "  <tbody>\n",
       "    <tr>\n",
       "      <td>count</td>\n",
       "      <td>21423.000000</td>\n",
       "      <td>21423.000000</td>\n",
       "      <td>21423.000000</td>\n",
       "      <td>21423.000000</td>\n",
       "      <td>21423.000000</td>\n",
       "      <td>21423.000000</td>\n",
       "      <td>21423.000000</td>\n",
       "      <td>21423.000000</td>\n",
       "    </tr>\n",
       "    <tr>\n",
       "      <td>mean</td>\n",
       "      <td>0.479671</td>\n",
       "      <td>3644.289940</td>\n",
       "      <td>43.498390</td>\n",
       "      <td>0.817859</td>\n",
       "      <td>0.971293</td>\n",
       "      <td>0.080894</td>\n",
       "      <td>24087.579227</td>\n",
       "      <td>9.984356</td>\n",
       "    </tr>\n",
       "    <tr>\n",
       "      <td>std</td>\n",
       "      <td>0.755304</td>\n",
       "      <td>4272.682630</td>\n",
       "      <td>12.246495</td>\n",
       "      <td>0.548178</td>\n",
       "      <td>1.419770</td>\n",
       "      <td>0.272679</td>\n",
       "      <td>17600.501548</td>\n",
       "      <td>11.705980</td>\n",
       "    </tr>\n",
       "    <tr>\n",
       "      <td>min</td>\n",
       "      <td>0.000000</td>\n",
       "      <td>0.000000</td>\n",
       "      <td>19.000000</td>\n",
       "      <td>0.000000</td>\n",
       "      <td>0.000000</td>\n",
       "      <td>0.000000</td>\n",
       "      <td>0.000000</td>\n",
       "      <td>0.000000</td>\n",
       "    </tr>\n",
       "    <tr>\n",
       "      <td>25%</td>\n",
       "      <td>0.000000</td>\n",
       "      <td>603.325492</td>\n",
       "      <td>33.000000</td>\n",
       "      <td>1.000000</td>\n",
       "      <td>0.000000</td>\n",
       "      <td>0.000000</td>\n",
       "      <td>14179.846000</td>\n",
       "      <td>1.652947</td>\n",
       "    </tr>\n",
       "    <tr>\n",
       "      <td>50%</td>\n",
       "      <td>0.000000</td>\n",
       "      <td>1799.549893</td>\n",
       "      <td>43.000000</td>\n",
       "      <td>1.000000</td>\n",
       "      <td>0.000000</td>\n",
       "      <td>0.000000</td>\n",
       "      <td>21683.559000</td>\n",
       "      <td>4.930274</td>\n",
       "    </tr>\n",
       "    <tr>\n",
       "      <td>75%</td>\n",
       "      <td>1.000000</td>\n",
       "      <td>4709.018460</td>\n",
       "      <td>53.000000</td>\n",
       "      <td>1.000000</td>\n",
       "      <td>1.000000</td>\n",
       "      <td>0.000000</td>\n",
       "      <td>31278.989000</td>\n",
       "      <td>12.901420</td>\n",
       "    </tr>\n",
       "    <tr>\n",
       "      <td>max</td>\n",
       "      <td>5.000000</td>\n",
       "      <td>16352.000000</td>\n",
       "      <td>75.000000</td>\n",
       "      <td>4.000000</td>\n",
       "      <td>4.000000</td>\n",
       "      <td>1.000000</td>\n",
       "      <td>362496.645000</td>\n",
       "      <td>44.800000</td>\n",
       "    </tr>\n",
       "  </tbody>\n",
       "</table>\n",
       "</div>"
      ],
      "text/plain": [
       "           children  days_employed     dob_years  education_id  \\\n",
       "count  21423.000000   21423.000000  21423.000000  21423.000000   \n",
       "mean       0.479671    3644.289940     43.498390      0.817859   \n",
       "std        0.755304    4272.682630     12.246495      0.548178   \n",
       "min        0.000000       0.000000     19.000000      0.000000   \n",
       "25%        0.000000     603.325492     33.000000      1.000000   \n",
       "50%        0.000000    1799.549893     43.000000      1.000000   \n",
       "75%        1.000000    4709.018460     53.000000      1.000000   \n",
       "max        5.000000   16352.000000     75.000000      4.000000   \n",
       "\n",
       "       family_status_id          debt   total_income  years_employed  \n",
       "count      21423.000000  21423.000000   21423.000000    21423.000000  \n",
       "mean           0.971293      0.080894   24087.579227        9.984356  \n",
       "std            1.419770      0.272679   17600.501548       11.705980  \n",
       "min            0.000000      0.000000       0.000000        0.000000  \n",
       "25%            0.000000      0.000000   14179.846000        1.652947  \n",
       "50%            0.000000      0.000000   21683.559000        4.930274  \n",
       "75%            1.000000      0.000000   31278.989000       12.901420  \n",
       "max            4.000000      1.000000  362496.645000       44.800000  "
      ]
     },
     "execution_count": 10,
     "metadata": {},
     "output_type": "execute_result"
    }
   ],
   "source": [
    "#Considering -1 value for children as human error, we will take the absolute value.\n",
    "df[df['children'] == -1].count()\n",
    "\n",
    "#seeing that we only have 47 children with -1 value, we realize it won't have an impact on the data.\n",
    "#Using the .abs method to get the absolute values in the children column.\n",
    "df['children'] = df['children'].abs()\n",
    "\n",
    "#Checking all values of children.\n",
    "df['children'].value_counts()\n",
    "\n",
    "#to have value of 20 children appear 76 times is highly unlikely, and we can consider it as human error that accidently entered \n",
    "#20 instead of 2, we will turn the 20 values to 2 using the .replace method.\n",
    "df['children'].replace(to_replace =20,value =2, inplace=True)\n",
    "\n",
    "#checking that the replacement worked.\n",
    "df['children'].value_counts()\n",
    "\n",
    "#checking for ages below 18  in the dob_years column\n",
    "df[df['dob_years'] <= 18]\n",
    "\n",
    "#there are 101 rows with 0 value, we will remove them due to the small amount and lack of impact on the data.\n",
    "df.drop(df[df['dob_years'] == 0].index, inplace=True)\n",
    "\n",
    "#Using the .abs method to get the absolute values in the days_employed columns.\n",
    "df['days_employed'] = df['days_employed'].abs()\n",
    "\n",
    "#checking the minimum value to confirm no negative values exist.\n",
    "df['days_employed'].min()\n",
    "\n",
    "#Checking for days_employed > dob_years -18 values which are highly unlikely - them starting to work before the age of 18,\n",
    "#making a variable 'high_days' to store those rows.\n",
    "high_days = df[df['days_employed'] / 365 > (df['dob_years'] - 18)]\n",
    "high_days\n",
    "\n",
    "#There are 3835 rows where this condition applies, Which their 'days_employed' value will be replaced with the a new value\n",
    "#Of 80% of their age starting from age 18, formula:  365 * ((dob_years - 18) * 0.8).\n",
    "high_days['days_employed'] = 365 * ((high_days['dob_years'] - 18)* 0.8)\n",
    "\n",
    "#replacing those rows in the original dataframe.\n",
    "df.loc[df['days_employed'] / 365 > (df['dob_years'] - 18) , 'days_employed'] = high_days['days_employed']\n",
    "\n",
    "#adding years_employed column for better visualization.\n",
    "df['years_employed'] = df['days_employed'] / 365\n",
    "\n",
    "#remove the row with 'XNA' value of gender.\n",
    "df.drop(df[df['gender'] == 'XNA'].index, inplace=True)\n",
    "\n",
    "df.describe()"
   ]
  },
  {
   "cell_type": "code",
   "execution_count": 11,
   "metadata": {},
   "outputs": [
    {
     "name": "stdout",
     "output_type": "stream",
     "text": [
      "<class 'pandas.core.frame.DataFrame'>\n",
      "Int64Index: 21423 entries, 0 to 21524\n",
      "Data columns (total 13 columns):\n",
      "children            21423 non-null int64\n",
      "days_employed       21423 non-null float64\n",
      "dob_years           21423 non-null int64\n",
      "education           21423 non-null object\n",
      "education_id        21423 non-null int64\n",
      "family_status       21423 non-null object\n",
      "family_status_id    21423 non-null int64\n",
      "gender              21423 non-null object\n",
      "income_type         21423 non-null object\n",
      "debt                21423 non-null int64\n",
      "total_income        21423 non-null float64\n",
      "purpose             21423 non-null object\n",
      "years_employed      21423 non-null float64\n",
      "dtypes: float64(3), int64(5), object(5)\n",
      "memory usage: 2.3+ MB\n"
     ]
    }
   ],
   "source": [
    "#df2 = df[[\"children\", \"days_employed\", \"years_employed\",'education','education_id','family_status','family_status_id','gender','income_type','debt','total_income','income_level','purpose','purpose_type']]\n",
    "df.info()"
   ]
  },
  {
   "cell_type": "markdown",
   "metadata": {},
   "source": [
    "#### Conclusion\n",
    "Changed the children and days_employed values to absolute values (.abs() ) in order to get rid of the negative values.\n",
    "Assumed value of 20 children is too high and is meant to be 2, so we made the replacement.\n",
    "Dropped the rows with dob_years = 0 due to the small number of rows.\n",
    "Made the high_days variable to store the problematic rows (people who started to work before the age of 18),\n",
    "And changed the values of days_employed to 80% of their age -18 (assuming the starting working age is 18).\n",
    "Replaced those rows in the original dataframe.\n",
    "Removed row of'XNA' gender value."
   ]
  },
  {
   "cell_type": "markdown",
   "metadata": {},
   "source": [
    "### Data type replacement"
   ]
  },
  {
   "cell_type": "code",
   "execution_count": 12,
   "metadata": {},
   "outputs": [
    {
     "name": "stdout",
     "output_type": "stream",
     "text": [
      "<class 'pandas.core.frame.DataFrame'>\n",
      "Int64Index: 21423 entries, 0 to 21524\n",
      "Data columns (total 13 columns):\n",
      "children            21423 non-null int8\n",
      "days_employed       21423 non-null int16\n",
      "dob_years           21423 non-null int8\n",
      "education           21423 non-null object\n",
      "education_id        21423 non-null int8\n",
      "family_status       21423 non-null object\n",
      "family_status_id    21423 non-null int8\n",
      "gender              21423 non-null object\n",
      "income_type         21423 non-null object\n",
      "debt                21423 non-null int8\n",
      "total_income        21423 non-null float32\n",
      "purpose             21423 non-null object\n",
      "years_employed      21423 non-null float64\n",
      "dtypes: float32(1), float64(1), int16(1), int8(5), object(5)\n",
      "memory usage: 1.4+ MB\n"
     ]
    }
   ],
   "source": [
    "#replacing the datatype for the 'employed_days' column from object to int as we dont need this info as a float.\n",
    "df['days_employed']= df['days_employed'].astype('int')\n",
    "\n",
    "#downcasting int type columns to lowest possible int type.\n",
    "df['days_employed'] = pd.to_numeric((df['days_employed']), downcast ='integer')\n",
    "df['children'] = pd.to_numeric((df['children']), downcast ='integer')\n",
    "df['dob_years'] = pd.to_numeric((df['dob_years']), downcast ='integer')\n",
    "df['education_id'] = pd.to_numeric((df['education_id']), downcast ='integer')\n",
    "df['family_status_id'] = pd.to_numeric((df['family_status_id']), downcast ='integer')\n",
    "df['debt'] = pd.to_numeric((df['debt']), downcast ='integer')\n",
    "\n",
    "#changing total_income float type to lowest possible float type.\n",
    "df['total_income'] = pd.to_numeric((df['total_income']), downcast ='float')\n",
    "#checking to see if the integer type managed to downcast\n",
    "df.info()"
   ]
  },
  {
   "cell_type": "markdown",
   "metadata": {},
   "source": [
    "### Conclusion"
   ]
  },
  {
   "cell_type": "markdown",
   "metadata": {},
   "source": [
    "#### \n",
    "'days_employed' column has been converted to int type since we don't need such info as float.\n",
    "The datatypes for the int and float types columns have been downcasted in order to save memory."
   ]
  },
  {
   "cell_type": "markdown",
   "metadata": {},
   "source": [
    "### Processing duplicates"
   ]
  },
  {
   "cell_type": "code",
   "execution_count": 13,
   "metadata": {},
   "outputs": [
    {
     "data": {
      "text/plain": [
       "0"
      ]
     },
     "execution_count": 13,
     "metadata": {},
     "output_type": "execute_result"
    }
   ],
   "source": [
    "#Removing the duplicated rows using the drop_duplicates() method.\n",
    "df = df.drop_duplicates()\n",
    "#making sure the duplicates are gone\n",
    "df.duplicated().sum()"
   ]
  },
  {
   "cell_type": "markdown",
   "metadata": {},
   "source": [
    "### Conclusion"
   ]
  },
  {
   "cell_type": "markdown",
   "metadata": {},
   "source": [
    "#### \n",
    "Considering the amount of duplicated rows is very low compared to the entire dataset (54 out of 21525; 0.25%),\n",
    "And the reason for the duplicated rows might be a human error, It shouldn't have an impact on our data and should be removed.\n"
   ]
  },
  {
   "cell_type": "markdown",
   "metadata": {},
   "source": [
    "### Categorizing Data"
   ]
  },
  {
   "cell_type": "markdown",
   "metadata": {},
   "source": [
    "#### Categorizing by children"
   ]
  },
  {
   "cell_type": "code",
   "execution_count": 14,
   "metadata": {},
   "outputs": [
    {
     "data": {
      "text/html": [
       "<div>\n",
       "<style scoped>\n",
       "    .dataframe tbody tr th:only-of-type {\n",
       "        vertical-align: middle;\n",
       "    }\n",
       "\n",
       "    .dataframe tbody tr th {\n",
       "        vertical-align: top;\n",
       "    }\n",
       "\n",
       "    .dataframe thead th {\n",
       "        text-align: right;\n",
       "    }\n",
       "</style>\n",
       "<table border=\"1\" class=\"dataframe\">\n",
       "  <thead>\n",
       "    <tr style=\"text-align: right;\">\n",
       "      <th>debt</th>\n",
       "      <th>children</th>\n",
       "      <th>0</th>\n",
       "      <th>1</th>\n",
       "      <th>All</th>\n",
       "      <th>default_rate</th>\n",
       "    </tr>\n",
       "  </thead>\n",
       "  <tbody>\n",
       "    <tr>\n",
       "      <td>0</td>\n",
       "      <td>0</td>\n",
       "      <td>12979.0</td>\n",
       "      <td>1058.0</td>\n",
       "      <td>14037</td>\n",
       "      <td>7.537223</td>\n",
       "    </tr>\n",
       "    <tr>\n",
       "      <td>1</td>\n",
       "      <td>1</td>\n",
       "      <td>4398.0</td>\n",
       "      <td>442.0</td>\n",
       "      <td>4840</td>\n",
       "      <td>9.132231</td>\n",
       "    </tr>\n",
       "    <tr>\n",
       "      <td>2</td>\n",
       "      <td>2</td>\n",
       "      <td>1912.0</td>\n",
       "      <td>202.0</td>\n",
       "      <td>2114</td>\n",
       "      <td>9.555345</td>\n",
       "    </tr>\n",
       "    <tr>\n",
       "      <td>3</td>\n",
       "      <td>3</td>\n",
       "      <td>301.0</td>\n",
       "      <td>27.0</td>\n",
       "      <td>328</td>\n",
       "      <td>8.231707</td>\n",
       "    </tr>\n",
       "    <tr>\n",
       "      <td>4</td>\n",
       "      <td>4</td>\n",
       "      <td>37.0</td>\n",
       "      <td>4.0</td>\n",
       "      <td>41</td>\n",
       "      <td>9.756098</td>\n",
       "    </tr>\n",
       "    <tr>\n",
       "      <td>5</td>\n",
       "      <td>5</td>\n",
       "      <td>9.0</td>\n",
       "      <td>0.0</td>\n",
       "      <td>9</td>\n",
       "      <td>0.000000</td>\n",
       "    </tr>\n",
       "    <tr>\n",
       "      <td>6</td>\n",
       "      <td>All</td>\n",
       "      <td>19636.0</td>\n",
       "      <td>1733.0</td>\n",
       "      <td>21369</td>\n",
       "      <td>8.109879</td>\n",
       "    </tr>\n",
       "  </tbody>\n",
       "</table>\n",
       "</div>"
      ],
      "text/plain": [
       "debt children        0       1    All  default_rate\n",
       "0           0  12979.0  1058.0  14037      7.537223\n",
       "1           1   4398.0   442.0   4840      9.132231\n",
       "2           2   1912.0   202.0   2114      9.555345\n",
       "3           3    301.0    27.0    328      8.231707\n",
       "4           4     37.0     4.0     41      9.756098\n",
       "5           5      9.0     0.0      9      0.000000\n",
       "6         All  19636.0  1733.0  21369      8.109879"
      ]
     },
     "execution_count": 14,
     "metadata": {},
     "output_type": "execute_result"
    }
   ],
   "source": [
    "#1. Categorazing by children\n",
    "kids_relation = pd.pivot_table(df, index='children', columns='debt', values='family_status_id', aggfunc='count', margins=True).reset_index()\n",
    "kids_relation\n",
    "\n",
    "#changing NaN value to 0\n",
    "kids_relation.fillna(0, inplace=True)\n",
    "\n",
    "#creating a default rate by precentages\n",
    "kids_relation['default_rate'] =(kids_relation[1]/kids_relation['All'])*100\n",
    "kids_relation\n",
    "\n",
    "#using the groupby method to show the same data\n",
    "kids_relation2 = kids_relation.groupby(['children',0,1,'All','default_rate'])['children'].count()\n",
    "kids_relation"
   ]
  },
  {
   "cell_type": "markdown",
   "metadata": {},
   "source": [
    "#### Categorizing by martial status"
   ]
  },
  {
   "cell_type": "code",
   "execution_count": 15,
   "metadata": {},
   "outputs": [
    {
     "data": {
      "text/html": [
       "<div>\n",
       "<style scoped>\n",
       "    .dataframe tbody tr th:only-of-type {\n",
       "        vertical-align: middle;\n",
       "    }\n",
       "\n",
       "    .dataframe tbody tr th {\n",
       "        vertical-align: top;\n",
       "    }\n",
       "\n",
       "    .dataframe thead th {\n",
       "        text-align: right;\n",
       "    }\n",
       "</style>\n",
       "<table border=\"1\" class=\"dataframe\">\n",
       "  <thead>\n",
       "    <tr style=\"text-align: right;\">\n",
       "      <th>debt</th>\n",
       "      <th>family_status</th>\n",
       "      <th>0</th>\n",
       "      <th>1</th>\n",
       "      <th>All</th>\n",
       "      <th>default_rate</th>\n",
       "    </tr>\n",
       "  </thead>\n",
       "  <tbody>\n",
       "    <tr>\n",
       "      <td>0</td>\n",
       "      <td>civil partnership</td>\n",
       "      <td>3755</td>\n",
       "      <td>386</td>\n",
       "      <td>4141</td>\n",
       "      <td>9.321420</td>\n",
       "    </tr>\n",
       "    <tr>\n",
       "      <td>1</td>\n",
       "      <td>divorced</td>\n",
       "      <td>1100</td>\n",
       "      <td>85</td>\n",
       "      <td>1185</td>\n",
       "      <td>7.172996</td>\n",
       "    </tr>\n",
       "    <tr>\n",
       "      <td>2</td>\n",
       "      <td>married</td>\n",
       "      <td>11368</td>\n",
       "      <td>927</td>\n",
       "      <td>12295</td>\n",
       "      <td>7.539650</td>\n",
       "    </tr>\n",
       "    <tr>\n",
       "      <td>3</td>\n",
       "      <td>unmarried</td>\n",
       "      <td>2521</td>\n",
       "      <td>273</td>\n",
       "      <td>2794</td>\n",
       "      <td>9.770938</td>\n",
       "    </tr>\n",
       "    <tr>\n",
       "      <td>4</td>\n",
       "      <td>widow / widower</td>\n",
       "      <td>892</td>\n",
       "      <td>62</td>\n",
       "      <td>954</td>\n",
       "      <td>6.498952</td>\n",
       "    </tr>\n",
       "    <tr>\n",
       "      <td>5</td>\n",
       "      <td>All</td>\n",
       "      <td>19636</td>\n",
       "      <td>1733</td>\n",
       "      <td>21369</td>\n",
       "      <td>8.109879</td>\n",
       "    </tr>\n",
       "  </tbody>\n",
       "</table>\n",
       "</div>"
      ],
      "text/plain": [
       "debt      family_status      0     1    All  default_rate\n",
       "0     civil partnership   3755   386   4141      9.321420\n",
       "1              divorced   1100    85   1185      7.172996\n",
       "2               married  11368   927  12295      7.539650\n",
       "3             unmarried   2521   273   2794      9.770938\n",
       "4       widow / widower    892    62    954      6.498952\n",
       "5                   All  19636  1733  21369      8.109879"
      ]
     },
     "execution_count": 15,
     "metadata": {},
     "output_type": "execute_result"
    }
   ],
   "source": [
    "#2. Categorizing by martial status\n",
    "family_relation = pd.pivot_table(df, index='family_status', columns='debt', values='family_status_id', aggfunc='count', margins=True).reset_index()\n",
    "\n",
    "#creating a default rate by precentages\n",
    "family_relation['default_rate'] =(family_relation[1]/family_relation['All'])*100\n",
    "\n",
    "#using the groupby method to show the same data\n",
    "family_relation2 = family_relation.groupby(['family_status',0,1,'All','default_rate'])['family_status'].count()\n",
    "\n",
    "family_relation"
   ]
  },
  {
   "cell_type": "markdown",
   "metadata": {},
   "source": [
    "#### categorizing by income level"
   ]
  },
  {
   "cell_type": "code",
   "execution_count": 16,
   "metadata": {},
   "outputs": [
    {
     "data": {
      "text/plain": [
       "income_level   0      1     All    default_rate\n",
       "All            19636  1733  21369  8.109879        1\n",
       "above_average  3391   329   3720   8.844086        1\n",
       "below_average  6362   603   6965   8.657574        1\n",
       "high           4866   376   5242   7.172835        1\n",
       "low            4924   419   5343   7.842036        1\n",
       "very_high      93     6     99     6.060606        1\n",
       "Name: income_level, dtype: int64"
      ]
     },
     "execution_count": 16,
     "metadata": {},
     "output_type": "execute_result"
    }
   ],
   "source": [
    "#3. Categorizing by income level\n",
    "df['total_income'].value_counts()\n",
    "\n",
    "#realizing we have too much values in total_income, we need to categorize the income before we can check relations.\n",
    "#We will create bins by income levels by the .describe method's output and .cut in order to create the  categorized column.\n",
    "\n",
    "df['income_level'] = pd.cut(df['total_income'], bins=[0, 14233, 24149 , 31319, 100000, 362497], include_lowest=True,\n",
    "       labels=['low', 'below_average', 'above_average', 'high','very_high'])\n",
    "\n",
    "#Categorazing by income level\n",
    "income_relation = pd.pivot_table(df, index='income_level', columns='debt', values='family_status_id', aggfunc='count', margins=True).reset_index()\n",
    "income_relation['default_rate'] = (income_relation[1]/income_relation['All'])*100\n",
    "income_relation\n",
    "\n",
    "#using the groupby method to show the same data\n",
    "income_relation2 = income_relation.groupby(['income_level',0,1,'All','default_rate'])['income_level'].count()\n",
    "income_relation2"
   ]
  },
  {
   "cell_type": "markdown",
   "metadata": {},
   "source": [
    "#### Categorizing by loan purpose"
   ]
  },
  {
   "cell_type": "code",
   "execution_count": 17,
   "metadata": {},
   "outputs": [
    {
     "name": "stderr",
     "output_type": "stream",
     "text": [
      "/opt/conda/lib/python3.7/site-packages/ipykernel_launcher.py:25: SettingWithCopyWarning: \n",
      "A value is trying to be set on a copy of a slice from a DataFrame\n",
      "\n",
      "See the caveats in the documentation: http://pandas.pydata.org/pandas-docs/stable/user_guide/indexing.html#returning-a-view-versus-a-copy\n"
     ]
    },
    {
     "data": {
      "text/plain": [
       "purpose_type  0      1     All    default_rate\n",
       "All           19636  1733  21369  8.109879        1\n",
       "car           3886   400   4286   9.332711        1\n",
       "education     3626   370   3996   9.259259        1\n",
       "estate        9987   779   10766  7.235742        1\n",
       "wedding       2137   184   2321   7.927617        1\n",
       "Name: purpose_type, dtype: int64"
      ]
     },
     "execution_count": 17,
     "metadata": {},
     "output_type": "execute_result"
    }
   ],
   "source": [
    "#4. Categorizing by loan purpose\n",
    "df['purpose'].value_counts()\n",
    "\n",
    "#we can see we have 38 values and many values with the same meaning, i.e : 'having a wedding' and 'to have a wedding'\n",
    "#we will categorize them by meaning and rephrase the purpose column values with just the clear meaning to normalize the data.\n",
    "\n",
    "#making another column purpose_type\n",
    "df['purpose_type'] = df['purpose']\n",
    "\n",
    "\n",
    "# rearranging the columns for better visualization\n",
    "df = df[[\"children\", \"days_employed\", \"years_employed\",'education','education_id','family_status','family_status_id',\n",
    "'gender','income_type','debt','total_income','income_level','purpose','purpose_type']]\n",
    "\n",
    "#mapping values to categories using dictionary in the 'purpose_type' column\n",
    "search_map={\n",
    "    'estate':['hous', 'proper', 'estate'],\n",
    "    'wedding':['wedd'],\n",
    "    'car':['car'],\n",
    "    'education':['educ', 'univ']\n",
    "    \n",
    "}\n",
    "for key, value in search_map.items():\n",
    "    filter_column = df['purpose_type'].str.contains('|'.join(value))\n",
    "    df['purpose_type'][filter_column] = key\n",
    "    \n",
    "    \n",
    "# categorization by 4 groups has been done. creating pivot table to check for relations\n",
    "purpose_relation = pd.pivot_table(df, index='purpose_type', columns='debt', values='family_status_id', aggfunc='count', margins=True).reset_index()\n",
    "\n",
    "#creating a default rate by precentages\n",
    "purpose_relation['default_rate'] =(purpose_relation[1]/purpose_relation['All'])*100\n",
    "purpose_relation\n",
    "\n",
    "#using the groupby method to show the same data\n",
    "purpose_relation2 = purpose_relation.groupby(['purpose_type',0,1,'All','default_rate'])['purpose_type'].count()\n",
    "purpose_relation2"
   ]
  },
  {
   "cell_type": "markdown",
   "metadata": {},
   "source": [
    "### Conclusion"
   ]
  },
  {
   "cell_type": "markdown",
   "metadata": {},
   "source": [
    "####  Categorization has been made by using pivot tables and by using groupby() method, by adding new category column and by a dictionary to map values into categories."
   ]
  },
  {
   "cell_type": "markdown",
   "metadata": {},
   "source": [
    "- Is there a relation between having kids and repaying a loan on time?"
   ]
  },
  {
   "cell_type": "code",
   "execution_count": 18,
   "metadata": {},
   "outputs": [
    {
     "data": {
      "text/html": [
       "<div>\n",
       "<style scoped>\n",
       "    .dataframe tbody tr th:only-of-type {\n",
       "        vertical-align: middle;\n",
       "    }\n",
       "\n",
       "    .dataframe tbody tr th {\n",
       "        vertical-align: top;\n",
       "    }\n",
       "\n",
       "    .dataframe thead th {\n",
       "        text-align: right;\n",
       "    }\n",
       "</style>\n",
       "<table border=\"1\" class=\"dataframe\">\n",
       "  <thead>\n",
       "    <tr style=\"text-align: right;\">\n",
       "      <th>debt</th>\n",
       "      <th>children</th>\n",
       "      <th>0</th>\n",
       "      <th>1</th>\n",
       "      <th>All</th>\n",
       "      <th>default_rate</th>\n",
       "    </tr>\n",
       "  </thead>\n",
       "  <tbody>\n",
       "    <tr>\n",
       "      <td>0</td>\n",
       "      <td>0</td>\n",
       "      <td>12979.0</td>\n",
       "      <td>1058.0</td>\n",
       "      <td>14037</td>\n",
       "      <td>7.537223</td>\n",
       "    </tr>\n",
       "    <tr>\n",
       "      <td>1</td>\n",
       "      <td>1</td>\n",
       "      <td>4398.0</td>\n",
       "      <td>442.0</td>\n",
       "      <td>4840</td>\n",
       "      <td>9.132231</td>\n",
       "    </tr>\n",
       "    <tr>\n",
       "      <td>2</td>\n",
       "      <td>2</td>\n",
       "      <td>1912.0</td>\n",
       "      <td>202.0</td>\n",
       "      <td>2114</td>\n",
       "      <td>9.555345</td>\n",
       "    </tr>\n",
       "    <tr>\n",
       "      <td>3</td>\n",
       "      <td>3</td>\n",
       "      <td>301.0</td>\n",
       "      <td>27.0</td>\n",
       "      <td>328</td>\n",
       "      <td>8.231707</td>\n",
       "    </tr>\n",
       "    <tr>\n",
       "      <td>4</td>\n",
       "      <td>4</td>\n",
       "      <td>37.0</td>\n",
       "      <td>4.0</td>\n",
       "      <td>41</td>\n",
       "      <td>9.756098</td>\n",
       "    </tr>\n",
       "    <tr>\n",
       "      <td>5</td>\n",
       "      <td>5</td>\n",
       "      <td>9.0</td>\n",
       "      <td>0.0</td>\n",
       "      <td>9</td>\n",
       "      <td>0.000000</td>\n",
       "    </tr>\n",
       "    <tr>\n",
       "      <td>6</td>\n",
       "      <td>All</td>\n",
       "      <td>19636.0</td>\n",
       "      <td>1733.0</td>\n",
       "      <td>21369</td>\n",
       "      <td>8.109879</td>\n",
       "    </tr>\n",
       "  </tbody>\n",
       "</table>\n",
       "</div>"
      ],
      "text/plain": [
       "debt children        0       1    All  default_rate\n",
       "0           0  12979.0  1058.0  14037      7.537223\n",
       "1           1   4398.0   442.0   4840      9.132231\n",
       "2           2   1912.0   202.0   2114      9.555345\n",
       "3           3    301.0    27.0    328      8.231707\n",
       "4           4     37.0     4.0     41      9.756098\n",
       "5           5      9.0     0.0      9      0.000000\n",
       "6         All  19636.0  1733.0  21369      8.109879"
      ]
     },
     "execution_count": 18,
     "metadata": {},
     "output_type": "execute_result"
    }
   ],
   "source": [
    "kids_relation"
   ]
  },
  {
   "cell_type": "markdown",
   "metadata": {},
   "source": [
    "#### \n",
    "By making and viewing the pivot table that shows the relation between having kids and replaying loan on time, We can conclude several conclusions:\n",
    "1. The average default rate is 8.1%.\n",
    "2. Having 0 kids means having the lowest default rate besides 5 kids family - 7.53%.\n",
    "3. Having 4 kids means having the highest default rate - 9.75%.\n",
    "4. Having 3 kids means having the second lowest default rate - 8.23%\n",
    "5. Families Having up to 4 kids have their default rate above average.\n",
    "6. Families with 5 kids have default rate of 0% (total number of 9 families).\n",
    "\n"
   ]
  },
  {
   "cell_type": "markdown",
   "metadata": {},
   "source": [
    "### Conclusion"
   ]
  },
  {
   "cell_type": "markdown",
   "metadata": {},
   "source": [
    "#### \n",
    "There is a relation between having kids and replaying a loan on time , We can tell that having no kids means having the lowest default rate - highest chances to repay a loan on time.\n",
    "On the other side, we can't correlate exactly by the children's number - families with 3 kids have a lower default rate than families with 1,2 or 4 children, and 9 families with 5 children have a default rate of 0 - but I would say 9 families is a too little of a number to conclude something.\n",
    "To summerize, having no children at all means having the highest chance to repay on time, and having  up to 4 kids means having a lower chance to repay on time. "
   ]
  },
  {
   "cell_type": "markdown",
   "metadata": {},
   "source": [
    "- Is there a relation between marital status and repaying a loan on time?"
   ]
  },
  {
   "cell_type": "code",
   "execution_count": 19,
   "metadata": {},
   "outputs": [
    {
     "data": {
      "text/html": [
       "<div>\n",
       "<style scoped>\n",
       "    .dataframe tbody tr th:only-of-type {\n",
       "        vertical-align: middle;\n",
       "    }\n",
       "\n",
       "    .dataframe tbody tr th {\n",
       "        vertical-align: top;\n",
       "    }\n",
       "\n",
       "    .dataframe thead th {\n",
       "        text-align: right;\n",
       "    }\n",
       "</style>\n",
       "<table border=\"1\" class=\"dataframe\">\n",
       "  <thead>\n",
       "    <tr style=\"text-align: right;\">\n",
       "      <th>debt</th>\n",
       "      <th>family_status</th>\n",
       "      <th>0</th>\n",
       "      <th>1</th>\n",
       "      <th>All</th>\n",
       "      <th>default_rate</th>\n",
       "    </tr>\n",
       "  </thead>\n",
       "  <tbody>\n",
       "    <tr>\n",
       "      <td>0</td>\n",
       "      <td>civil partnership</td>\n",
       "      <td>3755</td>\n",
       "      <td>386</td>\n",
       "      <td>4141</td>\n",
       "      <td>9.321420</td>\n",
       "    </tr>\n",
       "    <tr>\n",
       "      <td>1</td>\n",
       "      <td>divorced</td>\n",
       "      <td>1100</td>\n",
       "      <td>85</td>\n",
       "      <td>1185</td>\n",
       "      <td>7.172996</td>\n",
       "    </tr>\n",
       "    <tr>\n",
       "      <td>2</td>\n",
       "      <td>married</td>\n",
       "      <td>11368</td>\n",
       "      <td>927</td>\n",
       "      <td>12295</td>\n",
       "      <td>7.539650</td>\n",
       "    </tr>\n",
       "    <tr>\n",
       "      <td>3</td>\n",
       "      <td>unmarried</td>\n",
       "      <td>2521</td>\n",
       "      <td>273</td>\n",
       "      <td>2794</td>\n",
       "      <td>9.770938</td>\n",
       "    </tr>\n",
       "    <tr>\n",
       "      <td>4</td>\n",
       "      <td>widow / widower</td>\n",
       "      <td>892</td>\n",
       "      <td>62</td>\n",
       "      <td>954</td>\n",
       "      <td>6.498952</td>\n",
       "    </tr>\n",
       "    <tr>\n",
       "      <td>5</td>\n",
       "      <td>All</td>\n",
       "      <td>19636</td>\n",
       "      <td>1733</td>\n",
       "      <td>21369</td>\n",
       "      <td>8.109879</td>\n",
       "    </tr>\n",
       "  </tbody>\n",
       "</table>\n",
       "</div>"
      ],
      "text/plain": [
       "debt      family_status      0     1    All  default_rate\n",
       "0     civil partnership   3755   386   4141      9.321420\n",
       "1              divorced   1100    85   1185      7.172996\n",
       "2               married  11368   927  12295      7.539650\n",
       "3             unmarried   2521   273   2794      9.770938\n",
       "4       widow / widower    892    62    954      6.498952\n",
       "5                   All  19636  1733  21369      8.109879"
      ]
     },
     "execution_count": 19,
     "metadata": {},
     "output_type": "execute_result"
    }
   ],
   "source": [
    "family_relation"
   ]
  },
  {
   "cell_type": "markdown",
   "metadata": {},
   "source": [
    "#### By making and viewing the pivot table that shows the relation between marital status and replaying loan on time, We can conclude several conclusions:\n",
    "1. The Average default rate is 8.1%.\n",
    "2. Widows have the lowest default rate - 6.49%.\n",
    "3. Unmarried have the highest default rate - 9.77%.\n",
    "4. Being in a civil partnership means having a high default rate - 9.32%."
   ]
  },
  {
   "cell_type": "markdown",
   "metadata": {},
   "source": [
    "### Conclusion"
   ]
  },
  {
   "cell_type": "markdown",
   "metadata": {},
   "source": [
    "#### There is a relation between marital status and repaying a loan on time.\n",
    "We can conclude that being through marrige in all forms(still married, divorced and widowed) leads to having a lower default rate and a higher chance to repay on time.\n",
    "the groups of married, divorced and widow all have lower default_rate than people who havent been through marrige - civil partnership and unmarried."
   ]
  },
  {
   "cell_type": "markdown",
   "metadata": {},
   "source": [
    "- Is there a relation between income level and repaying a loan on time?"
   ]
  },
  {
   "cell_type": "code",
   "execution_count": 20,
   "metadata": {},
   "outputs": [
    {
     "data": {
      "text/html": [
       "<div>\n",
       "<style scoped>\n",
       "    .dataframe tbody tr th:only-of-type {\n",
       "        vertical-align: middle;\n",
       "    }\n",
       "\n",
       "    .dataframe tbody tr th {\n",
       "        vertical-align: top;\n",
       "    }\n",
       "\n",
       "    .dataframe thead th {\n",
       "        text-align: right;\n",
       "    }\n",
       "</style>\n",
       "<table border=\"1\" class=\"dataframe\">\n",
       "  <thead>\n",
       "    <tr style=\"text-align: right;\">\n",
       "      <th>debt</th>\n",
       "      <th>income_level</th>\n",
       "      <th>0</th>\n",
       "      <th>1</th>\n",
       "      <th>All</th>\n",
       "      <th>default_rate</th>\n",
       "    </tr>\n",
       "  </thead>\n",
       "  <tbody>\n",
       "    <tr>\n",
       "      <td>0</td>\n",
       "      <td>low</td>\n",
       "      <td>4924</td>\n",
       "      <td>419</td>\n",
       "      <td>5343</td>\n",
       "      <td>7.842036</td>\n",
       "    </tr>\n",
       "    <tr>\n",
       "      <td>1</td>\n",
       "      <td>below_average</td>\n",
       "      <td>6362</td>\n",
       "      <td>603</td>\n",
       "      <td>6965</td>\n",
       "      <td>8.657574</td>\n",
       "    </tr>\n",
       "    <tr>\n",
       "      <td>2</td>\n",
       "      <td>above_average</td>\n",
       "      <td>3391</td>\n",
       "      <td>329</td>\n",
       "      <td>3720</td>\n",
       "      <td>8.844086</td>\n",
       "    </tr>\n",
       "    <tr>\n",
       "      <td>3</td>\n",
       "      <td>high</td>\n",
       "      <td>4866</td>\n",
       "      <td>376</td>\n",
       "      <td>5242</td>\n",
       "      <td>7.172835</td>\n",
       "    </tr>\n",
       "    <tr>\n",
       "      <td>4</td>\n",
       "      <td>very_high</td>\n",
       "      <td>93</td>\n",
       "      <td>6</td>\n",
       "      <td>99</td>\n",
       "      <td>6.060606</td>\n",
       "    </tr>\n",
       "    <tr>\n",
       "      <td>5</td>\n",
       "      <td>All</td>\n",
       "      <td>19636</td>\n",
       "      <td>1733</td>\n",
       "      <td>21369</td>\n",
       "      <td>8.109879</td>\n",
       "    </tr>\n",
       "  </tbody>\n",
       "</table>\n",
       "</div>"
      ],
      "text/plain": [
       "debt   income_level      0     1    All  default_rate\n",
       "0               low   4924   419   5343      7.842036\n",
       "1     below_average   6362   603   6965      8.657574\n",
       "2     above_average   3391   329   3720      8.844086\n",
       "3              high   4866   376   5242      7.172835\n",
       "4         very_high     93     6     99      6.060606\n",
       "5               All  19636  1733  21369      8.109879"
      ]
     },
     "execution_count": 20,
     "metadata": {},
     "output_type": "execute_result"
    }
   ],
   "source": [
    "income_relation"
   ]
  },
  {
   "cell_type": "markdown",
   "metadata": {},
   "source": [
    "#### By making and viewing the pivot table that shows the relation between marital status and replaying loan on time, We can conclude several conclusions:\n",
    "1. The Average default rate is 8.1% .\n",
    "2. very_high income level has the lowest default rate - 6.06%\n",
    "3. below_average income level has the highest default rate - 8.65%\n",
    "4. low income level has a lower default rate than below_average."
   ]
  },
  {
   "cell_type": "markdown",
   "metadata": {},
   "source": [
    "### Conclusion"
   ]
  },
  {
   "cell_type": "markdown",
   "metadata": {},
   "source": [
    "#### There is a relation between income level and replaying a loan on time. \n",
    "We can conclude that people with high income (high and very_high income levels) have the lowest default rate highest chance to repay on time.\n",
    "We can also conclude that the middle class (below_average and above_average) have the highest default rate and lowest chance to repay on time.\n",
    "We also see that people with low income level have higher chance to repay their loan on time, perhaps due to the higher value and impact the loan is having on them compared to the middle class."
   ]
  },
  {
   "cell_type": "markdown",
   "metadata": {},
   "source": [
    "- How do different loan purposes affect on-time repayment of the loan?"
   ]
  },
  {
   "cell_type": "code",
   "execution_count": 21,
   "metadata": {},
   "outputs": [
    {
     "data": {
      "text/html": [
       "<div>\n",
       "<style scoped>\n",
       "    .dataframe tbody tr th:only-of-type {\n",
       "        vertical-align: middle;\n",
       "    }\n",
       "\n",
       "    .dataframe tbody tr th {\n",
       "        vertical-align: top;\n",
       "    }\n",
       "\n",
       "    .dataframe thead th {\n",
       "        text-align: right;\n",
       "    }\n",
       "</style>\n",
       "<table border=\"1\" class=\"dataframe\">\n",
       "  <thead>\n",
       "    <tr style=\"text-align: right;\">\n",
       "      <th>debt</th>\n",
       "      <th>purpose_type</th>\n",
       "      <th>0</th>\n",
       "      <th>1</th>\n",
       "      <th>All</th>\n",
       "      <th>default_rate</th>\n",
       "    </tr>\n",
       "  </thead>\n",
       "  <tbody>\n",
       "    <tr>\n",
       "      <td>0</td>\n",
       "      <td>car</td>\n",
       "      <td>3886</td>\n",
       "      <td>400</td>\n",
       "      <td>4286</td>\n",
       "      <td>9.332711</td>\n",
       "    </tr>\n",
       "    <tr>\n",
       "      <td>1</td>\n",
       "      <td>education</td>\n",
       "      <td>3626</td>\n",
       "      <td>370</td>\n",
       "      <td>3996</td>\n",
       "      <td>9.259259</td>\n",
       "    </tr>\n",
       "    <tr>\n",
       "      <td>2</td>\n",
       "      <td>estate</td>\n",
       "      <td>9987</td>\n",
       "      <td>779</td>\n",
       "      <td>10766</td>\n",
       "      <td>7.235742</td>\n",
       "    </tr>\n",
       "    <tr>\n",
       "      <td>3</td>\n",
       "      <td>wedding</td>\n",
       "      <td>2137</td>\n",
       "      <td>184</td>\n",
       "      <td>2321</td>\n",
       "      <td>7.927617</td>\n",
       "    </tr>\n",
       "    <tr>\n",
       "      <td>4</td>\n",
       "      <td>All</td>\n",
       "      <td>19636</td>\n",
       "      <td>1733</td>\n",
       "      <td>21369</td>\n",
       "      <td>8.109879</td>\n",
       "    </tr>\n",
       "  </tbody>\n",
       "</table>\n",
       "</div>"
      ],
      "text/plain": [
       "debt purpose_type      0     1    All  default_rate\n",
       "0             car   3886   400   4286      9.332711\n",
       "1       education   3626   370   3996      9.259259\n",
       "2          estate   9987   779  10766      7.235742\n",
       "3         wedding   2137   184   2321      7.927617\n",
       "4             All  19636  1733  21369      8.109879"
      ]
     },
     "execution_count": 21,
     "metadata": {},
     "output_type": "execute_result"
    }
   ],
   "source": [
    "purpose_relation"
   ]
  },
  {
   "cell_type": "markdown",
   "metadata": {},
   "source": [
    "#### By making and viewing the pivot table that shows the relation between marital status and replaying loan on time, We can conclude several conclusions:\n",
    "1. The average default rate is 8.1%.\n",
    "2. The estate purpose of loan is having the lowest default_rate - 7.23%.\n",
    "3. The car purpose of loan is having the highest default_rate - 9.33%.\n",
    "4. Loan purpose of wedding is more likley to be paid on time than education purpose of loan."
   ]
  },
  {
   "cell_type": "markdown",
   "metadata": {},
   "source": [
    "### Conclusion"
   ]
  },
  {
   "cell_type": "markdown",
   "metadata": {},
   "source": [
    "#### \n",
    "There is a relation between loan purpose and repaying a loan on time.\n",
    "We can tell that loan purpose related to  estate is the most common (50.38%) and is most likely to be repaid on time (lowest default rate).\n",
    "Loan purpose of car is having the highest default rate and is most likely to not be repaid on time."
   ]
  },
  {
   "cell_type": "markdown",
   "metadata": {},
   "source": [
    "## General conclusion"
   ]
  },
  {
   "cell_type": "markdown",
   "metadata": {},
   "source": [
    "####\n",
    "To summarize, we concluded many conclusions regarding different aspects of the data:\n",
    "\n",
    "1. The data wasn't 'clean', it contained duplicates, missing values, and many illogical values.\n",
    "2. We made the assumption that people that lack 'days_employed' and 'total_income' together aren't working and filled those        missing values with 0. The amount of those unemployed people are roughly 10% which makes sense (10% of the loan requests        made by unemployed people).\n",
    "3. The duplicated rows have been removed (54 rows out of the entire data).\n",
    "4. Illogical values (-1 children, 20 children, 0 years of age, 600 years of work etc) have been proccesed and are explained in    The 'Proccesing illogical values' block.\n",
    "5. The integer types(int,float) data-types have been downcasted in order to save memory.\n",
    "\n",
    "6. Categorization has been made according to the questions asked, pivot tables and tables using groupby method have been created for each categorization.\n",
    "\n",
    "7. In matters of the data itself, We conclude that there are many relations in our data regarding paying the loan on time,\n",
    "   And probably many more to discover in it."
   ]
  },
  {
   "cell_type": "code",
   "execution_count": null,
   "metadata": {},
   "outputs": [],
   "source": []
  }
 ],
 "metadata": {
  "ExecuteTimeLog": [
   {
    "duration": 599,
    "start_time": "2021-06-13T12:51:51.624Z"
   },
   {
    "duration": 953,
    "start_time": "2021-06-13T12:53:27.578Z"
   },
   {
    "duration": 254,
    "start_time": "2021-06-13T12:53:48.069Z"
   },
   {
    "duration": 265,
    "start_time": "2021-06-13T12:54:04.714Z"
   },
   {
    "duration": 305,
    "start_time": "2021-06-13T12:56:41.677Z"
   },
   {
    "duration": 255,
    "start_time": "2021-06-13T12:59:28.623Z"
   },
   {
    "duration": 231,
    "start_time": "2021-06-13T12:59:43.737Z"
   },
   {
    "duration": 255,
    "start_time": "2021-06-13T13:00:02.264Z"
   },
   {
    "duration": 264,
    "start_time": "2021-06-13T13:13:52.209Z"
   },
   {
    "duration": 257,
    "start_time": "2021-06-13T13:13:55.861Z"
   },
   {
    "duration": 288,
    "start_time": "2021-06-13T13:13:59.557Z"
   },
   {
    "duration": 335,
    "start_time": "2021-06-13T13:14:19.733Z"
   },
   {
    "duration": 286,
    "start_time": "2021-06-13T13:14:31.957Z"
   },
   {
    "duration": 278,
    "start_time": "2021-06-13T13:14:46.503Z"
   },
   {
    "duration": 263,
    "start_time": "2021-06-13T13:17:13.960Z"
   },
   {
    "duration": 323,
    "start_time": "2021-06-13T13:17:49.015Z"
   },
   {
    "duration": 54,
    "start_time": "2021-06-13T13:19:02.969Z"
   },
   {
    "duration": 57,
    "start_time": "2021-06-13T13:19:15.665Z"
   },
   {
    "duration": 29,
    "start_time": "2021-06-13T14:11:51.141Z"
   },
   {
    "duration": 63,
    "start_time": "2021-06-13T19:54:25.763Z"
   },
   {
    "duration": 14,
    "start_time": "2021-06-13T19:59:00.141Z"
   },
   {
    "duration": 23,
    "start_time": "2021-06-13T19:59:52.391Z"
   },
   {
    "duration": 23,
    "start_time": "2021-06-13T19:59:56.745Z"
   },
   {
    "duration": 23,
    "start_time": "2021-06-13T20:00:00.439Z"
   },
   {
    "duration": 890,
    "start_time": "2021-06-13T20:06:25.321Z"
   },
   {
    "duration": 23,
    "start_time": "2021-06-13T20:06:53.581Z"
   },
   {
    "duration": 269,
    "start_time": "2021-06-13T20:07:06.270Z"
   },
   {
    "duration": 11,
    "start_time": "2021-06-13T20:07:58.749Z"
   },
   {
    "duration": 10,
    "start_time": "2021-06-13T20:08:19.726Z"
   },
   {
    "duration": 17,
    "start_time": "2021-06-13T20:08:55.855Z"
   },
   {
    "duration": 22,
    "start_time": "2021-06-13T20:09:03.811Z"
   },
   {
    "duration": 31,
    "start_time": "2021-06-13T20:09:48.320Z"
   },
   {
    "duration": 22,
    "start_time": "2021-06-13T20:09:57.344Z"
   },
   {
    "duration": 22,
    "start_time": "2021-06-13T20:10:00.896Z"
   },
   {
    "duration": 20,
    "start_time": "2021-06-13T20:10:11.792Z"
   },
   {
    "duration": 112,
    "start_time": "2021-06-13T20:10:19.456Z"
   },
   {
    "duration": 5,
    "start_time": "2021-06-13T20:10:24.723Z"
   },
   {
    "duration": 236,
    "start_time": "2021-06-13T20:10:31.728Z"
   },
   {
    "duration": 44,
    "start_time": "2021-06-13T20:10:38.002Z"
   },
   {
    "duration": 49,
    "start_time": "2021-06-13T20:13:03.236Z"
   },
   {
    "duration": 48,
    "start_time": "2021-06-14T06:38:46.632Z"
   },
   {
    "duration": 23,
    "start_time": "2021-06-14T06:40:58.875Z"
   },
   {
    "duration": 22,
    "start_time": "2021-06-14T06:42:11.815Z"
   },
   {
    "duration": 9,
    "start_time": "2021-06-14T06:45:32.185Z"
   },
   {
    "duration": 11,
    "start_time": "2021-06-14T06:45:52.121Z"
   },
   {
    "duration": 22,
    "start_time": "2021-06-14T06:47:22.489Z"
   },
   {
    "duration": 23,
    "start_time": "2021-06-14T06:48:35.890Z"
   },
   {
    "duration": 10,
    "start_time": "2021-06-14T06:48:44.155Z"
   },
   {
    "duration": 22,
    "start_time": "2021-06-14T06:48:58.235Z"
   },
   {
    "duration": 23,
    "start_time": "2021-06-14T06:49:02.411Z"
   },
   {
    "duration": 9,
    "start_time": "2021-06-14T08:52:36.724Z"
   },
   {
    "duration": 11,
    "start_time": "2021-06-14T09:30:14.193Z"
   },
   {
    "duration": 7,
    "start_time": "2021-06-14T09:31:54.905Z"
   },
   {
    "duration": 13,
    "start_time": "2021-06-14T09:32:18.805Z"
   },
   {
    "duration": 14,
    "start_time": "2021-06-14T09:41:59.530Z"
   },
   {
    "duration": 15,
    "start_time": "2021-06-14T09:42:10.510Z"
   },
   {
    "duration": 16,
    "start_time": "2021-06-14T09:45:22.000Z"
   },
   {
    "duration": 10,
    "start_time": "2021-06-14T09:45:35.808Z"
   },
   {
    "duration": 13,
    "start_time": "2021-06-14T09:45:41.296Z"
   },
   {
    "duration": 13,
    "start_time": "2021-06-14T09:46:10.864Z"
   },
   {
    "duration": 13,
    "start_time": "2021-06-14T09:46:59.602Z"
   },
   {
    "duration": 6,
    "start_time": "2021-06-14T09:47:44.242Z"
   },
   {
    "duration": 10,
    "start_time": "2021-06-14T09:47:59.954Z"
   },
   {
    "duration": 102,
    "start_time": "2021-06-14T09:51:29.611Z"
   },
   {
    "duration": 289,
    "start_time": "2021-06-14T09:51:37.274Z"
   },
   {
    "duration": 13,
    "start_time": "2021-06-14T09:51:40.371Z"
   },
   {
    "duration": 707,
    "start_time": "2021-06-14T09:51:46.490Z"
   },
   {
    "duration": 12,
    "start_time": "2021-06-14T09:51:51.044Z"
   },
   {
    "duration": 48,
    "start_time": "2021-06-14T09:52:11.190Z"
   },
   {
    "duration": 33,
    "start_time": "2021-06-14T09:52:22.774Z"
   },
   {
    "duration": 250,
    "start_time": "2021-06-14T09:52:36.502Z"
   },
   {
    "duration": 37,
    "start_time": "2021-06-14T09:56:22.086Z"
   },
   {
    "duration": 46,
    "start_time": "2021-06-14T09:56:51.163Z"
   },
   {
    "duration": 24,
    "start_time": "2021-06-14T09:57:12.506Z"
   },
   {
    "duration": 304,
    "start_time": "2021-06-14T09:57:24.121Z"
   },
   {
    "duration": 22,
    "start_time": "2021-06-14T09:57:29.594Z"
   },
   {
    "duration": -116,
    "start_time": "2021-06-14T09:58:22.867Z"
   },
   {
    "duration": 293,
    "start_time": "2021-06-14T09:58:31.291Z"
   },
   {
    "duration": 23,
    "start_time": "2021-06-14T09:58:44.332Z"
   },
   {
    "duration": 23,
    "start_time": "2021-06-14T09:58:58.668Z"
   },
   {
    "duration": 21,
    "start_time": "2021-06-14T10:00:59.294Z"
   },
   {
    "duration": 24,
    "start_time": "2021-06-14T10:01:28.158Z"
   },
   {
    "duration": 20,
    "start_time": "2021-06-14T10:05:58.562Z"
   },
   {
    "duration": 25,
    "start_time": "2021-06-14T10:06:21.616Z"
   },
   {
    "duration": 33,
    "start_time": "2021-06-14T10:10:13.204Z"
   },
   {
    "duration": 38,
    "start_time": "2021-06-14T10:10:27.066Z"
   },
   {
    "duration": 20,
    "start_time": "2021-06-14T10:10:38.756Z"
   },
   {
    "duration": 17,
    "start_time": "2021-06-14T10:15:55.153Z"
   },
   {
    "duration": 37,
    "start_time": "2021-06-14T10:16:33.706Z"
   },
   {
    "duration": 30,
    "start_time": "2021-06-14T10:17:48.176Z"
   },
   {
    "duration": 247,
    "start_time": "2021-06-14T10:18:11.123Z"
   },
   {
    "duration": 14,
    "start_time": "2021-06-14T10:18:14.811Z"
   },
   {
    "duration": 35,
    "start_time": "2021-06-14T10:18:27.578Z"
   },
   {
    "duration": 262,
    "start_time": "2021-06-14T10:19:25.564Z"
   },
   {
    "duration": 24,
    "start_time": "2021-06-14T10:19:28.877Z"
   },
   {
    "duration": 16,
    "start_time": "2021-06-14T10:19:41.069Z"
   },
   {
    "duration": 16,
    "start_time": "2021-06-14T10:26:44.961Z"
   },
   {
    "duration": 17,
    "start_time": "2021-06-14T10:27:57.189Z"
   },
   {
    "duration": 16,
    "start_time": "2021-06-14T10:28:04.898Z"
   },
   {
    "duration": 109,
    "start_time": "2021-06-14T10:29:39.905Z"
   },
   {
    "duration": 266,
    "start_time": "2021-06-14T10:30:54.499Z"
   },
   {
    "duration": 17,
    "start_time": "2021-06-14T10:32:39.623Z"
   },
   {
    "duration": 32,
    "start_time": "2021-06-14T10:32:55.047Z"
   },
   {
    "duration": 19,
    "start_time": "2021-06-14T10:33:23.214Z"
   },
   {
    "duration": 34,
    "start_time": "2021-06-14T10:33:37.033Z"
   },
   {
    "duration": 18,
    "start_time": "2021-06-14T10:34:29.849Z"
   },
   {
    "duration": 23,
    "start_time": "2021-06-14T10:45:33.121Z"
   },
   {
    "duration": 23,
    "start_time": "2021-06-14T10:45:52.409Z"
   },
   {
    "duration": 37,
    "start_time": "2021-06-14T10:46:37.939Z"
   },
   {
    "duration": 46,
    "start_time": "2021-06-14T15:36:18.351Z"
   },
   {
    "duration": 33,
    "start_time": "2021-06-14T15:43:25.036Z"
   },
   {
    "duration": 10,
    "start_time": "2021-06-14T15:47:43.210Z"
   },
   {
    "duration": 9,
    "start_time": "2021-06-14T15:47:48.803Z"
   },
   {
    "duration": 10,
    "start_time": "2021-06-14T15:47:56.162Z"
   },
   {
    "duration": 37,
    "start_time": "2021-06-14T15:50:24.928Z"
   },
   {
    "duration": 97,
    "start_time": "2021-06-14T15:50:35.178Z"
   },
   {
    "duration": 12,
    "start_time": "2021-06-14T15:50:40.948Z"
   },
   {
    "duration": 37,
    "start_time": "2021-06-14T15:50:49.348Z"
   },
   {
    "duration": 10,
    "start_time": "2021-06-14T15:52:50.756Z"
   },
   {
    "duration": 295,
    "start_time": "2021-06-14T15:52:56.996Z"
   },
   {
    "duration": 9,
    "start_time": "2021-06-14T15:54:42.024Z"
   },
   {
    "duration": 9,
    "start_time": "2021-06-14T15:54:46.582Z"
   },
   {
    "duration": 29,
    "start_time": "2021-06-14T15:56:24.229Z"
   },
   {
    "duration": 31,
    "start_time": "2021-06-14T16:00:15.657Z"
   },
   {
    "duration": 36,
    "start_time": "2021-06-14T16:02:22.427Z"
   },
   {
    "duration": 36,
    "start_time": "2021-06-14T16:04:02.574Z"
   },
   {
    "duration": 90,
    "start_time": "2021-06-14T16:05:57.914Z"
   },
   {
    "duration": 9,
    "start_time": "2021-06-14T16:06:05.040Z"
   },
   {
    "duration": 9,
    "start_time": "2021-06-14T16:06:07.633Z"
   },
   {
    "duration": 12,
    "start_time": "2021-06-14T16:06:19.458Z"
   },
   {
    "duration": 36,
    "start_time": "2021-06-14T16:08:57.282Z"
   },
   {
    "duration": 91,
    "start_time": "2021-06-14T16:09:29.916Z"
   },
   {
    "duration": 15,
    "start_time": "2021-06-14T16:09:33.010Z"
   },
   {
    "duration": 36,
    "start_time": "2021-06-14T16:09:48.420Z"
   },
   {
    "duration": 35,
    "start_time": "2021-06-14T16:10:04.773Z"
   },
   {
    "duration": 38,
    "start_time": "2021-06-14T16:10:10.373Z"
   },
   {
    "duration": 36,
    "start_time": "2021-06-14T16:10:14.023Z"
   },
   {
    "duration": 41,
    "start_time": "2021-06-14T16:10:20.052Z"
   },
   {
    "duration": 37,
    "start_time": "2021-06-14T16:10:48.934Z"
   },
   {
    "duration": 293,
    "start_time": "2021-06-14T16:11:14.869Z"
   },
   {
    "duration": 88,
    "start_time": "2021-06-14T16:11:21.812Z"
   },
   {
    "duration": 280,
    "start_time": "2021-06-14T16:11:30.757Z"
   },
   {
    "duration": 275,
    "start_time": "2021-06-14T16:11:47.094Z"
   },
   {
    "duration": 14,
    "start_time": "2021-06-14T16:12:17.640Z"
   },
   {
    "duration": 19,
    "start_time": "2021-06-14T16:17:47.801Z"
   },
   {
    "duration": 14,
    "start_time": "2021-06-14T16:18:06.186Z"
   },
   {
    "duration": 18,
    "start_time": "2021-06-14T16:18:09.611Z"
   },
   {
    "duration": 17,
    "start_time": "2021-06-14T16:18:17.675Z"
   },
   {
    "duration": 327,
    "start_time": "2021-06-14T16:18:37.978Z"
   },
   {
    "duration": 11,
    "start_time": "2021-06-14T16:18:57.629Z"
   },
   {
    "duration": 15,
    "start_time": "2021-06-14T16:19:03.851Z"
   },
   {
    "duration": 13,
    "start_time": "2021-06-14T16:20:08.989Z"
   },
   {
    "duration": 14,
    "start_time": "2021-06-14T16:23:50.989Z"
   },
   {
    "duration": 22,
    "start_time": "2021-06-14T16:24:08.223Z"
   },
   {
    "duration": 25,
    "start_time": "2021-06-14T16:24:41.188Z"
   },
   {
    "duration": 17,
    "start_time": "2021-06-14T16:26:11.513Z"
   },
   {
    "duration": 23,
    "start_time": "2021-06-14T16:29:48.363Z"
   },
   {
    "duration": 291,
    "start_time": "2021-06-14T16:33:24.881Z"
   },
   {
    "duration": 15,
    "start_time": "2021-06-14T16:33:25.175Z"
   },
   {
    "duration": 92,
    "start_time": "2021-06-14T16:33:25.194Z"
   },
   {
    "duration": 16,
    "start_time": "2021-06-14T16:33:25.290Z"
   },
   {
    "duration": 22,
    "start_time": "2021-06-14T16:33:25.309Z"
   },
   {
    "duration": 58,
    "start_time": "2021-06-14T16:33:25.334Z"
   },
   {
    "duration": 55,
    "start_time": "2021-06-14T16:33:25.394Z"
   },
   {
    "duration": 11,
    "start_time": "2021-06-14T16:33:25.454Z"
   },
   {
    "duration": 16,
    "start_time": "2021-06-14T16:33:25.468Z"
   },
   {
    "duration": 59,
    "start_time": "2021-06-14T16:33:25.486Z"
   },
   {
    "duration": 32,
    "start_time": "2021-06-14T16:33:25.548Z"
   },
   {
    "duration": 57,
    "start_time": "2021-06-14T16:33:25.582Z"
   },
   {
    "duration": 42,
    "start_time": "2021-06-14T16:34:58.258Z"
   },
   {
    "duration": 287,
    "start_time": "2021-06-14T16:38:02.082Z"
   },
   {
    "duration": 286,
    "start_time": "2021-06-14T16:38:10.711Z"
   },
   {
    "duration": 7104,
    "start_time": "2021-06-14T16:38:16.316Z"
   },
   {
    "duration": 303,
    "start_time": "2021-06-14T16:39:00.737Z"
   },
   {
    "duration": 27,
    "start_time": "2021-06-14T16:39:40.276Z"
   },
   {
    "duration": 50,
    "start_time": "2021-06-14T16:40:27.024Z"
   },
   {
    "duration": 67,
    "start_time": "2021-06-14T16:41:28.966Z"
   },
   {
    "duration": 23,
    "start_time": "2021-06-14T16:41:35.152Z"
   },
   {
    "duration": 44,
    "start_time": "2021-06-14T16:51:54.276Z"
   },
   {
    "duration": 301,
    "start_time": "2021-06-14T16:52:38.031Z"
   },
   {
    "duration": 20,
    "start_time": "2021-06-14T16:52:48.636Z"
   },
   {
    "duration": 21,
    "start_time": "2021-06-14T16:52:52.024Z"
   },
   {
    "duration": 21,
    "start_time": "2021-06-14T16:53:15.016Z"
   },
   {
    "duration": 4,
    "start_time": "2021-06-14T16:53:31.192Z"
   },
   {
    "duration": 44,
    "start_time": "2021-06-14T16:53:46.427Z"
   },
   {
    "duration": 25,
    "start_time": "2021-06-14T16:54:08.256Z"
   },
   {
    "duration": 20,
    "start_time": "2021-06-14T16:54:29.020Z"
   },
   {
    "duration": 49,
    "start_time": "2021-06-14T16:55:58.702Z"
   },
   {
    "duration": 23,
    "start_time": "2021-06-14T16:56:11.477Z"
   },
   {
    "duration": 195,
    "start_time": "2021-06-14T16:56:40.732Z"
   },
   {
    "duration": 41,
    "start_time": "2021-06-14T16:56:44.112Z"
   },
   {
    "duration": 26,
    "start_time": "2021-06-14T16:56:49.134Z"
   },
   {
    "duration": 23,
    "start_time": "2021-06-14T16:58:51.242Z"
   },
   {
    "duration": 30,
    "start_time": "2021-06-14T17:00:28.384Z"
   },
   {
    "duration": 23,
    "start_time": "2021-06-14T17:02:31.852Z"
   },
   {
    "duration": 23,
    "start_time": "2021-06-14T17:04:02.466Z"
   },
   {
    "duration": 28,
    "start_time": "2021-06-14T17:04:14.674Z"
   },
   {
    "duration": 67,
    "start_time": "2021-06-14T17:04:30.692Z"
   },
   {
    "duration": 51,
    "start_time": "2021-06-14T17:07:13.644Z"
   },
   {
    "duration": 26,
    "start_time": "2021-06-14T17:12:59.014Z"
   },
   {
    "duration": 17,
    "start_time": "2021-06-14T17:13:02.506Z"
   },
   {
    "duration": 48,
    "start_time": "2021-06-14T17:13:10.744Z"
   },
   {
    "duration": 52,
    "start_time": "2021-06-14T17:15:15.704Z"
   },
   {
    "duration": 49,
    "start_time": "2021-06-14T17:23:24.348Z"
   },
   {
    "duration": 50,
    "start_time": "2021-06-14T17:31:31.475Z"
   },
   {
    "duration": 48,
    "start_time": "2021-06-14T17:31:50.830Z"
   },
   {
    "duration": 70,
    "start_time": "2021-06-14T17:32:13.309Z"
   },
   {
    "duration": 47,
    "start_time": "2021-06-14T17:32:38.506Z"
   },
   {
    "duration": 26,
    "start_time": "2021-06-14T17:34:15.165Z"
   },
   {
    "duration": 23,
    "start_time": "2021-06-14T17:34:41.294Z"
   },
   {
    "duration": 29,
    "start_time": "2021-06-14T17:36:15.998Z"
   },
   {
    "duration": 25,
    "start_time": "2021-06-14T17:36:30.270Z"
   },
   {
    "duration": 34,
    "start_time": "2021-06-14T17:36:48.381Z"
   },
   {
    "duration": 31,
    "start_time": "2021-06-14T17:37:08.877Z"
   },
   {
    "duration": 24,
    "start_time": "2021-06-14T17:37:23.871Z"
   },
   {
    "duration": 25,
    "start_time": "2021-06-14T17:37:29.885Z"
   },
   {
    "duration": 25,
    "start_time": "2021-06-14T17:37:53.101Z"
   },
   {
    "duration": 24,
    "start_time": "2021-06-14T17:38:29.601Z"
   },
   {
    "duration": 468,
    "start_time": "2021-06-14T17:39:20.902Z"
   },
   {
    "duration": 14,
    "start_time": "2021-06-14T17:39:21.373Z"
   },
   {
    "duration": 62,
    "start_time": "2021-06-14T17:39:21.390Z"
   },
   {
    "duration": 13,
    "start_time": "2021-06-14T17:39:21.455Z"
   },
   {
    "duration": 11,
    "start_time": "2021-06-14T17:39:21.471Z"
   },
   {
    "duration": 85,
    "start_time": "2021-06-14T17:39:21.485Z"
   },
   {
    "duration": 23,
    "start_time": "2021-06-14T17:39:21.573Z"
   },
   {
    "duration": 27,
    "start_time": "2021-06-14T17:39:21.598Z"
   },
   {
    "duration": 15,
    "start_time": "2021-06-14T17:39:21.628Z"
   },
   {
    "duration": 86,
    "start_time": "2021-06-14T17:39:21.646Z"
   },
   {
    "duration": 28,
    "start_time": "2021-06-14T17:39:21.735Z"
   },
   {
    "duration": 64,
    "start_time": "2021-06-14T17:39:21.766Z"
   },
   {
    "duration": 24,
    "start_time": "2021-06-14T17:39:55.073Z"
   },
   {
    "duration": 25,
    "start_time": "2021-06-14T17:40:14.835Z"
   },
   {
    "duration": 27,
    "start_time": "2021-06-14T17:40:33.535Z"
   },
   {
    "duration": 27,
    "start_time": "2021-06-14T17:41:19.573Z"
   },
   {
    "duration": 25,
    "start_time": "2021-06-14T17:45:20.643Z"
   },
   {
    "duration": 50,
    "start_time": "2021-06-14T17:45:35.846Z"
   },
   {
    "duration": 26,
    "start_time": "2021-06-14T17:46:07.413Z"
   },
   {
    "duration": 33,
    "start_time": "2021-06-14T17:46:13.141Z"
   },
   {
    "duration": 27,
    "start_time": "2021-06-14T17:46:27.989Z"
   },
   {
    "duration": 28,
    "start_time": "2021-06-14T17:46:43.541Z"
   },
   {
    "duration": 25,
    "start_time": "2021-06-14T17:47:03.974Z"
   },
   {
    "duration": 24,
    "start_time": "2021-06-14T17:47:33.017Z"
   },
   {
    "duration": 23,
    "start_time": "2021-06-14T17:47:41.352Z"
   },
   {
    "duration": 24,
    "start_time": "2021-06-14T17:47:44.183Z"
   },
   {
    "duration": 249,
    "start_time": "2021-06-14T17:48:49.682Z"
   },
   {
    "duration": 14,
    "start_time": "2021-06-14T17:48:49.934Z"
   },
   {
    "duration": 45,
    "start_time": "2021-06-14T17:48:49.951Z"
   },
   {
    "duration": 35,
    "start_time": "2021-06-14T17:48:49.999Z"
   },
   {
    "duration": 18,
    "start_time": "2021-06-14T17:48:50.037Z"
   },
   {
    "duration": 73,
    "start_time": "2021-06-14T17:48:50.057Z"
   },
   {
    "duration": 22,
    "start_time": "2021-06-14T17:48:50.132Z"
   },
   {
    "duration": 9,
    "start_time": "2021-06-14T17:48:50.156Z"
   },
   {
    "duration": 18,
    "start_time": "2021-06-14T17:48:50.168Z"
   },
   {
    "duration": 54,
    "start_time": "2021-06-14T17:48:50.189Z"
   },
   {
    "duration": 28,
    "start_time": "2021-06-14T17:48:50.245Z"
   },
   {
    "duration": 70,
    "start_time": "2021-06-14T17:48:50.276Z"
   },
   {
    "duration": 25,
    "start_time": "2021-06-14T17:48:56.377Z"
   },
   {
    "duration": 24,
    "start_time": "2021-06-14T17:48:58.649Z"
   },
   {
    "duration": 24,
    "start_time": "2021-06-14T17:49:08.811Z"
   },
   {
    "duration": 32,
    "start_time": "2021-06-14T17:49:13.735Z"
   },
   {
    "duration": 1080,
    "start_time": "2021-06-14T17:50:25.707Z"
   },
   {
    "duration": 16,
    "start_time": "2021-06-14T17:50:40.755Z"
   },
   {
    "duration": 17,
    "start_time": "2021-06-14T17:50:55.765Z"
   },
   {
    "duration": 52,
    "start_time": "2021-06-14T17:51:11.971Z"
   },
   {
    "duration": 56,
    "start_time": "2021-06-14T17:52:19.415Z"
   },
   {
    "duration": 59,
    "start_time": "2021-06-14T18:03:49.958Z"
   },
   {
    "duration": 458,
    "start_time": "2021-06-14T18:05:11.616Z"
   },
   {
    "duration": 18,
    "start_time": "2021-06-14T18:05:22.847Z"
   },
   {
    "duration": 16,
    "start_time": "2021-06-14T18:05:43.167Z"
   },
   {
    "duration": 13,
    "start_time": "2021-06-14T18:05:53.040Z"
   },
   {
    "duration": 956,
    "start_time": "2021-06-14T18:06:41.954Z"
   },
   {
    "duration": 16,
    "start_time": "2021-06-14T18:06:55.874Z"
   },
   {
    "duration": 21,
    "start_time": "2021-06-14T18:07:17.637Z"
   },
   {
    "duration": 25,
    "start_time": "2021-06-14T18:07:33.427Z"
   },
   {
    "duration": 7021,
    "start_time": "2021-06-14T18:08:06.083Z"
   },
   {
    "duration": 23,
    "start_time": "2021-06-14T18:08:35.540Z"
   },
   {
    "duration": 16,
    "start_time": "2021-06-14T18:08:50.036Z"
   },
   {
    "duration": 276,
    "start_time": "2021-06-14T18:08:53.605Z"
   },
   {
    "duration": 333,
    "start_time": "2021-06-14T18:09:05.958Z"
   },
   {
    "duration": 17,
    "start_time": "2021-06-14T18:09:23.076Z"
   },
   {
    "duration": 88,
    "start_time": "2021-06-14T18:10:22.565Z"
   },
   {
    "duration": 98,
    "start_time": "2021-06-14T18:10:33.670Z"
   },
   {
    "duration": 45,
    "start_time": "2021-06-14T18:10:37.543Z"
   },
   {
    "duration": 21,
    "start_time": "2021-06-14T18:13:54.417Z"
   },
   {
    "duration": 43,
    "start_time": "2021-06-14T18:13:58.311Z"
   },
   {
    "duration": 42,
    "start_time": "2021-06-14T18:15:53.194Z"
   },
   {
    "duration": 93,
    "start_time": "2021-06-14T18:16:19.881Z"
   },
   {
    "duration": 43,
    "start_time": "2021-06-14T18:16:23.161Z"
   },
   {
    "duration": 33,
    "start_time": "2021-06-14T18:16:28.218Z"
   },
   {
    "duration": 43,
    "start_time": "2021-06-14T18:17:13.404Z"
   },
   {
    "duration": 38,
    "start_time": "2021-06-14T18:25:27.391Z"
   },
   {
    "duration": 27,
    "start_time": "2021-06-14T18:25:43.834Z"
   },
   {
    "duration": 35,
    "start_time": "2021-06-14T18:25:47.349Z"
   },
   {
    "duration": 25,
    "start_time": "2021-06-14T18:25:56.291Z"
   },
   {
    "duration": 66,
    "start_time": "2021-06-14T18:30:31.219Z"
   },
   {
    "duration": 57,
    "start_time": "2021-06-14T18:33:03.690Z"
   },
   {
    "duration": 55,
    "start_time": "2021-06-14T18:33:53.963Z"
   },
   {
    "duration": 68,
    "start_time": "2021-06-14T18:34:48.953Z"
   },
   {
    "duration": 70,
    "start_time": "2021-06-14T18:39:43.883Z"
   },
   {
    "duration": 353,
    "start_time": "2021-06-14T18:40:05.471Z"
   },
   {
    "duration": 78,
    "start_time": "2021-06-14T18:40:29.373Z"
   },
   {
    "duration": 93,
    "start_time": "2021-06-14T18:40:39.857Z"
   },
   {
    "duration": 64,
    "start_time": "2021-06-14T18:41:44.815Z"
   },
   {
    "duration": 69,
    "start_time": "2021-06-14T18:41:49.296Z"
   },
   {
    "duration": 15,
    "start_time": "2021-06-14T18:44:30.231Z"
   },
   {
    "duration": 45,
    "start_time": "2021-06-14T18:44:32.177Z"
   },
   {
    "duration": 12,
    "start_time": "2021-06-14T18:44:33.617Z"
   },
   {
    "duration": 10,
    "start_time": "2021-06-14T18:44:35.823Z"
   },
   {
    "duration": 972,
    "start_time": "2021-06-14T18:45:03.460Z"
   },
   {
    "duration": 17,
    "start_time": "2021-06-14T18:45:04.435Z"
   },
   {
    "duration": 70,
    "start_time": "2021-06-14T18:45:04.456Z"
   },
   {
    "duration": 12,
    "start_time": "2021-06-14T18:45:04.530Z"
   },
   {
    "duration": 24,
    "start_time": "2021-06-14T18:45:04.545Z"
   },
   {
    "duration": 68,
    "start_time": "2021-06-14T18:45:04.572Z"
   },
   {
    "duration": 22,
    "start_time": "2021-06-14T18:45:04.642Z"
   },
   {
    "duration": 14,
    "start_time": "2021-06-14T18:45:04.667Z"
   },
   {
    "duration": 45,
    "start_time": "2021-06-14T18:45:04.683Z"
   },
   {
    "duration": 58,
    "start_time": "2021-06-14T18:45:04.730Z"
   },
   {
    "duration": 52,
    "start_time": "2021-06-14T18:45:04.790Z"
   },
   {
    "duration": 38,
    "start_time": "2021-06-14T18:45:04.844Z"
   },
   {
    "duration": 52,
    "start_time": "2021-06-14T18:46:39.569Z"
   },
   {
    "duration": 89,
    "start_time": "2021-06-14T18:46:52.993Z"
   },
   {
    "duration": 40,
    "start_time": "2021-06-14T18:47:49.856Z"
   },
   {
    "duration": 9,
    "start_time": "2021-06-14T18:53:41.136Z"
   },
   {
    "duration": 90,
    "start_time": "2021-06-14T18:55:38.977Z"
   },
   {
    "duration": 62,
    "start_time": "2021-06-14T19:18:44.327Z"
   },
   {
    "duration": 61,
    "start_time": "2021-06-14T19:24:04.462Z"
   },
   {
    "duration": 394,
    "start_time": "2021-06-14T19:26:12.401Z"
   },
   {
    "duration": 63,
    "start_time": "2021-06-14T19:26:34.116Z"
   },
   {
    "duration": 63,
    "start_time": "2021-06-14T19:26:46.626Z"
   },
   {
    "duration": 48,
    "start_time": "2021-06-14T19:33:32.878Z"
   },
   {
    "duration": 66,
    "start_time": "2021-06-14T19:37:21.110Z"
   },
   {
    "duration": 58,
    "start_time": "2021-06-14T19:37:37.868Z"
   },
   {
    "duration": 66,
    "start_time": "2021-06-14T19:38:01.932Z"
   },
   {
    "duration": 65,
    "start_time": "2021-06-14T19:38:46.220Z"
   },
   {
    "duration": 64,
    "start_time": "2021-06-14T19:39:49.512Z"
   },
   {
    "duration": 973,
    "start_time": "2021-06-14T19:40:03.741Z"
   },
   {
    "duration": 15,
    "start_time": "2021-06-14T19:40:04.716Z"
   },
   {
    "duration": 48,
    "start_time": "2021-06-14T19:40:04.733Z"
   },
   {
    "duration": 42,
    "start_time": "2021-06-14T19:40:04.784Z"
   },
   {
    "duration": 26,
    "start_time": "2021-06-14T19:40:04.828Z"
   },
   {
    "duration": 55,
    "start_time": "2021-06-14T19:40:04.857Z"
   },
   {
    "duration": 26,
    "start_time": "2021-06-14T19:40:04.915Z"
   },
   {
    "duration": 9,
    "start_time": "2021-06-14T19:40:04.944Z"
   },
   {
    "duration": 15,
    "start_time": "2021-06-14T19:40:04.956Z"
   },
   {
    "duration": 102,
    "start_time": "2021-06-14T19:40:04.973Z"
   },
   {
    "duration": 50,
    "start_time": "2021-06-14T19:40:05.078Z"
   },
   {
    "duration": 39,
    "start_time": "2021-06-14T19:40:05.130Z"
   },
   {
    "duration": 86,
    "start_time": "2021-06-14T19:40:05.172Z"
   },
   {
    "duration": 60,
    "start_time": "2021-06-14T19:42:01.439Z"
   },
   {
    "duration": 110,
    "start_time": "2021-06-14T19:42:18.861Z"
   },
   {
    "duration": 96,
    "start_time": "2021-06-14T19:43:08.273Z"
   },
   {
    "duration": 62,
    "start_time": "2021-06-14T19:45:40.841Z"
   },
   {
    "duration": 109,
    "start_time": "2021-06-14T19:45:47.694Z"
   },
   {
    "duration": 991,
    "start_time": "2021-06-14T19:46:16.878Z"
   },
   {
    "duration": 14,
    "start_time": "2021-06-14T19:46:17.872Z"
   },
   {
    "duration": 71,
    "start_time": "2021-06-14T19:46:17.890Z"
   },
   {
    "duration": 11,
    "start_time": "2021-06-14T19:46:17.964Z"
   },
   {
    "duration": 18,
    "start_time": "2021-06-14T19:46:17.978Z"
   },
   {
    "duration": 67,
    "start_time": "2021-06-14T19:46:17.999Z"
   },
   {
    "duration": 33,
    "start_time": "2021-06-14T19:46:18.069Z"
   },
   {
    "duration": 14,
    "start_time": "2021-06-14T19:46:18.125Z"
   },
   {
    "duration": 25,
    "start_time": "2021-06-14T19:46:18.143Z"
   },
   {
    "duration": 515,
    "start_time": "2021-06-14T19:46:18.171Z"
   },
   {
    "duration": 449,
    "start_time": "2021-06-14T19:46:18.239Z"
   },
   {
    "duration": 450,
    "start_time": "2021-06-14T19:46:18.240Z"
   },
   {
    "duration": 449,
    "start_time": "2021-06-14T19:46:18.242Z"
   },
   {
    "duration": 981,
    "start_time": "2021-06-14T19:46:51.028Z"
   },
   {
    "duration": 15,
    "start_time": "2021-06-14T19:46:52.012Z"
   },
   {
    "duration": 48,
    "start_time": "2021-06-14T19:46:52.031Z"
   },
   {
    "duration": 13,
    "start_time": "2021-06-14T19:46:52.082Z"
   },
   {
    "duration": 40,
    "start_time": "2021-06-14T19:46:52.098Z"
   },
   {
    "duration": 52,
    "start_time": "2021-06-14T19:46:52.141Z"
   },
   {
    "duration": 48,
    "start_time": "2021-06-14T19:46:52.195Z"
   },
   {
    "duration": 9,
    "start_time": "2021-06-14T19:46:52.246Z"
   },
   {
    "duration": 27,
    "start_time": "2021-06-14T19:46:52.258Z"
   },
   {
    "duration": 136,
    "start_time": "2021-06-14T19:46:52.288Z"
   },
   {
    "duration": 30,
    "start_time": "2021-06-14T19:46:52.427Z"
   },
   {
    "duration": 68,
    "start_time": "2021-06-14T19:46:52.460Z"
   },
   {
    "duration": 70,
    "start_time": "2021-06-14T19:46:52.531Z"
   },
   {
    "duration": 63,
    "start_time": "2021-06-14T19:52:07.058Z"
   },
   {
    "duration": 423,
    "start_time": "2021-06-14T19:52:55.607Z"
   },
   {
    "duration": 66,
    "start_time": "2021-06-14T19:53:11.610Z"
   },
   {
    "duration": 70,
    "start_time": "2021-06-14T19:54:32.742Z"
   },
   {
    "duration": 68,
    "start_time": "2021-06-14T19:55:19.562Z"
   },
   {
    "duration": 67,
    "start_time": "2021-06-14T19:56:10.480Z"
   },
   {
    "duration": 72,
    "start_time": "2021-06-14T19:57:21.516Z"
   },
   {
    "duration": 369,
    "start_time": "2021-06-14T19:57:43.820Z"
   },
   {
    "duration": 66,
    "start_time": "2021-06-14T19:57:49.788Z"
   },
   {
    "duration": 65,
    "start_time": "2021-06-14T19:57:52.396Z"
   },
   {
    "duration": 66,
    "start_time": "2021-06-14T19:57:57.348Z"
   },
   {
    "duration": 69,
    "start_time": "2021-06-14T19:57:58.362Z"
   },
   {
    "duration": 67,
    "start_time": "2021-06-14T19:58:15.212Z"
   },
   {
    "duration": 64,
    "start_time": "2021-06-14T19:58:23.420Z"
   },
   {
    "duration": 65,
    "start_time": "2021-06-14T19:59:57.758Z"
   },
   {
    "duration": 463,
    "start_time": "2021-06-15T06:26:30.245Z"
   },
   {
    "duration": 84,
    "start_time": "2021-06-15T06:26:48.609Z"
   },
   {
    "duration": 62,
    "start_time": "2021-06-15T06:26:55.153Z"
   },
   {
    "duration": 71,
    "start_time": "2021-06-15T06:27:51.618Z"
   },
   {
    "duration": 63,
    "start_time": "2021-06-15T06:28:10.817Z"
   },
   {
    "duration": 64,
    "start_time": "2021-06-15T06:28:12.531Z"
   },
   {
    "duration": 67,
    "start_time": "2021-06-15T06:28:19.251Z"
   },
   {
    "duration": 67,
    "start_time": "2021-06-15T06:28:25.489Z"
   },
   {
    "duration": 62,
    "start_time": "2021-06-15T06:28:27.201Z"
   },
   {
    "duration": 76,
    "start_time": "2021-06-15T06:28:30.625Z"
   },
   {
    "duration": 74,
    "start_time": "2021-06-15T06:28:56.451Z"
   },
   {
    "duration": 76,
    "start_time": "2021-06-15T06:29:54.582Z"
   },
   {
    "duration": 410,
    "start_time": "2021-06-15T06:30:26.053Z"
   },
   {
    "duration": 70,
    "start_time": "2021-06-15T06:30:33.203Z"
   },
   {
    "duration": 69,
    "start_time": "2021-06-15T06:31:20.645Z"
   },
   {
    "duration": 85,
    "start_time": "2021-06-15T06:31:47.543Z"
   },
   {
    "duration": 66,
    "start_time": "2021-06-15T06:32:02.374Z"
   },
   {
    "duration": 66,
    "start_time": "2021-06-15T06:32:17.619Z"
   },
   {
    "duration": 64,
    "start_time": "2021-06-15T06:32:18.515Z"
   },
   {
    "duration": 66,
    "start_time": "2021-06-15T06:32:27.351Z"
   },
   {
    "duration": 48,
    "start_time": "2021-06-15T06:33:56.238Z"
   },
   {
    "duration": 52,
    "start_time": "2021-06-15T06:34:13.233Z"
   },
   {
    "duration": 68,
    "start_time": "2021-06-15T06:34:15.335Z"
   },
   {
    "duration": 67,
    "start_time": "2021-06-15T06:34:32.469Z"
   },
   {
    "duration": 122,
    "start_time": "2021-06-15T06:44:26.598Z"
   },
   {
    "duration": 128,
    "start_time": "2021-06-15T06:45:34.919Z"
   },
   {
    "duration": 469,
    "start_time": "2021-06-15T06:46:43.090Z"
   },
   {
    "duration": 122,
    "start_time": "2021-06-15T06:46:51.346Z"
   },
   {
    "duration": 119,
    "start_time": "2021-06-15T06:47:14.292Z"
   },
   {
    "duration": 136,
    "start_time": "2021-06-15T06:47:18.610Z"
   },
   {
    "duration": 13,
    "start_time": "2021-06-15T06:55:38.181Z"
   },
   {
    "duration": 12,
    "start_time": "2021-06-15T06:55:56.172Z"
   },
   {
    "duration": 13,
    "start_time": "2021-06-15T06:56:54.652Z"
   },
   {
    "duration": 123,
    "start_time": "2021-06-15T07:03:21.668Z"
   },
   {
    "duration": 119,
    "start_time": "2021-06-15T07:09:55.362Z"
   },
   {
    "duration": 123,
    "start_time": "2021-06-15T07:11:36.432Z"
   },
   {
    "duration": 126,
    "start_time": "2021-06-15T07:16:19.704Z"
   },
   {
    "duration": 121,
    "start_time": "2021-06-15T07:17:29.692Z"
   },
   {
    "duration": 128,
    "start_time": "2021-06-15T07:18:47.418Z"
   },
   {
    "duration": 147,
    "start_time": "2021-06-15T07:18:57.727Z"
   },
   {
    "duration": 132,
    "start_time": "2021-06-15T07:20:34.476Z"
   },
   {
    "duration": 150,
    "start_time": "2021-06-15T07:20:42.989Z"
   },
   {
    "duration": 145,
    "start_time": "2021-06-15T07:22:01.758Z"
   },
   {
    "duration": 16,
    "start_time": "2021-06-15T07:22:24.974Z"
   },
   {
    "duration": 128,
    "start_time": "2021-06-15T07:24:07.000Z"
   },
   {
    "duration": 32,
    "start_time": "2021-06-15T07:24:18.945Z"
   },
   {
    "duration": 15,
    "start_time": "2021-06-15T07:24:40.920Z"
   },
   {
    "duration": 302,
    "start_time": "2021-06-15T07:26:36.311Z"
   },
   {
    "duration": 197,
    "start_time": "2021-06-15T07:27:14.839Z"
   },
   {
    "duration": 187,
    "start_time": "2021-06-15T07:28:25.339Z"
   },
   {
    "duration": 11,
    "start_time": "2021-06-15T07:29:01.669Z"
   },
   {
    "duration": 312,
    "start_time": "2021-06-15T07:30:35.445Z"
   },
   {
    "duration": 201,
    "start_time": "2021-06-15T07:35:14.927Z"
   },
   {
    "duration": 11,
    "start_time": "2021-06-15T07:35:21.042Z"
   },
   {
    "duration": 198,
    "start_time": "2021-06-15T07:44:22.219Z"
   },
   {
    "duration": 191,
    "start_time": "2021-06-15T07:44:35.533Z"
   },
   {
    "duration": 1281,
    "start_time": "2021-06-15T08:15:39.446Z"
   },
   {
    "duration": 276,
    "start_time": "2021-06-15T08:16:14.935Z"
   },
   {
    "duration": 485,
    "start_time": "2021-06-15T08:16:28.640Z"
   },
   {
    "duration": 479,
    "start_time": "2021-06-15T08:17:04.194Z"
   },
   {
    "duration": 199,
    "start_time": "2021-06-15T08:17:34.257Z"
   },
   {
    "duration": 186,
    "start_time": "2021-06-15T08:17:40.257Z"
   },
   {
    "duration": 101,
    "start_time": "2021-06-15T08:20:44.496Z"
   },
   {
    "duration": 3794,
    "start_time": "2021-06-15T08:21:05.058Z"
   },
   {
    "duration": 3599,
    "start_time": "2021-06-15T08:21:36.678Z"
   },
   {
    "duration": 469,
    "start_time": "2021-06-15T08:28:50.442Z"
   },
   {
    "duration": 2953,
    "start_time": "2021-06-15T08:29:04.040Z"
   },
   {
    "duration": 5205,
    "start_time": "2021-06-15T08:35:43.664Z"
   },
   {
    "duration": 4171,
    "start_time": "2021-06-15T08:36:07.655Z"
   },
   {
    "duration": 4026,
    "start_time": "2021-06-15T08:38:39.346Z"
   },
   {
    "duration": 3999,
    "start_time": "2021-06-15T08:39:03.344Z"
   },
   {
    "duration": 3963,
    "start_time": "2021-06-15T08:39:36.488Z"
   },
   {
    "duration": 4184,
    "start_time": "2021-06-15T08:39:55.349Z"
   },
   {
    "duration": 3989,
    "start_time": "2021-06-15T08:41:42.685Z"
   },
   {
    "duration": 3900,
    "start_time": "2021-06-15T08:42:07.883Z"
   },
   {
    "duration": 3979,
    "start_time": "2021-06-15T08:42:31.437Z"
   },
   {
    "duration": 4059,
    "start_time": "2021-06-15T08:43:06.269Z"
   },
   {
    "duration": 4003,
    "start_time": "2021-06-15T08:45:16.046Z"
   },
   {
    "duration": 4030,
    "start_time": "2021-06-15T08:45:29.809Z"
   },
   {
    "duration": 4045,
    "start_time": "2021-06-15T08:45:40.830Z"
   },
   {
    "duration": 5222,
    "start_time": "2021-06-15T08:46:17.265Z"
   },
   {
    "duration": 3963,
    "start_time": "2021-06-15T08:46:35.932Z"
   },
   {
    "duration": 5040,
    "start_time": "2021-06-15T08:46:50.222Z"
   },
   {
    "duration": 5283,
    "start_time": "2021-06-15T08:47:28.289Z"
   },
   {
    "duration": 3936,
    "start_time": "2021-06-15T08:48:05.837Z"
   },
   {
    "duration": 4648,
    "start_time": "2021-06-15T08:48:11.313Z"
   },
   {
    "duration": 4052,
    "start_time": "2021-06-15T08:49:12.103Z"
   },
   {
    "duration": 3929,
    "start_time": "2021-06-15T08:49:29.540Z"
   },
   {
    "duration": 3974,
    "start_time": "2021-06-15T08:49:45.587Z"
   },
   {
    "duration": 4036,
    "start_time": "2021-06-15T08:49:58.673Z"
   },
   {
    "duration": 4004,
    "start_time": "2021-06-15T08:50:50.579Z"
   },
   {
    "duration": 4148,
    "start_time": "2021-06-15T08:51:17.555Z"
   },
   {
    "duration": 4171,
    "start_time": "2021-06-15T08:52:43.971Z"
   },
   {
    "duration": 5966,
    "start_time": "2021-06-15T08:52:53.535Z"
   },
   {
    "duration": 4106,
    "start_time": "2021-06-15T08:53:05.670Z"
   },
   {
    "duration": 6403,
    "start_time": "2021-06-15T08:53:13.656Z"
   },
   {
    "duration": 4052,
    "start_time": "2021-06-15T08:53:22.784Z"
   },
   {
    "duration": 3928,
    "start_time": "2021-06-15T08:54:09.253Z"
   },
   {
    "duration": 3951,
    "start_time": "2021-06-15T08:54:25.317Z"
   },
   {
    "duration": 4051,
    "start_time": "2021-06-15T08:54:42.439Z"
   },
   {
    "duration": 3956,
    "start_time": "2021-06-15T08:55:19.239Z"
   },
   {
    "duration": 3994,
    "start_time": "2021-06-15T08:55:37.109Z"
   },
   {
    "duration": 3955,
    "start_time": "2021-06-15T08:56:17.065Z"
   },
   {
    "duration": 4208,
    "start_time": "2021-06-15T08:56:42.089Z"
   },
   {
    "duration": 3960,
    "start_time": "2021-06-15T08:56:52.231Z"
   },
   {
    "duration": 4121,
    "start_time": "2021-06-15T08:57:22.039Z"
   },
   {
    "duration": 4678,
    "start_time": "2021-06-15T09:17:24.002Z"
   },
   {
    "duration": 4650,
    "start_time": "2021-06-15T09:20:21.562Z"
   },
   {
    "duration": 4233,
    "start_time": "2021-06-15T09:24:13.918Z"
   },
   {
    "duration": 470,
    "start_time": "2021-06-15T10:02:27.667Z"
   },
   {
    "duration": 251,
    "start_time": "2021-06-15T10:02:46.247Z"
   },
   {
    "duration": 12,
    "start_time": "2021-06-15T10:02:58.375Z"
   },
   {
    "duration": 10,
    "start_time": "2021-06-15T10:03:01.719Z"
   },
   {
    "duration": 50,
    "start_time": "2021-06-15T10:03:03.642Z"
   },
   {
    "duration": 21,
    "start_time": "2021-06-15T10:03:07.975Z"
   },
   {
    "duration": 11,
    "start_time": "2021-06-15T10:03:10.008Z"
   },
   {
    "duration": 14,
    "start_time": "2021-06-15T10:03:13.255Z"
   },
   {
    "duration": 114,
    "start_time": "2021-06-15T10:03:18.349Z"
   },
   {
    "duration": 41,
    "start_time": "2021-06-15T10:03:32.665Z"
   },
   {
    "duration": 209,
    "start_time": "2021-06-15T10:04:36.256Z"
   },
   {
    "duration": 196,
    "start_time": "2021-06-15T10:08:46.751Z"
   },
   {
    "duration": 204,
    "start_time": "2021-06-15T10:09:44.503Z"
   },
   {
    "duration": 201,
    "start_time": "2021-06-15T10:10:37.369Z"
   },
   {
    "duration": 200,
    "start_time": "2021-06-15T10:11:17.735Z"
   },
   {
    "duration": 7201,
    "start_time": "2021-06-15T10:11:33.255Z"
   },
   {
    "duration": 2464,
    "start_time": "2021-06-15T10:12:21.001Z"
   },
   {
    "duration": 7587,
    "start_time": "2021-06-15T10:14:32.451Z"
   },
   {
    "duration": 8841,
    "start_time": "2021-06-15T10:15:42.425Z"
   },
   {
    "duration": 3546,
    "start_time": "2021-06-15T10:16:09.587Z"
   },
   {
    "duration": 4389,
    "start_time": "2021-06-15T10:16:39.523Z"
   },
   {
    "duration": 4278,
    "start_time": "2021-06-15T10:16:50.192Z"
   },
   {
    "duration": 107,
    "start_time": "2021-06-15T10:17:25.769Z"
   },
   {
    "duration": 5509,
    "start_time": "2021-06-15T10:17:30.058Z"
   },
   {
    "duration": 4878,
    "start_time": "2021-06-15T10:18:00.748Z"
   },
   {
    "duration": 3661,
    "start_time": "2021-06-15T10:18:14.073Z"
   },
   {
    "duration": 3569,
    "start_time": "2021-06-15T10:18:49.043Z"
   },
   {
    "duration": 26,
    "start_time": "2021-06-15T10:19:20.931Z"
   },
   {
    "duration": 3897,
    "start_time": "2021-06-15T10:20:02.709Z"
   },
   {
    "duration": 26,
    "start_time": "2021-06-15T10:20:08.455Z"
   },
   {
    "duration": 5674,
    "start_time": "2021-06-15T10:20:24.315Z"
   },
   {
    "duration": 255,
    "start_time": "2021-06-15T10:20:29.737Z"
   },
   {
    "duration": 27,
    "start_time": "2021-06-15T10:20:34.197Z"
   },
   {
    "duration": 5746,
    "start_time": "2021-06-15T10:21:02.907Z"
   },
   {
    "duration": 88,
    "start_time": "2021-06-15T10:22:14.851Z"
   },
   {
    "duration": 11,
    "start_time": "2021-06-15T10:22:17.447Z"
   },
   {
    "duration": 17,
    "start_time": "2021-06-15T10:23:17.257Z"
   },
   {
    "duration": 27,
    "start_time": "2021-06-15T10:23:30.441Z"
   },
   {
    "duration": 17,
    "start_time": "2021-06-15T10:24:23.695Z"
   },
   {
    "duration": 55,
    "start_time": "2021-06-15T10:25:07.769Z"
   },
   {
    "duration": 5411,
    "start_time": "2021-06-15T10:26:23.621Z"
   },
   {
    "duration": 290,
    "start_time": "2021-06-15T10:26:47.197Z"
   },
   {
    "duration": 7,
    "start_time": "2021-06-15T10:26:52.557Z"
   },
   {
    "duration": 26,
    "start_time": "2021-06-15T10:27:13.227Z"
   },
   {
    "duration": 472,
    "start_time": "2021-06-15T10:30:15.815Z"
   },
   {
    "duration": 473,
    "start_time": "2021-06-15T10:30:48.200Z"
   },
   {
    "duration": 26,
    "start_time": "2021-06-15T10:30:58.195Z"
   },
   {
    "duration": 4470,
    "start_time": "2021-06-15T10:31:17.035Z"
   },
   {
    "duration": 26,
    "start_time": "2021-06-15T10:31:26.496Z"
   },
   {
    "duration": 5110,
    "start_time": "2021-06-15T10:32:06.107Z"
   },
   {
    "duration": 28,
    "start_time": "2021-06-15T10:32:17.781Z"
   },
   {
    "duration": 5072,
    "start_time": "2021-06-15T10:32:41.918Z"
   },
   {
    "duration": 27,
    "start_time": "2021-06-15T10:32:59.298Z"
   },
   {
    "duration": 6340,
    "start_time": "2021-06-15T10:33:56.668Z"
   },
   {
    "duration": 27,
    "start_time": "2021-06-15T10:34:10.160Z"
   },
   {
    "duration": 272,
    "start_time": "2021-06-15T10:34:28.180Z"
   },
   {
    "duration": 10,
    "start_time": "2021-06-15T10:34:33.090Z"
   },
   {
    "duration": 6081,
    "start_time": "2021-06-15T10:35:33.966Z"
   },
   {
    "duration": 10,
    "start_time": "2021-06-15T10:36:01.460Z"
   },
   {
    "duration": 26,
    "start_time": "2021-06-15T10:36:07.059Z"
   },
   {
    "duration": 8037,
    "start_time": "2021-06-15T10:37:11.338Z"
   },
   {
    "duration": 25,
    "start_time": "2021-06-15T10:37:28.234Z"
   },
   {
    "duration": 17,
    "start_time": "2021-06-15T10:37:36.822Z"
   },
   {
    "duration": 11,
    "start_time": "2021-06-15T10:37:59.061Z"
   },
   {
    "duration": 2492,
    "start_time": "2021-06-15T10:49:10.774Z"
   },
   {
    "duration": 5660,
    "start_time": "2021-06-15T10:50:06.070Z"
   },
   {
    "duration": 15,
    "start_time": "2021-06-15T10:50:15.406Z"
   },
   {
    "duration": 10,
    "start_time": "2021-06-15T13:11:06.734Z"
   },
   {
    "duration": 17,
    "start_time": "2021-06-15T13:13:10.262Z"
   },
   {
    "duration": 475,
    "start_time": "2021-06-15T13:13:47.934Z"
   },
   {
    "duration": 16,
    "start_time": "2021-06-15T13:14:01.862Z"
   },
   {
    "duration": 248,
    "start_time": "2021-06-15T13:53:23.745Z"
   },
   {
    "duration": 735,
    "start_time": "2021-06-15T13:53:29.715Z"
   },
   {
    "duration": 10,
    "start_time": "2021-06-15T13:53:33.420Z"
   },
   {
    "duration": 12,
    "start_time": "2021-06-15T13:53:36.090Z"
   },
   {
    "duration": 719,
    "start_time": "2021-06-15T15:09:03.515Z"
   },
   {
    "duration": 11,
    "start_time": "2021-06-15T15:09:20.774Z"
   },
   {
    "duration": 56,
    "start_time": "2021-06-15T15:09:24.406Z"
   },
   {
    "duration": 23,
    "start_time": "2021-06-15T15:09:46.583Z"
   },
   {
    "duration": 29,
    "start_time": "2021-06-15T15:09:51.989Z"
   },
   {
    "duration": 2425,
    "start_time": "2021-06-15T15:10:28.424Z"
   },
   {
    "duration": 64,
    "start_time": "2021-06-15T15:16:46.179Z"
   },
   {
    "duration": 881,
    "start_time": "2021-06-15T15:16:54.820Z"
   },
   {
    "duration": 5018,
    "start_time": "2021-06-15T15:19:54.774Z"
   },
   {
    "duration": 12,
    "start_time": "2021-06-15T15:20:45.782Z"
   },
   {
    "duration": 18,
    "start_time": "2021-06-15T15:21:40.703Z"
   },
   {
    "duration": 8,
    "start_time": "2021-06-15T15:22:27.623Z"
   },
   {
    "duration": 332,
    "start_time": "2021-06-15T16:01:48.273Z"
   },
   {
    "duration": 123,
    "start_time": "2021-06-15T16:02:52.517Z"
   },
   {
    "duration": 5,
    "start_time": "2021-06-15T16:03:16.037Z"
   },
   {
    "duration": 6,
    "start_time": "2021-06-15T16:03:35.155Z"
   },
   {
    "duration": 13,
    "start_time": "2021-06-15T16:04:34.371Z"
   },
   {
    "duration": 766,
    "start_time": "2021-06-15T16:05:01.867Z"
   },
   {
    "duration": 10,
    "start_time": "2021-06-15T16:05:06.505Z"
   },
   {
    "duration": 10,
    "start_time": "2021-06-15T16:05:19.197Z"
   },
   {
    "duration": 36,
    "start_time": "2021-06-15T16:05:21.274Z"
   },
   {
    "duration": 7,
    "start_time": "2021-06-15T16:05:25.721Z"
   },
   {
    "duration": 11,
    "start_time": "2021-06-15T16:05:29.306Z"
   },
   {
    "duration": 54,
    "start_time": "2021-06-15T16:05:45.100Z"
   },
   {
    "duration": 28,
    "start_time": "2021-06-15T16:06:08.731Z"
   },
   {
    "duration": 38,
    "start_time": "2021-06-15T16:06:19.243Z"
   },
   {
    "duration": 115,
    "start_time": "2021-06-15T16:06:34.237Z"
   },
   {
    "duration": 5,
    "start_time": "2021-06-15T16:06:40.955Z"
   },
   {
    "duration": 5,
    "start_time": "2021-06-15T16:06:57.835Z"
   },
   {
    "duration": 54,
    "start_time": "2021-06-15T16:07:54.013Z"
   },
   {
    "duration": 8,
    "start_time": "2021-06-15T16:08:01.371Z"
   },
   {
    "duration": 5,
    "start_time": "2021-06-15T16:08:28.669Z"
   },
   {
    "duration": 5,
    "start_time": "2021-06-15T16:08:33.549Z"
   },
   {
    "duration": 17,
    "start_time": "2021-06-15T16:08:38.589Z"
   },
   {
    "duration": 86,
    "start_time": "2021-06-15T16:15:34.330Z"
   },
   {
    "duration": 87,
    "start_time": "2021-06-15T16:18:46.932Z"
   },
   {
    "duration": 91,
    "start_time": "2021-06-15T16:18:58.886Z"
   },
   {
    "duration": 82,
    "start_time": "2021-06-15T16:19:07.893Z"
   },
   {
    "duration": 89,
    "start_time": "2021-06-15T16:19:14.565Z"
   },
   {
    "duration": 7,
    "start_time": "2021-06-15T16:19:20.518Z"
   },
   {
    "duration": 86,
    "start_time": "2021-06-15T16:19:32.101Z"
   },
   {
    "duration": 8,
    "start_time": "2021-06-15T16:20:10.327Z"
   },
   {
    "duration": 10,
    "start_time": "2021-06-15T16:20:32.087Z"
   },
   {
    "duration": 12,
    "start_time": "2021-06-15T16:42:37.504Z"
   },
   {
    "duration": 8,
    "start_time": "2021-06-15T16:44:05.332Z"
   },
   {
    "duration": 4,
    "start_time": "2021-06-15T16:56:15.060Z"
   },
   {
    "duration": 15,
    "start_time": "2021-06-15T16:56:23.226Z"
   },
   {
    "duration": 6,
    "start_time": "2021-06-15T17:01:57.444Z"
   },
   {
    "duration": 18,
    "start_time": "2021-06-15T17:02:02.728Z"
   },
   {
    "duration": 22,
    "start_time": "2021-06-15T17:02:56.603Z"
   },
   {
    "duration": 93,
    "start_time": "2021-06-15T17:08:53.047Z"
   },
   {
    "duration": 14,
    "start_time": "2021-06-15T17:09:02.465Z"
   },
   {
    "duration": 963,
    "start_time": "2021-06-15T17:10:32.020Z"
   },
   {
    "duration": 16,
    "start_time": "2021-06-15T17:10:42.012Z"
   },
   {
    "duration": 13,
    "start_time": "2021-06-15T17:10:49.918Z"
   },
   {
    "duration": 63,
    "start_time": "2021-06-15T17:11:10.477Z"
   },
   {
    "duration": 19,
    "start_time": "2021-06-15T17:11:48.333Z"
   },
   {
    "duration": 33,
    "start_time": "2021-06-15T17:12:08.382Z"
   },
   {
    "duration": 46,
    "start_time": "2021-06-15T17:12:11.950Z"
   },
   {
    "duration": 38,
    "start_time": "2021-06-15T17:12:22.942Z"
   },
   {
    "duration": 41,
    "start_time": "2021-06-15T17:12:28.222Z"
   },
   {
    "duration": 42,
    "start_time": "2021-06-15T17:12:49.310Z"
   },
   {
    "duration": 52,
    "start_time": "2021-06-15T17:12:53.886Z"
   },
   {
    "duration": 99,
    "start_time": "2021-06-15T17:13:24.452Z"
   },
   {
    "duration": 9,
    "start_time": "2021-06-15T17:13:32.912Z"
   },
   {
    "duration": 8,
    "start_time": "2021-06-15T17:13:35.006Z"
   },
   {
    "duration": 8,
    "start_time": "2021-06-15T17:13:41.550Z"
   },
   {
    "duration": 7,
    "start_time": "2021-06-15T17:13:46.160Z"
   },
   {
    "duration": 1073,
    "start_time": "2021-06-16T09:48:37.298Z"
   },
   {
    "duration": 15,
    "start_time": "2021-06-16T09:48:38.375Z"
   },
   {
    "duration": 56,
    "start_time": "2021-06-16T09:48:38.392Z"
   },
   {
    "duration": 12,
    "start_time": "2021-06-16T09:48:38.451Z"
   },
   {
    "duration": 18,
    "start_time": "2021-06-16T09:48:38.465Z"
   },
   {
    "duration": 51,
    "start_time": "2021-06-16T09:48:38.509Z"
   },
   {
    "duration": 22,
    "start_time": "2021-06-16T09:48:38.563Z"
   },
   {
    "duration": 9,
    "start_time": "2021-06-16T09:48:38.608Z"
   },
   {
    "duration": 17,
    "start_time": "2021-06-16T09:48:38.621Z"
   },
   {
    "duration": 119,
    "start_time": "2021-06-16T09:48:38.640Z"
   },
   {
    "duration": 15,
    "start_time": "2021-06-16T09:48:38.761Z"
   },
   {
    "duration": 52,
    "start_time": "2021-06-16T09:48:38.778Z"
   },
   {
    "duration": 46,
    "start_time": "2021-06-16T09:48:38.833Z"
   },
   {
    "duration": 90,
    "start_time": "2021-06-16T09:48:38.881Z"
   },
   {
    "duration": 87,
    "start_time": "2021-06-16T09:48:38.974Z"
   },
   {
    "duration": 88,
    "start_time": "2021-06-16T09:48:39.064Z"
   },
   {
    "duration": 160,
    "start_time": "2021-06-16T09:48:39.155Z"
   },
   {
    "duration": 12,
    "start_time": "2021-06-16T09:48:39.318Z"
   },
   {
    "duration": 17,
    "start_time": "2021-06-16T09:48:39.333Z"
   },
   {
    "duration": 25,
    "start_time": "2021-06-16T09:48:39.353Z"
   },
   {
    "duration": 35,
    "start_time": "2021-06-16T09:48:39.380Z"
   },
   {
    "duration": 9,
    "start_time": "2021-06-16T09:57:05.061Z"
   },
   {
    "duration": 941,
    "start_time": "2021-06-16T11:52:55.630Z"
   },
   {
    "duration": 87,
    "start_time": "2021-06-16T11:53:26.408Z"
   },
   {
    "duration": 337,
    "start_time": "2021-06-16T11:53:35.399Z"
   },
   {
    "duration": 273,
    "start_time": "2021-06-16T11:53:44.519Z"
   },
   {
    "duration": 245,
    "start_time": "2021-06-16T17:19:32.272Z"
   },
   {
    "duration": 28,
    "start_time": "2021-06-16T17:19:53.731Z"
   },
   {
    "duration": 267,
    "start_time": "2021-06-16T17:20:53.533Z"
   },
   {
    "duration": 27,
    "start_time": "2021-06-16T17:20:59.279Z"
   },
   {
    "duration": 26,
    "start_time": "2021-06-16T17:21:25.295Z"
   },
   {
    "duration": 25,
    "start_time": "2021-06-16T17:22:39.649Z"
   },
   {
    "duration": 12,
    "start_time": "2021-06-16T17:25:47.524Z"
   },
   {
    "duration": 17,
    "start_time": "2021-06-16T17:26:14.213Z"
   },
   {
    "duration": 18,
    "start_time": "2021-06-16T17:26:32.723Z"
   },
   {
    "duration": 11,
    "start_time": "2021-06-16T17:26:50.068Z"
   },
   {
    "duration": 17,
    "start_time": "2021-06-16T17:27:19.860Z"
   }
  ],
  "kernelspec": {
   "display_name": "Python 3",
   "language": "python",
   "name": "python3"
  },
  "language_info": {
   "codemirror_mode": {
    "name": "ipython",
    "version": 3
   },
   "file_extension": ".py",
   "mimetype": "text/x-python",
   "name": "python",
   "nbconvert_exporter": "python",
   "pygments_lexer": "ipython3",
   "version": "3.8.8"
  },
  "toc": {
   "base_numbering": 1,
   "nav_menu": {},
   "number_sections": true,
   "sideBar": true,
   "skip_h1_title": true,
   "title_cell": "Table of Contents",
   "title_sidebar": "Contents",
   "toc_cell": false,
   "toc_position": {},
   "toc_section_display": true,
   "toc_window_display": false
  }
 },
 "nbformat": 4,
 "nbformat_minor": 2
}
