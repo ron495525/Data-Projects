{
 "cells": [
  {
   "cell_type": "markdown",
   "metadata": {},
   "source": [
    "# Project Description \n",
    "You’ve decided to open a small robot-run cafe in Los Angeles. The project is promising but expensive, so you and your partners decide to try to attract investors. They’re interested in the current market conditions—will you be able to maintain your success when the novelty of robot waiters wears off?\n",
    "\n",
    "your partners have asked you to prepare some market research. You have open-source data on restaurants in LA."
   ]
  },
  {
   "cell_type": "markdown",
   "metadata": {},
   "source": [
    "# Project's Goal\n",
    "Draw an overall conclusion and provide recommendations on restaurant type and number of seats. Comment on the possibility of developing a chain."
   ]
  },
  {
   "cell_type": "markdown",
   "metadata": {},
   "source": [
    "# Table of Contents\n",
    "\n",
    " * [Data load, overview & preperation](#chapter1)\n",
    "\n",
    "\n",
    " * [Exploratory Data Analysis](#chapter2)\n",
    " \n",
    "    * [Proportions of the various types of establishments](#section_2_1)\n",
    "    * [Proportions of chain and nonchain establishments](#section_2_2)\n",
    "    * [Which type of establishment is typically a chain?](#section_2_3)\n",
    "    * [What characterizes chains](#section_2_4)\n",
    "    * [The average number of seats for each type of establishment](#section_2_5)\n",
    "    * [street name column from the address column](#section_2_6)\n",
    "    * [Top ten streets by number of establishments](#section_2_7)\n",
    "    * [Number of streets that only have one establishment](#section_2_8)\n",
    "    * [Distribution of the number of seats for streets with a lot of establishments](#section_2_9)\n",
    "    * [Establishments distribution in our top street](#section_2_10)\n",
    "    \n",
    "    \n",
    "  * [Overall conclusion & Recommendations](#chapter3)\n",
    "  \n",
    "  * [Presentation](#chapter4)   "
   ]
  },
  {
   "cell_type": "markdown",
   "metadata": {},
   "source": [
    "<div class=\"alert alert-info\" style=\"background-color:#006a79; color:white; padding:0px 10px; border-radius:5px;\"><h2 style='margin:10px 5px'>Load, overview & prepare the data</h2>\n",
    "</div>\n",
    "<a class=\"anchor\" id=\"chapter1\"></a>"
   ]
  },
  {
   "cell_type": "markdown",
   "metadata": {},
   "source": [
    "### Chapter 1 <a class=\"anchor\" id=\"chapter1\"></a>\n"
   ]
  },
  {
   "cell_type": "markdown",
   "metadata": {},
   "source": [
    "Import libraries"
   ]
  },
  {
   "cell_type": "code",
   "execution_count": 1,
   "metadata": {},
   "outputs": [
    {
     "name": "stdout",
     "output_type": "stream",
     "text": [
      "Defaulting to user installation because normal site-packages is not writeable\n",
      "Collecting pandas\n",
      "  Downloading pandas-1.3.2-cp37-cp37m-manylinux_2_17_x86_64.manylinux2014_x86_64.whl (11.3 MB)\n",
      "\u001b[K     |████████████████████████████████| 11.3 MB 950 kB/s eta 0:00:01\n",
      "\u001b[?25hRequirement already satisfied, skipping upgrade: numpy>=1.17.3 in /opt/conda/lib/python3.7/site-packages (from pandas) (1.19.5)\n",
      "Requirement already satisfied, skipping upgrade: python-dateutil>=2.7.3 in /opt/conda/lib/python3.7/site-packages (from pandas) (2.8.1)\n",
      "Requirement already satisfied, skipping upgrade: pytz>=2017.3 in /opt/conda/lib/python3.7/site-packages (from pandas) (2021.1)\n",
      "Requirement already satisfied, skipping upgrade: six>=1.5 in /opt/conda/lib/python3.7/site-packages (from python-dateutil>=2.7.3->pandas) (1.15.0)\n",
      "Installing collected packages: pandas\n",
      "Successfully installed pandas-1.3.2\n",
      "Note: you may need to restart the kernel to use updated packages.\n"
     ]
    }
   ],
   "source": [
    "pip install --upgrade pandas"
   ]
  },
  {
   "cell_type": "code",
   "execution_count": 2,
   "metadata": {},
   "outputs": [
    {
     "name": "stdout",
     "output_type": "stream",
     "text": [
      "Defaulting to user installation because normal site-packages is not writeable\n",
      "Collecting seaborn==0.11.0\n",
      "  Downloading seaborn-0.11.0-py3-none-any.whl (283 kB)\n",
      "\u001b[K     |████████████████████████████████| 283 kB 1.1 MB/s eta 0:00:01\n",
      "\u001b[?25hRequirement already satisfied: pandas>=0.23 in /home/jovyan/.local/lib/python3.7/site-packages (from seaborn==0.11.0) (1.3.2)\n",
      "Requirement already satisfied: numpy>=1.15 in /opt/conda/lib/python3.7/site-packages (from seaborn==0.11.0) (1.19.5)\n",
      "Requirement already satisfied: matplotlib>=2.2 in /opt/conda/lib/python3.7/site-packages (from seaborn==0.11.0) (3.1.0)\n",
      "Requirement already satisfied: scipy>=1.0 in /opt/conda/lib/python3.7/site-packages (from seaborn==0.11.0) (1.4.1)\n",
      "Requirement already satisfied: pytz>=2017.3 in /opt/conda/lib/python3.7/site-packages (from pandas>=0.23->seaborn==0.11.0) (2021.1)\n",
      "Requirement already satisfied: python-dateutil>=2.7.3 in /opt/conda/lib/python3.7/site-packages (from pandas>=0.23->seaborn==0.11.0) (2.8.1)\n",
      "Requirement already satisfied: pyparsing!=2.0.4,!=2.1.2,!=2.1.6,>=2.0.1 in /opt/conda/lib/python3.7/site-packages (from matplotlib>=2.2->seaborn==0.11.0) (2.4.7)\n",
      "Requirement already satisfied: kiwisolver>=1.0.1 in /opt/conda/lib/python3.7/site-packages (from matplotlib>=2.2->seaborn==0.11.0) (1.3.1)\n",
      "Requirement already satisfied: cycler>=0.10 in /opt/conda/lib/python3.7/site-packages (from matplotlib>=2.2->seaborn==0.11.0) (0.10.0)\n",
      "Requirement already satisfied: six>=1.5 in /opt/conda/lib/python3.7/site-packages (from python-dateutil>=2.7.3->pandas>=0.23->seaborn==0.11.0) (1.15.0)\n",
      "Installing collected packages: seaborn\n",
      "Successfully installed seaborn-0.11.0\n",
      "Note: you may need to restart the kernel to use updated packages.\n"
     ]
    }
   ],
   "source": [
    "pip install seaborn==0.11.0"
   ]
  },
  {
   "cell_type": "code",
   "execution_count": 3,
   "metadata": {},
   "outputs": [
    {
     "name": "stdout",
     "output_type": "stream",
     "text": [
      "Defaulting to user installation because normal site-packages is not writeable\n",
      "Collecting matplotlib==3.4.0\n",
      "  Downloading matplotlib-3.4.0-cp37-cp37m-manylinux1_x86_64.whl (10.3 MB)\n",
      "\u001b[K     |████████████████████████████████| 10.3 MB 917 kB/s eta 0:00:01     |███████████████████████████████▏| 10.0 MB 917 kB/s eta 0:00:01\n",
      "\u001b[?25hRequirement already satisfied: numpy>=1.16 in /opt/conda/lib/python3.7/site-packages (from matplotlib==3.4.0) (1.19.5)\n",
      "Requirement already satisfied: python-dateutil>=2.7 in /opt/conda/lib/python3.7/site-packages (from matplotlib==3.4.0) (2.8.1)\n",
      "Requirement already satisfied: kiwisolver>=1.0.1 in /opt/conda/lib/python3.7/site-packages (from matplotlib==3.4.0) (1.3.1)\n",
      "Requirement already satisfied: cycler>=0.10 in /opt/conda/lib/python3.7/site-packages (from matplotlib==3.4.0) (0.10.0)\n",
      "Requirement already satisfied: pyparsing>=2.2.1 in /opt/conda/lib/python3.7/site-packages (from matplotlib==3.4.0) (2.4.7)\n",
      "Requirement already satisfied: pillow>=6.2.0 in /opt/conda/lib/python3.7/site-packages (from matplotlib==3.4.0) (7.0.0)\n",
      "Requirement already satisfied: six>=1.5 in /opt/conda/lib/python3.7/site-packages (from python-dateutil>=2.7->matplotlib==3.4.0) (1.15.0)\n",
      "Installing collected packages: matplotlib\n",
      "Successfully installed matplotlib-3.4.0\n",
      "Note: you may need to restart the kernel to use updated packages.\n"
     ]
    }
   ],
   "source": [
    "pip install matplotlib==3.4.0"
   ]
  },
  {
   "cell_type": "code",
   "execution_count": 4,
   "metadata": {},
   "outputs": [],
   "source": [
    "import pandas as pd\n",
    "import numpy as np\n",
    "import datetime as dt\n",
    "import matplotlib.pyplot as plt\n",
    "import warnings\n",
    "import math as mth\n",
    "import seaborn as sns\n",
    "import plotly.express as px\n",
    "from plotly import graph_objects as go \n",
    "import matplotlib.dates as mdates\n",
    "from matplotlib.ticker import StrMethodFormatter\n",
    "from matplotlib.dates import DateFormatter\n",
    "import scipy.stats as stats\n",
    "import re"
   ]
  },
  {
   "cell_type": "code",
   "execution_count": 5,
   "metadata": {},
   "outputs": [],
   "source": [
    "#ignorning warnings\n",
    "warnings.simplefilter('ignore')"
   ]
  },
  {
   "cell_type": "code",
   "execution_count": 6,
   "metadata": {},
   "outputs": [],
   "source": [
    "pd.set_option('max_colwidth', 400)"
   ]
  },
  {
   "cell_type": "markdown",
   "metadata": {},
   "source": [
    "make a try-except block in order to avoid file path error when working both locally and remotely:"
   ]
  },
  {
   "cell_type": "code",
   "execution_count": 7,
   "metadata": {},
   "outputs": [],
   "source": [
    "try:\n",
    "    df = pd.read_csv('rest_data_us.csv')\n",
    "except:\n",
    "    df = pd.read_csv('/datasets/rest_data_us.csv')"
   ]
  },
  {
   "cell_type": "markdown",
   "metadata": {},
   "source": [
    "Check the tables first 5 rows to see the general information."
   ]
  },
  {
   "cell_type": "code",
   "execution_count": 8,
   "metadata": {},
   "outputs": [
    {
     "data": {
      "text/html": [
       "<div>\n",
       "<style scoped>\n",
       "    .dataframe tbody tr th:only-of-type {\n",
       "        vertical-align: middle;\n",
       "    }\n",
       "\n",
       "    .dataframe tbody tr th {\n",
       "        vertical-align: top;\n",
       "    }\n",
       "\n",
       "    .dataframe thead th {\n",
       "        text-align: right;\n",
       "    }\n",
       "</style>\n",
       "<table border=\"1\" class=\"dataframe\">\n",
       "  <thead>\n",
       "    <tr style=\"text-align: right;\">\n",
       "      <th></th>\n",
       "      <th>id</th>\n",
       "      <th>object_name</th>\n",
       "      <th>address</th>\n",
       "      <th>chain</th>\n",
       "      <th>object_type</th>\n",
       "      <th>number</th>\n",
       "    </tr>\n",
       "  </thead>\n",
       "  <tbody>\n",
       "    <tr>\n",
       "      <th>0</th>\n",
       "      <td>11786</td>\n",
       "      <td>HABITAT COFFEE SHOP</td>\n",
       "      <td>3708 N EAGLE ROCK BLVD</td>\n",
       "      <td>False</td>\n",
       "      <td>Cafe</td>\n",
       "      <td>26</td>\n",
       "    </tr>\n",
       "    <tr>\n",
       "      <th>1</th>\n",
       "      <td>11787</td>\n",
       "      <td>REILLY'S</td>\n",
       "      <td>100 WORLD WAY # 120</td>\n",
       "      <td>False</td>\n",
       "      <td>Restaurant</td>\n",
       "      <td>9</td>\n",
       "    </tr>\n",
       "    <tr>\n",
       "      <th>2</th>\n",
       "      <td>11788</td>\n",
       "      <td>STREET CHURROS</td>\n",
       "      <td>6801 HOLLYWOOD BLVD # 253</td>\n",
       "      <td>False</td>\n",
       "      <td>Fast Food</td>\n",
       "      <td>20</td>\n",
       "    </tr>\n",
       "    <tr>\n",
       "      <th>3</th>\n",
       "      <td>11789</td>\n",
       "      <td>TRINITI ECHO PARK</td>\n",
       "      <td>1814 W SUNSET BLVD</td>\n",
       "      <td>False</td>\n",
       "      <td>Restaurant</td>\n",
       "      <td>22</td>\n",
       "    </tr>\n",
       "    <tr>\n",
       "      <th>4</th>\n",
       "      <td>11790</td>\n",
       "      <td>POLLEN</td>\n",
       "      <td>2100 ECHO PARK AVE</td>\n",
       "      <td>False</td>\n",
       "      <td>Restaurant</td>\n",
       "      <td>20</td>\n",
       "    </tr>\n",
       "  </tbody>\n",
       "</table>\n",
       "</div>"
      ],
      "text/plain": [
       "      id          object_name                    address  chain object_type  \\\n",
       "0  11786  HABITAT COFFEE SHOP     3708 N EAGLE ROCK BLVD  False        Cafe   \n",
       "1  11787             REILLY'S        100 WORLD WAY # 120  False  Restaurant   \n",
       "2  11788       STREET CHURROS  6801 HOLLYWOOD BLVD # 253  False   Fast Food   \n",
       "3  11789    TRINITI ECHO PARK         1814 W SUNSET BLVD  False  Restaurant   \n",
       "4  11790               POLLEN         2100 ECHO PARK AVE  False  Restaurant   \n",
       "\n",
       "   number  \n",
       "0      26  \n",
       "1       9  \n",
       "2      20  \n",
       "3      22  \n",
       "4      20  "
      ]
     },
     "execution_count": 8,
     "metadata": {},
     "output_type": "execute_result"
    }
   ],
   "source": [
    "df.head()"
   ]
  },
  {
   "cell_type": "markdown",
   "metadata": {},
   "source": [
    "Check the table's general structure"
   ]
  },
  {
   "cell_type": "code",
   "execution_count": 9,
   "metadata": {},
   "outputs": [
    {
     "name": "stdout",
     "output_type": "stream",
     "text": [
      "<class 'pandas.core.frame.DataFrame'>\n",
      "RangeIndex: 9651 entries, 0 to 9650\n",
      "Data columns (total 6 columns):\n",
      " #   Column       Non-Null Count  Dtype \n",
      "---  ------       --------------  ----- \n",
      " 0   id           9651 non-null   int64 \n",
      " 1   object_name  9651 non-null   object\n",
      " 2   address      9651 non-null   object\n",
      " 3   chain        9648 non-null   object\n",
      " 4   object_type  9651 non-null   object\n",
      " 5   number       9651 non-null   int64 \n",
      "dtypes: int64(2), object(4)\n",
      "memory usage: 452.5+ KB\n"
     ]
    }
   ],
   "source": [
    "df.info()"
   ]
  },
  {
   "cell_type": "markdown",
   "metadata": {},
   "source": [
    "percentage of missing data in columns"
   ]
  },
  {
   "cell_type": "code",
   "execution_count": 10,
   "metadata": {},
   "outputs": [
    {
     "data": {
      "text/plain": [
       "id             0.000000\n",
       "object_name    0.000000\n",
       "address        0.000000\n",
       "chain          0.031085\n",
       "object_type    0.000000\n",
       "number         0.000000\n",
       "dtype: float64"
      ]
     },
     "execution_count": 10,
     "metadata": {},
     "output_type": "execute_result"
    }
   ],
   "source": [
    "df.isna().mean() * 100"
   ]
  },
  {
   "cell_type": "markdown",
   "metadata": {},
   "source": [
    "watching the rows with missing chain value:"
   ]
  },
  {
   "cell_type": "code",
   "execution_count": 11,
   "metadata": {},
   "outputs": [
    {
     "data": {
      "text/html": [
       "<div>\n",
       "<style scoped>\n",
       "    .dataframe tbody tr th:only-of-type {\n",
       "        vertical-align: middle;\n",
       "    }\n",
       "\n",
       "    .dataframe tbody tr th {\n",
       "        vertical-align: top;\n",
       "    }\n",
       "\n",
       "    .dataframe thead th {\n",
       "        text-align: right;\n",
       "    }\n",
       "</style>\n",
       "<table border=\"1\" class=\"dataframe\">\n",
       "  <thead>\n",
       "    <tr style=\"text-align: right;\">\n",
       "      <th></th>\n",
       "      <th>id</th>\n",
       "      <th>object_name</th>\n",
       "      <th>address</th>\n",
       "      <th>chain</th>\n",
       "      <th>object_type</th>\n",
       "      <th>number</th>\n",
       "    </tr>\n",
       "  </thead>\n",
       "  <tbody>\n",
       "    <tr>\n",
       "      <th>7408</th>\n",
       "      <td>19194</td>\n",
       "      <td>TAQUERIA LOS 3 CARNALES</td>\n",
       "      <td>5000 E WHITTIER BLVD</td>\n",
       "      <td>NaN</td>\n",
       "      <td>Restaurant</td>\n",
       "      <td>14</td>\n",
       "    </tr>\n",
       "    <tr>\n",
       "      <th>7523</th>\n",
       "      <td>19309</td>\n",
       "      <td>JAMMIN JIMMY'S PIZZA</td>\n",
       "      <td>1641 FIRESTONE BLVD</td>\n",
       "      <td>NaN</td>\n",
       "      <td>Pizza</td>\n",
       "      <td>1</td>\n",
       "    </tr>\n",
       "    <tr>\n",
       "      <th>8648</th>\n",
       "      <td>20434</td>\n",
       "      <td>THE LEXINGTON THEATER</td>\n",
       "      <td>129 E 3RD ST</td>\n",
       "      <td>NaN</td>\n",
       "      <td>Restaurant</td>\n",
       "      <td>35</td>\n",
       "    </tr>\n",
       "  </tbody>\n",
       "</table>\n",
       "</div>"
      ],
      "text/plain": [
       "         id              object_name               address chain object_type  \\\n",
       "7408  19194  TAQUERIA LOS 3 CARNALES  5000 E WHITTIER BLVD   NaN  Restaurant   \n",
       "7523  19309     JAMMIN JIMMY'S PIZZA   1641 FIRESTONE BLVD   NaN       Pizza   \n",
       "8648  20434    THE LEXINGTON THEATER          129 E 3RD ST   NaN  Restaurant   \n",
       "\n",
       "      number  \n",
       "7408      14  \n",
       "7523       1  \n",
       "8648      35  "
      ]
     },
     "execution_count": 11,
     "metadata": {},
     "output_type": "execute_result"
    }
   ],
   "source": [
    "df_missing = df[df.isna().any(axis=1)]\n",
    "df_missing"
   ]
  },
  {
   "cell_type": "markdown",
   "metadata": {},
   "source": [
    "Checking if their name appears again in the data (a chain) or not (not a chain)"
   ]
  },
  {
   "cell_type": "code",
   "execution_count": 12,
   "metadata": {},
   "outputs": [
    {
     "data": {
      "text/html": [
       "<div>\n",
       "<style scoped>\n",
       "    .dataframe tbody tr th:only-of-type {\n",
       "        vertical-align: middle;\n",
       "    }\n",
       "\n",
       "    .dataframe tbody tr th {\n",
       "        vertical-align: top;\n",
       "    }\n",
       "\n",
       "    .dataframe thead th {\n",
       "        text-align: right;\n",
       "    }\n",
       "</style>\n",
       "<table border=\"1\" class=\"dataframe\">\n",
       "  <thead>\n",
       "    <tr style=\"text-align: right;\">\n",
       "      <th></th>\n",
       "      <th>id</th>\n",
       "      <th>object_name</th>\n",
       "      <th>address</th>\n",
       "      <th>chain</th>\n",
       "      <th>object_type</th>\n",
       "      <th>number</th>\n",
       "    </tr>\n",
       "  </thead>\n",
       "  <tbody>\n",
       "    <tr>\n",
       "      <th>7408</th>\n",
       "      <td>19194</td>\n",
       "      <td>TAQUERIA LOS 3 CARNALES</td>\n",
       "      <td>5000 E WHITTIER BLVD</td>\n",
       "      <td>NaN</td>\n",
       "      <td>Restaurant</td>\n",
       "      <td>14</td>\n",
       "    </tr>\n",
       "    <tr>\n",
       "      <th>7523</th>\n",
       "      <td>19309</td>\n",
       "      <td>JAMMIN JIMMY'S PIZZA</td>\n",
       "      <td>1641 FIRESTONE BLVD</td>\n",
       "      <td>NaN</td>\n",
       "      <td>Pizza</td>\n",
       "      <td>1</td>\n",
       "    </tr>\n",
       "    <tr>\n",
       "      <th>8648</th>\n",
       "      <td>20434</td>\n",
       "      <td>THE LEXINGTON THEATER</td>\n",
       "      <td>129 E 3RD ST</td>\n",
       "      <td>NaN</td>\n",
       "      <td>Restaurant</td>\n",
       "      <td>35</td>\n",
       "    </tr>\n",
       "  </tbody>\n",
       "</table>\n",
       "</div>"
      ],
      "text/plain": [
       "         id              object_name               address chain object_type  \\\n",
       "7408  19194  TAQUERIA LOS 3 CARNALES  5000 E WHITTIER BLVD   NaN  Restaurant   \n",
       "7523  19309     JAMMIN JIMMY'S PIZZA   1641 FIRESTONE BLVD   NaN       Pizza   \n",
       "8648  20434    THE LEXINGTON THEATER          129 E 3RD ST   NaN  Restaurant   \n",
       "\n",
       "      number  \n",
       "7408      14  \n",
       "7523       1  \n",
       "8648      35  "
      ]
     },
     "execution_count": 12,
     "metadata": {},
     "output_type": "execute_result"
    }
   ],
   "source": [
    "names = df_missing['object_name'].to_list()\n",
    "df.query('object_name in @names')"
   ]
  },
  {
   "cell_type": "markdown",
   "metadata": {},
   "source": [
    "#### Conclusion:\n",
    "We have 3 rows (0.03%) with missing chain that appear only once in our data.\n",
    "\n",
    "We assumed that by their single appearance we conclude their value for chain column should be False as they are not a chain,\n",
    "But there are many chains in the dataset with one appearance and so we will drop our 3 missing rows."
   ]
  },
  {
   "cell_type": "markdown",
   "metadata": {},
   "source": [
    "dropping missing chain:"
   ]
  },
  {
   "cell_type": "code",
   "execution_count": 13,
   "metadata": {},
   "outputs": [],
   "source": [
    "df.chain = df.chain.dropna()"
   ]
  },
  {
   "cell_type": "markdown",
   "metadata": {},
   "source": [
    "checking for duplicates"
   ]
  },
  {
   "cell_type": "code",
   "execution_count": 14,
   "metadata": {},
   "outputs": [
    {
     "data": {
      "text/plain": [
       "0"
      ]
     },
     "execution_count": 14,
     "metadata": {},
     "output_type": "execute_result"
    }
   ],
   "source": [
    "df.duplicated().sum()"
   ]
  },
  {
   "cell_type": "markdown",
   "metadata": {},
   "source": [
    "Checking for the table's initial statistics"
   ]
  },
  {
   "cell_type": "code",
   "execution_count": 15,
   "metadata": {},
   "outputs": [
    {
     "data": {
      "text/html": [
       "<div>\n",
       "<style scoped>\n",
       "    .dataframe tbody tr th:only-of-type {\n",
       "        vertical-align: middle;\n",
       "    }\n",
       "\n",
       "    .dataframe tbody tr th {\n",
       "        vertical-align: top;\n",
       "    }\n",
       "\n",
       "    .dataframe thead th {\n",
       "        text-align: right;\n",
       "    }\n",
       "</style>\n",
       "<table border=\"1\" class=\"dataframe\">\n",
       "  <thead>\n",
       "    <tr style=\"text-align: right;\">\n",
       "      <th></th>\n",
       "      <th>id</th>\n",
       "      <th>number</th>\n",
       "    </tr>\n",
       "  </thead>\n",
       "  <tbody>\n",
       "    <tr>\n",
       "      <th>count</th>\n",
       "      <td>9651.000000</td>\n",
       "      <td>9651.000000</td>\n",
       "    </tr>\n",
       "    <tr>\n",
       "      <th>mean</th>\n",
       "      <td>16611.000000</td>\n",
       "      <td>43.695161</td>\n",
       "    </tr>\n",
       "    <tr>\n",
       "      <th>std</th>\n",
       "      <td>2786.148058</td>\n",
       "      <td>47.622874</td>\n",
       "    </tr>\n",
       "    <tr>\n",
       "      <th>min</th>\n",
       "      <td>11786.000000</td>\n",
       "      <td>1.000000</td>\n",
       "    </tr>\n",
       "    <tr>\n",
       "      <th>25%</th>\n",
       "      <td>14198.500000</td>\n",
       "      <td>14.000000</td>\n",
       "    </tr>\n",
       "    <tr>\n",
       "      <th>50%</th>\n",
       "      <td>16611.000000</td>\n",
       "      <td>27.000000</td>\n",
       "    </tr>\n",
       "    <tr>\n",
       "      <th>75%</th>\n",
       "      <td>19023.500000</td>\n",
       "      <td>46.000000</td>\n",
       "    </tr>\n",
       "    <tr>\n",
       "      <th>max</th>\n",
       "      <td>21436.000000</td>\n",
       "      <td>229.000000</td>\n",
       "    </tr>\n",
       "  </tbody>\n",
       "</table>\n",
       "</div>"
      ],
      "text/plain": [
       "                 id       number\n",
       "count   9651.000000  9651.000000\n",
       "mean   16611.000000    43.695161\n",
       "std     2786.148058    47.622874\n",
       "min    11786.000000     1.000000\n",
       "25%    14198.500000    14.000000\n",
       "50%    16611.000000    27.000000\n",
       "75%    19023.500000    46.000000\n",
       "max    21436.000000   229.000000"
      ]
     },
     "execution_count": 15,
     "metadata": {},
     "output_type": "execute_result"
    }
   ],
   "source": [
    "df.describe()"
   ]
  },
  {
   "cell_type": "code",
   "execution_count": 16,
   "metadata": {},
   "outputs": [
    {
     "data": {
      "text/html": [
       "<div>\n",
       "<style scoped>\n",
       "    .dataframe tbody tr th:only-of-type {\n",
       "        vertical-align: middle;\n",
       "    }\n",
       "\n",
       "    .dataframe tbody tr th {\n",
       "        vertical-align: top;\n",
       "    }\n",
       "\n",
       "    .dataframe thead th {\n",
       "        text-align: right;\n",
       "    }\n",
       "</style>\n",
       "<table border=\"1\" class=\"dataframe\">\n",
       "  <thead>\n",
       "    <tr style=\"text-align: right;\">\n",
       "      <th></th>\n",
       "      <th>object_name</th>\n",
       "      <th>address</th>\n",
       "      <th>chain</th>\n",
       "      <th>object_type</th>\n",
       "    </tr>\n",
       "  </thead>\n",
       "  <tbody>\n",
       "    <tr>\n",
       "      <th>count</th>\n",
       "      <td>9651</td>\n",
       "      <td>9651</td>\n",
       "      <td>9648</td>\n",
       "      <td>9651</td>\n",
       "    </tr>\n",
       "    <tr>\n",
       "      <th>unique</th>\n",
       "      <td>8672</td>\n",
       "      <td>8517</td>\n",
       "      <td>2</td>\n",
       "      <td>6</td>\n",
       "    </tr>\n",
       "    <tr>\n",
       "      <th>top</th>\n",
       "      <td>THE COFFEE BEAN &amp; TEA LEAF</td>\n",
       "      <td>3607 TROUSDALE PKWY</td>\n",
       "      <td>False</td>\n",
       "      <td>Restaurant</td>\n",
       "    </tr>\n",
       "    <tr>\n",
       "      <th>freq</th>\n",
       "      <td>47</td>\n",
       "      <td>11</td>\n",
       "      <td>5972</td>\n",
       "      <td>7255</td>\n",
       "    </tr>\n",
       "  </tbody>\n",
       "</table>\n",
       "</div>"
      ],
      "text/plain": [
       "                       object_name              address  chain object_type\n",
       "count                         9651                 9651   9648        9651\n",
       "unique                        8672                 8517      2           6\n",
       "top     THE COFFEE BEAN & TEA LEAF  3607 TROUSDALE PKWY  False  Restaurant\n",
       "freq                            47                   11   5972        7255"
      ]
     },
     "execution_count": 16,
     "metadata": {},
     "output_type": "execute_result"
    }
   ],
   "source": [
    "df.describe(include='object')"
   ]
  },
  {
   "cell_type": "markdown",
   "metadata": {},
   "source": [
    "### Conclusion:\n",
    "- We have no duplicated rows in our data.\n",
    "- We had 3 rows with missing values for chain column, who were dropped.\n",
    "- Several columns data-types should be changed - object_type to category and chain can be changed to bool. \n",
    "- By our .describe method we see that our largest chain establishment is THE COFFEE BEAN & TEA LEAF, with 47 appearences."
   ]
  },
  {
   "cell_type": "markdown",
   "metadata": {},
   "source": [
    "changing columns data types:"
   ]
  },
  {
   "cell_type": "code",
   "execution_count": 17,
   "metadata": {},
   "outputs": [],
   "source": [
    "df['object_type'] = df['object_type'].astype('category')\n",
    "df['chain'] = df['chain'].astype('bool')"
   ]
  },
  {
   "cell_type": "markdown",
   "metadata": {},
   "source": [
    "<a class=\"anchor\" id=\"chapter2\"></a>"
   ]
  },
  {
   "cell_type": "markdown",
   "metadata": {},
   "source": [
    "<div class=\"alert alert-info\" style=\"background-color:#006a79; color:white; padding:0px 10px; border-radius:5px;\"><h2 style='margin:10px 5px'>Exploratory Data Analysis</h2>\n",
    "</div>"
   ]
  },
  {
   "cell_type": "markdown",
   "metadata": {},
   "source": [
    "<a class=\"anchor\" id=\"section_2_1\"></a>"
   ]
  },
  {
   "cell_type": "markdown",
   "metadata": {},
   "source": [
    "### Proportions of the various types of establishments"
   ]
  },
  {
   "cell_type": "markdown",
   "metadata": {},
   "source": [
    "#### Proportions of the various types of establishments in % and in absolute values"
   ]
  },
  {
   "cell_type": "markdown",
   "metadata": {},
   "source": [
    "Proportions of the various types of establishments in %"
   ]
  },
  {
   "cell_type": "code",
   "execution_count": 18,
   "metadata": {},
   "outputs": [
    {
     "data": {
      "text/plain": [
       "Restaurant    75.17\n",
       "Fast Food     11.05\n",
       "Cafe           4.51\n",
       "Pizza          3.32\n",
       "Bar            3.03\n",
       "Bakery         2.93\n",
       "Name: object_type, dtype: float64"
      ]
     },
     "execution_count": 18,
     "metadata": {},
     "output_type": "execute_result"
    }
   ],
   "source": [
    "types = df.object_type.value_counts()\n",
    "types_perc = round((df.object_type.value_counts(normalize=True) * 100),2)\n",
    "types_perc"
   ]
  },
  {
   "cell_type": "markdown",
   "metadata": {},
   "source": [
    "Plotting the Proportions of the various types of establishments in %"
   ]
  },
  {
   "cell_type": "code",
   "execution_count": 19,
   "metadata": {},
   "outputs": [
    {
     "data": {
      "image/png": "[encoded data removed]",
      "text/plain": [
       "<Figure size 720x288 with 1 Axes>"
      ]
     },
     "metadata": {},
     "output_type": "display_data"
    }
   ],
   "source": [
    "sns.set_style('dark') \n",
    "ax = types_perc.plot.bar(figsize=(10,4))\n",
    "ax.set_title(\"Proportions of the various types of establishments in %\",weight='bold',size=15)\n",
    "ax.set_xlabel(\"Type\", labelpad=20, weight='bold', size=12)\n",
    "ax.set_ylabel(\"%\", labelpad=20, weight='bold', size=12)\n",
    "ax.tick_params(axis='x', rotation=0)\n",
    "ax.bar_label(ax.containers[0]);"
   ]
  },
  {
   "cell_type": "code",
   "execution_count": 20,
   "metadata": {},
   "outputs": [
    {
     "data": {
      "image/png": "[encoded data removed]",
      "text/plain": [
       "<Figure size 432x432 with 1 Axes>"
      ]
     },
     "metadata": {},
     "output_type": "display_data"
    }
   ],
   "source": [
    "ax = types_perc.plot.pie(figsize=(6, 6),autopct='%.2f')\n",
    "ax.set_title(\"Proportions of the various types of establishments in %\",weight='bold',size=15)\n",
    "ax.set_ylabel(\"Type\", labelpad=20, weight='bold', size=12)\n",
    "ax.legend(loc='upper right',bbox_to_anchor=(1.05, 1));"
   ]
  },
  {
   "cell_type": "markdown",
   "metadata": {},
   "source": [
    "##### Description:\n",
    "This graphs shows the Proportions of the various types of establishments in %.\n",
    "\n",
    "We see our most popular type by a margin is restaurant, with  75%, followed by fast food with 11%.\n",
    "\n",
    "Cafe, pizza, bar and bakery types have a close share of around 3%."
   ]
  },
  {
   "cell_type": "markdown",
   "metadata": {},
   "source": [
    "plotting Proportions of the various types of establishments in absolute values:"
   ]
  },
  {
   "cell_type": "code",
   "execution_count": 21,
   "metadata": {},
   "outputs": [
    {
     "data": {
      "image/png": "[encoded data removed]",
      "text/plain": [
       "<Figure size 720x288 with 1 Axes>"
      ]
     },
     "metadata": {},
     "output_type": "display_data"
    }
   ],
   "source": [
    "sns.set_style('dark') \n",
    "ax = types.plot.bar(figsize=(10,4))\n",
    "ax.set_title(\"Amount of the various types of establishments\",weight='bold',size=15)\n",
    "ax.set_xlabel(\"Type\", labelpad=20, weight='bold', size=12)\n",
    "ax.set_ylabel(\"Amount\", labelpad=20, weight='bold', size=12)\n",
    "ax.tick_params(axis='x', rotation=0)\n",
    "ax.bar_label(ax.containers[0]);"
   ]
  },
  {
   "cell_type": "markdown",
   "metadata": {},
   "source": [
    "##### Description & Conclusion:\n",
    "This graphs shows the Proportions of the various types of establishments in absolute values.\n",
    "\n",
    "We see the same results from our previous graph, just in absolute values.\n",
    "\n",
    "We see our most popular type by a margin is restaurant, with 7255  followed by fast food with 1066.\n",
    "\n",
    "Cafe, pizza, bar and bakery types have a close amount of around 300."
   ]
  },
  {
   "cell_type": "markdown",
   "metadata": {},
   "source": [
    "<a class=\"anchor\" id=\"section_2_2\"></a>"
   ]
  },
  {
   "cell_type": "markdown",
   "metadata": {},
   "source": [
    "### proportions of chain and nonchain establishments"
   ]
  },
  {
   "cell_type": "code",
   "execution_count": 22,
   "metadata": {},
   "outputs": [],
   "source": [
    "chain_types = df.chain.value_counts()\n",
    "chain_perc = round((df.chain.value_counts(normalize=True) * 100),2)"
   ]
  },
  {
   "cell_type": "code",
   "execution_count": 23,
   "metadata": {},
   "outputs": [
    {
     "data": {
      "image/png": "[encoded data removed]",
      "text/plain": [
       "<Figure size 720x288 with 1 Axes>"
      ]
     },
     "metadata": {},
     "output_type": "display_data"
    }
   ],
   "source": [
    "sns.set_style('dark') \n",
    "mylabels = ['Nonchain','Chain']\n",
    "ax = chain_types.plot.pie(autopct='%.2f',labels = mylabels, figsize=(10,4))\n",
    "ax.set_title(\"Proportions of chains vs nonchains establishments in %\",weight='bold',size=15)\n",
    "plt.ylabel('');"
   ]
  },
  {
   "cell_type": "markdown",
   "metadata": {},
   "source": [
    "##### Description:\n",
    "This graph shows the proportions of chain and nonchain total establishments in %.\n",
    "\n",
    "- The majority of our establishments are a nonchain, with 61.88% percent of the establishments.\n",
    "- The amount of chained establishments is 38.12%."
   ]
  },
  {
   "cell_type": "code",
   "execution_count": 24,
   "metadata": {},
   "outputs": [
    {
     "data": {
      "image/png": "[encoded data removed]",
      "text/plain": [
       "<Figure size 720x288 with 1 Axes>"
      ]
     },
     "metadata": {},
     "output_type": "display_data"
    }
   ],
   "source": [
    "sns.set_style('dark') \n",
    "ax = chain_types.plot.bar(figsize=(10,4))\n",
    "ax.set_title(\"Amount of chain and nonchain total establishments\",weight='bold',size=15)\n",
    "ax.set_xlabel(\"Type\", labelpad=20, weight='bold', size=12)\n",
    "ax.set_ylabel(\"Amount\", labelpad=20, weight='bold', size=12)\n",
    "ax.tick_params(axis='x', rotation=0)\n",
    "ax.set_xticklabels(['Nonchain','Chain'])\n",
    "ax.bar_label(ax.containers[0]);"
   ]
  },
  {
   "cell_type": "markdown",
   "metadata": {},
   "source": [
    "##### Description:\n",
    "This graph shows the proportions of chain and nonchain total establishments in absolute values.\n",
    "- The majority of our establishments are a nonchain, with 5972 establishments.\n",
    "- The amount of chained establishments is 3679."
   ]
  },
  {
   "cell_type": "markdown",
   "metadata": {},
   "source": [
    "unique establishments dataframe to measure the proportion of unique establishments"
   ]
  },
  {
   "cell_type": "code",
   "execution_count": 25,
   "metadata": {},
   "outputs": [],
   "source": [
    "df2 = df.groupby('object_name')['chain'].agg([('chain','max')]).reset_index()"
   ]
  },
  {
   "cell_type": "code",
   "execution_count": 26,
   "metadata": {},
   "outputs": [],
   "source": [
    "unique = df2.chain.value_counts()\n",
    "unique_perc = round(df2.chain.value_counts(normalize=True) * 100,2)"
   ]
  },
  {
   "cell_type": "code",
   "execution_count": 27,
   "metadata": {},
   "outputs": [
    {
     "data": {
      "image/png": "[encoded data removed]",
      "text/plain": [
       "<Figure size 720x288 with 1 Axes>"
      ]
     },
     "metadata": {},
     "output_type": "display_data"
    }
   ],
   "source": [
    "sns.set_style('dark') \n",
    "ax = unique_perc.plot.bar(figsize=(10,4))\n",
    "ax.set_title(\"proportions of chain and nonchain unique establishments in %\",weight='bold',size=15)\n",
    "ax.set_xlabel(\"Type\", labelpad=20, weight='bold', size=12)\n",
    "ax.set_ylabel(\"%\", labelpad=20, weight='bold', size=12)\n",
    "ax.tick_params(axis='x', rotation=0)\n",
    "ax.set_xticklabels(['Nonchain','Chain'])\n",
    "ax.bar_label(ax.containers[0]);"
   ]
  },
  {
   "cell_type": "markdown",
   "metadata": {},
   "source": [
    "##### Description:\n",
    "This graph shows the proportions of chain and nonchain unique establishments(unique object_names) in %.\n",
    "\n",
    "- The majority of our establishments are a nonchain, with 68.45% percent of the establishments.\n",
    "- The amount of chained establishments is 31.55%."
   ]
  },
  {
   "cell_type": "markdown",
   "metadata": {},
   "source": [
    "plotting the proprtions in absolute values:"
   ]
  },
  {
   "cell_type": "code",
   "execution_count": 28,
   "metadata": {},
   "outputs": [
    {
     "data": {
      "image/png": "[encoded data removed]",
      "text/plain": [
       "<Figure size 720x288 with 1 Axes>"
      ]
     },
     "metadata": {},
     "output_type": "display_data"
    }
   ],
   "source": [
    "sns.set_style('dark') \n",
    "ax = unique.plot.bar(figsize=(10,4))\n",
    "ax.set_title(\"Amount of chain and nonchain unique establishments \",weight='bold',size=15)\n",
    "ax.set_xlabel(\"Type\", labelpad=20, weight='bold', size=12)\n",
    "ax.set_ylabel(\"Amount\", labelpad=20, weight='bold', size=12)\n",
    "ax.tick_params(axis='x', rotation=0)\n",
    "ax.set_xticklabels(['Nonchain','Chain'])\n",
    "ax.bar_label(ax.containers[0]);"
   ]
  },
  {
   "cell_type": "markdown",
   "metadata": {},
   "source": [
    "##### Description:\n",
    "This graph shows the proportions of chain and nonchain unique establishments(unique object_names) in absolute values.\n",
    "\n",
    "- The majority of our establishments are a nonchain, with 5936 establishments.\n",
    "- The amount of chained establishments is 2736."
   ]
  },
  {
   "cell_type": "markdown",
   "metadata": {},
   "source": [
    "<a class=\"anchor\" id=\"section_2_3\"></a>"
   ]
  },
  {
   "cell_type": "markdown",
   "metadata": {},
   "source": [
    "### Which type of establishment is typically a chain?"
   ]
  },
  {
   "cell_type": "markdown",
   "metadata": {},
   "source": [
    "dfs of establishments with True value in chain column (is a chain), and False (nonchain)"
   ]
  },
  {
   "cell_type": "code",
   "execution_count": 29,
   "metadata": {},
   "outputs": [],
   "source": [
    "chain = df.query('chain == True')\n",
    "nonchain = df.query('chain == False')"
   ]
  },
  {
   "cell_type": "markdown",
   "metadata": {},
   "source": [
    "printing the types of establishments and the amount of nonchains"
   ]
  },
  {
   "cell_type": "code",
   "execution_count": 30,
   "metadata": {},
   "outputs": [
    {
     "data": {
      "text/html": [
       "<div>\n",
       "<style scoped>\n",
       "    .dataframe tbody tr th:only-of-type {\n",
       "        vertical-align: middle;\n",
       "    }\n",
       "\n",
       "    .dataframe tbody tr th {\n",
       "        vertical-align: top;\n",
       "    }\n",
       "\n",
       "    .dataframe thead th {\n",
       "        text-align: right;\n",
       "    }\n",
       "</style>\n",
       "<table border=\"1\" class=\"dataframe\">\n",
       "  <thead>\n",
       "    <tr style=\"text-align: right;\">\n",
       "      <th></th>\n",
       "      <th>nonchain</th>\n",
       "    </tr>\n",
       "    <tr>\n",
       "      <th>object_type</th>\n",
       "      <th></th>\n",
       "    </tr>\n",
       "  </thead>\n",
       "  <tbody>\n",
       "    <tr>\n",
       "      <th>Restaurant</th>\n",
       "      <td>4961</td>\n",
       "    </tr>\n",
       "    <tr>\n",
       "      <th>Fast Food</th>\n",
       "      <td>461</td>\n",
       "    </tr>\n",
       "    <tr>\n",
       "      <th>Bar</th>\n",
       "      <td>215</td>\n",
       "    </tr>\n",
       "    <tr>\n",
       "      <th>Cafe</th>\n",
       "      <td>169</td>\n",
       "    </tr>\n",
       "    <tr>\n",
       "      <th>Pizza</th>\n",
       "      <td>166</td>\n",
       "    </tr>\n",
       "    <tr>\n",
       "      <th>Bakery</th>\n",
       "      <td>0</td>\n",
       "    </tr>\n",
       "  </tbody>\n",
       "</table>\n",
       "</div>"
      ],
      "text/plain": [
       "             nonchain\n",
       "object_type          \n",
       "Restaurant       4961\n",
       "Fast Food         461\n",
       "Bar               215\n",
       "Cafe              169\n",
       "Pizza             166\n",
       "Bakery              0"
      ]
     },
     "execution_count": 30,
     "metadata": {},
     "output_type": "execute_result"
    }
   ],
   "source": [
    "type_nonchain = nonchain.groupby('object_type').agg({'chain': 'count'}).sort_values(by='chain',ascending=False)\n",
    "type_nonchain.columns = ['nonchain']\n",
    "type_nonchain"
   ]
  },
  {
   "cell_type": "markdown",
   "metadata": {},
   "source": [
    "printing the types of establishments and the amount of chains"
   ]
  },
  {
   "cell_type": "code",
   "execution_count": 31,
   "metadata": {},
   "outputs": [
    {
     "data": {
      "text/html": [
       "<div>\n",
       "<style scoped>\n",
       "    .dataframe tbody tr th:only-of-type {\n",
       "        vertical-align: middle;\n",
       "    }\n",
       "\n",
       "    .dataframe tbody tr th {\n",
       "        vertical-align: top;\n",
       "    }\n",
       "\n",
       "    .dataframe thead th {\n",
       "        text-align: right;\n",
       "    }\n",
       "</style>\n",
       "<table border=\"1\" class=\"dataframe\">\n",
       "  <thead>\n",
       "    <tr style=\"text-align: right;\">\n",
       "      <th></th>\n",
       "      <th>chain</th>\n",
       "    </tr>\n",
       "    <tr>\n",
       "      <th>object_type</th>\n",
       "      <th></th>\n",
       "    </tr>\n",
       "  </thead>\n",
       "  <tbody>\n",
       "    <tr>\n",
       "      <th>Restaurant</th>\n",
       "      <td>2294</td>\n",
       "    </tr>\n",
       "    <tr>\n",
       "      <th>Fast Food</th>\n",
       "      <td>605</td>\n",
       "    </tr>\n",
       "    <tr>\n",
       "      <th>Bakery</th>\n",
       "      <td>283</td>\n",
       "    </tr>\n",
       "    <tr>\n",
       "      <th>Cafe</th>\n",
       "      <td>266</td>\n",
       "    </tr>\n",
       "    <tr>\n",
       "      <th>Pizza</th>\n",
       "      <td>154</td>\n",
       "    </tr>\n",
       "    <tr>\n",
       "      <th>Bar</th>\n",
       "      <td>77</td>\n",
       "    </tr>\n",
       "  </tbody>\n",
       "</table>\n",
       "</div>"
      ],
      "text/plain": [
       "             chain\n",
       "object_type       \n",
       "Restaurant    2294\n",
       "Fast Food      605\n",
       "Bakery         283\n",
       "Cafe           266\n",
       "Pizza          154\n",
       "Bar             77"
      ]
     },
     "execution_count": 31,
     "metadata": {},
     "output_type": "execute_result"
    }
   ],
   "source": [
    "type_chain = chain.groupby('object_type').agg({'chain': 'count'}).sort_values(by='chain',ascending=False)\n",
    "type_chain"
   ]
  },
  {
   "cell_type": "markdown",
   "metadata": {},
   "source": [
    "merging the dfs:"
   ]
  },
  {
   "cell_type": "code",
   "execution_count": 32,
   "metadata": {},
   "outputs": [],
   "source": [
    "both = type_chain.merge(type_nonchain,on='object_type')"
   ]
  },
  {
   "cell_type": "markdown",
   "metadata": {},
   "source": [
    "calculating and printing chain % column to find out which type is typically a chain"
   ]
  },
  {
   "cell_type": "code",
   "execution_count": 33,
   "metadata": {},
   "outputs": [
    {
     "data": {
      "text/html": [
       "<div>\n",
       "<style scoped>\n",
       "    .dataframe tbody tr th:only-of-type {\n",
       "        vertical-align: middle;\n",
       "    }\n",
       "\n",
       "    .dataframe tbody tr th {\n",
       "        vertical-align: top;\n",
       "    }\n",
       "\n",
       "    .dataframe thead th {\n",
       "        text-align: right;\n",
       "    }\n",
       "</style>\n",
       "<table border=\"1\" class=\"dataframe\">\n",
       "  <thead>\n",
       "    <tr style=\"text-align: right;\">\n",
       "      <th></th>\n",
       "      <th>chain</th>\n",
       "      <th>nonchain</th>\n",
       "      <th>chain_perc</th>\n",
       "    </tr>\n",
       "    <tr>\n",
       "      <th>object_type</th>\n",
       "      <th></th>\n",
       "      <th></th>\n",
       "      <th></th>\n",
       "    </tr>\n",
       "  </thead>\n",
       "  <tbody>\n",
       "    <tr>\n",
       "      <th>Bakery</th>\n",
       "      <td>283</td>\n",
       "      <td>0</td>\n",
       "      <td>100.00</td>\n",
       "    </tr>\n",
       "    <tr>\n",
       "      <th>Cafe</th>\n",
       "      <td>266</td>\n",
       "      <td>169</td>\n",
       "      <td>61.15</td>\n",
       "    </tr>\n",
       "    <tr>\n",
       "      <th>Fast Food</th>\n",
       "      <td>605</td>\n",
       "      <td>461</td>\n",
       "      <td>56.75</td>\n",
       "    </tr>\n",
       "    <tr>\n",
       "      <th>Pizza</th>\n",
       "      <td>154</td>\n",
       "      <td>166</td>\n",
       "      <td>48.12</td>\n",
       "    </tr>\n",
       "    <tr>\n",
       "      <th>Restaurant</th>\n",
       "      <td>2294</td>\n",
       "      <td>4961</td>\n",
       "      <td>31.62</td>\n",
       "    </tr>\n",
       "    <tr>\n",
       "      <th>Bar</th>\n",
       "      <td>77</td>\n",
       "      <td>215</td>\n",
       "      <td>26.37</td>\n",
       "    </tr>\n",
       "  </tbody>\n",
       "</table>\n",
       "</div>"
      ],
      "text/plain": [
       "             chain  nonchain  chain_perc\n",
       "object_type                             \n",
       "Bakery         283         0      100.00\n",
       "Cafe           266       169       61.15\n",
       "Fast Food      605       461       56.75\n",
       "Pizza          154       166       48.12\n",
       "Restaurant    2294      4961       31.62\n",
       "Bar             77       215       26.37"
      ]
     },
     "execution_count": 33,
     "metadata": {},
     "output_type": "execute_result"
    }
   ],
   "source": [
    "both['chain_perc'] = round((both.chain / (both.chain + both.nonchain)) * 100,2)\n",
    "both = both.sort_values(by='chain_perc',ascending=False)\n",
    "both"
   ]
  },
  {
   "cell_type": "code",
   "execution_count": 34,
   "metadata": {},
   "outputs": [
    {
     "data": {
      "image/png": "[encoded data removed]",
      "text/plain": [
       "<Figure size 720x288 with 1 Axes>"
      ]
     },
     "metadata": {},
     "output_type": "display_data"
    }
   ],
   "source": [
    "sns.set_style('dark') \n",
    "ax = both.chain_perc.plot.bar(figsize=(10,4))\n",
    "ax.set_title(\"% Chain for each establishment type\",weight='bold',size=15)\n",
    "ax.set_xlabel(\"Type\", labelpad=20, weight='bold', size=12)\n",
    "ax.set_ylabel(\"% Chain\", labelpad=20, weight='bold', size=12)\n",
    "ax.tick_params(axis='x', rotation=0)\n",
    "ax.bar_label(ax.containers[0]);"
   ]
  },
  {
   "cell_type": "markdown",
   "metadata": {},
   "source": [
    "##### Description:\n",
    "This graph shows Chain % for each establishment type\n",
    "- Bakery is the leading type by a margin with 100% of its establishments being a chain.\n",
    "- Bar has the least chains with 26% of its total establishments .\n",
    "- The type of establishment that is always a chain is Bakery.\n",
    "- The types that are typically(>50%) a chain are Cafe(61.15%) and fast food(56.75%)"
   ]
  },
  {
   "cell_type": "markdown",
   "metadata": {},
   "source": [
    "<a class=\"anchor\" id=\"section_2_4\"></a>"
   ]
  },
  {
   "cell_type": "markdown",
   "metadata": {},
   "source": [
    "### What characterizes chains: many establishments with a small number of seats or a few establishments with a lot of seats?"
   ]
  },
  {
   "cell_type": "markdown",
   "metadata": {},
   "source": [
    "categorizing the amount of establishments for every chain to see what characterizes chains in terms of amount of establishments:"
   ]
  },
  {
   "cell_type": "code",
   "execution_count": 35,
   "metadata": {},
   "outputs": [],
   "source": [
    "a = chain.object_name.value_counts().to_frame().reset_index()\n",
    "a.columns = ['object_name','estb_count']\n",
    "a['category'] = pd.cut(a['estb_count'], bins=[1,1.9,5,10,20,47], include_lowest=True,\n",
    "                       labels=['1', '2-5', '6-10', '11-20','21-47'])"
   ]
  },
  {
   "cell_type": "markdown",
   "metadata": {},
   "source": [
    "merging to get the seats number column"
   ]
  },
  {
   "cell_type": "code",
   "execution_count": 36,
   "metadata": {},
   "outputs": [],
   "source": [
    "b = pd.merge(a,chain[['object_name','number']],on='object_name', how='left')"
   ]
  },
  {
   "cell_type": "markdown",
   "metadata": {},
   "source": [
    "viewing a sample of our new dataframe:"
   ]
  },
  {
   "cell_type": "code",
   "execution_count": 37,
   "metadata": {},
   "outputs": [
    {
     "data": {
      "text/html": [
       "<div>\n",
       "<style scoped>\n",
       "    .dataframe tbody tr th:only-of-type {\n",
       "        vertical-align: middle;\n",
       "    }\n",
       "\n",
       "    .dataframe tbody tr th {\n",
       "        vertical-align: top;\n",
       "    }\n",
       "\n",
       "    .dataframe thead th {\n",
       "        text-align: right;\n",
       "    }\n",
       "</style>\n",
       "<table border=\"1\" class=\"dataframe\">\n",
       "  <thead>\n",
       "    <tr style=\"text-align: right;\">\n",
       "      <th></th>\n",
       "      <th>object_name</th>\n",
       "      <th>estb_count</th>\n",
       "      <th>category</th>\n",
       "      <th>number</th>\n",
       "    </tr>\n",
       "  </thead>\n",
       "  <tbody>\n",
       "    <tr>\n",
       "      <th>1288</th>\n",
       "      <td>NISSI BAKERY</td>\n",
       "      <td>2</td>\n",
       "      <td>2-5</td>\n",
       "      <td>28</td>\n",
       "    </tr>\n",
       "    <tr>\n",
       "      <th>1532</th>\n",
       "      <td>TACOS Y GUISADOS EL CHARRO</td>\n",
       "      <td>1</td>\n",
       "      <td>1</td>\n",
       "      <td>14</td>\n",
       "    </tr>\n",
       "    <tr>\n",
       "      <th>2379</th>\n",
       "      <td>LA FIESTA BAKERY</td>\n",
       "      <td>1</td>\n",
       "      <td>1</td>\n",
       "      <td>1</td>\n",
       "    </tr>\n",
       "    <tr>\n",
       "      <th>1292</th>\n",
       "      <td>CAMPOS TACOS</td>\n",
       "      <td>2</td>\n",
       "      <td>2-5</td>\n",
       "      <td>18</td>\n",
       "    </tr>\n",
       "    <tr>\n",
       "      <th>925</th>\n",
       "      <td>ORLEANS AND YORK DELI</td>\n",
       "      <td>2</td>\n",
       "      <td>2-5</td>\n",
       "      <td>27</td>\n",
       "    </tr>\n",
       "  </tbody>\n",
       "</table>\n",
       "</div>"
      ],
      "text/plain": [
       "                     object_name  estb_count category  number\n",
       "1288                NISSI BAKERY           2      2-5      28\n",
       "1532  TACOS Y GUISADOS EL CHARRO           1        1      14\n",
       "2379            LA FIESTA BAKERY           1        1       1\n",
       "1292                CAMPOS TACOS           2      2-5      18\n",
       "925        ORLEANS AND YORK DELI           2      2-5      27"
      ]
     },
     "execution_count": 37,
     "metadata": {},
     "output_type": "execute_result"
    }
   ],
   "source": [
    "b.sample(5)"
   ]
  },
  {
   "cell_type": "markdown",
   "metadata": {},
   "source": [
    "checking the amount of chains in each category (categories of amount of establishments)"
   ]
  },
  {
   "cell_type": "code",
   "execution_count": 38,
   "metadata": {},
   "outputs": [
    {
     "data": {
      "text/plain": [
       "1        2243\n",
       "2-5      1080\n",
       "6-10      150\n",
       "11-20     128\n",
       "21-47      78\n",
       "Name: category, dtype: int64"
      ]
     },
     "execution_count": 38,
     "metadata": {},
     "output_type": "execute_result"
    }
   ],
   "source": [
    "b.category.value_counts()"
   ]
  },
  {
   "cell_type": "markdown",
   "metadata": {},
   "source": [
    "plotting the amount of seats per chain, categorized by number of establishments per chain"
   ]
  },
  {
   "cell_type": "code",
   "execution_count": 39,
   "metadata": {},
   "outputs": [
    {
     "data": {
      "image/png": "[encoded data removed]",
      "text/plain": [
       "<Figure size 360x360 with 1 Axes>"
      ]
     },
     "metadata": {},
     "output_type": "display_data"
    }
   ],
   "source": [
    "sns.set(rc={'figure.figsize':(20,10)})\n",
    "ax = sns.catplot(x=\"category\",y=\"number\", data=b)\n",
    "plt.title('Seats per chain', y=1, fontsize = 16, weight='bold', size=12)\n",
    "plt.plot([], [], ' ', label=\"*Each dot is a chain\")\n",
    "plt.legend(loc=1, prop={'size': 9})\n",
    "axes = ax.axes.flatten()\n",
    "axes[0].set_ylabel(\"Amount of seats\",labelpad=20, weight='bold', size=12)\n",
    "axes[0].set_xlabel(\"Number of establishments per chain\",labelpad=20, weight='bold', size=12);"
   ]
  },
  {
   "cell_type": "markdown",
   "metadata": {},
   "source": [
    "##### Description & Conclusion:\n",
    "This graph shows the amount of seats per chain, and the amount of chains in the number of establishments categories.\n",
    "\n",
    "We can clearly see that what characterizes chains is having few establishments with a lot of seats. "
   ]
  },
  {
   "cell_type": "markdown",
   "metadata": {},
   "source": [
    "<a class=\"anchor\" id=\"section_2_5\"></a>"
   ]
  },
  {
   "cell_type": "markdown",
   "metadata": {},
   "source": [
    "### Find The average number of seats for each type of establishment. On average, which type of establishment has the greatest number of seats?"
   ]
  },
  {
   "cell_type": "code",
   "execution_count": 40,
   "metadata": {},
   "outputs": [],
   "source": [
    "avg_seat = df.groupby('object_type').agg({'number':'mean'}).reset_index()\n",
    "avg_seat.columns = ['object_type','avg_seats']\n",
    "avg_seat.avg_seats = avg_seat.avg_seats.round(2)"
   ]
  },
  {
   "cell_type": "code",
   "execution_count": 41,
   "metadata": {},
   "outputs": [
    {
     "data": {
      "image/png": "[encoded data removed]",
      "text/plain": [
       "<Figure size 576x288 with 1 Axes>"
      ]
     },
     "metadata": {},
     "output_type": "display_data"
    }
   ],
   "source": [
    "sns.set(rc={'figure.figsize':(8,4)})\n",
    "ax = sns.barplot(x=\"object_type\",y=\"avg_seats\",data=round(avg_seat),order=avg_seat.sort_values('avg_seats',ascending=False).object_type)\n",
    "ax.bar_label(ax.containers[0])\n",
    "ax.set_title(\"Average number of seats for each type\",weight='bold',size=15)\n",
    "ax.set_xlabel(\"Establishment type\", labelpad=20, weight='bold', size=12)\n",
    "ax.set_ylabel(\"Amount of seats\", labelpad=20, weight='bold', size=12);"
   ]
  },
  {
   "cell_type": "markdown",
   "metadata": {},
   "source": [
    "##### Description & Conclusion:\n",
    "This graph shows the average number of seats for each establishment type.\n",
    "- On average, the type of establishment that has the greatest number of seats is Restaurant\n",
    "- On average , the type of establishment that has the lowest number of seats is Bakery."
   ]
  },
  {
   "cell_type": "markdown",
   "metadata": {},
   "source": [
    "<a class=\"anchor\" id=\"section_2_6\"></a>"
   ]
  },
  {
   "cell_type": "markdown",
   "metadata": {},
   "source": [
    "### Create a street name column from the address column"
   ]
  },
  {
   "cell_type": "markdown",
   "metadata": {},
   "source": [
    "street name parsing:"
   ]
  },
  {
   "cell_type": "code",
   "execution_count": 42,
   "metadata": {},
   "outputs": [],
   "source": [
    "def street_generator(x):\n",
    "    street_list=[]\n",
    "    street_list= re.findall('[0-9]*[a-zA-Z]{2,}',x)\n",
    "    return ' '.join(street_list)"
   ]
  },
  {
   "cell_type": "code",
   "execution_count": 43,
   "metadata": {},
   "outputs": [],
   "source": [
    "df['street'] = df.address.apply(street_generator)"
   ]
  },
  {
   "cell_type": "markdown",
   "metadata": {},
   "source": [
    "head of our df to see the newly created street name column:"
   ]
  },
  {
   "cell_type": "code",
   "execution_count": 44,
   "metadata": {},
   "outputs": [
    {
     "data": {
      "text/html": [
       "<div>\n",
       "<style scoped>\n",
       "    .dataframe tbody tr th:only-of-type {\n",
       "        vertical-align: middle;\n",
       "    }\n",
       "\n",
       "    .dataframe tbody tr th {\n",
       "        vertical-align: top;\n",
       "    }\n",
       "\n",
       "    .dataframe thead th {\n",
       "        text-align: right;\n",
       "    }\n",
       "</style>\n",
       "<table border=\"1\" class=\"dataframe\">\n",
       "  <thead>\n",
       "    <tr style=\"text-align: right;\">\n",
       "      <th></th>\n",
       "      <th>id</th>\n",
       "      <th>object_name</th>\n",
       "      <th>address</th>\n",
       "      <th>chain</th>\n",
       "      <th>object_type</th>\n",
       "      <th>number</th>\n",
       "      <th>street</th>\n",
       "    </tr>\n",
       "  </thead>\n",
       "  <tbody>\n",
       "    <tr>\n",
       "      <th>0</th>\n",
       "      <td>11786</td>\n",
       "      <td>HABITAT COFFEE SHOP</td>\n",
       "      <td>3708 N EAGLE ROCK BLVD</td>\n",
       "      <td>False</td>\n",
       "      <td>Cafe</td>\n",
       "      <td>26</td>\n",
       "      <td>EAGLE ROCK BLVD</td>\n",
       "    </tr>\n",
       "    <tr>\n",
       "      <th>1</th>\n",
       "      <td>11787</td>\n",
       "      <td>REILLY'S</td>\n",
       "      <td>100 WORLD WAY # 120</td>\n",
       "      <td>False</td>\n",
       "      <td>Restaurant</td>\n",
       "      <td>9</td>\n",
       "      <td>WORLD WAY</td>\n",
       "    </tr>\n",
       "    <tr>\n",
       "      <th>2</th>\n",
       "      <td>11788</td>\n",
       "      <td>STREET CHURROS</td>\n",
       "      <td>6801 HOLLYWOOD BLVD # 253</td>\n",
       "      <td>False</td>\n",
       "      <td>Fast Food</td>\n",
       "      <td>20</td>\n",
       "      <td>HOLLYWOOD BLVD</td>\n",
       "    </tr>\n",
       "    <tr>\n",
       "      <th>3</th>\n",
       "      <td>11789</td>\n",
       "      <td>TRINITI ECHO PARK</td>\n",
       "      <td>1814 W SUNSET BLVD</td>\n",
       "      <td>False</td>\n",
       "      <td>Restaurant</td>\n",
       "      <td>22</td>\n",
       "      <td>SUNSET BLVD</td>\n",
       "    </tr>\n",
       "    <tr>\n",
       "      <th>4</th>\n",
       "      <td>11790</td>\n",
       "      <td>POLLEN</td>\n",
       "      <td>2100 ECHO PARK AVE</td>\n",
       "      <td>False</td>\n",
       "      <td>Restaurant</td>\n",
       "      <td>20</td>\n",
       "      <td>ECHO PARK AVE</td>\n",
       "    </tr>\n",
       "  </tbody>\n",
       "</table>\n",
       "</div>"
      ],
      "text/plain": [
       "      id          object_name                    address  chain object_type  \\\n",
       "0  11786  HABITAT COFFEE SHOP     3708 N EAGLE ROCK BLVD  False        Cafe   \n",
       "1  11787             REILLY'S        100 WORLD WAY # 120  False  Restaurant   \n",
       "2  11788       STREET CHURROS  6801 HOLLYWOOD BLVD # 253  False   Fast Food   \n",
       "3  11789    TRINITI ECHO PARK         1814 W SUNSET BLVD  False  Restaurant   \n",
       "4  11790               POLLEN         2100 ECHO PARK AVE  False  Restaurant   \n",
       "\n",
       "   number           street  \n",
       "0      26  EAGLE ROCK BLVD  \n",
       "1       9        WORLD WAY  \n",
       "2      20   HOLLYWOOD BLVD  \n",
       "3      22      SUNSET BLVD  \n",
       "4      20    ECHO PARK AVE  "
      ]
     },
     "execution_count": 44,
     "metadata": {},
     "output_type": "execute_result"
    }
   ],
   "source": [
    "df.head()"
   ]
  },
  {
   "cell_type": "markdown",
   "metadata": {},
   "source": [
    "<a class=\"anchor\" id=\"section_2_7\"></a>"
   ]
  },
  {
   "cell_type": "markdown",
   "metadata": {},
   "source": [
    "### Top ten streets by number of establishments"
   ]
  },
  {
   "cell_type": "markdown",
   "metadata": {},
   "source": [
    "plotting top ten streets by number of establishments"
   ]
  },
  {
   "cell_type": "code",
   "execution_count": 45,
   "metadata": {},
   "outputs": [],
   "source": [
    " top10 = df.street.value_counts().head(10)"
   ]
  },
  {
   "cell_type": "code",
   "execution_count": 46,
   "metadata": {},
   "outputs": [
    {
     "data": {
      "image/png": "[encoded data removed]",
      "text/plain": [
       "<Figure size 1008x504 with 1 Axes>"
      ]
     },
     "metadata": {},
     "output_type": "display_data"
    }
   ],
   "source": [
    "sns.set_style('dark') \n",
    "ax = top10.plot.bar(figsize=(14,7))\n",
    "ax.set_title(\"Top ten streets by number of establishments\",weight='bold',size=15)\n",
    "ax.set_xlabel(\"Street name\", labelpad=20, weight='bold', size=12)\n",
    "ax.set_ylabel(\"Amount of establishments\", labelpad=20, weight='bold', size=12)\n",
    "ax.tick_params(axis='x', rotation=25)\n",
    "ax.bar_label(ax.containers[0]);"
   ]
  },
  {
   "cell_type": "markdown",
   "metadata": {},
   "source": [
    "##### Description & Conclusion:\n",
    "This graph shows the top ten streets by number of establishments.\n",
    "\n",
    "- The street with most establishments is sunset blvd, with 362 establishments, followed by pico blvd with 341."
   ]
  },
  {
   "cell_type": "markdown",
   "metadata": {},
   "source": [
    "<a class=\"anchor\" id=\"section_2_8\"></a>"
   ]
  },
  {
   "cell_type": "markdown",
   "metadata": {},
   "source": [
    "###  Find the number of streets that only have one establishment."
   ]
  },
  {
   "cell_type": "code",
   "execution_count": 47,
   "metadata": {},
   "outputs": [],
   "source": [
    "streets = df.street.value_counts().to_frame().reset_index()\n",
    "streets.columns = ['street_name','estb_count']"
   ]
  },
  {
   "cell_type": "markdown",
   "metadata": {},
   "source": [
    "Amount of streets with one establishment:"
   ]
  },
  {
   "cell_type": "code",
   "execution_count": 59,
   "metadata": {},
   "outputs": [
    {
     "data": {
      "text/plain": [
       "408"
      ]
     },
     "execution_count": 59,
     "metadata": {},
     "output_type": "execute_result"
    }
   ],
   "source": [
    "len(streets.query('estb_count == 1'))"
   ]
  },
  {
   "cell_type": "markdown",
   "metadata": {},
   "source": [
    "##### Conclusion:\n",
    "There are 408 streets with one establishment."
   ]
  },
  {
   "cell_type": "markdown",
   "metadata": {},
   "source": [
    "<a class=\"anchor\" id=\"section_2_9\"></a>"
   ]
  },
  {
   "cell_type": "markdown",
   "metadata": {},
   "source": [
    "### Distribution of the number of seats for streets with a lot of establishments"
   ]
  },
  {
   "cell_type": "markdown",
   "metadata": {},
   "source": [
    "defining streets with alot of establishments to be our top 5 streets."
   ]
  },
  {
   "cell_type": "markdown",
   "metadata": {},
   "source": [
    "changing column name street_name to street for merging "
   ]
  },
  {
   "cell_type": "code",
   "execution_count": 49,
   "metadata": {},
   "outputs": [],
   "source": [
    "streets.columns = ['street','estb_count']"
   ]
  },
  {
   "cell_type": "markdown",
   "metadata": {},
   "source": [
    "merging to get the number of seats column into our streets df."
   ]
  },
  {
   "cell_type": "code",
   "execution_count": 50,
   "metadata": {},
   "outputs": [],
   "source": [
    "streets_seats = pd.merge(streets,df[['street','number']],on='street', how='left')"
   ]
  },
  {
   "cell_type": "markdown",
   "metadata": {},
   "source": [
    "our top 5 streets names:"
   ]
  },
  {
   "cell_type": "code",
   "execution_count": 51,
   "metadata": {},
   "outputs": [
    {
     "data": {
      "text/plain": [
       "['SUNSET BLVD', 'PICO BLVD', 'WESTERN AVE', 'FIGUEROA ST', 'WILSHIRE BLVD']"
      ]
     },
     "execution_count": 51,
     "metadata": {},
     "output_type": "execute_result"
    }
   ],
   "source": [
    "top5names = streets_seats.street.value_counts().head(5).keys().to_list()\n",
    "streets_seats.street.value_counts().head(5).keys().to_list()"
   ]
  },
  {
   "cell_type": "code",
   "execution_count": 52,
   "metadata": {},
   "outputs": [],
   "source": [
    "top5 = streets_seats.query('street in @top5names')"
   ]
  },
  {
   "cell_type": "code",
   "execution_count": 53,
   "metadata": {},
   "outputs": [
    {
     "data": {
      "image/png": "[encoded data removed]",
      "text/plain": [
       "<Figure size 360x360 with 1 Axes>"
      ]
     },
     "metadata": {},
     "output_type": "display_data"
    }
   ],
   "source": [
    "ax = sns.displot(top5, x=\"number\", bins = 50)\n",
    "sns.set(rc={'figure.figsize':(20,15)})\n",
    "plt.title('Distribution of the number of seats in the top 5 streets', y=1.05, fontsize = 16, weight='bold', size=12)\n",
    "axes = ax.axes.flatten()\n",
    "axes[0].set_ylabel(\"Number of establishments\",labelpad=20, weight='bold', size=12)\n",
    "axes[0].set_xlabel(\"Number of seats\",labelpad=20, weight='bold', size=12);"
   ]
  },
  {
   "cell_type": "markdown",
   "metadata": {},
   "source": [
    "##### Description & Conclusion:\n",
    "This graph shows the Distribution of the number of seats in the top 5 streets.\n",
    "\n",
    "We can see the trend is having up to 50 seats, as the vast majority of our establishments are distributed among this amount of seats.\n",
    "\n",
    "- the general trend in the top 5 streets is to have low (0-50) amount of seats.\n",
    "\n",
    "- There are relativley low amount of establishments with more than 50 seats."
   ]
  },
  {
   "cell_type": "markdown",
   "metadata": {},
   "source": [
    "<a class=\"anchor\" id=\"section_2_9\"></a>"
   ]
  },
  {
   "cell_type": "markdown",
   "metadata": {},
   "source": [
    "### establishments distribution in our top street:"
   ]
  },
  {
   "cell_type": "code",
   "execution_count": 54,
   "metadata": {},
   "outputs": [
    {
     "data": {
      "image/png": "[encoded data removed]",
      "text/plain": [
       "<Figure size 1440x1080 with 1 Axes>"
      ]
     },
     "metadata": {},
     "output_type": "display_data"
    }
   ],
   "source": [
    "sns.set_style('dark') \n",
    "ax = df.query('street == \"SUNSET BLVD\"').object_type.value_counts().plot(kind='bar')\n",
    "ax.set_title(\"establishments distribution in SUNSET BLVD\",weight='bold',size=15)\n",
    "ax.set_xlabel(\"Type\", labelpad=20, weight='bold', size=12)\n",
    "ax.set_ylabel(\"Amount of establishments\", labelpad=20, weight='bold', size=12)\n",
    "ax.tick_params(axis='x', rotation=0)\n",
    "ax.bar_label(ax.containers[0]);"
   ]
  },
  {
   "cell_type": "markdown",
   "metadata": {},
   "source": [
    "##### Conclusion:\n",
    "We see there are a lot of restaurants, and a much lower amount of the rest of the kinds - something to consider when deciding what type of establishment should we open if we want to be located there."
   ]
  },
  {
   "cell_type": "markdown",
   "metadata": {},
   "source": [
    "<a class=\"anchor\" id=\"chapter3\"></a>"
   ]
  },
  {
   "cell_type": "markdown",
   "metadata": {},
   "source": [
    "<div class=\"alert alert-info\" style=\"background-color:#006a79; color:white; padding:0px 10px; border-radius:5px;\"><h2 style='margin:10px 5px'>Overall conclusion & Recommendations</h2>\n",
    "</div>"
   ]
  },
  {
   "cell_type": "markdown",
   "metadata": {},
   "source": [
    "To summarize, we concluded many conclusions regarding different aspects of the data:\n",
    "\n",
    "In the data's preparation & processing stage:\n",
    "- 3 rows with missing values for chain column, who were dropped.\n",
    "\n",
    "In the Metrics calculations stage:\n",
    "\n",
    "- our most popular establishment type is restaurant, being 75% out of all establishments.\n",
    "\n",
    "- The majority of our establishments are a nonchain, with 61.88% percent of the establishments.\n",
    "\n",
    "- All Bakeries are being a chain.\n",
    "\n",
    "- Bar has the least chains with 26% of its total establishments.\n",
    "\n",
    "- Most chains have few establishments with a lot of seats.\n",
    "\n",
    "- On average, the type of establishment that has the greatest number of seats is Restaurant.\n",
    "\n",
    "- On average , the type of establishment that has the lowest number of seats is Bakery.\n",
    "\n",
    "- The street with most establishments is sunset blvd, with 362 establishments, followed by pico blvd with 341.\n",
    "\n",
    "- There are 408 streets with one establishment.\n",
    "\n",
    "- The top 5 streets with most establishments are: SUNSET BLVD, PICO BLVD, WESTERN AVE, FIGUEROA ST, WILSHIRE BLVD.\n",
    "\n",
    "- the general trend in the top 5 streets is to have low (0-50) amount of seats.\n",
    "\n",
    "Recommendations:\n",
    "\n",
    "- Our establishment's location should be in the top street in amount of establishments - SUNSET BLVD.\n",
    "  We consider the very high traffic in this street as a crucial advantage, as this will provide us much more chances to attract   new customers.\n",
    "\n",
    "- We should open a Bakery, since there aren't many bakeries in SUNSET BLVD, which reduces our competition and increases our chances to segregate our place and be unique.\n",
    "- We should have \n",
    "\n",
    "- Our seats number should be following the trend in the street(not having more than 50 seats) and we will choose 30 seats.\n",
    "\n",
    "- Since all bakeries are chains, we should segregate our selves and not start as a chain, as this will be unique and can help attracting customers. we could develop a chain, but we should start as a nonchain and determine if we continue as a chain afterwards."
   ]
  },
  {
   "cell_type": "markdown",
   "metadata": {},
   "source": [
    "<a class=\"anchor\" id=\"chapter4\"></a>"
   ]
  },
  {
   "cell_type": "markdown",
   "metadata": {},
   "source": [
    "<div class=\"alert alert-info\" style=\"background-color:#006a79; color:white; padding:0px 10px; border-radius:5px;\"><h2 style='margin:10px 5px'>Presentation</h2>\n",
    "</div>"
   ]
  },
  {
   "cell_type": "markdown",
   "metadata": {},
   "source": [
    "\n",
    "Link to Presentation:  https://drive.google.com/file/d/1Ioi9_3z7AZ4Mim5N7Hd2rpo-tH_zQpqs/view?usp=sharing"
   ]
  }
 ],
 "metadata": {
  "ExecuteTimeLog": [
   {
    "duration": 8638,
    "start_time": "2021-08-15T14:36:13.800Z"
   },
   {
    "duration": 3762,
    "start_time": "2021-08-15T14:37:37.477Z"
   },
   {
    "duration": 4,
    "start_time": "2021-08-15T14:37:51.714Z"
   },
   {
    "duration": 288,
    "start_time": "2021-08-15T14:39:33.566Z"
   },
   {
    "duration": 288,
    "start_time": "2021-08-15T14:39:42.712Z"
   },
   {
    "duration": 18,
    "start_time": "2021-08-15T14:39:45.711Z"
   },
   {
    "duration": 4,
    "start_time": "2021-08-15T14:40:01.474Z"
   },
   {
    "duration": 13,
    "start_time": "2021-08-15T14:40:03.122Z"
   },
   {
    "duration": 12,
    "start_time": "2021-08-15T14:40:44.066Z"
   },
   {
    "duration": 37401,
    "start_time": "2021-08-15T15:26:43.818Z"
   },
   {
    "duration": 20327,
    "start_time": "2021-08-15T15:28:37.820Z"
   },
   {
    "duration": 564,
    "start_time": "2021-08-15T15:55:37.923Z"
   },
   {
    "duration": 16,
    "start_time": "2021-08-15T15:55:41.091Z"
   },
   {
    "duration": 20,
    "start_time": "2021-08-15T15:58:43.928Z"
   },
   {
    "duration": 51,
    "start_time": "2021-08-15T15:59:25.143Z"
   },
   {
    "duration": 13,
    "start_time": "2021-08-15T16:00:27.855Z"
   },
   {
    "duration": 24,
    "start_time": "2021-08-15T16:00:29.623Z"
   },
   {
    "duration": 43,
    "start_time": "2021-08-15T16:00:44.586Z"
   },
   {
    "duration": 26,
    "start_time": "2021-08-15T16:02:14.681Z"
   },
   {
    "duration": 8,
    "start_time": "2021-08-15T16:03:20.377Z"
   },
   {
    "duration": 12,
    "start_time": "2021-08-15T16:03:26.305Z"
   },
   {
    "duration": 16,
    "start_time": "2021-08-15T16:04:35.739Z"
   },
   {
    "duration": 124,
    "start_time": "2021-08-15T16:04:47.489Z"
   },
   {
    "duration": 140,
    "start_time": "2021-08-15T16:05:05.339Z"
   },
   {
    "duration": 141,
    "start_time": "2021-08-15T16:05:14.730Z"
   },
   {
    "duration": 14,
    "start_time": "2021-08-15T16:05:19.371Z"
   },
   {
    "duration": 25,
    "start_time": "2021-08-15T16:05:38.365Z"
   },
   {
    "duration": 14,
    "start_time": "2021-08-15T16:06:19.133Z"
   },
   {
    "duration": 20,
    "start_time": "2021-08-15T16:06:30.333Z"
   },
   {
    "duration": 18,
    "start_time": "2021-08-15T16:14:42.963Z"
   },
   {
    "duration": 17,
    "start_time": "2021-08-15T16:15:12.707Z"
   },
   {
    "duration": 21,
    "start_time": "2021-08-15T16:16:26.470Z"
   },
   {
    "duration": 6,
    "start_time": "2021-08-15T16:19:12.535Z"
   },
   {
    "duration": 13,
    "start_time": "2021-08-15T16:19:19.806Z"
   },
   {
    "duration": 12,
    "start_time": "2021-08-15T16:19:23.431Z"
   },
   {
    "duration": 3522,
    "start_time": "2021-08-15T16:19:42.421Z"
   },
   {
    "duration": 2106,
    "start_time": "2021-08-15T16:19:45.946Z"
   },
   {
    "duration": 3,
    "start_time": "2021-08-15T16:19:48.056Z"
   },
   {
    "duration": 10,
    "start_time": "2021-08-15T16:19:48.062Z"
   },
   {
    "duration": 287,
    "start_time": "2021-08-15T16:19:48.075Z"
   },
   {
    "duration": 18,
    "start_time": "2021-08-15T16:19:48.364Z"
   },
   {
    "duration": 12,
    "start_time": "2021-08-15T16:19:48.385Z"
   },
   {
    "duration": 14,
    "start_time": "2021-08-15T16:19:48.401Z"
   },
   {
    "duration": 19,
    "start_time": "2021-08-15T16:19:48.418Z"
   },
   {
    "duration": 50,
    "start_time": "2021-08-15T16:19:48.439Z"
   },
   {
    "duration": 6,
    "start_time": "2021-08-15T16:19:48.492Z"
   },
   {
    "duration": 18,
    "start_time": "2021-08-15T16:19:48.501Z"
   },
   {
    "duration": 25,
    "start_time": "2021-08-15T16:19:48.521Z"
   },
   {
    "duration": 76,
    "start_time": "2021-08-15T16:19:48.549Z"
   },
   {
    "duration": 21,
    "start_time": "2021-08-15T16:20:47.902Z"
   },
   {
    "duration": 15,
    "start_time": "2021-08-15T16:21:07.998Z"
   },
   {
    "duration": 14,
    "start_time": "2021-08-15T16:21:44.495Z"
   },
   {
    "duration": 8,
    "start_time": "2021-08-15T16:31:36.133Z"
   },
   {
    "duration": 11,
    "start_time": "2021-08-15T16:31:44.181Z"
   },
   {
    "duration": 6,
    "start_time": "2021-08-15T16:33:23.400Z"
   },
   {
    "duration": 11,
    "start_time": "2021-08-15T16:33:24.790Z"
   },
   {
    "duration": 13,
    "start_time": "2021-08-15T16:33:33.160Z"
   },
   {
    "duration": 9,
    "start_time": "2021-08-15T16:33:40.909Z"
   },
   {
    "duration": 9,
    "start_time": "2021-08-15T16:34:01.256Z"
   },
   {
    "duration": 3805,
    "start_time": "2021-08-15T16:35:23.745Z"
   },
   {
    "duration": 2304,
    "start_time": "2021-08-15T16:35:27.553Z"
   },
   {
    "duration": 3,
    "start_time": "2021-08-15T16:35:29.860Z"
   },
   {
    "duration": 9,
    "start_time": "2021-08-15T16:35:29.866Z"
   },
   {
    "duration": 350,
    "start_time": "2021-08-15T16:35:29.877Z"
   },
   {
    "duration": 17,
    "start_time": "2021-08-15T16:35:30.230Z"
   },
   {
    "duration": 18,
    "start_time": "2021-08-15T16:35:30.249Z"
   },
   {
    "duration": 17,
    "start_time": "2021-08-15T16:35:30.271Z"
   },
   {
    "duration": 24,
    "start_time": "2021-08-15T16:35:30.290Z"
   },
   {
    "duration": 16,
    "start_time": "2021-08-15T16:35:30.317Z"
   },
   {
    "duration": 11,
    "start_time": "2021-08-15T16:35:30.336Z"
   },
   {
    "duration": 27,
    "start_time": "2021-08-15T16:35:30.349Z"
   },
   {
    "duration": 25,
    "start_time": "2021-08-15T16:35:30.387Z"
   },
   {
    "duration": 69,
    "start_time": "2021-08-15T16:35:30.415Z"
   },
   {
    "duration": 10,
    "start_time": "2021-08-15T16:35:30.487Z"
   },
   {
    "duration": 10,
    "start_time": "2021-08-15T16:45:50.951Z"
   },
   {
    "duration": 10,
    "start_time": "2021-08-15T16:46:34.215Z"
   },
   {
    "duration": 10,
    "start_time": "2021-08-15T16:46:37.927Z"
   },
   {
    "duration": 7,
    "start_time": "2021-08-15T16:53:33.805Z"
   },
   {
    "duration": 7,
    "start_time": "2021-08-15T16:53:37.085Z"
   },
   {
    "duration": 8,
    "start_time": "2021-08-15T16:53:41.071Z"
   },
   {
    "duration": 550,
    "start_time": "2021-08-15T16:53:45.741Z"
   },
   {
    "duration": 7,
    "start_time": "2021-08-15T16:53:56.462Z"
   },
   {
    "duration": 13,
    "start_time": "2021-08-15T16:54:03.085Z"
   },
   {
    "duration": 9,
    "start_time": "2021-08-15T16:54:11.791Z"
   },
   {
    "duration": 10,
    "start_time": "2021-08-15T16:54:19.631Z"
   },
   {
    "duration": 399,
    "start_time": "2021-08-15T16:55:41.823Z"
   },
   {
    "duration": 430,
    "start_time": "2021-08-15T16:55:43.456Z"
   },
   {
    "duration": 212,
    "start_time": "2021-08-15T16:56:46.994Z"
   },
   {
    "duration": 198,
    "start_time": "2021-08-15T16:58:35.731Z"
   },
   {
    "duration": 220,
    "start_time": "2021-08-15T16:58:58.836Z"
   },
   {
    "duration": 203,
    "start_time": "2021-08-15T16:59:21.300Z"
   },
   {
    "duration": 250,
    "start_time": "2021-08-15T16:59:38.996Z"
   },
   {
    "duration": 12,
    "start_time": "2021-08-15T17:01:13.779Z"
   },
   {
    "duration": 12,
    "start_time": "2021-08-15T17:01:32.902Z"
   },
   {
    "duration": 12,
    "start_time": "2021-08-15T17:01:56.070Z"
   },
   {
    "duration": 1168,
    "start_time": "2021-08-15T17:02:10.054Z"
   },
   {
    "duration": 228,
    "start_time": "2021-08-15T17:03:26.085Z"
   },
   {
    "duration": 208,
    "start_time": "2021-08-15T17:03:35.000Z"
   },
   {
    "duration": 208,
    "start_time": "2021-08-15T17:03:43.398Z"
   },
   {
    "duration": 241,
    "start_time": "2021-08-15T17:03:58.150Z"
   },
   {
    "duration": 226,
    "start_time": "2021-08-15T17:05:23.288Z"
   },
   {
    "duration": 236,
    "start_time": "2021-08-15T17:09:17.244Z"
   },
   {
    "duration": 213,
    "start_time": "2021-08-15T17:09:19.004Z"
   },
   {
    "duration": 361,
    "start_time": "2021-08-15T17:10:51.613Z"
   },
   {
    "duration": 622,
    "start_time": "2021-08-15T17:12:00.638Z"
   },
   {
    "duration": 242,
    "start_time": "2021-08-15T17:12:29.151Z"
   },
   {
    "duration": 256,
    "start_time": "2021-08-15T17:12:33.215Z"
   },
   {
    "duration": 255,
    "start_time": "2021-08-15T17:12:38.830Z"
   },
   {
    "duration": 237,
    "start_time": "2021-08-15T17:12:46.145Z"
   },
   {
    "duration": 255,
    "start_time": "2021-08-15T17:12:55.391Z"
   },
   {
    "duration": 280,
    "start_time": "2021-08-15T17:14:08.049Z"
   },
   {
    "duration": 8,
    "start_time": "2021-08-15T17:15:05.539Z"
   },
   {
    "duration": 7,
    "start_time": "2021-08-15T17:15:16.656Z"
   },
   {
    "duration": 12,
    "start_time": "2021-08-15T17:15:32.593Z"
   },
   {
    "duration": 291,
    "start_time": "2021-08-15T17:15:44.384Z"
   },
   {
    "duration": 8,
    "start_time": "2021-08-15T17:16:57.891Z"
   },
   {
    "duration": 534,
    "start_time": "2021-08-15T17:18:16.354Z"
   },
   {
    "duration": 274,
    "start_time": "2021-08-15T17:18:40.997Z"
   },
   {
    "duration": 634,
    "start_time": "2021-08-15T18:34:09.346Z"
   },
   {
    "duration": 452,
    "start_time": "2021-08-15T18:35:26.852Z"
   },
   {
    "duration": 263,
    "start_time": "2021-08-15T18:35:36.982Z"
   },
   {
    "duration": 554,
    "start_time": "2021-08-15T18:35:50.724Z"
   },
   {
    "duration": 551,
    "start_time": "2021-08-15T18:35:56.338Z"
   },
   {
    "duration": 372,
    "start_time": "2021-08-15T18:39:10.150Z"
   },
   {
    "duration": 6,
    "start_time": "2021-08-15T18:39:27.798Z"
   },
   {
    "duration": 413,
    "start_time": "2021-08-15T18:39:31.733Z"
   },
   {
    "duration": 260,
    "start_time": "2021-08-15T18:40:58.536Z"
   },
   {
    "duration": 175,
    "start_time": "2021-08-15T18:41:59.016Z"
   },
   {
    "duration": 125,
    "start_time": "2021-08-15T18:42:54.938Z"
   },
   {
    "duration": 557,
    "start_time": "2021-08-15T18:42:58.028Z"
   },
   {
    "duration": 352,
    "start_time": "2021-08-15T18:43:03.325Z"
   },
   {
    "duration": 358,
    "start_time": "2021-08-15T18:43:23.194Z"
   },
   {
    "duration": 372,
    "start_time": "2021-08-15T18:44:06.778Z"
   },
   {
    "duration": 356,
    "start_time": "2021-08-15T18:44:17.642Z"
   },
   {
    "duration": 580,
    "start_time": "2021-08-15T18:44:24.730Z"
   },
   {
    "duration": 363,
    "start_time": "2021-08-15T18:44:56.028Z"
   },
   {
    "duration": 240,
    "start_time": "2021-08-15T18:45:27.932Z"
   },
   {
    "duration": 13,
    "start_time": "2021-08-15T18:46:10.076Z"
   },
   {
    "duration": 272,
    "start_time": "2021-08-15T18:46:11.610Z"
   },
   {
    "duration": 234,
    "start_time": "2021-08-15T18:46:16.046Z"
   },
   {
    "duration": 244,
    "start_time": "2021-08-15T18:47:23.278Z"
   },
   {
    "duration": 241,
    "start_time": "2021-08-15T18:47:30.910Z"
   },
   {
    "duration": 418,
    "start_time": "2021-08-15T18:47:38.286Z"
   },
   {
    "duration": 238,
    "start_time": "2021-08-15T18:50:32.382Z"
   },
   {
    "duration": 236,
    "start_time": "2021-08-15T18:50:46.288Z"
   },
   {
    "duration": 396,
    "start_time": "2021-08-15T18:54:04.562Z"
   },
   {
    "duration": 14,
    "start_time": "2021-08-15T18:55:09.380Z"
   },
   {
    "duration": 12,
    "start_time": "2021-08-15T18:55:26.452Z"
   },
   {
    "duration": 11,
    "start_time": "2021-08-15T18:56:01.925Z"
   },
   {
    "duration": 215,
    "start_time": "2021-08-15T18:56:05.796Z"
   },
   {
    "duration": 701,
    "start_time": "2021-08-15T18:57:13.318Z"
   },
   {
    "duration": 625,
    "start_time": "2021-08-15T18:57:39.320Z"
   },
   {
    "duration": 996,
    "start_time": "2021-08-15T18:58:44.616Z"
   },
   {
    "duration": 205,
    "start_time": "2021-08-15T18:58:56.438Z"
   },
   {
    "duration": 207,
    "start_time": "2021-08-15T18:59:16.998Z"
   },
   {
    "duration": 214,
    "start_time": "2021-08-15T19:01:35.002Z"
   },
   {
    "duration": 220,
    "start_time": "2021-08-15T19:02:10.602Z"
   },
   {
    "duration": 220,
    "start_time": "2021-08-15T19:02:58.794Z"
   },
   {
    "duration": 24211,
    "start_time": "2021-08-15T19:04:06.972Z"
   },
   {
    "duration": 6,
    "start_time": "2021-08-15T19:04:39.724Z"
   },
   {
    "duration": 5,
    "start_time": "2021-08-15T19:04:52.345Z"
   },
   {
    "duration": 35,
    "start_time": "2021-08-15T19:04:54.844Z"
   },
   {
    "duration": 24,
    "start_time": "2021-08-15T19:05:09.378Z"
   },
   {
    "duration": 13,
    "start_time": "2021-08-15T19:05:15.708Z"
   },
   {
    "duration": 13,
    "start_time": "2021-08-15T20:31:33.160Z"
   },
   {
    "duration": 22,
    "start_time": "2021-08-15T20:31:47.080Z"
   },
   {
    "duration": 26,
    "start_time": "2021-08-15T21:04:45.482Z"
   },
   {
    "duration": 14,
    "start_time": "2021-08-15T21:04:52.656Z"
   },
   {
    "duration": 6,
    "start_time": "2021-08-15T21:06:41.751Z"
   },
   {
    "duration": 9,
    "start_time": "2021-08-15T21:06:44.535Z"
   },
   {
    "duration": 14,
    "start_time": "2021-08-15T21:06:50.136Z"
   },
   {
    "duration": 25,
    "start_time": "2021-08-15T21:09:07.290Z"
   },
   {
    "duration": 5,
    "start_time": "2021-08-15T21:11:43.630Z"
   },
   {
    "duration": 30,
    "start_time": "2021-08-15T21:11:47.463Z"
   },
   {
    "duration": 589,
    "start_time": "2021-08-15T21:13:55.610Z"
   },
   {
    "duration": 391,
    "start_time": "2021-08-15T21:14:07.660Z"
   },
   {
    "duration": 18,
    "start_time": "2021-08-15T21:14:27.227Z"
   },
   {
    "duration": 367,
    "start_time": "2021-08-15T21:14:36.938Z"
   },
   {
    "duration": 378,
    "start_time": "2021-08-15T21:14:46.396Z"
   },
   {
    "duration": 13,
    "start_time": "2021-08-15T21:14:50.317Z"
   },
   {
    "duration": 4,
    "start_time": "2021-08-15T21:15:09.836Z"
   },
   {
    "duration": 33,
    "start_time": "2021-08-15T21:15:13.034Z"
   },
   {
    "duration": 392,
    "start_time": "2021-08-15T21:15:32.828Z"
   },
   {
    "duration": 401,
    "start_time": "2021-08-15T21:15:57.084Z"
   },
   {
    "duration": 12,
    "start_time": "2021-08-15T21:17:31.389Z"
   },
   {
    "duration": 10,
    "start_time": "2021-08-15T21:17:35.933Z"
   },
   {
    "duration": 14,
    "start_time": "2021-08-15T21:17:54.365Z"
   },
   {
    "duration": 12,
    "start_time": "2021-08-15T21:18:12.462Z"
   },
   {
    "duration": 220,
    "start_time": "2021-08-15T21:18:15.550Z"
   },
   {
    "duration": 214,
    "start_time": "2021-08-15T21:18:20.414Z"
   },
   {
    "duration": 8,
    "start_time": "2021-08-15T21:21:15.554Z"
   },
   {
    "duration": 381,
    "start_time": "2021-08-15T21:21:46.370Z"
   },
   {
    "duration": 403,
    "start_time": "2021-08-15T21:21:57.206Z"
   },
   {
    "duration": 23,
    "start_time": "2021-08-15T21:22:26.181Z"
   },
   {
    "duration": 26,
    "start_time": "2021-08-15T21:22:46.971Z"
   },
   {
    "duration": 6,
    "start_time": "2021-08-15T21:28:11.333Z"
   },
   {
    "duration": 6,
    "start_time": "2021-08-15T21:29:37.736Z"
   },
   {
    "duration": 7,
    "start_time": "2021-08-15T21:29:42.232Z"
   },
   {
    "duration": 8,
    "start_time": "2021-08-15T21:29:48.536Z"
   },
   {
    "duration": 125,
    "start_time": "2021-08-15T21:29:52.136Z"
   },
   {
    "duration": 9771,
    "start_time": "2021-08-15T21:29:54.216Z"
   },
   {
    "duration": 394,
    "start_time": "2021-08-15T21:30:50.264Z"
   },
   {
    "duration": 458,
    "start_time": "2021-08-15T21:31:55.596Z"
   },
   {
    "duration": 7,
    "start_time": "2021-08-15T21:33:18.704Z"
   },
   {
    "duration": 16,
    "start_time": "2021-08-15T21:33:27.696Z"
   },
   {
    "duration": 6,
    "start_time": "2021-08-15T21:36:08.368Z"
   },
   {
    "duration": 4,
    "start_time": "2021-08-15T21:36:49.827Z"
   },
   {
    "duration": 417,
    "start_time": "2021-08-15T21:39:07.329Z"
   },
   {
    "duration": 407,
    "start_time": "2021-08-15T21:42:03.314Z"
   },
   {
    "duration": 392,
    "start_time": "2021-08-15T21:42:18.962Z"
   },
   {
    "duration": 4,
    "start_time": "2021-08-15T21:42:22.468Z"
   },
   {
    "duration": 20,
    "start_time": "2021-08-15T21:42:26.018Z"
   },
   {
    "duration": 16,
    "start_time": "2021-08-15T21:42:34.850Z"
   },
   {
    "duration": 6,
    "start_time": "2021-08-15T21:42:44.629Z"
   },
   {
    "duration": 382,
    "start_time": "2021-08-15T21:42:58.658Z"
   },
   {
    "duration": 443,
    "start_time": "2021-08-15T21:43:03.524Z"
   },
   {
    "duration": 370,
    "start_time": "2021-08-15T21:43:14.546Z"
   },
   {
    "duration": 4,
    "start_time": "2021-08-15T21:43:19.298Z"
   },
   {
    "duration": 397,
    "start_time": "2021-08-15T21:43:20.084Z"
   },
   {
    "duration": 7,
    "start_time": "2021-08-15T21:43:23.074Z"
   },
   {
    "duration": 30,
    "start_time": "2021-08-15T21:43:25.795Z"
   },
   {
    "duration": 398,
    "start_time": "2021-08-15T21:43:48.740Z"
   },
   {
    "duration": 4,
    "start_time": "2021-08-15T21:43:51.876Z"
   },
   {
    "duration": 407,
    "start_time": "2021-08-15T21:44:23.364Z"
   },
   {
    "duration": 4,
    "start_time": "2021-08-15T21:48:32.284Z"
   },
   {
    "duration": 6,
    "start_time": "2021-08-15T21:48:36.683Z"
   },
   {
    "duration": 33,
    "start_time": "2021-08-15T21:48:42.716Z"
   },
   {
    "duration": 18,
    "start_time": "2021-08-15T21:49:03.345Z"
   },
   {
    "duration": 377,
    "start_time": "2021-08-15T21:49:17.884Z"
   },
   {
    "duration": 8,
    "start_time": "2021-08-15T21:49:21.372Z"
   },
   {
    "duration": 431,
    "start_time": "2021-08-15T21:50:36.651Z"
   },
   {
    "duration": 21,
    "start_time": "2021-08-15T21:51:13.374Z"
   },
   {
    "duration": 9,
    "start_time": "2021-08-15T21:51:15.200Z"
   },
   {
    "duration": 5,
    "start_time": "2021-08-15T21:51:25.710Z"
   },
   {
    "duration": 421,
    "start_time": "2021-08-15T21:51:37.966Z"
   },
   {
    "duration": 4,
    "start_time": "2021-08-15T21:51:50.602Z"
   },
   {
    "duration": 407,
    "start_time": "2021-08-15T21:51:54.538Z"
   },
   {
    "duration": 5,
    "start_time": "2021-08-15T21:51:59.546Z"
   },
   {
    "duration": 13,
    "start_time": "2021-08-15T21:58:50.002Z"
   },
   {
    "duration": 7,
    "start_time": "2021-08-15T21:58:59.777Z"
   },
   {
    "duration": 218,
    "start_time": "2021-08-15T22:00:22.210Z"
   },
   {
    "duration": 223,
    "start_time": "2021-08-15T22:01:07.380Z"
   },
   {
    "duration": 319,
    "start_time": "2021-08-15T22:02:56.875Z"
   },
   {
    "duration": 9,
    "start_time": "2021-08-15T22:08:46.473Z"
   },
   {
    "duration": 219,
    "start_time": "2021-08-15T22:08:47.946Z"
   },
   {
    "duration": 234,
    "start_time": "2021-08-15T22:08:51.385Z"
   },
   {
    "duration": 20,
    "start_time": "2021-08-15T22:09:09.770Z"
   },
   {
    "duration": 9,
    "start_time": "2021-08-15T22:09:10.569Z"
   },
   {
    "duration": 228,
    "start_time": "2021-08-15T22:09:12.457Z"
   },
   {
    "duration": 237,
    "start_time": "2021-08-15T22:10:15.259Z"
   },
   {
    "duration": 221,
    "start_time": "2021-08-15T22:10:39.739Z"
   },
   {
    "duration": 14,
    "start_time": "2021-08-15T22:16:12.358Z"
   },
   {
    "duration": 8,
    "start_time": "2021-08-15T22:17:03.547Z"
   },
   {
    "duration": 8,
    "start_time": "2021-08-15T22:17:07.495Z"
   },
   {
    "duration": 10,
    "start_time": "2021-08-15T22:17:41.336Z"
   },
   {
    "duration": 8,
    "start_time": "2021-08-15T22:17:50.789Z"
   },
   {
    "duration": 15,
    "start_time": "2021-08-15T22:17:51.735Z"
   },
   {
    "duration": 10,
    "start_time": "2021-08-15T22:17:58.408Z"
   },
   {
    "duration": 7,
    "start_time": "2021-08-15T22:18:39.897Z"
   },
   {
    "duration": 9,
    "start_time": "2021-08-15T22:18:47.801Z"
   },
   {
    "duration": 132,
    "start_time": "2021-08-15T22:21:37.593Z"
   },
   {
    "duration": 12,
    "start_time": "2021-08-15T22:21:44.963Z"
   },
   {
    "duration": 14,
    "start_time": "2021-08-15T22:22:05.604Z"
   },
   {
    "duration": 14,
    "start_time": "2021-08-15T22:22:10.379Z"
   },
   {
    "duration": 10,
    "start_time": "2021-08-15T22:22:25.595Z"
   },
   {
    "duration": 12063,
    "start_time": "2021-08-15T22:22:47.850Z"
   },
   {
    "duration": 12,
    "start_time": "2021-08-15T22:23:05.276Z"
   },
   {
    "duration": 225,
    "start_time": "2021-08-15T22:23:18.491Z"
   },
   {
    "duration": 397,
    "start_time": "2021-08-15T22:23:32.941Z"
   },
   {
    "duration": 428,
    "start_time": "2021-08-15T22:23:55.916Z"
   },
   {
    "duration": 21,
    "start_time": "2021-08-15T22:24:04.173Z"
   },
   {
    "duration": 11,
    "start_time": "2021-08-15T22:24:09.435Z"
   },
   {
    "duration": 25,
    "start_time": "2021-08-15T22:28:07.903Z"
   },
   {
    "duration": 11,
    "start_time": "2021-08-15T22:28:10.080Z"
   },
   {
    "duration": 22,
    "start_time": "2021-08-15T22:28:38.450Z"
   },
   {
    "duration": 10,
    "start_time": "2021-08-15T22:28:39.552Z"
   },
   {
    "duration": 21,
    "start_time": "2021-08-15T22:28:46.992Z"
   },
   {
    "duration": 11,
    "start_time": "2021-08-15T22:28:47.986Z"
   },
   {
    "duration": 14,
    "start_time": "2021-08-15T22:28:53.087Z"
   },
   {
    "duration": 11965,
    "start_time": "2021-08-15T22:29:13.538Z"
   },
   {
    "duration": 396,
    "start_time": "2021-08-15T22:29:41.266Z"
   },
   {
    "duration": 13,
    "start_time": "2021-08-15T22:29:45.044Z"
   },
   {
    "duration": 6,
    "start_time": "2021-08-15T22:29:52.882Z"
   },
   {
    "duration": 291,
    "start_time": "2021-08-15T22:35:17.728Z"
   },
   {
    "duration": 1084,
    "start_time": "2021-08-15T22:35:30.912Z"
   },
   {
    "duration": 1633,
    "start_time": "2021-08-15T22:36:12.195Z"
   },
   {
    "duration": 30,
    "start_time": "2021-08-15T22:36:29.042Z"
   },
   {
    "duration": 934,
    "start_time": "2021-08-15T22:37:34.566Z"
   },
   {
    "duration": 7,
    "start_time": "2021-08-15T22:38:12.790Z"
   },
   {
    "duration": 408,
    "start_time": "2021-08-15T22:38:13.909Z"
   },
   {
    "duration": 8,
    "start_time": "2021-08-15T22:38:16.565Z"
   },
   {
    "duration": 15,
    "start_time": "2021-08-15T22:38:17.479Z"
   },
   {
    "duration": 10,
    "start_time": "2021-08-15T22:38:28.005Z"
   },
   {
    "duration": 14,
    "start_time": "2021-08-15T22:39:01.560Z"
   },
   {
    "duration": 653,
    "start_time": "2021-08-15T22:40:34.568Z"
   },
   {
    "duration": 294,
    "start_time": "2021-08-15T22:40:58.055Z"
   },
   {
    "duration": 1561,
    "start_time": "2021-08-15T22:41:47.670Z"
   },
   {
    "duration": 388,
    "start_time": "2021-08-15T22:41:54.358Z"
   },
   {
    "duration": 8,
    "start_time": "2021-08-15T22:42:13.526Z"
   },
   {
    "duration": 390,
    "start_time": "2021-08-15T22:42:52.631Z"
   },
   {
    "duration": 6,
    "start_time": "2021-08-15T22:42:56.358Z"
   },
   {
    "duration": 14,
    "start_time": "2021-08-15T22:43:51.801Z"
   },
   {
    "duration": 25,
    "start_time": "2021-08-15T22:44:01.750Z"
   },
   {
    "duration": 20,
    "start_time": "2021-08-15T22:44:14.728Z"
   },
   {
    "duration": 290,
    "start_time": "2021-08-15T22:44:37.320Z"
   },
   {
    "duration": 283,
    "start_time": "2021-08-15T22:45:19.688Z"
   },
   {
    "duration": 272,
    "start_time": "2021-08-15T22:46:13.352Z"
   },
   {
    "duration": 379,
    "start_time": "2021-08-15T22:46:38.091Z"
   },
   {
    "duration": 246,
    "start_time": "2021-08-15T22:46:39.243Z"
   },
   {
    "duration": 3407,
    "start_time": "2021-08-15T22:52:40.149Z"
   },
   {
    "duration": 2124,
    "start_time": "2021-08-15T22:52:43.559Z"
   },
   {
    "duration": 4,
    "start_time": "2021-08-15T22:52:45.686Z"
   },
   {
    "duration": 15,
    "start_time": "2021-08-15T22:52:45.693Z"
   },
   {
    "duration": 298,
    "start_time": "2021-08-15T22:52:45.711Z"
   },
   {
    "duration": 18,
    "start_time": "2021-08-15T22:52:46.011Z"
   },
   {
    "duration": 25,
    "start_time": "2021-08-15T22:52:46.032Z"
   },
   {
    "duration": 29,
    "start_time": "2021-08-15T22:52:46.063Z"
   },
   {
    "duration": 19,
    "start_time": "2021-08-15T22:52:46.097Z"
   },
   {
    "duration": 17,
    "start_time": "2021-08-15T22:52:46.118Z"
   },
   {
    "duration": 9,
    "start_time": "2021-08-15T22:52:46.137Z"
   },
   {
    "duration": 61,
    "start_time": "2021-08-15T22:52:46.148Z"
   },
   {
    "duration": 23,
    "start_time": "2021-08-15T22:52:46.212Z"
   },
   {
    "duration": 75,
    "start_time": "2021-08-15T22:52:46.237Z"
   },
   {
    "duration": 8,
    "start_time": "2021-08-15T22:52:46.314Z"
   },
   {
    "duration": 12,
    "start_time": "2021-08-15T22:52:46.324Z"
   },
   {
    "duration": 10,
    "start_time": "2021-08-15T22:52:46.338Z"
   },
   {
    "duration": 341,
    "start_time": "2021-08-15T22:52:46.387Z"
   },
   {
    "duration": 276,
    "start_time": "2021-08-15T22:52:46.730Z"
   },
   {
    "duration": 325,
    "start_time": "2021-08-15T22:52:47.008Z"
   },
   {
    "duration": 9,
    "start_time": "2021-08-15T22:52:47.335Z"
   },
   {
    "duration": 256,
    "start_time": "2021-08-15T22:52:47.346Z"
   },
   {
    "duration": 349,
    "start_time": "2021-08-15T22:52:47.607Z"
   },
   {
    "duration": 35,
    "start_time": "2021-08-15T22:52:47.959Z"
   },
   {
    "duration": 8,
    "start_time": "2021-08-15T22:52:47.997Z"
   },
   {
    "duration": 251,
    "start_time": "2021-08-15T22:52:48.008Z"
   },
   {
    "duration": 259,
    "start_time": "2021-08-15T22:52:48.262Z"
   },
   {
    "duration": 8,
    "start_time": "2021-08-15T22:52:48.524Z"
   },
   {
    "duration": 23,
    "start_time": "2021-08-15T22:52:48.535Z"
   },
   {
    "duration": 328,
    "start_time": "2021-08-15T22:52:48.561Z"
   },
   {
    "duration": 308,
    "start_time": "2021-08-15T22:52:48.893Z"
   },
   {
    "duration": 5,
    "start_time": "2021-08-15T22:59:39.124Z"
   },
   {
    "duration": 16,
    "start_time": "2021-08-15T22:59:43.940Z"
   },
   {
    "duration": 5,
    "start_time": "2021-08-15T22:59:44.772Z"
   },
   {
    "duration": 6,
    "start_time": "2021-08-15T23:00:02.278Z"
   },
   {
    "duration": 612,
    "start_time": "2021-08-15T23:00:33.046Z"
   },
   {
    "duration": 13,
    "start_time": "2021-08-15T23:00:38.230Z"
   },
   {
    "duration": 198,
    "start_time": "2021-08-15T23:00:39.734Z"
   },
   {
    "duration": 27,
    "start_time": "2021-08-15T23:00:45.798Z"
   },
   {
    "duration": 406,
    "start_time": "2021-08-15T23:00:51.293Z"
   },
   {
    "duration": 24,
    "start_time": "2021-08-15T23:00:56.855Z"
   },
   {
    "duration": 454,
    "start_time": "2021-08-15T23:01:53.894Z"
   },
   {
    "duration": 22,
    "start_time": "2021-08-15T23:02:22.502Z"
   },
   {
    "duration": 5,
    "start_time": "2021-08-15T23:02:24.182Z"
   },
   {
    "duration": 406,
    "start_time": "2021-08-15T23:02:26.182Z"
   },
   {
    "duration": 17,
    "start_time": "2021-08-15T23:02:32.694Z"
   },
   {
    "duration": 1201,
    "start_time": "2021-08-15T23:02:47.944Z"
   },
   {
    "duration": 530,
    "start_time": "2021-08-15T23:03:06.280Z"
   },
   {
    "duration": 412,
    "start_time": "2021-08-15T23:03:45.656Z"
   },
   {
    "duration": 14,
    "start_time": "2021-08-15T23:03:56.536Z"
   },
   {
    "duration": 18,
    "start_time": "2021-08-15T23:04:03.144Z"
   },
   {
    "duration": 17,
    "start_time": "2021-08-15T23:04:36.952Z"
   },
   {
    "duration": 19,
    "start_time": "2021-08-15T23:05:35.930Z"
   },
   {
    "duration": 12,
    "start_time": "2021-08-15T23:05:39.755Z"
   },
   {
    "duration": 17,
    "start_time": "2021-08-15T23:05:59.114Z"
   },
   {
    "duration": 24,
    "start_time": "2021-08-15T23:06:23.962Z"
   },
   {
    "duration": 13,
    "start_time": "2021-08-15T23:10:03.119Z"
   },
   {
    "duration": 13,
    "start_time": "2021-08-15T23:10:07.198Z"
   },
   {
    "duration": 14,
    "start_time": "2021-08-15T23:10:28.245Z"
   },
   {
    "duration": 14,
    "start_time": "2021-08-15T23:10:33.774Z"
   },
   {
    "duration": 10,
    "start_time": "2021-08-15T23:10:35.918Z"
   },
   {
    "duration": 10,
    "start_time": "2021-08-15T23:10:36.991Z"
   },
   {
    "duration": 412,
    "start_time": "2021-08-15T23:13:05.111Z"
   },
   {
    "duration": 11,
    "start_time": "2021-08-15T23:13:12.129Z"
   },
   {
    "duration": 14,
    "start_time": "2021-08-15T23:13:12.960Z"
   },
   {
    "duration": 397,
    "start_time": "2021-08-15T23:13:39.328Z"
   },
   {
    "duration": 8,
    "start_time": "2021-08-15T23:14:03.664Z"
   },
   {
    "duration": 16,
    "start_time": "2021-08-15T23:14:05.697Z"
   },
   {
    "duration": 15,
    "start_time": "2021-08-15T23:14:14.593Z"
   },
   {
    "duration": 291,
    "start_time": "2021-08-15T23:15:10.789Z"
   },
   {
    "duration": 266,
    "start_time": "2021-08-15T23:48:46.048Z"
   },
   {
    "duration": 620,
    "start_time": "2021-08-15T23:49:04.480Z"
   },
   {
    "duration": 265,
    "start_time": "2021-08-15T23:49:07.309Z"
   },
   {
    "duration": 28,
    "start_time": "2021-08-16T03:02:56.981Z"
   },
   {
    "duration": 12,
    "start_time": "2021-08-16T03:03:07.885Z"
   },
   {
    "duration": 13,
    "start_time": "2021-08-16T03:03:12.005Z"
   },
   {
    "duration": 292,
    "start_time": "2021-08-16T03:04:44.887Z"
   },
   {
    "duration": 282,
    "start_time": "2021-08-16T03:04:52.377Z"
   },
   {
    "duration": 14,
    "start_time": "2021-08-16T12:49:30.380Z"
   },
   {
    "duration": 11,
    "start_time": "2021-08-16T12:49:36.876Z"
   },
   {
    "duration": 12,
    "start_time": "2021-08-16T12:50:21.379Z"
   },
   {
    "duration": 9,
    "start_time": "2021-08-16T12:50:40.475Z"
   },
   {
    "duration": 9,
    "start_time": "2021-08-16T12:50:59.052Z"
   },
   {
    "duration": 23,
    "start_time": "2021-08-16T12:51:03.404Z"
   },
   {
    "duration": 22,
    "start_time": "2021-08-16T12:51:18.476Z"
   },
   {
    "duration": 11,
    "start_time": "2021-08-16T12:52:20.923Z"
   },
   {
    "duration": 3407,
    "start_time": "2021-08-16T12:56:54.504Z"
   },
   {
    "duration": 2018,
    "start_time": "2021-08-16T12:56:57.914Z"
   },
   {
    "duration": 4,
    "start_time": "2021-08-16T12:56:59.935Z"
   },
   {
    "duration": 12,
    "start_time": "2021-08-16T12:56:59.942Z"
   },
   {
    "duration": 264,
    "start_time": "2021-08-16T12:56:59.957Z"
   },
   {
    "duration": 19,
    "start_time": "2021-08-16T12:57:00.224Z"
   },
   {
    "duration": 25,
    "start_time": "2021-08-16T12:57:00.245Z"
   },
   {
    "duration": 32,
    "start_time": "2021-08-16T12:57:00.274Z"
   },
   {
    "duration": 26,
    "start_time": "2021-08-16T12:57:00.309Z"
   },
   {
    "duration": 19,
    "start_time": "2021-08-16T12:57:00.338Z"
   },
   {
    "duration": 22,
    "start_time": "2021-08-16T12:57:00.359Z"
   },
   {
    "duration": 56,
    "start_time": "2021-08-16T12:57:00.383Z"
   },
   {
    "duration": 21,
    "start_time": "2021-08-16T12:57:00.441Z"
   },
   {
    "duration": 58,
    "start_time": "2021-08-16T12:57:00.465Z"
   },
   {
    "duration": 8,
    "start_time": "2021-08-16T12:57:00.526Z"
   },
   {
    "duration": 25,
    "start_time": "2021-08-16T12:57:00.536Z"
   },
   {
    "duration": 23,
    "start_time": "2021-08-16T12:57:00.564Z"
   },
   {
    "duration": 327,
    "start_time": "2021-08-16T12:57:00.591Z"
   },
   {
    "duration": 277,
    "start_time": "2021-08-16T12:57:00.920Z"
   },
   {
    "duration": 322,
    "start_time": "2021-08-16T12:57:01.200Z"
   },
   {
    "duration": 9,
    "start_time": "2021-08-16T12:57:01.525Z"
   },
   {
    "duration": 257,
    "start_time": "2021-08-16T12:57:01.536Z"
   },
   {
    "duration": 352,
    "start_time": "2021-08-16T12:57:01.801Z"
   },
   {
    "duration": 35,
    "start_time": "2021-08-16T12:57:02.156Z"
   },
   {
    "duration": 10,
    "start_time": "2021-08-16T12:57:02.195Z"
   },
   {
    "duration": 257,
    "start_time": "2021-08-16T12:57:02.207Z"
   },
   {
    "duration": 254,
    "start_time": "2021-08-16T12:57:02.466Z"
   },
   {
    "duration": 13,
    "start_time": "2021-08-16T12:57:02.723Z"
   },
   {
    "duration": 13,
    "start_time": "2021-08-16T12:57:02.739Z"
   },
   {
    "duration": 45,
    "start_time": "2021-08-16T12:57:02.755Z"
   },
   {
    "duration": 11,
    "start_time": "2021-08-16T12:57:02.803Z"
   },
   {
    "duration": 19,
    "start_time": "2021-08-16T12:57:02.817Z"
   },
   {
    "duration": 327,
    "start_time": "2021-08-16T12:57:02.838Z"
   },
   {
    "duration": 20,
    "start_time": "2021-08-16T12:57:03.168Z"
   },
   {
    "duration": 12,
    "start_time": "2021-08-16T12:57:03.192Z"
   },
   {
    "duration": 15,
    "start_time": "2021-08-16T12:58:55.113Z"
   },
   {
    "duration": 159664,
    "start_time": "2021-08-16T13:00:21.275Z"
   },
   {
    "duration": 3480,
    "start_time": "2021-08-16T13:02:57.466Z"
   },
   {
    "duration": 11,
    "start_time": "2021-08-16T13:03:03.966Z"
   },
   {
    "duration": 9,
    "start_time": "2021-08-16T13:03:44.942Z"
   },
   {
    "duration": 362,
    "start_time": "2021-08-16T13:03:50.062Z"
   },
   {
    "duration": 733,
    "start_time": "2021-08-16T13:04:55.440Z"
   },
   {
    "duration": 16,
    "start_time": "2021-08-16T13:05:28.654Z"
   },
   {
    "duration": 9,
    "start_time": "2021-08-16T13:05:39.734Z"
   },
   {
    "duration": 8,
    "start_time": "2021-08-16T13:05:43.792Z"
   },
   {
    "duration": 379,
    "start_time": "2021-08-16T13:05:50.688Z"
   },
   {
    "duration": 8,
    "start_time": "2021-08-16T13:05:56.514Z"
   },
   {
    "duration": 5,
    "start_time": "2021-08-16T13:07:27.666Z"
   },
   {
    "duration": 3,
    "start_time": "2021-08-16T13:07:39.488Z"
   },
   {
    "duration": 13,
    "start_time": "2021-08-16T13:07:48.674Z"
   },
   {
    "duration": 26,
    "start_time": "2021-08-16T13:08:55.970Z"
   },
   {
    "duration": 7,
    "start_time": "2021-08-16T13:10:41.018Z"
   },
   {
    "duration": 563,
    "start_time": "2021-08-16T13:10:47.381Z"
   },
   {
    "duration": 15,
    "start_time": "2021-08-16T13:10:53.012Z"
   },
   {
    "duration": 6,
    "start_time": "2021-08-16T13:11:26.374Z"
   },
   {
    "duration": 12,
    "start_time": "2021-08-16T13:11:48.036Z"
   },
   {
    "duration": 1500,
    "start_time": "2021-08-16T13:11:59.094Z"
   },
   {
    "duration": 9,
    "start_time": "2021-08-16T13:12:02.756Z"
   },
   {
    "duration": 12,
    "start_time": "2021-08-16T13:12:03.556Z"
   },
   {
    "duration": 361,
    "start_time": "2021-08-16T13:13:22.886Z"
   },
   {
    "duration": 17,
    "start_time": "2021-08-16T13:13:39.078Z"
   },
   {
    "duration": 380,
    "start_time": "2021-08-16T13:14:01.047Z"
   },
   {
    "duration": 16,
    "start_time": "2021-08-16T13:16:53.403Z"
   },
   {
    "duration": 29,
    "start_time": "2021-08-16T13:18:25.820Z"
   },
   {
    "duration": 15,
    "start_time": "2021-08-16T13:18:45.130Z"
   },
   {
    "duration": 5,
    "start_time": "2021-08-16T13:18:53.340Z"
   },
   {
    "duration": 11,
    "start_time": "2021-08-16T13:19:22.860Z"
   },
   {
    "duration": 16,
    "start_time": "2021-08-16T13:20:05.101Z"
   },
   {
    "duration": 12,
    "start_time": "2021-08-16T13:20:08.236Z"
   },
   {
    "duration": 16,
    "start_time": "2021-08-16T13:23:09.902Z"
   },
   {
    "duration": 18,
    "start_time": "2021-08-16T13:23:11.204Z"
   },
   {
    "duration": 10,
    "start_time": "2021-08-16T13:23:20.591Z"
   },
   {
    "duration": 125,
    "start_time": "2021-08-16T13:24:30.816Z"
   },
   {
    "duration": 102,
    "start_time": "2021-08-16T13:27:21.875Z"
   },
   {
    "duration": 11,
    "start_time": "2021-08-16T13:27:47.475Z"
   },
   {
    "duration": 24,
    "start_time": "2021-08-16T13:28:28.919Z"
   },
   {
    "duration": 19,
    "start_time": "2021-08-16T13:29:44.725Z"
   },
   {
    "duration": 408,
    "start_time": "2021-08-16T13:30:02.245Z"
   },
   {
    "duration": 16,
    "start_time": "2021-08-16T13:30:11.511Z"
   },
   {
    "duration": 21,
    "start_time": "2021-08-16T13:30:18.037Z"
   },
   {
    "duration": 15,
    "start_time": "2021-08-16T13:30:41.863Z"
   },
   {
    "duration": 20,
    "start_time": "2021-08-16T13:30:44.133Z"
   },
   {
    "duration": 11,
    "start_time": "2021-08-16T13:30:56.614Z"
   },
   {
    "duration": 13,
    "start_time": "2021-08-16T13:34:06.959Z"
   },
   {
    "duration": 25,
    "start_time": "2021-08-16T13:34:12.792Z"
   },
   {
    "duration": 14,
    "start_time": "2021-08-16T13:34:27.672Z"
   },
   {
    "duration": 24,
    "start_time": "2021-08-16T13:34:28.728Z"
   },
   {
    "duration": 13,
    "start_time": "2021-08-16T13:34:32.073Z"
   },
   {
    "duration": 23,
    "start_time": "2021-08-16T13:34:32.729Z"
   },
   {
    "duration": 12,
    "start_time": "2021-08-16T13:34:37.977Z"
   },
   {
    "duration": 24,
    "start_time": "2021-08-16T13:34:38.649Z"
   },
   {
    "duration": 1522,
    "start_time": "2021-08-16T13:34:57.803Z"
   },
   {
    "duration": 27,
    "start_time": "2021-08-16T13:35:03.977Z"
   },
   {
    "duration": 18,
    "start_time": "2021-08-16T13:36:45.084Z"
   },
   {
    "duration": 27,
    "start_time": "2021-08-16T13:37:08.975Z"
   },
   {
    "duration": 20,
    "start_time": "2021-08-16T13:37:17.739Z"
   },
   {
    "duration": 905,
    "start_time": "2021-08-16T13:37:31.547Z"
   },
   {
    "duration": 693,
    "start_time": "2021-08-16T13:37:48.557Z"
   },
   {
    "duration": 22,
    "start_time": "2021-08-16T13:37:59.869Z"
   },
   {
    "duration": 130,
    "start_time": "2021-08-16T13:38:33.885Z"
   },
   {
    "duration": 518,
    "start_time": "2021-08-16T13:38:47.373Z"
   },
   {
    "duration": 127,
    "start_time": "2021-08-16T13:38:56.668Z"
   },
   {
    "duration": 16,
    "start_time": "2021-08-16T13:39:06.045Z"
   },
   {
    "duration": 21,
    "start_time": "2021-08-16T13:39:32.524Z"
   },
   {
    "duration": 23,
    "start_time": "2021-08-16T13:46:04.771Z"
   },
   {
    "duration": 546,
    "start_time": "2021-08-16T13:47:47.272Z"
   },
   {
    "duration": 542,
    "start_time": "2021-08-16T13:48:11.589Z"
   },
   {
    "duration": 789,
    "start_time": "2021-08-16T13:48:46.312Z"
   },
   {
    "duration": 818,
    "start_time": "2021-08-16T13:49:16.133Z"
   },
   {
    "duration": 1138,
    "start_time": "2021-08-16T13:49:29.734Z"
   },
   {
    "duration": 762,
    "start_time": "2021-08-16T13:49:34.134Z"
   },
   {
    "duration": 12,
    "start_time": "2021-08-16T13:50:06.808Z"
   },
   {
    "duration": 12,
    "start_time": "2021-08-16T13:50:18.935Z"
   },
   {
    "duration": 13,
    "start_time": "2021-08-16T13:50:22.437Z"
   },
   {
    "duration": 746,
    "start_time": "2021-08-16T13:51:52.552Z"
   },
   {
    "duration": 793,
    "start_time": "2021-08-16T13:51:56.890Z"
   },
   {
    "duration": 731,
    "start_time": "2021-08-16T13:51:59.688Z"
   },
   {
    "duration": 880,
    "start_time": "2021-08-16T13:52:03.048Z"
   },
   {
    "duration": 683,
    "start_time": "2021-08-16T13:52:10.648Z"
   },
   {
    "duration": 10,
    "start_time": "2021-08-16T13:53:44.057Z"
   },
   {
    "duration": 926,
    "start_time": "2021-08-16T13:54:37.660Z"
   },
   {
    "duration": 2097,
    "start_time": "2021-08-16T13:55:15.230Z"
   },
   {
    "duration": 788,
    "start_time": "2021-08-16T13:56:49.102Z"
   },
   {
    "duration": 119,
    "start_time": "2021-08-16T13:57:43.277Z"
   },
   {
    "duration": 855,
    "start_time": "2021-08-16T13:57:48.028Z"
   },
   {
    "duration": 392,
    "start_time": "2021-08-16T13:58:09.726Z"
   },
   {
    "duration": 752,
    "start_time": "2021-08-16T13:58:24.110Z"
   },
   {
    "duration": 735,
    "start_time": "2021-08-16T13:58:32.670Z"
   },
   {
    "duration": 152,
    "start_time": "2021-08-16T13:59:56.914Z"
   },
   {
    "duration": 787,
    "start_time": "2021-08-16T14:00:22.386Z"
   },
   {
    "duration": 769,
    "start_time": "2021-08-16T14:00:29.504Z"
   },
   {
    "duration": 783,
    "start_time": "2021-08-16T14:00:39.489Z"
   },
   {
    "duration": 713,
    "start_time": "2021-08-16T14:03:06.306Z"
   },
   {
    "duration": 1177,
    "start_time": "2021-08-16T14:03:18.402Z"
   },
   {
    "duration": 414,
    "start_time": "2021-08-16T14:03:36.850Z"
   },
   {
    "duration": 485,
    "start_time": "2021-08-16T14:06:09.398Z"
   },
   {
    "duration": 118,
    "start_time": "2021-08-16T14:06:28.550Z"
   },
   {
    "duration": 847,
    "start_time": "2021-08-16T14:06:32.054Z"
   },
   {
    "duration": 784,
    "start_time": "2021-08-16T14:06:39.684Z"
   },
   {
    "duration": 452,
    "start_time": "2021-08-16T14:06:42.694Z"
   },
   {
    "duration": 440,
    "start_time": "2021-08-16T14:08:16.202Z"
   },
   {
    "duration": 438,
    "start_time": "2021-08-16T14:08:25.576Z"
   },
   {
    "duration": 454,
    "start_time": "2021-08-16T14:08:34.087Z"
   },
   {
    "duration": 423,
    "start_time": "2021-08-16T14:09:10.504Z"
   },
   {
    "duration": 388,
    "start_time": "2021-08-16T14:09:17.258Z"
   },
   {
    "duration": 382,
    "start_time": "2021-08-16T14:09:20.362Z"
   },
   {
    "duration": 413,
    "start_time": "2021-08-16T14:11:05.306Z"
   },
   {
    "duration": 1397,
    "start_time": "2021-08-16T14:17:35.280Z"
   },
   {
    "duration": 282,
    "start_time": "2021-08-16T14:17:44.272Z"
   },
   {
    "duration": 218,
    "start_time": "2021-08-16T14:17:50.528Z"
   },
   {
    "duration": 669,
    "start_time": "2021-08-16T14:19:32.561Z"
   },
   {
    "duration": 234,
    "start_time": "2021-08-16T14:19:40.158Z"
   },
   {
    "duration": 267,
    "start_time": "2021-08-16T14:19:57.358Z"
   },
   {
    "duration": 253,
    "start_time": "2021-08-16T14:20:03.809Z"
   },
   {
    "duration": 268,
    "start_time": "2021-08-16T14:20:16.080Z"
   },
   {
    "duration": 401,
    "start_time": "2021-08-16T14:28:29.065Z"
   },
   {
    "duration": 25,
    "start_time": "2021-08-16T14:39:27.409Z"
   },
   {
    "duration": 374,
    "start_time": "2021-08-16T14:40:35.873Z"
   },
   {
    "duration": 8,
    "start_time": "2021-08-16T14:40:40.625Z"
   },
   {
    "duration": 24,
    "start_time": "2021-08-16T14:41:52.595Z"
   },
   {
    "duration": 427,
    "start_time": "2021-08-16T14:48:25.707Z"
   },
   {
    "duration": 367,
    "start_time": "2021-08-16T14:59:47.970Z"
   },
   {
    "duration": 404,
    "start_time": "2021-08-16T15:01:30.947Z"
   },
   {
    "duration": 392,
    "start_time": "2021-08-16T15:01:46.708Z"
   },
   {
    "duration": 734,
    "start_time": "2021-08-16T15:03:28.839Z"
   },
   {
    "duration": 437,
    "start_time": "2021-08-16T15:03:32.965Z"
   },
   {
    "duration": 512,
    "start_time": "2021-08-16T15:03:50.502Z"
   },
   {
    "duration": 485,
    "start_time": "2021-08-16T15:04:08.710Z"
   },
   {
    "duration": 389,
    "start_time": "2021-08-16T15:05:18.282Z"
   },
   {
    "duration": 499,
    "start_time": "2021-08-16T15:05:25.625Z"
   },
   {
    "duration": 470,
    "start_time": "2021-08-16T15:05:37.417Z"
   },
   {
    "duration": 445,
    "start_time": "2021-08-16T15:07:27.384Z"
   },
   {
    "duration": 448,
    "start_time": "2021-08-16T15:07:34.508Z"
   },
   {
    "duration": 122,
    "start_time": "2021-08-16T15:07:47.292Z"
   },
   {
    "duration": 124,
    "start_time": "2021-08-16T15:07:49.868Z"
   },
   {
    "duration": 427,
    "start_time": "2021-08-16T15:07:52.170Z"
   },
   {
    "duration": 451,
    "start_time": "2021-08-16T15:08:10.298Z"
   },
   {
    "duration": 422,
    "start_time": "2021-08-16T15:08:21.260Z"
   },
   {
    "duration": 401,
    "start_time": "2021-08-16T15:08:55.772Z"
   },
   {
    "duration": 752,
    "start_time": "2021-08-16T15:09:28.667Z"
   },
   {
    "duration": 411,
    "start_time": "2021-08-16T15:09:32.862Z"
   },
   {
    "duration": 464,
    "start_time": "2021-08-16T15:09:37.388Z"
   },
   {
    "duration": 460,
    "start_time": "2021-08-16T15:09:40.990Z"
   },
   {
    "duration": 451,
    "start_time": "2021-08-16T15:09:46.300Z"
   },
   {
    "duration": 588,
    "start_time": "2021-08-16T15:09:51.292Z"
   },
   {
    "duration": 400,
    "start_time": "2021-08-16T15:10:06.346Z"
   },
   {
    "duration": 1019,
    "start_time": "2021-08-16T15:10:12.621Z"
   },
   {
    "duration": 413,
    "start_time": "2021-08-16T15:10:28.220Z"
   },
   {
    "duration": 417,
    "start_time": "2021-08-16T15:10:31.116Z"
   },
   {
    "duration": 416,
    "start_time": "2021-08-16T15:15:35.202Z"
   },
   {
    "duration": 393,
    "start_time": "2021-08-16T15:15:42.850Z"
   },
   {
    "duration": 420,
    "start_time": "2021-08-16T15:15:52.114Z"
   },
   {
    "duration": 415,
    "start_time": "2021-08-16T15:16:11.218Z"
   },
   {
    "duration": 387,
    "start_time": "2021-08-16T15:16:17.346Z"
   },
   {
    "duration": 954,
    "start_time": "2021-08-16T15:16:24.722Z"
   },
   {
    "duration": 784,
    "start_time": "2021-08-16T15:16:40.850Z"
   },
   {
    "duration": 427,
    "start_time": "2021-08-16T15:16:45.202Z"
   },
   {
    "duration": 451,
    "start_time": "2021-08-16T15:16:54.788Z"
   },
   {
    "duration": 424,
    "start_time": "2021-08-16T15:17:00.098Z"
   },
   {
    "duration": 245,
    "start_time": "2021-08-16T15:22:35.844Z"
   },
   {
    "duration": 381,
    "start_time": "2021-08-16T15:22:41.333Z"
   },
   {
    "duration": 13,
    "start_time": "2021-08-16T15:23:08.791Z"
   },
   {
    "duration": 389,
    "start_time": "2021-08-16T15:23:14.710Z"
   },
   {
    "duration": 13,
    "start_time": "2021-08-16T15:23:27.974Z"
   },
   {
    "duration": 242,
    "start_time": "2021-08-16T15:26:07.499Z"
   },
   {
    "duration": 246,
    "start_time": "2021-08-16T15:27:10.603Z"
   },
   {
    "duration": 246,
    "start_time": "2021-08-16T15:27:59.691Z"
   },
   {
    "duration": 5,
    "start_time": "2021-08-16T15:29:12.316Z"
   },
   {
    "duration": 14,
    "start_time": "2021-08-16T15:30:12.332Z"
   },
   {
    "duration": 5,
    "start_time": "2021-08-16T15:30:13.146Z"
   },
   {
    "duration": 9,
    "start_time": "2021-08-16T15:30:18.204Z"
   },
   {
    "duration": 12,
    "start_time": "2021-08-16T15:33:56.543Z"
   },
   {
    "duration": 155,
    "start_time": "2021-08-16T15:33:57.678Z"
   },
   {
    "duration": 1436,
    "start_time": "2021-08-16T15:34:05.393Z"
   },
   {
    "duration": 159,
    "start_time": "2021-08-16T15:35:37.777Z"
   },
   {
    "duration": 152,
    "start_time": "2021-08-16T15:35:40.641Z"
   },
   {
    "duration": 140,
    "start_time": "2021-08-16T15:35:43.152Z"
   },
   {
    "duration": 157,
    "start_time": "2021-08-16T15:35:47.328Z"
   },
   {
    "duration": 142,
    "start_time": "2021-08-16T15:35:51.809Z"
   },
   {
    "duration": 125,
    "start_time": "2021-08-16T15:38:31.011Z"
   },
   {
    "duration": 561,
    "start_time": "2021-08-16T15:38:37.507Z"
   },
   {
    "duration": 527,
    "start_time": "2021-08-16T15:38:42.003Z"
   },
   {
    "duration": 146,
    "start_time": "2021-08-16T15:41:10.329Z"
   },
   {
    "duration": 183,
    "start_time": "2021-08-16T15:41:28.981Z"
   },
   {
    "duration": 13,
    "start_time": "2021-08-16T15:42:23.224Z"
   },
   {
    "duration": 286,
    "start_time": "2021-08-16T15:42:24.599Z"
   },
   {
    "duration": 259,
    "start_time": "2021-08-16T15:42:29.079Z"
   },
   {
    "duration": 274,
    "start_time": "2021-08-16T15:43:14.183Z"
   },
   {
    "duration": 150,
    "start_time": "2021-08-16T15:43:26.439Z"
   },
   {
    "duration": 150,
    "start_time": "2021-08-16T15:43:31.864Z"
   },
   {
    "duration": 145,
    "start_time": "2021-08-16T15:43:56.985Z"
   },
   {
    "duration": 152,
    "start_time": "2021-08-16T15:50:08.269Z"
   },
   {
    "duration": 143,
    "start_time": "2021-08-16T15:50:18.509Z"
   },
   {
    "duration": 143,
    "start_time": "2021-08-16T15:50:23.133Z"
   },
   {
    "duration": 148,
    "start_time": "2021-08-16T15:50:46.029Z"
   },
   {
    "duration": 22,
    "start_time": "2021-08-16T21:56:22.344Z"
   },
   {
    "duration": 13,
    "start_time": "2021-08-16T21:57:53.720Z"
   },
   {
    "duration": 10,
    "start_time": "2021-08-16T21:59:05.016Z"
   },
   {
    "duration": 13,
    "start_time": "2021-08-16T21:59:09.896Z"
   },
   {
    "duration": 12,
    "start_time": "2021-08-16T21:59:17.369Z"
   },
   {
    "duration": 9,
    "start_time": "2021-08-16T22:00:50.174Z"
   },
   {
    "duration": 11,
    "start_time": "2021-08-16T22:00:52.988Z"
   },
   {
    "duration": 8,
    "start_time": "2021-08-16T22:01:27.052Z"
   },
   {
    "duration": 10,
    "start_time": "2021-08-16T22:01:28.107Z"
   },
   {
    "duration": 290,
    "start_time": "2021-08-16T22:24:01.471Z"
   },
   {
    "duration": 16,
    "start_time": "2021-08-16T22:25:18.305Z"
   },
   {
    "duration": 328,
    "start_time": "2021-08-16T22:26:47.194Z"
   },
   {
    "duration": 697,
    "start_time": "2021-08-16T22:30:22.291Z"
   },
   {
    "duration": 347,
    "start_time": "2021-08-16T22:30:57.044Z"
   },
   {
    "duration": 358,
    "start_time": "2021-08-16T22:31:04.167Z"
   },
   {
    "duration": 344,
    "start_time": "2021-08-16T22:31:10.964Z"
   },
   {
    "duration": 378,
    "start_time": "2021-08-16T22:32:13.141Z"
   },
   {
    "duration": 356,
    "start_time": "2021-08-16T22:32:19.077Z"
   },
   {
    "duration": 327,
    "start_time": "2021-08-16T22:32:58.533Z"
   },
   {
    "duration": 473,
    "start_time": "2021-08-16T22:33:23.896Z"
   },
   {
    "duration": 336,
    "start_time": "2021-08-16T22:35:19.611Z"
   },
   {
    "duration": 316,
    "start_time": "2021-08-16T22:35:26.729Z"
   },
   {
    "duration": 310,
    "start_time": "2021-08-16T22:35:34.393Z"
   },
   {
    "duration": 279,
    "start_time": "2021-08-16T22:35:44.361Z"
   },
   {
    "duration": 277,
    "start_time": "2021-08-16T22:36:23.321Z"
   },
   {
    "duration": 386,
    "start_time": "2021-08-16T22:43:24.369Z"
   },
   {
    "duration": 17,
    "start_time": "2021-08-16T22:47:41.107Z"
   },
   {
    "duration": 13,
    "start_time": "2021-08-16T22:47:54.963Z"
   },
   {
    "duration": 290,
    "start_time": "2021-08-16T22:47:56.755Z"
   },
   {
    "duration": 294,
    "start_time": "2021-08-16T22:49:06.039Z"
   },
   {
    "duration": 300,
    "start_time": "2021-08-16T22:58:00.875Z"
   },
   {
    "duration": 521,
    "start_time": "2021-08-16T22:58:07.339Z"
   },
   {
    "duration": 280,
    "start_time": "2021-08-16T22:58:13.707Z"
   },
   {
    "duration": 9,
    "start_time": "2021-08-16T23:03:43.199Z"
   },
   {
    "duration": 8685,
    "start_time": "2021-08-16T23:22:42.302Z"
   },
   {
    "duration": 11,
    "start_time": "2021-08-16T23:23:14.819Z"
   },
   {
    "duration": 270,
    "start_time": "2021-08-16T23:23:17.554Z"
   },
   {
    "duration": 16,
    "start_time": "2021-08-16T23:44:18.820Z"
   },
   {
    "duration": 27,
    "start_time": "2021-08-16T23:48:49.988Z"
   },
   {
    "duration": 16,
    "start_time": "2021-08-16T23:48:52.467Z"
   },
   {
    "duration": 184,
    "start_time": "2021-08-16T23:54:55.053Z"
   },
   {
    "duration": 15,
    "start_time": "2021-08-16T23:55:44.444Z"
   },
   {
    "duration": 21,
    "start_time": "2021-08-16T23:56:18.124Z"
   },
   {
    "duration": 16,
    "start_time": "2021-08-16T23:56:18.908Z"
   },
   {
    "duration": 15,
    "start_time": "2021-08-16T23:58:14.462Z"
   },
   {
    "duration": 16,
    "start_time": "2021-08-16T23:58:15.628Z"
   },
   {
    "duration": 14,
    "start_time": "2021-08-16T23:58:22.702Z"
   },
   {
    "duration": 16,
    "start_time": "2021-08-16T23:58:23.852Z"
   },
   {
    "duration": 34,
    "start_time": "2021-08-16T23:58:30.590Z"
   },
   {
    "duration": 15,
    "start_time": "2021-08-16T23:58:31.326Z"
   },
   {
    "duration": 1115,
    "start_time": "2021-08-16T23:59:34.894Z"
   },
   {
    "duration": 959,
    "start_time": "2021-08-17T00:01:20.960Z"
   },
   {
    "duration": 941,
    "start_time": "2021-08-17T00:01:26.640Z"
   },
   {
    "duration": 28,
    "start_time": "2021-08-17T00:01:35.504Z"
   },
   {
    "duration": 15,
    "start_time": "2021-08-17T00:01:36.592Z"
   },
   {
    "duration": 145,
    "start_time": "2021-08-17T00:02:03.136Z"
   },
   {
    "duration": 16,
    "start_time": "2021-08-17T00:02:04.000Z"
   },
   {
    "duration": 386,
    "start_time": "2021-08-17T00:02:09.792Z"
   },
   {
    "duration": 21,
    "start_time": "2021-08-17T00:02:19.426Z"
   },
   {
    "duration": 14,
    "start_time": "2021-08-17T00:02:20.736Z"
   },
   {
    "duration": 15,
    "start_time": "2021-08-17T00:03:33.042Z"
   },
   {
    "duration": 16,
    "start_time": "2021-08-17T00:03:33.842Z"
   },
   {
    "duration": 22,
    "start_time": "2021-08-17T00:03:58.210Z"
   },
   {
    "duration": 15,
    "start_time": "2021-08-17T00:03:59.330Z"
   },
   {
    "duration": 24,
    "start_time": "2021-08-17T00:04:49.844Z"
   },
   {
    "duration": 15,
    "start_time": "2021-08-17T00:04:51.076Z"
   },
   {
    "duration": 24,
    "start_time": "2021-08-17T00:05:01.510Z"
   },
   {
    "duration": 16,
    "start_time": "2021-08-17T00:05:03.076Z"
   },
   {
    "duration": 25,
    "start_time": "2021-08-17T00:05:10.002Z"
   },
   {
    "duration": 17,
    "start_time": "2021-08-17T00:05:11.124Z"
   },
   {
    "duration": 6,
    "start_time": "2021-08-17T00:07:28.262Z"
   },
   {
    "duration": 385,
    "start_time": "2021-08-17T00:08:24.054Z"
   },
   {
    "duration": 487,
    "start_time": "2021-08-17T00:08:38.934Z"
   },
   {
    "duration": 29,
    "start_time": "2021-08-17T00:09:04.998Z"
   },
   {
    "duration": 16,
    "start_time": "2021-08-17T00:09:06.166Z"
   },
   {
    "duration": 29,
    "start_time": "2021-08-17T00:09:15.254Z"
   },
   {
    "duration": 31,
    "start_time": "2021-08-17T00:09:16.502Z"
   },
   {
    "duration": 15,
    "start_time": "2021-08-17T00:09:17.766Z"
   },
   {
    "duration": 35,
    "start_time": "2021-08-17T00:19:15.870Z"
   },
   {
    "duration": 16,
    "start_time": "2021-08-17T00:19:17.326Z"
   },
   {
    "duration": 37,
    "start_time": "2021-08-17T00:19:27.518Z"
   },
   {
    "duration": 16,
    "start_time": "2021-08-17T00:19:28.543Z"
   },
   {
    "duration": 31,
    "start_time": "2021-08-17T00:19:33.968Z"
   },
   {
    "duration": 17,
    "start_time": "2021-08-17T00:19:34.894Z"
   },
   {
    "duration": 41,
    "start_time": "2021-08-17T00:23:03.681Z"
   },
   {
    "duration": 16,
    "start_time": "2021-08-17T00:23:04.947Z"
   },
   {
    "duration": 38,
    "start_time": "2021-08-17T00:23:11.571Z"
   },
   {
    "duration": 15,
    "start_time": "2021-08-17T00:23:12.339Z"
   },
   {
    "duration": 39,
    "start_time": "2021-08-17T00:24:08.259Z"
   },
   {
    "duration": 17,
    "start_time": "2021-08-17T00:24:09.330Z"
   },
   {
    "duration": 51,
    "start_time": "2021-08-17T00:24:39.955Z"
   },
   {
    "duration": 21,
    "start_time": "2021-08-17T00:24:41.093Z"
   },
   {
    "duration": 7,
    "start_time": "2021-08-17T00:25:03.285Z"
   },
   {
    "duration": 14,
    "start_time": "2021-08-17T00:25:45.477Z"
   },
   {
    "duration": 18,
    "start_time": "2021-08-17T00:26:15.462Z"
   },
   {
    "duration": 13,
    "start_time": "2021-08-17T00:26:25.445Z"
   },
   {
    "duration": 16,
    "start_time": "2021-08-17T00:26:32.629Z"
   },
   {
    "duration": 16,
    "start_time": "2021-08-17T00:26:48.534Z"
   },
   {
    "duration": 14,
    "start_time": "2021-08-17T00:27:00.599Z"
   },
   {
    "duration": 14,
    "start_time": "2021-08-17T00:27:03.927Z"
   },
   {
    "duration": 17,
    "start_time": "2021-08-17T00:27:58.839Z"
   },
   {
    "duration": 14,
    "start_time": "2021-08-17T00:28:22.537Z"
   },
   {
    "duration": 14,
    "start_time": "2021-08-17T00:30:04.329Z"
   },
   {
    "duration": 16,
    "start_time": "2021-08-17T00:30:11.081Z"
   },
   {
    "duration": 17,
    "start_time": "2021-08-17T00:30:28.345Z"
   },
   {
    "duration": 12,
    "start_time": "2021-08-17T00:30:39.145Z"
   },
   {
    "duration": 13,
    "start_time": "2021-08-17T00:30:42.856Z"
   },
   {
    "duration": 13,
    "start_time": "2021-08-17T00:30:44.521Z"
   },
   {
    "duration": 13,
    "start_time": "2021-08-17T00:30:45.688Z"
   },
   {
    "duration": 14,
    "start_time": "2021-08-17T00:30:47.192Z"
   },
   {
    "duration": 14,
    "start_time": "2021-08-17T00:31:00.073Z"
   },
   {
    "duration": 14,
    "start_time": "2021-08-17T00:31:01.691Z"
   },
   {
    "duration": 14,
    "start_time": "2021-08-17T00:33:19.517Z"
   },
   {
    "duration": 14,
    "start_time": "2021-08-17T00:33:21.019Z"
   },
   {
    "duration": 15,
    "start_time": "2021-08-17T00:33:23.245Z"
   },
   {
    "duration": 26,
    "start_time": "2021-08-17T00:33:25.069Z"
   },
   {
    "duration": 47,
    "start_time": "2021-08-17T00:35:50.045Z"
   },
   {
    "duration": 27,
    "start_time": "2021-08-17T00:35:55.309Z"
   },
   {
    "duration": 14,
    "start_time": "2021-08-17T00:36:00.223Z"
   },
   {
    "duration": 11,
    "start_time": "2021-08-17T00:36:10.831Z"
   },
   {
    "duration": 45,
    "start_time": "2021-08-17T00:36:59.007Z"
   },
   {
    "duration": 372,
    "start_time": "2021-08-17T00:37:00.269Z"
   },
   {
    "duration": 8,
    "start_time": "2021-08-17T00:37:05.614Z"
   },
   {
    "duration": 15,
    "start_time": "2021-08-17T00:37:16.607Z"
   },
   {
    "duration": 28,
    "start_time": "2021-08-17T00:37:31.537Z"
   },
   {
    "duration": 12,
    "start_time": "2021-08-17T00:37:42.815Z"
   },
   {
    "duration": 30,
    "start_time": "2021-08-17T00:38:03.265Z"
   },
   {
    "duration": 139,
    "start_time": "2021-08-17T00:43:38.533Z"
   },
   {
    "duration": 41,
    "start_time": "2021-08-17T00:43:45.059Z"
   },
   {
    "duration": 14,
    "start_time": "2021-08-17T00:43:47.413Z"
   },
   {
    "duration": 41,
    "start_time": "2021-08-17T00:44:01.205Z"
   },
   {
    "duration": 16,
    "start_time": "2021-08-17T00:44:02.230Z"
   },
   {
    "duration": 43,
    "start_time": "2021-08-17T00:44:12.901Z"
   },
   {
    "duration": 30,
    "start_time": "2021-08-17T00:44:13.605Z"
   },
   {
    "duration": 37,
    "start_time": "2021-08-17T00:45:00.261Z"
   },
   {
    "duration": 12,
    "start_time": "2021-08-17T00:45:01.061Z"
   },
   {
    "duration": 25,
    "start_time": "2021-08-17T00:45:04.581Z"
   },
   {
    "duration": 15,
    "start_time": "2021-08-17T00:45:09.237Z"
   },
   {
    "duration": 29,
    "start_time": "2021-08-17T00:45:29.063Z"
   },
   {
    "duration": 16,
    "start_time": "2021-08-17T00:45:30.327Z"
   },
   {
    "duration": 30,
    "start_time": "2021-08-17T00:45:53.093Z"
   },
   {
    "duration": 19,
    "start_time": "2021-08-17T00:45:53.909Z"
   },
   {
    "duration": 43,
    "start_time": "2021-08-17T00:46:22.567Z"
   },
   {
    "duration": 13,
    "start_time": "2021-08-17T00:46:23.303Z"
   },
   {
    "duration": 43,
    "start_time": "2021-08-17T00:46:36.455Z"
   },
   {
    "duration": 31,
    "start_time": "2021-08-17T00:46:37.655Z"
   },
   {
    "duration": 11,
    "start_time": "2021-08-17T00:49:14.953Z"
   },
   {
    "duration": 8,
    "start_time": "2021-08-17T00:51:03.115Z"
   },
   {
    "duration": 29,
    "start_time": "2021-08-17T00:51:11.227Z"
   },
   {
    "duration": 10,
    "start_time": "2021-08-17T00:51:19.787Z"
   },
   {
    "duration": 8,
    "start_time": "2021-08-17T00:51:22.107Z"
   },
   {
    "duration": 15,
    "start_time": "2021-08-17T00:52:10.811Z"
   },
   {
    "duration": 13,
    "start_time": "2021-08-17T00:54:48.941Z"
   },
   {
    "duration": 30,
    "start_time": "2021-08-17T00:56:21.533Z"
   },
   {
    "duration": 60,
    "start_time": "2021-08-17T01:04:11.623Z"
   },
   {
    "duration": 31,
    "start_time": "2021-08-17T01:04:15.493Z"
   },
   {
    "duration": 12,
    "start_time": "2021-08-17T01:04:21.157Z"
   },
   {
    "duration": 58,
    "start_time": "2021-08-17T01:04:29.605Z"
   },
   {
    "duration": 13,
    "start_time": "2021-08-17T01:04:30.757Z"
   },
   {
    "duration": 32,
    "start_time": "2021-08-17T01:04:32.709Z"
   },
   {
    "duration": 39401,
    "start_time": "2021-08-17T01:08:21.497Z"
   },
   {
    "duration": 14,
    "start_time": "2021-08-17T01:09:04.601Z"
   },
   {
    "duration": 9,
    "start_time": "2021-08-17T01:09:06.937Z"
   },
   {
    "duration": 55,
    "start_time": "2021-08-17T01:09:16.665Z"
   },
   {
    "duration": 12,
    "start_time": "2021-08-17T01:09:17.785Z"
   },
   {
    "duration": 31,
    "start_time": "2021-08-17T01:11:37.660Z"
   },
   {
    "duration": 49,
    "start_time": "2021-08-17T01:11:50.044Z"
   },
   {
    "duration": 14,
    "start_time": "2021-08-17T01:11:51.259Z"
   },
   {
    "duration": 30,
    "start_time": "2021-08-17T01:11:52.475Z"
   },
   {
    "duration": 6501,
    "start_time": "2021-08-17T01:14:34.174Z"
   },
   {
    "duration": 16,
    "start_time": "2021-08-17T01:14:53.533Z"
   },
   {
    "duration": 7,
    "start_time": "2021-08-17T01:15:19.390Z"
   },
   {
    "duration": 7,
    "start_time": "2021-08-17T01:15:34.799Z"
   },
   {
    "duration": 6,
    "start_time": "2021-08-17T01:15:51.072Z"
   },
   {
    "duration": 6,
    "start_time": "2021-08-17T01:18:18.209Z"
   },
   {
    "duration": 365,
    "start_time": "2021-08-17T01:18:21.906Z"
   },
   {
    "duration": 361,
    "start_time": "2021-08-17T01:18:26.370Z"
   },
   {
    "duration": 7,
    "start_time": "2021-08-17T01:18:29.266Z"
   },
   {
    "duration": 7,
    "start_time": "2021-08-17T01:18:45.649Z"
   },
   {
    "duration": 7,
    "start_time": "2021-08-17T01:19:06.098Z"
   },
   {
    "duration": 124,
    "start_time": "2021-08-17T01:19:09.233Z"
   },
   {
    "duration": 7,
    "start_time": "2021-08-17T01:19:11.105Z"
   },
   {
    "duration": 376,
    "start_time": "2021-08-17T01:19:41.651Z"
   },
   {
    "duration": 409,
    "start_time": "2021-08-17T01:19:49.667Z"
   },
   {
    "duration": 6,
    "start_time": "2021-08-17T01:19:55.988Z"
   },
   {
    "duration": 371,
    "start_time": "2021-08-17T01:21:56.902Z"
   },
   {
    "duration": 417,
    "start_time": "2021-08-17T01:22:01.300Z"
   },
   {
    "duration": 4,
    "start_time": "2021-08-17T01:22:12.356Z"
   },
   {
    "duration": 6,
    "start_time": "2021-08-17T01:22:13.747Z"
   },
   {
    "duration": 7,
    "start_time": "2021-08-17T01:22:19.475Z"
   },
   {
    "duration": 7,
    "start_time": "2021-08-17T01:22:24.307Z"
   },
   {
    "duration": 357,
    "start_time": "2021-08-17T01:22:43.444Z"
   },
   {
    "duration": 352,
    "start_time": "2021-08-17T01:22:47.939Z"
   },
   {
    "duration": 6,
    "start_time": "2021-08-17T01:22:54.131Z"
   },
   {
    "duration": 791,
    "start_time": "2021-08-17T01:23:45.238Z"
   },
   {
    "duration": 4,
    "start_time": "2021-08-17T01:23:55.062Z"
   },
   {
    "duration": 5,
    "start_time": "2021-08-17T01:24:07.064Z"
   },
   {
    "duration": 6,
    "start_time": "2021-08-17T01:24:18.408Z"
   },
   {
    "duration": 7,
    "start_time": "2021-08-17T01:24:20.853Z"
   },
   {
    "duration": 7,
    "start_time": "2021-08-17T01:24:27.173Z"
   },
   {
    "duration": 399,
    "start_time": "2021-08-17T01:24:38.920Z"
   },
   {
    "duration": 6,
    "start_time": "2021-08-17T01:24:46.918Z"
   },
   {
    "duration": 28,
    "start_time": "2021-08-17T01:25:33.384Z"
   },
   {
    "duration": 16,
    "start_time": "2021-08-17T01:25:34.615Z"
   },
   {
    "duration": 16,
    "start_time": "2021-08-17T01:25:38.088Z"
   },
   {
    "duration": 14,
    "start_time": "2021-08-17T01:25:49.640Z"
   },
   {
    "duration": 48,
    "start_time": "2021-08-17T01:25:56.728Z"
   },
   {
    "duration": 13,
    "start_time": "2021-08-17T01:25:57.624Z"
   },
   {
    "duration": 14,
    "start_time": "2021-08-17T01:27:42.760Z"
   },
   {
    "duration": 30,
    "start_time": "2021-08-17T01:27:50.970Z"
   },
   {
    "duration": 10,
    "start_time": "2021-08-17T01:53:58.783Z"
   },
   {
    "duration": 14,
    "start_time": "2021-08-17T01:53:59.953Z"
   },
   {
    "duration": 13,
    "start_time": "2021-08-17T01:54:02.287Z"
   },
   {
    "duration": 17,
    "start_time": "2021-08-17T01:54:10.689Z"
   },
   {
    "duration": 10,
    "start_time": "2021-08-17T01:58:13.619Z"
   },
   {
    "duration": 14,
    "start_time": "2021-08-17T01:58:19.602Z"
   },
   {
    "duration": 14,
    "start_time": "2021-08-17T01:58:24.452Z"
   },
   {
    "duration": 12,
    "start_time": "2021-08-17T01:58:27.381Z"
   },
   {
    "duration": 51,
    "start_time": "2021-08-17T01:58:40.579Z"
   },
   {
    "duration": 16,
    "start_time": "2021-08-17T01:58:42.579Z"
   },
   {
    "duration": 18,
    "start_time": "2021-08-17T01:58:44.866Z"
   },
   {
    "duration": 10,
    "start_time": "2021-08-17T01:58:53.413Z"
   },
   {
    "duration": 18,
    "start_time": "2021-08-17T01:59:00.691Z"
   },
   {
    "duration": 14,
    "start_time": "2021-08-17T01:59:29.588Z"
   },
   {
    "duration": 18,
    "start_time": "2021-08-17T01:59:32.117Z"
   },
   {
    "duration": 55,
    "start_time": "2021-08-17T01:59:59.221Z"
   },
   {
    "duration": 15,
    "start_time": "2021-08-17T02:00:03.093Z"
   },
   {
    "duration": 14,
    "start_time": "2021-08-17T02:00:05.173Z"
   },
   {
    "duration": 14,
    "start_time": "2021-08-17T02:00:14.165Z"
   },
   {
    "duration": 13,
    "start_time": "2021-08-17T02:00:15.765Z"
   },
   {
    "duration": 17,
    "start_time": "2021-08-17T02:00:22.388Z"
   },
   {
    "duration": 63,
    "start_time": "2021-08-17T02:00:41.719Z"
   },
   {
    "duration": 19,
    "start_time": "2021-08-17T02:00:45.253Z"
   },
   {
    "duration": 19,
    "start_time": "2021-08-17T02:00:56.853Z"
   },
   {
    "duration": 62,
    "start_time": "2021-08-17T02:06:28.269Z"
   },
   {
    "duration": 13,
    "start_time": "2021-08-17T02:06:35.339Z"
   },
   {
    "duration": 18,
    "start_time": "2021-08-17T02:06:38.299Z"
   },
   {
    "duration": 16,
    "start_time": "2021-08-17T02:07:50.973Z"
   },
   {
    "duration": 132,
    "start_time": "2021-08-17T02:07:54.059Z"
   },
   {
    "duration": 17,
    "start_time": "2021-08-17T02:07:56.443Z"
   },
   {
    "duration": 16,
    "start_time": "2021-08-17T02:10:48.800Z"
   },
   {
    "duration": 17,
    "start_time": "2021-08-17T02:11:44.063Z"
   },
   {
    "duration": 17,
    "start_time": "2021-08-17T02:13:25.263Z"
   },
   {
    "duration": 16,
    "start_time": "2021-08-17T02:13:35.519Z"
   },
   {
    "duration": 13,
    "start_time": "2021-08-17T02:14:15.491Z"
   },
   {
    "duration": 15,
    "start_time": "2021-08-17T02:16:10.899Z"
   },
   {
    "duration": 34,
    "start_time": "2021-08-17T02:16:30.323Z"
   },
   {
    "duration": 21,
    "start_time": "2021-08-17T02:19:53.413Z"
   },
   {
    "duration": 21,
    "start_time": "2021-08-17T02:19:58.917Z"
   },
   {
    "duration": 79,
    "start_time": "2021-08-17T02:21:12.234Z"
   },
   {
    "duration": 14,
    "start_time": "2021-08-17T02:21:17.191Z"
   },
   {
    "duration": 14,
    "start_time": "2021-08-17T02:21:26.856Z"
   },
   {
    "duration": 25,
    "start_time": "2021-08-17T02:21:30.328Z"
   },
   {
    "duration": 86,
    "start_time": "2021-08-17T02:22:21.084Z"
   },
   {
    "duration": 19,
    "start_time": "2021-08-17T02:22:24.104Z"
   },
   {
    "duration": 85,
    "start_time": "2021-08-17T02:22:47.307Z"
   },
   {
    "duration": 19,
    "start_time": "2021-08-17T02:22:49.721Z"
   },
   {
    "duration": 88,
    "start_time": "2021-08-17T02:24:24.460Z"
   },
   {
    "duration": 14,
    "start_time": "2021-08-17T02:24:26.938Z"
   },
   {
    "duration": 18,
    "start_time": "2021-08-17T02:24:34.362Z"
   },
   {
    "duration": 74,
    "start_time": "2021-08-17T02:27:43.134Z"
   },
   {
    "duration": 14,
    "start_time": "2021-08-17T02:27:45.180Z"
   },
   {
    "duration": 15,
    "start_time": "2021-08-17T02:28:04.012Z"
   },
   {
    "duration": 16,
    "start_time": "2021-08-17T02:28:07.646Z"
   },
   {
    "duration": 17,
    "start_time": "2021-08-17T02:28:21.870Z"
   },
   {
    "duration": 12,
    "start_time": "2021-08-17T02:28:34.735Z"
   },
   {
    "duration": 356,
    "start_time": "2021-08-17T02:31:10.706Z"
   },
   {
    "duration": 8,
    "start_time": "2021-08-17T02:31:14.240Z"
   },
   {
    "duration": 375,
    "start_time": "2021-08-17T02:31:15.170Z"
   },
   {
    "duration": 385,
    "start_time": "2021-08-17T02:31:23.122Z"
   },
   {
    "duration": 548,
    "start_time": "2021-08-17T02:31:52.304Z"
   },
   {
    "duration": 418,
    "start_time": "2021-08-17T02:31:58.514Z"
   },
   {
    "duration": 64,
    "start_time": "2021-08-17T02:33:54.436Z"
   },
   {
    "duration": 9,
    "start_time": "2021-08-17T02:33:56.722Z"
   },
   {
    "duration": 393,
    "start_time": "2021-08-17T02:33:58.148Z"
   },
   {
    "duration": 11,
    "start_time": "2021-08-17T02:34:47.347Z"
   },
   {
    "duration": 128,
    "start_time": "2021-08-17T02:35:36.626Z"
   },
   {
    "duration": 33,
    "start_time": "2021-08-17T02:35:39.141Z"
   },
   {
    "duration": 18,
    "start_time": "2021-08-17T02:36:00.036Z"
   },
   {
    "duration": 72,
    "start_time": "2021-08-17T02:36:04.838Z"
   },
   {
    "duration": 13,
    "start_time": "2021-08-17T02:36:08.402Z"
   },
   {
    "duration": 20,
    "start_time": "2021-08-17T02:36:20.100Z"
   },
   {
    "duration": 394,
    "start_time": "2021-08-17T02:37:04.679Z"
   },
   {
    "duration": 9,
    "start_time": "2021-08-17T02:37:13.508Z"
   },
   {
    "duration": 395,
    "start_time": "2021-08-17T02:37:15.014Z"
   },
   {
    "duration": 73,
    "start_time": "2021-08-17T02:38:37.066Z"
   },
   {
    "duration": 11,
    "start_time": "2021-08-17T02:38:39.751Z"
   },
   {
    "duration": 418,
    "start_time": "2021-08-17T02:38:40.888Z"
   },
   {
    "duration": 375,
    "start_time": "2021-08-17T02:42:15.385Z"
   },
   {
    "duration": 13,
    "start_time": "2021-08-17T02:42:27.273Z"
   },
   {
    "duration": 10,
    "start_time": "2021-08-17T02:42:30.841Z"
   },
   {
    "duration": 14,
    "start_time": "2021-08-17T02:42:54.985Z"
   },
   {
    "duration": 11,
    "start_time": "2021-08-17T02:42:55.594Z"
   },
   {
    "duration": 17,
    "start_time": "2021-08-17T02:43:17.931Z"
   },
   {
    "duration": 12,
    "start_time": "2021-08-17T02:44:09.691Z"
   },
   {
    "duration": 10,
    "start_time": "2021-08-17T02:44:17.131Z"
   },
   {
    "duration": 16,
    "start_time": "2021-08-17T10:59:42.499Z"
   },
   {
    "duration": 230,
    "start_time": "2021-08-17T11:00:57.363Z"
   },
   {
    "duration": 14,
    "start_time": "2021-08-17T11:01:05.443Z"
   },
   {
    "duration": 70,
    "start_time": "2021-08-17T11:02:28.503Z"
   },
   {
    "duration": 31,
    "start_time": "2021-08-17T11:02:31.509Z"
   },
   {
    "duration": 17,
    "start_time": "2021-08-17T11:03:10.245Z"
   },
   {
    "duration": 73,
    "start_time": "2021-08-17T11:03:13.257Z"
   },
   {
    "duration": 17,
    "start_time": "2021-08-17T11:03:15.397Z"
   },
   {
    "duration": 88,
    "start_time": "2021-08-17T11:20:43.817Z"
   },
   {
    "duration": 18,
    "start_time": "2021-08-17T11:20:46.211Z"
   },
   {
    "duration": 12,
    "start_time": "2021-08-17T11:22:00.163Z"
   },
   {
    "duration": 22,
    "start_time": "2021-08-17T11:22:24.581Z"
   },
   {
    "duration": 8,
    "start_time": "2021-08-17T11:32:25.950Z"
   },
   {
    "duration": 19,
    "start_time": "2021-08-17T11:32:39.725Z"
   },
   {
    "duration": 108,
    "start_time": "2021-08-17T11:37:21.318Z"
   },
   {
    "duration": 23,
    "start_time": "2021-08-17T11:37:23.778Z"
   },
   {
    "duration": 11,
    "start_time": "2021-08-17T11:37:25.858Z"
   },
   {
    "duration": 405,
    "start_time": "2021-08-17T11:37:28.722Z"
   },
   {
    "duration": 17,
    "start_time": "2021-08-17T11:37:35.106Z"
   },
   {
    "duration": 13,
    "start_time": "2021-08-17T11:40:17.268Z"
   },
   {
    "duration": 17,
    "start_time": "2021-08-17T11:44:40.472Z"
   },
   {
    "duration": 14,
    "start_time": "2021-08-17T11:46:02.184Z"
   },
   {
    "duration": 419,
    "start_time": "2021-08-17T11:46:22.186Z"
   },
   {
    "duration": 13,
    "start_time": "2021-08-17T11:46:26.411Z"
   },
   {
    "duration": 14,
    "start_time": "2021-08-17T11:46:31.420Z"
   },
   {
    "duration": 10,
    "start_time": "2021-08-17T11:46:45.386Z"
   },
   {
    "duration": 11,
    "start_time": "2021-08-17T11:46:49.402Z"
   },
   {
    "duration": 10,
    "start_time": "2021-08-17T11:47:16.426Z"
   },
   {
    "duration": 13,
    "start_time": "2021-08-17T11:47:31.242Z"
   },
   {
    "duration": 19,
    "start_time": "2021-08-17T11:56:32.243Z"
   },
   {
    "duration": 14,
    "start_time": "2021-08-17T11:56:44.771Z"
   },
   {
    "duration": 15,
    "start_time": "2021-08-17T11:56:47.427Z"
   },
   {
    "duration": 112,
    "start_time": "2021-08-17T11:57:32.419Z"
   },
   {
    "duration": 12,
    "start_time": "2021-08-17T11:57:36.019Z"
   },
   {
    "duration": 16,
    "start_time": "2021-08-17T11:57:38.594Z"
   },
   {
    "duration": 415,
    "start_time": "2021-08-17T11:57:41.331Z"
   },
   {
    "duration": 11,
    "start_time": "2021-08-17T11:57:44.835Z"
   },
   {
    "duration": 1594,
    "start_time": "2021-08-17T11:58:05.458Z"
   },
   {
    "duration": 11,
    "start_time": "2021-08-17T11:58:12.867Z"
   },
   {
    "duration": 10,
    "start_time": "2021-08-17T11:58:19.795Z"
   },
   {
    "duration": 15,
    "start_time": "2021-08-17T11:58:29.861Z"
   },
   {
    "duration": 167,
    "start_time": "2021-08-17T12:00:03.925Z"
   },
   {
    "duration": 135,
    "start_time": "2021-08-17T12:00:05.237Z"
   },
   {
    "duration": 22,
    "start_time": "2021-08-17T12:00:07.045Z"
   },
   {
    "duration": 19,
    "start_time": "2021-08-17T12:00:15.973Z"
   },
   {
    "duration": 12,
    "start_time": "2021-08-17T12:01:54.023Z"
   },
   {
    "duration": 406,
    "start_time": "2021-08-17T12:01:55.001Z"
   },
   {
    "duration": 11,
    "start_time": "2021-08-17T12:02:02.967Z"
   },
   {
    "duration": 9,
    "start_time": "2021-08-17T12:02:16.390Z"
   },
   {
    "duration": 17,
    "start_time": "2021-08-17T12:22:56.328Z"
   },
   {
    "duration": 106,
    "start_time": "2021-08-17T12:26:03.328Z"
   },
   {
    "duration": 17,
    "start_time": "2021-08-17T12:26:05.052Z"
   },
   {
    "duration": 13,
    "start_time": "2021-08-17T12:26:06.764Z"
   },
   {
    "duration": 393,
    "start_time": "2021-08-17T12:26:09.454Z"
   },
   {
    "duration": 17,
    "start_time": "2021-08-17T12:26:14.588Z"
   },
   {
    "duration": 13,
    "start_time": "2021-08-17T12:26:59.164Z"
   },
   {
    "duration": 18,
    "start_time": "2021-08-17T12:29:09.310Z"
   },
   {
    "duration": 115,
    "start_time": "2021-08-17T12:29:22.848Z"
   },
   {
    "duration": 15,
    "start_time": "2021-08-17T12:29:24.669Z"
   },
   {
    "duration": 12,
    "start_time": "2021-08-17T12:29:26.254Z"
   },
   {
    "duration": 403,
    "start_time": "2021-08-17T12:29:31.616Z"
   },
   {
    "duration": 11,
    "start_time": "2021-08-17T12:29:43.374Z"
   },
   {
    "duration": 401,
    "start_time": "2021-08-17T12:29:44.384Z"
   },
   {
    "duration": 11,
    "start_time": "2021-08-17T12:29:57.680Z"
   },
   {
    "duration": 10,
    "start_time": "2021-08-17T12:30:04.208Z"
   },
   {
    "duration": 18,
    "start_time": "2021-08-17T12:30:40.351Z"
   },
   {
    "duration": 17,
    "start_time": "2021-08-17T12:30:55.568Z"
   },
   {
    "duration": 126,
    "start_time": "2021-08-17T12:33:42.134Z"
   },
   {
    "duration": 15,
    "start_time": "2021-08-17T12:33:43.778Z"
   },
   {
    "duration": 9,
    "start_time": "2021-08-17T12:33:45.505Z"
   },
   {
    "duration": 411,
    "start_time": "2021-08-17T12:33:46.690Z"
   },
   {
    "duration": 11,
    "start_time": "2021-08-17T12:34:07.650Z"
   },
   {
    "duration": 9,
    "start_time": "2021-08-17T12:34:15.122Z"
   },
   {
    "duration": 10,
    "start_time": "2021-08-17T12:41:18.376Z"
   },
   {
    "duration": 7,
    "start_time": "2021-08-17T12:44:36.764Z"
   },
   {
    "duration": 6,
    "start_time": "2021-08-17T12:44:39.066Z"
   },
   {
    "duration": 18,
    "start_time": "2021-08-17T12:44:46.506Z"
   },
   {
    "duration": 6,
    "start_time": "2021-08-17T12:47:04.462Z"
   },
   {
    "duration": 7,
    "start_time": "2021-08-17T12:47:09.500Z"
   },
   {
    "duration": 7,
    "start_time": "2021-08-17T12:47:12.204Z"
   },
   {
    "duration": 16,
    "start_time": "2021-08-17T12:49:09.838Z"
   },
   {
    "duration": 296,
    "start_time": "2021-08-17T12:49:49.906Z"
   },
   {
    "duration": 16,
    "start_time": "2021-08-17T12:49:51.678Z"
   },
   {
    "duration": 9,
    "start_time": "2021-08-17T12:49:53.440Z"
   },
   {
    "duration": 393,
    "start_time": "2021-08-17T12:49:54.482Z"
   },
   {
    "duration": 11,
    "start_time": "2021-08-17T12:50:03.536Z"
   },
   {
    "duration": 10,
    "start_time": "2021-08-17T12:50:04.432Z"
   },
   {
    "duration": 7,
    "start_time": "2021-08-17T12:50:11.120Z"
   },
   {
    "duration": 16,
    "start_time": "2021-08-17T12:50:19.360Z"
   },
   {
    "duration": 15,
    "start_time": "2021-08-17T12:52:17.010Z"
   },
   {
    "duration": 11,
    "start_time": "2021-08-17T12:53:23.058Z"
   },
   {
    "duration": 4,
    "start_time": "2021-08-17T12:54:08.965Z"
   },
   {
    "duration": 78,
    "start_time": "2021-08-17T12:54:34.501Z"
   },
   {
    "duration": 13,
    "start_time": "2021-08-17T12:54:40.340Z"
   },
   {
    "duration": 14,
    "start_time": "2021-08-17T13:05:30.941Z"
   },
   {
    "duration": 11,
    "start_time": "2021-08-17T13:05:31.773Z"
   },
   {
    "duration": 17,
    "start_time": "2021-08-17T13:05:44.381Z"
   },
   {
    "duration": 11,
    "start_time": "2021-08-17T13:09:03.601Z"
   },
   {
    "duration": 9,
    "start_time": "2021-08-17T13:09:06.465Z"
   },
   {
    "duration": 11,
    "start_time": "2021-08-17T13:09:24.865Z"
   },
   {
    "duration": 14,
    "start_time": "2021-08-17T13:10:00.721Z"
   },
   {
    "duration": 11,
    "start_time": "2021-08-17T13:10:07.889Z"
   },
   {
    "duration": 17,
    "start_time": "2021-08-17T13:10:29.041Z"
   },
   {
    "duration": 8,
    "start_time": "2021-08-17T13:13:03.493Z"
   },
   {
    "duration": 401,
    "start_time": "2021-08-17T13:13:34.709Z"
   },
   {
    "duration": 4725,
    "start_time": "2021-08-17T13:14:19.301Z"
   },
   {
    "duration": 6,
    "start_time": "2021-08-17T13:14:28.215Z"
   },
   {
    "duration": 407,
    "start_time": "2021-08-17T13:14:31.637Z"
   },
   {
    "duration": 3486,
    "start_time": "2021-08-17T13:15:34.839Z"
   },
   {
    "duration": 3528,
    "start_time": "2021-08-17T13:15:38.327Z"
   },
   {
    "duration": 2103,
    "start_time": "2021-08-17T13:15:41.858Z"
   },
   {
    "duration": 4,
    "start_time": "2021-08-17T13:15:43.965Z"
   },
   {
    "duration": 39,
    "start_time": "2021-08-17T13:15:43.972Z"
   },
   {
    "duration": 312,
    "start_time": "2021-08-17T13:15:44.014Z"
   },
   {
    "duration": 20,
    "start_time": "2021-08-17T13:15:44.329Z"
   },
   {
    "duration": 23,
    "start_time": "2021-08-17T13:15:44.353Z"
   },
   {
    "duration": 35,
    "start_time": "2021-08-17T13:15:44.379Z"
   },
   {
    "duration": 42,
    "start_time": "2021-08-17T13:15:44.417Z"
   },
   {
    "duration": 44,
    "start_time": "2021-08-17T13:15:44.463Z"
   },
   {
    "duration": 18,
    "start_time": "2021-08-17T13:15:44.510Z"
   },
   {
    "duration": 25,
    "start_time": "2021-08-17T13:15:44.531Z"
   },
   {
    "duration": 31,
    "start_time": "2021-08-17T13:15:44.560Z"
   },
   {
    "duration": 48,
    "start_time": "2021-08-17T13:15:44.594Z"
   },
   {
    "duration": 10,
    "start_time": "2021-08-17T13:15:44.645Z"
   },
   {
    "duration": 16,
    "start_time": "2021-08-17T13:15:44.686Z"
   },
   {
    "duration": 354,
    "start_time": "2021-08-17T13:15:44.705Z"
   },
   {
    "duration": 276,
    "start_time": "2021-08-17T13:15:45.062Z"
   },
   {
    "duration": 321,
    "start_time": "2021-08-17T13:15:45.342Z"
   },
   {
    "duration": 19,
    "start_time": "2021-08-17T13:15:45.666Z"
   },
   {
    "duration": 270,
    "start_time": "2021-08-17T13:15:45.688Z"
   },
   {
    "duration": 236,
    "start_time": "2021-08-17T13:15:45.966Z"
   },
   {
    "duration": 19,
    "start_time": "2021-08-17T13:15:46.205Z"
   },
   {
    "duration": 16,
    "start_time": "2021-08-17T13:15:46.227Z"
   },
   {
    "duration": 339,
    "start_time": "2021-08-17T13:15:46.246Z"
   },
   {
    "duration": 232,
    "start_time": "2021-08-17T13:15:46.587Z"
   },
   {
    "duration": 13,
    "start_time": "2021-08-17T13:15:46.821Z"
   },
   {
    "duration": 31,
    "start_time": "2021-08-17T13:15:46.837Z"
   },
   {
    "duration": 30,
    "start_time": "2021-08-17T13:15:46.871Z"
   },
   {
    "duration": 21,
    "start_time": "2021-08-17T13:15:46.904Z"
   },
   {
    "duration": 36,
    "start_time": "2021-08-17T13:15:46.928Z"
   },
   {
    "duration": 299,
    "start_time": "2021-08-17T13:15:46.967Z"
   },
   {
    "duration": 25,
    "start_time": "2021-08-17T13:15:47.269Z"
   },
   {
    "duration": 31,
    "start_time": "2021-08-17T13:15:47.297Z"
   },
   {
    "duration": 41,
    "start_time": "2021-08-17T13:15:47.331Z"
   },
   {
    "duration": 33,
    "start_time": "2021-08-17T13:15:47.376Z"
   },
   {
    "duration": 530,
    "start_time": "2021-08-17T13:15:47.412Z"
   },
   {
    "duration": 42,
    "start_time": "2021-08-17T13:15:47.945Z"
   },
   {
    "duration": 304,
    "start_time": "2021-08-17T13:15:47.989Z"
   },
   {
    "duration": 130,
    "start_time": "2021-08-17T13:15:48.295Z"
   },
   {
    "duration": 14,
    "start_time": "2021-08-17T13:15:48.428Z"
   },
   {
    "duration": 27,
    "start_time": "2021-08-17T13:15:48.444Z"
   },
   {
    "duration": 433,
    "start_time": "2021-08-17T13:15:48.474Z"
   },
   {
    "duration": 11,
    "start_time": "2021-08-17T13:15:48.910Z"
   },
   {
    "duration": 24,
    "start_time": "2021-08-17T13:15:48.923Z"
   },
   {
    "duration": 29,
    "start_time": "2021-08-17T13:15:48.950Z"
   },
   {
    "duration": 29,
    "start_time": "2021-08-17T13:15:48.981Z"
   },
   {
    "duration": 30,
    "start_time": "2021-08-17T13:15:49.013Z"
   },
   {
    "duration": 20,
    "start_time": "2021-08-17T13:15:49.045Z"
   },
   {
    "duration": 738,
    "start_time": "2021-08-17T13:15:49.068Z"
   },
   {
    "duration": 702,
    "start_time": "2021-08-17T13:16:05.986Z"
   },
   {
    "duration": 629,
    "start_time": "2021-08-17T13:16:13.679Z"
   },
   {
    "duration": 587,
    "start_time": "2021-08-17T13:16:22.128Z"
   },
   {
    "duration": 1017,
    "start_time": "2021-08-17T13:16:42.898Z"
   },
   {
    "duration": 988,
    "start_time": "2021-08-17T13:17:22.913Z"
   },
   {
    "duration": 713,
    "start_time": "2021-08-17T13:17:26.801Z"
   },
   {
    "duration": 1365,
    "start_time": "2021-08-17T13:17:33.841Z"
   },
   {
    "duration": 595,
    "start_time": "2021-08-17T13:17:42.417Z"
   },
   {
    "duration": 646,
    "start_time": "2021-08-17T13:19:07.092Z"
   },
   {
    "duration": 436,
    "start_time": "2021-08-17T13:22:45.320Z"
   },
   {
    "duration": 603,
    "start_time": "2021-08-17T13:23:26.361Z"
   },
   {
    "duration": 635,
    "start_time": "2021-08-17T13:23:59.496Z"
   },
   {
    "duration": 616,
    "start_time": "2021-08-17T13:24:54.890Z"
   },
   {
    "duration": 8,
    "start_time": "2021-08-17T13:26:33.962Z"
   },
   {
    "duration": 11,
    "start_time": "2021-08-17T13:27:52.714Z"
   },
   {
    "duration": 10,
    "start_time": "2021-08-17T13:28:04.153Z"
   },
   {
    "duration": 9,
    "start_time": "2021-08-17T13:28:14.506Z"
   },
   {
    "duration": 10,
    "start_time": "2021-08-17T13:28:22.779Z"
   },
   {
    "duration": 8,
    "start_time": "2021-08-17T13:28:34.683Z"
   },
   {
    "duration": 406,
    "start_time": "2021-08-17T13:29:25.116Z"
   },
   {
    "duration": 8,
    "start_time": "2021-08-17T13:29:36.636Z"
   },
   {
    "duration": 8,
    "start_time": "2021-08-17T13:30:00.445Z"
   },
   {
    "duration": 10,
    "start_time": "2021-08-17T13:30:04.717Z"
   },
   {
    "duration": 8,
    "start_time": "2021-08-17T13:30:11.516Z"
   },
   {
    "duration": 675,
    "start_time": "2021-08-17T13:30:33.326Z"
   },
   {
    "duration": 581,
    "start_time": "2021-08-17T13:31:17.984Z"
   },
   {
    "duration": 397,
    "start_time": "2021-08-17T13:34:23.343Z"
   },
   {
    "duration": 397,
    "start_time": "2021-08-17T13:34:51.844Z"
   },
   {
    "duration": 465,
    "start_time": "2021-08-17T13:35:05.396Z"
   },
   {
    "duration": 399,
    "start_time": "2021-08-17T13:35:54.660Z"
   },
   {
    "duration": 550,
    "start_time": "2021-08-17T14:40:12.873Z"
   },
   {
    "duration": 14,
    "start_time": "2021-08-17T15:03:01.265Z"
   },
   {
    "duration": 11,
    "start_time": "2021-08-17T15:03:14.577Z"
   },
   {
    "duration": 186,
    "start_time": "2021-08-17T15:04:33.012Z"
   },
   {
    "duration": 15224,
    "start_time": "2021-08-17T15:04:36.931Z"
   },
   {
    "duration": 582,
    "start_time": "2021-08-17T15:19:37.324Z"
   },
   {
    "duration": 601,
    "start_time": "2021-08-17T15:19:52.986Z"
   },
   {
    "duration": 947,
    "start_time": "2021-08-17T15:20:25.548Z"
   },
   {
    "duration": 578,
    "start_time": "2021-08-17T15:20:31.628Z"
   },
   {
    "duration": 14,
    "start_time": "2021-08-17T15:25:10.255Z"
   },
   {
    "duration": 13,
    "start_time": "2021-08-17T15:25:14.799Z"
   },
   {
    "duration": 8,
    "start_time": "2021-08-17T15:25:18.847Z"
   },
   {
    "duration": 573,
    "start_time": "2021-08-17T15:25:25.041Z"
   },
   {
    "duration": 598,
    "start_time": "2021-08-17T15:25:35.505Z"
   },
   {
    "duration": 737,
    "start_time": "2021-08-17T15:26:56.609Z"
   },
   {
    "duration": 789,
    "start_time": "2021-08-17T15:27:04.755Z"
   },
   {
    "duration": 625,
    "start_time": "2021-08-17T15:27:08.579Z"
   },
   {
    "duration": 12,
    "start_time": "2021-08-17T15:44:06.389Z"
   },
   {
    "duration": 10,
    "start_time": "2021-08-17T15:44:07.235Z"
   },
   {
    "duration": 5,
    "start_time": "2021-08-17T19:10:35.750Z"
   },
   {
    "duration": 5,
    "start_time": "2021-08-17T19:11:12.774Z"
   },
   {
    "duration": 37,
    "start_time": "2021-08-17T19:13:24.871Z"
   },
   {
    "duration": 16,
    "start_time": "2021-08-17T19:13:26.601Z"
   },
   {
    "duration": 9,
    "start_time": "2021-08-17T19:13:31.239Z"
   },
   {
    "duration": 394,
    "start_time": "2021-08-17T19:13:33.671Z"
   },
   {
    "duration": 11,
    "start_time": "2021-08-17T19:14:17.943Z"
   },
   {
    "duration": 10,
    "start_time": "2021-08-17T19:14:19.943Z"
   },
   {
    "duration": 4,
    "start_time": "2021-08-17T19:14:44.234Z"
   },
   {
    "duration": 14,
    "start_time": "2021-08-17T19:14:47.271Z"
   },
   {
    "duration": 14,
    "start_time": "2021-08-17T19:14:49.144Z"
   },
   {
    "duration": 9,
    "start_time": "2021-08-17T19:14:51.144Z"
   },
   {
    "duration": 587,
    "start_time": "2021-08-17T19:14:56.905Z"
   },
   {
    "duration": 7,
    "start_time": "2021-08-17T22:16:22.917Z"
   },
   {
    "duration": 10,
    "start_time": "2021-08-17T22:27:22.893Z"
   },
   {
    "duration": 11,
    "start_time": "2021-08-17T22:27:24.731Z"
   },
   {
    "duration": 606,
    "start_time": "2021-08-17T23:46:53.893Z"
   },
   {
    "duration": 588,
    "start_time": "2021-08-17T23:47:06.339Z"
   },
   {
    "duration": 532,
    "start_time": "2021-08-18T05:20:27.750Z"
   },
   {
    "duration": 441,
    "start_time": "2021-08-18T05:20:39.734Z"
   },
   {
    "duration": 376,
    "start_time": "2021-08-20T14:46:53.735Z"
   },
   {
    "duration": 394,
    "start_time": "2021-08-20T14:47:02.605Z"
   },
   {
    "duration": 5135,
    "start_time": "2021-08-20T14:47:24.513Z"
   },
   {
    "duration": 7626,
    "start_time": "2021-08-20T14:47:29.651Z"
   },
   {
    "duration": 2340,
    "start_time": "2021-08-20T14:47:37.279Z"
   },
   {
    "duration": 3,
    "start_time": "2021-08-20T14:47:39.622Z"
   },
   {
    "duration": 9,
    "start_time": "2021-08-20T14:47:39.627Z"
   },
   {
    "duration": 326,
    "start_time": "2021-08-20T14:47:39.638Z"
   },
   {
    "duration": 18,
    "start_time": "2021-08-20T14:47:39.967Z"
   },
   {
    "duration": 17,
    "start_time": "2021-08-20T14:47:39.989Z"
   },
   {
    "duration": 14,
    "start_time": "2021-08-20T14:47:40.009Z"
   },
   {
    "duration": 18,
    "start_time": "2021-08-20T14:47:40.026Z"
   },
   {
    "duration": 54,
    "start_time": "2021-08-20T14:47:40.046Z"
   },
   {
    "duration": 8,
    "start_time": "2021-08-20T14:47:40.102Z"
   },
   {
    "duration": 19,
    "start_time": "2021-08-20T14:47:40.113Z"
   },
   {
    "duration": 53,
    "start_time": "2021-08-20T14:47:40.134Z"
   },
   {
    "duration": 42,
    "start_time": "2021-08-20T14:47:40.190Z"
   },
   {
    "duration": 11,
    "start_time": "2021-08-20T14:47:40.234Z"
   },
   {
    "duration": 46,
    "start_time": "2021-08-20T14:47:40.247Z"
   },
   {
    "duration": 295,
    "start_time": "2021-08-20T14:47:40.296Z"
   },
   {
    "duration": 255,
    "start_time": "2021-08-20T14:47:40.593Z"
   },
   {
    "duration": 299,
    "start_time": "2021-08-20T14:47:40.850Z"
   },
   {
    "duration": 8,
    "start_time": "2021-08-20T14:47:41.151Z"
   },
   {
    "duration": 126,
    "start_time": "2021-08-20T14:47:41.161Z"
   },
   {
    "duration": 226,
    "start_time": "2021-08-20T14:47:41.292Z"
   },
   {
    "duration": 20,
    "start_time": "2021-08-20T14:47:41.521Z"
   },
   {
    "duration": 8,
    "start_time": "2021-08-20T14:47:41.543Z"
   },
   {
    "duration": 337,
    "start_time": "2021-08-20T14:47:41.554Z"
   },
   {
    "duration": 225,
    "start_time": "2021-08-20T14:47:41.893Z"
   },
   {
    "duration": 11,
    "start_time": "2021-08-20T14:47:42.120Z"
   },
   {
    "duration": 15,
    "start_time": "2021-08-20T14:47:42.134Z"
   },
   {
    "duration": 35,
    "start_time": "2021-08-20T14:47:42.152Z"
   },
   {
    "duration": 11,
    "start_time": "2021-08-20T14:47:42.189Z"
   },
   {
    "duration": 17,
    "start_time": "2021-08-20T14:47:42.202Z"
   },
   {
    "duration": 306,
    "start_time": "2021-08-20T14:47:42.222Z"
   },
   {
    "duration": 13,
    "start_time": "2021-08-20T14:47:42.531Z"
   },
   {
    "duration": 15,
    "start_time": "2021-08-20T14:47:42.546Z"
   },
   {
    "duration": 31,
    "start_time": "2021-08-20T14:47:42.563Z"
   },
   {
    "duration": 9,
    "start_time": "2021-08-20T14:47:42.597Z"
   },
   {
    "duration": 527,
    "start_time": "2021-08-20T14:47:42.609Z"
   },
   {
    "duration": 12,
    "start_time": "2021-08-20T14:47:43.140Z"
   },
   {
    "duration": 350,
    "start_time": "2021-08-20T14:47:43.154Z"
   },
   {
    "duration": 5,
    "start_time": "2021-08-20T14:47:43.507Z"
   },
   {
    "duration": 39,
    "start_time": "2021-08-20T14:47:43.515Z"
   },
   {
    "duration": 37,
    "start_time": "2021-08-20T14:47:43.557Z"
   },
   {
    "duration": 9,
    "start_time": "2021-08-20T14:47:43.597Z"
   },
   {
    "duration": 406,
    "start_time": "2021-08-20T14:47:43.609Z"
   },
   {
    "duration": 10,
    "start_time": "2021-08-20T14:47:44.019Z"
   },
   {
    "duration": 18,
    "start_time": "2021-08-20T14:47:44.032Z"
   },
   {
    "duration": 14,
    "start_time": "2021-08-20T14:47:44.053Z"
   },
   {
    "duration": 17,
    "start_time": "2021-08-20T14:47:44.086Z"
   },
   {
    "duration": 13,
    "start_time": "2021-08-20T14:47:44.106Z"
   },
   {
    "duration": 154,
    "start_time": "2021-08-20T14:47:44.122Z"
   },
   {
    "duration": 601,
    "start_time": "2021-08-20T14:47:44.279Z"
   },
   {
    "duration": 19,
    "start_time": "2021-08-20T14:47:44.884Z"
   },
   {
    "duration": 30,
    "start_time": "2021-08-20T14:48:21.094Z"
   },
   {
    "duration": 13,
    "start_time": "2021-08-20T14:48:27.349Z"
   },
   {
    "duration": 15,
    "start_time": "2021-08-20T14:50:44.734Z"
   },
   {
    "duration": 14,
    "start_time": "2021-08-20T14:50:47.195Z"
   },
   {
    "duration": 144,
    "start_time": "2021-08-20T14:59:15.368Z"
   },
   {
    "duration": 16,
    "start_time": "2021-08-20T14:59:24.322Z"
   },
   {
    "duration": 16,
    "start_time": "2021-08-20T15:00:36.132Z"
   },
   {
    "duration": 175,
    "start_time": "2021-08-20T15:12:39.297Z"
   },
   {
    "duration": 134,
    "start_time": "2021-08-20T15:13:46.510Z"
   },
   {
    "duration": 13,
    "start_time": "2021-08-20T15:18:57.402Z"
   },
   {
    "duration": 3,
    "start_time": "2021-08-20T15:24:19.513Z"
   },
   {
    "duration": 183,
    "start_time": "2021-08-20T15:28:13.101Z"
   },
   {
    "duration": 135,
    "start_time": "2021-08-20T15:28:24.877Z"
   },
   {
    "duration": 154,
    "start_time": "2021-08-20T15:29:04.800Z"
   },
   {
    "duration": 145,
    "start_time": "2021-08-20T15:29:13.581Z"
   },
   {
    "duration": 147,
    "start_time": "2021-08-20T15:29:23.452Z"
   },
   {
    "duration": 1150,
    "start_time": "2021-08-20T15:31:56.191Z"
   },
   {
    "duration": 211,
    "start_time": "2021-08-20T16:40:04.284Z"
   },
   {
    "duration": 213,
    "start_time": "2021-08-20T16:40:13.669Z"
   },
   {
    "duration": 209,
    "start_time": "2021-08-20T16:40:17.495Z"
   },
   {
    "duration": 171,
    "start_time": "2021-08-20T16:40:28.870Z"
   },
   {
    "duration": 221,
    "start_time": "2021-08-20T16:40:35.509Z"
   },
   {
    "duration": 198,
    "start_time": "2021-08-20T16:40:40.374Z"
   },
   {
    "duration": 298,
    "start_time": "2021-08-20T16:40:51.969Z"
   },
   {
    "duration": 116,
    "start_time": "2021-08-20T16:41:14.938Z"
   },
   {
    "duration": 136,
    "start_time": "2021-08-20T16:41:32.379Z"
   },
   {
    "duration": 129,
    "start_time": "2021-08-20T16:41:48.359Z"
   },
   {
    "duration": 270,
    "start_time": "2021-08-20T16:47:43.662Z"
   },
   {
    "duration": 286,
    "start_time": "2021-08-20T17:05:58.909Z"
   },
   {
    "duration": 400,
    "start_time": "2021-08-20T17:10:46.273Z"
   },
   {
    "duration": 218,
    "start_time": "2021-08-20T17:19:52.024Z"
   },
   {
    "duration": 283,
    "start_time": "2021-08-20T17:21:10.266Z"
   },
   {
    "duration": 276,
    "start_time": "2021-08-20T17:21:21.546Z"
   },
   {
    "duration": 274,
    "start_time": "2021-08-20T17:22:06.504Z"
   },
   {
    "duration": 122,
    "start_time": "2021-08-20T17:39:36.461Z"
   },
   {
    "duration": 3615,
    "start_time": "2021-08-20T17:42:06.411Z"
   },
   {
    "duration": 3205,
    "start_time": "2021-08-20T17:42:10.029Z"
   },
   {
    "duration": 1943,
    "start_time": "2021-08-20T17:42:13.237Z"
   },
   {
    "duration": 3,
    "start_time": "2021-08-20T17:42:15.183Z"
   },
   {
    "duration": 10,
    "start_time": "2021-08-20T17:42:15.189Z"
   },
   {
    "duration": 297,
    "start_time": "2021-08-20T17:42:15.201Z"
   },
   {
    "duration": 17,
    "start_time": "2021-08-20T17:42:15.500Z"
   },
   {
    "duration": 14,
    "start_time": "2021-08-20T17:42:15.521Z"
   },
   {
    "duration": 13,
    "start_time": "2021-08-20T17:42:15.538Z"
   },
   {
    "duration": 40,
    "start_time": "2021-08-20T17:42:15.554Z"
   },
   {
    "duration": 20,
    "start_time": "2021-08-20T17:42:15.596Z"
   },
   {
    "duration": 14,
    "start_time": "2021-08-20T17:42:15.619Z"
   },
   {
    "duration": 26,
    "start_time": "2021-08-20T17:42:15.635Z"
   },
   {
    "duration": 44,
    "start_time": "2021-08-20T17:42:15.664Z"
   },
   {
    "duration": 45,
    "start_time": "2021-08-20T17:42:15.711Z"
   },
   {
    "duration": 11,
    "start_time": "2021-08-20T17:42:15.786Z"
   },
   {
    "duration": 20,
    "start_time": "2021-08-20T17:42:15.799Z"
   },
   {
    "duration": 306,
    "start_time": "2021-08-20T17:42:15.822Z"
   },
   {
    "duration": 257,
    "start_time": "2021-08-20T17:42:16.131Z"
   },
   {
    "duration": 289,
    "start_time": "2021-08-20T17:42:16.391Z"
   },
   {
    "duration": 9,
    "start_time": "2021-08-20T17:42:16.686Z"
   },
   {
    "duration": 143,
    "start_time": "2021-08-20T17:42:16.697Z"
   },
   {
    "duration": 226,
    "start_time": "2021-08-20T17:42:16.845Z"
   },
   {
    "duration": 28,
    "start_time": "2021-08-20T17:42:17.074Z"
   },
   {
    "duration": 10,
    "start_time": "2021-08-20T17:42:17.105Z"
   },
   {
    "duration": 337,
    "start_time": "2021-08-20T17:42:17.118Z"
   },
   {
    "duration": 239,
    "start_time": "2021-08-20T17:42:17.459Z"
   },
   {
    "duration": 14,
    "start_time": "2021-08-20T17:42:17.701Z"
   },
   {
    "duration": 16,
    "start_time": "2021-08-20T17:42:17.718Z"
   },
   {
    "duration": 51,
    "start_time": "2021-08-20T17:42:17.737Z"
   },
   {
    "duration": 12,
    "start_time": "2021-08-20T17:42:17.791Z"
   },
   {
    "duration": 17,
    "start_time": "2021-08-20T17:42:17.806Z"
   },
   {
    "duration": 296,
    "start_time": "2021-08-20T17:42:17.826Z"
   },
   {
    "duration": 14,
    "start_time": "2021-08-20T17:42:18.124Z"
   },
   {
    "duration": 15,
    "start_time": "2021-08-20T17:42:18.141Z"
   },
   {
    "duration": 30,
    "start_time": "2021-08-20T17:42:18.159Z"
   },
   {
    "duration": 11,
    "start_time": "2021-08-20T17:42:18.193Z"
   },
   {
    "duration": 487,
    "start_time": "2021-08-20T17:42:18.206Z"
   },
   {
    "duration": 10,
    "start_time": "2021-08-20T17:42:18.695Z"
   },
   {
    "duration": 301,
    "start_time": "2021-08-20T17:42:18.708Z"
   },
   {
    "duration": 3,
    "start_time": "2021-08-20T17:42:19.012Z"
   },
   {
    "duration": 43,
    "start_time": "2021-08-20T17:42:19.019Z"
   },
   {
    "duration": 35,
    "start_time": "2021-08-20T17:42:19.065Z"
   },
   {
    "duration": 15,
    "start_time": "2021-08-20T17:42:19.103Z"
   },
   {
    "duration": 439,
    "start_time": "2021-08-20T17:42:19.120Z"
   },
   {
    "duration": 27,
    "start_time": "2021-08-20T17:42:19.562Z"
   },
   {
    "duration": 15,
    "start_time": "2021-08-20T17:42:19.592Z"
   },
   {
    "duration": 9,
    "start_time": "2021-08-20T17:42:19.610Z"
   },
   {
    "duration": 17,
    "start_time": "2021-08-20T17:42:19.622Z"
   },
   {
    "duration": 13,
    "start_time": "2021-08-20T17:42:19.641Z"
   },
   {
    "duration": 36,
    "start_time": "2021-08-20T17:42:19.656Z"
   },
   {
    "duration": 587,
    "start_time": "2021-08-20T17:42:19.694Z"
   },
   {
    "duration": 374,
    "start_time": "2021-08-20T17:42:20.285Z"
   },
   {
    "duration": 3464,
    "start_time": "2021-08-20T17:42:38.583Z"
   },
   {
    "duration": 3797,
    "start_time": "2021-08-20T17:42:42.051Z"
   },
   {
    "duration": 2063,
    "start_time": "2021-08-20T17:42:45.852Z"
   },
   {
    "duration": 4,
    "start_time": "2021-08-20T17:42:47.917Z"
   },
   {
    "duration": 6,
    "start_time": "2021-08-20T17:42:47.923Z"
   },
   {
    "duration": 294,
    "start_time": "2021-08-20T17:42:47.932Z"
   },
   {
    "duration": 17,
    "start_time": "2021-08-20T17:42:48.229Z"
   },
   {
    "duration": 11,
    "start_time": "2021-08-20T17:42:48.250Z"
   },
   {
    "duration": 19,
    "start_time": "2021-08-20T17:42:48.264Z"
   },
   {
    "duration": 16,
    "start_time": "2021-08-20T17:42:48.286Z"
   },
   {
    "duration": 17,
    "start_time": "2021-08-20T17:42:48.304Z"
   },
   {
    "duration": 8,
    "start_time": "2021-08-20T17:42:48.324Z"
   },
   {
    "duration": 14,
    "start_time": "2021-08-20T17:42:48.335Z"
   },
   {
    "duration": 55,
    "start_time": "2021-08-20T17:42:48.352Z"
   },
   {
    "duration": 44,
    "start_time": "2021-08-20T17:42:48.409Z"
   },
   {
    "duration": 36,
    "start_time": "2021-08-20T17:42:48.455Z"
   },
   {
    "duration": 19,
    "start_time": "2021-08-20T17:42:48.494Z"
   },
   {
    "duration": 4791,
    "start_time": "2021-08-21T08:20:39.130Z"
   },
   {
    "duration": 7512,
    "start_time": "2021-08-21T08:20:43.924Z"
   },
   {
    "duration": 2355,
    "start_time": "2021-08-21T08:20:51.440Z"
   },
   {
    "duration": 4,
    "start_time": "2021-08-21T08:20:53.799Z"
   },
   {
    "duration": 14,
    "start_time": "2021-08-21T08:20:53.805Z"
   },
   {
    "duration": 180,
    "start_time": "2021-08-21T08:20:53.822Z"
   },
   {
    "duration": 22,
    "start_time": "2021-08-21T08:20:54.005Z"
   },
   {
    "duration": 41,
    "start_time": "2021-08-21T08:20:54.031Z"
   },
   {
    "duration": 15,
    "start_time": "2021-08-21T08:20:54.075Z"
   },
   {
    "duration": 28,
    "start_time": "2021-08-21T08:20:54.092Z"
   },
   {
    "duration": 44,
    "start_time": "2021-08-21T08:20:54.123Z"
   },
   {
    "duration": 7,
    "start_time": "2021-08-21T08:20:54.170Z"
   },
   {
    "duration": 23,
    "start_time": "2021-08-21T08:20:54.179Z"
   },
   {
    "duration": 26,
    "start_time": "2021-08-21T08:20:54.206Z"
   },
   {
    "duration": 77,
    "start_time": "2021-08-21T08:20:54.236Z"
   },
   {
    "duration": 11,
    "start_time": "2021-08-21T08:20:54.316Z"
   },
   {
    "duration": 46,
    "start_time": "2021-08-21T08:20:54.331Z"
   },
   {
    "duration": 1133,
    "start_time": "2021-08-21T08:20:54.380Z"
   },
   {
    "duration": 252,
    "start_time": "2021-08-21T08:20:55.516Z"
   },
   {
    "duration": 371,
    "start_time": "2021-08-21T08:20:55.770Z"
   },
   {
    "duration": 9,
    "start_time": "2021-08-21T08:20:56.144Z"
   },
   {
    "duration": 152,
    "start_time": "2021-08-21T08:20:56.167Z"
   },
   {
    "duration": 235,
    "start_time": "2021-08-21T08:20:56.325Z"
   },
   {
    "duration": 497,
    "start_time": "2021-08-21T08:20:56.567Z"
   },
   {
    "duration": 5354,
    "start_time": "2021-08-21T08:20:51.713Z"
   },
   {
    "duration": 5348,
    "start_time": "2021-08-21T08:20:51.721Z"
   },
   {
    "duration": 5345,
    "start_time": "2021-08-21T08:20:51.725Z"
   },
   {
    "duration": 5343,
    "start_time": "2021-08-21T08:20:51.728Z"
   },
   {
    "duration": 5340,
    "start_time": "2021-08-21T08:20:51.733Z"
   },
   {
    "duration": 5337,
    "start_time": "2021-08-21T08:20:51.737Z"
   },
   {
    "duration": 5334,
    "start_time": "2021-08-21T08:20:51.741Z"
   },
   {
    "duration": 5332,
    "start_time": "2021-08-21T08:20:51.745Z"
   },
   {
    "duration": 5329,
    "start_time": "2021-08-21T08:20:51.749Z"
   },
   {
    "duration": 5326,
    "start_time": "2021-08-21T08:20:51.753Z"
   },
   {
    "duration": 5324,
    "start_time": "2021-08-21T08:20:51.757Z"
   },
   {
    "duration": 5322,
    "start_time": "2021-08-21T08:20:51.760Z"
   },
   {
    "duration": 5276,
    "start_time": "2021-08-21T08:20:51.807Z"
   },
   {
    "duration": 5274,
    "start_time": "2021-08-21T08:20:51.810Z"
   },
   {
    "duration": 5262,
    "start_time": "2021-08-21T08:20:51.824Z"
   },
   {
    "duration": 5257,
    "start_time": "2021-08-21T08:20:51.830Z"
   },
   {
    "duration": 5250,
    "start_time": "2021-08-21T08:20:51.838Z"
   },
   {
    "duration": 5247,
    "start_time": "2021-08-21T08:20:51.842Z"
   },
   {
    "duration": 5245,
    "start_time": "2021-08-21T08:20:51.846Z"
   },
   {
    "duration": 5241,
    "start_time": "2021-08-21T08:20:51.851Z"
   },
   {
    "duration": 5239,
    "start_time": "2021-08-21T08:20:51.855Z"
   },
   {
    "duration": 5236,
    "start_time": "2021-08-21T08:20:51.859Z"
   },
   {
    "duration": 5232,
    "start_time": "2021-08-21T08:20:51.864Z"
   },
   {
    "duration": 5230,
    "start_time": "2021-08-21T08:20:51.867Z"
   },
   {
    "duration": 5227,
    "start_time": "2021-08-21T08:20:51.872Z"
   },
   {
    "duration": 5224,
    "start_time": "2021-08-21T08:20:51.876Z"
   },
   {
    "duration": 5221,
    "start_time": "2021-08-21T08:20:51.880Z"
   },
   {
    "duration": 5218,
    "start_time": "2021-08-21T08:20:51.884Z"
   },
   {
    "duration": 5216,
    "start_time": "2021-08-21T08:20:51.888Z"
   },
   {
    "duration": 398,
    "start_time": "2021-08-21T10:47:38.861Z"
   },
   {
    "duration": 5299,
    "start_time": "2021-08-21T10:47:46.399Z"
   },
   {
    "duration": 7240,
    "start_time": "2021-08-21T10:47:51.701Z"
   },
   {
    "duration": 2326,
    "start_time": "2021-08-21T10:48:00.753Z"
   },
   {
    "duration": 4,
    "start_time": "2021-08-21T10:48:04.399Z"
   },
   {
    "duration": 4,
    "start_time": "2021-08-21T10:48:05.708Z"
   },
   {
    "duration": 280,
    "start_time": "2021-08-21T10:48:07.102Z"
   },
   {
    "duration": 18,
    "start_time": "2021-08-21T10:48:09.013Z"
   },
   {
    "duration": 557,
    "start_time": "2021-08-21T10:48:16.413Z"
   },
   {
    "duration": 16,
    "start_time": "2021-08-21T10:48:18.557Z"
   },
   {
    "duration": 22,
    "start_time": "2021-08-21T10:48:19.634Z"
   },
   {
    "duration": 6,
    "start_time": "2021-08-21T10:48:21.981Z"
   },
   {
    "duration": 15,
    "start_time": "2021-08-21T10:48:24.463Z"
   },
   {
    "duration": 8,
    "start_time": "2021-08-21T10:48:29.261Z"
   },
   {
    "duration": 13,
    "start_time": "2021-08-21T10:48:33.100Z"
   },
   {
    "duration": 292,
    "start_time": "2021-08-21T10:48:35.470Z"
   },
   {
    "duration": 286,
    "start_time": "2021-08-21T10:48:39.777Z"
   },
   {
    "duration": 9,
    "start_time": "2021-08-21T10:48:44.236Z"
   },
   {
    "duration": 126,
    "start_time": "2021-08-21T10:48:45.117Z"
   },
   {
    "duration": 210,
    "start_time": "2021-08-21T10:48:49.167Z"
   },
   {
    "duration": 21,
    "start_time": "2021-08-21T10:48:53.516Z"
   },
   {
    "duration": 11,
    "start_time": "2021-08-21T10:49:01.790Z"
   },
   {
    "duration": 213,
    "start_time": "2021-08-21T10:49:08.256Z"
   },
   {
    "duration": 3184,
    "start_time": "2021-08-21T10:49:16.461Z"
   },
   {
    "duration": 3192,
    "start_time": "2021-08-21T10:49:19.649Z"
   },
   {
    "duration": 1808,
    "start_time": "2021-08-21T10:49:22.844Z"
   },
   {
    "duration": 4,
    "start_time": "2021-08-21T10:49:24.654Z"
   },
   {
    "duration": 18,
    "start_time": "2021-08-21T10:49:24.660Z"
   },
   {
    "duration": 294,
    "start_time": "2021-08-21T10:49:24.680Z"
   },
   {
    "duration": 17,
    "start_time": "2021-08-21T10:49:24.977Z"
   },
   {
    "duration": 11,
    "start_time": "2021-08-21T10:49:24.998Z"
   },
   {
    "duration": 12,
    "start_time": "2021-08-21T10:49:25.012Z"
   },
   {
    "duration": 16,
    "start_time": "2021-08-21T10:49:25.026Z"
   },
   {
    "duration": 19,
    "start_time": "2021-08-21T10:49:25.045Z"
   },
   {
    "duration": 40,
    "start_time": "2021-08-21T10:49:25.066Z"
   },
   {
    "duration": 15,
    "start_time": "2021-08-21T10:49:25.109Z"
   },
   {
    "duration": 23,
    "start_time": "2021-08-21T10:49:25.126Z"
   },
   {
    "duration": 79,
    "start_time": "2021-08-21T10:49:25.151Z"
   },
   {
    "duration": 8,
    "start_time": "2021-08-21T10:49:25.232Z"
   },
   {
    "duration": 13,
    "start_time": "2021-08-21T10:49:25.242Z"
   },
   {
    "duration": 322,
    "start_time": "2021-08-21T10:49:25.257Z"
   },
   {
    "duration": 255,
    "start_time": "2021-08-21T10:49:25.581Z"
   },
   {
    "duration": 288,
    "start_time": "2021-08-21T10:49:25.838Z"
   },
   {
    "duration": 8,
    "start_time": "2021-08-21T10:49:26.129Z"
   },
   {
    "duration": 147,
    "start_time": "2021-08-21T10:49:26.140Z"
   },
   {
    "duration": 237,
    "start_time": "2021-08-21T10:49:26.293Z"
   },
   {
    "duration": 20,
    "start_time": "2021-08-21T10:49:26.533Z"
   },
   {
    "duration": 8,
    "start_time": "2021-08-21T10:49:26.556Z"
   },
   {
    "duration": 321,
    "start_time": "2021-08-21T10:49:26.567Z"
   },
   {
    "duration": 234,
    "start_time": "2021-08-21T10:49:26.891Z"
   },
   {
    "duration": 17,
    "start_time": "2021-08-21T10:49:27.128Z"
   },
   {
    "duration": 15,
    "start_time": "2021-08-21T10:49:27.148Z"
   },
   {
    "duration": 47,
    "start_time": "2021-08-21T10:49:27.166Z"
   },
   {
    "duration": 11,
    "start_time": "2021-08-21T10:49:27.221Z"
   },
   {
    "duration": 20,
    "start_time": "2021-08-21T10:49:27.235Z"
   },
   {
    "duration": 299,
    "start_time": "2021-08-21T10:49:27.258Z"
   },
   {
    "duration": 15,
    "start_time": "2021-08-21T10:49:27.561Z"
   },
   {
    "duration": 34,
    "start_time": "2021-08-21T10:49:27.579Z"
   },
   {
    "duration": 14,
    "start_time": "2021-08-21T10:49:27.616Z"
   },
   {
    "duration": 10,
    "start_time": "2021-08-21T10:49:27.633Z"
   },
   {
    "duration": 494,
    "start_time": "2021-08-21T10:49:27.646Z"
   },
   {
    "duration": 12,
    "start_time": "2021-08-21T10:49:28.143Z"
   },
   {
    "duration": 302,
    "start_time": "2021-08-21T10:49:28.158Z"
   },
   {
    "duration": 5,
    "start_time": "2021-08-21T10:49:28.463Z"
   },
   {
    "duration": 58,
    "start_time": "2021-08-21T10:49:28.471Z"
   },
   {
    "duration": 15,
    "start_time": "2021-08-21T10:49:28.531Z"
   },
   {
    "duration": 8,
    "start_time": "2021-08-21T10:49:28.548Z"
   },
   {
    "duration": 409,
    "start_time": "2021-08-21T10:49:28.558Z"
   },
   {
    "duration": 9,
    "start_time": "2021-08-21T10:49:28.969Z"
   },
   {
    "duration": 22,
    "start_time": "2021-08-21T10:49:28.981Z"
   },
   {
    "duration": 6,
    "start_time": "2021-08-21T10:49:29.006Z"
   },
   {
    "duration": 16,
    "start_time": "2021-08-21T10:49:29.015Z"
   },
   {
    "duration": 12,
    "start_time": "2021-08-21T10:49:29.034Z"
   },
   {
    "duration": 7,
    "start_time": "2021-08-21T10:49:29.049Z"
   },
   {
    "duration": 630,
    "start_time": "2021-08-21T10:49:29.058Z"
   },
   {
    "duration": 366,
    "start_time": "2021-08-21T10:49:29.691Z"
   },
   {
    "duration": 3314,
    "start_time": "2021-08-21T11:11:06.707Z"
   },
   {
    "duration": 3266,
    "start_time": "2021-08-21T11:11:10.024Z"
   },
   {
    "duration": 2035,
    "start_time": "2021-08-21T11:11:13.294Z"
   },
   {
    "duration": 3,
    "start_time": "2021-08-21T11:11:15.333Z"
   },
   {
    "duration": 8,
    "start_time": "2021-08-21T11:11:15.338Z"
   },
   {
    "duration": 332,
    "start_time": "2021-08-21T11:11:15.348Z"
   },
   {
    "duration": 16,
    "start_time": "2021-08-21T11:11:15.683Z"
   },
   {
    "duration": 12,
    "start_time": "2021-08-21T11:11:15.705Z"
   },
   {
    "duration": 13,
    "start_time": "2021-08-21T11:11:15.721Z"
   },
   {
    "duration": 16,
    "start_time": "2021-08-21T11:11:15.736Z"
   },
   {
    "duration": 51,
    "start_time": "2021-08-21T11:11:15.754Z"
   },
   {
    "duration": 7,
    "start_time": "2021-08-21T11:11:15.809Z"
   },
   {
    "duration": 19,
    "start_time": "2021-08-21T11:11:15.818Z"
   },
   {
    "duration": 22,
    "start_time": "2021-08-21T11:11:15.840Z"
   },
   {
    "duration": 81,
    "start_time": "2021-08-21T11:11:15.865Z"
   },
   {
    "duration": 7,
    "start_time": "2021-08-21T11:11:15.948Z"
   },
   {
    "duration": 24,
    "start_time": "2021-08-21T11:11:15.957Z"
   },
   {
    "duration": 317,
    "start_time": "2021-08-21T11:11:16.001Z"
   },
   {
    "duration": 275,
    "start_time": "2021-08-21T11:11:16.321Z"
   },
   {
    "duration": 304,
    "start_time": "2021-08-21T11:11:16.600Z"
   },
   {
    "duration": 12,
    "start_time": "2021-08-21T11:11:16.908Z"
   },
   {
    "duration": 154,
    "start_time": "2021-08-21T11:11:16.922Z"
   },
   {
    "duration": 232,
    "start_time": "2021-08-21T11:11:17.082Z"
   },
   {
    "duration": 20,
    "start_time": "2021-08-21T11:11:17.317Z"
   },
   {
    "duration": 7,
    "start_time": "2021-08-21T11:11:17.339Z"
   },
   {
    "duration": 334,
    "start_time": "2021-08-21T11:11:17.349Z"
   },
   {
    "duration": 222,
    "start_time": "2021-08-21T11:11:17.686Z"
   },
   {
    "duration": 13,
    "start_time": "2021-08-21T11:11:17.911Z"
   },
   {
    "duration": 14,
    "start_time": "2021-08-21T11:11:17.927Z"
   },
   {
    "duration": 12,
    "start_time": "2021-08-21T11:11:17.943Z"
   },
   {
    "duration": 49,
    "start_time": "2021-08-21T11:11:17.957Z"
   },
   {
    "duration": 27,
    "start_time": "2021-08-21T11:11:18.009Z"
   },
   {
    "duration": 273,
    "start_time": "2021-08-21T11:11:18.038Z"
   },
   {
    "duration": 15,
    "start_time": "2021-08-21T11:11:18.313Z"
   },
   {
    "duration": 17,
    "start_time": "2021-08-21T11:11:18.330Z"
   },
   {
    "duration": 13,
    "start_time": "2021-08-21T11:11:18.349Z"
   },
   {
    "duration": 39,
    "start_time": "2021-08-21T11:11:18.364Z"
   },
   {
    "duration": 506,
    "start_time": "2021-08-21T11:11:18.406Z"
   },
   {
    "duration": 11,
    "start_time": "2021-08-21T11:11:18.915Z"
   },
   {
    "duration": 304,
    "start_time": "2021-08-21T11:11:18.928Z"
   },
   {
    "duration": 5,
    "start_time": "2021-08-21T11:11:19.234Z"
   },
   {
    "duration": 41,
    "start_time": "2021-08-21T11:11:19.241Z"
   },
   {
    "duration": 30,
    "start_time": "2021-08-21T11:11:19.285Z"
   },
   {
    "duration": 15,
    "start_time": "2021-08-21T11:11:19.317Z"
   },
   {
    "duration": 419,
    "start_time": "2021-08-21T11:11:19.334Z"
   },
   {
    "duration": 10,
    "start_time": "2021-08-21T11:11:19.755Z"
   },
   {
    "duration": 13,
    "start_time": "2021-08-21T11:11:19.768Z"
   },
   {
    "duration": 21,
    "start_time": "2021-08-21T11:11:19.783Z"
   },
   {
    "duration": 26,
    "start_time": "2021-08-21T11:11:19.806Z"
   },
   {
    "duration": 16,
    "start_time": "2021-08-21T11:11:19.835Z"
   },
   {
    "duration": 16,
    "start_time": "2021-08-21T11:11:19.854Z"
   },
   {
    "duration": 589,
    "start_time": "2021-08-21T11:11:19.872Z"
   },
   {
    "duration": 384,
    "start_time": "2021-08-21T11:11:20.464Z"
   },
   {
    "duration": 5220,
    "start_time": "2021-08-22T10:31:53.672Z"
   },
   {
    "duration": 7464,
    "start_time": "2021-08-22T10:31:58.894Z"
   },
   {
    "duration": 2036,
    "start_time": "2021-08-22T10:32:06.362Z"
   },
   {
    "duration": 3,
    "start_time": "2021-08-22T10:32:08.400Z"
   },
   {
    "duration": 8,
    "start_time": "2021-08-22T10:32:08.405Z"
   },
   {
    "duration": 202,
    "start_time": "2021-08-22T10:32:08.415Z"
   },
   {
    "duration": 17,
    "start_time": "2021-08-22T10:32:08.619Z"
   },
   {
    "duration": 18,
    "start_time": "2021-08-22T10:32:08.640Z"
   },
   {
    "duration": 17,
    "start_time": "2021-08-22T10:32:08.661Z"
   },
   {
    "duration": 17,
    "start_time": "2021-08-22T10:32:08.680Z"
   },
   {
    "duration": 22,
    "start_time": "2021-08-22T10:32:08.700Z"
   },
   {
    "duration": 6,
    "start_time": "2021-08-22T10:32:08.725Z"
   },
   {
    "duration": 18,
    "start_time": "2021-08-22T10:32:08.733Z"
   },
   {
    "duration": 18,
    "start_time": "2021-08-22T10:32:08.753Z"
   },
   {
    "duration": 36,
    "start_time": "2021-08-22T10:32:08.773Z"
   },
   {
    "duration": 8,
    "start_time": "2021-08-22T10:32:08.812Z"
   },
   {
    "duration": 13,
    "start_time": "2021-08-22T10:32:08.823Z"
   },
   {
    "duration": 1850,
    "start_time": "2021-08-22T10:32:08.838Z"
   },
   {
    "duration": 427,
    "start_time": "2021-08-22T10:32:10.690Z"
   },
   {
    "duration": 816,
    "start_time": "2021-08-22T10:32:11.186Z"
   },
   {
    "duration": 8,
    "start_time": "2021-08-22T10:32:12.005Z"
   },
   {
    "duration": 274,
    "start_time": "2021-08-22T10:32:12.016Z"
   },
   {
    "duration": 249,
    "start_time": "2021-08-22T10:32:12.297Z"
   },
   {
    "duration": 777,
    "start_time": "2021-08-22T10:32:12.549Z"
   },
   {
    "duration": 5506,
    "start_time": "2021-08-22T10:32:07.823Z"
   },
   {
    "duration": 5501,
    "start_time": "2021-08-22T10:32:07.830Z"
   },
   {
    "duration": 5497,
    "start_time": "2021-08-22T10:32:07.835Z"
   },
   {
    "duration": 5492,
    "start_time": "2021-08-22T10:32:07.842Z"
   },
   {
    "duration": 5488,
    "start_time": "2021-08-22T10:32:07.847Z"
   },
   {
    "duration": 5484,
    "start_time": "2021-08-22T10:32:07.853Z"
   },
   {
    "duration": 5481,
    "start_time": "2021-08-22T10:32:07.858Z"
   },
   {
    "duration": 5477,
    "start_time": "2021-08-22T10:32:07.863Z"
   },
   {
    "duration": 5475,
    "start_time": "2021-08-22T10:32:07.867Z"
   },
   {
    "duration": 5471,
    "start_time": "2021-08-22T10:32:07.872Z"
   },
   {
    "duration": 5468,
    "start_time": "2021-08-22T10:32:07.877Z"
   },
   {
    "duration": 5465,
    "start_time": "2021-08-22T10:32:07.882Z"
   },
   {
    "duration": 5463,
    "start_time": "2021-08-22T10:32:07.886Z"
   },
   {
    "duration": 5460,
    "start_time": "2021-08-22T10:32:07.891Z"
   },
   {
    "duration": 5457,
    "start_time": "2021-08-22T10:32:07.896Z"
   },
   {
    "duration": 5454,
    "start_time": "2021-08-22T10:32:07.900Z"
   },
   {
    "duration": 5451,
    "start_time": "2021-08-22T10:32:07.905Z"
   },
   {
    "duration": 5448,
    "start_time": "2021-08-22T10:32:07.910Z"
   },
   {
    "duration": 5446,
    "start_time": "2021-08-22T10:32:07.914Z"
   },
   {
    "duration": 5444,
    "start_time": "2021-08-22T10:32:07.918Z"
   },
   {
    "duration": 5440,
    "start_time": "2021-08-22T10:32:07.923Z"
   },
   {
    "duration": 5438,
    "start_time": "2021-08-22T10:32:07.927Z"
   },
   {
    "duration": 5454,
    "start_time": "2021-08-22T10:32:07.932Z"
   },
   {
    "duration": 5452,
    "start_time": "2021-08-22T10:32:07.936Z"
   },
   {
    "duration": 5446,
    "start_time": "2021-08-22T10:32:07.943Z"
   },
   {
    "duration": 5444,
    "start_time": "2021-08-22T10:32:07.948Z"
   },
   {
    "duration": 5437,
    "start_time": "2021-08-22T10:32:07.956Z"
   },
   {
    "duration": 5433,
    "start_time": "2021-08-22T10:32:07.962Z"
   },
   {
    "duration": 5431,
    "start_time": "2021-08-22T10:32:07.966Z"
   },
   {
    "duration": 5036,
    "start_time": "2021-08-22T10:58:33.226Z"
   },
   {
    "duration": 3554,
    "start_time": "2021-08-22T10:58:38.265Z"
   },
   {
    "duration": 2239,
    "start_time": "2021-08-22T10:58:41.822Z"
   },
   {
    "duration": 3,
    "start_time": "2021-08-22T10:58:44.064Z"
   },
   {
    "duration": 12,
    "start_time": "2021-08-22T10:58:44.070Z"
   },
   {
    "duration": 306,
    "start_time": "2021-08-22T10:58:44.085Z"
   },
   {
    "duration": 19,
    "start_time": "2021-08-22T10:58:44.394Z"
   },
   {
    "duration": 18,
    "start_time": "2021-08-22T10:58:44.417Z"
   },
   {
    "duration": 19,
    "start_time": "2021-08-22T10:58:44.438Z"
   },
   {
    "duration": 17,
    "start_time": "2021-08-22T10:58:44.460Z"
   },
   {
    "duration": 18,
    "start_time": "2021-08-22T10:58:44.480Z"
   },
   {
    "duration": 13,
    "start_time": "2021-08-22T10:58:44.500Z"
   },
   {
    "duration": 17,
    "start_time": "2021-08-22T10:58:44.516Z"
   },
   {
    "duration": 20,
    "start_time": "2021-08-22T10:58:44.536Z"
   },
   {
    "duration": 38,
    "start_time": "2021-08-22T10:58:44.558Z"
   },
   {
    "duration": 10,
    "start_time": "2021-08-22T10:58:44.599Z"
   },
   {
    "duration": 16,
    "start_time": "2021-08-22T10:58:44.612Z"
   },
   {
    "duration": 6416,
    "start_time": "2021-08-22T10:58:44.632Z"
   },
   {
    "duration": 328,
    "start_time": "2021-08-22T10:58:51.051Z"
   },
   {
    "duration": 363,
    "start_time": "2021-08-22T10:58:51.386Z"
   },
   {
    "duration": 6,
    "start_time": "2021-08-22T10:58:51.751Z"
   },
   {
    "duration": 140,
    "start_time": "2021-08-22T10:58:51.760Z"
   },
   {
    "duration": 287,
    "start_time": "2021-08-22T10:58:51.906Z"
   },
   {
    "duration": 795,
    "start_time": "2021-08-22T10:58:52.197Z"
   },
   {
    "duration": 5498,
    "start_time": "2021-08-22T10:58:47.497Z"
   },
   {
    "duration": 5496,
    "start_time": "2021-08-22T10:58:47.501Z"
   },
   {
    "duration": 5491,
    "start_time": "2021-08-22T10:58:47.508Z"
   },
   {
    "duration": 5485,
    "start_time": "2021-08-22T10:58:47.516Z"
   },
   {
    "duration": 5478,
    "start_time": "2021-08-22T10:58:47.525Z"
   },
   {
    "duration": 5472,
    "start_time": "2021-08-22T10:58:47.533Z"
   },
   {
    "duration": 5464,
    "start_time": "2021-08-22T10:58:47.543Z"
   },
   {
    "duration": 5457,
    "start_time": "2021-08-22T10:58:47.552Z"
   },
   {
    "duration": 5449,
    "start_time": "2021-08-22T10:58:47.562Z"
   },
   {
    "duration": 5442,
    "start_time": "2021-08-22T10:58:47.571Z"
   },
   {
    "duration": 5435,
    "start_time": "2021-08-22T10:58:47.580Z"
   },
   {
    "duration": 5428,
    "start_time": "2021-08-22T10:58:47.589Z"
   },
   {
    "duration": 5411,
    "start_time": "2021-08-22T10:58:47.609Z"
   },
   {
    "duration": 5407,
    "start_time": "2021-08-22T10:58:47.615Z"
   },
   {
    "duration": 5404,
    "start_time": "2021-08-22T10:58:47.619Z"
   },
   {
    "duration": 5402,
    "start_time": "2021-08-22T10:58:47.623Z"
   },
   {
    "duration": 5398,
    "start_time": "2021-08-22T10:58:47.628Z"
   },
   {
    "duration": 5393,
    "start_time": "2021-08-22T10:58:47.634Z"
   },
   {
    "duration": 5385,
    "start_time": "2021-08-22T10:58:47.643Z"
   },
   {
    "duration": 5381,
    "start_time": "2021-08-22T10:58:47.649Z"
   },
   {
    "duration": 5374,
    "start_time": "2021-08-22T10:58:47.657Z"
   },
   {
    "duration": 5367,
    "start_time": "2021-08-22T10:58:47.665Z"
   },
   {
    "duration": 5411,
    "start_time": "2021-08-22T10:58:47.673Z"
   },
   {
    "duration": 5406,
    "start_time": "2021-08-22T10:58:47.680Z"
   },
   {
    "duration": 5400,
    "start_time": "2021-08-22T10:58:47.688Z"
   },
   {
    "duration": 5395,
    "start_time": "2021-08-22T10:58:47.695Z"
   },
   {
    "duration": 5387,
    "start_time": "2021-08-22T10:58:47.704Z"
   },
   {
    "duration": 5370,
    "start_time": "2021-08-22T10:58:47.723Z"
   },
   {
    "duration": 5366,
    "start_time": "2021-08-22T10:58:47.728Z"
   },
   {
    "duration": 3954,
    "start_time": "2021-08-22T11:03:22.440Z"
   },
   {
    "duration": 3468,
    "start_time": "2021-08-22T11:03:26.397Z"
   },
   {
    "duration": 2038,
    "start_time": "2021-08-22T11:03:29.868Z"
   },
   {
    "duration": 4,
    "start_time": "2021-08-22T11:03:31.910Z"
   },
   {
    "duration": 28,
    "start_time": "2021-08-22T11:03:31.916Z"
   },
   {
    "duration": 224,
    "start_time": "2021-08-22T11:03:31.947Z"
   },
   {
    "duration": 18,
    "start_time": "2021-08-22T11:03:32.174Z"
   },
   {
    "duration": 20,
    "start_time": "2021-08-22T11:03:32.197Z"
   },
   {
    "duration": 17,
    "start_time": "2021-08-22T11:03:32.220Z"
   },
   {
    "duration": 45,
    "start_time": "2021-08-22T11:03:32.239Z"
   },
   {
    "duration": 18,
    "start_time": "2021-08-22T11:03:32.286Z"
   },
   {
    "duration": 17,
    "start_time": "2021-08-22T11:03:32.306Z"
   },
   {
    "duration": 29,
    "start_time": "2021-08-22T11:03:32.325Z"
   },
   {
    "duration": 20,
    "start_time": "2021-08-22T11:03:32.356Z"
   },
   {
    "duration": 33,
    "start_time": "2021-08-22T11:03:32.378Z"
   },
   {
    "duration": 8,
    "start_time": "2021-08-22T11:03:32.413Z"
   },
   {
    "duration": 27,
    "start_time": "2021-08-22T11:03:32.424Z"
   },
   {
    "duration": 1349,
    "start_time": "2021-08-22T11:03:32.453Z"
   },
   {
    "duration": 267,
    "start_time": "2021-08-22T11:03:33.804Z"
   },
   {
    "duration": 376,
    "start_time": "2021-08-22T11:03:34.074Z"
   },
   {
    "duration": 6,
    "start_time": "2021-08-22T11:03:34.453Z"
   },
   {
    "duration": 154,
    "start_time": "2021-08-22T11:03:34.462Z"
   },
   {
    "duration": 234,
    "start_time": "2021-08-22T11:03:34.624Z"
   },
   {
    "duration": 476,
    "start_time": "2021-08-22T11:03:34.863Z"
   },
   {
    "duration": 5494,
    "start_time": "2021-08-22T11:03:29.849Z"
   },
   {
    "duration": 5488,
    "start_time": "2021-08-22T11:03:29.857Z"
   },
   {
    "duration": 5486,
    "start_time": "2021-08-22T11:03:29.861Z"
   },
   {
    "duration": 5483,
    "start_time": "2021-08-22T11:03:29.866Z"
   },
   {
    "duration": 5482,
    "start_time": "2021-08-22T11:03:29.870Z"
   },
   {
    "duration": 5479,
    "start_time": "2021-08-22T11:03:29.875Z"
   },
   {
    "duration": 5477,
    "start_time": "2021-08-22T11:03:29.879Z"
   },
   {
    "duration": 5474,
    "start_time": "2021-08-22T11:03:29.884Z"
   },
   {
    "duration": 5472,
    "start_time": "2021-08-22T11:03:29.889Z"
   },
   {
    "duration": 5469,
    "start_time": "2021-08-22T11:03:29.894Z"
   },
   {
    "duration": 5460,
    "start_time": "2021-08-22T11:03:29.905Z"
   },
   {
    "duration": 5456,
    "start_time": "2021-08-22T11:03:29.911Z"
   },
   {
    "duration": 5453,
    "start_time": "2021-08-22T11:03:29.916Z"
   },
   {
    "duration": 5450,
    "start_time": "2021-08-22T11:03:29.921Z"
   },
   {
    "duration": 5448,
    "start_time": "2021-08-22T11:03:29.925Z"
   },
   {
    "duration": 5444,
    "start_time": "2021-08-22T11:03:29.930Z"
   },
   {
    "duration": 5440,
    "start_time": "2021-08-22T11:03:29.936Z"
   },
   {
    "duration": 5437,
    "start_time": "2021-08-22T11:03:29.940Z"
   },
   {
    "duration": 5434,
    "start_time": "2021-08-22T11:03:29.944Z"
   },
   {
    "duration": 5432,
    "start_time": "2021-08-22T11:03:29.948Z"
   },
   {
    "duration": 5433,
    "start_time": "2021-08-22T11:03:29.952Z"
   },
   {
    "duration": 5430,
    "start_time": "2021-08-22T11:03:29.957Z"
   },
   {
    "duration": 5427,
    "start_time": "2021-08-22T11:03:29.961Z"
   },
   {
    "duration": 5425,
    "start_time": "2021-08-22T11:03:29.965Z"
   },
   {
    "duration": 5422,
    "start_time": "2021-08-22T11:03:29.969Z"
   },
   {
    "duration": 5419,
    "start_time": "2021-08-22T11:03:29.973Z"
   },
   {
    "duration": 5418,
    "start_time": "2021-08-22T11:03:29.976Z"
   },
   {
    "duration": 5415,
    "start_time": "2021-08-22T11:03:29.980Z"
   },
   {
    "duration": 5413,
    "start_time": "2021-08-22T11:03:29.984Z"
   },
   {
    "duration": 262,
    "start_time": "2021-08-22T13:14:14.751Z"
   },
   {
    "duration": 3259,
    "start_time": "2021-08-22T13:14:23.646Z"
   },
   {
    "duration": 4211,
    "start_time": "2021-08-22T13:14:30.123Z"
   },
   {
    "duration": 1620,
    "start_time": "2021-08-22T13:14:36.704Z"
   },
   {
    "duration": 3,
    "start_time": "2021-08-22T13:14:39.645Z"
   },
   {
    "duration": 2,
    "start_time": "2021-08-22T13:14:41.102Z"
   },
   {
    "duration": 174,
    "start_time": "2021-08-22T13:14:42.318Z"
   },
   {
    "duration": 14,
    "start_time": "2021-08-22T13:14:53.507Z"
   },
   {
    "duration": 15,
    "start_time": "2021-08-22T13:14:56.045Z"
   },
   {
    "duration": 6,
    "start_time": "2021-08-22T13:14:58.701Z"
   },
   {
    "duration": 9,
    "start_time": "2021-08-22T13:14:59.916Z"
   },
   {
    "duration": 6,
    "start_time": "2021-08-22T13:15:06.030Z"
   },
   {
    "duration": 11,
    "start_time": "2021-08-22T13:15:08.285Z"
   },
   {
    "duration": 164,
    "start_time": "2021-08-22T13:15:10.512Z"
   },
   {
    "duration": 128,
    "start_time": "2021-08-22T13:15:12.350Z"
   },
   {
    "duration": 151,
    "start_time": "2021-08-22T13:15:14.943Z"
   },
   {
    "duration": 6,
    "start_time": "2021-08-22T13:15:23.261Z"
   },
   {
    "duration": 72,
    "start_time": "2021-08-22T13:15:24.253Z"
   },
   {
    "duration": 126,
    "start_time": "2021-08-22T13:15:30.278Z"
   },
   {
    "duration": 15,
    "start_time": "2021-08-22T13:15:39.628Z"
   },
   {
    "duration": 80,
    "start_time": "2021-08-22T13:20:27.553Z"
   },
   {
    "duration": 680,
    "start_time": "2021-08-22T13:21:24.339Z"
   },
   {
    "duration": 6343,
    "start_time": "2021-08-22T13:23:04.771Z"
   },
   {
    "duration": 79,
    "start_time": "2021-08-22T13:23:30.822Z"
   },
   {
    "duration": 3,
    "start_time": "2021-08-22T13:23:37.267Z"
   },
   {
    "duration": 79,
    "start_time": "2021-08-22T13:23:39.294Z"
   },
   {
    "duration": 2349,
    "start_time": "2021-08-22T13:24:31.370Z"
   },
   {
    "duration": 1916,
    "start_time": "2021-08-22T13:24:37.546Z"
   },
   {
    "duration": 1952,
    "start_time": "2021-08-22T13:24:40.540Z"
   },
   {
    "duration": 1352,
    "start_time": "2021-08-22T13:24:43.708Z"
   },
   {
    "duration": 3,
    "start_time": "2021-08-22T13:24:47.418Z"
   },
   {
    "duration": 3,
    "start_time": "2021-08-22T13:24:48.218Z"
   },
   {
    "duration": 102,
    "start_time": "2021-08-22T13:24:49.114Z"
   },
   {
    "duration": 19,
    "start_time": "2021-08-22T13:24:52.490Z"
   },
   {
    "duration": 15,
    "start_time": "2021-08-22T13:24:54.554Z"
   },
   {
    "duration": 12,
    "start_time": "2021-08-22T13:24:56.426Z"
   },
   {
    "duration": 7,
    "start_time": "2021-08-22T13:25:00.778Z"
   },
   {
    "duration": 8,
    "start_time": "2021-08-22T13:25:02.826Z"
   },
   {
    "duration": 538,
    "start_time": "2021-08-22T13:25:04.860Z"
   },
   {
    "duration": 146,
    "start_time": "2021-08-22T13:25:06.971Z"
   },
   {
    "duration": 178,
    "start_time": "2021-08-22T13:25:09.402Z"
   },
   {
    "duration": 5,
    "start_time": "2021-08-22T13:25:12.266Z"
   },
   {
    "duration": 150,
    "start_time": "2021-08-22T13:25:13.116Z"
   },
   {
    "duration": 121,
    "start_time": "2021-08-22T13:25:15.036Z"
   },
   {
    "duration": 75,
    "start_time": "2021-08-22T13:25:24.010Z"
   },
   {
    "duration": 347,
    "start_time": "2021-08-22T13:29:10.174Z"
   },
   {
    "duration": 90,
    "start_time": "2021-08-22T13:31:08.144Z"
   },
   {
    "duration": 103,
    "start_time": "2021-08-22T13:32:19.920Z"
   },
   {
    "duration": 13,
    "start_time": "2021-08-22T13:32:27.488Z"
   },
   {
    "duration": 7,
    "start_time": "2021-08-22T13:32:35.792Z"
   },
   {
    "duration": 5,
    "start_time": "2021-08-22T13:32:41.600Z"
   },
   {
    "duration": 119,
    "start_time": "2021-08-22T13:32:42.706Z"
   },
   {
    "duration": 115,
    "start_time": "2021-08-22T13:35:31.333Z"
   },
   {
    "duration": 8,
    "start_time": "2021-08-22T13:35:37.268Z"
   },
   {
    "duration": 9,
    "start_time": "2021-08-22T13:35:39.635Z"
   },
   {
    "duration": 10,
    "start_time": "2021-08-22T13:35:45.074Z"
   },
   {
    "duration": 6,
    "start_time": "2021-08-22T13:35:47.490Z"
   },
   {
    "duration": 10,
    "start_time": "2021-08-22T13:35:48.978Z"
   },
   {
    "duration": 143,
    "start_time": "2021-08-22T13:35:50.642Z"
   },
   {
    "duration": 2796,
    "start_time": "2021-08-22T13:36:14.618Z"
   },
   {
    "duration": 1957,
    "start_time": "2021-08-22T13:36:17.417Z"
   },
   {
    "duration": 1960,
    "start_time": "2021-08-22T13:36:19.376Z"
   },
   {
    "duration": 1423,
    "start_time": "2021-08-22T13:36:21.338Z"
   },
   {
    "duration": 3,
    "start_time": "2021-08-22T13:36:22.762Z"
   },
   {
    "duration": 5,
    "start_time": "2021-08-22T13:36:22.767Z"
   },
   {
    "duration": 104,
    "start_time": "2021-08-22T13:36:22.774Z"
   },
   {
    "duration": 12,
    "start_time": "2021-08-22T13:36:22.880Z"
   },
   {
    "duration": 10,
    "start_time": "2021-08-22T13:36:22.894Z"
   },
   {
    "duration": 8,
    "start_time": "2021-08-22T13:36:22.905Z"
   },
   {
    "duration": 10,
    "start_time": "2021-08-22T13:36:22.914Z"
   },
   {
    "duration": 9,
    "start_time": "2021-08-22T13:36:22.925Z"
   },
   {
    "duration": 5,
    "start_time": "2021-08-22T13:36:22.936Z"
   },
   {
    "duration": 9,
    "start_time": "2021-08-22T13:36:22.943Z"
   },
   {
    "duration": 48,
    "start_time": "2021-08-22T13:36:22.954Z"
   },
   {
    "duration": 19,
    "start_time": "2021-08-22T13:36:23.004Z"
   },
   {
    "duration": 5,
    "start_time": "2021-08-22T13:36:23.024Z"
   },
   {
    "duration": 6,
    "start_time": "2021-08-22T13:36:23.031Z"
   },
   {
    "duration": 532,
    "start_time": "2021-08-22T13:36:23.039Z"
   },
   {
    "duration": 136,
    "start_time": "2021-08-22T13:36:23.573Z"
   },
   {
    "duration": 236,
    "start_time": "2021-08-22T13:36:23.710Z"
   },
   {
    "duration": 5,
    "start_time": "2021-08-22T13:36:23.947Z"
   },
   {
    "duration": 86,
    "start_time": "2021-08-22T13:36:23.955Z"
   },
   {
    "duration": 122,
    "start_time": "2021-08-22T13:36:24.043Z"
   },
   {
    "duration": 11,
    "start_time": "2021-08-22T13:36:24.167Z"
   },
   {
    "duration": 12,
    "start_time": "2021-08-22T13:36:24.180Z"
   },
   {
    "duration": 127,
    "start_time": "2021-08-22T13:36:24.194Z"
   },
   {
    "duration": 131,
    "start_time": "2021-08-22T13:36:24.323Z"
   },
   {
    "duration": 7,
    "start_time": "2021-08-22T13:36:24.456Z"
   },
   {
    "duration": 8,
    "start_time": "2021-08-22T13:36:24.465Z"
   },
   {
    "duration": 23,
    "start_time": "2021-08-22T13:36:24.474Z"
   },
   {
    "duration": 5,
    "start_time": "2021-08-22T13:36:24.498Z"
   },
   {
    "duration": 12,
    "start_time": "2021-08-22T13:36:24.505Z"
   },
   {
    "duration": 173,
    "start_time": "2021-08-22T13:36:24.518Z"
   },
   {
    "duration": 8,
    "start_time": "2021-08-22T13:36:24.693Z"
   },
   {
    "duration": 7,
    "start_time": "2021-08-22T13:36:24.702Z"
   },
   {
    "duration": 8,
    "start_time": "2021-08-22T13:36:24.710Z"
   },
   {
    "duration": 5,
    "start_time": "2021-08-22T13:36:24.719Z"
   },
   {
    "duration": 334,
    "start_time": "2021-08-22T13:36:24.725Z"
   },
   {
    "duration": 6,
    "start_time": "2021-08-22T13:36:25.061Z"
   },
   {
    "duration": 165,
    "start_time": "2021-08-22T13:36:25.069Z"
   },
   {
    "duration": 3,
    "start_time": "2021-08-22T13:36:25.236Z"
   },
   {
    "duration": 24,
    "start_time": "2021-08-22T13:36:25.240Z"
   },
   {
    "duration": 9,
    "start_time": "2021-08-22T13:36:25.265Z"
   },
   {
    "duration": 5,
    "start_time": "2021-08-22T13:36:25.292Z"
   },
   {
    "duration": 223,
    "start_time": "2021-08-22T13:36:25.299Z"
   },
   {
    "duration": 6,
    "start_time": "2021-08-22T13:36:25.523Z"
   },
   {
    "duration": 11,
    "start_time": "2021-08-22T13:36:25.530Z"
   },
   {
    "duration": 4,
    "start_time": "2021-08-22T13:36:25.542Z"
   },
   {
    "duration": 9,
    "start_time": "2021-08-22T13:36:25.547Z"
   },
   {
    "duration": 6,
    "start_time": "2021-08-22T13:36:25.558Z"
   },
   {
    "duration": 27,
    "start_time": "2021-08-22T13:36:25.565Z"
   },
   {
    "duration": 343,
    "start_time": "2021-08-22T13:36:25.594Z"
   },
   {
    "duration": 198,
    "start_time": "2021-08-22T13:36:25.939Z"
   },
   {
    "duration": 4001,
    "start_time": "2021-08-23T08:45:09.576Z"
   },
   {
    "duration": 4526,
    "start_time": "2021-08-23T08:45:13.580Z"
   },
   {
    "duration": 6691,
    "start_time": "2021-08-23T08:45:18.110Z"
   },
   {
    "duration": 2007,
    "start_time": "2021-08-23T08:45:24.804Z"
   },
   {
    "duration": 4,
    "start_time": "2021-08-23T08:45:26.813Z"
   },
   {
    "duration": 17,
    "start_time": "2021-08-23T08:45:26.819Z"
   },
   {
    "duration": 142,
    "start_time": "2021-08-23T08:45:26.839Z"
   },
   {
    "duration": 24,
    "start_time": "2021-08-23T08:45:26.985Z"
   },
   {
    "duration": 30,
    "start_time": "2021-08-23T08:45:27.012Z"
   },
   {
    "duration": 26,
    "start_time": "2021-08-23T08:45:27.045Z"
   },
   {
    "duration": 33,
    "start_time": "2021-08-23T08:45:27.073Z"
   },
   {
    "duration": 20,
    "start_time": "2021-08-23T08:45:27.108Z"
   },
   {
    "duration": 14,
    "start_time": "2021-08-23T08:45:27.131Z"
   },
   {
    "duration": 26,
    "start_time": "2021-08-23T08:45:27.149Z"
   },
   {
    "duration": 47,
    "start_time": "2021-08-23T08:45:27.178Z"
   },
   {
    "duration": 42,
    "start_time": "2021-08-23T08:45:27.228Z"
   },
   {
    "duration": 31,
    "start_time": "2021-08-23T08:45:27.273Z"
   },
   {
    "duration": 18,
    "start_time": "2021-08-23T08:45:27.307Z"
   },
   {
    "duration": 1029,
    "start_time": "2021-08-23T08:45:27.327Z"
   },
   {
    "duration": 245,
    "start_time": "2021-08-23T08:45:28.358Z"
   },
   {
    "duration": 341,
    "start_time": "2021-08-23T08:45:28.606Z"
   },
   {
    "duration": 7,
    "start_time": "2021-08-23T08:45:28.949Z"
   },
   {
    "duration": 141,
    "start_time": "2021-08-23T08:45:28.962Z"
   },
   {
    "duration": 228,
    "start_time": "2021-08-23T08:45:29.106Z"
   },
   {
    "duration": 18,
    "start_time": "2021-08-23T08:45:29.336Z"
   },
   {
    "duration": 6,
    "start_time": "2021-08-23T08:45:29.356Z"
   },
   {
    "duration": 239,
    "start_time": "2021-08-23T08:45:29.364Z"
   },
   {
    "duration": 234,
    "start_time": "2021-08-23T08:45:29.605Z"
   },
   {
    "duration": 11,
    "start_time": "2021-08-23T08:45:29.841Z"
   },
   {
    "duration": 13,
    "start_time": "2021-08-23T08:45:29.855Z"
   },
   {
    "duration": 37,
    "start_time": "2021-08-23T08:45:29.871Z"
   },
   {
    "duration": 10,
    "start_time": "2021-08-23T08:45:29.911Z"
   },
   {
    "duration": 16,
    "start_time": "2021-08-23T08:45:29.923Z"
   },
   {
    "duration": 310,
    "start_time": "2021-08-23T08:45:29.942Z"
   },
   {
    "duration": 13,
    "start_time": "2021-08-23T08:45:30.255Z"
   },
   {
    "duration": 33,
    "start_time": "2021-08-23T08:45:30.270Z"
   },
   {
    "duration": 27,
    "start_time": "2021-08-23T08:45:30.306Z"
   },
   {
    "duration": 28,
    "start_time": "2021-08-23T08:45:30.336Z"
   },
   {
    "duration": 517,
    "start_time": "2021-08-23T08:45:30.367Z"
   },
   {
    "duration": 17,
    "start_time": "2021-08-23T08:45:30.887Z"
   },
   {
    "duration": 290,
    "start_time": "2021-08-23T08:45:30.907Z"
   },
   {
    "duration": 3,
    "start_time": "2021-08-23T08:45:31.201Z"
   },
   {
    "duration": 58,
    "start_time": "2021-08-23T08:45:31.207Z"
   },
   {
    "duration": 34,
    "start_time": "2021-08-23T08:45:31.267Z"
   },
   {
    "duration": 37,
    "start_time": "2021-08-23T08:45:31.303Z"
   },
   {
    "duration": 412,
    "start_time": "2021-08-23T08:45:31.343Z"
   },
   {
    "duration": 8,
    "start_time": "2021-08-23T08:45:31.758Z"
   },
   {
    "duration": 28,
    "start_time": "2021-08-23T08:45:31.768Z"
   },
   {
    "duration": 14,
    "start_time": "2021-08-23T08:45:31.801Z"
   },
   {
    "duration": 18,
    "start_time": "2021-08-23T08:45:31.817Z"
   },
   {
    "duration": 16,
    "start_time": "2021-08-23T08:45:31.838Z"
   },
   {
    "duration": 20,
    "start_time": "2021-08-23T08:45:31.856Z"
   },
   {
    "duration": 562,
    "start_time": "2021-08-23T08:45:31.879Z"
   },
   {
    "duration": 393,
    "start_time": "2021-08-23T08:45:32.443Z"
   },
   {
    "duration": 4797,
    "start_time": "2021-08-23T12:38:21.846Z"
   },
   {
    "duration": 4442,
    "start_time": "2021-08-23T12:38:26.646Z"
   },
   {
    "duration": 4030,
    "start_time": "2021-08-23T12:38:31.092Z"
   },
   {
    "duration": 1863,
    "start_time": "2021-08-23T12:38:35.126Z"
   },
   {
    "duration": 4,
    "start_time": "2021-08-23T12:38:36.992Z"
   },
   {
    "duration": 18,
    "start_time": "2021-08-23T12:38:37.001Z"
   },
   {
    "duration": 344,
    "start_time": "2021-08-23T12:38:37.021Z"
   },
   {
    "duration": 16,
    "start_time": "2021-08-23T12:38:37.368Z"
   },
   {
    "duration": 17,
    "start_time": "2021-08-23T12:38:37.388Z"
   },
   {
    "duration": 17,
    "start_time": "2021-08-23T12:38:37.408Z"
   },
   {
    "duration": 23,
    "start_time": "2021-08-23T12:38:37.427Z"
   },
   {
    "duration": 17,
    "start_time": "2021-08-23T12:38:37.453Z"
   },
   {
    "duration": 20,
    "start_time": "2021-08-23T12:38:37.472Z"
   },
   {
    "duration": 21,
    "start_time": "2021-08-23T12:38:37.494Z"
   },
   {
    "duration": 20,
    "start_time": "2021-08-23T12:38:37.517Z"
   },
   {
    "duration": 42,
    "start_time": "2021-08-23T12:38:37.540Z"
   },
   {
    "duration": 21,
    "start_time": "2021-08-23T12:38:37.585Z"
   },
   {
    "duration": 14,
    "start_time": "2021-08-23T12:38:37.609Z"
   },
   {
    "duration": 1567,
    "start_time": "2021-08-23T12:38:37.625Z"
   },
   {
    "duration": 255,
    "start_time": "2021-08-23T12:38:39.195Z"
   },
   {
    "duration": 343,
    "start_time": "2021-08-23T12:38:39.453Z"
   },
   {
    "duration": 7,
    "start_time": "2021-08-23T12:38:39.798Z"
   },
   {
    "duration": 145,
    "start_time": "2021-08-23T12:38:39.808Z"
   },
   {
    "duration": 237,
    "start_time": "2021-08-23T12:38:39.956Z"
   },
   {
    "duration": 19,
    "start_time": "2021-08-23T12:38:40.196Z"
   },
   {
    "duration": 13,
    "start_time": "2021-08-23T12:38:40.218Z"
   },
   {
    "duration": 238,
    "start_time": "2021-08-23T12:38:40.237Z"
   },
   {
    "duration": 225,
    "start_time": "2021-08-23T12:38:40.478Z"
   },
   {
    "duration": 9,
    "start_time": "2021-08-23T12:38:40.705Z"
   },
   {
    "duration": 12,
    "start_time": "2021-08-23T12:38:40.717Z"
   },
   {
    "duration": 17,
    "start_time": "2021-08-23T12:38:40.731Z"
   },
   {
    "duration": 10,
    "start_time": "2021-08-23T12:38:40.750Z"
   },
   {
    "duration": 52,
    "start_time": "2021-08-23T12:38:40.762Z"
   },
   {
    "duration": 270,
    "start_time": "2021-08-23T12:38:40.816Z"
   },
   {
    "duration": 18,
    "start_time": "2021-08-23T12:38:41.089Z"
   },
   {
    "duration": 10,
    "start_time": "2021-08-23T12:38:41.110Z"
   },
   {
    "duration": 12,
    "start_time": "2021-08-23T12:38:41.122Z"
   },
   {
    "duration": 10,
    "start_time": "2021-08-23T12:38:41.136Z"
   },
   {
    "duration": 473,
    "start_time": "2021-08-23T12:38:41.148Z"
   },
   {
    "duration": 9,
    "start_time": "2021-08-23T12:38:41.623Z"
   },
   {
    "duration": 289,
    "start_time": "2021-08-23T12:38:41.634Z"
   },
   {
    "duration": 4,
    "start_time": "2021-08-23T12:38:41.925Z"
   },
   {
    "duration": 52,
    "start_time": "2021-08-23T12:38:41.931Z"
   },
   {
    "duration": 21,
    "start_time": "2021-08-23T12:38:41.985Z"
   },
   {
    "duration": 9,
    "start_time": "2021-08-23T12:38:42.008Z"
   },
   {
    "duration": 410,
    "start_time": "2021-08-23T12:38:42.019Z"
   },
   {
    "duration": 8,
    "start_time": "2021-08-23T12:38:42.431Z"
   },
   {
    "duration": 10,
    "start_time": "2021-08-23T12:38:42.441Z"
   },
   {
    "duration": 5,
    "start_time": "2021-08-23T12:38:42.454Z"
   },
   {
    "duration": 41,
    "start_time": "2021-08-23T12:38:42.461Z"
   },
   {
    "duration": 13,
    "start_time": "2021-08-23T12:38:42.504Z"
   },
   {
    "duration": 9,
    "start_time": "2021-08-23T12:38:42.519Z"
   },
   {
    "duration": 563,
    "start_time": "2021-08-23T12:38:42.530Z"
   },
   {
    "duration": 364,
    "start_time": "2021-08-23T12:38:43.096Z"
   },
   {
    "duration": 18,
    "start_time": "2021-08-23T12:50:58.233Z"
   },
   {
    "duration": 7,
    "start_time": "2021-08-23T12:50:59.537Z"
   },
   {
    "duration": 319,
    "start_time": "2021-08-23T14:22:06.629Z"
   },
   {
    "duration": 10766,
    "start_time": "2021-08-23T14:22:15.924Z"
   },
   {
    "duration": 4108,
    "start_time": "2021-08-23T14:22:26.694Z"
   },
   {
    "duration": 8121,
    "start_time": "2021-08-23T14:22:30.805Z"
   },
   {
    "duration": 2335,
    "start_time": "2021-08-23T14:22:38.929Z"
   },
   {
    "duration": 3,
    "start_time": "2021-08-23T14:22:41.267Z"
   },
   {
    "duration": 10,
    "start_time": "2021-08-23T14:22:41.272Z"
   },
   {
    "duration": 133,
    "start_time": "2021-08-23T14:22:41.284Z"
   },
   {
    "duration": 16,
    "start_time": "2021-08-23T14:22:41.420Z"
   },
   {
    "duration": 18,
    "start_time": "2021-08-23T14:22:41.439Z"
   },
   {
    "duration": 11,
    "start_time": "2021-08-23T14:22:41.459Z"
   },
   {
    "duration": 23,
    "start_time": "2021-08-23T14:22:41.472Z"
   },
   {
    "duration": 21,
    "start_time": "2021-08-23T14:22:41.498Z"
   },
   {
    "duration": 13,
    "start_time": "2021-08-23T14:22:41.521Z"
   },
   {
    "duration": 38,
    "start_time": "2021-08-23T14:22:41.536Z"
   },
   {
    "duration": 18,
    "start_time": "2021-08-23T14:22:41.576Z"
   },
   {
    "duration": 29,
    "start_time": "2021-08-23T14:22:41.597Z"
   },
   {
    "duration": 37,
    "start_time": "2021-08-23T14:22:41.628Z"
   },
   {
    "duration": 10,
    "start_time": "2021-08-23T14:22:41.668Z"
   },
   {
    "duration": 809,
    "start_time": "2021-08-23T14:22:41.681Z"
   },
   {
    "duration": 263,
    "start_time": "2021-08-23T14:22:42.493Z"
   },
   {
    "duration": 355,
    "start_time": "2021-08-23T14:22:42.763Z"
   },
   {
    "duration": 7,
    "start_time": "2021-08-23T14:22:43.120Z"
   },
   {
    "duration": 139,
    "start_time": "2021-08-23T14:22:43.133Z"
   },
   {
    "duration": 225,
    "start_time": "2021-08-23T14:22:43.276Z"
   },
   {
    "duration": 17,
    "start_time": "2021-08-23T14:22:43.504Z"
   },
   {
    "duration": 7,
    "start_time": "2021-08-23T14:22:43.524Z"
   },
   {
    "duration": 235,
    "start_time": "2021-08-23T14:22:43.533Z"
   },
   {
    "duration": 220,
    "start_time": "2021-08-23T14:22:43.771Z"
   },
   {
    "duration": 11,
    "start_time": "2021-08-23T14:22:43.993Z"
   },
   {
    "duration": 15,
    "start_time": "2021-08-23T14:22:44.006Z"
   },
   {
    "duration": 39,
    "start_time": "2021-08-23T14:22:44.023Z"
   },
   {
    "duration": 18,
    "start_time": "2021-08-23T14:22:44.064Z"
   },
   {
    "duration": 17,
    "start_time": "2021-08-23T14:22:44.085Z"
   },
   {
    "duration": 267,
    "start_time": "2021-08-23T14:22:44.104Z"
   },
   {
    "duration": 13,
    "start_time": "2021-08-23T14:22:44.373Z"
   },
   {
    "duration": 12,
    "start_time": "2021-08-23T14:22:44.388Z"
   },
   {
    "duration": 13,
    "start_time": "2021-08-23T14:22:44.402Z"
   },
   {
    "duration": 15,
    "start_time": "2021-08-23T14:22:44.417Z"
   },
   {
    "duration": 551,
    "start_time": "2021-08-23T14:22:44.434Z"
   },
   {
    "duration": 11,
    "start_time": "2021-08-23T14:22:44.988Z"
   },
   {
    "duration": 308,
    "start_time": "2021-08-23T14:22:45.002Z"
   },
   {
    "duration": 5,
    "start_time": "2021-08-23T14:22:45.313Z"
   },
   {
    "duration": 55,
    "start_time": "2021-08-23T14:22:45.321Z"
   },
   {
    "duration": 15,
    "start_time": "2021-08-23T14:22:45.378Z"
   },
   {
    "duration": 16,
    "start_time": "2021-08-23T14:22:45.396Z"
   },
   {
    "duration": 385,
    "start_time": "2021-08-23T14:22:45.415Z"
   },
   {
    "duration": 8,
    "start_time": "2021-08-23T14:22:45.803Z"
   },
   {
    "duration": 10,
    "start_time": "2021-08-23T14:22:45.814Z"
   },
   {
    "duration": 7,
    "start_time": "2021-08-23T14:22:45.827Z"
   },
   {
    "duration": 12,
    "start_time": "2021-08-23T14:22:45.861Z"
   },
   {
    "duration": 9,
    "start_time": "2021-08-23T14:22:45.876Z"
   },
   {
    "duration": 22,
    "start_time": "2021-08-23T14:22:45.888Z"
   },
   {
    "duration": 593,
    "start_time": "2021-08-23T14:22:45.912Z"
   },
   {
    "duration": 376,
    "start_time": "2021-08-23T14:22:46.507Z"
   },
   {
    "duration": 14,
    "start_time": "2021-08-23T14:22:59.790Z"
   },
   {
    "duration": 8,
    "start_time": "2021-08-23T14:23:08.038Z"
   },
   {
    "duration": 11,
    "start_time": "2021-08-23T14:23:23.551Z"
   },
   {
    "duration": 15,
    "start_time": "2021-08-23T14:23:38.518Z"
   },
   {
    "duration": 9,
    "start_time": "2021-08-23T14:23:44.958Z"
   }
  ],
  "kernelspec": {
   "display_name": "Python 3",
   "language": "python",
   "name": "python3"
  },
  "language_info": {
   "codemirror_mode": {
    "name": "ipython",
    "version": 3
   },
   "file_extension": ".py",
   "mimetype": "text/x-python",
   "name": "python",
   "nbconvert_exporter": "python",
   "pygments_lexer": "ipython3",
   "version": "3.8.8"
  },
  "toc": {
   "base_numbering": 1,
   "nav_menu": {},
   "number_sections": true,
   "sideBar": true,
   "skip_h1_title": true,
   "title_cell": "Table of Contents",
   "title_sidebar": "Contents",
   "toc_cell": false,
   "toc_position": {},
   "toc_section_display": true,
   "toc_window_display": false
  }
 },
 "nbformat": 4,
 "nbformat_minor": 2
}
