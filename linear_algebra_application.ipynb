{
 "cells": [
  {
   "cell_type": "markdown",
   "metadata": {},
   "source": [
    "# Statement"
   ]
  },
  {
   "cell_type": "markdown",
   "metadata": {},
   "source": [
    "The Sure Tomorrow insurance company wants to solve several tasks with the help of Machine Learning and you are asked to evaluate that possibility.\n",
    "\n",
    "- Task 1: Find customers who are similar to a given customer. This will help the company's agents with marketing.\n",
    "- Task 2: Predict whether a new customer is likely to receive an insurance benefit. Can a prediction model do better than a dummy model?\n",
    "- Task 3: Predict the number of insurance benefits a new customer is likely to receive using a linear regression model.\n",
    "- Task 4: Protect clients' personal data without breaking the model from the previous task. It's necessary to develop a data transformation algorithm that would make it hard to recover personal information if the data fell into the wrong hands. This is called data masking, or data obfuscation. But the data should be protected in such a way that the quality of machine learning models doesn't suffer -  prove that the algorithm works correctly."
   ]
  },
  {
   "cell_type": "markdown",
   "metadata": {},
   "source": [
    "# Data Preprocessing & Exploration\n",
    "\n",
    "## Initialization"
   ]
  },
  {
   "cell_type": "code",
   "execution_count": 1,
   "metadata": {},
   "outputs": [
    {
     "name": "stdout",
     "output_type": "stream",
     "text": [
      "Defaulting to user installation because normal site-packages is not writeable\n",
      "Requirement already up-to-date: scikit-learn in /home/jovyan/.local/lib/python3.7/site-packages (1.0.1)\n",
      "Requirement already satisfied, skipping upgrade: scipy>=1.1.0 in /opt/conda/lib/python3.7/site-packages (from scikit-learn) (1.4.1)\n",
      "Requirement already satisfied, skipping upgrade: joblib>=0.11 in /opt/conda/lib/python3.7/site-packages (from scikit-learn) (1.0.1)\n",
      "Requirement already satisfied, skipping upgrade: numpy>=1.14.6 in /opt/conda/lib/python3.7/site-packages (from scikit-learn) (1.19.5)\n",
      "Requirement already satisfied, skipping upgrade: threadpoolctl>=2.0.0 in /home/jovyan/.local/lib/python3.7/site-packages (from scikit-learn) (3.0.0)\n",
      "Note: you may need to restart the kernel to use updated packages.\n"
     ]
    }
   ],
   "source": [
    "pip install scikit-learn --upgrade"
   ]
  },
  {
   "cell_type": "code",
   "execution_count": 2,
   "metadata": {},
   "outputs": [],
   "source": [
    "import numpy as np\n",
    "import pandas as pd\n",
    "import matplotlib.pyplot as plt\n",
    "\n",
    "import seaborn as sns\n",
    "\n",
    "import sklearn.linear_model\n",
    "import sklearn.metrics\n",
    "import sklearn.neighbors\n",
    "import sklearn.preprocessing\n",
    "from sklearn.neighbors import KNeighborsClassifier\n",
    "from sklearn.model_selection import train_test_split\n",
    "\n",
    "import math \n",
    "from IPython.display import display\n",
    "\n",
    "import warnings\n",
    "warnings.filterwarnings(\"ignore\")"
   ]
  },
  {
   "cell_type": "code",
   "execution_count": 3,
   "metadata": {},
   "outputs": [],
   "source": [
    "pd.set_option('display.float_format', lambda x: '%.3f' % x)"
   ]
  },
  {
   "cell_type": "markdown",
   "metadata": {},
   "source": [
    "## Load Data"
   ]
  },
  {
   "cell_type": "markdown",
   "metadata": {},
   "source": [
    "Load data and conduct a basic check that it's free from obvious issues."
   ]
  },
  {
   "cell_type": "code",
   "execution_count": 4,
   "metadata": {},
   "outputs": [],
   "source": [
    "df = pd.read_csv('/datasets/insurance_us.csv')"
   ]
  },
  {
   "cell_type": "markdown",
   "metadata": {},
   "source": [
    "We rename the colums to make the code look more consistent with its style."
   ]
  },
  {
   "cell_type": "code",
   "execution_count": 5,
   "metadata": {},
   "outputs": [],
   "source": [
    "df = df.rename(columns={'Gender': 'gender', 'Age': 'age', 'Salary': 'income', 'Family members': 'family_members', 'Insurance benefits': 'insurance_benefits'})"
   ]
  },
  {
   "cell_type": "code",
   "execution_count": 6,
   "metadata": {},
   "outputs": [
    {
     "data": {
      "text/html": [
       "<div>\n",
       "<style scoped>\n",
       "    .dataframe tbody tr th:only-of-type {\n",
       "        vertical-align: middle;\n",
       "    }\n",
       "\n",
       "    .dataframe tbody tr th {\n",
       "        vertical-align: top;\n",
       "    }\n",
       "\n",
       "    .dataframe thead th {\n",
       "        text-align: right;\n",
       "    }\n",
       "</style>\n",
       "<table border=\"1\" class=\"dataframe\">\n",
       "  <thead>\n",
       "    <tr style=\"text-align: right;\">\n",
       "      <th></th>\n",
       "      <th>gender</th>\n",
       "      <th>age</th>\n",
       "      <th>income</th>\n",
       "      <th>family_members</th>\n",
       "      <th>insurance_benefits</th>\n",
       "    </tr>\n",
       "  </thead>\n",
       "  <tbody>\n",
       "    <tr>\n",
       "      <td>4719</td>\n",
       "      <td>1</td>\n",
       "      <td>38.000</td>\n",
       "      <td>26400.000</td>\n",
       "      <td>4</td>\n",
       "      <td>0</td>\n",
       "    </tr>\n",
       "    <tr>\n",
       "      <td>3008</td>\n",
       "      <td>0</td>\n",
       "      <td>44.000</td>\n",
       "      <td>35800.000</td>\n",
       "      <td>1</td>\n",
       "      <td>1</td>\n",
       "    </tr>\n",
       "    <tr>\n",
       "      <td>4277</td>\n",
       "      <td>0</td>\n",
       "      <td>25.000</td>\n",
       "      <td>37100.000</td>\n",
       "      <td>3</td>\n",
       "      <td>0</td>\n",
       "    </tr>\n",
       "    <tr>\n",
       "      <td>119</td>\n",
       "      <td>0</td>\n",
       "      <td>22.000</td>\n",
       "      <td>33800.000</td>\n",
       "      <td>1</td>\n",
       "      <td>0</td>\n",
       "    </tr>\n",
       "    <tr>\n",
       "      <td>736</td>\n",
       "      <td>0</td>\n",
       "      <td>20.000</td>\n",
       "      <td>39200.000</td>\n",
       "      <td>1</td>\n",
       "      <td>0</td>\n",
       "    </tr>\n",
       "    <tr>\n",
       "      <td>4578</td>\n",
       "      <td>0</td>\n",
       "      <td>19.000</td>\n",
       "      <td>40800.000</td>\n",
       "      <td>0</td>\n",
       "      <td>0</td>\n",
       "    </tr>\n",
       "    <tr>\n",
       "      <td>2796</td>\n",
       "      <td>1</td>\n",
       "      <td>22.000</td>\n",
       "      <td>33300.000</td>\n",
       "      <td>4</td>\n",
       "      <td>0</td>\n",
       "    </tr>\n",
       "    <tr>\n",
       "      <td>4002</td>\n",
       "      <td>1</td>\n",
       "      <td>20.000</td>\n",
       "      <td>48400.000</td>\n",
       "      <td>0</td>\n",
       "      <td>0</td>\n",
       "    </tr>\n",
       "    <tr>\n",
       "      <td>3100</td>\n",
       "      <td>0</td>\n",
       "      <td>33.000</td>\n",
       "      <td>36300.000</td>\n",
       "      <td>0</td>\n",
       "      <td>0</td>\n",
       "    </tr>\n",
       "    <tr>\n",
       "      <td>1894</td>\n",
       "      <td>0</td>\n",
       "      <td>36.000</td>\n",
       "      <td>28300.000</td>\n",
       "      <td>2</td>\n",
       "      <td>0</td>\n",
       "    </tr>\n",
       "  </tbody>\n",
       "</table>\n",
       "</div>"
      ],
      "text/plain": [
       "      gender    age    income  family_members  insurance_benefits\n",
       "4719       1 38.000 26400.000               4                   0\n",
       "3008       0 44.000 35800.000               1                   1\n",
       "4277       0 25.000 37100.000               3                   0\n",
       "119        0 22.000 33800.000               1                   0\n",
       "736        0 20.000 39200.000               1                   0\n",
       "4578       0 19.000 40800.000               0                   0\n",
       "2796       1 22.000 33300.000               4                   0\n",
       "4002       1 20.000 48400.000               0                   0\n",
       "3100       0 33.000 36300.000               0                   0\n",
       "1894       0 36.000 28300.000               2                   0"
      ]
     },
     "execution_count": 6,
     "metadata": {},
     "output_type": "execute_result"
    }
   ],
   "source": [
    "df.sample(10)"
   ]
  },
  {
   "cell_type": "code",
   "execution_count": 7,
   "metadata": {},
   "outputs": [
    {
     "name": "stdout",
     "output_type": "stream",
     "text": [
      "<class 'pandas.core.frame.DataFrame'>\n",
      "RangeIndex: 5000 entries, 0 to 4999\n",
      "Data columns (total 5 columns):\n",
      "gender                5000 non-null int64\n",
      "age                   5000 non-null float64\n",
      "income                5000 non-null float64\n",
      "family_members        5000 non-null int64\n",
      "insurance_benefits    5000 non-null int64\n",
      "dtypes: float64(2), int64(3)\n",
      "memory usage: 195.4 KB\n"
     ]
    }
   ],
   "source": [
    "df.info()"
   ]
  },
  {
   "cell_type": "code",
   "execution_count": 8,
   "metadata": {},
   "outputs": [],
   "source": [
    "# we may want to fix the age type (from float to int) though this is not critical\n",
    "# write your conversion here if you choose:\n",
    "df = df.astype({\"age\": int})"
   ]
  },
  {
   "cell_type": "code",
   "execution_count": 9,
   "metadata": {},
   "outputs": [
    {
     "name": "stdout",
     "output_type": "stream",
     "text": [
      "<class 'pandas.core.frame.DataFrame'>\n",
      "RangeIndex: 5000 entries, 0 to 4999\n",
      "Data columns (total 5 columns):\n",
      "gender                5000 non-null int64\n",
      "age                   5000 non-null int64\n",
      "income                5000 non-null float64\n",
      "family_members        5000 non-null int64\n",
      "insurance_benefits    5000 non-null int64\n",
      "dtypes: float64(1), int64(4)\n",
      "memory usage: 195.4 KB\n"
     ]
    }
   ],
   "source": [
    "# check to see that the conversion was successful\n",
    "df.info()"
   ]
  },
  {
   "cell_type": "markdown",
   "metadata": {},
   "source": [
    "We see there are no missing values"
   ]
  },
  {
   "cell_type": "code",
   "execution_count": 1,
   "metadata": {},
   "outputs": [],
   "source": [
    "# now have a look at the data's descriptive statistics. "
   ]
  },
  {
   "cell_type": "code",
   "execution_count": 11,
   "metadata": {},
   "outputs": [
    {
     "data": {
      "text/html": [
       "<div>\n",
       "<style scoped>\n",
       "    .dataframe tbody tr th:only-of-type {\n",
       "        vertical-align: middle;\n",
       "    }\n",
       "\n",
       "    .dataframe tbody tr th {\n",
       "        vertical-align: top;\n",
       "    }\n",
       "\n",
       "    .dataframe thead th {\n",
       "        text-align: right;\n",
       "    }\n",
       "</style>\n",
       "<table border=\"1\" class=\"dataframe\">\n",
       "  <thead>\n",
       "    <tr style=\"text-align: right;\">\n",
       "      <th></th>\n",
       "      <th>gender</th>\n",
       "      <th>age</th>\n",
       "      <th>income</th>\n",
       "      <th>family_members</th>\n",
       "      <th>insurance_benefits</th>\n",
       "    </tr>\n",
       "  </thead>\n",
       "  <tbody>\n",
       "    <tr>\n",
       "      <td>count</td>\n",
       "      <td>5000.000</td>\n",
       "      <td>5000.000</td>\n",
       "      <td>5000.000</td>\n",
       "      <td>5000.000</td>\n",
       "      <td>5000.000</td>\n",
       "    </tr>\n",
       "    <tr>\n",
       "      <td>mean</td>\n",
       "      <td>0.499</td>\n",
       "      <td>30.953</td>\n",
       "      <td>39916.360</td>\n",
       "      <td>1.194</td>\n",
       "      <td>0.148</td>\n",
       "    </tr>\n",
       "    <tr>\n",
       "      <td>std</td>\n",
       "      <td>0.500</td>\n",
       "      <td>8.441</td>\n",
       "      <td>9900.084</td>\n",
       "      <td>1.091</td>\n",
       "      <td>0.463</td>\n",
       "    </tr>\n",
       "    <tr>\n",
       "      <td>min</td>\n",
       "      <td>0.000</td>\n",
       "      <td>18.000</td>\n",
       "      <td>5300.000</td>\n",
       "      <td>0.000</td>\n",
       "      <td>0.000</td>\n",
       "    </tr>\n",
       "    <tr>\n",
       "      <td>25%</td>\n",
       "      <td>0.000</td>\n",
       "      <td>24.000</td>\n",
       "      <td>33300.000</td>\n",
       "      <td>0.000</td>\n",
       "      <td>0.000</td>\n",
       "    </tr>\n",
       "    <tr>\n",
       "      <td>50%</td>\n",
       "      <td>0.000</td>\n",
       "      <td>30.000</td>\n",
       "      <td>40200.000</td>\n",
       "      <td>1.000</td>\n",
       "      <td>0.000</td>\n",
       "    </tr>\n",
       "    <tr>\n",
       "      <td>75%</td>\n",
       "      <td>1.000</td>\n",
       "      <td>37.000</td>\n",
       "      <td>46600.000</td>\n",
       "      <td>2.000</td>\n",
       "      <td>0.000</td>\n",
       "    </tr>\n",
       "    <tr>\n",
       "      <td>max</td>\n",
       "      <td>1.000</td>\n",
       "      <td>65.000</td>\n",
       "      <td>79000.000</td>\n",
       "      <td>6.000</td>\n",
       "      <td>5.000</td>\n",
       "    </tr>\n",
       "  </tbody>\n",
       "</table>\n",
       "</div>"
      ],
      "text/plain": [
       "        gender      age    income  family_members  insurance_benefits\n",
       "count 5000.000 5000.000  5000.000        5000.000            5000.000\n",
       "mean     0.499   30.953 39916.360           1.194               0.148\n",
       "std      0.500    8.441  9900.084           1.091               0.463\n",
       "min      0.000   18.000  5300.000           0.000               0.000\n",
       "25%      0.000   24.000 33300.000           0.000               0.000\n",
       "50%      0.000   30.000 40200.000           1.000               0.000\n",
       "75%      1.000   37.000 46600.000           2.000               0.000\n",
       "max      1.000   65.000 79000.000           6.000               5.000"
      ]
     },
     "execution_count": 11,
     "metadata": {},
     "output_type": "execute_result"
    }
   ],
   "source": [
    "df.describe()"
   ]
  },
  {
   "cell_type": "markdown",
   "metadata": {},
   "source": [
    "- The descriptive statistics look valid, ages are between 18 to 65, gender is either 0 or 1, income seems valid and so do the amount of family members.\n",
    "- Regarding outliers, we might have some in our age, income and insurance_benefits, wil be handled."
   ]
  },
  {
   "cell_type": "code",
   "execution_count": 12,
   "metadata": {},
   "outputs": [
    {
     "data": {
      "text/plain": [
       "153"
      ]
     },
     "execution_count": 12,
     "metadata": {},
     "output_type": "execute_result"
    }
   ],
   "source": [
    "df.duplicated().sum()"
   ]
  },
  {
   "cell_type": "markdown",
   "metadata": {},
   "source": [
    "Since we have no unique identifier, we assume having duplicates is fine."
   ]
  },
  {
   "cell_type": "markdown",
   "metadata": {},
   "source": [
    "# Task 1. Similar Customers"
   ]
  },
  {
   "cell_type": "markdown",
   "metadata": {},
   "source": [
    "In the language of ML, it is necessary to develop a procedure that returns k nearest neighbors (objects) for a given object based on the distance between the objects."
   ]
  },
  {
   "cell_type": "markdown",
   "metadata": {},
   "source": [
    "We will Write a function that returns k nearest neighbors for an $n^{th}$ object based on a specified distance metric. The number of received insurance benefits should not be taken into account for this task. \n",
    "\n",
    "We can use a ready implementation of the kNN algorithm from scikit-learn (check [the link](https://scikit-learn.org/stable/modules/generated/sklearn.neighbors.NearestNeighbors.html#sklearn.neighbors.NearestNeighbors)) or use our own.\n",
    "\n",
    "We will Test it for four combination of two cases\n",
    "- Scaling\n",
    "  - the data is not scaled\n",
    "  - the data is scaled with the [MaxAbsScaler](https://scikit-learn.org/stable/modules/generated/sklearn.preprocessing.MaxAbsScaler.html) scaler\n",
    "- Distance Metrics\n",
    "  - Euclidean\n",
    "  - Manhattan\n",
    "\n",
    "We want to answer these questions:\n",
    "- Does the data being not scaled affect the kNN algorithm? If so, how does that appear?\n",
    "- How similar are the results using the Manhattan distance metric (regardless of the scaling)?"
   ]
  },
  {
   "cell_type": "code",
   "execution_count": 14,
   "metadata": {},
   "outputs": [],
   "source": [
    "feature_names = ['gender', 'age', 'income', 'family_members']"
   ]
  },
  {
   "cell_type": "code",
   "execution_count": 15,
   "metadata": {},
   "outputs": [],
   "source": [
    "#importing the kNN algorithm from scikit-learn\n",
    "from sklearn.neighbors import NearestNeighbors"
   ]
  },
  {
   "cell_type": "code",
   "execution_count": 16,
   "metadata": {},
   "outputs": [],
   "source": [
    "def get_knn(df, n, k, metric):\n",
    "    \n",
    "    \"\"\"\n",
    "    Returns k nearest neighbors\n",
    "\n",
    "    :param df: pandas DataFrame used to find similar objects within\n",
    "    :param n: object no for which the nearest neighbours are looked for\n",
    "    :param k: the number of the nearest neighbours to return\n",
    "    :param metric: name of distance metric\n",
    "    \"\"\"\n",
    "\n",
    "    nbrs = NearestNeighbors(n_neighbors=k, metric=metric)\n",
    "    nbrs.fit(df[feature_names])\n",
    "    \n",
    "    nbrs_distances, nbrs_indices = nbrs.kneighbors([df.iloc[n][feature_names]], k, return_distance=True)\n",
    "    \n",
    "    df_res = pd.concat([\n",
    "        df.iloc[nbrs_indices[0]], \n",
    "        pd.DataFrame(nbrs_distances.T, index=nbrs_indices[0], columns=['distance'])], axis=1)\n",
    "    \n",
    "    return df_res"
   ]
  },
  {
   "cell_type": "markdown",
   "metadata": {},
   "source": [
    "Scaling the data."
   ]
  },
  {
   "cell_type": "code",
   "execution_count": 17,
   "metadata": {},
   "outputs": [],
   "source": [
    "feature_names = ['gender', 'age', 'income', 'family_members']\n",
    "\n",
    "transformer_mas = sklearn.preprocessing.MaxAbsScaler().fit(df[feature_names].to_numpy())\n",
    "\n",
    "df_scaled = df.copy()\n",
    "df_scaled.loc[:, feature_names] = transformer_mas.transform(df[feature_names].to_numpy())"
   ]
  },
  {
   "cell_type": "code",
   "execution_count": 18,
   "metadata": {},
   "outputs": [
    {
     "data": {
      "text/html": [
       "<div>\n",
       "<style scoped>\n",
       "    .dataframe tbody tr th:only-of-type {\n",
       "        vertical-align: middle;\n",
       "    }\n",
       "\n",
       "    .dataframe tbody tr th {\n",
       "        vertical-align: top;\n",
       "    }\n",
       "\n",
       "    .dataframe thead th {\n",
       "        text-align: right;\n",
       "    }\n",
       "</style>\n",
       "<table border=\"1\" class=\"dataframe\">\n",
       "  <thead>\n",
       "    <tr style=\"text-align: right;\">\n",
       "      <th></th>\n",
       "      <th>gender</th>\n",
       "      <th>age</th>\n",
       "      <th>income</th>\n",
       "      <th>family_members</th>\n",
       "      <th>insurance_benefits</th>\n",
       "    </tr>\n",
       "  </thead>\n",
       "  <tbody>\n",
       "    <tr>\n",
       "      <td>1517</td>\n",
       "      <td>0.000</td>\n",
       "      <td>0.492</td>\n",
       "      <td>0.573</td>\n",
       "      <td>0.167</td>\n",
       "      <td>0</td>\n",
       "    </tr>\n",
       "    <tr>\n",
       "      <td>2303</td>\n",
       "      <td>0.000</td>\n",
       "      <td>0.431</td>\n",
       "      <td>0.544</td>\n",
       "      <td>0.000</td>\n",
       "      <td>0</td>\n",
       "    </tr>\n",
       "    <tr>\n",
       "      <td>1169</td>\n",
       "      <td>1.000</td>\n",
       "      <td>0.462</td>\n",
       "      <td>0.287</td>\n",
       "      <td>0.167</td>\n",
       "      <td>0</td>\n",
       "    </tr>\n",
       "    <tr>\n",
       "      <td>1654</td>\n",
       "      <td>0.000</td>\n",
       "      <td>0.677</td>\n",
       "      <td>0.486</td>\n",
       "      <td>0.167</td>\n",
       "      <td>1</td>\n",
       "    </tr>\n",
       "    <tr>\n",
       "      <td>1197</td>\n",
       "      <td>1.000</td>\n",
       "      <td>0.323</td>\n",
       "      <td>0.767</td>\n",
       "      <td>0.333</td>\n",
       "      <td>0</td>\n",
       "    </tr>\n",
       "  </tbody>\n",
       "</table>\n",
       "</div>"
      ],
      "text/plain": [
       "      gender   age  income  family_members  insurance_benefits\n",
       "1517   0.000 0.492   0.573           0.167                   0\n",
       "2303   0.000 0.431   0.544           0.000                   0\n",
       "1169   1.000 0.462   0.287           0.167                   0\n",
       "1654   0.000 0.677   0.486           0.167                   1\n",
       "1197   1.000 0.323   0.767           0.333                   0"
      ]
     },
     "execution_count": 18,
     "metadata": {},
     "output_type": "execute_result"
    }
   ],
   "source": [
    "df_scaled.sample(5)"
   ]
  },
  {
   "cell_type": "markdown",
   "metadata": {},
   "source": [
    "Now, let's get similar records for a given one for every combination"
   ]
  },
  {
   "cell_type": "markdown",
   "metadata": {},
   "source": [
    "un-scaled euclidean distance:"
   ]
  },
  {
   "cell_type": "code",
   "execution_count": 19,
   "metadata": {},
   "outputs": [
    {
     "data": {
      "text/html": [
       "<div>\n",
       "<style scoped>\n",
       "    .dataframe tbody tr th:only-of-type {\n",
       "        vertical-align: middle;\n",
       "    }\n",
       "\n",
       "    .dataframe tbody tr th {\n",
       "        vertical-align: top;\n",
       "    }\n",
       "\n",
       "    .dataframe thead th {\n",
       "        text-align: right;\n",
       "    }\n",
       "</style>\n",
       "<table border=\"1\" class=\"dataframe\">\n",
       "  <thead>\n",
       "    <tr style=\"text-align: right;\">\n",
       "      <th></th>\n",
       "      <th>gender</th>\n",
       "      <th>age</th>\n",
       "      <th>income</th>\n",
       "      <th>family_members</th>\n",
       "      <th>distance</th>\n",
       "    </tr>\n",
       "  </thead>\n",
       "  <tbody>\n",
       "    <tr>\n",
       "      <td>100</td>\n",
       "      <td>0</td>\n",
       "      <td>19</td>\n",
       "      <td>37300.000</td>\n",
       "      <td>1</td>\n",
       "      <td>0.000</td>\n",
       "    </tr>\n",
       "    <tr>\n",
       "      <td>1831</td>\n",
       "      <td>0</td>\n",
       "      <td>20</td>\n",
       "      <td>37300.000</td>\n",
       "      <td>2</td>\n",
       "      <td>1.414</td>\n",
       "    </tr>\n",
       "    <tr>\n",
       "      <td>2624</td>\n",
       "      <td>1</td>\n",
       "      <td>19</td>\n",
       "      <td>37300.000</td>\n",
       "      <td>0</td>\n",
       "      <td>1.414</td>\n",
       "    </tr>\n",
       "    <tr>\n",
       "      <td>4278</td>\n",
       "      <td>1</td>\n",
       "      <td>19</td>\n",
       "      <td>37300.000</td>\n",
       "      <td>2</td>\n",
       "      <td>1.414</td>\n",
       "    </tr>\n",
       "    <tr>\n",
       "      <td>1086</td>\n",
       "      <td>0</td>\n",
       "      <td>22</td>\n",
       "      <td>37300.000</td>\n",
       "      <td>3</td>\n",
       "      <td>3.606</td>\n",
       "    </tr>\n",
       "    <tr>\n",
       "      <td>1806</td>\n",
       "      <td>1</td>\n",
       "      <td>23</td>\n",
       "      <td>37300.000</td>\n",
       "      <td>0</td>\n",
       "      <td>4.243</td>\n",
       "    </tr>\n",
       "  </tbody>\n",
       "</table>\n",
       "</div>"
      ],
      "text/plain": [
       "      gender  age    income  family_members  distance\n",
       "100        0   19 37300.000               1     0.000\n",
       "1831       0   20 37300.000               2     1.414\n",
       "2624       1   19 37300.000               0     1.414\n",
       "4278       1   19 37300.000               2     1.414\n",
       "1086       0   22 37300.000               3     3.606\n",
       "1806       1   23 37300.000               0     4.243"
      ]
     },
     "execution_count": 19,
     "metadata": {},
     "output_type": "execute_result"
    }
   ],
   "source": [
    "get_knn(df[feature_names], 100, 6, 'euclidean')"
   ]
  },
  {
   "cell_type": "markdown",
   "metadata": {},
   "source": [
    "scaled euclidean distance:"
   ]
  },
  {
   "cell_type": "code",
   "execution_count": 20,
   "metadata": {},
   "outputs": [
    {
     "data": {
      "text/html": [
       "<div>\n",
       "<style scoped>\n",
       "    .dataframe tbody tr th:only-of-type {\n",
       "        vertical-align: middle;\n",
       "    }\n",
       "\n",
       "    .dataframe tbody tr th {\n",
       "        vertical-align: top;\n",
       "    }\n",
       "\n",
       "    .dataframe thead th {\n",
       "        text-align: right;\n",
       "    }\n",
       "</style>\n",
       "<table border=\"1\" class=\"dataframe\">\n",
       "  <thead>\n",
       "    <tr style=\"text-align: right;\">\n",
       "      <th></th>\n",
       "      <th>gender</th>\n",
       "      <th>age</th>\n",
       "      <th>income</th>\n",
       "      <th>family_members</th>\n",
       "      <th>distance</th>\n",
       "    </tr>\n",
       "  </thead>\n",
       "  <tbody>\n",
       "    <tr>\n",
       "      <td>100</td>\n",
       "      <td>0.000</td>\n",
       "      <td>0.292</td>\n",
       "      <td>0.472</td>\n",
       "      <td>0.167</td>\n",
       "      <td>0.000</td>\n",
       "    </tr>\n",
       "    <tr>\n",
       "      <td>4915</td>\n",
       "      <td>0.000</td>\n",
       "      <td>0.292</td>\n",
       "      <td>0.477</td>\n",
       "      <td>0.167</td>\n",
       "      <td>0.005</td>\n",
       "    </tr>\n",
       "    <tr>\n",
       "      <td>243</td>\n",
       "      <td>0.000</td>\n",
       "      <td>0.292</td>\n",
       "      <td>0.467</td>\n",
       "      <td>0.167</td>\n",
       "      <td>0.005</td>\n",
       "    </tr>\n",
       "    <tr>\n",
       "      <td>1323</td>\n",
       "      <td>0.000</td>\n",
       "      <td>0.292</td>\n",
       "      <td>0.457</td>\n",
       "      <td>0.167</td>\n",
       "      <td>0.015</td>\n",
       "    </tr>\n",
       "    <tr>\n",
       "      <td>811</td>\n",
       "      <td>0.000</td>\n",
       "      <td>0.308</td>\n",
       "      <td>0.471</td>\n",
       "      <td>0.167</td>\n",
       "      <td>0.015</td>\n",
       "    </tr>\n",
       "    <tr>\n",
       "      <td>4843</td>\n",
       "      <td>0.000</td>\n",
       "      <td>0.308</td>\n",
       "      <td>0.470</td>\n",
       "      <td>0.167</td>\n",
       "      <td>0.016</td>\n",
       "    </tr>\n",
       "  </tbody>\n",
       "</table>\n",
       "</div>"
      ],
      "text/plain": [
       "      gender   age  income  family_members  distance\n",
       "100    0.000 0.292   0.472           0.167     0.000\n",
       "4915   0.000 0.292   0.477           0.167     0.005\n",
       "243    0.000 0.292   0.467           0.167     0.005\n",
       "1323   0.000 0.292   0.457           0.167     0.015\n",
       "811    0.000 0.308   0.471           0.167     0.015\n",
       "4843   0.000 0.308   0.470           0.167     0.016"
      ]
     },
     "execution_count": 20,
     "metadata": {},
     "output_type": "execute_result"
    }
   ],
   "source": [
    "get_knn(df_scaled[feature_names], 100, 6, 'euclidean')"
   ]
  },
  {
   "cell_type": "markdown",
   "metadata": {},
   "source": [
    "un-scaled manhattan distance:"
   ]
  },
  {
   "cell_type": "code",
   "execution_count": 21,
   "metadata": {},
   "outputs": [
    {
     "data": {
      "text/html": [
       "<div>\n",
       "<style scoped>\n",
       "    .dataframe tbody tr th:only-of-type {\n",
       "        vertical-align: middle;\n",
       "    }\n",
       "\n",
       "    .dataframe tbody tr th {\n",
       "        vertical-align: top;\n",
       "    }\n",
       "\n",
       "    .dataframe thead th {\n",
       "        text-align: right;\n",
       "    }\n",
       "</style>\n",
       "<table border=\"1\" class=\"dataframe\">\n",
       "  <thead>\n",
       "    <tr style=\"text-align: right;\">\n",
       "      <th></th>\n",
       "      <th>gender</th>\n",
       "      <th>age</th>\n",
       "      <th>income</th>\n",
       "      <th>family_members</th>\n",
       "      <th>distance</th>\n",
       "    </tr>\n",
       "  </thead>\n",
       "  <tbody>\n",
       "    <tr>\n",
       "      <td>100</td>\n",
       "      <td>0</td>\n",
       "      <td>19</td>\n",
       "      <td>37300.000</td>\n",
       "      <td>1</td>\n",
       "      <td>0.000</td>\n",
       "    </tr>\n",
       "    <tr>\n",
       "      <td>1831</td>\n",
       "      <td>0</td>\n",
       "      <td>20</td>\n",
       "      <td>37300.000</td>\n",
       "      <td>2</td>\n",
       "      <td>2.000</td>\n",
       "    </tr>\n",
       "    <tr>\n",
       "      <td>2624</td>\n",
       "      <td>1</td>\n",
       "      <td>19</td>\n",
       "      <td>37300.000</td>\n",
       "      <td>0</td>\n",
       "      <td>2.000</td>\n",
       "    </tr>\n",
       "    <tr>\n",
       "      <td>4278</td>\n",
       "      <td>1</td>\n",
       "      <td>19</td>\n",
       "      <td>37300.000</td>\n",
       "      <td>2</td>\n",
       "      <td>2.000</td>\n",
       "    </tr>\n",
       "    <tr>\n",
       "      <td>1086</td>\n",
       "      <td>0</td>\n",
       "      <td>22</td>\n",
       "      <td>37300.000</td>\n",
       "      <td>3</td>\n",
       "      <td>5.000</td>\n",
       "    </tr>\n",
       "    <tr>\n",
       "      <td>1806</td>\n",
       "      <td>1</td>\n",
       "      <td>23</td>\n",
       "      <td>37300.000</td>\n",
       "      <td>0</td>\n",
       "      <td>6.000</td>\n",
       "    </tr>\n",
       "  </tbody>\n",
       "</table>\n",
       "</div>"
      ],
      "text/plain": [
       "      gender  age    income  family_members  distance\n",
       "100        0   19 37300.000               1     0.000\n",
       "1831       0   20 37300.000               2     2.000\n",
       "2624       1   19 37300.000               0     2.000\n",
       "4278       1   19 37300.000               2     2.000\n",
       "1086       0   22 37300.000               3     5.000\n",
       "1806       1   23 37300.000               0     6.000"
      ]
     },
     "execution_count": 21,
     "metadata": {},
     "output_type": "execute_result"
    }
   ],
   "source": [
    "get_knn(df[feature_names], 100, 6, 'manhattan')"
   ]
  },
  {
   "cell_type": "markdown",
   "metadata": {},
   "source": [
    "scaled manhattan distance:"
   ]
  },
  {
   "cell_type": "code",
   "execution_count": 22,
   "metadata": {},
   "outputs": [
    {
     "data": {
      "text/html": [
       "<div>\n",
       "<style scoped>\n",
       "    .dataframe tbody tr th:only-of-type {\n",
       "        vertical-align: middle;\n",
       "    }\n",
       "\n",
       "    .dataframe tbody tr th {\n",
       "        vertical-align: top;\n",
       "    }\n",
       "\n",
       "    .dataframe thead th {\n",
       "        text-align: right;\n",
       "    }\n",
       "</style>\n",
       "<table border=\"1\" class=\"dataframe\">\n",
       "  <thead>\n",
       "    <tr style=\"text-align: right;\">\n",
       "      <th></th>\n",
       "      <th>gender</th>\n",
       "      <th>age</th>\n",
       "      <th>income</th>\n",
       "      <th>family_members</th>\n",
       "      <th>distance</th>\n",
       "    </tr>\n",
       "  </thead>\n",
       "  <tbody>\n",
       "    <tr>\n",
       "      <td>100</td>\n",
       "      <td>0.000</td>\n",
       "      <td>0.292</td>\n",
       "      <td>0.472</td>\n",
       "      <td>0.167</td>\n",
       "      <td>0.000</td>\n",
       "    </tr>\n",
       "    <tr>\n",
       "      <td>4915</td>\n",
       "      <td>0.000</td>\n",
       "      <td>0.292</td>\n",
       "      <td>0.477</td>\n",
       "      <td>0.167</td>\n",
       "      <td>0.005</td>\n",
       "    </tr>\n",
       "    <tr>\n",
       "      <td>243</td>\n",
       "      <td>0.000</td>\n",
       "      <td>0.292</td>\n",
       "      <td>0.467</td>\n",
       "      <td>0.167</td>\n",
       "      <td>0.005</td>\n",
       "    </tr>\n",
       "    <tr>\n",
       "      <td>1323</td>\n",
       "      <td>0.000</td>\n",
       "      <td>0.292</td>\n",
       "      <td>0.457</td>\n",
       "      <td>0.167</td>\n",
       "      <td>0.015</td>\n",
       "    </tr>\n",
       "    <tr>\n",
       "      <td>811</td>\n",
       "      <td>0.000</td>\n",
       "      <td>0.308</td>\n",
       "      <td>0.471</td>\n",
       "      <td>0.167</td>\n",
       "      <td>0.017</td>\n",
       "    </tr>\n",
       "    <tr>\n",
       "      <td>4843</td>\n",
       "      <td>0.000</td>\n",
       "      <td>0.308</td>\n",
       "      <td>0.470</td>\n",
       "      <td>0.167</td>\n",
       "      <td>0.018</td>\n",
       "    </tr>\n",
       "  </tbody>\n",
       "</table>\n",
       "</div>"
      ],
      "text/plain": [
       "      gender   age  income  family_members  distance\n",
       "100    0.000 0.292   0.472           0.167     0.000\n",
       "4915   0.000 0.292   0.477           0.167     0.005\n",
       "243    0.000 0.292   0.467           0.167     0.005\n",
       "1323   0.000 0.292   0.457           0.167     0.015\n",
       "811    0.000 0.308   0.471           0.167     0.017\n",
       "4843   0.000 0.308   0.470           0.167     0.018"
      ]
     },
     "execution_count": 22,
     "metadata": {},
     "output_type": "execute_result"
    }
   ],
   "source": [
    "get_knn(df_scaled[feature_names], 100, 6, 'manhattan')"
   ]
  },
  {
   "cell_type": "markdown",
   "metadata": {},
   "source": [
    "Answers to the questions"
   ]
  },
  {
   "cell_type": "markdown",
   "metadata": {},
   "source": [
    "**Does the data being not scaled affect the kNN algorithm? If so, how does that appear?** \n",
    "\n",
    "- Since kNN is a distance-based algorithm, when our data isnt scaled (larger values for features), our distances also get bigger.\n",
    "\n",
    "\n",
    "- It can be noted here that the high magnitude of income affected the distance between the two points. This will impact the performance of all distance based algorithms as it will give higher weightage to variables which have higher magnitude.\n",
    "\n",
    "\n",
    "- We do not want our algorithm to be affected by the magnitude of these variables. The algorithm should not be biased towards variables with higher magnitude. To overcome this problem, we can bring down all the variables to the same scale.\n",
    "\n",
    "- We get different neighbors between scaled and not scaled data"
   ]
  },
  {
   "cell_type": "markdown",
   "metadata": {},
   "source": [
    "**How similar are the results using the Manhattan distance metric (regardless of the scaling)?** \n",
    "\n",
    "when checking for 5 neighbors, The results are the same between the euclidean and manhattan distances in their mutual df (scaled or not)."
   ]
  },
  {
   "cell_type": "markdown",
   "metadata": {},
   "source": [
    "# Task 2. Is Customer Likely to Receive Insurance Benefit?"
   ]
  },
  {
   "cell_type": "markdown",
   "metadata": {},
   "source": [
    "In terms of machine learning we can look at this like a binary classification task."
   ]
  },
  {
   "cell_type": "markdown",
   "metadata": {},
   "source": [
    "With `insurance_benefits` being more than zero as the target, evaluate whether the kNN classification approach can do better than a dummy model.\n",
    "\n",
    "Our tasks:\n",
    "- Build a KNN-based classifier and measure its quality with the F1 metric for k=1..10 for both the original data and the scaled one. That'd be interesting to see how k may influece the evaluation metric, and whether scaling the data makes any difference. You can use a ready implemention of the kNN classification algorithm from scikit-learn (check [the link](https://scikit-learn.org/stable/modules/generated/sklearn.neighbors.KNeighborsClassifier.html)) or use your own.\n",
    "- Build the dummy model which is just random for this case. It should return \"1\" with some probability. Let's test the model with four probability values: 0, the probability of paying any insurance benefit, 0.5, 1.\n",
    "\n",
    "The probability of paying any insurance benefit can be defined as\n",
    "\n",
    "$$\n",
    "P\\{\\text{insurance benefit received}\\}=\\frac{\\text{number of clients received any insurance benefit}}{\\text{total number of clients}}.\n",
    "$$\n",
    "\n",
    "Split the whole data in the 70:30 proportion for the training/testing parts."
   ]
  },
  {
   "cell_type": "markdown",
   "metadata": {},
   "source": [
    "making a new column with 0 for no insurance benefits and 1 for any insurance benefit, to suit our problem, a binary classification task: Is Customer Likely to Receive Insurance Benefit\n"
   ]
  },
  {
   "cell_type": "code",
   "execution_count": 23,
   "metadata": {},
   "outputs": [],
   "source": [
    "# calculate the target\n",
    "\n",
    "df['insurance_benefits_received'] = np.where(df['insurance_benefits']==0 , 0, 1)\n",
    "df_scaled['insurance_benefits_received'] = np.where(df_scaled['insurance_benefits']==0 , 0, 1)"
   ]
  },
  {
   "cell_type": "code",
   "execution_count": 24,
   "metadata": {},
   "outputs": [
    {
     "data": {
      "text/plain": [
       "0    4436\n",
       "1     564\n",
       "Name: insurance_benefits_received, dtype: int64"
      ]
     },
     "execution_count": 24,
     "metadata": {},
     "output_type": "execute_result"
    }
   ],
   "source": [
    "# check for the class imbalance with value_counts()\n",
    "\n",
    "df.insurance_benefits_received.value_counts()"
   ]
  },
  {
   "cell_type": "markdown",
   "metadata": {},
   "source": [
    "We see our classes arent balanced, with class 1 having a very small share in our target variable.\n",
    "We will try adding weight to class 1 in order to balance the classes.\n",
    "\n",
    "- upsampling before splitting the data can allow the exact same observations to be present in both the test and train sets. This can allow our model to simply memorize specific data points and cause overfitting and poor generalization to the test data."
   ]
  },
  {
   "cell_type": "code",
   "execution_count": 25,
   "metadata": {},
   "outputs": [],
   "source": [
    "def eval_classifier(y_true, y_pred):\n",
    "    \n",
    "    f1_score = sklearn.metrics.f1_score(y_true, y_pred)\n",
    "    print(f'F1: {f1_score:.2f}')\n",
    "    \n",
    "# if you have an issue with the following line, restart the kernel and run the notebook again\n",
    "    cm = sklearn.metrics.confusion_matrix(y_true, y_pred, normalize='all')\n",
    "    print('Confusion Matrix')\n",
    "    print(cm)"
   ]
  },
  {
   "cell_type": "code",
   "execution_count": 26,
   "metadata": {},
   "outputs": [],
   "source": [
    "# generating output of a random model\n",
    "\n",
    "def rnd_model_predict(P, size, seed=42):\n",
    "\n",
    "    rng = np.random.default_rng(seed=seed)\n",
    "    return rng.binomial(n=1, p=P, size=size)"
   ]
  },
  {
   "cell_type": "code",
   "execution_count": 27,
   "metadata": {},
   "outputs": [
    {
     "name": "stdout",
     "output_type": "stream",
     "text": [
      "The probability: 0.00\n",
      "F1: 0.00\n",
      "Confusion Matrix\n",
      "[[0.8872 0.    ]\n",
      " [0.1128 0.    ]]\n",
      "\n",
      "The probability: 0.11\n",
      "F1: 0.12\n",
      "Confusion Matrix\n",
      "[[0.7914 0.0958]\n",
      " [0.0994 0.0134]]\n",
      "\n",
      "The probability: 0.50\n",
      "F1: 0.20\n",
      "Confusion Matrix\n",
      "[[0.456  0.4312]\n",
      " [0.053  0.0598]]\n",
      "\n",
      "The probability: 1.00\n",
      "F1: 0.20\n",
      "Confusion Matrix\n",
      "[[0.     0.8872]\n",
      " [0.     0.1128]]\n",
      "\n"
     ]
    }
   ],
   "source": [
    "for P in [0, df['insurance_benefits_received'].sum() / len(df), 0.5, 1]:\n",
    "\n",
    "    print(f'The probability: {P:.2f}')\n",
    "    y_pred_rnd = rnd_model_predict(P=P, size=len(df))\n",
    "        \n",
    "    eval_classifier(df['insurance_benefits_received'], y_pred_rnd)\n",
    "    \n",
    "    print()"
   ]
  },
  {
   "cell_type": "markdown",
   "metadata": {},
   "source": [
    "We see our dummy model managed to reach F1 of 0.2 with the probabilites of 0.5 and 1."
   ]
  },
  {
   "cell_type": "markdown",
   "metadata": {},
   "source": [
    "Split the whole data in the 70:30 proportion for the training/testing parts."
   ]
  },
  {
   "cell_type": "code",
   "execution_count": 28,
   "metadata": {},
   "outputs": [],
   "source": [
    "X = df[['age', 'gender', 'income', 'family_members']]\n",
    "y = df['insurance_benefits_received']"
   ]
  },
  {
   "cell_type": "code",
   "execution_count": 29,
   "metadata": {},
   "outputs": [],
   "source": [
    "X_scaled = df_scaled[['age', 'gender', 'income', 'family_members']]\n",
    "y_scaled = df_scaled['insurance_benefits_received']"
   ]
  },
  {
   "cell_type": "code",
   "execution_count": 30,
   "metadata": {},
   "outputs": [],
   "source": [
    "X_train, X_test, y_train, y_test = train_test_split(X, y, test_size=0.3, random_state=12345)"
   ]
  },
  {
   "cell_type": "code",
   "execution_count": 31,
   "metadata": {},
   "outputs": [],
   "source": [
    "X_train_scaled, X_test_scaled, y_train_scaled, y_test_scaled = train_test_split(X_scaled, y_scaled, test_size=0.3, random_state=12345)"
   ]
  },
  {
   "cell_type": "markdown",
   "metadata": {},
   "source": [
    "creating the KNN-based classifier and measuring its quality with the F1 metric for k=1..10 for both the original data and the scaled one. "
   ]
  },
  {
   "cell_type": "markdown",
   "metadata": {},
   "source": [
    "Executing on non-scaled data:"
   ]
  },
  {
   "cell_type": "code",
   "execution_count": 33,
   "metadata": {},
   "outputs": [
    {
     "name": "stdout",
     "output_type": "stream",
     "text": [
      "F1: 0.62\n",
      "Confusion Matrix\n",
      "[[0.87133333 0.02      ]\n",
      " [0.05133333 0.05733333]]\n",
      "\n",
      "F1: 0.61\n",
      "Confusion Matrix\n",
      "[[0.872      0.01933333]\n",
      " [0.05266667 0.056     ]]\n",
      "\n",
      "F1: 0.56\n",
      "Confusion Matrix\n",
      "[[0.876      0.01533333]\n",
      " [0.06066667 0.048     ]]\n",
      "\n",
      "F1: 0.52\n",
      "Confusion Matrix\n",
      "[[0.878      0.01333333]\n",
      " [0.06533333 0.04333333]]\n",
      "\n",
      "F1: 0.51\n",
      "Confusion Matrix\n",
      "[[0.882      0.00933333]\n",
      " [0.06866667 0.04      ]]\n",
      "\n",
      "F1: 0.46\n",
      "Confusion Matrix\n",
      "[[0.88066667 0.01066667]\n",
      " [0.07266667 0.036     ]]\n",
      "\n",
      "F1: 0.44\n",
      "Confusion Matrix\n",
      "[[0.884      0.00733333]\n",
      " [0.076      0.03266667]]\n",
      "\n",
      "F1: 0.44\n",
      "Confusion Matrix\n",
      "[[0.884      0.00733333]\n",
      " [0.076      0.03266667]]\n",
      "\n",
      "F1: 0.42\n",
      "Confusion Matrix\n",
      "[[0.884      0.00733333]\n",
      " [0.078      0.03066667]]\n",
      "\n",
      "F1: 0.42\n",
      "Confusion Matrix\n",
      "[[0.884      0.00733333]\n",
      " [0.078      0.03066667]]\n",
      "\n"
     ]
    }
   ],
   "source": [
    "f1 = []\n",
    "for k in range(1,11):\n",
    "    neigh = KNeighborsClassifier(n_neighbors=k,weights='distance')\n",
    "    neigh.fit(X_train, y_train)\n",
    "    y_pred = neigh.predict(X_test)\n",
    "    f1.append(sklearn.metrics.f1_score(y_test, y_pred))\n",
    "    eval_classifier(y_test, y_pred)\n",
    "    print()"
   ]
  },
  {
   "cell_type": "markdown",
   "metadata": {},
   "source": [
    "plotting the F1 score for each k value for easy understanding:"
   ]
  },
  {
   "cell_type": "code",
   "execution_count": 34,
   "metadata": {},
   "outputs": [
    {
     "data": {
      "image/png": "[encoded data removed]",
      "text/plain": [
       "<Figure size 864x432 with 1 Axes>"
      ]
     },
     "metadata": {
      "needs_background": "light"
     },
     "output_type": "display_data"
    }
   ],
   "source": [
    "plt.figure(figsize=(12, 6))\n",
    "plt.plot(range(1, 11), f1, color='red', linestyle='dashed', marker='o',\n",
    "         markerfacecolor='blue', markersize=10)\n",
    "plt.title('F1-Score K Value - Nonscaled data')\n",
    "plt.xlabel('K Value')\n",
    "plt.xticks(range(1,11))\n",
    "plt.ylabel('F1');"
   ]
  },
  {
   "cell_type": "markdown",
   "metadata": {},
   "source": [
    "#### Description & Conclusion:"
   ]
  },
  {
   "cell_type": "markdown",
   "metadata": {},
   "source": [
    "- This plot shows the quality with the F1 metric for k=1..10 for KnnClassifer.\n",
    "- We see our highest F1 score was achieved when using k=1\n",
    "- It seems that the more we increase K value, the worse we achieve - negative correlation."
   ]
  },
  {
   "cell_type": "markdown",
   "metadata": {},
   "source": [
    "Executing on scaled data:"
   ]
  },
  {
   "cell_type": "code",
   "execution_count": 35,
   "metadata": {},
   "outputs": [
    {
     "name": "stdout",
     "output_type": "stream",
     "text": [
      "F1: 0.97\n",
      "Confusion Matrix\n",
      "[[0.88866667 0.00266667]\n",
      " [0.00466667 0.104     ]]\n",
      "\n",
      "F1: 0.97\n",
      "Confusion Matrix\n",
      "[[0.88866667 0.00266667]\n",
      " [0.00466667 0.104     ]]\n",
      "\n",
      "F1: 0.95\n",
      "Confusion Matrix\n",
      "[[0.88933333 0.002     ]\n",
      " [0.008      0.10066667]]\n",
      "\n",
      "F1: 0.96\n",
      "Confusion Matrix\n",
      "[[0.88933333 0.002     ]\n",
      " [0.00666667 0.102     ]]\n",
      "\n",
      "F1: 0.95\n",
      "Confusion Matrix\n",
      "[[0.88866667 0.00266667]\n",
      " [0.008      0.10066667]]\n",
      "\n",
      "F1: 0.95\n",
      "Confusion Matrix\n",
      "[[0.88933333 0.002     ]\n",
      " [0.008      0.10066667]]\n",
      "\n",
      "F1: 0.96\n",
      "Confusion Matrix\n",
      "[[0.88933333 0.002     ]\n",
      " [0.00733333 0.10133333]]\n",
      "\n",
      "F1: 0.95\n",
      "Confusion Matrix\n",
      "[[0.88933333 0.002     ]\n",
      " [0.00933333 0.09933333]]\n",
      "\n",
      "F1: 0.95\n",
      "Confusion Matrix\n",
      "[[0.89       0.00133333]\n",
      " [0.00933333 0.09933333]]\n",
      "\n",
      "F1: 0.94\n",
      "Confusion Matrix\n",
      "[[0.88933333 0.002     ]\n",
      " [0.01       0.09866667]]\n",
      "\n"
     ]
    }
   ],
   "source": [
    "f1_scaled = []\n",
    "for k in range(1,11):\n",
    "    neigh = KNeighborsClassifier(n_neighbors=k,weights='distance')\n",
    "    neigh.fit(X_train_scaled, y_train_scaled)\n",
    "    y_pred = neigh.predict(X_test_scaled)\n",
    "    f1_scaled.append(sklearn.metrics.f1_score(y_test_scaled, y_pred))\n",
    "    eval_classifier(y_test_scaled, y_pred)\n",
    "    print()"
   ]
  },
  {
   "cell_type": "markdown",
   "metadata": {},
   "source": [
    "plotting the F1 score for each k value for easy understanding:"
   ]
  },
  {
   "cell_type": "code",
   "execution_count": 36,
   "metadata": {},
   "outputs": [
    {
     "data": {
      "image/png": "[encoded data removed]",
      "text/plain": [
       "<Figure size 864x432 with 1 Axes>"
      ]
     },
     "metadata": {
      "needs_background": "light"
     },
     "output_type": "display_data"
    }
   ],
   "source": [
    "plt.figure(figsize=(12, 6))\n",
    "plt.plot(range(1, 11), f1_scaled, color='red', linestyle='dashed', marker='o',\n",
    "         markerfacecolor='blue', markersize=10)\n",
    "plt.title('F1-Score K Value - scaled data')\n",
    "plt.xlabel('K Value')\n",
    "plt.xticks(range(1,11))\n",
    "plt.ylabel('F1');"
   ]
  },
  {
   "cell_type": "markdown",
   "metadata": {},
   "source": [
    "#### Description & Conclusion:"
   ]
  },
  {
   "cell_type": "markdown",
   "metadata": {},
   "source": [
    "- This plot shows the F1 score for each k value.\n",
    "- We see our scores are very close to the perfect 1 score, with k value 1 and 2 reaching almost 0.97 F1 score.\n",
    "- We conclude that as suspected, scaling has a massive impact on the effectiveness of distance-based algorithms such as KNN."
   ]
  },
  {
   "cell_type": "markdown",
   "metadata": {},
   "source": [
    "# Task 3. Regression (with Linear Regression)"
   ]
  },
  {
   "cell_type": "markdown",
   "metadata": {},
   "source": [
    "With `insurance_benefits` as the target, we will evaluate what RMSE would be for a Linear Regression model."
   ]
  },
  {
   "cell_type": "markdown",
   "metadata": {},
   "source": [
    "we will Build your own implementation of LR and Check RMSE for both the original data and the scaled one. Can we see any difference in RMSE between these two cases?\n",
    "\n",
    "Let's denote\n",
    "- $X$ — feature matrix, each row is a case, each column is a feature, the first column consists of unities\n",
    "- $y$ — target (a vector)\n",
    "- $\\hat{y}$ — estimated tagret (a vector)\n",
    "- $w$ — weight vector\n",
    "\n",
    "The task of linear regression in the language of matrices can be formulated as\n",
    "\n",
    "$$\n",
    "y = Xw\n",
    "$$\n",
    "\n",
    "The training objective then is to find such $w$ that it would minimize the L2-distance (MSE) between $Xw$ and $y$:\n",
    "\n",
    "$$\n",
    "\\min_w d_2(Xw, y) \\quad \\text{or} \\quad \\min_w \\text{MSE}(Xw, y)\n",
    "$$\n",
    "\n",
    "It appears that there is analytical solution for the above:\n",
    "\n",
    "$$\n",
    "w = (X^T X)^{-1} X^T y\n",
    "$$\n",
    "\n",
    "The formula above can be used to find the weights $w$ and the latter can be used to calculate predicted values\n",
    "\n",
    "$$\n",
    "\\hat{y} = X_{val}w\n",
    "$$"
   ]
  },
  {
   "cell_type": "markdown",
   "metadata": {},
   "source": [
    "Split the whole data in the 70:30 proportion for the training/validation parts. Use the RMSE metric for the model evaluation."
   ]
  },
  {
   "cell_type": "code",
   "execution_count": 37,
   "metadata": {},
   "outputs": [],
   "source": [
    "class MyLinearRegression:\n",
    "    \n",
    "    def __init__(self):\n",
    "        \n",
    "        self.w = None\n",
    "    \n",
    "    def fit(self, train_features, train_target):\n",
    "        \n",
    "        # adding the unities\n",
    "        #X = np.append(np.ones([len(X), 1]), X, axis=1)\n",
    "        X = np.concatenate((np.ones((train_features.shape[0], 1)), train_features), axis=1)\n",
    "        y = train_target\n",
    "        w = np.linalg.inv(X.T@X)@X.T@y\n",
    "        self.w = w[1:]\n",
    "        self.w0 = w[0]\n",
    "\n",
    "    def predict(self, test_features):\n",
    "                \n",
    "        return test_features.dot(self.w) + self.w0"
   ]
  },
  {
   "cell_type": "code",
   "execution_count": 38,
   "metadata": {},
   "outputs": [],
   "source": [
    "def eval_regressor(y_true, y_pred):\n",
    "    \n",
    "    rmse = math.sqrt(sklearn.metrics.mean_squared_error(y_true, y_pred))\n",
    "    print(f'RMSE: {rmse:.2f}')\n",
    "    \n",
    "    r2_score = math.sqrt(sklearn.metrics.r2_score(y_true, y_pred))\n",
    "    print(f'R2: {r2_score:.2f}')    "
   ]
  },
  {
   "cell_type": "markdown",
   "metadata": {},
   "source": [
    "Running on non-scaled data:"
   ]
  },
  {
   "cell_type": "code",
   "execution_count": 39,
   "metadata": {},
   "outputs": [
    {
     "name": "stdout",
     "output_type": "stream",
     "text": [
      "[ 3.57495491e-02  1.64272726e-02 -2.60743659e-07 -1.16902127e-02]\n",
      "RMSE: 0.34\n",
      "R2: 0.66\n"
     ]
    }
   ],
   "source": [
    "X = df[['age', 'gender', 'income', 'family_members']].to_numpy()\n",
    "y = df['insurance_benefits'].to_numpy()\n",
    "\n",
    "X_train, X_test, y_train, y_test = train_test_split(X, y, test_size=0.3, random_state=12345)\n",
    "\n",
    "lr = MyLinearRegression()\n",
    "\n",
    "lr.fit(X_train, y_train)\n",
    "print(lr.w)\n",
    "\n",
    "y_test_pred = lr.predict(X_test)\n",
    "eval_regressor(y_test, y_test_pred)"
   ]
  },
  {
   "cell_type": "markdown",
   "metadata": {},
   "source": [
    "Running on scaled data:"
   ]
  },
  {
   "cell_type": "code",
   "execution_count": 40,
   "metadata": {},
   "outputs": [
    {
     "name": "stdout",
     "output_type": "stream",
     "text": [
      "[ 2.32372069  0.01642727 -0.02059875 -0.07014128]\n",
      "RMSE: 0.34\n",
      "R2: 0.66\n"
     ]
    }
   ],
   "source": [
    "X_scaled = df_scaled[['age', 'gender', 'income', 'family_members']].to_numpy()\n",
    "y_scaled = df_scaled['insurance_benefits'].to_numpy()\n",
    "\n",
    "X_train_scaled, X_test_scaled, y_train_scaled, y_test_scaled = train_test_split(X_scaled, y_scaled, test_size=0.3, random_state=12345)\n",
    "\n",
    "lr = MyLinearRegression()\n",
    "\n",
    "lr.fit(X_train_scaled, y_train_scaled)\n",
    "print(lr.w)\n",
    "\n",
    "y_test_pred = lr.predict(X_test_scaled)\n",
    "eval_regressor(y_test_scaled, y_test_pred)"
   ]
  },
  {
   "cell_type": "markdown",
   "metadata": {},
   "source": [
    "#### Conclusion:\n",
    "- The scaling didnt affect our RMSE or R2, as scaling does not affect our statistical inference in regression models — the estimates are adjusted appropriately and the p-values will be the same. \n",
    "  The exception, is when you apply regularization. Then linear scaling can change the results dramatically. "
   ]
  },
  {
   "cell_type": "markdown",
   "metadata": {},
   "source": [
    "# Task 4. Obfuscating Data"
   ]
  },
  {
   "cell_type": "markdown",
   "metadata": {},
   "source": [
    "It best to obfuscate data by multiplying the numerical features (remember, they can be seen as the matrix $X$) by an invertible matrix $P$. \n",
    "\n",
    "$$\n",
    "X' = X \\times P\n",
    "$$\n",
    "\n",
    "We will try to do that and check how the features' values will look like after the transformation. The intertible property is important here so make sure that $P$ is indeed invertible.\n"
   ]
  },
  {
   "cell_type": "code",
   "execution_count": 41,
   "metadata": {},
   "outputs": [],
   "source": [
    "# np.set_printoptions(suppress=False,\n",
    "#    formatter={'float_kind':'{:0.5f}'.format})"
   ]
  },
  {
   "cell_type": "code",
   "execution_count": 42,
   "metadata": {},
   "outputs": [],
   "source": [
    "personal_info_column_list = ['gender', 'age', 'income', 'family_members']\n",
    "df_pn = df[personal_info_column_list]"
   ]
  },
  {
   "cell_type": "code",
   "execution_count": 43,
   "metadata": {},
   "outputs": [],
   "source": [
    "X = df_pn.to_numpy()"
   ]
  },
  {
   "cell_type": "code",
   "execution_count": 44,
   "metadata": {},
   "outputs": [
    {
     "data": {
      "text/plain": [
       "array([[1.00e+00, 4.10e+01, 4.96e+04, 1.00e+00],\n",
       "       [0.00e+00, 4.60e+01, 3.80e+04, 1.00e+00],\n",
       "       [0.00e+00, 2.90e+01, 2.10e+04, 0.00e+00],\n",
       "       ...,\n",
       "       [0.00e+00, 2.00e+01, 3.39e+04, 2.00e+00],\n",
       "       [1.00e+00, 2.20e+01, 3.27e+04, 3.00e+00],\n",
       "       [1.00e+00, 2.80e+01, 4.06e+04, 1.00e+00]])"
      ]
     },
     "execution_count": 44,
     "metadata": {},
     "output_type": "execute_result"
    }
   ],
   "source": [
    "X"
   ]
  },
  {
   "cell_type": "markdown",
   "metadata": {},
   "source": [
    "Generating a random matrix $P$."
   ]
  },
  {
   "cell_type": "code",
   "execution_count": 45,
   "metadata": {},
   "outputs": [],
   "source": [
    "rng = np.random.default_rng(seed=42)\n",
    "P = rng.random(size=(X.shape[1], X.shape[1]))"
   ]
  },
  {
   "cell_type": "markdown",
   "metadata": {},
   "source": [
    "Checking the matrix $P$ is invertible"
   ]
  },
  {
   "cell_type": "code",
   "execution_count": 46,
   "metadata": {},
   "outputs": [
    {
     "data": {
      "text/plain": [
       "array([[ 0.41467992, -1.43783972,  0.62798546,  1.14001268],\n",
       "       [-1.06101789,  0.44219337,  0.1329549 ,  1.18425933],\n",
       "       [ 1.42362442,  1.60461607, -2.0553823 , -1.53699695],\n",
       "       [-0.11128575, -0.65813802,  1.74995517, -0.11816316]])"
      ]
     },
     "execution_count": 46,
     "metadata": {},
     "output_type": "execute_result"
    }
   ],
   "source": [
    "np.linalg.inv(P)"
   ]
  },
  {
   "cell_type": "markdown",
   "metadata": {},
   "source": [
    "Obfuscating by multiplying the numerical features ( matrix 𝑋 ) by invertible matrix 𝑃"
   ]
  },
  {
   "cell_type": "code",
   "execution_count": 47,
   "metadata": {},
   "outputs": [],
   "source": [
    "X = X @ P"
   ]
  },
  {
   "cell_type": "markdown",
   "metadata": {},
   "source": [
    "Can we guess the customers' ages or income after the transformation?"
   ]
  },
  {
   "cell_type": "code",
   "execution_count": 48,
   "metadata": {},
   "outputs": [
    {
     "data": {
      "text/plain": [
       "array([[ 6359.71527314, 22380.40467609, 18424.09074184, 46000.69669016],\n",
       "       [ 4873.29406479, 17160.36702982, 14125.78076133, 35253.45577301],\n",
       "       [ 2693.11742928,  9486.397744  ,  7808.83156024, 19484.86063067],\n",
       "       ...,\n",
       "       [ 4346.2234249 , 15289.24126492, 12586.16264392, 31433.50888552],\n",
       "       [ 4194.09324155, 14751.9910242 , 12144.02930637, 30323.88763426],\n",
       "       [ 5205.46827354, 18314.24814446, 15077.01370762, 37649.59295455]])"
      ]
     },
     "execution_count": 48,
     "metadata": {},
     "output_type": "execute_result"
    }
   ],
   "source": [
    "X"
   ]
  },
  {
   "cell_type": "markdown",
   "metadata": {},
   "source": [
    "We can't guess the customers' ages or income after the transformation."
   ]
  },
  {
   "cell_type": "markdown",
   "metadata": {},
   "source": [
    "Can we recover the original data from $X'$ if you know $P$?"
   ]
  },
  {
   "cell_type": "markdown",
   "metadata": {},
   "source": [
    "Recovering the data by multiplying with  the inverse of P"
   ]
  },
  {
   "cell_type": "code",
   "execution_count": 49,
   "metadata": {},
   "outputs": [
    {
     "data": {
      "text/plain": [
       "array([[ 1.00000000e+00,  4.10000000e+01,  4.96000000e+04,\n",
       "         1.00000000e+00],\n",
       "       [ 1.67952800e-12,  4.60000000e+01,  3.80000000e+04,\n",
       "         1.00000000e+00],\n",
       "       [-6.23021448e-13,  2.90000000e+01,  2.10000000e+04,\n",
       "        -2.03032656e-13],\n",
       "       ...,\n",
       "       [ 1.57996161e-12,  2.00000000e+01,  3.39000000e+04,\n",
       "         2.00000000e+00],\n",
       "       [ 1.00000000e+00,  2.20000000e+01,  3.27000000e+04,\n",
       "         3.00000000e+00],\n",
       "       [ 1.00000000e+00,  2.80000000e+01,  4.06000000e+04,\n",
       "         1.00000000e+00]])"
      ]
     },
     "execution_count": 49,
     "metadata": {},
     "output_type": "execute_result"
    }
   ],
   "source": [
    "X = X @ np.linalg.inv(P)\n",
    "X"
   ]
  },
  {
   "cell_type": "markdown",
   "metadata": {},
   "source": [
    "We will print all three cases for a few customers\n",
    "- The original data\n",
    "- The transformed one\n",
    "- The reversed (recovered) one"
   ]
  },
  {
   "cell_type": "markdown",
   "metadata": {},
   "source": [
    "Original data for first 5 customers:"
   ]
  },
  {
   "cell_type": "code",
   "execution_count": 50,
   "metadata": {},
   "outputs": [
    {
     "data": {
      "text/plain": [
       "array([[1.00e+00, 4.10e+01, 4.96e+04, 1.00e+00],\n",
       "       [0.00e+00, 4.60e+01, 3.80e+04, 1.00e+00],\n",
       "       [0.00e+00, 2.90e+01, 2.10e+04, 0.00e+00],\n",
       "       [0.00e+00, 2.10e+01, 4.17e+04, 2.00e+00],\n",
       "       [1.00e+00, 2.80e+01, 2.61e+04, 0.00e+00]])"
      ]
     },
     "execution_count": 50,
     "metadata": {},
     "output_type": "execute_result"
    }
   ],
   "source": [
    "X = df_pn.to_numpy()\n",
    "X[:5,:]"
   ]
  },
  {
   "cell_type": "markdown",
   "metadata": {},
   "source": [
    "Transformed data for first 5 customers:"
   ]
  },
  {
   "cell_type": "code",
   "execution_count": 51,
   "metadata": {},
   "outputs": [
    {
     "data": {
      "text/plain": [
       "array([[ 6359.71527314, 22380.40467609, 18424.09074184, 46000.69669016],\n",
       "       [ 4873.29406479, 17160.36702982, 14125.78076133, 35253.45577301],\n",
       "       [ 2693.11742928,  9486.397744  ,  7808.83156024, 19484.86063067],\n",
       "       [ 5345.60393712, 18803.22720286, 15479.14837264, 38663.06186284],\n",
       "       [ 3347.17673462, 11782.82928336,  9699.99894205, 24211.27337753]])"
      ]
     },
     "execution_count": 51,
     "metadata": {},
     "output_type": "execute_result"
    }
   ],
   "source": [
    "X = X @ P\n",
    "X[:5,:]"
   ]
  },
  {
   "cell_type": "markdown",
   "metadata": {},
   "source": [
    "Reversed (recovered) data for first 5 customers:"
   ]
  },
  {
   "cell_type": "code",
   "execution_count": 52,
   "metadata": {},
   "outputs": [
    {
     "data": {
      "text/plain": [
       "array([[ 1.00000000e+00,  4.10000000e+01,  4.96000000e+04,\n",
       "         1.00000000e+00],\n",
       "       [ 1.67952800e-12,  4.60000000e+01,  3.80000000e+04,\n",
       "         1.00000000e+00],\n",
       "       [-6.23021448e-13,  2.90000000e+01,  2.10000000e+04,\n",
       "        -2.03032656e-13],\n",
       "       [-1.08907770e-12,  2.10000000e+01,  4.17000000e+04,\n",
       "         2.00000000e+00],\n",
       "       [ 1.00000000e+00,  2.80000000e+01,  2.61000000e+04,\n",
       "        -1.52424205e-12]])"
      ]
     },
     "execution_count": 52,
     "metadata": {},
     "output_type": "execute_result"
    }
   ],
   "source": [
    "X = X @ np.linalg.inv(P)\n",
    "X[:5,:]"
   ]
  },
  {
   "cell_type": "markdown",
   "metadata": {},
   "source": [
    "We can probably see that some values are not exactly the same as they are in the original data. What might be the reason for that?"
   ]
  },
  {
   "cell_type": "markdown",
   "metadata": {},
   "source": [
    "- The reason is, because float values are never the exact values, they always have some error in them.\n",
    "The numbers are very close to the values."
   ]
  },
  {
   "cell_type": "markdown",
   "metadata": {},
   "source": [
    "## Test Linear Regression With Data Obfuscation"
   ]
  },
  {
   "cell_type": "markdown",
   "metadata": {},
   "source": [
    "Now, let's prove Linear Regression can work computationally with the chosen obfuscation transformation.\n",
    "\n",
    "\n",
    "We will Build a procedure or a class that runs Linear Regression optionally with the obfuscation. \n",
    "\n",
    "Run Linear Regression for the original data and the obfuscated one, compare the predicted values and the RMSE, $R^2$ metric values. Do we see any difference?"
   ]
  },
  {
   "cell_type": "markdown",
   "metadata": {},
   "source": [
    "**Procedure**\n",
    "\n",
    "- Create a square matrix $P$ of random numbers.\n",
    "- Check that it is invertible. If not, repeat the first point until we get an invertible matrix.\n",
    "- Obfuscate by multiplying the numerical features ( matrix 𝑋 ) by invertible matrix 𝑃\n",
    "- Use $XP$ as the new feature matrix"
   ]
  },
  {
   "cell_type": "markdown",
   "metadata": {},
   "source": [
    "Running on original data:"
   ]
  },
  {
   "cell_type": "code",
   "execution_count": 53,
   "metadata": {},
   "outputs": [
    {
     "name": "stdout",
     "output_type": "stream",
     "text": [
      "RMSE: 0.34\n",
      "R2: 0.66\n"
     ]
    }
   ],
   "source": [
    "X = df[['age', 'gender', 'income', 'family_members']].to_numpy()\n",
    "y = df['insurance_benefits'].to_numpy()\n",
    "\n",
    "\n",
    "X_train, X_test, y_train, y_test = train_test_split(X, y, test_size=0.3, random_state=12345)\n",
    "\n",
    "lr = MyLinearRegression()\n",
    "\n",
    "lr.fit(X_train, y_train)\n",
    "\n",
    "y_test_pred = lr.predict(X_test)\n",
    "eval_regressor(y_test, y_test_pred)"
   ]
  },
  {
   "cell_type": "markdown",
   "metadata": {},
   "source": [
    "Running on obfuscated data:"
   ]
  },
  {
   "cell_type": "code",
   "execution_count": 54,
   "metadata": {},
   "outputs": [],
   "source": [
    "#creating square matrix P of random numbers:\n",
    "rng = np.random.default_rng(seed=42)\n",
    "P = rng.random(size=(X.shape[1], X.shape[1]))"
   ]
  },
  {
   "cell_type": "code",
   "execution_count": 55,
   "metadata": {},
   "outputs": [
    {
     "data": {
      "text/plain": [
       "array([[ 0.41467992, -1.43783972,  0.62798546,  1.14001268],\n",
       "       [-1.06101789,  0.44219337,  0.1329549 ,  1.18425933],\n",
       "       [ 1.42362442,  1.60461607, -2.0553823 , -1.53699695],\n",
       "       [-0.11128575, -0.65813802,  1.74995517, -0.11816316]])"
      ]
     },
     "execution_count": 55,
     "metadata": {},
     "output_type": "execute_result"
    }
   ],
   "source": [
    "#making sure that its invertible\n",
    "np.linalg.inv(P)"
   ]
  },
  {
   "cell_type": "code",
   "execution_count": 56,
   "metadata": {},
   "outputs": [],
   "source": [
    "# Obfuscate by multiplying the numerical features ( matrix 𝑋 ) by invertible matrix 𝑃\n",
    "X = X @ P"
   ]
  },
  {
   "cell_type": "code",
   "execution_count": 57,
   "metadata": {},
   "outputs": [
    {
     "name": "stdout",
     "output_type": "stream",
     "text": [
      "RMSE: 0.34\n",
      "R2: 0.66\n"
     ]
    }
   ],
   "source": [
    "X_train, X_test, y_train, y_test = train_test_split(X, y, test_size=0.3, random_state=12345)\n",
    "\n",
    "lr = MyLinearRegression()\n",
    "\n",
    "lr.fit(X_train, y_train)\n",
    "\n",
    "y_test_pred = lr.predict(X_test)\n",
    "eval_regressor(y_test, y_test_pred)"
   ]
  },
  {
   "cell_type": "markdown",
   "metadata": {},
   "source": [
    "# Conclusions"
   ]
  },
  {
   "cell_type": "markdown",
   "metadata": {},
   "source": [
    "- Obfuscation doesnt affect the RMSE and R2 metrics, or the linear regression quality."
   ]
  },
  {
   "cell_type": "markdown",
   "metadata": {},
   "source": [
    "- Scaling is very important in distance based algorithms such as KNN."
   ]
  },
  {
   "cell_type": "markdown",
   "metadata": {},
   "source": [
    "- Scaling does not affect our statistical inference in simple linear regression — the estimates are adjusted appropriately and the p-values will be the same. "
   ]
  }
 ],
 "metadata": {
  "ExecuteTimeLog": [
   {
    "duration": 6043,
    "start_time": "2021-11-04T12:07:51.084Z"
   },
   {
    "duration": 1095,
    "start_time": "2021-11-04T12:08:00.246Z"
   },
   {
    "duration": 18,
    "start_time": "2021-11-04T12:08:02.996Z"
   },
   {
    "duration": 5,
    "start_time": "2021-11-04T12:08:04.837Z"
   },
   {
    "duration": 12,
    "start_time": "2021-11-04T12:08:06.364Z"
   },
   {
    "duration": 6,
    "start_time": "2021-11-04T12:10:17.205Z"
   },
   {
    "duration": 6,
    "start_time": "2021-11-04T12:10:22.168Z"
   },
   {
    "duration": 9,
    "start_time": "2021-11-04T12:10:38.237Z"
   },
   {
    "duration": 277,
    "start_time": "2021-11-04T12:10:57.302Z"
   },
   {
    "duration": 24,
    "start_time": "2021-11-04T12:11:02.840Z"
   },
   {
    "duration": 62,
    "start_time": "2021-11-04T12:15:02.924Z"
   },
   {
    "duration": 6,
    "start_time": "2021-11-04T12:15:27.962Z"
   },
   {
    "duration": 203,
    "start_time": "2021-11-04T13:00:15.009Z"
   },
   {
    "duration": 190,
    "start_time": "2021-11-04T13:03:58.953Z"
   },
   {
    "duration": 200,
    "start_time": "2021-11-04T13:04:17.093Z"
   },
   {
    "duration": 214,
    "start_time": "2021-11-04T13:04:24.595Z"
   },
   {
    "duration": 63,
    "start_time": "2021-11-04T13:04:52.520Z"
   },
   {
    "duration": 3,
    "start_time": "2021-11-04T13:43:21.661Z"
   },
   {
    "duration": 10,
    "start_time": "2021-11-04T13:44:08.599Z"
   },
   {
    "duration": 10,
    "start_time": "2021-11-04T13:44:09.671Z"
   },
   {
    "duration": 4,
    "start_time": "2021-11-04T15:43:02.323Z"
   },
   {
    "duration": 394,
    "start_time": "2021-11-04T15:50:32.289Z"
   },
   {
    "duration": 4,
    "start_time": "2021-11-04T15:51:55.413Z"
   },
   {
    "duration": 372,
    "start_time": "2021-11-04T15:51:57.346Z"
   },
   {
    "duration": 4,
    "start_time": "2021-11-04T15:53:53.490Z"
   },
   {
    "duration": 389,
    "start_time": "2021-11-04T15:53:55.253Z"
   },
   {
    "duration": 387,
    "start_time": "2021-11-04T15:58:32.153Z"
   },
   {
    "duration": 4,
    "start_time": "2021-11-04T16:03:11.981Z"
   },
   {
    "duration": 17,
    "start_time": "2021-11-04T16:03:19.084Z"
   },
   {
    "duration": 16,
    "start_time": "2021-11-05T00:09:24.435Z"
   },
   {
    "duration": 16,
    "start_time": "2021-11-05T00:11:01.861Z"
   },
   {
    "duration": 16,
    "start_time": "2021-11-05T00:11:09.533Z"
   },
   {
    "duration": 16,
    "start_time": "2021-11-05T00:11:54.685Z"
   },
   {
    "duration": 17,
    "start_time": "2021-11-05T00:12:08.191Z"
   },
   {
    "duration": 18,
    "start_time": "2021-11-05T00:12:14.031Z"
   },
   {
    "duration": 17,
    "start_time": "2021-11-05T00:12:24.065Z"
   },
   {
    "duration": 17,
    "start_time": "2021-11-05T00:12:47.391Z"
   },
   {
    "duration": 67,
    "start_time": "2021-11-05T00:13:56.657Z"
   },
   {
    "duration": 3,
    "start_time": "2021-11-05T00:14:19.167Z"
   },
   {
    "duration": 16,
    "start_time": "2021-11-05T00:14:24.119Z"
   },
   {
    "duration": 16,
    "start_time": "2021-11-05T00:14:25.423Z"
   },
   {
    "duration": 16,
    "start_time": "2021-11-05T00:14:26.863Z"
   },
   {
    "duration": 16,
    "start_time": "2021-11-05T00:14:27.857Z"
   },
   {
    "duration": 18,
    "start_time": "2021-11-05T00:15:02.929Z"
   },
   {
    "duration": 15,
    "start_time": "2021-11-05T00:15:30.881Z"
   },
   {
    "duration": 17,
    "start_time": "2021-11-05T00:15:48.513Z"
   },
   {
    "duration": 18,
    "start_time": "2021-11-05T00:15:58.689Z"
   },
   {
    "duration": 18,
    "start_time": "2021-11-05T00:16:01.955Z"
   },
   {
    "duration": 15,
    "start_time": "2021-11-05T00:16:31.139Z"
   },
   {
    "duration": 16,
    "start_time": "2021-11-05T00:16:34.163Z"
   },
   {
    "duration": 17,
    "start_time": "2021-11-05T00:16:38.049Z"
   },
   {
    "duration": 16,
    "start_time": "2021-11-05T00:16:43.907Z"
   },
   {
    "duration": 16,
    "start_time": "2021-11-05T00:25:39.297Z"
   },
   {
    "duration": 17,
    "start_time": "2021-11-05T00:25:50.249Z"
   },
   {
    "duration": 16,
    "start_time": "2021-11-05T00:26:18.649Z"
   },
   {
    "duration": 17,
    "start_time": "2021-11-05T00:26:26.457Z"
   },
   {
    "duration": 5,
    "start_time": "2021-11-05T16:36:09.140Z"
   },
   {
    "duration": 6,
    "start_time": "2021-11-05T16:36:39.092Z"
   },
   {
    "duration": 6,
    "start_time": "2021-11-05T16:36:40.516Z"
   },
   {
    "duration": 17,
    "start_time": "2021-11-05T16:37:11.956Z"
   },
   {
    "duration": 4,
    "start_time": "2021-11-05T16:37:13.044Z"
   },
   {
    "duration": 5,
    "start_time": "2021-11-05T16:37:15.590Z"
   },
   {
    "duration": 6,
    "start_time": "2021-11-05T16:37:23.206Z"
   },
   {
    "duration": 3,
    "start_time": "2021-11-05T16:37:30.182Z"
   },
   {
    "duration": 5,
    "start_time": "2021-11-05T16:37:37.812Z"
   },
   {
    "duration": 6,
    "start_time": "2021-11-05T16:38:13.206Z"
   },
   {
    "duration": 6,
    "start_time": "2021-11-05T16:38:14.710Z"
   },
   {
    "duration": 6,
    "start_time": "2021-11-05T16:38:25.830Z"
   },
   {
    "duration": 17,
    "start_time": "2021-11-05T16:38:56.997Z"
   },
   {
    "duration": 4,
    "start_time": "2021-11-05T16:38:58.486Z"
   },
   {
    "duration": 5,
    "start_time": "2021-11-05T16:39:00.550Z"
   },
   {
    "duration": 3,
    "start_time": "2021-11-05T16:39:15.096Z"
   },
   {
    "duration": 174,
    "start_time": "2021-11-05T16:39:21.512Z"
   },
   {
    "duration": 6,
    "start_time": "2021-11-05T16:39:28.037Z"
   },
   {
    "duration": 4,
    "start_time": "2021-11-05T16:41:31.476Z"
   },
   {
    "duration": 6,
    "start_time": "2021-11-05T16:41:32.824Z"
   },
   {
    "duration": 6,
    "start_time": "2021-11-05T16:41:39.658Z"
   },
   {
    "duration": 180,
    "start_time": "2021-11-05T16:45:38.876Z"
   },
   {
    "duration": 175,
    "start_time": "2021-11-05T16:45:45.532Z"
   },
   {
    "duration": 5,
    "start_time": "2021-11-05T16:45:59.772Z"
   },
   {
    "duration": 180,
    "start_time": "2021-11-05T16:48:18.654Z"
   },
   {
    "duration": 177,
    "start_time": "2021-11-05T16:48:38.832Z"
   },
   {
    "duration": 221,
    "start_time": "2021-11-05T16:48:43.390Z"
   },
   {
    "duration": 186,
    "start_time": "2021-11-05T16:48:47.854Z"
   },
   {
    "duration": 6,
    "start_time": "2021-11-05T16:48:56.174Z"
   },
   {
    "duration": 6,
    "start_time": "2021-11-05T16:49:04.515Z"
   },
   {
    "duration": 3,
    "start_time": "2021-11-05T17:00:28.335Z"
   },
   {
    "duration": 3,
    "start_time": "2021-11-05T17:10:01.575Z"
   },
   {
    "duration": 363,
    "start_time": "2021-11-05T17:10:32.753Z"
   },
   {
    "duration": 370,
    "start_time": "2021-11-05T17:12:36.629Z"
   },
   {
    "duration": 5,
    "start_time": "2021-11-05T17:15:14.404Z"
   },
   {
    "duration": 5,
    "start_time": "2021-11-05T17:15:28.452Z"
   },
   {
    "duration": 464,
    "start_time": "2021-11-05T17:18:07.065Z"
   },
   {
    "duration": 367,
    "start_time": "2021-11-05T17:18:14.039Z"
   },
   {
    "duration": 23,
    "start_time": "2021-11-05T17:22:42.077Z"
   },
   {
    "duration": 184,
    "start_time": "2021-11-05T17:34:23.845Z"
   },
   {
    "duration": 5,
    "start_time": "2021-11-05T17:38:32.368Z"
   },
   {
    "duration": 5,
    "start_time": "2021-11-05T17:38:33.866Z"
   },
   {
    "duration": 178,
    "start_time": "2021-11-05T17:40:01.856Z"
   },
   {
    "duration": 3,
    "start_time": "2021-11-05T17:40:20.378Z"
   },
   {
    "duration": 58,
    "start_time": "2021-11-05T17:43:08.396Z"
   },
   {
    "duration": 4,
    "start_time": "2021-11-05T17:43:11.772Z"
   },
   {
    "duration": 405,
    "start_time": "2021-11-05T17:49:28.229Z"
   },
   {
    "duration": 425,
    "start_time": "2021-11-05T17:49:47.686Z"
   },
   {
    "duration": 492,
    "start_time": "2021-11-05T17:50:10.612Z"
   },
   {
    "duration": 109,
    "start_time": "2021-11-05T17:51:10.052Z"
   },
   {
    "duration": 111,
    "start_time": "2021-11-05T17:53:08.310Z"
   },
   {
    "duration": 438,
    "start_time": "2021-11-05T17:53:17.096Z"
   },
   {
    "duration": 428,
    "start_time": "2021-11-05T17:53:25.636Z"
   },
   {
    "duration": 206,
    "start_time": "2021-11-05T17:59:34.336Z"
   },
   {
    "duration": 92,
    "start_time": "2021-11-05T17:59:55.399Z"
   },
   {
    "duration": 173,
    "start_time": "2021-11-05T18:00:14.059Z"
   },
   {
    "duration": 4,
    "start_time": "2021-11-05T18:00:34.460Z"
   },
   {
    "duration": 400,
    "start_time": "2021-11-05T18:00:45.341Z"
   },
   {
    "duration": 203,
    "start_time": "2021-11-05T18:00:59.147Z"
   },
   {
    "duration": 201,
    "start_time": "2021-11-05T18:01:07.724Z"
   },
   {
    "duration": 209,
    "start_time": "2021-11-05T18:01:38.492Z"
   },
   {
    "duration": 199,
    "start_time": "2021-11-05T18:03:58.310Z"
   },
   {
    "duration": 4,
    "start_time": "2021-11-05T18:09:16.559Z"
   },
   {
    "duration": 9,
    "start_time": "2021-11-05T18:11:44.369Z"
   },
   {
    "duration": 8,
    "start_time": "2021-11-05T18:11:45.367Z"
   },
   {
    "duration": 6,
    "start_time": "2021-11-05T18:12:31.576Z"
   },
   {
    "duration": 6,
    "start_time": "2021-11-05T18:12:57.752Z"
   },
   {
    "duration": 155,
    "start_time": "2021-11-05T18:14:01.121Z"
   },
   {
    "duration": 198,
    "start_time": "2021-11-05T18:14:29.257Z"
   },
   {
    "duration": 461,
    "start_time": "2021-11-05T18:14:56.097Z"
   },
   {
    "duration": 195,
    "start_time": "2021-11-05T18:14:58.137Z"
   },
   {
    "duration": 153,
    "start_time": "2021-11-05T18:15:08.283Z"
   },
   {
    "duration": 193,
    "start_time": "2021-11-05T18:15:09.307Z"
   },
   {
    "duration": 142,
    "start_time": "2021-11-05T18:16:05.099Z"
   },
   {
    "duration": 208,
    "start_time": "2021-11-05T18:16:08.955Z"
   },
   {
    "duration": 184,
    "start_time": "2021-11-05T18:16:29.834Z"
   },
   {
    "duration": 496,
    "start_time": "2021-11-05T18:16:41.690Z"
   },
   {
    "duration": 182,
    "start_time": "2021-11-05T18:16:44.507Z"
   },
   {
    "duration": 200,
    "start_time": "2021-11-05T18:16:49.780Z"
   },
   {
    "duration": 5,
    "start_time": "2021-11-05T21:27:00.370Z"
   },
   {
    "duration": 4,
    "start_time": "2021-11-05T21:28:09.870Z"
   },
   {
    "duration": 382,
    "start_time": "2021-11-05T21:28:49.120Z"
   },
   {
    "duration": 4,
    "start_time": "2021-11-05T22:01:09.408Z"
   },
   {
    "duration": 3,
    "start_time": "2021-11-05T22:01:10.970Z"
   },
   {
    "duration": 354,
    "start_time": "2021-11-05T22:01:11.850Z"
   },
   {
    "duration": 5,
    "start_time": "2021-11-05T22:07:51.791Z"
   },
   {
    "duration": 4,
    "start_time": "2021-11-05T22:07:55.775Z"
   },
   {
    "duration": 435,
    "start_time": "2021-11-05T22:07:57.583Z"
   },
   {
    "duration": 4,
    "start_time": "2021-11-05T22:08:21.473Z"
   },
   {
    "duration": 10,
    "start_time": "2021-11-05T22:08:28.560Z"
   },
   {
    "duration": 9,
    "start_time": "2021-11-05T22:11:03.208Z"
   },
   {
    "duration": 4,
    "start_time": "2021-11-05T23:09:45.948Z"
   },
   {
    "duration": 3,
    "start_time": "2021-11-05T23:09:49.204Z"
   },
   {
    "duration": 4,
    "start_time": "2021-11-05T23:09:52.996Z"
   },
   {
    "duration": 5,
    "start_time": "2021-11-05T23:14:44.682Z"
   },
   {
    "duration": 4,
    "start_time": "2021-11-05T23:14:50.920Z"
   },
   {
    "duration": 4,
    "start_time": "2021-11-05T23:22:34.838Z"
   },
   {
    "duration": 3,
    "start_time": "2021-11-05T23:23:12.198Z"
   },
   {
    "duration": 4,
    "start_time": "2021-11-05T23:23:15.760Z"
   },
   {
    "duration": 11,
    "start_time": "2021-11-05T23:23:46.353Z"
   },
   {
    "duration": 5,
    "start_time": "2021-11-05T23:27:38.650Z"
   },
   {
    "duration": 4,
    "start_time": "2021-11-05T23:27:41.528Z"
   },
   {
    "duration": 3,
    "start_time": "2021-11-05T23:27:42.722Z"
   },
   {
    "duration": 5,
    "start_time": "2021-11-05T23:27:43.682Z"
   },
   {
    "duration": 3,
    "start_time": "2021-11-05T23:27:45.907Z"
   },
   {
    "duration": 6,
    "start_time": "2021-11-05T23:27:46.738Z"
   },
   {
    "duration": 3,
    "start_time": "2021-11-05T23:27:48.758Z"
   },
   {
    "duration": 4,
    "start_time": "2021-11-05T23:27:50.003Z"
   },
   {
    "duration": 6,
    "start_time": "2021-11-05T23:32:28.894Z"
   },
   {
    "duration": 4,
    "start_time": "2021-11-05T23:34:23.246Z"
   },
   {
    "duration": 4,
    "start_time": "2021-11-05T23:34:23.865Z"
   },
   {
    "duration": 7,
    "start_time": "2021-11-05T23:34:24.521Z"
   },
   {
    "duration": 4,
    "start_time": "2021-11-05T23:34:32.557Z"
   },
   {
    "duration": 5,
    "start_time": "2021-11-05T23:34:40.857Z"
   },
   {
    "duration": 3,
    "start_time": "2021-11-05T23:34:48.057Z"
   },
   {
    "duration": 5,
    "start_time": "2021-11-05T23:34:50.168Z"
   },
   {
    "duration": 5,
    "start_time": "2021-11-05T23:34:53.816Z"
   },
   {
    "duration": 3,
    "start_time": "2021-11-05T23:37:19.507Z"
   },
   {
    "duration": 187,
    "start_time": "2021-11-05T23:37:35.906Z"
   },
   {
    "duration": 5,
    "start_time": "2021-11-05T23:37:41.885Z"
   },
   {
    "duration": 5,
    "start_time": "2021-11-05T23:37:45.418Z"
   },
   {
    "duration": 309,
    "start_time": "2021-11-05T23:37:49.516Z"
   },
   {
    "duration": 5,
    "start_time": "2021-11-05T23:38:00.444Z"
   },
   {
    "duration": 5,
    "start_time": "2021-11-05T23:38:03.516Z"
   },
   {
    "duration": 5,
    "start_time": "2021-11-05T23:38:09.708Z"
   },
   {
    "duration": 5,
    "start_time": "2021-11-05T23:38:12.493Z"
   },
   {
    "duration": 3,
    "start_time": "2021-11-05T23:39:02.732Z"
   },
   {
    "duration": 6,
    "start_time": "2021-11-05T23:39:11.724Z"
   },
   {
    "duration": 3,
    "start_time": "2021-11-05T23:41:37.903Z"
   },
   {
    "duration": 5,
    "start_time": "2021-11-05T23:41:38.958Z"
   },
   {
    "duration": 3,
    "start_time": "2021-11-05T23:41:56.991Z"
   },
   {
    "duration": 4,
    "start_time": "2021-11-05T23:41:58.239Z"
   },
   {
    "duration": 5,
    "start_time": "2021-11-05T23:42:00.975Z"
   },
   {
    "duration": 3,
    "start_time": "2021-11-05T23:43:37.584Z"
   },
   {
    "duration": 3,
    "start_time": "2021-11-05T23:43:43.582Z"
   },
   {
    "duration": 4,
    "start_time": "2021-11-05T23:43:44.369Z"
   },
   {
    "duration": 5,
    "start_time": "2021-11-05T23:43:53.875Z"
   },
   {
    "duration": 3,
    "start_time": "2021-11-05T23:43:57.664Z"
   },
   {
    "duration": 4,
    "start_time": "2021-11-05T23:43:58.464Z"
   },
   {
    "duration": 6,
    "start_time": "2021-11-05T23:44:04.672Z"
   },
   {
    "duration": 4,
    "start_time": "2021-11-05T23:46:01.365Z"
   },
   {
    "duration": 5,
    "start_time": "2021-11-05T23:46:09.170Z"
   },
   {
    "duration": 5,
    "start_time": "2021-11-05T23:46:11.652Z"
   },
   {
    "duration": 3,
    "start_time": "2021-11-05T23:46:50.642Z"
   },
   {
    "duration": 3,
    "start_time": "2021-11-05T23:47:01.571Z"
   },
   {
    "duration": 4,
    "start_time": "2021-11-05T23:47:02.627Z"
   },
   {
    "duration": 5,
    "start_time": "2021-11-05T23:47:14.258Z"
   },
   {
    "duration": 5,
    "start_time": "2021-11-05T23:47:16.228Z"
   },
   {
    "duration": 5,
    "start_time": "2021-11-05T23:48:44.119Z"
   },
   {
    "duration": 4,
    "start_time": "2021-11-05T23:52:55.561Z"
   },
   {
    "duration": 2,
    "start_time": "2021-11-05T23:54:44.909Z"
   },
   {
    "duration": 4,
    "start_time": "2021-11-05T23:54:47.721Z"
   },
   {
    "duration": 5,
    "start_time": "2021-11-05T23:54:54.827Z"
   },
   {
    "duration": 5,
    "start_time": "2021-11-05T23:55:06.459Z"
   },
   {
    "duration": 5,
    "start_time": "2021-11-05T23:55:09.353Z"
   },
   {
    "duration": 6,
    "start_time": "2021-11-06T00:04:30.618Z"
   },
   {
    "duration": 9,
    "start_time": "2021-11-06T00:05:17.955Z"
   },
   {
    "duration": 3,
    "start_time": "2021-11-06T00:08:12.502Z"
   },
   {
    "duration": 6,
    "start_time": "2021-11-06T00:08:42.406Z"
   },
   {
    "duration": 2,
    "start_time": "2021-11-06T00:10:11.846Z"
   },
   {
    "duration": 7,
    "start_time": "2021-11-06T00:11:30.298Z"
   },
   {
    "duration": 2204,
    "start_time": "2021-11-06T00:20:38.431Z"
   },
   {
    "duration": 1038,
    "start_time": "2021-11-06T00:20:40.637Z"
   },
   {
    "duration": 2,
    "start_time": "2021-11-06T00:20:41.678Z"
   },
   {
    "duration": 27,
    "start_time": "2021-11-06T00:20:41.682Z"
   },
   {
    "duration": 4,
    "start_time": "2021-11-06T00:20:41.711Z"
   },
   {
    "duration": 15,
    "start_time": "2021-11-06T00:20:41.717Z"
   },
   {
    "duration": 6,
    "start_time": "2021-11-06T00:20:41.733Z"
   },
   {
    "duration": 5,
    "start_time": "2021-11-06T00:20:41.742Z"
   },
   {
    "duration": 12,
    "start_time": "2021-11-06T00:20:41.749Z"
   },
   {
    "duration": 6,
    "start_time": "2021-11-06T00:20:41.763Z"
   },
   {
    "duration": 34,
    "start_time": "2021-11-06T00:20:41.770Z"
   },
   {
    "duration": 6,
    "start_time": "2021-11-06T00:20:41.806Z"
   },
   {
    "duration": 5045,
    "start_time": "2021-11-06T00:20:41.814Z"
   },
   {
    "duration": 2,
    "start_time": "2021-11-06T00:20:46.861Z"
   },
   {
    "duration": 9,
    "start_time": "2021-11-06T00:20:46.865Z"
   },
   {
    "duration": 5,
    "start_time": "2021-11-06T00:20:46.876Z"
   },
   {
    "duration": 11,
    "start_time": "2021-11-06T00:20:46.891Z"
   },
   {
    "duration": 7,
    "start_time": "2021-11-06T00:20:46.904Z"
   },
   {
    "duration": 14,
    "start_time": "2021-11-06T00:20:46.913Z"
   },
   {
    "duration": 13,
    "start_time": "2021-11-06T00:20:46.929Z"
   },
   {
    "duration": 13,
    "start_time": "2021-11-06T00:20:46.944Z"
   },
   {
    "duration": 42,
    "start_time": "2021-11-06T00:20:46.959Z"
   },
   {
    "duration": 5,
    "start_time": "2021-11-06T00:20:47.004Z"
   },
   {
    "duration": 7,
    "start_time": "2021-11-06T00:20:47.011Z"
   },
   {
    "duration": 3,
    "start_time": "2021-11-06T00:20:47.020Z"
   },
   {
    "duration": 4,
    "start_time": "2021-11-06T00:20:47.025Z"
   },
   {
    "duration": 24,
    "start_time": "2021-11-06T00:20:47.031Z"
   },
   {
    "duration": 4,
    "start_time": "2021-11-06T00:20:47.057Z"
   },
   {
    "duration": 4,
    "start_time": "2021-11-06T00:20:47.092Z"
   },
   {
    "duration": 11,
    "start_time": "2021-11-06T00:20:47.097Z"
   },
   {
    "duration": 5,
    "start_time": "2021-11-06T00:20:47.110Z"
   },
   {
    "duration": 3,
    "start_time": "2021-11-06T00:20:47.116Z"
   },
   {
    "duration": 140,
    "start_time": "2021-11-06T00:20:47.121Z"
   },
   {
    "duration": 219,
    "start_time": "2021-11-06T00:20:47.262Z"
   },
   {
    "duration": 196,
    "start_time": "2021-11-06T00:20:47.482Z"
   },
   {
    "duration": 191,
    "start_time": "2021-11-06T00:20:47.679Z"
   },
   {
    "duration": 4,
    "start_time": "2021-11-06T00:20:47.872Z"
   },
   {
    "duration": 7,
    "start_time": "2021-11-06T00:20:47.877Z"
   },
   {
    "duration": 10,
    "start_time": "2021-11-06T00:20:47.891Z"
   },
   {
    "duration": 89,
    "start_time": "2021-11-06T00:20:47.903Z"
   },
   {
    "duration": 3,
    "start_time": "2021-11-06T00:20:47.994Z"
   },
   {
    "duration": 93,
    "start_time": "2021-11-06T00:20:47.999Z"
   },
   {
    "duration": 5,
    "start_time": "2021-11-06T00:20:48.094Z"
   },
   {
    "duration": 8,
    "start_time": "2021-11-06T00:20:48.101Z"
   },
   {
    "duration": 5,
    "start_time": "2021-11-06T00:20:48.111Z"
   },
   {
    "duration": 8,
    "start_time": "2021-11-06T00:20:48.117Z"
   },
   {
    "duration": 65,
    "start_time": "2021-11-06T00:20:48.127Z"
   },
   {
    "duration": 6,
    "start_time": "2021-11-06T00:20:48.194Z"
   },
   {
    "duration": 94,
    "start_time": "2021-11-06T00:20:48.202Z"
   },
   {
    "duration": 6,
    "start_time": "2021-11-06T00:20:48.298Z"
   },
   {
    "duration": 86,
    "start_time": "2021-11-06T00:20:48.306Z"
   },
   {
    "duration": 7,
    "start_time": "2021-11-06T00:20:48.394Z"
   },
   {
    "duration": 93,
    "start_time": "2021-11-06T00:20:48.403Z"
   },
   {
    "duration": 96,
    "start_time": "2021-11-06T00:20:48.498Z"
   },
   {
    "duration": 4,
    "start_time": "2021-11-06T00:20:48.596Z"
   },
   {
    "duration": 93,
    "start_time": "2021-11-06T00:20:48.602Z"
   },
   {
    "duration": 95,
    "start_time": "2021-11-06T00:20:48.696Z"
   },
   {
    "duration": 7,
    "start_time": "2021-11-06T00:20:48.793Z"
   },
   {
    "duration": 9,
    "start_time": "2021-11-06T00:23:34.065Z"
   },
   {
    "duration": 5,
    "start_time": "2021-11-06T00:23:35.777Z"
   },
   {
    "duration": 5,
    "start_time": "2021-11-06T00:23:36.513Z"
   },
   {
    "duration": 3,
    "start_time": "2021-11-06T00:23:40.801Z"
   },
   {
    "duration": 8,
    "start_time": "2021-11-06T00:23:41.699Z"
   },
   {
    "duration": 2278,
    "start_time": "2021-11-06T00:45:22.159Z"
   },
   {
    "duration": 1048,
    "start_time": "2021-11-06T00:45:24.439Z"
   },
   {
    "duration": 3,
    "start_time": "2021-11-06T00:45:25.489Z"
   },
   {
    "duration": 21,
    "start_time": "2021-11-06T00:45:25.494Z"
   },
   {
    "duration": 4,
    "start_time": "2021-11-06T00:45:25.517Z"
   },
   {
    "duration": 12,
    "start_time": "2021-11-06T00:45:25.523Z"
   },
   {
    "duration": 6,
    "start_time": "2021-11-06T00:45:25.537Z"
   },
   {
    "duration": 4,
    "start_time": "2021-11-06T00:45:25.545Z"
   },
   {
    "duration": 12,
    "start_time": "2021-11-06T00:45:25.551Z"
   },
   {
    "duration": 8,
    "start_time": "2021-11-06T00:45:25.564Z"
   },
   {
    "duration": 35,
    "start_time": "2021-11-06T00:45:25.574Z"
   },
   {
    "duration": 5,
    "start_time": "2021-11-06T00:45:25.610Z"
   },
   {
    "duration": 5125,
    "start_time": "2021-11-06T00:45:25.616Z"
   },
   {
    "duration": 2,
    "start_time": "2021-11-06T00:45:30.743Z"
   },
   {
    "duration": 29,
    "start_time": "2021-11-06T00:45:30.747Z"
   },
   {
    "duration": 16,
    "start_time": "2021-11-06T00:45:30.777Z"
   },
   {
    "duration": 30,
    "start_time": "2021-11-06T00:45:30.794Z"
   },
   {
    "duration": 17,
    "start_time": "2021-11-06T00:45:30.825Z"
   },
   {
    "duration": 32,
    "start_time": "2021-11-06T00:45:30.843Z"
   },
   {
    "duration": 17,
    "start_time": "2021-11-06T00:45:30.877Z"
   },
   {
    "duration": 33,
    "start_time": "2021-11-06T00:45:30.896Z"
   },
   {
    "duration": 29,
    "start_time": "2021-11-06T00:45:30.931Z"
   },
   {
    "duration": 14,
    "start_time": "2021-11-06T00:45:30.964Z"
   },
   {
    "duration": 23,
    "start_time": "2021-11-06T00:45:30.980Z"
   },
   {
    "duration": 24,
    "start_time": "2021-11-06T00:45:31.005Z"
   },
   {
    "duration": 18,
    "start_time": "2021-11-06T00:45:31.030Z"
   },
   {
    "duration": 42,
    "start_time": "2021-11-06T00:45:31.049Z"
   },
   {
    "duration": 4,
    "start_time": "2021-11-06T00:45:31.093Z"
   },
   {
    "duration": 20,
    "start_time": "2021-11-06T00:45:31.099Z"
   },
   {
    "duration": 25,
    "start_time": "2021-11-06T00:45:31.120Z"
   },
   {
    "duration": 20,
    "start_time": "2021-11-06T00:45:31.147Z"
   },
   {
    "duration": 17,
    "start_time": "2021-11-06T00:45:31.169Z"
   },
   {
    "duration": 143,
    "start_time": "2021-11-06T00:45:31.188Z"
   },
   {
    "duration": 209,
    "start_time": "2021-11-06T00:45:31.333Z"
   },
   {
    "duration": 187,
    "start_time": "2021-11-06T00:45:31.544Z"
   },
   {
    "duration": 201,
    "start_time": "2021-11-06T00:45:31.732Z"
   },
   {
    "duration": 4,
    "start_time": "2021-11-06T00:45:31.935Z"
   },
   {
    "duration": 26,
    "start_time": "2021-11-06T00:45:31.941Z"
   },
   {
    "duration": 31,
    "start_time": "2021-11-06T00:45:31.968Z"
   },
   {
    "duration": 99,
    "start_time": "2021-11-06T00:45:32.001Z"
   },
   {
    "duration": 91,
    "start_time": "2021-11-06T00:45:32.102Z"
   },
   {
    "duration": 97,
    "start_time": "2021-11-06T00:45:32.195Z"
   },
   {
    "duration": 21,
    "start_time": "2021-11-06T00:45:32.294Z"
   },
   {
    "duration": 12,
    "start_time": "2021-11-06T00:45:32.316Z"
   },
   {
    "duration": 21,
    "start_time": "2021-11-06T00:45:32.330Z"
   },
   {
    "duration": 30,
    "start_time": "2021-11-06T00:45:32.353Z"
   },
   {
    "duration": 17,
    "start_time": "2021-11-06T00:45:32.385Z"
   },
   {
    "duration": 88,
    "start_time": "2021-11-06T00:45:32.405Z"
   },
   {
    "duration": 6,
    "start_time": "2021-11-06T00:45:32.495Z"
   },
   {
    "duration": 90,
    "start_time": "2021-11-06T00:45:32.503Z"
   },
   {
    "duration": 10,
    "start_time": "2021-11-06T00:45:32.595Z"
   },
   {
    "duration": 88,
    "start_time": "2021-11-06T00:45:32.607Z"
   },
   {
    "duration": 99,
    "start_time": "2021-11-06T00:45:32.698Z"
   },
   {
    "duration": 4,
    "start_time": "2021-11-06T00:45:32.799Z"
   },
   {
    "duration": 90,
    "start_time": "2021-11-06T00:45:32.805Z"
   },
   {
    "duration": 11,
    "start_time": "2021-11-06T00:45:32.897Z"
   },
   {
    "duration": 10,
    "start_time": "2021-11-06T00:45:32.992Z"
   },
   {
    "duration": 137,
    "start_time": "2021-11-06T20:04:00.269Z"
   }
  ],
  "kernelspec": {
   "display_name": "Python 3",
   "language": "python",
   "name": "python3"
  },
  "language_info": {
   "codemirror_mode": {
    "name": "ipython",
    "version": 3
   },
   "file_extension": ".py",
   "mimetype": "text/x-python",
   "name": "python",
   "nbconvert_exporter": "python",
   "pygments_lexer": "ipython3",
   "version": "3.8.8"
  },
  "toc": {
   "base_numbering": 1,
   "nav_menu": {},
   "number_sections": true,
   "sideBar": true,
   "skip_h1_title": true,
   "title_cell": "Table of Contents",
   "title_sidebar": "Contents",
   "toc_cell": false,
   "toc_position": {},
   "toc_section_display": true,
   "toc_window_display": false
  }
 },
 "nbformat": 4,
 "nbformat_minor": 4
}
