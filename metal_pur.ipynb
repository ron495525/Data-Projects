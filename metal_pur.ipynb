{
 "cells": [
  {
   "cell_type": "markdown",
   "metadata": {},
   "source": [
    "# Project's description:\n",
    "Zyfra is a company that specializes in developing artificial intelligence and IloT-based solutions and robotic mining equipment for heavy industry. One of Zyfra's clients is a gold mining/processing company, who hired Zyfra to determine whether machine learning can identify ways to optimize the production of gold and eliminate unprofitable parameters."
   ]
  },
  {
   "cell_type": "markdown",
   "metadata": {},
   "source": [
    "# Project's goal:\n",
    "Prepare a prototype of a machine learning model, based on extraction and purification data, that predicts the amount of gold recovered from gold ore."
   ]
  },
  {
   "cell_type": "markdown",
   "metadata": {},
   "source": [
    "<div class=\"alert alert-info\" style=\"background-color:#006a79; color:white; padding:0px 10px; border-radius:5px;\"><h2 style='margin:10px 5px'>Load, overview and prepare the data</h2>\n",
    "</div>"
   ]
  },
  {
   "cell_type": "markdown",
   "metadata": {},
   "source": [
    "updating libraries:"
   ]
  },
  {
   "cell_type": "code",
   "execution_count": 1,
   "metadata": {},
   "outputs": [
    {
     "name": "stdout",
     "output_type": "stream",
     "text": [
      "Defaulting to user installation because normal site-packages is not writeable\n",
      "Requirement already up-to-date: pandas in /home/jovyan/.local/lib/python3.7/site-packages (1.3.4)\n",
      "Requirement already satisfied, skipping upgrade: python-dateutil>=2.7.3 in /opt/conda/lib/python3.7/site-packages (from pandas) (2.8.1)\n",
      "Requirement already satisfied, skipping upgrade: pytz>=2017.3 in /opt/conda/lib/python3.7/site-packages (from pandas) (2021.1)\n",
      "Requirement already satisfied, skipping upgrade: numpy>=1.17.3; platform_machine != \"aarch64\" and platform_machine != \"arm64\" and python_version < \"3.10\" in /opt/conda/lib/python3.7/site-packages (from pandas) (1.19.5)\n",
      "Requirement already satisfied, skipping upgrade: six>=1.5 in /opt/conda/lib/python3.7/site-packages (from python-dateutil>=2.7.3->pandas) (1.15.0)\n",
      "Defaulting to user installation because normal site-packages is not writeable\n",
      "Requirement already up-to-date: seaborn in /home/jovyan/.local/lib/python3.7/site-packages (0.11.2)\n",
      "Requirement already satisfied, skipping upgrade: matplotlib>=2.2 in /opt/conda/lib/python3.7/site-packages (from seaborn) (3.1.0)\n",
      "Requirement already satisfied, skipping upgrade: scipy>=1.0 in /opt/conda/lib/python3.7/site-packages (from seaborn) (1.4.1)\n",
      "Requirement already satisfied, skipping upgrade: pandas>=0.23 in /home/jovyan/.local/lib/python3.7/site-packages (from seaborn) (1.3.4)\n",
      "Requirement already satisfied, skipping upgrade: numpy>=1.15 in /opt/conda/lib/python3.7/site-packages (from seaborn) (1.19.5)\n",
      "Requirement already satisfied, skipping upgrade: cycler>=0.10 in /opt/conda/lib/python3.7/site-packages (from matplotlib>=2.2->seaborn) (0.10.0)\n",
      "Requirement already satisfied, skipping upgrade: python-dateutil>=2.1 in /opt/conda/lib/python3.7/site-packages (from matplotlib>=2.2->seaborn) (2.8.1)\n",
      "Requirement already satisfied, skipping upgrade: pyparsing!=2.0.4,!=2.1.2,!=2.1.6,>=2.0.1 in /opt/conda/lib/python3.7/site-packages (from matplotlib>=2.2->seaborn) (2.4.7)\n",
      "Requirement already satisfied, skipping upgrade: kiwisolver>=1.0.1 in /opt/conda/lib/python3.7/site-packages (from matplotlib>=2.2->seaborn) (1.3.1)\n",
      "Requirement already satisfied, skipping upgrade: pytz>=2017.3 in /opt/conda/lib/python3.7/site-packages (from pandas>=0.23->seaborn) (2021.1)\n",
      "Requirement already satisfied, skipping upgrade: six in /opt/conda/lib/python3.7/site-packages (from cycler>=0.10->matplotlib>=2.2->seaborn) (1.15.0)\n",
      "Defaulting to user installation because normal site-packages is not writeable\n",
      "Requirement already up-to-date: scikit-learn in /home/jovyan/.local/lib/python3.7/site-packages (1.0.1)\n",
      "Requirement already satisfied, skipping upgrade: joblib>=0.11 in /opt/conda/lib/python3.7/site-packages (from scikit-learn) (1.0.1)\n",
      "Requirement already satisfied, skipping upgrade: numpy>=1.14.6 in /opt/conda/lib/python3.7/site-packages (from scikit-learn) (1.19.5)\n",
      "Requirement already satisfied, skipping upgrade: scipy>=1.1.0 in /opt/conda/lib/python3.7/site-packages (from scikit-learn) (1.4.1)\n",
      "Requirement already satisfied, skipping upgrade: threadpoolctl>=2.0.0 in /home/jovyan/.local/lib/python3.7/site-packages (from scikit-learn) (3.0.0)\n"
     ]
    }
   ],
   "source": [
    "!pip install pandas --upgrade\n",
    "!pip install seaborn --upgrade    \n",
    "!pip install -U scikit-learn --upgrade "
   ]
  },
  {
   "cell_type": "markdown",
   "metadata": {},
   "source": [
    "Import libraries:"
   ]
  },
  {
   "cell_type": "code",
   "execution_count": 1,
   "metadata": {},
   "outputs": [
    {
     "name": "stderr",
     "output_type": "stream",
     "text": [
      "/opt/conda/lib/python3.7/site-packages/statsmodels/tools/_testing.py:19: FutureWarning: pandas.util.testing is deprecated. Use the functions in the public API at pandas.testing instead.\n",
      "  import pandas.util.testing as tm\n"
     ]
    }
   ],
   "source": [
    "import pandas as pd\n",
    "import numpy as np\n",
    "import seaborn as sns\n",
    "import matplotlib.pyplot as plt\n",
    "from sklearn.model_selection import cross_validate\n",
    "from sklearn.metrics import make_scorer\n",
    "from sklearn.preprocessing import StandardScaler\n",
    "from sklearn.preprocessing import MinMaxScaler\n",
    "from sklearn.linear_model import LinearRegression\n",
    "from sklearn.linear_model import Lasso\n",
    "from sklearn.tree import DecisionTreeRegressor\n",
    "from sklearn.ensemble import RandomForestRegressor\n",
    "from sklearn.model_selection import train_test_split\n",
    "from sklearn.impute import KNNImputer\n",
    "from sklearn.model_selection import GridSearchCV\n",
    "from sklearn.neighbors import KNeighborsRegressor\n",
    "from sklearn.linear_model import ElasticNet\n",
    "from catboost import CatBoostRegressor\n",
    "#ignoring warning\n",
    "import warnings\n",
    "warnings.filterwarnings(\"ignore\")"
   ]
  },
  {
   "cell_type": "markdown",
   "metadata": {},
   "source": [
    "make a try-except block in order to avoid file path error when working both locally and remotely."
   ]
  },
  {
   "cell_type": "code",
   "execution_count": 3,
   "metadata": {},
   "outputs": [],
   "source": [
    "try:\n",
    "    gold_train = pd.read_csv('gold_recovery_train.csv')\n",
    "    gold_test = pd.read_csv('gold_recovery_test.csv')\n",
    "    gold_full = pd.read_csv('gold_recovery_full.csv')\n",
    "    \n",
    "except:   \n",
    "    gold_train = pd.read_csv('/datasets/gold_recovery_train.csv')\n",
    "    gold_test = pd.read_csv('/datasets/gold_recovery_test.csv')\n",
    "    gold_full = pd.read_csv('/datasets/gold_recovery_full.csv')"
   ]
  },
  {
   "cell_type": "markdown",
   "metadata": {},
   "source": [
    "### Overview the data:"
   ]
  },
  {
   "cell_type": "markdown",
   "metadata": {},
   "source": [
    "##### Train file:"
   ]
  },
  {
   "cell_type": "markdown",
   "metadata": {},
   "source": [
    "Check the table's first 5 rows to see the general information."
   ]
  },
  {
   "cell_type": "code",
   "execution_count": 4,
   "metadata": {},
   "outputs": [
    {
     "data": {
      "text/html": [
       "<div>\n",
       "<style scoped>\n",
       "    .dataframe tbody tr th:only-of-type {\n",
       "        vertical-align: middle;\n",
       "    }\n",
       "\n",
       "    .dataframe tbody tr th {\n",
       "        vertical-align: top;\n",
       "    }\n",
       "\n",
       "    .dataframe thead th {\n",
       "        text-align: right;\n",
       "    }\n",
       "</style>\n",
       "<table border=\"1\" class=\"dataframe\">\n",
       "  <thead>\n",
       "    <tr style=\"text-align: right;\">\n",
       "      <th></th>\n",
       "      <th>date</th>\n",
       "      <th>final.output.concentrate_ag</th>\n",
       "      <th>final.output.concentrate_pb</th>\n",
       "      <th>final.output.concentrate_sol</th>\n",
       "      <th>final.output.concentrate_au</th>\n",
       "      <th>final.output.recovery</th>\n",
       "      <th>final.output.tail_ag</th>\n",
       "      <th>final.output.tail_pb</th>\n",
       "      <th>final.output.tail_sol</th>\n",
       "      <th>final.output.tail_au</th>\n",
       "      <th>...</th>\n",
       "      <th>secondary_cleaner.state.floatbank4_a_air</th>\n",
       "      <th>secondary_cleaner.state.floatbank4_a_level</th>\n",
       "      <th>secondary_cleaner.state.floatbank4_b_air</th>\n",
       "      <th>secondary_cleaner.state.floatbank4_b_level</th>\n",
       "      <th>secondary_cleaner.state.floatbank5_a_air</th>\n",
       "      <th>secondary_cleaner.state.floatbank5_a_level</th>\n",
       "      <th>secondary_cleaner.state.floatbank5_b_air</th>\n",
       "      <th>secondary_cleaner.state.floatbank5_b_level</th>\n",
       "      <th>secondary_cleaner.state.floatbank6_a_air</th>\n",
       "      <th>secondary_cleaner.state.floatbank6_a_level</th>\n",
       "    </tr>\n",
       "  </thead>\n",
       "  <tbody>\n",
       "    <tr>\n",
       "      <th>0</th>\n",
       "      <td>2016-01-15 00:00:00</td>\n",
       "      <td>6.055403</td>\n",
       "      <td>9.889648</td>\n",
       "      <td>5.507324</td>\n",
       "      <td>42.192020</td>\n",
       "      <td>70.541216</td>\n",
       "      <td>10.411962</td>\n",
       "      <td>0.895447</td>\n",
       "      <td>16.904297</td>\n",
       "      <td>2.143149</td>\n",
       "      <td>...</td>\n",
       "      <td>14.016835</td>\n",
       "      <td>-502.488007</td>\n",
       "      <td>12.099931</td>\n",
       "      <td>-504.715942</td>\n",
       "      <td>9.925633</td>\n",
       "      <td>-498.310211</td>\n",
       "      <td>8.079666</td>\n",
       "      <td>-500.470978</td>\n",
       "      <td>14.151341</td>\n",
       "      <td>-605.841980</td>\n",
       "    </tr>\n",
       "    <tr>\n",
       "      <th>1</th>\n",
       "      <td>2016-01-15 01:00:00</td>\n",
       "      <td>6.029369</td>\n",
       "      <td>9.968944</td>\n",
       "      <td>5.257781</td>\n",
       "      <td>42.701629</td>\n",
       "      <td>69.266198</td>\n",
       "      <td>10.462676</td>\n",
       "      <td>0.927452</td>\n",
       "      <td>16.634514</td>\n",
       "      <td>2.224930</td>\n",
       "      <td>...</td>\n",
       "      <td>13.992281</td>\n",
       "      <td>-505.503262</td>\n",
       "      <td>11.950531</td>\n",
       "      <td>-501.331529</td>\n",
       "      <td>10.039245</td>\n",
       "      <td>-500.169983</td>\n",
       "      <td>7.984757</td>\n",
       "      <td>-500.582168</td>\n",
       "      <td>13.998353</td>\n",
       "      <td>-599.787184</td>\n",
       "    </tr>\n",
       "    <tr>\n",
       "      <th>2</th>\n",
       "      <td>2016-01-15 02:00:00</td>\n",
       "      <td>6.055926</td>\n",
       "      <td>10.213995</td>\n",
       "      <td>5.383759</td>\n",
       "      <td>42.657501</td>\n",
       "      <td>68.116445</td>\n",
       "      <td>10.507046</td>\n",
       "      <td>0.953716</td>\n",
       "      <td>16.208849</td>\n",
       "      <td>2.257889</td>\n",
       "      <td>...</td>\n",
       "      <td>14.015015</td>\n",
       "      <td>-502.520901</td>\n",
       "      <td>11.912783</td>\n",
       "      <td>-501.133383</td>\n",
       "      <td>10.070913</td>\n",
       "      <td>-500.129135</td>\n",
       "      <td>8.013877</td>\n",
       "      <td>-500.517572</td>\n",
       "      <td>14.028663</td>\n",
       "      <td>-601.427363</td>\n",
       "    </tr>\n",
       "    <tr>\n",
       "      <th>3</th>\n",
       "      <td>2016-01-15 03:00:00</td>\n",
       "      <td>6.047977</td>\n",
       "      <td>9.977019</td>\n",
       "      <td>4.858634</td>\n",
       "      <td>42.689819</td>\n",
       "      <td>68.347543</td>\n",
       "      <td>10.422762</td>\n",
       "      <td>0.883763</td>\n",
       "      <td>16.532835</td>\n",
       "      <td>2.146849</td>\n",
       "      <td>...</td>\n",
       "      <td>14.036510</td>\n",
       "      <td>-500.857308</td>\n",
       "      <td>11.999550</td>\n",
       "      <td>-501.193686</td>\n",
       "      <td>9.970366</td>\n",
       "      <td>-499.201640</td>\n",
       "      <td>7.977324</td>\n",
       "      <td>-500.255908</td>\n",
       "      <td>14.005551</td>\n",
       "      <td>-599.996129</td>\n",
       "    </tr>\n",
       "    <tr>\n",
       "      <th>4</th>\n",
       "      <td>2016-01-15 04:00:00</td>\n",
       "      <td>6.148599</td>\n",
       "      <td>10.142511</td>\n",
       "      <td>4.939416</td>\n",
       "      <td>42.774141</td>\n",
       "      <td>66.927016</td>\n",
       "      <td>10.360302</td>\n",
       "      <td>0.792826</td>\n",
       "      <td>16.525686</td>\n",
       "      <td>2.055292</td>\n",
       "      <td>...</td>\n",
       "      <td>14.027298</td>\n",
       "      <td>-499.838632</td>\n",
       "      <td>11.953070</td>\n",
       "      <td>-501.053894</td>\n",
       "      <td>9.925709</td>\n",
       "      <td>-501.686727</td>\n",
       "      <td>7.894242</td>\n",
       "      <td>-500.356035</td>\n",
       "      <td>13.996647</td>\n",
       "      <td>-601.496691</td>\n",
       "    </tr>\n",
       "  </tbody>\n",
       "</table>\n",
       "<p>5 rows × 87 columns</p>\n",
       "</div>"
      ],
      "text/plain": [
       "                  date  final.output.concentrate_ag  \\\n",
       "0  2016-01-15 00:00:00                     6.055403   \n",
       "1  2016-01-15 01:00:00                     6.029369   \n",
       "2  2016-01-15 02:00:00                     6.055926   \n",
       "3  2016-01-15 03:00:00                     6.047977   \n",
       "4  2016-01-15 04:00:00                     6.148599   \n",
       "\n",
       "   final.output.concentrate_pb  final.output.concentrate_sol  \\\n",
       "0                     9.889648                      5.507324   \n",
       "1                     9.968944                      5.257781   \n",
       "2                    10.213995                      5.383759   \n",
       "3                     9.977019                      4.858634   \n",
       "4                    10.142511                      4.939416   \n",
       "\n",
       "   final.output.concentrate_au  final.output.recovery  final.output.tail_ag  \\\n",
       "0                    42.192020              70.541216             10.411962   \n",
       "1                    42.701629              69.266198             10.462676   \n",
       "2                    42.657501              68.116445             10.507046   \n",
       "3                    42.689819              68.347543             10.422762   \n",
       "4                    42.774141              66.927016             10.360302   \n",
       "\n",
       "   final.output.tail_pb  final.output.tail_sol  final.output.tail_au  ...  \\\n",
       "0              0.895447              16.904297              2.143149  ...   \n",
       "1              0.927452              16.634514              2.224930  ...   \n",
       "2              0.953716              16.208849              2.257889  ...   \n",
       "3              0.883763              16.532835              2.146849  ...   \n",
       "4              0.792826              16.525686              2.055292  ...   \n",
       "\n",
       "   secondary_cleaner.state.floatbank4_a_air  \\\n",
       "0                                 14.016835   \n",
       "1                                 13.992281   \n",
       "2                                 14.015015   \n",
       "3                                 14.036510   \n",
       "4                                 14.027298   \n",
       "\n",
       "   secondary_cleaner.state.floatbank4_a_level  \\\n",
       "0                                 -502.488007   \n",
       "1                                 -505.503262   \n",
       "2                                 -502.520901   \n",
       "3                                 -500.857308   \n",
       "4                                 -499.838632   \n",
       "\n",
       "   secondary_cleaner.state.floatbank4_b_air  \\\n",
       "0                                 12.099931   \n",
       "1                                 11.950531   \n",
       "2                                 11.912783   \n",
       "3                                 11.999550   \n",
       "4                                 11.953070   \n",
       "\n",
       "   secondary_cleaner.state.floatbank4_b_level  \\\n",
       "0                                 -504.715942   \n",
       "1                                 -501.331529   \n",
       "2                                 -501.133383   \n",
       "3                                 -501.193686   \n",
       "4                                 -501.053894   \n",
       "\n",
       "   secondary_cleaner.state.floatbank5_a_air  \\\n",
       "0                                  9.925633   \n",
       "1                                 10.039245   \n",
       "2                                 10.070913   \n",
       "3                                  9.970366   \n",
       "4                                  9.925709   \n",
       "\n",
       "   secondary_cleaner.state.floatbank5_a_level  \\\n",
       "0                                 -498.310211   \n",
       "1                                 -500.169983   \n",
       "2                                 -500.129135   \n",
       "3                                 -499.201640   \n",
       "4                                 -501.686727   \n",
       "\n",
       "   secondary_cleaner.state.floatbank5_b_air  \\\n",
       "0                                  8.079666   \n",
       "1                                  7.984757   \n",
       "2                                  8.013877   \n",
       "3                                  7.977324   \n",
       "4                                  7.894242   \n",
       "\n",
       "   secondary_cleaner.state.floatbank5_b_level  \\\n",
       "0                                 -500.470978   \n",
       "1                                 -500.582168   \n",
       "2                                 -500.517572   \n",
       "3                                 -500.255908   \n",
       "4                                 -500.356035   \n",
       "\n",
       "   secondary_cleaner.state.floatbank6_a_air  \\\n",
       "0                                 14.151341   \n",
       "1                                 13.998353   \n",
       "2                                 14.028663   \n",
       "3                                 14.005551   \n",
       "4                                 13.996647   \n",
       "\n",
       "   secondary_cleaner.state.floatbank6_a_level  \n",
       "0                                 -605.841980  \n",
       "1                                 -599.787184  \n",
       "2                                 -601.427363  \n",
       "3                                 -599.996129  \n",
       "4                                 -601.496691  \n",
       "\n",
       "[5 rows x 87 columns]"
      ]
     },
     "execution_count": 4,
     "metadata": {},
     "output_type": "execute_result"
    }
   ],
   "source": [
    "gold_train.head()"
   ]
  },
  {
   "cell_type": "markdown",
   "metadata": {},
   "source": [
    "Check the table's general structure:"
   ]
  },
  {
   "cell_type": "code",
   "execution_count": 5,
   "metadata": {},
   "outputs": [
    {
     "name": "stdout",
     "output_type": "stream",
     "text": [
      "<class 'pandas.core.frame.DataFrame'>\n",
      "RangeIndex: 16860 entries, 0 to 16859\n",
      "Data columns (total 87 columns):\n",
      " #   Column                                              Non-Null Count  Dtype  \n",
      "---  ------                                              --------------  -----  \n",
      " 0   date                                                16860 non-null  object \n",
      " 1   final.output.concentrate_ag                         16788 non-null  float64\n",
      " 2   final.output.concentrate_pb                         16788 non-null  float64\n",
      " 3   final.output.concentrate_sol                        16490 non-null  float64\n",
      " 4   final.output.concentrate_au                         16789 non-null  float64\n",
      " 5   final.output.recovery                               15339 non-null  float64\n",
      " 6   final.output.tail_ag                                16794 non-null  float64\n",
      " 7   final.output.tail_pb                                16677 non-null  float64\n",
      " 8   final.output.tail_sol                               16715 non-null  float64\n",
      " 9   final.output.tail_au                                16794 non-null  float64\n",
      " 10  primary_cleaner.input.sulfate                       15553 non-null  float64\n",
      " 11  primary_cleaner.input.depressant                    15598 non-null  float64\n",
      " 12  primary_cleaner.input.feed_size                     16860 non-null  float64\n",
      " 13  primary_cleaner.input.xanthate                      15875 non-null  float64\n",
      " 14  primary_cleaner.output.concentrate_ag               16778 non-null  float64\n",
      " 15  primary_cleaner.output.concentrate_pb               16502 non-null  float64\n",
      " 16  primary_cleaner.output.concentrate_sol              16224 non-null  float64\n",
      " 17  primary_cleaner.output.concentrate_au               16778 non-null  float64\n",
      " 18  primary_cleaner.output.tail_ag                      16777 non-null  float64\n",
      " 19  primary_cleaner.output.tail_pb                      16761 non-null  float64\n",
      " 20  primary_cleaner.output.tail_sol                     16579 non-null  float64\n",
      " 21  primary_cleaner.output.tail_au                      16777 non-null  float64\n",
      " 22  primary_cleaner.state.floatbank8_a_air              16820 non-null  float64\n",
      " 23  primary_cleaner.state.floatbank8_a_level            16827 non-null  float64\n",
      " 24  primary_cleaner.state.floatbank8_b_air              16820 non-null  float64\n",
      " 25  primary_cleaner.state.floatbank8_b_level            16833 non-null  float64\n",
      " 26  primary_cleaner.state.floatbank8_c_air              16822 non-null  float64\n",
      " 27  primary_cleaner.state.floatbank8_c_level            16833 non-null  float64\n",
      " 28  primary_cleaner.state.floatbank8_d_air              16821 non-null  float64\n",
      " 29  primary_cleaner.state.floatbank8_d_level            16833 non-null  float64\n",
      " 30  rougher.calculation.sulfate_to_au_concentrate       16833 non-null  float64\n",
      " 31  rougher.calculation.floatbank10_sulfate_to_au_feed  16833 non-null  float64\n",
      " 32  rougher.calculation.floatbank11_sulfate_to_au_feed  16833 non-null  float64\n",
      " 33  rougher.calculation.au_pb_ratio                     15618 non-null  float64\n",
      " 34  rougher.input.feed_ag                               16778 non-null  float64\n",
      " 35  rougher.input.feed_pb                               16632 non-null  float64\n",
      " 36  rougher.input.feed_rate                             16347 non-null  float64\n",
      " 37  rougher.input.feed_size                             16443 non-null  float64\n",
      " 38  rougher.input.feed_sol                              16568 non-null  float64\n",
      " 39  rougher.input.feed_au                               16777 non-null  float64\n",
      " 40  rougher.input.floatbank10_sulfate                   15816 non-null  float64\n",
      " 41  rougher.input.floatbank10_xanthate                  16514 non-null  float64\n",
      " 42  rougher.input.floatbank11_sulfate                   16237 non-null  float64\n",
      " 43  rougher.input.floatbank11_xanthate                  14956 non-null  float64\n",
      " 44  rougher.output.concentrate_ag                       16778 non-null  float64\n",
      " 45  rougher.output.concentrate_pb                       16778 non-null  float64\n",
      " 46  rougher.output.concentrate_sol                      16698 non-null  float64\n",
      " 47  rougher.output.concentrate_au                       16778 non-null  float64\n",
      " 48  rougher.output.recovery                             14287 non-null  float64\n",
      " 49  rougher.output.tail_ag                              14610 non-null  float64\n",
      " 50  rougher.output.tail_pb                              16778 non-null  float64\n",
      " 51  rougher.output.tail_sol                             14611 non-null  float64\n",
      " 52  rougher.output.tail_au                              14611 non-null  float64\n",
      " 53  rougher.state.floatbank10_a_air                     16807 non-null  float64\n",
      " 54  rougher.state.floatbank10_a_level                   16807 non-null  float64\n",
      " 55  rougher.state.floatbank10_b_air                     16807 non-null  float64\n",
      " 56  rougher.state.floatbank10_b_level                   16807 non-null  float64\n",
      " 57  rougher.state.floatbank10_c_air                     16807 non-null  float64\n",
      " 58  rougher.state.floatbank10_c_level                   16814 non-null  float64\n",
      " 59  rougher.state.floatbank10_d_air                     16802 non-null  float64\n",
      " 60  rougher.state.floatbank10_d_level                   16809 non-null  float64\n",
      " 61  rougher.state.floatbank10_e_air                     16257 non-null  float64\n",
      " 62  rougher.state.floatbank10_e_level                   16809 non-null  float64\n",
      " 63  rougher.state.floatbank10_f_air                     16802 non-null  float64\n",
      " 64  rougher.state.floatbank10_f_level                   16802 non-null  float64\n",
      " 65  secondary_cleaner.output.tail_ag                    16776 non-null  float64\n",
      " 66  secondary_cleaner.output.tail_pb                    16764 non-null  float64\n",
      " 67  secondary_cleaner.output.tail_sol                   14874 non-null  float64\n",
      " 68  secondary_cleaner.output.tail_au                    16778 non-null  float64\n",
      " 69  secondary_cleaner.state.floatbank2_a_air            16497 non-null  float64\n",
      " 70  secondary_cleaner.state.floatbank2_a_level          16751 non-null  float64\n",
      " 71  secondary_cleaner.state.floatbank2_b_air            16705 non-null  float64\n",
      " 72  secondary_cleaner.state.floatbank2_b_level          16748 non-null  float64\n",
      " 73  secondary_cleaner.state.floatbank3_a_air            16763 non-null  float64\n",
      " 74  secondary_cleaner.state.floatbank3_a_level          16747 non-null  float64\n",
      " 75  secondary_cleaner.state.floatbank3_b_air            16752 non-null  float64\n",
      " 76  secondary_cleaner.state.floatbank3_b_level          16750 non-null  float64\n",
      " 77  secondary_cleaner.state.floatbank4_a_air            16731 non-null  float64\n",
      " 78  secondary_cleaner.state.floatbank4_a_level          16747 non-null  float64\n",
      " 79  secondary_cleaner.state.floatbank4_b_air            16768 non-null  float64\n",
      " 80  secondary_cleaner.state.floatbank4_b_level          16767 non-null  float64\n",
      " 81  secondary_cleaner.state.floatbank5_a_air            16775 non-null  float64\n",
      " 82  secondary_cleaner.state.floatbank5_a_level          16775 non-null  float64\n",
      " 83  secondary_cleaner.state.floatbank5_b_air            16775 non-null  float64\n",
      " 84  secondary_cleaner.state.floatbank5_b_level          16776 non-null  float64\n",
      " 85  secondary_cleaner.state.floatbank6_a_air            16757 non-null  float64\n",
      " 86  secondary_cleaner.state.floatbank6_a_level          16775 non-null  float64\n",
      "dtypes: float64(86), object(1)\n",
      "memory usage: 11.2+ MB\n"
     ]
    }
   ],
   "source": [
    "gold_train.info()"
   ]
  },
  {
   "cell_type": "markdown",
   "metadata": {},
   "source": [
    "##### Test file:"
   ]
  },
  {
   "cell_type": "markdown",
   "metadata": {},
   "source": [
    "Check the table's first 5 rows to see the general information."
   ]
  },
  {
   "cell_type": "code",
   "execution_count": 6,
   "metadata": {},
   "outputs": [
    {
     "data": {
      "text/html": [
       "<div>\n",
       "<style scoped>\n",
       "    .dataframe tbody tr th:only-of-type {\n",
       "        vertical-align: middle;\n",
       "    }\n",
       "\n",
       "    .dataframe tbody tr th {\n",
       "        vertical-align: top;\n",
       "    }\n",
       "\n",
       "    .dataframe thead th {\n",
       "        text-align: right;\n",
       "    }\n",
       "</style>\n",
       "<table border=\"1\" class=\"dataframe\">\n",
       "  <thead>\n",
       "    <tr style=\"text-align: right;\">\n",
       "      <th></th>\n",
       "      <th>date</th>\n",
       "      <th>primary_cleaner.input.sulfate</th>\n",
       "      <th>primary_cleaner.input.depressant</th>\n",
       "      <th>primary_cleaner.input.feed_size</th>\n",
       "      <th>primary_cleaner.input.xanthate</th>\n",
       "      <th>primary_cleaner.state.floatbank8_a_air</th>\n",
       "      <th>primary_cleaner.state.floatbank8_a_level</th>\n",
       "      <th>primary_cleaner.state.floatbank8_b_air</th>\n",
       "      <th>primary_cleaner.state.floatbank8_b_level</th>\n",
       "      <th>primary_cleaner.state.floatbank8_c_air</th>\n",
       "      <th>...</th>\n",
       "      <th>secondary_cleaner.state.floatbank4_a_air</th>\n",
       "      <th>secondary_cleaner.state.floatbank4_a_level</th>\n",
       "      <th>secondary_cleaner.state.floatbank4_b_air</th>\n",
       "      <th>secondary_cleaner.state.floatbank4_b_level</th>\n",
       "      <th>secondary_cleaner.state.floatbank5_a_air</th>\n",
       "      <th>secondary_cleaner.state.floatbank5_a_level</th>\n",
       "      <th>secondary_cleaner.state.floatbank5_b_air</th>\n",
       "      <th>secondary_cleaner.state.floatbank5_b_level</th>\n",
       "      <th>secondary_cleaner.state.floatbank6_a_air</th>\n",
       "      <th>secondary_cleaner.state.floatbank6_a_level</th>\n",
       "    </tr>\n",
       "  </thead>\n",
       "  <tbody>\n",
       "    <tr>\n",
       "      <th>0</th>\n",
       "      <td>2016-09-01 00:59:59</td>\n",
       "      <td>210.800909</td>\n",
       "      <td>14.993118</td>\n",
       "      <td>8.080000</td>\n",
       "      <td>1.005021</td>\n",
       "      <td>1398.981301</td>\n",
       "      <td>-500.225577</td>\n",
       "      <td>1399.144926</td>\n",
       "      <td>-499.919735</td>\n",
       "      <td>1400.102998</td>\n",
       "      <td>...</td>\n",
       "      <td>12.023554</td>\n",
       "      <td>-497.795834</td>\n",
       "      <td>8.016656</td>\n",
       "      <td>-501.289139</td>\n",
       "      <td>7.946562</td>\n",
       "      <td>-432.317850</td>\n",
       "      <td>4.872511</td>\n",
       "      <td>-500.037437</td>\n",
       "      <td>26.705889</td>\n",
       "      <td>-499.709414</td>\n",
       "    </tr>\n",
       "    <tr>\n",
       "      <th>1</th>\n",
       "      <td>2016-09-01 01:59:59</td>\n",
       "      <td>215.392455</td>\n",
       "      <td>14.987471</td>\n",
       "      <td>8.080000</td>\n",
       "      <td>0.990469</td>\n",
       "      <td>1398.777912</td>\n",
       "      <td>-500.057435</td>\n",
       "      <td>1398.055362</td>\n",
       "      <td>-499.778182</td>\n",
       "      <td>1396.151033</td>\n",
       "      <td>...</td>\n",
       "      <td>12.058140</td>\n",
       "      <td>-498.695773</td>\n",
       "      <td>8.130979</td>\n",
       "      <td>-499.634209</td>\n",
       "      <td>7.958270</td>\n",
       "      <td>-525.839648</td>\n",
       "      <td>4.878850</td>\n",
       "      <td>-500.162375</td>\n",
       "      <td>25.019940</td>\n",
       "      <td>-499.819438</td>\n",
       "    </tr>\n",
       "    <tr>\n",
       "      <th>2</th>\n",
       "      <td>2016-09-01 02:59:59</td>\n",
       "      <td>215.259946</td>\n",
       "      <td>12.884934</td>\n",
       "      <td>7.786667</td>\n",
       "      <td>0.996043</td>\n",
       "      <td>1398.493666</td>\n",
       "      <td>-500.868360</td>\n",
       "      <td>1398.860436</td>\n",
       "      <td>-499.764529</td>\n",
       "      <td>1398.075709</td>\n",
       "      <td>...</td>\n",
       "      <td>11.962366</td>\n",
       "      <td>-498.767484</td>\n",
       "      <td>8.096893</td>\n",
       "      <td>-500.827423</td>\n",
       "      <td>8.071056</td>\n",
       "      <td>-500.801673</td>\n",
       "      <td>4.905125</td>\n",
       "      <td>-499.828510</td>\n",
       "      <td>24.994862</td>\n",
       "      <td>-500.622559</td>\n",
       "    </tr>\n",
       "    <tr>\n",
       "      <th>3</th>\n",
       "      <td>2016-09-01 03:59:59</td>\n",
       "      <td>215.336236</td>\n",
       "      <td>12.006805</td>\n",
       "      <td>7.640000</td>\n",
       "      <td>0.863514</td>\n",
       "      <td>1399.618111</td>\n",
       "      <td>-498.863574</td>\n",
       "      <td>1397.440120</td>\n",
       "      <td>-499.211024</td>\n",
       "      <td>1400.129303</td>\n",
       "      <td>...</td>\n",
       "      <td>12.033091</td>\n",
       "      <td>-498.350935</td>\n",
       "      <td>8.074946</td>\n",
       "      <td>-499.474407</td>\n",
       "      <td>7.897085</td>\n",
       "      <td>-500.868509</td>\n",
       "      <td>4.931400</td>\n",
       "      <td>-499.963623</td>\n",
       "      <td>24.948919</td>\n",
       "      <td>-498.709987</td>\n",
       "    </tr>\n",
       "    <tr>\n",
       "      <th>4</th>\n",
       "      <td>2016-09-01 04:59:59</td>\n",
       "      <td>199.099327</td>\n",
       "      <td>10.682530</td>\n",
       "      <td>7.530000</td>\n",
       "      <td>0.805575</td>\n",
       "      <td>1401.268123</td>\n",
       "      <td>-500.808305</td>\n",
       "      <td>1398.128818</td>\n",
       "      <td>-499.504543</td>\n",
       "      <td>1402.172226</td>\n",
       "      <td>...</td>\n",
       "      <td>12.025367</td>\n",
       "      <td>-500.786497</td>\n",
       "      <td>8.054678</td>\n",
       "      <td>-500.397500</td>\n",
       "      <td>8.107890</td>\n",
       "      <td>-509.526725</td>\n",
       "      <td>4.957674</td>\n",
       "      <td>-500.360026</td>\n",
       "      <td>25.003331</td>\n",
       "      <td>-500.856333</td>\n",
       "    </tr>\n",
       "  </tbody>\n",
       "</table>\n",
       "<p>5 rows × 53 columns</p>\n",
       "</div>"
      ],
      "text/plain": [
       "                  date  primary_cleaner.input.sulfate  \\\n",
       "0  2016-09-01 00:59:59                     210.800909   \n",
       "1  2016-09-01 01:59:59                     215.392455   \n",
       "2  2016-09-01 02:59:59                     215.259946   \n",
       "3  2016-09-01 03:59:59                     215.336236   \n",
       "4  2016-09-01 04:59:59                     199.099327   \n",
       "\n",
       "   primary_cleaner.input.depressant  primary_cleaner.input.feed_size  \\\n",
       "0                         14.993118                         8.080000   \n",
       "1                         14.987471                         8.080000   \n",
       "2                         12.884934                         7.786667   \n",
       "3                         12.006805                         7.640000   \n",
       "4                         10.682530                         7.530000   \n",
       "\n",
       "   primary_cleaner.input.xanthate  primary_cleaner.state.floatbank8_a_air  \\\n",
       "0                        1.005021                             1398.981301   \n",
       "1                        0.990469                             1398.777912   \n",
       "2                        0.996043                             1398.493666   \n",
       "3                        0.863514                             1399.618111   \n",
       "4                        0.805575                             1401.268123   \n",
       "\n",
       "   primary_cleaner.state.floatbank8_a_level  \\\n",
       "0                               -500.225577   \n",
       "1                               -500.057435   \n",
       "2                               -500.868360   \n",
       "3                               -498.863574   \n",
       "4                               -500.808305   \n",
       "\n",
       "   primary_cleaner.state.floatbank8_b_air  \\\n",
       "0                             1399.144926   \n",
       "1                             1398.055362   \n",
       "2                             1398.860436   \n",
       "3                             1397.440120   \n",
       "4                             1398.128818   \n",
       "\n",
       "   primary_cleaner.state.floatbank8_b_level  \\\n",
       "0                               -499.919735   \n",
       "1                               -499.778182   \n",
       "2                               -499.764529   \n",
       "3                               -499.211024   \n",
       "4                               -499.504543   \n",
       "\n",
       "   primary_cleaner.state.floatbank8_c_air  ...  \\\n",
       "0                             1400.102998  ...   \n",
       "1                             1396.151033  ...   \n",
       "2                             1398.075709  ...   \n",
       "3                             1400.129303  ...   \n",
       "4                             1402.172226  ...   \n",
       "\n",
       "   secondary_cleaner.state.floatbank4_a_air  \\\n",
       "0                                 12.023554   \n",
       "1                                 12.058140   \n",
       "2                                 11.962366   \n",
       "3                                 12.033091   \n",
       "4                                 12.025367   \n",
       "\n",
       "   secondary_cleaner.state.floatbank4_a_level  \\\n",
       "0                                 -497.795834   \n",
       "1                                 -498.695773   \n",
       "2                                 -498.767484   \n",
       "3                                 -498.350935   \n",
       "4                                 -500.786497   \n",
       "\n",
       "   secondary_cleaner.state.floatbank4_b_air  \\\n",
       "0                                  8.016656   \n",
       "1                                  8.130979   \n",
       "2                                  8.096893   \n",
       "3                                  8.074946   \n",
       "4                                  8.054678   \n",
       "\n",
       "   secondary_cleaner.state.floatbank4_b_level  \\\n",
       "0                                 -501.289139   \n",
       "1                                 -499.634209   \n",
       "2                                 -500.827423   \n",
       "3                                 -499.474407   \n",
       "4                                 -500.397500   \n",
       "\n",
       "   secondary_cleaner.state.floatbank5_a_air  \\\n",
       "0                                  7.946562   \n",
       "1                                  7.958270   \n",
       "2                                  8.071056   \n",
       "3                                  7.897085   \n",
       "4                                  8.107890   \n",
       "\n",
       "   secondary_cleaner.state.floatbank5_a_level  \\\n",
       "0                                 -432.317850   \n",
       "1                                 -525.839648   \n",
       "2                                 -500.801673   \n",
       "3                                 -500.868509   \n",
       "4                                 -509.526725   \n",
       "\n",
       "   secondary_cleaner.state.floatbank5_b_air  \\\n",
       "0                                  4.872511   \n",
       "1                                  4.878850   \n",
       "2                                  4.905125   \n",
       "3                                  4.931400   \n",
       "4                                  4.957674   \n",
       "\n",
       "   secondary_cleaner.state.floatbank5_b_level  \\\n",
       "0                                 -500.037437   \n",
       "1                                 -500.162375   \n",
       "2                                 -499.828510   \n",
       "3                                 -499.963623   \n",
       "4                                 -500.360026   \n",
       "\n",
       "   secondary_cleaner.state.floatbank6_a_air  \\\n",
       "0                                 26.705889   \n",
       "1                                 25.019940   \n",
       "2                                 24.994862   \n",
       "3                                 24.948919   \n",
       "4                                 25.003331   \n",
       "\n",
       "   secondary_cleaner.state.floatbank6_a_level  \n",
       "0                                 -499.709414  \n",
       "1                                 -499.819438  \n",
       "2                                 -500.622559  \n",
       "3                                 -498.709987  \n",
       "4                                 -500.856333  \n",
       "\n",
       "[5 rows x 53 columns]"
      ]
     },
     "execution_count": 6,
     "metadata": {},
     "output_type": "execute_result"
    }
   ],
   "source": [
    "gold_test.head()"
   ]
  },
  {
   "cell_type": "markdown",
   "metadata": {},
   "source": [
    "Check the table's general information:"
   ]
  },
  {
   "cell_type": "code",
   "execution_count": 7,
   "metadata": {},
   "outputs": [
    {
     "name": "stdout",
     "output_type": "stream",
     "text": [
      "<class 'pandas.core.frame.DataFrame'>\n",
      "RangeIndex: 5856 entries, 0 to 5855\n",
      "Data columns (total 53 columns):\n",
      " #   Column                                      Non-Null Count  Dtype  \n",
      "---  ------                                      --------------  -----  \n",
      " 0   date                                        5856 non-null   object \n",
      " 1   primary_cleaner.input.sulfate               5554 non-null   float64\n",
      " 2   primary_cleaner.input.depressant            5572 non-null   float64\n",
      " 3   primary_cleaner.input.feed_size             5856 non-null   float64\n",
      " 4   primary_cleaner.input.xanthate              5690 non-null   float64\n",
      " 5   primary_cleaner.state.floatbank8_a_air      5840 non-null   float64\n",
      " 6   primary_cleaner.state.floatbank8_a_level    5840 non-null   float64\n",
      " 7   primary_cleaner.state.floatbank8_b_air      5840 non-null   float64\n",
      " 8   primary_cleaner.state.floatbank8_b_level    5840 non-null   float64\n",
      " 9   primary_cleaner.state.floatbank8_c_air      5840 non-null   float64\n",
      " 10  primary_cleaner.state.floatbank8_c_level    5840 non-null   float64\n",
      " 11  primary_cleaner.state.floatbank8_d_air      5840 non-null   float64\n",
      " 12  primary_cleaner.state.floatbank8_d_level    5840 non-null   float64\n",
      " 13  rougher.input.feed_ag                       5840 non-null   float64\n",
      " 14  rougher.input.feed_pb                       5840 non-null   float64\n",
      " 15  rougher.input.feed_rate                     5816 non-null   float64\n",
      " 16  rougher.input.feed_size                     5834 non-null   float64\n",
      " 17  rougher.input.feed_sol                      5789 non-null   float64\n",
      " 18  rougher.input.feed_au                       5840 non-null   float64\n",
      " 19  rougher.input.floatbank10_sulfate           5599 non-null   float64\n",
      " 20  rougher.input.floatbank10_xanthate          5733 non-null   float64\n",
      " 21  rougher.input.floatbank11_sulfate           5801 non-null   float64\n",
      " 22  rougher.input.floatbank11_xanthate          5503 non-null   float64\n",
      " 23  rougher.state.floatbank10_a_air             5839 non-null   float64\n",
      " 24  rougher.state.floatbank10_a_level           5840 non-null   float64\n",
      " 25  rougher.state.floatbank10_b_air             5839 non-null   float64\n",
      " 26  rougher.state.floatbank10_b_level           5840 non-null   float64\n",
      " 27  rougher.state.floatbank10_c_air             5839 non-null   float64\n",
      " 28  rougher.state.floatbank10_c_level           5840 non-null   float64\n",
      " 29  rougher.state.floatbank10_d_air             5839 non-null   float64\n",
      " 30  rougher.state.floatbank10_d_level           5840 non-null   float64\n",
      " 31  rougher.state.floatbank10_e_air             5839 non-null   float64\n",
      " 32  rougher.state.floatbank10_e_level           5840 non-null   float64\n",
      " 33  rougher.state.floatbank10_f_air             5839 non-null   float64\n",
      " 34  rougher.state.floatbank10_f_level           5840 non-null   float64\n",
      " 35  secondary_cleaner.state.floatbank2_a_air    5836 non-null   float64\n",
      " 36  secondary_cleaner.state.floatbank2_a_level  5840 non-null   float64\n",
      " 37  secondary_cleaner.state.floatbank2_b_air    5833 non-null   float64\n",
      " 38  secondary_cleaner.state.floatbank2_b_level  5840 non-null   float64\n",
      " 39  secondary_cleaner.state.floatbank3_a_air    5822 non-null   float64\n",
      " 40  secondary_cleaner.state.floatbank3_a_level  5840 non-null   float64\n",
      " 41  secondary_cleaner.state.floatbank3_b_air    5840 non-null   float64\n",
      " 42  secondary_cleaner.state.floatbank3_b_level  5840 non-null   float64\n",
      " 43  secondary_cleaner.state.floatbank4_a_air    5840 non-null   float64\n",
      " 44  secondary_cleaner.state.floatbank4_a_level  5840 non-null   float64\n",
      " 45  secondary_cleaner.state.floatbank4_b_air    5840 non-null   float64\n",
      " 46  secondary_cleaner.state.floatbank4_b_level  5840 non-null   float64\n",
      " 47  secondary_cleaner.state.floatbank5_a_air    5840 non-null   float64\n",
      " 48  secondary_cleaner.state.floatbank5_a_level  5840 non-null   float64\n",
      " 49  secondary_cleaner.state.floatbank5_b_air    5840 non-null   float64\n",
      " 50  secondary_cleaner.state.floatbank5_b_level  5840 non-null   float64\n",
      " 51  secondary_cleaner.state.floatbank6_a_air    5840 non-null   float64\n",
      " 52  secondary_cleaner.state.floatbank6_a_level  5840 non-null   float64\n",
      "dtypes: float64(52), object(1)\n",
      "memory usage: 2.4+ MB\n"
     ]
    }
   ],
   "source": [
    "gold_test.info()"
   ]
  },
  {
   "cell_type": "markdown",
   "metadata": {},
   "source": [
    "##### Full file:"
   ]
  },
  {
   "cell_type": "markdown",
   "metadata": {},
   "source": [
    "Check the table's first 5 rows to see the general information:"
   ]
  },
  {
   "cell_type": "code",
   "execution_count": 8,
   "metadata": {},
   "outputs": [
    {
     "data": {
      "text/html": [
       "<div>\n",
       "<style scoped>\n",
       "    .dataframe tbody tr th:only-of-type {\n",
       "        vertical-align: middle;\n",
       "    }\n",
       "\n",
       "    .dataframe tbody tr th {\n",
       "        vertical-align: top;\n",
       "    }\n",
       "\n",
       "    .dataframe thead th {\n",
       "        text-align: right;\n",
       "    }\n",
       "</style>\n",
       "<table border=\"1\" class=\"dataframe\">\n",
       "  <thead>\n",
       "    <tr style=\"text-align: right;\">\n",
       "      <th></th>\n",
       "      <th>date</th>\n",
       "      <th>final.output.concentrate_ag</th>\n",
       "      <th>final.output.concentrate_pb</th>\n",
       "      <th>final.output.concentrate_sol</th>\n",
       "      <th>final.output.concentrate_au</th>\n",
       "      <th>final.output.recovery</th>\n",
       "      <th>final.output.tail_ag</th>\n",
       "      <th>final.output.tail_pb</th>\n",
       "      <th>final.output.tail_sol</th>\n",
       "      <th>final.output.tail_au</th>\n",
       "      <th>...</th>\n",
       "      <th>secondary_cleaner.state.floatbank4_a_air</th>\n",
       "      <th>secondary_cleaner.state.floatbank4_a_level</th>\n",
       "      <th>secondary_cleaner.state.floatbank4_b_air</th>\n",
       "      <th>secondary_cleaner.state.floatbank4_b_level</th>\n",
       "      <th>secondary_cleaner.state.floatbank5_a_air</th>\n",
       "      <th>secondary_cleaner.state.floatbank5_a_level</th>\n",
       "      <th>secondary_cleaner.state.floatbank5_b_air</th>\n",
       "      <th>secondary_cleaner.state.floatbank5_b_level</th>\n",
       "      <th>secondary_cleaner.state.floatbank6_a_air</th>\n",
       "      <th>secondary_cleaner.state.floatbank6_a_level</th>\n",
       "    </tr>\n",
       "  </thead>\n",
       "  <tbody>\n",
       "    <tr>\n",
       "      <th>0</th>\n",
       "      <td>2016-01-15 00:00:00</td>\n",
       "      <td>6.055403</td>\n",
       "      <td>9.889648</td>\n",
       "      <td>5.507324</td>\n",
       "      <td>42.192020</td>\n",
       "      <td>70.541216</td>\n",
       "      <td>10.411962</td>\n",
       "      <td>0.895447</td>\n",
       "      <td>16.904297</td>\n",
       "      <td>2.143149</td>\n",
       "      <td>...</td>\n",
       "      <td>14.016835</td>\n",
       "      <td>-502.488007</td>\n",
       "      <td>12.099931</td>\n",
       "      <td>-504.715942</td>\n",
       "      <td>9.925633</td>\n",
       "      <td>-498.310211</td>\n",
       "      <td>8.079666</td>\n",
       "      <td>-500.470978</td>\n",
       "      <td>14.151341</td>\n",
       "      <td>-605.841980</td>\n",
       "    </tr>\n",
       "    <tr>\n",
       "      <th>1</th>\n",
       "      <td>2016-01-15 01:00:00</td>\n",
       "      <td>6.029369</td>\n",
       "      <td>9.968944</td>\n",
       "      <td>5.257781</td>\n",
       "      <td>42.701629</td>\n",
       "      <td>69.266198</td>\n",
       "      <td>10.462676</td>\n",
       "      <td>0.927452</td>\n",
       "      <td>16.634514</td>\n",
       "      <td>2.224930</td>\n",
       "      <td>...</td>\n",
       "      <td>13.992281</td>\n",
       "      <td>-505.503262</td>\n",
       "      <td>11.950531</td>\n",
       "      <td>-501.331529</td>\n",
       "      <td>10.039245</td>\n",
       "      <td>-500.169983</td>\n",
       "      <td>7.984757</td>\n",
       "      <td>-500.582168</td>\n",
       "      <td>13.998353</td>\n",
       "      <td>-599.787184</td>\n",
       "    </tr>\n",
       "    <tr>\n",
       "      <th>2</th>\n",
       "      <td>2016-01-15 02:00:00</td>\n",
       "      <td>6.055926</td>\n",
       "      <td>10.213995</td>\n",
       "      <td>5.383759</td>\n",
       "      <td>42.657501</td>\n",
       "      <td>68.116445</td>\n",
       "      <td>10.507046</td>\n",
       "      <td>0.953716</td>\n",
       "      <td>16.208849</td>\n",
       "      <td>2.257889</td>\n",
       "      <td>...</td>\n",
       "      <td>14.015015</td>\n",
       "      <td>-502.520901</td>\n",
       "      <td>11.912783</td>\n",
       "      <td>-501.133383</td>\n",
       "      <td>10.070913</td>\n",
       "      <td>-500.129135</td>\n",
       "      <td>8.013877</td>\n",
       "      <td>-500.517572</td>\n",
       "      <td>14.028663</td>\n",
       "      <td>-601.427363</td>\n",
       "    </tr>\n",
       "    <tr>\n",
       "      <th>3</th>\n",
       "      <td>2016-01-15 03:00:00</td>\n",
       "      <td>6.047977</td>\n",
       "      <td>9.977019</td>\n",
       "      <td>4.858634</td>\n",
       "      <td>42.689819</td>\n",
       "      <td>68.347543</td>\n",
       "      <td>10.422762</td>\n",
       "      <td>0.883763</td>\n",
       "      <td>16.532835</td>\n",
       "      <td>2.146849</td>\n",
       "      <td>...</td>\n",
       "      <td>14.036510</td>\n",
       "      <td>-500.857308</td>\n",
       "      <td>11.999550</td>\n",
       "      <td>-501.193686</td>\n",
       "      <td>9.970366</td>\n",
       "      <td>-499.201640</td>\n",
       "      <td>7.977324</td>\n",
       "      <td>-500.255908</td>\n",
       "      <td>14.005551</td>\n",
       "      <td>-599.996129</td>\n",
       "    </tr>\n",
       "    <tr>\n",
       "      <th>4</th>\n",
       "      <td>2016-01-15 04:00:00</td>\n",
       "      <td>6.148599</td>\n",
       "      <td>10.142511</td>\n",
       "      <td>4.939416</td>\n",
       "      <td>42.774141</td>\n",
       "      <td>66.927016</td>\n",
       "      <td>10.360302</td>\n",
       "      <td>0.792826</td>\n",
       "      <td>16.525686</td>\n",
       "      <td>2.055292</td>\n",
       "      <td>...</td>\n",
       "      <td>14.027298</td>\n",
       "      <td>-499.838632</td>\n",
       "      <td>11.953070</td>\n",
       "      <td>-501.053894</td>\n",
       "      <td>9.925709</td>\n",
       "      <td>-501.686727</td>\n",
       "      <td>7.894242</td>\n",
       "      <td>-500.356035</td>\n",
       "      <td>13.996647</td>\n",
       "      <td>-601.496691</td>\n",
       "    </tr>\n",
       "  </tbody>\n",
       "</table>\n",
       "<p>5 rows × 87 columns</p>\n",
       "</div>"
      ],
      "text/plain": [
       "                  date  final.output.concentrate_ag  \\\n",
       "0  2016-01-15 00:00:00                     6.055403   \n",
       "1  2016-01-15 01:00:00                     6.029369   \n",
       "2  2016-01-15 02:00:00                     6.055926   \n",
       "3  2016-01-15 03:00:00                     6.047977   \n",
       "4  2016-01-15 04:00:00                     6.148599   \n",
       "\n",
       "   final.output.concentrate_pb  final.output.concentrate_sol  \\\n",
       "0                     9.889648                      5.507324   \n",
       "1                     9.968944                      5.257781   \n",
       "2                    10.213995                      5.383759   \n",
       "3                     9.977019                      4.858634   \n",
       "4                    10.142511                      4.939416   \n",
       "\n",
       "   final.output.concentrate_au  final.output.recovery  final.output.tail_ag  \\\n",
       "0                    42.192020              70.541216             10.411962   \n",
       "1                    42.701629              69.266198             10.462676   \n",
       "2                    42.657501              68.116445             10.507046   \n",
       "3                    42.689819              68.347543             10.422762   \n",
       "4                    42.774141              66.927016             10.360302   \n",
       "\n",
       "   final.output.tail_pb  final.output.tail_sol  final.output.tail_au  ...  \\\n",
       "0              0.895447              16.904297              2.143149  ...   \n",
       "1              0.927452              16.634514              2.224930  ...   \n",
       "2              0.953716              16.208849              2.257889  ...   \n",
       "3              0.883763              16.532835              2.146849  ...   \n",
       "4              0.792826              16.525686              2.055292  ...   \n",
       "\n",
       "   secondary_cleaner.state.floatbank4_a_air  \\\n",
       "0                                 14.016835   \n",
       "1                                 13.992281   \n",
       "2                                 14.015015   \n",
       "3                                 14.036510   \n",
       "4                                 14.027298   \n",
       "\n",
       "   secondary_cleaner.state.floatbank4_a_level  \\\n",
       "0                                 -502.488007   \n",
       "1                                 -505.503262   \n",
       "2                                 -502.520901   \n",
       "3                                 -500.857308   \n",
       "4                                 -499.838632   \n",
       "\n",
       "   secondary_cleaner.state.floatbank4_b_air  \\\n",
       "0                                 12.099931   \n",
       "1                                 11.950531   \n",
       "2                                 11.912783   \n",
       "3                                 11.999550   \n",
       "4                                 11.953070   \n",
       "\n",
       "   secondary_cleaner.state.floatbank4_b_level  \\\n",
       "0                                 -504.715942   \n",
       "1                                 -501.331529   \n",
       "2                                 -501.133383   \n",
       "3                                 -501.193686   \n",
       "4                                 -501.053894   \n",
       "\n",
       "   secondary_cleaner.state.floatbank5_a_air  \\\n",
       "0                                  9.925633   \n",
       "1                                 10.039245   \n",
       "2                                 10.070913   \n",
       "3                                  9.970366   \n",
       "4                                  9.925709   \n",
       "\n",
       "   secondary_cleaner.state.floatbank5_a_level  \\\n",
       "0                                 -498.310211   \n",
       "1                                 -500.169983   \n",
       "2                                 -500.129135   \n",
       "3                                 -499.201640   \n",
       "4                                 -501.686727   \n",
       "\n",
       "   secondary_cleaner.state.floatbank5_b_air  \\\n",
       "0                                  8.079666   \n",
       "1                                  7.984757   \n",
       "2                                  8.013877   \n",
       "3                                  7.977324   \n",
       "4                                  7.894242   \n",
       "\n",
       "   secondary_cleaner.state.floatbank5_b_level  \\\n",
       "0                                 -500.470978   \n",
       "1                                 -500.582168   \n",
       "2                                 -500.517572   \n",
       "3                                 -500.255908   \n",
       "4                                 -500.356035   \n",
       "\n",
       "   secondary_cleaner.state.floatbank6_a_air  \\\n",
       "0                                 14.151341   \n",
       "1                                 13.998353   \n",
       "2                                 14.028663   \n",
       "3                                 14.005551   \n",
       "4                                 13.996647   \n",
       "\n",
       "   secondary_cleaner.state.floatbank6_a_level  \n",
       "0                                 -605.841980  \n",
       "1                                 -599.787184  \n",
       "2                                 -601.427363  \n",
       "3                                 -599.996129  \n",
       "4                                 -601.496691  \n",
       "\n",
       "[5 rows x 87 columns]"
      ]
     },
     "execution_count": 8,
     "metadata": {},
     "output_type": "execute_result"
    }
   ],
   "source": [
    "gold_full.head()"
   ]
  },
  {
   "cell_type": "markdown",
   "metadata": {},
   "source": [
    "Check the table's general information:"
   ]
  },
  {
   "cell_type": "code",
   "execution_count": 9,
   "metadata": {},
   "outputs": [
    {
     "name": "stdout",
     "output_type": "stream",
     "text": [
      "<class 'pandas.core.frame.DataFrame'>\n",
      "RangeIndex: 22716 entries, 0 to 22715\n",
      "Data columns (total 87 columns):\n",
      " #   Column                                              Non-Null Count  Dtype  \n",
      "---  ------                                              --------------  -----  \n",
      " 0   date                                                22716 non-null  object \n",
      " 1   final.output.concentrate_ag                         22627 non-null  float64\n",
      " 2   final.output.concentrate_pb                         22629 non-null  float64\n",
      " 3   final.output.concentrate_sol                        22331 non-null  float64\n",
      " 4   final.output.concentrate_au                         22630 non-null  float64\n",
      " 5   final.output.recovery                               20753 non-null  float64\n",
      " 6   final.output.tail_ag                                22633 non-null  float64\n",
      " 7   final.output.tail_pb                                22516 non-null  float64\n",
      " 8   final.output.tail_sol                               22445 non-null  float64\n",
      " 9   final.output.tail_au                                22635 non-null  float64\n",
      " 10  primary_cleaner.input.sulfate                       21107 non-null  float64\n",
      " 11  primary_cleaner.input.depressant                    21170 non-null  float64\n",
      " 12  primary_cleaner.input.feed_size                     22716 non-null  float64\n",
      " 13  primary_cleaner.input.xanthate                      21565 non-null  float64\n",
      " 14  primary_cleaner.output.concentrate_ag               22618 non-null  float64\n",
      " 15  primary_cleaner.output.concentrate_pb               22268 non-null  float64\n",
      " 16  primary_cleaner.output.concentrate_sol              21918 non-null  float64\n",
      " 17  primary_cleaner.output.concentrate_au               22618 non-null  float64\n",
      " 18  primary_cleaner.output.tail_ag                      22614 non-null  float64\n",
      " 19  primary_cleaner.output.tail_pb                      22594 non-null  float64\n",
      " 20  primary_cleaner.output.tail_sol                     22365 non-null  float64\n",
      " 21  primary_cleaner.output.tail_au                      22617 non-null  float64\n",
      " 22  primary_cleaner.state.floatbank8_a_air              22660 non-null  float64\n",
      " 23  primary_cleaner.state.floatbank8_a_level            22667 non-null  float64\n",
      " 24  primary_cleaner.state.floatbank8_b_air              22660 non-null  float64\n",
      " 25  primary_cleaner.state.floatbank8_b_level            22673 non-null  float64\n",
      " 26  primary_cleaner.state.floatbank8_c_air              22662 non-null  float64\n",
      " 27  primary_cleaner.state.floatbank8_c_level            22673 non-null  float64\n",
      " 28  primary_cleaner.state.floatbank8_d_air              22661 non-null  float64\n",
      " 29  primary_cleaner.state.floatbank8_d_level            22673 non-null  float64\n",
      " 30  rougher.calculation.sulfate_to_au_concentrate       22672 non-null  float64\n",
      " 31  rougher.calculation.floatbank10_sulfate_to_au_feed  22672 non-null  float64\n",
      " 32  rougher.calculation.floatbank11_sulfate_to_au_feed  22672 non-null  float64\n",
      " 33  rougher.calculation.au_pb_ratio                     21089 non-null  float64\n",
      " 34  rougher.input.feed_ag                               22618 non-null  float64\n",
      " 35  rougher.input.feed_pb                               22472 non-null  float64\n",
      " 36  rougher.input.feed_rate                             22163 non-null  float64\n",
      " 37  rougher.input.feed_size                             22277 non-null  float64\n",
      " 38  rougher.input.feed_sol                              22357 non-null  float64\n",
      " 39  rougher.input.feed_au                               22617 non-null  float64\n",
      " 40  rougher.input.floatbank10_sulfate                   21415 non-null  float64\n",
      " 41  rougher.input.floatbank10_xanthate                  22247 non-null  float64\n",
      " 42  rougher.input.floatbank11_sulfate                   22038 non-null  float64\n",
      " 43  rougher.input.floatbank11_xanthate                  20459 non-null  float64\n",
      " 44  rougher.output.concentrate_ag                       22618 non-null  float64\n",
      " 45  rougher.output.concentrate_pb                       22618 non-null  float64\n",
      " 46  rougher.output.concentrate_sol                      22526 non-null  float64\n",
      " 47  rougher.output.concentrate_au                       22618 non-null  float64\n",
      " 48  rougher.output.recovery                             19597 non-null  float64\n",
      " 49  rougher.output.tail_ag                              19979 non-null  float64\n",
      " 50  rougher.output.tail_pb                              22618 non-null  float64\n",
      " 51  rougher.output.tail_sol                             19980 non-null  float64\n",
      " 52  rougher.output.tail_au                              19980 non-null  float64\n",
      " 53  rougher.state.floatbank10_a_air                     22646 non-null  float64\n",
      " 54  rougher.state.floatbank10_a_level                   22647 non-null  float64\n",
      " 55  rougher.state.floatbank10_b_air                     22646 non-null  float64\n",
      " 56  rougher.state.floatbank10_b_level                   22647 non-null  float64\n",
      " 57  rougher.state.floatbank10_c_air                     22646 non-null  float64\n",
      " 58  rougher.state.floatbank10_c_level                   22654 non-null  float64\n",
      " 59  rougher.state.floatbank10_d_air                     22641 non-null  float64\n",
      " 60  rougher.state.floatbank10_d_level                   22649 non-null  float64\n",
      " 61  rougher.state.floatbank10_e_air                     22096 non-null  float64\n",
      " 62  rougher.state.floatbank10_e_level                   22649 non-null  float64\n",
      " 63  rougher.state.floatbank10_f_air                     22641 non-null  float64\n",
      " 64  rougher.state.floatbank10_f_level                   22642 non-null  float64\n",
      " 65  secondary_cleaner.output.tail_ag                    22616 non-null  float64\n",
      " 66  secondary_cleaner.output.tail_pb                    22600 non-null  float64\n",
      " 67  secondary_cleaner.output.tail_sol                   20501 non-null  float64\n",
      " 68  secondary_cleaner.output.tail_au                    22618 non-null  float64\n",
      " 69  secondary_cleaner.state.floatbank2_a_air            22333 non-null  float64\n",
      " 70  secondary_cleaner.state.floatbank2_a_level          22591 non-null  float64\n",
      " 71  secondary_cleaner.state.floatbank2_b_air            22538 non-null  float64\n",
      " 72  secondary_cleaner.state.floatbank2_b_level          22588 non-null  float64\n",
      " 73  secondary_cleaner.state.floatbank3_a_air            22585 non-null  float64\n",
      " 74  secondary_cleaner.state.floatbank3_a_level          22587 non-null  float64\n",
      " 75  secondary_cleaner.state.floatbank3_b_air            22592 non-null  float64\n",
      " 76  secondary_cleaner.state.floatbank3_b_level          22590 non-null  float64\n",
      " 77  secondary_cleaner.state.floatbank4_a_air            22571 non-null  float64\n",
      " 78  secondary_cleaner.state.floatbank4_a_level          22587 non-null  float64\n",
      " 79  secondary_cleaner.state.floatbank4_b_air            22608 non-null  float64\n",
      " 80  secondary_cleaner.state.floatbank4_b_level          22607 non-null  float64\n",
      " 81  secondary_cleaner.state.floatbank5_a_air            22615 non-null  float64\n",
      " 82  secondary_cleaner.state.floatbank5_a_level          22615 non-null  float64\n",
      " 83  secondary_cleaner.state.floatbank5_b_air            22615 non-null  float64\n",
      " 84  secondary_cleaner.state.floatbank5_b_level          22616 non-null  float64\n",
      " 85  secondary_cleaner.state.floatbank6_a_air            22597 non-null  float64\n",
      " 86  secondary_cleaner.state.floatbank6_a_level          22615 non-null  float64\n",
      "dtypes: float64(86), object(1)\n",
      "memory usage: 15.1+ MB\n"
     ]
    }
   ],
   "source": [
    "gold_full.info()"
   ]
  },
  {
   "cell_type": "markdown",
   "metadata": {},
   "source": [
    "#### Conclusion:"
   ]
  },
  {
   "cell_type": "markdown",
   "metadata": {},
   "source": [
    "- The data in all files consists of information about metal concentrations at different stages."
   ]
  },
  {
   "cell_type": "markdown",
   "metadata": {},
   "source": [
    "###  Check that recovery is calculated correctly (rougher using train set). Find the MAE between your calculations and the feature values. "
   ]
  },
  {
   "cell_type": "markdown",
   "metadata": {},
   "source": [
    "calculating using the provided formula:"
   ]
  },
  {
   "attachments": {
    "image.png": {
     "image/png": "[encoded data removed]"
    }
   },
   "cell_type": "markdown",
   "metadata": {},
   "source": [
    "![image.png](attachment:image.png)"
   ]
  },
  {
   "cell_type": "code",
   "execution_count": 10,
   "metadata": {},
   "outputs": [],
   "source": [
    "C = gold_train[\"rougher.output.concentrate_au\"]\n",
    "F = gold_train[\"rougher.input.feed_au\"]\n",
    "T = gold_train[\"rougher.output.tail_au\"]\n",
    "\n",
    "gold_train[\"recovery\"] = (C * (F - T)) / (F * (C - T)) * 100"
   ]
  },
  {
   "cell_type": "markdown",
   "metadata": {},
   "source": [
    "Checking the MAE between our calculation and the feature values:"
   ]
  },
  {
   "cell_type": "code",
   "execution_count": 11,
   "metadata": {},
   "outputs": [
    {
     "name": "stdout",
     "output_type": "stream",
     "text": [
      "MAE: 9.303415616264301e-15\n"
     ]
    }
   ],
   "source": [
    "mae = (gold_train[\"recovery\"] - gold_train[\"rougher.output.recovery\"]).abs().mean()\n",
    "print(\"MAE:\", mae)"
   ]
  },
  {
   "cell_type": "markdown",
   "metadata": {},
   "source": [
    "#### Conclusion:"
   ]
  },
  {
   "cell_type": "markdown",
   "metadata": {},
   "source": [
    "- The mean absolute error is 9.3e-15 which is  a very small number ,hence we know that the feature values in the data are very accurate."
   ]
  },
  {
   "cell_type": "markdown",
   "metadata": {},
   "source": [
    "### Analyze the features not available in the test set. "
   ]
  },
  {
   "cell_type": "markdown",
   "metadata": {},
   "source": [
    "displaying the columns that exists in the full set but doesnt exist in the test set"
   ]
  },
  {
   "cell_type": "code",
   "execution_count": 12,
   "metadata": {},
   "outputs": [
    {
     "data": {
      "text/plain": [
       "Index(['final.output.concentrate_ag', 'final.output.concentrate_au',\n",
       "       'final.output.concentrate_pb', 'final.output.concentrate_sol',\n",
       "       'final.output.recovery', 'final.output.tail_ag', 'final.output.tail_au',\n",
       "       'final.output.tail_pb', 'final.output.tail_sol',\n",
       "       'primary_cleaner.output.concentrate_ag',\n",
       "       'primary_cleaner.output.concentrate_au',\n",
       "       'primary_cleaner.output.concentrate_pb',\n",
       "       'primary_cleaner.output.concentrate_sol',\n",
       "       'primary_cleaner.output.tail_ag', 'primary_cleaner.output.tail_au',\n",
       "       'primary_cleaner.output.tail_pb', 'primary_cleaner.output.tail_sol',\n",
       "       'recovery', 'rougher.calculation.au_pb_ratio',\n",
       "       'rougher.calculation.floatbank10_sulfate_to_au_feed',\n",
       "       'rougher.calculation.floatbank11_sulfate_to_au_feed',\n",
       "       'rougher.calculation.sulfate_to_au_concentrate',\n",
       "       'rougher.output.concentrate_ag', 'rougher.output.concentrate_au',\n",
       "       'rougher.output.concentrate_pb', 'rougher.output.concentrate_sol',\n",
       "       'rougher.output.recovery', 'rougher.output.tail_ag',\n",
       "       'rougher.output.tail_au', 'rougher.output.tail_pb',\n",
       "       'rougher.output.tail_sol', 'secondary_cleaner.output.tail_ag',\n",
       "       'secondary_cleaner.output.tail_au', 'secondary_cleaner.output.tail_pb',\n",
       "       'secondary_cleaner.output.tail_sol'],\n",
       "      dtype='object')"
      ]
     },
     "execution_count": 12,
     "metadata": {},
     "output_type": "execute_result"
    }
   ],
   "source": [
    "gold_train.columns.difference(gold_test.columns)"
   ]
  },
  {
   "cell_type": "markdown",
   "metadata": {},
   "source": [
    "#### Description & Conclusion:\n",
    "- The types of the features that arent available in the test set are output and calculation.\n",
    "- The parameters are output values at different stages for various metals. \n",
    "- final.output.recovery and rougher.output.recovery are our target variables and they will be added to the test set from the full dataset.\n",
    "- The rest of the output values are not necessary for the machine learning model training and testing."
   ]
  },
  {
   "cell_type": "markdown",
   "metadata": {},
   "source": [
    "### Data preprocessing"
   ]
  },
  {
   "cell_type": "markdown",
   "metadata": {},
   "source": [
    "Checking for duplicates:"
   ]
  },
  {
   "cell_type": "code",
   "execution_count": 13,
   "metadata": {},
   "outputs": [
    {
     "data": {
      "text/plain": [
       "0"
      ]
     },
     "execution_count": 13,
     "metadata": {},
     "output_type": "execute_result"
    }
   ],
   "source": [
    "gold_train.duplicated().sum()"
   ]
  },
  {
   "cell_type": "code",
   "execution_count": 14,
   "metadata": {},
   "outputs": [
    {
     "data": {
      "text/plain": [
       "0"
      ]
     },
     "execution_count": 14,
     "metadata": {},
     "output_type": "execute_result"
    }
   ],
   "source": [
    "gold_test.duplicated().sum()"
   ]
  },
  {
   "cell_type": "markdown",
   "metadata": {},
   "source": [
    "adding target values from gold_full to gold_test as we identified before they are missing, and dropping features that doesnt exist in both sets:"
   ]
  },
  {
   "cell_type": "code",
   "execution_count": 15,
   "metadata": {},
   "outputs": [],
   "source": [
    "#Merge target values from gold_full into gold_test\n",
    "gold_test = pd.merge(gold_test, gold_full[['date', 'final.output.recovery', 'rougher.output.recovery']],\n",
    "                      on='date',how='left'\n",
    "                     )\n",
    "#Drop features not in gold test from gold train\n",
    "gold_train = gold_train.drop(columns=[x for x in gold_train if x not in gold_test], axis=1)\n",
    "\n",
    " #Drop features in gold_test not in gold train\n",
    "gold_test = gold_test.drop(columns=[x for x in gold_test if x not in gold_train], axis=1)"
   ]
  },
  {
   "cell_type": "markdown",
   "metadata": {},
   "source": [
    "Checking for rows with missing values:"
   ]
  },
  {
   "cell_type": "code",
   "execution_count": 16,
   "metadata": {},
   "outputs": [
    {
     "name": "stdout",
     "output_type": "stream",
     "text": [
      "Rows with missing values in train set: 4181, 24.8% of total\n",
      "\n",
      "Rows with missing values in test set: 627, 10.71% of total\n"
     ]
    }
   ],
   "source": [
    "abs_value_t = gold_train.isna().any(axis=1).sum()\n",
    "abs_value_tst = gold_test.isna().any(axis=1).sum() \n",
    "pct_t = round(abs_value_t / len(gold_train) * 100,2)\n",
    "pct_tst = round(abs_value_tst / len(gold_test) * 100,2)\n",
    "print('Rows with missing values in train set: {}, {}% of total\\n\\nRows with missing values in test set: {}, {}% of total'.format(abs_value_t, \n",
    "                                                                                                            pct_t,\n",
    "                                                                                                           abs_value_tst,\n",
    "                                                                                                           pct_tst))"
   ]
  },
  {
   "cell_type": "markdown",
   "metadata": {},
   "source": [
    "##### Conclusion:\n",
    "We have too many rows with missing values, hence we can't delete them.\n",
    "- The project provider told us that parameters that are next to each other in terms of time(date) are often similar.\n",
    "- Knowing this, we will use KNNImputer to fill our missing values.\n",
    "- Before using the KNNImputer, we will scale the values as KNN is distance based algorithm that is affected by the scale of the variables."
   ]
  },
  {
   "cell_type": "markdown",
   "metadata": {},
   "source": [
    "#### Scale the data:"
   ]
  },
  {
   "cell_type": "code",
   "execution_count": 17,
   "metadata": {},
   "outputs": [],
   "source": [
    "scaler = MinMaxScaler()\n",
    "\n",
    "#lists for columns to scale and not to scale.\n",
    "\n",
    "scale_columns = [x for x in gold_train.columns if x not in ['date', 'rougher output.recovery', 'final.output.recovery']]\n",
    "non_scale_columns = ['date', 'rougher.output.recovery', 'final.output.recovery']\n",
    "                 \n",
    "#scale the data for training and testing datasets.\n",
    "\n",
    "gold_train_scaled = pd.DataFrame(scaler.fit_transform(gold_train[scale_columns].copy()), columns = scale_columns)\n",
    "gold_test_scaled = pd.DataFrame(scaler.transform(gold_test[scale_columns].copy()), columns = scale_columns)"
   ]
  },
  {
   "cell_type": "markdown",
   "metadata": {},
   "source": [
    "#### Impute missing values for features and drop remaining rows with missing values:"
   ]
  },
  {
   "cell_type": "code",
   "execution_count": 18,
   "metadata": {},
   "outputs": [],
   "source": [
    "#instance of KNNImputer class.\n",
    "imputer = KNNImputer()\n",
    "\n",
    "#scale the  values in both DataFrames and add the 'date' column back to each.\n",
    "\n",
    "gold_train_scaled = pd.concat([gold_train[non_scale_columns]] + \\\n",
    "                              [pd.DataFrame(imputer.fit_transform(gold_train_scaled), \\\n",
    "                               columns=gold_train_scaled.columns)], axis = 1)\n",
    "\n",
    "gold_test_scaled = pd.concat([gold_test[non_scale_columns]] + \\\n",
    "                             [pd.DataFrame(imputer.transform(gold_test_scaled), \\\n",
    "                              columns=gold_test_scaled.columns)], axis = 1)"
   ]
  },
  {
   "cell_type": "code",
   "execution_count": 19,
   "metadata": {},
   "outputs": [
    {
     "name": "stdout",
     "output_type": "stream",
     "text": [
      "% of rows with 1 or both targets missing in train set: 16.08\n",
      "% of rows with 1 or both targets missing in test set: 9.67\n"
     ]
    }
   ],
   "source": [
    "missing_targets_train = round(gold_train_scaled[['final.output.recovery','rougher.output.recovery']].isnull().any(axis=1).sum() \\\n",
    "                        / len(gold_train_scaled) * 100,2)\n",
    "missing_targets_test = round(gold_test_scaled[['final.output.recovery','rougher.output.recovery']].isnull().any(axis=1).sum() \\\n",
    "                       / len(gold_test_scaled) * 100,2)\n",
    "print('% of rows with 1 or both targets missing in train set: {}'.format(missing_targets_train))\n",
    "print('% of rows with 1 or both targets missing in test set: {}'.format(missing_targets_test))"
   ]
  },
  {
   "cell_type": "markdown",
   "metadata": {},
   "source": [
    "Drop the remaining rows with missings targets:"
   ]
  },
  {
   "cell_type": "code",
   "execution_count": 20,
   "metadata": {},
   "outputs": [],
   "source": [
    "gold_train_scaled = gold_train_scaled.dropna().reset_index(drop=True)\n",
    "gold_test_scaled = gold_test_scaled.dropna().reset_index(drop=True)"
   ]
  },
  {
   "cell_type": "markdown",
   "metadata": {},
   "source": [
    "### Conclusion:"
   ]
  },
  {
   "cell_type": "markdown",
   "metadata": {},
   "source": [
    "- There are no duplicate rows in the data.\n",
    "- We have scaled the data using MinMax scaler.\n",
    "- We have identified missing values in both test and train set and have filled them using KNNImputer."
   ]
  },
  {
   "cell_type": "markdown",
   "metadata": {},
   "source": [
    "<div class=\"alert alert-info\" style=\"background-color:#006a79; color:white; padding:0px 10px; border-radius:5px;\"><h2 style='margin:10px 5px'>Analyze the data</h2>\n",
    "</div>"
   ]
  },
  {
   "cell_type": "markdown",
   "metadata": {},
   "source": [
    "#### Take note of how the concentrations of metals (Au, Ag, Pb) change depending on the purification stage."
   ]
  },
  {
   "cell_type": "code",
   "execution_count": 21,
   "metadata": {},
   "outputs": [],
   "source": [
    "concentrations_au = gold_full[[\"rougher.input.feed_au\", \"rougher.output.concentrate_au\", \"primary_cleaner.output.concentrate_au\", \"final.output.concentrate_au\"]]\n",
    "concentrations_ag = gold_full[[\"rougher.input.feed_ag\", \"rougher.output.concentrate_ag\", \"primary_cleaner.output.concentrate_ag\", \"final.output.concentrate_ag\"]]\n",
    "concentrations_pb = gold_full[[\"rougher.input.feed_pb\", \"rougher.output.concentrate_pb\", \"primary_cleaner.output.concentrate_pb\", \"final.output.concentrate_pb\"]]"
   ]
  },
  {
   "cell_type": "code",
   "execution_count": 22,
   "metadata": {},
   "outputs": [
    {
     "data": {
      "image/png": "[encoded data removed]",
      "text/plain": [
       "<Figure size 720x1440 with 3 Axes>"
      ]
     },
     "metadata": {
      "needs_background": "light"
     },
     "output_type": "display_data"
    }
   ],
   "source": [
    "fig, axes = plt.subplots(3, 1, figsize=(10, 20))\n",
    "for column in list(concentrations_au):\n",
    "    sns.distplot(concentrations_au[column], ax=axes[0], kde=False)\n",
    "axes[0].set(title=\"Au\", xlabel=\"Concentration %\", ylabel=\"Amount\")\n",
    "for column in list(concentrations_ag):\n",
    "    sns.distplot(concentrations_ag[column], ax=axes[1], kde=False)\n",
    "axes[1].set(title=\"Ag\", xlabel=\"Concentration %\", ylabel=\"Amount\")\n",
    "for column in list(concentrations_pb):\n",
    "    sns.distplot(concentrations_pb[column], ax=axes[2], kde=False)\n",
    "axes[2].set(title=\"Pb\", xlabel=\"Concentration %\", ylabel=\"Amount\")\n",
    "fig.suptitle(\"Metal Concentraions at Purification Stages\")\n",
    "fig.legend([\"rougher.input.feed\", \"rougher.output.concentrate\", \"primary.cleaner.output concentrate\", \"final.output.concentrate\",])\n",
    "fig.show()\n"
   ]
  },
  {
   "cell_type": "markdown",
   "metadata": {},
   "source": [
    "#### Description & Conclusion:"
   ]
  },
  {
   "cell_type": "markdown",
   "metadata": {},
   "source": [
    "This graph shows the Au, Ag, and Pb metal concentrations at the purification stage.\n",
    "\n",
    "The concentration of Au increases unifomrly throughout the purification stage. The concentraion of Ag increases and decreases slightly throughout the stage resulting in a net decrease. The concnetration of Pb increases slightly throughout the stage resulting in a net increase similar to the primary cleaner output concentrate.\n",
    "\n",
    "- we also notice outliers at 0% concentration, which will be removed."
   ]
  },
  {
   "cell_type": "markdown",
   "metadata": {},
   "source": [
    "#### Compare the feed particle size distributions in the training set and in the test set."
   ]
  },
  {
   "cell_type": "code",
   "execution_count": 23,
   "metadata": {},
   "outputs": [
    {
     "data": {
      "image/png": "[encoded data removed]",
      "text/plain": [
       "<Figure size 720x1080 with 2 Axes>"
      ]
     },
     "metadata": {
      "needs_background": "light"
     },
     "output_type": "display_data"
    }
   ],
   "source": [
    "fig, axes = plt.subplots(2,1, figsize=(10, 15))\n",
    "axes[0].hist(gold_train[\"primary_cleaner.input.feed_size\"], density=True, alpha=0.5, bins=50)\n",
    "axes[0].hist(gold_test[\"primary_cleaner.input.feed_size\"], density=True, alpha=0.5, bins=50)\n",
    "axes[0].set(title=\"Primary Cleaner Input Feed Size\", xlabel=\"Amount\", ylabel=\"Size\")\n",
    "axes[1].hist(gold_train[\"rougher.input.feed_size\"], density=True, alpha=0.5, bins=50)\n",
    "axes[1].hist(gold_test[\"rougher.input.feed_size\"], density=True, alpha=0.5, bins=50)\n",
    "axes[1].set(title=\"Rougher Input Feed Size\", xlabel=\"Amount\", ylabel=\"Size\")\n",
    "fig.suptitle(\"Feed Particle Size Distribution\")\n",
    "fig.legend([\"Train Set\", \"Test Set\"])\n",
    "fig.show()"
   ]
  },
  {
   "cell_type": "markdown",
   "metadata": {},
   "source": [
    "#### Description  & conclusion:\n",
    "- The particle size distribution shows that the particles sizes do not vary siginificantly in the train and test set. Therefore the model evaluation may be correct."
   ]
  },
  {
   "cell_type": "markdown",
   "metadata": {},
   "source": [
    "#### Consider the total concentrations of all substances at different stages: raw feed, rougher concentrate, and final concentrate. Do you notice any abnormal values in the total distribution? If you do, is it worth removing such values from both samples? Describe the findings and eliminate anomalies.¶"
   ]
  },
  {
   "cell_type": "code",
   "execution_count": 25,
   "metadata": {},
   "outputs": [],
   "source": [
    "gold_full['raw_feed'] = gold_full[\"rougher.input.feed_au\"] + gold_full[\"rougher.input.feed_ag\"] + gold_full[\"rougher.input.feed_pb\"] + gold_full[\"rougher.input.feed_sol\"]\n",
    "\n",
    "gold_full['rougher_concentrations'] = gold_full[\"rougher.output.concentrate_au\"] + gold_full[\"rougher.output.concentrate_ag\"] + gold_full[\"rougher.output.concentrate_pb\"] + gold_full[\"rougher.output.concentrate_sol\"]\n",
    "\n",
    "gold_full['final_concentrations'] = gold_full[\"final.output.concentrate_au\"] + gold_full[\"final.output.concentrate_ag\"] + gold_full[\"final.output.concentrate_pb\"] + gold_full[\"final.output.concentrate_sol\"]\n"
   ]
  },
  {
   "cell_type": "code",
   "execution_count": 27,
   "metadata": {},
   "outputs": [
    {
     "data": {
      "image/png": "[encoded data removed]",
      "text/plain": [
       "<Figure size 720x432 with 1 Axes>"
      ]
     },
     "metadata": {
      "needs_background": "light"
     },
     "output_type": "display_data"
    }
   ],
   "source": [
    "fig = plt.figure(figsize=(10, 6))\n",
    "cols = ['raw_feed','rougher_concentrations','final_concentrations']\n",
    "for column in cols:\n",
    "    sns.distplot(gold_full[column], kde=False)\n",
    "plt.legend(cols)\n",
    "plt.title(\"Total Concentration at Stages\")\n",
    "plt.xlabel(\"Concentration %\")\n",
    "plt.ylabel(\"Amount\")\n",
    "fig.show()"
   ]
  },
  {
   "cell_type": "markdown",
   "metadata": {},
   "source": [
    "#### Description & Conclusion:\n",
    "- This graph shows the total concentration through all stages.\n",
    "- The concentration distributions at various stages all show abnormal values at 0%. \n",
    "Therefore it is worth removing these values from both samples (< 10%) to improve our model's accuracy."
   ]
  },
  {
   "cell_type": "markdown",
   "metadata": {},
   "source": [
    "#### Remove outliers:"
   ]
  },
  {
   "cell_type": "code",
   "execution_count": 28,
   "metadata": {},
   "outputs": [],
   "source": [
    "gold_full_no_outliers = gold_full.loc[(gold_full[['rougher.input.feed_au', 'rougher.input.feed_pb', \\\n",
    "                                                'rougher.input.feed_ag']].sum(axis=1) > 10)\n",
    "                                  & (gold_full[['rougher.output.concentrate_au', 'rougher.output.concentrate_pb', \\\n",
    "                                                'rougher.output.concentrate_ag']].sum(axis=1) > 10) \\\n",
    "                                  & (gold_full[['final.output.concentrate_au', 'final.output.concentrate_pb', \\\n",
    "                                                'final.output.concentrate_ag']].sum(axis=1) > 10)]"
   ]
  },
  {
   "cell_type": "markdown",
   "metadata": {},
   "source": [
    "Removing outliers from scaled testing and training datasets based on whether date is in gold_full_no_outliers."
   ]
  },
  {
   "cell_type": "code",
   "execution_count": 29,
   "metadata": {},
   "outputs": [],
   "source": [
    "gold_train_scaled = gold_train_scaled.loc[gold_train_scaled['date'].isin(gold_full_no_outliers['date'])].reset_index(drop=True)\n",
    "gold_test_scaled = gold_test_scaled.loc[gold_test_scaled['date'].isin(gold_full_no_outliers['date'])].reset_index(drop=True)"
   ]
  },
  {
   "cell_type": "markdown",
   "metadata": {},
   "source": [
    "Checking the new distribution:"
   ]
  },
  {
   "cell_type": "code",
   "execution_count": 30,
   "metadata": {},
   "outputs": [
    {
     "data": {
      "image/png": "[encoded data removed]",
      "text/plain": [
       "<Figure size 720x432 with 1 Axes>"
      ]
     },
     "metadata": {
      "needs_background": "light"
     },
     "output_type": "display_data"
    }
   ],
   "source": [
    "fig = plt.figure(figsize=(10, 6))\n",
    "cols = ['raw_feed','rougher_concentrations','final_concentrations']\n",
    "for column in cols:\n",
    "    sns.distplot(gold_full_no_outliers[column], kde=False)\n",
    "plt.legend(cols)\n",
    "plt.title(\"Total Concentration at Stages\")\n",
    "plt.xlabel(\"Concentration %\")\n",
    "plt.ylabel(\"Amount\")\n",
    "fig.show()"
   ]
  },
  {
   "cell_type": "markdown",
   "metadata": {},
   "source": [
    "#### Description & conclusion:\n",
    "- we see that our removal worked, and the lowest value being 10%\n",
    "- we have removed the outliers from the train and test set."
   ]
  },
  {
   "cell_type": "markdown",
   "metadata": {},
   "source": [
    "<div class=\"alert alert-info\" style=\"background-color:#006a79; color:white; padding:0px 10px; border-radius:5px;\"><h2 style='margin:10px 5px'>Build the model</h2>\n",
    "</div>"
   ]
  },
  {
   "cell_type": "markdown",
   "metadata": {},
   "source": [
    "#### Write a function to calculate the final sMAPE value"
   ]
  },
  {
   "attachments": {
    "image-2.png": {
     "image/png": "[encoded data removed]"
    },
    "image.png": {
     "image/png": "[encoded data removed]"
    }
   },
   "cell_type": "markdown",
   "metadata": {},
   "source": [
    "Using the provided formulas to calculate sMAPE:\n",
    "    \n",
    "![image.png](attachment:image.png)\n",
    "![image-2.png](attachment:image-2.png)"
   ]
  },
  {
   "cell_type": "markdown",
   "metadata": {},
   "source": [
    "#### Functions to calculate sMAPE and final sMAPE:"
   ]
  },
  {
   "cell_type": "code",
   "execution_count": 31,
   "metadata": {},
   "outputs": [],
   "source": [
    "def smape2(y_true, y_pred):\n",
    "    smape = np.mean(abs(y_pred - y_true) / ((abs(y_true) + abs(y_pred)) / 2)) * 100\n",
    "    return smape"
   ]
  },
  {
   "cell_type": "code",
   "execution_count": 32,
   "metadata": {},
   "outputs": [],
   "source": [
    "def f_smape(y_true, y_pred):\n",
    "    predicted_rough, predicted_final = y_pred[:, 0], y_pred[:, 1]\n",
    "    true_rough, true_final = y_true[:, 0], y_true[:, 1]\n",
    "    f_smape = (.25 * (smape2(true_rough, predicted_rough))) + (.75 * (smape2(true_final, predicted_final)))\n",
    "    return f_smape"
   ]
  },
  {
   "cell_type": "markdown",
   "metadata": {},
   "source": [
    "Creating the features and targets for train and test:"
   ]
  },
  {
   "cell_type": "code",
   "execution_count": 33,
   "metadata": {},
   "outputs": [],
   "source": [
    "targets = ['rougher.output.recovery', 'final.output.recovery']\n",
    "features = [x for x in gold_train_scaled if x not in targets and x != 'date']\n",
    "\n",
    "#Split training and testing datasets by features and targets.\n",
    "y_train, y_test = gold_train_scaled[targets].values, gold_test_scaled[targets].values\n",
    "X_train, X_test = gold_train_scaled[features].values, gold_test_scaled[features].values"
   ]
  },
  {
   "cell_type": "code",
   "execution_count": 34,
   "metadata": {},
   "outputs": [],
   "source": [
    "#Create scorer for GridSearchCV.\n",
    "\n",
    "smape = make_scorer(f_smape, greater_is_better=False)\n",
    "\n",
    "#function to train and fit models using GridSearchCV\n",
    "\n",
    "def train_fit_score(model, params, name):\n",
    "\n",
    "    model = GridSearchCV(model, param_grid=params, cv=5, scoring=smape, verbose=0, refit=True)\n",
    "    model.fit(X_train, y_train)\n",
    "    return pd.DataFrame([[name, abs(model.best_score_), model.best_params_]], columns=['Estimator', 'Best Score','Best Params'])"
   ]
  },
  {
   "cell_type": "code",
   "execution_count": 35,
   "metadata": {},
   "outputs": [],
   "source": [
    "#Decision Tree\n",
    "DecisionTree = train_fit_score(DecisionTreeRegressor(random_state=12345), \\\n",
    "                      {'max_depth': range(5, 20, 5), \\\n",
    "                       'min_impurity_decrease' : np.arange(.01, .20, .02), \\\n",
    "                       'min_samples_split' : range(2, 10, 2)}, 'Decision Tree')"
   ]
  },
  {
   "cell_type": "code",
   "execution_count": 36,
   "metadata": {},
   "outputs": [],
   "source": [
    "#Linear regressor\n",
    "LinearRegressor = train_fit_score(LinearRegression(), {}, 'Linear Regressor')"
   ]
  },
  {
   "cell_type": "code",
   "execution_count": 37,
   "metadata": {},
   "outputs": [],
   "source": [
    "#Lasso\n",
    "LassoRegressor = train_fit_score(Lasso(random_state=12345), \\\n",
    "                         {'alpha' : np.arange(.01, 1, .05)}, 'Lasso Regressor')"
   ]
  },
  {
   "cell_type": "code",
   "execution_count": 38,
   "metadata": {},
   "outputs": [],
   "source": [
    "#KNeighbors Regressor\n",
    "KNNeighbors = train_fit_score(KNeighborsRegressor(),\n",
    "                            {'n_neighbors' : range(2, 10, 1),\n",
    "                             'weights' : ['uniform', 'distance']}, 'KNeighbors Regressor')"
   ]
  },
  {
   "cell_type": "code",
   "execution_count": 39,
   "metadata": {},
   "outputs": [],
   "source": [
    "#RandomForest Regressor\n",
    "RandomForest = train_fit_score(RandomForestRegressor(random_state=12345),\n",
    "                             {'n_estimators' : range(10, 85, 25),\n",
    "                              'max_depth' : range(5, 45, 10),\n",
    "                              'min_impurity_decrease' : np.arange(.05, .25, .1)}, 'Random Forest')"
   ]
  },
  {
   "cell_type": "markdown",
   "metadata": {},
   "source": [
    "Display best scores:"
   ]
  },
  {
   "cell_type": "code",
   "execution_count": 40,
   "metadata": {},
   "outputs": [
    {
     "data": {
      "text/html": [
       "<div>\n",
       "<style scoped>\n",
       "    .dataframe tbody tr th:only-of-type {\n",
       "        vertical-align: middle;\n",
       "    }\n",
       "\n",
       "    .dataframe tbody tr th {\n",
       "        vertical-align: top;\n",
       "    }\n",
       "\n",
       "    .dataframe thead th {\n",
       "        text-align: right;\n",
       "    }\n",
       "</style>\n",
       "<table border=\"1\" class=\"dataframe\">\n",
       "  <thead>\n",
       "    <tr style=\"text-align: right;\">\n",
       "      <th></th>\n",
       "      <th>Best Score</th>\n",
       "    </tr>\n",
       "    <tr>\n",
       "      <th>Estimator</th>\n",
       "      <th></th>\n",
       "    </tr>\n",
       "  </thead>\n",
       "  <tbody>\n",
       "    <tr>\n",
       "      <th>Decision Tree</th>\n",
       "      <td>7.11</td>\n",
       "    </tr>\n",
       "    <tr>\n",
       "      <th>Linear Regressor</th>\n",
       "      <td>7.12</td>\n",
       "    </tr>\n",
       "    <tr>\n",
       "      <th>Lasso Regressor</th>\n",
       "      <td>7.32</td>\n",
       "    </tr>\n",
       "    <tr>\n",
       "      <th>KNeighbors Regressor</th>\n",
       "      <td>7.17</td>\n",
       "    </tr>\n",
       "    <tr>\n",
       "      <th>Random Forest</th>\n",
       "      <td>6.35</td>\n",
       "    </tr>\n",
       "  </tbody>\n",
       "</table>\n",
       "</div>"
      ],
      "text/plain": [
       "                      Best Score\n",
       "Estimator                       \n",
       "Decision Tree               7.11\n",
       "Linear Regressor            7.12\n",
       "Lasso Regressor             7.32\n",
       "KNeighbors Regressor        7.17\n",
       "Random Forest               6.35"
      ]
     },
     "metadata": {},
     "output_type": "display_data"
    }
   ],
   "source": [
    "scores = pd.concat([DecisionTree, LinearRegressor, LassoRegressor, KNNeighbors, RandomForest]).set_index('Estimator')\n",
    "scores['Best Score'] = scores['Best Score'].round(2)\n",
    "display(scores.drop('Best Params', axis=1))"
   ]
  },
  {
   "cell_type": "markdown",
   "metadata": {},
   "source": [
    "#### Description & Conclusion:\n",
    "We trained 5 different regression models and obtained the sMAPE scores using the predictions of each model. We\n",
    "used GridSearchCV to iterate through a series of hyperparameters for each model, we also specified that GridSearchCV use the sMAPE function we created for scoring and return the score for the model with the lowest average sMAPE score. Based on our results, it appears that the Linear Regressor performs the best, with approximately 7.12."
   ]
  },
  {
   "cell_type": "markdown",
   "metadata": {},
   "source": [
    "#### Test the Best Model on Testing Dataset:"
   ]
  },
  {
   "cell_type": "code",
   "execution_count": 51,
   "metadata": {},
   "outputs": [
    {
     "name": "stdout",
     "output_type": "stream",
     "text": [
      "sMAPE score for best Linear Regressor model on test datasets: 4.48\n"
     ]
    }
   ],
   "source": [
    "best_model = RandomForestRegressor(**scores['Best Params'][4]).fit(X_train, y_train)\n",
    "rf_smape = round(f_smape(y_test, best_model.predict(X_test)), 2)\n",
    "print(f'sMAPE score for best Random Forest model on test datasets: {rf_smape}')"
   ]
  },
  {
   "cell_type": "markdown",
   "metadata": {},
   "source": [
    "#### Conclusion:"
   ]
  },
  {
   "cell_type": "markdown",
   "metadata": {},
   "source": [
    "As it turns out, the sMAPE score for the testing datasets is better than the score for the training datasets. Our score of approximately 4.47 tells us that the model's forecast is off by an average of around 4.48 percent. Whereas this appears good, we cannot determine whether the value is indeed good without checking it against the sMAPE score of a naive forecasting model. As such, in the next section we will build a dummy regressor and check our SMAPE score against the score for a sanity check model."
   ]
  },
  {
   "cell_type": "markdown",
   "metadata": {},
   "source": [
    "#### Check the score against sanity check model:"
   ]
  },
  {
   "cell_type": "code",
   "execution_count": 52,
   "metadata": {},
   "outputs": [
    {
     "name": "stdout",
     "output_type": "stream",
     "text": [
      "sMAPE score for sanity check model: 5.13\n"
     ]
    }
   ],
   "source": [
    "smape_sanity = f_smape(y_test, np.tile(np.mean(y_train, axis=0), (len(y_test), 1)))\n",
    "\n",
    "print(f'sMAPE score for sanity check model: {round(smape_sanity, 2)}')"
   ]
  },
  {
   "cell_type": "markdown",
   "metadata": {},
   "source": [
    "### Conclusion:"
   ]
  },
  {
   "cell_type": "markdown",
   "metadata": {},
   "source": [
    "To summerize:\n",
    "\n",
    "- We first preprocessed the data; this involved checking for duplicates, scaling the data, filling the NaNS, and adding target values to the testing dataset. \n",
    "\n",
    "- We analyzed the data, examining the concentration of metals at various stages, visualizing the total concentration of all metals.\n",
    "\n",
    "- We built functions to calculate the final sMAPE score from predictions and target values, and we trained various regression estimators. \n",
    "\n",
    "- We selected the estimator which provided the lowest sMAPE score and obtained the score for the testing datasets using the identified optimal parameters. (Random Forest regressor)\n",
    "\n",
    "- Finally, we checked out score against the score provided by a sanity ‘model’.\n",
    "\n",
    "Whereas the sMAPE score for out best model appeared quite good at approximately 4.48 percent, we needed to test this model against a sanity ‘model’ to get an accurate idea of how our model performs. As it turns out, our sanity ‘models’ sMAPE score was 5.13 percent.\n",
    "\n",
    "We recommend to use RandomForest Regressor with the resulted parameters in order to have an improvment of - \n",
    "(5.13-4.48)/5.13 * 100% = 12.7%."
   ]
  }
 ],
 "metadata": {
  "ExecuteTimeLog": [
   {
    "duration": 17327,
    "start_time": "2021-10-27T16:59:46.410Z"
   },
   {
    "duration": 1191,
    "start_time": "2021-10-27T17:01:15.531Z"
   },
   {
    "duration": 4,
    "start_time": "2021-10-27T17:02:20.525Z"
   },
   {
    "duration": 836,
    "start_time": "2021-10-27T17:06:06.322Z"
   },
   {
    "duration": 22,
    "start_time": "2021-10-27T17:11:48.755Z"
   },
   {
    "duration": 18,
    "start_time": "2021-10-27T17:13:23.846Z"
   },
   {
    "duration": 21,
    "start_time": "2021-10-27T17:14:23.685Z"
   },
   {
    "duration": 12,
    "start_time": "2021-10-27T17:15:13.135Z"
   },
   {
    "duration": 22,
    "start_time": "2021-10-27T17:15:25.104Z"
   },
   {
    "duration": 19,
    "start_time": "2021-10-27T17:15:36.815Z"
   },
   {
    "duration": 6,
    "start_time": "2021-10-27T17:41:37.663Z"
   },
   {
    "duration": 19,
    "start_time": "2021-10-27T17:41:42.709Z"
   },
   {
    "duration": 5,
    "start_time": "2021-10-27T17:43:01.383Z"
   },
   {
    "duration": 4,
    "start_time": "2021-10-27T17:52:29.253Z"
   },
   {
    "duration": 5,
    "start_time": "2021-10-27T17:54:14.479Z"
   },
   {
    "duration": 5,
    "start_time": "2021-10-27T17:57:05.695Z"
   },
   {
    "duration": 5,
    "start_time": "2021-10-27T17:58:08.259Z"
   },
   {
    "duration": 272,
    "start_time": "2021-10-27T18:06:36.193Z"
   },
   {
    "duration": 22,
    "start_time": "2021-10-27T18:06:57.231Z"
   },
   {
    "duration": 88,
    "start_time": "2021-10-27T18:07:01.857Z"
   },
   {
    "duration": 83,
    "start_time": "2021-10-27T18:07:04.699Z"
   },
   {
    "duration": 22,
    "start_time": "2021-10-27T18:07:13.627Z"
   },
   {
    "duration": 121,
    "start_time": "2021-10-27T18:07:23.051Z"
   },
   {
    "duration": 55,
    "start_time": "2021-10-27T18:12:40.338Z"
   },
   {
    "duration": 57,
    "start_time": "2021-10-27T18:12:57.029Z"
   },
   {
    "duration": 66,
    "start_time": "2021-10-27T18:13:26.180Z"
   },
   {
    "duration": 37,
    "start_time": "2021-10-27T18:13:38.880Z"
   },
   {
    "duration": 8,
    "start_time": "2021-10-27T18:21:28.677Z"
   },
   {
    "duration": 7,
    "start_time": "2021-10-27T18:23:39.885Z"
   },
   {
    "duration": 6,
    "start_time": "2021-10-27T18:23:56.553Z"
   },
   {
    "duration": 6,
    "start_time": "2021-10-27T18:24:12.985Z"
   },
   {
    "duration": 9,
    "start_time": "2021-10-27T18:27:25.037Z"
   },
   {
    "duration": 9,
    "start_time": "2021-10-27T18:27:48.318Z"
   },
   {
    "duration": 13,
    "start_time": "2021-10-27T18:29:02.656Z"
   },
   {
    "duration": 57,
    "start_time": "2021-10-27T18:38:59.838Z"
   },
   {
    "duration": 26,
    "start_time": "2021-10-27T18:40:30.526Z"
   },
   {
    "duration": 19,
    "start_time": "2021-10-27T18:40:48.790Z"
   },
   {
    "duration": 172,
    "start_time": "2021-10-27T18:48:21.410Z"
   },
   {
    "duration": 5,
    "start_time": "2021-10-27T18:48:52.768Z"
   },
   {
    "duration": 18822,
    "start_time": "2021-10-27T18:48:55.630Z"
   },
   {
    "duration": 8,
    "start_time": "2021-10-27T18:49:36.830Z"
   },
   {
    "duration": 9,
    "start_time": "2021-10-27T18:50:14.079Z"
   },
   {
    "duration": 6,
    "start_time": "2021-10-27T18:50:44.127Z"
   },
   {
    "duration": 6,
    "start_time": "2021-10-27T18:50:50.976Z"
   },
   {
    "duration": 6,
    "start_time": "2021-10-27T18:50:55.950Z"
   },
   {
    "duration": 6,
    "start_time": "2021-10-27T18:51:13.406Z"
   },
   {
    "duration": 8,
    "start_time": "2021-10-27T18:53:10.040Z"
   },
   {
    "duration": 7,
    "start_time": "2021-10-27T18:53:24.192Z"
   },
   {
    "duration": 9,
    "start_time": "2021-10-27T18:54:41.319Z"
   },
   {
    "duration": 15,
    "start_time": "2021-10-27T18:57:34.516Z"
   },
   {
    "duration": 7,
    "start_time": "2021-10-27T18:57:37.957Z"
   },
   {
    "duration": 63,
    "start_time": "2021-10-27T18:59:53.511Z"
   },
   {
    "duration": 6,
    "start_time": "2021-10-27T22:40:55.164Z"
   },
   {
    "duration": 1683,
    "start_time": "2021-10-27T22:41:13.668Z"
   },
   {
    "duration": 935,
    "start_time": "2021-10-27T23:08:12.301Z"
   },
   {
    "duration": 173,
    "start_time": "2021-10-27T23:14:08.393Z"
   },
   {
    "duration": 7,
    "start_time": "2021-10-27T23:14:31.817Z"
   },
   {
    "duration": 492,
    "start_time": "2021-10-27T23:15:07.137Z"
   },
   {
    "duration": 6804,
    "start_time": "2021-10-27T23:30:03.745Z"
   },
   {
    "duration": 1144,
    "start_time": "2021-10-27T23:30:10.551Z"
   },
   {
    "duration": 854,
    "start_time": "2021-10-27T23:30:11.697Z"
   },
   {
    "duration": 22,
    "start_time": "2021-10-27T23:30:12.553Z"
   },
   {
    "duration": 27,
    "start_time": "2021-10-27T23:30:12.576Z"
   },
   {
    "duration": 17,
    "start_time": "2021-10-27T23:30:12.604Z"
   },
   {
    "duration": 13,
    "start_time": "2021-10-27T23:30:12.623Z"
   },
   {
    "duration": 18,
    "start_time": "2021-10-27T23:30:12.638Z"
   },
   {
    "duration": 40,
    "start_time": "2021-10-27T23:30:12.658Z"
   },
   {
    "duration": 4,
    "start_time": "2021-10-27T23:30:12.700Z"
   },
   {
    "duration": 6,
    "start_time": "2021-10-27T23:30:12.705Z"
   },
   {
    "duration": 4,
    "start_time": "2021-10-27T23:30:12.713Z"
   },
   {
    "duration": 103,
    "start_time": "2021-10-27T23:30:12.718Z"
   },
   {
    "duration": 22,
    "start_time": "2021-10-27T23:30:12.823Z"
   },
   {
    "duration": 45,
    "start_time": "2021-10-27T23:30:12.846Z"
   },
   {
    "duration": 8,
    "start_time": "2021-10-27T23:30:12.893Z"
   },
   {
    "duration": 24,
    "start_time": "2021-10-27T23:30:12.903Z"
   },
   {
    "duration": 18664,
    "start_time": "2021-10-27T23:30:12.928Z"
   },
   {
    "duration": 11,
    "start_time": "2021-10-27T23:30:31.594Z"
   },
   {
    "duration": 15,
    "start_time": "2021-10-27T23:30:31.607Z"
   },
   {
    "duration": 5,
    "start_time": "2021-10-27T23:30:31.624Z"
   },
   {
    "duration": 1673,
    "start_time": "2021-10-27T23:30:31.630Z"
   },
   {
    "duration": 762,
    "start_time": "2021-10-27T23:30:33.306Z"
   },
   {
    "duration": 3,
    "start_time": "2021-10-27T23:30:34.070Z"
   },
   {
    "duration": 7,
    "start_time": "2021-10-27T23:30:34.075Z"
   },
   {
    "duration": 20,
    "start_time": "2021-10-27T23:30:34.083Z"
   },
   {
    "duration": 499,
    "start_time": "2021-10-27T23:30:34.105Z"
   },
   {
    "duration": 2377,
    "start_time": "2021-10-27T23:30:34.606Z"
   },
   {
    "duration": 6259,
    "start_time": "2021-10-27T23:33:37.387Z"
   },
   {
    "duration": 1163,
    "start_time": "2021-10-27T23:33:43.648Z"
   },
   {
    "duration": 851,
    "start_time": "2021-10-27T23:33:44.813Z"
   },
   {
    "duration": 26,
    "start_time": "2021-10-27T23:33:45.666Z"
   },
   {
    "duration": 17,
    "start_time": "2021-10-27T23:33:45.694Z"
   },
   {
    "duration": 18,
    "start_time": "2021-10-27T23:33:45.712Z"
   },
   {
    "duration": 12,
    "start_time": "2021-10-27T23:33:45.732Z"
   },
   {
    "duration": 18,
    "start_time": "2021-10-27T23:33:45.746Z"
   },
   {
    "duration": 39,
    "start_time": "2021-10-27T23:33:45.766Z"
   },
   {
    "duration": 4,
    "start_time": "2021-10-27T23:33:45.807Z"
   },
   {
    "duration": 6,
    "start_time": "2021-10-27T23:33:45.813Z"
   },
   {
    "duration": 5,
    "start_time": "2021-10-27T23:33:45.820Z"
   },
   {
    "duration": 112,
    "start_time": "2021-10-27T23:33:45.827Z"
   },
   {
    "duration": 25,
    "start_time": "2021-10-27T23:33:45.941Z"
   },
   {
    "duration": 46,
    "start_time": "2021-10-27T23:33:45.968Z"
   },
   {
    "duration": 9,
    "start_time": "2021-10-27T23:33:46.015Z"
   },
   {
    "duration": 25,
    "start_time": "2021-10-27T23:33:46.025Z"
   },
   {
    "duration": 18236,
    "start_time": "2021-10-27T23:33:46.052Z"
   },
   {
    "duration": 11,
    "start_time": "2021-10-27T23:34:04.290Z"
   },
   {
    "duration": 14,
    "start_time": "2021-10-27T23:34:04.302Z"
   },
   {
    "duration": 5,
    "start_time": "2021-10-27T23:34:04.318Z"
   },
   {
    "duration": 1765,
    "start_time": "2021-10-27T23:34:04.324Z"
   },
   {
    "duration": 811,
    "start_time": "2021-10-27T23:34:06.092Z"
   },
   {
    "duration": 2,
    "start_time": "2021-10-27T23:34:06.905Z"
   },
   {
    "duration": 10,
    "start_time": "2021-10-27T23:34:06.908Z"
   },
   {
    "duration": 2,
    "start_time": "2021-10-27T23:34:06.920Z"
   },
   {
    "duration": 578,
    "start_time": "2021-10-27T23:34:06.924Z"
   },
   {
    "duration": 271,
    "start_time": "2021-10-27T23:34:07.504Z"
   },
   {
    "duration": 2335,
    "start_time": "2021-10-27T23:35:15.997Z"
   },
   {
    "duration": 2215,
    "start_time": "2021-10-27T23:35:47.047Z"
   },
   {
    "duration": 174,
    "start_time": "2021-10-27T23:40:57.843Z"
   },
   {
    "duration": 176,
    "start_time": "2021-10-27T23:41:37.149Z"
   },
   {
    "duration": 202,
    "start_time": "2021-10-27T23:41:49.949Z"
   },
   {
    "duration": 14,
    "start_time": "2021-10-27T23:41:57.741Z"
   },
   {
    "duration": 18,
    "start_time": "2021-10-27T23:45:15.837Z"
   },
   {
    "duration": 22,
    "start_time": "2021-10-27T23:45:22.543Z"
   },
   {
    "duration": 16,
    "start_time": "2021-10-27T23:45:30.317Z"
   },
   {
    "duration": 20,
    "start_time": "2021-10-27T23:45:31.413Z"
   },
   {
    "duration": 21,
    "start_time": "2021-10-27T23:45:42.705Z"
   },
   {
    "duration": 21,
    "start_time": "2021-10-27T23:46:27.217Z"
   },
   {
    "duration": 6277,
    "start_time": "2021-10-27T23:47:36.092Z"
   },
   {
    "duration": 1212,
    "start_time": "2021-10-27T23:47:42.371Z"
   },
   {
    "duration": 850,
    "start_time": "2021-10-27T23:47:43.585Z"
   },
   {
    "duration": 22,
    "start_time": "2021-10-27T23:47:44.437Z"
   },
   {
    "duration": 16,
    "start_time": "2021-10-27T23:47:44.460Z"
   },
   {
    "duration": 31,
    "start_time": "2021-10-27T23:47:44.477Z"
   },
   {
    "duration": 12,
    "start_time": "2021-10-27T23:47:44.509Z"
   },
   {
    "duration": 18,
    "start_time": "2021-10-27T23:47:44.524Z"
   },
   {
    "duration": 16,
    "start_time": "2021-10-27T23:47:44.544Z"
   },
   {
    "duration": 33,
    "start_time": "2021-10-27T23:47:44.562Z"
   },
   {
    "duration": 7,
    "start_time": "2021-10-27T23:47:44.597Z"
   },
   {
    "duration": 5,
    "start_time": "2021-10-27T23:47:44.605Z"
   },
   {
    "duration": 109,
    "start_time": "2021-10-27T23:47:44.612Z"
   },
   {
    "duration": 20,
    "start_time": "2021-10-27T23:47:44.723Z"
   },
   {
    "duration": 46,
    "start_time": "2021-10-27T23:47:44.745Z"
   },
   {
    "duration": 8,
    "start_time": "2021-10-27T23:47:44.793Z"
   },
   {
    "duration": 24,
    "start_time": "2021-10-27T23:47:44.802Z"
   },
   {
    "duration": 18252,
    "start_time": "2021-10-27T23:47:44.827Z"
   },
   {
    "duration": 20,
    "start_time": "2021-10-27T23:48:03.081Z"
   },
   {
    "duration": 14,
    "start_time": "2021-10-27T23:48:03.102Z"
   },
   {
    "duration": 6,
    "start_time": "2021-10-27T23:48:03.118Z"
   },
   {
    "duration": 1674,
    "start_time": "2021-10-27T23:48:03.126Z"
   },
   {
    "duration": 797,
    "start_time": "2021-10-27T23:48:04.803Z"
   },
   {
    "duration": 2,
    "start_time": "2021-10-27T23:48:05.602Z"
   },
   {
    "duration": 11,
    "start_time": "2021-10-27T23:48:05.605Z"
   },
   {
    "duration": 2,
    "start_time": "2021-10-27T23:48:05.617Z"
   },
   {
    "duration": 521,
    "start_time": "2021-10-27T23:48:05.621Z"
   },
   {
    "duration": 21,
    "start_time": "2021-10-27T23:48:06.144Z"
   },
   {
    "duration": 34,
    "start_time": "2021-10-27T23:48:06.166Z"
   },
   {
    "duration": 19,
    "start_time": "2021-10-27T23:48:06.201Z"
   },
   {
    "duration": 629,
    "start_time": "2021-10-27T23:49:48.406Z"
   },
   {
    "duration": 62,
    "start_time": "2021-10-27T23:56:40.989Z"
   },
   {
    "duration": 3,
    "start_time": "2021-10-27T23:56:45.389Z"
   },
   {
    "duration": 3,
    "start_time": "2021-10-27T23:59:38.705Z"
   },
   {
    "duration": 66,
    "start_time": "2021-10-28T00:01:14.608Z"
   },
   {
    "duration": 78,
    "start_time": "2021-10-28T00:01:25.009Z"
   },
   {
    "duration": 8,
    "start_time": "2021-10-28T00:01:31.905Z"
   },
   {
    "duration": 59,
    "start_time": "2021-10-28T00:06:39.925Z"
   },
   {
    "duration": 63,
    "start_time": "2021-10-28T00:06:47.285Z"
   },
   {
    "duration": 4,
    "start_time": "2021-10-28T00:07:02.661Z"
   },
   {
    "duration": 455,
    "start_time": "2021-10-28T00:09:33.063Z"
   },
   {
    "duration": 5,
    "start_time": "2021-10-28T00:09:57.547Z"
   },
   {
    "duration": 67111,
    "start_time": "2021-10-28T00:10:01.883Z"
   },
   {
    "duration": 275,
    "start_time": "2021-10-28T00:11:42.170Z"
   },
   {
    "duration": 38312,
    "start_time": "2021-10-28T00:11:57.434Z"
   },
   {
    "duration": 68395,
    "start_time": "2021-10-28T00:12:39.691Z"
   },
   {
    "duration": 4,
    "start_time": "2021-10-28T00:15:41.549Z"
   },
   {
    "duration": 67052,
    "start_time": "2021-10-28T00:15:43.313Z"
   },
   {
    "duration": 1500,
    "start_time": "2021-10-28T00:18:25.696Z"
   },
   {
    "duration": 7,
    "start_time": "2021-10-28T00:18:57.216Z"
   },
   {
    "duration": 7,
    "start_time": "2021-10-28T00:19:16.696Z"
   },
   {
    "duration": 2,
    "start_time": "2021-10-28T00:20:43.858Z"
   },
   {
    "duration": 3,
    "start_time": "2021-10-28T00:20:44.738Z"
   },
   {
    "duration": 4,
    "start_time": "2021-10-28T00:20:58.178Z"
   },
   {
    "duration": 34519,
    "start_time": "2021-10-28T00:21:00.482Z"
   },
   {
    "duration": 4,
    "start_time": "2021-10-28T00:21:37.809Z"
   },
   {
    "duration": 4,
    "start_time": "2021-10-28T00:21:39.043Z"
   },
   {
    "duration": 4,
    "start_time": "2021-10-28T00:21:44.723Z"
   },
   {
    "duration": 53560,
    "start_time": "2021-10-28T00:21:46.116Z"
   },
   {
    "duration": 1364,
    "start_time": "2021-10-28T00:22:44.228Z"
   },
   {
    "duration": 7,
    "start_time": "2021-10-28T00:22:46.474Z"
   },
   {
    "duration": 7,
    "start_time": "2021-10-28T00:22:54.516Z"
   },
   {
    "duration": 74,
    "start_time": "2021-10-28T00:28:48.448Z"
   },
   {
    "duration": 35465,
    "start_time": "2021-10-28T00:28:54.632Z"
   },
   {
    "duration": 8,
    "start_time": "2021-10-28T00:30:10.106Z"
   },
   {
    "duration": 194,
    "start_time": "2021-10-28T00:31:40.986Z"
   },
   {
    "duration": 4,
    "start_time": "2021-10-28T00:32:11.196Z"
   },
   {
    "duration": 76136,
    "start_time": "2021-10-28T00:32:15.228Z"
   },
   {
    "duration": 427390,
    "start_time": "2021-10-28T00:35:53.038Z"
   },
   {
    "duration": 19,
    "start_time": "2021-10-28T00:43:29.688Z"
   },
   {
    "duration": 257217,
    "start_time": "2021-10-28T00:48:30.664Z"
   },
   {
    "duration": 197,
    "start_time": "2021-10-28T00:57:11.024Z"
   },
   {
    "duration": 11,
    "start_time": "2021-10-28T00:57:16.402Z"
   },
   {
    "duration": 186,
    "start_time": "2021-10-28T01:01:33.666Z"
   },
   {
    "duration": 8,
    "start_time": "2021-10-28T01:01:37.172Z"
   },
   {
    "duration": 180,
    "start_time": "2021-10-28T01:02:25.877Z"
   },
   {
    "duration": 943,
    "start_time": "2021-10-28T01:02:39.156Z"
   },
   {
    "duration": 11,
    "start_time": "2021-10-28T01:02:42.005Z"
   },
   {
    "duration": 221,
    "start_time": "2021-10-28T01:04:04.264Z"
   },
   {
    "duration": 55,
    "start_time": "2021-10-28T01:04:36.039Z"
   },
   {
    "duration": 44,
    "start_time": "2021-10-28T01:05:19.350Z"
   },
   {
    "duration": 4,
    "start_time": "2021-10-28T01:11:31.343Z"
   },
   {
    "duration": 6438,
    "start_time": "2021-10-28T01:23:32.905Z"
   },
   {
    "duration": 1144,
    "start_time": "2021-10-28T01:23:39.345Z"
   },
   {
    "duration": 836,
    "start_time": "2021-10-28T01:23:40.492Z"
   },
   {
    "duration": 22,
    "start_time": "2021-10-28T01:23:41.330Z"
   },
   {
    "duration": 17,
    "start_time": "2021-10-28T01:23:41.353Z"
   },
   {
    "duration": 36,
    "start_time": "2021-10-28T01:23:41.371Z"
   },
   {
    "duration": 11,
    "start_time": "2021-10-28T01:23:41.408Z"
   },
   {
    "duration": 18,
    "start_time": "2021-10-28T01:23:41.421Z"
   },
   {
    "duration": 16,
    "start_time": "2021-10-28T01:23:41.440Z"
   },
   {
    "duration": 4,
    "start_time": "2021-10-28T01:23:41.457Z"
   },
   {
    "duration": 32,
    "start_time": "2021-10-28T01:23:41.462Z"
   },
   {
    "duration": 6,
    "start_time": "2021-10-28T01:23:41.496Z"
   },
   {
    "duration": 94,
    "start_time": "2021-10-28T01:23:41.504Z"
   },
   {
    "duration": 21,
    "start_time": "2021-10-28T01:23:41.599Z"
   },
   {
    "duration": 31,
    "start_time": "2021-10-28T01:23:41.622Z"
   },
   {
    "duration": 8,
    "start_time": "2021-10-28T01:23:41.654Z"
   },
   {
    "duration": 48,
    "start_time": "2021-10-28T01:23:41.664Z"
   },
   {
    "duration": 18414,
    "start_time": "2021-10-28T01:23:41.714Z"
   },
   {
    "duration": 11,
    "start_time": "2021-10-28T01:24:00.130Z"
   },
   {
    "duration": 15,
    "start_time": "2021-10-28T01:24:00.143Z"
   },
   {
    "duration": 5,
    "start_time": "2021-10-28T01:24:00.160Z"
   },
   {
    "duration": 1736,
    "start_time": "2021-10-28T01:24:00.167Z"
   },
   {
    "duration": 801,
    "start_time": "2021-10-28T01:24:01.907Z"
   },
   {
    "duration": 2,
    "start_time": "2021-10-28T01:24:02.711Z"
   },
   {
    "duration": 14,
    "start_time": "2021-10-28T01:24:02.715Z"
   },
   {
    "duration": 5,
    "start_time": "2021-10-28T01:24:02.731Z"
   },
   {
    "duration": 527,
    "start_time": "2021-10-28T01:24:02.738Z"
   },
   {
    "duration": 29,
    "start_time": "2021-10-28T01:24:03.267Z"
   },
   {
    "duration": 19,
    "start_time": "2021-10-28T01:24:03.298Z"
   },
   {
    "duration": 673,
    "start_time": "2021-10-28T01:24:03.318Z"
   },
   {
    "duration": 4,
    "start_time": "2021-10-28T01:24:03.993Z"
   },
   {
    "duration": 7,
    "start_time": "2021-10-28T01:24:03.999Z"
   },
   {
    "duration": 21,
    "start_time": "2021-10-28T01:24:04.007Z"
   },
   {
    "duration": 6,
    "start_time": "2021-10-28T01:24:04.030Z"
   },
   {
    "duration": 216211,
    "start_time": "2021-10-28T01:24:04.038Z"
   },
   {
    "duration": 1441,
    "start_time": "2021-10-28T01:27:40.251Z"
   },
   {
    "duration": 36802,
    "start_time": "2021-10-28T01:27:41.694Z"
   },
   {
    "duration": 76171,
    "start_time": "2021-10-28T01:28:18.499Z"
   },
   {
    "duration": 984453,
    "start_time": "2021-10-28T01:29:34.672Z"
   },
   {
    "duration": 10,
    "start_time": "2021-10-28T01:45:59.126Z"
   },
   {
    "duration": 161,
    "start_time": "2021-10-28T01:45:59.138Z"
   },
   {
    "duration": 5,
    "start_time": "2021-10-28T01:45:59.391Z"
   },
   {
    "duration": 5,
    "start_time": "2021-10-28T01:47:35.938Z"
   },
   {
    "duration": 4,
    "start_time": "2021-10-28T01:47:42.637Z"
   },
   {
    "duration": 6,
    "start_time": "2021-10-28T01:47:50.495Z"
   },
   {
    "duration": 4,
    "start_time": "2021-10-28T01:47:54.785Z"
   },
   {
    "duration": 287,
    "start_time": "2021-10-28T01:47:58.658Z"
   },
   {
    "duration": 7,
    "start_time": "2021-10-28T01:48:00.433Z"
   },
   {
    "duration": 4,
    "start_time": "2021-10-28T01:48:02.978Z"
   },
   {
    "duration": 59,
    "start_time": "2021-10-28T01:49:04.659Z"
   },
   {
    "duration": 15709,
    "start_time": "2021-10-28T01:49:12.369Z"
   },
   {
    "duration": 4,
    "start_time": "2021-10-28T01:50:22.487Z"
   },
   {
    "duration": 169,
    "start_time": "2021-10-28T01:52:22.197Z"
   },
   {
    "duration": 933,
    "start_time": "2021-10-28T01:53:34.677Z"
   },
   {
    "duration": 14,
    "start_time": "2021-10-28T18:47:04.473Z"
   },
   {
    "duration": 5,
    "start_time": "2021-10-28T18:47:10.304Z"
   },
   {
    "duration": 6,
    "start_time": "2021-10-28T18:47:27.680Z"
   },
   {
    "duration": 7,
    "start_time": "2021-10-28T18:47:31.153Z"
   },
   {
    "duration": 5719,
    "start_time": "2021-11-09T18:09:09.889Z"
   }
  ],
  "kernelspec": {
   "display_name": "Python 3",
   "language": "python",
   "name": "python3"
  },
  "language_info": {
   "codemirror_mode": {
    "name": "ipython",
    "version": 3
   },
   "file_extension": ".py",
   "mimetype": "text/x-python",
   "name": "python",
   "nbconvert_exporter": "python",
   "pygments_lexer": "ipython3",
   "version": "3.8.8"
  },
  "toc": {
   "base_numbering": 1,
   "nav_menu": {},
   "number_sections": true,
   "sideBar": true,
   "skip_h1_title": true,
   "title_cell": "Table of Contents",
   "title_sidebar": "Contents",
   "toc_cell": false,
   "toc_position": {},
   "toc_section_display": true,
   "toc_window_display": false
  }
 },
 "nbformat": 4,
 "nbformat_minor": 2
}
