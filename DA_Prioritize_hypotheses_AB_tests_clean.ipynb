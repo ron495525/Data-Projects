{
 "cells": [
  {
   "cell_type": "markdown",
   "metadata": {},
   "source": [
    "# Project Description \n",
    "You are an analyst at a big online store. Together with the marketing\n",
    "department, you've compiled a list of hypotheses that may help boost\n",
    "revenue."
   ]
  },
  {
   "cell_type": "markdown",
   "metadata": {},
   "source": [
    "# Project's Goal\n",
    "Prioritize hypotheses, launch an A/B test, and analyze the results."
   ]
  },
  {
   "cell_type": "markdown",
   "metadata": {},
   "source": [
    "<div class=\"alert alert-info\" style=\"background-color:#006a79; color:white; padding:0px 10px; border-radius:5px;\"><h2 style='margin:10px 5px'>Load, overview and prepare the data</h2>\n",
    "</div>"
   ]
  },
  {
   "cell_type": "markdown",
   "metadata": {},
   "source": [
    "table formatting"
   ]
  },
  {
   "cell_type": "code",
   "execution_count": 7,
   "metadata": {},
   "outputs": [
    {
     "data": {
      "text/html": [
       "<style type=\"text/css\">\n",
       "    table.dataframe td, table.dataframe th {\n",
       "        border: 1px solid lightgray;\n",
       "    }\n",
       "</style>\n"
      ],
      "text/plain": [
       "<IPython.core.display.HTML object>"
      ]
     },
     "metadata": {},
     "output_type": "display_data"
    }
   ],
   "source": [
    "%%HTML\n",
    "<style type=\"text/css\">\n",
    "    table.dataframe td, table.dataframe th {\n",
    "        border: 1px solid lightgray;\n",
    "    }\n",
    "</style>"
   ]
  },
  {
   "cell_type": "markdown",
   "metadata": {},
   "source": [
    "Import libraries"
   ]
  },
  {
   "cell_type": "code",
   "execution_count": 8,
   "metadata": {},
   "outputs": [
    {
     "name": "stdout",
     "output_type": "stream",
     "text": [
      "Defaulting to user installation because normal site-packages is not writeable\n",
      "Collecting matplotlib==3.4.0\n",
      "  Downloading matplotlib-3.4.0-cp37-cp37m-manylinux1_x86_64.whl (10.3 MB)\n",
      "\u001b[K     |████████████████████████████████| 10.3 MB 805 kB/s eta 0:00:01\n",
      "\u001b[?25hRequirement already satisfied: pyparsing>=2.2.1 in /opt/conda/lib/python3.7/site-packages (from matplotlib==3.4.0) (2.4.7)\n",
      "Requirement already satisfied: python-dateutil>=2.7 in /opt/conda/lib/python3.7/site-packages (from matplotlib==3.4.0) (2.8.1)\n",
      "Requirement already satisfied: cycler>=0.10 in /opt/conda/lib/python3.7/site-packages (from matplotlib==3.4.0) (0.10.0)\n",
      "Requirement already satisfied: pillow>=6.2.0 in /opt/conda/lib/python3.7/site-packages (from matplotlib==3.4.0) (7.0.0)\n",
      "Requirement already satisfied: numpy>=1.16 in /opt/conda/lib/python3.7/site-packages (from matplotlib==3.4.0) (1.19.5)\n",
      "Requirement already satisfied: kiwisolver>=1.0.1 in /opt/conda/lib/python3.7/site-packages (from matplotlib==3.4.0) (1.3.1)\n",
      "Requirement already satisfied: six>=1.5 in /opt/conda/lib/python3.7/site-packages (from python-dateutil>=2.7->matplotlib==3.4.0) (1.15.0)\n",
      "Installing collected packages: matplotlib\n",
      "Successfully installed matplotlib-3.4.0\n",
      "Note: you may need to restart the kernel to use updated packages.\n"
     ]
    }
   ],
   "source": [
    "pip install matplotlib==3.4.0"
   ]
  },
  {
   "cell_type": "code",
   "execution_count": 10,
   "metadata": {},
   "outputs": [],
   "source": [
    "import pandas as pd\n",
    "import numpy as np\n",
    "import datetime as dt\n",
    "import matplotlib.pyplot as plt\n",
    "import warnings\n",
    "import math as mth\n",
    "import matplotlib.dates as mdates\n",
    "from matplotlib.ticker import StrMethodFormatter\n",
    "from matplotlib.dates import DateFormatter\n",
    "import scipy.stats as stats\n"
   ]
  },
  {
   "cell_type": "code",
   "execution_count": 11,
   "metadata": {},
   "outputs": [],
   "source": [
    "pd.set_option('max_colwidth', 400)"
   ]
  },
  {
   "cell_type": "code",
   "execution_count": 12,
   "metadata": {},
   "outputs": [],
   "source": [
    "#ignorning warnings\n",
    "warnings.simplefilter('ignore')"
   ]
  },
  {
   "cell_type": "markdown",
   "metadata": {},
   "source": [
    "make a try-except block in order to avoid file path error when working both locally and remotely:"
   ]
  },
  {
   "cell_type": "code",
   "execution_count": 13,
   "metadata": {},
   "outputs": [],
   "source": [
    "try:\n",
    "    hypotheses = pd.read_csv('hypotheses_us.csv',sep=';')\n",
    "    orders = pd.read_csv('orders_us.csv',sep=',')\n",
    "    visits = pd.read_csv('visits_us.csv',sep=',')\n",
    "except:\n",
    "    hypotheses = pd.read_csv('/datasets/hypotheses_us.csv',sep=';')\n",
    "    orders = pd.read_csv('/datasets/orders_us.csv',sep=',')\n",
    "    visits = pd.read_csv('/datasets/visits_us.csv',sep=',')"
   ]
  },
  {
   "cell_type": "markdown",
   "metadata": {},
   "source": [
    "Check the tables first 5 rows to see the general information."
   ]
  },
  {
   "cell_type": "code",
   "execution_count": 4,
   "metadata": {},
   "outputs": [
    {
     "data": {
      "text/html": [
       "<div>\n",
       "<style scoped>\n",
       "    .dataframe tbody tr th:only-of-type {\n",
       "        vertical-align: middle;\n",
       "    }\n",
       "\n",
       "    .dataframe tbody tr th {\n",
       "        vertical-align: top;\n",
       "    }\n",
       "\n",
       "    .dataframe thead th {\n",
       "        text-align: right;\n",
       "    }\n",
       "</style>\n",
       "<table border=\"1\" class=\"dataframe\">\n",
       "  <thead>\n",
       "    <tr style=\"text-align: right;\">\n",
       "      <th></th>\n",
       "      <th>Hypothesis</th>\n",
       "      <th>Reach</th>\n",
       "      <th>Impact</th>\n",
       "      <th>Confidence</th>\n",
       "      <th>Effort</th>\n",
       "    </tr>\n",
       "  </thead>\n",
       "  <tbody>\n",
       "    <tr>\n",
       "      <td>0</td>\n",
       "      <td>Add two new channels for attracting traffic. This will bring 30% more users</td>\n",
       "      <td>3</td>\n",
       "      <td>10</td>\n",
       "      <td>8</td>\n",
       "      <td>6</td>\n",
       "    </tr>\n",
       "    <tr>\n",
       "      <td>1</td>\n",
       "      <td>Launch your own delivery service. This will shorten delivery time</td>\n",
       "      <td>2</td>\n",
       "      <td>5</td>\n",
       "      <td>4</td>\n",
       "      <td>10</td>\n",
       "    </tr>\n",
       "    <tr>\n",
       "      <td>2</td>\n",
       "      <td>Add product recommendation blocks to the store's site. This will increase conversion and average purchase size</td>\n",
       "      <td>8</td>\n",
       "      <td>3</td>\n",
       "      <td>7</td>\n",
       "      <td>3</td>\n",
       "    </tr>\n",
       "    <tr>\n",
       "      <td>3</td>\n",
       "      <td>Change the category structure. This will increase conversion since users will find the products they want more quickly</td>\n",
       "      <td>8</td>\n",
       "      <td>3</td>\n",
       "      <td>3</td>\n",
       "      <td>8</td>\n",
       "    </tr>\n",
       "    <tr>\n",
       "      <td>4</td>\n",
       "      <td>Change the background color on the main page. This will increase user engagement</td>\n",
       "      <td>3</td>\n",
       "      <td>1</td>\n",
       "      <td>1</td>\n",
       "      <td>1</td>\n",
       "    </tr>\n",
       "  </tbody>\n",
       "</table>\n",
       "</div>"
      ],
      "text/plain": [
       "                                                                                                               Hypothesis  \\\n",
       "0                                             Add two new channels for attracting traffic. This will bring 30% more users   \n",
       "1                                                       Launch your own delivery service. This will shorten delivery time   \n",
       "2          Add product recommendation blocks to the store's site. This will increase conversion and average purchase size   \n",
       "3  Change the category structure. This will increase conversion since users will find the products they want more quickly   \n",
       "4                                        Change the background color on the main page. This will increase user engagement   \n",
       "\n",
       "   Reach  Impact  Confidence  Effort  \n",
       "0      3      10           8       6  \n",
       "1      2       5           4      10  \n",
       "2      8       3           7       3  \n",
       "3      8       3           3       8  \n",
       "4      3       1           1       1  "
      ]
     },
     "execution_count": 4,
     "metadata": {},
     "output_type": "execute_result"
    }
   ],
   "source": [
    "hypotheses.head()"
   ]
  },
  {
   "cell_type": "code",
   "execution_count": 5,
   "metadata": {},
   "outputs": [
    {
     "data": {
      "text/html": [
       "<div>\n",
       "<style scoped>\n",
       "    .dataframe tbody tr th:only-of-type {\n",
       "        vertical-align: middle;\n",
       "    }\n",
       "\n",
       "    .dataframe tbody tr th {\n",
       "        vertical-align: top;\n",
       "    }\n",
       "\n",
       "    .dataframe thead th {\n",
       "        text-align: right;\n",
       "    }\n",
       "</style>\n",
       "<table border=\"1\" class=\"dataframe\">\n",
       "  <thead>\n",
       "    <tr style=\"text-align: right;\">\n",
       "      <th></th>\n",
       "      <th>transactionId</th>\n",
       "      <th>visitorId</th>\n",
       "      <th>date</th>\n",
       "      <th>revenue</th>\n",
       "      <th>group</th>\n",
       "    </tr>\n",
       "  </thead>\n",
       "  <tbody>\n",
       "    <tr>\n",
       "      <td>0</td>\n",
       "      <td>3667963787</td>\n",
       "      <td>3312258926</td>\n",
       "      <td>2019-08-15</td>\n",
       "      <td>30.4</td>\n",
       "      <td>B</td>\n",
       "    </tr>\n",
       "    <tr>\n",
       "      <td>1</td>\n",
       "      <td>2804400009</td>\n",
       "      <td>3642806036</td>\n",
       "      <td>2019-08-15</td>\n",
       "      <td>15.2</td>\n",
       "      <td>B</td>\n",
       "    </tr>\n",
       "    <tr>\n",
       "      <td>2</td>\n",
       "      <td>2961555356</td>\n",
       "      <td>4069496402</td>\n",
       "      <td>2019-08-15</td>\n",
       "      <td>10.2</td>\n",
       "      <td>A</td>\n",
       "    </tr>\n",
       "    <tr>\n",
       "      <td>3</td>\n",
       "      <td>3797467345</td>\n",
       "      <td>1196621759</td>\n",
       "      <td>2019-08-15</td>\n",
       "      <td>155.1</td>\n",
       "      <td>B</td>\n",
       "    </tr>\n",
       "    <tr>\n",
       "      <td>4</td>\n",
       "      <td>2282983706</td>\n",
       "      <td>2322279887</td>\n",
       "      <td>2019-08-15</td>\n",
       "      <td>40.5</td>\n",
       "      <td>B</td>\n",
       "    </tr>\n",
       "  </tbody>\n",
       "</table>\n",
       "</div>"
      ],
      "text/plain": [
       "   transactionId   visitorId        date  revenue group\n",
       "0     3667963787  3312258926  2019-08-15     30.4     B\n",
       "1     2804400009  3642806036  2019-08-15     15.2     B\n",
       "2     2961555356  4069496402  2019-08-15     10.2     A\n",
       "3     3797467345  1196621759  2019-08-15    155.1     B\n",
       "4     2282983706  2322279887  2019-08-15     40.5     B"
      ]
     },
     "execution_count": 5,
     "metadata": {},
     "output_type": "execute_result"
    }
   ],
   "source": [
    "orders.head()"
   ]
  },
  {
   "cell_type": "code",
   "execution_count": 8,
   "metadata": {},
   "outputs": [
    {
     "data": {
      "text/html": [
       "<div>\n",
       "<style scoped>\n",
       "    .dataframe tbody tr th:only-of-type {\n",
       "        vertical-align: middle;\n",
       "    }\n",
       "\n",
       "    .dataframe tbody tr th {\n",
       "        vertical-align: top;\n",
       "    }\n",
       "\n",
       "    .dataframe thead th {\n",
       "        text-align: right;\n",
       "    }\n",
       "</style>\n",
       "<table border=\"1\" class=\"dataframe\">\n",
       "  <thead>\n",
       "    <tr style=\"text-align: right;\">\n",
       "      <th></th>\n",
       "      <th>date</th>\n",
       "      <th>group</th>\n",
       "      <th>visits</th>\n",
       "    </tr>\n",
       "  </thead>\n",
       "  <tbody>\n",
       "    <tr>\n",
       "      <td>0</td>\n",
       "      <td>2019-08-01</td>\n",
       "      <td>A</td>\n",
       "      <td>719</td>\n",
       "    </tr>\n",
       "    <tr>\n",
       "      <td>1</td>\n",
       "      <td>2019-08-02</td>\n",
       "      <td>A</td>\n",
       "      <td>619</td>\n",
       "    </tr>\n",
       "    <tr>\n",
       "      <td>2</td>\n",
       "      <td>2019-08-03</td>\n",
       "      <td>A</td>\n",
       "      <td>507</td>\n",
       "    </tr>\n",
       "    <tr>\n",
       "      <td>3</td>\n",
       "      <td>2019-08-04</td>\n",
       "      <td>A</td>\n",
       "      <td>717</td>\n",
       "    </tr>\n",
       "    <tr>\n",
       "      <td>4</td>\n",
       "      <td>2019-08-05</td>\n",
       "      <td>A</td>\n",
       "      <td>756</td>\n",
       "    </tr>\n",
       "  </tbody>\n",
       "</table>\n",
       "</div>"
      ],
      "text/plain": [
       "         date group  visits\n",
       "0  2019-08-01     A     719\n",
       "1  2019-08-02     A     619\n",
       "2  2019-08-03     A     507\n",
       "3  2019-08-04     A     717\n",
       "4  2019-08-05     A     756"
      ]
     },
     "execution_count": 8,
     "metadata": {},
     "output_type": "execute_result"
    }
   ],
   "source": [
    "visits.head()"
   ]
  },
  {
   "cell_type": "markdown",
   "metadata": {},
   "source": [
    "Check the tables general structure"
   ]
  },
  {
   "cell_type": "code",
   "execution_count": 9,
   "metadata": {},
   "outputs": [
    {
     "name": "stdout",
     "output_type": "stream",
     "text": [
      "<class 'pandas.core.frame.DataFrame'>\n",
      "RangeIndex: 9 entries, 0 to 8\n",
      "Data columns (total 5 columns):\n",
      "Hypothesis    9 non-null object\n",
      "Reach         9 non-null int64\n",
      "Impact        9 non-null int64\n",
      "Confidence    9 non-null int64\n",
      "Effort        9 non-null int64\n",
      "dtypes: int64(4), object(1)\n",
      "memory usage: 488.0+ bytes\n"
     ]
    }
   ],
   "source": [
    "hypotheses.info()"
   ]
  },
  {
   "cell_type": "code",
   "execution_count": 10,
   "metadata": {},
   "outputs": [
    {
     "name": "stdout",
     "output_type": "stream",
     "text": [
      "<class 'pandas.core.frame.DataFrame'>\n",
      "RangeIndex: 1197 entries, 0 to 1196\n",
      "Data columns (total 5 columns):\n",
      "transactionId    1197 non-null int64\n",
      "visitorId        1197 non-null int64\n",
      "date             1197 non-null object\n",
      "revenue          1197 non-null float64\n",
      "group            1197 non-null object\n",
      "dtypes: float64(1), int64(2), object(2)\n",
      "memory usage: 46.9+ KB\n"
     ]
    }
   ],
   "source": [
    "orders.info()"
   ]
  },
  {
   "cell_type": "code",
   "execution_count": 11,
   "metadata": {},
   "outputs": [
    {
     "name": "stdout",
     "output_type": "stream",
     "text": [
      "<class 'pandas.core.frame.DataFrame'>\n",
      "RangeIndex: 62 entries, 0 to 61\n",
      "Data columns (total 3 columns):\n",
      "date      62 non-null object\n",
      "group     62 non-null object\n",
      "visits    62 non-null int64\n",
      "dtypes: int64(1), object(2)\n",
      "memory usage: 1.6+ KB\n"
     ]
    }
   ],
   "source": [
    "visits.info()"
   ]
  },
  {
   "cell_type": "markdown",
   "metadata": {},
   "source": [
    "converting date from object type to datetype"
   ]
  },
  {
   "cell_type": "code",
   "execution_count": 14,
   "metadata": {},
   "outputs": [],
   "source": [
    "orders['date'] = orders['date'].map(lambda x: dt.datetime.strptime(x, '%Y-%m-%d'))\n",
    "visits['date'] = visits['date'].map(lambda x: dt.datetime.strptime(x, '%Y-%m-%d'))"
   ]
  },
  {
   "cell_type": "markdown",
   "metadata": {},
   "source": [
    "checking for duplicates:"
   ]
  },
  {
   "cell_type": "code",
   "execution_count": 13,
   "metadata": {},
   "outputs": [
    {
     "data": {
      "text/plain": [
       "0"
      ]
     },
     "execution_count": 13,
     "metadata": {},
     "output_type": "execute_result"
    }
   ],
   "source": [
    "hypotheses.duplicated().sum()"
   ]
  },
  {
   "cell_type": "code",
   "execution_count": 14,
   "metadata": {},
   "outputs": [
    {
     "data": {
      "text/plain": [
       "0"
      ]
     },
     "execution_count": 14,
     "metadata": {},
     "output_type": "execute_result"
    }
   ],
   "source": [
    "orders.duplicated().sum()"
   ]
  },
  {
   "cell_type": "code",
   "execution_count": 15,
   "metadata": {},
   "outputs": [
    {
     "data": {
      "text/plain": [
       "0"
      ]
     },
     "execution_count": 15,
     "metadata": {},
     "output_type": "execute_result"
    }
   ],
   "source": [
    "visits.duplicated().sum()"
   ]
  },
  {
   "cell_type": "markdown",
   "metadata": {},
   "source": [
    "lower casing all column names"
   ]
  },
  {
   "cell_type": "code",
   "execution_count": 15,
   "metadata": {},
   "outputs": [],
   "source": [
    "hypotheses.columns = [x.lower() for x in hypotheses.columns]\n",
    "orders.columns = [x.lower() for x in orders.columns]\n",
    "visits.columns = [x.lower() for x in visits.columns]"
   ]
  },
  {
   "cell_type": "markdown",
   "metadata": {},
   "source": [
    "Checking for visitors that might have gotten into both group A and group B."
   ]
  },
  {
   "cell_type": "code",
   "execution_count": 16,
   "metadata": {},
   "outputs": [],
   "source": [
    "orders_a = orders.query('group == \"A\"')['visitorid'].to_list()\n",
    "orders_b = orders.query('group == \"B\"')['visitorid'].to_list()"
   ]
  },
  {
   "cell_type": "markdown",
   "metadata": {},
   "source": [
    "checking for visitor id that appears in both lists"
   ]
  },
  {
   "cell_type": "code",
   "execution_count": 17,
   "metadata": {},
   "outputs": [],
   "source": [
    "both = [x for x in orders_a if x in orders_b]"
   ]
  },
  {
   "cell_type": "markdown",
   "metadata": {},
   "source": [
    "checking the amount of different(measuring length of set to get unique ids) visitors that appear in both groups "
   ]
  },
  {
   "cell_type": "code",
   "execution_count": 18,
   "metadata": {},
   "outputs": [
    {
     "data": {
      "text/plain": [
       "58"
      ]
     },
     "execution_count": 18,
     "metadata": {},
     "output_type": "execute_result"
    }
   ],
   "source": [
    "len(set(both))"
   ]
  },
  {
   "cell_type": "markdown",
   "metadata": {},
   "source": [
    "dropping the visitor ids that appear in both groups"
   ]
  },
  {
   "cell_type": "code",
   "execution_count": 19,
   "metadata": {},
   "outputs": [],
   "source": [
    "orders = orders[~orders['visitorid'].isin(both)]"
   ]
  },
  {
   "cell_type": "markdown",
   "metadata": {},
   "source": [
    "### Coclusion:\n",
    "We loaded & reviewed our data, checked for no duplicates or missing data.\n",
    "\n",
    "Lowercased columns names, made datatype conversion for all date columns, and removed visitors(58) that appeared in both groups.\n",
    "\n",
    "We cant avoid dropping them because they have been exposed to both groups."
   ]
  },
  {
   "cell_type": "markdown",
   "metadata": {},
   "source": [
    "<div class=\"alert alert-info\" style=\"background-color:#006a79; color:white; padding:0px 10px; border-radius:5px;\"><h2 style='margin:10px 5px'>Prioritizing Hypotheses</h2>\n",
    "</div>"
   ]
  },
  {
   "cell_type": "markdown",
   "metadata": {},
   "source": [
    "### Prioritize hypotheses by the ICE and RICE framework. (Sorting in descending order of priority for each framework for comparison.)"
   ]
  },
  {
   "cell_type": "markdown",
   "metadata": {},
   "source": [
    "calculating ICE for each hypothesis and printing:"
   ]
  },
  {
   "cell_type": "code",
   "execution_count": 20,
   "metadata": {},
   "outputs": [
    {
     "data": {
      "text/html": [
       "<div>\n",
       "<style scoped>\n",
       "    .dataframe tbody tr th:only-of-type {\n",
       "        vertical-align: middle;\n",
       "    }\n",
       "\n",
       "    .dataframe tbody tr th {\n",
       "        vertical-align: top;\n",
       "    }\n",
       "\n",
       "    .dataframe thead th {\n",
       "        text-align: right;\n",
       "    }\n",
       "</style>\n",
       "<table border=\"1\" class=\"dataframe\">\n",
       "  <thead>\n",
       "    <tr style=\"text-align: right;\">\n",
       "      <th></th>\n",
       "      <th>hypothesis</th>\n",
       "      <th>ICE</th>\n",
       "    </tr>\n",
       "  </thead>\n",
       "  <tbody>\n",
       "    <tr>\n",
       "      <td>8</td>\n",
       "      <td>Launch a promotion that gives users discounts on their birthdays</td>\n",
       "      <td>16.200000</td>\n",
       "    </tr>\n",
       "    <tr>\n",
       "      <td>0</td>\n",
       "      <td>Add two new channels for attracting traffic. This will bring 30% more users</td>\n",
       "      <td>13.333333</td>\n",
       "    </tr>\n",
       "    <tr>\n",
       "      <td>7</td>\n",
       "      <td>Add a subscription form to all the main pages. This will help you compile a mailing list</td>\n",
       "      <td>11.200000</td>\n",
       "    </tr>\n",
       "    <tr>\n",
       "      <td>6</td>\n",
       "      <td>Show banners with current offers and sales on the main page. This will boost conversion</td>\n",
       "      <td>8.000000</td>\n",
       "    </tr>\n",
       "    <tr>\n",
       "      <td>2</td>\n",
       "      <td>Add product recommendation blocks to the store's site. This will increase conversion and average purchase size</td>\n",
       "      <td>7.000000</td>\n",
       "    </tr>\n",
       "    <tr>\n",
       "      <td>1</td>\n",
       "      <td>Launch your own delivery service. This will shorten delivery time</td>\n",
       "      <td>2.000000</td>\n",
       "    </tr>\n",
       "    <tr>\n",
       "      <td>5</td>\n",
       "      <td>Add a customer review page. This will increase the number of orders</td>\n",
       "      <td>1.333333</td>\n",
       "    </tr>\n",
       "    <tr>\n",
       "      <td>3</td>\n",
       "      <td>Change the category structure. This will increase conversion since users will find the products they want more quickly</td>\n",
       "      <td>1.125000</td>\n",
       "    </tr>\n",
       "    <tr>\n",
       "      <td>4</td>\n",
       "      <td>Change the background color on the main page. This will increase user engagement</td>\n",
       "      <td>1.000000</td>\n",
       "    </tr>\n",
       "  </tbody>\n",
       "</table>\n",
       "</div>"
      ],
      "text/plain": [
       "                                                                                                               hypothesis  \\\n",
       "8                                                        Launch a promotion that gives users discounts on their birthdays   \n",
       "0                                             Add two new channels for attracting traffic. This will bring 30% more users   \n",
       "7                                Add a subscription form to all the main pages. This will help you compile a mailing list   \n",
       "6                                 Show banners with current offers and sales on the main page. This will boost conversion   \n",
       "2          Add product recommendation blocks to the store's site. This will increase conversion and average purchase size   \n",
       "1                                                       Launch your own delivery service. This will shorten delivery time   \n",
       "5                                                     Add a customer review page. This will increase the number of orders   \n",
       "3  Change the category structure. This will increase conversion since users will find the products they want more quickly   \n",
       "4                                        Change the background color on the main page. This will increase user engagement   \n",
       "\n",
       "         ICE  \n",
       "8  16.200000  \n",
       "0  13.333333  \n",
       "7  11.200000  \n",
       "6   8.000000  \n",
       "2   7.000000  \n",
       "1   2.000000  \n",
       "5   1.333333  \n",
       "3   1.125000  \n",
       "4   1.000000  "
      ]
     },
     "execution_count": 20,
     "metadata": {},
     "output_type": "execute_result"
    }
   ],
   "source": [
    "hypotheses['ICE'] = (hypotheses['impact'] * hypotheses['confidence'] / hypotheses['effort'])\n",
    "hypotheses[['hypothesis', 'ICE']].sort_values(by='ICE',ascending=False)"
   ]
  },
  {
   "cell_type": "markdown",
   "metadata": {},
   "source": [
    "calculating RICE for each hypothesis and printing:"
   ]
  },
  {
   "cell_type": "code",
   "execution_count": 22,
   "metadata": {},
   "outputs": [
    {
     "data": {
      "text/html": [
       "<div>\n",
       "<style scoped>\n",
       "    .dataframe tbody tr th:only-of-type {\n",
       "        vertical-align: middle;\n",
       "    }\n",
       "\n",
       "    .dataframe tbody tr th {\n",
       "        vertical-align: top;\n",
       "    }\n",
       "\n",
       "    .dataframe thead th {\n",
       "        text-align: right;\n",
       "    }\n",
       "</style>\n",
       "<table border=\"1\" class=\"dataframe\">\n",
       "  <thead>\n",
       "    <tr style=\"text-align: right;\">\n",
       "      <th></th>\n",
       "      <th>hypothesis</th>\n",
       "      <th>RICE</th>\n",
       "    </tr>\n",
       "  </thead>\n",
       "  <tbody>\n",
       "    <tr>\n",
       "      <td>7</td>\n",
       "      <td>Add a subscription form to all the main pages. This will help you compile a mailing list</td>\n",
       "      <td>112.0</td>\n",
       "    </tr>\n",
       "    <tr>\n",
       "      <td>2</td>\n",
       "      <td>Add product recommendation blocks to the store's site. This will increase conversion and average purchase size</td>\n",
       "      <td>56.0</td>\n",
       "    </tr>\n",
       "    <tr>\n",
       "      <td>0</td>\n",
       "      <td>Add two new channels for attracting traffic. This will bring 30% more users</td>\n",
       "      <td>40.0</td>\n",
       "    </tr>\n",
       "    <tr>\n",
       "      <td>6</td>\n",
       "      <td>Show banners with current offers and sales on the main page. This will boost conversion</td>\n",
       "      <td>40.0</td>\n",
       "    </tr>\n",
       "    <tr>\n",
       "      <td>8</td>\n",
       "      <td>Launch a promotion that gives users discounts on their birthdays</td>\n",
       "      <td>16.2</td>\n",
       "    </tr>\n",
       "    <tr>\n",
       "      <td>3</td>\n",
       "      <td>Change the category structure. This will increase conversion since users will find the products they want more quickly</td>\n",
       "      <td>9.0</td>\n",
       "    </tr>\n",
       "    <tr>\n",
       "      <td>1</td>\n",
       "      <td>Launch your own delivery service. This will shorten delivery time</td>\n",
       "      <td>4.0</td>\n",
       "    </tr>\n",
       "    <tr>\n",
       "      <td>5</td>\n",
       "      <td>Add a customer review page. This will increase the number of orders</td>\n",
       "      <td>4.0</td>\n",
       "    </tr>\n",
       "    <tr>\n",
       "      <td>4</td>\n",
       "      <td>Change the background color on the main page. This will increase user engagement</td>\n",
       "      <td>3.0</td>\n",
       "    </tr>\n",
       "  </tbody>\n",
       "</table>\n",
       "</div>"
      ],
      "text/plain": [
       "                                                                                                               hypothesis  \\\n",
       "7                                Add a subscription form to all the main pages. This will help you compile a mailing list   \n",
       "2          Add product recommendation blocks to the store's site. This will increase conversion and average purchase size   \n",
       "0                                             Add two new channels for attracting traffic. This will bring 30% more users   \n",
       "6                                 Show banners with current offers and sales on the main page. This will boost conversion   \n",
       "8                                                        Launch a promotion that gives users discounts on their birthdays   \n",
       "3  Change the category structure. This will increase conversion since users will find the products they want more quickly   \n",
       "1                                                       Launch your own delivery service. This will shorten delivery time   \n",
       "5                                                     Add a customer review page. This will increase the number of orders   \n",
       "4                                        Change the background color on the main page. This will increase user engagement   \n",
       "\n",
       "    RICE  \n",
       "7  112.0  \n",
       "2   56.0  \n",
       "0   40.0  \n",
       "6   40.0  \n",
       "8   16.2  \n",
       "3    9.0  \n",
       "1    4.0  \n",
       "5    4.0  \n",
       "4    3.0  "
      ]
     },
     "execution_count": 22,
     "metadata": {},
     "output_type": "execute_result"
    }
   ],
   "source": [
    "hypotheses['RICE'] = (hypotheses['reach'] * hypotheses['impact'] * hypotheses['confidence'] / hypotheses['effort'])\n",
    "hypotheses[['hypothesis', 'RICE']].sort_values(by='RICE',ascending=False)"
   ]
  },
  {
   "cell_type": "markdown",
   "metadata": {},
   "source": [
    "#### Description & conclusion:"
   ]
  },
  {
   "cell_type": "markdown",
   "metadata": {},
   "source": [
    "We see the prioritization of hypotheses changes when you use RICE instead of ICE.\n",
    "\n",
    "This happens because the Reach parameter is not calculated in ICE, and we dont take into account how many users it will affect.\n",
    "\n",
    "We see hypothesis #7 is ranked first when using RICE, and thats because it's Reach parameter is 10, the highest out of all hypotheses and the highest possible rank (1-10), compared to hypothesis #8 who's the strongest when using ICE, with a reach level of 1."
   ]
  },
  {
   "cell_type": "markdown",
   "metadata": {},
   "source": [
    "<div class=\"alert alert-info\" style=\"background-color:#006a79; color:white; padding:0px 10px; border-radius:5px;\"><h2 style='margin:10px 5px'>A/B Test Analysis</h2>\n",
    "</div>"
   ]
  },
  {
   "cell_type": "markdown",
   "metadata": {},
   "source": [
    "Creating cumulative dataframe:"
   ]
  },
  {
   "cell_type": "code",
   "execution_count": 24,
   "metadata": {},
   "outputs": [
    {
     "data": {
      "text/html": [
       "<div>\n",
       "<style scoped>\n",
       "    .dataframe tbody tr th:only-of-type {\n",
       "        vertical-align: middle;\n",
       "    }\n",
       "\n",
       "    .dataframe tbody tr th {\n",
       "        vertical-align: top;\n",
       "    }\n",
       "\n",
       "    .dataframe thead th {\n",
       "        text-align: right;\n",
       "    }\n",
       "</style>\n",
       "<table border=\"1\" class=\"dataframe\">\n",
       "  <thead>\n",
       "    <tr style=\"text-align: right;\">\n",
       "      <th></th>\n",
       "      <th>date</th>\n",
       "      <th>group</th>\n",
       "    </tr>\n",
       "  </thead>\n",
       "  <tbody>\n",
       "    <tr>\n",
       "      <td>0</td>\n",
       "      <td>2019-08-15</td>\n",
       "      <td>B</td>\n",
       "    </tr>\n",
       "    <tr>\n",
       "      <td>7</td>\n",
       "      <td>2019-08-15</td>\n",
       "      <td>A</td>\n",
       "    </tr>\n",
       "    <tr>\n",
       "      <td>45</td>\n",
       "      <td>2019-08-16</td>\n",
       "      <td>A</td>\n",
       "    </tr>\n",
       "    <tr>\n",
       "      <td>47</td>\n",
       "      <td>2019-08-16</td>\n",
       "      <td>B</td>\n",
       "    </tr>\n",
       "    <tr>\n",
       "      <td>55</td>\n",
       "      <td>2019-08-01</td>\n",
       "      <td>A</td>\n",
       "    </tr>\n",
       "  </tbody>\n",
       "</table>\n",
       "</div>"
      ],
      "text/plain": [
       "         date group\n",
       "0  2019-08-15     B\n",
       "7  2019-08-15     A\n",
       "45 2019-08-16     A\n",
       "47 2019-08-16     B\n",
       "55 2019-08-01     A"
      ]
     },
     "execution_count": 24,
     "metadata": {},
     "output_type": "execute_result"
    }
   ],
   "source": [
    "datesGroups.head()"
   ]
  },
  {
   "cell_type": "code",
   "execution_count": 28,
   "metadata": {},
   "outputs": [
    {
     "data": {
      "text/html": [
       "<div>\n",
       "<style scoped>\n",
       "    .dataframe tbody tr th:only-of-type {\n",
       "        vertical-align: middle;\n",
       "    }\n",
       "\n",
       "    .dataframe tbody tr th {\n",
       "        vertical-align: top;\n",
       "    }\n",
       "\n",
       "    .dataframe thead th {\n",
       "        text-align: right;\n",
       "    }\n",
       "</style>\n",
       "<table border=\"1\" class=\"dataframe\">\n",
       "  <thead>\n",
       "    <tr style=\"text-align: right;\">\n",
       "      <th></th>\n",
       "      <th>date</th>\n",
       "      <th>group</th>\n",
       "      <th>transactionid</th>\n",
       "      <th>visitorid</th>\n",
       "      <th>revenue</th>\n",
       "    </tr>\n",
       "  </thead>\n",
       "  <tbody>\n",
       "    <tr>\n",
       "      <td>55</td>\n",
       "      <td>2019-08-01</td>\n",
       "      <td>A</td>\n",
       "      <td>23</td>\n",
       "      <td>19</td>\n",
       "      <td>2266.6</td>\n",
       "    </tr>\n",
       "    <tr>\n",
       "      <td>66</td>\n",
       "      <td>2019-08-01</td>\n",
       "      <td>B</td>\n",
       "      <td>17</td>\n",
       "      <td>17</td>\n",
       "      <td>967.2</td>\n",
       "    </tr>\n",
       "    <tr>\n",
       "      <td>175</td>\n",
       "      <td>2019-08-02</td>\n",
       "      <td>A</td>\n",
       "      <td>42</td>\n",
       "      <td>36</td>\n",
       "      <td>3734.9</td>\n",
       "    </tr>\n",
       "    <tr>\n",
       "      <td>173</td>\n",
       "      <td>2019-08-02</td>\n",
       "      <td>B</td>\n",
       "      <td>40</td>\n",
       "      <td>39</td>\n",
       "      <td>3535.3</td>\n",
       "    </tr>\n",
       "    <tr>\n",
       "      <td>291</td>\n",
       "      <td>2019-08-03</td>\n",
       "      <td>A</td>\n",
       "      <td>66</td>\n",
       "      <td>60</td>\n",
       "      <td>5550.1</td>\n",
       "    </tr>\n",
       "  </tbody>\n",
       "</table>\n",
       "</div>"
      ],
      "text/plain": [
       "          date group  transactionid  visitorid  revenue\n",
       "55  2019-08-01     A             23         19   2266.6\n",
       "66  2019-08-01     B             17         17    967.2\n",
       "175 2019-08-02     A             42         36   3734.9\n",
       "173 2019-08-02     B             40         39   3535.3\n",
       "291 2019-08-03     A             66         60   5550.1"
      ]
     },
     "execution_count": 28,
     "metadata": {},
     "output_type": "execute_result"
    }
   ],
   "source": [
    "ordersAggregated.head()"
   ]
  },
  {
   "cell_type": "code",
   "execution_count": 23,
   "metadata": {},
   "outputs": [],
   "source": [
    "# building an array with unique paired date-group values\n",
    "datesGroups = orders[['date','group']].drop_duplicates()\n",
    "\n",
    "# getting aggregated cumulative daily data on orders \n",
    "ordersAggregated = datesGroups.apply(lambda x: orders[np.logical_and(orders['date'] \\\n",
    "                    <= x['date'], orders['group'] == x['group'])].agg({'date' : 'max', \\\n",
    "                    'group' : 'max', 'transactionid' : pd.Series.nunique, \\\n",
    "                    'visitorid' : pd.Series.nunique, 'revenue' : 'sum'}), axis=1).sort_values(by=['date','group'])\n",
    "# getting aggregated cumulative daily data on visitors  \n",
    "visitorsAggregated = (datesGroups.apply(lambda x: visits[np.logical_and(visits['date'] <= x['date'], \n",
    "visits['group'] == x['group'])].agg({'date' : 'max', 'group' : 'max', 'visits' : 'sum'}), axis=1).sort_values(by=['date','group']))\n",
    "\n",
    "# merging the two tables and giving descriptive column names\n",
    "cumulativeData = ordersAggregated.merge(visitorsAggregated, left_on=['date', 'group'], right_on=['date', 'group'])\n",
    "cumulativeData.columns = ['date', 'group', 'orders', 'buyers', 'revenue', 'visitors']"
   ]
  },
  {
   "cell_type": "markdown",
   "metadata": {},
   "source": [
    "viewing the head of our new cumulative df:"
   ]
  },
  {
   "cell_type": "code",
   "execution_count": 46,
   "metadata": {},
   "outputs": [
    {
     "data": {
      "text/html": [
       "<div>\n",
       "<style scoped>\n",
       "    .dataframe tbody tr th:only-of-type {\n",
       "        vertical-align: middle;\n",
       "    }\n",
       "\n",
       "    .dataframe tbody tr th {\n",
       "        vertical-align: top;\n",
       "    }\n",
       "\n",
       "    .dataframe thead th {\n",
       "        text-align: right;\n",
       "    }\n",
       "</style>\n",
       "<table border=\"1\" class=\"dataframe\">\n",
       "  <thead>\n",
       "    <tr style=\"text-align: right;\">\n",
       "      <th></th>\n",
       "      <th>date</th>\n",
       "      <th>group</th>\n",
       "      <th>orders</th>\n",
       "      <th>buyers</th>\n",
       "      <th>revenue</th>\n",
       "      <th>visitors</th>\n",
       "    </tr>\n",
       "  </thead>\n",
       "  <tbody>\n",
       "    <tr>\n",
       "      <td>0</td>\n",
       "      <td>2019-08-01</td>\n",
       "      <td>A</td>\n",
       "      <td>23</td>\n",
       "      <td>19</td>\n",
       "      <td>2266.6</td>\n",
       "      <td>719</td>\n",
       "    </tr>\n",
       "    <tr>\n",
       "      <td>1</td>\n",
       "      <td>2019-08-01</td>\n",
       "      <td>B</td>\n",
       "      <td>17</td>\n",
       "      <td>17</td>\n",
       "      <td>967.2</td>\n",
       "      <td>713</td>\n",
       "    </tr>\n",
       "    <tr>\n",
       "      <td>2</td>\n",
       "      <td>2019-08-02</td>\n",
       "      <td>A</td>\n",
       "      <td>42</td>\n",
       "      <td>36</td>\n",
       "      <td>3734.9</td>\n",
       "      <td>1338</td>\n",
       "    </tr>\n",
       "    <tr>\n",
       "      <td>3</td>\n",
       "      <td>2019-08-02</td>\n",
       "      <td>B</td>\n",
       "      <td>40</td>\n",
       "      <td>39</td>\n",
       "      <td>3535.3</td>\n",
       "      <td>1294</td>\n",
       "    </tr>\n",
       "    <tr>\n",
       "      <td>4</td>\n",
       "      <td>2019-08-03</td>\n",
       "      <td>A</td>\n",
       "      <td>66</td>\n",
       "      <td>60</td>\n",
       "      <td>5550.1</td>\n",
       "      <td>1845</td>\n",
       "    </tr>\n",
       "  </tbody>\n",
       "</table>\n",
       "</div>"
      ],
      "text/plain": [
       "        date group  orders  buyers  revenue  visitors\n",
       "0 2019-08-01     A      23      19   2266.6       719\n",
       "1 2019-08-01     B      17      17    967.2       713\n",
       "2 2019-08-02     A      42      36   3734.9      1338\n",
       "3 2019-08-02     B      40      39   3535.3      1294\n",
       "4 2019-08-03     A      66      60   5550.1      1845"
      ]
     },
     "execution_count": 46,
     "metadata": {},
     "output_type": "execute_result"
    }
   ],
   "source": [
    "cumulativeData.head()"
   ]
  },
  {
   "cell_type": "markdown",
   "metadata": {},
   "source": [
    "### Cumulative revenue by group"
   ]
  },
  {
   "cell_type": "markdown",
   "metadata": {},
   "source": [
    "plotting cumulative revenue by group:"
   ]
  },
  {
   "cell_type": "code",
   "execution_count": 47,
   "metadata": {},
   "outputs": [
    {
     "data": {
      "image/png": "[encoded data removed]",
      "text/plain": [
       "<Figure size 1008x504 with 1 Axes>"
      ]
     },
     "metadata": {
      "needs_background": "light"
     },
     "output_type": "display_data"
    }
   ],
   "source": [
    "\n",
    "cumulativeRevenueA = cumulativeData[cumulativeData['group']=='A'][['date','revenue', 'orders']]\n",
    "cumulativeRevenueB = cumulativeData[cumulativeData['group']=='B'][['date','revenue', 'orders']]\n",
    "ax.set_title(\"Cumulative revenue by group\",weight='bold',size=15)\n",
    "ax.set_xlabel(\"Date\", labelpad=20, weight='bold', size=12)\n",
    "ax.set_ylabel(\"Revenue\", labelpad=20, weight='bold', size=12)\n",
    "\n",
    "#xticks per day\n",
    "ax.xaxis.set_major_locator(mdates.DayLocator(interval=1))\n",
    "ax.xaxis.set_major_formatter(DateFormatter(\"%Y-%m-%d\"))\n",
    "fig.autofmt_xdate()\n",
    "\n",
    "# Plotting the group A revenue graph \n",
    "plt.plot(cumulativeRevenueA['date'], cumulativeRevenueA['revenue'], label='A')\n",
    "\n",
    "# Plotting the group B revenue graph \n",
    "plt.plot(cumulativeRevenueB['date'], cumulativeRevenueB['revenue'], label='B')\n",
    "plt.grid()\n",
    "plt.legend();"
   ]
  },
  {
   "cell_type": "markdown",
   "metadata": {},
   "source": [
    "#### Description & conclusion:"
   ]
  },
  {
   "cell_type": "markdown",
   "metadata": {},
   "source": [
    "This graph shows our Revenue is rising steadily throughout the whole test in both groups. \n",
    "\n",
    "However, we can see that Group B surpasses groups a's cumulative revenue after 5 days in the test.\n",
    "\n",
    "Group B also has a big spike on 18/8, This may imply either a surge in the number of orders or the presence of very expensive orders(could be an outlier)."
   ]
  },
  {
   "cell_type": "markdown",
   "metadata": {},
   "source": [
    "### Cumulative average order size by group"
   ]
  },
  {
   "cell_type": "code",
   "execution_count": 54,
   "metadata": {},
   "outputs": [
    {
     "data": {
      "image/png": "[encoded data removed]",
      "text/plain": [
       "<Figure size 1008x504 with 1 Axes>"
      ]
     },
     "metadata": {
      "needs_background": "light"
     },
     "output_type": "display_data"
    }
   ],
   "source": [
    "fig, ax = plt.subplots()\n",
    "fig.set_size_inches(14,7)\n",
    "\n",
    "ax.set_title(\"Cumulative average order size by group\",weight='bold',size=15)\n",
    "ax.set_xlabel(\"Date\", labelpad=20, weight='bold', size=12)\n",
    "ax.set_ylabel(\"Order size\", labelpad=20, weight='bold', size=12)\n",
    "\n",
    "#xticks per day\n",
    "ax.xaxis.set_major_locator(mdates.DayLocator(interval=1))\n",
    "ax.xaxis.set_major_formatter(DateFormatter(\"%Y-%m-%d\"))\n",
    "fig.autofmt_xdate()\n",
    "\n",
    "plt.plot(cumulativeRevenueA['date'], cumulativeRevenueA['revenue']/cumulativeRevenueA['orders'], label='A')\n",
    "plt.plot(cumulativeRevenueB['date'], cumulativeRevenueB['revenue']/cumulativeRevenueB['orders'], label='B')\n",
    "plt.grid()\n",
    "plt.legend();"
   ]
  },
  {
   "cell_type": "markdown",
   "metadata": {},
   "source": [
    "#### Description & conclusions:\n",
    "This graph shows our cumulative average order size by group. \n",
    "\n",
    "We see Group A's average order size has shrinked in the first week, and then rose, became steady and stabilized around order size of 110~.\n",
    "\n",
    "On the other hand, we see group B had several spikes, with the biggest surge on 18/8. afterwards it decreases to finish around order size of 140~.\n",
    "\n",
    "Group B also has a big spike on 18/8, This may imply either a surge in the number of orders or the presence of very expensive orders.\n",
    "Average purchase size becomes steady by the end of the test, too: it stabilizes for group A and keeps on falling for group B. The surge in group B on 18/8 may have been due to the presence of large, expensive orders.\n",
    "\n",
    "We need more data on group B to find the true average purchase size and establish its level."
   ]
  },
  {
   "cell_type": "markdown",
   "metadata": {},
   "source": [
    "### Relative difference in cumulative average order size for group B compared with group A"
   ]
  },
  {
   "cell_type": "code",
   "execution_count": 27,
   "metadata": {},
   "outputs": [],
   "source": [
    "# merge the data into one df\n",
    "mergedCumulativeRevenue = cumulativeRevenueA.merge(cumulativeRevenueB, left_on='date', right_on='date', how='left', suffixes=['A', 'B']) "
   ]
  },
  {
   "cell_type": "code",
   "execution_count": 28,
   "metadata": {},
   "outputs": [
    {
     "data": {
      "image/png": "[encoded data removed]",
      "text/plain": [
       "<Figure size 1008x504 with 1 Axes>"
      ]
     },
     "metadata": {
      "needs_background": "light"
     },
     "output_type": "display_data"
    }
   ],
   "source": [
    "fig, ax = plt.subplots()\n",
    "fig.set_size_inches(14,7)\n",
    "\n",
    "ax.set_title(\"Relative difference in cumulative average order size for group B compared with group A\",weight='bold',size=15)\n",
    "ax.set_xlabel(\"Date\", labelpad=20, weight='bold', size=12)\n",
    "ax.set_ylabel(\"Difference\", labelpad=20, weight='bold', size=12)\n",
    "\n",
    "#xticks per day\n",
    "ax.xaxis.set_major_locator(mdates.DayLocator(interval=1))\n",
    "ax.xaxis.set_major_formatter(DateFormatter(\"%Y-%m-%d\"))\n",
    "fig.autofmt_xdate()\n",
    "\n",
    "# plotting the relative difference graph for the average purchase sizes\n",
    "plt.plot(mergedCumulativeRevenue['date'], (mergedCumulativeRevenue['revenueB']/mergedCumulativeRevenue['ordersB'])/(mergedCumulativeRevenue['revenueA']/mergedCumulativeRevenue['ordersA'])-1,label='B')\n",
    "\n",
    "plt.axhline(y=0, color='black', linestyle='--')\n",
    "plt.legend();"
   ]
  },
  {
   "cell_type": "markdown",
   "metadata": {},
   "source": [
    "#### Description & Conclusion:\n",
    "This graph shows that group B has higher cumulative average order size, besides the first day(since 2/8) and 7 days between the 11/8 until the 18/8, where the biggest spike happend and Group B's relative difference got to above 40% higher than Group A.\n",
    "\n",
    "Overall group B is performing better in this metric if we consider those spikes as valid data.\n"
   ]
  },
  {
   "cell_type": "markdown",
   "metadata": {},
   "source": [
    "###  Daily conversion rates by group"
   ]
  },
  {
   "cell_type": "code",
   "execution_count": 56,
   "metadata": {},
   "outputs": [
    {
     "data": {
      "text/html": [
       "<div>\n",
       "<style scoped>\n",
       "    .dataframe tbody tr th:only-of-type {\n",
       "        vertical-align: middle;\n",
       "    }\n",
       "\n",
       "    .dataframe tbody tr th {\n",
       "        vertical-align: top;\n",
       "    }\n",
       "\n",
       "    .dataframe thead th {\n",
       "        text-align: right;\n",
       "    }\n",
       "</style>\n",
       "<table border=\"1\" class=\"dataframe\">\n",
       "  <thead>\n",
       "    <tr style=\"text-align: right;\">\n",
       "      <th></th>\n",
       "      <th>date</th>\n",
       "      <th>group</th>\n",
       "      <th>orders</th>\n",
       "      <th>buyers</th>\n",
       "      <th>revenue</th>\n",
       "      <th>visitors</th>\n",
       "    </tr>\n",
       "  </thead>\n",
       "  <tbody>\n",
       "    <tr>\n",
       "      <td>0</td>\n",
       "      <td>2019-08-01</td>\n",
       "      <td>A</td>\n",
       "      <td>23</td>\n",
       "      <td>19</td>\n",
       "      <td>2266.6</td>\n",
       "      <td>719</td>\n",
       "    </tr>\n",
       "    <tr>\n",
       "      <td>1</td>\n",
       "      <td>2019-08-01</td>\n",
       "      <td>B</td>\n",
       "      <td>17</td>\n",
       "      <td>17</td>\n",
       "      <td>967.2</td>\n",
       "      <td>713</td>\n",
       "    </tr>\n",
       "    <tr>\n",
       "      <td>2</td>\n",
       "      <td>2019-08-02</td>\n",
       "      <td>A</td>\n",
       "      <td>42</td>\n",
       "      <td>36</td>\n",
       "      <td>3734.9</td>\n",
       "      <td>1338</td>\n",
       "    </tr>\n",
       "    <tr>\n",
       "      <td>3</td>\n",
       "      <td>2019-08-02</td>\n",
       "      <td>B</td>\n",
       "      <td>40</td>\n",
       "      <td>39</td>\n",
       "      <td>3535.3</td>\n",
       "      <td>1294</td>\n",
       "    </tr>\n",
       "    <tr>\n",
       "      <td>4</td>\n",
       "      <td>2019-08-03</td>\n",
       "      <td>A</td>\n",
       "      <td>66</td>\n",
       "      <td>60</td>\n",
       "      <td>5550.1</td>\n",
       "      <td>1845</td>\n",
       "    </tr>\n",
       "  </tbody>\n",
       "</table>\n",
       "</div>"
      ],
      "text/plain": [
       "        date group  orders  buyers  revenue  visitors\n",
       "0 2019-08-01     A      23      19   2266.6       719\n",
       "1 2019-08-01     B      17      17    967.2       713\n",
       "2 2019-08-02     A      42      36   3734.9      1338\n",
       "3 2019-08-02     B      40      39   3535.3      1294\n",
       "4 2019-08-03     A      66      60   5550.1      1845"
      ]
     },
     "execution_count": 56,
     "metadata": {},
     "output_type": "execute_result"
    }
   ],
   "source": [
    "cumulativeData.head()"
   ]
  },
  {
   "cell_type": "code",
   "execution_count": 59,
   "metadata": {},
   "outputs": [],
   "source": [
    "#calculating cumulative conversion in percentages\n",
    "cumulativeData['conversion'] = cumulativeData['orders']/cumulativeData['visitors']\n",
    "cumulativeData['conversion_prec'] = cumulativeData['orders']/cumulativeData['visitors'] * 100\n",
    "\n",
    "#group A \n",
    "cumulativeDataA = cumulativeData[cumulativeData['group']=='A']\n",
    "#group B\n",
    "cumulativeDataB = cumulativeData[cumulativeData['group']=='B']"
   ]
  },
  {
   "cell_type": "code",
   "execution_count": 60,
   "metadata": {},
   "outputs": [
    {
     "data": {
      "image/png": "[encoded data removed]",
      "text/plain": [
       "<Figure size 1008x504 with 1 Axes>"
      ]
     },
     "metadata": {
      "needs_background": "light"
     },
     "output_type": "display_data"
    }
   ],
   "source": [
    "fig, ax = plt.subplots()\n",
    "fig.set_size_inches(14,7)\n",
    "\n",
    "ax.set_title(\"Daily % conversion by group\",weight='bold',size=15)\n",
    "ax.set_xlabel(\"Date\", labelpad=20, weight='bold', size=12)\n",
    "ax.set_ylabel(\"Conversion\", labelpad=20, weight='bold', size=12)\n",
    "\n",
    "#xticks per day\n",
    "ax.xaxis.set_major_locator(mdates.DayLocator(interval=1))\n",
    "ax.xaxis.set_major_formatter(DateFormatter(\"%Y-%m-%d\"))\n",
    "fig.autofmt_xdate()\n",
    "\n",
    "#plotting\n",
    "plt.plot(cumulativeDataA['date'], cumulativeDataA['conversion_prec'], label='A')\n",
    "plt.plot(cumulativeDataB['date'], cumulativeDataB['conversion_prec'], label='B')\n",
    "plt.grid()\n",
    "plt.legend();"
   ]
  },
  {
   "cell_type": "markdown",
   "metadata": {},
   "source": [
    "#### Description & conclusion:\n",
    "This graph shows the daily %conversion for each group.\n",
    "We see that at the first 5 days group A had more conversion than group B, and afterwards group B has the better conversion for the rest of the test."
   ]
  },
  {
   "cell_type": "markdown",
   "metadata": {},
   "source": [
    "### Number of orders per user"
   ]
  },
  {
   "cell_type": "markdown",
   "metadata": {},
   "source": [
    "slicing user and amount of orders"
   ]
  },
  {
   "cell_type": "code",
   "execution_count": 31,
   "metadata": {},
   "outputs": [],
   "source": [
    "ordersByUsers = (\n",
    "    orders.drop(['group', 'revenue', 'date'], axis=1)\n",
    "    .groupby('visitorid', as_index=False)\n",
    "    .agg({'transactionid': pd.Series.nunique})\n",
    ")\n",
    "ordersByUsers.columns = ['userId', 'orders']"
   ]
  },
  {
   "cell_type": "markdown",
   "metadata": {},
   "source": [
    "defining x values and plotting scatter plot"
   ]
  },
  {
   "cell_type": "code",
   "execution_count": 32,
   "metadata": {},
   "outputs": [
    {
     "data": {
      "image/png": "[encoded data removed]",
      "text/plain": [
       "<Figure size 720x360 with 1 Axes>"
      ]
     },
     "metadata": {
      "needs_background": "light"
     },
     "output_type": "display_data"
    }
   ],
   "source": [
    "x_values = pd.Series(range(0,len(ordersByUsers)))\n",
    "\n",
    "fig, ax = plt.subplots()\n",
    "fig.set_size_inches(10,5)\n",
    "\n",
    "ax.set_title(\"Number of orders per user\",weight='bold',size=15)\n",
    "ax.set_xlabel(\"Amount of users\", labelpad=20, weight='bold', size=12)\n",
    "ax.set_ylabel(\"Amount of orders\", labelpad=20, weight='bold', size=12)\n",
    "\n",
    "plt.scatter(x_values, ordersByUsers['orders']);"
   ]
  },
  {
   "cell_type": "markdown",
   "metadata": {},
   "source": [
    "#### Description & conclusion:\n",
    "This graph shows the vast majority of our users have 1 order, there are some users with 2 orders, and only a few with 3."
   ]
  },
  {
   "cell_type": "markdown",
   "metadata": {},
   "source": [
    "### 95th and 99th percentiles for the number of orders per user"
   ]
  },
  {
   "cell_type": "markdown",
   "metadata": {},
   "source": [
    "checking the 95th and the 99th percentiles"
   ]
  },
  {
   "cell_type": "code",
   "execution_count": 33,
   "metadata": {},
   "outputs": [
    {
     "data": {
      "text/plain": [
       "array([1., 2.])"
      ]
     },
     "execution_count": 33,
     "metadata": {},
     "output_type": "execute_result"
    }
   ],
   "source": [
    "np.percentile(ordersByUsers['orders'], [95, 99]) "
   ]
  },
  {
   "cell_type": "markdown",
   "metadata": {},
   "source": [
    "#### Conclusion:\n",
    "We see that atleast 95% percent of our users have 1 order, and the 99th percentile being 2 orders.\n",
    "\n",
    "It will be reasonable to remove users with  2 or 3 orders from our data and consider them anomalies, as they sum up to be less than 5% of our data. "
   ]
  },
  {
   "cell_type": "markdown",
   "metadata": {},
   "source": [
    "### Scatter chart of order prices"
   ]
  },
  {
   "cell_type": "code",
   "execution_count": 34,
   "metadata": {},
   "outputs": [
    {
     "data": {
      "image/png": "[encoded data removed]",
      "text/plain": [
       "<Figure size 720x360 with 1 Axes>"
      ]
     },
     "metadata": {
      "needs_background": "light"
     },
     "output_type": "display_data"
    }
   ],
   "source": [
    "x_values = pd.Series(range(0, len(orders['revenue'])))\n",
    "fig, ax = plt.subplots()\n",
    "fig.set_size_inches(10,5)\n",
    "\n",
    "ax.set_title(\"Order prices\",weight='bold',size=15)\n",
    "ax.set_xlabel(\"Amount of orders\", labelpad=20, weight='bold', size=12)\n",
    "ax.set_ylabel(\"Order price\", labelpad=20, weight='bold', size=12)\n",
    "\n",
    "plt.scatter(x_values, orders['revenue']);"
   ]
  },
  {
   "cell_type": "markdown",
   "metadata": {},
   "source": [
    "#### Description & conclusion:\n",
    "This graph shows the order prices.\n",
    "\n",
    "We see that almost all of our orders prices are lower than 2500, with few 2 orders above 2500.\n",
    "we see an extreme value at around 20000 order price, I assume this happened on the 18/8, where group B spiked."
   ]
  },
  {
   "cell_type": "markdown",
   "metadata": {},
   "source": [
    "### 95th and 99th percentiles for order prices"
   ]
  },
  {
   "cell_type": "code",
   "execution_count": 35,
   "metadata": {},
   "outputs": [
    {
     "data": {
      "text/plain": [
       "array([414.275, 830.3  ])"
      ]
     },
     "execution_count": 35,
     "metadata": {},
     "output_type": "execute_result"
    }
   ],
   "source": [
    "np.percentile(orders['revenue'], [95,99]) "
   ]
  },
  {
   "cell_type": "markdown",
   "metadata": {},
   "source": [
    "We see that atleast 95% of the orders have prices of less than 414, and the 99th percentile being 830.\n",
    "\n",
    "It will be reasonable to set 450 as the threshold for the price, as the amount of orders that surpass that are less than 5%."
   ]
  },
  {
   "cell_type": "markdown",
   "metadata": {},
   "source": [
    "### Statistical significance of the difference in conversion between the groups using the raw data. "
   ]
  },
  {
   "cell_type": "markdown",
   "metadata": {},
   "source": [
    "calculating samples of the conversion for both groups for the test"
   ]
  },
  {
   "cell_type": "code",
   "execution_count": 36,
   "metadata": {},
   "outputs": [],
   "source": [
    "ordersByUsersA = orders[orders['group']=='A'].groupby('visitorid', as_index=False).agg({'transactionid' : pd.Series.nunique})\n",
    "ordersByUsersA.columns = ['userId', 'orders']\n",
    "\n",
    "ordersByUsersB = orders[orders['group']=='B'].groupby('visitorid', as_index=False).agg({'transactionid' : pd.Series.nunique})\n",
    "ordersByUsersB.columns = ['userId', 'orders']\n",
    "\n",
    "#creating samples for the test\n",
    "sampleA = pd.concat([ordersByUsersA['orders'],pd.Series(0, index=np.arange(visits[visits['group']=='A']['visits'].sum() - len(ordersByUsersA['orders'])), name='orders')],axis=0)\n",
    "sampleB = pd.concat([ordersByUsersB['orders'],pd.Series(0, index=np.arange(visits[visits['group']=='B']['visits'].sum() - len(ordersByUsersB['orders'])), name='orders')],axis=0)"
   ]
  },
  {
   "cell_type": "markdown",
   "metadata": {},
   "source": [
    "performing and printing the statistical significance and the relative lose / improve of group B\n"
   ]
  },
  {
   "cell_type": "code",
   "execution_count": 53,
   "metadata": {},
   "outputs": [
    {
     "name": "stdout",
     "output_type": "stream",
     "text": [
      "pvalue: 0.006\n",
      "relative difference between B to A: 0.160\n"
     ]
    }
   ],
   "source": [
    "print(\"pvalue: {0:.3f}\".format(stats.mannwhitneyu(sampleA, sampleB)[1]))\n",
    "\n",
    "print(\"relative difference between B to A: {0:.3f}\".format(sampleB.mean()/sampleA.mean()-1)) \n"
   ]
  },
  {
   "cell_type": "markdown",
   "metadata": {},
   "source": [
    "#### Conclusion & Description:\n",
    "Based on the raw data, there is a difference  in conversion between groups A and B.\n",
    "\n",
    "The first row of the output gives us the p-value, 0.006, which is lower than 0.05. \n",
    "\n",
    "So we can reject the null hypothesis that there's not a statistically significant difference in conversion between the groups.\n",
    "\n",
    "The second row shows us the relative gain of group B - 16%."
   ]
  },
  {
   "cell_type": "markdown",
   "metadata": {},
   "source": [
    "###  Statistical significance of the difference in average order size between the groups using the raw data. "
   ]
  },
  {
   "cell_type": "markdown",
   "metadata": {},
   "source": [
    "passing the the data on revenue to the mannwhitneyu() criterion, \n",
    "\n",
    "also printing the relative difference in average order size between the groups."
   ]
  },
  {
   "cell_type": "code",
   "execution_count": 52,
   "metadata": {},
   "outputs": [
    {
     "name": "stdout",
     "output_type": "stream",
     "text": [
      "pvalue: 0.431\n",
      "relative difference between B to A: 0.278\n"
     ]
    }
   ],
   "source": [
    "print('pvalue: {0:.3f}'.format(stats.mannwhitneyu(orders[orders['group']=='A']['revenue'], orders[orders['group']=='B']['revenue'])[1]))\n",
    "print('relative difference between B to A: {0:.3f}'.format(orders[orders['group']=='B']['revenue'].mean()/orders[orders['group']=='A']['revenue'].mean()-1))"
   ]
  },
  {
   "cell_type": "markdown",
   "metadata": {},
   "source": [
    "#### Conclusion & description:\n",
    "Based on the raw data, The p-value is considerably higher than 0.05, and there's no reason to reject the null hypothesis and conclude that average order size differs between the groups. \n",
    "\n",
    "Nonetheless, the average order size for group B is much higher than it is for group A (27.8%)."
   ]
  },
  {
   "cell_type": "markdown",
   "metadata": {},
   "source": [
    "### Statistical significance of the difference in conversion between the groups using the filtered data."
   ]
  },
  {
   "cell_type": "markdown",
   "metadata": {},
   "source": [
    "creating dfs of users with many (orders > 1) amount of orders, and users with expensive (revenue > 450) orders."
   ]
  },
  {
   "cell_type": "code",
   "execution_count": 48,
   "metadata": {},
   "outputs": [],
   "source": [
    "revenue_lim = 450\n",
    "\n",
    "usersWithManyOrders = pd.concat([ordersByUsersA[ordersByUsersA['orders'] > 1]['userId'], ordersByUsersB[ordersByUsersB['orders'] > 1]['userId']], axis = 0)\n",
    "usersWithExpensiveOrders = orders[orders['revenue'] > revenue_lim]['visitorid']\n",
    "\n",
    "abnormalUsers = pd.concat([usersWithManyOrders, usersWithExpensiveOrders], axis = 0).drop_duplicates().sort_values()"
   ]
  },
  {
   "cell_type": "markdown",
   "metadata": {},
   "source": [
    "filtered samples for both groups:"
   ]
  },
  {
   "cell_type": "code",
   "execution_count": 49,
   "metadata": {},
   "outputs": [],
   "source": [
    "sampleAFiltered = pd.concat([ordersByUsersA[np.logical_not(ordersByUsersA['userId'].isin(abnormalUsers))]['orders'],pd.Series(0, index=np.arange(visits[visits['group']=='A']['visits'].sum() - len(ordersByUsersA['orders'])),name='orders')],axis=0)\n",
    "\n",
    "sampleBFiltered = pd.concat([ordersByUsersB[np.logical_not(ordersByUsersB['userId'].isin(abnormalUsers))]['orders'],pd.Series(0, index=np.arange(visits[visits['group']=='B']['visits'].sum() - len(ordersByUsersB['orders'])),name='orders')],axis=0)"
   ]
  },
  {
   "cell_type": "markdown",
   "metadata": {},
   "source": [
    "Applying the statistical Mann-Whitney criterion to the filtered samples:"
   ]
  },
  {
   "cell_type": "code",
   "execution_count": 50,
   "metadata": {},
   "outputs": [
    {
     "name": "stdout",
     "output_type": "stream",
     "text": [
      "pvalue: 0.006\n",
      "relative difference between B to A: 0.180\n"
     ]
    }
   ],
   "source": [
    "print(\"pvalue: {0:.3f}\".format(stats.mannwhitneyu(sampleAFiltered, sampleBFiltered)[1]))\n",
    "print(\"relative difference between B to A: {0:.3f}\".format(sampleBFiltered.mean()/sampleAFiltered.mean()-1)) "
   ]
  },
  {
   "cell_type": "markdown",
   "metadata": {},
   "source": [
    "#### Conclusion:"
   ]
  },
  {
   "cell_type": "markdown",
   "metadata": {},
   "source": [
    "The results for conversion almost didn't change using the filtered data.\n",
    "\n",
    "The first row of the output gives us the p-value, 0.006, which is lower than 0.05,\n",
    "So we can reject the null hypothesis that there's not a statistically significant difference in conversion between the groups.\n",
    "\n",
    "The second row shows us the relative gain of group B - 18%."
   ]
  },
  {
   "cell_type": "markdown",
   "metadata": {},
   "source": [
    "### Statistical significance of the difference in average order size between the groups using the filtered data."
   ]
  },
  {
   "cell_type": "code",
   "execution_count": 51,
   "metadata": {},
   "outputs": [
    {
     "name": "stdout",
     "output_type": "stream",
     "text": [
      "pvalue: 0.441\n",
      "relative difference between B to A :-0.009\n"
     ]
    }
   ],
   "source": [
    "print('pvalue: {0:.3f}'.format(stats.mannwhitneyu(\n",
    "    orders[np.logical_and(orders['group']=='A',np.logical_not(orders['visitorid'].isin(abnormalUsers)))]['revenue'],\n",
    "    orders[np.logical_and(orders['group']=='B',np.logical_not(orders['visitorid'].isin(abnormalUsers)))]['revenue'])[1]))\n",
    "\n",
    "print('relative difference between B to A :{0:.3f}'.format(\n",
    "orders[np.logical_and(orders['group']=='B',np.logical_not(orders['visitorid'].isin(abnormalUsers)))]['revenue'].mean()/\n",
    "orders[np.logical_and(orders['group']=='A', np.logical_not(orders['visitorid'].isin(abnormalUsers)))]['revenue'].mean() - 1)) "
   ]
  },
  {
   "cell_type": "markdown",
   "metadata": {},
   "source": [
    "### Conclusion:\n",
    "The p-value increased a bit, but now the difference between the groups is -0.09% instead of 27.8%.\n",
    "\n",
    "there's no reason to reject the null hypothesis and conclude that average order size differs between the groups.\n"
   ]
  },
  {
   "cell_type": "markdown",
   "metadata": {},
   "source": [
    "### Conclusions & Decision:"
   ]
  },
  {
   "cell_type": "markdown",
   "metadata": {},
   "source": [
    "- The raw data revealed a statistically significant difference in conversion between the groups, as group B had 16% higher conversion.\n",
    "- The filtered data revealed a statistically significant difference in conversion between the groups, as group B had 18% higher conversion.\n",
    "- The raw data showed Group B had 27% lead over group A in terms of average order size.\n",
    "- The filtered data showed Group B's average order size is almost the same (-0.09%) as Group A's.\n",
    "- Neither raw nor filtered data revealed any statistically significant differences in average order size between the groups.\n",
    "\n",
    "We conclude that we should stop the test, And consider group B as the leading group in terms of conversion (+18%),\n",
    "as this is a crucial metric for our goal - boosting the revenue and this gap of 18% is a big enough increase in conversion to call group B the more successful group.\n"
   ]
  }
 ],
 "metadata": {
  "ExecuteTimeLog": [
   {
    "duration": 1071,
    "start_time": "2021-08-10T14:08:06.030Z"
   },
   {
    "duration": 3,
    "start_time": "2021-08-10T14:08:28.610Z"
   },
   {
    "duration": 10579,
    "start_time": "2021-08-10T14:08:42.562Z"
   },
   {
    "duration": 3,
    "start_time": "2021-08-10T14:08:53.144Z"
   },
   {
    "duration": 1834,
    "start_time": "2021-08-10T14:09:07.458Z"
   },
   {
    "duration": 1332,
    "start_time": "2021-08-10T14:09:09.294Z"
   },
   {
    "duration": 2,
    "start_time": "2021-08-10T14:09:10.628Z"
   },
   {
    "duration": 318,
    "start_time": "2021-08-10T14:11:11.950Z"
   },
   {
    "duration": 10,
    "start_time": "2021-08-10T14:12:13.016Z"
   },
   {
    "duration": 197,
    "start_time": "2021-08-10T14:12:57.853Z"
   },
   {
    "duration": 7,
    "start_time": "2021-08-10T14:12:58.840Z"
   },
   {
    "duration": 198,
    "start_time": "2021-08-10T14:13:07.066Z"
   },
   {
    "duration": 8,
    "start_time": "2021-08-10T14:13:08.346Z"
   },
   {
    "duration": 6,
    "start_time": "2021-08-10T14:13:16.600Z"
   },
   {
    "duration": 202,
    "start_time": "2021-08-10T14:13:24.586Z"
   },
   {
    "duration": 9,
    "start_time": "2021-08-10T14:13:25.962Z"
   },
   {
    "duration": 6,
    "start_time": "2021-08-10T14:13:33.850Z"
   },
   {
    "duration": 182,
    "start_time": "2021-08-10T14:13:38.109Z"
   },
   {
    "duration": 8,
    "start_time": "2021-08-10T14:13:42.408Z"
   },
   {
    "duration": 10,
    "start_time": "2021-08-10T14:13:43.562Z"
   },
   {
    "duration": 7,
    "start_time": "2021-08-10T14:13:44.731Z"
   },
   {
    "duration": 6,
    "start_time": "2021-08-10T14:14:28.602Z"
   },
   {
    "duration": 7,
    "start_time": "2021-08-10T14:14:35.514Z"
   },
   {
    "duration": 6,
    "start_time": "2021-08-10T14:14:41.896Z"
   },
   {
    "duration": 1577,
    "start_time": "2021-08-10T14:16:33.448Z"
   },
   {
    "duration": 3,
    "start_time": "2021-08-10T14:18:12.638Z"
   },
   {
    "duration": 837,
    "start_time": "2021-08-10T14:18:16.478Z"
   },
   {
    "duration": 3,
    "start_time": "2021-08-10T14:18:53.317Z"
   },
   {
    "duration": 860,
    "start_time": "2021-08-10T14:18:56.591Z"
   },
   {
    "duration": 1909,
    "start_time": "2021-08-10T14:19:28.529Z"
   },
   {
    "duration": 908,
    "start_time": "2021-08-10T14:20:22.483Z"
   },
   {
    "duration": 6,
    "start_time": "2021-08-10T14:23:12.579Z"
   },
   {
    "duration": 11,
    "start_time": "2021-08-10T14:23:20.290Z"
   },
   {
    "duration": 181,
    "start_time": "2021-08-10T14:23:34.772Z"
   },
   {
    "duration": 805,
    "start_time": "2021-08-10T14:23:38.323Z"
   },
   {
    "duration": 8,
    "start_time": "2021-08-10T14:23:49.010Z"
   },
   {
    "duration": 226,
    "start_time": "2021-08-10T14:24:02.372Z"
   },
   {
    "duration": 6,
    "start_time": "2021-08-10T14:24:05.555Z"
   },
   {
    "duration": 6,
    "start_time": "2021-08-10T14:24:08.915Z"
   },
   {
    "duration": 12,
    "start_time": "2021-08-10T14:24:35.605Z"
   },
   {
    "duration": 9,
    "start_time": "2021-08-10T14:24:48.373Z"
   },
   {
    "duration": 6,
    "start_time": "2021-08-10T14:25:55.525Z"
   },
   {
    "duration": 5,
    "start_time": "2021-08-10T14:26:06.597Z"
   },
   {
    "duration": 5,
    "start_time": "2021-08-10T14:26:12.901Z"
   },
   {
    "duration": 191,
    "start_time": "2021-08-10T14:30:08.575Z"
   },
   {
    "duration": 173,
    "start_time": "2021-08-10T14:30:14.609Z"
   },
   {
    "duration": 4,
    "start_time": "2021-08-10T14:31:23.957Z"
   },
   {
    "duration": 183,
    "start_time": "2021-08-10T14:31:28.572Z"
   },
   {
    "duration": 8,
    "start_time": "2021-08-10T14:31:36.695Z"
   },
   {
    "duration": 7,
    "start_time": "2021-08-10T14:31:45.305Z"
   },
   {
    "duration": 7,
    "start_time": "2021-08-10T14:41:09.065Z"
   },
   {
    "duration": 6,
    "start_time": "2021-08-10T14:42:21.587Z"
   },
   {
    "duration": 7,
    "start_time": "2021-08-10T14:42:31.763Z"
   },
   {
    "duration": 177,
    "start_time": "2021-08-10T14:42:36.755Z"
   },
   {
    "duration": 5,
    "start_time": "2021-08-10T14:42:41.875Z"
   },
   {
    "duration": 4,
    "start_time": "2021-08-10T14:42:44.643Z"
   },
   {
    "duration": 7,
    "start_time": "2021-08-10T14:49:16.399Z"
   },
   {
    "duration": 5,
    "start_time": "2021-08-10T14:49:32.551Z"
   },
   {
    "duration": 8,
    "start_time": "2021-08-10T14:49:43.927Z"
   },
   {
    "duration": 10,
    "start_time": "2021-08-10T14:49:46.967Z"
   },
   {
    "duration": 3,
    "start_time": "2021-08-10T14:52:07.004Z"
   },
   {
    "duration": 4,
    "start_time": "2021-08-10T14:52:09.338Z"
   },
   {
    "duration": 3,
    "start_time": "2021-08-10T14:52:17.212Z"
   },
   {
    "duration": 7,
    "start_time": "2021-08-10T14:52:53.676Z"
   },
   {
    "duration": 4,
    "start_time": "2021-08-10T14:52:54.587Z"
   },
   {
    "duration": 13,
    "start_time": "2021-08-10T14:53:21.164Z"
   },
   {
    "duration": 4,
    "start_time": "2021-08-10T14:53:25.227Z"
   },
   {
    "duration": 5,
    "start_time": "2021-08-10T14:53:43.819Z"
   },
   {
    "duration": 4,
    "start_time": "2021-08-10T14:53:48.491Z"
   },
   {
    "duration": 193,
    "start_time": "2021-08-10T14:57:54.398Z"
   },
   {
    "duration": 8,
    "start_time": "2021-08-10T14:57:58.045Z"
   },
   {
    "duration": 13,
    "start_time": "2021-08-10T14:58:03.501Z"
   },
   {
    "duration": 3,
    "start_time": "2021-08-10T14:58:04.430Z"
   },
   {
    "duration": 4,
    "start_time": "2021-08-10T14:58:05.566Z"
   },
   {
    "duration": 1078,
    "start_time": "2021-08-10T14:58:33.261Z"
   },
   {
    "duration": 3,
    "start_time": "2021-08-10T14:58:39.693Z"
   },
   {
    "duration": 4,
    "start_time": "2021-08-10T14:58:42.893Z"
   },
   {
    "duration": 5,
    "start_time": "2021-08-10T14:58:51.712Z"
   },
   {
    "duration": 5,
    "start_time": "2021-08-10T15:02:37.791Z"
   },
   {
    "duration": 5,
    "start_time": "2021-08-10T15:04:10.991Z"
   },
   {
    "duration": 5,
    "start_time": "2021-08-10T15:04:16.163Z"
   },
   {
    "duration": 7,
    "start_time": "2021-08-10T15:04:59.027Z"
   },
   {
    "duration": 8,
    "start_time": "2021-08-10T15:11:44.031Z"
   },
   {
    "duration": 12,
    "start_time": "2021-08-10T15:13:46.066Z"
   },
   {
    "duration": 11,
    "start_time": "2021-08-10T15:18:11.404Z"
   },
   {
    "duration": 9,
    "start_time": "2021-08-10T15:22:05.566Z"
   },
   {
    "duration": 60,
    "start_time": "2021-08-10T15:34:41.010Z"
   },
   {
    "duration": 57,
    "start_time": "2021-08-10T15:35:18.734Z"
   },
   {
    "duration": 495,
    "start_time": "2021-08-10T15:36:03.232Z"
   },
   {
    "duration": 56,
    "start_time": "2021-08-10T15:36:39.982Z"
   },
   {
    "duration": 581,
    "start_time": "2021-08-10T15:46:02.536Z"
   },
   {
    "duration": 397,
    "start_time": "2021-08-10T15:47:28.208Z"
   },
   {
    "duration": 10,
    "start_time": "2021-08-10T15:47:33.817Z"
   },
   {
    "duration": 61,
    "start_time": "2021-08-10T15:55:46.215Z"
   },
   {
    "duration": 329,
    "start_time": "2021-08-10T15:56:14.579Z"
   },
   {
    "duration": 9,
    "start_time": "2021-08-10T15:56:16.751Z"
   },
   {
    "duration": 250,
    "start_time": "2021-08-10T15:57:40.275Z"
   },
   {
    "duration": 164,
    "start_time": "2021-08-10T15:57:58.371Z"
   },
   {
    "duration": 20,
    "start_time": "2021-08-10T16:02:11.381Z"
   },
   {
    "duration": 181,
    "start_time": "2021-08-10T16:02:19.317Z"
   },
   {
    "duration": 4,
    "start_time": "2021-08-10T16:02:28.901Z"
   },
   {
    "duration": 5,
    "start_time": "2021-08-10T16:02:35.767Z"
   },
   {
    "duration": 5,
    "start_time": "2021-08-10T16:03:37.911Z"
   },
   {
    "duration": 5,
    "start_time": "2021-08-10T16:03:42.279Z"
   },
   {
    "duration": 5,
    "start_time": "2021-08-10T16:03:58.903Z"
   },
   {
    "duration": 4,
    "start_time": "2021-08-10T16:04:11.143Z"
   },
   {
    "duration": 356,
    "start_time": "2021-08-10T16:04:30.984Z"
   },
   {
    "duration": 338,
    "start_time": "2021-08-10T16:04:57.691Z"
   },
   {
    "duration": 346,
    "start_time": "2021-08-10T16:05:14.857Z"
   },
   {
    "duration": 359,
    "start_time": "2021-08-10T16:06:37.281Z"
   },
   {
    "duration": 346,
    "start_time": "2021-08-10T16:06:50.667Z"
   },
   {
    "duration": 196,
    "start_time": "2021-08-10T16:07:49.034Z"
   },
   {
    "duration": 198,
    "start_time": "2021-08-10T16:09:27.310Z"
   },
   {
    "duration": 185,
    "start_time": "2021-08-10T16:10:11.024Z"
   },
   {
    "duration": 300,
    "start_time": "2021-08-10T16:10:37.550Z"
   },
   {
    "duration": 198,
    "start_time": "2021-08-10T16:11:21.471Z"
   },
   {
    "duration": 351,
    "start_time": "2021-08-10T16:11:54.224Z"
   },
   {
    "duration": 3,
    "start_time": "2021-08-10T16:12:15.902Z"
   },
   {
    "duration": 286,
    "start_time": "2021-08-10T16:12:49.440Z"
   },
   {
    "duration": 337,
    "start_time": "2021-08-10T16:13:07.487Z"
   },
   {
    "duration": 280,
    "start_time": "2021-08-10T16:13:16.816Z"
   },
   {
    "duration": 199,
    "start_time": "2021-08-10T16:13:23.634Z"
   },
   {
    "duration": 367,
    "start_time": "2021-08-10T16:14:42.850Z"
   },
   {
    "duration": 206,
    "start_time": "2021-08-10T16:15:24.532Z"
   },
   {
    "duration": 7,
    "start_time": "2021-08-10T16:15:44.866Z"
   },
   {
    "duration": 10,
    "start_time": "2021-08-10T16:15:49.778Z"
   },
   {
    "duration": 48,
    "start_time": "2021-08-10T16:16:35.414Z"
   },
   {
    "duration": 286,
    "start_time": "2021-08-10T16:18:28.886Z"
   },
   {
    "duration": 4,
    "start_time": "2021-08-10T16:19:18.212Z"
   },
   {
    "duration": 156,
    "start_time": "2021-08-10T16:19:21.270Z"
   },
   {
    "duration": 170,
    "start_time": "2021-08-10T16:19:27.286Z"
   },
   {
    "duration": 422,
    "start_time": "2021-08-10T16:19:41.414Z"
   },
   {
    "duration": 303,
    "start_time": "2021-08-10T16:20:16.662Z"
   },
   {
    "duration": 198,
    "start_time": "2021-08-10T16:20:36.855Z"
   },
   {
    "duration": 297,
    "start_time": "2021-08-10T16:22:49.568Z"
   },
   {
    "duration": 337,
    "start_time": "2021-08-10T16:25:03.120Z"
   },
   {
    "duration": 310,
    "start_time": "2021-08-10T16:25:05.978Z"
   },
   {
    "duration": 156,
    "start_time": "2021-08-10T16:29:08.442Z"
   },
   {
    "duration": 178,
    "start_time": "2021-08-10T16:29:21.612Z"
   },
   {
    "duration": 292,
    "start_time": "2021-08-10T16:30:07.297Z"
   },
   {
    "duration": 7,
    "start_time": "2021-08-10T16:47:51.449Z"
   },
   {
    "duration": 421,
    "start_time": "2021-08-10T16:48:22.877Z"
   },
   {
    "duration": 366,
    "start_time": "2021-08-10T16:49:07.815Z"
   },
   {
    "duration": 407,
    "start_time": "2021-08-10T16:49:48.193Z"
   },
   {
    "duration": 10,
    "start_time": "2021-08-10T16:50:26.319Z"
   },
   {
    "duration": 9,
    "start_time": "2021-08-10T17:13:57.418Z"
   },
   {
    "duration": 7,
    "start_time": "2021-08-10T17:15:59.877Z"
   },
   {
    "duration": 292,
    "start_time": "2021-08-10T17:17:19.648Z"
   },
   {
    "duration": 10,
    "start_time": "2021-08-10T17:19:22.136Z"
   },
   {
    "duration": 7,
    "start_time": "2021-08-10T17:21:47.786Z"
   },
   {
    "duration": 297,
    "start_time": "2021-08-10T17:21:50.750Z"
   },
   {
    "duration": 10,
    "start_time": "2021-08-10T17:21:59.312Z"
   },
   {
    "duration": 6,
    "start_time": "2021-08-10T17:22:38.538Z"
   },
   {
    "duration": 298,
    "start_time": "2021-08-10T17:22:39.405Z"
   },
   {
    "duration": 4,
    "start_time": "2021-08-10T17:22:50.957Z"
   },
   {
    "duration": 5,
    "start_time": "2021-08-10T17:22:54.828Z"
   },
   {
    "duration": 6,
    "start_time": "2021-08-10T17:27:46.156Z"
   },
   {
    "duration": 298,
    "start_time": "2021-08-10T17:27:47.314Z"
   },
   {
    "duration": 6,
    "start_time": "2021-08-10T17:29:57.776Z"
   },
   {
    "duration": 292,
    "start_time": "2021-08-10T17:29:58.738Z"
   },
   {
    "duration": 6,
    "start_time": "2021-08-10T19:30:16.686Z"
   },
   {
    "duration": 298,
    "start_time": "2021-08-10T19:30:17.850Z"
   },
   {
    "duration": 297,
    "start_time": "2021-08-10T19:30:25.802Z"
   },
   {
    "duration": 8,
    "start_time": "2021-08-10T19:35:28.132Z"
   },
   {
    "duration": 298,
    "start_time": "2021-08-10T19:35:32.382Z"
   },
   {
    "duration": 11,
    "start_time": "2021-08-10T19:36:05.820Z"
   },
   {
    "duration": 8,
    "start_time": "2021-08-10T19:38:16.462Z"
   },
   {
    "duration": 9,
    "start_time": "2021-08-10T19:38:17.950Z"
   },
   {
    "duration": 85,
    "start_time": "2021-08-10T19:39:08.150Z"
   },
   {
    "duration": 191,
    "start_time": "2021-08-10T19:39:22.337Z"
   },
   {
    "duration": 7,
    "start_time": "2021-08-10T19:39:27.248Z"
   },
   {
    "duration": 10,
    "start_time": "2021-08-10T19:40:02.016Z"
   },
   {
    "duration": 5,
    "start_time": "2021-08-10T19:41:28.498Z"
   },
   {
    "duration": 122,
    "start_time": "2021-08-10T19:42:41.810Z"
   },
   {
    "duration": 144,
    "start_time": "2021-08-10T19:45:02.754Z"
   },
   {
    "duration": 140,
    "start_time": "2021-08-10T19:45:10.452Z"
   },
   {
    "duration": 7,
    "start_time": "2021-08-10T19:48:46.358Z"
   },
   {
    "duration": 5,
    "start_time": "2021-08-10T19:53:27.164Z"
   },
   {
    "duration": 5,
    "start_time": "2021-08-10T19:53:29.308Z"
   },
   {
    "duration": 5,
    "start_time": "2021-08-10T19:53:32.156Z"
   },
   {
    "duration": 5,
    "start_time": "2021-08-10T19:53:34.748Z"
   },
   {
    "duration": 5,
    "start_time": "2021-08-10T19:53:37.564Z"
   },
   {
    "duration": 5,
    "start_time": "2021-08-10T19:54:31.502Z"
   },
   {
    "duration": 5,
    "start_time": "2021-08-10T19:54:33.918Z"
   },
   {
    "duration": 7,
    "start_time": "2021-08-10T19:54:37.477Z"
   },
   {
    "duration": 5,
    "start_time": "2021-08-10T19:57:16.736Z"
   },
   {
    "duration": 6,
    "start_time": "2021-08-10T19:57:39.374Z"
   },
   {
    "duration": 5,
    "start_time": "2021-08-10T20:00:16.112Z"
   },
   {
    "duration": 5,
    "start_time": "2021-08-10T20:00:20.064Z"
   },
   {
    "duration": 5,
    "start_time": "2021-08-10T20:07:40.896Z"
   },
   {
    "duration": 304,
    "start_time": "2021-08-10T20:07:46.040Z"
   },
   {
    "duration": 5,
    "start_time": "2021-08-10T20:07:48.536Z"
   },
   {
    "duration": 159,
    "start_time": "2021-08-10T20:14:25.420Z"
   },
   {
    "duration": 140,
    "start_time": "2021-08-10T20:14:29.310Z"
   },
   {
    "duration": 854,
    "start_time": "2021-08-10T20:53:21.632Z"
   },
   {
    "duration": 175,
    "start_time": "2021-08-10T20:53:36.017Z"
   },
   {
    "duration": 6,
    "start_time": "2021-08-10T20:53:44.544Z"
   },
   {
    "duration": 145,
    "start_time": "2021-08-10T20:54:53.123Z"
   },
   {
    "duration": 4486,
    "start_time": "2021-08-10T22:59:36.073Z"
   },
   {
    "duration": 7,
    "start_time": "2021-08-10T22:59:49.469Z"
   },
   {
    "duration": 5,
    "start_time": "2021-08-10T23:00:04.863Z"
   },
   {
    "duration": 9,
    "start_time": "2021-08-11T00:33:25.794Z"
   },
   {
    "duration": 9,
    "start_time": "2021-08-11T00:33:27.707Z"
   },
   {
    "duration": 94,
    "start_time": "2021-08-11T00:34:40.918Z"
   },
   {
    "duration": 6,
    "start_time": "2021-08-11T00:34:48.797Z"
   },
   {
    "duration": 190,
    "start_time": "2021-08-11T00:35:23.758Z"
   },
   {
    "duration": 8,
    "start_time": "2021-08-11T00:35:28.097Z"
   },
   {
    "duration": 278,
    "start_time": "2021-08-11T00:35:47.217Z"
   },
   {
    "duration": 120,
    "start_time": "2021-08-11T00:36:10.272Z"
   },
   {
    "duration": 4,
    "start_time": "2021-08-11T00:36:15.793Z"
   },
   {
    "duration": 6,
    "start_time": "2021-08-11T00:36:23.235Z"
   },
   {
    "duration": 3,
    "start_time": "2021-08-11T00:39:15.729Z"
   },
   {
    "duration": 8,
    "start_time": "2021-08-11T00:40:47.790Z"
   },
   {
    "duration": 7,
    "start_time": "2021-08-11T00:41:01.718Z"
   },
   {
    "duration": 10,
    "start_time": "2021-08-11T00:46:07.971Z"
   },
   {
    "duration": 6,
    "start_time": "2021-08-11T00:53:33.399Z"
   },
   {
    "duration": 5,
    "start_time": "2021-08-11T00:53:40.615Z"
   },
   {
    "duration": 7,
    "start_time": "2021-08-11T00:53:58.545Z"
   },
   {
    "duration": 8,
    "start_time": "2021-08-11T00:54:51.783Z"
   },
   {
    "duration": 4,
    "start_time": "2021-08-11T00:54:56.147Z"
   },
   {
    "duration": 188,
    "start_time": "2021-08-11T00:55:04.997Z"
   },
   {
    "duration": 175,
    "start_time": "2021-08-11T00:55:15.987Z"
   },
   {
    "duration": 4,
    "start_time": "2021-08-11T00:55:35.779Z"
   },
   {
    "duration": 8,
    "start_time": "2021-08-11T00:55:45.067Z"
   },
   {
    "duration": 4,
    "start_time": "2021-08-11T00:55:45.987Z"
   },
   {
    "duration": 8,
    "start_time": "2021-08-11T00:56:02.229Z"
   },
   {
    "duration": 8,
    "start_time": "2021-08-11T00:56:22.053Z"
   },
   {
    "duration": 4,
    "start_time": "2021-08-11T00:56:23.320Z"
   },
   {
    "duration": 8,
    "start_time": "2021-08-11T00:56:27.029Z"
   },
   {
    "duration": 4,
    "start_time": "2021-08-11T00:56:27.907Z"
   },
   {
    "duration": 8,
    "start_time": "2021-08-11T00:56:50.438Z"
   },
   {
    "duration": 4,
    "start_time": "2021-08-11T00:56:52.276Z"
   },
   {
    "duration": 8,
    "start_time": "2021-08-11T00:58:13.014Z"
   },
   {
    "duration": 9,
    "start_time": "2021-08-11T00:58:26.357Z"
   },
   {
    "duration": 8,
    "start_time": "2021-08-11T00:59:21.591Z"
   },
   {
    "duration": 9,
    "start_time": "2021-08-11T01:02:38.002Z"
   },
   {
    "duration": 13,
    "start_time": "2021-08-11T01:04:18.854Z"
   },
   {
    "duration": 14,
    "start_time": "2021-08-11T01:17:20.727Z"
   },
   {
    "duration": 7,
    "start_time": "2021-08-11T01:17:39.111Z"
   },
   {
    "duration": 10,
    "start_time": "2021-08-11T01:17:54.281Z"
   },
   {
    "duration": 7,
    "start_time": "2021-08-11T01:18:11.305Z"
   },
   {
    "duration": 67,
    "start_time": "2021-08-11T01:18:27.258Z"
   },
   {
    "duration": 1796,
    "start_time": "2021-08-11T01:18:27.327Z"
   },
   {
    "duration": 1068,
    "start_time": "2021-08-11T01:18:29.125Z"
   },
   {
    "duration": 2,
    "start_time": "2021-08-11T01:18:30.195Z"
   },
   {
    "duration": 255,
    "start_time": "2021-08-11T01:18:30.199Z"
   },
   {
    "duration": 9,
    "start_time": "2021-08-11T01:18:30.456Z"
   },
   {
    "duration": 23,
    "start_time": "2021-08-11T01:18:30.466Z"
   },
   {
    "duration": 32,
    "start_time": "2021-08-11T01:18:30.491Z"
   },
   {
    "duration": 15,
    "start_time": "2021-08-11T01:18:30.525Z"
   },
   {
    "duration": 33,
    "start_time": "2021-08-11T01:18:30.542Z"
   },
   {
    "duration": 24,
    "start_time": "2021-08-11T01:18:30.576Z"
   },
   {
    "duration": 29,
    "start_time": "2021-08-11T01:18:30.602Z"
   },
   {
    "duration": 32,
    "start_time": "2021-08-11T01:18:30.632Z"
   },
   {
    "duration": 23,
    "start_time": "2021-08-11T01:18:30.665Z"
   },
   {
    "duration": 15,
    "start_time": "2021-08-11T01:18:30.690Z"
   },
   {
    "duration": 19,
    "start_time": "2021-08-11T01:18:30.706Z"
   },
   {
    "duration": 21,
    "start_time": "2021-08-11T01:18:30.727Z"
   },
   {
    "duration": 25,
    "start_time": "2021-08-11T01:18:30.749Z"
   },
   {
    "duration": 13,
    "start_time": "2021-08-11T01:18:30.776Z"
   },
   {
    "duration": 14,
    "start_time": "2021-08-11T01:18:30.791Z"
   },
   {
    "duration": 19,
    "start_time": "2021-08-11T01:18:30.807Z"
   },
   {
    "duration": 24,
    "start_time": "2021-08-11T01:18:30.828Z"
   },
   {
    "duration": 356,
    "start_time": "2021-08-11T01:18:30.855Z"
   },
   {
    "duration": 9,
    "start_time": "2021-08-11T01:18:31.213Z"
   },
   {
    "duration": 407,
    "start_time": "2021-08-11T01:18:31.223Z"
   },
   {
    "duration": 308,
    "start_time": "2021-08-11T01:18:31.632Z"
   },
   {
    "duration": 7,
    "start_time": "2021-08-11T01:18:31.941Z"
   },
   {
    "duration": 452,
    "start_time": "2021-08-11T01:18:31.949Z"
   },
   {
    "duration": 7,
    "start_time": "2021-08-11T01:18:32.402Z"
   },
   {
    "duration": 288,
    "start_time": "2021-08-11T01:18:32.411Z"
   },
   {
    "duration": 110,
    "start_time": "2021-08-11T01:18:32.700Z"
   },
   {
    "duration": 208,
    "start_time": "2021-08-11T01:18:32.811Z"
   },
   {
    "duration": 5,
    "start_time": "2021-08-11T01:18:33.020Z"
   },
   {
    "duration": 146,
    "start_time": "2021-08-11T01:18:33.027Z"
   },
   {
    "duration": 3,
    "start_time": "2021-08-11T01:18:33.176Z"
   },
   {
    "duration": 68,
    "start_time": "2021-08-11T01:18:33.185Z"
   },
   {
    "duration": 1787,
    "start_time": "2021-08-11T01:18:31.468Z"
   },
   {
    "duration": 1785,
    "start_time": "2021-08-11T01:18:31.471Z"
   },
   {
    "duration": 1784,
    "start_time": "2021-08-11T01:18:31.474Z"
   },
   {
    "duration": 1780,
    "start_time": "2021-08-11T01:18:31.479Z"
   },
   {
    "duration": 1778,
    "start_time": "2021-08-11T01:18:31.482Z"
   },
   {
    "duration": 1777,
    "start_time": "2021-08-11T01:18:31.485Z"
   },
   {
    "duration": 1775,
    "start_time": "2021-08-11T01:18:31.488Z"
   },
   {
    "duration": 1772,
    "start_time": "2021-08-11T01:18:31.492Z"
   },
   {
    "duration": 1770,
    "start_time": "2021-08-11T01:18:31.495Z"
   },
   {
    "duration": 60,
    "start_time": "2021-08-11T01:18:53.956Z"
   },
   {
    "duration": 1804,
    "start_time": "2021-08-11T01:18:54.018Z"
   },
   {
    "duration": 1074,
    "start_time": "2021-08-11T01:18:55.824Z"
   },
   {
    "duration": 2,
    "start_time": "2021-08-11T01:18:56.900Z"
   },
   {
    "duration": 197,
    "start_time": "2021-08-11T01:18:56.903Z"
   },
   {
    "duration": 9,
    "start_time": "2021-08-11T01:18:57.102Z"
   },
   {
    "duration": 8,
    "start_time": "2021-08-11T01:18:57.112Z"
   },
   {
    "duration": 10,
    "start_time": "2021-08-11T01:18:57.122Z"
   },
   {
    "duration": 6,
    "start_time": "2021-08-11T01:18:57.134Z"
   },
   {
    "duration": 7,
    "start_time": "2021-08-11T01:18:57.142Z"
   },
   {
    "duration": 6,
    "start_time": "2021-08-11T01:18:57.151Z"
   },
   {
    "duration": 33,
    "start_time": "2021-08-11T01:18:57.158Z"
   },
   {
    "duration": 5,
    "start_time": "2021-08-11T01:18:57.192Z"
   },
   {
    "duration": 7,
    "start_time": "2021-08-11T01:18:57.199Z"
   },
   {
    "duration": 5,
    "start_time": "2021-08-11T01:18:57.207Z"
   },
   {
    "duration": 4,
    "start_time": "2021-08-11T01:18:57.213Z"
   },
   {
    "duration": 9,
    "start_time": "2021-08-11T01:18:57.219Z"
   },
   {
    "duration": 6,
    "start_time": "2021-08-11T01:18:57.230Z"
   },
   {
    "duration": 6,
    "start_time": "2021-08-11T01:18:57.238Z"
   },
   {
    "duration": 5,
    "start_time": "2021-08-11T01:18:57.245Z"
   },
   {
    "duration": 43,
    "start_time": "2021-08-11T01:18:57.252Z"
   },
   {
    "duration": 9,
    "start_time": "2021-08-11T01:18:57.297Z"
   },
   {
    "duration": 351,
    "start_time": "2021-08-11T01:18:57.309Z"
   },
   {
    "duration": 8,
    "start_time": "2021-08-11T01:18:57.662Z"
   },
   {
    "duration": 413,
    "start_time": "2021-08-11T01:18:57.671Z"
   },
   {
    "duration": 301,
    "start_time": "2021-08-11T01:18:58.086Z"
   },
   {
    "duration": 6,
    "start_time": "2021-08-11T01:18:58.389Z"
   },
   {
    "duration": 393,
    "start_time": "2021-08-11T01:18:58.396Z"
   },
   {
    "duration": 7,
    "start_time": "2021-08-11T01:18:58.791Z"
   },
   {
    "duration": 305,
    "start_time": "2021-08-11T01:18:58.800Z"
   },
   {
    "duration": 108,
    "start_time": "2021-08-11T01:18:59.106Z"
   },
   {
    "duration": 217,
    "start_time": "2021-08-11T01:18:59.216Z"
   },
   {
    "duration": 4,
    "start_time": "2021-08-11T01:18:59.435Z"
   },
   {
    "duration": 144,
    "start_time": "2021-08-11T01:18:59.441Z"
   },
   {
    "duration": 4,
    "start_time": "2021-08-11T01:18:59.587Z"
   },
   {
    "duration": 6,
    "start_time": "2021-08-11T01:18:59.592Z"
   },
   {
    "duration": 117,
    "start_time": "2021-08-11T01:18:59.600Z"
   },
   {
    "duration": 7,
    "start_time": "2021-08-11T01:18:59.718Z"
   },
   {
    "duration": 9,
    "start_time": "2021-08-11T01:18:59.726Z"
   },
   {
    "duration": 7,
    "start_time": "2021-08-11T01:18:59.737Z"
   },
   {
    "duration": 9,
    "start_time": "2021-08-11T01:18:59.746Z"
   },
   {
    "duration": 31,
    "start_time": "2021-08-11T01:18:59.756Z"
   },
   {
    "duration": 8,
    "start_time": "2021-08-11T01:18:59.789Z"
   },
   {
    "duration": 13,
    "start_time": "2021-08-11T01:18:59.798Z"
   },
   {
    "duration": 112,
    "start_time": "2021-08-11T04:16:24.108Z"
   },
   {
    "duration": 7476,
    "start_time": "2021-08-11T04:16:24.223Z"
   },
   {
    "duration": 1813,
    "start_time": "2021-08-11T04:16:31.702Z"
   },
   {
    "duration": 4,
    "start_time": "2021-08-11T04:16:33.519Z"
   },
   {
    "duration": 233,
    "start_time": "2021-08-11T04:16:33.526Z"
   },
   {
    "duration": 12,
    "start_time": "2021-08-11T04:16:33.762Z"
   },
   {
    "duration": 17,
    "start_time": "2021-08-11T04:16:33.776Z"
   },
   {
    "duration": 16,
    "start_time": "2021-08-11T04:16:33.796Z"
   },
   {
    "duration": 13,
    "start_time": "2021-08-11T04:16:33.816Z"
   },
   {
    "duration": 22,
    "start_time": "2021-08-11T04:16:33.831Z"
   },
   {
    "duration": 14,
    "start_time": "2021-08-11T04:16:33.855Z"
   },
   {
    "duration": 32,
    "start_time": "2021-08-11T04:16:33.871Z"
   },
   {
    "duration": 20,
    "start_time": "2021-08-11T04:16:33.906Z"
   },
   {
    "duration": 14,
    "start_time": "2021-08-11T04:16:33.928Z"
   },
   {
    "duration": 14,
    "start_time": "2021-08-11T04:16:33.945Z"
   },
   {
    "duration": 16,
    "start_time": "2021-08-11T04:16:33.961Z"
   },
   {
    "duration": 20,
    "start_time": "2021-08-11T04:16:33.980Z"
   },
   {
    "duration": 14,
    "start_time": "2021-08-11T04:16:34.003Z"
   },
   {
    "duration": 13,
    "start_time": "2021-08-11T04:16:34.019Z"
   },
   {
    "duration": 10,
    "start_time": "2021-08-11T04:16:34.034Z"
   },
   {
    "duration": 23,
    "start_time": "2021-08-11T04:16:34.046Z"
   },
   {
    "duration": 36,
    "start_time": "2021-08-11T04:16:34.071Z"
   },
   {
    "duration": 588,
    "start_time": "2021-08-11T04:16:34.112Z"
   },
   {
    "duration": 13,
    "start_time": "2021-08-11T04:16:34.703Z"
   },
   {
    "duration": 664,
    "start_time": "2021-08-11T04:16:34.719Z"
   },
   {
    "duration": 495,
    "start_time": "2021-08-11T04:16:35.385Z"
   },
   {
    "duration": 19,
    "start_time": "2021-08-11T04:16:35.882Z"
   },
   {
    "duration": 621,
    "start_time": "2021-08-11T04:16:35.903Z"
   },
   {
    "duration": 11,
    "start_time": "2021-08-11T04:16:36.527Z"
   },
   {
    "duration": 680,
    "start_time": "2021-08-11T04:16:36.541Z"
   },
   {
    "duration": 220,
    "start_time": "2021-08-11T04:16:37.224Z"
   },
   {
    "duration": 233,
    "start_time": "2021-08-11T04:16:37.446Z"
   },
   {
    "duration": 19,
    "start_time": "2021-08-11T04:16:37.681Z"
   },
   {
    "duration": 239,
    "start_time": "2021-08-11T04:16:37.702Z"
   },
   {
    "duration": 7,
    "start_time": "2021-08-11T04:16:37.944Z"
   },
   {
    "duration": 198,
    "start_time": "2021-08-11T04:16:37.954Z"
   },
   {
    "duration": 10,
    "start_time": "2021-08-11T04:16:38.155Z"
   },
   {
    "duration": 33,
    "start_time": "2021-08-11T04:16:38.167Z"
   },
   {
    "duration": 12,
    "start_time": "2021-08-11T04:16:38.203Z"
   },
   {
    "duration": 23,
    "start_time": "2021-08-11T04:16:38.217Z"
   },
   {
    "duration": 21,
    "start_time": "2021-08-11T04:16:38.242Z"
   },
   {
    "duration": 20,
    "start_time": "2021-08-11T04:16:38.265Z"
   },
   {
    "duration": 93,
    "start_time": "2021-08-11T04:38:53.823Z"
   },
   {
    "duration": 3262,
    "start_time": "2021-08-11T04:38:53.920Z"
   },
   {
    "duration": 1503,
    "start_time": "2021-08-11T04:38:57.185Z"
   },
   {
    "duration": 4,
    "start_time": "2021-08-11T04:38:58.691Z"
   },
   {
    "duration": 242,
    "start_time": "2021-08-11T04:38:58.701Z"
   },
   {
    "duration": 15,
    "start_time": "2021-08-11T04:38:58.946Z"
   },
   {
    "duration": 12,
    "start_time": "2021-08-11T04:38:58.964Z"
   },
   {
    "duration": 12,
    "start_time": "2021-08-11T04:38:58.981Z"
   },
   {
    "duration": 10,
    "start_time": "2021-08-11T04:38:58.996Z"
   },
   {
    "duration": 10,
    "start_time": "2021-08-11T04:38:59.009Z"
   },
   {
    "duration": 9,
    "start_time": "2021-08-11T04:38:59.022Z"
   },
   {
    "duration": 25,
    "start_time": "2021-08-11T04:38:59.033Z"
   },
   {
    "duration": 46,
    "start_time": "2021-08-11T04:38:59.061Z"
   },
   {
    "duration": 10,
    "start_time": "2021-08-11T04:38:59.110Z"
   },
   {
    "duration": 9,
    "start_time": "2021-08-11T04:38:59.123Z"
   },
   {
    "duration": 7,
    "start_time": "2021-08-11T04:38:59.136Z"
   },
   {
    "duration": 64,
    "start_time": "2021-08-11T04:38:59.145Z"
   },
   {
    "duration": 14,
    "start_time": "2021-08-11T04:38:59.212Z"
   },
   {
    "duration": 21,
    "start_time": "2021-08-11T04:38:59.229Z"
   },
   {
    "duration": 7,
    "start_time": "2021-08-11T04:38:59.253Z"
   },
   {
    "duration": 45,
    "start_time": "2021-08-11T04:38:59.263Z"
   },
   {
    "duration": 36,
    "start_time": "2021-08-11T04:38:59.311Z"
   },
   {
    "duration": 780,
    "start_time": "2021-08-11T04:38:59.356Z"
   },
   {
    "duration": 12,
    "start_time": "2021-08-11T04:39:00.139Z"
   },
   {
    "duration": 668,
    "start_time": "2021-08-11T04:39:00.154Z"
   },
   {
    "duration": 510,
    "start_time": "2021-08-11T04:39:00.824Z"
   },
   {
    "duration": 11,
    "start_time": "2021-08-11T04:39:01.336Z"
   },
   {
    "duration": 776,
    "start_time": "2021-08-11T04:39:01.350Z"
   },
   {
    "duration": 13,
    "start_time": "2021-08-11T04:39:02.129Z"
   },
   {
    "duration": 531,
    "start_time": "2021-08-11T04:39:02.145Z"
   },
   {
    "duration": 249,
    "start_time": "2021-08-11T04:39:02.680Z"
   },
   {
    "duration": 318,
    "start_time": "2021-08-11T04:39:02.931Z"
   },
   {
    "duration": 6,
    "start_time": "2021-08-11T04:39:03.252Z"
   },
   {
    "duration": 246,
    "start_time": "2021-08-11T04:39:03.260Z"
   },
   {
    "duration": 8,
    "start_time": "2021-08-11T04:39:03.508Z"
   },
   {
    "duration": 241,
    "start_time": "2021-08-11T04:39:03.519Z"
   },
   {
    "duration": 9,
    "start_time": "2021-08-11T04:39:03.763Z"
   },
   {
    "duration": 31,
    "start_time": "2021-08-11T04:39:03.775Z"
   },
   {
    "duration": 12,
    "start_time": "2021-08-11T04:39:03.809Z"
   },
   {
    "duration": 15,
    "start_time": "2021-08-11T04:39:03.824Z"
   },
   {
    "duration": 15,
    "start_time": "2021-08-11T04:39:03.841Z"
   },
   {
    "duration": 47,
    "start_time": "2021-08-11T04:39:03.858Z"
   },
   {
    "duration": 17,
    "start_time": "2021-08-11T04:49:53.458Z"
   },
   {
    "duration": 16,
    "start_time": "2021-08-11T04:50:02.843Z"
   },
   {
    "duration": 331,
    "start_time": "2021-08-11T04:58:56.614Z"
   },
   {
    "duration": 334,
    "start_time": "2021-08-11T04:59:29.679Z"
   },
   {
    "duration": 89,
    "start_time": "2021-08-11T05:00:18.177Z"
   },
   {
    "duration": 336,
    "start_time": "2021-08-11T05:00:23.355Z"
   },
   {
    "duration": 342,
    "start_time": "2021-08-11T05:00:46.546Z"
   },
   {
    "duration": 347,
    "start_time": "2021-08-11T05:01:10.793Z"
   },
   {
    "duration": 6,
    "start_time": "2021-08-11T05:10:00.580Z"
   },
   {
    "duration": 98,
    "start_time": "2021-08-11T05:18:11.421Z"
   },
   {
    "duration": 3298,
    "start_time": "2021-08-11T05:18:11.523Z"
   },
   {
    "duration": 1476,
    "start_time": "2021-08-11T05:18:14.824Z"
   },
   {
    "duration": 3,
    "start_time": "2021-08-11T05:18:16.303Z"
   },
   {
    "duration": 241,
    "start_time": "2021-08-11T05:18:16.308Z"
   },
   {
    "duration": 13,
    "start_time": "2021-08-11T05:18:16.551Z"
   },
   {
    "duration": 15,
    "start_time": "2021-08-11T05:18:16.567Z"
   },
   {
    "duration": 11,
    "start_time": "2021-08-11T05:18:16.586Z"
   },
   {
    "duration": 14,
    "start_time": "2021-08-11T05:18:16.599Z"
   },
   {
    "duration": 15,
    "start_time": "2021-08-11T05:18:16.616Z"
   },
   {
    "duration": 12,
    "start_time": "2021-08-11T05:18:16.634Z"
   },
   {
    "duration": 28,
    "start_time": "2021-08-11T05:18:16.648Z"
   },
   {
    "duration": 14,
    "start_time": "2021-08-11T05:18:16.678Z"
   },
   {
    "duration": 17,
    "start_time": "2021-08-11T05:18:16.695Z"
   },
   {
    "duration": 16,
    "start_time": "2021-08-11T05:18:16.714Z"
   },
   {
    "duration": 14,
    "start_time": "2021-08-11T05:18:16.733Z"
   },
   {
    "duration": 18,
    "start_time": "2021-08-11T05:18:16.750Z"
   },
   {
    "duration": 15,
    "start_time": "2021-08-11T05:18:16.770Z"
   },
   {
    "duration": 13,
    "start_time": "2021-08-11T05:18:16.788Z"
   },
   {
    "duration": 7,
    "start_time": "2021-08-11T05:18:16.804Z"
   },
   {
    "duration": 19,
    "start_time": "2021-08-11T05:18:16.814Z"
   },
   {
    "duration": 16,
    "start_time": "2021-08-11T05:18:16.835Z"
   },
   {
    "duration": 663,
    "start_time": "2021-08-11T05:18:16.856Z"
   },
   {
    "duration": 14,
    "start_time": "2021-08-11T05:18:17.522Z"
   },
   {
    "duration": 672,
    "start_time": "2021-08-11T05:18:17.538Z"
   },
   {
    "duration": 500,
    "start_time": "2021-08-11T05:18:18.212Z"
   },
   {
    "duration": 9,
    "start_time": "2021-08-11T05:18:18.715Z"
   },
   {
    "duration": 601,
    "start_time": "2021-08-11T05:18:18.727Z"
   },
   {
    "duration": 11,
    "start_time": "2021-08-11T05:18:19.330Z"
   },
   {
    "duration": 607,
    "start_time": "2021-08-11T05:18:19.343Z"
   },
   {
    "duration": 187,
    "start_time": "2021-08-11T05:18:19.953Z"
   },
   {
    "duration": 315,
    "start_time": "2021-08-11T05:18:20.143Z"
   },
   {
    "duration": 6,
    "start_time": "2021-08-11T05:18:20.461Z"
   },
   {
    "duration": 243,
    "start_time": "2021-08-11T05:18:20.469Z"
   },
   {
    "duration": 6,
    "start_time": "2021-08-11T05:18:20.715Z"
   },
   {
    "duration": 211,
    "start_time": "2021-08-11T05:18:20.723Z"
   },
   {
    "duration": 8,
    "start_time": "2021-08-11T05:18:20.937Z"
   },
   {
    "duration": 13,
    "start_time": "2021-08-11T05:18:20.948Z"
   },
   {
    "duration": 38,
    "start_time": "2021-08-11T05:18:20.963Z"
   },
   {
    "duration": 17,
    "start_time": "2021-08-11T05:18:21.004Z"
   },
   {
    "duration": 10,
    "start_time": "2021-08-11T05:18:21.023Z"
   },
   {
    "duration": 19,
    "start_time": "2021-08-11T05:18:21.035Z"
   },
   {
    "duration": 420,
    "start_time": "2021-08-11T10:44:06.764Z"
   },
   {
    "duration": 4,
    "start_time": "2021-08-11T11:58:45.752Z"
   },
   {
    "duration": 584,
    "start_time": "2021-08-11T11:59:29.292Z"
   },
   {
    "duration": 14,
    "start_time": "2021-08-11T11:59:34.727Z"
   },
   {
    "duration": 521,
    "start_time": "2021-08-11T11:59:39.091Z"
   },
   {
    "duration": 13,
    "start_time": "2021-08-11T12:00:39.292Z"
   },
   {
    "duration": 15,
    "start_time": "2021-08-11T12:00:42.178Z"
   },
   {
    "duration": 12,
    "start_time": "2021-08-11T12:00:43.202Z"
   },
   {
    "duration": 20,
    "start_time": "2021-08-11T12:00:45.489Z"
   },
   {
    "duration": 16,
    "start_time": "2021-08-11T12:00:49.714Z"
   },
   {
    "duration": 9,
    "start_time": "2021-08-11T12:00:51.478Z"
   },
   {
    "duration": 511,
    "start_time": "2021-08-11T15:55:09.412Z"
   },
   {
    "duration": 515,
    "start_time": "2021-08-11T16:43:34.661Z"
   },
   {
    "duration": 14,
    "start_time": "2021-08-11T16:48:12.371Z"
   },
   {
    "duration": 11,
    "start_time": "2021-08-11T17:14:08.339Z"
   },
   {
    "duration": 621,
    "start_time": "2021-08-11T17:14:10.760Z"
   },
   {
    "duration": 9,
    "start_time": "2021-08-11T17:14:27.113Z"
   },
   {
    "duration": 533,
    "start_time": "2021-08-11T17:14:28.857Z"
   },
   {
    "duration": 1336,
    "start_time": "2021-08-12T11:19:19.320Z"
   },
   {
    "duration": 4,
    "start_time": "2021-08-12T11:19:22.720Z"
   },
   {
    "duration": 365,
    "start_time": "2021-08-12T11:19:25.168Z"
   },
   {
    "duration": 16,
    "start_time": "2021-08-12T11:19:26.454Z"
   },
   {
    "duration": 11,
    "start_time": "2021-08-12T11:19:33.760Z"
   },
   {
    "duration": 20350,
    "start_time": "2021-08-12T11:20:20.642Z"
   },
   {
    "duration": 216,
    "start_time": "2021-08-12T11:21:05.233Z"
   },
   {
    "duration": 7809,
    "start_time": "2021-08-12T11:21:07.874Z"
   },
   {
    "duration": 7,
    "start_time": "2021-08-12T11:21:15.694Z"
   },
   {
    "duration": 5,
    "start_time": "2021-08-12T11:21:17.618Z"
   },
   {
    "duration": 4,
    "start_time": "2021-08-12T11:21:18.868Z"
   },
   {
    "duration": 361,
    "start_time": "2021-08-12T11:21:19.968Z"
   },
   {
    "duration": 22,
    "start_time": "2021-08-12T11:21:23.250Z"
   },
   {
    "duration": 7,
    "start_time": "2021-08-12T11:21:25.922Z"
   },
   {
    "duration": 15,
    "start_time": "2021-08-12T11:21:36.402Z"
   },
   {
    "duration": 12,
    "start_time": "2021-08-12T11:21:37.794Z"
   },
   {
    "duration": 6,
    "start_time": "2021-08-12T11:21:39.026Z"
   },
   {
    "duration": 6,
    "start_time": "2021-08-12T11:21:40.514Z"
   },
   {
    "duration": 16,
    "start_time": "2021-08-12T11:21:50.322Z"
   },
   {
    "duration": 14,
    "start_time": "2021-08-12T11:22:16.290Z"
   },
   {
    "duration": 16,
    "start_time": "2021-08-12T11:22:57.490Z"
   },
   {
    "duration": 590,
    "start_time": "2021-08-12T11:27:52.953Z"
   },
   {
    "duration": 11,
    "start_time": "2021-08-12T11:27:58.088Z"
   },
   {
    "duration": 14,
    "start_time": "2021-08-12T11:28:23.206Z"
   },
   {
    "duration": 12,
    "start_time": "2021-08-12T11:28:34.730Z"
   },
   {
    "duration": 14,
    "start_time": "2021-08-12T11:32:15.886Z"
   },
   {
    "duration": 13,
    "start_time": "2021-08-12T11:33:06.458Z"
   }
  ],
  "kernelspec": {
   "display_name": "Python 3",
   "language": "python",
   "name": "python3"
  },
  "language_info": {
   "codemirror_mode": {
    "name": "ipython",
    "version": 3
   },
   "file_extension": ".py",
   "mimetype": "text/x-python",
   "name": "python",
   "nbconvert_exporter": "python",
   "pygments_lexer": "ipython3",
   "version": "3.8.8"
  },
  "toc": {
   "base_numbering": 1,
   "nav_menu": {},
   "number_sections": true,
   "sideBar": true,
   "skip_h1_title": true,
   "title_cell": "Table of Contents",
   "title_sidebar": "Contents",
   "toc_cell": false,
   "toc_position": {},
   "toc_section_display": true,
   "toc_window_display": false
  }
 },
 "nbformat": 4,
 "nbformat_minor": 2
}
